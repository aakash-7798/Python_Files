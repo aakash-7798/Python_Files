{
 "cells": [
  {
   "cell_type": "code",
   "execution_count": 33,
   "id": "20743f51",
   "metadata": {},
   "outputs": [],
   "source": [
    "from autoscraper import AutoScraper"
   ]
  },
  {
   "cell_type": "code",
   "execution_count": 34,
   "id": "689c535e",
   "metadata": {},
   "outputs": [],
   "source": [
    "scraper = AutoScraper()"
   ]
  },
  {
   "cell_type": "code",
   "execution_count": 42,
   "id": "b156cf1e",
   "metadata": {},
   "outputs": [],
   "source": [
    "url = \"https://www.amazon.in/s?k=tv&crid=3PA7WOOETDRKH&sprefix=tv%2Caps%2C188&ref=nb_sb_noss_1\""
   ]
  },
  {
   "cell_type": "code",
   "execution_count": 43,
   "id": "9c5b20c9",
   "metadata": {},
   "outputs": [],
   "source": [
    "# items = ['Personal Information','Marks Details','Result']\n",
    "items = [\"AmazonBasics 139cm (55 inch) 4K Ultra HD Smart LED Fire TV AB55U20PS (Black)\",\"₹37,699\",\" 2,127\"]"
   ]
  },
  {
   "cell_type": "code",
   "execution_count": 45,
   "id": "211eac91",
   "metadata": {},
   "outputs": [
    {
     "name": "stdout",
     "output_type": "stream",
     "text": [
      "['AmazonBasics 139cm (55 inch) 4K Ultra HD Smart LED Fire TV AB55U20PS (Black)', 'AmazonBasics 80cm (32 inch) HD Ready Smart LED Fire TV AB32E10SS (Black) (2020 Model)', 'Acer 177.8 cm (70 inches) XL Series Ultra HD Android Smart LED TV AR70AP2851UD (Black) (2021 Model)', 'Croma 127 cm (50 inches) Fire TV 4K Ultra HD Smart LED TV (CREL7367, Black) (2021 Model)', 'Samsung 108 cm (43 inches) Crystal 4K Series Ultra HD Smart LED TV UA43AUE60AKLXL (Black) (2021 Model)', 'Hisense 139 cm (55 inches) 4K Ultra HD Smart Certified Android QLED TV 55U6G (Metal Gray) (2021 Model) | With Dolby Vision and Atmos', '₹37,699', '₹66,000', '₹15,999', '₹27,000', '₹69,999', '₹99,990', '₹36,990', '₹60,000', '₹52,900', '₹64,990', '₹79,990', '2,127', '2,118', '1,103', '24', '4,813']\n"
     ]
    }
   ],
   "source": [
    "print(scraper.build(url,items))"
   ]
  },
  {
   "cell_type": "code",
   "execution_count": null,
   "id": "259a7204",
   "metadata": {},
   "outputs": [],
   "source": []
  }
 ],
 "metadata": {
  "kernelspec": {
   "display_name": "Python 3 (ipykernel)",
   "language": "python",
   "name": "python3"
  },
  "language_info": {
   "codemirror_mode": {
    "name": "ipython",
    "version": 3
   },
   "file_extension": ".py",
   "mimetype": "text/x-python",
   "name": "python",
   "nbconvert_exporter": "python",
   "pygments_lexer": "ipython3",
   "version": "3.9.7"
  },
  "varInspector": {
   "cols": {
    "lenName": 16,
    "lenType": 16,
    "lenVar": 40
   },
   "kernels_config": {
    "python": {
     "delete_cmd_postfix": "",
     "delete_cmd_prefix": "del ",
     "library": "var_list.py",
     "varRefreshCmd": "print(var_dic_list())"
    },
    "r": {
     "delete_cmd_postfix": ") ",
     "delete_cmd_prefix": "rm(",
     "library": "var_list.r",
     "varRefreshCmd": "cat(var_dic_list()) "
    }
   },
   "types_to_exclude": [
    "module",
    "function",
    "builtin_function_or_method",
    "instance",
    "_Feature"
   ],
   "window_display": false
  }
 },
 "nbformat": 4,
 "nbformat_minor": 5
}
