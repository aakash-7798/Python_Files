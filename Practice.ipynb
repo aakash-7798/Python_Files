{
 "cells": [
  {
   "cell_type": "code",
   "execution_count": 18,
   "id": "09afe3cf",
   "metadata": {
    "ExecuteTime": {
     "end_time": "2022-03-11T07:34:51.127872Z",
     "start_time": "2022-03-11T07:34:51.108923Z"
    }
   },
   "outputs": [
    {
     "name": "stdout",
     "output_type": "stream",
     "text": [
      "2 3 4 5 6 7 8 9 "
     ]
    }
   ],
   "source": [
    "for i in range(2,10):\n",
    "    for j in range(2,i):\n",
    "        if(i%j == 0):\n",
    "            continue\n",
    "    if(i%j!=0):\n",
    "        print(i,end=\" \")"
   ]
  },
  {
   "cell_type": "code",
   "execution_count": 29,
   "id": "56fa1b51",
   "metadata": {
    "ExecuteTime": {
     "end_time": "2022-03-11T07:39:39.348955Z",
     "start_time": "2022-03-11T07:39:39.334991Z"
    }
   },
   "outputs": [
    {
     "name": "stdout",
     "output_type": "stream",
     "text": [
      "2 3 5 7 11 13 17 19 23 29 31 37 41 43 47 53 59 61 67 71 73 79 83 89 97 "
     ]
    }
   ],
   "source": [
    "for num in range(2,101):\n",
    "    if all([num%i!=0 for i in range(2,num)]):\n",
    "        print(num,end=\" \")"
   ]
  },
  {
   "cell_type": "code",
   "execution_count": 24,
   "id": "c234a7d7",
   "metadata": {
    "ExecuteTime": {
     "end_time": "2022-03-11T07:38:29.998629Z",
     "start_time": "2022-03-11T07:38:29.976841Z"
    }
   },
   "outputs": [
    {
     "data": {
      "text/plain": [
       "False"
      ]
     },
     "execution_count": 24,
     "metadata": {},
     "output_type": "execute_result"
    }
   ],
   "source": [
    "all((4%i!=0 for i in range(2,5)))"
   ]
  },
  {
   "cell_type": "code",
   "execution_count": 30,
   "id": "561800db",
   "metadata": {
    "ExecuteTime": {
     "end_time": "2022-03-11T07:40:22.032577Z",
     "start_time": "2022-03-11T07:40:22.017618Z"
    },
    "collapsed": true
   },
   "outputs": [
    {
     "data": {
      "text/plain": [
       "[False,\n",
       " True,\n",
       " False,\n",
       " False,\n",
       " True,\n",
       " True,\n",
       " True,\n",
       " True,\n",
       " False,\n",
       " True,\n",
       " True,\n",
       " True,\n",
       " True,\n",
       " True,\n",
       " True,\n",
       " True,\n",
       " True,\n",
       " True,\n",
       " False,\n",
       " True,\n",
       " True,\n",
       " True,\n",
       " True,\n",
       " False,\n",
       " True,\n",
       " True,\n",
       " True,\n",
       " True,\n",
       " True,\n",
       " True,\n",
       " True,\n",
       " True,\n",
       " True,\n",
       " True,\n",
       " True,\n",
       " True,\n",
       " True,\n",
       " True,\n",
       " True,\n",
       " True,\n",
       " True,\n",
       " True,\n",
       " True,\n",
       " True,\n",
       " True,\n",
       " True,\n",
       " True,\n",
       " True,\n",
       " False,\n",
       " True,\n",
       " True,\n",
       " True,\n",
       " True,\n",
       " True,\n",
       " True,\n",
       " True,\n",
       " True,\n",
       " True,\n",
       " True,\n",
       " True,\n",
       " True,\n",
       " True,\n",
       " True,\n",
       " True,\n",
       " True,\n",
       " True,\n",
       " True,\n",
       " True,\n",
       " True,\n",
       " True,\n",
       " True,\n",
       " True,\n",
       " True,\n",
       " True,\n",
       " True,\n",
       " True,\n",
       " True,\n",
       " True,\n",
       " True,\n",
       " True,\n",
       " True,\n",
       " True,\n",
       " True,\n",
       " True,\n",
       " True,\n",
       " True,\n",
       " True,\n",
       " True,\n",
       " True,\n",
       " True,\n",
       " True,\n",
       " True,\n",
       " True,\n",
       " True,\n",
       " True,\n",
       " True,\n",
       " True,\n",
       " True]"
      ]
     },
     "execution_count": 30,
     "metadata": {},
     "output_type": "execute_result"
    }
   ],
   "source": [
    "[num%i!=0 for i in range(2,num)]"
   ]
  },
  {
   "cell_type": "code",
   "execution_count": 17,
   "id": "2fc81da8",
   "metadata": {
    "ExecuteTime": {
     "end_time": "2022-03-15T15:26:09.402655Z",
     "start_time": "2022-03-15T15:26:09.385701Z"
    }
   },
   "outputs": [
    {
     "name": "stdout",
     "output_type": "stream",
     "text": [
      "1000\n"
     ]
    }
   ],
   "source": [
    "def Binary(a):\n",
    "    l = []\n",
    "    while(a!=0):\n",
    "        l.append(a%2)\n",
    "        a = a//2\n",
    "    l = l[::-1]\n",
    "    return int(''.join(map(str,l)))\n",
    "\n",
    "print(Binary(8))"
   ]
  },
  {
   "cell_type": "code",
   "execution_count": 18,
   "id": "c738b6da",
   "metadata": {
    "ExecuteTime": {
     "end_time": "2022-03-15T15:26:15.098634Z",
     "start_time": "2022-03-15T15:26:10.390387Z"
    }
   },
   "outputs": [
    {
     "name": "stdout",
     "output_type": "stream",
     "text": [
      "Enter Numbers to get their Binaries : 10 2 5 48 75\n"
     ]
    },
    {
     "data": {
      "text/plain": [
       "{10: 1010, 2: 10, 5: 101, 48: 110000, 75: 1001011}"
      ]
     },
     "execution_count": 18,
     "metadata": {},
     "output_type": "execute_result"
    }
   ],
   "source": [
    "Binaries = {}\n",
    "n = list(map(int,input(\"Enter Numbers to get their Binaries : \").split()))\n",
    "for i in n:\n",
    "    Binaries[i] = Binary(i)\n",
    "Binaries"
   ]
  },
  {
   "cell_type": "code",
   "execution_count": null,
   "id": "8ede639a",
   "metadata": {},
   "outputs": [],
   "source": []
  }
 ],
 "metadata": {
  "kernelspec": {
   "display_name": "Python 3 (ipykernel)",
   "language": "python",
   "name": "python3"
  },
  "language_info": {
   "codemirror_mode": {
    "name": "ipython",
    "version": 3
   },
   "file_extension": ".py",
   "mimetype": "text/x-python",
   "name": "python",
   "nbconvert_exporter": "python",
   "pygments_lexer": "ipython3",
   "version": "3.9.7"
  },
  "nbTranslate": {
   "displayLangs": [
    "*"
   ],
   "hotkey": "alt-t",
   "langInMainMenu": true,
   "sourceLang": "en",
   "targetLang": "fr",
   "useGoogleTranslate": true
  },
  "varInspector": {
   "cols": {
    "lenName": 16,
    "lenType": 16,
    "lenVar": 40
   },
   "kernels_config": {
    "python": {
     "delete_cmd_postfix": "",
     "delete_cmd_prefix": "del ",
     "library": "var_list.py",
     "varRefreshCmd": "print(var_dic_list())"
    },
    "r": {
     "delete_cmd_postfix": ") ",
     "delete_cmd_prefix": "rm(",
     "library": "var_list.r",
     "varRefreshCmd": "cat(var_dic_list()) "
    }
   },
   "types_to_exclude": [
    "module",
    "function",
    "builtin_function_or_method",
    "instance",
    "_Feature"
   ],
   "window_display": false
  }
 },
 "nbformat": 4,
 "nbformat_minor": 5
}
