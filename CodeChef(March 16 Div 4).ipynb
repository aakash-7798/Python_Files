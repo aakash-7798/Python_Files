{
 "cells": [
  {
   "cell_type": "code",
   "execution_count": 6,
   "id": "581ea2e7",
   "metadata": {
    "ExecuteTime": {
     "end_time": "2022-03-16T14:46:50.757079Z",
     "start_time": "2022-03-16T14:46:50.746107Z"
    }
   },
   "outputs": [],
   "source": [
    "# n = int(input())\n",
    "# l = []\n",
    "# for i in range(n):\n",
    "#     l.append(list(map(int,input().split())))\n",
    "# for i in range(len(l)):\n",
    "#     print((l[i][0]-l[i][1]) * l[i][2])"
   ]
  },
  {
   "cell_type": "code",
   "execution_count": 5,
   "id": "afa0211e",
   "metadata": {
    "ExecuteTime": {
     "end_time": "2022-03-16T14:46:49.524086Z",
     "start_time": "2022-03-16T14:46:49.514113Z"
    }
   },
   "outputs": [],
   "source": [
    "# for i in range(len(l)):\n",
    "#     print((l[i][0]-l[i][1]) * l[i][2])"
   ]
  },
  {
   "cell_type": "code",
   "execution_count": 12,
   "id": "b56d9544",
   "metadata": {
    "ExecuteTime": {
     "end_time": "2022-03-16T14:52:21.816638Z",
     "start_time": "2022-03-16T14:52:13.246386Z"
    }
   },
   "outputs": [
    {
     "name": "stdout",
     "output_type": "stream",
     "text": [
      "3\n",
      "5 2 8\n",
      "10 5 4\n",
      "3 1 4\n",
      "4\n",
      "0\n",
      "3\n"
     ]
    }
   ],
   "source": [
    "# n = int(input())\n",
    "# l = []\n",
    "# for i in range(n):\n",
    "#     l.append(list(map(int,input().split())))\n",
    "# for i in range(len(l)):\n",
    "#     if l[i][0]*l[i][1] > l[i][2] and l[i][1] < l[i][2] :\n",
    "#         print(l[i][2] // l[i][1])\n",
    "#     if l[i][1] > l[i][2]:\n",
    "#         print(0)\n",
    "#     if(l[i][0]*l[i][1] < l[i][2]) and l[i][1] < l[i][2] :\n",
    "#         print(l[i][0]*l[i][1])"
   ]
  },
  {
   "cell_type": "code",
   "execution_count": 20,
   "id": "a0fab692",
   "metadata": {
    "ExecuteTime": {
     "end_time": "2022-03-16T15:11:20.782222Z",
     "start_time": "2022-03-16T15:11:12.042690Z"
    }
   },
   "outputs": [
    {
     "name": "stdout",
     "output_type": "stream",
     "text": [
      "3\n",
      "5 2 8\n",
      "10 5 4\n",
      "3 1 4\n",
      "4\n",
      "0\n",
      "3\n"
     ]
    }
   ],
   "source": [
    "# n = int(input())\n",
    "# l = []\n",
    "# for i in range(n):\n",
    "#     l.append(list(map(int,input().split())))\n",
    "# for i in range(len(l)):\n",
    "#     if l[i][1]  > l[i][2]:\n",
    "#         print(0)\n",
    "#     if l[i][1] < l[i][2]:\n",
    "#         if l[i][0]*l[i][1] > l[i][2]:\n",
    "#             print(l[i][2]//l[i][1])\n",
    "#         else:\n",
    "#             print(l[i][0]*l[i][1])"
   ]
  },
  {
   "cell_type": "code",
   "execution_count": 18,
   "id": "93e6b95f",
   "metadata": {
    "ExecuteTime": {
     "end_time": "2022-03-16T15:04:27.858654Z",
     "start_time": "2022-03-16T15:04:27.842691Z"
    }
   },
   "outputs": [
    {
     "data": {
      "text/plain": [
       "[[5, 2, 8], [10, 5, 4], [3, 1, 4]]"
      ]
     },
     "execution_count": 18,
     "metadata": {},
     "output_type": "execute_result"
    }
   ],
   "source": [
    "# n = int(input())\n",
    "# l = []\n",
    "# for i in range(n):\n",
    "#     l.append(list(map(int,input().split())))\n",
    "# for i in range(len(l)):\n",
    "#     if l[i][0]*l[i][1] > l[i][2]:\n",
    "#         if l[i][1]>l[i][2]:\n",
    "#             print(0)\n",
    "#         else:\n",
    "#             print(l[i][2]//l[i][1])\n",
    "#     else:\n",
    "#         print(l[i][0]*l[i][1])"
   ]
  },
  {
   "cell_type": "code",
   "execution_count": 49,
   "id": "9e1b51a5",
   "metadata": {
    "ExecuteTime": {
     "end_time": "2022-03-16T15:47:20.288610Z",
     "start_time": "2022-03-16T15:47:20.277641Z"
    }
   },
   "outputs": [],
   "source": [
    "# n = int(input())\n",
    "# l = []\n",
    "# for i in range(n):\n",
    "#     l.append(list(map(int,input().split())))\n",
    "# for i in range(len(l)):\n",
    "#     print(min((l[i][2] // l[i][1]),l[i][0]))"
   ]
  },
  {
   "cell_type": "code",
   "execution_count": null,
   "id": "dbe2d5d8",
   "metadata": {},
   "outputs": [],
   "source": [
    "2\n",
    "5\n",
    "01100\n",
    "4\n",
    "0000"
   ]
  },
  {
   "cell_type": "code",
   "execution_count": 50,
   "id": "15982d6b",
   "metadata": {
    "ExecuteTime": {
     "end_time": "2022-03-16T15:47:26.213070Z",
     "start_time": "2022-03-16T15:47:26.195117Z"
    }
   },
   "outputs": [],
   "source": [
    "# n = int(input())\n",
    "# l = []\n",
    "# for i in range(n):\n",
    "#     input()\n",
    "#     l.append(list(map(str,input().split())))"
   ]
  },
  {
   "cell_type": "code",
   "execution_count": 61,
   "id": "df53fa76",
   "metadata": {
    "ExecuteTime": {
     "end_time": "2022-03-16T15:51:15.440560Z",
     "start_time": "2022-03-16T15:51:15.433576Z"
    }
   },
   "outputs": [],
   "source": [
    "3\n",
    "4\n",
    "dbca\n",
    "3\n",
    "ccc\n",
    "3\n",
    "bza"
   ]
  },
  {
   "cell_type": "code",
   "execution_count": 161,
   "id": "c92e07bc",
   "metadata": {
    "ExecuteTime": {
     "end_time": "2022-03-16T16:47:32.615692Z",
     "start_time": "2022-03-16T16:47:32.610706Z"
    }
   },
   "outputs": [],
   "source": [
    "# n = int(input())\n",
    "# l = []\n",
    "# for i in range(n):\n",
    "#     input()\n",
    "#     l.append(list(map(str,input().split())))"
   ]
  },
  {
   "cell_type": "code",
   "execution_count": 154,
   "id": "0a758856",
   "metadata": {
    "ExecuteTime": {
     "end_time": "2022-03-16T16:41:59.653038Z",
     "start_time": "2022-03-16T16:41:59.637087Z"
    }
   },
   "outputs": [],
   "source": [
    "# l"
   ]
  },
  {
   "cell_type": "code",
   "execution_count": 160,
   "id": "1cd46a8f",
   "metadata": {
    "ExecuteTime": {
     "end_time": "2022-03-16T16:47:23.154092Z",
     "start_time": "2022-03-16T16:47:23.135109Z"
    }
   },
   "outputs": [],
   "source": [
    "# l1 = l.copy()"
   ]
  },
  {
   "cell_type": "code",
   "execution_count": 153,
   "id": "a3e71f5c",
   "metadata": {
    "ExecuteTime": {
     "end_time": "2022-03-16T16:41:51.996397Z",
     "start_time": "2022-03-16T16:41:51.981438Z"
    }
   },
   "outputs": [],
   "source": [
    "# l1[1]"
   ]
  },
  {
   "cell_type": "code",
   "execution_count": 152,
   "id": "5a12892e",
   "metadata": {
    "ExecuteTime": {
     "end_time": "2022-03-16T16:41:46.156914Z",
     "start_time": "2022-03-16T16:41:46.143976Z"
    }
   },
   "outputs": [],
   "source": [
    "# for i in range(len(l1)):\n",
    "#     l1[i][:0]=l1[i][0]\n",
    "#     l1[i] = l1[i][:-1]\n",
    "# l1"
   ]
  },
  {
   "cell_type": "code",
   "execution_count": 151,
   "id": "e7eb68b8",
   "metadata": {
    "ExecuteTime": {
     "end_time": "2022-03-16T16:41:42.987509Z",
     "start_time": "2022-03-16T16:41:42.971551Z"
    }
   },
   "outputs": [],
   "source": [
    "# for i in range(len(l1)):\n",
    "#     for j in range(len(l1[i])):\n",
    "#         l1[i][j],l1[i][(len(l1[i])-1)] = l1[i][(len(l1[i])-1)],l1[i][j]"
   ]
  },
  {
   "cell_type": "code",
   "execution_count": null,
   "id": "7f3d4f00",
   "metadata": {},
   "outputs": [],
   "source": [
    "3\n",
    "1 4\n",
    "5\n",
    "3 15\n",
    "4 4 5\n",
    "3 10\n",
    "6 7 4"
   ]
  },
  {
   "cell_type": "code",
   "execution_count": 202,
   "id": "d32ce999",
   "metadata": {
    "ExecuteTime": {
     "end_time": "2022-03-16T17:18:42.326141Z",
     "start_time": "2022-03-16T17:18:28.664537Z"
    }
   },
   "outputs": [
    {
     "name": "stdout",
     "output_type": "stream",
     "text": [
      "3\n",
      "1 4\n",
      "5\n",
      "3 15\n",
      "4 4 5\n",
      "3 10\n",
      "6 7 4\n"
     ]
    },
    {
     "data": {
      "text/plain": [
       "[[1, 4], [5], [3, 15], [4, 4, 5], [3, 10], [6, 7, 4]]"
      ]
     },
     "execution_count": 202,
     "metadata": {},
     "output_type": "execute_result"
    }
   ],
   "source": [
    "n = int(input())\n",
    "l = []\n",
    "for i in range(n*2):\n",
    "    l.append(list(map(int,input().split())))\n",
    "l"
   ]
  },
  {
   "cell_type": "code",
   "execution_count": 210,
   "id": "2ad53c94",
   "metadata": {
    "ExecuteTime": {
     "end_time": "2022-03-16T17:26:24.435252Z",
     "start_time": "2022-03-16T17:26:24.421291Z"
    }
   },
   "outputs": [
    {
     "name": "stdout",
     "output_type": "stream",
     "text": [
      "3\n"
     ]
    }
   ],
   "source": [
    "for (i,j) in zip(range(0,len(l)+2,2),range(2,len(l)+2,2)):\n",
    "    if l[i:j][0][1] > sum(l[i:j][1]):\n",
    "        print(l[i:j][0][0])"
   ]
  },
  {
   "cell_type": "code",
   "execution_count": 208,
   "id": "df2c6f63",
   "metadata": {
    "ExecuteTime": {
     "end_time": "2022-03-16T17:19:41.847415Z",
     "start_time": "2022-03-16T17:19:41.824476Z"
    }
   },
   "outputs": [
    {
     "data": {
      "text/plain": [
       "True"
      ]
     },
     "execution_count": 208,
     "metadata": {},
     "output_type": "execute_result"
    }
   ],
   "source": [
    "l[0:2][0][1] < sum(l[0:2][1])"
   ]
  },
  {
   "cell_type": "code",
   "execution_count": 207,
   "id": "44bc9859",
   "metadata": {
    "ExecuteTime": {
     "end_time": "2022-03-16T17:19:22.971250Z",
     "start_time": "2022-03-16T17:19:22.958286Z"
    }
   },
   "outputs": [
    {
     "data": {
      "text/plain": [
       "5"
      ]
     },
     "execution_count": 207,
     "metadata": {},
     "output_type": "execute_result"
    }
   ],
   "source": [
    "sum(l[0:2][1])"
   ]
  },
  {
   "cell_type": "code",
   "execution_count": null,
   "id": "762a837b",
   "metadata": {},
   "outputs": [],
   "source": []
  }
 ],
 "metadata": {
  "kernelspec": {
   "display_name": "Python 3 (ipykernel)",
   "language": "python",
   "name": "python3"
  },
  "language_info": {
   "codemirror_mode": {
    "name": "ipython",
    "version": 3
   },
   "file_extension": ".py",
   "mimetype": "text/x-python",
   "name": "python",
   "nbconvert_exporter": "python",
   "pygments_lexer": "ipython3",
   "version": "3.9.7"
  },
  "nbTranslate": {
   "displayLangs": [
    "*"
   ],
   "hotkey": "alt-t",
   "langInMainMenu": true,
   "sourceLang": "en",
   "targetLang": "fr",
   "useGoogleTranslate": true
  },
  "varInspector": {
   "cols": {
    "lenName": 16,
    "lenType": 16,
    "lenVar": 40
   },
   "kernels_config": {
    "python": {
     "delete_cmd_postfix": "",
     "delete_cmd_prefix": "del ",
     "library": "var_list.py",
     "varRefreshCmd": "print(var_dic_list())"
    },
    "r": {
     "delete_cmd_postfix": ") ",
     "delete_cmd_prefix": "rm(",
     "library": "var_list.r",
     "varRefreshCmd": "cat(var_dic_list()) "
    }
   },
   "types_to_exclude": [
    "module",
    "function",
    "builtin_function_or_method",
    "instance",
    "_Feature"
   ],
   "window_display": false
  }
 },
 "nbformat": 4,
 "nbformat_minor": 5
}
