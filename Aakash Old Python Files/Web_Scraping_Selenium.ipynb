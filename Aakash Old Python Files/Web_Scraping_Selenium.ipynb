{
 "cells": [
  {
   "cell_type": "code",
   "execution_count": 4,
   "metadata": {
    "ExecuteTime": {
     "end_time": "2020-07-27T16:39:46.569905Z",
     "start_time": "2020-07-27T16:39:46.558935Z"
    }
   },
   "outputs": [],
   "source": [
    "#### Website \n",
    "from IPython.display import IFrame"
   ]
  },
  {
   "cell_type": "code",
   "execution_count": 7,
   "metadata": {
    "ExecuteTime": {
     "end_time": "2020-07-27T16:40:52.702145Z",
     "start_time": "2020-07-27T16:40:52.689181Z"
    },
    "collapsed": true
   },
   "outputs": [
    {
     "data": {
      "text/html": [
       "\n",
       "        <iframe\n",
       "            width=\"1000\"\n",
       "            height=\"400\"\n",
       "            src=\"http://www.results.manabadi.co.in/ou-degree-exam-regular-exam-results-2017.html\"\n",
       "            frameborder=\"0\"\n",
       "            allowfullscreen\n",
       "        ></iframe>\n",
       "        "
      ],
      "text/plain": [
       "<IPython.lib.display.IFrame at 0x1f1cd3d4348>"
      ]
     },
     "execution_count": 7,
     "metadata": {},
     "output_type": "execute_result"
    }
   ],
   "source": [
    "### The following  is the website which fetches the result \n",
    "### In this website if I just type the hallticketno and course after the submiting it will give the result\n",
    "IFrame(\"http://www.results.manabadi.co.in/ou-degree-exam-regular-exam-results-2017.html\",height = 400,width=1000)"
   ]
  },
  {
   "cell_type": "markdown",
   "metadata": {},
   "source": [
    "# But My Intention Is to enter that particular website through python and \n",
    "# enter the hall ticket number and course and click submit button \n",
    "# so that my result would appear in the python itself not in webpage"
   ]
  },
  {
   "cell_type": "code",
   "execution_count": null,
   "metadata": {},
   "outputs": [],
   "source": []
  },
  {
   "cell_type": "markdown",
   "metadata": {},
   "source": [
    "# The textbook that you have sent to me has the solution  but some confusion in coding for my requirement"
   ]
  },
  {
   "cell_type": "code",
   "execution_count": null,
   "metadata": {},
   "outputs": [],
   "source": []
  },
  {
   "cell_type": "code",
   "execution_count": null,
   "metadata": {},
   "outputs": [],
   "source": [
    "Folllowing is the code which i took it from Textbook 15th Chapter page 234 and 235 "
   ]
  },
  {
   "cell_type": "code",
   "execution_count": 12,
   "metadata": {
    "ExecuteTime": {
     "end_time": "2020-07-27T16:52:28.759566Z",
     "start_time": "2020-07-27T16:52:28.746490Z"
    }
   },
   "outputs": [
    {
     "data": {
      "text/html": [
       "\n",
       "        <iframe\n",
       "            width=\"900\"\n",
       "            height=\"200\"\n",
       "            src=\"http://pythonscraping.com/pages/files/form.html\"\n",
       "            frameborder=\"0\"\n",
       "            allowfullscreen\n",
       "        ></iframe>\n",
       "        "
      ],
      "text/plain": [
       "<IPython.lib.display.IFrame at 0x1f1ccd39b88>"
      ]
     },
     "execution_count": 12,
     "metadata": {},
     "output_type": "execute_result"
    }
   ],
   "source": [
    "### The Following is the Example Website  \n",
    "IFrame('http://pythonscraping.com/pages/files/form.html',height=200,width=900)"
   ]
  },
  {
   "cell_type": "markdown",
   "metadata": {},
   "source": [
    "# In Above if we type the details it fetched me the result"
   ]
  },
  {
   "cell_type": "code",
   "execution_count": null,
   "metadata": {},
   "outputs": [],
   "source": []
  },
  {
   "cell_type": "markdown",
   "metadata": {},
   "source": [
    "# Some Settings To Be Changed"
   ]
  },
  {
   "cell_type": "code",
   "execution_count": null,
   "metadata": {},
   "outputs": [],
   "source": [
    "Please Change the Executable Path of Chromedriver \n",
    "Give the path where it has installed in your computer \n",
    "if not installed then run the following code\n",
    "\n",
    "\n",
    "from selenium import webdriver\n",
    "\n",
    "from webdriver_manager.chrome import ChromeDriverManager\n",
    "\n",
    "driver = webdriver.Chrome(ChromeDriverManager().install())\n",
    "\n",
    "## After this\n",
    "## 1. You will be asked to  try new download\n",
    "### 2 . It will show where it saved the cache \n",
    "\n",
    "## Click the link that has provided so that it will ask where to download that file\n",
    "## so download in (saved cache) that it had mentioned \n",
    "## after that copy that path and keepit in the executable path\n",
    "## Make sure path should end with chromedriver.exe"
   ]
  },
  {
   "cell_type": "markdown",
   "metadata": {},
   "source": [
    "# With the Following Code we can  Fetch the result of that website through python and result is also displayed in python"
   ]
  },
  {
   "cell_type": "code",
   "execution_count": 3,
   "metadata": {
    "ExecuteTime": {
     "end_time": "2020-07-27T16:38:54.588154Z",
     "start_time": "2020-07-27T16:38:49.968299Z"
    }
   },
   "outputs": [
    {
     "name": "stdout",
     "output_type": "stream",
     "text": [
      "Hello there, Aakash Nadupalli!\n"
     ]
    }
   ],
   "source": [
    "from selenium import webdriver\n",
    "from selenium.webdriver.common.keys import Keys\n",
    "from selenium.webdriver import ActionChains\n",
    "from selenium.webdriver.chrome.options import Options\n",
    "\n",
    "chrome_options = Options()\n",
    "chrome_options.add_argument(\"--headless\")\n",
    "\n",
    "driver = webdriver.Chrome(\n",
    "    executable_path='C:/Users/aakas/.wdm/drivers/chromedriver/win32/84.0.4147.30/chromedriver.exe',  ## This is my chromedriver path\n",
    "                                                                                                     ## Change this and copy your path            \n",
    "    options=chrome_options)\n",
    "driver.get('http://pythonscraping.com/pages/files/form.html')\n",
    "\n",
    "firstnameField = driver.find_element_by_name('firstname')\n",
    "lastnameField = driver.find_element_by_name('lastname')\n",
    "submitButton = driver.find_element_by_id('submit')\n",
    "\n",
    "### METHOD 1 ###\n",
    "firstnameField.send_keys('Aakash')\n",
    "lastnameField.send_keys('Nadupalli')\n",
    "submitButton.click()\n",
    "################\n",
    "\n",
    "### METHOD 2 ###\n",
    "#actions = ActionChains(driver).click(firstnameField).send_keys('Ryan').click(lastnameField).send_keys('Mitchell').send_keys(Keys.RETURN)\n",
    "#actions.perform()\n",
    "################\n",
    "\n",
    "print(driver.find_element_by_tag_name('body').text)\n",
    "\n",
    "driver.close()"
   ]
  },
  {
   "cell_type": "code",
   "execution_count": null,
   "metadata": {},
   "outputs": [],
   "source": []
  },
  {
   "cell_type": "markdown",
   "metadata": {},
   "source": [
    "# Simlilary I want the result that I should enter the rollno and select course and then click submit button \n",
    "# So that my result would appear in python"
   ]
  },
  {
   "cell_type": "markdown",
   "metadata": {},
   "source": [
    "# For Verification  consider RollNo:105916467074 And Course type As Bsc"
   ]
  },
  {
   "cell_type": "markdown",
   "metadata": {},
   "source": [
    "# Note\n",
    "### Madam If this is too complex and taking time then leave it madam ,no urgency  \n",
    "### Madam This is not mandatory but i just got an idea that how can i do that solution\n",
    "### If Solution is too complex then no problem i will try  it some other time "
   ]
  },
  {
   "cell_type": "code",
   "execution_count": null,
   "metadata": {},
   "outputs": [],
   "source": []
  }
 ],
 "metadata": {
  "kernelspec": {
   "display_name": "Python 3",
   "language": "python",
   "name": "python3"
  },
  "language_info": {
   "codemirror_mode": {
    "name": "ipython",
    "version": 3
   },
   "file_extension": ".py",
   "mimetype": "text/x-python",
   "name": "python",
   "nbconvert_exporter": "python",
   "pygments_lexer": "ipython3",
   "version": "3.7.6"
  }
 },
 "nbformat": 4,
 "nbformat_minor": 4
}
