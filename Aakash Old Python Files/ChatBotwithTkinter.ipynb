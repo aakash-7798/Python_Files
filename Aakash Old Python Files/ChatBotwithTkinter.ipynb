{
 "cells": [
  {
   "cell_type": "code",
   "execution_count": 1,
   "metadata": {
    "ExecuteTime": {
     "end_time": "2020-08-11T16:55:21.151149Z",
     "start_time": "2020-08-11T16:55:20.961330Z"
    }
   },
   "outputs": [],
   "source": [
    "from tkinter import *\n",
    "root = Tk()\n",
    "root.title('Chat Bot')\n",
    "root.geometry('500x500')\n",
    "chatwindow = Text(root,bd=1,width = 50,height =8)\n",
    "chatwindow.place(x = 6,y = 6,height = 420,width = 450)\n",
    "messagewindow = Text(root,width = 30,height = 2)\n",
    "messagewindow.place(x = 130,y = 440,height =50,width = 350)"
   ]
  },
  {
   "cell_type": "code",
   "execution_count": null,
   "metadata": {
    "ExecuteTime": {
     "start_time": "2020-08-11T16:36:55.193Z"
    }
   },
   "outputs": [],
   "source": [
    "root.mainloop()"
   ]
  },
  {
   "cell_type": "code",
   "execution_count": 142,
   "metadata": {
    "ExecuteTime": {
     "end_time": "2020-08-10T07:41:28.287093Z",
     "start_time": "2020-08-10T07:41:28.281109Z"
    }
   },
   "outputs": [],
   "source": [
    "# !pip install PyDictionary\n",
    "# !pip install googletrans"
   ]
  },
  {
   "cell_type": "code",
   "execution_count": 1,
   "metadata": {
    "ExecuteTime": {
     "end_time": "2020-08-14T17:09:08.230744Z",
     "start_time": "2020-08-14T17:09:06.541683Z"
    }
   },
   "outputs": [],
   "source": [
    "from googletrans import Translator\n",
    "import googletrans"
   ]
  },
  {
   "cell_type": "code",
   "execution_count": 2,
   "metadata": {
    "ExecuteTime": {
     "end_time": "2020-08-14T17:09:09.184790Z",
     "start_time": "2020-08-14T17:09:09.169830Z"
    }
   },
   "outputs": [],
   "source": [
    "# googletrans.LANGCODES\n",
    "# googletrans.LANGUAGES"
   ]
  },
  {
   "cell_type": "code",
   "execution_count": 3,
   "metadata": {
    "ExecuteTime": {
     "end_time": "2020-08-14T17:09:09.671932Z",
     "start_time": "2020-08-14T17:09:09.650988Z"
    }
   },
   "outputs": [],
   "source": [
    "codes = []\n",
    "for  i in googletrans.LANGUAGES.items():\n",
    "    codes.append(list(i))"
   ]
  },
  {
   "cell_type": "code",
   "execution_count": 4,
   "metadata": {
    "ExecuteTime": {
     "end_time": "2020-08-14T17:09:10.300044Z",
     "start_time": "2020-08-14T17:09:10.258156Z"
    }
   },
   "outputs": [
    {
     "data": {
      "text/plain": [
       "[['af', 'afrikaans'],\n",
       " ['sq', 'albanian'],\n",
       " ['am', 'amharic'],\n",
       " ['ar', 'arabic'],\n",
       " ['hy', 'armenian'],\n",
       " ['az', 'azerbaijani'],\n",
       " ['eu', 'basque'],\n",
       " ['be', 'belarusian'],\n",
       " ['bn', 'bengali'],\n",
       " ['bs', 'bosnian'],\n",
       " ['bg', 'bulgarian'],\n",
       " ['ca', 'catalan'],\n",
       " ['ceb', 'cebuano'],\n",
       " ['ny', 'chichewa'],\n",
       " ['zh-cn', 'chinese (simplified)'],\n",
       " ['zh-tw', 'chinese (traditional)'],\n",
       " ['co', 'corsican'],\n",
       " ['hr', 'croatian'],\n",
       " ['cs', 'czech'],\n",
       " ['da', 'danish'],\n",
       " ['nl', 'dutch'],\n",
       " ['en', 'english'],\n",
       " ['eo', 'esperanto'],\n",
       " ['et', 'estonian'],\n",
       " ['tl', 'filipino'],\n",
       " ['fi', 'finnish'],\n",
       " ['fr', 'french'],\n",
       " ['fy', 'frisian'],\n",
       " ['gl', 'galician'],\n",
       " ['ka', 'georgian'],\n",
       " ['de', 'german'],\n",
       " ['el', 'greek'],\n",
       " ['gu', 'gujarati'],\n",
       " ['ht', 'haitian creole'],\n",
       " ['ha', 'hausa'],\n",
       " ['haw', 'hawaiian'],\n",
       " ['iw', 'hebrew'],\n",
       " ['he', 'hebrew'],\n",
       " ['hi', 'hindi'],\n",
       " ['hmn', 'hmong'],\n",
       " ['hu', 'hungarian'],\n",
       " ['is', 'icelandic'],\n",
       " ['ig', 'igbo'],\n",
       " ['id', 'indonesian'],\n",
       " ['ga', 'irish'],\n",
       " ['it', 'italian'],\n",
       " ['ja', 'japanese'],\n",
       " ['jw', 'javanese'],\n",
       " ['kn', 'kannada'],\n",
       " ['kk', 'kazakh'],\n",
       " ['km', 'khmer'],\n",
       " ['ko', 'korean'],\n",
       " ['ku', 'kurdish (kurmanji)'],\n",
       " ['ky', 'kyrgyz'],\n",
       " ['lo', 'lao'],\n",
       " ['la', 'latin'],\n",
       " ['lv', 'latvian'],\n",
       " ['lt', 'lithuanian'],\n",
       " ['lb', 'luxembourgish'],\n",
       " ['mk', 'macedonian'],\n",
       " ['mg', 'malagasy'],\n",
       " ['ms', 'malay'],\n",
       " ['ml', 'malayalam'],\n",
       " ['mt', 'maltese'],\n",
       " ['mi', 'maori'],\n",
       " ['mr', 'marathi'],\n",
       " ['mn', 'mongolian'],\n",
       " ['my', 'myanmar (burmese)'],\n",
       " ['ne', 'nepali'],\n",
       " ['no', 'norwegian'],\n",
       " ['or', 'odia'],\n",
       " ['ps', 'pashto'],\n",
       " ['fa', 'persian'],\n",
       " ['pl', 'polish'],\n",
       " ['pt', 'portuguese'],\n",
       " ['pa', 'punjabi'],\n",
       " ['ro', 'romanian'],\n",
       " ['ru', 'russian'],\n",
       " ['sm', 'samoan'],\n",
       " ['gd', 'scots gaelic'],\n",
       " ['sr', 'serbian'],\n",
       " ['st', 'sesotho'],\n",
       " ['sn', 'shona'],\n",
       " ['sd', 'sindhi'],\n",
       " ['si', 'sinhala'],\n",
       " ['sk', 'slovak'],\n",
       " ['sl', 'slovenian'],\n",
       " ['so', 'somali'],\n",
       " ['es', 'spanish'],\n",
       " ['su', 'sundanese'],\n",
       " ['sw', 'swahili'],\n",
       " ['sv', 'swedish'],\n",
       " ['tg', 'tajik'],\n",
       " ['ta', 'tamil'],\n",
       " ['te', 'telugu'],\n",
       " ['th', 'thai'],\n",
       " ['tr', 'turkish'],\n",
       " ['uk', 'ukrainian'],\n",
       " ['ur', 'urdu'],\n",
       " ['ug', 'uyghur'],\n",
       " ['uz', 'uzbek'],\n",
       " ['vi', 'vietnamese'],\n",
       " ['cy', 'welsh'],\n",
       " ['xh', 'xhosa'],\n",
       " ['yi', 'yiddish'],\n",
       " ['yo', 'yoruba'],\n",
       " ['zu', 'zulu']]"
      ]
     },
     "execution_count": 4,
     "metadata": {},
     "output_type": "execute_result"
    }
   ],
   "source": [
    "codes"
   ]
  },
  {
   "cell_type": "code",
   "execution_count": 5,
   "metadata": {
    "ExecuteTime": {
     "end_time": "2020-08-14T17:09:11.648942Z",
     "start_time": "2020-08-14T17:09:11.626999Z"
    }
   },
   "outputs": [
    {
     "name": "stdout",
     "output_type": "stream",
     "text": [
      "['bn', 'bengali']\n"
     ]
    }
   ],
   "source": [
    "for i in codes:\n",
    "    if i[1] == 'bengali':\n",
    "        print(i)"
   ]
  },
  {
   "cell_type": "code",
   "execution_count": 6,
   "metadata": {
    "ExecuteTime": {
     "end_time": "2020-08-14T17:09:13.544977Z",
     "start_time": "2020-08-14T17:09:13.525032Z"
    }
   },
   "outputs": [
    {
     "data": {
      "text/plain": [
       "'telugu'"
      ]
     },
     "execution_count": 6,
     "metadata": {},
     "output_type": "execute_result"
    }
   ],
   "source": [
    "\"\".join([i[1] for i in codes if i[1] == 'telugu'])"
   ]
  },
  {
   "cell_type": "code",
   "execution_count": 7,
   "metadata": {
    "ExecuteTime": {
     "end_time": "2020-08-11T18:21:42.319467Z",
     "start_time": "2020-08-11T18:21:42.222716Z"
    }
   },
   "outputs": [
    {
     "ename": "NameError",
     "evalue": "name 'language' is not defined",
     "output_type": "error",
     "traceback": [
      "\u001b[1;31m---------------------------------------------------------------------------\u001b[0m",
      "\u001b[1;31mNameError\u001b[0m                                 Traceback (most recent call last)",
      "\u001b[1;32m<ipython-input-7-4090ed4d7168>\u001b[0m in \u001b[0;36m<module>\u001b[1;34m\u001b[0m\n\u001b[1;32m----> 1\u001b[1;33m \u001b[1;34m\"\"\u001b[0m\u001b[1;33m.\u001b[0m\u001b[0mjoin\u001b[0m\u001b[1;33m(\u001b[0m\u001b[1;33m[\u001b[0m\u001b[0mi\u001b[0m\u001b[1;33m[\u001b[0m\u001b[1;36m0\u001b[0m\u001b[1;33m]\u001b[0m \u001b[1;32mfor\u001b[0m \u001b[0mi\u001b[0m \u001b[1;32min\u001b[0m \u001b[0mcodes\u001b[0m \u001b[1;32mif\u001b[0m \u001b[0mi\u001b[0m\u001b[1;33m[\u001b[0m\u001b[1;36m1\u001b[0m\u001b[1;33m]\u001b[0m \u001b[1;33m==\u001b[0m \u001b[0mlanguage\u001b[0m\u001b[1;33m]\u001b[0m\u001b[1;33m)\u001b[0m\u001b[1;33m\u001b[0m\u001b[1;33m\u001b[0m\u001b[0m\n\u001b[0m",
      "\u001b[1;32m<ipython-input-7-4090ed4d7168>\u001b[0m in \u001b[0;36m<listcomp>\u001b[1;34m(.0)\u001b[0m\n\u001b[1;32m----> 1\u001b[1;33m \u001b[1;34m\"\"\u001b[0m\u001b[1;33m.\u001b[0m\u001b[0mjoin\u001b[0m\u001b[1;33m(\u001b[0m\u001b[1;33m[\u001b[0m\u001b[0mi\u001b[0m\u001b[1;33m[\u001b[0m\u001b[1;36m0\u001b[0m\u001b[1;33m]\u001b[0m \u001b[1;32mfor\u001b[0m \u001b[0mi\u001b[0m \u001b[1;32min\u001b[0m \u001b[0mcodes\u001b[0m \u001b[1;32mif\u001b[0m \u001b[0mi\u001b[0m\u001b[1;33m[\u001b[0m\u001b[1;36m1\u001b[0m\u001b[1;33m]\u001b[0m \u001b[1;33m==\u001b[0m \u001b[0mlanguage\u001b[0m\u001b[1;33m]\u001b[0m\u001b[1;33m)\u001b[0m\u001b[1;33m\u001b[0m\u001b[1;33m\u001b[0m\u001b[0m\n\u001b[0m",
      "\u001b[1;31mNameError\u001b[0m: name 'language' is not defined"
     ]
    }
   ],
   "source": [
    "\"\".join([i[0] for i in codes if i[1] == language])"
   ]
  },
  {
   "cell_type": "code",
   "execution_count": 8,
   "metadata": {
    "ExecuteTime": {
     "end_time": "2020-08-14T17:10:45.475054Z",
     "start_time": "2020-08-14T17:10:33.629365Z"
    }
   },
   "outputs": [
    {
     "name": "stdout",
     "output_type": "stream",
     "text": [
      "TypeLanguage:telugu\n",
      "You:exit\n"
     ]
    }
   ],
   "source": [
    "language = input(\"TypeLanguage:\")\n",
    "\n",
    "if language ==\"\".join([i[1] for i in codes if i[1] == language]):\n",
    "    while True:\n",
    "        response = input(\"You:\")\n",
    "        if response == 'exit':\n",
    "            break\n",
    "        answer = Translator().translate(response,src = \"en\",dest=\"\".join([i[0] for i in codes if i[1] == language])).text\n",
    "        print(\"Bot: \",answer) "
   ]
  },
  {
   "cell_type": "code",
   "execution_count": 9,
   "metadata": {
    "ExecuteTime": {
     "end_time": "2020-08-11T18:21:48.382341Z",
     "start_time": "2020-08-11T18:21:48.362364Z"
    }
   },
   "outputs": [],
   "source": [
    "import speech_recognition as sr"
   ]
  },
  {
   "cell_type": "code",
   "execution_count": 10,
   "metadata": {
    "ExecuteTime": {
     "end_time": "2020-08-11T18:21:48.617313Z",
     "start_time": "2020-08-11T18:21:48.604337Z"
    }
   },
   "outputs": [],
   "source": [
    "def recordAudio():\n",
    "    r = sr.Recognizer()\n",
    "    with sr.Microphone() as source:\n",
    "#         print(\"Say Something!!\")\n",
    "        audio = r.listen(source)\n",
    "        \n",
    "    data = ''\n",
    "    try:\n",
    "        data = r.recognize_google(audio)\n",
    "        print(data)\n",
    "    except sr.UnknownValueError:\n",
    "        print(\"Google Speech Recognition Could Not Understand,Unknown Error\")\n",
    "    except sr.RequestError as e:\n",
    "        print(\"Request results from Google Speech Recognition service error\"+e)\n"
   ]
  },
  {
   "cell_type": "code",
   "execution_count": 17,
   "metadata": {
    "ExecuteTime": {
     "end_time": "2020-08-11T18:18:19.907937Z",
     "start_time": "2020-08-11T18:18:14.146355Z"
    }
   },
   "outputs": [
    {
     "name": "stdout",
     "output_type": "stream",
     "text": [
      "what is your name\n",
      "None\n"
     ]
    }
   ],
   "source": [
    "print(recordAudio())"
   ]
  },
  {
   "cell_type": "code",
   "execution_count": null,
   "metadata": {},
   "outputs": [],
   "source": []
  },
  {
   "cell_type": "code",
   "execution_count": null,
   "metadata": {},
   "outputs": [],
   "source": []
  },
  {
   "cell_type": "code",
   "execution_count": null,
   "metadata": {},
   "outputs": [],
   "source": []
  },
  {
   "cell_type": "code",
   "execution_count": null,
   "metadata": {},
   "outputs": [],
   "source": [
    "# while True:\n",
    "#         response = input(\"You: \")\n",
    "#         if response == 'exit':\n",
    "#             break\n",
    "#         answer = Translator().translate(response,src = \"en\",dest=\"te\").text\n",
    "#         print(\"Bot: \",answer) "
   ]
  },
  {
   "cell_type": "code",
   "execution_count": 15,
   "metadata": {
    "ExecuteTime": {
     "end_time": "2020-08-10T08:33:51.263635Z",
     "start_time": "2020-08-10T08:33:51.245684Z"
    }
   },
   "outputs": [],
   "source": [
    "# language = input(\"TypeLanguage:\")\n",
    "\n",
    "# if language ==\"telugu\":\n",
    "#     while True:\n",
    "#         response = input(\"You: \")\n",
    "#         if response == 'exit':\n",
    "#             break\n",
    "#         answer = Translator().translate(response,src = \"en\",dest=\"te\").text\n",
    "#         print(\"Bot: \",answer) \n",
    "    \n",
    "# else:   \n",
    "#     while True:   \n",
    "#         response = input(\"You: \")   \n",
    "#         if response == 'exit':      \n",
    "#             break   \n",
    "#         answer1 = Translator().translate(response,src = \"en\",dest=\"hi\").text   \n",
    "#         print(\"Bot: \",answer1)                        "
   ]
  },
  {
   "cell_type": "code",
   "execution_count": 17,
   "metadata": {
    "ExecuteTime": {
     "end_time": "2020-08-14T17:23:06.921340Z",
     "start_time": "2020-08-14T17:22:59.790122Z"
    }
   },
   "outputs": [
    {
     "name": "stdout",
     "output_type": "stream",
     "text": [
      "Collecting google\n",
      "  Using cached google-3.0.0-py2.py3-none-any.whl (45 kB)\n",
      "Requirement already satisfied: beautifulsoup4 in c:\\users\\aakas\\anaconda\\lib\\site-packages (from google) (4.9.1)\n",
      "Requirement already satisfied: soupsieve>1.2 in c:\\users\\aakas\\anaconda\\lib\\site-packages (from beautifulsoup4->google) (1.9.5)\n",
      "Installing collected packages: google\n",
      "Successfully installed google-3.0.0\n"
     ]
    }
   ],
   "source": [
    "!pip install google"
   ]
  },
  {
   "cell_type": "code",
   "execution_count": 8,
   "metadata": {
    "ExecuteTime": {
     "end_time": "2020-08-14T17:34:23.250755Z",
     "start_time": "2020-08-14T17:34:23.231776Z"
    }
   },
   "outputs": [],
   "source": [
    "from googlesearch import search"
   ]
  },
  {
   "cell_type": "code",
   "execution_count": 21,
   "metadata": {
    "ExecuteTime": {
     "end_time": "2020-08-14T17:25:45.767328Z",
     "start_time": "2020-08-14T17:25:45.747369Z"
    }
   },
   "outputs": [
    {
     "data": {
      "text/plain": [
       "<generator object search at 0x0000014E357E02C8>"
      ]
     },
     "execution_count": 21,
     "metadata": {},
     "output_type": "execute_result"
    }
   ],
   "source": [
    "search(query, tld='co.in', lang='en', num=10, start=0, stop=None, pause=2)"
   ]
  },
  {
   "cell_type": "code",
   "execution_count": 3,
   "metadata": {
    "ExecuteTime": {
     "end_time": "2020-08-14T17:28:40.679691Z",
     "start_time": "2020-08-14T17:28:40.662767Z"
    }
   },
   "outputs": [],
   "source": [
    "query = \"Ambivalent\""
   ]
  },
  {
   "cell_type": "code",
   "execution_count": 6,
   "metadata": {
    "ExecuteTime": {
     "end_time": "2020-08-14T17:30:58.834619Z",
     "start_time": "2020-08-14T17:30:56.109784Z"
    }
   },
   "outputs": [
    {
     "name": "stdout",
     "output_type": "stream",
     "text": [
      "https://www.merriam-webster.com/dictionary/ambivalent\n",
      "https://www.dictionary.com/browse/ambivalent\n",
      "https://dictionary.cambridge.org/dictionary/english/ambivalent\n",
      "https://www.vocabulary.com/dictionary/ambivalent\n",
      "https://www.lexico.com/definition/ambivalent\n",
      "https://www.collinsdictionary.com/dictionary/english/ambivalent\n",
      "https://www.macmillandictionary.com/dictionary/british/ambivalent\n",
      "https://www.yourdictionary.com/ambivalence\n",
      "https://en.wikipedia.org/wiki/Ambivalence\n",
      "https://en.wiktionary.org/wiki/ambivalent\n"
     ]
    }
   ],
   "source": [
    "for i in search(query, tld='com', lang='en', num=10, start=0, stop=10, pause=2):\n",
    "    print(i)"
   ]
  },
  {
   "cell_type": "code",
   "execution_count": 9,
   "metadata": {
    "ExecuteTime": {
     "end_time": "2020-08-14T17:34:35.461623Z",
     "start_time": "2020-08-14T17:34:35.443701Z"
    }
   },
   "outputs": [],
   "source": [
    "import googlesearch"
   ]
  },
  {
   "cell_type": "code",
   "execution_count": 10,
   "metadata": {
    "ExecuteTime": {
     "end_time": "2020-08-14T17:34:51.714075Z",
     "start_time": "2020-08-14T17:34:51.688142Z"
    }
   },
   "outputs": [
    {
     "ename": "TypeError",
     "evalue": "'module' object is not callable",
     "output_type": "error",
     "traceback": [
      "\u001b[1;31m---------------------------------------------------------------------------\u001b[0m",
      "\u001b[1;31mTypeError\u001b[0m                                 Traceback (most recent call last)",
      "\u001b[1;32m<ipython-input-10-03ef9bc26c74>\u001b[0m in \u001b[0;36m<module>\u001b[1;34m\u001b[0m\n\u001b[1;32m----> 1\u001b[1;33m \u001b[0mgooglesearch\u001b[0m\u001b[1;33m(\u001b[0m\u001b[1;33m)\u001b[0m\u001b[1;33m.\u001b[0m\u001b[0msearch\u001b[0m\u001b[1;33m(\u001b[0m\u001b[1;34m\"Ambivalent\"\u001b[0m\u001b[1;33m)\u001b[0m\u001b[1;33m\u001b[0m\u001b[1;33m\u001b[0m\u001b[0m\n\u001b[0m",
      "\u001b[1;31mTypeError\u001b[0m: 'module' object is not callable"
     ]
    }
   ],
   "source": [
    "googlesearch().search(\"Ambivalent\")"
   ]
  },
  {
   "cell_type": "code",
   "execution_count": 14,
   "metadata": {
    "ExecuteTime": {
     "end_time": "2020-08-14T17:37:15.435970Z",
     "start_time": "2020-08-14T17:37:15.419017Z"
    }
   },
   "outputs": [],
   "source": [
    "from googlesearch import search"
   ]
  },
  {
   "cell_type": "code",
   "execution_count": null,
   "metadata": {},
   "outputs": [],
   "source": [
    "search()."
   ]
  }
 ],
 "metadata": {
  "kernelspec": {
   "display_name": "Python 3",
   "language": "python",
   "name": "python3"
  },
  "language_info": {
   "codemirror_mode": {
    "name": "ipython",
    "version": 3
   },
   "file_extension": ".py",
   "mimetype": "text/x-python",
   "name": "python",
   "nbconvert_exporter": "python",
   "pygments_lexer": "ipython3",
   "version": "3.7.6"
  }
 },
 "nbformat": 4,
 "nbformat_minor": 4
}
