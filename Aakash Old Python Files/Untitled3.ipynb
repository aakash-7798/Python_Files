{
 "cells": [
  {
   "cell_type": "code",
   "execution_count": 26,
   "metadata": {
    "ExecuteTime": {
     "end_time": "2020-07-22T14:34:29.116557Z",
     "start_time": "2020-07-22T14:34:29.108695Z"
    }
   },
   "outputs": [
    {
     "data": {
      "text/plain": [
       "['', '105']"
      ]
     },
     "execution_count": 26,
     "metadata": {},
     "output_type": "execute_result"
    }
   ],
   "source": [
    "import re \n",
    "re.findall(r'^|\\d+', \"My roll number is 105\")"
   ]
  },
  {
   "cell_type": "code",
   "execution_count": 74,
   "metadata": {
    "ExecuteTime": {
     "end_time": "2020-07-22T14:59:30.951354Z",
     "start_time": "2020-07-22T14:59:30.928934Z"
    }
   },
   "outputs": [
    {
     "data": {
      "text/plain": [
       "['@', '!', '#', ' ', ' ', ' ', ' ', ' ', ' ', ' ', ' ']"
      ]
     },
     "execution_count": 74,
     "metadata": {},
     "output_type": "execute_result"
    }
   ],
   "source": [
    "import re \n",
    "re.findall(r'[^A-Za-z0-9]', \"@!#Aakash pursuing DataAnalytics Course in Imarticus of Batch PGA10\")"
   ]
  },
  {
   "cell_type": "code",
   "execution_count": 78,
   "metadata": {
    "ExecuteTime": {
     "end_time": "2020-07-22T15:00:56.159652Z",
     "start_time": "2020-07-22T15:00:56.139669Z"
    }
   },
   "outputs": [
    {
     "data": {
      "text/plain": [
       "['105']"
      ]
     },
     "execution_count": 78,
     "metadata": {},
     "output_type": "execute_result"
    }
   ],
   "source": [
    "import re \n",
    "re.findall(r'\\d{3,}', \"My roll number is 105\")"
   ]
  },
  {
   "cell_type": "code",
   "execution_count": 90,
   "metadata": {
    "ExecuteTime": {
     "end_time": "2020-07-22T15:05:13.617975Z",
     "start_time": "2020-07-22T15:05:13.487736Z"
    }
   },
   "outputs": [
    {
     "data": {
      "text/html": [
       "<div>\n",
       "<style scoped>\n",
       "    .dataframe tbody tr th:only-of-type {\n",
       "        vertical-align: middle;\n",
       "    }\n",
       "\n",
       "    .dataframe tbody tr th {\n",
       "        vertical-align: top;\n",
       "    }\n",
       "\n",
       "    .dataframe thead th {\n",
       "        text-align: right;\n",
       "    }\n",
       "</style>\n",
       "<table border=\"1\" class=\"dataframe\">\n",
       "  <thead>\n",
       "    <tr style=\"text-align: right;\">\n",
       "      <th></th>\n",
       "      <th>0</th>\n",
       "      <th>1</th>\n",
       "      <th>2</th>\n",
       "      <th>3</th>\n",
       "      <th>4</th>\n",
       "      <th>5</th>\n",
       "      <th>6</th>\n",
       "      <th>7</th>\n",
       "      <th>8</th>\n",
       "    </tr>\n",
       "  </thead>\n",
       "  <tbody>\n",
       "    <tr>\n",
       "      <th>0</th>\n",
       "      <td>@!#Aakash</td>\n",
       "      <td>pursuing</td>\n",
       "      <td>DataAnalytics</td>\n",
       "      <td>Course</td>\n",
       "      <td>in</td>\n",
       "      <td>Imarticus</td>\n",
       "      <td>of</td>\n",
       "      <td>Batch</td>\n",
       "      <td>PGA10</td>\n",
       "    </tr>\n",
       "  </tbody>\n",
       "</table>\n",
       "</div>"
      ],
      "text/plain": [
       "           0         1              2       3   4          5   6      7      8\n",
       "0  @!#Aakash  pursuing  DataAnalytics  Course  in  Imarticus  of  Batch  PGA10"
      ]
     },
     "execution_count": 90,
     "metadata": {},
     "output_type": "execute_result"
    }
   ],
   "source": [
    "import pandas as pd\n",
    "import re \n",
    "pd.DataFrame(re.findall(r'\\S+', \"@!#Aakash pursuing DataAnalytics Course in Imarticus of Batch PGA10\")).transpose()"
   ]
  },
  {
   "cell_type": "code",
   "execution_count": 117,
   "metadata": {
    "ExecuteTime": {
     "end_time": "2020-07-22T15:12:26.258046Z",
     "start_time": "2020-07-22T15:12:26.251075Z"
    }
   },
   "outputs": [
    {
     "data": {
      "text/plain": [
       "['']"
      ]
     },
     "execution_count": 117,
     "metadata": {},
     "output_type": "execute_result"
    }
   ],
   "source": [
    "import re \n",
    "re.findall(r'(?=D)', \" Aakash pursuing DataAnalytics Course in Imarticus of Batch PGA10\")"
   ]
  },
  {
   "cell_type": "code",
   "execution_count": null,
   "metadata": {},
   "outputs": [],
   "source": []
  }
 ],
 "metadata": {
  "kernelspec": {
   "display_name": "Python 3",
   "language": "python",
   "name": "python3"
  },
  "language_info": {
   "codemirror_mode": {
    "name": "ipython",
    "version": 3
   },
   "file_extension": ".py",
   "mimetype": "text/x-python",
   "name": "python",
   "nbconvert_exporter": "python",
   "pygments_lexer": "ipython3",
   "version": "3.7.6"
  }
 },
 "nbformat": 4,
 "nbformat_minor": 4
}
