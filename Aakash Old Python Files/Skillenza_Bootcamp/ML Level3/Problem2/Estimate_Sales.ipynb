{
 "cells": [
  {
   "cell_type": "code",
   "execution_count": 1,
   "metadata": {
    "ExecuteTime": {
     "end_time": "2020-11-19T13:41:27.787600Z",
     "start_time": "2020-11-19T13:41:27.271631Z"
    }
   },
   "outputs": [],
   "source": [
    "import numpy as np\n",
    "import pandas as pd\n",
    "import datetime as dt\n",
    "# pd.set_option('display.max_rows', None)\n",
    "# pd.set_option('display.max_columns',None)\n",
    "# pd.set_option('display.width',None)"
   ]
  },
  {
   "cell_type": "code",
   "execution_count": 30,
   "metadata": {
    "ExecuteTime": {
     "end_time": "2020-11-19T14:54:02.420350Z",
     "start_time": "2020-11-19T14:53:35.993654Z"
    }
   },
   "outputs": [],
   "source": [
    "df = pd.read_excel(\"Data_and_Train_Data/train_data.xlsx\")\n",
    "# df1 = pd.read_excel(\"Data_and_Train_Data/Master.xlsx\")\n",
    "# df2 = pd.read_excel(\"Data_and_Train_Data/More-Attributes.xlsx\")"
   ]
  },
  {
   "cell_type": "code",
   "execution_count": 57,
   "metadata": {
    "ExecuteTime": {
     "end_time": "2020-11-18T07:21:30.496425Z",
     "start_time": "2020-11-18T07:21:30.484488Z"
    }
   },
   "outputs": [],
   "source": [
    "# df[\"ID\"] = pd.DataFrame(np.arange(1,len(df)+1))"
   ]
  },
  {
   "cell_type": "code",
   "execution_count": 58,
   "metadata": {
    "ExecuteTime": {
     "end_time": "2020-11-18T07:21:30.605282Z",
     "start_time": "2020-11-18T07:21:30.502409Z"
    }
   },
   "outputs": [],
   "source": [
    "# df = df.reindex(columns = ['Book_Stall', 'Genre', 'Week_Date', 'Sales_in_a_week', 'Holiday'])"
   ]
  },
  {
   "cell_type": "code",
   "execution_count": 31,
   "metadata": {
    "ExecuteTime": {
     "end_time": "2020-11-19T14:54:14.845537Z",
     "start_time": "2020-11-19T14:54:14.800657Z"
    }
   },
   "outputs": [
    {
     "data": {
      "text/html": [
       "<div>\n",
       "<style scoped>\n",
       "    .dataframe tbody tr th:only-of-type {\n",
       "        vertical-align: middle;\n",
       "    }\n",
       "\n",
       "    .dataframe tbody tr th {\n",
       "        vertical-align: top;\n",
       "    }\n",
       "\n",
       "    .dataframe thead th {\n",
       "        text-align: right;\n",
       "    }\n",
       "</style>\n",
       "<table border=\"1\" class=\"dataframe\">\n",
       "  <thead>\n",
       "    <tr style=\"text-align: right;\">\n",
       "      <th></th>\n",
       "      <th>ds</th>\n",
       "      <th>y</th>\n",
       "    </tr>\n",
       "  </thead>\n",
       "  <tbody>\n",
       "    <tr>\n",
       "      <th>0</th>\n",
       "      <td>2010-02-05</td>\n",
       "      <td>24924.50</td>\n",
       "    </tr>\n",
       "    <tr>\n",
       "      <th>1</th>\n",
       "      <td>2010-02-12</td>\n",
       "      <td>46039.49</td>\n",
       "    </tr>\n",
       "    <tr>\n",
       "      <th>2</th>\n",
       "      <td>2010-02-19</td>\n",
       "      <td>41595.55</td>\n",
       "    </tr>\n",
       "    <tr>\n",
       "      <th>3</th>\n",
       "      <td>2010-02-26</td>\n",
       "      <td>19403.54</td>\n",
       "    </tr>\n",
       "    <tr>\n",
       "      <th>4</th>\n",
       "      <td>2010-03-05</td>\n",
       "      <td>21827.90</td>\n",
       "    </tr>\n",
       "    <tr>\n",
       "      <th>...</th>\n",
       "      <td>...</td>\n",
       "      <td>...</td>\n",
       "    </tr>\n",
       "    <tr>\n",
       "      <th>293699</th>\n",
       "      <td>2012-07-13</td>\n",
       "      <td>0.02</td>\n",
       "    </tr>\n",
       "    <tr>\n",
       "      <th>293700</th>\n",
       "      <td>2012-07-20</td>\n",
       "      <td>0.02</td>\n",
       "    </tr>\n",
       "    <tr>\n",
       "      <th>293701</th>\n",
       "      <td>2012-08-24</td>\n",
       "      <td>0.02</td>\n",
       "    </tr>\n",
       "    <tr>\n",
       "      <th>293702</th>\n",
       "      <td>2012-08-31</td>\n",
       "      <td>0.02</td>\n",
       "    </tr>\n",
       "    <tr>\n",
       "      <th>293703</th>\n",
       "      <td>2012-09-07</td>\n",
       "      <td>0.02</td>\n",
       "    </tr>\n",
       "  </tbody>\n",
       "</table>\n",
       "<p>292824 rows × 2 columns</p>\n",
       "</div>"
      ],
      "text/plain": [
       "               ds         y\n",
       "0      2010-02-05  24924.50\n",
       "1      2010-02-12  46039.49\n",
       "2      2010-02-19  41595.55\n",
       "3      2010-02-26  19403.54\n",
       "4      2010-03-05  21827.90\n",
       "...           ...       ...\n",
       "293699 2012-07-13      0.02\n",
       "293700 2012-07-20      0.02\n",
       "293701 2012-08-24      0.02\n",
       "293702 2012-08-31      0.02\n",
       "293703 2012-09-07      0.02\n",
       "\n",
       "[292824 rows x 2 columns]"
      ]
     },
     "execution_count": 31,
     "metadata": {},
     "output_type": "execute_result"
    }
   ],
   "source": [
    "df = df[[\"Week_Date\",\"Sales_in_a_week\"]]\n",
    "df.columns = [\"ds\",\"y\"]\n",
    "df = df[df[\"y\"] > 0]\n",
    "df"
   ]
  },
  {
   "cell_type": "code",
   "execution_count": 32,
   "metadata": {
    "ExecuteTime": {
     "end_time": "2020-11-19T14:54:28.955668Z",
     "start_time": "2020-11-19T14:54:21.988762Z"
    }
   },
   "outputs": [],
   "source": [
    "test = pd.read_excel(\"test_sales.xlsx\")"
   ]
  },
  {
   "cell_type": "code",
   "execution_count": 33,
   "metadata": {
    "ExecuteTime": {
     "end_time": "2020-11-19T14:54:35.447468Z",
     "start_time": "2020-11-19T14:54:35.417548Z"
    }
   },
   "outputs": [
    {
     "data": {
      "text/html": [
       "<div>\n",
       "<style scoped>\n",
       "    .dataframe tbody tr th:only-of-type {\n",
       "        vertical-align: middle;\n",
       "    }\n",
       "\n",
       "    .dataframe tbody tr th {\n",
       "        vertical-align: top;\n",
       "    }\n",
       "\n",
       "    .dataframe thead th {\n",
       "        text-align: right;\n",
       "    }\n",
       "</style>\n",
       "<table border=\"1\" class=\"dataframe\">\n",
       "  <thead>\n",
       "    <tr style=\"text-align: right;\">\n",
       "      <th></th>\n",
       "      <th>ds</th>\n",
       "    </tr>\n",
       "  </thead>\n",
       "  <tbody>\n",
       "    <tr>\n",
       "      <th>0</th>\n",
       "      <td>2012-11-02</td>\n",
       "    </tr>\n",
       "    <tr>\n",
       "      <th>1</th>\n",
       "      <td>2012-11-09</td>\n",
       "    </tr>\n",
       "    <tr>\n",
       "      <th>2</th>\n",
       "      <td>2012-11-16</td>\n",
       "    </tr>\n",
       "    <tr>\n",
       "      <th>3</th>\n",
       "      <td>2012-11-23</td>\n",
       "    </tr>\n",
       "    <tr>\n",
       "      <th>4</th>\n",
       "      <td>2012-11-30</td>\n",
       "    </tr>\n",
       "    <tr>\n",
       "      <th>...</th>\n",
       "      <td>...</td>\n",
       "    </tr>\n",
       "    <tr>\n",
       "      <th>80016</th>\n",
       "      <td>2013-07-05</td>\n",
       "    </tr>\n",
       "    <tr>\n",
       "      <th>80017</th>\n",
       "      <td>2013-07-12</td>\n",
       "    </tr>\n",
       "    <tr>\n",
       "      <th>80018</th>\n",
       "      <td>2013-07-19</td>\n",
       "    </tr>\n",
       "    <tr>\n",
       "      <th>80019</th>\n",
       "      <td>2013-07-26</td>\n",
       "    </tr>\n",
       "    <tr>\n",
       "      <th>80020</th>\n",
       "      <td>2013-07-26</td>\n",
       "    </tr>\n",
       "  </tbody>\n",
       "</table>\n",
       "<p>80021 rows × 1 columns</p>\n",
       "</div>"
      ],
      "text/plain": [
       "              ds\n",
       "0     2012-11-02\n",
       "1     2012-11-09\n",
       "2     2012-11-16\n",
       "3     2012-11-23\n",
       "4     2012-11-30\n",
       "...          ...\n",
       "80016 2013-07-05\n",
       "80017 2013-07-12\n",
       "80018 2013-07-19\n",
       "80019 2013-07-26\n",
       "80020 2013-07-26\n",
       "\n",
       "[80021 rows x 1 columns]"
      ]
     },
     "execution_count": 33,
     "metadata": {},
     "output_type": "execute_result"
    }
   ],
   "source": [
    "# test[\"Holiday\"].replace({False:0,True:1},inplace=True)\n",
    "test = test[[ 'Week_Date']]\n",
    "test.columns = [\"ds\"]\n",
    "test"
   ]
  },
  {
   "cell_type": "code",
   "execution_count": 34,
   "metadata": {
    "ExecuteTime": {
     "end_time": "2020-11-19T14:54:38.226006Z",
     "start_time": "2020-11-19T14:54:38.210078Z"
    }
   },
   "outputs": [],
   "source": [
    "from fbprophet import Prophet"
   ]
  },
  {
   "cell_type": "code",
   "execution_count": 35,
   "metadata": {
    "ExecuteTime": {
     "end_time": "2020-11-19T14:54:39.339610Z",
     "start_time": "2020-11-19T14:54:39.323654Z"
    }
   },
   "outputs": [],
   "source": [
    "m = Prophet()"
   ]
  },
  {
   "cell_type": "code",
   "execution_count": 36,
   "metadata": {
    "ExecuteTime": {
     "end_time": "2020-11-19T14:56:30.659998Z",
     "start_time": "2020-11-19T14:54:41.474065Z"
    },
    "scrolled": true
   },
   "outputs": [
    {
     "name": "stderr",
     "output_type": "stream",
     "text": [
      "INFO:fbprophet:Disabling weekly seasonality. Run prophet with weekly_seasonality=True to override this.\n",
      "INFO:fbprophet:Disabling daily seasonality. Run prophet with daily_seasonality=True to override this.\n"
     ]
    },
    {
     "data": {
      "text/plain": [
       "<fbprophet.forecaster.Prophet at 0x1c1d81b56c8>"
      ]
     },
     "execution_count": 36,
     "metadata": {},
     "output_type": "execute_result"
    }
   ],
   "source": [
    "m.fit(df)"
   ]
  },
  {
   "cell_type": "code",
   "execution_count": 37,
   "metadata": {
    "ExecuteTime": {
     "end_time": "2020-11-19T14:57:51.147957Z",
     "start_time": "2020-11-19T14:56:38.027126Z"
    }
   },
   "outputs": [
    {
     "data": {
      "text/html": [
       "<div>\n",
       "<style scoped>\n",
       "    .dataframe tbody tr th:only-of-type {\n",
       "        vertical-align: middle;\n",
       "    }\n",
       "\n",
       "    .dataframe tbody tr th {\n",
       "        vertical-align: top;\n",
       "    }\n",
       "\n",
       "    .dataframe thead th {\n",
       "        text-align: right;\n",
       "    }\n",
       "</style>\n",
       "<table border=\"1\" class=\"dataframe\">\n",
       "  <thead>\n",
       "    <tr style=\"text-align: right;\">\n",
       "      <th></th>\n",
       "      <th>ds</th>\n",
       "      <th>trend</th>\n",
       "      <th>yhat_lower</th>\n",
       "      <th>yhat_upper</th>\n",
       "      <th>trend_lower</th>\n",
       "      <th>trend_upper</th>\n",
       "      <th>additive_terms</th>\n",
       "      <th>additive_terms_lower</th>\n",
       "      <th>additive_terms_upper</th>\n",
       "      <th>yearly</th>\n",
       "      <th>yearly_lower</th>\n",
       "      <th>yearly_upper</th>\n",
       "      <th>multiplicative_terms</th>\n",
       "      <th>multiplicative_terms_lower</th>\n",
       "      <th>multiplicative_terms_upper</th>\n",
       "      <th>yhat</th>\n",
       "    </tr>\n",
       "  </thead>\n",
       "  <tbody>\n",
       "    <tr>\n",
       "      <th>0</th>\n",
       "      <td>2012-11-02</td>\n",
       "      <td>17553.001144</td>\n",
       "      <td>-12761.626447</td>\n",
       "      <td>47804.543784</td>\n",
       "      <td>17553.001144</td>\n",
       "      <td>17553.001144</td>\n",
       "      <td>-597.939699</td>\n",
       "      <td>-597.939699</td>\n",
       "      <td>-597.939699</td>\n",
       "      <td>-597.939699</td>\n",
       "      <td>-597.939699</td>\n",
       "      <td>-597.939699</td>\n",
       "      <td>0.0</td>\n",
       "      <td>0.0</td>\n",
       "      <td>0.0</td>\n",
       "      <td>16955.061445</td>\n",
       "    </tr>\n",
       "    <tr>\n",
       "      <th>1</th>\n",
       "      <td>2012-11-02</td>\n",
       "      <td>17553.001144</td>\n",
       "      <td>-14014.245246</td>\n",
       "      <td>46375.601390</td>\n",
       "      <td>17553.001144</td>\n",
       "      <td>17553.001144</td>\n",
       "      <td>-597.939699</td>\n",
       "      <td>-597.939699</td>\n",
       "      <td>-597.939699</td>\n",
       "      <td>-597.939699</td>\n",
       "      <td>-597.939699</td>\n",
       "      <td>-597.939699</td>\n",
       "      <td>0.0</td>\n",
       "      <td>0.0</td>\n",
       "      <td>0.0</td>\n",
       "      <td>16955.061445</td>\n",
       "    </tr>\n",
       "    <tr>\n",
       "      <th>2</th>\n",
       "      <td>2012-11-02</td>\n",
       "      <td>17553.001144</td>\n",
       "      <td>-13061.674560</td>\n",
       "      <td>47822.746121</td>\n",
       "      <td>17553.001144</td>\n",
       "      <td>17553.001144</td>\n",
       "      <td>-597.939699</td>\n",
       "      <td>-597.939699</td>\n",
       "      <td>-597.939699</td>\n",
       "      <td>-597.939699</td>\n",
       "      <td>-597.939699</td>\n",
       "      <td>-597.939699</td>\n",
       "      <td>0.0</td>\n",
       "      <td>0.0</td>\n",
       "      <td>0.0</td>\n",
       "      <td>16955.061445</td>\n",
       "    </tr>\n",
       "    <tr>\n",
       "      <th>3</th>\n",
       "      <td>2012-11-02</td>\n",
       "      <td>17553.001144</td>\n",
       "      <td>-12689.302062</td>\n",
       "      <td>46670.979807</td>\n",
       "      <td>17553.001144</td>\n",
       "      <td>17553.001144</td>\n",
       "      <td>-597.939699</td>\n",
       "      <td>-597.939699</td>\n",
       "      <td>-597.939699</td>\n",
       "      <td>-597.939699</td>\n",
       "      <td>-597.939699</td>\n",
       "      <td>-597.939699</td>\n",
       "      <td>0.0</td>\n",
       "      <td>0.0</td>\n",
       "      <td>0.0</td>\n",
       "      <td>16955.061445</td>\n",
       "    </tr>\n",
       "    <tr>\n",
       "      <th>4</th>\n",
       "      <td>2012-11-02</td>\n",
       "      <td>17553.001144</td>\n",
       "      <td>-13481.608223</td>\n",
       "      <td>49925.200440</td>\n",
       "      <td>17553.001144</td>\n",
       "      <td>17553.001144</td>\n",
       "      <td>-597.939699</td>\n",
       "      <td>-597.939699</td>\n",
       "      <td>-597.939699</td>\n",
       "      <td>-597.939699</td>\n",
       "      <td>-597.939699</td>\n",
       "      <td>-597.939699</td>\n",
       "      <td>0.0</td>\n",
       "      <td>0.0</td>\n",
       "      <td>0.0</td>\n",
       "      <td>16955.061445</td>\n",
       "    </tr>\n",
       "    <tr>\n",
       "      <th>...</th>\n",
       "      <td>...</td>\n",
       "      <td>...</td>\n",
       "      <td>...</td>\n",
       "      <td>...</td>\n",
       "      <td>...</td>\n",
       "      <td>...</td>\n",
       "      <td>...</td>\n",
       "      <td>...</td>\n",
       "      <td>...</td>\n",
       "      <td>...</td>\n",
       "      <td>...</td>\n",
       "      <td>...</td>\n",
       "      <td>...</td>\n",
       "      <td>...</td>\n",
       "      <td>...</td>\n",
       "      <td>...</td>\n",
       "    </tr>\n",
       "    <tr>\n",
       "      <th>80016</th>\n",
       "      <td>2013-07-26</td>\n",
       "      <td>17808.410750</td>\n",
       "      <td>-11865.040457</td>\n",
       "      <td>47295.066158</td>\n",
       "      <td>16775.536063</td>\n",
       "      <td>18732.647013</td>\n",
       "      <td>-560.375097</td>\n",
       "      <td>-560.375097</td>\n",
       "      <td>-560.375097</td>\n",
       "      <td>-560.375097</td>\n",
       "      <td>-560.375097</td>\n",
       "      <td>-560.375097</td>\n",
       "      <td>0.0</td>\n",
       "      <td>0.0</td>\n",
       "      <td>0.0</td>\n",
       "      <td>17248.035653</td>\n",
       "    </tr>\n",
       "    <tr>\n",
       "      <th>80017</th>\n",
       "      <td>2013-07-26</td>\n",
       "      <td>17808.410750</td>\n",
       "      <td>-14768.302047</td>\n",
       "      <td>46647.087305</td>\n",
       "      <td>16775.536063</td>\n",
       "      <td>18732.647013</td>\n",
       "      <td>-560.375097</td>\n",
       "      <td>-560.375097</td>\n",
       "      <td>-560.375097</td>\n",
       "      <td>-560.375097</td>\n",
       "      <td>-560.375097</td>\n",
       "      <td>-560.375097</td>\n",
       "      <td>0.0</td>\n",
       "      <td>0.0</td>\n",
       "      <td>0.0</td>\n",
       "      <td>17248.035653</td>\n",
       "    </tr>\n",
       "    <tr>\n",
       "      <th>80018</th>\n",
       "      <td>2013-07-26</td>\n",
       "      <td>17808.410750</td>\n",
       "      <td>-12395.017282</td>\n",
       "      <td>49001.547709</td>\n",
       "      <td>16775.536063</td>\n",
       "      <td>18732.647013</td>\n",
       "      <td>-560.375097</td>\n",
       "      <td>-560.375097</td>\n",
       "      <td>-560.375097</td>\n",
       "      <td>-560.375097</td>\n",
       "      <td>-560.375097</td>\n",
       "      <td>-560.375097</td>\n",
       "      <td>0.0</td>\n",
       "      <td>0.0</td>\n",
       "      <td>0.0</td>\n",
       "      <td>17248.035653</td>\n",
       "    </tr>\n",
       "    <tr>\n",
       "      <th>80019</th>\n",
       "      <td>2013-07-26</td>\n",
       "      <td>17808.410750</td>\n",
       "      <td>-15591.975410</td>\n",
       "      <td>45363.175736</td>\n",
       "      <td>16775.536063</td>\n",
       "      <td>18732.647013</td>\n",
       "      <td>-560.375097</td>\n",
       "      <td>-560.375097</td>\n",
       "      <td>-560.375097</td>\n",
       "      <td>-560.375097</td>\n",
       "      <td>-560.375097</td>\n",
       "      <td>-560.375097</td>\n",
       "      <td>0.0</td>\n",
       "      <td>0.0</td>\n",
       "      <td>0.0</td>\n",
       "      <td>17248.035653</td>\n",
       "    </tr>\n",
       "    <tr>\n",
       "      <th>80020</th>\n",
       "      <td>2013-07-26</td>\n",
       "      <td>17808.410750</td>\n",
       "      <td>-10866.387739</td>\n",
       "      <td>48675.108042</td>\n",
       "      <td>16775.536063</td>\n",
       "      <td>18732.647013</td>\n",
       "      <td>-560.375097</td>\n",
       "      <td>-560.375097</td>\n",
       "      <td>-560.375097</td>\n",
       "      <td>-560.375097</td>\n",
       "      <td>-560.375097</td>\n",
       "      <td>-560.375097</td>\n",
       "      <td>0.0</td>\n",
       "      <td>0.0</td>\n",
       "      <td>0.0</td>\n",
       "      <td>17248.035653</td>\n",
       "    </tr>\n",
       "  </tbody>\n",
       "</table>\n",
       "<p>80021 rows × 16 columns</p>\n",
       "</div>"
      ],
      "text/plain": [
       "              ds         trend    yhat_lower    yhat_upper   trend_lower  \\\n",
       "0     2012-11-02  17553.001144 -12761.626447  47804.543784  17553.001144   \n",
       "1     2012-11-02  17553.001144 -14014.245246  46375.601390  17553.001144   \n",
       "2     2012-11-02  17553.001144 -13061.674560  47822.746121  17553.001144   \n",
       "3     2012-11-02  17553.001144 -12689.302062  46670.979807  17553.001144   \n",
       "4     2012-11-02  17553.001144 -13481.608223  49925.200440  17553.001144   \n",
       "...          ...           ...           ...           ...           ...   \n",
       "80016 2013-07-26  17808.410750 -11865.040457  47295.066158  16775.536063   \n",
       "80017 2013-07-26  17808.410750 -14768.302047  46647.087305  16775.536063   \n",
       "80018 2013-07-26  17808.410750 -12395.017282  49001.547709  16775.536063   \n",
       "80019 2013-07-26  17808.410750 -15591.975410  45363.175736  16775.536063   \n",
       "80020 2013-07-26  17808.410750 -10866.387739  48675.108042  16775.536063   \n",
       "\n",
       "        trend_upper  additive_terms  additive_terms_lower  \\\n",
       "0      17553.001144     -597.939699           -597.939699   \n",
       "1      17553.001144     -597.939699           -597.939699   \n",
       "2      17553.001144     -597.939699           -597.939699   \n",
       "3      17553.001144     -597.939699           -597.939699   \n",
       "4      17553.001144     -597.939699           -597.939699   \n",
       "...             ...             ...                   ...   \n",
       "80016  18732.647013     -560.375097           -560.375097   \n",
       "80017  18732.647013     -560.375097           -560.375097   \n",
       "80018  18732.647013     -560.375097           -560.375097   \n",
       "80019  18732.647013     -560.375097           -560.375097   \n",
       "80020  18732.647013     -560.375097           -560.375097   \n",
       "\n",
       "       additive_terms_upper      yearly  yearly_lower  yearly_upper  \\\n",
       "0               -597.939699 -597.939699   -597.939699   -597.939699   \n",
       "1               -597.939699 -597.939699   -597.939699   -597.939699   \n",
       "2               -597.939699 -597.939699   -597.939699   -597.939699   \n",
       "3               -597.939699 -597.939699   -597.939699   -597.939699   \n",
       "4               -597.939699 -597.939699   -597.939699   -597.939699   \n",
       "...                     ...         ...           ...           ...   \n",
       "80016           -560.375097 -560.375097   -560.375097   -560.375097   \n",
       "80017           -560.375097 -560.375097   -560.375097   -560.375097   \n",
       "80018           -560.375097 -560.375097   -560.375097   -560.375097   \n",
       "80019           -560.375097 -560.375097   -560.375097   -560.375097   \n",
       "80020           -560.375097 -560.375097   -560.375097   -560.375097   \n",
       "\n",
       "       multiplicative_terms  multiplicative_terms_lower  \\\n",
       "0                       0.0                         0.0   \n",
       "1                       0.0                         0.0   \n",
       "2                       0.0                         0.0   \n",
       "3                       0.0                         0.0   \n",
       "4                       0.0                         0.0   \n",
       "...                     ...                         ...   \n",
       "80016                   0.0                         0.0   \n",
       "80017                   0.0                         0.0   \n",
       "80018                   0.0                         0.0   \n",
       "80019                   0.0                         0.0   \n",
       "80020                   0.0                         0.0   \n",
       "\n",
       "       multiplicative_terms_upper          yhat  \n",
       "0                             0.0  16955.061445  \n",
       "1                             0.0  16955.061445  \n",
       "2                             0.0  16955.061445  \n",
       "3                             0.0  16955.061445  \n",
       "4                             0.0  16955.061445  \n",
       "...                           ...           ...  \n",
       "80016                         0.0  17248.035653  \n",
       "80017                         0.0  17248.035653  \n",
       "80018                         0.0  17248.035653  \n",
       "80019                         0.0  17248.035653  \n",
       "80020                         0.0  17248.035653  \n",
       "\n",
       "[80021 rows x 16 columns]"
      ]
     },
     "execution_count": 37,
     "metadata": {},
     "output_type": "execute_result"
    }
   ],
   "source": [
    "predict = m.predict(test)\n",
    "predict"
   ]
  },
  {
   "cell_type": "code",
   "execution_count": 38,
   "metadata": {
    "ExecuteTime": {
     "end_time": "2020-11-19T14:58:51.526447Z",
     "start_time": "2020-11-19T14:58:51.490573Z"
    }
   },
   "outputs": [
    {
     "data": {
      "text/plain": [
       "yhat    23810.358936\n",
       "dtype: float64"
      ]
     },
     "execution_count": 38,
     "metadata": {},
     "output_type": "execute_result"
    }
   ],
   "source": [
    "predict[[\"yhat\"]].max()"
   ]
  },
  {
   "cell_type": "code",
   "execution_count": 39,
   "metadata": {
    "ExecuteTime": {
     "end_time": "2020-11-19T14:58:58.221610Z",
     "start_time": "2020-11-19T14:58:58.167715Z"
    }
   },
   "outputs": [
    {
     "data": {
      "text/html": [
       "<div>\n",
       "<style scoped>\n",
       "    .dataframe tbody tr th:only-of-type {\n",
       "        vertical-align: middle;\n",
       "    }\n",
       "\n",
       "    .dataframe tbody tr th {\n",
       "        vertical-align: top;\n",
       "    }\n",
       "\n",
       "    .dataframe thead th {\n",
       "        text-align: right;\n",
       "    }\n",
       "</style>\n",
       "<table border=\"1\" class=\"dataframe\">\n",
       "  <thead>\n",
       "    <tr style=\"text-align: right;\">\n",
       "      <th></th>\n",
       "      <th>ID</th>\n",
       "      <th>Sales_in_a_week</th>\n",
       "    </tr>\n",
       "  </thead>\n",
       "  <tbody>\n",
       "    <tr>\n",
       "      <th>0</th>\n",
       "      <td>1</td>\n",
       "      <td>16955.061445</td>\n",
       "    </tr>\n",
       "    <tr>\n",
       "      <th>1</th>\n",
       "      <td>2</td>\n",
       "      <td>16955.061445</td>\n",
       "    </tr>\n",
       "    <tr>\n",
       "      <th>2</th>\n",
       "      <td>3</td>\n",
       "      <td>16955.061445</td>\n",
       "    </tr>\n",
       "    <tr>\n",
       "      <th>3</th>\n",
       "      <td>4</td>\n",
       "      <td>16955.061445</td>\n",
       "    </tr>\n",
       "    <tr>\n",
       "      <th>4</th>\n",
       "      <td>5</td>\n",
       "      <td>16955.061445</td>\n",
       "    </tr>\n",
       "    <tr>\n",
       "      <th>...</th>\n",
       "      <td>...</td>\n",
       "      <td>...</td>\n",
       "    </tr>\n",
       "    <tr>\n",
       "      <th>80016</th>\n",
       "      <td>80017</td>\n",
       "      <td>17248.035653</td>\n",
       "    </tr>\n",
       "    <tr>\n",
       "      <th>80017</th>\n",
       "      <td>80018</td>\n",
       "      <td>17248.035653</td>\n",
       "    </tr>\n",
       "    <tr>\n",
       "      <th>80018</th>\n",
       "      <td>80019</td>\n",
       "      <td>17248.035653</td>\n",
       "    </tr>\n",
       "    <tr>\n",
       "      <th>80019</th>\n",
       "      <td>80020</td>\n",
       "      <td>17248.035653</td>\n",
       "    </tr>\n",
       "    <tr>\n",
       "      <th>80020</th>\n",
       "      <td>80021</td>\n",
       "      <td>17248.035653</td>\n",
       "    </tr>\n",
       "  </tbody>\n",
       "</table>\n",
       "<p>80021 rows × 2 columns</p>\n",
       "</div>"
      ],
      "text/plain": [
       "          ID  Sales_in_a_week\n",
       "0          1     16955.061445\n",
       "1          2     16955.061445\n",
       "2          3     16955.061445\n",
       "3          4     16955.061445\n",
       "4          5     16955.061445\n",
       "...      ...              ...\n",
       "80016  80017     17248.035653\n",
       "80017  80018     17248.035653\n",
       "80018  80019     17248.035653\n",
       "80019  80020     17248.035653\n",
       "80020  80021     17248.035653\n",
       "\n",
       "[80021 rows x 2 columns]"
      ]
     },
     "execution_count": 39,
     "metadata": {},
     "output_type": "execute_result"
    }
   ],
   "source": [
    "Sales = pd.read_csv(\"Submission_format_Sales.csv\")\n",
    "Sales[\"Sales_in_a_week\"] = predict[\"yhat\"]\n",
    "Sales"
   ]
  },
  {
   "cell_type": "code",
   "execution_count": 40,
   "metadata": {
    "ExecuteTime": {
     "end_time": "2020-11-19T14:59:13.029038Z",
     "start_time": "2020-11-19T14:59:12.689072Z"
    }
   },
   "outputs": [],
   "source": [
    "# Sales.to_csv(\"D:\\\\Skillenza_Bootcamp\\\\ML Level3\\\\Problem2\\\\Sales_fb.csv\",index=False)"
   ]
  },
  {
   "cell_type": "code",
   "execution_count": null,
   "metadata": {},
   "outputs": [],
   "source": []
  },
  {
   "cell_type": "code",
   "execution_count": 41,
   "metadata": {
    "ExecuteTime": {
     "end_time": "2020-11-19T15:06:41.552852Z",
     "start_time": "2020-11-19T15:06:41.522934Z"
    }
   },
   "outputs": [
    {
     "data": {
      "text/html": [
       "<div>\n",
       "<style scoped>\n",
       "    .dataframe tbody tr th:only-of-type {\n",
       "        vertical-align: middle;\n",
       "    }\n",
       "\n",
       "    .dataframe tbody tr th {\n",
       "        vertical-align: top;\n",
       "    }\n",
       "\n",
       "    .dataframe thead th {\n",
       "        text-align: right;\n",
       "    }\n",
       "</style>\n",
       "<table border=\"1\" class=\"dataframe\">\n",
       "  <thead>\n",
       "    <tr style=\"text-align: right;\">\n",
       "      <th></th>\n",
       "      <th>ds</th>\n",
       "      <th>y</th>\n",
       "    </tr>\n",
       "  </thead>\n",
       "  <tbody>\n",
       "    <tr>\n",
       "      <th>0</th>\n",
       "      <td>2010-02-05</td>\n",
       "      <td>24924.50</td>\n",
       "    </tr>\n",
       "    <tr>\n",
       "      <th>1</th>\n",
       "      <td>2010-02-12</td>\n",
       "      <td>46039.49</td>\n",
       "    </tr>\n",
       "    <tr>\n",
       "      <th>2</th>\n",
       "      <td>2010-02-19</td>\n",
       "      <td>41595.55</td>\n",
       "    </tr>\n",
       "    <tr>\n",
       "      <th>3</th>\n",
       "      <td>2010-02-26</td>\n",
       "      <td>19403.54</td>\n",
       "    </tr>\n",
       "    <tr>\n",
       "      <th>4</th>\n",
       "      <td>2010-03-05</td>\n",
       "      <td>21827.90</td>\n",
       "    </tr>\n",
       "    <tr>\n",
       "      <th>...</th>\n",
       "      <td>...</td>\n",
       "      <td>...</td>\n",
       "    </tr>\n",
       "    <tr>\n",
       "      <th>293699</th>\n",
       "      <td>2012-07-13</td>\n",
       "      <td>0.02</td>\n",
       "    </tr>\n",
       "    <tr>\n",
       "      <th>293700</th>\n",
       "      <td>2012-07-20</td>\n",
       "      <td>0.02</td>\n",
       "    </tr>\n",
       "    <tr>\n",
       "      <th>293701</th>\n",
       "      <td>2012-08-24</td>\n",
       "      <td>0.02</td>\n",
       "    </tr>\n",
       "    <tr>\n",
       "      <th>293702</th>\n",
       "      <td>2012-08-31</td>\n",
       "      <td>0.02</td>\n",
       "    </tr>\n",
       "    <tr>\n",
       "      <th>293703</th>\n",
       "      <td>2012-09-07</td>\n",
       "      <td>0.02</td>\n",
       "    </tr>\n",
       "  </tbody>\n",
       "</table>\n",
       "<p>292824 rows × 2 columns</p>\n",
       "</div>"
      ],
      "text/plain": [
       "               ds         y\n",
       "0      2010-02-05  24924.50\n",
       "1      2010-02-12  46039.49\n",
       "2      2010-02-19  41595.55\n",
       "3      2010-02-26  19403.54\n",
       "4      2010-03-05  21827.90\n",
       "...           ...       ...\n",
       "293699 2012-07-13      0.02\n",
       "293700 2012-07-20      0.02\n",
       "293701 2012-08-24      0.02\n",
       "293702 2012-08-31      0.02\n",
       "293703 2012-09-07      0.02\n",
       "\n",
       "[292824 rows x 2 columns]"
      ]
     },
     "execution_count": 41,
     "metadata": {},
     "output_type": "execute_result"
    }
   ],
   "source": [
    "df"
   ]
  },
  {
   "cell_type": "code",
   "execution_count": 42,
   "metadata": {
    "ExecuteTime": {
     "end_time": "2020-11-19T15:07:14.233770Z",
     "start_time": "2020-11-19T15:07:14.176902Z"
    },
    "collapsed": true
   },
   "outputs": [
    {
     "data": {
      "text/plain": [
       "array([['2010-02-05T00:00:00.000000000'],\n",
       "       ['2010-02-12T00:00:00.000000000'],\n",
       "       ['2010-02-19T00:00:00.000000000'],\n",
       "       ...,\n",
       "       ['2012-08-24T00:00:00.000000000'],\n",
       "       ['2012-08-31T00:00:00.000000000'],\n",
       "       ['2012-09-07T00:00:00.000000000']], dtype='datetime64[ns]')"
      ]
     },
     "execution_count": 42,
     "metadata": {},
     "output_type": "execute_result"
    }
   ],
   "source": [
    "df.ds.values.reshape(-1, 1)"
   ]
  },
  {
   "cell_type": "code",
   "execution_count": 45,
   "metadata": {
    "ExecuteTime": {
     "end_time": "2020-11-19T15:08:10.005755Z",
     "start_time": "2020-11-19T15:08:09.985839Z"
    },
    "collapsed": true
   },
   "outputs": [
    {
     "data": {
      "text/plain": [
       "array([[2.492450e+04],\n",
       "       [4.603949e+04],\n",
       "       [4.159555e+04],\n",
       "       ...,\n",
       "       [2.000000e-02],\n",
       "       [2.000000e-02],\n",
       "       [2.000000e-02]])"
      ]
     },
     "execution_count": 45,
     "metadata": {},
     "output_type": "execute_result"
    }
   ],
   "source": [
    "df['y'].values.reshape(-1, 1)"
   ]
  },
  {
   "cell_type": "code",
   "execution_count": 49,
   "metadata": {
    "ExecuteTime": {
     "end_time": "2020-11-19T15:10:01.459051Z",
     "start_time": "2020-11-19T15:10:01.449080Z"
    },
    "collapsed": true
   },
   "outputs": [
    {
     "data": {
      "text/plain": [
       "array([[1.2653280e+18],\n",
       "       [1.2659328e+18],\n",
       "       [1.2665376e+18],\n",
       "       ...,\n",
       "       [1.3457664e+18],\n",
       "       [1.3463712e+18],\n",
       "       [1.3469760e+18]])"
      ]
     },
     "execution_count": 49,
     "metadata": {},
     "output_type": "execute_result"
    }
   ],
   "source": [
    "# pd.options.display.float_format = '{:.2f}'.format\n",
    "df.ds.values.astype(float).reshape(-1, 1)"
   ]
  },
  {
   "cell_type": "code",
   "execution_count": 54,
   "metadata": {
    "ExecuteTime": {
     "end_time": "2020-11-19T15:12:55.111775Z",
     "start_time": "2020-11-19T15:12:55.096846Z"
    },
    "collapsed": true
   },
   "outputs": [
    {
     "data": {
      "text/plain": [
       "array([[1.3518144e+18],\n",
       "       [1.3524192e+18],\n",
       "       [1.3530240e+18],\n",
       "       ...,\n",
       "       [1.3741920e+18],\n",
       "       [1.3747968e+18],\n",
       "       [1.3747968e+18]])"
      ]
     },
     "execution_count": 54,
     "metadata": {},
     "output_type": "execute_result"
    }
   ],
   "source": [
    "# pd.options.display.float_format = '{:.2f}'.format\n",
    "test.ds.values.astype(float).reshape(-1,1)"
   ]
  },
  {
   "cell_type": "code",
   "execution_count": 50,
   "metadata": {
    "ExecuteTime": {
     "end_time": "2020-11-19T15:10:46.850349Z",
     "start_time": "2020-11-19T15:10:46.840344Z"
    }
   },
   "outputs": [],
   "source": [
    "from sklearn.linear_model import LinearRegression\n",
    "lr = LinearRegression()"
   ]
  },
  {
   "cell_type": "code",
   "execution_count": 51,
   "metadata": {
    "ExecuteTime": {
     "end_time": "2020-11-19T15:11:40.747877Z",
     "start_time": "2020-11-19T15:11:40.720947Z"
    }
   },
   "outputs": [
    {
     "data": {
      "text/plain": [
       "LinearRegression()"
      ]
     },
     "execution_count": 51,
     "metadata": {},
     "output_type": "execute_result"
    }
   ],
   "source": [
    "lr.fit(df.ds.values.reshape(-1, 1),df['y'].values.reshape(-1, 1))"
   ]
  },
  {
   "cell_type": "code",
   "execution_count": 60,
   "metadata": {
    "ExecuteTime": {
     "end_time": "2020-11-19T15:19:19.779804Z",
     "start_time": "2020-11-19T15:19:19.760887Z"
    }
   },
   "outputs": [
    {
     "data": {
      "text/html": [
       "<div>\n",
       "<style scoped>\n",
       "    .dataframe tbody tr th:only-of-type {\n",
       "        vertical-align: middle;\n",
       "    }\n",
       "\n",
       "    .dataframe tbody tr th {\n",
       "        vertical-align: top;\n",
       "    }\n",
       "\n",
       "    .dataframe thead th {\n",
       "        text-align: right;\n",
       "    }\n",
       "</style>\n",
       "<table border=\"1\" class=\"dataframe\">\n",
       "  <thead>\n",
       "    <tr style=\"text-align: right;\">\n",
       "      <th></th>\n",
       "      <th>0</th>\n",
       "    </tr>\n",
       "  </thead>\n",
       "  <tbody>\n",
       "    <tr>\n",
       "      <th>0</th>\n",
       "      <td>17114.80</td>\n",
       "    </tr>\n",
       "    <tr>\n",
       "      <th>1</th>\n",
       "      <td>17113.99</td>\n",
       "    </tr>\n",
       "    <tr>\n",
       "      <th>2</th>\n",
       "      <td>17113.18</td>\n",
       "    </tr>\n",
       "    <tr>\n",
       "      <th>3</th>\n",
       "      <td>17112.37</td>\n",
       "    </tr>\n",
       "    <tr>\n",
       "      <th>4</th>\n",
       "      <td>17111.56</td>\n",
       "    </tr>\n",
       "    <tr>\n",
       "      <th>...</th>\n",
       "      <td>...</td>\n",
       "    </tr>\n",
       "    <tr>\n",
       "      <th>80016</th>\n",
       "      <td>17086.47</td>\n",
       "    </tr>\n",
       "    <tr>\n",
       "      <th>80017</th>\n",
       "      <td>17085.66</td>\n",
       "    </tr>\n",
       "    <tr>\n",
       "      <th>80018</th>\n",
       "      <td>17084.85</td>\n",
       "    </tr>\n",
       "    <tr>\n",
       "      <th>80019</th>\n",
       "      <td>17084.04</td>\n",
       "    </tr>\n",
       "    <tr>\n",
       "      <th>80020</th>\n",
       "      <td>17084.04</td>\n",
       "    </tr>\n",
       "  </tbody>\n",
       "</table>\n",
       "<p>80021 rows × 1 columns</p>\n",
       "</div>"
      ],
      "text/plain": [
       "             0\n",
       "0     17114.80\n",
       "1     17113.99\n",
       "2     17113.18\n",
       "3     17112.37\n",
       "4     17111.56\n",
       "...        ...\n",
       "80016 17086.47\n",
       "80017 17085.66\n",
       "80018 17084.85\n",
       "80019 17084.04\n",
       "80020 17084.04\n",
       "\n",
       "[80021 rows x 1 columns]"
      ]
     },
     "execution_count": 60,
     "metadata": {},
     "output_type": "execute_result"
    }
   ],
   "source": [
    "predict_lr = pd.DataFrame(lr.predict(test.ds.values.astype(float).reshape(-1,1)))\n",
    "predict_lr"
   ]
  },
  {
   "cell_type": "code",
   "execution_count": 62,
   "metadata": {
    "ExecuteTime": {
     "end_time": "2020-11-19T15:21:10.848775Z",
     "start_time": "2020-11-19T15:21:10.535047Z"
    }
   },
   "outputs": [],
   "source": [
    "Sales_lr = pd.read_csv(\"Submission_format_Sales.csv\")\n",
    "Sales_lr[\"Sales_in_a_week\"] = predict_lr[0]\n",
    "Sales_lr\n",
    "# Sales_lr.to_csv(\"D:\\\\Skillenza_Bootcamp\\\\ML Level3\\\\Problem2\\\\Sales_lr.csv\",index=False)"
   ]
  },
  {
   "cell_type": "code",
   "execution_count": 53,
   "metadata": {
    "ExecuteTime": {
     "end_time": "2020-11-18T07:19:25.089435Z",
     "start_time": "2020-11-18T07:19:25.070484Z"
    }
   },
   "outputs": [],
   "source": [
    "# df1 = df[[\"Week_Date\",\"Sales_in_a_week\"]]\n",
    "# df1.columns = [\"ds\",\"y\"]\n",
    "# df1\n",
    "\n",
    "# import matplotlib.pyplot as plt\n",
    "# # figsize = (12,8)\n",
    "# df1.plot(x=\"ds\",y='y')\n",
    "\n",
    "\n",
    "# from fbprophet import Prophet\n",
    "# m = Prophet()\n",
    "\n",
    "# m.fit(df1)\n",
    "\n",
    "\n",
    "# test1 = test[[\"Week_Date\"]]\n",
    "# test1.columns = [\"ds\"]\n",
    "# test1\n",
    "\n",
    "# predict = m.predict(test1)\n",
    "\n",
    "# test[\"Sales_in_a_week\"] =  predict[[\"yhat\"]]\n",
    "# test2 = test[[\"ID\",\"Sales_in_a_week\"]]\n",
    "# test2.to_csv(\"D:\\\\Skillenza_Bootcamp\\\\ML Level3\\\\Problem2\\\\estimate_fb1.csv\",index = False)"
   ]
  },
  {
   "cell_type": "code",
   "execution_count": null,
   "metadata": {},
   "outputs": [],
   "source": []
  },
  {
   "cell_type": "code",
   "execution_count": 1,
   "metadata": {
    "ExecuteTime": {
     "end_time": "2020-11-18T06:22:09.321071Z",
     "start_time": "2020-11-18T06:22:09.314372Z"
    }
   },
   "outputs": [],
   "source": [
    "# df_days = df.loc[:,\"Week_Date\"]\n",
    "# df_Sales = df.loc[:,\"Sales_in_a_week\"]\n",
    "# df_days\n",
    "\n",
    "# days = []\n",
    "# sales = []\n",
    "# days = [[x] for x in df[\"Week_Date\"].dt.day]\n",
    "# sales = [float (j) for j in df_Sales]\n",
    "\n",
    "\n",
    "# from sklearn.svm import SVR\n",
    "# # Create the 3 Support Vector Regression Models\n",
    "# # Create and Train a SVR Model using a linear kernel\n",
    "# lin_svr = SVR(kernel=\"linear\",C=1000.0)\n",
    "# lin_svr.fit(days,sales)\n",
    "\n",
    "# # Create and Train a SVR Model using a Polynomial kernel\n",
    "# poly_svr = SVR(kernel=\"poly\",C=1000.0,degree=2)\n",
    "# poly_svr.fit(days,sales)\n",
    "\n",
    "# # Create and Train a SVR Model using a rbf kernel\n",
    "# rbf_svr = SVR(kernel=\"rbf\",C=1000.0)\n",
    "# rbf_svr.fit(days,sales)\n",
    "\n",
    "# # plot the models on a graph to see which has the best fit to the original data\n",
    "# plt.figure(figsize=(16,8))\n",
    "# plt.scatter(days,sales,color=\"red\",label=\"Data\")\n",
    "# plt.plot(days,rbf_svr.predict(days),color=\"green\",label=\"RBF Model\")\n",
    "# plt.plot(days,poly_svr.predict(days),color=\"orange\",label=\"Polynomial Model\")\n",
    "# plt.plot(days,lin_svr.predict(days),color=\"blue\",label=\"Linear Model\")\n",
    "# plt.legend()\n",
    "# plt.show()"
   ]
  },
  {
   "cell_type": "code",
   "execution_count": null,
   "metadata": {},
   "outputs": [],
   "source": []
  },
  {
   "cell_type": "code",
   "execution_count": 7,
   "metadata": {
    "ExecuteTime": {
     "end_time": "2020-11-17T07:37:26.317603Z",
     "start_time": "2020-11-17T07:37:26.256213Z"
    }
   },
   "outputs": [],
   "source": [
    "# df1\n",
    "# df2\n",
    "# df1.columns = ['Book_Stall', 'Size']\n",
    "# df3 = pd.merge(df,df1,on = \"Book_Stall\")\n",
    "# df2.isna().sum()\n",
    "# df4 = df2.drop(columns=[\"Campaign 2\",\"Campaign 1\"],axis=1).fillna(df2[\"Consumer Price Index\"].median())\n",
    "# df4.columns = [\"Book_Stall\", 'Week_Date', 'Consumer Price Index', 'Holiday']\n",
    "# df_new = pd.merge(df3,df4,on = [\"Book_Stall\",\"Week_Date\",\"Holiday\"])\n",
    "# df_new\n",
    "# df_new[\"Holiday\"].replace({False:0,True:1},inplace=True)\n",
    "# df_new = df_new.reindex(columns = ['Book_Stall', 'Genre', 'Week_Date', 'Holiday','Size', 'Consumer Price Index','Sales_in_a_week' ])"
   ]
  },
  {
   "cell_type": "code",
   "execution_count": 8,
   "metadata": {
    "ExecuteTime": {
     "end_time": "2020-11-17T07:37:26.451296Z",
     "start_time": "2020-11-17T07:37:26.325556Z"
    }
   },
   "outputs": [],
   "source": [
    "# pd.set_option('display.max_rows', None)\n",
    "# pd.set_option('display.max_columns',None)\n",
    "# pd.set_option('display.width',None)"
   ]
  },
  {
   "cell_type": "code",
   "execution_count": 30,
   "metadata": {
    "ExecuteTime": {
     "end_time": "2020-11-17T08:04:30.992496Z",
     "start_time": "2020-11-17T08:04:30.985991Z"
    }
   },
   "outputs": [],
   "source": [
    "# df[\"Holiday\"].replace({False:0,True:1},inplace=True)"
   ]
  },
  {
   "cell_type": "code",
   "execution_count": 10,
   "metadata": {
    "ExecuteTime": {
     "end_time": "2020-11-17T07:37:26.821890Z",
     "start_time": "2020-11-17T07:37:26.630145Z"
    }
   },
   "outputs": [],
   "source": [
    "# stalls = []\n",
    "# for i in range(0,30):\n",
    "#     stalls.append(df[df[\"Book_Stall\"] == i+1])"
   ]
  },
  {
   "cell_type": "code",
   "execution_count": 12,
   "metadata": {
    "ExecuteTime": {
     "end_time": "2020-11-17T07:37:29.236824Z",
     "start_time": "2020-11-17T07:37:26.875166Z"
    }
   },
   "outputs": [
    {
     "name": "stderr",
     "output_type": "stream",
     "text": [
      "C:\\Users\\aakas\\Anaconda\\lib\\site-packages\\ipykernel_launcher.py:3: SettingWithCopyWarning: \n",
      "A value is trying to be set on a copy of a slice from a DataFrame.\n",
      "Try using .loc[row_indexer,col_indexer] = value instead\n",
      "\n",
      "See the caveats in the documentation: https://pandas.pydata.org/pandas-docs/stable/user_guide/indexing.html#returning-a-view-versus-a-copy\n",
      "  This is separate from the ipykernel package so we can avoid doing imports until\n"
     ]
    }
   ],
   "source": [
    "# for i in range(0,30):\n",
    "#     stalls[i] = stalls[i].reindex(columns=['ID','Book_Stall', 'Genre', 'Week_Date', 'Week_Date_New','Holiday', 'Sales_in_a_week'])"
   ]
  },
  {
   "cell_type": "code",
   "execution_count": 29,
   "metadata": {
    "ExecuteTime": {
     "end_time": "2020-11-17T07:40:01.441240Z",
     "start_time": "2020-11-17T07:40:01.072358Z"
    }
   },
   "outputs": [],
   "source": [
    "# Estimate = pd.DataFrame(columns=[\"ID\",\"Sales_in_a_week\"])\n",
    "# Estimate[\"ID\"] =test1.iloc[:,0]\n",
    "# Estimate[\"Sales_in_a_week\"] =pd.DataFrame(lr.predict(test1))[0]\n",
    "# Estimate.to_csv(\"D:\\\\Skillenza_Bootcamp\\\\ML Level3\\\\Problem2\\\\estimate_predict.csv\")"
   ]
  },
  {
   "cell_type": "code",
   "execution_count": null,
   "metadata": {},
   "outputs": [],
   "source": []
  }
 ],
 "metadata": {
  "kernelspec": {
   "display_name": "Python 3",
   "language": "python",
   "name": "python3"
  },
  "language_info": {
   "codemirror_mode": {
    "name": "ipython",
    "version": 3
   },
   "file_extension": ".py",
   "mimetype": "text/x-python",
   "name": "python",
   "nbconvert_exporter": "python",
   "pygments_lexer": "ipython3",
   "version": "3.7.6"
  }
 },
 "nbformat": 4,
 "nbformat_minor": 4
}
