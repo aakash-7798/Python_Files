{
 "cells": [
  {
   "cell_type": "code",
   "execution_count": 7,
   "metadata": {
    "ExecuteTime": {
     "end_time": "2020-11-18T16:31:09.527802Z",
     "start_time": "2020-11-18T16:31:09.444312Z"
    }
   },
   "outputs": [],
   "source": [
    "# Importing Libraries\n",
    "import numpy as np\n",
    "import pandas as pd"
   ]
  },
  {
   "cell_type": "code",
   "execution_count": 159,
   "metadata": {
    "ExecuteTime": {
     "end_time": "2020-11-12T10:35:27.754865Z",
     "start_time": "2020-11-12T10:35:27.635031Z"
    }
   },
   "outputs": [
    {
     "data": {
      "text/html": [
       "<div>\n",
       "<style scoped>\n",
       "    .dataframe tbody tr th:only-of-type {\n",
       "        vertical-align: middle;\n",
       "    }\n",
       "\n",
       "    .dataframe tbody tr th {\n",
       "        vertical-align: top;\n",
       "    }\n",
       "\n",
       "    .dataframe thead th {\n",
       "        text-align: right;\n",
       "    }\n",
       "</style>\n",
       "<table border=\"1\" class=\"dataframe\">\n",
       "  <thead>\n",
       "    <tr style=\"text-align: right;\">\n",
       "      <th></th>\n",
       "      <th>Row_ID</th>\n",
       "      <th>Application</th>\n",
       "      <th>Device</th>\n",
       "      <th>Launch_Year</th>\n",
       "      <th>Domain</th>\n",
       "      <th>Developer_comapny</th>\n",
       "      <th>Indian_Sales</th>\n",
       "      <th>China_Sales</th>\n",
       "      <th>Korea_Sales</th>\n",
       "      <th>Other_Sales</th>\n",
       "      <th>Global_Sales</th>\n",
       "      <th>ScorebyCritic</th>\n",
       "      <th>No_ofCritics</th>\n",
       "      <th>ScorebyUser</th>\n",
       "      <th>No_ofUsers</th>\n",
       "      <th>Developer</th>\n",
       "      <th>Overall_Rating</th>\n",
       "    </tr>\n",
       "  </thead>\n",
       "  <tbody>\n",
       "    <tr>\n",
       "      <th>0</th>\n",
       "      <td>0</td>\n",
       "      <td>Wii Sports</td>\n",
       "      <td>Wii</td>\n",
       "      <td>2006.0</td>\n",
       "      <td>Sports</td>\n",
       "      <td>Nintendo</td>\n",
       "      <td>41.36</td>\n",
       "      <td>28.96</td>\n",
       "      <td>3.77</td>\n",
       "      <td>8.45</td>\n",
       "      <td>82.53</td>\n",
       "      <td>76.0</td>\n",
       "      <td>51.0</td>\n",
       "      <td>8</td>\n",
       "      <td>322.0</td>\n",
       "      <td>Nintendo</td>\n",
       "      <td>E</td>\n",
       "    </tr>\n",
       "    <tr>\n",
       "      <th>1</th>\n",
       "      <td>1</td>\n",
       "      <td>Super Mario Bros.</td>\n",
       "      <td>NES</td>\n",
       "      <td>1985.0</td>\n",
       "      <td>Platform</td>\n",
       "      <td>Nintendo</td>\n",
       "      <td>29.08</td>\n",
       "      <td>3.58</td>\n",
       "      <td>6.81</td>\n",
       "      <td>0.77</td>\n",
       "      <td>40.24</td>\n",
       "      <td>NaN</td>\n",
       "      <td>NaN</td>\n",
       "      <td>NaN</td>\n",
       "      <td>NaN</td>\n",
       "      <td>NaN</td>\n",
       "      <td>NaN</td>\n",
       "    </tr>\n",
       "    <tr>\n",
       "      <th>2</th>\n",
       "      <td>2</td>\n",
       "      <td>Mario Kart Wii</td>\n",
       "      <td>Wii</td>\n",
       "      <td>2008.0</td>\n",
       "      <td>Racing</td>\n",
       "      <td>Nintendo</td>\n",
       "      <td>15.68</td>\n",
       "      <td>12.76</td>\n",
       "      <td>3.79</td>\n",
       "      <td>3.29</td>\n",
       "      <td>35.52</td>\n",
       "      <td>82.0</td>\n",
       "      <td>73.0</td>\n",
       "      <td>8.3</td>\n",
       "      <td>709.0</td>\n",
       "      <td>Nintendo</td>\n",
       "      <td>E</td>\n",
       "    </tr>\n",
       "    <tr>\n",
       "      <th>3</th>\n",
       "      <td>3</td>\n",
       "      <td>Wii Sports Resort</td>\n",
       "      <td>Wii</td>\n",
       "      <td>2009.0</td>\n",
       "      <td>Sports</td>\n",
       "      <td>Nintendo</td>\n",
       "      <td>15.61</td>\n",
       "      <td>10.93</td>\n",
       "      <td>3.28</td>\n",
       "      <td>2.95</td>\n",
       "      <td>32.77</td>\n",
       "      <td>80.0</td>\n",
       "      <td>73.0</td>\n",
       "      <td>8</td>\n",
       "      <td>192.0</td>\n",
       "      <td>Nintendo</td>\n",
       "      <td>E</td>\n",
       "    </tr>\n",
       "    <tr>\n",
       "      <th>4</th>\n",
       "      <td>4</td>\n",
       "      <td>Pokemon Red/Pokemon Blue</td>\n",
       "      <td>GB</td>\n",
       "      <td>1996.0</td>\n",
       "      <td>Role-Playing</td>\n",
       "      <td>Nintendo</td>\n",
       "      <td>11.27</td>\n",
       "      <td>8.89</td>\n",
       "      <td>10.22</td>\n",
       "      <td>1.00</td>\n",
       "      <td>31.37</td>\n",
       "      <td>NaN</td>\n",
       "      <td>NaN</td>\n",
       "      <td>NaN</td>\n",
       "      <td>NaN</td>\n",
       "      <td>NaN</td>\n",
       "      <td>NaN</td>\n",
       "    </tr>\n",
       "  </tbody>\n",
       "</table>\n",
       "</div>"
      ],
      "text/plain": [
       "   Row_ID               Application Device  Launch_Year        Domain  \\\n",
       "0       0                Wii Sports    Wii       2006.0        Sports   \n",
       "1       1         Super Mario Bros.    NES       1985.0      Platform   \n",
       "2       2            Mario Kart Wii    Wii       2008.0        Racing   \n",
       "3       3         Wii Sports Resort    Wii       2009.0        Sports   \n",
       "4       4  Pokemon Red/Pokemon Blue     GB       1996.0  Role-Playing   \n",
       "\n",
       "  Developer_comapny  Indian_Sales  China_Sales  Korea_Sales  Other_Sales  \\\n",
       "0          Nintendo         41.36        28.96         3.77         8.45   \n",
       "1          Nintendo         29.08         3.58         6.81         0.77   \n",
       "2          Nintendo         15.68        12.76         3.79         3.29   \n",
       "3          Nintendo         15.61        10.93         3.28         2.95   \n",
       "4          Nintendo         11.27         8.89        10.22         1.00   \n",
       "\n",
       "   Global_Sales  ScorebyCritic  No_ofCritics ScorebyUser  No_ofUsers  \\\n",
       "0         82.53           76.0          51.0           8       322.0   \n",
       "1         40.24            NaN           NaN         NaN         NaN   \n",
       "2         35.52           82.0          73.0         8.3       709.0   \n",
       "3         32.77           80.0          73.0           8       192.0   \n",
       "4         31.37            NaN           NaN         NaN         NaN   \n",
       "\n",
       "  Developer Overall_Rating  \n",
       "0  Nintendo              E  \n",
       "1       NaN            NaN  \n",
       "2  Nintendo              E  \n",
       "3  Nintendo              E  \n",
       "4       NaN            NaN  "
      ]
     },
     "execution_count": 159,
     "metadata": {},
     "output_type": "execute_result"
    }
   ],
   "source": [
    "## Data Import\n",
    "df = pd.read_csv(\"training_data.csv\")\n",
    "df.head()"
   ]
  },
  {
   "cell_type": "code",
   "execution_count": 160,
   "metadata": {
    "ExecuteTime": {
     "end_time": "2020-11-12T10:35:28.378040Z",
     "start_time": "2020-11-12T10:35:28.369693Z"
    },
    "scrolled": true
   },
   "outputs": [
    {
     "data": {
      "text/plain": [
       "14748"
      ]
     },
     "execution_count": 160,
     "metadata": {},
     "output_type": "execute_result"
    }
   ],
   "source": [
    "### Data Inspection\n",
    "len(df)"
   ]
  },
  {
   "cell_type": "code",
   "execution_count": 161,
   "metadata": {
    "ExecuteTime": {
     "end_time": "2020-11-12T10:35:30.048199Z",
     "start_time": "2020-11-12T10:35:30.024158Z"
    }
   },
   "outputs": [
    {
     "data": {
      "text/plain": [
       "Row_ID                 int64\n",
       "Application           object\n",
       "Device                object\n",
       "Launch_Year          float64\n",
       "Domain                object\n",
       "Developer_comapny     object\n",
       "Indian_Sales         float64\n",
       "China_Sales          float64\n",
       "Korea_Sales          float64\n",
       "Other_Sales          float64\n",
       "Global_Sales         float64\n",
       "ScorebyCritic        float64\n",
       "No_ofCritics         float64\n",
       "ScorebyUser           object\n",
       "No_ofUsers           float64\n",
       "Developer             object\n",
       "Overall_Rating        object\n",
       "dtype: object"
      ]
     },
     "execution_count": 161,
     "metadata": {},
     "output_type": "execute_result"
    }
   ],
   "source": [
    "df.dtypes"
   ]
  },
  {
   "cell_type": "code",
   "execution_count": 162,
   "metadata": {
    "ExecuteTime": {
     "end_time": "2020-11-12T10:35:41.397530Z",
     "start_time": "2020-11-12T10:35:41.297705Z"
    }
   },
   "outputs": [
    {
     "data": {
      "text/html": [
       "<div>\n",
       "<style scoped>\n",
       "    .dataframe tbody tr th:only-of-type {\n",
       "        vertical-align: middle;\n",
       "    }\n",
       "\n",
       "    .dataframe tbody tr th {\n",
       "        vertical-align: top;\n",
       "    }\n",
       "\n",
       "    .dataframe thead th {\n",
       "        text-align: right;\n",
       "    }\n",
       "</style>\n",
       "<table border=\"1\" class=\"dataframe\">\n",
       "  <thead>\n",
       "    <tr style=\"text-align: right;\">\n",
       "      <th></th>\n",
       "      <th>Row_ID</th>\n",
       "      <th>Launch_Year</th>\n",
       "      <th>Indian_Sales</th>\n",
       "      <th>China_Sales</th>\n",
       "      <th>Korea_Sales</th>\n",
       "      <th>Other_Sales</th>\n",
       "      <th>Global_Sales</th>\n",
       "      <th>ScorebyCritic</th>\n",
       "      <th>No_ofCritics</th>\n",
       "      <th>No_ofUsers</th>\n",
       "    </tr>\n",
       "  </thead>\n",
       "  <tbody>\n",
       "    <tr>\n",
       "      <th>count</th>\n",
       "      <td>14748.00000</td>\n",
       "      <td>14517.000000</td>\n",
       "      <td>14748.000000</td>\n",
       "      <td>14748.000000</td>\n",
       "      <td>14748.000000</td>\n",
       "      <td>14748.000000</td>\n",
       "      <td>14748.000000</td>\n",
       "      <td>7526.000000</td>\n",
       "      <td>7526.000000</td>\n",
       "      <td>7047.000000</td>\n",
       "    </tr>\n",
       "    <tr>\n",
       "      <th>mean</th>\n",
       "      <td>7373.50000</td>\n",
       "      <td>2006.217676</td>\n",
       "      <td>0.273585</td>\n",
       "      <td>0.149364</td>\n",
       "      <td>0.079891</td>\n",
       "      <td>0.048842</td>\n",
       "      <td>0.551876</td>\n",
       "      <td>69.181637</td>\n",
       "      <td>26.830853</td>\n",
       "      <td>161.749255</td>\n",
       "    </tr>\n",
       "    <tr>\n",
       "      <th>std</th>\n",
       "      <td>4257.52522</td>\n",
       "      <td>5.944182</td>\n",
       "      <td>0.728272</td>\n",
       "      <td>0.456193</td>\n",
       "      <td>0.286014</td>\n",
       "      <td>0.159235</td>\n",
       "      <td>1.372658</td>\n",
       "      <td>13.833710</td>\n",
       "      <td>19.094734</td>\n",
       "      <td>555.912492</td>\n",
       "    </tr>\n",
       "    <tr>\n",
       "      <th>min</th>\n",
       "      <td>0.00000</td>\n",
       "      <td>1980.000000</td>\n",
       "      <td>0.000000</td>\n",
       "      <td>0.000000</td>\n",
       "      <td>0.000000</td>\n",
       "      <td>0.000000</td>\n",
       "      <td>0.020000</td>\n",
       "      <td>13.000000</td>\n",
       "      <td>3.000000</td>\n",
       "      <td>4.000000</td>\n",
       "    </tr>\n",
       "    <tr>\n",
       "      <th>25%</th>\n",
       "      <td>3686.75000</td>\n",
       "      <td>2003.000000</td>\n",
       "      <td>0.020000</td>\n",
       "      <td>0.000000</td>\n",
       "      <td>0.000000</td>\n",
       "      <td>0.000000</td>\n",
       "      <td>0.080000</td>\n",
       "      <td>61.000000</td>\n",
       "      <td>12.000000</td>\n",
       "      <td>10.000000</td>\n",
       "    </tr>\n",
       "    <tr>\n",
       "      <th>50%</th>\n",
       "      <td>7373.50000</td>\n",
       "      <td>2007.000000</td>\n",
       "      <td>0.090000</td>\n",
       "      <td>0.030000</td>\n",
       "      <td>0.000000</td>\n",
       "      <td>0.010000</td>\n",
       "      <td>0.200000</td>\n",
       "      <td>71.000000</td>\n",
       "      <td>22.000000</td>\n",
       "      <td>24.000000</td>\n",
       "    </tr>\n",
       "    <tr>\n",
       "      <th>75%</th>\n",
       "      <td>11060.25000</td>\n",
       "      <td>2010.000000</td>\n",
       "      <td>0.260000</td>\n",
       "      <td>0.120000</td>\n",
       "      <td>0.050000</td>\n",
       "      <td>0.040000</td>\n",
       "      <td>0.510000</td>\n",
       "      <td>80.000000</td>\n",
       "      <td>37.000000</td>\n",
       "      <td>82.000000</td>\n",
       "    </tr>\n",
       "    <tr>\n",
       "      <th>max</th>\n",
       "      <td>14747.00000</td>\n",
       "      <td>2020.000000</td>\n",
       "      <td>41.360000</td>\n",
       "      <td>28.960000</td>\n",
       "      <td>10.220000</td>\n",
       "      <td>8.450000</td>\n",
       "      <td>82.530000</td>\n",
       "      <td>98.000000</td>\n",
       "      <td>113.000000</td>\n",
       "      <td>10665.000000</td>\n",
       "    </tr>\n",
       "  </tbody>\n",
       "</table>\n",
       "</div>"
      ],
      "text/plain": [
       "            Row_ID   Launch_Year  Indian_Sales   China_Sales   Korea_Sales  \\\n",
       "count  14748.00000  14517.000000  14748.000000  14748.000000  14748.000000   \n",
       "mean    7373.50000   2006.217676      0.273585      0.149364      0.079891   \n",
       "std     4257.52522      5.944182      0.728272      0.456193      0.286014   \n",
       "min        0.00000   1980.000000      0.000000      0.000000      0.000000   \n",
       "25%     3686.75000   2003.000000      0.020000      0.000000      0.000000   \n",
       "50%     7373.50000   2007.000000      0.090000      0.030000      0.000000   \n",
       "75%    11060.25000   2010.000000      0.260000      0.120000      0.050000   \n",
       "max    14747.00000   2020.000000     41.360000     28.960000     10.220000   \n",
       "\n",
       "        Other_Sales  Global_Sales  ScorebyCritic  No_ofCritics    No_ofUsers  \n",
       "count  14748.000000  14748.000000    7526.000000   7526.000000   7047.000000  \n",
       "mean       0.048842      0.551876      69.181637     26.830853    161.749255  \n",
       "std        0.159235      1.372658      13.833710     19.094734    555.912492  \n",
       "min        0.000000      0.020000      13.000000      3.000000      4.000000  \n",
       "25%        0.000000      0.080000      61.000000     12.000000     10.000000  \n",
       "50%        0.010000      0.200000      71.000000     22.000000     24.000000  \n",
       "75%        0.040000      0.510000      80.000000     37.000000     82.000000  \n",
       "max        8.450000     82.530000      98.000000    113.000000  10665.000000  "
      ]
     },
     "execution_count": 162,
     "metadata": {},
     "output_type": "execute_result"
    }
   ],
   "source": [
    "df.describe()"
   ]
  },
  {
   "cell_type": "code",
   "execution_count": 163,
   "metadata": {
    "ExecuteTime": {
     "end_time": "2020-11-12T10:35:42.787794Z",
     "start_time": "2020-11-12T10:35:42.757996Z"
    }
   },
   "outputs": [
    {
     "data": {
      "text/plain": [
       "Row_ID                  0\n",
       "Application             2\n",
       "Device                  0\n",
       "Launch_Year           231\n",
       "Domain                  2\n",
       "Developer_comapny      41\n",
       "Indian_Sales            0\n",
       "China_Sales             0\n",
       "Korea_Sales             0\n",
       "Other_Sales             0\n",
       "Global_Sales            0\n",
       "ScorebyCritic        7222\n",
       "No_ofCritics         7222\n",
       "ScorebyUser          5582\n",
       "No_ofUsers           7701\n",
       "Developer            5522\n",
       "Overall_Rating       5630\n",
       "dtype: int64"
      ]
     },
     "execution_count": 163,
     "metadata": {},
     "output_type": "execute_result"
    }
   ],
   "source": [
    "#  Null values in each column\n",
    "df.isna().sum()"
   ]
  },
  {
   "cell_type": "code",
   "execution_count": 164,
   "metadata": {
    "ExecuteTime": {
     "end_time": "2020-11-12T10:35:44.961060Z",
     "start_time": "2020-11-12T10:35:44.929840Z"
    }
   },
   "outputs": [
    {
     "data": {
      "text/plain": [
       "Row_ID                0.000000\n",
       "Application           0.013561\n",
       "Device                0.000000\n",
       "Launch_Year           1.566314\n",
       "Domain                0.013561\n",
       "Developer_comapny     0.278004\n",
       "Indian_Sales          0.000000\n",
       "China_Sales           0.000000\n",
       "Korea_Sales           0.000000\n",
       "Other_Sales           0.000000\n",
       "Global_Sales          0.000000\n",
       "ScorebyCritic        48.969352\n",
       "No_ofCritics         48.969352\n",
       "ScorebyUser          37.849200\n",
       "No_ofUsers           52.217250\n",
       "Developer            37.442365\n",
       "Overall_Rating       38.174668\n",
       "dtype: float64"
      ]
     },
     "execution_count": 164,
     "metadata": {},
     "output_type": "execute_result"
    }
   ],
   "source": [
    "# Percentage of Null values in each column\n",
    "(df.isna().sum()/len(df))*100"
   ]
  },
  {
   "cell_type": "code",
   "execution_count": 165,
   "metadata": {
    "ExecuteTime": {
     "end_time": "2020-11-12T10:35:46.076781Z",
     "start_time": "2020-11-12T10:35:46.048428Z"
    }
   },
   "outputs": [
    {
     "data": {
      "text/plain": [
       "Row_ID                  0\n",
       "Application             2\n",
       "Device                  0\n",
       "Launch_Year           231\n",
       "Domain                  2\n",
       "Developer_comapny      41\n",
       "Indian_Sales            0\n",
       "China_Sales             0\n",
       "Korea_Sales             0\n",
       "Other_Sales             0\n",
       "Global_Sales            0\n",
       "ScorebyCritic        7222\n",
       "No_ofCritics         7222\n",
       "ScorebyUser          5582\n",
       "No_ofUsers           7701\n",
       "Developer            5522\n",
       "Overall_Rating       5630\n",
       "dtype: int64"
      ]
     },
     "execution_count": 165,
     "metadata": {},
     "output_type": "execute_result"
    }
   ],
   "source": [
    "df.isnull().sum()"
   ]
  },
  {
   "cell_type": "code",
   "execution_count": 166,
   "metadata": {
    "ExecuteTime": {
     "end_time": "2020-11-12T10:35:48.174531Z",
     "start_time": "2020-11-12T10:35:48.166473Z"
    }
   },
   "outputs": [],
   "source": [
    "# for i in range(6):\n",
    "#     display(pd.DataFrame(df.select_dtypes(\"object\")[df.select_dtypes(\"object\").columns[i]].value_counts()).transpose())"
   ]
  },
  {
   "cell_type": "code",
   "execution_count": 167,
   "metadata": {
    "ExecuteTime": {
     "end_time": "2020-11-12T10:35:49.191177Z",
     "start_time": "2020-11-12T10:35:49.174051Z"
    }
   },
   "outputs": [],
   "source": [
    "### So Application and Domain have just 2 values as null values so i impute with mode value    \n",
    "df[\"Application\"].fillna(df[\"Application\"].mode()[0],inplace = True)\n",
    "df[\"Domain\"].fillna(df[\"Domain\"].mode()[0],inplace = True)  "
   ]
  },
  {
   "cell_type": "code",
   "execution_count": 168,
   "metadata": {
    "ExecuteTime": {
     "end_time": "2020-11-12T10:35:50.063021Z",
     "start_time": "2020-11-12T10:35:50.039139Z"
    }
   },
   "outputs": [],
   "source": [
    "### Imputing Launch year null values with median and Developer company with mode   \n",
    "df[\"Launch_Year\"].fillna(df[\"Launch_Year\"].median(),inplace = True)\n",
    "df[\"Developer_comapny\"].fillna(df[\"Developer_comapny\"].mode()[0],inplace = True)  "
   ]
  },
  {
   "cell_type": "code",
   "execution_count": 175,
   "metadata": {
    "ExecuteTime": {
     "end_time": "2020-11-12T10:39:37.259766Z",
     "start_time": "2020-11-12T10:39:37.231815Z"
    }
   },
   "outputs": [
    {
     "data": {
      "text/plain": [
       "Row_ID               0\n",
       "Application          0\n",
       "Device               0\n",
       "Launch_Year          0\n",
       "Domain               0\n",
       "Developer_comapny    0\n",
       "Indian_Sales         0\n",
       "China_Sales          0\n",
       "Korea_Sales          0\n",
       "Other_Sales          0\n",
       "Global_Sales         0\n",
       "dtype: int64"
      ]
     },
     "execution_count": 175,
     "metadata": {},
     "output_type": "execute_result"
    }
   ],
   "source": [
    "df.isnull().sum()"
   ]
  },
  {
   "cell_type": "code",
   "execution_count": 174,
   "metadata": {
    "ExecuteTime": {
     "end_time": "2020-11-12T10:39:34.986337Z",
     "start_time": "2020-11-12T10:39:34.969062Z"
    }
   },
   "outputs": [],
   "source": [
    "df = df.iloc[:,0:-6]"
   ]
  },
  {
   "cell_type": "code",
   "execution_count": 176,
   "metadata": {
    "ExecuteTime": {
     "end_time": "2020-11-12T10:39:43.208678Z",
     "start_time": "2020-11-12T10:39:43.198537Z"
    }
   },
   "outputs": [
    {
     "data": {
      "text/plain": [
       "14748"
      ]
     },
     "execution_count": 176,
     "metadata": {},
     "output_type": "execute_result"
    }
   ],
   "source": [
    "len(df)"
   ]
  },
  {
   "cell_type": "code",
   "execution_count": 188,
   "metadata": {
    "ExecuteTime": {
     "end_time": "2020-11-12T10:51:59.279067Z",
     "start_time": "2020-11-12T10:51:59.247612Z"
    }
   },
   "outputs": [
    {
     "data": {
      "text/html": [
       "<div>\n",
       "<style scoped>\n",
       "    .dataframe tbody tr th:only-of-type {\n",
       "        vertical-align: middle;\n",
       "    }\n",
       "\n",
       "    .dataframe tbody tr th {\n",
       "        vertical-align: top;\n",
       "    }\n",
       "\n",
       "    .dataframe thead th {\n",
       "        text-align: right;\n",
       "    }\n",
       "</style>\n",
       "<table border=\"1\" class=\"dataframe\">\n",
       "  <thead>\n",
       "    <tr style=\"text-align: right;\">\n",
       "      <th></th>\n",
       "      <th>Row_ID</th>\n",
       "      <th>Application</th>\n",
       "      <th>Device</th>\n",
       "      <th>Launch_Year</th>\n",
       "      <th>Domain</th>\n",
       "      <th>Developer_comapny</th>\n",
       "      <th>Indian_Sales</th>\n",
       "      <th>China_Sales</th>\n",
       "      <th>Korea_Sales</th>\n",
       "      <th>Other_Sales</th>\n",
       "      <th>Global_Sales</th>\n",
       "    </tr>\n",
       "  </thead>\n",
       "  <tbody>\n",
       "    <tr>\n",
       "      <th>0</th>\n",
       "      <td>0</td>\n",
       "      <td>Wii Sports</td>\n",
       "      <td>Wii</td>\n",
       "      <td>2006.0</td>\n",
       "      <td>Sports</td>\n",
       "      <td>Nintendo</td>\n",
       "      <td>41.36</td>\n",
       "      <td>28.96</td>\n",
       "      <td>3.77</td>\n",
       "      <td>8.45</td>\n",
       "      <td>82.53</td>\n",
       "    </tr>\n",
       "    <tr>\n",
       "      <th>1</th>\n",
       "      <td>1</td>\n",
       "      <td>Super Mario Bros.</td>\n",
       "      <td>NES</td>\n",
       "      <td>1985.0</td>\n",
       "      <td>Platform</td>\n",
       "      <td>Nintendo</td>\n",
       "      <td>29.08</td>\n",
       "      <td>3.58</td>\n",
       "      <td>6.81</td>\n",
       "      <td>0.77</td>\n",
       "      <td>40.24</td>\n",
       "    </tr>\n",
       "    <tr>\n",
       "      <th>2</th>\n",
       "      <td>2</td>\n",
       "      <td>Mario Kart Wii</td>\n",
       "      <td>Wii</td>\n",
       "      <td>2008.0</td>\n",
       "      <td>Racing</td>\n",
       "      <td>Nintendo</td>\n",
       "      <td>15.68</td>\n",
       "      <td>12.76</td>\n",
       "      <td>3.79</td>\n",
       "      <td>3.29</td>\n",
       "      <td>35.52</td>\n",
       "    </tr>\n",
       "    <tr>\n",
       "      <th>3</th>\n",
       "      <td>3</td>\n",
       "      <td>Wii Sports Resort</td>\n",
       "      <td>Wii</td>\n",
       "      <td>2009.0</td>\n",
       "      <td>Sports</td>\n",
       "      <td>Nintendo</td>\n",
       "      <td>15.61</td>\n",
       "      <td>10.93</td>\n",
       "      <td>3.28</td>\n",
       "      <td>2.95</td>\n",
       "      <td>32.77</td>\n",
       "    </tr>\n",
       "    <tr>\n",
       "      <th>4</th>\n",
       "      <td>4</td>\n",
       "      <td>Pokemon Red/Pokemon Blue</td>\n",
       "      <td>GB</td>\n",
       "      <td>1996.0</td>\n",
       "      <td>Role-Playing</td>\n",
       "      <td>Nintendo</td>\n",
       "      <td>11.27</td>\n",
       "      <td>8.89</td>\n",
       "      <td>10.22</td>\n",
       "      <td>1.00</td>\n",
       "      <td>31.37</td>\n",
       "    </tr>\n",
       "  </tbody>\n",
       "</table>\n",
       "</div>"
      ],
      "text/plain": [
       "   Row_ID               Application Device  Launch_Year        Domain  \\\n",
       "0       0                Wii Sports    Wii       2006.0        Sports   \n",
       "1       1         Super Mario Bros.    NES       1985.0      Platform   \n",
       "2       2            Mario Kart Wii    Wii       2008.0        Racing   \n",
       "3       3         Wii Sports Resort    Wii       2009.0        Sports   \n",
       "4       4  Pokemon Red/Pokemon Blue     GB       1996.0  Role-Playing   \n",
       "\n",
       "  Developer_comapny  Indian_Sales  China_Sales  Korea_Sales  Other_Sales  \\\n",
       "0          Nintendo         41.36        28.96         3.77         8.45   \n",
       "1          Nintendo         29.08         3.58         6.81         0.77   \n",
       "2          Nintendo         15.68        12.76         3.79         3.29   \n",
       "3          Nintendo         15.61        10.93         3.28         2.95   \n",
       "4          Nintendo         11.27         8.89        10.22         1.00   \n",
       "\n",
       "   Global_Sales  \n",
       "0         82.53  \n",
       "1         40.24  \n",
       "2         35.52  \n",
       "3         32.77  \n",
       "4         31.37  "
      ]
     },
     "execution_count": 188,
     "metadata": {},
     "output_type": "execute_result"
    }
   ],
   "source": [
    "df.head()"
   ]
  },
  {
   "cell_type": "code",
   "execution_count": 191,
   "metadata": {
    "ExecuteTime": {
     "end_time": "2020-11-12T10:53:50.093094Z",
     "start_time": "2020-11-12T10:53:50.085796Z"
    }
   },
   "outputs": [],
   "source": [
    "from sklearn.preprocessing import LabelEncoder\n",
    "le = LabelEncoder()"
   ]
  },
  {
   "cell_type": "code",
   "execution_count": 206,
   "metadata": {
    "ExecuteTime": {
     "end_time": "2020-11-12T11:03:54.380999Z",
     "start_time": "2020-11-12T11:03:54.343189Z"
    }
   },
   "outputs": [
    {
     "data": {
      "text/html": [
       "<div>\n",
       "<style scoped>\n",
       "    .dataframe tbody tr th:only-of-type {\n",
       "        vertical-align: middle;\n",
       "    }\n",
       "\n",
       "    .dataframe tbody tr th {\n",
       "        vertical-align: top;\n",
       "    }\n",
       "\n",
       "    .dataframe thead th {\n",
       "        text-align: right;\n",
       "    }\n",
       "</style>\n",
       "<table border=\"1\" class=\"dataframe\">\n",
       "  <thead>\n",
       "    <tr style=\"text-align: right;\">\n",
       "      <th></th>\n",
       "      <th>Application</th>\n",
       "      <th>Device</th>\n",
       "      <th>Domain</th>\n",
       "      <th>Developer_comapny</th>\n",
       "    </tr>\n",
       "  </thead>\n",
       "  <tbody>\n",
       "    <tr>\n",
       "      <th>0</th>\n",
       "      <td>Wii Sports</td>\n",
       "      <td>Wii</td>\n",
       "      <td>Sports</td>\n",
       "      <td>Nintendo</td>\n",
       "    </tr>\n",
       "    <tr>\n",
       "      <th>1</th>\n",
       "      <td>Super Mario Bros.</td>\n",
       "      <td>NES</td>\n",
       "      <td>Platform</td>\n",
       "      <td>Nintendo</td>\n",
       "    </tr>\n",
       "    <tr>\n",
       "      <th>2</th>\n",
       "      <td>Mario Kart Wii</td>\n",
       "      <td>Wii</td>\n",
       "      <td>Racing</td>\n",
       "      <td>Nintendo</td>\n",
       "    </tr>\n",
       "    <tr>\n",
       "      <th>3</th>\n",
       "      <td>Wii Sports Resort</td>\n",
       "      <td>Wii</td>\n",
       "      <td>Sports</td>\n",
       "      <td>Nintendo</td>\n",
       "    </tr>\n",
       "    <tr>\n",
       "      <th>4</th>\n",
       "      <td>Pokemon Red/Pokemon Blue</td>\n",
       "      <td>GB</td>\n",
       "      <td>Role-Playing</td>\n",
       "      <td>Nintendo</td>\n",
       "    </tr>\n",
       "    <tr>\n",
       "      <th>...</th>\n",
       "      <td>...</td>\n",
       "      <td>...</td>\n",
       "      <td>...</td>\n",
       "      <td>...</td>\n",
       "    </tr>\n",
       "    <tr>\n",
       "      <th>14743</th>\n",
       "      <td>Let's Dance with Mel B</td>\n",
       "      <td>PS3</td>\n",
       "      <td>Sports</td>\n",
       "      <td>Black Bean Games</td>\n",
       "    </tr>\n",
       "    <tr>\n",
       "      <th>14744</th>\n",
       "      <td>Jewel Quest 5: The Sleepless Star</td>\n",
       "      <td>DS</td>\n",
       "      <td>Action</td>\n",
       "      <td>Licensed 4U</td>\n",
       "    </tr>\n",
       "    <tr>\n",
       "      <th>14745</th>\n",
       "      <td>MAPLUS: Portable Navi 3</td>\n",
       "      <td>PSP</td>\n",
       "      <td>Misc</td>\n",
       "      <td>Edia</td>\n",
       "    </tr>\n",
       "    <tr>\n",
       "      <th>14746</th>\n",
       "      <td>Neverwinter Nights Diamond</td>\n",
       "      <td>PC</td>\n",
       "      <td>Role-Playing</td>\n",
       "      <td>Atari</td>\n",
       "    </tr>\n",
       "    <tr>\n",
       "      <th>14747</th>\n",
       "      <td>DEATH NOTE: L o Tsugu Mono</td>\n",
       "      <td>DS</td>\n",
       "      <td>Adventure</td>\n",
       "      <td>Konami Digital Entertainment</td>\n",
       "    </tr>\n",
       "  </tbody>\n",
       "</table>\n",
       "<p>14748 rows × 4 columns</p>\n",
       "</div>"
      ],
      "text/plain": [
       "                             Application Device        Domain  \\\n",
       "0                             Wii Sports    Wii        Sports   \n",
       "1                      Super Mario Bros.    NES      Platform   \n",
       "2                         Mario Kart Wii    Wii        Racing   \n",
       "3                      Wii Sports Resort    Wii        Sports   \n",
       "4               Pokemon Red/Pokemon Blue     GB  Role-Playing   \n",
       "...                                  ...    ...           ...   \n",
       "14743             Let's Dance with Mel B    PS3        Sports   \n",
       "14744  Jewel Quest 5: The Sleepless Star     DS        Action   \n",
       "14745            MAPLUS: Portable Navi 3    PSP          Misc   \n",
       "14746         Neverwinter Nights Diamond     PC  Role-Playing   \n",
       "14747         DEATH NOTE: L o Tsugu Mono     DS     Adventure   \n",
       "\n",
       "                  Developer_comapny  \n",
       "0                          Nintendo  \n",
       "1                          Nintendo  \n",
       "2                          Nintendo  \n",
       "3                          Nintendo  \n",
       "4                          Nintendo  \n",
       "...                             ...  \n",
       "14743              Black Bean Games  \n",
       "14744                   Licensed 4U  \n",
       "14745                          Edia  \n",
       "14746                         Atari  \n",
       "14747  Konami Digital Entertainment  \n",
       "\n",
       "[14748 rows x 4 columns]"
      ]
     },
     "execution_count": 206,
     "metadata": {},
     "output_type": "execute_result"
    }
   ],
   "source": [
    "df.select_dtypes(\"object\")"
   ]
  },
  {
   "cell_type": "code",
   "execution_count": 200,
   "metadata": {
    "ExecuteTime": {
     "end_time": "2020-11-12T10:59:11.075994Z",
     "start_time": "2020-11-12T10:59:11.062317Z"
    }
   },
   "outputs": [
    {
     "name": "stdout",
     "output_type": "stream",
     "text": [
      "Application_New\n"
     ]
    }
   ],
   "source": [
    "print(df.select_dtypes(\"object\").columns[0]+\"_New\")"
   ]
  },
  {
   "cell_type": "code",
   "execution_count": 205,
   "metadata": {
    "ExecuteTime": {
     "end_time": "2020-11-12T11:03:37.763087Z",
     "start_time": "2020-11-12T11:03:37.743122Z"
    }
   },
   "outputs": [
    {
     "data": {
      "text/plain": [
       "array([321, 321, 321, ..., 124,  49, 248])"
      ]
     },
     "execution_count": 205,
     "metadata": {},
     "output_type": "execute_result"
    }
   ],
   "source": [
    "le.fit_transform(df.select_dtypes(\"object\").iloc[:,3])"
   ]
  },
  {
   "cell_type": "code",
   "execution_count": 207,
   "metadata": {
    "ExecuteTime": {
     "end_time": "2020-11-12T11:05:26.814969Z",
     "start_time": "2020-11-12T11:05:26.735185Z"
    }
   },
   "outputs": [],
   "source": [
    "for i in range(4):\n",
    "    df[df.select_dtypes(\"object\").columns[i]+\"_New\"] =le.fit_transform(df.select_dtypes(\"object\").iloc[:,i])"
   ]
  },
  {
   "cell_type": "code",
   "execution_count": 209,
   "metadata": {
    "ExecuteTime": {
     "end_time": "2020-11-12T11:06:00.070741Z",
     "start_time": "2020-11-12T11:06:00.012833Z"
    },
    "scrolled": true
   },
   "outputs": [
    {
     "data": {
      "text/html": [
       "<div>\n",
       "<style scoped>\n",
       "    .dataframe tbody tr th:only-of-type {\n",
       "        vertical-align: middle;\n",
       "    }\n",
       "\n",
       "    .dataframe tbody tr th {\n",
       "        vertical-align: top;\n",
       "    }\n",
       "\n",
       "    .dataframe thead th {\n",
       "        text-align: right;\n",
       "    }\n",
       "</style>\n",
       "<table border=\"1\" class=\"dataframe\">\n",
       "  <thead>\n",
       "    <tr style=\"text-align: right;\">\n",
       "      <th></th>\n",
       "      <th>Row_ID</th>\n",
       "      <th>Application</th>\n",
       "      <th>Device</th>\n",
       "      <th>Launch_Year</th>\n",
       "      <th>Domain</th>\n",
       "      <th>Developer_comapny</th>\n",
       "      <th>Indian_Sales</th>\n",
       "      <th>China_Sales</th>\n",
       "      <th>Korea_Sales</th>\n",
       "      <th>Other_Sales</th>\n",
       "      <th>Global_Sales</th>\n",
       "      <th>Application_New</th>\n",
       "      <th>Device_New</th>\n",
       "      <th>Domain_New</th>\n",
       "      <th>Developer_comapny_New</th>\n",
       "    </tr>\n",
       "  </thead>\n",
       "  <tbody>\n",
       "    <tr>\n",
       "      <th>0</th>\n",
       "      <td>0</td>\n",
       "      <td>Wii Sports</td>\n",
       "      <td>Wii</td>\n",
       "      <td>2006.0</td>\n",
       "      <td>Sports</td>\n",
       "      <td>Nintendo</td>\n",
       "      <td>41.36</td>\n",
       "      <td>28.96</td>\n",
       "      <td>3.77</td>\n",
       "      <td>8.45</td>\n",
       "      <td>82.53</td>\n",
       "      <td>9756</td>\n",
       "      <td>26</td>\n",
       "      <td>10</td>\n",
       "      <td>321</td>\n",
       "    </tr>\n",
       "    <tr>\n",
       "      <th>1</th>\n",
       "      <td>1</td>\n",
       "      <td>Super Mario Bros.</td>\n",
       "      <td>NES</td>\n",
       "      <td>1985.0</td>\n",
       "      <td>Platform</td>\n",
       "      <td>Nintendo</td>\n",
       "      <td>29.08</td>\n",
       "      <td>3.58</td>\n",
       "      <td>6.81</td>\n",
       "      <td>0.77</td>\n",
       "      <td>40.24</td>\n",
       "      <td>8272</td>\n",
       "      <td>11</td>\n",
       "      <td>4</td>\n",
       "      <td>321</td>\n",
       "    </tr>\n",
       "    <tr>\n",
       "      <th>2</th>\n",
       "      <td>2</td>\n",
       "      <td>Mario Kart Wii</td>\n",
       "      <td>Wii</td>\n",
       "      <td>2008.0</td>\n",
       "      <td>Racing</td>\n",
       "      <td>Nintendo</td>\n",
       "      <td>15.68</td>\n",
       "      <td>12.76</td>\n",
       "      <td>3.79</td>\n",
       "      <td>3.29</td>\n",
       "      <td>35.52</td>\n",
       "      <td>4953</td>\n",
       "      <td>26</td>\n",
       "      <td>6</td>\n",
       "      <td>321</td>\n",
       "    </tr>\n",
       "    <tr>\n",
       "      <th>3</th>\n",
       "      <td>3</td>\n",
       "      <td>Wii Sports Resort</td>\n",
       "      <td>Wii</td>\n",
       "      <td>2009.0</td>\n",
       "      <td>Sports</td>\n",
       "      <td>Nintendo</td>\n",
       "      <td>15.61</td>\n",
       "      <td>10.93</td>\n",
       "      <td>3.28</td>\n",
       "      <td>2.95</td>\n",
       "      <td>32.77</td>\n",
       "      <td>9758</td>\n",
       "      <td>26</td>\n",
       "      <td>10</td>\n",
       "      <td>321</td>\n",
       "    </tr>\n",
       "    <tr>\n",
       "      <th>4</th>\n",
       "      <td>4</td>\n",
       "      <td>Pokemon Red/Pokemon Blue</td>\n",
       "      <td>GB</td>\n",
       "      <td>1996.0</td>\n",
       "      <td>Role-Playing</td>\n",
       "      <td>Nintendo</td>\n",
       "      <td>11.27</td>\n",
       "      <td>8.89</td>\n",
       "      <td>10.22</td>\n",
       "      <td>1.00</td>\n",
       "      <td>31.37</td>\n",
       "      <td>6533</td>\n",
       "      <td>5</td>\n",
       "      <td>7</td>\n",
       "      <td>321</td>\n",
       "    </tr>\n",
       "    <tr>\n",
       "      <th>...</th>\n",
       "      <td>...</td>\n",
       "      <td>...</td>\n",
       "      <td>...</td>\n",
       "      <td>...</td>\n",
       "      <td>...</td>\n",
       "      <td>...</td>\n",
       "      <td>...</td>\n",
       "      <td>...</td>\n",
       "      <td>...</td>\n",
       "      <td>...</td>\n",
       "      <td>...</td>\n",
       "      <td>...</td>\n",
       "      <td>...</td>\n",
       "      <td>...</td>\n",
       "      <td>...</td>\n",
       "    </tr>\n",
       "    <tr>\n",
       "      <th>14743</th>\n",
       "      <td>14743</td>\n",
       "      <td>Let's Dance with Mel B</td>\n",
       "      <td>PS3</td>\n",
       "      <td>2011.0</td>\n",
       "      <td>Sports</td>\n",
       "      <td>Black Bean Games</td>\n",
       "      <td>0.00</td>\n",
       "      <td>0.02</td>\n",
       "      <td>0.00</td>\n",
       "      <td>0.00</td>\n",
       "      <td>0.02</td>\n",
       "      <td>4598</td>\n",
       "      <td>17</td>\n",
       "      <td>10</td>\n",
       "      <td>66</td>\n",
       "    </tr>\n",
       "    <tr>\n",
       "      <th>14744</th>\n",
       "      <td>14744</td>\n",
       "      <td>Jewel Quest 5: The Sleepless Star</td>\n",
       "      <td>DS</td>\n",
       "      <td>2012.0</td>\n",
       "      <td>Action</td>\n",
       "      <td>Licensed 4U</td>\n",
       "      <td>0.00</td>\n",
       "      <td>0.02</td>\n",
       "      <td>0.00</td>\n",
       "      <td>0.00</td>\n",
       "      <td>0.02</td>\n",
       "      <td>4044</td>\n",
       "      <td>4</td>\n",
       "      <td>0</td>\n",
       "      <td>256</td>\n",
       "    </tr>\n",
       "    <tr>\n",
       "      <th>14745</th>\n",
       "      <td>14745</td>\n",
       "      <td>MAPLUS: Portable Navi 3</td>\n",
       "      <td>PSP</td>\n",
       "      <td>2009.0</td>\n",
       "      <td>Misc</td>\n",
       "      <td>Edia</td>\n",
       "      <td>0.00</td>\n",
       "      <td>0.00</td>\n",
       "      <td>0.02</td>\n",
       "      <td>0.00</td>\n",
       "      <td>0.02</td>\n",
       "      <td>4751</td>\n",
       "      <td>19</td>\n",
       "      <td>3</td>\n",
       "      <td>124</td>\n",
       "    </tr>\n",
       "    <tr>\n",
       "      <th>14746</th>\n",
       "      <td>14746</td>\n",
       "      <td>Neverwinter Nights Diamond</td>\n",
       "      <td>PC</td>\n",
       "      <td>2004.0</td>\n",
       "      <td>Role-Playing</td>\n",
       "      <td>Atari</td>\n",
       "      <td>0.00</td>\n",
       "      <td>0.02</td>\n",
       "      <td>0.00</td>\n",
       "      <td>0.00</td>\n",
       "      <td>0.02</td>\n",
       "      <td>5992</td>\n",
       "      <td>13</td>\n",
       "      <td>7</td>\n",
       "      <td>49</td>\n",
       "    </tr>\n",
       "    <tr>\n",
       "      <th>14747</th>\n",
       "      <td>14747</td>\n",
       "      <td>DEATH NOTE: L o Tsugu Mono</td>\n",
       "      <td>DS</td>\n",
       "      <td>2007.0</td>\n",
       "      <td>Adventure</td>\n",
       "      <td>Konami Digital Entertainment</td>\n",
       "      <td>0.00</td>\n",
       "      <td>0.00</td>\n",
       "      <td>0.02</td>\n",
       "      <td>0.00</td>\n",
       "      <td>0.02</td>\n",
       "      <td>1588</td>\n",
       "      <td>4</td>\n",
       "      <td>1</td>\n",
       "      <td>248</td>\n",
       "    </tr>\n",
       "  </tbody>\n",
       "</table>\n",
       "<p>14748 rows × 15 columns</p>\n",
       "</div>"
      ],
      "text/plain": [
       "       Row_ID                        Application Device  Launch_Year  \\\n",
       "0           0                         Wii Sports    Wii       2006.0   \n",
       "1           1                  Super Mario Bros.    NES       1985.0   \n",
       "2           2                     Mario Kart Wii    Wii       2008.0   \n",
       "3           3                  Wii Sports Resort    Wii       2009.0   \n",
       "4           4           Pokemon Red/Pokemon Blue     GB       1996.0   \n",
       "...       ...                                ...    ...          ...   \n",
       "14743   14743             Let's Dance with Mel B    PS3       2011.0   \n",
       "14744   14744  Jewel Quest 5: The Sleepless Star     DS       2012.0   \n",
       "14745   14745            MAPLUS: Portable Navi 3    PSP       2009.0   \n",
       "14746   14746         Neverwinter Nights Diamond     PC       2004.0   \n",
       "14747   14747         DEATH NOTE: L o Tsugu Mono     DS       2007.0   \n",
       "\n",
       "             Domain             Developer_comapny  Indian_Sales  China_Sales  \\\n",
       "0            Sports                      Nintendo         41.36        28.96   \n",
       "1          Platform                      Nintendo         29.08         3.58   \n",
       "2            Racing                      Nintendo         15.68        12.76   \n",
       "3            Sports                      Nintendo         15.61        10.93   \n",
       "4      Role-Playing                      Nintendo         11.27         8.89   \n",
       "...             ...                           ...           ...          ...   \n",
       "14743        Sports              Black Bean Games          0.00         0.02   \n",
       "14744        Action                   Licensed 4U          0.00         0.02   \n",
       "14745          Misc                          Edia          0.00         0.00   \n",
       "14746  Role-Playing                         Atari          0.00         0.02   \n",
       "14747     Adventure  Konami Digital Entertainment          0.00         0.00   \n",
       "\n",
       "       Korea_Sales  Other_Sales  Global_Sales  Application_New  Device_New  \\\n",
       "0             3.77         8.45         82.53             9756          26   \n",
       "1             6.81         0.77         40.24             8272          11   \n",
       "2             3.79         3.29         35.52             4953          26   \n",
       "3             3.28         2.95         32.77             9758          26   \n",
       "4            10.22         1.00         31.37             6533           5   \n",
       "...            ...          ...           ...              ...         ...   \n",
       "14743         0.00         0.00          0.02             4598          17   \n",
       "14744         0.00         0.00          0.02             4044           4   \n",
       "14745         0.02         0.00          0.02             4751          19   \n",
       "14746         0.00         0.00          0.02             5992          13   \n",
       "14747         0.02         0.00          0.02             1588           4   \n",
       "\n",
       "       Domain_New  Developer_comapny_New  \n",
       "0              10                    321  \n",
       "1               4                    321  \n",
       "2               6                    321  \n",
       "3              10                    321  \n",
       "4               7                    321  \n",
       "...           ...                    ...  \n",
       "14743          10                     66  \n",
       "14744           0                    256  \n",
       "14745           3                    124  \n",
       "14746           7                     49  \n",
       "14747           1                    248  \n",
       "\n",
       "[14748 rows x 15 columns]"
      ]
     },
     "execution_count": 209,
     "metadata": {},
     "output_type": "execute_result"
    }
   ],
   "source": [
    "df"
   ]
  },
  {
   "cell_type": "code",
   "execution_count": 210,
   "metadata": {
    "ExecuteTime": {
     "end_time": "2020-11-12T11:07:19.130171Z",
     "start_time": "2020-11-12T11:07:19.111262Z"
    }
   },
   "outputs": [
    {
     "data": {
      "text/plain": [
       "Index(['Row_ID', 'Application', 'Device', 'Launch_Year', 'Domain',\n",
       "       'Developer_comapny', 'Indian_Sales', 'China_Sales', 'Korea_Sales',\n",
       "       'Other_Sales', 'Global_Sales', 'Application_New', 'Device_New',\n",
       "       'Domain_New', 'Developer_comapny_New'],\n",
       "      dtype='object')"
      ]
     },
     "execution_count": 210,
     "metadata": {},
     "output_type": "execute_result"
    }
   ],
   "source": [
    "df.columns"
   ]
  },
  {
   "cell_type": "code",
   "execution_count": 213,
   "metadata": {
    "ExecuteTime": {
     "end_time": "2020-11-12T11:09:05.428085Z",
     "start_time": "2020-11-12T11:09:05.411526Z"
    }
   },
   "outputs": [],
   "source": [
    "df = df.reindex(columns = ['Row_ID', 'Application', 'Device', 'Launch_Year', 'Domain',\n",
    "       'Developer_comapny', 'Application_New', 'Device_New',\n",
    "       'Domain_New', 'Developer_comapny_New' ,'Indian_Sales', 'China_Sales', 'Korea_Sales',\n",
    "       'Other_Sales', 'Global_Sales'])"
   ]
  },
  {
   "cell_type": "code",
   "execution_count": 214,
   "metadata": {
    "ExecuteTime": {
     "end_time": "2020-11-12T11:09:06.153061Z",
     "start_time": "2020-11-12T11:09:06.112223Z"
    }
   },
   "outputs": [
    {
     "data": {
      "text/html": [
       "<div>\n",
       "<style scoped>\n",
       "    .dataframe tbody tr th:only-of-type {\n",
       "        vertical-align: middle;\n",
       "    }\n",
       "\n",
       "    .dataframe tbody tr th {\n",
       "        vertical-align: top;\n",
       "    }\n",
       "\n",
       "    .dataframe thead th {\n",
       "        text-align: right;\n",
       "    }\n",
       "</style>\n",
       "<table border=\"1\" class=\"dataframe\">\n",
       "  <thead>\n",
       "    <tr style=\"text-align: right;\">\n",
       "      <th></th>\n",
       "      <th>Row_ID</th>\n",
       "      <th>Application</th>\n",
       "      <th>Device</th>\n",
       "      <th>Launch_Year</th>\n",
       "      <th>Domain</th>\n",
       "      <th>Developer_comapny</th>\n",
       "      <th>Application_New</th>\n",
       "      <th>Device_New</th>\n",
       "      <th>Domain_New</th>\n",
       "      <th>Developer_comapny_New</th>\n",
       "      <th>Indian_Sales</th>\n",
       "      <th>China_Sales</th>\n",
       "      <th>Korea_Sales</th>\n",
       "      <th>Other_Sales</th>\n",
       "      <th>Global_Sales</th>\n",
       "    </tr>\n",
       "  </thead>\n",
       "  <tbody>\n",
       "    <tr>\n",
       "      <th>0</th>\n",
       "      <td>0</td>\n",
       "      <td>Wii Sports</td>\n",
       "      <td>Wii</td>\n",
       "      <td>2006.0</td>\n",
       "      <td>Sports</td>\n",
       "      <td>Nintendo</td>\n",
       "      <td>9756</td>\n",
       "      <td>26</td>\n",
       "      <td>10</td>\n",
       "      <td>321</td>\n",
       "      <td>41.36</td>\n",
       "      <td>28.96</td>\n",
       "      <td>3.77</td>\n",
       "      <td>8.45</td>\n",
       "      <td>82.53</td>\n",
       "    </tr>\n",
       "    <tr>\n",
       "      <th>1</th>\n",
       "      <td>1</td>\n",
       "      <td>Super Mario Bros.</td>\n",
       "      <td>NES</td>\n",
       "      <td>1985.0</td>\n",
       "      <td>Platform</td>\n",
       "      <td>Nintendo</td>\n",
       "      <td>8272</td>\n",
       "      <td>11</td>\n",
       "      <td>4</td>\n",
       "      <td>321</td>\n",
       "      <td>29.08</td>\n",
       "      <td>3.58</td>\n",
       "      <td>6.81</td>\n",
       "      <td>0.77</td>\n",
       "      <td>40.24</td>\n",
       "    </tr>\n",
       "    <tr>\n",
       "      <th>2</th>\n",
       "      <td>2</td>\n",
       "      <td>Mario Kart Wii</td>\n",
       "      <td>Wii</td>\n",
       "      <td>2008.0</td>\n",
       "      <td>Racing</td>\n",
       "      <td>Nintendo</td>\n",
       "      <td>4953</td>\n",
       "      <td>26</td>\n",
       "      <td>6</td>\n",
       "      <td>321</td>\n",
       "      <td>15.68</td>\n",
       "      <td>12.76</td>\n",
       "      <td>3.79</td>\n",
       "      <td>3.29</td>\n",
       "      <td>35.52</td>\n",
       "    </tr>\n",
       "    <tr>\n",
       "      <th>3</th>\n",
       "      <td>3</td>\n",
       "      <td>Wii Sports Resort</td>\n",
       "      <td>Wii</td>\n",
       "      <td>2009.0</td>\n",
       "      <td>Sports</td>\n",
       "      <td>Nintendo</td>\n",
       "      <td>9758</td>\n",
       "      <td>26</td>\n",
       "      <td>10</td>\n",
       "      <td>321</td>\n",
       "      <td>15.61</td>\n",
       "      <td>10.93</td>\n",
       "      <td>3.28</td>\n",
       "      <td>2.95</td>\n",
       "      <td>32.77</td>\n",
       "    </tr>\n",
       "    <tr>\n",
       "      <th>4</th>\n",
       "      <td>4</td>\n",
       "      <td>Pokemon Red/Pokemon Blue</td>\n",
       "      <td>GB</td>\n",
       "      <td>1996.0</td>\n",
       "      <td>Role-Playing</td>\n",
       "      <td>Nintendo</td>\n",
       "      <td>6533</td>\n",
       "      <td>5</td>\n",
       "      <td>7</td>\n",
       "      <td>321</td>\n",
       "      <td>11.27</td>\n",
       "      <td>8.89</td>\n",
       "      <td>10.22</td>\n",
       "      <td>1.00</td>\n",
       "      <td>31.37</td>\n",
       "    </tr>\n",
       "  </tbody>\n",
       "</table>\n",
       "</div>"
      ],
      "text/plain": [
       "   Row_ID               Application Device  Launch_Year        Domain  \\\n",
       "0       0                Wii Sports    Wii       2006.0        Sports   \n",
       "1       1         Super Mario Bros.    NES       1985.0      Platform   \n",
       "2       2            Mario Kart Wii    Wii       2008.0        Racing   \n",
       "3       3         Wii Sports Resort    Wii       2009.0        Sports   \n",
       "4       4  Pokemon Red/Pokemon Blue     GB       1996.0  Role-Playing   \n",
       "\n",
       "  Developer_comapny  Application_New  Device_New  Domain_New  \\\n",
       "0          Nintendo             9756          26          10   \n",
       "1          Nintendo             8272          11           4   \n",
       "2          Nintendo             4953          26           6   \n",
       "3          Nintendo             9758          26          10   \n",
       "4          Nintendo             6533           5           7   \n",
       "\n",
       "   Developer_comapny_New  Indian_Sales  China_Sales  Korea_Sales  Other_Sales  \\\n",
       "0                    321         41.36        28.96         3.77         8.45   \n",
       "1                    321         29.08         3.58         6.81         0.77   \n",
       "2                    321         15.68        12.76         3.79         3.29   \n",
       "3                    321         15.61        10.93         3.28         2.95   \n",
       "4                    321         11.27         8.89        10.22         1.00   \n",
       "\n",
       "   Global_Sales  \n",
       "0         82.53  \n",
       "1         40.24  \n",
       "2         35.52  \n",
       "3         32.77  \n",
       "4         31.37  "
      ]
     },
     "execution_count": 214,
     "metadata": {},
     "output_type": "execute_result"
    }
   ],
   "source": [
    "df.head()"
   ]
  },
  {
   "cell_type": "code",
   "execution_count": 150,
   "metadata": {
    "ExecuteTime": {
     "end_time": "2020-11-12T10:28:24.838545Z",
     "start_time": "2020-11-12T10:28:24.825243Z"
    }
   },
   "outputs": [],
   "source": [
    "# df[df[\"ScorebyCritic\"].notnull()].drop(df.iloc[:,-5:],axis=1).iloc[:,[0,3,6,7,8,9,10]]\n",
    "# df[df[\"ScorebyCritic\"].isnull()].drop(df.iloc[:,-5:],axis=1).iloc[:,[0,3,6,7,8,9,10]]"
   ]
  },
  {
   "cell_type": "code",
   "execution_count": 128,
   "metadata": {
    "ExecuteTime": {
     "end_time": "2020-11-12T08:23:41.933809Z",
     "start_time": "2020-11-12T08:23:41.925831Z"
    }
   },
   "outputs": [],
   "source": [
    "# from sklearn import tree\n",
    "# dt = tree.DecisionTreeClassifier()\n",
    "# dt.fit(df[df[\"ScorebyCritic\"].notnull()].drop(df.iloc[:,-5:],axis=1).iloc[:,[0,3,6,7,8,9,10]],\n",
    "#       df[df[\"ScorebyCritic\"].notnull()].drop(df.iloc[:,-5:],axis=1).iloc[:,-1])\n",
    "# dt.predict(df[df[\"ScorebyCritic\"].isnull()].drop(df.iloc[:,-5:],axis=1).iloc[:,[0,3,6,7,8,9,10]])"
   ]
  },
  {
   "cell_type": "code",
   "execution_count": 177,
   "metadata": {
    "ExecuteTime": {
     "end_time": "2020-11-12T10:39:59.440353Z",
     "start_time": "2020-11-12T10:39:59.383272Z"
    }
   },
   "outputs": [
    {
     "data": {
      "text/html": [
       "<div>\n",
       "<style scoped>\n",
       "    .dataframe tbody tr th:only-of-type {\n",
       "        vertical-align: middle;\n",
       "    }\n",
       "\n",
       "    .dataframe tbody tr th {\n",
       "        vertical-align: top;\n",
       "    }\n",
       "\n",
       "    .dataframe thead th {\n",
       "        text-align: right;\n",
       "    }\n",
       "</style>\n",
       "<table border=\"1\" class=\"dataframe\">\n",
       "  <thead>\n",
       "    <tr style=\"text-align: right;\">\n",
       "      <th></th>\n",
       "      <th>Row_ID</th>\n",
       "      <th>Application</th>\n",
       "      <th>Device</th>\n",
       "      <th>Launch_Year</th>\n",
       "      <th>Domain</th>\n",
       "      <th>Developer_comapny</th>\n",
       "      <th>Indian_Sales</th>\n",
       "      <th>China_Sales</th>\n",
       "      <th>Korea_Sales</th>\n",
       "      <th>Other_Sales</th>\n",
       "      <th>ScorebyCritic</th>\n",
       "      <th>No_ofCritics</th>\n",
       "      <th>ScorebyUser</th>\n",
       "      <th>No_ofUsers</th>\n",
       "      <th>Developer</th>\n",
       "      <th>Overall_Rating</th>\n",
       "    </tr>\n",
       "  </thead>\n",
       "  <tbody>\n",
       "    <tr>\n",
       "      <th>0</th>\n",
       "      <td>0</td>\n",
       "      <td>ZooCube</td>\n",
       "      <td>GC</td>\n",
       "      <td>2002.0</td>\n",
       "      <td>Puzzle</td>\n",
       "      <td>Acclaim Entertainment</td>\n",
       "      <td>0.02</td>\n",
       "      <td>0.00</td>\n",
       "      <td>0.00</td>\n",
       "      <td>0.0</td>\n",
       "      <td>67.0</td>\n",
       "      <td>15.0</td>\n",
       "      <td>6.1</td>\n",
       "      <td>7.0</td>\n",
       "      <td>PuzzleKings</td>\n",
       "      <td>E</td>\n",
       "    </tr>\n",
       "    <tr>\n",
       "      <th>1</th>\n",
       "      <td>1</td>\n",
       "      <td>GRID Autosport</td>\n",
       "      <td>PC</td>\n",
       "      <td>2014.0</td>\n",
       "      <td>Racing</td>\n",
       "      <td>Codemasters</td>\n",
       "      <td>0.00</td>\n",
       "      <td>0.02</td>\n",
       "      <td>0.00</td>\n",
       "      <td>0.0</td>\n",
       "      <td>78.0</td>\n",
       "      <td>35.0</td>\n",
       "      <td>6.2</td>\n",
       "      <td>257.0</td>\n",
       "      <td>Codemasters</td>\n",
       "      <td>E</td>\n",
       "    </tr>\n",
       "    <tr>\n",
       "      <th>2</th>\n",
       "      <td>2</td>\n",
       "      <td>Spy Hunter / Super Sprint</td>\n",
       "      <td>GBA</td>\n",
       "      <td>2005.0</td>\n",
       "      <td>Racing</td>\n",
       "      <td>Zoo Digital Publishing</td>\n",
       "      <td>0.02</td>\n",
       "      <td>0.01</td>\n",
       "      <td>0.00</td>\n",
       "      <td>0.0</td>\n",
       "      <td>NaN</td>\n",
       "      <td>NaN</td>\n",
       "      <td>NaN</td>\n",
       "      <td>NaN</td>\n",
       "      <td>NaN</td>\n",
       "      <td>NaN</td>\n",
       "    </tr>\n",
       "    <tr>\n",
       "      <th>3</th>\n",
       "      <td>3</td>\n",
       "      <td>Demon Gaze 2</td>\n",
       "      <td>PSV</td>\n",
       "      <td>2014.0</td>\n",
       "      <td>Role-Playing</td>\n",
       "      <td>Experience Inc.</td>\n",
       "      <td>0.00</td>\n",
       "      <td>0.00</td>\n",
       "      <td>0.02</td>\n",
       "      <td>0.0</td>\n",
       "      <td>NaN</td>\n",
       "      <td>NaN</td>\n",
       "      <td>NaN</td>\n",
       "      <td>NaN</td>\n",
       "      <td>NaN</td>\n",
       "      <td>NaN</td>\n",
       "    </tr>\n",
       "    <tr>\n",
       "      <th>4</th>\n",
       "      <td>4</td>\n",
       "      <td>Clover no Kuni no Alice: Wonderful Wonder World</td>\n",
       "      <td>PS2</td>\n",
       "      <td>2010.0</td>\n",
       "      <td>Adventure</td>\n",
       "      <td>Prototype</td>\n",
       "      <td>0.00</td>\n",
       "      <td>0.00</td>\n",
       "      <td>0.02</td>\n",
       "      <td>0.0</td>\n",
       "      <td>NaN</td>\n",
       "      <td>NaN</td>\n",
       "      <td>NaN</td>\n",
       "      <td>NaN</td>\n",
       "      <td>NaN</td>\n",
       "      <td>NaN</td>\n",
       "    </tr>\n",
       "  </tbody>\n",
       "</table>\n",
       "</div>"
      ],
      "text/plain": [
       "   Row_ID                                      Application Device  \\\n",
       "0       0                                          ZooCube     GC   \n",
       "1       1                                   GRID Autosport     PC   \n",
       "2       2                        Spy Hunter / Super Sprint    GBA   \n",
       "3       3                                     Demon Gaze 2    PSV   \n",
       "4       4  Clover no Kuni no Alice: Wonderful Wonder World    PS2   \n",
       "\n",
       "   Launch_Year        Domain       Developer_comapny  Indian_Sales  \\\n",
       "0       2002.0        Puzzle   Acclaim Entertainment          0.02   \n",
       "1       2014.0        Racing             Codemasters          0.00   \n",
       "2       2005.0        Racing  Zoo Digital Publishing          0.02   \n",
       "3       2014.0  Role-Playing         Experience Inc.          0.00   \n",
       "4       2010.0     Adventure               Prototype          0.00   \n",
       "\n",
       "   China_Sales  Korea_Sales  Other_Sales  ScorebyCritic  No_ofCritics  \\\n",
       "0         0.00         0.00          0.0           67.0          15.0   \n",
       "1         0.02         0.00          0.0           78.0          35.0   \n",
       "2         0.01         0.00          0.0            NaN           NaN   \n",
       "3         0.00         0.02          0.0            NaN           NaN   \n",
       "4         0.00         0.02          0.0            NaN           NaN   \n",
       "\n",
       "  ScorebyUser  No_ofUsers    Developer Overall_Rating  \n",
       "0         6.1         7.0  PuzzleKings              E  \n",
       "1         6.2       257.0  Codemasters              E  \n",
       "2         NaN         NaN          NaN            NaN  \n",
       "3         NaN         NaN          NaN            NaN  \n",
       "4         NaN         NaN          NaN            NaN  "
      ]
     },
     "execution_count": 177,
     "metadata": {},
     "output_type": "execute_result"
    }
   ],
   "source": [
    "df1 = pd.read_csv(\"test_data.csv\")\n",
    "df1.head()"
   ]
  },
  {
   "cell_type": "code",
   "execution_count": 180,
   "metadata": {
    "ExecuteTime": {
     "end_time": "2020-11-12T10:41:21.696087Z",
     "start_time": "2020-11-12T10:41:21.673506Z"
    }
   },
   "outputs": [
    {
     "data": {
      "text/plain": [
       "Row_ID                  0\n",
       "Application             0\n",
       "Device                  0\n",
       "Launch_Year             0\n",
       "Domain                  0\n",
       "Developer_comapny       0\n",
       "Indian_Sales            0\n",
       "China_Sales             0\n",
       "Korea_Sales             0\n",
       "Other_Sales             0\n",
       "ScorebyCritic        1377\n",
       "No_ofCritics         1377\n",
       "ScorebyUser          1138\n",
       "No_ofUsers           1444\n",
       "Developer            1117\n",
       "Overall_Rating       1155\n",
       "dtype: int64"
      ]
     },
     "execution_count": 180,
     "metadata": {},
     "output_type": "execute_result"
    }
   ],
   "source": [
    "df1.isna().sum()"
   ]
  },
  {
   "cell_type": "code",
   "execution_count": 179,
   "metadata": {
    "ExecuteTime": {
     "end_time": "2020-11-12T10:41:16.929005Z",
     "start_time": "2020-11-12T10:41:16.903622Z"
    }
   },
   "outputs": [],
   "source": [
    "### Imputing Launch year null values with median and Developer company with mode   \n",
    "df1[\"Launch_Year\"].fillna(df1[\"Launch_Year\"].median(),inplace = True)\n",
    "df1[\"Developer_comapny\"].fillna(df1[\"Developer_comapny\"].mode()[0],inplace = True)  "
   ]
  },
  {
   "cell_type": "code",
   "execution_count": 182,
   "metadata": {
    "ExecuteTime": {
     "end_time": "2020-11-12T10:42:49.127694Z",
     "start_time": "2020-11-12T10:42:49.119309Z"
    }
   },
   "outputs": [],
   "source": [
    "df1 = df1.iloc[:,0:-6]"
   ]
  },
  {
   "cell_type": "code",
   "execution_count": 183,
   "metadata": {
    "ExecuteTime": {
     "end_time": "2020-11-12T10:42:58.363253Z",
     "start_time": "2020-11-12T10:42:58.319930Z"
    }
   },
   "outputs": [
    {
     "data": {
      "text/html": [
       "<div>\n",
       "<style scoped>\n",
       "    .dataframe tbody tr th:only-of-type {\n",
       "        vertical-align: middle;\n",
       "    }\n",
       "\n",
       "    .dataframe tbody tr th {\n",
       "        vertical-align: top;\n",
       "    }\n",
       "\n",
       "    .dataframe thead th {\n",
       "        text-align: right;\n",
       "    }\n",
       "</style>\n",
       "<table border=\"1\" class=\"dataframe\">\n",
       "  <thead>\n",
       "    <tr style=\"text-align: right;\">\n",
       "      <th></th>\n",
       "      <th>Row_ID</th>\n",
       "      <th>Application</th>\n",
       "      <th>Device</th>\n",
       "      <th>Launch_Year</th>\n",
       "      <th>Domain</th>\n",
       "      <th>Developer_comapny</th>\n",
       "      <th>Indian_Sales</th>\n",
       "      <th>China_Sales</th>\n",
       "      <th>Korea_Sales</th>\n",
       "      <th>Other_Sales</th>\n",
       "    </tr>\n",
       "  </thead>\n",
       "  <tbody>\n",
       "    <tr>\n",
       "      <th>0</th>\n",
       "      <td>0</td>\n",
       "      <td>ZooCube</td>\n",
       "      <td>GC</td>\n",
       "      <td>2002.0</td>\n",
       "      <td>Puzzle</td>\n",
       "      <td>Acclaim Entertainment</td>\n",
       "      <td>0.02</td>\n",
       "      <td>0.00</td>\n",
       "      <td>0.00</td>\n",
       "      <td>0.0</td>\n",
       "    </tr>\n",
       "    <tr>\n",
       "      <th>1</th>\n",
       "      <td>1</td>\n",
       "      <td>GRID Autosport</td>\n",
       "      <td>PC</td>\n",
       "      <td>2014.0</td>\n",
       "      <td>Racing</td>\n",
       "      <td>Codemasters</td>\n",
       "      <td>0.00</td>\n",
       "      <td>0.02</td>\n",
       "      <td>0.00</td>\n",
       "      <td>0.0</td>\n",
       "    </tr>\n",
       "    <tr>\n",
       "      <th>2</th>\n",
       "      <td>2</td>\n",
       "      <td>Spy Hunter / Super Sprint</td>\n",
       "      <td>GBA</td>\n",
       "      <td>2005.0</td>\n",
       "      <td>Racing</td>\n",
       "      <td>Zoo Digital Publishing</td>\n",
       "      <td>0.02</td>\n",
       "      <td>0.01</td>\n",
       "      <td>0.00</td>\n",
       "      <td>0.0</td>\n",
       "    </tr>\n",
       "    <tr>\n",
       "      <th>3</th>\n",
       "      <td>3</td>\n",
       "      <td>Demon Gaze 2</td>\n",
       "      <td>PSV</td>\n",
       "      <td>2014.0</td>\n",
       "      <td>Role-Playing</td>\n",
       "      <td>Experience Inc.</td>\n",
       "      <td>0.00</td>\n",
       "      <td>0.00</td>\n",
       "      <td>0.02</td>\n",
       "      <td>0.0</td>\n",
       "    </tr>\n",
       "    <tr>\n",
       "      <th>4</th>\n",
       "      <td>4</td>\n",
       "      <td>Clover no Kuni no Alice: Wonderful Wonder World</td>\n",
       "      <td>PS2</td>\n",
       "      <td>2010.0</td>\n",
       "      <td>Adventure</td>\n",
       "      <td>Prototype</td>\n",
       "      <td>0.00</td>\n",
       "      <td>0.00</td>\n",
       "      <td>0.02</td>\n",
       "      <td>0.0</td>\n",
       "    </tr>\n",
       "  </tbody>\n",
       "</table>\n",
       "</div>"
      ],
      "text/plain": [
       "   Row_ID                                      Application Device  \\\n",
       "0       0                                          ZooCube     GC   \n",
       "1       1                                   GRID Autosport     PC   \n",
       "2       2                        Spy Hunter / Super Sprint    GBA   \n",
       "3       3                                     Demon Gaze 2    PSV   \n",
       "4       4  Clover no Kuni no Alice: Wonderful Wonder World    PS2   \n",
       "\n",
       "   Launch_Year        Domain       Developer_comapny  Indian_Sales  \\\n",
       "0       2002.0        Puzzle   Acclaim Entertainment          0.02   \n",
       "1       2014.0        Racing             Codemasters          0.00   \n",
       "2       2005.0        Racing  Zoo Digital Publishing          0.02   \n",
       "3       2014.0  Role-Playing         Experience Inc.          0.00   \n",
       "4       2010.0     Adventure               Prototype          0.00   \n",
       "\n",
       "   China_Sales  Korea_Sales  Other_Sales  \n",
       "0         0.00         0.00          0.0  \n",
       "1         0.02         0.00          0.0  \n",
       "2         0.01         0.00          0.0  \n",
       "3         0.00         0.02          0.0  \n",
       "4         0.00         0.02          0.0  "
      ]
     },
     "execution_count": 183,
     "metadata": {},
     "output_type": "execute_result"
    }
   ],
   "source": [
    "df1.head()"
   ]
  },
  {
   "cell_type": "code",
   "execution_count": 184,
   "metadata": {
    "ExecuteTime": {
     "end_time": "2020-11-12T10:44:59.637765Z",
     "start_time": "2020-11-12T10:44:59.613840Z"
    }
   },
   "outputs": [
    {
     "data": {
      "text/plain": [
       "2018"
      ]
     },
     "execution_count": 184,
     "metadata": {},
     "output_type": "execute_result"
    }
   ],
   "source": [
    "len(df1)"
   ]
  },
  {
   "cell_type": "code",
   "execution_count": 215,
   "metadata": {
    "ExecuteTime": {
     "end_time": "2020-11-12T11:14:42.155464Z",
     "start_time": "2020-11-12T11:14:42.111798Z"
    }
   },
   "outputs": [],
   "source": [
    "for i in range(4):\n",
    "    df1[df1.select_dtypes(\"object\").columns[i]+\"_New\"] =le.fit_transform(df1.select_dtypes(\"object\").iloc[:,i])"
   ]
  },
  {
   "cell_type": "code",
   "execution_count": 216,
   "metadata": {
    "ExecuteTime": {
     "end_time": "2020-11-12T11:14:42.303529Z",
     "start_time": "2020-11-12T11:14:42.282711Z"
    }
   },
   "outputs": [],
   "source": [
    "df1 = df1.reindex(columns = ['Row_ID', 'Application', 'Device', 'Launch_Year', 'Domain',\n",
    "       'Developer_comapny', 'Application_New', 'Device_New',\n",
    "       'Domain_New', 'Developer_comapny_New' ,'Indian_Sales', 'China_Sales', 'Korea_Sales',\n",
    "       'Other_Sales'])"
   ]
  },
  {
   "cell_type": "code",
   "execution_count": 217,
   "metadata": {
    "ExecuteTime": {
     "end_time": "2020-11-12T11:14:42.851959Z",
     "start_time": "2020-11-12T11:14:42.809397Z"
    }
   },
   "outputs": [
    {
     "data": {
      "text/html": [
       "<div>\n",
       "<style scoped>\n",
       "    .dataframe tbody tr th:only-of-type {\n",
       "        vertical-align: middle;\n",
       "    }\n",
       "\n",
       "    .dataframe tbody tr th {\n",
       "        vertical-align: top;\n",
       "    }\n",
       "\n",
       "    .dataframe thead th {\n",
       "        text-align: right;\n",
       "    }\n",
       "</style>\n",
       "<table border=\"1\" class=\"dataframe\">\n",
       "  <thead>\n",
       "    <tr style=\"text-align: right;\">\n",
       "      <th></th>\n",
       "      <th>Row_ID</th>\n",
       "      <th>Application</th>\n",
       "      <th>Device</th>\n",
       "      <th>Launch_Year</th>\n",
       "      <th>Domain</th>\n",
       "      <th>Developer_comapny</th>\n",
       "      <th>Application_New</th>\n",
       "      <th>Device_New</th>\n",
       "      <th>Domain_New</th>\n",
       "      <th>Developer_comapny_New</th>\n",
       "      <th>Indian_Sales</th>\n",
       "      <th>China_Sales</th>\n",
       "      <th>Korea_Sales</th>\n",
       "      <th>Other_Sales</th>\n",
       "    </tr>\n",
       "  </thead>\n",
       "  <tbody>\n",
       "    <tr>\n",
       "      <th>0</th>\n",
       "      <td>0</td>\n",
       "      <td>ZooCube</td>\n",
       "      <td>GC</td>\n",
       "      <td>2002.0</td>\n",
       "      <td>Puzzle</td>\n",
       "      <td>Acclaim Entertainment</td>\n",
       "      <td>1901</td>\n",
       "      <td>7</td>\n",
       "      <td>5</td>\n",
       "      <td>9</td>\n",
       "      <td>0.02</td>\n",
       "      <td>0.00</td>\n",
       "      <td>0.00</td>\n",
       "      <td>0.0</td>\n",
       "    </tr>\n",
       "    <tr>\n",
       "      <th>1</th>\n",
       "      <td>1</td>\n",
       "      <td>GRID Autosport</td>\n",
       "      <td>PC</td>\n",
       "      <td>2014.0</td>\n",
       "      <td>Racing</td>\n",
       "      <td>Codemasters</td>\n",
       "      <td>526</td>\n",
       "      <td>12</td>\n",
       "      <td>6</td>\n",
       "      <td>54</td>\n",
       "      <td>0.00</td>\n",
       "      <td>0.02</td>\n",
       "      <td>0.00</td>\n",
       "      <td>0.0</td>\n",
       "    </tr>\n",
       "    <tr>\n",
       "      <th>2</th>\n",
       "      <td>2</td>\n",
       "      <td>Spy Hunter / Super Sprint</td>\n",
       "      <td>GBA</td>\n",
       "      <td>2005.0</td>\n",
       "      <td>Racing</td>\n",
       "      <td>Zoo Digital Publishing</td>\n",
       "      <td>1486</td>\n",
       "      <td>6</td>\n",
       "      <td>6</td>\n",
       "      <td>315</td>\n",
       "      <td>0.02</td>\n",
       "      <td>0.01</td>\n",
       "      <td>0.00</td>\n",
       "      <td>0.0</td>\n",
       "    </tr>\n",
       "    <tr>\n",
       "      <th>3</th>\n",
       "      <td>3</td>\n",
       "      <td>Demon Gaze 2</td>\n",
       "      <td>PSV</td>\n",
       "      <td>2014.0</td>\n",
       "      <td>Role-Playing</td>\n",
       "      <td>Experience Inc.</td>\n",
       "      <td>321</td>\n",
       "      <td>18</td>\n",
       "      <td>7</td>\n",
       "      <td>92</td>\n",
       "      <td>0.00</td>\n",
       "      <td>0.00</td>\n",
       "      <td>0.02</td>\n",
       "      <td>0.0</td>\n",
       "    </tr>\n",
       "    <tr>\n",
       "      <th>4</th>\n",
       "      <td>4</td>\n",
       "      <td>Clover no Kuni no Alice: Wonderful Wonder World</td>\n",
       "      <td>PS2</td>\n",
       "      <td>2010.0</td>\n",
       "      <td>Adventure</td>\n",
       "      <td>Prototype</td>\n",
       "      <td>240</td>\n",
       "      <td>14</td>\n",
       "      <td>1</td>\n",
       "      <td>236</td>\n",
       "      <td>0.00</td>\n",
       "      <td>0.00</td>\n",
       "      <td>0.02</td>\n",
       "      <td>0.0</td>\n",
       "    </tr>\n",
       "  </tbody>\n",
       "</table>\n",
       "</div>"
      ],
      "text/plain": [
       "   Row_ID                                      Application Device  \\\n",
       "0       0                                          ZooCube     GC   \n",
       "1       1                                   GRID Autosport     PC   \n",
       "2       2                        Spy Hunter / Super Sprint    GBA   \n",
       "3       3                                     Demon Gaze 2    PSV   \n",
       "4       4  Clover no Kuni no Alice: Wonderful Wonder World    PS2   \n",
       "\n",
       "   Launch_Year        Domain       Developer_comapny  Application_New  \\\n",
       "0       2002.0        Puzzle   Acclaim Entertainment             1901   \n",
       "1       2014.0        Racing             Codemasters              526   \n",
       "2       2005.0        Racing  Zoo Digital Publishing             1486   \n",
       "3       2014.0  Role-Playing         Experience Inc.              321   \n",
       "4       2010.0     Adventure               Prototype              240   \n",
       "\n",
       "   Device_New  Domain_New  Developer_comapny_New  Indian_Sales  China_Sales  \\\n",
       "0           7           5                      9          0.02         0.00   \n",
       "1          12           6                     54          0.00         0.02   \n",
       "2           6           6                    315          0.02         0.01   \n",
       "3          18           7                     92          0.00         0.00   \n",
       "4          14           1                    236          0.00         0.00   \n",
       "\n",
       "   Korea_Sales  Other_Sales  \n",
       "0         0.00          0.0  \n",
       "1         0.00          0.0  \n",
       "2         0.00          0.0  \n",
       "3         0.02          0.0  \n",
       "4         0.02          0.0  "
      ]
     },
     "execution_count": 217,
     "metadata": {},
     "output_type": "execute_result"
    }
   ],
   "source": [
    "df1.head()"
   ]
  },
  {
   "cell_type": "code",
   "execution_count": 233,
   "metadata": {
    "ExecuteTime": {
     "end_time": "2020-11-12T11:22:25.170990Z",
     "start_time": "2020-11-12T11:22:25.144660Z"
    }
   },
   "outputs": [],
   "source": [
    "X = df.drop(df.iloc[:,[1,2,4,5,-1]],axis=1)\n",
    "Y = df.drop(df.iloc[:,:-1],axis=1)"
   ]
  },
  {
   "cell_type": "code",
   "execution_count": 241,
   "metadata": {
    "ExecuteTime": {
     "end_time": "2020-11-12T11:26:20.024890Z",
     "start_time": "2020-11-12T11:26:19.954619Z"
    }
   },
   "outputs": [
    {
     "data": {
      "text/html": [
       "<div>\n",
       "<style scoped>\n",
       "    .dataframe tbody tr th:only-of-type {\n",
       "        vertical-align: middle;\n",
       "    }\n",
       "\n",
       "    .dataframe tbody tr th {\n",
       "        vertical-align: top;\n",
       "    }\n",
       "\n",
       "    .dataframe thead th {\n",
       "        text-align: right;\n",
       "    }\n",
       "</style>\n",
       "<table border=\"1\" class=\"dataframe\">\n",
       "  <thead>\n",
       "    <tr style=\"text-align: right;\">\n",
       "      <th></th>\n",
       "      <th>Row_ID</th>\n",
       "      <th>Launch_Year</th>\n",
       "      <th>Application_New</th>\n",
       "      <th>Device_New</th>\n",
       "      <th>Domain_New</th>\n",
       "      <th>Developer_comapny_New</th>\n",
       "      <th>Indian_Sales</th>\n",
       "      <th>China_Sales</th>\n",
       "      <th>Korea_Sales</th>\n",
       "      <th>Other_Sales</th>\n",
       "    </tr>\n",
       "  </thead>\n",
       "  <tbody>\n",
       "    <tr>\n",
       "      <th>count</th>\n",
       "      <td>2018.000000</td>\n",
       "      <td>2018.000000</td>\n",
       "      <td>2018.000000</td>\n",
       "      <td>2018.000000</td>\n",
       "      <td>2018.000000</td>\n",
       "      <td>2018.000000</td>\n",
       "      <td>2018.000000</td>\n",
       "      <td>2018.000000</td>\n",
       "      <td>2018.000000</td>\n",
       "      <td>2018.000000</td>\n",
       "    </tr>\n",
       "    <tr>\n",
       "      <th>mean</th>\n",
       "      <td>1008.500000</td>\n",
       "      <td>2008.435580</td>\n",
       "      <td>949.606541</td>\n",
       "      <td>13.807730</td>\n",
       "      <td>4.430624</td>\n",
       "      <td>162.052527</td>\n",
       "      <td>0.213672</td>\n",
       "      <td>0.127874</td>\n",
       "      <td>0.067914</td>\n",
       "      <td>0.040674</td>\n",
       "    </tr>\n",
       "    <tr>\n",
       "      <th>std</th>\n",
       "      <td>582.690741</td>\n",
       "      <td>4.987546</td>\n",
       "      <td>554.489824</td>\n",
       "      <td>6.653526</td>\n",
       "      <td>3.790680</td>\n",
       "      <td>96.462951</td>\n",
       "      <td>1.280601</td>\n",
       "      <td>0.769046</td>\n",
       "      <td>0.453811</td>\n",
       "      <td>0.323642</td>\n",
       "    </tr>\n",
       "    <tr>\n",
       "      <th>min</th>\n",
       "      <td>0.000000</td>\n",
       "      <td>1980.000000</td>\n",
       "      <td>0.000000</td>\n",
       "      <td>0.000000</td>\n",
       "      <td>0.000000</td>\n",
       "      <td>0.000000</td>\n",
       "      <td>0.000000</td>\n",
       "      <td>0.000000</td>\n",
       "      <td>0.000000</td>\n",
       "      <td>0.000000</td>\n",
       "    </tr>\n",
       "    <tr>\n",
       "      <th>25%</th>\n",
       "      <td>504.250000</td>\n",
       "      <td>2006.000000</td>\n",
       "      <td>467.250000</td>\n",
       "      <td>9.250000</td>\n",
       "      <td>1.000000</td>\n",
       "      <td>75.000000</td>\n",
       "      <td>0.000000</td>\n",
       "      <td>0.000000</td>\n",
       "      <td>0.000000</td>\n",
       "      <td>0.000000</td>\n",
       "    </tr>\n",
       "    <tr>\n",
       "      <th>50%</th>\n",
       "      <td>1008.500000</td>\n",
       "      <td>2009.000000</td>\n",
       "      <td>947.500000</td>\n",
       "      <td>14.000000</td>\n",
       "      <td>3.000000</td>\n",
       "      <td>158.000000</td>\n",
       "      <td>0.000000</td>\n",
       "      <td>0.000000</td>\n",
       "      <td>0.000000</td>\n",
       "      <td>0.000000</td>\n",
       "    </tr>\n",
       "    <tr>\n",
       "      <th>75%</th>\n",
       "      <td>1512.750000</td>\n",
       "      <td>2012.000000</td>\n",
       "      <td>1426.750000</td>\n",
       "      <td>18.000000</td>\n",
       "      <td>8.000000</td>\n",
       "      <td>254.000000</td>\n",
       "      <td>0.010000</td>\n",
       "      <td>0.010000</td>\n",
       "      <td>0.020000</td>\n",
       "      <td>0.000000</td>\n",
       "    </tr>\n",
       "    <tr>\n",
       "      <th>max</th>\n",
       "      <td>2017.000000</td>\n",
       "      <td>2017.000000</td>\n",
       "      <td>1908.000000</td>\n",
       "      <td>26.000000</td>\n",
       "      <td>11.000000</td>\n",
       "      <td>320.000000</td>\n",
       "      <td>26.930000</td>\n",
       "      <td>10.950000</td>\n",
       "      <td>7.200000</td>\n",
       "      <td>10.570000</td>\n",
       "    </tr>\n",
       "  </tbody>\n",
       "</table>\n",
       "</div>"
      ],
      "text/plain": [
       "            Row_ID  Launch_Year  Application_New   Device_New   Domain_New  \\\n",
       "count  2018.000000  2018.000000      2018.000000  2018.000000  2018.000000   \n",
       "mean   1008.500000  2008.435580       949.606541    13.807730     4.430624   \n",
       "std     582.690741     4.987546       554.489824     6.653526     3.790680   \n",
       "min       0.000000  1980.000000         0.000000     0.000000     0.000000   \n",
       "25%     504.250000  2006.000000       467.250000     9.250000     1.000000   \n",
       "50%    1008.500000  2009.000000       947.500000    14.000000     3.000000   \n",
       "75%    1512.750000  2012.000000      1426.750000    18.000000     8.000000   \n",
       "max    2017.000000  2017.000000      1908.000000    26.000000    11.000000   \n",
       "\n",
       "       Developer_comapny_New  Indian_Sales  China_Sales  Korea_Sales  \\\n",
       "count            2018.000000   2018.000000  2018.000000  2018.000000   \n",
       "mean              162.052527      0.213672     0.127874     0.067914   \n",
       "std                96.462951      1.280601     0.769046     0.453811   \n",
       "min                 0.000000      0.000000     0.000000     0.000000   \n",
       "25%                75.000000      0.000000     0.000000     0.000000   \n",
       "50%               158.000000      0.000000     0.000000     0.000000   \n",
       "75%               254.000000      0.010000     0.010000     0.020000   \n",
       "max               320.000000     26.930000    10.950000     7.200000   \n",
       "\n",
       "       Other_Sales  \n",
       "count  2018.000000  \n",
       "mean      0.040674  \n",
       "std       0.323642  \n",
       "min       0.000000  \n",
       "25%       0.000000  \n",
       "50%       0.000000  \n",
       "75%       0.000000  \n",
       "max      10.570000  "
      ]
     },
     "execution_count": 241,
     "metadata": {},
     "output_type": "execute_result"
    }
   ],
   "source": [
    "df1.drop(df1.iloc[:,[1,2,4,5]],axis=1)"
   ]
  },
  {
   "cell_type": "code",
   "execution_count": 227,
   "metadata": {
    "ExecuteTime": {
     "end_time": "2020-11-12T11:20:05.171305Z",
     "start_time": "2020-11-12T11:20:05.152917Z"
    }
   },
   "outputs": [],
   "source": [
    "from sklearn.linear_model import LinearRegression"
   ]
  },
  {
   "cell_type": "code",
   "execution_count": 229,
   "metadata": {
    "ExecuteTime": {
     "end_time": "2020-11-12T11:20:18.307374Z",
     "start_time": "2020-11-12T11:20:18.296405Z"
    }
   },
   "outputs": [],
   "source": [
    "lr = LinearRegression()"
   ]
  },
  {
   "cell_type": "code",
   "execution_count": 234,
   "metadata": {
    "ExecuteTime": {
     "end_time": "2020-11-12T11:22:38.734696Z",
     "start_time": "2020-11-12T11:22:37.528728Z"
    }
   },
   "outputs": [
    {
     "data": {
      "text/plain": [
       "LinearRegression()"
      ]
     },
     "execution_count": 234,
     "metadata": {},
     "output_type": "execute_result"
    }
   ],
   "source": [
    "lr.fit(X,Y)"
   ]
  },
  {
   "cell_type": "code",
   "execution_count": 248,
   "metadata": {
    "ExecuteTime": {
     "end_time": "2020-11-12T11:31:05.249966Z",
     "start_time": "2020-11-12T11:31:05.224331Z"
    }
   },
   "outputs": [],
   "source": [
    "lr_predict = pd.DataFrame(lr.predict(df1.drop(df1.iloc[:,[1,2,4,5]],axis=1)))"
   ]
  },
  {
   "cell_type": "code",
   "execution_count": 251,
   "metadata": {
    "ExecuteTime": {
     "end_time": "2020-11-12T11:32:07.404472Z",
     "start_time": "2020-11-12T11:32:07.375890Z"
    }
   },
   "outputs": [
    {
     "data": {
      "text/html": [
       "<div>\n",
       "<style scoped>\n",
       "    .dataframe tbody tr th:only-of-type {\n",
       "        vertical-align: middle;\n",
       "    }\n",
       "\n",
       "    .dataframe tbody tr th {\n",
       "        vertical-align: top;\n",
       "    }\n",
       "\n",
       "    .dataframe thead th {\n",
       "        text-align: right;\n",
       "    }\n",
       "</style>\n",
       "<table border=\"1\" class=\"dataframe\">\n",
       "  <thead>\n",
       "    <tr style=\"text-align: right;\">\n",
       "      <th></th>\n",
       "      <th>0</th>\n",
       "    </tr>\n",
       "  </thead>\n",
       "  <tbody>\n",
       "    <tr>\n",
       "      <th>0</th>\n",
       "      <td>0.019767</td>\n",
       "    </tr>\n",
       "    <tr>\n",
       "      <th>1</th>\n",
       "      <td>0.019514</td>\n",
       "    </tr>\n",
       "    <tr>\n",
       "      <th>2</th>\n",
       "      <td>0.029524</td>\n",
       "    </tr>\n",
       "    <tr>\n",
       "      <th>3</th>\n",
       "      <td>0.019491</td>\n",
       "    </tr>\n",
       "    <tr>\n",
       "      <th>4</th>\n",
       "      <td>0.019493</td>\n",
       "    </tr>\n",
       "    <tr>\n",
       "      <th>...</th>\n",
       "      <td>...</td>\n",
       "    </tr>\n",
       "    <tr>\n",
       "      <th>2013</th>\n",
       "      <td>0.139699</td>\n",
       "    </tr>\n",
       "    <tr>\n",
       "      <th>2014</th>\n",
       "      <td>0.129657</td>\n",
       "    </tr>\n",
       "    <tr>\n",
       "      <th>2015</th>\n",
       "      <td>0.129848</td>\n",
       "    </tr>\n",
       "    <tr>\n",
       "      <th>2016</th>\n",
       "      <td>0.129643</td>\n",
       "    </tr>\n",
       "    <tr>\n",
       "      <th>2017</th>\n",
       "      <td>0.129617</td>\n",
       "    </tr>\n",
       "  </tbody>\n",
       "</table>\n",
       "<p>2018 rows × 1 columns</p>\n",
       "</div>"
      ],
      "text/plain": [
       "             0\n",
       "0     0.019767\n",
       "1     0.019514\n",
       "2     0.029524\n",
       "3     0.019491\n",
       "4     0.019493\n",
       "...        ...\n",
       "2013  0.139699\n",
       "2014  0.129657\n",
       "2015  0.129848\n",
       "2016  0.129643\n",
       "2017  0.129617\n",
       "\n",
       "[2018 rows x 1 columns]"
      ]
     },
     "execution_count": 251,
     "metadata": {},
     "output_type": "execute_result"
    }
   ],
   "source": [
    "lr_predict"
   ]
  },
  {
   "cell_type": "code",
   "execution_count": 267,
   "metadata": {
    "ExecuteTime": {
     "end_time": "2020-11-12T11:39:37.354795Z",
     "start_time": "2020-11-12T11:39:37.158699Z"
    }
   },
   "outputs": [],
   "source": [
    "global_sales = pd.DataFrame(columns=[\"Row_ID\",\"Global_Sales\"])\n",
    "global_sales[\"Row_ID\"] =df1.iloc[:,0]\n",
    "global_sales[\"Global_Sales\"] =lr_predict[0]\n",
    "global_sales.to_csv(\"D:\\\\Skillenza_Bootcamp\\\\ML Level2\\\\Problem1\\\\global_sales.csv\")"
   ]
  },
  {
   "cell_type": "code",
   "execution_count": 268,
   "metadata": {
    "ExecuteTime": {
     "end_time": "2020-11-12T12:16:28.527476Z",
     "start_time": "2020-11-12T12:16:28.520495Z"
    }
   },
   "outputs": [],
   "source": [
    "from sklearn import tree\n",
    "dt = tree.DecisionTreeRegressor()"
   ]
  },
  {
   "cell_type": "code",
   "execution_count": 269,
   "metadata": {
    "ExecuteTime": {
     "end_time": "2020-11-12T12:16:38.643559Z",
     "start_time": "2020-11-12T12:16:38.514903Z"
    }
   },
   "outputs": [
    {
     "data": {
      "text/plain": [
       "DecisionTreeRegressor()"
      ]
     },
     "execution_count": 269,
     "metadata": {},
     "output_type": "execute_result"
    }
   ],
   "source": [
    "dt.fit(X,Y)"
   ]
  },
  {
   "cell_type": "code",
   "execution_count": 275,
   "metadata": {
    "ExecuteTime": {
     "end_time": "2020-11-12T12:20:10.414081Z",
     "start_time": "2020-11-12T12:20:10.379175Z"
    }
   },
   "outputs": [
    {
     "data": {
      "text/html": [
       "<div>\n",
       "<style scoped>\n",
       "    .dataframe tbody tr th:only-of-type {\n",
       "        vertical-align: middle;\n",
       "    }\n",
       "\n",
       "    .dataframe tbody tr th {\n",
       "        vertical-align: top;\n",
       "    }\n",
       "\n",
       "    .dataframe thead th {\n",
       "        text-align: right;\n",
       "    }\n",
       "</style>\n",
       "<table border=\"1\" class=\"dataframe\">\n",
       "  <thead>\n",
       "    <tr style=\"text-align: right;\">\n",
       "      <th></th>\n",
       "      <th>0</th>\n",
       "    </tr>\n",
       "  </thead>\n",
       "  <tbody>\n",
       "    <tr>\n",
       "      <th>count</th>\n",
       "      <td>2018.000000</td>\n",
       "    </tr>\n",
       "    <tr>\n",
       "      <th>mean</th>\n",
       "      <td>2.475674</td>\n",
       "    </tr>\n",
       "    <tr>\n",
       "      <th>std</th>\n",
       "      <td>2.590186</td>\n",
       "    </tr>\n",
       "    <tr>\n",
       "      <th>min</th>\n",
       "      <td>1.010000</td>\n",
       "    </tr>\n",
       "    <tr>\n",
       "      <th>25%</th>\n",
       "      <td>1.270000</td>\n",
       "    </tr>\n",
       "    <tr>\n",
       "      <th>50%</th>\n",
       "      <td>1.710000</td>\n",
       "    </tr>\n",
       "    <tr>\n",
       "      <th>75%</th>\n",
       "      <td>2.770000</td>\n",
       "    </tr>\n",
       "    <tr>\n",
       "      <th>max</th>\n",
       "      <td>40.240000</td>\n",
       "    </tr>\n",
       "  </tbody>\n",
       "</table>\n",
       "</div>"
      ],
      "text/plain": [
       "                 0\n",
       "count  2018.000000\n",
       "mean      2.475674\n",
       "std       2.590186\n",
       "min       1.010000\n",
       "25%       1.270000\n",
       "50%       1.710000\n",
       "75%       2.770000\n",
       "max      40.240000"
      ]
     },
     "execution_count": 275,
     "metadata": {},
     "output_type": "execute_result"
    }
   ],
   "source": [
    "dt_predict = pd.DataFrame(dt.predict(df1.drop(df1.iloc[:,[1,2,4,5]],axis=1)))\n",
    "dt_predict.describe()"
   ]
  },
  {
   "cell_type": "code",
   "execution_count": 272,
   "metadata": {
    "ExecuteTime": {
     "end_time": "2020-11-12T12:18:51.534928Z",
     "start_time": "2020-11-12T12:18:51.499023Z"
    }
   },
   "outputs": [],
   "source": [
    "global_sales1 = pd.DataFrame(columns=[\"Row_ID\",\"Global_Sales\"])\n",
    "global_sales1[\"Row_ID\"] =df1.iloc[:,0]\n",
    "global_sales1[\"Global_Sales\"] =dt_predict[0]\n",
    "global_sales1.to_csv(\"D:\\\\Skillenza_Bootcamp\\\\ML Level2\\\\Problem1\\\\global_sales_dt.csv\")"
   ]
  },
  {
   "cell_type": "code",
   "execution_count": null,
   "metadata": {},
   "outputs": [],
   "source": []
  }
 ],
 "metadata": {
  "kernelspec": {
   "display_name": "Python 3",
   "language": "python",
   "name": "python3"
  },
  "language_info": {
   "codemirror_mode": {
    "name": "ipython",
    "version": 3
   },
   "file_extension": ".py",
   "mimetype": "text/x-python",
   "name": "python",
   "nbconvert_exporter": "python",
   "pygments_lexer": "ipython3",
   "version": "3.7.6"
  }
 },
 "nbformat": 4,
 "nbformat_minor": 4
}
