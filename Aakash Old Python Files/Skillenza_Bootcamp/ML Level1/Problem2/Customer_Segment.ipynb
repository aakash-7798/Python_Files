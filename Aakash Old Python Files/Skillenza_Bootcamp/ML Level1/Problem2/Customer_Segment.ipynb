{
 "cells": [
  {
   "cell_type": "code",
   "execution_count": 1,
   "metadata": {
    "ExecuteTime": {
     "end_time": "2020-11-18T16:23:49.889209Z",
     "start_time": "2020-11-18T16:23:49.392718Z"
    }
   },
   "outputs": [],
   "source": [
    "import pandas as pd"
   ]
  },
  {
   "cell_type": "code",
   "execution_count": 2,
   "metadata": {
    "ExecuteTime": {
     "end_time": "2020-11-18T16:23:49.951882Z",
     "start_time": "2020-11-18T16:23:49.934960Z"
    }
   },
   "outputs": [],
   "source": [
    "df = pd.read_csv(\"data.csv\")"
   ]
  },
  {
   "cell_type": "code",
   "execution_count": 3,
   "metadata": {
    "ExecuteTime": {
     "end_time": "2020-11-18T16:23:50.571998Z",
     "start_time": "2020-11-18T16:23:50.535066Z"
    }
   },
   "outputs": [
    {
     "data": {
      "text/html": [
       "<div>\n",
       "<style scoped>\n",
       "    .dataframe tbody tr th:only-of-type {\n",
       "        vertical-align: middle;\n",
       "    }\n",
       "\n",
       "    .dataframe tbody tr th {\n",
       "        vertical-align: top;\n",
       "    }\n",
       "\n",
       "    .dataframe thead th {\n",
       "        text-align: right;\n",
       "    }\n",
       "</style>\n",
       "<table border=\"1\" class=\"dataframe\">\n",
       "  <thead>\n",
       "    <tr style=\"text-align: right;\">\n",
       "      <th></th>\n",
       "      <th>Person_ID</th>\n",
       "      <th>Own_House</th>\n",
       "      <th>Own_vehicle</th>\n",
       "      <th>Monthly_Salary</th>\n",
       "      <th>Standard_Savings</th>\n",
       "      <th>Bank_Debts</th>\n",
       "      <th>Name</th>\n",
       "      <th>Area</th>\n",
       "    </tr>\n",
       "  </thead>\n",
       "  <tbody>\n",
       "    <tr>\n",
       "      <th>0</th>\n",
       "      <td>1</td>\n",
       "      <td>0</td>\n",
       "      <td>1</td>\n",
       "      <td>66278</td>\n",
       "      <td>3989</td>\n",
       "      <td>1</td>\n",
       "      <td>Con</td>\n",
       "      <td>Shenavan</td>\n",
       "    </tr>\n",
       "    <tr>\n",
       "      <th>1</th>\n",
       "      <td>2</td>\n",
       "      <td>0</td>\n",
       "      <td>0</td>\n",
       "      <td>64701</td>\n",
       "      <td>7076</td>\n",
       "      <td>1</td>\n",
       "      <td>Alphonso</td>\n",
       "      <td>Shubenka</td>\n",
       "    </tr>\n",
       "    <tr>\n",
       "      <th>2</th>\n",
       "      <td>3</td>\n",
       "      <td>1</td>\n",
       "      <td>1</td>\n",
       "      <td>28045</td>\n",
       "      <td>5659</td>\n",
       "      <td>1</td>\n",
       "      <td>Bordy</td>\n",
       "      <td>Chowṉêy</td>\n",
       "    </tr>\n",
       "    <tr>\n",
       "      <th>3</th>\n",
       "      <td>4</td>\n",
       "      <td>0</td>\n",
       "      <td>0</td>\n",
       "      <td>21690</td>\n",
       "      <td>6314</td>\n",
       "      <td>0</td>\n",
       "      <td>Margot</td>\n",
       "      <td>Pakxong</td>\n",
       "    </tr>\n",
       "    <tr>\n",
       "      <th>4</th>\n",
       "      <td>5</td>\n",
       "      <td>0</td>\n",
       "      <td>0</td>\n",
       "      <td>67479</td>\n",
       "      <td>9894</td>\n",
       "      <td>0</td>\n",
       "      <td>Denice</td>\n",
       "      <td>Ardazubre</td>\n",
       "    </tr>\n",
       "    <tr>\n",
       "      <th>...</th>\n",
       "      <td>...</td>\n",
       "      <td>...</td>\n",
       "      <td>...</td>\n",
       "      <td>...</td>\n",
       "      <td>...</td>\n",
       "      <td>...</td>\n",
       "      <td>...</td>\n",
       "      <td>...</td>\n",
       "    </tr>\n",
       "    <tr>\n",
       "      <th>1995</th>\n",
       "      <td>1996</td>\n",
       "      <td>0</td>\n",
       "      <td>1</td>\n",
       "      <td>54292</td>\n",
       "      <td>1468</td>\n",
       "      <td>1</td>\n",
       "      <td>Mozes</td>\n",
       "      <td>Salaza</td>\n",
       "    </tr>\n",
       "    <tr>\n",
       "      <th>1996</th>\n",
       "      <td>1997</td>\n",
       "      <td>1</td>\n",
       "      <td>0</td>\n",
       "      <td>63079</td>\n",
       "      <td>7574</td>\n",
       "      <td>0</td>\n",
       "      <td>Hally</td>\n",
       "      <td>Danderyd</td>\n",
       "    </tr>\n",
       "    <tr>\n",
       "      <th>1997</th>\n",
       "      <td>1998</td>\n",
       "      <td>1</td>\n",
       "      <td>0</td>\n",
       "      <td>69959</td>\n",
       "      <td>1788</td>\n",
       "      <td>1</td>\n",
       "      <td>Felice</td>\n",
       "      <td>Nowa Ruda</td>\n",
       "    </tr>\n",
       "    <tr>\n",
       "      <th>1998</th>\n",
       "      <td>1999</td>\n",
       "      <td>0</td>\n",
       "      <td>1</td>\n",
       "      <td>70333</td>\n",
       "      <td>7494</td>\n",
       "      <td>0</td>\n",
       "      <td>Issi</td>\n",
       "      <td>Zhangguanying</td>\n",
       "    </tr>\n",
       "    <tr>\n",
       "      <th>1999</th>\n",
       "      <td>2000</td>\n",
       "      <td>0</td>\n",
       "      <td>0</td>\n",
       "      <td>83376</td>\n",
       "      <td>8616</td>\n",
       "      <td>0</td>\n",
       "      <td>Ruby</td>\n",
       "      <td>Canghou</td>\n",
       "    </tr>\n",
       "  </tbody>\n",
       "</table>\n",
       "<p>2000 rows × 8 columns</p>\n",
       "</div>"
      ],
      "text/plain": [
       "      Person_ID  Own_House  Own_vehicle  Monthly_Salary  Standard_Savings  \\\n",
       "0             1          0            1           66278              3989   \n",
       "1             2          0            0           64701              7076   \n",
       "2             3          1            1           28045              5659   \n",
       "3             4          0            0           21690              6314   \n",
       "4             5          0            0           67479              9894   \n",
       "...         ...        ...          ...             ...               ...   \n",
       "1995       1996          0            1           54292              1468   \n",
       "1996       1997          1            0           63079              7574   \n",
       "1997       1998          1            0           69959              1788   \n",
       "1998       1999          0            1           70333              7494   \n",
       "1999       2000          0            0           83376              8616   \n",
       "\n",
       "      Bank_Debts      Name           Area  \n",
       "0              1       Con       Shenavan  \n",
       "1              1  Alphonso       Shubenka  \n",
       "2              1     Bordy        Chowṉêy  \n",
       "3              0    Margot        Pakxong  \n",
       "4              0    Denice      Ardazubre  \n",
       "...          ...       ...            ...  \n",
       "1995           1     Mozes         Salaza  \n",
       "1996           0     Hally       Danderyd  \n",
       "1997           1    Felice      Nowa Ruda  \n",
       "1998           0      Issi  Zhangguanying  \n",
       "1999           0      Ruby        Canghou  \n",
       "\n",
       "[2000 rows x 8 columns]"
      ]
     },
     "execution_count": 3,
     "metadata": {},
     "output_type": "execute_result"
    }
   ],
   "source": [
    "df"
   ]
  },
  {
   "cell_type": "code",
   "execution_count": 4,
   "metadata": {
    "ExecuteTime": {
     "end_time": "2020-11-18T16:23:51.174132Z",
     "start_time": "2020-11-18T16:23:51.158966Z"
    }
   },
   "outputs": [
    {
     "data": {
      "text/plain": [
       "Person_ID            int64\n",
       "Own_House            int64\n",
       "Own_vehicle          int64\n",
       "Monthly_Salary       int64\n",
       "Standard_Savings     int64\n",
       "Bank_Debts           int64\n",
       "Name                object\n",
       "Area                object\n",
       "dtype: object"
      ]
     },
     "execution_count": 4,
     "metadata": {},
     "output_type": "execute_result"
    }
   ],
   "source": [
    "df.dtypes"
   ]
  },
  {
   "cell_type": "code",
   "execution_count": 5,
   "metadata": {
    "ExecuteTime": {
     "end_time": "2020-11-18T16:23:51.740136Z",
     "start_time": "2020-11-18T16:23:51.725176Z"
    }
   },
   "outputs": [
    {
     "data": {
      "text/plain": [
       "Person_ID           0\n",
       "Own_House           0\n",
       "Own_vehicle         0\n",
       "Monthly_Salary      0\n",
       "Standard_Savings    0\n",
       "Bank_Debts          0\n",
       "Name                0\n",
       "Area                0\n",
       "dtype: int64"
      ]
     },
     "execution_count": 5,
     "metadata": {},
     "output_type": "execute_result"
    }
   ],
   "source": [
    "df.isna().sum()"
   ]
  },
  {
   "cell_type": "code",
   "execution_count": 6,
   "metadata": {
    "ExecuteTime": {
     "end_time": "2020-11-18T16:23:52.378850Z",
     "start_time": "2020-11-18T16:23:52.366852Z"
    }
   },
   "outputs": [
    {
     "data": {
      "text/plain": [
       "Index(['Person_ID', 'Own_House', 'Own_vehicle', 'Monthly_Salary',\n",
       "       'Standard_Savings', 'Bank_Debts', 'Name', 'Area'],\n",
       "      dtype='object')"
      ]
     },
     "execution_count": 6,
     "metadata": {},
     "output_type": "execute_result"
    }
   ],
   "source": [
    "df.columns"
   ]
  },
  {
   "cell_type": "code",
   "execution_count": 7,
   "metadata": {
    "ExecuteTime": {
     "end_time": "2020-11-18T16:23:53.750437Z",
     "start_time": "2020-11-18T16:23:53.054111Z"
    }
   },
   "outputs": [],
   "source": [
    "from sklearn.cluster import KMeans"
   ]
  },
  {
   "cell_type": "code",
   "execution_count": 8,
   "metadata": {
    "ExecuteTime": {
     "end_time": "2020-11-18T16:24:17.160582Z",
     "start_time": "2020-11-18T16:24:14.934953Z"
    }
   },
   "outputs": [],
   "source": [
    "sse = []\n",
    "for k in range(1,10):\n",
    "    km = KMeans(n_clusters=k)\n",
    "    km.fit(df[['Person_ID', 'Own_House', 'Own_vehicle', 'Monthly_Salary',\n",
    "       'Standard_Savings', 'Bank_Debts']])\n",
    "    sse.append(km.inertia_)"
   ]
  },
  {
   "cell_type": "code",
   "execution_count": 9,
   "metadata": {
    "ExecuteTime": {
     "end_time": "2020-11-18T16:24:19.900083Z",
     "start_time": "2020-11-18T16:24:19.371593Z"
    }
   },
   "outputs": [
    {
     "data": {
      "text/plain": [
       "[<matplotlib.lines.Line2D at 0x24bf0582c48>]"
      ]
     },
     "execution_count": 9,
     "metadata": {},
     "output_type": "execute_result"
    },
    {
     "data": {
      "image/png": "[encoded data removed]",
      "text/plain": [
       "<Figure size 432x288 with 1 Axes>"
      ]
     },
     "metadata": {
      "needs_background": "light"
     },
     "output_type": "display_data"
    }
   ],
   "source": [
    "import matplotlib.pyplot as plt\n",
    "plt.xlabel('K')\n",
    "plt.ylabel('Sum of squared error')\n",
    "plt.plot(range(1,10),sse)"
   ]
  },
  {
   "cell_type": "code",
   "execution_count": 10,
   "metadata": {
    "ExecuteTime": {
     "end_time": "2020-11-18T16:24:33.690868Z",
     "start_time": "2020-11-18T16:24:33.504519Z"
    }
   },
   "outputs": [
    {
     "data": {
      "text/html": [
       "<div>\n",
       "<style scoped>\n",
       "    .dataframe tbody tr th:only-of-type {\n",
       "        vertical-align: middle;\n",
       "    }\n",
       "\n",
       "    .dataframe tbody tr th {\n",
       "        vertical-align: top;\n",
       "    }\n",
       "\n",
       "    .dataframe thead th {\n",
       "        text-align: right;\n",
       "    }\n",
       "</style>\n",
       "<table border=\"1\" class=\"dataframe\">\n",
       "  <thead>\n",
       "    <tr style=\"text-align: right;\">\n",
       "      <th></th>\n",
       "      <th>Person_ID</th>\n",
       "      <th>Own_House</th>\n",
       "      <th>Own_vehicle</th>\n",
       "      <th>Monthly_Salary</th>\n",
       "      <th>Standard_Savings</th>\n",
       "      <th>Bank_Debts</th>\n",
       "      <th>Name</th>\n",
       "      <th>Area</th>\n",
       "      <th>Groups</th>\n",
       "    </tr>\n",
       "  </thead>\n",
       "  <tbody>\n",
       "    <tr>\n",
       "      <th>0</th>\n",
       "      <td>1</td>\n",
       "      <td>0</td>\n",
       "      <td>1</td>\n",
       "      <td>66278</td>\n",
       "      <td>3989</td>\n",
       "      <td>1</td>\n",
       "      <td>Con</td>\n",
       "      <td>Shenavan</td>\n",
       "      <td>1</td>\n",
       "    </tr>\n",
       "    <tr>\n",
       "      <th>1</th>\n",
       "      <td>2</td>\n",
       "      <td>0</td>\n",
       "      <td>0</td>\n",
       "      <td>64701</td>\n",
       "      <td>7076</td>\n",
       "      <td>1</td>\n",
       "      <td>Alphonso</td>\n",
       "      <td>Shubenka</td>\n",
       "      <td>1</td>\n",
       "    </tr>\n",
       "    <tr>\n",
       "      <th>2</th>\n",
       "      <td>3</td>\n",
       "      <td>1</td>\n",
       "      <td>1</td>\n",
       "      <td>28045</td>\n",
       "      <td>5659</td>\n",
       "      <td>1</td>\n",
       "      <td>Bordy</td>\n",
       "      <td>Chowṉêy</td>\n",
       "      <td>0</td>\n",
       "    </tr>\n",
       "    <tr>\n",
       "      <th>3</th>\n",
       "      <td>4</td>\n",
       "      <td>0</td>\n",
       "      <td>0</td>\n",
       "      <td>21690</td>\n",
       "      <td>6314</td>\n",
       "      <td>0</td>\n",
       "      <td>Margot</td>\n",
       "      <td>Pakxong</td>\n",
       "      <td>0</td>\n",
       "    </tr>\n",
       "    <tr>\n",
       "      <th>4</th>\n",
       "      <td>5</td>\n",
       "      <td>0</td>\n",
       "      <td>0</td>\n",
       "      <td>67479</td>\n",
       "      <td>9894</td>\n",
       "      <td>0</td>\n",
       "      <td>Denice</td>\n",
       "      <td>Ardazubre</td>\n",
       "      <td>1</td>\n",
       "    </tr>\n",
       "    <tr>\n",
       "      <th>...</th>\n",
       "      <td>...</td>\n",
       "      <td>...</td>\n",
       "      <td>...</td>\n",
       "      <td>...</td>\n",
       "      <td>...</td>\n",
       "      <td>...</td>\n",
       "      <td>...</td>\n",
       "      <td>...</td>\n",
       "      <td>...</td>\n",
       "    </tr>\n",
       "    <tr>\n",
       "      <th>1995</th>\n",
       "      <td>1996</td>\n",
       "      <td>0</td>\n",
       "      <td>1</td>\n",
       "      <td>54292</td>\n",
       "      <td>1468</td>\n",
       "      <td>1</td>\n",
       "      <td>Mozes</td>\n",
       "      <td>Salaza</td>\n",
       "      <td>2</td>\n",
       "    </tr>\n",
       "    <tr>\n",
       "      <th>1996</th>\n",
       "      <td>1997</td>\n",
       "      <td>1</td>\n",
       "      <td>0</td>\n",
       "      <td>63079</td>\n",
       "      <td>7574</td>\n",
       "      <td>0</td>\n",
       "      <td>Hally</td>\n",
       "      <td>Danderyd</td>\n",
       "      <td>1</td>\n",
       "    </tr>\n",
       "    <tr>\n",
       "      <th>1997</th>\n",
       "      <td>1998</td>\n",
       "      <td>1</td>\n",
       "      <td>0</td>\n",
       "      <td>69959</td>\n",
       "      <td>1788</td>\n",
       "      <td>1</td>\n",
       "      <td>Felice</td>\n",
       "      <td>Nowa Ruda</td>\n",
       "      <td>1</td>\n",
       "    </tr>\n",
       "    <tr>\n",
       "      <th>1998</th>\n",
       "      <td>1999</td>\n",
       "      <td>0</td>\n",
       "      <td>1</td>\n",
       "      <td>70333</td>\n",
       "      <td>7494</td>\n",
       "      <td>0</td>\n",
       "      <td>Issi</td>\n",
       "      <td>Zhangguanying</td>\n",
       "      <td>1</td>\n",
       "    </tr>\n",
       "    <tr>\n",
       "      <th>1999</th>\n",
       "      <td>2000</td>\n",
       "      <td>0</td>\n",
       "      <td>0</td>\n",
       "      <td>83376</td>\n",
       "      <td>8616</td>\n",
       "      <td>0</td>\n",
       "      <td>Ruby</td>\n",
       "      <td>Canghou</td>\n",
       "      <td>3</td>\n",
       "    </tr>\n",
       "  </tbody>\n",
       "</table>\n",
       "<p>2000 rows × 9 columns</p>\n",
       "</div>"
      ],
      "text/plain": [
       "      Person_ID  Own_House  Own_vehicle  Monthly_Salary  Standard_Savings  \\\n",
       "0             1          0            1           66278              3989   \n",
       "1             2          0            0           64701              7076   \n",
       "2             3          1            1           28045              5659   \n",
       "3             4          0            0           21690              6314   \n",
       "4             5          0            0           67479              9894   \n",
       "...         ...        ...          ...             ...               ...   \n",
       "1995       1996          0            1           54292              1468   \n",
       "1996       1997          1            0           63079              7574   \n",
       "1997       1998          1            0           69959              1788   \n",
       "1998       1999          0            1           70333              7494   \n",
       "1999       2000          0            0           83376              8616   \n",
       "\n",
       "      Bank_Debts      Name           Area  Groups  \n",
       "0              1       Con       Shenavan       1  \n",
       "1              1  Alphonso       Shubenka       1  \n",
       "2              1     Bordy        Chowṉêy       0  \n",
       "3              0    Margot        Pakxong       0  \n",
       "4              0    Denice      Ardazubre       1  \n",
       "...          ...       ...            ...     ...  \n",
       "1995           1     Mozes         Salaza       2  \n",
       "1996           0     Hally       Danderyd       1  \n",
       "1997           1    Felice      Nowa Ruda       1  \n",
       "1998           0      Issi  Zhangguanying       1  \n",
       "1999           0      Ruby        Canghou       3  \n",
       "\n",
       "[2000 rows x 9 columns]"
      ]
     },
     "execution_count": 10,
     "metadata": {},
     "output_type": "execute_result"
    }
   ],
   "source": [
    "KM = KMeans(n_clusters = 4)\n",
    "predict = KM.fit_predict(df[['Person_ID','Own_House', 'Own_vehicle', 'Monthly_Salary','Standard_Savings', 'Bank_Debts']])\n",
    "pd.DataFrame(predict)\n",
    "df[\"Groups\"] = predict\n",
    "df"
   ]
  },
  {
   "cell_type": "code",
   "execution_count": 11,
   "metadata": {
    "ExecuteTime": {
     "end_time": "2020-11-18T16:25:00.764115Z",
     "start_time": "2020-11-18T16:25:00.741176Z"
    }
   },
   "outputs": [],
   "source": [
    "predict = df.loc[:,[\"Person_ID\",\"Groups\"]]\n",
    "predict.to_csv(\"D:\\\\Skillenza_Bootcamp\\\\ML Level1\\\\Problem2\\\\Customer_Segment10.csv\",index = False)"
   ]
  },
  {
   "cell_type": "code",
   "execution_count": 47,
   "metadata": {
    "ExecuteTime": {
     "end_time": "2020-11-18T09:41:14.030876Z",
     "start_time": "2020-11-18T09:41:14.018901Z"
    }
   },
   "outputs": [],
   "source": [
    "from sklearn.preprocessing import MinMaxScaler\n",
    "scaler = MinMaxScaler()"
   ]
  },
  {
   "cell_type": "code",
   "execution_count": 12,
   "metadata": {
    "ExecuteTime": {
     "end_time": "2020-11-18T05:21:55.971378Z",
     "start_time": "2020-11-18T05:21:55.939468Z"
    }
   },
   "outputs": [
    {
     "data": {
      "text/plain": [
       "MinMaxScaler()"
      ]
     },
     "execution_count": 12,
     "metadata": {},
     "output_type": "execute_result"
    }
   ],
   "source": [
    "# scaler.fit(df[['Person_ID']])\n",
    "scaler.fit(df[['Monthly_Salary']])\n",
    "scaler.fit(df[['Standard_Savings']])"
   ]
  },
  {
   "cell_type": "code",
   "execution_count": 13,
   "metadata": {
    "ExecuteTime": {
     "end_time": "2020-11-18T05:21:56.607231Z",
     "start_time": "2020-11-18T05:21:56.571794Z"
    }
   },
   "outputs": [],
   "source": [
    "# df['Person_ID_Scaled'] = scaler.fit_transform(df[['Person_ID']])\n",
    "df['Monthly_Salary_Scaled'] = scaler.fit_transform(df[['Monthly_Salary']])\n",
    "df['Standard_Savings_Scaled'] = scaler.fit_transform(df[['Standard_Savings']])"
   ]
  },
  {
   "cell_type": "code",
   "execution_count": 14,
   "metadata": {
    "ExecuteTime": {
     "end_time": "2020-11-18T05:21:58.231525Z",
     "start_time": "2020-11-18T05:21:58.193203Z"
    }
   },
   "outputs": [
    {
     "data": {
      "text/html": [
       "<div>\n",
       "<style scoped>\n",
       "    .dataframe tbody tr th:only-of-type {\n",
       "        vertical-align: middle;\n",
       "    }\n",
       "\n",
       "    .dataframe tbody tr th {\n",
       "        vertical-align: top;\n",
       "    }\n",
       "\n",
       "    .dataframe thead th {\n",
       "        text-align: right;\n",
       "    }\n",
       "</style>\n",
       "<table border=\"1\" class=\"dataframe\">\n",
       "  <thead>\n",
       "    <tr style=\"text-align: right;\">\n",
       "      <th></th>\n",
       "      <th>Person_ID</th>\n",
       "      <th>Own_House</th>\n",
       "      <th>Own_vehicle</th>\n",
       "      <th>Monthly_Salary</th>\n",
       "      <th>Standard_Savings</th>\n",
       "      <th>Bank_Debts</th>\n",
       "      <th>Name</th>\n",
       "      <th>Area</th>\n",
       "      <th>Monthly_Salary_Scaled</th>\n",
       "      <th>Standard_Savings_Scaled</th>\n",
       "    </tr>\n",
       "  </thead>\n",
       "  <tbody>\n",
       "    <tr>\n",
       "      <th>0</th>\n",
       "      <td>1</td>\n",
       "      <td>0</td>\n",
       "      <td>1</td>\n",
       "      <td>66278</td>\n",
       "      <td>3989</td>\n",
       "      <td>1</td>\n",
       "      <td>Con</td>\n",
       "      <td>Shenavan</td>\n",
       "      <td>0.578453</td>\n",
       "      <td>0.332295</td>\n",
       "    </tr>\n",
       "    <tr>\n",
       "      <th>1</th>\n",
       "      <td>2</td>\n",
       "      <td>0</td>\n",
       "      <td>0</td>\n",
       "      <td>64701</td>\n",
       "      <td>7076</td>\n",
       "      <td>1</td>\n",
       "      <td>Alphonso</td>\n",
       "      <td>Shubenka</td>\n",
       "      <td>0.558738</td>\n",
       "      <td>0.675601</td>\n",
       "    </tr>\n",
       "    <tr>\n",
       "      <th>2</th>\n",
       "      <td>3</td>\n",
       "      <td>1</td>\n",
       "      <td>1</td>\n",
       "      <td>28045</td>\n",
       "      <td>5659</td>\n",
       "      <td>1</td>\n",
       "      <td>Bordy</td>\n",
       "      <td>Chowṉêy</td>\n",
       "      <td>0.100486</td>\n",
       "      <td>0.518016</td>\n",
       "    </tr>\n",
       "    <tr>\n",
       "      <th>3</th>\n",
       "      <td>4</td>\n",
       "      <td>0</td>\n",
       "      <td>0</td>\n",
       "      <td>21690</td>\n",
       "      <td>6314</td>\n",
       "      <td>0</td>\n",
       "      <td>Margot</td>\n",
       "      <td>Pakxong</td>\n",
       "      <td>0.021040</td>\n",
       "      <td>0.590859</td>\n",
       "    </tr>\n",
       "    <tr>\n",
       "      <th>4</th>\n",
       "      <td>5</td>\n",
       "      <td>0</td>\n",
       "      <td>0</td>\n",
       "      <td>67479</td>\n",
       "      <td>9894</td>\n",
       "      <td>0</td>\n",
       "      <td>Denice</td>\n",
       "      <td>Ardazubre</td>\n",
       "      <td>0.593467</td>\n",
       "      <td>0.988990</td>\n",
       "    </tr>\n",
       "    <tr>\n",
       "      <th>...</th>\n",
       "      <td>...</td>\n",
       "      <td>...</td>\n",
       "      <td>...</td>\n",
       "      <td>...</td>\n",
       "      <td>...</td>\n",
       "      <td>...</td>\n",
       "      <td>...</td>\n",
       "      <td>...</td>\n",
       "      <td>...</td>\n",
       "      <td>...</td>\n",
       "    </tr>\n",
       "    <tr>\n",
       "      <th>1995</th>\n",
       "      <td>1996</td>\n",
       "      <td>0</td>\n",
       "      <td>1</td>\n",
       "      <td>54292</td>\n",
       "      <td>1468</td>\n",
       "      <td>1</td>\n",
       "      <td>Mozes</td>\n",
       "      <td>Salaza</td>\n",
       "      <td>0.428611</td>\n",
       "      <td>0.051935</td>\n",
       "    </tr>\n",
       "    <tr>\n",
       "      <th>1996</th>\n",
       "      <td>1997</td>\n",
       "      <td>1</td>\n",
       "      <td>0</td>\n",
       "      <td>63079</td>\n",
       "      <td>7574</td>\n",
       "      <td>0</td>\n",
       "      <td>Hally</td>\n",
       "      <td>Danderyd</td>\n",
       "      <td>0.538461</td>\n",
       "      <td>0.730983</td>\n",
       "    </tr>\n",
       "    <tr>\n",
       "      <th>1997</th>\n",
       "      <td>1998</td>\n",
       "      <td>1</td>\n",
       "      <td>0</td>\n",
       "      <td>69959</td>\n",
       "      <td>1788</td>\n",
       "      <td>1</td>\n",
       "      <td>Felice</td>\n",
       "      <td>Nowa Ruda</td>\n",
       "      <td>0.624470</td>\n",
       "      <td>0.087522</td>\n",
       "    </tr>\n",
       "    <tr>\n",
       "      <th>1998</th>\n",
       "      <td>1999</td>\n",
       "      <td>0</td>\n",
       "      <td>1</td>\n",
       "      <td>70333</td>\n",
       "      <td>7494</td>\n",
       "      <td>0</td>\n",
       "      <td>Issi</td>\n",
       "      <td>Zhangguanying</td>\n",
       "      <td>0.629146</td>\n",
       "      <td>0.722086</td>\n",
       "    </tr>\n",
       "    <tr>\n",
       "      <th>1999</th>\n",
       "      <td>2000</td>\n",
       "      <td>0</td>\n",
       "      <td>0</td>\n",
       "      <td>83376</td>\n",
       "      <td>8616</td>\n",
       "      <td>0</td>\n",
       "      <td>Ruby</td>\n",
       "      <td>Canghou</td>\n",
       "      <td>0.792202</td>\n",
       "      <td>0.846864</td>\n",
       "    </tr>\n",
       "  </tbody>\n",
       "</table>\n",
       "<p>2000 rows × 10 columns</p>\n",
       "</div>"
      ],
      "text/plain": [
       "      Person_ID  Own_House  Own_vehicle  Monthly_Salary  Standard_Savings  \\\n",
       "0             1          0            1           66278              3989   \n",
       "1             2          0            0           64701              7076   \n",
       "2             3          1            1           28045              5659   \n",
       "3             4          0            0           21690              6314   \n",
       "4             5          0            0           67479              9894   \n",
       "...         ...        ...          ...             ...               ...   \n",
       "1995       1996          0            1           54292              1468   \n",
       "1996       1997          1            0           63079              7574   \n",
       "1997       1998          1            0           69959              1788   \n",
       "1998       1999          0            1           70333              7494   \n",
       "1999       2000          0            0           83376              8616   \n",
       "\n",
       "      Bank_Debts      Name           Area  Monthly_Salary_Scaled  \\\n",
       "0              1       Con       Shenavan               0.578453   \n",
       "1              1  Alphonso       Shubenka               0.558738   \n",
       "2              1     Bordy        Chowṉêy               0.100486   \n",
       "3              0    Margot        Pakxong               0.021040   \n",
       "4              0    Denice      Ardazubre               0.593467   \n",
       "...          ...       ...            ...                    ...   \n",
       "1995           1     Mozes         Salaza               0.428611   \n",
       "1996           0     Hally       Danderyd               0.538461   \n",
       "1997           1    Felice      Nowa Ruda               0.624470   \n",
       "1998           0      Issi  Zhangguanying               0.629146   \n",
       "1999           0      Ruby        Canghou               0.792202   \n",
       "\n",
       "      Standard_Savings_Scaled  \n",
       "0                    0.332295  \n",
       "1                    0.675601  \n",
       "2                    0.518016  \n",
       "3                    0.590859  \n",
       "4                    0.988990  \n",
       "...                       ...  \n",
       "1995                 0.051935  \n",
       "1996                 0.730983  \n",
       "1997                 0.087522  \n",
       "1998                 0.722086  \n",
       "1999                 0.846864  \n",
       "\n",
       "[2000 rows x 10 columns]"
      ]
     },
     "execution_count": 14,
     "metadata": {},
     "output_type": "execute_result"
    }
   ],
   "source": [
    "df"
   ]
  },
  {
   "cell_type": "code",
   "execution_count": 29,
   "metadata": {
    "ExecuteTime": {
     "end_time": "2020-11-18T05:32:00.675468Z",
     "start_time": "2020-11-18T05:31:57.993477Z"
    }
   },
   "outputs": [],
   "source": [
    "from sklearn.cluster import KMeans\n",
    "sse1 = []\n",
    "for k in range(1,10):\n",
    "    km1 = KMeans(n_clusters=k)\n",
    "    km1.fit(df[['Own_House', 'Own_vehicle','Monthly_Salary_Scaled','Standard_Savings_Scaled','Bank_Debts']])\n",
    "    sse1.append(km1.inertia_)"
   ]
  },
  {
   "cell_type": "code",
   "execution_count": 30,
   "metadata": {
    "ExecuteTime": {
     "end_time": "2020-11-18T05:32:03.600511Z",
     "start_time": "2020-11-18T05:32:03.583468Z"
    }
   },
   "outputs": [],
   "source": [
    "# df[['Person_ID_Scaled', 'Own_House', 'Own_vehicle', 'Monthly_Salary_Scaled',\n",
    "#        'Standard_Savings_Scaled', 'Bank_Debts']]"
   ]
  },
  {
   "cell_type": "code",
   "execution_count": 31,
   "metadata": {
    "ExecuteTime": {
     "end_time": "2020-11-18T05:32:05.197679Z",
     "start_time": "2020-11-18T05:32:04.864185Z"
    }
   },
   "outputs": [
    {
     "data": {
      "text/plain": [
       "[<matplotlib.lines.Line2D at 0x1669105fc08>]"
      ]
     },
     "execution_count": 31,
     "metadata": {},
     "output_type": "execute_result"
    },
    {
     "data": {
      "image/png": "[encoded data removed]",
      "text/plain": [
       "<Figure size 432x288 with 1 Axes>"
      ]
     },
     "metadata": {
      "needs_background": "light"
     },
     "output_type": "display_data"
    }
   ],
   "source": [
    "import matplotlib.pyplot as plt\n",
    "plt.xlabel('K')\n",
    "plt.ylabel('Sum of squared error')\n",
    "plt.plot(range(1,10),sse)"
   ]
  },
  {
   "cell_type": "code",
   "execution_count": 32,
   "metadata": {
    "ExecuteTime": {
     "end_time": "2020-11-18T05:32:10.762846Z",
     "start_time": "2020-11-18T05:32:10.744517Z"
    }
   },
   "outputs": [],
   "source": [
    "KM = KMeans(n_clusters = 4)"
   ]
  },
  {
   "cell_type": "code",
   "execution_count": 33,
   "metadata": {
    "ExecuteTime": {
     "end_time": "2020-11-18T05:32:13.303996Z",
     "start_time": "2020-11-18T05:32:13.127382Z"
    }
   },
   "outputs": [],
   "source": [
    "predict = KM.fit_predict(df[['Monthly_Salary_Scaled','Standard_Savings_Scaled','Bank_Debts']])"
   ]
  },
  {
   "cell_type": "code",
   "execution_count": 34,
   "metadata": {
    "ExecuteTime": {
     "end_time": "2020-11-18T05:32:13.524268Z",
     "start_time": "2020-11-18T05:32:13.503760Z"
    }
   },
   "outputs": [
    {
     "data": {
      "text/plain": [
       "array([0, 2, 0, ..., 0, 3, 3])"
      ]
     },
     "execution_count": 34,
     "metadata": {},
     "output_type": "execute_result"
    }
   ],
   "source": [
    "predict"
   ]
  },
  {
   "cell_type": "code",
   "execution_count": 35,
   "metadata": {
    "ExecuteTime": {
     "end_time": "2020-11-18T05:32:18.240258Z",
     "start_time": "2020-11-18T05:32:18.224299Z"
    }
   },
   "outputs": [],
   "source": [
    "df[\"Groups\"] = predict"
   ]
  },
  {
   "cell_type": "code",
   "execution_count": 36,
   "metadata": {
    "ExecuteTime": {
     "end_time": "2020-11-18T05:32:21.077041Z",
     "start_time": "2020-11-18T05:32:21.027593Z"
    }
   },
   "outputs": [
    {
     "data": {
      "text/html": [
       "<div>\n",
       "<style scoped>\n",
       "    .dataframe tbody tr th:only-of-type {\n",
       "        vertical-align: middle;\n",
       "    }\n",
       "\n",
       "    .dataframe tbody tr th {\n",
       "        vertical-align: top;\n",
       "    }\n",
       "\n",
       "    .dataframe thead th {\n",
       "        text-align: right;\n",
       "    }\n",
       "</style>\n",
       "<table border=\"1\" class=\"dataframe\">\n",
       "  <thead>\n",
       "    <tr style=\"text-align: right;\">\n",
       "      <th></th>\n",
       "      <th>Person_ID</th>\n",
       "      <th>Own_House</th>\n",
       "      <th>Own_vehicle</th>\n",
       "      <th>Monthly_Salary</th>\n",
       "      <th>Standard_Savings</th>\n",
       "      <th>Bank_Debts</th>\n",
       "      <th>Name</th>\n",
       "      <th>Area</th>\n",
       "      <th>Monthly_Salary_Scaled</th>\n",
       "      <th>Standard_Savings_Scaled</th>\n",
       "      <th>Groups</th>\n",
       "    </tr>\n",
       "  </thead>\n",
       "  <tbody>\n",
       "    <tr>\n",
       "      <th>0</th>\n",
       "      <td>1</td>\n",
       "      <td>0</td>\n",
       "      <td>1</td>\n",
       "      <td>66278</td>\n",
       "      <td>3989</td>\n",
       "      <td>1</td>\n",
       "      <td>Con</td>\n",
       "      <td>Shenavan</td>\n",
       "      <td>0.578453</td>\n",
       "      <td>0.332295</td>\n",
       "      <td>0</td>\n",
       "    </tr>\n",
       "    <tr>\n",
       "      <th>1</th>\n",
       "      <td>2</td>\n",
       "      <td>0</td>\n",
       "      <td>0</td>\n",
       "      <td>64701</td>\n",
       "      <td>7076</td>\n",
       "      <td>1</td>\n",
       "      <td>Alphonso</td>\n",
       "      <td>Shubenka</td>\n",
       "      <td>0.558738</td>\n",
       "      <td>0.675601</td>\n",
       "      <td>2</td>\n",
       "    </tr>\n",
       "    <tr>\n",
       "      <th>2</th>\n",
       "      <td>3</td>\n",
       "      <td>1</td>\n",
       "      <td>1</td>\n",
       "      <td>28045</td>\n",
       "      <td>5659</td>\n",
       "      <td>1</td>\n",
       "      <td>Bordy</td>\n",
       "      <td>Chowṉêy</td>\n",
       "      <td>0.100486</td>\n",
       "      <td>0.518016</td>\n",
       "      <td>0</td>\n",
       "    </tr>\n",
       "    <tr>\n",
       "      <th>3</th>\n",
       "      <td>4</td>\n",
       "      <td>0</td>\n",
       "      <td>0</td>\n",
       "      <td>21690</td>\n",
       "      <td>6314</td>\n",
       "      <td>0</td>\n",
       "      <td>Margot</td>\n",
       "      <td>Pakxong</td>\n",
       "      <td>0.021040</td>\n",
       "      <td>0.590859</td>\n",
       "      <td>3</td>\n",
       "    </tr>\n",
       "    <tr>\n",
       "      <th>4</th>\n",
       "      <td>5</td>\n",
       "      <td>0</td>\n",
       "      <td>0</td>\n",
       "      <td>67479</td>\n",
       "      <td>9894</td>\n",
       "      <td>0</td>\n",
       "      <td>Denice</td>\n",
       "      <td>Ardazubre</td>\n",
       "      <td>0.593467</td>\n",
       "      <td>0.988990</td>\n",
       "      <td>3</td>\n",
       "    </tr>\n",
       "    <tr>\n",
       "      <th>...</th>\n",
       "      <td>...</td>\n",
       "      <td>...</td>\n",
       "      <td>...</td>\n",
       "      <td>...</td>\n",
       "      <td>...</td>\n",
       "      <td>...</td>\n",
       "      <td>...</td>\n",
       "      <td>...</td>\n",
       "      <td>...</td>\n",
       "      <td>...</td>\n",
       "      <td>...</td>\n",
       "    </tr>\n",
       "    <tr>\n",
       "      <th>1995</th>\n",
       "      <td>1996</td>\n",
       "      <td>0</td>\n",
       "      <td>1</td>\n",
       "      <td>54292</td>\n",
       "      <td>1468</td>\n",
       "      <td>1</td>\n",
       "      <td>Mozes</td>\n",
       "      <td>Salaza</td>\n",
       "      <td>0.428611</td>\n",
       "      <td>0.051935</td>\n",
       "      <td>0</td>\n",
       "    </tr>\n",
       "    <tr>\n",
       "      <th>1996</th>\n",
       "      <td>1997</td>\n",
       "      <td>1</td>\n",
       "      <td>0</td>\n",
       "      <td>63079</td>\n",
       "      <td>7574</td>\n",
       "      <td>0</td>\n",
       "      <td>Hally</td>\n",
       "      <td>Danderyd</td>\n",
       "      <td>0.538461</td>\n",
       "      <td>0.730983</td>\n",
       "      <td>3</td>\n",
       "    </tr>\n",
       "    <tr>\n",
       "      <th>1997</th>\n",
       "      <td>1998</td>\n",
       "      <td>1</td>\n",
       "      <td>0</td>\n",
       "      <td>69959</td>\n",
       "      <td>1788</td>\n",
       "      <td>1</td>\n",
       "      <td>Felice</td>\n",
       "      <td>Nowa Ruda</td>\n",
       "      <td>0.624470</td>\n",
       "      <td>0.087522</td>\n",
       "      <td>0</td>\n",
       "    </tr>\n",
       "    <tr>\n",
       "      <th>1998</th>\n",
       "      <td>1999</td>\n",
       "      <td>0</td>\n",
       "      <td>1</td>\n",
       "      <td>70333</td>\n",
       "      <td>7494</td>\n",
       "      <td>0</td>\n",
       "      <td>Issi</td>\n",
       "      <td>Zhangguanying</td>\n",
       "      <td>0.629146</td>\n",
       "      <td>0.722086</td>\n",
       "      <td>3</td>\n",
       "    </tr>\n",
       "    <tr>\n",
       "      <th>1999</th>\n",
       "      <td>2000</td>\n",
       "      <td>0</td>\n",
       "      <td>0</td>\n",
       "      <td>83376</td>\n",
       "      <td>8616</td>\n",
       "      <td>0</td>\n",
       "      <td>Ruby</td>\n",
       "      <td>Canghou</td>\n",
       "      <td>0.792202</td>\n",
       "      <td>0.846864</td>\n",
       "      <td>3</td>\n",
       "    </tr>\n",
       "  </tbody>\n",
       "</table>\n",
       "<p>2000 rows × 11 columns</p>\n",
       "</div>"
      ],
      "text/plain": [
       "      Person_ID  Own_House  Own_vehicle  Monthly_Salary  Standard_Savings  \\\n",
       "0             1          0            1           66278              3989   \n",
       "1             2          0            0           64701              7076   \n",
       "2             3          1            1           28045              5659   \n",
       "3             4          0            0           21690              6314   \n",
       "4             5          0            0           67479              9894   \n",
       "...         ...        ...          ...             ...               ...   \n",
       "1995       1996          0            1           54292              1468   \n",
       "1996       1997          1            0           63079              7574   \n",
       "1997       1998          1            0           69959              1788   \n",
       "1998       1999          0            1           70333              7494   \n",
       "1999       2000          0            0           83376              8616   \n",
       "\n",
       "      Bank_Debts      Name           Area  Monthly_Salary_Scaled  \\\n",
       "0              1       Con       Shenavan               0.578453   \n",
       "1              1  Alphonso       Shubenka               0.558738   \n",
       "2              1     Bordy        Chowṉêy               0.100486   \n",
       "3              0    Margot        Pakxong               0.021040   \n",
       "4              0    Denice      Ardazubre               0.593467   \n",
       "...          ...       ...            ...                    ...   \n",
       "1995           1     Mozes         Salaza               0.428611   \n",
       "1996           0     Hally       Danderyd               0.538461   \n",
       "1997           1    Felice      Nowa Ruda               0.624470   \n",
       "1998           0      Issi  Zhangguanying               0.629146   \n",
       "1999           0      Ruby        Canghou               0.792202   \n",
       "\n",
       "      Standard_Savings_Scaled  Groups  \n",
       "0                    0.332295       0  \n",
       "1                    0.675601       2  \n",
       "2                    0.518016       0  \n",
       "3                    0.590859       3  \n",
       "4                    0.988990       3  \n",
       "...                       ...     ...  \n",
       "1995                 0.051935       0  \n",
       "1996                 0.730983       3  \n",
       "1997                 0.087522       0  \n",
       "1998                 0.722086       3  \n",
       "1999                 0.846864       3  \n",
       "\n",
       "[2000 rows x 11 columns]"
      ]
     },
     "execution_count": 36,
     "metadata": {},
     "output_type": "execute_result"
    }
   ],
   "source": [
    "df"
   ]
  },
  {
   "cell_type": "code",
   "execution_count": 37,
   "metadata": {
    "ExecuteTime": {
     "end_time": "2020-11-18T05:32:26.922270Z",
     "start_time": "2020-11-18T05:32:26.911139Z"
    }
   },
   "outputs": [],
   "source": [
    "df_new = df.loc[:,[\"Person_ID\",\"Groups\"]]\n",
    "df_new.to_csv(\"D:\\\\Skillenza_Bootcamp\\\\ML Level1\\\\Problem2\\\\Customer_Segment8.csv\")"
   ]
  },
  {
   "cell_type": "code",
   "execution_count": 38,
   "metadata": {
    "ExecuteTime": {
     "end_time": "2020-11-18T05:32:33.158706Z",
     "start_time": "2020-11-18T05:32:33.135435Z"
    }
   },
   "outputs": [],
   "source": [
    "df_new.to_csv(\"D:\\\\Skillenza_Bootcamp\\\\ML Level1\\\\Problem2\\\\Customer_Segment8.csv\")"
   ]
  },
  {
   "cell_type": "code",
   "execution_count": null,
   "metadata": {},
   "outputs": [],
   "source": []
  }
 ],
 "metadata": {
  "kernelspec": {
   "display_name": "Python 3",
   "language": "python",
   "name": "python3"
  },
  "language_info": {
   "codemirror_mode": {
    "name": "ipython",
    "version": 3
   },
   "file_extension": ".py",
   "mimetype": "text/x-python",
   "name": "python",
   "nbconvert_exporter": "python",
   "pygments_lexer": "ipython3",
   "version": "3.7.6"
  }
 },
 "nbformat": 4,
 "nbformat_minor": 4
}
