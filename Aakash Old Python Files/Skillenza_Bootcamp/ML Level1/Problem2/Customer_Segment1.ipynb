{
 "cells": [
  {
   "cell_type": "code",
   "execution_count": 1,
   "metadata": {
    "ExecuteTime": {
     "end_time": "2020-11-19T06:30:09.424996Z",
     "start_time": "2020-11-19T06:30:08.913026Z"
    }
   },
   "outputs": [],
   "source": [
    "import pandas as pd"
   ]
  },
  {
   "cell_type": "code",
   "execution_count": 2,
   "metadata": {
    "ExecuteTime": {
     "end_time": "2020-11-19T06:30:09.516632Z",
     "start_time": "2020-11-19T06:30:09.485749Z"
    }
   },
   "outputs": [],
   "source": [
    "df = pd.read_csv(\"data.csv\")"
   ]
  },
  {
   "cell_type": "code",
   "execution_count": 3,
   "metadata": {
    "ExecuteTime": {
     "end_time": "2020-11-19T06:30:10.360506Z",
     "start_time": "2020-11-19T06:30:10.327594Z"
    }
   },
   "outputs": [
    {
     "data": {
      "text/html": [
       "<div>\n",
       "<style scoped>\n",
       "    .dataframe tbody tr th:only-of-type {\n",
       "        vertical-align: middle;\n",
       "    }\n",
       "\n",
       "    .dataframe tbody tr th {\n",
       "        vertical-align: top;\n",
       "    }\n",
       "\n",
       "    .dataframe thead th {\n",
       "        text-align: right;\n",
       "    }\n",
       "</style>\n",
       "<table border=\"1\" class=\"dataframe\">\n",
       "  <thead>\n",
       "    <tr style=\"text-align: right;\">\n",
       "      <th></th>\n",
       "      <th>Person_ID</th>\n",
       "      <th>Own_House</th>\n",
       "      <th>Own_vehicle</th>\n",
       "      <th>Monthly_Salary</th>\n",
       "      <th>Standard_Savings</th>\n",
       "      <th>Bank_Debts</th>\n",
       "      <th>Name</th>\n",
       "      <th>Area</th>\n",
       "    </tr>\n",
       "  </thead>\n",
       "  <tbody>\n",
       "    <tr>\n",
       "      <th>0</th>\n",
       "      <td>1</td>\n",
       "      <td>0</td>\n",
       "      <td>1</td>\n",
       "      <td>66278</td>\n",
       "      <td>3989</td>\n",
       "      <td>1</td>\n",
       "      <td>Con</td>\n",
       "      <td>Shenavan</td>\n",
       "    </tr>\n",
       "    <tr>\n",
       "      <th>1</th>\n",
       "      <td>2</td>\n",
       "      <td>0</td>\n",
       "      <td>0</td>\n",
       "      <td>64701</td>\n",
       "      <td>7076</td>\n",
       "      <td>1</td>\n",
       "      <td>Alphonso</td>\n",
       "      <td>Shubenka</td>\n",
       "    </tr>\n",
       "    <tr>\n",
       "      <th>2</th>\n",
       "      <td>3</td>\n",
       "      <td>1</td>\n",
       "      <td>1</td>\n",
       "      <td>28045</td>\n",
       "      <td>5659</td>\n",
       "      <td>1</td>\n",
       "      <td>Bordy</td>\n",
       "      <td>Chowṉêy</td>\n",
       "    </tr>\n",
       "    <tr>\n",
       "      <th>3</th>\n",
       "      <td>4</td>\n",
       "      <td>0</td>\n",
       "      <td>0</td>\n",
       "      <td>21690</td>\n",
       "      <td>6314</td>\n",
       "      <td>0</td>\n",
       "      <td>Margot</td>\n",
       "      <td>Pakxong</td>\n",
       "    </tr>\n",
       "    <tr>\n",
       "      <th>4</th>\n",
       "      <td>5</td>\n",
       "      <td>0</td>\n",
       "      <td>0</td>\n",
       "      <td>67479</td>\n",
       "      <td>9894</td>\n",
       "      <td>0</td>\n",
       "      <td>Denice</td>\n",
       "      <td>Ardazubre</td>\n",
       "    </tr>\n",
       "    <tr>\n",
       "      <th>...</th>\n",
       "      <td>...</td>\n",
       "      <td>...</td>\n",
       "      <td>...</td>\n",
       "      <td>...</td>\n",
       "      <td>...</td>\n",
       "      <td>...</td>\n",
       "      <td>...</td>\n",
       "      <td>...</td>\n",
       "    </tr>\n",
       "    <tr>\n",
       "      <th>1995</th>\n",
       "      <td>1996</td>\n",
       "      <td>0</td>\n",
       "      <td>1</td>\n",
       "      <td>54292</td>\n",
       "      <td>1468</td>\n",
       "      <td>1</td>\n",
       "      <td>Mozes</td>\n",
       "      <td>Salaza</td>\n",
       "    </tr>\n",
       "    <tr>\n",
       "      <th>1996</th>\n",
       "      <td>1997</td>\n",
       "      <td>1</td>\n",
       "      <td>0</td>\n",
       "      <td>63079</td>\n",
       "      <td>7574</td>\n",
       "      <td>0</td>\n",
       "      <td>Hally</td>\n",
       "      <td>Danderyd</td>\n",
       "    </tr>\n",
       "    <tr>\n",
       "      <th>1997</th>\n",
       "      <td>1998</td>\n",
       "      <td>1</td>\n",
       "      <td>0</td>\n",
       "      <td>69959</td>\n",
       "      <td>1788</td>\n",
       "      <td>1</td>\n",
       "      <td>Felice</td>\n",
       "      <td>Nowa Ruda</td>\n",
       "    </tr>\n",
       "    <tr>\n",
       "      <th>1998</th>\n",
       "      <td>1999</td>\n",
       "      <td>0</td>\n",
       "      <td>1</td>\n",
       "      <td>70333</td>\n",
       "      <td>7494</td>\n",
       "      <td>0</td>\n",
       "      <td>Issi</td>\n",
       "      <td>Zhangguanying</td>\n",
       "    </tr>\n",
       "    <tr>\n",
       "      <th>1999</th>\n",
       "      <td>2000</td>\n",
       "      <td>0</td>\n",
       "      <td>0</td>\n",
       "      <td>83376</td>\n",
       "      <td>8616</td>\n",
       "      <td>0</td>\n",
       "      <td>Ruby</td>\n",
       "      <td>Canghou</td>\n",
       "    </tr>\n",
       "  </tbody>\n",
       "</table>\n",
       "<p>2000 rows × 8 columns</p>\n",
       "</div>"
      ],
      "text/plain": [
       "      Person_ID  Own_House  Own_vehicle  Monthly_Salary  Standard_Savings  \\\n",
       "0             1          0            1           66278              3989   \n",
       "1             2          0            0           64701              7076   \n",
       "2             3          1            1           28045              5659   \n",
       "3             4          0            0           21690              6314   \n",
       "4             5          0            0           67479              9894   \n",
       "...         ...        ...          ...             ...               ...   \n",
       "1995       1996          0            1           54292              1468   \n",
       "1996       1997          1            0           63079              7574   \n",
       "1997       1998          1            0           69959              1788   \n",
       "1998       1999          0            1           70333              7494   \n",
       "1999       2000          0            0           83376              8616   \n",
       "\n",
       "      Bank_Debts      Name           Area  \n",
       "0              1       Con       Shenavan  \n",
       "1              1  Alphonso       Shubenka  \n",
       "2              1     Bordy        Chowṉêy  \n",
       "3              0    Margot        Pakxong  \n",
       "4              0    Denice      Ardazubre  \n",
       "...          ...       ...            ...  \n",
       "1995           1     Mozes         Salaza  \n",
       "1996           0     Hally       Danderyd  \n",
       "1997           1    Felice      Nowa Ruda  \n",
       "1998           0      Issi  Zhangguanying  \n",
       "1999           0      Ruby        Canghou  \n",
       "\n",
       "[2000 rows x 8 columns]"
      ]
     },
     "execution_count": 3,
     "metadata": {},
     "output_type": "execute_result"
    }
   ],
   "source": [
    "df"
   ]
  },
  {
   "cell_type": "code",
   "execution_count": 4,
   "metadata": {
    "ExecuteTime": {
     "end_time": "2020-11-19T06:30:16.692070Z",
     "start_time": "2020-11-19T06:30:16.680099Z"
    }
   },
   "outputs": [
    {
     "data": {
      "text/plain": [
       "Person_ID            int64\n",
       "Own_House            int64\n",
       "Own_vehicle          int64\n",
       "Monthly_Salary       int64\n",
       "Standard_Savings     int64\n",
       "Bank_Debts           int64\n",
       "Name                object\n",
       "Area                object\n",
       "dtype: object"
      ]
     },
     "execution_count": 4,
     "metadata": {},
     "output_type": "execute_result"
    }
   ],
   "source": [
    "df.dtypes"
   ]
  },
  {
   "cell_type": "code",
   "execution_count": 5,
   "metadata": {
    "ExecuteTime": {
     "end_time": "2020-11-19T06:30:18.298152Z",
     "start_time": "2020-11-19T06:30:18.279169Z"
    }
   },
   "outputs": [
    {
     "data": {
      "text/plain": [
       "Person_ID           0\n",
       "Own_House           0\n",
       "Own_vehicle         0\n",
       "Monthly_Salary      0\n",
       "Standard_Savings    0\n",
       "Bank_Debts          0\n",
       "Name                0\n",
       "Area                0\n",
       "dtype: int64"
      ]
     },
     "execution_count": 5,
     "metadata": {},
     "output_type": "execute_result"
    }
   ],
   "source": [
    "df.isna().sum()"
   ]
  },
  {
   "cell_type": "code",
   "execution_count": 6,
   "metadata": {
    "ExecuteTime": {
     "end_time": "2020-11-19T06:30:19.776344Z",
     "start_time": "2020-11-19T06:30:19.766332Z"
    }
   },
   "outputs": [
    {
     "data": {
      "text/plain": [
       "Index(['Person_ID', 'Own_House', 'Own_vehicle', 'Monthly_Salary',\n",
       "       'Standard_Savings', 'Bank_Debts', 'Name', 'Area'],\n",
       "      dtype='object')"
      ]
     },
     "execution_count": 6,
     "metadata": {},
     "output_type": "execute_result"
    }
   ],
   "source": [
    "df.columns"
   ]
  },
  {
   "cell_type": "code",
   "execution_count": 7,
   "metadata": {
    "ExecuteTime": {
     "end_time": "2020-11-19T06:30:21.119095Z",
     "start_time": "2020-11-19T06:30:20.391171Z"
    }
   },
   "outputs": [],
   "source": [
    "from sklearn.cluster import KMeans"
   ]
  },
  {
   "cell_type": "code",
   "execution_count": 8,
   "metadata": {
    "ExecuteTime": {
     "end_time": "2020-11-19T06:30:50.041784Z",
     "start_time": "2020-11-19T06:30:47.838307Z"
    }
   },
   "outputs": [],
   "source": [
    "sse = []\n",
    "for k in range(1,10):\n",
    "    km = KMeans(n_clusters=k)\n",
    "    km.fit(df[['Own_House', 'Own_vehicle', 'Monthly_Salary','Standard_Savings', 'Bank_Debts']])\n",
    "    sse.append(km.inertia_)"
   ]
  },
  {
   "cell_type": "code",
   "execution_count": 9,
   "metadata": {
    "ExecuteTime": {
     "end_time": "2020-11-19T06:30:52.793594Z",
     "start_time": "2020-11-19T06:30:50.865557Z"
    }
   },
   "outputs": [
    {
     "data": {
      "text/plain": [
       "[<matplotlib.lines.Line2D at 0x1ebc064df48>]"
      ]
     },
     "execution_count": 9,
     "metadata": {},
     "output_type": "execute_result"
    },
    {
     "data": {
      "image/png": "[encoded data removed]",
      "text/plain": [
       "<Figure size 432x288 with 1 Axes>"
      ]
     },
     "metadata": {
      "needs_background": "light"
     },
     "output_type": "display_data"
    }
   ],
   "source": [
    "import matplotlib.pyplot as plt\n",
    "plt.xlabel('K')\n",
    "plt.ylabel('Sum of squared error')\n",
    "plt.plot(range(1,10),sse)"
   ]
  },
  {
   "cell_type": "code",
   "execution_count": 10,
   "metadata": {
    "ExecuteTime": {
     "end_time": "2020-11-19T06:30:57.192873Z",
     "start_time": "2020-11-19T06:30:56.991480Z"
    }
   },
   "outputs": [
    {
     "data": {
      "text/html": [
       "<div>\n",
       "<style scoped>\n",
       "    .dataframe tbody tr th:only-of-type {\n",
       "        vertical-align: middle;\n",
       "    }\n",
       "\n",
       "    .dataframe tbody tr th {\n",
       "        vertical-align: top;\n",
       "    }\n",
       "\n",
       "    .dataframe thead th {\n",
       "        text-align: right;\n",
       "    }\n",
       "</style>\n",
       "<table border=\"1\" class=\"dataframe\">\n",
       "  <thead>\n",
       "    <tr style=\"text-align: right;\">\n",
       "      <th></th>\n",
       "      <th>Person_ID</th>\n",
       "      <th>Own_House</th>\n",
       "      <th>Own_vehicle</th>\n",
       "      <th>Monthly_Salary</th>\n",
       "      <th>Standard_Savings</th>\n",
       "      <th>Bank_Debts</th>\n",
       "      <th>Name</th>\n",
       "      <th>Area</th>\n",
       "      <th>Groups</th>\n",
       "    </tr>\n",
       "  </thead>\n",
       "  <tbody>\n",
       "    <tr>\n",
       "      <th>0</th>\n",
       "      <td>1</td>\n",
       "      <td>0</td>\n",
       "      <td>1</td>\n",
       "      <td>66278</td>\n",
       "      <td>3989</td>\n",
       "      <td>1</td>\n",
       "      <td>Con</td>\n",
       "      <td>Shenavan</td>\n",
       "      <td>0</td>\n",
       "    </tr>\n",
       "    <tr>\n",
       "      <th>1</th>\n",
       "      <td>2</td>\n",
       "      <td>0</td>\n",
       "      <td>0</td>\n",
       "      <td>64701</td>\n",
       "      <td>7076</td>\n",
       "      <td>1</td>\n",
       "      <td>Alphonso</td>\n",
       "      <td>Shubenka</td>\n",
       "      <td>0</td>\n",
       "    </tr>\n",
       "    <tr>\n",
       "      <th>2</th>\n",
       "      <td>3</td>\n",
       "      <td>1</td>\n",
       "      <td>1</td>\n",
       "      <td>28045</td>\n",
       "      <td>5659</td>\n",
       "      <td>1</td>\n",
       "      <td>Bordy</td>\n",
       "      <td>Chowṉêy</td>\n",
       "      <td>1</td>\n",
       "    </tr>\n",
       "    <tr>\n",
       "      <th>3</th>\n",
       "      <td>4</td>\n",
       "      <td>0</td>\n",
       "      <td>0</td>\n",
       "      <td>21690</td>\n",
       "      <td>6314</td>\n",
       "      <td>0</td>\n",
       "      <td>Margot</td>\n",
       "      <td>Pakxong</td>\n",
       "      <td>1</td>\n",
       "    </tr>\n",
       "    <tr>\n",
       "      <th>4</th>\n",
       "      <td>5</td>\n",
       "      <td>0</td>\n",
       "      <td>0</td>\n",
       "      <td>67479</td>\n",
       "      <td>9894</td>\n",
       "      <td>0</td>\n",
       "      <td>Denice</td>\n",
       "      <td>Ardazubre</td>\n",
       "      <td>0</td>\n",
       "    </tr>\n",
       "    <tr>\n",
       "      <th>...</th>\n",
       "      <td>...</td>\n",
       "      <td>...</td>\n",
       "      <td>...</td>\n",
       "      <td>...</td>\n",
       "      <td>...</td>\n",
       "      <td>...</td>\n",
       "      <td>...</td>\n",
       "      <td>...</td>\n",
       "      <td>...</td>\n",
       "    </tr>\n",
       "    <tr>\n",
       "      <th>1995</th>\n",
       "      <td>1996</td>\n",
       "      <td>0</td>\n",
       "      <td>1</td>\n",
       "      <td>54292</td>\n",
       "      <td>1468</td>\n",
       "      <td>1</td>\n",
       "      <td>Mozes</td>\n",
       "      <td>Salaza</td>\n",
       "      <td>2</td>\n",
       "    </tr>\n",
       "    <tr>\n",
       "      <th>1996</th>\n",
       "      <td>1997</td>\n",
       "      <td>1</td>\n",
       "      <td>0</td>\n",
       "      <td>63079</td>\n",
       "      <td>7574</td>\n",
       "      <td>0</td>\n",
       "      <td>Hally</td>\n",
       "      <td>Danderyd</td>\n",
       "      <td>0</td>\n",
       "    </tr>\n",
       "    <tr>\n",
       "      <th>1997</th>\n",
       "      <td>1998</td>\n",
       "      <td>1</td>\n",
       "      <td>0</td>\n",
       "      <td>69959</td>\n",
       "      <td>1788</td>\n",
       "      <td>1</td>\n",
       "      <td>Felice</td>\n",
       "      <td>Nowa Ruda</td>\n",
       "      <td>0</td>\n",
       "    </tr>\n",
       "    <tr>\n",
       "      <th>1998</th>\n",
       "      <td>1999</td>\n",
       "      <td>0</td>\n",
       "      <td>1</td>\n",
       "      <td>70333</td>\n",
       "      <td>7494</td>\n",
       "      <td>0</td>\n",
       "      <td>Issi</td>\n",
       "      <td>Zhangguanying</td>\n",
       "      <td>0</td>\n",
       "    </tr>\n",
       "    <tr>\n",
       "      <th>1999</th>\n",
       "      <td>2000</td>\n",
       "      <td>0</td>\n",
       "      <td>0</td>\n",
       "      <td>83376</td>\n",
       "      <td>8616</td>\n",
       "      <td>0</td>\n",
       "      <td>Ruby</td>\n",
       "      <td>Canghou</td>\n",
       "      <td>3</td>\n",
       "    </tr>\n",
       "  </tbody>\n",
       "</table>\n",
       "<p>2000 rows × 9 columns</p>\n",
       "</div>"
      ],
      "text/plain": [
       "      Person_ID  Own_House  Own_vehicle  Monthly_Salary  Standard_Savings  \\\n",
       "0             1          0            1           66278              3989   \n",
       "1             2          0            0           64701              7076   \n",
       "2             3          1            1           28045              5659   \n",
       "3             4          0            0           21690              6314   \n",
       "4             5          0            0           67479              9894   \n",
       "...         ...        ...          ...             ...               ...   \n",
       "1995       1996          0            1           54292              1468   \n",
       "1996       1997          1            0           63079              7574   \n",
       "1997       1998          1            0           69959              1788   \n",
       "1998       1999          0            1           70333              7494   \n",
       "1999       2000          0            0           83376              8616   \n",
       "\n",
       "      Bank_Debts      Name           Area  Groups  \n",
       "0              1       Con       Shenavan       0  \n",
       "1              1  Alphonso       Shubenka       0  \n",
       "2              1     Bordy        Chowṉêy       1  \n",
       "3              0    Margot        Pakxong       1  \n",
       "4              0    Denice      Ardazubre       0  \n",
       "...          ...       ...            ...     ...  \n",
       "1995           1     Mozes         Salaza       2  \n",
       "1996           0     Hally       Danderyd       0  \n",
       "1997           1    Felice      Nowa Ruda       0  \n",
       "1998           0      Issi  Zhangguanying       0  \n",
       "1999           0      Ruby        Canghou       3  \n",
       "\n",
       "[2000 rows x 9 columns]"
      ]
     },
     "execution_count": 10,
     "metadata": {},
     "output_type": "execute_result"
    }
   ],
   "source": [
    "KM = KMeans(n_clusters = 4)\n",
    "predict = KM.fit_predict(df[['Own_House', 'Own_vehicle', 'Monthly_Salary','Standard_Savings', 'Bank_Debts']])\n",
    "pd.DataFrame(predict)\n",
    "df[\"Groups\"] = predict\n",
    "df"
   ]
  },
  {
   "cell_type": "code",
   "execution_count": 11,
   "metadata": {
    "ExecuteTime": {
     "end_time": "2020-11-19T06:31:12.093851Z",
     "start_time": "2020-11-19T06:31:12.061900Z"
    }
   },
   "outputs": [],
   "source": [
    "predict = df.loc[:,[\"Person_ID\",\"Groups\"]]\n",
    "predict.to_csv(\"D:\\\\Skillenza_Bootcamp\\\\ML Level1\\\\Problem2\\\\Customer_Segment11.csv\",index = False)"
   ]
  },
  {
   "cell_type": "code",
   "execution_count": null,
   "metadata": {},
   "outputs": [],
   "source": []
  }
 ],
 "metadata": {
  "kernelspec": {
   "display_name": "Python 3",
   "language": "python",
   "name": "python3"
  },
  "language_info": {
   "codemirror_mode": {
    "name": "ipython",
    "version": 3
   },
   "file_extension": ".py",
   "mimetype": "text/x-python",
   "name": "python",
   "nbconvert_exporter": "python",
   "pygments_lexer": "ipython3",
   "version": "3.7.6"
  }
 },
 "nbformat": 4,
 "nbformat_minor": 4
}
