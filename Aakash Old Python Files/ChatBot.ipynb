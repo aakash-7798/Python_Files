{
  "nbformat": 4,
  "nbformat_minor": 0,
  "metadata": {
    "colab": {
      "name": "ChatBot.ipynb",
      "provenance": [],
      "collapsed_sections": []
    },
    "kernelspec": {
      "name": "python3",
      "display_name": "Python 3"
    }
  },
  "cells": [
    {
      "cell_type": "markdown",
      "metadata": {
        "id": "oe1cVdm0W_mK"
      },
      "source": [
        "**NLP (NATURAL LANGUAGE PROCESSING):**\n",
        "Natural language processing (NLP) is the relationship between computers and human language. ... Natural language refers to speech analysis in both audible speech, as well as text of a language. NLP systems capture meaning from an input of words (sentences, paragraphs, pages, etc.)\n",
        "\n"
      ]
    },
    {
      "cell_type": "code",
      "metadata": {
        "id": "Seds6584W28z"
      },
      "source": [
        "import nltk"
      ],
      "execution_count": null,
      "outputs": []
    },
    {
      "cell_type": "markdown",
      "metadata": {
        "id": "fPplxsVeYPy6"
      },
      "source": [
        "**Tokenization** :\n",
        "Tokenization is the first step in text analytics. The process of breaking down a text paragraph into smaller chunks such as words or sentence is called Tokenization. Token is a single entity that is building blocks for sentence or paragraph."
      ]
    },
    {
      "cell_type": "code",
      "metadata": {
        "id": "STkwk0ueX6-I",
        "outputId": "bf98fb4b-85f2-4d10-c61e-dd02bdd2647e",
        "colab": {
          "base_uri": "https://localhost:8080/",
          "height": 118
        }
      },
      "source": [
        "from  nltk.tokenize import sent_tokenize\n",
        "nltk.download('punkt')\n",
        "# text = \"Hi Iam Aakash Nadupalli Pursuing Data Analytics Course in Imarticus\"\n",
        "text = \"\"\"Hello Mr. Aakash, how are you doing today? The weather is great, and city is awesome.\n",
        "The sky is pinkish-blue. You shouldn't eat cardboard\"\"\"\n",
        "tokenized_text = sent_tokenize(text)\n",
        "tokenized_text"
      ],
      "execution_count": null,
      "outputs": [
        {
          "output_type": "stream",
          "text": [
            "[nltk_data] Downloading package punkt to /root/nltk_data...\n",
            "[nltk_data]   Unzipping tokenizers/punkt.zip.\n"
          ],
          "name": "stdout"
        },
        {
          "output_type": "execute_result",
          "data": {
            "text/plain": [
              "['Hello Mr. Aakash, how are you doing today?',\n",
              " 'The weather is great, and city is awesome.',\n",
              " 'The sky is pinkish-blue.',\n",
              " \"You shouldn't eat cardboard\"]"
            ]
          },
          "metadata": {
            "tags": []
          },
          "execution_count": 3
        }
      ]
    },
    {
      "cell_type": "markdown",
      "metadata": {
        "id": "8SwmfVWtY_N8"
      },
      "source": [
        " **Word Tokenization**  \n",
        "Word tokenizer breaks text paragraph into words."
      ]
    },
    {
      "cell_type": "code",
      "metadata": {
        "id": "jNI3jYliYc0M",
        "outputId": "03d9bb18-0f67-4d1c-c484-f879da26ed05",
        "colab": {
          "base_uri": "https://localhost:8080/",
          "height": 521
        }
      },
      "source": [
        "from nltk.tokenize import word_tokenize\n",
        "wt = word_tokenize(text)\n",
        "wt"
      ],
      "execution_count": null,
      "outputs": [
        {
          "output_type": "execute_result",
          "data": {
            "text/plain": [
              "['Hello',\n",
              " 'Mr.',\n",
              " 'Aakash',\n",
              " ',',\n",
              " 'how',\n",
              " 'are',\n",
              " 'you',\n",
              " 'doing',\n",
              " 'today',\n",
              " '?',\n",
              " 'The',\n",
              " 'weather',\n",
              " 'is',\n",
              " 'great',\n",
              " ',',\n",
              " 'and',\n",
              " 'city',\n",
              " 'is',\n",
              " 'awesome',\n",
              " '.',\n",
              " 'The',\n",
              " 'sky',\n",
              " 'is',\n",
              " 'pinkish-blue',\n",
              " '.',\n",
              " 'You',\n",
              " 'should',\n",
              " \"n't\",\n",
              " 'eat',\n",
              " 'cardboard']"
            ]
          },
          "metadata": {
            "tags": []
          },
          "execution_count": 4
        }
      ]
    },
    {
      "cell_type": "markdown",
      "metadata": {
        "id": "TudGihYLZlWQ"
      },
      "source": [
        "**Frequency Distribution**"
      ]
    },
    {
      "cell_type": "code",
      "metadata": {
        "id": "Gqz4r6PSZiJG",
        "outputId": "2fb37c23-d72e-44fc-f651-a284ba49949f",
        "colab": {
          "base_uri": "https://localhost:8080/",
          "height": 437
        }
      },
      "source": [
        "from nltk.probability import FreqDist\n",
        "fdist = FreqDist(wt)\n",
        "fdist"
      ],
      "execution_count": null,
      "outputs": [
        {
          "output_type": "execute_result",
          "data": {
            "text/plain": [
              "FreqDist({',': 2,\n",
              "          '.': 2,\n",
              "          '?': 1,\n",
              "          'Aakash': 1,\n",
              "          'Hello': 1,\n",
              "          'Mr.': 1,\n",
              "          'The': 2,\n",
              "          'You': 1,\n",
              "          'and': 1,\n",
              "          'are': 1,\n",
              "          'awesome': 1,\n",
              "          'cardboard': 1,\n",
              "          'city': 1,\n",
              "          'doing': 1,\n",
              "          'eat': 1,\n",
              "          'great': 1,\n",
              "          'how': 1,\n",
              "          'is': 3,\n",
              "          \"n't\": 1,\n",
              "          'pinkish-blue': 1,\n",
              "          'should': 1,\n",
              "          'sky': 1,\n",
              "          'today': 1,\n",
              "          'weather': 1,\n",
              "          'you': 1})"
            ]
          },
          "metadata": {
            "tags": []
          },
          "execution_count": 5
        }
      ]
    },
    {
      "cell_type": "code",
      "metadata": {
        "id": "p0GidSkBZyY7",
        "outputId": "ed5f1dbf-db86-4e12-9ae5-a03bb5c23051",
        "colab": {
          "base_uri": "https://localhost:8080/",
          "height": 151
        }
      },
      "source": [
        "fdist.most_common(8)"
      ],
      "execution_count": null,
      "outputs": [
        {
          "output_type": "execute_result",
          "data": {
            "text/plain": [
              "[('is', 3),\n",
              " (',', 2),\n",
              " ('The', 2),\n",
              " ('.', 2),\n",
              " ('Hello', 1),\n",
              " ('Mr.', 1),\n",
              " ('Aakash', 1),\n",
              " ('how', 1)]"
            ]
          },
          "metadata": {
            "tags": []
          },
          "execution_count": 6
        }
      ]
    },
    {
      "cell_type": "code",
      "metadata": {
        "id": "K05qx3Efe3XX",
        "outputId": "682f336d-7192-4c69-d0cc-0694aeb87ad3",
        "colab": {
          "base_uri": "https://localhost:8080/",
          "height": 330
        }
      },
      "source": [
        "## Frequency Distribution Plot\n",
        "import matplotlib.pyplot as plt\n",
        "fdist.plot(30,cumulative = False)"
      ],
      "execution_count": null,
      "outputs": [
        {
          "output_type": "display_data",
          "data": {
            "image/png": "[encoded data removed]",
            "text/plain": [
              "<Figure size 432x288 with 1 Axes>"
            ]
          },
          "metadata": {
            "tags": [],
            "needs_background": "light"
          }
        }
      ]
    },
    {
      "cell_type": "markdown",
      "metadata": {
        "id": "03oqFKT1fnGk"
      },
      "source": [
        "**Stop Words**\n",
        " considered as noise in the text. Text may contain stop words such as is, am, are, this, a, an, the, etc.\n",
        "\n",
        "\n",
        "\n",
        "\n",
        "\n",
        " In NLTK for removing stopwords, you need to create a list of stopwords and filter out your list of tokens from these words."
      ]
    },
    {
      "cell_type": "code",
      "metadata": {
        "id": "vOu7oFgrfIn0",
        "outputId": "d545d247-1e6e-4894-fe45-b85c815014bd",
        "colab": {
          "base_uri": "https://localhost:8080/",
          "height": 1000
        }
      },
      "source": [
        "from nltk.corpus import stopwords\n",
        "nltk.download('stopwords')\n",
        "stop_words = set(stopwords.words(\"english\"))\n",
        "stop_words"
      ],
      "execution_count": null,
      "outputs": [
        {
          "output_type": "stream",
          "text": [
            "[nltk_data] Downloading package stopwords to /root/nltk_data...\n",
            "[nltk_data]   Unzipping corpora/stopwords.zip.\n"
          ],
          "name": "stdout"
        },
        {
          "output_type": "execute_result",
          "data": {
            "text/plain": [
              "{'a',\n",
              " 'about',\n",
              " 'above',\n",
              " 'after',\n",
              " 'again',\n",
              " 'against',\n",
              " 'ain',\n",
              " 'all',\n",
              " 'am',\n",
              " 'an',\n",
              " 'and',\n",
              " 'any',\n",
              " 'are',\n",
              " 'aren',\n",
              " \"aren't\",\n",
              " 'as',\n",
              " 'at',\n",
              " 'be',\n",
              " 'because',\n",
              " 'been',\n",
              " 'before',\n",
              " 'being',\n",
              " 'below',\n",
              " 'between',\n",
              " 'both',\n",
              " 'but',\n",
              " 'by',\n",
              " 'can',\n",
              " 'couldn',\n",
              " \"couldn't\",\n",
              " 'd',\n",
              " 'did',\n",
              " 'didn',\n",
              " \"didn't\",\n",
              " 'do',\n",
              " 'does',\n",
              " 'doesn',\n",
              " \"doesn't\",\n",
              " 'doing',\n",
              " 'don',\n",
              " \"don't\",\n",
              " 'down',\n",
              " 'during',\n",
              " 'each',\n",
              " 'few',\n",
              " 'for',\n",
              " 'from',\n",
              " 'further',\n",
              " 'had',\n",
              " 'hadn',\n",
              " \"hadn't\",\n",
              " 'has',\n",
              " 'hasn',\n",
              " \"hasn't\",\n",
              " 'have',\n",
              " 'haven',\n",
              " \"haven't\",\n",
              " 'having',\n",
              " 'he',\n",
              " 'her',\n",
              " 'here',\n",
              " 'hers',\n",
              " 'herself',\n",
              " 'him',\n",
              " 'himself',\n",
              " 'his',\n",
              " 'how',\n",
              " 'i',\n",
              " 'if',\n",
              " 'in',\n",
              " 'into',\n",
              " 'is',\n",
              " 'isn',\n",
              " \"isn't\",\n",
              " 'it',\n",
              " \"it's\",\n",
              " 'its',\n",
              " 'itself',\n",
              " 'just',\n",
              " 'll',\n",
              " 'm',\n",
              " 'ma',\n",
              " 'me',\n",
              " 'mightn',\n",
              " \"mightn't\",\n",
              " 'more',\n",
              " 'most',\n",
              " 'mustn',\n",
              " \"mustn't\",\n",
              " 'my',\n",
              " 'myself',\n",
              " 'needn',\n",
              " \"needn't\",\n",
              " 'no',\n",
              " 'nor',\n",
              " 'not',\n",
              " 'now',\n",
              " 'o',\n",
              " 'of',\n",
              " 'off',\n",
              " 'on',\n",
              " 'once',\n",
              " 'only',\n",
              " 'or',\n",
              " 'other',\n",
              " 'our',\n",
              " 'ours',\n",
              " 'ourselves',\n",
              " 'out',\n",
              " 'over',\n",
              " 'own',\n",
              " 're',\n",
              " 's',\n",
              " 'same',\n",
              " 'shan',\n",
              " \"shan't\",\n",
              " 'she',\n",
              " \"she's\",\n",
              " 'should',\n",
              " \"should've\",\n",
              " 'shouldn',\n",
              " \"shouldn't\",\n",
              " 'so',\n",
              " 'some',\n",
              " 'such',\n",
              " 't',\n",
              " 'than',\n",
              " 'that',\n",
              " \"that'll\",\n",
              " 'the',\n",
              " 'their',\n",
              " 'theirs',\n",
              " 'them',\n",
              " 'themselves',\n",
              " 'then',\n",
              " 'there',\n",
              " 'these',\n",
              " 'they',\n",
              " 'this',\n",
              " 'those',\n",
              " 'through',\n",
              " 'to',\n",
              " 'too',\n",
              " 'under',\n",
              " 'until',\n",
              " 'up',\n",
              " 've',\n",
              " 'very',\n",
              " 'was',\n",
              " 'wasn',\n",
              " \"wasn't\",\n",
              " 'we',\n",
              " 'were',\n",
              " 'weren',\n",
              " \"weren't\",\n",
              " 'what',\n",
              " 'when',\n",
              " 'where',\n",
              " 'which',\n",
              " 'while',\n",
              " 'who',\n",
              " 'whom',\n",
              " 'why',\n",
              " 'will',\n",
              " 'with',\n",
              " 'won',\n",
              " \"won't\",\n",
              " 'wouldn',\n",
              " \"wouldn't\",\n",
              " 'y',\n",
              " 'you',\n",
              " \"you'd\",\n",
              " \"you'll\",\n",
              " \"you're\",\n",
              " \"you've\",\n",
              " 'your',\n",
              " 'yours',\n",
              " 'yourself',\n",
              " 'yourselves'}"
            ]
          },
          "metadata": {
            "tags": []
          },
          "execution_count": 8
        }
      ]
    },
    {
      "cell_type": "code",
      "metadata": {
        "id": "hWpEuFu0g5Xw",
        "outputId": "ae9b6f73-5fa8-4ecb-b6c4-75b304654e69",
        "colab": {
          "base_uri": "https://localhost:8080/",
          "height": 70
        }
      },
      "source": [
        "# import pandas as pd\n",
        "filtered_sent = []\n",
        "for i in wt:\n",
        "  if i not in stop_words:\n",
        "    filtered_sent.append(i)\n",
        "print(wt)\n",
        "print(filtered_sent)    "
      ],
      "execution_count": null,
      "outputs": [
        {
          "output_type": "stream",
          "text": [
            "['Hello', 'Mr.', 'Aakash', ',', 'how', 'are', 'you', 'doing', 'today', '?', 'The', 'weather', 'is', 'great', ',', 'and', 'city', 'is', 'awesome', '.', 'The', 'sky', 'is', 'pinkish-blue', '.', 'You', 'should', \"n't\", 'eat', 'cardboard']\n",
            "['Hello', 'Mr.', 'Aakash', ',', 'today', '?', 'The', 'weather', 'great', ',', 'city', 'awesome', '.', 'The', 'sky', 'pinkish-blue', '.', 'You', \"n't\", 'eat', 'cardboard']\n"
          ],
          "name": "stdout"
        }
      ]
    },
    {
      "cell_type": "markdown",
      "metadata": {
        "id": "E76FqiMykDFH"
      },
      "source": [
        "**Lexicon Normalization**:\n",
        "Lexicon normalization considers another type of noise in the text. For example, connection, connected, connecting word reduce to a common word \"connect\". It reduces derivationally related forms of a word to a common root word.\n",
        "\n",
        "\n",
        "\n",
        "\n",
        "\n",
        "\n",
        "**Stemming**:\n",
        "Stemming is a process of linguistic normalization, which reduces words to their word root word or chops off the derivational affixes. For example, connection, connected, connecting word reduce to a common word \"connect\"."
      ]
    },
    {
      "cell_type": "code",
      "metadata": {
        "id": "AbWupwZzhYvP",
        "outputId": "9fd83552-3418-4cab-b856-1f1f5ce6ab3a",
        "colab": {
          "base_uri": "https://localhost:8080/",
          "height": 70
        }
      },
      "source": [
        "from nltk.stem import PorterStemmer\n",
        "from nltk.tokenize import sent_tokenize,word_tokenize\n",
        "ps = PorterStemmer()\n",
        "stemmed_words = []\n",
        "for i in  filtered_sent:\n",
        "  stemmed_words.append(ps.stem(i))\n",
        "print(\"Filtered Sentence:\",filtered_sent)\n",
        "print(\"Stemmed Sentence:\",stemmed_words)  "
      ],
      "execution_count": null,
      "outputs": [
        {
          "output_type": "stream",
          "text": [
            "Filtered Sentence: ['Hello', 'Mr.', 'Aakash', ',', 'today', '?', 'The', 'weather', 'great', ',', 'city', 'awesome', '.', 'The', 'sky', 'pinkish-blue', '.', 'You', \"n't\", 'eat', 'cardboard']\n",
            "Stemmed Sentence: ['hello', 'mr.', 'aakash', ',', 'today', '?', 'the', 'weather', 'great', ',', 'citi', 'awesom', '.', 'the', 'sky', 'pinkish-blu', '.', 'you', \"n't\", 'eat', 'cardboard']\n"
          ],
          "name": "stdout"
        }
      ]
    },
    {
      "cell_type": "markdown",
      "metadata": {
        "id": "xLpP3WQNl1EX"
      },
      "source": [
        "**Lemmatization**\n",
        "\n",
        "\n",
        "Lemmatization reduces words to their base word, which is linguistically correct lemmas. It transforms root word with the use of vocabulary and morphological analysis. Lemmatization is usually more sophisticated than stemming. Stemmer works on an individual word without knowledge of the context. For example, The word \"better\" has \"good\" as its lemma. This thing will miss by stemming because it requires a dictionary look-up."
      ]
    },
    {
      "cell_type": "code",
      "metadata": {
        "id": "e95GmdxTlc2B",
        "outputId": "e6576804-a8b3-469c-8cee-1e692dfcaa3c",
        "colab": {
          "base_uri": "https://localhost:8080/",
          "height": 84
        }
      },
      "source": [
        "from nltk.stem import WordNetLemmatizer\n",
        "from nltk.stem.porter import PorterStemmer\n",
        "nltk.download(\"wordnet\")\n",
        "lem = WordNetLemmatizer()\n",
        "stem = PorterStemmer()\n",
        "word = \"playing\"\n",
        "print(\"Lemmatized Word :\",lem.lemmatize(word,\"v\"))\n",
        "print(\"Stemmed Word :\",stem.stem(word))"
      ],
      "execution_count": null,
      "outputs": [
        {
          "output_type": "stream",
          "text": [
            "[nltk_data] Downloading package wordnet to /root/nltk_data...\n",
            "[nltk_data]   Unzipping corpora/wordnet.zip.\n",
            "Lemmatized Word : play\n",
            "Stemmed Word : play\n"
          ],
          "name": "stdout"
        }
      ]
    },
    {
      "cell_type": "markdown",
      "metadata": {
        "id": "kDKIMu4wnIYk"
      },
      "source": [
        "**POS Tagging**\n",
        "\n",
        "\n",
        "The primary target of Part-of-Speech(POS) tagging is to identify the grammatical group of a given word. Whether it is a NOUN, PRONOUN, ADJECTIVE, VERB, ADVERBS, etc. based on the context. POS Tagging looks for relationships within the sentence and assigns a corresponding tag to the word."
      ]
    },
    {
      "cell_type": "code",
      "metadata": {
        "id": "3tO3I9MdmgSg",
        "outputId": "0378d77f-20a6-4d72-ac6e-d7d50a205fde",
        "colab": {
          "base_uri": "https://localhost:8080/",
          "height": 218
        }
      },
      "source": [
        "text = \"Narendra Modi was born in Vadnagar,Bombay State in 1950.\"\n",
        "word_tokenize = nltk.word_tokenize(text)\n",
        "word_tokenize"
      ],
      "execution_count": null,
      "outputs": [
        {
          "output_type": "execute_result",
          "data": {
            "text/plain": [
              "['Narendra',\n",
              " 'Modi',\n",
              " 'was',\n",
              " 'born',\n",
              " 'in',\n",
              " 'Vadnagar',\n",
              " ',',\n",
              " 'Bombay',\n",
              " 'State',\n",
              " 'in',\n",
              " '1950',\n",
              " '.']"
            ]
          },
          "metadata": {
            "tags": []
          },
          "execution_count": 13
        }
      ]
    },
    {
      "cell_type": "code",
      "metadata": {
        "id": "NKFz2yzBn2xa",
        "outputId": "842c50d7-de4b-41b3-921e-c2a3b39f583e",
        "colab": {
          "base_uri": "https://localhost:8080/",
          "height": 269
        }
      },
      "source": [
        "nltk.download('averaged_perceptron_tagger')\n",
        "nltk.pos_tag(word_tokenize)"
      ],
      "execution_count": null,
      "outputs": [
        {
          "output_type": "stream",
          "text": [
            "[nltk_data] Downloading package averaged_perceptron_tagger to\n",
            "[nltk_data]     /root/nltk_data...\n",
            "[nltk_data]   Unzipping taggers/averaged_perceptron_tagger.zip.\n"
          ],
          "name": "stdout"
        },
        {
          "output_type": "execute_result",
          "data": {
            "text/plain": [
              "[('Narendra', 'NNP'),\n",
              " ('Modi', 'NNP'),\n",
              " ('was', 'VBD'),\n",
              " ('born', 'VBN'),\n",
              " ('in', 'IN'),\n",
              " ('Vadnagar', 'NNP'),\n",
              " (',', ','),\n",
              " ('Bombay', 'NNP'),\n",
              " ('State', 'NNP'),\n",
              " ('in', 'IN'),\n",
              " ('1950', 'CD'),\n",
              " ('.', '.')]"
            ]
          },
          "metadata": {
            "tags": []
          },
          "execution_count": 14
        }
      ]
    },
    {
      "cell_type": "markdown",
      "metadata": {
        "id": "l5siW78ueOMi"
      },
      "source": [
        "**Chunking**\n",
        "\n",
        "Chunking is used to add more structure to the sentence by following parts of speech (POS) tagging. It is also known as shallow parsing. ... Shallow Parsing is also called light parsing or chunking. The primary usage of chunking is to make a group of \"noun phrases.\" The parts of speech are combined with regular expressions."
      ]
    },
    {
      "cell_type": "code",
      "metadata": {
        "id": "SZd76DxDNws8",
        "outputId": "2c7f28eb-494b-4798-dc8c-1b42ed1bba9c",
        "colab": {
          "base_uri": "https://localhost:8080/",
          "height": 118
        }
      },
      "source": [
        "from nltk import ne_chunk\n",
        "nltk.download('maxent_ne_chunker')\n",
        "nltk.download('words')"
      ],
      "execution_count": null,
      "outputs": [
        {
          "output_type": "stream",
          "text": [
            "[nltk_data] Downloading package maxent_ne_chunker to\n",
            "[nltk_data]     /root/nltk_data...\n",
            "[nltk_data]   Unzipping chunkers/maxent_ne_chunker.zip.\n",
            "[nltk_data] Downloading package words to /root/nltk_data...\n",
            "[nltk_data]   Unzipping corpora/words.zip.\n"
          ],
          "name": "stdout"
        },
        {
          "output_type": "execute_result",
          "data": {
            "text/plain": [
              "True"
            ]
          },
          "metadata": {
            "tags": []
          },
          "execution_count": 15
        }
      ]
    },
    {
      "cell_type": "code",
      "metadata": {
        "id": "dfNpBeMFeX8c",
        "outputId": "b7c1a17c-6e65-4223-a875-6bc07814b854",
        "colab": {
          "base_uri": "https://localhost:8080/",
          "height": 218
        }
      },
      "source": [
        "print(ne_chunk(nltk.pos_tag(word_tokenize)))"
      ],
      "execution_count": null,
      "outputs": [
        {
          "output_type": "stream",
          "text": [
            "(S\n",
            "  (PERSON Narendra/NNP)\n",
            "  (PERSON Modi/NNP)\n",
            "  was/VBD\n",
            "  born/VBN\n",
            "  in/IN\n",
            "  (GPE Vadnagar/NNP)\n",
            "  ,/,\n",
            "  (PERSON Bombay/NNP State/NNP)\n",
            "  in/IN\n",
            "  1950/CD\n",
            "  ./.)\n"
          ],
          "name": "stdout"
        }
      ]
    },
    {
      "cell_type": "markdown",
      "metadata": {
        "id": "so1IxwdSrJyn"
      },
      "source": [
        "Some Real Life Examples Of Nltk are\n",
        "\n",
        "1. Chatbot\n",
        "2. Virtual Assistant\n",
        "3. Speech Recognition"
      ]
    },
    {
      "cell_type": "markdown",
      "metadata": {
        "id": "aQyj2A4hrgYW"
      },
      "source": [
        "ChatBot\n",
        "\n",
        "A chatbot is a computer software able to interact with humans using a natural language. They usually rely on machine learning, especially on NLP. ... This article shows how to create a simple chatbot in Python using the library ChatterBot. Our bot will be used for small talk, as well as to answer some math questions\n",
        "\n",
        "\n",
        "\n",
        "\n",
        "\n",
        "I will make a chatbot where i will just train the bot by providing some words so that it will give me meaning of that word"
      ]
    },
    {
      "cell_type": "code",
      "metadata": {
        "id": "yUppre7At5jB"
      },
      "source": [
        "from nltk.corpus import wordnet\n",
        "import numpy as np\n",
        "import random"
      ],
      "execution_count": null,
      "outputs": []
    },
    {
      "cell_type": "code",
      "metadata": {
        "id": "q3njs7BjbBTK",
        "outputId": "25903968-ea48-4b81-890d-bf4b0acc86f3",
        "colab": {
          "base_uri": "https://localhost:8080/",
          "height": 759
        }
      },
      "source": [
        "!pip install googletrans\n",
        "from googletrans import Translator\n",
        "import googletrans"
      ],
      "execution_count": null,
      "outputs": [
        {
          "output_type": "stream",
          "text": [
            "Collecting googletrans\n",
            "  Downloading https://files.pythonhosted.org/packages/71/3a/3b19effdd4c03958b90f40fe01c93de6d5280e03843cc5adf6956bfc9512/googletrans-3.0.0.tar.gz\n",
            "Collecting httpx==0.13.3\n",
            "\u001b[?25l  Downloading https://files.pythonhosted.org/packages/54/b4/698b284c6aed4d7c2b4fe3ba5df1fcf6093612423797e76fbb24890dd22f/httpx-0.13.3-py3-none-any.whl (55kB)\n",
            "\u001b[K     |████████████████████████████████| 61kB 4.3MB/s \n",
            "\u001b[?25hRequirement already satisfied: chardet==3.* in /usr/local/lib/python3.6/dist-packages (from httpx==0.13.3->googletrans) (3.0.4)\n",
            "Requirement already satisfied: idna==2.* in /usr/local/lib/python3.6/dist-packages (from httpx==0.13.3->googletrans) (2.10)\n",
            "Collecting httpcore==0.9.*\n",
            "\u001b[?25l  Downloading https://files.pythonhosted.org/packages/dd/d5/e4ff9318693ac6101a2095e580908b591838c6f33df8d3ee8dd953ba96a8/httpcore-0.9.1-py3-none-any.whl (42kB)\n",
            "\u001b[K     |████████████████████████████████| 51kB 6.3MB/s \n",
            "\u001b[?25hCollecting hstspreload\n",
            "\u001b[?25l  Downloading https://files.pythonhosted.org/packages/f0/16/59b51f8e640f16acad2c0e101fa1e55a87bfd80cff23f77ab23cb8927541/hstspreload-2020.10.6-py3-none-any.whl (965kB)\n",
            "\u001b[K     |████████████████████████████████| 972kB 33.7MB/s \n",
            "\u001b[?25hCollecting rfc3986<2,>=1.3\n",
            "  Downloading https://files.pythonhosted.org/packages/78/be/7b8b99fd74ff5684225f50dd0e865393d2265656ef3b4ba9eaaaffe622b8/rfc3986-1.4.0-py2.py3-none-any.whl\n",
            "Collecting sniffio\n",
            "  Downloading https://files.pythonhosted.org/packages/52/b0/7b2e028b63d092804b6794595871f936aafa5e9322dcaaad50ebf67445b3/sniffio-1.2.0-py3-none-any.whl\n",
            "Requirement already satisfied: certifi in /usr/local/lib/python3.6/dist-packages (from httpx==0.13.3->googletrans) (2020.6.20)\n",
            "Collecting h11<0.10,>=0.8\n",
            "\u001b[?25l  Downloading https://files.pythonhosted.org/packages/5a/fd/3dad730b0f95e78aeeb742f96fa7bbecbdd56a58e405d3da440d5bfb90c6/h11-0.9.0-py2.py3-none-any.whl (53kB)\n",
            "\u001b[K     |████████████████████████████████| 61kB 6.9MB/s \n",
            "\u001b[?25hCollecting h2==3.*\n",
            "\u001b[?25l  Downloading https://files.pythonhosted.org/packages/25/de/da019bcc539eeab02f6d45836f23858ac467f584bfec7a526ef200242afe/h2-3.2.0-py2.py3-none-any.whl (65kB)\n",
            "\u001b[K     |████████████████████████████████| 71kB 5.4MB/s \n",
            "\u001b[?25hCollecting contextvars>=2.1; python_version < \"3.7\"\n",
            "  Downloading https://files.pythonhosted.org/packages/83/96/55b82d9f13763be9d672622e1b8106c85acb83edd7cc2fa5bc67cd9877e9/contextvars-2.4.tar.gz\n",
            "Collecting hyperframe<6,>=5.2.0\n",
            "  Downloading https://files.pythonhosted.org/packages/19/0c/bf88182bcb5dce3094e2f3e4fe20db28a9928cb7bd5b08024030e4b140db/hyperframe-5.2.0-py2.py3-none-any.whl\n",
            "Collecting hpack<4,>=3.0\n",
            "  Downloading https://files.pythonhosted.org/packages/8a/cc/e53517f4a1e13f74776ca93271caef378dadec14d71c61c949d759d3db69/hpack-3.0.0-py2.py3-none-any.whl\n",
            "Collecting immutables>=0.9\n",
            "\u001b[?25l  Downloading https://files.pythonhosted.org/packages/99/e0/ea6fd4697120327d26773b5a84853f897a68e33d3f9376b00a8ff96e4f63/immutables-0.14-cp36-cp36m-manylinux1_x86_64.whl (98kB)\n",
            "\u001b[K     |████████████████████████████████| 102kB 10.7MB/s \n",
            "\u001b[?25hBuilding wheels for collected packages: googletrans, contextvars\n",
            "  Building wheel for googletrans (setup.py) ... \u001b[?25l\u001b[?25hdone\n",
            "  Created wheel for googletrans: filename=googletrans-3.0.0-cp36-none-any.whl size=15736 sha256=f50bcf13e692e6ba758e423b30c2d6515be9c9c62fad89c45ac75ff21446027c\n",
            "  Stored in directory: /root/.cache/pip/wheels/28/1a/a7/eaf4d7a3417a0c65796c547cff4deb6d79c7d14c2abd29273e\n",
            "  Building wheel for contextvars (setup.py) ... \u001b[?25l\u001b[?25hdone\n",
            "  Created wheel for contextvars: filename=contextvars-2.4-cp36-none-any.whl size=7666 sha256=56066a923e623f0041cbcb59e3b084c67bbb0f9cedec2f77e897354bb789622b\n",
            "  Stored in directory: /root/.cache/pip/wheels/a5/7d/68/1ebae2668bda2228686e3c1cf16f2c2384cea6e9334ad5f6de\n",
            "Successfully built googletrans contextvars\n",
            "Installing collected packages: h11, hyperframe, hpack, h2, immutables, contextvars, sniffio, httpcore, hstspreload, rfc3986, httpx, googletrans\n",
            "Successfully installed contextvars-2.4 googletrans-3.0.0 h11-0.9.0 h2-3.2.0 hpack-3.0.0 hstspreload-2020.10.6 httpcore-0.9.1 httpx-0.13.3 hyperframe-5.2.0 immutables-0.14 rfc3986-1.4.0 sniffio-1.2.0\n"
          ],
          "name": "stdout"
        }
      ]
    },
    {
      "cell_type": "code",
      "metadata": {
        "id": "dx7TAA0LuTQo",
        "outputId": "49d69d14-ffb2-4674-e7ae-b91ff09a1b5e",
        "colab": {
          "base_uri": "https://localhost:8080/",
          "height": 35
        }
      },
      "source": [
        "wordnet.synsets(\"python\")[0].definition()"
      ],
      "execution_count": null,
      "outputs": [
        {
          "output_type": "execute_result",
          "data": {
            "application/vnd.google.colaboratory.intrinsic+json": {
              "type": "string"
            },
            "text/plain": [
              "'large Old World boas'"
            ]
          },
          "metadata": {
            "tags": []
          },
          "execution_count": 128
        }
      ]
    },
    {
      "cell_type": "code",
      "metadata": {
        "id": "EKc9gZz-bGYB"
      },
      "source": [
        "codes = []\n",
        "for  i in googletrans.LANGUAGES.items():\n",
        "    codes.append(list(i))"
      ],
      "execution_count": null,
      "outputs": []
    },
    {
      "cell_type": "code",
      "metadata": {
        "id": "DJ2V2omu5bYl",
        "outputId": "a881bdb6-8062-4323-8318-ac1fab89a8c2",
        "colab": {
          "base_uri": "https://localhost:8080/",
          "height": 262
        }
      },
      "source": [
        "while True:\n",
        "        response = input(\"You:\")\n",
        "        if response in[\"exit\",\"Exit\",\"EXIT\",\"Quit\",\"QUIT\",\"quit\"]:\n",
        "            break\n",
        "        if response.capitalize() in  [\"Hi\", \"Hey\", \"How are you\", \"Is anyone there?\", \"Hello\", \"Good day\", \"Whats up\"]:\n",
        "          print(\"Bot: \",np.random.choice([\"Hello!\", \"Good to see you again!\", \"Hi there, how can I help?\", \"Hello! I'm aakash. How may I help you?\", \"Hey there!\"]))\n",
        "          print(\"Bot: \",\"I was only trained to give you the meaning of word provided by you\")\n",
        "          print(\"Bot:\",\"If you like to know the meaning of a word then type the word Meanings or exit\")\n",
        "          print(\"Bot: \",\"If you could not understand the english language and want meaning to translate  then type Translate\") \n",
        "        \n",
        "        elif response in  [\"meanings\",\"Meanings\",\"MEANINGS\"]:\n",
        "          while True: \n",
        "            response1 = input(\"Meanings:\")\n",
        "            if response1 in[\"exit\",\"Exit\",\"EXIT\",\"Quit\",\"QUIT\",\"quit\"]:\n",
        "              break  \n",
        "            else:\n",
        "              print(\"Bot: \",wordnet.synsets(response1)[0].definition())\n",
        "        \n",
        "        \n",
        "        elif response in [\"translate\",\"Translate\",\"TRANSLATE\"]:\n",
        "          language = input(\"Type Language:\")\n",
        "          while True:\n",
        "            if language ==\"\".join([i[1] for i in codes if i[1] == language]):\n",
        "              response2 = input(\"Translation:\")\n",
        "            if response2 in[\"exit\",\"Exit\",\"EXIT\",\"Quit\",\"QUIT\",\"quit\"]:\n",
        "              break\n",
        "            else:\n",
        "              print(\"Bot: \",Translator().translate(wordnet.synsets(response2)[0].definition(),src = \"en\",dest=\"\".join([i[0] for i in codes if i[1] ==language])).text)\n"
      ],
      "execution_count": null,
      "outputs": [
        {
          "output_type": "stream",
          "text": [
            "You:hi\n"
          ],
          "name": "stdout"
        },
        {
          "output_type": "error",
          "ename": "NameError",
          "evalue": "ignored",
          "traceback": [
            "\u001b[0;31m---------------------------------------------------------------------------\u001b[0m",
            "\u001b[0;31mNameError\u001b[0m                                 Traceback (most recent call last)",
            "\u001b[0;32m<ipython-input-1-c0faa84b24a7>\u001b[0m in \u001b[0;36m<module>\u001b[0;34m()\u001b[0m\n\u001b[1;32m      4\u001b[0m             \u001b[0;32mbreak\u001b[0m\u001b[0;34m\u001b[0m\u001b[0;34m\u001b[0m\u001b[0m\n\u001b[1;32m      5\u001b[0m         \u001b[0;32mif\u001b[0m \u001b[0mresponse\u001b[0m\u001b[0;34m.\u001b[0m\u001b[0mcapitalize\u001b[0m\u001b[0;34m(\u001b[0m\u001b[0;34m)\u001b[0m \u001b[0;32min\u001b[0m  \u001b[0;34m[\u001b[0m\u001b[0;34m\"Hi\"\u001b[0m\u001b[0;34m,\u001b[0m \u001b[0;34m\"Hey\"\u001b[0m\u001b[0;34m,\u001b[0m \u001b[0;34m\"How are you\"\u001b[0m\u001b[0;34m,\u001b[0m \u001b[0;34m\"Is anyone there?\"\u001b[0m\u001b[0;34m,\u001b[0m \u001b[0;34m\"Hello\"\u001b[0m\u001b[0;34m,\u001b[0m \u001b[0;34m\"Good day\"\u001b[0m\u001b[0;34m,\u001b[0m \u001b[0;34m\"Whats up\"\u001b[0m\u001b[0;34m]\u001b[0m\u001b[0;34m:\u001b[0m\u001b[0;34m\u001b[0m\u001b[0;34m\u001b[0m\u001b[0m\n\u001b[0;32m----> 6\u001b[0;31m           \u001b[0mprint\u001b[0m\u001b[0;34m(\u001b[0m\u001b[0;34m\"Bot: \"\u001b[0m\u001b[0;34m,\u001b[0m\u001b[0mnp\u001b[0m\u001b[0;34m.\u001b[0m\u001b[0mrandom\u001b[0m\u001b[0;34m.\u001b[0m\u001b[0mchoice\u001b[0m\u001b[0;34m(\u001b[0m\u001b[0;34m[\u001b[0m\u001b[0;34m\"Hello!\"\u001b[0m\u001b[0;34m,\u001b[0m \u001b[0;34m\"Good to see you again!\"\u001b[0m\u001b[0;34m,\u001b[0m \u001b[0;34m\"Hi there, how can I help?\"\u001b[0m\u001b[0;34m,\u001b[0m \u001b[0;34m\"Hello! I'm aakash. How may I help you?\"\u001b[0m\u001b[0;34m,\u001b[0m \u001b[0;34m\"Hey there!\"\u001b[0m\u001b[0;34m]\u001b[0m\u001b[0;34m)\u001b[0m\u001b[0;34m)\u001b[0m\u001b[0;34m\u001b[0m\u001b[0;34m\u001b[0m\u001b[0m\n\u001b[0m\u001b[1;32m      7\u001b[0m           \u001b[0mprint\u001b[0m\u001b[0;34m(\u001b[0m\u001b[0;34m\"Bot: \"\u001b[0m\u001b[0;34m,\u001b[0m\u001b[0;34m\"I was only trained to give you the meaning of word provided by you\"\u001b[0m\u001b[0;34m)\u001b[0m\u001b[0;34m\u001b[0m\u001b[0;34m\u001b[0m\u001b[0m\n\u001b[1;32m      8\u001b[0m           \u001b[0mprint\u001b[0m\u001b[0;34m(\u001b[0m\u001b[0;34m\"Bot:\"\u001b[0m\u001b[0;34m,\u001b[0m\u001b[0;34m\"If you like to know the meaning of a word then type the word Meanings or exit\"\u001b[0m\u001b[0;34m)\u001b[0m\u001b[0;34m\u001b[0m\u001b[0;34m\u001b[0m\u001b[0m\n",
            "\u001b[0;31mNameError\u001b[0m: name 'np' is not defined"
          ]
        }
      ]
    },
    {
      "cell_type": "code",
      "metadata": {
        "id": "DZ1dL6ERWrCn"
      },
      "source": [
        ""
      ],
      "execution_count": null,
      "outputs": []
    },
    {
      "cell_type": "code",
      "metadata": {
        "id": "Nh9xZRl6a12r"
      },
      "source": [
        ""
      ],
      "execution_count": null,
      "outputs": []
    }
  ]
}