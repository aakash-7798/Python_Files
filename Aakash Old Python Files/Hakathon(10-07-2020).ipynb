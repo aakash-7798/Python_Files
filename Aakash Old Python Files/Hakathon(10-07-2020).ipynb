{
 "cells": [
  {
   "cell_type": "markdown",
   "metadata": {},
   "source": [
    "# Machine Learning Challenge"
   ]
  },
  {
   "cell_type": "markdown",
   "metadata": {},
   "source": [
    "# ProblemStatement :\n",
    "Predicting the amount that would be deposited in each branch in the year 2017"
   ]
  },
  {
   "cell_type": "markdown",
   "metadata": {},
   "source": [
    "# LoadingData"
   ]
  },
  {
   "cell_type": "code",
   "execution_count": 1,
   "metadata": {
    "ExecuteTime": {
     "end_time": "2020-07-11T05:17:54.655781Z",
     "start_time": "2020-07-11T05:17:46.937375Z"
    }
   },
   "outputs": [],
   "source": [
    "import pandas as pd"
   ]
  },
  {
   "cell_type": "code",
   "execution_count": 2,
   "metadata": {
    "ExecuteTime": {
     "end_time": "2020-07-11T05:17:55.705920Z",
     "start_time": "2020-07-11T05:17:55.615746Z"
    }
   },
   "outputs": [],
   "source": [
    "df = pd.read_csv(\"train.csv\")\n",
    "# pd.set_option('display.float_format', lambda x: '%.3f' % x) ### It helps to supress scientific notation\n",
    "# pd.set_option(\"display.max_rows\",None)  ### It helps us to view full dataframe"
   ]
  },
  {
   "cell_type": "code",
   "execution_count": 3,
   "metadata": {
    "ExecuteTime": {
     "end_time": "2020-07-11T05:17:56.465117Z",
     "start_time": "2020-07-11T05:17:56.403092Z"
    }
   },
   "outputs": [
    {
     "data": {
      "text/html": [
       "<div>\n",
       "<style scoped>\n",
       "    .dataframe tbody tr th:only-of-type {\n",
       "        vertical-align: middle;\n",
       "    }\n",
       "\n",
       "    .dataframe tbody tr th {\n",
       "        vertical-align: top;\n",
       "    }\n",
       "\n",
       "    .dataframe thead th {\n",
       "        text-align: right;\n",
       "    }\n",
       "</style>\n",
       "<table border=\"1\" class=\"dataframe\">\n",
       "  <thead>\n",
       "    <tr style=\"text-align: right;\">\n",
       "      <th></th>\n",
       "      <th>id</th>\n",
       "      <th>headquarter</th>\n",
       "      <th>location.Code</th>\n",
       "      <th>date_of_establishment</th>\n",
       "      <th>location</th>\n",
       "      <th>loc.details</th>\n",
       "      <th>state</th>\n",
       "      <th>deposit_amount_2011</th>\n",
       "      <th>deposit_amount_2012</th>\n",
       "      <th>deposit_amount_2013</th>\n",
       "      <th>deposit_amount_2014</th>\n",
       "      <th>deposit_amount_2015</th>\n",
       "      <th>deposit_amount_2016</th>\n",
       "      <th>deposit_amount_2017</th>\n",
       "    </tr>\n",
       "  </thead>\n",
       "  <tbody>\n",
       "    <tr>\n",
       "      <th>0</th>\n",
       "      <td>1</td>\n",
       "      <td>0</td>\n",
       "      <td>2871</td>\n",
       "      <td>1911-06-02</td>\n",
       "      <td>Wales</td>\n",
       "      <td>Waukesha</td>\n",
       "      <td>WI</td>\n",
       "      <td>32079.0</td>\n",
       "      <td>35971.5</td>\n",
       "      <td>37237.5</td>\n",
       "      <td>40362.0</td>\n",
       "      <td>46021.5</td>\n",
       "      <td>46020.0</td>\n",
       "      <td>69030.00</td>\n",
       "    </tr>\n",
       "    <tr>\n",
       "      <th>1</th>\n",
       "      <td>2</td>\n",
       "      <td>0</td>\n",
       "      <td>2872</td>\n",
       "      <td>NaN</td>\n",
       "      <td>Germantown</td>\n",
       "      <td>Washington</td>\n",
       "      <td>WI</td>\n",
       "      <td>83181.0</td>\n",
       "      <td>84846.0</td>\n",
       "      <td>97098.0</td>\n",
       "      <td>110284.5</td>\n",
       "      <td>122035.5</td>\n",
       "      <td>133905.0</td>\n",
       "      <td>200857.50</td>\n",
       "    </tr>\n",
       "    <tr>\n",
       "      <th>2</th>\n",
       "      <td>3</td>\n",
       "      <td>0</td>\n",
       "      <td>2873</td>\n",
       "      <td>1908-06-04</td>\n",
       "      <td>Brookfield</td>\n",
       "      <td>Waukesha</td>\n",
       "      <td>WI</td>\n",
       "      <td>136323.0</td>\n",
       "      <td>156450.0</td>\n",
       "      <td>187557.0</td>\n",
       "      <td>188859.0</td>\n",
       "      <td>198751.5</td>\n",
       "      <td>206044.5</td>\n",
       "      <td>309066.75</td>\n",
       "    </tr>\n",
       "    <tr>\n",
       "      <th>3</th>\n",
       "      <td>4</td>\n",
       "      <td>0</td>\n",
       "      <td>2874</td>\n",
       "      <td>NaN</td>\n",
       "      <td>Pewaukee</td>\n",
       "      <td>Waukesha</td>\n",
       "      <td>WI</td>\n",
       "      <td>68511.0</td>\n",
       "      <td>73932.0</td>\n",
       "      <td>79876.5</td>\n",
       "      <td>105603.0</td>\n",
       "      <td>112113.0</td>\n",
       "      <td>110755.5</td>\n",
       "      <td>166133.25</td>\n",
       "    </tr>\n",
       "    <tr>\n",
       "      <th>4</th>\n",
       "      <td>5</td>\n",
       "      <td>0</td>\n",
       "      <td>2875</td>\n",
       "      <td>NaN</td>\n",
       "      <td>Waukesha</td>\n",
       "      <td>Waukesha</td>\n",
       "      <td>WI</td>\n",
       "      <td>96271.5</td>\n",
       "      <td>108325.5</td>\n",
       "      <td>104880.0</td>\n",
       "      <td>121054.5</td>\n",
       "      <td>113956.5</td>\n",
       "      <td>109837.5</td>\n",
       "      <td>164756.25</td>\n",
       "    </tr>\n",
       "  </tbody>\n",
       "</table>\n",
       "</div>"
      ],
      "text/plain": [
       "   id  headquarter  location.Code date_of_establishment    location  \\\n",
       "0   1            0           2871            1911-06-02       Wales   \n",
       "1   2            0           2872                   NaN  Germantown   \n",
       "2   3            0           2873            1908-06-04  Brookfield   \n",
       "3   4            0           2874                   NaN    Pewaukee   \n",
       "4   5            0           2875                   NaN    Waukesha   \n",
       "\n",
       "  loc.details state  deposit_amount_2011  deposit_amount_2012  \\\n",
       "0    Waukesha    WI              32079.0              35971.5   \n",
       "1  Washington    WI              83181.0              84846.0   \n",
       "2    Waukesha    WI             136323.0             156450.0   \n",
       "3    Waukesha    WI              68511.0              73932.0   \n",
       "4    Waukesha    WI              96271.5             108325.5   \n",
       "\n",
       "   deposit_amount_2013  deposit_amount_2014  deposit_amount_2015  \\\n",
       "0              37237.5              40362.0              46021.5   \n",
       "1              97098.0             110284.5             122035.5   \n",
       "2             187557.0             188859.0             198751.5   \n",
       "3              79876.5             105603.0             112113.0   \n",
       "4             104880.0             121054.5             113956.5   \n",
       "\n",
       "   deposit_amount_2016  deposit_amount_2017  \n",
       "0              46020.0             69030.00  \n",
       "1             133905.0            200857.50  \n",
       "2             206044.5            309066.75  \n",
       "3             110755.5            166133.25  \n",
       "4             109837.5            164756.25  "
      ]
     },
     "execution_count": 3,
     "metadata": {},
     "output_type": "execute_result"
    }
   ],
   "source": [
    "df.head()"
   ]
  },
  {
   "cell_type": "code",
   "execution_count": 4,
   "metadata": {
    "ExecuteTime": {
     "end_time": "2020-07-11T05:17:57.164471Z",
     "start_time": "2020-07-11T05:17:56.980014Z"
    }
   },
   "outputs": [
    {
     "name": "stdout",
     "output_type": "stream",
     "text": [
      "<class 'pandas.core.frame.DataFrame'>\n",
      "RangeIndex: 3790 entries, 0 to 3789\n",
      "Data columns (total 14 columns):\n",
      " #   Column                 Non-Null Count  Dtype  \n",
      "---  ------                 --------------  -----  \n",
      " 0   id                     3790 non-null   int64  \n",
      " 1   headquarter            3790 non-null   int64  \n",
      " 2   location.Code          3790 non-null   int64  \n",
      " 3   date_of_establishment  1750 non-null   object \n",
      " 4   location               3790 non-null   object \n",
      " 5   loc.details            3790 non-null   object \n",
      " 6   state                  3790 non-null   object \n",
      " 7   deposit_amount_2011    3050 non-null   float64\n",
      " 8   deposit_amount_2012    3212 non-null   float64\n",
      " 9   deposit_amount_2013    3461 non-null   float64\n",
      " 10  deposit_amount_2014    3615 non-null   float64\n",
      " 11  deposit_amount_2015    3734 non-null   float64\n",
      " 12  deposit_amount_2016    3771 non-null   float64\n",
      " 13  deposit_amount_2017    3771 non-null   float64\n",
      "dtypes: float64(7), int64(3), object(4)\n",
      "memory usage: 414.7+ KB\n"
     ]
    }
   ],
   "source": [
    "df.info() ### This helps us to Know whether there are null values and also helps to see to which type it belongs to"
   ]
  },
  {
   "cell_type": "code",
   "execution_count": 5,
   "metadata": {
    "ExecuteTime": {
     "end_time": "2020-07-11T05:17:58.039240Z",
     "start_time": "2020-07-11T05:17:57.609370Z"
    }
   },
   "outputs": [
    {
     "data": {
      "text/html": [
       "<div>\n",
       "<style scoped>\n",
       "    .dataframe tbody tr th:only-of-type {\n",
       "        vertical-align: middle;\n",
       "    }\n",
       "\n",
       "    .dataframe tbody tr th {\n",
       "        vertical-align: top;\n",
       "    }\n",
       "\n",
       "    .dataframe thead th {\n",
       "        text-align: right;\n",
       "    }\n",
       "</style>\n",
       "<table border=\"1\" class=\"dataframe\">\n",
       "  <thead>\n",
       "    <tr style=\"text-align: right;\">\n",
       "      <th></th>\n",
       "      <th>id</th>\n",
       "      <th>headquarter</th>\n",
       "      <th>location.Code</th>\n",
       "      <th>deposit_amount_2011</th>\n",
       "      <th>deposit_amount_2012</th>\n",
       "      <th>deposit_amount_2013</th>\n",
       "      <th>deposit_amount_2014</th>\n",
       "      <th>deposit_amount_2015</th>\n",
       "      <th>deposit_amount_2016</th>\n",
       "      <th>deposit_amount_2017</th>\n",
       "    </tr>\n",
       "  </thead>\n",
       "  <tbody>\n",
       "    <tr>\n",
       "      <th>count</th>\n",
       "      <td>3790.000000</td>\n",
       "      <td>3790.0</td>\n",
       "      <td>3790.000000</td>\n",
       "      <td>3.050000e+03</td>\n",
       "      <td>3.212000e+03</td>\n",
       "      <td>3.461000e+03</td>\n",
       "      <td>3.615000e+03</td>\n",
       "      <td>3.734000e+03</td>\n",
       "      <td>3.771000e+03</td>\n",
       "      <td>3.771000e+03</td>\n",
       "    </tr>\n",
       "    <tr>\n",
       "      <th>mean</th>\n",
       "      <td>1895.500000</td>\n",
       "      <td>0.0</td>\n",
       "      <td>5395.806332</td>\n",
       "      <td>1.683201e+05</td>\n",
       "      <td>1.882705e+05</td>\n",
       "      <td>1.933803e+05</td>\n",
       "      <td>2.045743e+05</td>\n",
       "      <td>2.183874e+05</td>\n",
       "      <td>2.364422e+05</td>\n",
       "      <td>3.546633e+05</td>\n",
       "    </tr>\n",
       "    <tr>\n",
       "      <th>std</th>\n",
       "      <td>1094.223088</td>\n",
       "      <td>0.0</td>\n",
       "      <td>1549.105135</td>\n",
       "      <td>4.196386e+06</td>\n",
       "      <td>5.171073e+06</td>\n",
       "      <td>5.320718e+06</td>\n",
       "      <td>5.610536e+06</td>\n",
       "      <td>5.970416e+06</td>\n",
       "      <td>6.422120e+06</td>\n",
       "      <td>9.633180e+06</td>\n",
       "    </tr>\n",
       "    <tr>\n",
       "      <th>min</th>\n",
       "      <td>1.000000</td>\n",
       "      <td>0.0</td>\n",
       "      <td>2871.000000</td>\n",
       "      <td>0.000000e+00</td>\n",
       "      <td>0.000000e+00</td>\n",
       "      <td>0.000000e+00</td>\n",
       "      <td>0.000000e+00</td>\n",
       "      <td>0.000000e+00</td>\n",
       "      <td>0.000000e+00</td>\n",
       "      <td>0.000000e+00</td>\n",
       "    </tr>\n",
       "    <tr>\n",
       "      <th>25%</th>\n",
       "      <td>948.250000</td>\n",
       "      <td>0.0</td>\n",
       "      <td>4067.250000</td>\n",
       "      <td>2.839800e+04</td>\n",
       "      <td>3.019912e+04</td>\n",
       "      <td>3.159750e+04</td>\n",
       "      <td>3.497175e+04</td>\n",
       "      <td>3.935850e+04</td>\n",
       "      <td>4.632150e+04</td>\n",
       "      <td>6.948225e+04</td>\n",
       "    </tr>\n",
       "    <tr>\n",
       "      <th>50%</th>\n",
       "      <td>1895.500000</td>\n",
       "      <td>0.0</td>\n",
       "      <td>5261.500000</td>\n",
       "      <td>5.344200e+04</td>\n",
       "      <td>5.577450e+04</td>\n",
       "      <td>5.961600e+04</td>\n",
       "      <td>6.353700e+04</td>\n",
       "      <td>7.015800e+04</td>\n",
       "      <td>7.877400e+04</td>\n",
       "      <td>1.181610e+05</td>\n",
       "    </tr>\n",
       "    <tr>\n",
       "      <th>75%</th>\n",
       "      <td>2842.750000</td>\n",
       "      <td>0.0</td>\n",
       "      <td>6863.250000</td>\n",
       "      <td>9.910912e+04</td>\n",
       "      <td>1.004205e+05</td>\n",
       "      <td>1.072440e+05</td>\n",
       "      <td>1.145288e+05</td>\n",
       "      <td>1.249448e+05</td>\n",
       "      <td>1.373490e+05</td>\n",
       "      <td>2.060235e+05</td>\n",
       "    </tr>\n",
       "    <tr>\n",
       "      <th>max</th>\n",
       "      <td>3790.000000</td>\n",
       "      <td>0.0</td>\n",
       "      <td>7994.000000</td>\n",
       "      <td>2.303660e+08</td>\n",
       "      <td>2.915820e+08</td>\n",
       "      <td>3.110520e+08</td>\n",
       "      <td>3.350930e+08</td>\n",
       "      <td>3.623109e+08</td>\n",
       "      <td>3.919391e+08</td>\n",
       "      <td>5.879087e+08</td>\n",
       "    </tr>\n",
       "  </tbody>\n",
       "</table>\n",
       "</div>"
      ],
      "text/plain": [
       "                id  headquarter  location.Code  deposit_amount_2011  \\\n",
       "count  3790.000000       3790.0    3790.000000         3.050000e+03   \n",
       "mean   1895.500000          0.0    5395.806332         1.683201e+05   \n",
       "std    1094.223088          0.0    1549.105135         4.196386e+06   \n",
       "min       1.000000          0.0    2871.000000         0.000000e+00   \n",
       "25%     948.250000          0.0    4067.250000         2.839800e+04   \n",
       "50%    1895.500000          0.0    5261.500000         5.344200e+04   \n",
       "75%    2842.750000          0.0    6863.250000         9.910912e+04   \n",
       "max    3790.000000          0.0    7994.000000         2.303660e+08   \n",
       "\n",
       "       deposit_amount_2012  deposit_amount_2013  deposit_amount_2014  \\\n",
       "count         3.212000e+03         3.461000e+03         3.615000e+03   \n",
       "mean          1.882705e+05         1.933803e+05         2.045743e+05   \n",
       "std           5.171073e+06         5.320718e+06         5.610536e+06   \n",
       "min           0.000000e+00         0.000000e+00         0.000000e+00   \n",
       "25%           3.019912e+04         3.159750e+04         3.497175e+04   \n",
       "50%           5.577450e+04         5.961600e+04         6.353700e+04   \n",
       "75%           1.004205e+05         1.072440e+05         1.145288e+05   \n",
       "max           2.915820e+08         3.110520e+08         3.350930e+08   \n",
       "\n",
       "       deposit_amount_2015  deposit_amount_2016  deposit_amount_2017  \n",
       "count         3.734000e+03         3.771000e+03         3.771000e+03  \n",
       "mean          2.183874e+05         2.364422e+05         3.546633e+05  \n",
       "std           5.970416e+06         6.422120e+06         9.633180e+06  \n",
       "min           0.000000e+00         0.000000e+00         0.000000e+00  \n",
       "25%           3.935850e+04         4.632150e+04         6.948225e+04  \n",
       "50%           7.015800e+04         7.877400e+04         1.181610e+05  \n",
       "75%           1.249448e+05         1.373490e+05         2.060235e+05  \n",
       "max           3.623109e+08         3.919391e+08         5.879087e+08  "
      ]
     },
     "execution_count": 5,
     "metadata": {},
     "output_type": "execute_result"
    }
   ],
   "source": [
    "df.describe()  ## This gives us the summary or statistics of dataframe\n",
    "               ### Note: The following is only for Dimensions in  dataframe not for measures(only for numerical not for categorical)"
   ]
  },
  {
   "cell_type": "markdown",
   "metadata": {},
   "source": [
    "# NA_Value Check"
   ]
  },
  {
   "cell_type": "code",
   "execution_count": 6,
   "metadata": {
    "ExecuteTime": {
     "end_time": "2020-07-11T05:17:59.580401Z",
     "start_time": "2020-07-11T05:17:59.564381Z"
    }
   },
   "outputs": [
    {
     "data": {
      "text/plain": [
       "id                          0\n",
       "headquarter                 0\n",
       "location.Code               0\n",
       "date_of_establishment    2040\n",
       "location                    0\n",
       "loc.details                 0\n",
       "state                       0\n",
       "deposit_amount_2011       740\n",
       "deposit_amount_2012       578\n",
       "deposit_amount_2013       329\n",
       "deposit_amount_2014       175\n",
       "deposit_amount_2015        56\n",
       "deposit_amount_2016        19\n",
       "deposit_amount_2017        19\n",
       "dtype: int64"
      ]
     },
     "execution_count": 6,
     "metadata": {},
     "output_type": "execute_result"
    }
   ],
   "source": [
    "df.isna().sum()"
   ]
  },
  {
   "cell_type": "code",
   "execution_count": 7,
   "metadata": {
    "ExecuteTime": {
     "end_time": "2020-07-11T05:18:13.659764Z",
     "start_time": "2020-07-11T05:18:00.224121Z"
    }
   },
   "outputs": [
    {
     "data": {
      "text/plain": [
       "<matplotlib.axes._subplots.AxesSubplot at 0x1da65c04948>"
      ]
     },
     "execution_count": 7,
     "metadata": {},
     "output_type": "execute_result"
    },
    {
     "data": {
      "image/png": "[encoded data removed]",
      "text/plain": [
       "<Figure size 1800x720 with 2 Axes>"
      ]
     },
     "metadata": {
      "needs_background": "light"
     },
     "output_type": "display_data"
    }
   ],
   "source": [
    "import missingno as ms\n",
    "ms.matrix(df)"
   ]
  },
  {
   "cell_type": "markdown",
   "metadata": {},
   "source": [
    "#### From above we can see that there are null values in our dataframe"
   ]
  },
  {
   "cell_type": "code",
   "execution_count": 8,
   "metadata": {
    "ExecuteTime": {
     "end_time": "2020-07-11T05:18:13.684710Z",
     "start_time": "2020-07-11T05:18:13.663307Z"
    }
   },
   "outputs": [
    {
     "data": {
      "text/plain": [
       "(3790, 14)"
      ]
     },
     "execution_count": 8,
     "metadata": {},
     "output_type": "execute_result"
    }
   ],
   "source": [
    "df.shape"
   ]
  },
  {
   "cell_type": "code",
   "execution_count": 9,
   "metadata": {
    "ExecuteTime": {
     "end_time": "2020-07-11T05:18:16.675394Z",
     "start_time": "2020-07-11T05:18:16.655454Z"
    }
   },
   "outputs": [],
   "source": [
    "### I want to remove the column date_of_establishment because there are 2040 null values which is 53 % of total rows\n",
    "## If I Fillna with anything(i.e mean,median) then that would lead to biased state\n",
    "### So I'm removing that Particular Column"
   ]
  },
  {
   "cell_type": "code",
   "execution_count": 10,
   "metadata": {
    "ExecuteTime": {
     "end_time": "2020-07-11T05:18:20.371096Z",
     "start_time": "2020-07-11T05:18:20.338606Z"
    }
   },
   "outputs": [
    {
     "data": {
      "text/html": [
       "<div>\n",
       "<style scoped>\n",
       "    .dataframe tbody tr th:only-of-type {\n",
       "        vertical-align: middle;\n",
       "    }\n",
       "\n",
       "    .dataframe tbody tr th {\n",
       "        vertical-align: top;\n",
       "    }\n",
       "\n",
       "    .dataframe thead th {\n",
       "        text-align: right;\n",
       "    }\n",
       "</style>\n",
       "<table border=\"1\" class=\"dataframe\">\n",
       "  <thead>\n",
       "    <tr style=\"text-align: right;\">\n",
       "      <th></th>\n",
       "      <th>id</th>\n",
       "      <th>headquarter</th>\n",
       "      <th>location.Code</th>\n",
       "      <th>location</th>\n",
       "      <th>loc.details</th>\n",
       "      <th>state</th>\n",
       "      <th>deposit_amount_2011</th>\n",
       "      <th>deposit_amount_2012</th>\n",
       "      <th>deposit_amount_2013</th>\n",
       "      <th>deposit_amount_2014</th>\n",
       "      <th>deposit_amount_2015</th>\n",
       "      <th>deposit_amount_2016</th>\n",
       "      <th>deposit_amount_2017</th>\n",
       "    </tr>\n",
       "  </thead>\n",
       "  <tbody>\n",
       "    <tr>\n",
       "      <th>0</th>\n",
       "      <td>1</td>\n",
       "      <td>0</td>\n",
       "      <td>2871</td>\n",
       "      <td>Wales</td>\n",
       "      <td>Waukesha</td>\n",
       "      <td>WI</td>\n",
       "      <td>32079.0</td>\n",
       "      <td>35971.5</td>\n",
       "      <td>37237.5</td>\n",
       "      <td>40362.0</td>\n",
       "      <td>46021.5</td>\n",
       "      <td>46020.0</td>\n",
       "      <td>69030.00</td>\n",
       "    </tr>\n",
       "    <tr>\n",
       "      <th>1</th>\n",
       "      <td>2</td>\n",
       "      <td>0</td>\n",
       "      <td>2872</td>\n",
       "      <td>Germantown</td>\n",
       "      <td>Washington</td>\n",
       "      <td>WI</td>\n",
       "      <td>83181.0</td>\n",
       "      <td>84846.0</td>\n",
       "      <td>97098.0</td>\n",
       "      <td>110284.5</td>\n",
       "      <td>122035.5</td>\n",
       "      <td>133905.0</td>\n",
       "      <td>200857.50</td>\n",
       "    </tr>\n",
       "    <tr>\n",
       "      <th>2</th>\n",
       "      <td>3</td>\n",
       "      <td>0</td>\n",
       "      <td>2873</td>\n",
       "      <td>Brookfield</td>\n",
       "      <td>Waukesha</td>\n",
       "      <td>WI</td>\n",
       "      <td>136323.0</td>\n",
       "      <td>156450.0</td>\n",
       "      <td>187557.0</td>\n",
       "      <td>188859.0</td>\n",
       "      <td>198751.5</td>\n",
       "      <td>206044.5</td>\n",
       "      <td>309066.75</td>\n",
       "    </tr>\n",
       "    <tr>\n",
       "      <th>3</th>\n",
       "      <td>4</td>\n",
       "      <td>0</td>\n",
       "      <td>2874</td>\n",
       "      <td>Pewaukee</td>\n",
       "      <td>Waukesha</td>\n",
       "      <td>WI</td>\n",
       "      <td>68511.0</td>\n",
       "      <td>73932.0</td>\n",
       "      <td>79876.5</td>\n",
       "      <td>105603.0</td>\n",
       "      <td>112113.0</td>\n",
       "      <td>110755.5</td>\n",
       "      <td>166133.25</td>\n",
       "    </tr>\n",
       "    <tr>\n",
       "      <th>4</th>\n",
       "      <td>5</td>\n",
       "      <td>0</td>\n",
       "      <td>2875</td>\n",
       "      <td>Waukesha</td>\n",
       "      <td>Waukesha</td>\n",
       "      <td>WI</td>\n",
       "      <td>96271.5</td>\n",
       "      <td>108325.5</td>\n",
       "      <td>104880.0</td>\n",
       "      <td>121054.5</td>\n",
       "      <td>113956.5</td>\n",
       "      <td>109837.5</td>\n",
       "      <td>164756.25</td>\n",
       "    </tr>\n",
       "  </tbody>\n",
       "</table>\n",
       "</div>"
      ],
      "text/plain": [
       "   id  headquarter  location.Code    location loc.details state  \\\n",
       "0   1            0           2871       Wales    Waukesha    WI   \n",
       "1   2            0           2872  Germantown  Washington    WI   \n",
       "2   3            0           2873  Brookfield    Waukesha    WI   \n",
       "3   4            0           2874    Pewaukee    Waukesha    WI   \n",
       "4   5            0           2875    Waukesha    Waukesha    WI   \n",
       "\n",
       "   deposit_amount_2011  deposit_amount_2012  deposit_amount_2013  \\\n",
       "0              32079.0              35971.5              37237.5   \n",
       "1              83181.0              84846.0              97098.0   \n",
       "2             136323.0             156450.0             187557.0   \n",
       "3              68511.0              73932.0              79876.5   \n",
       "4              96271.5             108325.5             104880.0   \n",
       "\n",
       "   deposit_amount_2014  deposit_amount_2015  deposit_amount_2016  \\\n",
       "0              40362.0              46021.5              46020.0   \n",
       "1             110284.5             122035.5             133905.0   \n",
       "2             188859.0             198751.5             206044.5   \n",
       "3             105603.0             112113.0             110755.5   \n",
       "4             121054.5             113956.5             109837.5   \n",
       "\n",
       "   deposit_amount_2017  \n",
       "0             69030.00  \n",
       "1            200857.50  \n",
       "2            309066.75  \n",
       "3            166133.25  \n",
       "4            164756.25  "
      ]
     },
     "execution_count": 10,
     "metadata": {},
     "output_type": "execute_result"
    }
   ],
   "source": [
    "df.drop(\"date_of_establishment\",axis=1,inplace=True)\n",
    "df.head()"
   ]
  },
  {
   "cell_type": "code",
   "execution_count": 11,
   "metadata": {
    "ExecuteTime": {
     "end_time": "2020-07-11T05:18:21.261286Z",
     "start_time": "2020-07-11T05:18:21.216869Z"
    }
   },
   "outputs": [
    {
     "name": "stdout",
     "output_type": "stream",
     "text": [
      "deposit_amount_2011 : 19.525065963060687\n",
      "deposit_amount_2012 : 15.250659630606862\n",
      "deposit_amount_2013 : 8.680738786279683\n",
      "deposit_amount_2014 : 4.617414248021108\n",
      "deposit_amount_2015 : 1.4775725593667546\n",
      "deposit_amount_2016 : 0.5013192612137204\n",
      "deposit_amount_2017 : 0.5013192612137204\n"
     ]
    }
   ],
   "source": [
    "x = df.isna().sum().index[6:]\n",
    "for i in range(len(x)):\n",
    "           print(x[i],\":\",((df.isna().sum().values[6:].tolist()[i]/df.shape[0])*100)) \n",
    "        ### This gives us the Percentage of Nullvalues to those of Original\n",
    "    "
   ]
  },
  {
   "cell_type": "code",
   "execution_count": 12,
   "metadata": {
    "ExecuteTime": {
     "end_time": "2020-07-11T05:18:22.369438Z",
     "start_time": "2020-07-11T05:18:22.206308Z"
    }
   },
   "outputs": [],
   "source": [
    "df.dropna(inplace=True)"
   ]
  },
  {
   "cell_type": "code",
   "execution_count": 13,
   "metadata": {
    "ExecuteTime": {
     "end_time": "2020-07-11T05:18:23.254660Z",
     "start_time": "2020-07-11T05:18:23.241705Z"
    }
   },
   "outputs": [
    {
     "data": {
      "text/plain": [
       "id                     0\n",
       "headquarter            0\n",
       "location.Code          0\n",
       "location               0\n",
       "loc.details            0\n",
       "state                  0\n",
       "deposit_amount_2011    0\n",
       "deposit_amount_2012    0\n",
       "deposit_amount_2013    0\n",
       "deposit_amount_2014    0\n",
       "deposit_amount_2015    0\n",
       "deposit_amount_2016    0\n",
       "deposit_amount_2017    0\n",
       "dtype: int64"
      ]
     },
     "execution_count": 13,
     "metadata": {},
     "output_type": "execute_result"
    }
   ],
   "source": [
    "df.isna().sum()"
   ]
  },
  {
   "cell_type": "code",
   "execution_count": 14,
   "metadata": {
    "ExecuteTime": {
     "end_time": "2020-07-11T05:18:24.029602Z",
     "start_time": "2020-07-11T05:18:23.757777Z"
    }
   },
   "outputs": [
    {
     "data": {
      "text/plain": [
       "(3050, 13)"
      ]
     },
     "execution_count": 14,
     "metadata": {},
     "output_type": "execute_result"
    }
   ],
   "source": [
    "df.shape"
   ]
  },
  {
   "cell_type": "code",
   "execution_count": 15,
   "metadata": {
    "ExecuteTime": {
     "end_time": "2020-07-11T05:18:25.621020Z",
     "start_time": "2020-07-11T05:18:25.588591Z"
    }
   },
   "outputs": [
    {
     "data": {
      "text/html": [
       "<div>\n",
       "<style scoped>\n",
       "    .dataframe tbody tr th:only-of-type {\n",
       "        vertical-align: middle;\n",
       "    }\n",
       "\n",
       "    .dataframe tbody tr th {\n",
       "        vertical-align: top;\n",
       "    }\n",
       "\n",
       "    .dataframe thead th {\n",
       "        text-align: right;\n",
       "    }\n",
       "</style>\n",
       "<table border=\"1\" class=\"dataframe\">\n",
       "  <thead>\n",
       "    <tr style=\"text-align: right;\">\n",
       "      <th></th>\n",
       "      <th>id</th>\n",
       "      <th>headquarter</th>\n",
       "      <th>location.Code</th>\n",
       "      <th>location</th>\n",
       "      <th>loc.details</th>\n",
       "      <th>state</th>\n",
       "      <th>deposit_amount_2011</th>\n",
       "      <th>deposit_amount_2012</th>\n",
       "      <th>deposit_amount_2013</th>\n",
       "      <th>deposit_amount_2014</th>\n",
       "      <th>deposit_amount_2015</th>\n",
       "      <th>deposit_amount_2016</th>\n",
       "      <th>deposit_amount_2017</th>\n",
       "    </tr>\n",
       "  </thead>\n",
       "  <tbody>\n",
       "    <tr>\n",
       "      <th>3046</th>\n",
       "      <td>3047</td>\n",
       "      <td>0</td>\n",
       "      <td>7129</td>\n",
       "      <td>Chino</td>\n",
       "      <td>San Bernardino</td>\n",
       "      <td>CA</td>\n",
       "      <td>11058.0</td>\n",
       "      <td>17970.0</td>\n",
       "      <td>28846.5</td>\n",
       "      <td>35188.5</td>\n",
       "      <td>40969.5</td>\n",
       "      <td>48484.5</td>\n",
       "      <td>72726.75</td>\n",
       "    </tr>\n",
       "    <tr>\n",
       "      <th>3047</th>\n",
       "      <td>3048</td>\n",
       "      <td>0</td>\n",
       "      <td>7130</td>\n",
       "      <td>North Hollywood</td>\n",
       "      <td>Los Angeles</td>\n",
       "      <td>CA</td>\n",
       "      <td>7551.0</td>\n",
       "      <td>22644.0</td>\n",
       "      <td>34785.0</td>\n",
       "      <td>36069.0</td>\n",
       "      <td>43212.0</td>\n",
       "      <td>48201.0</td>\n",
       "      <td>72301.50</td>\n",
       "    </tr>\n",
       "    <tr>\n",
       "      <th>3048</th>\n",
       "      <td>3049</td>\n",
       "      <td>0</td>\n",
       "      <td>7131</td>\n",
       "      <td>Flushing</td>\n",
       "      <td>Queens</td>\n",
       "      <td>NY</td>\n",
       "      <td>1965.0</td>\n",
       "      <td>26412.0</td>\n",
       "      <td>48231.0</td>\n",
       "      <td>75223.5</td>\n",
       "      <td>99627.0</td>\n",
       "      <td>112281.0</td>\n",
       "      <td>168421.50</td>\n",
       "    </tr>\n",
       "    <tr>\n",
       "      <th>3049</th>\n",
       "      <td>3050</td>\n",
       "      <td>0</td>\n",
       "      <td>7132</td>\n",
       "      <td>Chicago</td>\n",
       "      <td>Cook</td>\n",
       "      <td>IL</td>\n",
       "      <td>137490.0</td>\n",
       "      <td>146374.5</td>\n",
       "      <td>167772.0</td>\n",
       "      <td>182842.5</td>\n",
       "      <td>194668.5</td>\n",
       "      <td>216586.5</td>\n",
       "      <td>324879.75</td>\n",
       "    </tr>\n",
       "    <tr>\n",
       "      <th>3050</th>\n",
       "      <td>3051</td>\n",
       "      <td>0</td>\n",
       "      <td>7134</td>\n",
       "      <td>Brick</td>\n",
       "      <td>Ocean</td>\n",
       "      <td>NJ</td>\n",
       "      <td>21154.5</td>\n",
       "      <td>37044.0</td>\n",
       "      <td>50815.5</td>\n",
       "      <td>79860.0</td>\n",
       "      <td>94587.0</td>\n",
       "      <td>114012.0</td>\n",
       "      <td>171018.00</td>\n",
       "    </tr>\n",
       "  </tbody>\n",
       "</table>\n",
       "</div>"
      ],
      "text/plain": [
       "        id  headquarter  location.Code         location     loc.details state  \\\n",
       "3046  3047            0           7129            Chino  San Bernardino    CA   \n",
       "3047  3048            0           7130  North Hollywood     Los Angeles    CA   \n",
       "3048  3049            0           7131         Flushing          Queens    NY   \n",
       "3049  3050            0           7132          Chicago            Cook    IL   \n",
       "3050  3051            0           7134            Brick           Ocean    NJ   \n",
       "\n",
       "      deposit_amount_2011  deposit_amount_2012  deposit_amount_2013  \\\n",
       "3046              11058.0              17970.0              28846.5   \n",
       "3047               7551.0              22644.0              34785.0   \n",
       "3048               1965.0              26412.0              48231.0   \n",
       "3049             137490.0             146374.5             167772.0   \n",
       "3050              21154.5              37044.0              50815.5   \n",
       "\n",
       "      deposit_amount_2014  deposit_amount_2015  deposit_amount_2016  \\\n",
       "3046              35188.5              40969.5              48484.5   \n",
       "3047              36069.0              43212.0              48201.0   \n",
       "3048              75223.5              99627.0             112281.0   \n",
       "3049             182842.5             194668.5             216586.5   \n",
       "3050              79860.0              94587.0             114012.0   \n",
       "\n",
       "      deposit_amount_2017  \n",
       "3046             72726.75  \n",
       "3047             72301.50  \n",
       "3048            168421.50  \n",
       "3049            324879.75  \n",
       "3050            171018.00  "
      ]
     },
     "execution_count": 15,
     "metadata": {},
     "output_type": "execute_result"
    }
   ],
   "source": [
    "df.tail()"
   ]
  },
  {
   "cell_type": "markdown",
   "metadata": {},
   "source": [
    "# Now We can Apply Some MachineLearning Algorithms For Predictions"
   ]
  },
  {
   "cell_type": "markdown",
   "metadata": {},
   "source": [
    "# Linear Regression is an Algorithm which his helpful for Prediction as it is a Predictive Modelling Technique"
   ]
  },
  {
   "cell_type": "code",
   "execution_count": 16,
   "metadata": {
    "ExecuteTime": {
     "end_time": "2020-07-11T05:18:31.573654Z",
     "start_time": "2020-07-11T05:18:30.014836Z"
    }
   },
   "outputs": [],
   "source": [
    "from sklearn.linear_model import LinearRegression"
   ]
  },
  {
   "cell_type": "code",
   "execution_count": 17,
   "metadata": {
    "ExecuteTime": {
     "end_time": "2020-07-11T05:18:31.900161Z",
     "start_time": "2020-07-11T05:18:31.888714Z"
    }
   },
   "outputs": [],
   "source": [
    "lr = LinearRegression()"
   ]
  },
  {
   "cell_type": "code",
   "execution_count": 424,
   "metadata": {
    "ExecuteTime": {
     "end_time": "2020-07-10T11:17:51.467101Z",
     "start_time": "2020-07-10T11:17:51.371707Z"
    }
   },
   "outputs": [
    {
     "data": {
      "text/plain": [
       "Index(['id', 'headquarter', 'location.Code', 'location', 'loc.details',\n",
       "       'state', 'deposit_amount_2011', 'deposit_amount_2012',\n",
       "       'deposit_amount_2013', 'deposit_amount_2014', 'deposit_amount_2015',\n",
       "       'deposit_amount_2016', 'deposit_amount_2017'],\n",
       "      dtype='object')"
      ]
     },
     "execution_count": 424,
     "metadata": {},
     "output_type": "execute_result"
    }
   ],
   "source": [
    "df.columns"
   ]
  },
  {
   "cell_type": "code",
   "execution_count": 115,
   "metadata": {
    "ExecuteTime": {
     "end_time": "2020-07-11T06:33:41.225030Z",
     "start_time": "2020-07-11T06:33:41.210071Z"
    }
   },
   "outputs": [],
   "source": [
    "x = df[[ 'deposit_amount_2011', 'deposit_amount_2012',\n",
    "       'deposit_amount_2013', 'deposit_amount_2014', 'deposit_amount_2015',\n",
    "       'deposit_amount_2016']]\n",
    "y = df[['deposit_amount_2017']]"
   ]
  },
  {
   "cell_type": "code",
   "execution_count": 116,
   "metadata": {
    "ExecuteTime": {
     "end_time": "2020-07-11T06:33:41.867772Z",
     "start_time": "2020-07-11T06:33:41.829874Z"
    }
   },
   "outputs": [
    {
     "data": {
      "text/plain": [
       "LinearRegression()"
      ]
     },
     "execution_count": 116,
     "metadata": {},
     "output_type": "execute_result"
    }
   ],
   "source": [
    "lr.fit(x,y)"
   ]
  },
  {
   "cell_type": "code",
   "execution_count": 117,
   "metadata": {
    "ExecuteTime": {
     "end_time": "2020-07-11T06:33:43.322201Z",
     "start_time": "2020-07-11T06:33:43.292281Z"
    }
   },
   "outputs": [],
   "source": [
    "df1 = pd.read_csv(\"test.csv\")"
   ]
  },
  {
   "cell_type": "code",
   "execution_count": 118,
   "metadata": {
    "ExecuteTime": {
     "end_time": "2020-07-11T06:33:44.313664Z",
     "start_time": "2020-07-11T06:33:44.292719Z"
    }
   },
   "outputs": [
    {
     "data": {
      "text/plain": [
       "Index(['id', 'headquarter', 'location.Code', 'date_of_establishment',\n",
       "       'location', 'loc.details', 'state', 'deposit_amount_2011',\n",
       "       'deposit_amount_2012', 'deposit_amount_2013', 'deposit_amount_2014',\n",
       "       'deposit_amount_2015', 'deposit_amount_2016'],\n",
       "      dtype='object')"
      ]
     },
     "execution_count": 118,
     "metadata": {},
     "output_type": "execute_result"
    }
   ],
   "source": [
    "df1.columns"
   ]
  },
  {
   "cell_type": "code",
   "execution_count": 119,
   "metadata": {
    "ExecuteTime": {
     "end_time": "2020-07-11T06:33:51.008918Z",
     "start_time": "2020-07-11T06:33:50.998944Z"
    }
   },
   "outputs": [
    {
     "data": {
      "text/plain": [
       "array([   5,    7,    8, ..., 2868, 2869, 2870], dtype=int64)"
      ]
     },
     "execution_count": 119,
     "metadata": {},
     "output_type": "execute_result"
    }
   ],
   "source": [
    "df1[\"location.Code\"].unique()"
   ]
  },
  {
   "cell_type": "code",
   "execution_count": 120,
   "metadata": {
    "ExecuteTime": {
     "end_time": "2020-07-11T06:33:51.195384Z",
     "start_time": "2020-07-11T06:33:51.174441Z"
    }
   },
   "outputs": [
    {
     "data": {
      "text/plain": [
       "id                         0\n",
       "headquarter                0\n",
       "location.Code              0\n",
       "date_of_establishment    814\n",
       "location                   0\n",
       "loc.details                0\n",
       "state                      0\n",
       "deposit_amount_2011        0\n",
       "deposit_amount_2012        0\n",
       "deposit_amount_2013        0\n",
       "deposit_amount_2014        0\n",
       "deposit_amount_2015        0\n",
       "deposit_amount_2016        0\n",
       "dtype: int64"
      ]
     },
     "execution_count": 120,
     "metadata": {},
     "output_type": "execute_result"
    }
   ],
   "source": [
    "df1.isna().sum()"
   ]
  },
  {
   "cell_type": "code",
   "execution_count": 121,
   "metadata": {
    "ExecuteTime": {
     "end_time": "2020-07-11T06:33:58.014173Z",
     "start_time": "2020-07-11T06:33:57.996221Z"
    }
   },
   "outputs": [],
   "source": [
    "x1 =  df1[['deposit_amount_2011',\n",
    "       'deposit_amount_2012', 'deposit_amount_2013', 'deposit_amount_2014',\n",
    "       'deposit_amount_2015', 'deposit_amount_2016']]"
   ]
  },
  {
   "cell_type": "code",
   "execution_count": 122,
   "metadata": {
    "ExecuteTime": {
     "end_time": "2020-07-11T06:33:59.566518Z",
     "start_time": "2020-07-11T06:33:59.535600Z"
    }
   },
   "outputs": [
    {
     "data": {
      "text/html": [
       "<div>\n",
       "<style scoped>\n",
       "    .dataframe tbody tr th:only-of-type {\n",
       "        vertical-align: middle;\n",
       "    }\n",
       "\n",
       "    .dataframe tbody tr th {\n",
       "        vertical-align: top;\n",
       "    }\n",
       "\n",
       "    .dataframe thead th {\n",
       "        text-align: right;\n",
       "    }\n",
       "</style>\n",
       "<table border=\"1\" class=\"dataframe\">\n",
       "  <thead>\n",
       "    <tr style=\"text-align: right;\">\n",
       "      <th></th>\n",
       "      <th>id</th>\n",
       "      <th>deposit_amount_2017_Predicted</th>\n",
       "    </tr>\n",
       "  </thead>\n",
       "  <tbody>\n",
       "    <tr>\n",
       "      <th>0</th>\n",
       "      <td>1</td>\n",
       "      <td>2406206250.000</td>\n",
       "    </tr>\n",
       "    <tr>\n",
       "      <th>1</th>\n",
       "      <td>2</td>\n",
       "      <td>768318.750</td>\n",
       "    </tr>\n",
       "    <tr>\n",
       "      <th>2</th>\n",
       "      <td>3</td>\n",
       "      <td>590523.750</td>\n",
       "    </tr>\n",
       "    <tr>\n",
       "      <th>3</th>\n",
       "      <td>4</td>\n",
       "      <td>262737.000</td>\n",
       "    </tr>\n",
       "    <tr>\n",
       "      <th>4</th>\n",
       "      <td>5</td>\n",
       "      <td>502200.000</td>\n",
       "    </tr>\n",
       "    <tr>\n",
       "      <th>...</th>\n",
       "      <td>...</td>\n",
       "      <td>...</td>\n",
       "    </tr>\n",
       "    <tr>\n",
       "      <th>1618</th>\n",
       "      <td>1619</td>\n",
       "      <td>229149.000</td>\n",
       "    </tr>\n",
       "    <tr>\n",
       "      <th>1619</th>\n",
       "      <td>1620</td>\n",
       "      <td>225504.000</td>\n",
       "    </tr>\n",
       "    <tr>\n",
       "      <th>1620</th>\n",
       "      <td>1621</td>\n",
       "      <td>206923.500</td>\n",
       "    </tr>\n",
       "    <tr>\n",
       "      <th>1621</th>\n",
       "      <td>1622</td>\n",
       "      <td>183485.250</td>\n",
       "    </tr>\n",
       "    <tr>\n",
       "      <th>1622</th>\n",
       "      <td>1623</td>\n",
       "      <td>53590.500</td>\n",
       "    </tr>\n",
       "  </tbody>\n",
       "</table>\n",
       "<p>1623 rows × 2 columns</p>\n",
       "</div>"
      ],
      "text/plain": [
       "        id  deposit_amount_2017_Predicted\n",
       "0        1                 2406206250.000\n",
       "1        2                     768318.750\n",
       "2        3                     590523.750\n",
       "3        4                     262737.000\n",
       "4        5                     502200.000\n",
       "...    ...                            ...\n",
       "1618  1619                     229149.000\n",
       "1619  1620                     225504.000\n",
       "1620  1621                     206923.500\n",
       "1621  1622                     183485.250\n",
       "1622  1623                      53590.500\n",
       "\n",
       "[1623 rows x 2 columns]"
      ]
     },
     "execution_count": 122,
     "metadata": {},
     "output_type": "execute_result"
    }
   ],
   "source": [
    "pd.set_option(\"display.float_format\",lambda x: '%.3f' % x)\n",
    "y_pred = pd.DataFrame(lr.predict(x1))\n",
    "y_pred.head()\n",
    "y_pred[\"id\"] = df1[\"id\"]\n",
    "y_pred.columns = [\"deposit_amount_2017_Predicted\",\"id\"]\n",
    "y_pred = y_pred[y_pred.columns.reindex([\"id\",\"deposit_amount_2017_Predicted\"])[0]]\n",
    "y_pred"
   ]
  },
  {
   "cell_type": "code",
   "execution_count": 106,
   "metadata": {
    "ExecuteTime": {
     "end_time": "2020-07-11T05:50:24.635558Z",
     "start_time": "2020-07-11T05:50:24.622593Z"
    }
   },
   "outputs": [],
   "source": [
    "from sklearn.ensemble import RandomForestRegressor"
   ]
  },
  {
   "cell_type": "code",
   "execution_count": 107,
   "metadata": {
    "ExecuteTime": {
     "end_time": "2020-07-11T05:50:25.195984Z",
     "start_time": "2020-07-11T05:50:25.175738Z"
    }
   },
   "outputs": [],
   "source": [
    "rfr = RandomForestRegressor(n_estimators = 100,random_state = 42)"
   ]
  },
  {
   "cell_type": "code",
   "execution_count": 108,
   "metadata": {
    "ExecuteTime": {
     "end_time": "2020-07-11T05:50:29.560339Z",
     "start_time": "2020-07-11T05:50:25.638290Z"
    }
   },
   "outputs": [
    {
     "name": "stderr",
     "output_type": "stream",
     "text": [
      "C:\\Users\\aakas\\Anaconda\\lib\\site-packages\\ipykernel_launcher.py:1: DataConversionWarning: A column-vector y was passed when a 1d array was expected. Please change the shape of y to (n_samples,), for example using ravel().\n",
      "  \"\"\"Entry point for launching an IPython kernel.\n"
     ]
    },
    {
     "data": {
      "text/plain": [
       "RandomForestRegressor(random_state=42)"
      ]
     },
     "execution_count": 108,
     "metadata": {},
     "output_type": "execute_result"
    }
   ],
   "source": [
    "rfr.fit(x,y)"
   ]
  },
  {
   "cell_type": "code",
   "execution_count": 109,
   "metadata": {
    "ExecuteTime": {
     "end_time": "2020-07-11T05:50:29.669957Z",
     "start_time": "2020-07-11T05:50:29.565009Z"
    }
   },
   "outputs": [
    {
     "data": {
      "text/html": [
       "<div>\n",
       "<style scoped>\n",
       "    .dataframe tbody tr th:only-of-type {\n",
       "        vertical-align: middle;\n",
       "    }\n",
       "\n",
       "    .dataframe tbody tr th {\n",
       "        vertical-align: top;\n",
       "    }\n",
       "\n",
       "    .dataframe thead th {\n",
       "        text-align: right;\n",
       "    }\n",
       "</style>\n",
       "<table border=\"1\" class=\"dataframe\">\n",
       "  <thead>\n",
       "    <tr style=\"text-align: right;\">\n",
       "      <th></th>\n",
       "      <th>0</th>\n",
       "    </tr>\n",
       "  </thead>\n",
       "  <tbody>\n",
       "    <tr>\n",
       "      <th>0</th>\n",
       "      <td>402630340.928</td>\n",
       "    </tr>\n",
       "    <tr>\n",
       "      <th>1</th>\n",
       "      <td>770107.230</td>\n",
       "    </tr>\n",
       "    <tr>\n",
       "      <th>2</th>\n",
       "      <td>593524.238</td>\n",
       "    </tr>\n",
       "    <tr>\n",
       "      <th>3</th>\n",
       "      <td>262800.900</td>\n",
       "    </tr>\n",
       "    <tr>\n",
       "      <th>4</th>\n",
       "      <td>501520.005</td>\n",
       "    </tr>\n",
       "    <tr>\n",
       "      <th>...</th>\n",
       "      <td>...</td>\n",
       "    </tr>\n",
       "    <tr>\n",
       "      <th>1618</th>\n",
       "      <td>229523.378</td>\n",
       "    </tr>\n",
       "    <tr>\n",
       "      <th>1619</th>\n",
       "      <td>225366.728</td>\n",
       "    </tr>\n",
       "    <tr>\n",
       "      <th>1620</th>\n",
       "      <td>206982.405</td>\n",
       "    </tr>\n",
       "    <tr>\n",
       "      <th>1621</th>\n",
       "      <td>183559.612</td>\n",
       "    </tr>\n",
       "    <tr>\n",
       "      <th>1622</th>\n",
       "      <td>53481.713</td>\n",
       "    </tr>\n",
       "  </tbody>\n",
       "</table>\n",
       "<p>1623 rows × 1 columns</p>\n",
       "</div>"
      ],
      "text/plain": [
       "                 0\n",
       "0    402630340.928\n",
       "1       770107.230\n",
       "2       593524.238\n",
       "3       262800.900\n",
       "4       501520.005\n",
       "...            ...\n",
       "1618    229523.378\n",
       "1619    225366.728\n",
       "1620    206982.405\n",
       "1621    183559.612\n",
       "1622     53481.713\n",
       "\n",
       "[1623 rows x 1 columns]"
      ]
     },
     "execution_count": 109,
     "metadata": {},
     "output_type": "execute_result"
    }
   ],
   "source": [
    "pd.DataFrame(rfr.predict(x1))"
   ]
  },
  {
   "cell_type": "code",
   "execution_count": 110,
   "metadata": {
    "ExecuteTime": {
     "end_time": "2020-07-11T05:50:29.857530Z",
     "start_time": "2020-07-11T05:50:29.679937Z"
    }
   },
   "outputs": [
    {
     "data": {
      "text/html": [
       "<div>\n",
       "<style scoped>\n",
       "    .dataframe tbody tr th:only-of-type {\n",
       "        vertical-align: middle;\n",
       "    }\n",
       "\n",
       "    .dataframe tbody tr th {\n",
       "        vertical-align: top;\n",
       "    }\n",
       "\n",
       "    .dataframe thead th {\n",
       "        text-align: right;\n",
       "    }\n",
       "</style>\n",
       "<table border=\"1\" class=\"dataframe\">\n",
       "  <thead>\n",
       "    <tr style=\"text-align: right;\">\n",
       "      <th></th>\n",
       "      <th>id</th>\n",
       "      <th>deposit_amount_2017</th>\n",
       "    </tr>\n",
       "  </thead>\n",
       "  <tbody>\n",
       "    <tr>\n",
       "      <th>0</th>\n",
       "      <td>1</td>\n",
       "      <td>402630340.928</td>\n",
       "    </tr>\n",
       "    <tr>\n",
       "      <th>1</th>\n",
       "      <td>2</td>\n",
       "      <td>770107.230</td>\n",
       "    </tr>\n",
       "    <tr>\n",
       "      <th>2</th>\n",
       "      <td>3</td>\n",
       "      <td>593524.238</td>\n",
       "    </tr>\n",
       "    <tr>\n",
       "      <th>3</th>\n",
       "      <td>4</td>\n",
       "      <td>262800.900</td>\n",
       "    </tr>\n",
       "    <tr>\n",
       "      <th>4</th>\n",
       "      <td>5</td>\n",
       "      <td>501520.005</td>\n",
       "    </tr>\n",
       "    <tr>\n",
       "      <th>...</th>\n",
       "      <td>...</td>\n",
       "      <td>...</td>\n",
       "    </tr>\n",
       "    <tr>\n",
       "      <th>1618</th>\n",
       "      <td>1619</td>\n",
       "      <td>229523.378</td>\n",
       "    </tr>\n",
       "    <tr>\n",
       "      <th>1619</th>\n",
       "      <td>1620</td>\n",
       "      <td>225366.728</td>\n",
       "    </tr>\n",
       "    <tr>\n",
       "      <th>1620</th>\n",
       "      <td>1621</td>\n",
       "      <td>206982.405</td>\n",
       "    </tr>\n",
       "    <tr>\n",
       "      <th>1621</th>\n",
       "      <td>1622</td>\n",
       "      <td>183559.612</td>\n",
       "    </tr>\n",
       "    <tr>\n",
       "      <th>1622</th>\n",
       "      <td>1623</td>\n",
       "      <td>53481.713</td>\n",
       "    </tr>\n",
       "  </tbody>\n",
       "</table>\n",
       "<p>1623 rows × 2 columns</p>\n",
       "</div>"
      ],
      "text/plain": [
       "        id  deposit_amount_2017\n",
       "0        1        402630340.928\n",
       "1        2           770107.230\n",
       "2        3           593524.238\n",
       "3        4           262800.900\n",
       "4        5           501520.005\n",
       "...    ...                  ...\n",
       "1618  1619           229523.378\n",
       "1619  1620           225366.728\n",
       "1620  1621           206982.405\n",
       "1621  1622           183559.612\n",
       "1622  1623            53481.713\n",
       "\n",
       "[1623 rows x 2 columns]"
      ]
     },
     "execution_count": 110,
     "metadata": {},
     "output_type": "execute_result"
    }
   ],
   "source": [
    "y_pred_rf = pd.DataFrame(rfr.predict(x1))\n",
    "y_pred_rf.head()\n",
    "y_pred_rf[\"id\"] = df1[\"id\"]\n",
    "y_pred_rf.columns = [\"deposit_amount_2017\",\"id\"]\n",
    "y_pred_rf = y_pred_rf[y_pred_rf.columns.reindex([\"id\",\"deposit_amount_2017\"])[0]]\n",
    "y_pred_rf"
   ]
  },
  {
   "cell_type": "code",
   "execution_count": 111,
   "metadata": {
    "ExecuteTime": {
     "end_time": "2020-07-11T05:50:44.050824Z",
     "start_time": "2020-07-11T05:50:44.024041Z"
    }
   },
   "outputs": [],
   "source": [
    "y_pred_rf.to_csv(\"D:/Hakothon(July-12)/y_pred_rf_dropna.csv\")"
   ]
  },
  {
   "cell_type": "code",
   "execution_count": 112,
   "metadata": {
    "ExecuteTime": {
     "end_time": "2020-07-11T05:50:44.581643Z",
     "start_time": "2020-07-11T05:50:44.573635Z"
    }
   },
   "outputs": [],
   "source": [
    "from sklearn.metrics import mean_squared_error"
   ]
  },
  {
   "cell_type": "code",
   "execution_count": 113,
   "metadata": {
    "ExecuteTime": {
     "end_time": "2020-07-11T05:50:45.250244Z",
     "start_time": "2020-07-11T05:50:45.222316Z"
    }
   },
   "outputs": [
    {
     "data": {
      "text/plain": [
       "1246822387955039.8"
      ]
     },
     "execution_count": 113,
     "metadata": {},
     "output_type": "execute_result"
    }
   ],
   "source": [
    "mean_squared_error(y_pred,y_pred_rf)"
   ]
  },
  {
   "cell_type": "code",
   "execution_count": null,
   "metadata": {},
   "outputs": [],
   "source": []
  }
 ],
 "metadata": {
  "kernelspec": {
   "display_name": "Python 3",
   "language": "python",
   "name": "python3"
  },
  "language_info": {
   "codemirror_mode": {
    "name": "ipython",
    "version": 3
   },
   "file_extension": ".py",
   "mimetype": "text/x-python",
   "name": "python",
   "nbconvert_exporter": "python",
   "pygments_lexer": "ipython3",
   "version": "3.7.6"
  }
 },
 "nbformat": 4,
 "nbformat_minor": 4
}
