{
 "cells": [
  {
   "cell_type": "code",
   "execution_count": 1,
   "metadata": {},
   "outputs": [
    {
     "name": "stdout",
     "output_type": "stream",
     "text": [
      "Enter The String:hi this is aakash\n",
      "The number of characters in a string: 17\n"
     ]
    }
   ],
   "source": [
    "## Program to count No.of Characters in a String\n",
    "\n",
    "str = input(\"Enter The String:\")\n",
    "count = 0 \n",
    "for i in str:\n",
    "    count = count + 1\n",
    "print(\"The number of characters in a string:\",count)    "
   ]
  },
  {
   "cell_type": "code",
   "execution_count": 2,
   "metadata": {},
   "outputs": [
    {
     "name": "stdout",
     "output_type": "stream",
     "text": [
      "Enter The String:hi this is aakash\n",
      "The number of Vowels in a string: 6\n"
     ]
    }
   ],
   "source": [
    "## Program to count No.of Vowels in a String\n",
    "\n",
    "str = input(\"Enter The String:\") \n",
    "str1 = set(\"aeiouAEIOU\")\n",
    "count = 0\n",
    "\n",
    "for i in str:\n",
    "    \n",
    "     if i in str1:\n",
    "        count = count + 1\n",
    "print(\"The number of Vowels in a string:\",count)   "
   ]
  },
  {
   "cell_type": "code",
   "execution_count": 45,
   "metadata": {},
   "outputs": [
    {
     "name": "stdout",
     "output_type": "stream",
     "text": [
      "a :45\n",
      "b :12\n",
      "Sum of a & b : 57\n"
     ]
    }
   ],
   "source": [
    "##   Python program to capture 2 numbers from the keyboard and display its sum.\n",
    "a = input(\"a :\")\n",
    "b = input(\"b :\")\n",
    "c = int(a)+int(b)\n",
    "print(\"Sum of a & b :\",c)\n"
   ]
  },
  {
   "cell_type": "code",
   "execution_count": 70,
   "metadata": {},
   "outputs": [
    {
     "name": "stdout",
     "output_type": "stream",
     "text": [
      "{'my': 2, 'name': 2, 'is': 1, 'aakash': 2, 'nadupalli': 2}\n"
     ]
    }
   ],
   "source": [
    "def word_count(str):\n",
    "    counts = dict()\n",
    "    words = str.split()\n",
    "\n",
    "    for word in words:\n",
    "        if word in counts:\n",
    "            counts[word] += 1\n",
    "        else:\n",
    "            counts[word] = 1\n",
    "\n",
    "    return counts\n",
    "\n",
    "print( word_count('my name my name is aakash nadupalli aakash nadupalli'))"
   ]
  },
  {
   "cell_type": "code",
   "execution_count": 78,
   "metadata": {},
   "outputs": [
    {
     "name": "stdout",
     "output_type": "stream",
     "text": [
      "{'m': 4, 'y': 2, ' ': 8, 'n': 4, 'a': 12, 'e': 2, 'i': 3, 's': 3, 'k': 2, 'h': 2, 'd': 2, 'u': 2, 'p': 2, 'l': 4}\n"
     ]
    }
   ],
   "source": [
    "def word_count(str):\n",
    "    counts = dict()\n",
    "    vowels = set(\"aeiouAEIOU\")  \n",
    "    \n",
    "    for word in str:\n",
    "        if word in counts:\n",
    "            counts[word] += 1\n",
    "        else:\n",
    "            counts[word] = 1\n",
    "\n",
    "    return counts\n",
    "\n",
    "print( word_count('my name my name is aakash nadupalli aakash nadupalli'))"
   ]
  },
  {
   "cell_type": "code",
   "execution_count": 82,
   "metadata": {},
   "outputs": [
    {
     "name": "stdout",
     "output_type": "stream",
     "text": [
      "       Unnamed: 0  age     type_employer  fnlwgt   education  education_num  \\\n",
      "0               1   39         State-gov   77516   Bachelors             13   \n",
      "1               2   50  Self-emp-not-inc   83311   Bachelors             13   \n",
      "2               3   38           Private  215646     HS-grad              9   \n",
      "3               4   53           Private  234721        11th              7   \n",
      "4               5   28           Private  338409   Bachelors             13   \n",
      "...           ...  ...               ...     ...         ...            ...   \n",
      "32556       32557   27           Private  257302  Assoc-acdm             12   \n",
      "32557       32558   40           Private  154374     HS-grad              9   \n",
      "32558       32559   58           Private  151910     HS-grad              9   \n",
      "32559       32560   22           Private  201490     HS-grad              9   \n",
      "32560       32561   52      Self-emp-inc  287927     HS-grad              9   \n",
      "\n",
      "                  marital         occupation   relationship   race     sex  \\\n",
      "0           Never-married       Adm-clerical  Not-in-family  White    Male   \n",
      "1      Married-civ-spouse    Exec-managerial        Husband  White    Male   \n",
      "2                Divorced  Handlers-cleaners  Not-in-family  White    Male   \n",
      "3      Married-civ-spouse  Handlers-cleaners        Husband  Black    Male   \n",
      "4      Married-civ-spouse     Prof-specialty           Wife  Black  Female   \n",
      "...                   ...                ...            ...    ...     ...   \n",
      "32556  Married-civ-spouse       Tech-support           Wife  White  Female   \n",
      "32557  Married-civ-spouse  Machine-op-inspct        Husband  White    Male   \n",
      "32558             Widowed       Adm-clerical      Unmarried  White  Female   \n",
      "32559       Never-married       Adm-clerical      Own-child  White    Male   \n",
      "32560  Married-civ-spouse    Exec-managerial           Wife  White  Female   \n",
      "\n",
      "       capital_gain  capital_loss  hr_per_week        country income  \n",
      "0              2174             0           40  United-States  <=50K  \n",
      "1                 0             0           13  United-States  <=50K  \n",
      "2                 0             0           40  United-States  <=50K  \n",
      "3                 0             0           40  United-States  <=50K  \n",
      "4                 0             0           40           Cuba  <=50K  \n",
      "...             ...           ...          ...            ...    ...  \n",
      "32556             0             0           38  United-States  <=50K  \n",
      "32557             0             0           40  United-States   >50K  \n",
      "32558             0             0           40  United-States  <=50K  \n",
      "32559             0             0           20  United-States  <=50K  \n",
      "32560         15024             0           40  United-States   >50K  \n",
      "\n",
      "[32561 rows x 16 columns]\n"
     ]
    }
   ],
   "source": [
    "import pandas as pd\n",
    "\n",
    "myfile = pd.read_csv(r\"D:\\Files\\MS-Office Files\\adult_sal.csv\")\n",
    "\n",
    "print(myfile)"
   ]
  },
  {
   "cell_type": "code",
   "execution_count": 88,
   "metadata": {},
   "outputs": [
    {
     "data": {
      "text/plain": [
       "Unnamed: 0        int64\n",
       "age               int64\n",
       "type_employer    object\n",
       "fnlwgt            int64\n",
       "education        object\n",
       "education_num     int64\n",
       "marital          object\n",
       "occupation       object\n",
       "relationship     object\n",
       "race             object\n",
       "sex              object\n",
       "capital_gain      int64\n",
       "capital_loss      int64\n",
       "hr_per_week       int64\n",
       "country          object\n",
       "income           object\n",
       "dtype: object"
      ]
     },
     "execution_count": 88,
     "metadata": {},
     "output_type": "execute_result"
    }
   ],
   "source": [
    "myfile.dtypes"
   ]
  },
  {
   "cell_type": "code",
   "execution_count": 89,
   "metadata": {},
   "outputs": [
    {
     "data": {
      "text/plain": [
       "<bound method DataFrame.info of        Unnamed: 0  age     type_employer  fnlwgt   education  education_num  \\\n",
       "0               1   39         State-gov   77516   Bachelors             13   \n",
       "1               2   50  Self-emp-not-inc   83311   Bachelors             13   \n",
       "2               3   38           Private  215646     HS-grad              9   \n",
       "3               4   53           Private  234721        11th              7   \n",
       "4               5   28           Private  338409   Bachelors             13   \n",
       "...           ...  ...               ...     ...         ...            ...   \n",
       "32556       32557   27           Private  257302  Assoc-acdm             12   \n",
       "32557       32558   40           Private  154374     HS-grad              9   \n",
       "32558       32559   58           Private  151910     HS-grad              9   \n",
       "32559       32560   22           Private  201490     HS-grad              9   \n",
       "32560       32561   52      Self-emp-inc  287927     HS-grad              9   \n",
       "\n",
       "                  marital         occupation   relationship   race     sex  \\\n",
       "0           Never-married       Adm-clerical  Not-in-family  White    Male   \n",
       "1      Married-civ-spouse    Exec-managerial        Husband  White    Male   \n",
       "2                Divorced  Handlers-cleaners  Not-in-family  White    Male   \n",
       "3      Married-civ-spouse  Handlers-cleaners        Husband  Black    Male   \n",
       "4      Married-civ-spouse     Prof-specialty           Wife  Black  Female   \n",
       "...                   ...                ...            ...    ...     ...   \n",
       "32556  Married-civ-spouse       Tech-support           Wife  White  Female   \n",
       "32557  Married-civ-spouse  Machine-op-inspct        Husband  White    Male   \n",
       "32558             Widowed       Adm-clerical      Unmarried  White  Female   \n",
       "32559       Never-married       Adm-clerical      Own-child  White    Male   \n",
       "32560  Married-civ-spouse    Exec-managerial           Wife  White  Female   \n",
       "\n",
       "       capital_gain  capital_loss  hr_per_week        country income  \n",
       "0              2174             0           40  United-States  <=50K  \n",
       "1                 0             0           13  United-States  <=50K  \n",
       "2                 0             0           40  United-States  <=50K  \n",
       "3                 0             0           40  United-States  <=50K  \n",
       "4                 0             0           40           Cuba  <=50K  \n",
       "...             ...           ...          ...            ...    ...  \n",
       "32556             0             0           38  United-States  <=50K  \n",
       "32557             0             0           40  United-States   >50K  \n",
       "32558             0             0           40  United-States  <=50K  \n",
       "32559             0             0           20  United-States  <=50K  \n",
       "32560         15024             0           40  United-States   >50K  \n",
       "\n",
       "[32561 rows x 16 columns]>"
      ]
     },
     "execution_count": 89,
     "metadata": {},
     "output_type": "execute_result"
    }
   ],
   "source": [
    "myfile.info"
   ]
  },
  {
   "cell_type": "code",
   "execution_count": 90,
   "metadata": {},
   "outputs": [
    {
     "data": {
      "text/plain": [
       "Index(['Unnamed: 0', 'age', 'type_employer', 'fnlwgt', 'education',\n",
       "       'education_num', 'marital', 'occupation', 'relationship', 'race', 'sex',\n",
       "       'capital_gain', 'capital_loss', 'hr_per_week', 'country', 'income'],\n",
       "      dtype='object')"
      ]
     },
     "execution_count": 90,
     "metadata": {},
     "output_type": "execute_result"
    }
   ],
   "source": [
    "myfile.columns"
   ]
  },
  {
   "cell_type": "code",
   "execution_count": 91,
   "metadata": {},
   "outputs": [
    {
     "data": {
      "text/plain": [
       "['Unnamed: 0',\n",
       " 'age',\n",
       " 'capital_gain',\n",
       " 'capital_loss',\n",
       " 'country',\n",
       " 'education',\n",
       " 'education_num',\n",
       " 'fnlwgt',\n",
       " 'hr_per_week',\n",
       " 'income',\n",
       " 'marital',\n",
       " 'occupation',\n",
       " 'race',\n",
       " 'relationship',\n",
       " 'sex',\n",
       " 'type_employer']"
      ]
     },
     "execution_count": 91,
     "metadata": {},
     "output_type": "execute_result"
    }
   ],
   "source": [
    "sorted(myfile)"
   ]
  },
  {
   "cell_type": "code",
   "execution_count": 93,
   "metadata": {},
   "outputs": [
    {
     "data": {
      "text/html": [
       "<div>\n",
       "<style scoped>\n",
       "    .dataframe tbody tr th:only-of-type {\n",
       "        vertical-align: middle;\n",
       "    }\n",
       "\n",
       "    .dataframe tbody tr th {\n",
       "        vertical-align: top;\n",
       "    }\n",
       "\n",
       "    .dataframe thead th {\n",
       "        text-align: right;\n",
       "    }\n",
       "</style>\n",
       "<table border=\"1\" class=\"dataframe\">\n",
       "  <thead>\n",
       "    <tr style=\"text-align: right;\">\n",
       "      <th></th>\n",
       "      <th>Unnamed: 0</th>\n",
       "      <th>age</th>\n",
       "      <th>type_employer</th>\n",
       "      <th>fnlwgt</th>\n",
       "      <th>education</th>\n",
       "      <th>education_num</th>\n",
       "      <th>marital</th>\n",
       "      <th>occupation</th>\n",
       "      <th>relationship</th>\n",
       "      <th>race</th>\n",
       "      <th>sex</th>\n",
       "      <th>capital_gain</th>\n",
       "      <th>capital_loss</th>\n",
       "      <th>hr_per_week</th>\n",
       "      <th>country</th>\n",
       "      <th>income</th>\n",
       "    </tr>\n",
       "  </thead>\n",
       "  <tbody>\n",
       "    <tr>\n",
       "      <td>0</td>\n",
       "      <td>False</td>\n",
       "      <td>False</td>\n",
       "      <td>False</td>\n",
       "      <td>False</td>\n",
       "      <td>False</td>\n",
       "      <td>False</td>\n",
       "      <td>False</td>\n",
       "      <td>False</td>\n",
       "      <td>False</td>\n",
       "      <td>False</td>\n",
       "      <td>False</td>\n",
       "      <td>False</td>\n",
       "      <td>False</td>\n",
       "      <td>False</td>\n",
       "      <td>False</td>\n",
       "      <td>False</td>\n",
       "    </tr>\n",
       "    <tr>\n",
       "      <td>1</td>\n",
       "      <td>False</td>\n",
       "      <td>False</td>\n",
       "      <td>False</td>\n",
       "      <td>False</td>\n",
       "      <td>False</td>\n",
       "      <td>False</td>\n",
       "      <td>False</td>\n",
       "      <td>False</td>\n",
       "      <td>False</td>\n",
       "      <td>False</td>\n",
       "      <td>False</td>\n",
       "      <td>False</td>\n",
       "      <td>False</td>\n",
       "      <td>False</td>\n",
       "      <td>False</td>\n",
       "      <td>False</td>\n",
       "    </tr>\n",
       "    <tr>\n",
       "      <td>2</td>\n",
       "      <td>False</td>\n",
       "      <td>False</td>\n",
       "      <td>False</td>\n",
       "      <td>False</td>\n",
       "      <td>False</td>\n",
       "      <td>False</td>\n",
       "      <td>False</td>\n",
       "      <td>False</td>\n",
       "      <td>False</td>\n",
       "      <td>False</td>\n",
       "      <td>False</td>\n",
       "      <td>False</td>\n",
       "      <td>False</td>\n",
       "      <td>False</td>\n",
       "      <td>False</td>\n",
       "      <td>False</td>\n",
       "    </tr>\n",
       "    <tr>\n",
       "      <td>3</td>\n",
       "      <td>False</td>\n",
       "      <td>False</td>\n",
       "      <td>False</td>\n",
       "      <td>False</td>\n",
       "      <td>False</td>\n",
       "      <td>False</td>\n",
       "      <td>False</td>\n",
       "      <td>False</td>\n",
       "      <td>False</td>\n",
       "      <td>False</td>\n",
       "      <td>False</td>\n",
       "      <td>False</td>\n",
       "      <td>False</td>\n",
       "      <td>False</td>\n",
       "      <td>False</td>\n",
       "      <td>False</td>\n",
       "    </tr>\n",
       "    <tr>\n",
       "      <td>4</td>\n",
       "      <td>False</td>\n",
       "      <td>False</td>\n",
       "      <td>False</td>\n",
       "      <td>False</td>\n",
       "      <td>False</td>\n",
       "      <td>False</td>\n",
       "      <td>False</td>\n",
       "      <td>False</td>\n",
       "      <td>False</td>\n",
       "      <td>False</td>\n",
       "      <td>False</td>\n",
       "      <td>False</td>\n",
       "      <td>False</td>\n",
       "      <td>False</td>\n",
       "      <td>False</td>\n",
       "      <td>False</td>\n",
       "    </tr>\n",
       "    <tr>\n",
       "      <td>...</td>\n",
       "      <td>...</td>\n",
       "      <td>...</td>\n",
       "      <td>...</td>\n",
       "      <td>...</td>\n",
       "      <td>...</td>\n",
       "      <td>...</td>\n",
       "      <td>...</td>\n",
       "      <td>...</td>\n",
       "      <td>...</td>\n",
       "      <td>...</td>\n",
       "      <td>...</td>\n",
       "      <td>...</td>\n",
       "      <td>...</td>\n",
       "      <td>...</td>\n",
       "      <td>...</td>\n",
       "      <td>...</td>\n",
       "    </tr>\n",
       "    <tr>\n",
       "      <td>32556</td>\n",
       "      <td>False</td>\n",
       "      <td>False</td>\n",
       "      <td>False</td>\n",
       "      <td>False</td>\n",
       "      <td>False</td>\n",
       "      <td>False</td>\n",
       "      <td>False</td>\n",
       "      <td>False</td>\n",
       "      <td>False</td>\n",
       "      <td>False</td>\n",
       "      <td>False</td>\n",
       "      <td>False</td>\n",
       "      <td>False</td>\n",
       "      <td>False</td>\n",
       "      <td>False</td>\n",
       "      <td>False</td>\n",
       "    </tr>\n",
       "    <tr>\n",
       "      <td>32557</td>\n",
       "      <td>False</td>\n",
       "      <td>False</td>\n",
       "      <td>False</td>\n",
       "      <td>False</td>\n",
       "      <td>False</td>\n",
       "      <td>False</td>\n",
       "      <td>False</td>\n",
       "      <td>False</td>\n",
       "      <td>False</td>\n",
       "      <td>False</td>\n",
       "      <td>False</td>\n",
       "      <td>False</td>\n",
       "      <td>False</td>\n",
       "      <td>False</td>\n",
       "      <td>False</td>\n",
       "      <td>False</td>\n",
       "    </tr>\n",
       "    <tr>\n",
       "      <td>32558</td>\n",
       "      <td>False</td>\n",
       "      <td>False</td>\n",
       "      <td>False</td>\n",
       "      <td>False</td>\n",
       "      <td>False</td>\n",
       "      <td>False</td>\n",
       "      <td>False</td>\n",
       "      <td>False</td>\n",
       "      <td>False</td>\n",
       "      <td>False</td>\n",
       "      <td>False</td>\n",
       "      <td>False</td>\n",
       "      <td>False</td>\n",
       "      <td>False</td>\n",
       "      <td>False</td>\n",
       "      <td>False</td>\n",
       "    </tr>\n",
       "    <tr>\n",
       "      <td>32559</td>\n",
       "      <td>False</td>\n",
       "      <td>False</td>\n",
       "      <td>False</td>\n",
       "      <td>False</td>\n",
       "      <td>False</td>\n",
       "      <td>False</td>\n",
       "      <td>False</td>\n",
       "      <td>False</td>\n",
       "      <td>False</td>\n",
       "      <td>False</td>\n",
       "      <td>False</td>\n",
       "      <td>False</td>\n",
       "      <td>False</td>\n",
       "      <td>False</td>\n",
       "      <td>False</td>\n",
       "      <td>False</td>\n",
       "    </tr>\n",
       "    <tr>\n",
       "      <td>32560</td>\n",
       "      <td>False</td>\n",
       "      <td>False</td>\n",
       "      <td>False</td>\n",
       "      <td>False</td>\n",
       "      <td>False</td>\n",
       "      <td>False</td>\n",
       "      <td>False</td>\n",
       "      <td>False</td>\n",
       "      <td>False</td>\n",
       "      <td>False</td>\n",
       "      <td>False</td>\n",
       "      <td>False</td>\n",
       "      <td>False</td>\n",
       "      <td>False</td>\n",
       "      <td>False</td>\n",
       "      <td>False</td>\n",
       "    </tr>\n",
       "  </tbody>\n",
       "</table>\n",
       "<p>32561 rows × 16 columns</p>\n",
       "</div>"
      ],
      "text/plain": [
       "       Unnamed: 0    age  type_employer  fnlwgt  education  education_num  \\\n",
       "0           False  False          False   False      False          False   \n",
       "1           False  False          False   False      False          False   \n",
       "2           False  False          False   False      False          False   \n",
       "3           False  False          False   False      False          False   \n",
       "4           False  False          False   False      False          False   \n",
       "...           ...    ...            ...     ...        ...            ...   \n",
       "32556       False  False          False   False      False          False   \n",
       "32557       False  False          False   False      False          False   \n",
       "32558       False  False          False   False      False          False   \n",
       "32559       False  False          False   False      False          False   \n",
       "32560       False  False          False   False      False          False   \n",
       "\n",
       "       marital  occupation  relationship   race    sex  capital_gain  \\\n",
       "0        False       False         False  False  False         False   \n",
       "1        False       False         False  False  False         False   \n",
       "2        False       False         False  False  False         False   \n",
       "3        False       False         False  False  False         False   \n",
       "4        False       False         False  False  False         False   \n",
       "...        ...         ...           ...    ...    ...           ...   \n",
       "32556    False       False         False  False  False         False   \n",
       "32557    False       False         False  False  False         False   \n",
       "32558    False       False         False  False  False         False   \n",
       "32559    False       False         False  False  False         False   \n",
       "32560    False       False         False  False  False         False   \n",
       "\n",
       "       capital_loss  hr_per_week  country  income  \n",
       "0             False        False    False   False  \n",
       "1             False        False    False   False  \n",
       "2             False        False    False   False  \n",
       "3             False        False    False   False  \n",
       "4             False        False    False   False  \n",
       "...             ...          ...      ...     ...  \n",
       "32556         False        False    False   False  \n",
       "32557         False        False    False   False  \n",
       "32558         False        False    False   False  \n",
       "32559         False        False    False   False  \n",
       "32560         False        False    False   False  \n",
       "\n",
       "[32561 rows x 16 columns]"
      ]
     },
     "execution_count": 93,
     "metadata": {},
     "output_type": "execute_result"
    }
   ],
   "source": [
    "myfile.isnull()"
   ]
  },
  {
   "cell_type": "code",
   "execution_count": 3,
   "metadata": {},
   "outputs": [
    {
     "name": "stdout",
     "output_type": "stream",
     "text": [
      "min price: (10.75, 'FB')\n",
      "max price: (612.78, 'AAPL')\n",
      "sorted prices:\n",
      "     FB 10.75\n",
      "     HPQ 37.2\n",
      "     ACME 45.23\n",
      "     IBM 205.55\n",
      "     AAPL 612.78\n"
     ]
    }
   ],
   "source": [
    "# example.py\n",
    "#\n",
    "# Example of calculating with dictionaries\n",
    "\n",
    "prices = {\n",
    "   'ACME': 45.23,\n",
    "   'AAPL': 612.78,\n",
    "   'IBM': 205.55,\n",
    "   'HPQ': 37.20,\n",
    "   'FB': 10.75\n",
    "}\n",
    "\n",
    "# Find min and max price\n",
    "min_price = min(zip(prices.values(), prices.keys()))\n",
    "max_price = max(zip(prices.values(), prices.keys()))\n",
    "\n",
    "print('min price:', min_price)\n",
    "print('max price:', max_price)\n",
    "\n",
    "print('sorted prices:')\n",
    "prices_sorted = sorted(zip(prices.values(), prices.keys()))\n",
    "for price, name in prices_sorted:\n",
    "    print('    ', name, price)\n"
   ]
  },
  {
   "cell_type": "code",
   "execution_count": 19,
   "metadata": {},
   "outputs": [
    {
     "name": "stdout",
     "output_type": "stream",
     "text": [
      "[('eyes', 8), ('the', 5), ('look', 4)]\n"
     ]
    }
   ],
   "source": [
    "from collections import Counter\n",
    "\n",
    "words = [\n",
    "   'look', 'into', 'my', 'eyes', 'look', 'into', 'my', 'eyes',\n",
    "   'the', 'eyes', 'the', 'eyes', 'the', 'eyes', 'not', 'around', 'the',\n",
    "   'eyes', \"don't\", 'look', 'around', 'the', 'eyes', 'look', 'into',\n",
    "   'my', 'eyes', \"you're\", 'under'\n",
    "]\n",
    "words_count = Counter(words)\n",
    "top_three = words_count.most_common(3)\n",
    "print(top_three)\n",
    "\n",
    "morewords = ['why','are','you','not','looking','in','my','eyes']\n",
    "word_count.update(morewords)\n",
    "print(word_count.most_common(3))\n"
   ]
  },
  {
   "cell_type": "code",
   "execution_count": 21,
   "metadata": {},
   "outputs": [
    {
     "name": "stdout",
     "output_type": "stream",
     "text": [
      "All prices over 200\n",
      "{'AAPL': 612.78, 'IBM': 205.55}\n",
      "All techs\n",
      "{'AAPL': 612.78, 'HPQ': 37.2, 'IBM': 205.55}\n"
     ]
    }
   ],
   "source": [
    "# example of extracting a subset from a dictionary\n",
    "from pprint import pprint\n",
    "\n",
    "prices = {\n",
    "   'ACME': 45.23,\n",
    "   'AAPL': 612.78,\n",
    "   'IBM': 205.55,\n",
    "   'HPQ': 37.20,\n",
    "   'FB': 10.75\n",
    "}\n",
    "\n",
    "# Make a dictionary of all prices over 200\n",
    "p1 = { key:value for key, value in prices.items() if value > 200 }\n",
    "\n",
    "print(\"All prices over 200\")\n",
    "pprint(p1)\n",
    "\n",
    "# Make a dictionary of tech stocks\n",
    "tech_names = { 'AAPL', 'IBM', 'HPQ', 'MSFT' }\n",
    "p2 = { key:value for key,value in prices.items() if key in tech_names }\n",
    "\n",
    "print(\"All techs\")\n",
    "pprint(p2)\n"
   ]
  },
  {
   "cell_type": "code",
   "execution_count": 22,
   "metadata": {},
   "outputs": [
    {
     "name": "stdout",
     "output_type": "stream",
     "text": [
      "[1, 4, 10, 2, 3]\n",
      "[-5, -7, -1]\n",
      "[1, 4, 0, 10, 0, 2, 3, 0]\n",
      "[0, 0, -5, 0, -7, 0, 0, -1]\n",
      "['5800 E 58TH', '1060 W ADDISON', '4801 N BROADWAY']\n"
     ]
    }
   ],
   "source": [
    "# Examples of different ways to filter data\n",
    "\n",
    "mylist = [1, 4, -5, 10, -7, 2, 3, -1]\n",
    "\n",
    "# All positive values\n",
    "pos = [n for n in mylist if n > 0]\n",
    "print(pos)\n",
    "\n",
    "# All negative values\n",
    "neg = [n for n in mylist if n < 0]\n",
    "print(neg)\n",
    "\n",
    "# Negative values clipped to 0\n",
    "neg_clip = [n if n > 0 else 0 for n in mylist]\n",
    "print(neg_clip)\n",
    "\n",
    "# Positive values clipped to 0\n",
    "pos_clip = [n if n < 0 else 0 for n in mylist]\n",
    "print(pos_clip)\n",
    "\n",
    "# Compressing example\n",
    "\n",
    "addresses = [\n",
    "    '5412 N CLARK',\n",
    "    '5148 N CLARK', \n",
    "    '5800 E 58TH',\n",
    "    '2122 N CLARK',\n",
    "    '5645 N RAVENSWOOD',\n",
    "    '1060 W ADDISON',\n",
    "    '4801 N BROADWAY',\n",
    "    '1039 W GRANVILLE',\n",
    "]\n",
    "\n",
    "counts = [ 0, 3, 10, 4, 1, 7, 6, 1]\n",
    "\n",
    "from itertools import compress\n",
    "\n",
    "more5 = [ n > 5 for n in counts ]\n",
    "a = list(compress(addresses, more5))\n",
    "print(a)\n",
    "\n",
    "\n",
    "\n"
   ]
  },
  {
   "cell_type": "code",
   "execution_count": 23,
   "metadata": {},
   "outputs": [
    {
     "name": "stdout",
     "output_type": "stream",
     "text": [
      "[{'name': 'YHOO', 'shares': 45, 'price': 16.35}, {'name': 'FB', 'shares': 200, 'price': 21.09}, {'name': 'HPQ', 'shares': 35, 'price': 31.75}]\n",
      "[{'name': 'AAPL', 'shares': 50, 'price': 543.22}, {'name': 'ACME', 'shares': 75, 'price': 115.65}, {'name': 'IBM', 'shares': 100, 'price': 91.1}]\n"
     ]
    }
   ],
   "source": [
    "# example.py\n",
    "#\n",
    "# Example of using heapq to find the N smallest or largest items\n",
    "\n",
    "import heapq\n",
    "\n",
    "portfolio = [\n",
    "   {'name': 'IBM', 'shares': 100, 'price': 91.1},\n",
    "   {'name': 'AAPL', 'shares': 50, 'price': 543.22},\n",
    "   {'name': 'FB', 'shares': 200, 'price': 21.09},\n",
    "   {'name': 'HPQ', 'shares': 35, 'price': 31.75},\n",
    "   {'name': 'YHOO', 'shares': 45, 'price': 16.35},\n",
    "   {'name': 'ACME', 'shares': 75, 'price': 115.65}\n",
    "]\n",
    "\n",
    "cheap = heapq.nsmallest(3, portfolio, key=lambda s: s['price'])\n",
    "expensive = heapq.nlargest(3, portfolio, key=lambda s: s['price'])\n",
    "\n",
    "print(cheap)\n",
    "print(expensive)\n"
   ]
  },
  {
   "cell_type": "code",
   "execution_count": 24,
   "metadata": {},
   "outputs": [
    {
     "name": "stdout",
     "output_type": "stream",
     "text": [
      "['11/27/2012', '3/13/2013']\n",
      "2012-11-27\n",
      "2013-3-13\n",
      "('11', '27', '2012')\n",
      "('3', '13', '2013')\n"
     ]
    }
   ],
   "source": [
    "# example.py\n",
    "#\n",
    "# Examples of simple regular expression matching\n",
    "\n",
    "import re\n",
    "\n",
    "# Some sample text\n",
    "text = 'Today is 11/27/2012. PyCon starts 3/13/2013.'\n",
    "\n",
    "# (a) Find all matching dates\n",
    "datepat = re.compile(r'\\d+/\\d+/\\d+')\n",
    "print(datepat.findall(text))\n",
    "\n",
    "# (b) Find all matching dates with capture groups\n",
    "datepat = re.compile(r'(\\d+)/(\\d+)/(\\d+)')\n",
    "for month, day, year in datepat.findall(text):\n",
    "    print('{}-{}-{}'.format(year, month, day))\n",
    "\n",
    "# (c) Iterative search\n",
    "for m in datepat.finditer(text):\n",
    "    print(m.groups())\n",
    "\n",
    "\n"
   ]
  },
  {
   "cell_type": "code",
   "execution_count": 25,
   "metadata": {},
   "outputs": [
    {
     "name": "stdout",
     "output_type": "stream",
     "text": [
      "['11/27/2012', '3/13/2013']\n",
      "2012-11-27\n",
      "2013-3-13\n",
      "('11', '27', '2012')\n",
      "('3', '13', '2013')\n"
     ]
    }
   ],
   "source": [
    "# example.py\n",
    "#\n",
    "# Examples of simple regular expression matching\n",
    "\n",
    "import re\n",
    "\n",
    "# Some sample text\n",
    "text = 'Today is 11/27/2012. PyCon starts 3/13/2013.'\n",
    "\n",
    "# (a) Find all matching dates\n",
    "datepat = re.compile(r'\\d+/\\d+/\\d+')\n",
    "print(datepat.findall(text))\n",
    "\n",
    "# (b) Find all matching dates with capture groups\n",
    "datepat = re.compile(r'(\\d+)/(\\d+)/(\\d+)')\n",
    "for month, day, year in datepat.findall(text):\n",
    "    print('{}-{}-{}'.format(year, month, day))\n",
    "\n",
    "# (c) Iterative search\n",
    "for m in datepat.finditer(text):\n",
    "    print(m.groups())\n",
    "\n",
    "\n"
   ]
  },
  {
   "cell_type": "code",
   "execution_count": null,
   "metadata": {},
   "outputs": [],
   "source": []
  }
 ],
 "metadata": {
  "kernelspec": {
   "display_name": "Python 3",
   "language": "python",
   "name": "python3"
  },
  "language_info": {
   "codemirror_mode": {
    "name": "ipython",
    "version": 3
   },
   "file_extension": ".py",
   "mimetype": "text/x-python",
   "name": "python",
   "nbconvert_exporter": "python",
   "pygments_lexer": "ipython3",
   "version": "3.7.4"
  }
 },
 "nbformat": 4,
 "nbformat_minor": 2
}
