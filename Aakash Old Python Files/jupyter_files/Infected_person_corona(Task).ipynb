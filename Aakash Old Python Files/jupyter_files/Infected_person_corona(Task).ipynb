{
 "cells": [
  {
   "cell_type": "code",
   "execution_count": 23,
   "metadata": {},
   "outputs": [],
   "source": [
    "sum = 1;"
   ]
  },
  {
   "cell_type": "code",
   "execution_count": 24,
   "metadata": {},
   "outputs": [],
   "source": [
    "for i in range(1,14):\n",
    "    sum += 3 * sum"
   ]
  },
  {
   "cell_type": "code",
   "execution_count": 25,
   "metadata": {},
   "outputs": [
    {
     "name": "stdout",
     "output_type": "stream",
     "text": [
      "67108864\n"
     ]
    }
   ],
   "source": [
    "print(sum)"
   ]
  },
  {
   "cell_type": "code",
   "execution_count": 26,
   "metadata": {},
   "outputs": [
    {
     "name": "stdout",
     "output_type": "stream",
     "text": [
      "Total Infected  67108864\n"
     ]
    }
   ],
   "source": [
    "print(\"Total Infected \" ,sum)"
   ]
  },
  {
   "cell_type": "code",
   "execution_count": 28,
   "metadata": {},
   "outputs": [
    {
     "name": "stdout",
     "output_type": "stream",
     "text": [
      "Newly Infected =  201326592\n"
     ]
    }
   ],
   "source": [
    "print(\"Newly Infected = \" ,sum*3)"
   ]
  },
  {
   "cell_type": "code",
   "execution_count": 35,
   "metadata": {},
   "outputs": [
    {
     "name": "stdout",
     "output_type": "stream",
     "text": [
      "Total Infected_Persons : 4\n",
      "Total Infected_Persons : 16\n",
      "Total Infected_Persons : 64\n",
      "Total Infected_Persons : 256\n",
      "Total Infected_Persons : 1024\n",
      "Total Infected_Persons : 4096\n",
      "Total Infected_Persons : 16384\n",
      "Total Infected_Persons : 65536\n",
      "Total Infected_Persons : 262144\n",
      "Total Infected_Persons : 1048576\n",
      "Total Infected_Persons : 4194304\n",
      "Total Infected_Persons : 16777216\n",
      "Total Infected_Persons : 67108864\n"
     ]
    }
   ],
   "source": [
    "Infected_Person = 1;\n",
    "\n",
    "for i in range(1,14):\n",
    "    Infected_Person += (3*Infected_Person)\n",
    "    print(\"Total Infected_Persons :\",Infected_Person)\n",
    "    "
   ]
  },
  {
   "cell_type": "code",
   "execution_count": 34,
   "metadata": {},
   "outputs": [
    {
     "name": "stdout",
     "output_type": "stream",
     "text": [
      "Total Infected_Persons : 8192\n"
     ]
    }
   ],
   "source": [
    "print(\"Total Infected_Persons :\",Infected_Person)"
   ]
  },
  {
   "cell_type": "code",
   "execution_count": 36,
   "metadata": {},
   "outputs": [
    {
     "name": "stdout",
     "output_type": "stream",
     "text": [
      "Total Infected_Persons : 4\n",
      "Total Infected_Persons : 16\n",
      "Total Infected_Persons : 64\n",
      "Total Infected_Persons : 256\n",
      "Total Infected_Persons : 1024\n",
      "Total Infected_Persons : 4096\n",
      "Total Infected_Persons : 16384\n",
      "Total Infected_Persons : 65536\n",
      "Total Infected_Persons : 262144\n",
      "Total Infected_Persons : 1048576\n",
      "Total Infected_Persons : 4194304\n",
      "Total Infected_Persons : 16777216\n",
      "Total Infected_Persons : 67108864\n"
     ]
    }
   ],
   "source": [
    "Infected_Person = 1;\n",
    "\n",
    "for i in range(1,14):\n",
    "    Infected_Person += (3*Infected_Person)\n",
    "    print(\"Total Infected_Persons :\",Infected_Person)\n",
    "    "
   ]
  },
  {
   "cell_type": "code",
   "execution_count": 37,
   "metadata": {},
   "outputs": [
    {
     "name": "stdout",
     "output_type": "stream",
     "text": [
      "Total Infected_Persons : 4\n",
      "Total Infected_Persons : 16\n",
      "Total Infected_Persons : 64\n",
      "Total Infected_Persons : 256\n",
      "Total Infected_Persons : 1024\n",
      "Total Infected_Persons : 4096\n",
      "Total Infected_Persons : 16384\n",
      "Total Infected_Persons : 65536\n",
      "Total Infected_Persons : 262144\n",
      "Total Infected_Persons : 1048576\n",
      "Total Infected_Persons : 4194304\n",
      "Total Infected_Persons : 16777216\n"
     ]
    }
   ],
   "source": [
    "Infected_Person = 1;\n",
    "\n",
    "for i in range(2,14):\n",
    "    Infected_Person += (3*Infected_Person)\n",
    "    print(\"Total Infected_Persons :\",Infected_Person)\n",
    "    "
   ]
  },
  {
   "cell_type": "code",
   "execution_count": 43,
   "metadata": {},
   "outputs": [
    {
     "name": "stdout",
     "output_type": "stream",
     "text": [
      "Total Infected_Persons on Day2 : 4\n",
      "Total Infected_Persons on Day3 : 16\n",
      "Total Infected_Persons on Day4 : 64\n",
      "Total Infected_Persons on Day5 : 256\n",
      "Total Infected_Persons on Day6 : 1024\n",
      "Total Infected_Persons on Day7 : 4096\n",
      "Total Infected_Persons on Day8 : 16384\n",
      "Total Infected_Persons on Day9 : 65536\n",
      "Total Infected_Persons on Day10 : 262144\n",
      "Total Infected_Persons on Day11 : 1048576\n",
      "Total Infected_Persons on Day12 : 4194304\n",
      "Total Infected_Persons on Day13 : 16777216\n",
      "Total Infected_Persons on Day14 : 67108864\n"
     ]
    }
   ],
   "source": [
    "Infected_Person = 1;\n",
    "\n",
    "for i in range(2,15):\n",
    "    Infected_Person += (3*Infected_Person)\n",
    "    print(f\"Total Infected_Persons on Day{i} :\",Infected_Person)\n",
    "    "
   ]
  },
  {
   "cell_type": "code",
   "execution_count": 61,
   "metadata": {},
   "outputs": [
    {
     "name": "stdout",
     "output_type": "stream",
     "text": [
      "Total Infected Persons on Day1 : 1\n",
      "Newly Infected_Persons on Day2 : 3\n",
      "Total Infected_Persons on Day2 : 4\n",
      "Newly Infected_Persons on Day3 : 12\n",
      "Total Infected_Persons on Day3 : 16\n",
      "Newly Infected_Persons on Day4 : 48\n",
      "Total Infected_Persons on Day4 : 64\n",
      "Newly Infected_Persons on Day5 : 192\n",
      "Total Infected_Persons on Day5 : 256\n",
      "Newly Infected_Persons on Day6 : 768\n",
      "Total Infected_Persons on Day6 : 1024\n",
      "Newly Infected_Persons on Day7 : 3072\n",
      "Total Infected_Persons on Day7 : 4096\n",
      "Newly Infected_Persons on Day8 : 12288\n",
      "Total Infected_Persons on Day8 : 16384\n",
      "Newly Infected_Persons on Day9 : 49152\n",
      "Total Infected_Persons on Day9 : 65536\n",
      "Newly Infected_Persons on Day10 : 196608\n",
      "Total Infected_Persons on Day10 : 262144\n",
      "Newly Infected_Persons on Day11 : 786432\n",
      "Total Infected_Persons on Day11 : 1048576\n",
      "Newly Infected_Persons on Day12 : 3145728\n",
      "Total Infected_Persons on Day12 : 4194304\n",
      "Newly Infected_Persons on Day13 : 12582912\n",
      "Total Infected_Persons on Day13 : 16777216\n",
      "Newly Infected_Persons on Day14 : 50331648\n",
      "Total Infected_Persons on Day14 : 67108864\n"
     ]
    }
   ],
   "source": [
    "Infected_Person = 1;\n",
    "print(\"Total Infected Persons on Day1 :\",Infected_Person)\n",
    " \n",
    "for i in range(2,15):   \n",
    "    print(f\"Newly Infected_Persons on Day{i} :\",(3*Infected_Person))\n",
    "    Infected_Person += (3*Infected_Person)\n",
    "    print(f\"Total Infected_Persons on Day{i} :\",Infected_Person)\n",
    "   "
   ]
  },
  {
   "cell_type": "code",
   "execution_count": null,
   "metadata": {},
   "outputs": [],
   "source": []
  }
 ],
 "metadata": {
  "kernelspec": {
   "display_name": "Python 3",
   "language": "python",
   "name": "python3"
  },
  "language_info": {
   "codemirror_mode": {
    "name": "ipython",
    "version": 3
   },
   "file_extension": ".py",
   "mimetype": "text/x-python",
   "name": "python",
   "nbconvert_exporter": "python",
   "pygments_lexer": "ipython3",
   "version": "3.7.6"
  }
 },
 "nbformat": 4,
 "nbformat_minor": 2
}
