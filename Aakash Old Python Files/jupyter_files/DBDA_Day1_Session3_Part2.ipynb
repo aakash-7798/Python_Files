{
 "cells": [
  {
   "cell_type": "markdown",
   "metadata": {},
   "source": [
    "# File Input-Output\n",
    "\n",
    "* In this notebook we will learn how to read data from a file and how to write data to a file.\n",
    "* We will make use of *open* function to open files for input/output and use *write* method of created file object to write data to a file.\n",
    "\n",
    "The task is as follows:\n",
    "* Read each line of provided \"Letters.txt\". This file contains a single character on each line. (see content of the file below.)\n",
    "* If the letter is \n",
    "    * A we assign GPA = 4 \n",
    "    * B we assign GPA = 3\n",
    "    * C we assign GPA = 2\n",
    "    * D,E,F we assign GPA = 0\n",
    "* Write this information in output file \"GAP.txt\""
   ]
  },
  {
   "cell_type": "markdown",
   "metadata": {},
   "source": [
    "We will open file \"Letters.txt\". See the content of this file below.\n",
    "We make use of magic function %load of jupyter notebook \n",
    "(for magic function details see: https://ipython.org/ipython-doc/3/interactive/magics.html "
   ]
  },
  {
   "cell_type": "code",
   "execution_count": 1,
   "metadata": {},
   "outputs": [],
   "source": [
    "# %load Letters.txt"
   ]
  },
  {
   "cell_type": "markdown",
   "metadata": {},
   "source": [
    "As a warm up exercise, we first open the file and write its content to our screen/notebook output cell"
   ]
  },
  {
   "cell_type": "code",
   "execution_count": 2,
   "metadata": {},
   "outputs": [
    {
     "name": "stdout",
     "output_type": "stream",
     "text": [
      "A\n",
      "\n",
      "B\n",
      "\n",
      "C\n",
      "\n",
      "D\n",
      "\n",
      "E\n",
      "\n",
      "F\n",
      "File is closed\n"
     ]
    }
   ],
   "source": [
    "# Read file letters.txt\n",
    "inputfilename = 'Letters.txt'\n",
    "Data = open(inputfilename,'r')\n",
    "\n",
    "# Read each line and print it (to standard output)\n",
    "for eachline in Data:\n",
    "    print(eachline)\n",
    "\n",
    "# We close the file and inform user\n",
    "Data.close()\n",
    "print('File is closed')"
   ]
  },
  {
   "cell_type": "markdown",
   "metadata": {},
   "source": [
    "## Implementing the given task\n",
    "\n",
    "**Algorithm**\n",
    "\n"
   ]
  },
  {
   "cell_type": "markdown",
   "metadata": {},
   "source": [
    "1. Open the file *Letters.txt\" for reading.\n",
    "2. Opne the file *GPA.txt\" for writing\n",
    "3. Read each line of \"Letters.txt\"\n",
    "4. Implement the logic to decide grades based on alphabet/character in *Letters.txt*\n",
    "    *Logic*: If the letter/character we read is:\n",
    "    * A we assign GPA = 4\n",
    "    * B we assign GPA = 3\n",
    "    * C we assign GPA = 2\n",
    "    * D,E,F we assign GPA = 0\n",
    "5. Write this information in output file \"GAP.txt\" on a new line.\n",
    "6. Close the files *Letters.txt\" and *GPA.txt*"
   ]
  },
  {
   "cell_type": "code",
   "execution_count": 3,
   "metadata": {},
   "outputs": [
    {
     "name": "stdout",
     "output_type": "stream",
     "text": [
      "A  => 4\n",
      "B  => 3\n",
      "C  => 2\n",
      "D  => 0\n",
      "E  => 0\n",
      "F  => 0\n"
     ]
    }
   ],
   "source": [
    "# Code segment to implement the task\n",
    "\n",
    "# open input file for reading\n",
    "inputfile = open('Letters.txt','r')\n",
    "\n",
    "#open output file for writing\n",
    "outputfile = open('GPA.txt','w')\n",
    "\n",
    "#Read each line in inputfile and apply the logic discussed\n",
    "\n",
    "for eachline in inputfile:\n",
    "\n",
    "    if (eachline[0]==\"A\"):\n",
    "    \n",
    "        gpa = 4\n",
    "    \n",
    "    elif (eachline[0]==\"B\"):\n",
    "        \n",
    "        gpa = 3\n",
    "    \n",
    "    elif (eachline[0]==\"C\"):\n",
    "        \n",
    "        gpa = 2\n",
    "        \n",
    "    else:   #condition when eachline is other than A or B or C\n",
    "        \n",
    "        gpa = 0\n",
    "    \n",
    "    #Print to check if we implemented correctly\n",
    "    print(eachline[0],' =>',gpa)\n",
    "    \n",
    "    #Convert number to string\n",
    "    temp = str(gpa)+ '\\n' #<--- Why '\\n'?????\n",
    "    \n",
    "    #Write the calculated GPA to output file\n",
    "    outputfile.write(temp)\n",
    "    #--- if loop ends here, note if loop is inside the for loop, observe indents ----\n",
    "    \n",
    "#---for loop ends here\n",
    "    \n",
    "outputfile.close()\n",
    "inputfile.close()"
   ]
  },
  {
   "cell_type": "markdown",
   "metadata": {},
   "source": [
    "We will show content of file *GPA.txt*. It should show 4,3,2,0,0,0 on each line."
   ]
  },
  {
   "cell_type": "code",
   "execution_count": 4,
   "metadata": {},
   "outputs": [
    {
     "data": {
      "text/plain": [
       "0"
      ]
     },
     "execution_count": 4,
     "metadata": {},
     "output_type": "execute_result"
    }
   ],
   "source": [
    "# %load GPA.txt\n",
    "4\n",
    "3\n",
    "2\n",
    "0\n",
    "0\n",
    "0\n"
   ]
  }
 ],
 "metadata": {
  "kernelspec": {
   "display_name": "Python 3",
   "language": "python",
   "name": "python3"
  },
  "language_info": {
   "codemirror_mode": {
    "name": "ipython",
    "version": 3
   },
   "file_extension": ".py",
   "mimetype": "text/x-python",
   "name": "python",
   "nbconvert_exporter": "python",
   "pygments_lexer": "ipython3",
   "version": "3.7.6"
  },
  "widgets": {
   "state": {},
   "version": "1.1.2"
  }
 },
 "nbformat": 4,
 "nbformat_minor": 1
}
