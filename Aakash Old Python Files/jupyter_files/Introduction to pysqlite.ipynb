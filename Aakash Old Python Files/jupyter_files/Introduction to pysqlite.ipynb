{
 "cells": [
  {
   "cell_type": "markdown",
   "metadata": {},
   "source": [
    "# Database Management Through Python\n",
    "## Use of pysqlite for accesing and managing sqlite3 database"
   ]
  },
  {
   "cell_type": "markdown",
   "metadata": {},
   "source": [
    "- SQLite is a software library that implements a self-contained, serverless, zero-configuration, transactional SQL database engine. \n",
    "- SQLite is the most widely deployed SQL database engine in the world.\" \n",
    "\n",
    "see [sqlite](http://www.sqlite.org/)\n",
    "\n",
    "## Installation\n",
    "You can install command based interface for SQLite version 3 (sqlite3) databases and associated python package from [sqlite website](https://sqlite.org/)\n",
    "\n",
    "To install this package with conda run:\n",
    "\n",
    "    conda install -c anaconda sqlite=3.13.0\n",
    " \n",
    "## Documentation\n",
    "- [sqlite command mode execution](https://www.sqlite.org/cli.html)\n",
    "- [sqlite3 python module documentation](https://docs.python.org/2/library/sqlite3.html)\n",
    "\n",
    "## SQLite Module in Python\n",
    "To use the SQLite3 module we need to add an import statement to our python script:"
   ]
  },
  {
   "cell_type": "code",
   "execution_count": 24,
   "metadata": {
    "collapsed": true
   },
   "outputs": [],
   "source": [
    "# Connecting sqlite3 database\n",
    "\n",
    "import sqlite3 as lite\n",
    "import sys"
   ]
  },
  {
   "cell_type": "markdown",
   "metadata": {},
   "source": [
    "### Connecting to the Database\n",
    "- To connect to the database, we can use sqlite3.connect function by passing the name of a file to open or create it.\n",
    "- We can use the argument \":memory:\" to create a temporary DB in the RAM:\n",
    "- When we are done working with the DB we need to close the connection:\n",
    "\n",
    "### Print version of the sqlite package"
   ]
  },
  {
   "cell_type": "code",
   "execution_count": 25,
   "metadata": {
    "collapsed": false
   },
   "outputs": [
    {
     "name": "stdout",
     "output_type": "stream",
     "text": [
      "SQLite version: ('3.8.11',)\n"
     ]
    }
   ],
   "source": [
    "con = None # variable to store sqlite3 object\n",
    "\n",
    "try:\n",
    "    con = lite.connect('test.db') # connect to the database\n",
    "    \n",
    "    cur = con.cursor()    \n",
    "    \n",
    "    cur.execute('SELECT SQLITE_VERSION()') #sqlite3 command through python wrapper\n",
    "    \n",
    "    data = cur.fetchone() # Collecting data from the query response\n",
    "    \n",
    "    print(\"SQLite version:\", data)                \n",
    "    \n",
    "except lite.Error:\n",
    "    \n",
    "    print(\"Error :\" + e.args[0])\n",
    "    #sys.exit(1)\n",
    "    \n",
    "finally:\n",
    "    \n",
    "    if con:\n",
    "        con.close()"
   ]
  },
  {
   "cell_type": "markdown",
   "metadata": {},
   "source": [
    "Above task can also be accommplished using package macro *sqlite_version*"
   ]
  },
  {
   "cell_type": "code",
   "execution_count": 26,
   "metadata": {
    "collapsed": false,
    "scrolled": true
   },
   "outputs": [
    {
     "data": {
      "text/plain": [
       "'3.8.11'"
      ]
     },
     "execution_count": 26,
     "metadata": {},
     "output_type": "execute_result"
    }
   ],
   "source": [
    "lite.sqlite_version"
   ]
  },
  {
   "cell_type": "markdown",
   "metadata": {},
   "source": [
    "In the form of tuple "
   ]
  },
  {
   "cell_type": "code",
   "execution_count": 27,
   "metadata": {
    "collapsed": false
   },
   "outputs": [
    {
     "data": {
      "text/plain": [
       "(3, 8, 11)"
      ]
     },
     "execution_count": 27,
     "metadata": {},
     "output_type": "execute_result"
    }
   ],
   "source": [
    "lite.sqlite_version_info"
   ]
  },
  {
   "cell_type": "markdown",
   "metadata": {},
   "source": [
    "The *sqlite.version* is the version of the pysqlite (2.6.0), which is the binding of the Python language to the SQLite database. The *sqlite3.sqlite_version* gives us the version of the SQLite database library. In our case it is 3.8.11"
   ]
  },
  {
   "cell_type": "code",
   "execution_count": 28,
   "metadata": {
    "collapsed": false
   },
   "outputs": [
    {
     "data": {
      "text/plain": [
       "'2.6.0'"
      ]
     },
     "execution_count": 28,
     "metadata": {},
     "output_type": "execute_result"
    }
   ],
   "source": [
    "lite.version"
   ]
  },
  {
   "cell_type": "markdown",
   "metadata": {},
   "source": [
    "# CRUD operations "
   ]
  },
  {
   "cell_type": "markdown",
   "metadata": {},
   "source": [
    "### CREATE TABLE\n",
    "To use the database, we need to get a cursor object and pass the SQL statements to the cursor object to execute them. \n",
    "Then, we should commit the changes.\n",
    "\n",
    "We are going to create a CARS table with Id, Name and price."
   ]
  },
  {
   "cell_type": "code",
   "execution_count": 29,
   "metadata": {
    "collapsed": false
   },
   "outputs": [],
   "source": [
    "#Connect with the database\n",
    "con = lite.connect('test.db')\n",
    "\n",
    "with con:\n",
    "    \n",
    "    cur = con.cursor()    \n",
    "    cur.execute(\"DROP TABLE IF EXISTS Cars\")\n",
    "    cur.execute(\"CREATE TABLE Cars(Id INT, Name TEXT, Price INT)\")\n",
    "    cur.execute(\"INSERT INTO Cars VALUES(1,'Audi',52642)\")\n",
    "    cur.execute(\"INSERT INTO Cars VALUES(2,'Mercedes',57127)\")\n",
    "    cur.execute(\"INSERT INTO Cars VALUES(3,'Skoda',9000)\")\n",
    "    cur.execute(\"INSERT INTO Cars VALUES(4,'Volvo',29000)\")\n",
    "    cur.execute(\"INSERT INTO Cars VALUES(5,'Bentley',350000)\")\n",
    "    cur.execute(\"INSERT INTO Cars VALUES(6,'Citroen',21000)\")\n",
    "    cur.execute(\"INSERT INTO Cars VALUES(7,'Hummer',41400)\")\n",
    "    cur.execute(\"INSERT INTO Cars VALUES(8,'Volkswagen',21600)\")\n",
    "    \n",
    "con.close() #close the database"
   ]
  },
  {
   "cell_type": "markdown",
   "metadata": {},
   "source": [
    "## Same things as above in a single command using \"*executemany*\""
   ]
  },
  {
   "cell_type": "code",
   "execution_count": 30,
   "metadata": {
    "collapsed": false
   },
   "outputs": [],
   "source": [
    "cars = (\n",
    "    (1, 'Audi', 52642),\n",
    "    (2, 'Mercedes', 57127),\n",
    "    (3, 'Skoda', 9000),\n",
    "    (4, 'Volvo', 29000),\n",
    "    (5, 'Bentley', 350000),\n",
    "    (6, 'Hummer', 41400),\n",
    "    (7, 'Volkswagen', 21600)\n",
    ")\n",
    "\n",
    "#Reconnect with the database\n",
    "con = lite.connect('test.db') \n",
    "\n",
    "with con:\n",
    "    \n",
    "    cur = con.cursor()    \n",
    "    \n",
    "    cur.execute(\"DROP TABLE IF EXISTS Cars\")\n",
    "    cur.execute(\"CREATE TABLE Cars(Id INT, Name TEXT, Price INT)\")\n",
    "    cur.executemany(\"INSERT INTO Cars VALUES(?, ?, ?)\", cars)\n",
    "\n",
    "con.close() #close the database"
   ]
  },
  {
   "cell_type": "markdown",
   "metadata": {},
   "source": [
    "## We can execute same thing as above using *\"executescript\"* method\n",
    "\n",
    "Observe the *try-except-finally* block"
   ]
  },
  {
   "cell_type": "code",
   "execution_count": 31,
   "metadata": {
    "collapsed": false
   },
   "outputs": [],
   "source": [
    "try:\n",
    "    con = lite.connect('test.db') # connect to the databse\n",
    "    \n",
    "    cur = con.cursor()  #get cursor position\n",
    "    \n",
    "    cur.executescript(\"\"\"\n",
    "        DROP TABLE IF EXISTS Cars;\n",
    "        CREATE TABLE Cars(Id INT, Name TEXT, Price INT);\n",
    "        INSERT INTO Cars VALUES(1,'Audi',52642);\n",
    "        INSERT INTO Cars VALUES(2,'Mercedes',57127);\n",
    "        INSERT INTO Cars VALUES(3,'Skoda',9000);\n",
    "        INSERT INTO Cars VALUES(4,'Volvo',29000);\n",
    "        INSERT INTO Cars VALUES(5,'Bentley',350000);\n",
    "        INSERT INTO Cars VALUES(6,'Citroen',21000);\n",
    "        INSERT INTO Cars VALUES(7,'Hummer',41400);\n",
    "        INSERT INTO Cars VALUES(8,'Volkswagen',21600);\n",
    "        \"\"\"\"\")\n",
    "    con.commit()\n",
    "    \n",
    "except lite.Error: # on error execute following code block\n",
    "    if con:\n",
    "        con.rollback() #roll back any changes in the database\n",
    "        \n",
    "    print(\"Error %s:\"% e.args[0])\n",
    "    \n",
    "finally:\n",
    "    \n",
    "    if con:\n",
    "        con.close()  #close the database\n"
   ]
  },
  {
   "cell_type": "markdown",
   "metadata": {},
   "source": [
    "## Add a new table Friends and access its last row"
   ]
  },
  {
   "cell_type": "code",
   "execution_count": 32,
   "metadata": {
    "collapsed": false
   },
   "outputs": [
    {
     "name": "stdout",
     "output_type": "stream",
     "text": [
      "The last Id of the inserted row is 4\n"
     ]
    }
   ],
   "source": [
    "con = lite.connect(':memory:')\n",
    "\n",
    "with con:\n",
    "    \n",
    "    cur = con.cursor()    \n",
    "    cur.execute(\"CREATE TABLE Friends(Id INTEGER PRIMARY KEY, Name TEXT);\")\n",
    "    cur.execute(\"INSERT INTO Friends(Name) VALUES ('Tom');\")\n",
    "    cur.execute(\"INSERT INTO Friends(Name) VALUES ('Rebecca');\")\n",
    "    cur.execute(\"INSERT INTO Friends(Name) VALUES ('Jim');\")\n",
    "    cur.execute(\"INSERT INTO Friends(Name) VALUES ('Robert');\")\n",
    "        \n",
    "    lid = cur.lastrowid\n",
    "    print(\"The last Id of the inserted row is %d\" % lid)\n",
    "\n",
    "#close the database\n",
    "con.close()"
   ]
  },
  {
   "cell_type": "markdown",
   "metadata": {},
   "source": [
    "### READ and Retrieve the data"
   ]
  },
  {
   "cell_type": "code",
   "execution_count": 33,
   "metadata": {
    "collapsed": false
   },
   "outputs": [
    {
     "name": "stdout",
     "output_type": "stream",
     "text": [
      "(1, 'Audi', 52642)\n",
      "(2, 'Mercedes', 57127)\n",
      "(3, 'Skoda', 9000)\n",
      "(4, 'Volvo', 29000)\n",
      "(5, 'Bentley', 350000)\n",
      "(6, 'Citroen', 21000)\n",
      "(7, 'Hummer', 41400)\n",
      "(8, 'Volkswagen', 21600)\n"
     ]
    }
   ],
   "source": [
    "con = lite.connect('test.db')\n",
    "\n",
    "with con:    \n",
    "    \n",
    "    cur = con.cursor()    \n",
    "    cur.execute(\"SELECT * FROM Cars\")\n",
    "\n",
    "    rows = cur.fetchall()\n",
    "\n",
    "    for row in rows:\n",
    "        print(row)\n",
    "\n",
    "#close the database\n",
    "con.close()"
   ]
  },
  {
   "cell_type": "markdown",
   "metadata": {},
   "source": [
    "## Fetching records line by line"
   ]
  },
  {
   "cell_type": "code",
   "execution_count": 34,
   "metadata": {
    "collapsed": false,
    "scrolled": true
   },
   "outputs": [
    {
     "name": "stdout",
     "output_type": "stream",
     "text": [
      "1 Audi 52642\n",
      "2 Mercedes 57127\n",
      "3 Skoda 9000\n",
      "4 Volvo 29000\n",
      "5 Bentley 350000\n",
      "6 Citroen 21000\n",
      "7 Hummer 41400\n",
      "8 Volkswagen 21600\n"
     ]
    }
   ],
   "source": [
    "con = lite.connect('test.db')\n",
    "\n",
    "with con:\n",
    "    \n",
    "    cur = con.cursor()    \n",
    "    cur.execute(\"SELECT * FROM Cars\")\n",
    "\n",
    "    while True:\n",
    "      \n",
    "        row = cur.fetchone()\n",
    "        \n",
    "        if row == None:\n",
    "            break\n",
    "            \n",
    "        print(row[0], row[1], row[2])\n"
   ]
  },
  {
   "cell_type": "markdown",
   "metadata": {},
   "source": [
    "## sqlite3 command line\n",
    "Let's see what we've done so far using sqlite command shell:"
   ]
  },
  {
   "cell_type": "markdown",
   "metadata": {},
   "source": [
    "<img src=\"Sqlit3CommandPromptOutput.png\", align=\"left\">"
   ]
  }
 ],
 "metadata": {
  "anaconda-cloud": {},
  "kernelspec": {
   "display_name": "Python 3",
   "language": "python",
   "name": "python3"
  },
  "language_info": {
   "codemirror_mode": {
    "name": "ipython",
    "version": 3
   },
   "file_extension": ".py",
   "mimetype": "text/x-python",
   "name": "python",
   "nbconvert_exporter": "python",
   "pygments_lexer": "ipython3",
   "version": "3.5.2"
  },
  "nav_menu": {},
  "toc": {
   "navigate_menu": true,
   "number_sections": true,
   "sideBar": true,
   "threshold": 6,
   "toc_cell": false,
   "toc_section_display": "block",
   "toc_window_display": false
  },
  "widgets": {
   "state": {},
   "version": "1.1.2"
  }
 },
 "nbformat": 4,
 "nbformat_minor": 1
}
