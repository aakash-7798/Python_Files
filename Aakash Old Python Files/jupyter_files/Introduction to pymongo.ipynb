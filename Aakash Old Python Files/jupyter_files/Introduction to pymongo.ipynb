{
 "cells": [
  {
   "cell_type": "markdown",
   "metadata": {},
   "source": [
    "# Intrduction to pymongo\n",
    "Accessing mondoDB from python"
   ]
  },
  {
   "cell_type": "markdown",
   "metadata": {},
   "source": [
    "## What is [MongoDB](https://www.mongodb.com/)?\n",
    "MongoDB is the database for today's applications, enabling you to:\n",
    "\n",
    "- Leverage data and technology to maximize competitive advantage\n",
    "- Reduce risk for mission-critical deployments\n",
    "- Accelerate time-to-value\n",
    "- Dramatically lower total cost of ownership\n",
    "\n",
    "With MongoDB, you can build applications that were never possible with traditional relational databases. Here's how.[Source](https://www.mongodb.com/mongodb-architecture)\n",
    "\n",
    "* **Fast, Iterative Development** Scope creep and changing business requirements no longer stand between you and successful project delivery. A flexible data model coupled with dynamic schema and idiomatic drivers make it fast for developers to build and evolve applications. Automated provisioning and management enable continuous integration and highly productive operations. Contrast this against static relational schemas and complex operations that have hindered you in the past.\n",
    "\n",
    "* **Flexible Data Model** MongoDB's document data model makes it easy for you to store and combine data of any structure, without giving up sophisticated validation rules, data access and rich indexing functionality. You can dynamically modify the schema without downtime. You spend less time prepping your data for the database, and more time putting your data to work.\n",
    "Multi-Datacenter Scalability. MongoDB can be scaled within and across geographically distributed data centers, providing new levels of availability and scalability. As your deployments grow in terms of data volume and throughput, MongoDB scales easily with no downtime, and without changing your application. And as your availability and recovery goals evolve, MongoDB lets you adapt flexibly, across data centers, with tunable consistency.\n",
    "\n",
    "* **Integrated Feature Set** Analytics and data visualization, text search, geospatial, in-memory performance and global replication allow you to deliver a wide variety of real-time applications on one technology, reliably and securely. RDBMS systems require additional, complex technologies demanding separate integration overhead and expense to do this well.\n",
    "\n",
    "* **Lower TCO** Application development teams are more productive when they use MongoDB. Single click management means operations teams are as well. MongoDB runs on commodity hardware, dramatically lowering costs. Finally, MongoDB offers affordable annual subscriptions, including 24x7x365 global support. Your applications can be one tenth the cost to deliver compared to using a relational database.\n",
    "\n",
    "* **Long-Term Commitment** MongoDB Inc and the MongoDB ecosystem stand behind the world's fastest-growing database. 15M+ downloads and 2,000+ customers including more than 50% of the Fortune 100. Over 1,000 partners and greater investor funding than any other database in history. You can be sure your investment is protected.\n",
    "\n",
    "Further details about mongoDB are referred to [this site](https://www.mongodb.com/resource-center)"
   ]
  },
  {
   "cell_type": "markdown",
   "metadata": {},
   "source": [
    "## Why MongoDB? \n",
    "[source](http://www.bogotobogo.com/python/MongoDB_PyMongo/python_MongoDB_pyMongo_tutorial_installing.php )\n",
    "\n",
    "1. Flexible schema - supports hierarchical data structure.\n",
    "2. Oriented toward programmers - it supports associative arrays such as php arrays, python dictionaries, JSON objects, Ruby hash etc.\n",
    "3. Lots of MongoDB Drivers and Client Libraries \n",
    "4. Drivers in MongoDB are used for connectivity between client applications and the database. For example, if we have a Python program and we want to connect to MongoDB, then we need to download and integrate the Python driver so that the program can work with the MongoDB database. PyMongo is the driver for Python. \n",
    "5. Flexible deployment.\n",
    "6. Designed for BigData.\n",
    "7. Aggregation Framework.\n",
    "<div>\n",
    "<img src=\"http://www.bogotobogo.com/python/images/MongoDB/Install/App_Architecture.png \", align=\"center\">\n",
    "<img src=\"http://www.bogotobogo.com/python/images/MongoDB/Install/PyMongo-Driver.png \", align=\"center\">\n",
    "\n",
    "[Image source](http://www.bogotobogo.com/python/images/MongoDB/Install/)\n",
    "</div>"
   ]
  },
  {
   "cell_type": "markdown",
   "metadata": {},
   "source": [
    "## What is pymongo?\n",
    "\n",
    "PyMongo is a Python distribution containing tools for working with MongoDB, and is the recommended way to work with MongoDB from Python."
   ]
  },
  {
   "cell_type": "markdown",
   "metadata": {},
   "source": [
    "## Installing pymongo\n",
    "\n",
    "We are working with Anaconda 3.4 python package. We will use *conda* package management system for installation. Command to install pymongo pacakge is: \n",
    "\n",
    "conda install pymongo"
   ]
  },
  {
   "cell_type": "markdown",
   "metadata": {},
   "source": [
    "Now, we can create a database, and a collection, which is like a table in a traditional RDBMS.\n",
    "First we’ll start a MongoDB instance by running the following line at the terminal.\n",
    "> >>mongod start"
   ]
  },
  {
   "cell_type": "markdown",
   "metadata": {},
   "source": [
    "Next, we’ll fire up python (or ipython, or an ipython notebook) import some stuff, and connect to the mongod instance we just started. \n",
    "This can be done several ways, \n",
    "* the first line after the import connects to the default host and port. \n",
    "* The next two lines show alternate ways to explicitly specify the default host and port."
   ]
  },
  {
   "cell_type": "code",
   "execution_count": 1,
   "metadata": {
    "collapsed": true
   },
   "outputs": [],
   "source": [
    "from pymongo import MongoClient\n",
    "client = MongoClient()\n",
    "# alternatively..\n",
    "client = MongoClient(\"localhost\",27017)\n",
    "client = MongoClient(\"mongodb://localhost:27017/\")"
   ]
  },
  {
   "cell_type": "markdown",
   "metadata": {},
   "source": [
    "At this point we can create a database using attribute notation, or dictionary style notation. \n",
    "Here, the MongoDB database is is called “mydb”, and the Python variable describing that database is “db”. \n",
    "(This is useful if you’re opening up a database and it has a ridiculously long name.)"
   ]
  },
  {
   "cell_type": "code",
   "execution_count": 2,
   "metadata": {
    "collapsed": true
   },
   "outputs": [],
   "source": [
    "db = client.mydb\n",
    "db = client[\"mydb\"]"
   ]
  },
  {
   "cell_type": "markdown",
   "metadata": {},
   "source": [
    "Next we can create collections in the database. Collections are analogous to tables in a traditional RDBMS. (Collections and databases aren’t actually created until you start adding documents, which are analogous to rows or records.) Again, we have the attribute and dictionary styles for creating collections."
   ]
  },
  {
   "cell_type": "code",
   "execution_count": 3,
   "metadata": {
    "collapsed": true
   },
   "outputs": [],
   "source": [
    "coll = db.mycollection\n",
    "coll = db['mycollection']"
   ]
  },
  {
   "cell_type": "markdown",
   "metadata": {},
   "source": [
    "We can create a document as a Python dict. A document can hold strings, numbers, and lists. We can insert this into a collection using the insert() method."
   ]
  },
  {
   "cell_type": "code",
   "execution_count": null,
   "metadata": {
    "collapsed": false
   },
   "outputs": [],
   "source": [
    "def get_db():\n",
    "    from pymongo import MongoClient\n",
    "    client = MongoClient('localhost:27017')\n",
    "    db = client.myFirstMB\n",
    "    return db\n",
    "\n",
    "def add_country(db):\n",
    "    db.countries.insert({\"name\" : \"Canada\"})\n",
    "    \n",
    "def get_country(db):\n",
    "    return db.countries.find_one()\n",
    "\n",
    "db = get_db() \n",
    "add_country(db)\n",
    "print(get_country(db))"
   ]
  },
  {
   "cell_type": "code",
   "execution_count": 4,
   "metadata": {
    "collapsed": false,
    "scrolled": true
   },
   "outputs": [
    {
     "name": "stderr",
     "output_type": "stream",
     "text": [
      "C:\\Anaconda2\\envs\\py35\\lib\\site-packages\\ipykernel\\__main__.py:2: DeprecationWarning: insert is deprecated. Use insert_one or insert_many instead.\n",
      "  from ipykernel import kernelapp as app\n"
     ]
    },
    {
     "ename": "ServerSelectionTimeoutError",
     "evalue": "localhost:27017: [WinError 10061] No connection could be made because the target machine actively refused it",
     "output_type": "error",
     "traceback": [
      "\u001b[0;31m---------------------------------------------------------------------------\u001b[0m",
      "\u001b[0;31mServerSelectionTimeoutError\u001b[0m               Traceback (most recent call last)",
      "\u001b[0;32m<ipython-input-4-0e7349ba1767>\u001b[0m in \u001b[0;36m<module>\u001b[0;34m()\u001b[0m\n\u001b[1;32m      1\u001b[0m \u001b[0mdocument\u001b[0m \u001b[1;33m=\u001b[0m \u001b[1;33m{\u001b[0m\u001b[1;34m\"fname\"\u001b[0m\u001b[1;33m:\u001b[0m\u001b[1;34m\"connor\"\u001b[0m\u001b[1;33m,\u001b[0m\u001b[1;34m\"weight\"\u001b[0m\u001b[1;33m:\u001b[0m\u001b[1;36m170.5\u001b[0m\u001b[1;33m,\u001b[0m\u001b[1;34m\"height\"\u001b[0m\u001b[1;33m:\u001b[0m\u001b[1;33m[\u001b[0m\u001b[1;36m5\u001b[0m\u001b[1;33m,\u001b[0m\u001b[1;36m10\u001b[0m\u001b[1;33m]\u001b[0m\u001b[1;33m}\u001b[0m\u001b[1;33m\u001b[0m\u001b[0m\n\u001b[0;32m----> 2\u001b[0;31m \u001b[0mcoll\u001b[0m\u001b[1;33m.\u001b[0m\u001b[0minsert\u001b[0m\u001b[1;33m(\u001b[0m \u001b[0mdocument\u001b[0m \u001b[1;33m)\u001b[0m\u001b[1;33m\u001b[0m\u001b[0m\n\u001b[0m",
      "\u001b[0;32mC:\\Anaconda2\\envs\\py35\\lib\\site-packages\\pymongo\\collection.py\u001b[0m in \u001b[0;36minsert\u001b[0;34m(self, doc_or_docs, manipulate, check_keys, continue_on_error, **kwargs)\u001b[0m\n\u001b[1;32m   2208\u001b[0m         \u001b[1;32mif\u001b[0m \u001b[0mkwargs\u001b[0m\u001b[1;33m:\u001b[0m\u001b[1;33m\u001b[0m\u001b[0m\n\u001b[1;32m   2209\u001b[0m             \u001b[0mwrite_concern\u001b[0m \u001b[1;33m=\u001b[0m \u001b[0mWriteConcern\u001b[0m\u001b[1;33m(\u001b[0m\u001b[1;33m**\u001b[0m\u001b[0mkwargs\u001b[0m\u001b[1;33m)\u001b[0m\u001b[1;33m\u001b[0m\u001b[0m\n\u001b[0;32m-> 2210\u001b[0;31m         \u001b[1;32mwith\u001b[0m \u001b[0mself\u001b[0m\u001b[1;33m.\u001b[0m\u001b[0m_socket_for_writes\u001b[0m\u001b[1;33m(\u001b[0m\u001b[1;33m)\u001b[0m \u001b[1;32mas\u001b[0m \u001b[0msock_info\u001b[0m\u001b[1;33m:\u001b[0m\u001b[1;33m\u001b[0m\u001b[0m\n\u001b[0m\u001b[1;32m   2211\u001b[0m             return self._insert(sock_info, doc_or_docs, not continue_on_error,\n\u001b[1;32m   2212\u001b[0m                                 check_keys, manipulate, write_concern)\n",
      "\u001b[0;32mC:\\Anaconda2\\envs\\py35\\lib\\contextlib.py\u001b[0m in \u001b[0;36m__enter__\u001b[0;34m(self)\u001b[0m\n\u001b[1;32m     57\u001b[0m     \u001b[1;32mdef\u001b[0m \u001b[0m__enter__\u001b[0m\u001b[1;33m(\u001b[0m\u001b[0mself\u001b[0m\u001b[1;33m)\u001b[0m\u001b[1;33m:\u001b[0m\u001b[1;33m\u001b[0m\u001b[0m\n\u001b[1;32m     58\u001b[0m         \u001b[1;32mtry\u001b[0m\u001b[1;33m:\u001b[0m\u001b[1;33m\u001b[0m\u001b[0m\n\u001b[0;32m---> 59\u001b[0;31m             \u001b[1;32mreturn\u001b[0m \u001b[0mnext\u001b[0m\u001b[1;33m(\u001b[0m\u001b[0mself\u001b[0m\u001b[1;33m.\u001b[0m\u001b[0mgen\u001b[0m\u001b[1;33m)\u001b[0m\u001b[1;33m\u001b[0m\u001b[0m\n\u001b[0m\u001b[1;32m     60\u001b[0m         \u001b[1;32mexcept\u001b[0m \u001b[0mStopIteration\u001b[0m\u001b[1;33m:\u001b[0m\u001b[1;33m\u001b[0m\u001b[0m\n\u001b[1;32m     61\u001b[0m             \u001b[1;32mraise\u001b[0m \u001b[0mRuntimeError\u001b[0m\u001b[1;33m(\u001b[0m\u001b[1;34m\"generator didn't yield\"\u001b[0m\u001b[1;33m)\u001b[0m \u001b[1;32mfrom\u001b[0m \u001b[1;32mNone\u001b[0m\u001b[1;33m\u001b[0m\u001b[0m\n",
      "\u001b[0;32mC:\\Anaconda2\\envs\\py35\\lib\\site-packages\\pymongo\\mongo_client.py\u001b[0m in \u001b[0;36m_get_socket\u001b[0;34m(self, selector)\u001b[0m\n\u001b[1;32m    760\u001b[0m     \u001b[1;33m@\u001b[0m\u001b[0mcontextlib\u001b[0m\u001b[1;33m.\u001b[0m\u001b[0mcontextmanager\u001b[0m\u001b[1;33m\u001b[0m\u001b[0m\n\u001b[1;32m    761\u001b[0m     \u001b[1;32mdef\u001b[0m \u001b[0m_get_socket\u001b[0m\u001b[1;33m(\u001b[0m\u001b[0mself\u001b[0m\u001b[1;33m,\u001b[0m \u001b[0mselector\u001b[0m\u001b[1;33m)\u001b[0m\u001b[1;33m:\u001b[0m\u001b[1;33m\u001b[0m\u001b[0m\n\u001b[0;32m--> 762\u001b[0;31m         \u001b[0mserver\u001b[0m \u001b[1;33m=\u001b[0m \u001b[0mself\u001b[0m\u001b[1;33m.\u001b[0m\u001b[0m_get_topology\u001b[0m\u001b[1;33m(\u001b[0m\u001b[1;33m)\u001b[0m\u001b[1;33m.\u001b[0m\u001b[0mselect_server\u001b[0m\u001b[1;33m(\u001b[0m\u001b[0mselector\u001b[0m\u001b[1;33m)\u001b[0m\u001b[1;33m\u001b[0m\u001b[0m\n\u001b[0m\u001b[1;32m    763\u001b[0m         \u001b[1;32mtry\u001b[0m\u001b[1;33m:\u001b[0m\u001b[1;33m\u001b[0m\u001b[0m\n\u001b[1;32m    764\u001b[0m             \u001b[1;32mwith\u001b[0m \u001b[0mserver\u001b[0m\u001b[1;33m.\u001b[0m\u001b[0mget_socket\u001b[0m\u001b[1;33m(\u001b[0m\u001b[0mself\u001b[0m\u001b[1;33m.\u001b[0m\u001b[0m__all_credentials\u001b[0m\u001b[1;33m)\u001b[0m \u001b[1;32mas\u001b[0m \u001b[0msock_info\u001b[0m\u001b[1;33m:\u001b[0m\u001b[1;33m\u001b[0m\u001b[0m\n",
      "\u001b[0;32mC:\\Anaconda2\\envs\\py35\\lib\\site-packages\\pymongo\\topology.py\u001b[0m in \u001b[0;36mselect_server\u001b[0;34m(self, selector, server_selection_timeout, address)\u001b[0m\n\u001b[1;32m    208\u001b[0m         return random.choice(self.select_servers(selector,\n\u001b[1;32m    209\u001b[0m                                                  \u001b[0mserver_selection_timeout\u001b[0m\u001b[1;33m,\u001b[0m\u001b[1;33m\u001b[0m\u001b[0m\n\u001b[0;32m--> 210\u001b[0;31m                                                  address))\n\u001b[0m\u001b[1;32m    211\u001b[0m \u001b[1;33m\u001b[0m\u001b[0m\n\u001b[1;32m    212\u001b[0m     def select_server_by_address(self, address,\n",
      "\u001b[0;32mC:\\Anaconda2\\envs\\py35\\lib\\site-packages\\pymongo\\topology.py\u001b[0m in \u001b[0;36mselect_servers\u001b[0;34m(self, selector, server_selection_timeout, address)\u001b[0m\n\u001b[1;32m    184\u001b[0m                 \u001b[1;32mif\u001b[0m \u001b[0mserver_timeout\u001b[0m \u001b[1;33m==\u001b[0m \u001b[1;36m0\u001b[0m \u001b[1;32mor\u001b[0m \u001b[0mnow\u001b[0m \u001b[1;33m>\u001b[0m \u001b[0mend_time\u001b[0m\u001b[1;33m:\u001b[0m\u001b[1;33m\u001b[0m\u001b[0m\n\u001b[1;32m    185\u001b[0m                     raise ServerSelectionTimeoutError(\n\u001b[0;32m--> 186\u001b[0;31m                         self._error_message(selector))\n\u001b[0m\u001b[1;32m    187\u001b[0m \u001b[1;33m\u001b[0m\u001b[0m\n\u001b[1;32m    188\u001b[0m                 \u001b[0mself\u001b[0m\u001b[1;33m.\u001b[0m\u001b[0m_ensure_opened\u001b[0m\u001b[1;33m(\u001b[0m\u001b[1;33m)\u001b[0m\u001b[1;33m\u001b[0m\u001b[0m\n",
      "\u001b[0;31mServerSelectionTimeoutError\u001b[0m: localhost:27017: [WinError 10061] No connection could be made because the target machine actively refused it"
     ]
    }
   ],
   "source": [
    "document = {\"fname\":\"connor\",\"weight\":170.5,\"height\":[5,10]}\n",
    "coll.insert( document )"
   ]
  },
  {
   "cell_type": "code",
   "execution_count": null,
   "metadata": {
    "collapsed": true
   },
   "outputs": [],
   "source": [
    "from pymongo import MongoClient\n",
    "\n",
    "client = MongoClient('mongodb://localhost:27017/')\n",
    "\n",
    "# data base name : 'test-database-1'\n",
    "mydb = client['test-database-1']\n",
    "\n",
    "import datetime\n",
    "\n",
    "myrecord = {\n",
    "        \"author\": \"Duke\",\n",
    "        \"title\" : \"PyMongo 101\",\n",
    "        \"tags\" : [\"MongoDB\", \"PyMongo\", \"Tutorial\"],\n",
    "        \"date\" : datetime.datetime.utcnow()\n",
    "        }\n",
    "\n",
    "record_id = mydb.mytable.insert(myrecord)\n",
    "\n",
    "print record_id\n",
    "print mydb.collection_names()"
   ]
  },
  {
   "cell_type": "markdown",
   "metadata": {},
   "source": [
    "Since databases and collections aren’t created until we insert a document, \n",
    "we can now see the collection by calling the collection_names() method on the database."
   ]
  },
  {
   "cell_type": "code",
   "execution_count": null,
   "metadata": {
    "collapsed": false
   },
   "outputs": [],
   "source": [
    "db.collection_names()"
   ]
  },
  {
   "cell_type": "markdown",
   "metadata": {},
   "source": [
    "If we have a lot of documents we’d like to put into a collection, we can inset them all at once using a list of dictionaries. \n",
    "Remember, since we’re dealing with documents and not tables, we can all sorts of fields."
   ]
  },
  {
   "cell_type": "markdown",
   "metadata": {
    "collapsed": true
   },
   "source": [
    "connor_doc = {\"fname\":\"connor\",\"weight\":170.5,\"height\":[5,10]}\n",
    "roger_doc = {\"name\":\"roger\",\"species\":\"dog\",\"breed\":\"awesome\",\"weight\":20.2}\n",
    "docs = [ connor_doc, roger_doc ]\n",
    "coll.insert( docs )"
   ]
  },
  {
   "cell_type": "code",
   "execution_count": null,
   "metadata": {
    "collapsed": true
   },
   "outputs": [],
   "source": [
    "# mongo_hello_world.py\n",
    "# Author: Bruce Elgort\n",
    "# Date: March 18, 2014\n",
    "# Purpose: To demonstrate how to use Python to\n",
    "# 1) Connect to a MongoDB document collection\n",
    "# 2) Insert a document\n",
    "# 3) Display all of the documents in a collection</code>\n",
    " \n",
    "from pymongo import MongoClient\n",
    " \n",
    "# connect to the MongoDB on MongoLab\n",
    "# to learn more about MongoLab visit http://www.mongolab.com\n",
    "# replace the \"\" in the line below with your MongoLab connection string\n",
    "# you can also use a local MongoDB instance\n",
    "connection = MongoClient(\"yourmongodbconnectionstring\")\n",
    " \n",
    "# connect to the students database and the ctec121 collection\n",
    "db = connection.students.ctec121\n",
    " \n",
    "# create a dictionary to hold student documents\n",
    " \n",
    "# create dictionary\n",
    "student_record = {}\n",
    " \n",
    "# set flag variable\n",
    "flag = True\n",
    " \n",
    "# loop for data input\n",
    "while (flag):\n",
    "   # ask for input\n",
    "   student_name,student_grade = input(\"Enter student name and grade: \").split(',')\n",
    "   # place values in dictionary\n",
    "   student_record = {'name':student_name,'grade':student_grade}\n",
    "   # insert the record\n",
    "   db.insert(student_record)\n",
    "   # should we continue?\n",
    "   flag = input('Enter another record? ')\n",
    "   if (flag[0].upper() == 'N'):\n",
    "      flag = False\n",
    " \n",
    "# find all documents\n",
    "results = db.find()\n",
    " \n",
    "print()\n",
    "print('+-+-+-+-+-+-+-+-+-+-+-+-+-+-')\n",
    " \n",
    "# display documents from collection\n",
    "for record in results:\n",
    "# print out the document\n",
    "print(record['name'] + ',',record['grade'])\n",
    " \n",
    "print()\n",
    " \n",
    "# close the connection to MongoDB\n",
    "connection.close()"
   ]
  },
  {
   "cell_type": "markdown",
   "metadata": {},
   "source": [
    "## Other resources to learn pymongo\n",
    "\n",
    "* http://nosql.mammatustech.com/news/installingandsettingupmongodbwithpythonmongodbtutorialforpython\n",
    "\n",
    "\n",
    "<p style=\"font-family:Verdana,Helvetica,Arial,sans-serif;font-size:13px;line-height:16.5px\">If you would like to learn more about MongoDB consider the following resources:</p><ul style=\"font-family:Verdana,Helvetica,Arial,sans-serif;font-size:13px;line-height:11.11111068725586px\"></ul><ul style=\"font-family:Verdana,Helvetica,Arial,sans-serif;font-size:13px;line-height:11.11111068725586px\"><li><font face=\"Lucida, Lucida Grande, Tahoma, sans-serif\"><span style=\"line-height:16.49305534362793px\"><a href=\"http://www.infoq.com/articles/mongodb-java-php-python\" rel=\"nofollow\">Excellent MongoDB article</a> on MongoDB written by one of Mammatus Technologies founder Rick Hightower</span></font></li><li><font face=\"Lucida, Lucida Grande, Tahoma, sans-serif\"><span style=\"line-height:16.49305534362793px\"><a href=\"http://nosql.mammatustech.com/mongo-db-training-for-java-developers\">MongoDB Training for Java Developers</a> by Mammatus Technology</span></font></li><li><font face=\"Lucida, Lucida Grande, Tahoma, sans-serif\"><span style=\"line-height:16.49305534362793px\"><a href=\"http://nosql.mammatustech.com/mongodb-training-for-php-developers-and-architects\">MongoDB Training for PHP Developers</a> by Mammatus Technology</span></font></li><li><font face=\"Lucida, Lucida Grande, Tahoma, sans-serif\"><span style=\"line-height:16.49305534362793px\"><a href=\"http://nosql.mammatustech.com/mongodb-training-for-python-developers-and-architects\">MongoDB Training for Python Developers</a> by Mammatus Technology</span></font></li><li><font face=\"Lucida, Lucida Grande, Tahoma, sans-serif\"><span style=\"line-height:16.49305534362793px\">The <a href=\"http://api.mongodb.org/wiki/current/Tutorial.html\" rel=\"nofollow\">official MongoDB tutorial</a> at MongoDB.org.</span></font></li></ul>\n"
   ]
  }
 ],
 "metadata": {
  "anaconda-cloud": {},
  "kernelspec": {
   "display_name": "Python 3",
   "language": "python",
   "name": "python3"
  },
  "language_info": {
   "codemirror_mode": {
    "name": "ipython",
    "version": 3
   },
   "file_extension": ".py",
   "mimetype": "text/x-python",
   "name": "python",
   "nbconvert_exporter": "python",
   "pygments_lexer": "ipython3",
   "version": "3.5.2"
  },
  "nav_menu": {},
  "toc": {
   "navigate_menu": true,
   "number_sections": false,
   "sideBar": true,
   "threshold": 6,
   "toc_cell": true,
   "toc_section_display": "block",
   "toc_window_display": false
  },
  "widgets": {
   "state": {},
   "version": "1.1.2"
  }
 },
 "nbformat": 4,
 "nbformat_minor": 0
}
