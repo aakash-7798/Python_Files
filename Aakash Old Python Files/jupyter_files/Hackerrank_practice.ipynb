{
 "cells": [
  {
   "cell_type": "code",
   "execution_count": 84,
   "metadata": {},
   "outputs": [],
   "source": [
    "def integer(n):\n",
    "    if(n%2 == 1):\n",
    "        print(\"Weird\")\n",
    "    elif((n%2 == 0) and (2<=n<=5)):\n",
    "        print(\"Not Weird\")\n",
    "    elif((n%2 == 0) and (6<=n<=20)):\n",
    "        print(\"Weird\")\n",
    "        \n",
    "    else:\n",
    "        if((n%2 == 0) and (20<=n<=100)):\n",
    "            print(\"Not Weird\")\n",
    "        \n",
    "            \n",
    "                \n",
    "        \n",
    "        \n",
    "                    \n",
    "#         if(n%2 == 0 & (n >6 & n < 20)):\n",
    "#             print(\"Weird\")\n",
    "#         if(n%2 == 0 & (n>20 )):\n",
    "#             print(\"Weird\") \n",
    "                "
   ]
  },
  {
   "cell_type": "code",
   "execution_count": 85,
   "metadata": {},
   "outputs": [
    {
     "name": "stdout",
     "output_type": "stream",
     "text": [
      "Not Weird\n"
     ]
    }
   ],
   "source": [
    "integer(4)"
   ]
  },
  {
   "cell_type": "code",
   "execution_count": 86,
   "metadata": {},
   "outputs": [
    {
     "name": "stdout",
     "output_type": "stream",
     "text": [
      "Not Weird\n"
     ]
    }
   ],
   "source": [
    "integer(24)"
   ]
  },
  {
   "cell_type": "code",
   "execution_count": 122,
   "metadata": {},
   "outputs": [
    {
     "name": "stdout",
     "output_type": "stream",
     "text": [
      "0.2\n",
      "0.6\n",
      "1.2\n",
      "2.0\n",
      "3.0\n"
     ]
    }
   ],
   "source": [
    "import numpy as np\n",
    "X = np.array([1,2,3,4,5])\n",
    "sum = 0\n",
    "for i in range(0,5):\n",
    "    sum = sum + X[i]\n",
    "    print(sum/len(X) )\n",
    "        \n",
    "    \n",
    "    "
   ]
  },
  {
   "cell_type": "code",
   "execution_count": 124,
   "metadata": {},
   "outputs": [
    {
     "data": {
      "text/plain": [
       "15"
      ]
     },
     "execution_count": 124,
     "metadata": {},
     "output_type": "execute_result"
    }
   ],
   "source": [
    "np.sum(X)"
   ]
  },
  {
   "cell_type": "code",
   "execution_count": 158,
   "metadata": {},
   "outputs": [
    {
     "name": "stdout",
     "output_type": "stream",
     "text": [
      "4978\n"
     ]
    }
   ],
   "source": [
    "from scipy import stats\n",
    "X = [64630 ,11735, 14216, 99233, 14470, 4978 ,73429, 38120, 51135, 67060]\n",
    "np.mean(X)\n",
    "np.median(X)\n",
    "m = stats.mode(X)\n",
    "print(\"Mode :\".join(map(str, m.mode.tolist()  )  )    )"
   ]
  },
  {
   "cell_type": "code",
   "execution_count": 160,
   "metadata": {},
   "outputs": [
    {
     "name": "stdout",
     "output_type": "stream",
     "text": [
      "4978\n"
     ]
    }
   ],
   "source": [
    "print(\"\".join(map(str, stats.mode(X).mode.tolist() )  )     )"
   ]
  },
  {
   "cell_type": "code",
   "execution_count": null,
   "metadata": {},
   "outputs": [],
   "source": []
  }
 ],
 "metadata": {
  "kernelspec": {
   "display_name": "Python 3",
   "language": "python",
   "name": "python3"
  },
  "language_info": {
   "codemirror_mode": {
    "name": "ipython",
    "version": 3
   },
   "file_extension": ".py",
   "mimetype": "text/x-python",
   "name": "python",
   "nbconvert_exporter": "python",
   "pygments_lexer": "ipython3",
   "version": "3.7.6"
  }
 },
 "nbformat": 4,
 "nbformat_minor": 4
}
