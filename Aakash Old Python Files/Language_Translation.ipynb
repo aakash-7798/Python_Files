{
 "cells": [
  {
   "cell_type": "code",
   "execution_count": 1,
   "metadata": {
    "ExecuteTime": {
     "end_time": "2020-07-29T17:34:18.978309Z",
     "start_time": "2020-07-29T17:34:15.472461Z"
    }
   },
   "outputs": [],
   "source": [
    "import googletrans\n",
    "from googletrans import Translator"
   ]
  },
  {
   "cell_type": "code",
   "execution_count": 2,
   "metadata": {
    "ExecuteTime": {
     "end_time": "2020-07-29T17:34:19.031150Z",
     "start_time": "2020-07-29T17:34:18.978309Z"
    }
   },
   "outputs": [
    {
     "name": "stdout",
     "output_type": "stream",
     "text": [
      "{'af': 'afrikaans', 'sq': 'albanian', 'am': 'amharic', 'ar': 'arabic', 'hy': 'armenian', 'az': 'azerbaijani', 'eu': 'basque', 'be': 'belarusian', 'bn': 'bengali', 'bs': 'bosnian', 'bg': 'bulgarian', 'ca': 'catalan', 'ceb': 'cebuano', 'ny': 'chichewa', 'zh-cn': 'chinese (simplified)', 'zh-tw': 'chinese (traditional)', 'co': 'corsican', 'hr': 'croatian', 'cs': 'czech', 'da': 'danish', 'nl': 'dutch', 'en': 'english', 'eo': 'esperanto', 'et': 'estonian', 'tl': 'filipino', 'fi': 'finnish', 'fr': 'french', 'fy': 'frisian', 'gl': 'galician', 'ka': 'georgian', 'de': 'german', 'el': 'greek', 'gu': 'gujarati', 'ht': 'haitian creole', 'ha': 'hausa', 'haw': 'hawaiian', 'iw': 'hebrew', 'he': 'hebrew', 'hi': 'hindi', 'hmn': 'hmong', 'hu': 'hungarian', 'is': 'icelandic', 'ig': 'igbo', 'id': 'indonesian', 'ga': 'irish', 'it': 'italian', 'ja': 'japanese', 'jw': 'javanese', 'kn': 'kannada', 'kk': 'kazakh', 'km': 'khmer', 'ko': 'korean', 'ku': 'kurdish (kurmanji)', 'ky': 'kyrgyz', 'lo': 'lao', 'la': 'latin', 'lv': 'latvian', 'lt': 'lithuanian', 'lb': 'luxembourgish', 'mk': 'macedonian', 'mg': 'malagasy', 'ms': 'malay', 'ml': 'malayalam', 'mt': 'maltese', 'mi': 'maori', 'mr': 'marathi', 'mn': 'mongolian', 'my': 'myanmar (burmese)', 'ne': 'nepali', 'no': 'norwegian', 'or': 'odia', 'ps': 'pashto', 'fa': 'persian', 'pl': 'polish', 'pt': 'portuguese', 'pa': 'punjabi', 'ro': 'romanian', 'ru': 'russian', 'sm': 'samoan', 'gd': 'scots gaelic', 'sr': 'serbian', 'st': 'sesotho', 'sn': 'shona', 'sd': 'sindhi', 'si': 'sinhala', 'sk': 'slovak', 'sl': 'slovenian', 'so': 'somali', 'es': 'spanish', 'su': 'sundanese', 'sw': 'swahili', 'sv': 'swedish', 'tg': 'tajik', 'ta': 'tamil', 'te': 'telugu', 'th': 'thai', 'tr': 'turkish', 'uk': 'ukrainian', 'ur': 'urdu', 'ug': 'uyghur', 'uz': 'uzbek', 'vi': 'vietnamese', 'cy': 'welsh', 'xh': 'xhosa', 'yi': 'yiddish', 'yo': 'yoruba', 'zu': 'zulu'}\n"
     ]
    }
   ],
   "source": [
    "print(googletrans.LANGUAGES)"
   ]
  },
  {
   "cell_type": "code",
   "execution_count": 3,
   "metadata": {
    "ExecuteTime": {
     "end_time": "2020-07-29T17:34:20.845873Z",
     "start_time": "2020-07-29T17:34:20.119728Z"
    }
   },
   "outputs": [
    {
     "data": {
      "text/plain": [
       "'నెను నీ వల్ల గర్విస్తున్నాను'"
      ]
     },
     "execution_count": 3,
     "metadata": {},
     "output_type": "execute_result"
    }
   ],
   "source": [
    "Translator().translate(\"I'm proud of You\",src = \"en\",dest=\"te\").text"
   ]
  },
  {
   "cell_type": "code",
   "execution_count": 4,
   "metadata": {
    "ExecuteTime": {
     "end_time": "2020-07-29T17:34:22.140420Z",
     "start_time": "2020-07-29T17:34:21.352153Z"
    }
   },
   "outputs": [
    {
     "data": {
      "text/plain": [
       "'मुझे तुम पर गर्व है'"
      ]
     },
     "execution_count": 4,
     "metadata": {},
     "output_type": "execute_result"
    }
   ],
   "source": [
    "Translator().translate(\"I'm proud of You\",src = \"en\",dest=\"hi\").text"
   ]
  },
  {
   "cell_type": "code",
   "execution_count": 5,
   "metadata": {
    "ExecuteTime": {
     "end_time": "2020-07-29T17:34:22.855803Z",
     "start_time": "2020-07-29T17:34:22.144396Z"
    }
   },
   "outputs": [
    {
     "data": {
      "text/plain": [
       "'विनियमन और अनुपालन'"
      ]
     },
     "execution_count": 5,
     "metadata": {},
     "output_type": "execute_result"
    }
   ],
   "source": [
    "Translator().translate(\"Regulation and compliance\",src = \"en\",dest=\"hi\").text"
   ]
  },
  {
   "cell_type": "code",
   "execution_count": 6,
   "metadata": {
    "ExecuteTime": {
     "end_time": "2020-07-29T17:34:24.042804Z",
     "start_time": "2020-07-29T17:34:22.858738Z"
    }
   },
   "outputs": [
    {
     "data": {
      "text/plain": [
       "('నెను నీ వల్ల గర్విస్తున్నాను', 'मुझे तुम पर गर्व है')"
      ]
     },
     "execution_count": 6,
     "metadata": {},
     "output_type": "execute_result"
    }
   ],
   "source": [
    "Translator().translate(\"I'm proud of You\",src = \"en\",dest=\"te\").text,Translator().translate(\"I'm proud of You\",src = \"en\",dest=\"hi\").text"
   ]
  },
  {
   "cell_type": "code",
   "execution_count": 7,
   "metadata": {
    "ExecuteTime": {
     "end_time": "2020-07-29T17:34:24.060752Z",
     "start_time": "2020-07-29T17:34:24.045970Z"
    }
   },
   "outputs": [],
   "source": [
    "data = [\"I'm proud of You\",\"I'm not proud of You\"]"
   ]
  },
  {
   "cell_type": "code",
   "execution_count": 8,
   "metadata": {
    "ExecuteTime": {
     "end_time": "2020-07-29T17:34:25.150791Z",
     "start_time": "2020-07-29T17:34:24.065188Z"
    }
   },
   "outputs": [
    {
     "name": "stdout",
     "output_type": "stream",
     "text": [
      "నెను నీ వల్ల గర్విస్తున్నాను\n",
      "నేను మీ గురించి గర్వపడను\n"
     ]
    }
   ],
   "source": [
    "for  i in Translator().translate(data,src = \"en\",dest=\"te\"):\n",
    "    print(i.text)"
   ]
  },
  {
   "cell_type": "code",
   "execution_count": 9,
   "metadata": {
    "ExecuteTime": {
     "end_time": "2020-07-29T17:34:25.872084Z",
     "start_time": "2020-07-29T17:34:25.157263Z"
    }
   },
   "outputs": [
    {
     "name": "stdout",
     "output_type": "stream",
     "text": [
      "मुझे तुम पर गर्व है\n",
      "मुझे तुम पर गर्व नहीं है\n"
     ]
    }
   ],
   "source": [
    "for  i in Translator().translate(data,src = \"en\",dest=\"hi\"):\n",
    "    print(i.text)"
   ]
  },
  {
   "cell_type": "code",
   "execution_count": 10,
   "metadata": {
    "ExecuteTime": {
     "end_time": "2020-07-29T17:34:27.269423Z",
     "start_time": "2020-07-29T17:34:25.876060Z"
    }
   },
   "outputs": [
    {
     "name": "stdout",
     "output_type": "stream",
     "text": [
      "I'm proud of You -> मुझे तुम पर गर्व है\n",
      "I'm not proud of You -> मुझे तुम पर गर्व नहीं है\n"
     ]
    }
   ],
   "source": [
    "for  i in Translator().translate(data,src = \"en\",dest=\"hi\"):\n",
    "    print(f'{i.origin} -> {i.text}')"
   ]
  },
  {
   "cell_type": "code",
   "execution_count": 11,
   "metadata": {
    "ExecuteTime": {
     "end_time": "2020-07-29T17:34:27.313698Z",
     "start_time": "2020-07-29T17:34:27.290484Z"
    }
   },
   "outputs": [],
   "source": [
    "en_words = ['ambivalent','daunt','forsake','impudent','inept','novice','salient','umbrage','serendipity','truculent']"
   ]
  },
  {
   "cell_type": "code",
   "execution_count": 12,
   "metadata": {
    "ExecuteTime": {
     "end_time": "2020-07-29T17:34:30.246773Z",
     "start_time": "2020-07-29T17:34:27.323366Z"
    }
   },
   "outputs": [
    {
     "name": "stdout",
     "output_type": "stream",
     "text": [
      "ambivalent : సందిగ్ధంలో\n",
      "daunt : నిరుత్సాహపరుచు\n",
      "forsake : విడిచిపెట్టు\n",
      "impudent : అవమానకరమైన\n",
      "inept : పనికిమాలినది\n",
      "novice : అనుభవం లేని\n",
      "salient : ప్రధానాంశాలు\n",
      "umbrage : మనస్తాపము\n",
      "serendipity : వూహించని\n",
      "truculent : మొరటైన\n"
     ]
    }
   ],
   "source": [
    "for i in Translator().translate(en_words,src='en',dest='te'):\n",
    "    print(f'{i.origin} : {i.text}')"
   ]
  },
  {
   "cell_type": "code",
   "execution_count": 13,
   "metadata": {
    "ExecuteTime": {
     "end_time": "2020-07-29T17:34:33.436272Z",
     "start_time": "2020-07-29T17:34:30.249346Z"
    }
   },
   "outputs": [
    {
     "name": "stdout",
     "output_type": "stream",
     "text": [
      "ambivalent : उभयभावी\n",
      "daunt : वश में करना\n",
      "forsake : त्यागना\n",
      "impudent : दिलेर\n",
      "inept : अयोग्य\n",
      "novice : नौसिखिया\n",
      "salient : मुख्य\n",
      "umbrage : साया\n",
      "serendipity : नसीब\n",
      "truculent : लड़ाकू\n"
     ]
    }
   ],
   "source": [
    "for i in Translator().translate(en_words,src='en',dest='hi'):\n",
    "    print(f'{i.origin} : {i.text}')"
   ]
  },
  {
   "cell_type": "code",
   "execution_count": 14,
   "metadata": {
    "ExecuteTime": {
     "end_time": "2020-07-29T17:34:38.531879Z",
     "start_time": "2020-07-29T17:34:33.472173Z"
    }
   },
   "outputs": [
    {
     "name": "stdout",
     "output_type": "stream",
     "text": [
      "సందిగ్ధంలో\n",
      "నిరుత్సాహపరుచు\n",
      "విడిచిపెట్టు\n",
      "అవమానకరమైన\n",
      "పనికిమాలినది\n",
      "అనుభవం లేని\n",
      "ప్రధానాంశాలు\n",
      "మనస్తాపము\n",
      "వూహించని\n",
      "మొరటైన\n",
      "उभयभावी\n",
      "वश में करना\n",
      "त्यागना\n",
      "दिलेर\n",
      "अयोग्य\n",
      "नौसिखिया\n",
      "मुख्य\n",
      "साया\n",
      "नसीब\n",
      "लड़ाकू\n"
     ]
    }
   ],
   "source": [
    "lg = [\"te\",\"hi\"]\n",
    "for  k in range(2):\n",
    "    for i in Translator().translate(en_words,src='en',dest=lg[k]):\n",
    "        print(i.text)\n",
    "#         if(k ==0):\n",
    "#             print(i.text)\n",
    "#         if(k ==1):\n",
    "#             print(i.text)"
   ]
  },
  {
   "cell_type": "code",
   "execution_count": 15,
   "metadata": {
    "ExecuteTime": {
     "end_time": "2020-07-29T17:34:40.846666Z",
     "start_time": "2020-07-29T17:34:38.534712Z"
    }
   },
   "outputs": [
    {
     "name": "stdout",
     "output_type": "stream",
     "text": [
      "['సందిగ్ధంలో', 'నిరుత్సాహపరుచు', 'విడిచిపెట్టు', 'అవమానకరమైన', 'పనికిమాలినది', 'అనుభవం లేని', 'ప్రధానాంశాలు', 'మనస్తాపము', 'వూహించని', 'మొరటైన']\n"
     ]
    }
   ],
   "source": [
    "print([i.text for i in Translator().translate(en_words,src='en',dest=\"te\")])"
   ]
  },
  {
   "cell_type": "code",
   "execution_count": 16,
   "metadata": {
    "ExecuteTime": {
     "end_time": "2020-07-29T17:34:44.076022Z",
     "start_time": "2020-07-29T17:34:40.852733Z"
    }
   },
   "outputs": [
    {
     "name": "stdout",
     "output_type": "stream",
     "text": [
      "['उभयभावी', 'वश में करना', 'त्यागना', 'दिलेर', 'अयोग्य', 'नौसिखिया', 'मुख्य', 'साया', 'नसीब', 'लड़ाकू']\n"
     ]
    }
   ],
   "source": [
    "print([i.text for i in Translator().translate(en_words,src='en',dest=\"hi\")])"
   ]
  },
  {
   "cell_type": "code",
   "execution_count": 17,
   "metadata": {
    "ExecuteTime": {
     "end_time": "2020-07-29T17:34:48.722280Z",
     "start_time": "2020-07-29T17:34:44.088819Z"
    }
   },
   "outputs": [],
   "source": [
    "x = [i.text for i in Translator().translate(en_words,src='en',dest=\"te\")]\n",
    "y = [i.text for i in Translator().translate(en_words,src='en',dest=\"hi\")]\n",
    "# z = [i.origin for i in Translator().translate(en_words,src='en',dest=\"te\")]"
   ]
  },
  {
   "cell_type": "code",
   "execution_count": 18,
   "metadata": {
    "ExecuteTime": {
     "end_time": "2020-07-29T17:34:48.740478Z",
     "start_time": "2020-07-29T17:34:48.726874Z"
    }
   },
   "outputs": [
    {
     "name": "stdout",
     "output_type": "stream",
     "text": [
      "ambivalent : సందిగ్ధంలో : उभयभावी\n",
      "daunt : నిరుత్సాహపరుచు : वश में करना\n",
      "forsake : విడిచిపెట్టు : त्यागना\n",
      "impudent : అవమానకరమైన : दिलेर\n",
      "inept : పనికిమాలినది : अयोग्य\n",
      "novice : అనుభవం లేని : नौसिखिया\n",
      "salient : ప్రధానాంశాలు : मुख्य\n",
      "umbrage : మనస్తాపము : साया\n",
      "serendipity : వూహించని : नसीब\n",
      "truculent : మొరటైన : लड़ाकू\n"
     ]
    }
   ],
   "source": [
    "for i,j,k in zip(x,y,en_words):\n",
    "    print(k,\":\",i,\":\",j)"
   ]
  },
  {
   "cell_type": "code",
   "execution_count": 19,
   "metadata": {
    "ExecuteTime": {
     "end_time": "2020-07-29T17:35:05.015040Z",
     "start_time": "2020-07-29T17:34:48.745255Z"
    }
   },
   "outputs": [
    {
     "data": {
      "text/html": [
       "<div>\n",
       "<style scoped>\n",
       "    .dataframe tbody tr th:only-of-type {\n",
       "        vertical-align: middle;\n",
       "    }\n",
       "\n",
       "    .dataframe tbody tr th {\n",
       "        vertical-align: top;\n",
       "    }\n",
       "\n",
       "    .dataframe thead th {\n",
       "        text-align: right;\n",
       "    }\n",
       "</style>\n",
       "<table border=\"1\" class=\"dataframe\">\n",
       "  <thead>\n",
       "    <tr style=\"text-align: right;\">\n",
       "      <th></th>\n",
       "      <th>en_words</th>\n",
       "      <th>x</th>\n",
       "      <th>y</th>\n",
       "    </tr>\n",
       "  </thead>\n",
       "  <tbody>\n",
       "    <tr>\n",
       "      <th>0</th>\n",
       "      <td>ambivalent</td>\n",
       "      <td>సందిగ్ధంలో</td>\n",
       "      <td>उभयभावी</td>\n",
       "    </tr>\n",
       "    <tr>\n",
       "      <th>1</th>\n",
       "      <td>daunt</td>\n",
       "      <td>నిరుత్సాహపరుచు</td>\n",
       "      <td>वश में करना</td>\n",
       "    </tr>\n",
       "    <tr>\n",
       "      <th>2</th>\n",
       "      <td>forsake</td>\n",
       "      <td>విడిచిపెట్టు</td>\n",
       "      <td>त्यागना</td>\n",
       "    </tr>\n",
       "    <tr>\n",
       "      <th>3</th>\n",
       "      <td>impudent</td>\n",
       "      <td>అవమానకరమైన</td>\n",
       "      <td>दिलेर</td>\n",
       "    </tr>\n",
       "    <tr>\n",
       "      <th>4</th>\n",
       "      <td>inept</td>\n",
       "      <td>పనికిమాలినది</td>\n",
       "      <td>अयोग्य</td>\n",
       "    </tr>\n",
       "    <tr>\n",
       "      <th>5</th>\n",
       "      <td>novice</td>\n",
       "      <td>అనుభవం లేని</td>\n",
       "      <td>नौसिखिया</td>\n",
       "    </tr>\n",
       "    <tr>\n",
       "      <th>6</th>\n",
       "      <td>salient</td>\n",
       "      <td>ప్రధానాంశాలు</td>\n",
       "      <td>मुख्य</td>\n",
       "    </tr>\n",
       "    <tr>\n",
       "      <th>7</th>\n",
       "      <td>umbrage</td>\n",
       "      <td>మనస్తాపము</td>\n",
       "      <td>साया</td>\n",
       "    </tr>\n",
       "    <tr>\n",
       "      <th>8</th>\n",
       "      <td>serendipity</td>\n",
       "      <td>వూహించని</td>\n",
       "      <td>नसीब</td>\n",
       "    </tr>\n",
       "    <tr>\n",
       "      <th>9</th>\n",
       "      <td>truculent</td>\n",
       "      <td>మొరటైన</td>\n",
       "      <td>लड़ाकू</td>\n",
       "    </tr>\n",
       "  </tbody>\n",
       "</table>\n",
       "</div>"
      ],
      "text/plain": [
       "      en_words               x            y\n",
       "0   ambivalent      సందిగ్ధంలో      उभयभावी\n",
       "1        daunt  నిరుత్సాహపరుచు  वश में करना\n",
       "2      forsake    విడిచిపెట్టు      त्यागना\n",
       "3     impudent     అవమానకరమైన        दिलेर\n",
       "4        inept    పనికిమాలినది       अयोग्य\n",
       "5       novice     అనుభవం లేని     नौसिखिया\n",
       "6      salient    ప్రధానాంశాలు        मुख्य\n",
       "7      umbrage       మనస్తాపము         साया\n",
       "8  serendipity        వూహించని         नसीब\n",
       "9    truculent         మొరటైన       लड़ाकू"
      ]
     },
     "execution_count": 19,
     "metadata": {},
     "output_type": "execute_result"
    }
   ],
   "source": [
    "import pandas as pd\n",
    "df = pd.DataFrame()\n",
    "df[\"en_words\"] = en_words\n",
    "df[\"x\"] = x\n",
    "df[\"y\"] = y\n",
    "df"
   ]
  },
  {
   "cell_type": "code",
   "execution_count": 20,
   "metadata": {
    "ExecuteTime": {
     "end_time": "2020-07-29T17:35:05.030192Z",
     "start_time": "2020-07-29T17:35:05.018033Z"
    }
   },
   "outputs": [],
   "source": [
    "# import PyPDF2\n",
    "# print(PyPDF2.PdfFileReader(open('D:/Books/governmentadda.com-1000_Vocabulary_words-from-THE-HINDU.pdf','rb')).numPages)"
   ]
  },
  {
   "cell_type": "code",
   "execution_count": 21,
   "metadata": {
    "ExecuteTime": {
     "end_time": "2020-07-29T17:35:05.139863Z",
     "start_time": "2020-07-29T17:35:05.034156Z"
    }
   },
   "outputs": [],
   "source": [
    "# print((PyPDF2.PdfFileReader(open('D:/Books/governmentadda.com-1000_Vocabulary_words-from-THE-HINDU.pdf','rb')).getPage(0)).extractText())"
   ]
  },
  {
   "cell_type": "code",
   "execution_count": 22,
   "metadata": {
    "ExecuteTime": {
     "end_time": "2020-07-29T17:35:05.639354Z",
     "start_time": "2020-07-29T17:35:05.143853Z"
    }
   },
   "outputs": [],
   "source": [
    "import PyPDF2\n",
    "file = open('D:/Books/governmentadda.com-1000_Vocabulary_words-from-THE-HINDU.pdf','rb')\n",
    "pdf_reader = PyPDF2.PdfFileReader(file)"
   ]
  },
  {
   "cell_type": "code",
   "execution_count": 23,
   "metadata": {
    "ExecuteTime": {
     "end_time": "2020-07-29T17:35:05.995303Z",
     "start_time": "2020-07-29T17:35:05.645888Z"
    }
   },
   "outputs": [
    {
     "name": "stdout",
     "output_type": "stream",
     "text": [
      "64\n"
     ]
    }
   ],
   "source": [
    "print(pdf_reader.numPages)"
   ]
  },
  {
   "cell_type": "code",
   "execution_count": 24,
   "metadata": {
    "ExecuteTime": {
     "end_time": "2020-07-29T17:35:06.289893Z",
     "start_time": "2020-07-29T17:35:06.001354Z"
    }
   },
   "outputs": [
    {
     "name": "stdout",
     "output_type": "stream",
     "text": [
      "1\n",
      " \n",
      "Daily Visit : \n",
      "GovernmentAdda.com\n",
      " \n",
      "Best Website For All Short Tricks And Free Pdfs :\n",
      "-\n",
      " \n",
      "Governmentadda.com\n",
      " \n",
      " \n",
      "1000 Important English Vocabulary Words Based on The Hindu News Paper\n",
      " \n",
      " \n",
      "1).\n",
      " \n",
      "Ambivalent\n",
      " \n",
      "(Adjective)\n",
      " \n",
      "Meaning: \n",
      "having mixed feelings or contradictory ideas \n",
      "about something or someone.\n",
      " \n",
      "Synonyms: \n",
      "equivocal, uncertain, unsure, doubtful, \n",
      "indecisive, inconclusive, irresolute\n",
      " \n",
      "Usage: \n",
      "Some loved her, some hated her, few were \n",
      "ambivalent\n",
      " \n",
      "about her.\n",
      " \n",
      " \n",
      "2).\n",
      " \n",
      "Forsake (Verb) \n",
      "Meaning: \n",
      "abandon or\n",
      " \n",
      "leave.\n",
      " \n",
      "Synonyms: \n",
      "abandon, desert, l\n",
      "eave, quit, depart from, \n",
      "leave behind\n",
      " \n",
      "Usage: \n",
      "She \n",
      "forsook\n",
      " \n",
      "her child, giving him up for \n",
      "adoption.\n",
      " \n",
      " \n",
      "3).\n",
      " \n",
      "Impudent\n",
      " \n",
      "(Adjective)\n",
      " \n",
      "Meaning: \n",
      "not showing due respect for another person; \n",
      "impertinent.\n",
      " \n",
      "Synonyms: \n",
      "impertinent, insolent, cheeky, audacious, \n",
      "brazen\n",
      " \n",
      "Usage: \n",
      "He cou\n",
      "ld have strangled this \n",
      "impudent\n",
      " \n",
      "upstart.\n",
      " \n",
      " \n",
      "4).\n",
      " \n",
      "Inept\n",
      " \n",
      "(Adjective)\n",
      " \n",
      "Meaning: \n",
      "having or showing no skill; clumsy. \n",
      "Synonyms: \n",
      "incompetent, unskillful, unskilled, \n",
      "inexpert, amateurish\n",
      " \n",
      "Usage: \n",
      "My attempts at baking were \n",
      "inept\n",
      " \n",
      "but I fumbled \n",
      "on.\n",
      " \n",
      " \n",
      "5).\n",
      " \n",
      "Novice\n",
      " \n",
      "(Verb)\n",
      " \n",
      "Meaning: \n",
      "a \n",
      "person new to and inexperienced in a job \n",
      "or situation.\n",
      " \n",
      "Synonyms: \n",
      "beginner, learner, inexperienced person\n",
      " \n",
      "Usage: \n",
      "He was a complete \n",
      "novice\n",
      " \n",
      "in foreign affairs.\n",
      " \n",
      " \n",
      "6).\n",
      " \n",
      "Salient\n",
      " \n",
      "(Adjective)\n",
      " \n",
      "Meaning: \n",
      "most noticeable or important. \n",
      "Synonyms: \n",
      "important, main, principal, m\n",
      "ajor, chief, \n",
      "primary,\n",
      " \n",
      "notable\n",
      " \n",
      "Usage: \n",
      "The \n",
      "salient\n",
      " \n",
      "points stuck out clearly in her mind.\n",
      " \n",
      " \n",
      "7).\n",
      " \n",
      "Umbrage (Noun)\n",
      " \n",
      "Meaning: \n",
      "offence or annoyance.\n",
      " \n",
      "Synonyms: \n",
      "take offence, be offended, take exception, \n",
      "bridle, take something personally\n",
      " \n",
      "Usage: \n",
      "She took \n",
      "umbrage\n",
      " \n",
      "at his rema\n",
      "rks.\n",
      " \n",
      " \n",
      "8).\n",
      " \n",
      "Serendipity\n",
      " \n",
      "(Noun)\n",
      " \n",
      "Meaning: \n",
      "the occurrence and development of events \n",
      "by chance in a happy or beneficial way.\n",
      " \n",
      "Synonyms: \n",
      "chance, happy chance, accident, happy \n",
      "accident, fluke\n",
      " \n",
      "Usage: \n",
      "Technical innovation may be the result of pure \n",
      "serendipity\n",
      ".\n",
      " \n",
      " \n",
      "9).\n",
      " \n",
      "Quaint\n",
      " \n",
      "(Adjective)\n",
      " \n",
      "Meaning: \n",
      "attractively unusual or old\n",
      "-\n",
      "fashioned. \n",
      "Synonyms: \n",
      "picturesque, charming, sweet, attractive, \n",
      "pleasantly old\n",
      "-\n",
      "fashioned\n",
      " \n",
      "Usage: \n",
      "Narrow streets lead to a \n",
      "quaint\n",
      " \n",
      "bridge over the \n",
      "river.\n",
      " \n",
      " \n",
      "10).\n",
      " \n",
      "Truculent\n",
      " \n",
      "(Adjective)\n",
      " \n",
      "Meaning: \n",
      "eager or quick to argue \n",
      "or fight; aggressively \n",
      "defiant.\n",
      " \n",
      "Synonyms: \n",
      "defiant, aggressive, antagonistic, \n",
      "belligerent, pugnacious, bellicose\n",
      " \n",
      "Usage: \n",
      "The \n",
      "truculent\n",
      " \n",
      "attitude of farmers to cheaper \n",
      "imports.\n",
      " \n",
      " \n",
      "11).\n",
      " \n",
      "Intractable (adjective) \n",
      "Meaning: \n",
      "hard to control or deal\n",
      " \n",
      "with.\n",
      " \n",
      "Synonyms: \n",
      "unmanageable, uncontrollable, \n",
      "ungovernable, out of control.\n",
      " \n",
      "Usage: \n",
      "Their problems have become more acute and \n",
      "intractable\n",
      ".\n",
      " \n",
      " \n",
      "12).\n",
      " \n",
      "Delineate (Verb)\n",
      " \n",
      "Meaning: \n",
      "describe or portray (something) precisely. \n",
      "Synonyms: \n",
      "describe, set forth, set out, present, outline, \n",
      "depict\n",
      ", portray.\n",
      " \n",
      "Usage: \n",
      "The law should \n",
      "delineate\n",
      " \n",
      "and prohibit \n",
      "behaviour which is socially abhorrent.\n",
      " \n",
      " \n",
      "13).\n",
      " \n",
      "Ascetic\n",
      " \n",
      "(adjective)\n",
      " \n",
      "Meaning: \n",
      "characterized by severe self\n",
      "-\n",
      "discipline and \n",
      "abstention from all forms of indulgence, typically for \n",
      "religious reasons.\n",
      " \n",
      "Synonyms: \n",
      "aus\n",
      "tere, self\n",
      "-\n",
      "denying, abstinent, \n",
      "abstemious.\n",
      " \n",
      "Usage: \n",
      "An \n",
      "ascetic\n",
      " \n",
      "life of prayer, fasting, and manual \n",
      "labour.\n",
      " \n",
      " \n",
      "14).\n",
      " \n",
      "Daunt\n",
      " \n",
      "(verb)\n",
      " \n",
      "Meaning: \n",
      "make (someone) feel intimidated or \n",
      "apprehensive.\n",
      " \n",
      "Synonyms: \n",
      "intimidate, abash, take aback, shake, ruffle, \n",
      "throw.\n",
      " \n",
      "Usage: \n",
      "Some peop\n",
      "le are \n",
      "daunted\n",
      " \n",
      "by technology.\n",
      " \n",
      " \n",
      "\n"
     ]
    }
   ],
   "source": [
    "print((pdf_reader.getPage(0)).extractText())"
   ]
  },
  {
   "cell_type": "code",
   "execution_count": 25,
   "metadata": {
    "ExecuteTime": {
     "end_time": "2020-07-29T17:35:06.509845Z",
     "start_time": "2020-07-29T17:35:06.293844Z"
    }
   },
   "outputs": [],
   "source": [
    "page1 = (pdf_reader.getPage(0)).extractText() "
   ]
  },
  {
   "cell_type": "code",
   "execution_count": 26,
   "metadata": {
    "ExecuteTime": {
     "end_time": "2020-07-29T17:35:06.571988Z",
     "start_time": "2020-07-29T17:35:06.520128Z"
    }
   },
   "outputs": [],
   "source": [
    "# from tabula import read_pdf\n",
    "# df = read_pdf('D:/Books/governmentadda.com-1000_Vocabulary_words-from-THE-HINDU.pdf',pages = 'all')\n",
    "# df"
   ]
  },
  {
   "cell_type": "code",
   "execution_count": 27,
   "metadata": {
    "ExecuteTime": {
     "end_time": "2020-07-29T17:35:06.680638Z",
     "start_time": "2020-07-29T17:35:06.575916Z"
    }
   },
   "outputs": [],
   "source": [
    "# import pdftables_api\n",
    "\n",
    "# c = pdftables_api.Client('888ja8qtoa7e')\n",
    "# c.csv('D:/Books/governmentadda.com-1000_Vocabulary_words-from-THE-HINDU.pdf',\"vocab\")"
   ]
  },
  {
   "cell_type": "code",
   "execution_count": 28,
   "metadata": {
    "ExecuteTime": {
     "end_time": "2020-07-29T17:35:06.760508Z",
     "start_time": "2020-07-29T17:35:06.685640Z"
    }
   },
   "outputs": [
    {
     "name": "stdout",
     "output_type": "stream",
     "text": [
      "1\n",
      " \n",
      "Daily Visit : \n",
      "GovernmentAdda.com\n",
      " \n",
      "Best Website For All Short Tricks And Free Pdfs :\n",
      "-\n",
      " \n",
      "Governmentadda.com\n",
      " \n",
      " \n",
      "1000 Important English Vocabulary Words Based on The Hindu News Paper\n",
      " \n",
      " \n",
      "1).\n",
      " \n",
      "Ambivalent\n",
      " \n",
      "(Adjective)\n",
      " \n",
      "Meaning: \n",
      "having mixed feelings or contradictory ideas \n",
      "about something or someone.\n",
      " \n",
      "Synonyms: \n",
      "equivocal, uncertain, unsure, doubtful, \n",
      "indecisive, inconclusive, irresolute\n",
      " \n",
      "Usage: \n",
      "Some loved her, some hated her, few were \n",
      "ambivalent\n",
      " \n",
      "about her.\n",
      " \n",
      " \n",
      "2).\n",
      " \n",
      "Forsake (Verb) \n",
      "Meaning: \n",
      "abandon or\n",
      " \n",
      "leave.\n",
      " \n",
      "Synonyms: \n",
      "abandon, desert, l\n",
      "eave, quit, depart from, \n",
      "leave behind\n",
      " \n",
      "Usage: \n",
      "She \n",
      "forsook\n",
      " \n",
      "her child, giving him up for \n",
      "adoption.\n",
      " \n",
      " \n",
      "3).\n",
      " \n",
      "Impudent\n",
      " \n",
      "(Adjective)\n",
      " \n",
      "Meaning: \n",
      "not showing due respect for another person; \n",
      "impertinent.\n",
      " \n",
      "Synonyms: \n",
      "impertinent, insolent, cheeky, audacious, \n",
      "brazen\n",
      " \n",
      "Usage: \n",
      "He cou\n",
      "ld have strangled this \n",
      "impudent\n",
      " \n",
      "upstart.\n",
      " \n",
      " \n",
      "4).\n",
      " \n",
      "Inept\n",
      " \n",
      "(Adjective)\n",
      " \n",
      "Meaning: \n",
      "having or showing no skill; clumsy. \n",
      "Synonyms: \n",
      "incompetent, unskillful, unskilled, \n",
      "inexpert, amateurish\n",
      " \n",
      "Usage: \n",
      "My attempts at baking were \n",
      "inept\n",
      " \n",
      "but I fumbled \n",
      "on.\n",
      " \n",
      " \n",
      "5).\n",
      " \n",
      "Novice\n",
      " \n",
      "(Verb)\n",
      " \n",
      "Meaning: \n",
      "a \n",
      "person new to and inexperienced in a job \n",
      "or situation.\n",
      " \n",
      "Synonyms: \n",
      "beginner, learner, inexperienced person\n",
      " \n",
      "Usage: \n",
      "He was a complete \n",
      "novice\n",
      " \n",
      "in foreign affairs.\n",
      " \n",
      " \n",
      "6).\n",
      " \n",
      "Salient\n",
      " \n",
      "(Adjective)\n",
      " \n",
      "Meaning: \n",
      "most noticeable or important. \n",
      "Synonyms: \n",
      "important, main, principal, m\n",
      "ajor, chief, \n",
      "primary,\n",
      " \n",
      "notable\n",
      " \n",
      "Usage: \n",
      "The \n",
      "salient\n",
      " \n",
      "points stuck out clearly in her mind.\n",
      " \n",
      " \n",
      "7).\n",
      " \n",
      "Umbrage (Noun)\n",
      " \n",
      "Meaning: \n",
      "offence or annoyance.\n",
      " \n",
      "Synonyms: \n",
      "take offence, be offended, take exception, \n",
      "bridle, take something personally\n",
      " \n",
      "Usage: \n",
      "She took \n",
      "umbrage\n",
      " \n",
      "at his rema\n",
      "rks.\n",
      " \n",
      " \n",
      "8).\n",
      " \n",
      "Serendipity\n",
      " \n",
      "(Noun)\n",
      " \n",
      "Meaning: \n",
      "the occurrence and development of events \n",
      "by chance in a happy or beneficial way.\n",
      " \n",
      "Synonyms: \n",
      "chance, happy chance, accident, happy \n",
      "accident, fluke\n",
      " \n",
      "Usage: \n",
      "Technical innovation may be the result of pure \n",
      "serendipity\n",
      ".\n",
      " \n",
      " \n",
      "9).\n",
      " \n",
      "Quaint\n",
      " \n",
      "(Adjective)\n",
      " \n",
      "Meaning: \n",
      "attractively unusual or old\n",
      "-\n",
      "fashioned. \n",
      "Synonyms: \n",
      "picturesque, charming, sweet, attractive, \n",
      "pleasantly old\n",
      "-\n",
      "fashioned\n",
      " \n",
      "Usage: \n",
      "Narrow streets lead to a \n",
      "quaint\n",
      " \n",
      "bridge over the \n",
      "river.\n",
      " \n",
      " \n",
      "10).\n",
      " \n",
      "Truculent\n",
      " \n",
      "(Adjective)\n",
      " \n",
      "Meaning: \n",
      "eager or quick to argue \n",
      "or fight; aggressively \n",
      "defiant.\n",
      " \n",
      "Synonyms: \n",
      "defiant, aggressive, antagonistic, \n",
      "belligerent, pugnacious, bellicose\n",
      " \n",
      "Usage: \n",
      "The \n",
      "truculent\n",
      " \n",
      "attitude of farmers to cheaper \n",
      "imports.\n",
      " \n",
      " \n",
      "11).\n",
      " \n",
      "Intractable (adjective) \n",
      "Meaning: \n",
      "hard to control or deal\n",
      " \n",
      "with.\n",
      " \n",
      "Synonyms: \n",
      "unmanageable, uncontrollable, \n",
      "ungovernable, out of control.\n",
      " \n",
      "Usage: \n",
      "Their problems have become more acute and \n",
      "intractable\n",
      ".\n",
      " \n",
      " \n",
      "12).\n",
      " \n",
      "Delineate (Verb)\n",
      " \n",
      "Meaning: \n",
      "describe or portray (something) precisely. \n",
      "Synonyms: \n",
      "describe, set forth, set out, present, outline, \n",
      "depict\n",
      ", portray.\n",
      " \n",
      "Usage: \n",
      "The law should \n",
      "delineate\n",
      " \n",
      "and prohibit \n",
      "behaviour which is socially abhorrent.\n",
      " \n",
      " \n",
      "13).\n",
      " \n",
      "Ascetic\n",
      " \n",
      "(adjective)\n",
      " \n",
      "Meaning: \n",
      "characterized by severe self\n",
      "-\n",
      "discipline and \n",
      "abstention from all forms of indulgence, typically for \n",
      "religious reasons.\n",
      " \n",
      "Synonyms: \n",
      "aus\n",
      "tere, self\n",
      "-\n",
      "denying, abstinent, \n",
      "abstemious.\n",
      " \n",
      "Usage: \n",
      "An \n",
      "ascetic\n",
      " \n",
      "life of prayer, fasting, and manual \n",
      "labour.\n",
      " \n",
      " \n",
      "14).\n",
      " \n",
      "Daunt\n",
      " \n",
      "(verb)\n",
      " \n",
      "Meaning: \n",
      "make (someone) feel intimidated or \n",
      "apprehensive.\n",
      " \n",
      "Synonyms: \n",
      "intimidate, abash, take aback, shake, ruffle, \n",
      "throw.\n",
      " \n",
      "Usage: \n",
      "Some peop\n",
      "le are \n",
      "daunted\n",
      " \n",
      "by technology.\n",
      " \n",
      " \n",
      "\n"
     ]
    }
   ],
   "source": [
    "print(page1)"
   ]
  },
  {
   "cell_type": "code",
   "execution_count": 31,
   "metadata": {
    "ExecuteTime": {
     "end_time": "2020-07-29T17:35:57.641271Z",
     "start_time": "2020-07-29T17:35:56.897967Z"
    }
   },
   "outputs": [
    {
     "data": {
      "text/plain": [
       "'हमारे पाठ्यक्रम को पूरा करने के लिए और कितने दिन शेष हैं'"
      ]
     },
     "execution_count": 31,
     "metadata": {},
     "output_type": "execute_result"
    }
   ],
   "source": [
    "Translator().translate(\"ఇంకా ఎన్ని రోజులు ఉంది మన కోర్స్  పూర్తి అవ్వడానికి \",src =\"te\",dest = \"hi\").text"
   ]
  },
  {
   "cell_type": "code",
   "execution_count": 34,
   "metadata": {
    "ExecuteTime": {
     "end_time": "2020-07-29T17:39:58.416443Z",
     "start_time": "2020-07-29T17:39:58.050995Z"
    }
   },
   "outputs": [
    {
     "data": {
      "text/plain": [
       "'Life is not about looking after yourself, it is about shaping yourself.'"
      ]
     },
     "execution_count": 34,
     "metadata": {},
     "output_type": "execute_result"
    }
   ],
   "source": [
    "Translator().translate(\"జీవితం అంటే నిన్ను నువ్వు చూసుకోవటం కాదు, నిన్ను నువ్వు రూపు దిద్దుకోవటం. \",src =\"te\",dest = \"en\").text"
   ]
  },
  {
   "cell_type": "code",
   "execution_count": 175,
   "metadata": {
    "ExecuteTime": {
     "end_time": "2020-07-29T18:36:47.367201Z",
     "start_time": "2020-07-29T18:36:47.351213Z"
    }
   },
   "outputs": [],
   "source": [
    "from urllib.request import urlopen\n",
    "from bs4 import BeautifulSoup"
   ]
  },
  {
   "cell_type": "code",
   "execution_count": 176,
   "metadata": {
    "ExecuteTime": {
     "end_time": "2020-07-29T18:36:47.945623Z",
     "start_time": "2020-07-29T18:36:47.711250Z"
    }
   },
   "outputs": [],
   "source": [
    "soup = BeautifulSoup(urlopen(\"https://www.intelugu.net/life-quotes-in-telugu/\"),\"lxml\")"
   ]
  },
  {
   "cell_type": "code",
   "execution_count": 177,
   "metadata": {
    "ExecuteTime": {
     "end_time": "2020-07-29T18:36:48.212912Z",
     "start_time": "2020-07-29T18:36:48.194956Z"
    }
   },
   "outputs": [
    {
     "data": {
      "text/plain": [
       "[<span class=\"text-info\" id=\"p1\">జీవితం అంటే నిన్ను నువ్వు చూసుకోవటం కాదు, నిన్ను నువ్వు రూపు దిద్దుకోవటం.</span>,\n",
       " <span class=\"text-info\" id=\"p2\">నీకు కావలసిన దాని కోసం శ్రమించకుండా, పోగొట్టుకున్న దాని గురించి ఏడవటం మూర్ఖత్వం అవుతుంది.</span>,\n",
       " <span class=\"text-info\" id=\"p3\">అర్థరహితమైన మాటలకన్నా, అర్థవంతమైన నిశ్శబ్దం చాలా గొప్పది.</span>,\n",
       " <span class=\"text-info\" id=\"p4\">ఎక్కువగా నమ్మటం, ఎక్కువగా ప్రేమించటం, ఎక్కువగా ఆశించటం ఫలితంగా వచ్చే బాధ కుడా ఎక్కువగానే ఉంటుంది.</span>,\n",
       " <span class=\"text-info\" id=\"p5\">నీవు ప్రతీరోజు ఒకటికన్నా మెరుగ్గా ఉండటానికి ప్రయత్నించు, అది ఎవరోకాదు నిన్నటి నువ్వే.</span>,\n",
       " <span class=\"text-info\" id=\"p6\">జరిగిన దాన్ని గురించి ఎప్పుడూ చింతించకు. ఎందుకంటే, మనకు జరిగే మంచి మనకు ఆనందాన్ని ఇస్తే జరిగిన చెడు అనుభవాన్ని ఇస్తుంది.</span>,\n",
       " <span class=\"text-info\" id=\"p7\">నిరాశావాది తనకు వచ్చిన అవకాశంలో కష్టాన్ని చుస్తే, ఆశావాది కష్టంలో అవకాశం కోసం వెతుకుతాడు.</span>,\n",
       " <span class=\"text-info\" id=\"p8\">జీవితం చాలా కష్టమైన పరీక్ష. దానిలో చాలామంది విఫలం చెందటానికి కారణం, ప్రతీ ఒక్కరి ప్రశ్నాపత్రం వేరని గ్రహించకపోవటమే.</span>,\n",
       " <span class=\"text-info\" id=\"p9\">కాలం నువ్వు కలిసే వ్యక్తులను నిర్ణయిస్తుంది, హృదయం మీరు కోరే వ్యక్తులను నిర్ణయిస్తుంది, మీ ప్రవర్తన మీతో ఉండే వారిని నిర్ణయిస్తుంది.</span>,\n",
       " <span class=\"text-info\" id=\"p10\">ఇతరులతో నిన్ను నువ్వు పోల్చుకోవటం ఆపినపుడు నీవు నీ అసలైన జీవితపు ఆనందాన్ని పొందుతావు.</span>]"
      ]
     },
     "execution_count": 177,
     "metadata": {},
     "output_type": "execute_result"
    }
   ],
   "source": [
    "soup.find_all('span',{'class':'text-info'})"
   ]
  },
  {
   "cell_type": "code",
   "execution_count": 178,
   "metadata": {
    "ExecuteTime": {
     "end_time": "2020-07-29T18:36:48.718560Z",
     "start_time": "2020-07-29T18:36:48.704595Z"
    }
   },
   "outputs": [],
   "source": [
    "telugu_words = pd.DataFrame([BeautifulSoup(str(soup.find_all('span',{'class':'text-info'})),'lxml').get_text()])"
   ]
  },
  {
   "cell_type": "code",
   "execution_count": 179,
   "metadata": {
    "ExecuteTime": {
     "end_time": "2020-07-29T18:36:49.192327Z",
     "start_time": "2020-07-29T18:36:49.177329Z"
    }
   },
   "outputs": [],
   "source": [
    "telugu_words = pd.DataFrame(telugu_words[0][0].split(\".,\"))\n",
    "telugu_words[0][0] = telugu_words[0][0].strip(\"[\")\n",
    "telugu_words[0][9] = telugu_words[0][9].strip(\".]\")"
   ]
  },
  {
   "cell_type": "code",
   "execution_count": 180,
   "metadata": {
    "ExecuteTime": {
     "end_time": "2020-07-29T18:36:49.747805Z",
     "start_time": "2020-07-29T18:36:49.736833Z"
    }
   },
   "outputs": [],
   "source": [
    "telugu_words.columns = ['Telugu_Proverbs']"
   ]
  },
  {
   "cell_type": "code",
   "execution_count": 181,
   "metadata": {
    "ExecuteTime": {
     "end_time": "2020-07-29T18:36:50.891794Z",
     "start_time": "2020-07-29T18:36:50.873844Z"
    }
   },
   "outputs": [
    {
     "data": {
      "text/html": [
       "<div>\n",
       "<style scoped>\n",
       "    .dataframe tbody tr th:only-of-type {\n",
       "        vertical-align: middle;\n",
       "    }\n",
       "\n",
       "    .dataframe tbody tr th {\n",
       "        vertical-align: top;\n",
       "    }\n",
       "\n",
       "    .dataframe thead th {\n",
       "        text-align: right;\n",
       "    }\n",
       "</style>\n",
       "<table border=\"1\" class=\"dataframe\">\n",
       "  <thead>\n",
       "    <tr style=\"text-align: right;\">\n",
       "      <th></th>\n",
       "      <th>Telugu_Proverbs</th>\n",
       "    </tr>\n",
       "  </thead>\n",
       "  <tbody>\n",
       "    <tr>\n",
       "      <th>0</th>\n",
       "      <td>జీవితం అంటే నిన్ను నువ్వు చూసుకోవటం కాదు, నిన్ను నువ్వు రూపు దిద్దుకోవటం</td>\n",
       "    </tr>\n",
       "    <tr>\n",
       "      <th>1</th>\n",
       "      <td>నీకు కావలసిన దాని కోసం శ్రమించకుండా, పోగొట్టుకున్న దాని గురించి ఏడవటం మూర్ఖత్వం అవుతుంది</td>\n",
       "    </tr>\n",
       "    <tr>\n",
       "      <th>2</th>\n",
       "      <td>అర్థరహితమైన మాటలకన్నా, అర్థవంతమైన నిశ్శబ్దం చాలా గొప్పది</td>\n",
       "    </tr>\n",
       "    <tr>\n",
       "      <th>3</th>\n",
       "      <td>ఎక్కువగా నమ్మటం, ఎక్కువగా ప్రేమించటం, ఎక్కువగా ఆశించటం ఫలితంగా వచ్చే బాధ కుడా ఎక్కువగానే ఉంటుంది</td>\n",
       "    </tr>\n",
       "    <tr>\n",
       "      <th>4</th>\n",
       "      <td>నీవు ప్రతీరోజు ఒకటికన్నా మెరుగ్గా ఉండటానికి ప్రయత్నించు, అది ఎవరోకాదు నిన్నటి నువ్వే</td>\n",
       "    </tr>\n",
       "    <tr>\n",
       "      <th>5</th>\n",
       "      <td>జరిగిన దాన్ని గురించి ఎప్పుడూ చింతించకు. ఎందుకంటే, మనకు జరిగే మంచి మనకు ఆనందాన్ని ఇస్తే జరిగిన చెడు అనుభవాన్ని ఇస్తుంది</td>\n",
       "    </tr>\n",
       "    <tr>\n",
       "      <th>6</th>\n",
       "      <td>నిరాశావాది తనకు వచ్చిన అవకాశంలో కష్టాన్ని చుస్తే, ఆశావాది కష్టంలో అవకాశం కోసం వెతుకుతాడు</td>\n",
       "    </tr>\n",
       "    <tr>\n",
       "      <th>7</th>\n",
       "      <td>జీవితం చాలా కష్టమైన పరీక్ష. దానిలో చాలామంది విఫలం చెందటానికి కారణం, ప్రతీ ఒక్కరి ప్రశ్నాపత్రం వేరని గ్రహించకపోవటమే</td>\n",
       "    </tr>\n",
       "    <tr>\n",
       "      <th>8</th>\n",
       "      <td>కాలం నువ్వు కలిసే వ్యక్తులను నిర్ణయిస్తుంది, హృదయం మీరు కోరే వ్యక్తులను నిర్ణయిస్తుంది, మీ ప్రవర్తన మీతో ఉండే వారిని నిర్ణయిస్తుంది</td>\n",
       "    </tr>\n",
       "    <tr>\n",
       "      <th>9</th>\n",
       "      <td>ఇతరులతో నిన్ను నువ్వు పోల్చుకోవటం ఆపినపుడు నీవు నీ అసలైన జీవితపు ఆనందాన్ని పొందుతావు</td>\n",
       "    </tr>\n",
       "  </tbody>\n",
       "</table>\n",
       "</div>"
      ],
      "text/plain": [
       "                                                                                                                        Telugu_Proverbs\n",
       "0                                                              జీవితం అంటే నిన్ను నువ్వు చూసుకోవటం కాదు, నిన్ను నువ్వు రూపు దిద్దుకోవటం\n",
       "1                                              నీకు కావలసిన దాని కోసం శ్రమించకుండా, పోగొట్టుకున్న దాని గురించి ఏడవటం మూర్ఖత్వం అవుతుంది\n",
       "2                                                                              అర్థరహితమైన మాటలకన్నా, అర్థవంతమైన నిశ్శబ్దం చాలా గొప్పది\n",
       "3                                      ఎక్కువగా నమ్మటం, ఎక్కువగా ప్రేమించటం, ఎక్కువగా ఆశించటం ఫలితంగా వచ్చే బాధ కుడా ఎక్కువగానే ఉంటుంది\n",
       "4                                                  నీవు ప్రతీరోజు ఒకటికన్నా మెరుగ్గా ఉండటానికి ప్రయత్నించు, అది ఎవరోకాదు నిన్నటి నువ్వే\n",
       "5               జరిగిన దాన్ని గురించి ఎప్పుడూ చింతించకు. ఎందుకంటే, మనకు జరిగే మంచి మనకు ఆనందాన్ని ఇస్తే జరిగిన చెడు అనుభవాన్ని ఇస్తుంది\n",
       "6                                              నిరాశావాది తనకు వచ్చిన అవకాశంలో కష్టాన్ని చుస్తే, ఆశావాది కష్టంలో అవకాశం కోసం వెతుకుతాడు\n",
       "7                    జీవితం చాలా కష్టమైన పరీక్ష. దానిలో చాలామంది విఫలం చెందటానికి కారణం, ప్రతీ ఒక్కరి ప్రశ్నాపత్రం వేరని గ్రహించకపోవటమే\n",
       "8   కాలం నువ్వు కలిసే వ్యక్తులను నిర్ణయిస్తుంది, హృదయం మీరు కోరే వ్యక్తులను నిర్ణయిస్తుంది, మీ ప్రవర్తన మీతో ఉండే వారిని నిర్ణయిస్తుంది\n",
       "9                                                  ఇతరులతో నిన్ను నువ్వు పోల్చుకోవటం ఆపినపుడు నీవు నీ అసలైన జీవితపు ఆనందాన్ని పొందుతావు"
      ]
     },
     "execution_count": 181,
     "metadata": {},
     "output_type": "execute_result"
    }
   ],
   "source": [
    "pd.set_option(\"display.max_columns\",None)\n",
    "telugu_words"
   ]
  },
  {
   "cell_type": "code",
   "execution_count": 167,
   "metadata": {
    "ExecuteTime": {
     "end_time": "2020-07-29T18:31:10.836776Z",
     "start_time": "2020-07-29T18:31:10.480661Z"
    }
   },
   "outputs": [
    {
     "data": {
      "text/plain": [
       "'Life is not about looking after yourself, it is about shaping yourself'"
      ]
     },
     "execution_count": 167,
     "metadata": {},
     "output_type": "execute_result"
    }
   ],
   "source": [
    "Translator().translate(telugu_words[\"Telugu_Proverbs\"][0],src =\"te\",dest = \"en\").text"
   ]
  },
  {
   "cell_type": "code",
   "execution_count": 170,
   "metadata": {
    "ExecuteTime": {
     "end_time": "2020-07-29T18:32:39.618240Z",
     "start_time": "2020-07-29T18:32:32.920804Z"
    }
   },
   "outputs": [],
   "source": [
    "for i in range(10):\n",
    "    telugu_words[\"Telugu to English Translated\"][i] = Translator().translate(telugu_words[\"Telugu_Proverbs\"][i],src =\"te\",dest = \"en\").text\n",
    "    telugu_words[\"Telugu to Hindi Translated\"][i] = Translator().translate(telugu_words[\"Telugu_Proverbs\"][i],src =\"te\",dest = \"hi\").text"
   ]
  },
  {
   "cell_type": "code",
   "execution_count": 173,
   "metadata": {
    "ExecuteTime": {
     "end_time": "2020-07-29T18:35:55.482033Z",
     "start_time": "2020-07-29T18:35:55.462087Z"
    }
   },
   "outputs": [
    {
     "data": {
      "text/html": [
       "<div>\n",
       "<style scoped>\n",
       "    .dataframe tbody tr th:only-of-type {\n",
       "        vertical-align: middle;\n",
       "    }\n",
       "\n",
       "    .dataframe tbody tr th {\n",
       "        vertical-align: top;\n",
       "    }\n",
       "\n",
       "    .dataframe thead th {\n",
       "        text-align: right;\n",
       "    }\n",
       "</style>\n",
       "<table border=\"1\" class=\"dataframe\">\n",
       "  <thead>\n",
       "    <tr style=\"text-align: right;\">\n",
       "      <th></th>\n",
       "      <th>Telugu_Proverbs</th>\n",
       "      <th>Telugu to English Translated</th>\n",
       "      <th>Telugu to Hindi Translated</th>\n",
       "    </tr>\n",
       "  </thead>\n",
       "  <tbody>\n",
       "    <tr>\n",
       "      <th>0</th>\n",
       "      <td>జీవితం అంటే నిన్ను నువ్వు చూసుకోవటం కాదు, నిన్ను నువ్వు రూపు దిద్దుకోవటం</td>\n",
       "      <td>Life is not about looking after yourself, it is about shaping yourself</td>\n",
       "      <td>जीवन अपने आप को देखने के बारे में नहीं है, यह खुद को आकार देने के बारे में है</td>\n",
       "    </tr>\n",
       "    <tr>\n",
       "      <th>1</th>\n",
       "      <td>నీకు కావలసిన దాని కోసం శ్రమించకుండా, పోగొట్టుకున్న దాని గురించి ఏడవటం మూర్ఖత్వం అవుతుంది</td>\n",
       "      <td>It would be foolish to cry about what you have lost, without striving for what you want</td>\n",
       "      <td>आप जो खो चुके हैं, उसके बारे में रोने के लिए यह मूर्खतापूर्ण होगा कि आप क्या चाहते हैं</td>\n",
       "    </tr>\n",
       "    <tr>\n",
       "      <th>2</th>\n",
       "      <td>అర్థరహితమైన మాటలకన్నా, అర్థవంతమైన నిశ్శబ్దం చాలా గొప్పది</td>\n",
       "      <td>Meaningful silence is far greater than meaningless words</td>\n",
       "      <td>अर्थपूर्ण मौन अर्थहीन शब्दों की तुलना में कहीं अधिक है</td>\n",
       "    </tr>\n",
       "    <tr>\n",
       "      <th>3</th>\n",
       "      <td>ఎక్కువగా నమ్మటం, ఎక్కువగా ప్రేమించటం, ఎక్కువగా ఆశించటం ఫలితంగా వచ్చే బాధ కుడా ఎక్కువగానే ఉంటుంది</td>\n",
       "      <td>The suffering that results from believing more, loving more, and expecting more is even greater</td>\n",
       "      <td>दुख जो अधिक विश्वास करने, अधिक प्यार करने और अधिक अपेक्षा करने के परिणामस्वरूप होता है, और भी अधिक होता है</td>\n",
       "    </tr>\n",
       "    <tr>\n",
       "      <th>4</th>\n",
       "      <td>నీవు ప్రతీరోజు ఒకటికన్నా మెరుగ్గా ఉండటానికి ప్రయత్నించు, అది ఎవరోకాదు నిన్నటి నువ్వే</td>\n",
       "      <td>You try to be better than one every day, it's who you are yesterday</td>\n",
       "      <td>आप हर दिन एक से बेहतर होने की कोशिश करते हैं, यह आप कल हैं</td>\n",
       "    </tr>\n",
       "    <tr>\n",
       "      <th>5</th>\n",
       "      <td>జరిగిన దాన్ని గురించి ఎప్పుడూ చింతించకు. ఎందుకంటే, మనకు జరిగే మంచి మనకు ఆనందాన్ని ఇస్తే జరిగిన చెడు అనుభవాన్ని ఇస్తుంది</td>\n",
       "      <td>Never worry about what happened. Because, the good that happens to us gives us the experience of the bad that happened if it gives us happiness</td>\n",
       "      <td>जो हुआ उसकी चिंता कभी न करें। क्योंकि, हमारे साथ होने वाली भलाई हमें उस बुरे का अनुभव कराती है जो हमें खुशी देता है</td>\n",
       "    </tr>\n",
       "    <tr>\n",
       "      <th>6</th>\n",
       "      <td>నిరాశావాది తనకు వచ్చిన అవకాశంలో కష్టాన్ని చుస్తే, ఆశావాది కష్టంలో అవకాశం కోసం వెతుకుతాడు</td>\n",
       "      <td>If the pessimist sees difficulty in the opportunity that comes to him, the optimist seeks opportunity in difficulty</td>\n",
       "      <td>यदि निराशावादी अपने पास आने वाले अवसर में कठिनाई देखता है, तो आशावादी कठिनाई में अवसर तलाशता है</td>\n",
       "    </tr>\n",
       "    <tr>\n",
       "      <th>7</th>\n",
       "      <td>జీవితం చాలా కష్టమైన పరీక్ష. దానిలో చాలామంది విఫలం చెందటానికి కారణం, ప్రతీ ఒక్కరి ప్రశ్నాపత్రం వేరని గ్రహించకపోవటమే</td>\n",
       "      <td>Life is a very difficult test. The reason so many of them fail is because not everyone realizes that the questionnaire is different</td>\n",
       "      <td>जीवन एक बहुत कठिन परीक्षा है। उनमें से कई असफल हो जाते हैं इसका कारण यह है कि हर कोई यह नहीं जानता कि प्रश्नावली अलग है</td>\n",
       "    </tr>\n",
       "    <tr>\n",
       "      <th>8</th>\n",
       "      <td>కాలం నువ్వు కలిసే వ్యక్తులను నిర్ణయిస్తుంది, హృదయం మీరు కోరే వ్యక్తులను నిర్ణయిస్తుంది, మీ ప్రవర్తన మీతో ఉండే వారిని నిర్ణయిస్తుంది</td>\n",
       "      <td>Time determines the people you meet, the heart determines the people you seek, your behavior determines those who are with you</td>\n",
       "      <td>समय आपके द्वारा मिलने वाले लोगों को निर्धारित करता है, दिल आपके चाहने वाले लोगों को निर्धारित करता है, आपका व्यवहार उन लोगों को निर्धारित करता है जो आपके साथ हैं</td>\n",
       "    </tr>\n",
       "    <tr>\n",
       "      <th>9</th>\n",
       "      <td>ఇతరులతో నిన్ను నువ్వు పోల్చుకోవటం ఆపినపుడు నీవు నీ అసలైన జీవితపు ఆనందాన్ని పొందుతావు</td>\n",
       "      <td>When you stop comparing yourself to others you get the pleasure of your real life</td>\n",
       "      <td>जब आप दूसरों से अपनी तुलना करना बंद कर देते हैं तो आपको अपने वास्तविक जीवन का आनंद मिलता है</td>\n",
       "    </tr>\n",
       "  </tbody>\n",
       "</table>\n",
       "</div>"
      ],
      "text/plain": [
       "                                                                                                                        Telugu_Proverbs  \\\n",
       "0                                                              జీవితం అంటే నిన్ను నువ్వు చూసుకోవటం కాదు, నిన్ను నువ్వు రూపు దిద్దుకోవటం   \n",
       "1                                              నీకు కావలసిన దాని కోసం శ్రమించకుండా, పోగొట్టుకున్న దాని గురించి ఏడవటం మూర్ఖత్వం అవుతుంది   \n",
       "2                                                                              అర్థరహితమైన మాటలకన్నా, అర్థవంతమైన నిశ్శబ్దం చాలా గొప్పది   \n",
       "3                                      ఎక్కువగా నమ్మటం, ఎక్కువగా ప్రేమించటం, ఎక్కువగా ఆశించటం ఫలితంగా వచ్చే బాధ కుడా ఎక్కువగానే ఉంటుంది   \n",
       "4                                                  నీవు ప్రతీరోజు ఒకటికన్నా మెరుగ్గా ఉండటానికి ప్రయత్నించు, అది ఎవరోకాదు నిన్నటి నువ్వే   \n",
       "5               జరిగిన దాన్ని గురించి ఎప్పుడూ చింతించకు. ఎందుకంటే, మనకు జరిగే మంచి మనకు ఆనందాన్ని ఇస్తే జరిగిన చెడు అనుభవాన్ని ఇస్తుంది   \n",
       "6                                              నిరాశావాది తనకు వచ్చిన అవకాశంలో కష్టాన్ని చుస్తే, ఆశావాది కష్టంలో అవకాశం కోసం వెతుకుతాడు   \n",
       "7                    జీవితం చాలా కష్టమైన పరీక్ష. దానిలో చాలామంది విఫలం చెందటానికి కారణం, ప్రతీ ఒక్కరి ప్రశ్నాపత్రం వేరని గ్రహించకపోవటమే   \n",
       "8   కాలం నువ్వు కలిసే వ్యక్తులను నిర్ణయిస్తుంది, హృదయం మీరు కోరే వ్యక్తులను నిర్ణయిస్తుంది, మీ ప్రవర్తన మీతో ఉండే వారిని నిర్ణయిస్తుంది   \n",
       "9                                                  ఇతరులతో నిన్ను నువ్వు పోల్చుకోవటం ఆపినపుడు నీవు నీ అసలైన జీవితపు ఆనందాన్ని పొందుతావు   \n",
       "\n",
       "                                                                                                                      Telugu to English Translated  \\\n",
       "0                                                                           Life is not about looking after yourself, it is about shaping yourself   \n",
       "1                                                          It would be foolish to cry about what you have lost, without striving for what you want   \n",
       "2                                                                                         Meaningful silence is far greater than meaningless words   \n",
       "3                                                  The suffering that results from believing more, loving more, and expecting more is even greater   \n",
       "4                                                                              You try to be better than one every day, it's who you are yesterday   \n",
       "5  Never worry about what happened. Because, the good that happens to us gives us the experience of the bad that happened if it gives us happiness   \n",
       "6                              If the pessimist sees difficulty in the opportunity that comes to him, the optimist seeks opportunity in difficulty   \n",
       "7              Life is a very difficult test. The reason so many of them fail is because not everyone realizes that the questionnaire is different   \n",
       "8                   Time determines the people you meet, the heart determines the people you seek, your behavior determines those who are with you   \n",
       "9                                                                When you stop comparing yourself to others you get the pleasure of your real life   \n",
       "\n",
       "                                                                                                                                          Telugu to Hindi Translated  \n",
       "0                                                                                      जीवन अपने आप को देखने के बारे में नहीं है, यह खुद को आकार देने के बारे में है  \n",
       "1                                                                             आप जो खो चुके हैं, उसके बारे में रोने के लिए यह मूर्खतापूर्ण होगा कि आप क्या चाहते हैं  \n",
       "2                                                                                                             अर्थपूर्ण मौन अर्थहीन शब्दों की तुलना में कहीं अधिक है  \n",
       "3                                                         दुख जो अधिक विश्वास करने, अधिक प्यार करने और अधिक अपेक्षा करने के परिणामस्वरूप होता है, और भी अधिक होता है  \n",
       "4                                                                                                         आप हर दिन एक से बेहतर होने की कोशिश करते हैं, यह आप कल हैं  \n",
       "5                                                जो हुआ उसकी चिंता कभी न करें। क्योंकि, हमारे साथ होने वाली भलाई हमें उस बुरे का अनुभव कराती है जो हमें खुशी देता है  \n",
       "6                                                                    यदि निराशावादी अपने पास आने वाले अवसर में कठिनाई देखता है, तो आशावादी कठिनाई में अवसर तलाशता है  \n",
       "7                                            जीवन एक बहुत कठिन परीक्षा है। उनमें से कई असफल हो जाते हैं इसका कारण यह है कि हर कोई यह नहीं जानता कि प्रश्नावली अलग है  \n",
       "8  समय आपके द्वारा मिलने वाले लोगों को निर्धारित करता है, दिल आपके चाहने वाले लोगों को निर्धारित करता है, आपका व्यवहार उन लोगों को निर्धारित करता है जो आपके साथ हैं  \n",
       "9                                                                        जब आप दूसरों से अपनी तुलना करना बंद कर देते हैं तो आपको अपने वास्तविक जीवन का आनंद मिलता है  "
      ]
     },
     "execution_count": 173,
     "metadata": {},
     "output_type": "execute_result"
    }
   ],
   "source": [
    "pd.set_option(\"display.max_columns\",None)\n",
    "pd.set_option('display.max_colwidth', None)\n",
    "telugu_words"
   ]
  },
  {
   "cell_type": "code",
   "execution_count": null,
   "metadata": {},
   "outputs": [],
   "source": []
  }
 ],
 "metadata": {
  "kernelspec": {
   "display_name": "Python 3",
   "language": "python",
   "name": "python3"
  },
  "language_info": {
   "codemirror_mode": {
    "name": "ipython",
    "version": 3
   },
   "file_extension": ".py",
   "mimetype": "text/x-python",
   "name": "python",
   "nbconvert_exporter": "python",
   "pygments_lexer": "ipython3",
   "version": "3.7.6"
  }
 },
 "nbformat": 4,
 "nbformat_minor": 4
}
