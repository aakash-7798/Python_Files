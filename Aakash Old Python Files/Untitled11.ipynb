{
 "cells": [
  {
   "cell_type": "code",
   "execution_count": 1,
   "metadata": {
    "ExecuteTime": {
     "end_time": "2020-11-29T11:33:23.100136Z",
     "start_time": "2020-11-29T11:33:23.079190Z"
    }
   },
   "outputs": [],
   "source": [
    "li  = ['Apple','Bat','Dog']\n",
    "def seperate_out(i):\n",
    "    print([i for i in li[i]])"
   ]
  },
  {
   "cell_type": "code",
   "execution_count": 2,
   "metadata": {
    "ExecuteTime": {
     "end_time": "2020-11-29T11:33:23.209846Z",
     "start_time": "2020-11-29T11:33:23.104124Z"
    }
   },
   "outputs": [
    {
     "name": "stdout",
     "output_type": "stream",
     "text": [
      "['A', 'p', 'p', 'l', 'e']\n",
      "['B', 'a', 't']\n",
      "['D', 'o', 'g']\n"
     ]
    }
   ],
   "source": [
    "for i in range(len(li)):\n",
    "    seperate_out(i)"
   ]
  },
  {
   "cell_type": "code",
   "execution_count": 3,
   "metadata": {
    "ExecuteTime": {
     "end_time": "2020-11-29T11:33:23.288636Z",
     "start_time": "2020-11-29T11:33:23.215830Z"
    }
   },
   "outputs": [],
   "source": [
    "from random import seed\n",
    "from random import randint\n"
   ]
  },
  {
   "cell_type": "code",
   "execution_count": 4,
   "metadata": {
    "ExecuteTime": {
     "end_time": "2020-11-29T11:33:25.900225Z",
     "start_time": "2020-11-29T11:33:23.292624Z"
    }
   },
   "outputs": [
    {
     "name": "stdout",
     "output_type": "stream",
     "text": [
      "241\n",
      "310\n",
      "105\n",
      "738\n",
      "405\n",
      "490\n",
      "158\n"
     ]
    }
   ],
   "source": [
    "import numpy as np\n",
    "from random import seed\n",
    "from random import randint\n",
    "seed(4)\n",
    "\n",
    "def createRandom():\n",
    "        for _ in range(7):\n",
    "            value = randint(0, 1000)\n",
    "            print(value)\n",
    "createRandom()            "
   ]
  },
  {
   "cell_type": "code",
   "execution_count": 5,
   "metadata": {
    "ExecuteTime": {
     "end_time": "2020-11-29T11:33:25.916148Z",
     "start_time": "2020-11-29T11:33:25.906175Z"
    }
   },
   "outputs": [],
   "source": [
    "i = 'longstring'\n",
    "# output=>”ogtig”"
   ]
  },
  {
   "cell_type": "code",
   "execution_count": 6,
   "metadata": {
    "ExecuteTime": {
     "end_time": "2020-11-29T11:33:26.215131Z",
     "start_time": "2020-11-29T11:33:25.926125Z"
    }
   },
   "outputs": [
    {
     "data": {
      "text/plain": [
       "'ogtig'"
      ]
     },
     "execution_count": 6,
     "metadata": {},
     "output_type": "execute_result"
    }
   ],
   "source": [
    "i[1::2]"
   ]
  },
  {
   "cell_type": "code",
   "execution_count": 7,
   "metadata": {
    "ExecuteTime": {
     "end_time": "2020-11-29T11:33:26.341375Z",
     "start_time": "2020-11-29T11:33:26.222112Z"
    }
   },
   "outputs": [
    {
     "name": "stdout",
     "output_type": "stream",
     "text": [
      "ogtig\n",
      "auelkna\n"
     ]
    }
   ],
   "source": [
    "def second_character(i):\n",
    "    name =  i\n",
    "    return name[1::2]\n",
    "print(second_character('longstring'))\n",
    "print(second_character('RajuNeelakantam'))"
   ]
  },
  {
   "cell_type": "code",
   "execution_count": 8,
   "metadata": {
    "ExecuteTime": {
     "end_time": "2020-11-29T11:33:26.452457Z",
     "start_time": "2020-11-29T11:33:26.347361Z"
    }
   },
   "outputs": [
    {
     "data": {
      "text/plain": [
       "'Sunil#s'"
      ]
     },
     "execution_count": 8,
     "metadata": {},
     "output_type": "execute_result"
    }
   ],
   "source": [
    "\"Sunil's\".replace(\"'\",\"#\")"
   ]
  },
  {
   "cell_type": "code",
   "execution_count": 9,
   "metadata": {
    "ExecuteTime": {
     "end_time": "2020-11-29T11:33:26.561821Z",
     "start_time": "2020-11-29T11:33:26.458440Z"
    }
   },
   "outputs": [
    {
     "name": "stdout",
     "output_type": "stream",
     "text": [
      "Sunil#s\n",
      "Raju#s\n"
     ]
    }
   ],
   "source": [
    "def Replace(i):\n",
    "    print(i.replace(\"'\",\"#\"))\n",
    "Replace(\"Sunil's\")\n",
    "Replace(\"Raju's\")"
   ]
  },
  {
   "cell_type": "code",
   "execution_count": 14,
   "metadata": {
    "ExecuteTime": {
     "end_time": "2020-11-29T11:35:40.895208Z",
     "start_time": "2020-11-29T11:35:40.885236Z"
    }
   },
   "outputs": [
    {
     "data": {
      "text/plain": [
       "3.0"
      ]
     },
     "execution_count": 14,
     "metadata": {},
     "output_type": "execute_result"
    }
   ],
   "source": [
    "# Python Program to Calculate the Average of Numbers in a Given List\n",
    "lt = [1,2,3,4,5]\n",
    "mean = sum(lt)/len(lt)\n",
    "mean"
   ]
  }
 ],
 "metadata": {
  "kernelspec": {
   "display_name": "Python 3",
   "language": "python",
   "name": "python3"
  },
  "language_info": {
   "codemirror_mode": {
    "name": "ipython",
    "version": 3
   },
   "file_extension": ".py",
   "mimetype": "text/x-python",
   "name": "python",
   "nbconvert_exporter": "python",
   "pygments_lexer": "ipython3",
   "version": "3.7.6"
  }
 },
 "nbformat": 4,
 "nbformat_minor": 4
}
