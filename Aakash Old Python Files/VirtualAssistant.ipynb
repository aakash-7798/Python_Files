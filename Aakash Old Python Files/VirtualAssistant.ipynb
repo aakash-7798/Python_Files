{
 "cells": [
  {
   "cell_type": "code",
   "execution_count": 1,
   "metadata": {
    "ExecuteTime": {
     "end_time": "2020-10-18T09:04:50.588446Z",
     "start_time": "2020-10-18T09:04:39.125793Z"
    }
   },
   "outputs": [],
   "source": [
    "# import pyaudio\n",
    "import speech_recognition as sr\n",
    "import os\n",
    "from gtts import gTTS\n",
    "import warnings\n",
    "import datetime\n",
    "import humanize as hz\n",
    "import calendar\n",
    "import random\n",
    "import wikipedia"
   ]
  },
  {
   "cell_type": "code",
   "execution_count": 2,
   "metadata": {
    "ExecuteTime": {
     "end_time": "2020-10-18T09:04:51.704920Z",
     "start_time": "2020-10-18T09:04:51.686934Z"
    }
   },
   "outputs": [],
   "source": [
    "warnings.filterwarnings('ignore')"
   ]
  },
  {
   "cell_type": "code",
   "execution_count": 3,
   "metadata": {
    "ExecuteTime": {
     "end_time": "2020-10-18T09:04:52.576315Z",
     "start_time": "2020-10-18T09:04:52.557392Z"
    }
   },
   "outputs": [],
   "source": [
    "def recordAudio():\n",
    "    r = sr.Recognizer()\n",
    "    with sr.Microphone() as source:\n",
    "        print(\"Say Something!!\")\n",
    "        audio = r.listen(source)\n",
    "        \n",
    "    data = ''\n",
    "    try:\n",
    "        data = r.recognize_google(audio)\n",
    "        print(\"You Said :\"+data)\n",
    "    except sr.UnknownValueError:\n",
    "        print(\"Google Speech Recognition Could Not Understand,Unknown Error\")\n",
    "    except sr.RequestError as e:\n",
    "        print(\"Request results from Google Speech Recognition service error\"+e)\n",
    "    "
   ]
  },
  {
   "cell_type": "code",
   "execution_count": null,
   "metadata": {
    "ExecuteTime": {
     "start_time": "2020-10-18T09:05:02.307Z"
    }
   },
   "outputs": [
    {
     "name": "stdout",
     "output_type": "stream",
     "text": [
      "Say Something!!\n"
     ]
    }
   ],
   "source": [
    "recordAudio()"
   ]
  },
  {
   "cell_type": "code",
   "execution_count": null,
   "metadata": {
    "ExecuteTime": {
     "start_time": "2020-10-18T09:05:24.762Z"
    }
   },
   "outputs": [],
   "source": [
    "def assistantResponse(text):\n",
    "    print(text)\n",
    "    myobj = gTTS(text=text,lang=\"en\",slow=False)\n",
    "    myobj.save('assistant_response.mp3')\n",
    "    os.system('start assistant_response.mp3')"
   ]
  },
  {
   "cell_type": "code",
   "execution_count": 6,
   "metadata": {
    "ExecuteTime": {
     "end_time": "2020-08-08T16:09:23.529916Z",
     "start_time": "2020-08-08T16:09:20.953547Z"
    }
   },
   "outputs": [
    {
     "name": "stdout",
     "output_type": "stream",
     "text": [
      "తలపులోన గలుగు దా దైవమే ప్రొద్దు తలచి చూడనతకు తత్వమగును వూఱకుండ నేర్వునుత్తమ యోగిరా విశ్వదాభిరామ వినుర వేమ\n"
     ]
    }
   ],
   "source": [
    "assistantResponse(\"తలపులోన గలుగు దా దైవమే ప్రొద్దు తలచి చూడనతకు తత్వమగును వూఱకుండ నేర్వునుత్తమ యోగిరా విశ్వదాభిరామ వినుర వేమ\")"
   ]
  },
  {
   "cell_type": "code",
   "execution_count": 7,
   "metadata": {
    "ExecuteTime": {
     "end_time": "2020-08-08T16:09:36.739422Z",
     "start_time": "2020-08-08T16:09:34.261012Z"
    }
   },
   "outputs": [
    {
     "name": "stdout",
     "output_type": "stream",
     "text": [
      "అటజనికాంచె భూమిసురు డంబరచుంబి శిర స్సర జ్ఝరీ పటల ముహుర్ముహు ర్లుఠ దభంగ తరంగ మృదంగ నిస్వన స్ఫుట నటనానుకూల పరిఫుల్ల కలాప కలాపిజాలమున్‌ కటకచరత్‌ కరేణు కర కంపిత సాలము శీతశైలమున్‌\n"
     ]
    }
   ],
   "source": [
    "assistantResponse(\"అటజనికాంచె భూమిసురు డంబరచుంబి శిర స్సర జ్ఝరీ పటల ముహుర్ముహు ర్లుఠ దభంగ తరంగ మృదంగ నిస్వన స్ఫుట నటనానుకూల పరిఫుల్ల కలాప కలాపిజాలమున్‌ కటకచరత్‌ కరేణు కర కంపిత సాలము శీతశైలమున్‌\")"
   ]
  },
  {
   "cell_type": "code",
   "execution_count": 11,
   "metadata": {
    "ExecuteTime": {
     "end_time": "2020-08-08T16:10:21.776020Z",
     "start_time": "2020-08-08T16:10:19.556620Z"
    }
   },
   "outputs": [
    {
     "name": "stdout",
     "output_type": "stream",
     "text": [
      "Hi This is aakash nadupalli currently working as Data Scientist for Amazon\n"
     ]
    }
   ],
   "source": [
    "assistantResponse(\"Hi This is aakash nadupalli currently working as Data Scientist for Amazon\")"
   ]
  },
  {
   "cell_type": "code",
   "execution_count": 91,
   "metadata": {
    "ExecuteTime": {
     "end_time": "2020-08-08T17:06:01.005977Z",
     "start_time": "2020-08-08T17:06:00.991981Z"
    }
   },
   "outputs": [],
   "source": [
    " def wakeword(Text):\n",
    "        Wake_Word = ['hey alexa','okay google'] \n",
    "        \n",
    "        Text = Text.lower() \n",
    "        \n",
    "        for i in Wake_Word:\n",
    "            if i in Text:\n",
    "                return True\n",
    "        \n",
    "        return False    "
   ]
  },
  {
   "cell_type": "code",
   "execution_count": 92,
   "metadata": {
    "ExecuteTime": {
     "end_time": "2020-08-08T17:06:01.850850Z",
     "start_time": "2020-08-08T17:06:01.831902Z"
    }
   },
   "outputs": [
    {
     "data": {
      "text/plain": [
       "True"
      ]
     },
     "execution_count": 92,
     "metadata": {},
     "output_type": "execute_result"
    }
   ],
   "source": [
    "wakeword(\"hey alexa\")"
   ]
  },
  {
   "cell_type": "code",
   "execution_count": 81,
   "metadata": {
    "ExecuteTime": {
     "end_time": "2020-08-08T16:57:32.229474Z",
     "start_time": "2020-08-08T16:57:32.216515Z"
    }
   },
   "outputs": [],
   "source": [
    "def getdate():\n",
    "    now = datetime.datetime.now()\n",
    "    my_date = datetime.datetime.today()\n",
    "    weekday = calendar.day_name[my_date.weekday()]\n",
    "    monthnum = now.month\n",
    "    daynum = now.day\n",
    "    \n",
    "    month_names = [calendar.month_name[i] for i in range(1,13)]\n",
    "    ordinalnumbers = [hz.ordinal(i) for i in range(1,32)]\n",
    "    \n",
    "    return \"Today is \"+weekday+' '+ month_names[monthnum-1]+' '+ordinalnumbers[daynum-1]+'.' "
   ]
  },
  {
   "cell_type": "code",
   "execution_count": 82,
   "metadata": {
    "ExecuteTime": {
     "end_time": "2020-08-08T16:57:33.494701Z",
     "start_time": "2020-08-08T16:57:33.471761Z"
    }
   },
   "outputs": [
    {
     "name": "stdout",
     "output_type": "stream",
     "text": [
      "Today is Saturday August 8th.\n"
     ]
    }
   ],
   "source": [
    "print(getdate())"
   ]
  },
  {
   "cell_type": "code",
   "execution_count": 83,
   "metadata": {
    "ExecuteTime": {
     "end_time": "2020-08-08T16:57:35.183045Z",
     "start_time": "2020-08-08T16:57:35.176097Z"
    }
   },
   "outputs": [],
   "source": [
    "def greeting(text):\n",
    "    \n",
    "    greeting_inputs = [\"hi\",\"hey\",\"hola\",\"greetings\",\"wassup\",\"hello\"]\n",
    "    \n",
    "    greeting_responses = ['howdy','whats good','hello','hey there']\n",
    "    \n",
    "    for i in text.split():\n",
    "        if i.lower() in greeting_inputs:\n",
    "            return randomn.choice(greeting_responses)+'.'\n",
    "    return ''    \n",
    "    "
   ]
  },
  {
   "cell_type": "code",
   "execution_count": 93,
   "metadata": {
    "ExecuteTime": {
     "end_time": "2020-08-08T17:06:16.534839Z",
     "start_time": "2020-08-08T17:06:11.176505Z"
    }
   },
   "outputs": [
    {
     "name": "stdout",
     "output_type": "stream",
     "text": [
      "Say Something!!\n",
      "You Said :who is Alexa\n"
     ]
    },
    {
     "ename": "AttributeError",
     "evalue": "'NoneType' object has no attribute 'lower'",
     "output_type": "error",
     "traceback": [
      "\u001b[1;31m---------------------------------------------------------------------------\u001b[0m",
      "\u001b[1;31mAttributeError\u001b[0m                            Traceback (most recent call last)",
      "\u001b[1;32m<ipython-input-93-63ceedc08e48>\u001b[0m in \u001b[0;36m<module>\u001b[1;34m\u001b[0m\n\u001b[0;32m      9\u001b[0m     \u001b[0mresponse\u001b[0m \u001b[1;33m=\u001b[0m \u001b[1;34m\" \"\u001b[0m\u001b[1;33m\u001b[0m\u001b[1;33m\u001b[0m\u001b[0m\n\u001b[0;32m     10\u001b[0m \u001b[1;33m\u001b[0m\u001b[0m\n\u001b[1;32m---> 11\u001b[1;33m     \u001b[1;32mif\u001b[0m\u001b[1;33m(\u001b[0m\u001b[0mwakeword\u001b[0m\u001b[1;33m(\u001b[0m\u001b[0mtext\u001b[0m\u001b[1;33m)\u001b[0m \u001b[1;33m==\u001b[0m \u001b[1;32mTrue\u001b[0m\u001b[1;33m)\u001b[0m\u001b[1;33m:\u001b[0m\u001b[1;33m\u001b[0m\u001b[1;33m\u001b[0m\u001b[0m\n\u001b[0m\u001b[0;32m     12\u001b[0m            \u001b[0mresponse\u001b[0m  \u001b[1;33m=\u001b[0m \u001b[0mresponse\u001b[0m \u001b[1;33m+\u001b[0m \u001b[0mgreeting\u001b[0m\u001b[1;33m(\u001b[0m\u001b[0mtext\u001b[0m\u001b[1;33m)\u001b[0m\u001b[1;33m\u001b[0m\u001b[1;33m\u001b[0m\u001b[0m\n\u001b[0;32m     13\u001b[0m \u001b[1;33m\u001b[0m\u001b[0m\n",
      "\u001b[1;32m<ipython-input-91-7461725056e6>\u001b[0m in \u001b[0;36mwakeword\u001b[1;34m(Text)\u001b[0m\n\u001b[0;32m      2\u001b[0m        \u001b[0mWake_Word\u001b[0m \u001b[1;33m=\u001b[0m \u001b[1;33m[\u001b[0m\u001b[1;34m'hey alexa'\u001b[0m\u001b[1;33m,\u001b[0m\u001b[1;34m'okay google'\u001b[0m\u001b[1;33m]\u001b[0m\u001b[1;33m\u001b[0m\u001b[1;33m\u001b[0m\u001b[0m\n\u001b[0;32m      3\u001b[0m \u001b[1;33m\u001b[0m\u001b[0m\n\u001b[1;32m----> 4\u001b[1;33m        \u001b[0mText\u001b[0m \u001b[1;33m=\u001b[0m \u001b[0mText\u001b[0m\u001b[1;33m.\u001b[0m\u001b[0mlower\u001b[0m\u001b[1;33m(\u001b[0m\u001b[1;33m)\u001b[0m\u001b[1;33m\u001b[0m\u001b[1;33m\u001b[0m\u001b[0m\n\u001b[0m\u001b[0;32m      5\u001b[0m \u001b[1;33m\u001b[0m\u001b[0m\n\u001b[0;32m      6\u001b[0m        \u001b[1;32mfor\u001b[0m \u001b[0mi\u001b[0m \u001b[1;32min\u001b[0m \u001b[0mWake_Word\u001b[0m\u001b[1;33m:\u001b[0m\u001b[1;33m\u001b[0m\u001b[1;33m\u001b[0m\u001b[0m\n",
      "\u001b[1;31mAttributeError\u001b[0m: 'NoneType' object has no attribute 'lower'"
     ]
    }
   ],
   "source": [
    "def getperson(text):\n",
    "    \n",
    "    wordlist = text.split()\n",
    "    for i in range(0,len(wordlist)):\n",
    "        if i + 3 <= len(wordlist) -1 and wordlist[i].lower() == 'who' and wordlist[i+1].lower() == 'is':\n",
    "            return wordlist[i+2] + ' '+ wordlist[i+3]\n",
    "while True:\n",
    "    text = recordAudio()\n",
    "    response = \" \"\n",
    "    \n",
    "    if(wakeword(text) == True):\n",
    "           response  = response + greeting(text)\n",
    "        "
   ]
  },
  {
   "cell_type": "code",
   "execution_count": null,
   "metadata": {},
   "outputs": [],
   "source": []
  },
  {
   "cell_type": "code",
   "execution_count": null,
   "metadata": {},
   "outputs": [],
   "source": []
  }
 ],
 "metadata": {
  "kernelspec": {
   "display_name": "Python 3",
   "language": "python",
   "name": "python3"
  },
  "language_info": {
   "codemirror_mode": {
    "name": "ipython",
    "version": 3
   },
   "file_extension": ".py",
   "mimetype": "text/x-python",
   "name": "python",
   "nbconvert_exporter": "python",
   "pygments_lexer": "ipython3",
   "version": "3.7.6"
  }
 },
 "nbformat": 4,
 "nbformat_minor": 4
}
