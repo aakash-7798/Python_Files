{
 "cells": [
  {
   "cell_type": "code",
   "execution_count": 19,
   "metadata": {
    "ExecuteTime": {
     "end_time": "2020-07-14T05:45:18.020008Z",
     "start_time": "2020-07-14T05:45:18.002927Z"
    }
   },
   "outputs": [
    {
     "data": {
      "text/plain": [
       "['11012225', '11012226']"
      ]
     },
     "execution_count": 19,
     "metadata": {},
     "output_type": "execute_result"
    }
   ],
   "source": [
    "import re\n",
    "text  = \"Akshay rol number is 11012225.Aakash rol number is 11012226\"\n",
    "pattern = r'\\d\\d\\d\\d\\d\\d\\d\\d'\n",
    "regex = re.compile(pattern)\n",
    "regex.findall(text)"
   ]
  },
  {
   "cell_type": "code",
   "execution_count": 22,
   "metadata": {
    "ExecuteTime": {
     "end_time": "2020-07-14T05:46:55.457018Z",
     "start_time": "2020-07-14T05:46:55.437756Z"
    }
   },
   "outputs": [
    {
     "data": {
      "text/plain": [
       "['1000', '1111']"
      ]
     },
     "execution_count": 22,
     "metadata": {},
     "output_type": "execute_result"
    }
   ],
   "source": [
    "import re\n",
    "text  = 'kalyan rol number is 1000.megna roll no is 1111'\n",
    "pattern = r'\\d\\d\\d\\d'\n",
    "regex = re.compile(pattern)\n",
    "regex.findall(text)"
   ]
  },
  {
   "cell_type": "code",
   "execution_count": 23,
   "metadata": {
    "ExecuteTime": {
     "end_time": "2020-07-14T05:48:12.881021Z",
     "start_time": "2020-07-14T05:48:12.857752Z"
    }
   },
   "outputs": [
    {
     "data": {
      "text/plain": [
       "['10', '200', '3000', '405056']"
      ]
     },
     "execution_count": 23,
     "metadata": {},
     "output_type": "execute_result"
    }
   ],
   "source": [
    "import re\n",
    "text  = 'the number are 10 200 3000 405056'\n",
    "pattern = r'\\d{2,}'\n",
    "regex = re.compile(pattern)\n",
    "regex.findall(text)"
   ]
  },
  {
   "cell_type": "code",
   "execution_count": 24,
   "metadata": {
    "ExecuteTime": {
     "end_time": "2020-07-14T05:49:23.392394Z",
     "start_time": "2020-07-14T05:49:23.379451Z"
    }
   },
   "outputs": [
    {
     "data": {
      "text/plain": [
       "['10000', '2000000', '3000000', '405056000']"
      ]
     },
     "execution_count": 24,
     "metadata": {},
     "output_type": "execute_result"
    }
   ],
   "source": [
    "import re\n",
    "text  = 'The numbers are 10000 2000000 3000000 405056000'\n",
    "pattern = r'\\d{4,}'\n",
    "regex = re.compile(pattern)\n",
    "regex.findall(text)"
   ]
  },
  {
   "cell_type": "markdown",
   "metadata": {},
   "source": [
    "### finditer"
   ]
  },
  {
   "cell_type": "code",
   "execution_count": 32,
   "metadata": {
    "ExecuteTime": {
     "end_time": "2020-07-14T05:56:02.970213Z",
     "start_time": "2020-07-14T05:56:02.950124Z"
    }
   },
   "outputs": [
    {
     "data": {
      "text/plain": [
       "<callable_iterator at 0x201ecb9c688>"
      ]
     },
     "execution_count": 32,
     "metadata": {},
     "output_type": "execute_result"
    }
   ],
   "source": [
    "import re\n",
    "text  = 'Akshay rol number is 11012225.Aakash rol number is 11012226'\n",
    "pattern = r'\\d\\d\\d\\d\\d\\d\\d\\d'\n",
    "regex = re.compile(pattern)\n",
    "regex.finditer(text)"
   ]
  },
  {
   "cell_type": "code",
   "execution_count": 39,
   "metadata": {
    "ExecuteTime": {
     "end_time": "2020-07-14T05:57:47.883795Z",
     "start_time": "2020-07-14T05:57:47.859185Z"
    }
   },
   "outputs": [
    {
     "name": "stdout",
     "output_type": "stream",
     "text": [
      "11012225\n",
      "21\n",
      "29\n",
      "(21, 29)\n",
      "\\d\\d\\d\\d\\d\\d\\d\\d\n",
      "Akshay rol number is 11012225.Aakash rol number is 11012226\n",
      "11012226\n",
      "51\n",
      "59\n",
      "(51, 59)\n",
      "\\d\\d\\d\\d\\d\\d\\d\\d\n",
      "Akshay rol number is 11012225.Aakash rol number is 11012226\n"
     ]
    }
   ],
   "source": [
    "if regex.finditer(text):\n",
    "    for r in regex.finditer(text):\n",
    "        print(r.group())\n",
    "        print(r.start())\n",
    "        print(r.end())\n",
    "        print(r.span())\n",
    "        print(r.re.pattern)\n",
    "        print(r.string)\n",
    "else:\n",
    "    print(\"No Roll Number\")"
   ]
  },
  {
   "cell_type": "code",
   "execution_count": 40,
   "metadata": {
    "ExecuteTime": {
     "end_time": "2020-07-14T06:00:22.311400Z",
     "start_time": "2020-07-14T06:00:22.288325Z"
    }
   },
   "outputs": [
    {
     "name": "stdout",
     "output_type": "stream",
     "text": [
      "(45, 51)\n"
     ]
    }
   ],
   "source": [
    "import re\n",
    "text  = 'Kalyan roll is good person and the salary is 100000'\n",
    "pattern = r'\\d{2,}'\n",
    "regex = re.compile(pattern)\n",
    "regex.finditer(text)\n",
    "\n",
    "if regex.finditer(text):\n",
    "    for r in regex.finditer(text):\n",
    "        print(r.span())"
   ]
  },
  {
   "cell_type": "code",
   "execution_count": 43,
   "metadata": {
    "ExecuteTime": {
     "end_time": "2020-07-14T06:09:29.038752Z",
     "start_time": "2020-07-14T06:09:29.016818Z"
    }
   },
   "outputs": [
    {
     "name": "stdout",
     "output_type": "stream",
     "text": [
      "(45, 51)\n"
     ]
    }
   ],
   "source": [
    "if re.compile(r'\\d{2,}').finditer('Kalyan roll is good person and the salary is 100000'):\n",
    "    for r in re.compile(r'\\d{2,}').finditer('Kalyan roll is good person and the salary is 100000'):\n",
    "        print(r.span())\n",
    "    "
   ]
  },
  {
   "cell_type": "markdown",
   "metadata": {
    "ExecuteTime": {
     "end_time": "2020-07-14T06:10:27.087689Z",
     "start_time": "2020-07-14T06:10:26.999924Z"
    }
   },
   "source": [
    "# Substituting"
   ]
  },
  {
   "cell_type": "code",
   "execution_count": 47,
   "metadata": {
    "ExecuteTime": {
     "end_time": "2020-07-14T06:11:43.642144Z",
     "start_time": "2020-07-14T06:11:43.631202Z"
    }
   },
   "outputs": [
    {
     "data": {
      "text/plain": [
       "'Akshay rol number is ********.Aakash rol number is ********'"
      ]
     },
     "execution_count": 47,
     "metadata": {},
     "output_type": "execute_result"
    }
   ],
   "source": [
    "import re\n",
    "text  = 'Akshay rol number is 11012225.Aakash rol number is 11012226'\n",
    "pattern = r'\\d\\d\\d\\d\\d\\d\\d\\d'\n",
    "regex = re.compile(pattern)\n",
    "regex.sub(r'********',text)"
   ]
  },
  {
   "cell_type": "code",
   "execution_count": 50,
   "metadata": {
    "ExecuteTime": {
     "end_time": "2020-07-14T06:12:23.961278Z",
     "start_time": "2020-07-14T06:12:23.943325Z"
    }
   },
   "outputs": [
    {
     "data": {
      "text/plain": [
       "'kalyan roll number is * and megna roll number is *'"
      ]
     },
     "execution_count": 50,
     "metadata": {},
     "output_type": "execute_result"
    }
   ],
   "source": [
    "import re\n",
    "text  = 'kalyan roll number is 10 and megna roll number is 20'\n",
    "pattern = r'\\d\\d'\n",
    "regex = re.compile(pattern)\n",
    "regex.sub(r'*',text)"
   ]
  },
  {
   "cell_type": "markdown",
   "metadata": {},
   "source": [
    "# Split"
   ]
  },
  {
   "cell_type": "code",
   "execution_count": 51,
   "metadata": {
    "ExecuteTime": {
     "end_time": "2020-07-14T06:15:37.740248Z",
     "start_time": "2020-07-14T06:15:37.723297Z"
    }
   },
   "outputs": [
    {
     "data": {
      "text/plain": [
       "['kalyan is good boy ', ' he earn nicely ', ' residing in hyderabad']"
      ]
     },
     "execution_count": 51,
     "metadata": {},
     "output_type": "execute_result"
    }
   ],
   "source": [
    "import re\n",
    "text = 'kalyan is good boy and he earn nicely and residing in hyderabad'\n",
    "pattern = r'and'\n",
    "regex = re.compile(pattern)\n",
    "regex.split(text)"
   ]
  },
  {
   "cell_type": "code",
   "execution_count": 52,
   "metadata": {
    "ExecuteTime": {
     "end_time": "2020-07-14T06:16:06.968074Z",
     "start_time": "2020-07-14T06:16:06.959097Z"
    }
   },
   "outputs": [
    {
     "data": {
      "text/plain": [
       "['kalyan is good boy ', ' he earn nicely ', ' residing in hyderabad']"
      ]
     },
     "execution_count": 52,
     "metadata": {},
     "output_type": "execute_result"
    }
   ],
   "source": [
    "import re\n",
    "text = 'kalyan is good boy or he earn nicely or residing in hyderabad'\n",
    "pattern = r'or'\n",
    "regex = re.compile(pattern)\n",
    "regex.split(text)"
   ]
  },
  {
   "cell_type": "code",
   "execution_count": 53,
   "metadata": {
    "ExecuteTime": {
     "end_time": "2020-07-14T06:17:37.489846Z",
     "start_time": "2020-07-14T06:17:37.465911Z"
    }
   },
   "outputs": [
    {
     "data": {
      "text/plain": [
       "['kalyan is good boy ', ' he earn nicely ', ' residing in hyderabad']"
      ]
     },
     "execution_count": 53,
     "metadata": {},
     "output_type": "execute_result"
    }
   ],
   "source": [
    "import re\n",
    "text = 'kalyan is good boy and he earn nicely or residing in hyderabad'\n",
    "pattern = r'and|or'\n",
    "regex = re.compile(pattern)\n",
    "regex.split(text)"
   ]
  },
  {
   "cell_type": "code",
   "execution_count": 54,
   "metadata": {
    "ExecuteTime": {
     "end_time": "2020-07-14T06:18:05.825773Z",
     "start_time": "2020-07-14T06:18:05.806826Z"
    }
   },
   "outputs": [
    {
     "data": {
      "text/plain": [
       "['kalyan',\n",
       " 'is',\n",
       " 'good',\n",
       " 'boy',\n",
       " 'and',\n",
       " 'he',\n",
       " 'earn',\n",
       " 'nicely',\n",
       " 'or',\n",
       " 'residing',\n",
       " 'in',\n",
       " 'hyderabad']"
      ]
     },
     "execution_count": 54,
     "metadata": {},
     "output_type": "execute_result"
    }
   ],
   "source": [
    "import re\n",
    "text = 'kalyan is good boy and he earn nicely or residing in hyderabad'\n",
    "pattern = r'\\s'\n",
    "regex = re.compile(pattern)\n",
    "regex.split(text)"
   ]
  },
  {
   "cell_type": "markdown",
   "metadata": {},
   "source": [
    "# GROUPS"
   ]
  },
  {
   "cell_type": "markdown",
   "metadata": {},
   "source": [
    "### Numbered Group "
   ]
  },
  {
   "cell_type": "code",
   "execution_count": 130,
   "metadata": {
    "ExecuteTime": {
     "end_time": "2020-07-14T07:00:04.993219Z",
     "start_time": "2020-07-14T07:00:04.982206Z"
    }
   },
   "outputs": [
    {
     "data": {
      "text/plain": [
       "'cs1234'"
      ]
     },
     "execution_count": 130,
     "metadata": {},
     "output_type": "execute_result"
    }
   ],
   "source": [
    "import re\n",
    "text = 'Akshay rol number is cs1234'\n",
    "pattern = r'(cs)(\\d{2,})'\n",
    "regex = re.compile(pattern)\n",
    "regex.search(text).group()"
   ]
  },
  {
   "cell_type": "markdown",
   "metadata": {},
   "source": [
    "### Named Group"
   ]
  },
  {
   "cell_type": "code",
   "execution_count": 151,
   "metadata": {
    "ExecuteTime": {
     "end_time": "2020-07-14T07:23:19.332867Z",
     "start_time": "2020-07-14T07:23:19.314913Z"
    }
   },
   "outputs": [
    {
     "data": {
      "text/plain": [
       "'APVJ450078'"
      ]
     },
     "execution_count": 151,
     "metadata": {},
     "output_type": "execute_result"
    }
   ],
   "source": [
    "import re\n",
    "text = 'Akshay rol number is   APVJ450078'\n",
    "pattern = r'(?P<branch>APVJ)(?P<rollno>[0-9]+)'\n",
    "regex = re.compile(pattern)\n",
    "regex.search(text).group()"
   ]
  },
  {
   "cell_type": "code",
   "execution_count": 140,
   "metadata": {
    "ExecuteTime": {
     "end_time": "2020-07-14T07:04:16.831459Z",
     "start_time": "2020-07-14T07:04:16.810483Z"
    }
   },
   "outputs": [
    {
     "data": {
      "text/plain": [
       "'APVJ450078'"
      ]
     },
     "execution_count": 140,
     "metadata": {},
     "output_type": "execute_result"
    }
   ],
   "source": [
    "re.search(r'(?P<branch>APVJ)(?P<rollno>\\d{2,})','Akshay rol number is APVJ450078').group()"
   ]
  },
  {
   "cell_type": "markdown",
   "metadata": {},
   "source": [
    "### MetaCharacters"
   ]
  },
  {
   "cell_type": "markdown",
   "metadata": {},
   "source": [
    "##### PIPE |"
   ]
  },
  {
   "cell_type": "code",
   "execution_count": 85,
   "metadata": {
    "ExecuteTime": {
     "end_time": "2020-07-14T06:34:55.862101Z",
     "start_time": "2020-07-14T06:34:55.841161Z"
    }
   },
   "outputs": [
    {
     "data": {
      "text/plain": [
       "['07', '007']"
      ]
     },
     "execution_count": 85,
     "metadata": {},
     "output_type": "execute_result"
    }
   ],
   "source": [
    "import re\n",
    "text = 'my lucky number is 07 and 007'\n",
    "pattern = r'\\b(\\d{2}|\\d{3})\\b'\n",
    "regex = re.compile(pattern)\n",
    "regex.findall(text)"
   ]
  },
  {
   "cell_type": "code",
   "execution_count": 89,
   "metadata": {
    "ExecuteTime": {
     "end_time": "2020-07-14T06:35:42.789460Z",
     "start_time": "2020-07-14T06:35:42.767481Z"
    }
   },
   "outputs": [
    {
     "data": {
      "text/plain": [
       "['4222', '56789']"
      ]
     },
     "execution_count": 89,
     "metadata": {},
     "output_type": "execute_result"
    }
   ],
   "source": [
    "import re\n",
    "text = 'my lucky number is 4222 and 56789'\n",
    "pattern = r'\\b(\\d{4}|\\d{5})\\b'\n",
    "regex = re.compile(pattern)\n",
    "regex.findall(text)"
   ]
  },
  {
   "cell_type": "code",
   "execution_count": 93,
   "metadata": {
    "ExecuteTime": {
     "end_time": "2020-07-14T06:37:55.116864Z",
     "start_time": "2020-07-14T06:37:55.104866Z"
    }
   },
   "outputs": [
    {
     "data": {
      "text/plain": [
       "['mat', 'cat', 'bat']"
      ]
     },
     "execution_count": 93,
     "metadata": {},
     "output_type": "execute_result"
    }
   ],
   "source": [
    "import re\n",
    "text = 'the words are mat cat bat'\n",
    "pattern = r'mat|cat|bat'\n",
    "regex = re.compile(pattern)\n",
    "regex.findall(text)"
   ]
  },
  {
   "cell_type": "code",
   "execution_count": 94,
   "metadata": {
    "ExecuteTime": {
     "end_time": "2020-07-14T06:38:55.945941Z",
     "start_time": "2020-07-14T06:38:55.924997Z"
    }
   },
   "outputs": [
    {
     "data": {
      "text/plain": [
       "['mat', 'cat', 'bat']"
      ]
     },
     "execution_count": 94,
     "metadata": {},
     "output_type": "execute_result"
    }
   ],
   "source": [
    "import re\n",
    "text = 'the words are mat cat bat'\n",
    "pattern = r'(?:c|m|b)at'\n",
    "regex = re.compile(pattern)\n",
    "regex.findall(text)"
   ]
  },
  {
   "cell_type": "code",
   "execution_count": 96,
   "metadata": {
    "ExecuteTime": {
     "end_time": "2020-07-14T06:40:59.130994Z",
     "start_time": "2020-07-14T06:40:59.107060Z"
    }
   },
   "outputs": [
    {
     "data": {
      "text/plain": [
       "['practice', 'practice']"
      ]
     },
     "execution_count": 96,
     "metadata": {},
     "output_type": "execute_result"
    }
   ],
   "source": [
    "import re\n",
    "text = 'the words are practice and practice]'\n",
    "pattern = r'(?:prac)tice'\n",
    "regex = re.compile(pattern)\n",
    "regex.findall(text)"
   ]
  },
  {
   "cell_type": "code",
   "execution_count": 99,
   "metadata": {
    "ExecuteTime": {
     "end_time": "2020-07-14T06:42:31.510255Z",
     "start_time": "2020-07-14T06:42:31.498287Z"
    }
   },
   "outputs": [
    {
     "data": {
      "text/plain": [
       "['practice', 'practice']"
      ]
     },
     "execution_count": 99,
     "metadata": {},
     "output_type": "execute_result"
    }
   ],
   "source": [
    "import re\n",
    "text = 'the words are practice and practice'\n",
    "pattern = r'practi(?:c|s)e'\n",
    "regex = re.compile(pattern)\n",
    "regex.findall(text)"
   ]
  },
  {
   "cell_type": "code",
   "execution_count": 114,
   "metadata": {
    "ExecuteTime": {
     "end_time": "2020-07-14T06:50:15.063622Z",
     "start_time": "2020-07-14T06:50:15.048662Z"
    }
   },
   "outputs": [
    {
     "data": {
      "text/plain": [
       "['20', '20', '44', '20']"
      ]
     },
     "execution_count": 114,
     "metadata": {},
     "output_type": "execute_result"
    }
   ],
   "source": [
    "import re\n",
    "text = 'numbers are -20,20,-44,20'\n",
    "pattern = r'\\d{2,}'\n",
    "regex = re.compile(pattern)\n",
    "regex.findall(text)"
   ]
  },
  {
   "cell_type": "markdown",
   "metadata": {},
   "source": [
    "### Asteric"
   ]
  },
  {
   "cell_type": "code",
   "execution_count": 115,
   "metadata": {
    "ExecuteTime": {
     "end_time": "2020-07-14T06:51:23.394232Z",
     "start_time": "2020-07-14T06:51:23.372356Z"
    }
   },
   "outputs": [
    {
     "data": {
      "text/plain": [
       "['ac', 'abbc', 'abbbc']"
      ]
     },
     "execution_count": 115,
     "metadata": {},
     "output_type": "execute_result"
    }
   ],
   "source": [
    "import re\n",
    "text = 'the words are ac abbc abbbc'\n",
    "pattern = r'ab*c'\n",
    "regex = re.compile(pattern)\n",
    "regex.findall(text)"
   ]
  },
  {
   "cell_type": "code",
   "execution_count": 172,
   "metadata": {
    "ExecuteTime": {
     "end_time": "2020-07-14T07:37:03.354215Z",
     "start_time": "2020-07-14T07:37:03.335265Z"
    }
   },
   "outputs": [
    {
     "name": "stdout",
     "output_type": "stream",
     "text": [
      "['alias']\n"
     ]
    }
   ],
   "source": [
    "import re\n",
    "print(re.findall(r'^a...s$',\"alias\"))"
   ]
  },
  {
   "cell_type": "code",
   "execution_count": 191,
   "metadata": {
    "ExecuteTime": {
     "end_time": "2020-07-14T07:43:50.160702Z",
     "start_time": "2020-07-14T07:43:50.142746Z"
    }
   },
   "outputs": [
    {
     "name": "stdout",
     "output_type": "stream",
     "text": [
      "['alyss']\n"
     ]
    }
   ],
   "source": [
    "import re\n",
    "print(re.findall(r'^a.*s$',\"alyss\"))"
   ]
  },
  {
   "cell_type": "code",
   "execution_count": 188,
   "metadata": {
    "ExecuteTime": {
     "end_time": "2020-07-14T07:42:56.473288Z",
     "start_time": "2020-07-14T07:42:56.457298Z"
    }
   },
   "outputs": [
    {
     "name": "stdout",
     "output_type": "stream",
     "text": [
      "['The rain Hyderabad']\n"
     ]
    }
   ],
   "source": [
    "import re\n",
    "print(re.findall(r'^The.*Hyderabad$',\"The rain Hyderabad\"))"
   ]
  },
  {
   "cell_type": "markdown",
   "metadata": {},
   "source": [
    "### All Metacharacters"
   ]
  },
  {
   "cell_type": "markdown",
   "metadata": {},
   "source": [
    "### 1.SquareBracket:A set of characters"
   ]
  },
  {
   "cell_type": "code",
   "execution_count": 209,
   "metadata": {
    "ExecuteTime": {
     "end_time": "2020-07-14T08:00:35.696283Z",
     "start_time": "2020-07-14T08:00:35.683349Z"
    }
   },
   "outputs": [
    {
     "data": {
      "text/plain": [
       "['h', 'e', 'r', 'a', 'i', 'n', 'y', 'd', 'e', 'r', 'a', 'b', 'a', 'd']"
      ]
     },
     "execution_count": 209,
     "metadata": {},
     "output_type": "execute_result"
    }
   ],
   "source": [
    "import re\n",
    "re.findall(r'[a-z]',\"The rain Hyderabad\")"
   ]
  },
  {
   "cell_type": "markdown",
   "metadata": {},
   "source": [
    "### 2.Slash(\\):Signals a special sequence (can also be used to escape special characters)"
   ]
  },
  {
   "cell_type": "code",
   "execution_count": 210,
   "metadata": {
    "ExecuteTime": {
     "end_time": "2020-07-14T08:00:36.047834Z",
     "start_time": "2020-07-14T08:00:36.027758Z"
    }
   },
   "outputs": [
    {
     "data": {
      "text/plain": [
       "['105']"
      ]
     },
     "execution_count": 210,
     "metadata": {},
     "output_type": "execute_result"
    }
   ],
   "source": [
    "import re\n",
    "re.findall(r'\\d\\d\\d',\"rollnum is 105\")"
   ]
  },
  {
   "cell_type": "markdown",
   "metadata": {},
   "source": [
    "### 3.Dot(.)Any character (except newline character)"
   ]
  },
  {
   "cell_type": "code",
   "execution_count": 211,
   "metadata": {
    "ExecuteTime": {
     "end_time": "2020-07-14T08:00:36.883202Z",
     "start_time": "2020-07-14T08:00:36.866877Z"
    }
   },
   "outputs": [
    {
     "data": {
      "text/plain": [
       "['aakash']"
      ]
     },
     "execution_count": 211,
     "metadata": {},
     "output_type": "execute_result"
    }
   ],
   "source": [
    "import re\n",
    "re.findall(r'a.*h',\"aakash\")"
   ]
  },
  {
   "cell_type": "markdown",
   "metadata": {},
   "source": [
    "### 4.Exponential(^) Starts with"
   ]
  },
  {
   "cell_type": "code",
   "execution_count": 212,
   "metadata": {
    "ExecuteTime": {
     "end_time": "2020-07-14T08:00:37.264417Z",
     "start_time": "2020-07-14T08:00:37.243266Z"
    }
   },
   "outputs": [
    {
     "data": {
      "text/plain": [
       "['aakash']"
      ]
     },
     "execution_count": 212,
     "metadata": {},
     "output_type": "execute_result"
    }
   ],
   "source": [
    "import re\n",
    "re.findall(r'^a.*',\"aakash\")"
   ]
  },
  {
   "cell_type": "markdown",
   "metadata": {},
   "source": [
    "### 5.Dollar($) Ends with"
   ]
  },
  {
   "cell_type": "code",
   "execution_count": 213,
   "metadata": {
    "ExecuteTime": {
     "end_time": "2020-07-14T08:00:37.912518Z",
     "start_time": "2020-07-14T08:00:37.894393Z"
    }
   },
   "outputs": [
    {
     "data": {
      "text/plain": [
       "['akshay']"
      ]
     },
     "execution_count": 213,
     "metadata": {},
     "output_type": "execute_result"
    }
   ],
   "source": [
    "import re\n",
    "re.findall(r'.*y$',\"akshay\")"
   ]
  },
  {
   "cell_type": "markdown",
   "metadata": {},
   "source": [
    "### 6.Astric(*) Zero or more occurrences"
   ]
  },
  {
   "cell_type": "code",
   "execution_count": 214,
   "metadata": {
    "ExecuteTime": {
     "end_time": "2020-07-14T08:00:38.632802Z",
     "start_time": "2020-07-14T08:00:38.622892Z"
    }
   },
   "outputs": [
    {
     "data": {
      "text/plain": [
       "['ain', 'ain']"
      ]
     },
     "execution_count": 214,
     "metadata": {},
     "output_type": "execute_result"
    }
   ],
   "source": [
    "import re\n",
    "re.findall(r'ain*',\"The rain in Hyderabad Fall Mainly in lower areas\")"
   ]
  },
  {
   "cell_type": "markdown",
   "metadata": {},
   "source": [
    "### 7.Plus(+) One or more occurrences"
   ]
  },
  {
   "cell_type": "code",
   "execution_count": 216,
   "metadata": {
    "ExecuteTime": {
     "end_time": "2020-07-14T08:01:27.997443Z",
     "start_time": "2020-07-14T08:01:27.979715Z"
    }
   },
   "outputs": [
    {
     "data": {
      "text/plain": [
       "['9848514365']"
      ]
     },
     "execution_count": 216,
     "metadata": {},
     "output_type": "execute_result"
    }
   ],
   "source": [
    "import re\n",
    "re.findall(r'\\d+' ,\"Phone Number is 9848514365\")"
   ]
  },
  {
   "cell_type": "markdown",
   "metadata": {},
   "source": [
    "### 8.Paranthesis {} Exactly the specified number of occurrences"
   ]
  },
  {
   "cell_type": "code",
   "execution_count": 222,
   "metadata": {
    "ExecuteTime": {
     "end_time": "2020-07-14T08:05:31.032370Z",
     "start_time": "2020-07-14T08:05:31.011964Z"
    }
   },
   "outputs": [
    {
     "data": {
      "text/plain": [
       "['in', 'in']"
      ]
     },
     "execution_count": 222,
     "metadata": {},
     "output_type": "execute_result"
    }
   ],
   "source": [
    "import re\n",
    "re.findall(r'in{1}','Names are aakash aaravind aabhinav')"
   ]
  },
  {
   "cell_type": "markdown",
   "metadata": {},
   "source": [
    "### 9.PIPE (|) Either or"
   ]
  },
  {
   "cell_type": "code",
   "execution_count": 226,
   "metadata": {
    "ExecuteTime": {
     "end_time": "2020-07-14T08:07:50.412659Z",
     "start_time": "2020-07-14T08:07:50.393343Z"
    }
   },
   "outputs": [
    {
     "data": {
      "text/plain": [
       "['10', '159']"
      ]
     },
     "execution_count": 226,
     "metadata": {},
     "output_type": "execute_result"
    }
   ],
   "source": [
    "import re\n",
    "re.findall(r'\\d{2,}|\\d{3,}',\"the numbers are 10,159\")"
   ]
  },
  {
   "cell_type": "code",
   "execution_count": 228,
   "metadata": {
    "ExecuteTime": {
     "end_time": "2020-07-14T08:10:08.027457Z",
     "start_time": "2020-07-14T08:10:08.012534Z"
    }
   },
   "outputs": [
    {
     "data": {
      "text/plain": [
       "['159']"
      ]
     },
     "execution_count": 228,
     "metadata": {},
     "output_type": "execute_result"
    }
   ],
   "source": [
    "import re\n",
    "re.findall(r'[0-5][0-6][0-9]',\"the numbers are 10,159\")"
   ]
  },
  {
   "cell_type": "code",
   "execution_count": 229,
   "metadata": {
    "ExecuteTime": {
     "end_time": "2020-07-14T08:10:52.492189Z",
     "start_time": "2020-07-14T08:10:52.473220Z"
    }
   },
   "outputs": [
    {
     "data": {
      "text/plain": [
       "['A', 'E', 'I', 'O', 'U', 'a', 'e', 'i', 'o', 'u']"
      ]
     },
     "execution_count": 229,
     "metadata": {},
     "output_type": "execute_result"
    }
   ],
   "source": [
    "import re\n",
    "re.findall(r'[a-zA-z]',\"AEIOU aeiou\")"
   ]
  },
  {
   "cell_type": "code",
   "execution_count": 237,
   "metadata": {
    "ExecuteTime": {
     "end_time": "2020-07-14T08:14:41.269794Z",
     "start_time": "2020-07-14T08:14:41.247489Z"
    }
   },
   "outputs": [
    {
     "data": {
      "text/plain": [
       "['the', 'names', 'are', 'alias', 'alyss']"
      ]
     },
     "execution_count": 237,
     "metadata": {},
     "output_type": "execute_result"
    }
   ],
   "source": [
    "import re\n",
    "re.split(r'\\s',\"the names are alias alyss\")"
   ]
  },
  {
   "cell_type": "markdown",
   "metadata": {},
   "source": [
    "# Regular_Expression(15-07-2020)"
   ]
  },
  {
   "cell_type": "markdown",
   "metadata": {},
   "source": [
    "### Plus"
   ]
  },
  {
   "cell_type": "code",
   "execution_count": 1,
   "metadata": {
    "ExecuteTime": {
     "end_time": "2020-07-15T05:28:58.897511Z",
     "start_time": "2020-07-15T05:28:58.867470Z"
    }
   },
   "outputs": [
    {
     "data": {
      "text/plain": [
       "['1', '10', '100', '100']"
      ]
     },
     "execution_count": 1,
     "metadata": {},
     "output_type": "execute_result"
    }
   ],
   "source": [
    "import re\n",
    "re.findall(r'\\d+',\"1 10 100 100\")"
   ]
  },
  {
   "cell_type": "code",
   "execution_count": 12,
   "metadata": {
    "ExecuteTime": {
     "end_time": "2020-07-15T05:40:40.495153Z",
     "start_time": "2020-07-15T05:40:40.473367Z"
    }
   },
   "outputs": [
    {
     "data": {
      "text/plain": [
       "('Kalyan', '100200')"
      ]
     },
     "execution_count": 12,
     "metadata": {},
     "output_type": "execute_result"
    }
   ],
   "source": [
    "import re\n",
    "re.match(r'([a-zA-z]+)(\\d+)',\"Kalyan100200\").groups()"
   ]
  },
  {
   "cell_type": "markdown",
   "metadata": {},
   "source": [
    "# STEMMING"
   ]
  },
  {
   "cell_type": "code",
   "execution_count": 20,
   "metadata": {
    "ExecuteTime": {
     "end_time": "2020-07-15T05:45:21.592205Z",
     "start_time": "2020-07-15T05:45:21.576408Z"
    }
   },
   "outputs": [],
   "source": [
    "words = ['first','time','see','second','renaissance','may','look'\n",
    "'boring','look','least','twice','defenitel','watch','part','22',\n",
    "'matrix','human','peolpe','ones''started','war','ai','bad','thing']"
   ]
  },
  {
   "cell_type": "code",
   "execution_count": 21,
   "metadata": {
    "ExecuteTime": {
     "end_time": "2020-07-15T05:45:25.210241Z",
     "start_time": "2020-07-15T05:45:25.198328Z"
    },
    "collapsed": true
   },
   "outputs": [
    {
     "data": {
      "text/plain": [
       "['first',\n",
       " 'time',\n",
       " 'see',\n",
       " 'second',\n",
       " 'renaissance',\n",
       " 'may',\n",
       " 'lookboring',\n",
       " 'look',\n",
       " 'least',\n",
       " 'twice',\n",
       " 'defenitel',\n",
       " 'watch',\n",
       " 'part',\n",
       " '22',\n",
       " 'matrix',\n",
       " 'human',\n",
       " 'peolpe',\n",
       " 'onesstarted',\n",
       " 'war',\n",
       " 'ai',\n",
       " 'bad',\n",
       " 'thing']"
      ]
     },
     "execution_count": 21,
     "metadata": {},
     "output_type": "execute_result"
    }
   ],
   "source": [
    "words"
   ]
  },
  {
   "cell_type": "code",
   "execution_count": 15,
   "metadata": {
    "ExecuteTime": {
     "end_time": "2020-07-15T05:42:52.129354Z",
     "start_time": "2020-07-15T05:42:19.639277Z"
    }
   },
   "outputs": [],
   "source": [
    "import nltk"
   ]
  },
  {
   "cell_type": "code",
   "execution_count": 17,
   "metadata": {
    "ExecuteTime": {
     "end_time": "2020-07-15T05:43:01.035527Z",
     "start_time": "2020-07-15T05:43:01.024554Z"
    }
   },
   "outputs": [],
   "source": [
    "from nltk.stem.porter import PorterStemmer"
   ]
  },
  {
   "cell_type": "code",
   "execution_count": 22,
   "metadata": {
    "ExecuteTime": {
     "end_time": "2020-07-15T05:45:35.825844Z",
     "start_time": "2020-07-15T05:45:35.809748Z"
    }
   },
   "outputs": [],
   "source": [
    "stemmed_words = [PorterStemmer().stem(w) for w in words]"
   ]
  },
  {
   "cell_type": "code",
   "execution_count": 30,
   "metadata": {
    "ExecuteTime": {
     "end_time": "2020-07-15T05:49:10.232281Z",
     "start_time": "2020-07-15T05:49:10.174302Z"
    }
   },
   "outputs": [
    {
     "data": {
      "text/html": [
       "<div>\n",
       "<style scoped>\n",
       "    .dataframe tbody tr th:only-of-type {\n",
       "        vertical-align: middle;\n",
       "    }\n",
       "\n",
       "    .dataframe tbody tr th {\n",
       "        vertical-align: top;\n",
       "    }\n",
       "\n",
       "    .dataframe thead th {\n",
       "        text-align: right;\n",
       "    }\n",
       "</style>\n",
       "<table border=\"1\" class=\"dataframe\">\n",
       "  <thead>\n",
       "    <tr style=\"text-align: right;\">\n",
       "      <th></th>\n",
       "      <th>0</th>\n",
       "      <th>1</th>\n",
       "      <th>2</th>\n",
       "      <th>3</th>\n",
       "    </tr>\n",
       "  </thead>\n",
       "  <tbody>\n",
       "    <tr>\n",
       "      <th>0</th>\n",
       "      <td>tens</td>\n",
       "      <td>played</td>\n",
       "      <td>india</td>\n",
       "      <td>running</td>\n",
       "    </tr>\n",
       "  </tbody>\n",
       "</table>\n",
       "</div>"
      ],
      "text/plain": [
       "      0       1      2        3\n",
       "0  tens  played  india  running"
      ]
     },
     "metadata": {},
     "output_type": "display_data"
    },
    {
     "data": {
      "text/html": [
       "<div>\n",
       "<style scoped>\n",
       "    .dataframe tbody tr th:only-of-type {\n",
       "        vertical-align: middle;\n",
       "    }\n",
       "\n",
       "    .dataframe tbody tr th {\n",
       "        vertical-align: top;\n",
       "    }\n",
       "\n",
       "    .dataframe thead th {\n",
       "        text-align: right;\n",
       "    }\n",
       "</style>\n",
       "<table border=\"1\" class=\"dataframe\">\n",
       "  <thead>\n",
       "    <tr style=\"text-align: right;\">\n",
       "      <th></th>\n",
       "      <th>0</th>\n",
       "      <th>1</th>\n",
       "      <th>2</th>\n",
       "      <th>3</th>\n",
       "    </tr>\n",
       "  </thead>\n",
       "  <tbody>\n",
       "    <tr>\n",
       "      <th>0</th>\n",
       "      <td>ten</td>\n",
       "      <td>play</td>\n",
       "      <td>india</td>\n",
       "      <td>run</td>\n",
       "    </tr>\n",
       "  </tbody>\n",
       "</table>\n",
       "</div>"
      ],
      "text/plain": [
       "     0     1      2    3\n",
       "0  ten  play  india  run"
      ]
     },
     "metadata": {},
     "output_type": "display_data"
    }
   ],
   "source": [
    "import pandas as pd\n",
    "words1 = ['tens','played','india','running']\n",
    "stemmed_words1 = [PorterStemmer().stem(w) for w in words1]\n",
    "display(pd.DataFrame(words1).transpose())\n",
    "display(pd.DataFrame(stemmed_words1).transpose())"
   ]
  },
  {
   "cell_type": "markdown",
   "metadata": {},
   "source": [
    "# LEMMATIZATION"
   ]
  },
  {
   "cell_type": "code",
   "execution_count": 31,
   "metadata": {
    "ExecuteTime": {
     "end_time": "2020-07-15T05:52:16.197674Z",
     "start_time": "2020-07-15T05:52:16.190696Z"
    }
   },
   "outputs": [],
   "source": [
    "words1 = ['tens','played','india','running','runner','people']"
   ]
  },
  {
   "cell_type": "code",
   "execution_count": 32,
   "metadata": {
    "ExecuteTime": {
     "end_time": "2020-07-15T05:53:32.643385Z",
     "start_time": "2020-07-15T05:53:27.621331Z"
    }
   },
   "outputs": [
    {
     "name": "stderr",
     "output_type": "stream",
     "text": [
      "[nltk_data] Downloading package wordnet to\n",
      "[nltk_data]     C:\\Users\\aakas\\AppData\\Roaming\\nltk_data...\n",
      "[nltk_data]   Unzipping corpora\\wordnet.zip.\n"
     ]
    },
    {
     "data": {
      "text/plain": [
       "True"
      ]
     },
     "execution_count": 32,
     "metadata": {},
     "output_type": "execute_result"
    }
   ],
   "source": [
    "from nltk.stem.wordnet import WordNetLemmatizer\n",
    "nltk.download('wordnet')"
   ]
  },
  {
   "cell_type": "code",
   "execution_count": 34,
   "metadata": {
    "ExecuteTime": {
     "end_time": "2020-07-15T05:54:12.955834Z",
     "start_time": "2020-07-15T05:54:12.937881Z"
    }
   },
   "outputs": [
    {
     "data": {
      "text/plain": [
       "['tens', 'play', 'india', 'run', 'runner', 'people']"
      ]
     },
     "execution_count": 34,
     "metadata": {},
     "output_type": "execute_result"
    }
   ],
   "source": [
    "lemmatized_word = [WordNetLemmatizer().lemmatize(w,pos='v') for w in words1]\n",
    "lemmatized_word"
   ]
  },
  {
   "cell_type": "code",
   "execution_count": 37,
   "metadata": {
    "ExecuteTime": {
     "end_time": "2020-07-15T05:56:14.742811Z",
     "start_time": "2020-07-15T05:56:14.697928Z"
    }
   },
   "outputs": [
    {
     "data": {
      "text/html": [
       "<div>\n",
       "<style scoped>\n",
       "    .dataframe tbody tr th:only-of-type {\n",
       "        vertical-align: middle;\n",
       "    }\n",
       "\n",
       "    .dataframe tbody tr th {\n",
       "        vertical-align: top;\n",
       "    }\n",
       "\n",
       "    .dataframe thead th {\n",
       "        text-align: right;\n",
       "    }\n",
       "</style>\n",
       "<table border=\"1\" class=\"dataframe\">\n",
       "  <thead>\n",
       "    <tr style=\"text-align: right;\">\n",
       "      <th></th>\n",
       "      <th>0</th>\n",
       "      <th>1</th>\n",
       "      <th>2</th>\n",
       "      <th>3</th>\n",
       "      <th>4</th>\n",
       "      <th>5</th>\n",
       "    </tr>\n",
       "  </thead>\n",
       "  <tbody>\n",
       "    <tr>\n",
       "      <th>0</th>\n",
       "      <td>playing</td>\n",
       "      <td>dancing</td>\n",
       "      <td>walk</td>\n",
       "      <td>desk</td>\n",
       "      <td>watch</td>\n",
       "      <td>watching</td>\n",
       "    </tr>\n",
       "  </tbody>\n",
       "</table>\n",
       "</div>"
      ],
      "text/plain": [
       "         0        1     2     3      4         5\n",
       "0  playing  dancing  walk  desk  watch  watching"
      ]
     },
     "metadata": {},
     "output_type": "display_data"
    },
    {
     "data": {
      "text/html": [
       "<div>\n",
       "<style scoped>\n",
       "    .dataframe tbody tr th:only-of-type {\n",
       "        vertical-align: middle;\n",
       "    }\n",
       "\n",
       "    .dataframe tbody tr th {\n",
       "        vertical-align: top;\n",
       "    }\n",
       "\n",
       "    .dataframe thead th {\n",
       "        text-align: right;\n",
       "    }\n",
       "</style>\n",
       "<table border=\"1\" class=\"dataframe\">\n",
       "  <thead>\n",
       "    <tr style=\"text-align: right;\">\n",
       "      <th></th>\n",
       "      <th>0</th>\n",
       "      <th>1</th>\n",
       "      <th>2</th>\n",
       "      <th>3</th>\n",
       "      <th>4</th>\n",
       "      <th>5</th>\n",
       "    </tr>\n",
       "  </thead>\n",
       "  <tbody>\n",
       "    <tr>\n",
       "      <th>0</th>\n",
       "      <td>play</td>\n",
       "      <td>dance</td>\n",
       "      <td>walk</td>\n",
       "      <td>desk</td>\n",
       "      <td>watch</td>\n",
       "      <td>watch</td>\n",
       "    </tr>\n",
       "  </tbody>\n",
       "</table>\n",
       "</div>"
      ],
      "text/plain": [
       "      0      1     2     3      4      5\n",
       "0  play  dance  walk  desk  watch  watch"
      ]
     },
     "metadata": {},
     "output_type": "display_data"
    }
   ],
   "source": [
    "import pandas as pd\n",
    "words1 = ['playing','dancing','walk','desk','watch','watching']\n",
    "lemmatized_word = [WordNetLemmatizer().lemmatize(w,pos='v') for w in words1]\n",
    "display(pd.DataFrame(words1).transpose())\n",
    "display(pd.DataFrame(lemmatized_word).transpose())"
   ]
  },
  {
   "cell_type": "markdown",
   "metadata": {},
   "source": [
    "# TOKENIZER"
   ]
  },
  {
   "cell_type": "code",
   "execution_count": 38,
   "metadata": {
    "ExecuteTime": {
     "end_time": "2020-07-15T05:58:11.538365Z",
     "start_time": "2020-07-15T05:58:11.525401Z"
    }
   },
   "outputs": [],
   "source": [
    "from nltk.tokenize import sent_tokenize"
   ]
  },
  {
   "cell_type": "code",
   "execution_count": 41,
   "metadata": {
    "ExecuteTime": {
     "end_time": "2020-07-15T05:59:36.829982Z",
     "start_time": "2020-07-15T05:59:36.823000Z"
    }
   },
   "outputs": [],
   "source": [
    "text = \"Hello Aakash. Welcome to USA. You are Studying NLP\""
   ]
  },
  {
   "cell_type": "code",
   "execution_count": 42,
   "metadata": {
    "ExecuteTime": {
     "end_time": "2020-07-15T05:59:37.356573Z",
     "start_time": "2020-07-15T05:59:37.341613Z"
    }
   },
   "outputs": [
    {
     "data": {
      "text/plain": [
       "['Hello Aakash.', 'Welcome to USA.', 'You are Studying NLP']"
      ]
     },
     "execution_count": 42,
     "metadata": {},
     "output_type": "execute_result"
    }
   ],
   "source": [
    "sent_tokenize(text)"
   ]
  },
  {
   "cell_type": "code",
   "execution_count": 44,
   "metadata": {
    "ExecuteTime": {
     "end_time": "2020-07-15T06:01:14.708830Z",
     "start_time": "2020-07-15T06:01:14.694871Z"
    }
   },
   "outputs": [
    {
     "data": {
      "text/plain": [
       "['India is my coutry.',\n",
       " 'All indians as my brothers and sisters.',\n",
       " 'I am proud of it']"
      ]
     },
     "execution_count": 44,
     "metadata": {},
     "output_type": "execute_result"
    }
   ],
   "source": [
    "text = 'India is my coutry. All indians as my brothers and sisters. I am proud of it'\n",
    "sent_tokenize(text)"
   ]
  },
  {
   "cell_type": "markdown",
   "metadata": {},
   "source": [
    "# WHITE SPACE TOKENIZER"
   ]
  },
  {
   "cell_type": "code",
   "execution_count": 45,
   "metadata": {
    "ExecuteTime": {
     "end_time": "2020-07-15T06:03:00.714597Z",
     "start_time": "2020-07-15T06:03:00.701601Z"
    }
   },
   "outputs": [],
   "source": [
    "from nltk.tokenize import WhitespaceTokenizer"
   ]
  },
  {
   "cell_type": "code",
   "execution_count": 49,
   "metadata": {
    "ExecuteTime": {
     "end_time": "2020-07-15T06:04:40.807720Z",
     "start_time": "2020-07-15T06:04:40.786777Z"
    }
   },
   "outputs": [
    {
     "data": {
      "text/plain": [
       "['India', 'is', 'my', 'country']"
      ]
     },
     "execution_count": 49,
     "metadata": {},
     "output_type": "execute_result"
    }
   ],
   "source": [
    "words = 'India is my country' \n",
    "WhitespaceTokenizer().tokenize(words)"
   ]
  },
  {
   "cell_type": "code",
   "execution_count": 51,
   "metadata": {
    "ExecuteTime": {
     "end_time": "2020-07-15T06:05:46.401976Z",
     "start_time": "2020-07-15T06:05:46.385019Z"
    }
   },
   "outputs": [
    {
     "data": {
      "text/plain": [
       "['All', 'indians', 'are', 'my', 'brothers', 'and', 'sisters']"
      ]
     },
     "execution_count": 51,
     "metadata": {},
     "output_type": "execute_result"
    }
   ],
   "source": [
    "words = 'All indians are my brothers and sisters'\n",
    "WhitespaceTokenizer().tokenize(words)"
   ]
  },
  {
   "cell_type": "code",
   "execution_count": null,
   "metadata": {},
   "outputs": [],
   "source": []
  }
 ],
 "metadata": {
  "kernelspec": {
   "display_name": "Python 3",
   "language": "python",
   "name": "python3"
  },
  "language_info": {
   "codemirror_mode": {
    "name": "ipython",
    "version": 3
   },
   "file_extension": ".py",
   "mimetype": "text/x-python",
   "name": "python",
   "nbconvert_exporter": "python",
   "pygments_lexer": "ipython3",
   "version": "3.7.6"
  }
 },
 "nbformat": 4,
 "nbformat_minor": 4
}
