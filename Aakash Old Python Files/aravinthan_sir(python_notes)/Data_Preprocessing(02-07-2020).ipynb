{
 "cells": [
  {
   "cell_type": "code",
   "execution_count": 72,
   "metadata": {
    "ExecuteTime": {
     "end_time": "2020-07-02T06:20:21.809678Z",
     "start_time": "2020-07-02T06:20:21.801697Z"
    }
   },
   "outputs": [],
   "source": [
    "import pandas as pd"
   ]
  },
  {
   "cell_type": "code",
   "execution_count": 73,
   "metadata": {
    "ExecuteTime": {
     "end_time": "2020-07-02T06:20:22.057050Z",
     "start_time": "2020-07-02T06:20:21.813663Z"
    }
   },
   "outputs": [],
   "source": [
    "df = pd.read_csv(\"Diabeticpreprocessing.csv\")"
   ]
  },
  {
   "cell_type": "code",
   "execution_count": 74,
   "metadata": {
    "ExecuteTime": {
     "end_time": "2020-07-02T06:20:22.242898Z",
     "start_time": "2020-07-02T06:20:22.060036Z"
    },
    "collapsed": true
   },
   "outputs": [
    {
     "data": {
      "text/html": [
       "<div>\n",
       "<style scoped>\n",
       "    .dataframe tbody tr th:only-of-type {\n",
       "        vertical-align: middle;\n",
       "    }\n",
       "\n",
       "    .dataframe tbody tr th {\n",
       "        vertical-align: top;\n",
       "    }\n",
       "\n",
       "    .dataframe thead th {\n",
       "        text-align: right;\n",
       "    }\n",
       "</style>\n",
       "<table border=\"1\" class=\"dataframe\">\n",
       "  <thead>\n",
       "    <tr style=\"text-align: right;\">\n",
       "      <th></th>\n",
       "      <th>Unnamed: 0</th>\n",
       "      <th>preg</th>\n",
       "      <th>plas</th>\n",
       "      <th>pres</th>\n",
       "      <th>skin</th>\n",
       "      <th>test</th>\n",
       "      <th>mass</th>\n",
       "      <th>pedi</th>\n",
       "      <th>age</th>\n",
       "      <th>class</th>\n",
       "    </tr>\n",
       "  </thead>\n",
       "  <tbody>\n",
       "    <tr>\n",
       "      <th>0</th>\n",
       "      <td>0</td>\n",
       "      <td>6</td>\n",
       "      <td>148</td>\n",
       "      <td>72</td>\n",
       "      <td>35</td>\n",
       "      <td>0</td>\n",
       "      <td>33.6</td>\n",
       "      <td>0.627</td>\n",
       "      <td>50</td>\n",
       "      <td>1</td>\n",
       "    </tr>\n",
       "    <tr>\n",
       "      <th>1</th>\n",
       "      <td>1</td>\n",
       "      <td>1</td>\n",
       "      <td>85</td>\n",
       "      <td>66</td>\n",
       "      <td>29</td>\n",
       "      <td>0</td>\n",
       "      <td>26.6</td>\n",
       "      <td>0.351</td>\n",
       "      <td>31</td>\n",
       "      <td>0</td>\n",
       "    </tr>\n",
       "    <tr>\n",
       "      <th>2</th>\n",
       "      <td>2</td>\n",
       "      <td>8</td>\n",
       "      <td>183</td>\n",
       "      <td>64</td>\n",
       "      <td>0</td>\n",
       "      <td>0</td>\n",
       "      <td>23.3</td>\n",
       "      <td>0.672</td>\n",
       "      <td>32</td>\n",
       "      <td>1</td>\n",
       "    </tr>\n",
       "    <tr>\n",
       "      <th>3</th>\n",
       "      <td>3</td>\n",
       "      <td>1</td>\n",
       "      <td>89</td>\n",
       "      <td>66</td>\n",
       "      <td>23</td>\n",
       "      <td>94</td>\n",
       "      <td>28.1</td>\n",
       "      <td>0.167</td>\n",
       "      <td>21</td>\n",
       "      <td>0</td>\n",
       "    </tr>\n",
       "    <tr>\n",
       "      <th>4</th>\n",
       "      <td>4</td>\n",
       "      <td>0</td>\n",
       "      <td>137</td>\n",
       "      <td>40</td>\n",
       "      <td>35</td>\n",
       "      <td>168</td>\n",
       "      <td>43.1</td>\n",
       "      <td>2.288</td>\n",
       "      <td>33</td>\n",
       "      <td>1</td>\n",
       "    </tr>\n",
       "    <tr>\n",
       "      <th>...</th>\n",
       "      <td>...</td>\n",
       "      <td>...</td>\n",
       "      <td>...</td>\n",
       "      <td>...</td>\n",
       "      <td>...</td>\n",
       "      <td>...</td>\n",
       "      <td>...</td>\n",
       "      <td>...</td>\n",
       "      <td>...</td>\n",
       "      <td>...</td>\n",
       "    </tr>\n",
       "    <tr>\n",
       "      <th>763</th>\n",
       "      <td>763</td>\n",
       "      <td>10</td>\n",
       "      <td>101</td>\n",
       "      <td>76</td>\n",
       "      <td>48</td>\n",
       "      <td>180</td>\n",
       "      <td>32.9</td>\n",
       "      <td>0.171</td>\n",
       "      <td>63</td>\n",
       "      <td>0</td>\n",
       "    </tr>\n",
       "    <tr>\n",
       "      <th>764</th>\n",
       "      <td>764</td>\n",
       "      <td>2</td>\n",
       "      <td>122</td>\n",
       "      <td>70</td>\n",
       "      <td>27</td>\n",
       "      <td>0</td>\n",
       "      <td>36.8</td>\n",
       "      <td>0.340</td>\n",
       "      <td>27</td>\n",
       "      <td>0</td>\n",
       "    </tr>\n",
       "    <tr>\n",
       "      <th>765</th>\n",
       "      <td>765</td>\n",
       "      <td>5</td>\n",
       "      <td>121</td>\n",
       "      <td>72</td>\n",
       "      <td>23</td>\n",
       "      <td>112</td>\n",
       "      <td>26.2</td>\n",
       "      <td>0.245</td>\n",
       "      <td>30</td>\n",
       "      <td>0</td>\n",
       "    </tr>\n",
       "    <tr>\n",
       "      <th>766</th>\n",
       "      <td>766</td>\n",
       "      <td>1</td>\n",
       "      <td>126</td>\n",
       "      <td>60</td>\n",
       "      <td>0</td>\n",
       "      <td>0</td>\n",
       "      <td>30.1</td>\n",
       "      <td>0.349</td>\n",
       "      <td>47</td>\n",
       "      <td>1</td>\n",
       "    </tr>\n",
       "    <tr>\n",
       "      <th>767</th>\n",
       "      <td>767</td>\n",
       "      <td>1</td>\n",
       "      <td>93</td>\n",
       "      <td>70</td>\n",
       "      <td>31</td>\n",
       "      <td>0</td>\n",
       "      <td>30.4</td>\n",
       "      <td>0.315</td>\n",
       "      <td>23</td>\n",
       "      <td>0</td>\n",
       "    </tr>\n",
       "  </tbody>\n",
       "</table>\n",
       "<p>768 rows × 10 columns</p>\n",
       "</div>"
      ],
      "text/plain": [
       "     Unnamed: 0  preg  plas  pres  skin  test  mass   pedi  age  class\n",
       "0             0     6   148    72    35     0  33.6  0.627   50      1\n",
       "1             1     1    85    66    29     0  26.6  0.351   31      0\n",
       "2             2     8   183    64     0     0  23.3  0.672   32      1\n",
       "3             3     1    89    66    23    94  28.1  0.167   21      0\n",
       "4             4     0   137    40    35   168  43.1  2.288   33      1\n",
       "..          ...   ...   ...   ...   ...   ...   ...    ...  ...    ...\n",
       "763         763    10   101    76    48   180  32.9  0.171   63      0\n",
       "764         764     2   122    70    27     0  36.8  0.340   27      0\n",
       "765         765     5   121    72    23   112  26.2  0.245   30      0\n",
       "766         766     1   126    60     0     0  30.1  0.349   47      1\n",
       "767         767     1    93    70    31     0  30.4  0.315   23      0\n",
       "\n",
       "[768 rows x 10 columns]"
      ]
     },
     "execution_count": 74,
     "metadata": {},
     "output_type": "execute_result"
    }
   ],
   "source": [
    "df"
   ]
  },
  {
   "cell_type": "code",
   "execution_count": 75,
   "metadata": {
    "ExecuteTime": {
     "end_time": "2020-07-02T06:20:22.367941Z",
     "start_time": "2020-07-02T06:20:22.247886Z"
    },
    "collapsed": true
   },
   "outputs": [
    {
     "data": {
      "text/plain": [
       "Index(['Unnamed: 0', 'preg', 'plas', 'pres', 'skin', 'test', 'mass', 'pedi',\n",
       "       'age', 'class'],\n",
       "      dtype='object')"
      ]
     },
     "execution_count": 75,
     "metadata": {},
     "output_type": "execute_result"
    }
   ],
   "source": [
    "df.columns"
   ]
  },
  {
   "cell_type": "code",
   "execution_count": 76,
   "metadata": {
    "ExecuteTime": {
     "end_time": "2020-07-02T06:20:22.477490Z",
     "start_time": "2020-07-02T06:20:22.371929Z"
    }
   },
   "outputs": [],
   "source": [
    "df = df.drop(\"Unnamed: 0\",axis=1)"
   ]
  },
  {
   "cell_type": "code",
   "execution_count": 77,
   "metadata": {
    "ExecuteTime": {
     "end_time": "2020-07-02T06:20:22.587197Z",
     "start_time": "2020-07-02T06:20:22.484474Z"
    }
   },
   "outputs": [],
   "source": [
    "X = df.drop(\"class\",axis=1)"
   ]
  },
  {
   "cell_type": "code",
   "execution_count": 78,
   "metadata": {
    "ExecuteTime": {
     "end_time": "2020-07-02T06:20:22.755747Z",
     "start_time": "2020-07-02T06:20:22.596175Z"
    },
    "collapsed": true
   },
   "outputs": [
    {
     "data": {
      "text/html": [
       "<div>\n",
       "<style scoped>\n",
       "    .dataframe tbody tr th:only-of-type {\n",
       "        vertical-align: middle;\n",
       "    }\n",
       "\n",
       "    .dataframe tbody tr th {\n",
       "        vertical-align: top;\n",
       "    }\n",
       "\n",
       "    .dataframe thead th {\n",
       "        text-align: right;\n",
       "    }\n",
       "</style>\n",
       "<table border=\"1\" class=\"dataframe\">\n",
       "  <thead>\n",
       "    <tr style=\"text-align: right;\">\n",
       "      <th></th>\n",
       "      <th>preg</th>\n",
       "      <th>plas</th>\n",
       "      <th>pres</th>\n",
       "      <th>skin</th>\n",
       "      <th>test</th>\n",
       "      <th>mass</th>\n",
       "      <th>pedi</th>\n",
       "      <th>age</th>\n",
       "    </tr>\n",
       "  </thead>\n",
       "  <tbody>\n",
       "    <tr>\n",
       "      <th>0</th>\n",
       "      <td>6</td>\n",
       "      <td>148</td>\n",
       "      <td>72</td>\n",
       "      <td>35</td>\n",
       "      <td>0</td>\n",
       "      <td>33.6</td>\n",
       "      <td>0.627</td>\n",
       "      <td>50</td>\n",
       "    </tr>\n",
       "    <tr>\n",
       "      <th>1</th>\n",
       "      <td>1</td>\n",
       "      <td>85</td>\n",
       "      <td>66</td>\n",
       "      <td>29</td>\n",
       "      <td>0</td>\n",
       "      <td>26.6</td>\n",
       "      <td>0.351</td>\n",
       "      <td>31</td>\n",
       "    </tr>\n",
       "    <tr>\n",
       "      <th>2</th>\n",
       "      <td>8</td>\n",
       "      <td>183</td>\n",
       "      <td>64</td>\n",
       "      <td>0</td>\n",
       "      <td>0</td>\n",
       "      <td>23.3</td>\n",
       "      <td>0.672</td>\n",
       "      <td>32</td>\n",
       "    </tr>\n",
       "    <tr>\n",
       "      <th>3</th>\n",
       "      <td>1</td>\n",
       "      <td>89</td>\n",
       "      <td>66</td>\n",
       "      <td>23</td>\n",
       "      <td>94</td>\n",
       "      <td>28.1</td>\n",
       "      <td>0.167</td>\n",
       "      <td>21</td>\n",
       "    </tr>\n",
       "    <tr>\n",
       "      <th>4</th>\n",
       "      <td>0</td>\n",
       "      <td>137</td>\n",
       "      <td>40</td>\n",
       "      <td>35</td>\n",
       "      <td>168</td>\n",
       "      <td>43.1</td>\n",
       "      <td>2.288</td>\n",
       "      <td>33</td>\n",
       "    </tr>\n",
       "    <tr>\n",
       "      <th>...</th>\n",
       "      <td>...</td>\n",
       "      <td>...</td>\n",
       "      <td>...</td>\n",
       "      <td>...</td>\n",
       "      <td>...</td>\n",
       "      <td>...</td>\n",
       "      <td>...</td>\n",
       "      <td>...</td>\n",
       "    </tr>\n",
       "    <tr>\n",
       "      <th>763</th>\n",
       "      <td>10</td>\n",
       "      <td>101</td>\n",
       "      <td>76</td>\n",
       "      <td>48</td>\n",
       "      <td>180</td>\n",
       "      <td>32.9</td>\n",
       "      <td>0.171</td>\n",
       "      <td>63</td>\n",
       "    </tr>\n",
       "    <tr>\n",
       "      <th>764</th>\n",
       "      <td>2</td>\n",
       "      <td>122</td>\n",
       "      <td>70</td>\n",
       "      <td>27</td>\n",
       "      <td>0</td>\n",
       "      <td>36.8</td>\n",
       "      <td>0.340</td>\n",
       "      <td>27</td>\n",
       "    </tr>\n",
       "    <tr>\n",
       "      <th>765</th>\n",
       "      <td>5</td>\n",
       "      <td>121</td>\n",
       "      <td>72</td>\n",
       "      <td>23</td>\n",
       "      <td>112</td>\n",
       "      <td>26.2</td>\n",
       "      <td>0.245</td>\n",
       "      <td>30</td>\n",
       "    </tr>\n",
       "    <tr>\n",
       "      <th>766</th>\n",
       "      <td>1</td>\n",
       "      <td>126</td>\n",
       "      <td>60</td>\n",
       "      <td>0</td>\n",
       "      <td>0</td>\n",
       "      <td>30.1</td>\n",
       "      <td>0.349</td>\n",
       "      <td>47</td>\n",
       "    </tr>\n",
       "    <tr>\n",
       "      <th>767</th>\n",
       "      <td>1</td>\n",
       "      <td>93</td>\n",
       "      <td>70</td>\n",
       "      <td>31</td>\n",
       "      <td>0</td>\n",
       "      <td>30.4</td>\n",
       "      <td>0.315</td>\n",
       "      <td>23</td>\n",
       "    </tr>\n",
       "  </tbody>\n",
       "</table>\n",
       "<p>768 rows × 8 columns</p>\n",
       "</div>"
      ],
      "text/plain": [
       "     preg  plas  pres  skin  test  mass   pedi  age\n",
       "0       6   148    72    35     0  33.6  0.627   50\n",
       "1       1    85    66    29     0  26.6  0.351   31\n",
       "2       8   183    64     0     0  23.3  0.672   32\n",
       "3       1    89    66    23    94  28.1  0.167   21\n",
       "4       0   137    40    35   168  43.1  2.288   33\n",
       "..    ...   ...   ...   ...   ...   ...    ...  ...\n",
       "763    10   101    76    48   180  32.9  0.171   63\n",
       "764     2   122    70    27     0  36.8  0.340   27\n",
       "765     5   121    72    23   112  26.2  0.245   30\n",
       "766     1   126    60     0     0  30.1  0.349   47\n",
       "767     1    93    70    31     0  30.4  0.315   23\n",
       "\n",
       "[768 rows x 8 columns]"
      ]
     },
     "execution_count": 78,
     "metadata": {},
     "output_type": "execute_result"
    }
   ],
   "source": [
    "X"
   ]
  },
  {
   "cell_type": "code",
   "execution_count": 79,
   "metadata": {
    "ExecuteTime": {
     "end_time": "2020-07-02T06:20:22.863525Z",
     "start_time": "2020-07-02T06:20:22.760735Z"
    }
   },
   "outputs": [],
   "source": [
    "import seaborn as sns"
   ]
  },
  {
   "cell_type": "code",
   "execution_count": 80,
   "metadata": {
    "ExecuteTime": {
     "end_time": "2020-07-02T06:20:23.636208Z",
     "start_time": "2020-07-02T06:20:22.867515Z"
    }
   },
   "outputs": [
    {
     "data": {
      "text/plain": [
       "<matplotlib.axes._subplots.AxesSubplot at 0x17063dc6388>"
      ]
     },
     "execution_count": 80,
     "metadata": {},
     "output_type": "execute_result"
    },
    {
     "data": {
      "image/png": "[encoded data removed]",
      "text/plain": [
       "<Figure size 432x288 with 1 Axes>"
      ]
     },
     "metadata": {},
     "output_type": "display_data"
    }
   ],
   "source": [
    "sns.set_style(\"whitegrid\",{'axes.grid':False})\n",
    "sns.distplot(X.age)"
   ]
  },
  {
   "cell_type": "code",
   "execution_count": 81,
   "metadata": {
    "ExecuteTime": {
     "end_time": "2020-07-02T06:20:23.651169Z",
     "start_time": "2020-07-02T06:20:23.639202Z"
    }
   },
   "outputs": [],
   "source": [
    "from sklearn.preprocessing import MinMaxScaler"
   ]
  },
  {
   "cell_type": "code",
   "execution_count": 82,
   "metadata": {
    "ExecuteTime": {
     "end_time": "2020-07-02T06:20:23.809326Z",
     "start_time": "2020-07-02T06:20:23.655158Z"
    }
   },
   "outputs": [],
   "source": [
    "scaler = MinMaxScaler(feature_range=(0,1))"
   ]
  },
  {
   "cell_type": "code",
   "execution_count": 83,
   "metadata": {
    "ExecuteTime": {
     "end_time": "2020-07-02T06:20:23.916774Z",
     "start_time": "2020-07-02T06:20:23.814310Z"
    }
   },
   "outputs": [
    {
     "data": {
      "text/plain": [
       "MinMaxScaler(copy=True, feature_range=(0, 1))"
      ]
     },
     "execution_count": 83,
     "metadata": {},
     "output_type": "execute_result"
    }
   ],
   "source": [
    "scaler"
   ]
  },
  {
   "cell_type": "code",
   "execution_count": 84,
   "metadata": {
    "ExecuteTime": {
     "end_time": "2020-07-02T06:20:24.167849Z",
     "start_time": "2020-07-02T06:20:23.922754Z"
    }
   },
   "outputs": [],
   "source": [
    "rescaledX = scaler.fit_transform(X)"
   ]
  },
  {
   "cell_type": "code",
   "execution_count": 85,
   "metadata": {
    "ExecuteTime": {
     "end_time": "2020-07-02T06:20:24.355402Z",
     "start_time": "2020-07-02T06:20:24.170843Z"
    },
    "collapsed": true
   },
   "outputs": [
    {
     "data": {
      "text/plain": [
       "array([[0.35294118, 0.74371859, 0.59016393, ..., 0.50074516, 0.23441503,\n",
       "        0.48333333],\n",
       "       [0.05882353, 0.42713568, 0.54098361, ..., 0.39642325, 0.11656704,\n",
       "        0.16666667],\n",
       "       [0.47058824, 0.91959799, 0.52459016, ..., 0.34724292, 0.25362938,\n",
       "        0.18333333],\n",
       "       ...,\n",
       "       [0.29411765, 0.6080402 , 0.59016393, ..., 0.390462  , 0.07130658,\n",
       "        0.15      ],\n",
       "       [0.05882353, 0.63316583, 0.49180328, ..., 0.4485842 , 0.11571307,\n",
       "        0.43333333],\n",
       "       [0.05882353, 0.46733668, 0.57377049, ..., 0.45305514, 0.10119556,\n",
       "        0.03333333]])"
      ]
     },
     "execution_count": 85,
     "metadata": {},
     "output_type": "execute_result"
    }
   ],
   "source": [
    "rescaledX"
   ]
  },
  {
   "cell_type": "code",
   "execution_count": 86,
   "metadata": {
    "ExecuteTime": {
     "end_time": "2020-07-02T06:20:24.449227Z",
     "start_time": "2020-07-02T06:20:24.359391Z"
    }
   },
   "outputs": [],
   "source": [
    "scaledage = rescaledX[:,7]"
   ]
  },
  {
   "cell_type": "code",
   "execution_count": 87,
   "metadata": {
    "ExecuteTime": {
     "end_time": "2020-07-02T06:20:24.573123Z",
     "start_time": "2020-07-02T06:20:24.452210Z"
    },
    "collapsed": true
   },
   "outputs": [
    {
     "data": {
      "text/plain": [
       "array([0.48333333, 0.16666667, 0.18333333, 0.        , 0.2       ,\n",
       "       0.15      , 0.08333333, 0.13333333, 0.53333333, 0.55      ,\n",
       "       0.15      , 0.21666667, 0.6       , 0.63333333, 0.5       ,\n",
       "       0.18333333, 0.16666667, 0.16666667, 0.2       , 0.18333333,\n",
       "       0.1       , 0.48333333, 0.33333333, 0.13333333, 0.5       ,\n",
       "       0.33333333, 0.36666667, 0.01666667, 0.6       , 0.28333333,\n",
       "       0.65      , 0.11666667, 0.01666667, 0.11666667, 0.4       ,\n",
       "       0.2       , 0.23333333, 0.41666667, 0.1       , 0.58333333,\n",
       "       0.08333333, 0.26666667, 0.45      , 0.55      , 0.31666667,\n",
       "       0.06666667, 0.13333333, 0.01666667, 0.16666667, 0.05      ,\n",
       "       0.01666667, 0.08333333, 0.15      , 0.61666667, 0.35      ,\n",
       "       0.        , 0.33333333, 0.16666667, 0.38333333, 0.01666667,\n",
       "       0.        , 0.3       , 0.25      , 0.05      , 0.35      ,\n",
       "       0.18333333, 0.28333333, 0.55      , 0.06666667, 0.1       ,\n",
       "       0.11666667, 0.08333333, 0.35      , 0.03333333, 0.01666667,\n",
       "       0.01666667, 0.33333333, 0.1       , 0.08333333, 0.05      ,\n",
       "       0.01666667, 0.01666667, 0.25      , 0.01666667, 0.26666667,\n",
       "       0.1       , 0.4       , 0.08333333, 0.36666667, 0.05      ,\n",
       "       0.        , 0.21666667, 0.35      , 0.65      , 0.        ,\n",
       "       0.31666667, 0.05      , 0.01666667, 0.03333333, 0.16666667,\n",
       "       0.2       , 0.01666667, 0.        , 0.05      , 0.1       ,\n",
       "       0.        , 0.1       , 0.26666667, 0.06666667, 0.05      ,\n",
       "       0.05      , 0.41666667, 0.03333333, 0.06666667, 0.3       ,\n",
       "       0.66666667, 0.28333333, 0.06666667, 0.01666667, 0.        ,\n",
       "       0.06666667, 0.05      , 0.03333333, 0.8       , 0.03333333,\n",
       "       0.08333333, 0.15      , 0.03333333, 0.31666667, 0.68333333,\n",
       "       0.2       , 0.2       , 0.15      , 0.3       , 0.08333333,\n",
       "       0.16666667, 0.        , 0.01666667, 0.13333333, 0.11666667,\n",
       "       0.56666667, 0.28333333, 0.01666667, 0.35      , 0.03333333,\n",
       "       0.        , 0.33333333, 0.21666667, 0.73333333, 0.01666667,\n",
       "       0.05      , 0.26666667, 0.35      , 0.03333333, 0.36666667,\n",
       "       0.25      , 0.        , 0.03333333, 0.01666667, 0.43333333,\n",
       "       0.25      , 0.4       , 0.1       , 0.        , 0.18333333,\n",
       "       0.33333333, 0.01666667, 0.21666667, 0.13333333, 0.13333333,\n",
       "       0.25      , 0.13333333, 0.06666667, 0.03333333, 0.2       ,\n",
       "       0.25      , 0.35      , 0.08333333, 0.43333333, 0.26666667,\n",
       "       0.18333333, 0.03333333, 0.        , 0.1       , 0.31666667,\n",
       "       0.33333333, 0.65      , 0.2       , 0.16666667, 0.06666667,\n",
       "       0.        , 0.31666667, 0.25      , 0.31666667, 0.35      ,\n",
       "       0.13333333, 0.        , 0.03333333, 0.08333333, 0.13333333,\n",
       "       0.        , 0.11666667, 0.18333333, 0.1       , 0.56666667,\n",
       "       0.1       , 0.6       , 0.51666667, 0.        , 0.33333333,\n",
       "       0.06666667, 0.05      , 0.65      , 0.05      , 0.25      ,\n",
       "       0.28333333, 0.06666667, 0.18333333, 0.18333333, 0.33333333,\n",
       "       0.        , 0.75      , 0.26666667, 0.66666667, 0.08333333,\n",
       "       0.01666667, 0.08333333, 0.05      , 0.16666667, 0.05      ,\n",
       "       0.01666667, 0.41666667, 0.01666667, 0.13333333, 0.03333333,\n",
       "       0.08333333, 0.5       , 0.03333333, 0.18333333, 0.1       ,\n",
       "       0.        , 0.01666667, 0.01666667, 0.2       , 0.13333333,\n",
       "       0.46666667, 0.33333333, 0.03333333, 0.21666667, 0.03333333,\n",
       "       0.35      , 0.1       , 0.05      , 0.06666667, 0.38333333,\n",
       "       0.        , 0.15      , 0.06666667, 0.05      , 0.5       ,\n",
       "       0.21666667, 0.1       , 0.05      , 0.7       , 0.23333333,\n",
       "       0.36666667, 0.06666667, 0.05      , 0.        , 0.11666667,\n",
       "       0.28333333, 0.        , 0.31666667, 0.        , 0.51666667,\n",
       "       0.06666667, 0.13333333, 0.03333333, 0.6       , 0.01666667,\n",
       "       0.11666667, 0.3       , 0.26666667, 0.43333333, 0.51666667,\n",
       "       0.5       , 0.21666667, 0.13333333, 0.08333333, 0.2       ,\n",
       "       0.        , 0.06666667, 0.16666667, 0.05      , 0.73333333,\n",
       "       0.11666667, 0.13333333, 0.05      , 0.41666667, 0.61666667,\n",
       "       0.15      , 0.06666667, 0.23333333, 0.11666667, 0.26666667,\n",
       "       0.13333333, 0.43333333, 0.        , 0.06666667, 0.15      ,\n",
       "       0.33333333, 0.01666667, 0.1       , 0.06666667, 0.36666667,\n",
       "       0.08333333, 0.15      , 0.13333333, 0.11666667, 0.63333333,\n",
       "       0.16666667, 0.06666667, 0.25      , 0.36666667, 0.        ,\n",
       "       0.05      , 0.15      , 0.26666667, 0.03333333, 0.26666667,\n",
       "       0.41666667, 0.06666667, 0.33333333, 0.38333333, 0.01666667,\n",
       "       0.08333333, 0.38333333, 0.38333333, 0.2       , 0.33333333,\n",
       "       0.01666667, 0.25      , 0.01666667, 0.2       , 0.6       ,\n",
       "       0.46666667, 0.01666667, 0.03333333, 0.08333333, 0.26666667,\n",
       "       0.13333333, 0.15      , 0.41666667, 0.05      , 0.        ,\n",
       "       0.46666667, 0.11666667, 0.38333333, 0.45      , 0.13333333,\n",
       "       0.13333333, 0.7       , 0.73333333, 0.76666667, 0.15      ,\n",
       "       0.15      , 0.13333333, 0.        , 0.01666667, 0.4       ,\n",
       "       0.06666667, 0.        , 0.        , 0.06666667, 0.11666667,\n",
       "       0.61666667, 0.01666667, 0.01666667, 0.18333333, 0.23333333,\n",
       "       0.05      , 0.01666667, 0.        , 0.06666667, 0.06666667,\n",
       "       0.05      , 0.23333333, 0.4       , 0.61666667, 0.11666667,\n",
       "       0.35      , 0.1       , 0.        , 0.26666667, 0.16666667,\n",
       "       0.06666667, 0.3       , 0.01666667, 0.06666667, 0.06666667,\n",
       "       0.16666667, 0.56666667, 0.23333333, 0.28333333, 0.33333333,\n",
       "       0.08333333, 0.41666667, 0.06666667, 0.3       , 0.11666667,\n",
       "       0.11666667, 0.06666667, 0.01666667, 0.        , 0.        ,\n",
       "       0.01666667, 0.01666667, 0.26666667, 0.1       , 0.11666667,\n",
       "       0.08333333, 0.        , 0.        , 0.        , 0.25      ,\n",
       "       0.16666667, 0.06666667, 0.28333333, 0.08333333, 0.36666667,\n",
       "       0.03333333, 0.28333333, 0.01666667, 0.13333333, 0.25      ,\n",
       "       0.13333333, 0.33333333, 0.11666667, 0.        , 0.16666667,\n",
       "       0.33333333, 0.01666667, 0.05      , 0.2       , 0.15      ,\n",
       "       0.06666667, 0.11666667, 0.08333333, 0.01666667, 0.08333333,\n",
       "       0.03333333, 0.03333333, 0.06666667, 0.85      , 0.05      ,\n",
       "       0.28333333, 0.68333333, 0.05      , 0.5       , 1.        ,\n",
       "       0.45      , 0.08333333, 0.3       , 0.26666667, 0.21666667,\n",
       "       0.        , 0.01666667, 0.06666667, 0.28333333, 0.1       ,\n",
       "       0.11666667, 0.01666667, 0.01666667, 0.48333333, 0.05      ,\n",
       "       0.63333333, 0.13333333, 0.16666667, 0.3       , 0.7       ,\n",
       "       0.23333333, 0.13333333, 0.11666667, 0.03333333, 0.16666667,\n",
       "       0.05      , 0.        , 0.61666667, 0.11666667, 0.76666667,\n",
       "       0.05      , 0.35      , 0.2       , 0.4       , 0.01666667,\n",
       "       0.75      , 0.15      , 0.06666667, 0.56666667, 0.3       ,\n",
       "       0.        , 0.11666667, 0.33333333, 0.33333333, 0.31666667,\n",
       "       0.28333333, 0.23333333, 0.        , 0.        , 0.71666667,\n",
       "       0.41666667, 0.        , 0.61666667, 0.01666667, 0.05      ,\n",
       "       0.11666667, 0.53333333, 0.5       , 0.33333333, 0.65      ,\n",
       "       0.06666667, 0.08333333, 0.08333333, 0.4       , 0.05      ,\n",
       "       0.        , 0.        , 0.05      , 0.01666667, 0.16666667,\n",
       "       0.01666667, 0.05      , 0.13333333, 0.16666667, 0.05      ,\n",
       "       0.03333333, 0.41666667, 0.76666667, 0.03333333, 0.18333333,\n",
       "       0.36666667, 0.1       , 0.58333333, 0.06666667, 0.13333333,\n",
       "       0.26666667, 0.53333333, 0.11666667, 0.48333333, 0.26666667,\n",
       "       0.        , 0.06666667, 0.75      , 0.03333333, 0.11666667,\n",
       "       0.26666667, 0.15      , 0.61666667, 0.35      , 0.23333333,\n",
       "       0.55      , 0.11666667, 0.05      , 0.18333333, 0.1       ,\n",
       "       0.01666667, 0.        , 0.41666667, 0.26666667, 0.2       ,\n",
       "       0.3       , 0.        , 0.01666667, 0.01666667, 0.03333333,\n",
       "       0.06666667, 0.23333333, 0.        , 0.25      , 0.68333333,\n",
       "       0.        , 0.1       , 0.68333333, 0.35      , 0.51666667,\n",
       "       0.01666667, 0.33333333, 0.13333333, 0.51666667, 0.06666667,\n",
       "       0.4       , 0.05      , 0.38333333, 0.06666667, 0.21666667,\n",
       "       0.01666667, 0.41666667, 0.        , 0.28333333, 0.08333333,\n",
       "       0.05      , 0.11666667, 0.15      , 0.55      , 0.25      ,\n",
       "       0.        , 0.01666667, 0.06666667, 0.1       , 0.03333333,\n",
       "       0.05      , 0.25      , 0.31666667, 0.08333333, 0.48333333,\n",
       "       0.1       , 0.15      , 0.03333333, 0.48333333, 0.05      ,\n",
       "       0.11666667, 0.11666667, 0.4       , 0.        , 0.        ,\n",
       "       0.13333333, 0.        , 0.        , 0.4       , 0.        ,\n",
       "       0.21666667, 0.05      , 0.03333333, 0.01666667, 0.16666667,\n",
       "       0.28333333, 0.45      , 0.03333333, 0.18333333, 0.11666667,\n",
       "       0.1       , 0.05      , 0.48333333, 0.16666667, 0.1       ,\n",
       "       0.15      , 0.2       , 0.01666667, 0.35      , 0.03333333,\n",
       "       0.03333333, 0.1       , 0.11666667, 0.1       , 0.01666667,\n",
       "       0.06666667, 0.01666667, 0.33333333, 0.5       , 0.1       ,\n",
       "       0.55      , 0.01666667, 0.36666667, 0.31666667, 0.31666667,\n",
       "       0.05      , 0.81666667, 0.31666667, 0.36666667, 0.4       ,\n",
       "       0.46666667, 0.        , 0.43333333, 0.01666667, 0.78333333,\n",
       "       0.16666667, 0.53333333, 0.06666667, 0.06666667, 0.03333333,\n",
       "       0.01666667, 0.08333333, 0.01666667, 0.1       , 0.8       ,\n",
       "       0.06666667, 0.01666667, 0.13333333, 0.03333333, 0.41666667,\n",
       "       0.21666667, 0.38333333, 0.03333333, 0.36666667, 0.06666667,\n",
       "       0.36666667, 0.16666667, 0.01666667, 0.11666667, 0.08333333,\n",
       "       0.08333333, 0.46666667, 0.51666667, 0.33333333, 0.1       ,\n",
       "       0.11666667, 0.15      , 0.01666667, 0.4       , 0.03333333,\n",
       "       0.05      , 0.31666667, 0.28333333, 0.        , 0.18333333,\n",
       "       0.21666667, 0.16666667, 0.58333333, 0.05      , 0.51666667,\n",
       "       0.21666667, 0.        , 0.35      , 0.35      , 0.4       ,\n",
       "       0.28333333, 0.06666667, 0.01666667, 0.01666667, 0.01666667,\n",
       "       0.21666667, 0.01666667, 0.05      , 0.01666667, 0.53333333,\n",
       "       0.11666667, 0.        , 0.35      , 0.        , 0.35      ,\n",
       "       0.45      , 0.08333333, 0.01666667, 0.4       , 0.3       ,\n",
       "       0.41666667, 0.1       , 0.18333333, 0.25      , 0.48333333,\n",
       "       0.01666667, 0.11666667, 0.06666667, 0.08333333, 0.4       ,\n",
       "       0.26666667, 0.3       , 0.51666667, 0.08333333, 0.75      ,\n",
       "       0.01666667, 0.36666667, 0.2       , 0.7       , 0.1       ,\n",
       "       0.15      , 0.43333333, 0.03333333])"
      ]
     },
     "execution_count": 87,
     "metadata": {},
     "output_type": "execute_result"
    }
   ],
   "source": [
    "scaledage"
   ]
  },
  {
   "cell_type": "code",
   "execution_count": 93,
   "metadata": {
    "ExecuteTime": {
     "end_time": "2020-07-02T06:23:24.666598Z",
     "start_time": "2020-07-02T06:23:23.919941Z"
    }
   },
   "outputs": [
    {
     "data": {
      "text/plain": [
       "<matplotlib.axes._subplots.AxesSubplot at 0x17063b68c08>"
      ]
     },
     "execution_count": 93,
     "metadata": {},
     "output_type": "execute_result"
    },
    {
     "data": {
      "image/png": "[encoded data removed]",
      "text/plain": [
       "<Figure size 432x288 with 1 Axes>"
      ]
     },
     "metadata": {},
     "output_type": "display_data"
    }
   ],
   "source": [
    "sns.set_style(\"whitegrid\",{'axes.grid':False})\n",
    "sns.distplot(scaledage)"
   ]
  },
  {
   "cell_type": "code",
   "execution_count": 89,
   "metadata": {
    "ExecuteTime": {
     "end_time": "2020-07-02T06:20:25.768916Z",
     "start_time": "2020-07-02T06:20:25.744980Z"
    }
   },
   "outputs": [],
   "source": [
    "# import matplotlib.pyplot as plt\n",
    "# import seaborn as sns\n",
    "# # plt.rcParams[\"axes.grid\"] = False\n",
    "# # plt.rcParams['axes.facecolor'] = 'none'\n",
    "# sns.set_style(\"whitegrid\",{'axes.grid':False})\n",
    "# fig,(ax1,ax2) = plt.subplots(1,2)\n",
    "# fig.set_size_inches(20,5)\n",
    "# sns.distplot(X.age,ax= ax1)\n",
    "# sns.distplot(scaledage,ax=ax2)\n",
    "# sns.set(font_scale=1.2)"
   ]
  },
  {
   "cell_type": "code",
   "execution_count": 95,
   "metadata": {
    "ExecuteTime": {
     "end_time": "2020-07-02T06:26:23.031187Z",
     "start_time": "2020-07-02T06:26:23.017768Z"
    }
   },
   "outputs": [],
   "source": [
    "from sklearn.preprocessing import StandardScaler"
   ]
  },
  {
   "cell_type": "code",
   "execution_count": 96,
   "metadata": {
    "ExecuteTime": {
     "end_time": "2020-07-02T06:26:41.308503Z",
     "start_time": "2020-07-02T06:26:41.298255Z"
    }
   },
   "outputs": [],
   "source": [
    "ssmodel = StandardScaler()"
   ]
  },
  {
   "cell_type": "code",
   "execution_count": 98,
   "metadata": {
    "ExecuteTime": {
     "end_time": "2020-07-02T06:27:32.649385Z",
     "start_time": "2020-07-02T06:27:32.632893Z"
    }
   },
   "outputs": [
    {
     "data": {
      "text/plain": [
       "array([[ 0.63994726,  0.84832379,  0.14964075, ...,  0.20401277,\n",
       "         0.46849198,  1.4259954 ],\n",
       "       [-0.84488505, -1.12339636, -0.16054575, ..., -0.68442195,\n",
       "        -0.36506078, -0.19067191],\n",
       "       [ 1.23388019,  1.94372388, -0.26394125, ..., -1.10325546,\n",
       "         0.60439732, -0.10558415],\n",
       "       ...,\n",
       "       [ 0.3429808 ,  0.00330087,  0.14964075, ..., -0.73518964,\n",
       "        -0.68519336, -0.27575966],\n",
       "       [-0.84488505,  0.1597866 , -0.47073225, ..., -0.24020459,\n",
       "        -0.37110101,  1.17073215],\n",
       "       [-0.84488505, -0.8730192 ,  0.04624525, ..., -0.20212881,\n",
       "        -0.47378505, -0.87137393]])"
      ]
     },
     "execution_count": 98,
     "metadata": {},
     "output_type": "execute_result"
    }
   ],
   "source": [
    "ssmodel.fit_transform(X)"
   ]
  },
  {
   "cell_type": "markdown",
   "metadata": {},
   "source": [
    "# NORMALIZATION"
   ]
  },
  {
   "cell_type": "code",
   "execution_count": 99,
   "metadata": {
    "ExecuteTime": {
     "end_time": "2020-07-02T06:28:58.592592Z",
     "start_time": "2020-07-02T06:28:58.582581Z"
    }
   },
   "outputs": [],
   "source": [
    "from sklearn.preprocessing import Normalizer"
   ]
  },
  {
   "cell_type": "code",
   "execution_count": 101,
   "metadata": {
    "ExecuteTime": {
     "end_time": "2020-07-02T06:29:38.242326Z",
     "start_time": "2020-07-02T06:29:38.222336Z"
    }
   },
   "outputs": [],
   "source": [
    "normal = Normalizer()"
   ]
  },
  {
   "cell_type": "code",
   "execution_count": 103,
   "metadata": {
    "ExecuteTime": {
     "end_time": "2020-07-02T06:30:12.691778Z",
     "start_time": "2020-07-02T06:30:12.671779Z"
    }
   },
   "outputs": [],
   "source": [
    "normalized = normal.fit_transform(X)"
   ]
  },
  {
   "cell_type": "code",
   "execution_count": 106,
   "metadata": {
    "ExecuteTime": {
     "end_time": "2020-07-02T06:32:30.394649Z",
     "start_time": "2020-07-02T06:32:29.924004Z"
    }
   },
   "outputs": [
    {
     "data": {
      "text/plain": [
       "<matplotlib.axes._subplots.AxesSubplot at 0x170688e4608>"
      ]
     },
     "execution_count": 106,
     "metadata": {},
     "output_type": "execute_result"
    },
    {
     "data": {
      "image/png": "[encoded data removed]",
      "text/plain": [
       "<Figure size 432x288 with 1 Axes>"
      ]
     },
     "metadata": {},
     "output_type": "display_data"
    }
   ],
   "source": [
    "sns.distplot(normalized[:,7])"
   ]
  },
  {
   "cell_type": "code",
   "execution_count": 107,
   "metadata": {
    "ExecuteTime": {
     "end_time": "2020-07-02T06:33:46.482920Z",
     "start_time": "2020-07-02T06:33:46.470918Z"
    }
   },
   "outputs": [],
   "source": [
    "from sklearn.preprocessing import Binarizer"
   ]
  },
  {
   "cell_type": "code",
   "execution_count": 109,
   "metadata": {
    "ExecuteTime": {
     "end_time": "2020-07-02T06:34:37.910523Z",
     "start_time": "2020-07-02T06:34:37.902715Z"
    }
   },
   "outputs": [],
   "source": [
    "binary = Binarizer(threshold=0.0)"
   ]
  },
  {
   "cell_type": "code",
   "execution_count": 115,
   "metadata": {
    "ExecuteTime": {
     "end_time": "2020-07-02T06:38:48.957679Z",
     "start_time": "2020-07-02T06:38:48.940093Z"
    }
   },
   "outputs": [
    {
     "data": {
      "text/plain": [
       "array([[1., 1., 1., ..., 1., 1., 1.],\n",
       "       [1., 1., 1., ..., 1., 1., 1.],\n",
       "       [1., 1., 1., ..., 1., 1., 1.],\n",
       "       ...,\n",
       "       [1., 1., 1., ..., 1., 1., 1.],\n",
       "       [1., 1., 1., ..., 1., 1., 1.],\n",
       "       [1., 1., 1., ..., 1., 1., 1.]])"
      ]
     },
     "execution_count": 115,
     "metadata": {},
     "output_type": "execute_result"
    }
   ],
   "source": [
    "binarized =  binary.fit_transform(X)\n",
    "binarized"
   ]
  },
  {
   "cell_type": "code",
   "execution_count": 121,
   "metadata": {
    "ExecuteTime": {
     "end_time": "2020-07-02T06:42:42.660633Z",
     "start_time": "2020-07-02T06:42:42.648328Z"
    }
   },
   "outputs": [
    {
     "name": "stdout",
     "output_type": "stream",
     "text": [
      "[[1. 1. 1. 1. 0. 1. 1. 1.]\n",
      " [1. 1. 1. 1. 0. 1. 1. 1.]\n",
      " [1. 1. 1. 0. 0. 1. 1. 1.]\n",
      " [1. 1. 1. 1. 1. 1. 1. 1.]\n",
      " [0. 1. 1. 1. 1. 1. 1. 1.]]\n"
     ]
    }
   ],
   "source": [
    "import numpy as np\n",
    "np.set_printoptions(precision=3)\n",
    "print(binarized[0:5,:])"
   ]
  },
  {
   "cell_type": "code",
   "execution_count": null,
   "metadata": {},
   "outputs": [],
   "source": []
  }
 ],
 "metadata": {
  "kernelspec": {
   "display_name": "Python 3",
   "language": "python",
   "name": "python3"
  },
  "language_info": {
   "codemirror_mode": {
    "name": "ipython",
    "version": 3
   },
   "file_extension": ".py",
   "mimetype": "text/x-python",
   "name": "python",
   "nbconvert_exporter": "python",
   "pygments_lexer": "ipython3",
   "version": "3.7.6"
  }
 },
 "nbformat": 4,
 "nbformat_minor": 4
}
