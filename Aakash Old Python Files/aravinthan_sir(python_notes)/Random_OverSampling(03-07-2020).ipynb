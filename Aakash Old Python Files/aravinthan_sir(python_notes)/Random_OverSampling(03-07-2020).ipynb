{
 "cells": [
  {
   "cell_type": "code",
   "execution_count": 1,
   "metadata": {
    "ExecuteTime": {
     "end_time": "2020-07-06T06:12:51.497056Z",
     "start_time": "2020-07-06T06:12:50.882537Z"
    }
   },
   "outputs": [],
   "source": [
    "import pandas as pd"
   ]
  },
  {
   "cell_type": "code",
   "execution_count": 2,
   "metadata": {
    "ExecuteTime": {
     "end_time": "2020-07-06T06:12:51.663736Z",
     "start_time": "2020-07-06T06:12:51.646909Z"
    }
   },
   "outputs": [],
   "source": [
    "df = pd.read_csv(\"glass3.csv\")"
   ]
  },
  {
   "cell_type": "code",
   "execution_count": 3,
   "metadata": {
    "ExecuteTime": {
     "end_time": "2020-07-06T06:12:52.838813Z",
     "start_time": "2020-07-06T06:12:52.798997Z"
    }
   },
   "outputs": [
    {
     "data": {
      "text/plain": [
       "Index(['v1', 'v2', 'v3', 'v4', 'v5', 'v6', 'v7', 'v8', 'v9', 'class'], dtype='object')"
      ]
     },
     "execution_count": 3,
     "metadata": {},
     "output_type": "execute_result"
    }
   ],
   "source": [
    "df.columns"
   ]
  },
  {
   "cell_type": "code",
   "execution_count": 8,
   "metadata": {
    "ExecuteTime": {
     "end_time": "2020-07-06T06:14:00.736172Z",
     "start_time": "2020-07-06T06:14:00.727915Z"
    }
   },
   "outputs": [],
   "source": [
    "# df[\"class\"].value_counts()"
   ]
  },
  {
   "cell_type": "code",
   "execution_count": 17,
   "metadata": {
    "ExecuteTime": {
     "end_time": "2020-07-03T05:32:22.659653Z",
     "start_time": "2020-07-03T05:32:22.602625Z"
    }
   },
   "outputs": [],
   "source": [
    "X = df.values[:,0:9]\n",
    "y = df.values[:,9]"
   ]
  },
  {
   "cell_type": "code",
   "execution_count": 18,
   "metadata": {
    "ExecuteTime": {
     "end_time": "2020-07-03T05:32:22.752876Z",
     "start_time": "2020-07-03T05:32:22.669916Z"
    }
   },
   "outputs": [],
   "source": [
    "from collections import Counter"
   ]
  },
  {
   "cell_type": "code",
   "execution_count": 19,
   "metadata": {
    "ExecuteTime": {
     "end_time": "2020-07-03T05:32:22.814732Z",
     "start_time": "2020-07-03T05:32:22.754824Z"
    }
   },
   "outputs": [
    {
     "data": {
      "text/plain": [
       "dict_items([(0.0, 197), (1.0, 17)])"
      ]
     },
     "execution_count": 19,
     "metadata": {},
     "output_type": "execute_result"
    }
   ],
   "source": [
    "Counter(y).items()"
   ]
  },
  {
   "cell_type": "code",
   "execution_count": 20,
   "metadata": {
    "ExecuteTime": {
     "end_time": "2020-07-03T05:32:22.892078Z",
     "start_time": "2020-07-03T05:32:22.818724Z"
    }
   },
   "outputs": [],
   "source": [
    "from imblearn.over_sampling import RandomOverSampler"
   ]
  },
  {
   "cell_type": "code",
   "execution_count": 22,
   "metadata": {
    "ExecuteTime": {
     "end_time": "2020-07-03T05:32:37.761525Z",
     "start_time": "2020-07-03T05:32:37.746256Z"
    }
   },
   "outputs": [],
   "source": [
    "ros = RandomOverSampler()"
   ]
  },
  {
   "cell_type": "code",
   "execution_count": 23,
   "metadata": {
    "ExecuteTime": {
     "end_time": "2020-07-03T05:35:22.996941Z",
     "start_time": "2020-07-03T05:35:22.981021Z"
    }
   },
   "outputs": [],
   "source": [
    "X_resampled,y_resampled = ros.fit_resample(X,y)"
   ]
  },
  {
   "cell_type": "code",
   "execution_count": 24,
   "metadata": {
    "ExecuteTime": {
     "end_time": "2020-07-03T05:35:38.965880Z",
     "start_time": "2020-07-03T05:35:38.947321Z"
    }
   },
   "outputs": [
    {
     "data": {
      "text/plain": [
       "dict_items([(0.0, 197), (1.0, 197)])"
      ]
     },
     "execution_count": 24,
     "metadata": {},
     "output_type": "execute_result"
    }
   ],
   "source": [
    "Counter(y_resampled).items()"
   ]
  },
  {
   "cell_type": "code",
   "execution_count": null,
   "metadata": {},
   "outputs": [],
   "source": []
  }
 ],
 "metadata": {
  "kernelspec": {
   "display_name": "Python 3",
   "language": "python",
   "name": "python3"
  },
  "language_info": {
   "codemirror_mode": {
    "name": "ipython",
    "version": 3
   },
   "file_extension": ".py",
   "mimetype": "text/x-python",
   "name": "python",
   "nbconvert_exporter": "python",
   "pygments_lexer": "ipython3",
   "version": "3.7.6"
  }
 },
 "nbformat": 4,
 "nbformat_minor": 4
}
