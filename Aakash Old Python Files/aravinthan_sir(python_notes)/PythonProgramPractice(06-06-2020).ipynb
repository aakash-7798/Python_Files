{
 "cells": [
  {
   "cell_type": "markdown",
   "metadata": {},
   "source": [
    "\n",
    "# FILE HANDLING"
   ]
  },
  {
   "cell_type": "code",
   "execution_count": 26,
   "metadata": {},
   "outputs": [],
   "source": [
    "## File handling\n",
    "f = open(\"D:\\\\Files\\\\TextFiles\\\\bank.txt\")"
   ]
  },
  {
   "cell_type": "code",
   "execution_count": 27,
   "metadata": {},
   "outputs": [
    {
     "data": {
      "text/plain": [
       "<_io.TextIOWrapper name='D:\\\\Files\\\\TextFiles\\\\bank.txt' mode='r' encoding='cp1252'>"
      ]
     },
     "execution_count": 27,
     "metadata": {},
     "output_type": "execute_result"
    }
   ],
   "source": [
    "f"
   ]
  },
  {
   "cell_type": "code",
   "execution_count": 29,
   "metadata": {},
   "outputs": [],
   "source": [
    "## Reading file\n",
    "f.read()"
   ]
  },
  {
   "cell_type": "code",
   "execution_count": 31,
   "metadata": {},
   "outputs": [
    {
     "data": {
      "text/plain": [
       "''"
      ]
     },
     "execution_count": 31,
     "metadata": {},
     "output_type": "execute_result"
    }
   ],
   "source": [
    "f.readline()\n",
    "f.readline()"
   ]
  },
  {
   "cell_type": "code",
   "execution_count": 32,
   "metadata": {},
   "outputs": [
    {
     "data": {
      "text/plain": [
       "''"
      ]
     },
     "execution_count": 32,
     "metadata": {},
     "output_type": "execute_result"
    }
   ],
   "source": [
    "f.read(5)"
   ]
  },
  {
   "cell_type": "markdown",
   "metadata": {},
   "source": [
    "# PYTHON_DATES"
   ]
  },
  {
   "cell_type": "code",
   "execution_count": 64,
   "metadata": {},
   "outputs": [
    {
     "name": "stdout",
     "output_type": "stream",
     "text": [
      "2020-06-06 14:13:18.928936\n"
     ]
    }
   ],
   "source": [
    "from datetime import datetime\n",
    "x = datetime.now()\n",
    "print(x)\n",
    "\n",
    "# import datetime\n",
    "# x = datetime.datetime.now()\n",
    "# print(x)\n"
   ]
  },
  {
   "cell_type": "code",
   "execution_count": 65,
   "metadata": {},
   "outputs": [
    {
     "name": "stdout",
     "output_type": "stream",
     "text": [
      "Year : 2020\n",
      "Month : 6\n",
      "Day : 6\n"
     ]
    }
   ],
   "source": [
    "print(\"Year :\",x.year)\n",
    "print(\"Month :\",x.month)\n",
    "print(\"Day :\",x.day)"
   ]
  },
  {
   "cell_type": "code",
   "execution_count": 66,
   "metadata": {},
   "outputs": [
    {
     "name": "stdout",
     "output_type": "stream",
     "text": [
      "Saturday\n"
     ]
    }
   ],
   "source": [
    "print(x.strftime(\"%A\"))"
   ]
  },
  {
   "cell_type": "code",
   "execution_count": 107,
   "metadata": {},
   "outputs": [
    {
     "data": {
      "text/plain": [
       "'Saturday'"
      ]
     },
     "execution_count": 107,
     "metadata": {},
     "output_type": "execute_result"
    }
   ],
   "source": [
    "x.strftime(\"%A\")"
   ]
  },
  {
   "cell_type": "code",
   "execution_count": 108,
   "metadata": {},
   "outputs": [
    {
     "name": "stdout",
     "output_type": "stream",
     "text": [
      "Sat\n",
      "Saturday\n",
      "6\n",
      "06\n",
      "Jun\n",
      "June\n",
      "06\n",
      "20\n",
      "2020\n",
      "14\n",
      "02\n",
      "PM\n",
      "13\n",
      "18\n",
      "928936\n",
      "\n",
      "\n",
      "158\n",
      "22\n",
      "22\n",
      "Sat Jun  6 14:13:18 2020\n",
      "06/06/20\n",
      "14:13:18\n",
      "%\n"
     ]
    }
   ],
   "source": [
    "## All kinds of strftime\n",
    "liststr = [\"%a\",\"%A\",\"%w\",\"%d\",\"%b\",\"%B\",\"%m\",\"%y\",\"%Y\",\"%H\",\"%I\",\"%p\",\"%M\",\"%S\",\"%f\",\"%z\",\"%Z\",\"%j\",\"%U\",\"%W\",\"%c\",\"%x\",\"%X\",\"%%\"]\n",
    "for i in liststr:\n",
    "    print(x.strftime(i))"
   ]
  },
  {
   "cell_type": "code",
   "execution_count": 93,
   "metadata": {},
   "outputs": [],
   "source": [
    "import numpy as np \n",
    "r = np.array(range(0,32))"
   ]
  },
  {
   "cell_type": "code",
   "execution_count": 90,
   "metadata": {},
   "outputs": [
    {
     "data": {
      "text/plain": [
       "array([ 1.        ,  1.63265306,  2.26530612,  2.89795918,  3.53061224,\n",
       "        4.16326531,  4.79591837,  5.42857143,  6.06122449,  6.69387755,\n",
       "        7.32653061,  7.95918367,  8.59183673,  9.2244898 ,  9.85714286,\n",
       "       10.48979592, 11.12244898, 11.75510204, 12.3877551 , 13.02040816,\n",
       "       13.65306122, 14.28571429, 14.91836735, 15.55102041, 16.18367347,\n",
       "       16.81632653, 17.44897959, 18.08163265, 18.71428571, 19.34693878,\n",
       "       19.97959184, 20.6122449 , 21.24489796, 21.87755102, 22.51020408,\n",
       "       23.14285714, 23.7755102 , 24.40816327, 25.04081633, 25.67346939,\n",
       "       26.30612245, 26.93877551, 27.57142857, 28.20408163, 28.83673469,\n",
       "       29.46938776, 30.10204082, 30.73469388, 31.36734694, 32.        ])"
      ]
     },
     "execution_count": 90,
     "metadata": {},
     "output_type": "execute_result"
    }
   ],
   "source": [
    "np.linspace(1,32,endpoint=True, retstep=False, dtype=None)"
   ]
  },
  {
   "cell_type": "code",
   "execution_count": 94,
   "metadata": {},
   "outputs": [
    {
     "data": {
      "text/plain": [
       "array([ 0,  1,  2,  3,  4,  5,  6,  7,  8,  9, 10, 11, 12, 13, 14, 15, 16,\n",
       "       17, 18, 19, 20, 21, 22, 23, 24, 25, 26, 27, 28, 29, 30, 31])"
      ]
     },
     "execution_count": 94,
     "metadata": {},
     "output_type": "execute_result"
    }
   ],
   "source": [
    "r"
   ]
  },
  {
   "cell_type": "code",
   "execution_count": 96,
   "metadata": {},
   "outputs": [
    {
     "data": {
      "text/plain": [
       "0"
      ]
     },
     "execution_count": 96,
     "metadata": {},
     "output_type": "execute_result"
    }
   ],
   "source": [
    "r[0]"
   ]
  },
  {
   "cell_type": "code",
   "execution_count": 110,
   "metadata": {},
   "outputs": [
    {
     "data": {
      "text/plain": [
       "'%A'"
      ]
     },
     "execution_count": 110,
     "metadata": {},
     "output_type": "execute_result"
    }
   ],
   "source": [
    "liststr[r[1]]"
   ]
  },
  {
   "cell_type": "code",
   "execution_count": 111,
   "metadata": {},
   "outputs": [
    {
     "data": {
      "text/plain": [
       "[1, 2]"
      ]
     },
     "execution_count": 111,
     "metadata": {},
     "output_type": "execute_result"
    }
   ],
   "source": [
    "list(range(1,3))"
   ]
  },
  {
   "cell_type": "code",
   "execution_count": 112,
   "metadata": {},
   "outputs": [
    {
     "name": "stdout",
     "output_type": "stream",
     "text": [
      "numpy 1.18.1\n",
      "numpy version =  1.18.1\n",
      "scipy 1.4.1\n",
      "scipy verison =  1.4.1\n"
     ]
    }
   ],
   "source": [
    "# -*- coding: utf-8 -*-\n",
    "\"\"\"\n",
    "FileName: GetVersionInfo.py\n",
    "Created on Tue Sep 20 12:14:08 2016\n",
    "\n",
    "@author: Imarticus\n",
    "\"\"\"\n",
    "# This script will provide version for installed packages \n",
    "\n",
    "# use pkg_Resources module\n",
    "import pkg_resources\n",
    "\n",
    "#Version info of numpy\n",
    "print(pkg_resources.get_distribution('numpy'))\n",
    "\n",
    "#alternate route\n",
    "import numpy\n",
    "print ('numpy version = ',numpy.__version__)\n",
    "\n",
    "#Version info of scipy\n",
    "print(pkg_resources.get_distribution('scipy'))\n",
    "#alternatively\n",
    "import scipy\n",
    "print ('scipy verison = ', scipy.__version__)\n",
    "\n",
    "#Version info of statsmodel\n",
    "\n",
    "\n",
    "#Version info of Scikit-learn\n",
    "\n",
    "#Version info of opencv\n",
    "\n",
    "#Version info of sqlite3\n",
    "\n"
   ]
  },
  {
   "cell_type": "code",
   "execution_count": 113,
   "metadata": {},
   "outputs": [
    {
     "name": "stdout",
     "output_type": "stream",
     "text": [
      "Hello World!\n",
      "X =  1000.0\n"
     ]
    }
   ],
   "source": [
    "# -*- coding: utf-8 -*-\n",
    "\"\"\"\n",
    "Created on Tue Sep 20 12:14:08 2016\n",
    "\n",
    "@author: Imarticus\n",
    "\"\"\"\n",
    "# This is our first Python script\n",
    "# Saying just Hello to the World\n",
    "\n",
    "print(\"Hello World!\") \n",
    "\n",
    "#Lets use some of the packages\n",
    "import numpy as np\n",
    "\n",
    "x = np.sqrt(1000000)\n",
    "\n",
    "print(\"X = \", x)"
   ]
  },
  {
   "cell_type": "code",
   "execution_count": 114,
   "metadata": {},
   "outputs": [
    {
     "name": "stdout",
     "output_type": "stream",
     "text": [
      "Hello World!!\n"
     ]
    }
   ],
   "source": [
    "# -*- coding: utf-8 -*-\n",
    "\"\"\"\n",
    "FileName: MyFirstCode.py\n",
    "Created on Fri Sep 23 14:22:00 2016\n",
    "@author: yoges\n",
    "\"\"\"\n",
    "# THIS IS MY FIRST  CODE\n",
    "\n",
    "print('Hello World!!')"
   ]
  },
  {
   "cell_type": "code",
   "execution_count": 116,
   "metadata": {},
   "outputs": [],
   "source": [
    "import math"
   ]
  },
  {
   "cell_type": "code",
   "execution_count": 117,
   "metadata": {},
   "outputs": [
    {
     "ename": "SyntaxError",
     "evalue": "invalid syntax (<ipython-input-117-6994845579ab>, line 1)",
     "output_type": "error",
     "traceback": [
      "\u001b[1;36m  File \u001b[1;32m\"<ipython-input-117-6994845579ab>\"\u001b[1;36m, line \u001b[1;32m1\u001b[0m\n\u001b[1;33m    math.\u001b[0m\n\u001b[1;37m         ^\u001b[0m\n\u001b[1;31mSyntaxError\u001b[0m\u001b[1;31m:\u001b[0m invalid syntax\n"
     ]
    }
   ],
   "source": [
    "math."
   ]
  },
  {
   "cell_type": "code",
   "execution_count": null,
   "metadata": {},
   "outputs": [],
   "source": []
  }
 ],
 "metadata": {
  "kernelspec": {
   "display_name": "Python 3",
   "language": "python",
   "name": "python3"
  },
  "language_info": {
   "codemirror_mode": {
    "name": "ipython",
    "version": 3
   },
   "file_extension": ".py",
   "mimetype": "text/x-python",
   "name": "python",
   "nbconvert_exporter": "python",
   "pygments_lexer": "ipython3",
   "version": "3.7.6"
  }
 },
 "nbformat": 4,
 "nbformat_minor": 4
}
