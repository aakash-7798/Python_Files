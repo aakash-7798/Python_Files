{
 "cells": [
  {
   "cell_type": "code",
   "execution_count": 264,
   "metadata": {
    "ExecuteTime": {
     "end_time": "2020-09-15T09:42:14.891116Z",
     "start_time": "2020-09-15T09:42:14.874717Z"
    }
   },
   "outputs": [],
   "source": [
    "import numpy as np\n",
    "import pandas as pd"
   ]
  },
  {
   "cell_type": "code",
   "execution_count": 265,
   "metadata": {
    "ExecuteTime": {
     "end_time": "2020-09-15T09:42:15.266645Z",
     "start_time": "2020-09-15T09:42:15.246878Z"
    }
   },
   "outputs": [],
   "source": [
    "df = pd.read_csv(\"Cancer.csv\")"
   ]
  },
  {
   "cell_type": "code",
   "execution_count": 266,
   "metadata": {
    "ExecuteTime": {
     "end_time": "2020-09-15T09:42:15.541297Z",
     "start_time": "2020-09-15T09:42:15.478837Z"
    }
   },
   "outputs": [
    {
     "data": {
      "text/html": [
       "<div>\n",
       "<style scoped>\n",
       "    .dataframe tbody tr th:only-of-type {\n",
       "        vertical-align: middle;\n",
       "    }\n",
       "\n",
       "    .dataframe tbody tr th {\n",
       "        vertical-align: top;\n",
       "    }\n",
       "\n",
       "    .dataframe thead th {\n",
       "        text-align: right;\n",
       "    }\n",
       "</style>\n",
       "<table border=\"1\" class=\"dataframe\">\n",
       "  <thead>\n",
       "    <tr style=\"text-align: right;\">\n",
       "      <th></th>\n",
       "      <th>I0</th>\n",
       "      <th>PA500</th>\n",
       "      <th>HFS</th>\n",
       "      <th>DA</th>\n",
       "      <th>Area</th>\n",
       "      <th>A/DA</th>\n",
       "      <th>Max IP</th>\n",
       "      <th>DR</th>\n",
       "      <th>P</th>\n",
       "      <th>Class</th>\n",
       "      <th>Max IP.1</th>\n",
       "      <th>I0.1</th>\n",
       "      <th>DA.1</th>\n",
       "      <th>PA500.1</th>\n",
       "    </tr>\n",
       "  </thead>\n",
       "  <tbody>\n",
       "    <tr>\n",
       "      <th>0</th>\n",
       "      <td>524.794072</td>\n",
       "      <td>0.187448</td>\n",
       "      <td>0.032114</td>\n",
       "      <td>228.800228</td>\n",
       "      <td>6843.598481</td>\n",
       "      <td>29.910803</td>\n",
       "      <td>60.204880</td>\n",
       "      <td>220.737212</td>\n",
       "      <td>556.828334</td>\n",
       "      <td>car</td>\n",
       "      <td>60.204880</td>\n",
       "      <td>524.794072</td>\n",
       "      <td>228.800228</td>\n",
       "      <td>0.187448</td>\n",
       "    </tr>\n",
       "    <tr>\n",
       "      <th>1</th>\n",
       "      <td>330.000000</td>\n",
       "      <td>0.226893</td>\n",
       "      <td>0.265290</td>\n",
       "      <td>121.154201</td>\n",
       "      <td>3163.239472</td>\n",
       "      <td>26.109202</td>\n",
       "      <td>69.717361</td>\n",
       "      <td>99.084964</td>\n",
       "      <td>400.225776</td>\n",
       "      <td>car</td>\n",
       "      <td>69.717361</td>\n",
       "      <td>330.000000</td>\n",
       "      <td>121.154201</td>\n",
       "      <td>0.226893</td>\n",
       "    </tr>\n",
       "    <tr>\n",
       "      <th>2</th>\n",
       "      <td>551.879287</td>\n",
       "      <td>0.232478</td>\n",
       "      <td>0.063530</td>\n",
       "      <td>264.804935</td>\n",
       "      <td>11888.391830</td>\n",
       "      <td>44.894903</td>\n",
       "      <td>77.793297</td>\n",
       "      <td>253.785300</td>\n",
       "      <td>656.769449</td>\n",
       "      <td>car</td>\n",
       "      <td>77.793297</td>\n",
       "      <td>551.879287</td>\n",
       "      <td>264.804935</td>\n",
       "      <td>0.232478</td>\n",
       "    </tr>\n",
       "    <tr>\n",
       "      <th>3</th>\n",
       "      <td>380.000000</td>\n",
       "      <td>0.240855</td>\n",
       "      <td>0.286234</td>\n",
       "      <td>137.640111</td>\n",
       "      <td>5402.171180</td>\n",
       "      <td>39.248524</td>\n",
       "      <td>88.758446</td>\n",
       "      <td>105.198568</td>\n",
       "      <td>493.701813</td>\n",
       "      <td>car</td>\n",
       "      <td>88.758446</td>\n",
       "      <td>380.000000</td>\n",
       "      <td>137.640111</td>\n",
       "      <td>0.240855</td>\n",
       "    </tr>\n",
       "    <tr>\n",
       "      <th>4</th>\n",
       "      <td>362.831266</td>\n",
       "      <td>0.200713</td>\n",
       "      <td>0.244346</td>\n",
       "      <td>124.912559</td>\n",
       "      <td>3290.462446</td>\n",
       "      <td>26.342127</td>\n",
       "      <td>69.389389</td>\n",
       "      <td>103.866552</td>\n",
       "      <td>424.796503</td>\n",
       "      <td>car</td>\n",
       "      <td>69.389389</td>\n",
       "      <td>362.831266</td>\n",
       "      <td>124.912559</td>\n",
       "      <td>0.200713</td>\n",
       "    </tr>\n",
       "  </tbody>\n",
       "</table>\n",
       "</div>"
      ],
      "text/plain": [
       "           I0     PA500       HFS          DA          Area       A/DA  \\\n",
       "0  524.794072  0.187448  0.032114  228.800228   6843.598481  29.910803   \n",
       "1  330.000000  0.226893  0.265290  121.154201   3163.239472  26.109202   \n",
       "2  551.879287  0.232478  0.063530  264.804935  11888.391830  44.894903   \n",
       "3  380.000000  0.240855  0.286234  137.640111   5402.171180  39.248524   \n",
       "4  362.831266  0.200713  0.244346  124.912559   3290.462446  26.342127   \n",
       "\n",
       "      Max IP          DR           P Class   Max IP.1        I0.1        DA.1  \\\n",
       "0  60.204880  220.737212  556.828334   car  60.204880  524.794072  228.800228   \n",
       "1  69.717361   99.084964  400.225776   car  69.717361  330.000000  121.154201   \n",
       "2  77.793297  253.785300  656.769449   car  77.793297  551.879287  264.804935   \n",
       "3  88.758446  105.198568  493.701813   car  88.758446  380.000000  137.640111   \n",
       "4  69.389389  103.866552  424.796503   car  69.389389  362.831266  124.912559   \n",
       "\n",
       "    PA500.1  \n",
       "0  0.187448  \n",
       "1  0.226893  \n",
       "2  0.232478  \n",
       "3  0.240855  \n",
       "4  0.200713  "
      ]
     },
     "execution_count": 266,
     "metadata": {},
     "output_type": "execute_result"
    }
   ],
   "source": [
    "df.head()"
   ]
  },
  {
   "cell_type": "code",
   "execution_count": 267,
   "metadata": {
    "ExecuteTime": {
     "end_time": "2020-09-15T09:42:15.719342Z",
     "start_time": "2020-09-15T09:42:15.704464Z"
    }
   },
   "outputs": [
    {
     "name": "stdout",
     "output_type": "stream",
     "text": [
      "I0             0\n",
      "PA500          0\n",
      "HFS            0\n",
      "DA             0\n",
      "Area           0\n",
      "A/DA        1266\n",
      "Max IP      1266\n",
      "DR          1266\n",
      "P           1266\n",
      "Class       1266\n",
      "Max IP.1    1266\n",
      "I0.1           0\n",
      "DA.1           0\n",
      "PA500.1        0\n",
      "dtype: int64\n"
     ]
    }
   ],
   "source": [
    "print(df.isna().sum())"
   ]
  },
  {
   "cell_type": "code",
   "execution_count": 268,
   "metadata": {
    "ExecuteTime": {
     "end_time": "2020-09-15T09:42:15.952889Z",
     "start_time": "2020-09-15T09:42:15.918686Z"
    }
   },
   "outputs": [],
   "source": [
    "df_class_notnull  = df[df[\"Class\"].notnull()==True].drop([\"A/DA\",\"Max IP\",\"DR\",\"P\",\"Max IP.1\"],axis=1)\n",
    "df_ADA_notnull    = df[df[\"A/DA\"].notnull()==True].drop([\"Class\",\"Max IP\",\"DR\",\"P\",\"Max IP.1\"],axis=1)\n",
    "df_maxip_notnull  = df[df[\"Max IP\"].notnull()==True].drop([\"A/DA\",\"Class\",\"DR\",\"P\",\"Max IP.1\"],axis=1)\n",
    "df_dr_notnull     = df[df[\"DR\"].notnull()==True].drop([\"A/DA\",\"Max IP\",\"Class\",\"P\",\"Max IP.1\"],axis=1)\n",
    "df_p_notnull      = df[df[\"P\"].notnull()==True].drop([\"A/DA\",\"Max IP\",\"DR\",\"Class\",\"Max IP.1\"],axis=1)\n",
    "df_Maxip1_notnull = df[df[\"Max IP.1\"].notnull()==True].drop([\"A/DA\",\"Max IP\",\"DR\",\"P\",\"Class\"],axis=1)"
   ]
  },
  {
   "cell_type": "code",
   "execution_count": 269,
   "metadata": {
    "ExecuteTime": {
     "end_time": "2020-09-15T09:42:16.156649Z",
     "start_time": "2020-09-15T09:42:16.113136Z"
    }
   },
   "outputs": [],
   "source": [
    "df_class_isnull  = df[df[\"Class\"].isnull()==True].drop([\"A/DA\",\"Max IP\",\"DR\",\"P\",\"Max IP.1\",\"Class\"],axis=1)\n",
    "df_ADA_isnull    = df[df[\"A/DA\"].isnull()==True].drop([\"Class\",\"Max IP\",\"DR\",\"P\",\"Max IP.1\",\"A/DA\"],axis=1)\n",
    "df_maxip_isnull  = df[df[\"Max IP\"].isnull()==True].drop([\"A/DA\",\"Class\",\"DR\",\"P\",\"Max IP.1\",\"Max IP\"],axis=1)\n",
    "df_dr_isnull     = df[df[\"DR\"].isnull()==True].drop([\"A/DA\",\"Max IP\",\"Class\",\"P\",\"Max IP.1\",\"DR\"],axis=1)\n",
    "df_p_isnull      = df[df[\"P\"].isnull()==True].drop([\"A/DA\",\"Max IP\",\"DR\",\"Class\",\"Max IP.1\",\"P\"],axis=1)\n",
    "df_Maxip1_isnull = df[df[\"Max IP.1\"].isnull()==True].drop([\"A/DA\",\"Max IP\",\"DR\",\"P\",\"Class\",\"Max IP.1\"],axis=1)"
   ]
  },
  {
   "cell_type": "code",
   "execution_count": 270,
   "metadata": {
    "ExecuteTime": {
     "end_time": "2020-09-15T09:42:16.326366Z",
     "start_time": "2020-09-15T09:42:16.318401Z"
    }
   },
   "outputs": [],
   "source": [
    "from xgboost import XGBClassifier\n",
    "from xgboost import XGBRegressor"
   ]
  },
  {
   "cell_type": "code",
   "execution_count": 271,
   "metadata": {
    "ExecuteTime": {
     "end_time": "2020-09-15T09:42:16.534442Z",
     "start_time": "2020-09-15T09:42:16.522251Z"
    }
   },
   "outputs": [],
   "source": [
    "xgb = XGBClassifier()\n",
    "xgb1 = XGBRegressor()\n",
    "xgb2 = XGBRegressor()\n",
    "xgb3 = XGBRegressor()\n",
    "xgb4 = XGBRegressor()\n",
    "xgb5 = XGBRegressor()"
   ]
  },
  {
   "cell_type": "code",
   "execution_count": 272,
   "metadata": {
    "ExecuteTime": {
     "end_time": "2020-09-15T09:42:17.422782Z",
     "start_time": "2020-09-15T09:42:16.721035Z"
    }
   },
   "outputs": [
    {
     "data": {
      "text/plain": [
       "XGBRegressor(base_score=0.5, booster='gbtree', colsample_bylevel=1,\n",
       "             colsample_bynode=1, colsample_bytree=1, gamma=0, gpu_id=-1,\n",
       "             importance_type='gain', interaction_constraints='',\n",
       "             learning_rate=0.300000012, max_delta_step=0, max_depth=6,\n",
       "             min_child_weight=1, missing=nan, monotone_constraints='()',\n",
       "             n_estimators=100, n_jobs=0, num_parallel_tree=1, random_state=0,\n",
       "             reg_alpha=0, reg_lambda=1, scale_pos_weight=1, subsample=1,\n",
       "             tree_method='exact', validate_parameters=1, verbosity=None)"
      ]
     },
     "execution_count": 272,
     "metadata": {},
     "output_type": "execute_result"
    }
   ],
   "source": [
    "xgb.fit(df_class_notnull.drop(\"Class\",axis=1),df_class_notnull.Class)\n",
    "xgb1.fit(df_ADA_notnull.drop(\"A/DA\",axis=1),df_ADA_notnull[\"A/DA\"])\n",
    "xgb2.fit(df_maxip_notnull.drop(\"Max IP\",axis=1),df_maxip_notnull[\"Max IP\"])\n",
    "xgb3.fit(df_dr_notnull.drop(\"DR\",axis=1),df_dr_notnull[\"DR\"])\n",
    "xgb4.fit(df_p_notnull.drop(\"P\",axis=1),df_p_notnull[\"P\"])\n",
    "xgb5.fit(df_Maxip1_notnull.drop(\"Max IP.1\",axis=1),df_Maxip1_notnull[\"Max IP.1\"])"
   ]
  },
  {
   "cell_type": "code",
   "execution_count": 273,
   "metadata": {
    "ExecuteTime": {
     "end_time": "2020-09-15T09:42:17.499317Z",
     "start_time": "2020-09-15T09:42:17.423783Z"
    }
   },
   "outputs": [],
   "source": [
    "Class  = pd.DataFrame(xgb.predict(df_class_isnull))\n",
    "ada    = pd.DataFrame(xgb1.predict(df_ADA_isnull))\n",
    "maxip  = pd.DataFrame(xgb2.predict(df_maxip_isnull))\n",
    "dr     = pd.DataFrame(xgb3.predict(df_dr_isnull))\n",
    "p      = pd.DataFrame(xgb4.predict(df_p_isnull))\n",
    "maxip1 = pd.DataFrame(xgb5.predict(df_Maxip1_isnull))"
   ]
  },
  {
   "cell_type": "code",
   "execution_count": 274,
   "metadata": {
    "ExecuteTime": {
     "end_time": "2020-09-15T09:42:17.667363Z",
     "start_time": "2020-09-15T09:42:17.503314Z"
    }
   },
   "outputs": [],
   "source": [
    "x = [df_class_isnull,df_ADA_isnull,df_dr_isnull,df_maxip_isnull,df_p_isnull,df_Maxip1_isnull]"
   ]
  },
  {
   "cell_type": "code",
   "execution_count": 275,
   "metadata": {
    "ExecuteTime": {
     "end_time": "2020-09-15T09:42:17.844045Z",
     "start_time": "2020-09-15T09:42:17.676749Z"
    }
   },
   "outputs": [],
   "source": [
    "for i in x:\n",
    "    i.reset_index(drop=True,inplace=True)"
   ]
  },
  {
   "cell_type": "code",
   "execution_count": 276,
   "metadata": {
    "ExecuteTime": {
     "end_time": "2020-09-15T09:42:17.965027Z",
     "start_time": "2020-09-15T09:42:17.856300Z"
    }
   },
   "outputs": [],
   "source": [
    "df_class_isnull[\"Class\"]     = Class\n",
    "df_ADA_isnull[\"A/DA\"]        = ada\n",
    "df_maxip_isnull[\"Max IP\"]    = maxip\n",
    "df_dr_isnull[\"DR\"]           = dr\n",
    "df_p_isnull[\"P\"]             = p\n",
    "df_Maxip1_isnull[\"Max IP.1\"] =maxip1"
   ]
  },
  {
   "cell_type": "code",
   "execution_count": 277,
   "metadata": {
    "ExecuteTime": {
     "end_time": "2020-09-15T09:42:18.789997Z",
     "start_time": "2020-09-15T09:42:18.754307Z"
    }
   },
   "outputs": [
    {
     "data": {
      "text/html": [
       "<div>\n",
       "<style scoped>\n",
       "    .dataframe tbody tr th:only-of-type {\n",
       "        vertical-align: middle;\n",
       "    }\n",
       "\n",
       "    .dataframe tbody tr th {\n",
       "        vertical-align: top;\n",
       "    }\n",
       "\n",
       "    .dataframe thead th {\n",
       "        text-align: right;\n",
       "    }\n",
       "</style>\n",
       "<table border=\"1\" class=\"dataframe\">\n",
       "  <thead>\n",
       "    <tr style=\"text-align: right;\">\n",
       "      <th></th>\n",
       "      <th>I0</th>\n",
       "      <th>PA500</th>\n",
       "      <th>HFS</th>\n",
       "      <th>DA</th>\n",
       "      <th>Area</th>\n",
       "      <th>I0.1</th>\n",
       "      <th>DA.1</th>\n",
       "      <th>PA500.1</th>\n",
       "      <th>A/DA</th>\n",
       "    </tr>\n",
       "  </thead>\n",
       "  <tbody>\n",
       "    <tr>\n",
       "      <th>0</th>\n",
       "      <td>2.31360</td>\n",
       "      <td>10.66510</td>\n",
       "      <td>-3.5288</td>\n",
       "      <td>-4.76720</td>\n",
       "      <td>0.0</td>\n",
       "      <td>2.31360</td>\n",
       "      <td>-4.76720</td>\n",
       "      <td>10.66510</td>\n",
       "      <td>4.565933</td>\n",
       "    </tr>\n",
       "    <tr>\n",
       "      <th>1</th>\n",
       "      <td>-1.85840</td>\n",
       "      <td>7.88600</td>\n",
       "      <td>-1.6643</td>\n",
       "      <td>-1.83840</td>\n",
       "      <td>0.0</td>\n",
       "      <td>-1.85840</td>\n",
       "      <td>-1.83840</td>\n",
       "      <td>7.88600</td>\n",
       "      <td>4.565933</td>\n",
       "    </tr>\n",
       "    <tr>\n",
       "      <th>2</th>\n",
       "      <td>3.10600</td>\n",
       "      <td>9.54140</td>\n",
       "      <td>-4.2536</td>\n",
       "      <td>-4.00300</td>\n",
       "      <td>0.0</td>\n",
       "      <td>3.10600</td>\n",
       "      <td>-4.00300</td>\n",
       "      <td>9.54140</td>\n",
       "      <td>4.565933</td>\n",
       "    </tr>\n",
       "    <tr>\n",
       "      <th>3</th>\n",
       "      <td>2.91630</td>\n",
       "      <td>10.83060</td>\n",
       "      <td>-3.3437</td>\n",
       "      <td>-4.12200</td>\n",
       "      <td>0.0</td>\n",
       "      <td>2.91630</td>\n",
       "      <td>-4.12200</td>\n",
       "      <td>10.83060</td>\n",
       "      <td>4.565933</td>\n",
       "    </tr>\n",
       "    <tr>\n",
       "      <th>4</th>\n",
       "      <td>3.99220</td>\n",
       "      <td>-4.46760</td>\n",
       "      <td>3.7304</td>\n",
       "      <td>-0.10950</td>\n",
       "      <td>0.0</td>\n",
       "      <td>3.99220</td>\n",
       "      <td>-0.10950</td>\n",
       "      <td>-4.46760</td>\n",
       "      <td>3.270667</td>\n",
       "    </tr>\n",
       "    <tr>\n",
       "      <th>...</th>\n",
       "      <td>...</td>\n",
       "      <td>...</td>\n",
       "      <td>...</td>\n",
       "      <td>...</td>\n",
       "      <td>...</td>\n",
       "      <td>...</td>\n",
       "      <td>...</td>\n",
       "      <td>...</td>\n",
       "      <td>...</td>\n",
       "    </tr>\n",
       "    <tr>\n",
       "      <th>1261</th>\n",
       "      <td>0.40614</td>\n",
       "      <td>1.34920</td>\n",
       "      <td>-1.4501</td>\n",
       "      <td>-0.55949</td>\n",
       "      <td>1.0</td>\n",
       "      <td>0.40614</td>\n",
       "      <td>-0.55949</td>\n",
       "      <td>1.34920</td>\n",
       "      <td>4.565933</td>\n",
       "    </tr>\n",
       "    <tr>\n",
       "      <th>1262</th>\n",
       "      <td>-1.38870</td>\n",
       "      <td>-4.87730</td>\n",
       "      <td>6.4774</td>\n",
       "      <td>0.34179</td>\n",
       "      <td>1.0</td>\n",
       "      <td>-1.38870</td>\n",
       "      <td>0.34179</td>\n",
       "      <td>-4.87730</td>\n",
       "      <td>3.270667</td>\n",
       "    </tr>\n",
       "    <tr>\n",
       "      <th>1263</th>\n",
       "      <td>-3.75030</td>\n",
       "      <td>-13.45860</td>\n",
       "      <td>17.5932</td>\n",
       "      <td>-2.77710</td>\n",
       "      <td>1.0</td>\n",
       "      <td>-3.75030</td>\n",
       "      <td>-2.77710</td>\n",
       "      <td>-13.45860</td>\n",
       "      <td>3.270667</td>\n",
       "    </tr>\n",
       "    <tr>\n",
       "      <th>1264</th>\n",
       "      <td>-3.56370</td>\n",
       "      <td>-8.38270</td>\n",
       "      <td>12.3930</td>\n",
       "      <td>-1.28230</td>\n",
       "      <td>1.0</td>\n",
       "      <td>-3.56370</td>\n",
       "      <td>-1.28230</td>\n",
       "      <td>-8.38270</td>\n",
       "      <td>3.270667</td>\n",
       "    </tr>\n",
       "    <tr>\n",
       "      <th>1265</th>\n",
       "      <td>-2.54190</td>\n",
       "      <td>-0.65804</td>\n",
       "      <td>2.6842</td>\n",
       "      <td>1.19520</td>\n",
       "      <td>1.0</td>\n",
       "      <td>-2.54190</td>\n",
       "      <td>1.19520</td>\n",
       "      <td>-0.65804</td>\n",
       "      <td>3.270667</td>\n",
       "    </tr>\n",
       "  </tbody>\n",
       "</table>\n",
       "<p>1266 rows × 9 columns</p>\n",
       "</div>"
      ],
      "text/plain": [
       "           I0     PA500      HFS       DA  Area     I0.1     DA.1   PA500.1  \\\n",
       "0     2.31360  10.66510  -3.5288 -4.76720   0.0  2.31360 -4.76720  10.66510   \n",
       "1    -1.85840   7.88600  -1.6643 -1.83840   0.0 -1.85840 -1.83840   7.88600   \n",
       "2     3.10600   9.54140  -4.2536 -4.00300   0.0  3.10600 -4.00300   9.54140   \n",
       "3     2.91630  10.83060  -3.3437 -4.12200   0.0  2.91630 -4.12200  10.83060   \n",
       "4     3.99220  -4.46760   3.7304 -0.10950   0.0  3.99220 -0.10950  -4.46760   \n",
       "...       ...       ...      ...      ...   ...      ...      ...       ...   \n",
       "1261  0.40614   1.34920  -1.4501 -0.55949   1.0  0.40614 -0.55949   1.34920   \n",
       "1262 -1.38870  -4.87730   6.4774  0.34179   1.0 -1.38870  0.34179  -4.87730   \n",
       "1263 -3.75030 -13.45860  17.5932 -2.77710   1.0 -3.75030 -2.77710 -13.45860   \n",
       "1264 -3.56370  -8.38270  12.3930 -1.28230   1.0 -3.56370 -1.28230  -8.38270   \n",
       "1265 -2.54190  -0.65804   2.6842  1.19520   1.0 -2.54190  1.19520  -0.65804   \n",
       "\n",
       "          A/DA  \n",
       "0     4.565933  \n",
       "1     4.565933  \n",
       "2     4.565933  \n",
       "3     4.565933  \n",
       "4     3.270667  \n",
       "...        ...  \n",
       "1261  4.565933  \n",
       "1262  3.270667  \n",
       "1263  3.270667  \n",
       "1264  3.270667  \n",
       "1265  3.270667  \n",
       "\n",
       "[1266 rows x 9 columns]"
      ]
     },
     "execution_count": 277,
     "metadata": {},
     "output_type": "execute_result"
    }
   ],
   "source": [
    "df_ADA_isnull"
   ]
  },
  {
   "cell_type": "code",
   "execution_count": 278,
   "metadata": {
    "ExecuteTime": {
     "end_time": "2020-09-15T09:43:25.521910Z",
     "start_time": "2020-09-15T09:43:25.477687Z"
    }
   },
   "outputs": [
    {
     "data": {
      "text/html": [
       "<div>\n",
       "<style scoped>\n",
       "    .dataframe tbody tr th:only-of-type {\n",
       "        vertical-align: middle;\n",
       "    }\n",
       "\n",
       "    .dataframe tbody tr th {\n",
       "        vertical-align: top;\n",
       "    }\n",
       "\n",
       "    .dataframe thead th {\n",
       "        text-align: right;\n",
       "    }\n",
       "</style>\n",
       "<table border=\"1\" class=\"dataframe\">\n",
       "  <thead>\n",
       "    <tr style=\"text-align: right;\">\n",
       "      <th></th>\n",
       "      <th>I0</th>\n",
       "      <th>PA500</th>\n",
       "      <th>HFS</th>\n",
       "      <th>DA</th>\n",
       "      <th>Area</th>\n",
       "      <th>Class</th>\n",
       "      <th>I0.1</th>\n",
       "      <th>DA.1</th>\n",
       "      <th>PA500.1</th>\n",
       "    </tr>\n",
       "  </thead>\n",
       "  <tbody>\n",
       "    <tr>\n",
       "      <th>0</th>\n",
       "      <td>524.794072</td>\n",
       "      <td>0.187448</td>\n",
       "      <td>0.032114</td>\n",
       "      <td>228.800228</td>\n",
       "      <td>6843.598481</td>\n",
       "      <td>car</td>\n",
       "      <td>524.794072</td>\n",
       "      <td>228.800228</td>\n",
       "      <td>0.187448</td>\n",
       "    </tr>\n",
       "    <tr>\n",
       "      <th>1</th>\n",
       "      <td>330.000000</td>\n",
       "      <td>0.226893</td>\n",
       "      <td>0.265290</td>\n",
       "      <td>121.154201</td>\n",
       "      <td>3163.239472</td>\n",
       "      <td>car</td>\n",
       "      <td>330.000000</td>\n",
       "      <td>121.154201</td>\n",
       "      <td>0.226893</td>\n",
       "    </tr>\n",
       "    <tr>\n",
       "      <th>2</th>\n",
       "      <td>551.879287</td>\n",
       "      <td>0.232478</td>\n",
       "      <td>0.063530</td>\n",
       "      <td>264.804935</td>\n",
       "      <td>11888.391830</td>\n",
       "      <td>car</td>\n",
       "      <td>551.879287</td>\n",
       "      <td>264.804935</td>\n",
       "      <td>0.232478</td>\n",
       "    </tr>\n",
       "    <tr>\n",
       "      <th>3</th>\n",
       "      <td>380.000000</td>\n",
       "      <td>0.240855</td>\n",
       "      <td>0.286234</td>\n",
       "      <td>137.640111</td>\n",
       "      <td>5402.171180</td>\n",
       "      <td>car</td>\n",
       "      <td>380.000000</td>\n",
       "      <td>137.640111</td>\n",
       "      <td>0.240855</td>\n",
       "    </tr>\n",
       "    <tr>\n",
       "      <th>4</th>\n",
       "      <td>362.831266</td>\n",
       "      <td>0.200713</td>\n",
       "      <td>0.244346</td>\n",
       "      <td>124.912559</td>\n",
       "      <td>3290.462446</td>\n",
       "      <td>car</td>\n",
       "      <td>362.831266</td>\n",
       "      <td>124.912559</td>\n",
       "      <td>0.200713</td>\n",
       "    </tr>\n",
       "    <tr>\n",
       "      <th>...</th>\n",
       "      <td>...</td>\n",
       "      <td>...</td>\n",
       "      <td>...</td>\n",
       "      <td>...</td>\n",
       "      <td>...</td>\n",
       "      <td>...</td>\n",
       "      <td>...</td>\n",
       "      <td>...</td>\n",
       "      <td>...</td>\n",
       "    </tr>\n",
       "    <tr>\n",
       "      <th>1261</th>\n",
       "      <td>0.406140</td>\n",
       "      <td>1.349200</td>\n",
       "      <td>-1.450100</td>\n",
       "      <td>-0.559490</td>\n",
       "      <td>1.000000</td>\n",
       "      <td>fad</td>\n",
       "      <td>0.406140</td>\n",
       "      <td>-0.559490</td>\n",
       "      <td>1.349200</td>\n",
       "    </tr>\n",
       "    <tr>\n",
       "      <th>1262</th>\n",
       "      <td>-1.388700</td>\n",
       "      <td>-4.877300</td>\n",
       "      <td>6.477400</td>\n",
       "      <td>0.341790</td>\n",
       "      <td>1.000000</td>\n",
       "      <td>fad</td>\n",
       "      <td>-1.388700</td>\n",
       "      <td>0.341790</td>\n",
       "      <td>-4.877300</td>\n",
       "    </tr>\n",
       "    <tr>\n",
       "      <th>1263</th>\n",
       "      <td>-3.750300</td>\n",
       "      <td>-13.458600</td>\n",
       "      <td>17.593200</td>\n",
       "      <td>-2.777100</td>\n",
       "      <td>1.000000</td>\n",
       "      <td>fad</td>\n",
       "      <td>-3.750300</td>\n",
       "      <td>-2.777100</td>\n",
       "      <td>-13.458600</td>\n",
       "    </tr>\n",
       "    <tr>\n",
       "      <th>1264</th>\n",
       "      <td>-3.563700</td>\n",
       "      <td>-8.382700</td>\n",
       "      <td>12.393000</td>\n",
       "      <td>-1.282300</td>\n",
       "      <td>1.000000</td>\n",
       "      <td>fad</td>\n",
       "      <td>-3.563700</td>\n",
       "      <td>-1.282300</td>\n",
       "      <td>-8.382700</td>\n",
       "    </tr>\n",
       "    <tr>\n",
       "      <th>1265</th>\n",
       "      <td>-2.541900</td>\n",
       "      <td>-0.658040</td>\n",
       "      <td>2.684200</td>\n",
       "      <td>1.195200</td>\n",
       "      <td>1.000000</td>\n",
       "      <td>fad</td>\n",
       "      <td>-2.541900</td>\n",
       "      <td>1.195200</td>\n",
       "      <td>-0.658040</td>\n",
       "    </tr>\n",
       "  </tbody>\n",
       "</table>\n",
       "<p>1372 rows × 9 columns</p>\n",
       "</div>"
      ],
      "text/plain": [
       "              I0      PA500        HFS          DA          Area Class  \\\n",
       "0     524.794072   0.187448   0.032114  228.800228   6843.598481   car   \n",
       "1     330.000000   0.226893   0.265290  121.154201   3163.239472   car   \n",
       "2     551.879287   0.232478   0.063530  264.804935  11888.391830   car   \n",
       "3     380.000000   0.240855   0.286234  137.640111   5402.171180   car   \n",
       "4     362.831266   0.200713   0.244346  124.912559   3290.462446   car   \n",
       "...          ...        ...        ...         ...           ...   ...   \n",
       "1261    0.406140   1.349200  -1.450100   -0.559490      1.000000   fad   \n",
       "1262   -1.388700  -4.877300   6.477400    0.341790      1.000000   fad   \n",
       "1263   -3.750300 -13.458600  17.593200   -2.777100      1.000000   fad   \n",
       "1264   -3.563700  -8.382700  12.393000   -1.282300      1.000000   fad   \n",
       "1265   -2.541900  -0.658040   2.684200    1.195200      1.000000   fad   \n",
       "\n",
       "            I0.1        DA.1    PA500.1  \n",
       "0     524.794072  228.800228   0.187448  \n",
       "1     330.000000  121.154201   0.226893  \n",
       "2     551.879287  264.804935   0.232478  \n",
       "3     380.000000  137.640111   0.240855  \n",
       "4     362.831266  124.912559   0.200713  \n",
       "...          ...         ...        ...  \n",
       "1261    0.406140   -0.559490   1.349200  \n",
       "1262   -1.388700    0.341790  -4.877300  \n",
       "1263   -3.750300   -2.777100 -13.458600  \n",
       "1264   -3.563700   -1.282300  -8.382700  \n",
       "1265   -2.541900    1.195200  -0.658040  \n",
       "\n",
       "[1372 rows x 9 columns]"
      ]
     },
     "execution_count": 278,
     "metadata": {},
     "output_type": "execute_result"
    }
   ],
   "source": [
    " pd.concat([df_class_notnull,df_class_isnull])"
   ]
  },
  {
   "cell_type": "code",
   "execution_count": null,
   "metadata": {},
   "outputs": [],
   "source": []
  }
 ],
 "metadata": {
  "kernelspec": {
   "display_name": "Python 3",
   "language": "python",
   "name": "python3"
  },
  "language_info": {
   "codemirror_mode": {
    "name": "ipython",
    "version": 3
   },
   "file_extension": ".py",
   "mimetype": "text/x-python",
   "name": "python",
   "nbconvert_exporter": "python",
   "pygments_lexer": "ipython3",
   "version": "3.7.6"
  }
 },
 "nbformat": 4,
 "nbformat_minor": 4
}
