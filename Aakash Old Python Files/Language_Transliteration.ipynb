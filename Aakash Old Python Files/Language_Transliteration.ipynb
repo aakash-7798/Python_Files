{
 "cells": [
  {
   "cell_type": "code",
   "execution_count": 1,
   "metadata": {
    "ExecuteTime": {
     "end_time": "2020-07-31T10:06:52.671439Z",
     "start_time": "2020-07-31T10:06:52.648502Z"
    }
   },
   "outputs": [],
   "source": [
    "from transliterate import translit,get_available_language_codes"
   ]
  },
  {
   "cell_type": "code",
   "execution_count": 2,
   "metadata": {
    "ExecuteTime": {
     "end_time": "2020-07-31T10:06:53.462300Z",
     "start_time": "2020-07-31T10:06:53.457313Z"
    }
   },
   "outputs": [],
   "source": [
    "import transliterate"
   ]
  },
  {
   "cell_type": "code",
   "execution_count": 3,
   "metadata": {
    "ExecuteTime": {
     "end_time": "2020-07-31T10:06:54.237092Z",
     "start_time": "2020-07-31T10:06:54.161296Z"
    }
   },
   "outputs": [
    {
     "name": "stdout",
     "output_type": "stream",
     "text": [
      "['bg', 'el', 'hy', 'ka', 'l1', 'mk', 'mn', 'ru', 'sr', 'uk']\n"
     ]
    }
   ],
   "source": [
    "print(transliterate.get_available_language_codes())"
   ]
  },
  {
   "cell_type": "code",
   "execution_count": 4,
   "metadata": {
    "ExecuteTime": {
     "end_time": "2020-07-31T10:06:54.846467Z",
     "start_time": "2020-07-31T10:06:54.832499Z"
    }
   },
   "outputs": [
    {
     "name": "stdout",
     "output_type": "stream",
     "text": [
      "Лорем іпсум долор сіт амет\n"
     ]
    }
   ],
   "source": [
    "print(translit(\"Lorem ipsum dolor sit amet\",\"uk\"))"
   ]
  },
  {
   "cell_type": "markdown",
   "metadata": {},
   "source": [
    "# IF WE WANT INDIAN LANGUAGES THEN WE NEED TO INSTALL INDIC_TRANSLITERATION"
   ]
  },
  {
   "cell_type": "code",
   "execution_count": 5,
   "metadata": {
    "ExecuteTime": {
     "end_time": "2020-07-31T10:06:56.339590Z",
     "start_time": "2020-07-31T10:06:56.297705Z"
    }
   },
   "outputs": [],
   "source": [
    "# https://www.geeksforgeeks.org/text-transliteration-from-english-to-indian-languages-using-indic-transliteration/\n",
    "from indic_transliteration import sanscript\n",
    "from indic_transliteration.sanscript import transliterate"
   ]
  },
  {
   "cell_type": "code",
   "execution_count": 6,
   "metadata": {
    "ExecuteTime": {
     "end_time": "2020-07-31T10:06:57.089170Z",
     "start_time": "2020-07-31T10:06:57.065233Z"
    }
   },
   "outputs": [
    {
     "data": {
      "text/plain": [
       "'అదిగ అదిగ యేధలో లయనదిగఅ కధిలే క్స్హనమ ఛేలి యేధని'"
      ]
     },
     "execution_count": 6,
     "metadata": {},
     "output_type": "execute_result"
    }
   ],
   "source": [
    "text = \"Adiga adiga yedhalo layanadigaa Kadhile kshanama cheli yedhani\"\n",
    "transliterate(text,sanscript.IAST,sanscript.TELUGU)"
   ]
  },
  {
   "cell_type": "code",
   "execution_count": 7,
   "metadata": {
    "ExecuteTime": {
     "end_time": "2020-07-31T10:06:57.890052Z",
     "start_time": "2020-07-31T10:06:57.873101Z"
    }
   },
   "outputs": [
    {
     "data": {
      "text/plain": [
       "'సుప్రభఅత'"
      ]
     },
     "execution_count": 7,
     "metadata": {},
     "output_type": "execute_result"
    }
   ],
   "source": [
    "transliterate(\"Suprabhaata\",sanscript.IAST,sanscript.TELUGU)"
   ]
  },
  {
   "cell_type": "code",
   "execution_count": null,
   "metadata": {},
   "outputs": [],
   "source": [
    "# https://github.com/libindic/indic-trans"
   ]
  }
 ],
 "metadata": {
  "kernelspec": {
   "display_name": "Python 3",
   "language": "python",
   "name": "python3"
  },
  "language_info": {
   "codemirror_mode": {
    "name": "ipython",
    "version": 3
   },
   "file_extension": ".py",
   "mimetype": "text/x-python",
   "name": "python",
   "nbconvert_exporter": "python",
   "pygments_lexer": "ipython3",
   "version": "3.7.6"
  }
 },
 "nbformat": 4,
 "nbformat_minor": 4
}
