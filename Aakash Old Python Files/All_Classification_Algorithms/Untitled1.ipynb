{
 "cells": [
  {
   "cell_type": "code",
   "execution_count": 1,
   "metadata": {
    "ExecuteTime": {
     "end_time": "2020-08-16T09:31:14.640791Z",
     "start_time": "2020-08-16T09:31:13.754589Z"
    }
   },
   "outputs": [],
   "source": [
    "import numpy as np\n",
    "import pandas as pd"
   ]
  },
  {
   "cell_type": "code",
   "execution_count": 2,
   "metadata": {
    "ExecuteTime": {
     "end_time": "2020-08-16T09:31:14.669147Z",
     "start_time": "2020-08-16T09:31:14.648055Z"
    }
   },
   "outputs": [],
   "source": [
    "# df = pd.read_csv(\"Iris.csv\")\n",
    "# df.Species.replace(['Iris-setosa', 'Iris-versicolor', 'Iris-virginica'],['setosa', 'versicolor', 'virginica'],inplace = True)\n",
    "# df.head()"
   ]
  },
  {
   "cell_type": "code",
   "execution_count": 3,
   "metadata": {
    "ExecuteTime": {
     "end_time": "2020-08-16T09:31:14.879487Z",
     "start_time": "2020-08-16T09:31:14.682024Z"
    }
   },
   "outputs": [
    {
     "data": {
      "text/html": [
       "<div>\n",
       "<style scoped>\n",
       "    .dataframe tbody tr th:only-of-type {\n",
       "        vertical-align: middle;\n",
       "    }\n",
       "\n",
       "    .dataframe tbody tr th {\n",
       "        vertical-align: top;\n",
       "    }\n",
       "\n",
       "    .dataframe thead th {\n",
       "        text-align: right;\n",
       "    }\n",
       "</style>\n",
       "<table border=\"1\" class=\"dataframe\">\n",
       "  <thead>\n",
       "    <tr style=\"text-align: right;\">\n",
       "      <th></th>\n",
       "      <th>id</th>\n",
       "      <th>clump_thickness</th>\n",
       "      <th>size_uniformity</th>\n",
       "      <th>shape_uniformity</th>\n",
       "      <th>marginal_adhesion</th>\n",
       "      <th>epithelial_size</th>\n",
       "      <th>bare_nucleoli</th>\n",
       "      <th>bland_chromatin</th>\n",
       "      <th>normal_nucleoli</th>\n",
       "      <th>mitoses</th>\n",
       "      <th>class</th>\n",
       "    </tr>\n",
       "  </thead>\n",
       "  <tbody>\n",
       "    <tr>\n",
       "      <th>0</th>\n",
       "      <td>1000025</td>\n",
       "      <td>5</td>\n",
       "      <td>1</td>\n",
       "      <td>1</td>\n",
       "      <td>1</td>\n",
       "      <td>2</td>\n",
       "      <td>1</td>\n",
       "      <td>3</td>\n",
       "      <td>1</td>\n",
       "      <td>1</td>\n",
       "      <td>2</td>\n",
       "    </tr>\n",
       "    <tr>\n",
       "      <th>1</th>\n",
       "      <td>1002945</td>\n",
       "      <td>5</td>\n",
       "      <td>4</td>\n",
       "      <td>4</td>\n",
       "      <td>5</td>\n",
       "      <td>7</td>\n",
       "      <td>10</td>\n",
       "      <td>3</td>\n",
       "      <td>2</td>\n",
       "      <td>1</td>\n",
       "      <td>2</td>\n",
       "    </tr>\n",
       "    <tr>\n",
       "      <th>2</th>\n",
       "      <td>1015425</td>\n",
       "      <td>3</td>\n",
       "      <td>1</td>\n",
       "      <td>1</td>\n",
       "      <td>1</td>\n",
       "      <td>2</td>\n",
       "      <td>2</td>\n",
       "      <td>3</td>\n",
       "      <td>1</td>\n",
       "      <td>1</td>\n",
       "      <td>2</td>\n",
       "    </tr>\n",
       "    <tr>\n",
       "      <th>3</th>\n",
       "      <td>1016277</td>\n",
       "      <td>6</td>\n",
       "      <td>8</td>\n",
       "      <td>8</td>\n",
       "      <td>1</td>\n",
       "      <td>3</td>\n",
       "      <td>4</td>\n",
       "      <td>3</td>\n",
       "      <td>7</td>\n",
       "      <td>1</td>\n",
       "      <td>2</td>\n",
       "    </tr>\n",
       "    <tr>\n",
       "      <th>4</th>\n",
       "      <td>1017023</td>\n",
       "      <td>4</td>\n",
       "      <td>1</td>\n",
       "      <td>1</td>\n",
       "      <td>3</td>\n",
       "      <td>2</td>\n",
       "      <td>1</td>\n",
       "      <td>3</td>\n",
       "      <td>1</td>\n",
       "      <td>1</td>\n",
       "      <td>2</td>\n",
       "    </tr>\n",
       "  </tbody>\n",
       "</table>\n",
       "</div>"
      ],
      "text/plain": [
       "        id  clump_thickness  size_uniformity  shape_uniformity  \\\n",
       "0  1000025                5                1                 1   \n",
       "1  1002945                5                4                 4   \n",
       "2  1015425                3                1                 1   \n",
       "3  1016277                6                8                 8   \n",
       "4  1017023                4                1                 1   \n",
       "\n",
       "   marginal_adhesion  epithelial_size  bare_nucleoli  bland_chromatin  \\\n",
       "0                  1                2              1                3   \n",
       "1                  5                7             10                3   \n",
       "2                  1                2              2                3   \n",
       "3                  1                3              4                3   \n",
       "4                  3                2              1                3   \n",
       "\n",
       "   normal_nucleoli  mitoses  class  \n",
       "0                1        1      2  \n",
       "1                2        1      2  \n",
       "2                1        1      2  \n",
       "3                7        1      2  \n",
       "4                1        1      2  "
      ]
     },
     "execution_count": 3,
     "metadata": {},
     "output_type": "execute_result"
    }
   ],
   "source": [
    "df = pd.read_csv(\"bc_data.csv\")\n",
    "df.head()"
   ]
  },
  {
   "cell_type": "code",
   "execution_count": 4,
   "metadata": {
    "ExecuteTime": {
     "end_time": "2020-08-16T09:31:14.912771Z",
     "start_time": "2020-08-16T09:31:14.883584Z"
    }
   },
   "outputs": [
    {
     "data": {
      "text/plain": [
       "2    458\n",
       "4    241\n",
       "Name: class, dtype: int64"
      ]
     },
     "execution_count": 4,
     "metadata": {},
     "output_type": "execute_result"
    }
   ],
   "source": [
    "df[\"class\"].value_counts()"
   ]
  },
  {
   "cell_type": "code",
   "execution_count": 5,
   "metadata": {
    "ExecuteTime": {
     "end_time": "2020-08-16T09:31:15.018457Z",
     "start_time": "2020-08-16T09:31:14.915705Z"
    }
   },
   "outputs": [],
   "source": [
    "df[\"class\"].replace([2,4],[\"Benign\",\"Malignant\"],inplace = True)"
   ]
  },
  {
   "cell_type": "code",
   "execution_count": 6,
   "metadata": {
    "ExecuteTime": {
     "end_time": "2020-08-16T09:31:15.179590Z",
     "start_time": "2020-08-16T09:31:15.028275Z"
    }
   },
   "outputs": [
    {
     "data": {
      "text/html": [
       "<div>\n",
       "<style scoped>\n",
       "    .dataframe tbody tr th:only-of-type {\n",
       "        vertical-align: middle;\n",
       "    }\n",
       "\n",
       "    .dataframe tbody tr th {\n",
       "        vertical-align: top;\n",
       "    }\n",
       "\n",
       "    .dataframe thead th {\n",
       "        text-align: right;\n",
       "    }\n",
       "</style>\n",
       "<table border=\"1\" class=\"dataframe\">\n",
       "  <thead>\n",
       "    <tr style=\"text-align: right;\">\n",
       "      <th></th>\n",
       "      <th>id</th>\n",
       "      <th>clump_thickness</th>\n",
       "      <th>size_uniformity</th>\n",
       "      <th>shape_uniformity</th>\n",
       "      <th>marginal_adhesion</th>\n",
       "      <th>epithelial_size</th>\n",
       "      <th>bare_nucleoli</th>\n",
       "      <th>bland_chromatin</th>\n",
       "      <th>normal_nucleoli</th>\n",
       "      <th>mitoses</th>\n",
       "      <th>class</th>\n",
       "    </tr>\n",
       "  </thead>\n",
       "  <tbody>\n",
       "    <tr>\n",
       "      <th>0</th>\n",
       "      <td>1000025</td>\n",
       "      <td>5</td>\n",
       "      <td>1</td>\n",
       "      <td>1</td>\n",
       "      <td>1</td>\n",
       "      <td>2</td>\n",
       "      <td>1</td>\n",
       "      <td>3</td>\n",
       "      <td>1</td>\n",
       "      <td>1</td>\n",
       "      <td>Benign</td>\n",
       "    </tr>\n",
       "    <tr>\n",
       "      <th>1</th>\n",
       "      <td>1002945</td>\n",
       "      <td>5</td>\n",
       "      <td>4</td>\n",
       "      <td>4</td>\n",
       "      <td>5</td>\n",
       "      <td>7</td>\n",
       "      <td>10</td>\n",
       "      <td>3</td>\n",
       "      <td>2</td>\n",
       "      <td>1</td>\n",
       "      <td>Benign</td>\n",
       "    </tr>\n",
       "    <tr>\n",
       "      <th>2</th>\n",
       "      <td>1015425</td>\n",
       "      <td>3</td>\n",
       "      <td>1</td>\n",
       "      <td>1</td>\n",
       "      <td>1</td>\n",
       "      <td>2</td>\n",
       "      <td>2</td>\n",
       "      <td>3</td>\n",
       "      <td>1</td>\n",
       "      <td>1</td>\n",
       "      <td>Benign</td>\n",
       "    </tr>\n",
       "    <tr>\n",
       "      <th>3</th>\n",
       "      <td>1016277</td>\n",
       "      <td>6</td>\n",
       "      <td>8</td>\n",
       "      <td>8</td>\n",
       "      <td>1</td>\n",
       "      <td>3</td>\n",
       "      <td>4</td>\n",
       "      <td>3</td>\n",
       "      <td>7</td>\n",
       "      <td>1</td>\n",
       "      <td>Benign</td>\n",
       "    </tr>\n",
       "    <tr>\n",
       "      <th>4</th>\n",
       "      <td>1017023</td>\n",
       "      <td>4</td>\n",
       "      <td>1</td>\n",
       "      <td>1</td>\n",
       "      <td>3</td>\n",
       "      <td>2</td>\n",
       "      <td>1</td>\n",
       "      <td>3</td>\n",
       "      <td>1</td>\n",
       "      <td>1</td>\n",
       "      <td>Benign</td>\n",
       "    </tr>\n",
       "  </tbody>\n",
       "</table>\n",
       "</div>"
      ],
      "text/plain": [
       "        id  clump_thickness  size_uniformity  shape_uniformity  \\\n",
       "0  1000025                5                1                 1   \n",
       "1  1002945                5                4                 4   \n",
       "2  1015425                3                1                 1   \n",
       "3  1016277                6                8                 8   \n",
       "4  1017023                4                1                 1   \n",
       "\n",
       "   marginal_adhesion  epithelial_size  bare_nucleoli  bland_chromatin  \\\n",
       "0                  1                2              1                3   \n",
       "1                  5                7             10                3   \n",
       "2                  1                2              2                3   \n",
       "3                  1                3              4                3   \n",
       "4                  3                2              1                3   \n",
       "\n",
       "   normal_nucleoli  mitoses   class  \n",
       "0                1        1  Benign  \n",
       "1                2        1  Benign  \n",
       "2                1        1  Benign  \n",
       "3                7        1  Benign  \n",
       "4                1        1  Benign  "
      ]
     },
     "execution_count": 6,
     "metadata": {},
     "output_type": "execute_result"
    }
   ],
   "source": [
    "df.head()"
   ]
  },
  {
   "cell_type": "code",
   "execution_count": 7,
   "metadata": {
    "ExecuteTime": {
     "end_time": "2020-08-16T09:31:15.524259Z",
     "start_time": "2020-08-16T09:31:15.183638Z"
    }
   },
   "outputs": [
    {
     "data": {
      "text/plain": [
       "Benign       458\n",
       "Malignant    241\n",
       "Name: class, dtype: int64"
      ]
     },
     "execution_count": 7,
     "metadata": {},
     "output_type": "execute_result"
    }
   ],
   "source": [
    "df[\"class\"].value_counts()"
   ]
  },
  {
   "cell_type": "markdown",
   "metadata": {},
   "source": [
    "### I want to Apply All kind of Classification Algorithms"
   ]
  },
  {
   "cell_type": "raw",
   "metadata": {},
   "source": [
    "1. Logistic_Regression\n",
    "2. Decision_Tree\n",
    "3. Random_Forest\n",
    "4. Support_Vector_Machines\n",
    "5. K_Nearest_Neighbours\n",
    "6. XGBOOST\n",
    "7. Naive Bayes"
   ]
  },
  {
   "cell_type": "markdown",
   "metadata": {},
   "source": [
    "## 1. Logistic Regression"
   ]
  },
  {
   "cell_type": "raw",
   "metadata": {},
   "source": [
    "Logistic regression is a classification algorithm ,used when our output variable is categorical variable .\n",
    "It is most commonly used when our Question has a Binary output like 0 or 1 ,even we have multiple outputs."
   ]
  },
  {
   "cell_type": "raw",
   "metadata": {},
   "source": [
    "Before Applying Logistic we need to train and split the data"
   ]
  },
  {
   "cell_type": "code",
   "execution_count": 8,
   "metadata": {
    "ExecuteTime": {
     "end_time": "2020-08-16T09:31:17.414392Z",
     "start_time": "2020-08-16T09:31:15.582943Z"
    }
   },
   "outputs": [],
   "source": [
    "from  sklearn.model_selection import train_test_split "
   ]
  },
  {
   "cell_type": "code",
   "execution_count": 9,
   "metadata": {
    "ExecuteTime": {
     "end_time": "2020-08-16T09:31:17.457838Z",
     "start_time": "2020-08-16T09:31:17.419423Z"
    }
   },
   "outputs": [],
   "source": [
    "x_train,x_test,y_train,y_test = train_test_split(df.drop(columns = \"class\",axis = 1),df[\"class\"],train_size = 0.70)"
   ]
  },
  {
   "cell_type": "code",
   "execution_count": 10,
   "metadata": {
    "ExecuteTime": {
     "end_time": "2020-08-16T09:31:17.606471Z",
     "start_time": "2020-08-16T09:31:17.463137Z"
    }
   },
   "outputs": [
    {
     "data": {
      "text/html": [
       "<div>\n",
       "<style scoped>\n",
       "    .dataframe tbody tr th:only-of-type {\n",
       "        vertical-align: middle;\n",
       "    }\n",
       "\n",
       "    .dataframe tbody tr th {\n",
       "        vertical-align: top;\n",
       "    }\n",
       "\n",
       "    .dataframe thead th {\n",
       "        text-align: right;\n",
       "    }\n",
       "</style>\n",
       "<table border=\"1\" class=\"dataframe\">\n",
       "  <thead>\n",
       "    <tr style=\"text-align: right;\">\n",
       "      <th></th>\n",
       "      <th>id</th>\n",
       "      <th>clump_thickness</th>\n",
       "      <th>size_uniformity</th>\n",
       "      <th>shape_uniformity</th>\n",
       "      <th>marginal_adhesion</th>\n",
       "      <th>epithelial_size</th>\n",
       "      <th>bare_nucleoli</th>\n",
       "      <th>bland_chromatin</th>\n",
       "      <th>normal_nucleoli</th>\n",
       "      <th>mitoses</th>\n",
       "    </tr>\n",
       "  </thead>\n",
       "  <tbody>\n",
       "    <tr>\n",
       "      <th>166</th>\n",
       "      <td>1197993</td>\n",
       "      <td>5</td>\n",
       "      <td>6</td>\n",
       "      <td>7</td>\n",
       "      <td>8</td>\n",
       "      <td>8</td>\n",
       "      <td>10</td>\n",
       "      <td>3</td>\n",
       "      <td>10</td>\n",
       "      <td>3</td>\n",
       "    </tr>\n",
       "    <tr>\n",
       "      <th>476</th>\n",
       "      <td>1296025</td>\n",
       "      <td>4</td>\n",
       "      <td>1</td>\n",
       "      <td>2</td>\n",
       "      <td>1</td>\n",
       "      <td>2</td>\n",
       "      <td>1</td>\n",
       "      <td>1</td>\n",
       "      <td>1</td>\n",
       "      <td>1</td>\n",
       "    </tr>\n",
       "    <tr>\n",
       "      <th>37</th>\n",
       "      <td>1081791</td>\n",
       "      <td>6</td>\n",
       "      <td>2</td>\n",
       "      <td>1</td>\n",
       "      <td>1</td>\n",
       "      <td>1</td>\n",
       "      <td>1</td>\n",
       "      <td>7</td>\n",
       "      <td>1</td>\n",
       "      <td>1</td>\n",
       "    </tr>\n",
       "    <tr>\n",
       "      <th>566</th>\n",
       "      <td>1333104</td>\n",
       "      <td>3</td>\n",
       "      <td>1</td>\n",
       "      <td>2</td>\n",
       "      <td>1</td>\n",
       "      <td>2</td>\n",
       "      <td>1</td>\n",
       "      <td>3</td>\n",
       "      <td>1</td>\n",
       "      <td>1</td>\n",
       "    </tr>\n",
       "    <tr>\n",
       "      <th>390</th>\n",
       "      <td>1131411</td>\n",
       "      <td>1</td>\n",
       "      <td>1</td>\n",
       "      <td>1</td>\n",
       "      <td>2</td>\n",
       "      <td>2</td>\n",
       "      <td>1</td>\n",
       "      <td>2</td>\n",
       "      <td>1</td>\n",
       "      <td>1</td>\n",
       "    </tr>\n",
       "    <tr>\n",
       "      <th>...</th>\n",
       "      <td>...</td>\n",
       "      <td>...</td>\n",
       "      <td>...</td>\n",
       "      <td>...</td>\n",
       "      <td>...</td>\n",
       "      <td>...</td>\n",
       "      <td>...</td>\n",
       "      <td>...</td>\n",
       "      <td>...</td>\n",
       "      <td>...</td>\n",
       "    </tr>\n",
       "    <tr>\n",
       "      <th>633</th>\n",
       "      <td>1253955</td>\n",
       "      <td>8</td>\n",
       "      <td>7</td>\n",
       "      <td>4</td>\n",
       "      <td>4</td>\n",
       "      <td>5</td>\n",
       "      <td>3</td>\n",
       "      <td>5</td>\n",
       "      <td>10</td>\n",
       "      <td>1</td>\n",
       "    </tr>\n",
       "    <tr>\n",
       "      <th>331</th>\n",
       "      <td>764974</td>\n",
       "      <td>5</td>\n",
       "      <td>1</td>\n",
       "      <td>1</td>\n",
       "      <td>1</td>\n",
       "      <td>2</td>\n",
       "      <td>1</td>\n",
       "      <td>3</td>\n",
       "      <td>1</td>\n",
       "      <td>2</td>\n",
       "    </tr>\n",
       "    <tr>\n",
       "      <th>116</th>\n",
       "      <td>1173347</td>\n",
       "      <td>8</td>\n",
       "      <td>3</td>\n",
       "      <td>3</td>\n",
       "      <td>1</td>\n",
       "      <td>2</td>\n",
       "      <td>2</td>\n",
       "      <td>3</td>\n",
       "      <td>2</td>\n",
       "      <td>1</td>\n",
       "    </tr>\n",
       "    <tr>\n",
       "      <th>12</th>\n",
       "      <td>1041801</td>\n",
       "      <td>5</td>\n",
       "      <td>3</td>\n",
       "      <td>3</td>\n",
       "      <td>3</td>\n",
       "      <td>2</td>\n",
       "      <td>3</td>\n",
       "      <td>4</td>\n",
       "      <td>4</td>\n",
       "      <td>1</td>\n",
       "    </tr>\n",
       "    <tr>\n",
       "      <th>553</th>\n",
       "      <td>1306339</td>\n",
       "      <td>4</td>\n",
       "      <td>4</td>\n",
       "      <td>2</td>\n",
       "      <td>1</td>\n",
       "      <td>2</td>\n",
       "      <td>5</td>\n",
       "      <td>2</td>\n",
       "      <td>1</td>\n",
       "      <td>2</td>\n",
       "    </tr>\n",
       "  </tbody>\n",
       "</table>\n",
       "<p>489 rows × 10 columns</p>\n",
       "</div>"
      ],
      "text/plain": [
       "          id  clump_thickness  size_uniformity  shape_uniformity  \\\n",
       "166  1197993                5                6                 7   \n",
       "476  1296025                4                1                 2   \n",
       "37   1081791                6                2                 1   \n",
       "566  1333104                3                1                 2   \n",
       "390  1131411                1                1                 1   \n",
       "..       ...              ...              ...               ...   \n",
       "633  1253955                8                7                 4   \n",
       "331   764974                5                1                 1   \n",
       "116  1173347                8                3                 3   \n",
       "12   1041801                5                3                 3   \n",
       "553  1306339                4                4                 2   \n",
       "\n",
       "     marginal_adhesion  epithelial_size  bare_nucleoli  bland_chromatin  \\\n",
       "166                  8                8             10                3   \n",
       "476                  1                2              1                1   \n",
       "37                   1                1              1                7   \n",
       "566                  1                2              1                3   \n",
       "390                  2                2              1                2   \n",
       "..                 ...              ...            ...              ...   \n",
       "633                  4                5              3                5   \n",
       "331                  1                2              1                3   \n",
       "116                  1                2              2                3   \n",
       "12                   3                2              3                4   \n",
       "553                  1                2              5                2   \n",
       "\n",
       "     normal_nucleoli  mitoses  \n",
       "166               10        3  \n",
       "476                1        1  \n",
       "37                 1        1  \n",
       "566                1        1  \n",
       "390                1        1  \n",
       "..               ...      ...  \n",
       "633               10        1  \n",
       "331                1        2  \n",
       "116                2        1  \n",
       "12                 4        1  \n",
       "553                1        2  \n",
       "\n",
       "[489 rows x 10 columns]"
      ]
     },
     "execution_count": 10,
     "metadata": {},
     "output_type": "execute_result"
    }
   ],
   "source": [
    "x_train\n"
   ]
  },
  {
   "cell_type": "code",
   "execution_count": 11,
   "metadata": {
    "ExecuteTime": {
     "end_time": "2020-08-16T09:31:17.807320Z",
     "start_time": "2020-08-16T09:31:17.611456Z"
    }
   },
   "outputs": [
    {
     "data": {
      "text/html": [
       "<div>\n",
       "<style scoped>\n",
       "    .dataframe tbody tr th:only-of-type {\n",
       "        vertical-align: middle;\n",
       "    }\n",
       "\n",
       "    .dataframe tbody tr th {\n",
       "        vertical-align: top;\n",
       "    }\n",
       "\n",
       "    .dataframe thead th {\n",
       "        text-align: right;\n",
       "    }\n",
       "</style>\n",
       "<table border=\"1\" class=\"dataframe\">\n",
       "  <thead>\n",
       "    <tr style=\"text-align: right;\">\n",
       "      <th></th>\n",
       "      <th>id</th>\n",
       "      <th>clump_thickness</th>\n",
       "      <th>size_uniformity</th>\n",
       "      <th>shape_uniformity</th>\n",
       "      <th>marginal_adhesion</th>\n",
       "      <th>epithelial_size</th>\n",
       "      <th>bare_nucleoli</th>\n",
       "      <th>bland_chromatin</th>\n",
       "      <th>normal_nucleoli</th>\n",
       "      <th>mitoses</th>\n",
       "    </tr>\n",
       "  </thead>\n",
       "  <tbody>\n",
       "    <tr>\n",
       "      <th>106</th>\n",
       "      <td>1170419</td>\n",
       "      <td>10</td>\n",
       "      <td>10</td>\n",
       "      <td>10</td>\n",
       "      <td>8</td>\n",
       "      <td>2</td>\n",
       "      <td>10</td>\n",
       "      <td>4</td>\n",
       "      <td>1</td>\n",
       "      <td>1</td>\n",
       "    </tr>\n",
       "    <tr>\n",
       "      <th>241</th>\n",
       "      <td>1276091</td>\n",
       "      <td>3</td>\n",
       "      <td>1</td>\n",
       "      <td>1</td>\n",
       "      <td>3</td>\n",
       "      <td>1</td>\n",
       "      <td>1</td>\n",
       "      <td>3</td>\n",
       "      <td>1</td>\n",
       "      <td>1</td>\n",
       "    </tr>\n",
       "    <tr>\n",
       "      <th>436</th>\n",
       "      <td>1295186</td>\n",
       "      <td>10</td>\n",
       "      <td>10</td>\n",
       "      <td>10</td>\n",
       "      <td>1</td>\n",
       "      <td>6</td>\n",
       "      <td>1</td>\n",
       "      <td>2</td>\n",
       "      <td>8</td>\n",
       "      <td>1</td>\n",
       "    </tr>\n",
       "    <tr>\n",
       "      <th>228</th>\n",
       "      <td>1228311</td>\n",
       "      <td>1</td>\n",
       "      <td>1</td>\n",
       "      <td>1</td>\n",
       "      <td>1</td>\n",
       "      <td>1</td>\n",
       "      <td>1</td>\n",
       "      <td>3</td>\n",
       "      <td>1</td>\n",
       "      <td>1</td>\n",
       "    </tr>\n",
       "    <tr>\n",
       "      <th>200</th>\n",
       "      <td>1214966</td>\n",
       "      <td>9</td>\n",
       "      <td>7</td>\n",
       "      <td>7</td>\n",
       "      <td>5</td>\n",
       "      <td>5</td>\n",
       "      <td>10</td>\n",
       "      <td>7</td>\n",
       "      <td>8</td>\n",
       "      <td>3</td>\n",
       "    </tr>\n",
       "    <tr>\n",
       "      <th>...</th>\n",
       "      <td>...</td>\n",
       "      <td>...</td>\n",
       "      <td>...</td>\n",
       "      <td>...</td>\n",
       "      <td>...</td>\n",
       "      <td>...</td>\n",
       "      <td>...</td>\n",
       "      <td>...</td>\n",
       "      <td>...</td>\n",
       "      <td>...</td>\n",
       "    </tr>\n",
       "    <tr>\n",
       "      <th>393</th>\n",
       "      <td>1158247</td>\n",
       "      <td>1</td>\n",
       "      <td>1</td>\n",
       "      <td>1</td>\n",
       "      <td>1</td>\n",
       "      <td>1</td>\n",
       "      <td>1</td>\n",
       "      <td>1</td>\n",
       "      <td>1</td>\n",
       "      <td>1</td>\n",
       "    </tr>\n",
       "    <tr>\n",
       "      <th>336</th>\n",
       "      <td>797327</td>\n",
       "      <td>6</td>\n",
       "      <td>5</td>\n",
       "      <td>5</td>\n",
       "      <td>8</td>\n",
       "      <td>4</td>\n",
       "      <td>10</td>\n",
       "      <td>3</td>\n",
       "      <td>4</td>\n",
       "      <td>1</td>\n",
       "    </tr>\n",
       "    <tr>\n",
       "      <th>281</th>\n",
       "      <td>486662</td>\n",
       "      <td>2</td>\n",
       "      <td>1</td>\n",
       "      <td>1</td>\n",
       "      <td>2</td>\n",
       "      <td>2</td>\n",
       "      <td>1</td>\n",
       "      <td>3</td>\n",
       "      <td>1</td>\n",
       "      <td>1</td>\n",
       "    </tr>\n",
       "    <tr>\n",
       "      <th>614</th>\n",
       "      <td>1031608</td>\n",
       "      <td>2</td>\n",
       "      <td>1</td>\n",
       "      <td>1</td>\n",
       "      <td>1</td>\n",
       "      <td>1</td>\n",
       "      <td>1</td>\n",
       "      <td>2</td>\n",
       "      <td>1</td>\n",
       "      <td>1</td>\n",
       "    </tr>\n",
       "    <tr>\n",
       "      <th>259</th>\n",
       "      <td>242970</td>\n",
       "      <td>5</td>\n",
       "      <td>7</td>\n",
       "      <td>7</td>\n",
       "      <td>1</td>\n",
       "      <td>5</td>\n",
       "      <td>8</td>\n",
       "      <td>3</td>\n",
       "      <td>4</td>\n",
       "      <td>1</td>\n",
       "    </tr>\n",
       "  </tbody>\n",
       "</table>\n",
       "<p>210 rows × 10 columns</p>\n",
       "</div>"
      ],
      "text/plain": [
       "          id  clump_thickness  size_uniformity  shape_uniformity  \\\n",
       "106  1170419               10               10                10   \n",
       "241  1276091                3                1                 1   \n",
       "436  1295186               10               10                10   \n",
       "228  1228311                1                1                 1   \n",
       "200  1214966                9                7                 7   \n",
       "..       ...              ...              ...               ...   \n",
       "393  1158247                1                1                 1   \n",
       "336   797327                6                5                 5   \n",
       "281   486662                2                1                 1   \n",
       "614  1031608                2                1                 1   \n",
       "259   242970                5                7                 7   \n",
       "\n",
       "     marginal_adhesion  epithelial_size  bare_nucleoli  bland_chromatin  \\\n",
       "106                  8                2             10                4   \n",
       "241                  3                1              1                3   \n",
       "436                  1                6              1                2   \n",
       "228                  1                1              1                3   \n",
       "200                  5                5             10                7   \n",
       "..                 ...              ...            ...              ...   \n",
       "393                  1                1              1                1   \n",
       "336                  8                4             10                3   \n",
       "281                  2                2              1                3   \n",
       "614                  1                1              1                2   \n",
       "259                  1                5              8                3   \n",
       "\n",
       "     normal_nucleoli  mitoses  \n",
       "106                1        1  \n",
       "241                1        1  \n",
       "436                8        1  \n",
       "228                1        1  \n",
       "200                8        3  \n",
       "..               ...      ...  \n",
       "393                1        1  \n",
       "336                4        1  \n",
       "281                1        1  \n",
       "614                1        1  \n",
       "259                4        1  \n",
       "\n",
       "[210 rows x 10 columns]"
      ]
     },
     "execution_count": 11,
     "metadata": {},
     "output_type": "execute_result"
    }
   ],
   "source": [
    "x_test"
   ]
  },
  {
   "cell_type": "code",
   "execution_count": 12,
   "metadata": {
    "ExecuteTime": {
     "end_time": "2020-08-16T09:31:17.995607Z",
     "start_time": "2020-08-16T09:31:17.812729Z"
    }
   },
   "outputs": [
    {
     "data": {
      "text/plain": [
       "166    Malignant\n",
       "476       Benign\n",
       "37        Benign\n",
       "566       Benign\n",
       "390       Benign\n",
       "         ...    \n",
       "633    Malignant\n",
       "331       Benign\n",
       "116       Benign\n",
       "12     Malignant\n",
       "553       Benign\n",
       "Name: class, Length: 489, dtype: object"
      ]
     },
     "execution_count": 12,
     "metadata": {},
     "output_type": "execute_result"
    }
   ],
   "source": [
    "y_train"
   ]
  },
  {
   "cell_type": "code",
   "execution_count": 13,
   "metadata": {
    "ExecuteTime": {
     "end_time": "2020-08-16T09:31:18.187656Z",
     "start_time": "2020-08-16T09:31:17.998601Z"
    }
   },
   "outputs": [
    {
     "data": {
      "text/plain": [
       "106    Malignant\n",
       "241       Benign\n",
       "436    Malignant\n",
       "228       Benign\n",
       "200    Malignant\n",
       "         ...    \n",
       "393       Benign\n",
       "336    Malignant\n",
       "281       Benign\n",
       "614       Benign\n",
       "259       Benign\n",
       "Name: class, Length: 210, dtype: object"
      ]
     },
     "execution_count": 13,
     "metadata": {},
     "output_type": "execute_result"
    }
   ],
   "source": [
    "y_test"
   ]
  },
  {
   "cell_type": "markdown",
   "metadata": {},
   "source": [
    "#### Now we Apply Algorithm called Logistic Regression"
   ]
  },
  {
   "cell_type": "code",
   "execution_count": 14,
   "metadata": {
    "ExecuteTime": {
     "end_time": "2020-08-16T09:31:18.456550Z",
     "start_time": "2020-08-16T09:31:18.206474Z"
    }
   },
   "outputs": [],
   "source": [
    "from sklearn.linear_model import LogisticRegression"
   ]
  },
  {
   "cell_type": "code",
   "execution_count": 15,
   "metadata": {
    "ExecuteTime": {
     "end_time": "2020-08-16T09:31:18.529835Z",
     "start_time": "2020-08-16T09:31:18.460931Z"
    }
   },
   "outputs": [],
   "source": [
    "logreg = LogisticRegression()"
   ]
  },
  {
   "cell_type": "code",
   "execution_count": 16,
   "metadata": {
    "ExecuteTime": {
     "end_time": "2020-08-16T09:31:18.651675Z",
     "start_time": "2020-08-16T09:31:18.534393Z"
    }
   },
   "outputs": [
    {
     "data": {
      "text/plain": [
       "LogisticRegression()"
      ]
     },
     "execution_count": 16,
     "metadata": {},
     "output_type": "execute_result"
    }
   ],
   "source": [
    "logreg.fit(x_train,y_train)"
   ]
  },
  {
   "cell_type": "code",
   "execution_count": 17,
   "metadata": {
    "ExecuteTime": {
     "end_time": "2020-08-16T09:31:18.822699Z",
     "start_time": "2020-08-16T09:31:18.655550Z"
    }
   },
   "outputs": [
    {
     "data": {
      "text/html": [
       "<div>\n",
       "<style scoped>\n",
       "    .dataframe tbody tr th:only-of-type {\n",
       "        vertical-align: middle;\n",
       "    }\n",
       "\n",
       "    .dataframe tbody tr th {\n",
       "        vertical-align: top;\n",
       "    }\n",
       "\n",
       "    .dataframe thead th {\n",
       "        text-align: right;\n",
       "    }\n",
       "</style>\n",
       "<table border=\"1\" class=\"dataframe\">\n",
       "  <thead>\n",
       "    <tr style=\"text-align: right;\">\n",
       "      <th></th>\n",
       "      <th>0</th>\n",
       "    </tr>\n",
       "  </thead>\n",
       "  <tbody>\n",
       "    <tr>\n",
       "      <th>0</th>\n",
       "      <td>Benign</td>\n",
       "    </tr>\n",
       "    <tr>\n",
       "      <th>1</th>\n",
       "      <td>Benign</td>\n",
       "    </tr>\n",
       "    <tr>\n",
       "      <th>2</th>\n",
       "      <td>Benign</td>\n",
       "    </tr>\n",
       "    <tr>\n",
       "      <th>3</th>\n",
       "      <td>Benign</td>\n",
       "    </tr>\n",
       "    <tr>\n",
       "      <th>4</th>\n",
       "      <td>Benign</td>\n",
       "    </tr>\n",
       "    <tr>\n",
       "      <th>...</th>\n",
       "      <td>...</td>\n",
       "    </tr>\n",
       "    <tr>\n",
       "      <th>205</th>\n",
       "      <td>Benign</td>\n",
       "    </tr>\n",
       "    <tr>\n",
       "      <th>206</th>\n",
       "      <td>Benign</td>\n",
       "    </tr>\n",
       "    <tr>\n",
       "      <th>207</th>\n",
       "      <td>Benign</td>\n",
       "    </tr>\n",
       "    <tr>\n",
       "      <th>208</th>\n",
       "      <td>Benign</td>\n",
       "    </tr>\n",
       "    <tr>\n",
       "      <th>209</th>\n",
       "      <td>Benign</td>\n",
       "    </tr>\n",
       "  </tbody>\n",
       "</table>\n",
       "<p>210 rows × 1 columns</p>\n",
       "</div>"
      ],
      "text/plain": [
       "          0\n",
       "0    Benign\n",
       "1    Benign\n",
       "2    Benign\n",
       "3    Benign\n",
       "4    Benign\n",
       "..      ...\n",
       "205  Benign\n",
       "206  Benign\n",
       "207  Benign\n",
       "208  Benign\n",
       "209  Benign\n",
       "\n",
       "[210 rows x 1 columns]"
      ]
     },
     "execution_count": 17,
     "metadata": {},
     "output_type": "execute_result"
    }
   ],
   "source": [
    "y_pred = pd.DataFrame(logreg.predict(x_test))\n",
    "y_pred "
   ]
  },
  {
   "cell_type": "code",
   "execution_count": 18,
   "metadata": {
    "ExecuteTime": {
     "end_time": "2020-08-16T09:31:18.990157Z",
     "start_time": "2020-08-16T09:31:18.826607Z"
    }
   },
   "outputs": [
    {
     "data": {
      "text/html": [
       "<div>\n",
       "<style scoped>\n",
       "    .dataframe tbody tr th:only-of-type {\n",
       "        vertical-align: middle;\n",
       "    }\n",
       "\n",
       "    .dataframe tbody tr th {\n",
       "        vertical-align: top;\n",
       "    }\n",
       "\n",
       "    .dataframe thead th {\n",
       "        text-align: right;\n",
       "    }\n",
       "</style>\n",
       "<table border=\"1\" class=\"dataframe\">\n",
       "  <thead>\n",
       "    <tr style=\"text-align: right;\">\n",
       "      <th></th>\n",
       "      <th>class</th>\n",
       "    </tr>\n",
       "  </thead>\n",
       "  <tbody>\n",
       "    <tr>\n",
       "      <th>0</th>\n",
       "      <td>Malignant</td>\n",
       "    </tr>\n",
       "    <tr>\n",
       "      <th>1</th>\n",
       "      <td>Benign</td>\n",
       "    </tr>\n",
       "    <tr>\n",
       "      <th>2</th>\n",
       "      <td>Malignant</td>\n",
       "    </tr>\n",
       "    <tr>\n",
       "      <th>3</th>\n",
       "      <td>Benign</td>\n",
       "    </tr>\n",
       "    <tr>\n",
       "      <th>4</th>\n",
       "      <td>Malignant</td>\n",
       "    </tr>\n",
       "    <tr>\n",
       "      <th>...</th>\n",
       "      <td>...</td>\n",
       "    </tr>\n",
       "    <tr>\n",
       "      <th>205</th>\n",
       "      <td>Benign</td>\n",
       "    </tr>\n",
       "    <tr>\n",
       "      <th>206</th>\n",
       "      <td>Malignant</td>\n",
       "    </tr>\n",
       "    <tr>\n",
       "      <th>207</th>\n",
       "      <td>Benign</td>\n",
       "    </tr>\n",
       "    <tr>\n",
       "      <th>208</th>\n",
       "      <td>Benign</td>\n",
       "    </tr>\n",
       "    <tr>\n",
       "      <th>209</th>\n",
       "      <td>Benign</td>\n",
       "    </tr>\n",
       "  </tbody>\n",
       "</table>\n",
       "<p>210 rows × 1 columns</p>\n",
       "</div>"
      ],
      "text/plain": [
       "         class\n",
       "0    Malignant\n",
       "1       Benign\n",
       "2    Malignant\n",
       "3       Benign\n",
       "4    Malignant\n",
       "..         ...\n",
       "205     Benign\n",
       "206  Malignant\n",
       "207     Benign\n",
       "208     Benign\n",
       "209     Benign\n",
       "\n",
       "[210 rows x 1 columns]"
      ]
     },
     "execution_count": 18,
     "metadata": {},
     "output_type": "execute_result"
    }
   ],
   "source": [
    "y_test = pd.DataFrame(y_test)\n",
    "y_test.reset_index(drop = True,inplace = True)\n",
    "y_test"
   ]
  },
  {
   "cell_type": "code",
   "execution_count": 19,
   "metadata": {
    "ExecuteTime": {
     "end_time": "2020-08-16T09:31:19.276853Z",
     "start_time": "2020-08-16T09:31:18.992153Z"
    }
   },
   "outputs": [
    {
     "data": {
      "text/html": [
       "<div>\n",
       "<style scoped>\n",
       "    .dataframe tbody tr th:only-of-type {\n",
       "        vertical-align: middle;\n",
       "    }\n",
       "\n",
       "    .dataframe tbody tr th {\n",
       "        vertical-align: top;\n",
       "    }\n",
       "\n",
       "    .dataframe thead th {\n",
       "        text-align: right;\n",
       "    }\n",
       "</style>\n",
       "<table border=\"1\" class=\"dataframe\">\n",
       "  <thead>\n",
       "    <tr style=\"text-align: right;\">\n",
       "      <th></th>\n",
       "      <th>Actual</th>\n",
       "      <th>Predicted</th>\n",
       "    </tr>\n",
       "  </thead>\n",
       "  <tbody>\n",
       "    <tr>\n",
       "      <th>0</th>\n",
       "      <td>Malignant</td>\n",
       "      <td>Benign</td>\n",
       "    </tr>\n",
       "    <tr>\n",
       "      <th>1</th>\n",
       "      <td>Benign</td>\n",
       "      <td>Benign</td>\n",
       "    </tr>\n",
       "    <tr>\n",
       "      <th>2</th>\n",
       "      <td>Malignant</td>\n",
       "      <td>Benign</td>\n",
       "    </tr>\n",
       "    <tr>\n",
       "      <th>3</th>\n",
       "      <td>Benign</td>\n",
       "      <td>Benign</td>\n",
       "    </tr>\n",
       "    <tr>\n",
       "      <th>4</th>\n",
       "      <td>Malignant</td>\n",
       "      <td>Benign</td>\n",
       "    </tr>\n",
       "    <tr>\n",
       "      <th>...</th>\n",
       "      <td>...</td>\n",
       "      <td>...</td>\n",
       "    </tr>\n",
       "    <tr>\n",
       "      <th>205</th>\n",
       "      <td>Benign</td>\n",
       "      <td>Benign</td>\n",
       "    </tr>\n",
       "    <tr>\n",
       "      <th>206</th>\n",
       "      <td>Malignant</td>\n",
       "      <td>Benign</td>\n",
       "    </tr>\n",
       "    <tr>\n",
       "      <th>207</th>\n",
       "      <td>Benign</td>\n",
       "      <td>Benign</td>\n",
       "    </tr>\n",
       "    <tr>\n",
       "      <th>208</th>\n",
       "      <td>Benign</td>\n",
       "      <td>Benign</td>\n",
       "    </tr>\n",
       "    <tr>\n",
       "      <th>209</th>\n",
       "      <td>Benign</td>\n",
       "      <td>Benign</td>\n",
       "    </tr>\n",
       "  </tbody>\n",
       "</table>\n",
       "<p>210 rows × 2 columns</p>\n",
       "</div>"
      ],
      "text/plain": [
       "        Actual Predicted\n",
       "0    Malignant    Benign\n",
       "1       Benign    Benign\n",
       "2    Malignant    Benign\n",
       "3       Benign    Benign\n",
       "4    Malignant    Benign\n",
       "..         ...       ...\n",
       "205     Benign    Benign\n",
       "206  Malignant    Benign\n",
       "207     Benign    Benign\n",
       "208     Benign    Benign\n",
       "209     Benign    Benign\n",
       "\n",
       "[210 rows x 2 columns]"
      ]
     },
     "execution_count": 19,
     "metadata": {},
     "output_type": "execute_result"
    }
   ],
   "source": [
    "y_both = pd.concat([y_test,y_pred],axis=1)\n",
    "y_both.columns = [\"Actual\",\"Predicted\"]\n",
    "y_both"
   ]
  },
  {
   "cell_type": "markdown",
   "metadata": {},
   "source": [
    "#### Now we check the Accuracy and all metrics "
   ]
  },
  {
   "cell_type": "code",
   "execution_count": 20,
   "metadata": {
    "ExecuteTime": {
     "end_time": "2020-08-16T09:31:19.444038Z",
     "start_time": "2020-08-16T09:31:19.283679Z"
    }
   },
   "outputs": [],
   "source": [
    "from sklearn import metrics "
   ]
  },
  {
   "cell_type": "code",
   "execution_count": 21,
   "metadata": {
    "ExecuteTime": {
     "end_time": "2020-08-16T09:31:19.611856Z",
     "start_time": "2020-08-16T09:31:19.447031Z"
    }
   },
   "outputs": [
    {
     "data": {
      "text/plain": [
       "array([[134,   0],\n",
       "       [ 76,   0]], dtype=int64)"
      ]
     },
     "execution_count": 21,
     "metadata": {},
     "output_type": "execute_result"
    }
   ],
   "source": [
    "metrics.confusion_matrix(y_test,y_pred)"
   ]
  },
  {
   "cell_type": "code",
   "execution_count": 22,
   "metadata": {
    "ExecuteTime": {
     "end_time": "2020-08-16T09:31:19.832698Z",
     "start_time": "2020-08-16T09:31:19.624446Z"
    }
   },
   "outputs": [
    {
     "name": "stdout",
     "output_type": "stream",
     "text": [
      "              precision    recall  f1-score   support\n",
      "\n",
      "      Benign       0.64      1.00      0.78       134\n",
      "   Malignant       0.00      0.00      0.00        76\n",
      "\n",
      "    accuracy                           0.64       210\n",
      "   macro avg       0.32      0.50      0.39       210\n",
      "weighted avg       0.41      0.64      0.50       210\n",
      "\n"
     ]
    },
    {
     "name": "stderr",
     "output_type": "stream",
     "text": [
      "C:\\Users\\aakas\\Anaconda\\lib\\site-packages\\sklearn\\metrics\\_classification.py:1221: UndefinedMetricWarning: Precision and F-score are ill-defined and being set to 0.0 in labels with no predicted samples. Use `zero_division` parameter to control this behavior.\n",
      "  _warn_prf(average, modifier, msg_start, len(result))\n"
     ]
    }
   ],
   "source": [
    "print(metrics.classification_report(y_test,y_pred))"
   ]
  },
  {
   "cell_type": "code",
   "execution_count": 48,
   "metadata": {
    "ExecuteTime": {
     "end_time": "2020-08-16T10:02:43.092454Z",
     "start_time": "2020-08-16T10:02:43.085358Z"
    }
   },
   "outputs": [],
   "source": [
    "from sklearn.metrics import roc_auc_score,roc_curve"
   ]
  },
  {
   "cell_type": "code",
   "execution_count": 55,
   "metadata": {
    "ExecuteTime": {
     "end_time": "2020-08-16T10:05:29.571755Z",
     "start_time": "2020-08-16T10:05:29.555437Z"
    }
   },
   "outputs": [],
   "source": [
    "y_test1 = y_test.replace([\"Benign\",\"Malignant\"],[0,1])\n",
    "y_pred1 = y_pred.replace([\"Benign\",\"Malignant\"],[0,1])\n",
    "y_pred1_prob = logreg.predict_proba(x_test)"
   ]
  },
  {
   "cell_type": "code",
   "execution_count": 56,
   "metadata": {
    "ExecuteTime": {
     "end_time": "2020-08-16T10:05:37.521427Z",
     "start_time": "2020-08-16T10:05:37.498443Z"
    }
   },
   "outputs": [],
   "source": [
    "logit_roc = roc_auc_score(y_test1,y_pred1)"
   ]
  },
  {
   "cell_type": "code",
   "execution_count": 58,
   "metadata": {
    "ExecuteTime": {
     "end_time": "2020-08-16T10:06:23.638764Z",
     "start_time": "2020-08-16T10:06:23.627241Z"
    }
   },
   "outputs": [],
   "source": [
    "fpr, tpr, thresholds = roc_curve(y_test1,y_pred1_prob[:,1])"
   ]
  },
  {
   "cell_type": "code",
   "execution_count": 97,
   "metadata": {
    "ExecuteTime": {
     "end_time": "2020-08-16T10:35:36.209752Z",
     "start_time": "2020-08-16T10:35:36.198782Z"
    }
   },
   "outputs": [
    {
     "data": {
      "text/plain": [
       "array([1, 1, 1, 1, 1, 1, 1, 0, 1, 1, 1, 1, 0, 1, 1, 1, 0, 1, 1, 1, 1, 1,\n",
       "       1, 1, 1, 1, 1, 1, 1, 1, 1, 1, 1, 1, 1, 0, 1, 1, 1, 1, 1, 1, 1, 1,\n",
       "       1, 1, 1, 1, 1, 1, 1, 1, 1, 1, 1, 1, 1, 1, 1, 1, 1, 1, 1, 1, 1, 1,\n",
       "       0, 1, 1, 1, 1, 1, 1, 1, 0, 1, 1, 1, 1, 1, 1, 1, 1, 1, 1, 1, 1, 1,\n",
       "       1, 1, 1, 1, 1, 1, 1, 1, 1, 1, 1, 1, 1, 1, 1, 1, 1, 0, 1, 1, 1, 1,\n",
       "       1, 1, 1, 1, 1, 1, 1, 1, 1, 1, 1, 1, 1, 0, 1, 1, 1, 1, 1, 1, 1, 1,\n",
       "       0, 1, 1, 1, 1, 1, 1, 1, 1, 1, 1, 1, 1, 1, 1, 1, 1, 1, 1, 1, 1, 1,\n",
       "       1, 1, 1, 1, 1, 1, 1, 1, 1, 1, 1, 1, 1, 1, 1, 1, 1, 1, 1, 1, 0, 1,\n",
       "       1, 1, 1, 1, 1, 1, 1, 1, 1, 1, 1, 1, 1, 1, 1, 1, 1, 1, 1, 1, 1, 1,\n",
       "       1, 1, 1, 1, 1, 1, 1, 1, 1, 1, 1, 1])"
      ]
     },
     "execution_count": 97,
     "metadata": {},
     "output_type": "execute_result"
    }
   ],
   "source": [
    "predict_mine = np.where(y_pred1_prob[:,0] <0.7,1,0)\n",
    "predict_mine"
   ]
  },
  {
   "cell_type": "code",
   "execution_count": 98,
   "metadata": {
    "ExecuteTime": {
     "end_time": "2020-08-16T10:35:36.539767Z",
     "start_time": "2020-08-16T10:35:36.521846Z"
    }
   },
   "outputs": [
    {
     "data": {
      "text/plain": [
       "array([[  7, 127],\n",
       "       [  3,  73]], dtype=int64)"
      ]
     },
     "execution_count": 98,
     "metadata": {},
     "output_type": "execute_result"
    }
   ],
   "source": [
    "metrics.confusion_matrix(y_test1,predict_mine)"
   ]
  },
  {
   "cell_type": "code",
   "execution_count": 88,
   "metadata": {
    "ExecuteTime": {
     "end_time": "2020-08-16T10:25:30.805076Z",
     "start_time": "2020-08-16T10:25:30.511895Z"
    }
   },
   "outputs": [
    {
     "data": {
      "image/png": "[encoded data removed]",
      "text/plain": [
       "<Figure size 432x288 with 1 Axes>"
      ]
     },
     "metadata": {},
     "output_type": "display_data"
    }
   ],
   "source": [
    "auc = metrics.roc_auc_score(y_test1, y_pred1_prob[:,1])\n",
    "plt.plot(fpr,tpr,label=\"data 1, auc=\"+str(auc))\n",
    "plt.legend(loc=4)\n",
    "plt.show()"
   ]
  },
  {
   "cell_type": "code",
   "execution_count": 94,
   "metadata": {
    "ExecuteTime": {
     "end_time": "2020-08-16T10:29:04.206077Z",
     "start_time": "2020-08-16T10:29:04.184098Z"
    }
   },
   "outputs": [
    {
     "data": {
      "text/plain": [
       "array([[0.67635542, 0.32364458],\n",
       "       [0.69074827, 0.30925173],\n",
       "       [0.6933111 , 0.3066889 ],\n",
       "       [0.68428408, 0.31571592],\n",
       "       [0.68246567, 0.31753433],\n",
       "       [0.69097704, 0.30902296],\n",
       "       [0.68080469, 0.31919531],\n",
       "       [0.99443227, 0.00556773],\n",
       "       [0.67093871, 0.32906129],\n",
       "       [0.58781952, 0.41218048],\n",
       "       [0.61684485, 0.38315515],\n",
       "       [0.67583288, 0.32416712],\n",
       "       [0.70032978, 0.29967022],\n",
       "       [0.68307129, 0.31692871],\n",
       "       [0.67800537, 0.32199463],\n",
       "       [0.68595403, 0.31404597],\n",
       "       [0.70300898, 0.29699102],\n",
       "       [0.67607138, 0.32392862],\n",
       "       [0.66301003, 0.33698997],\n",
       "       [0.67675892, 0.32324108],\n",
       "       [0.66693317, 0.33306683],\n",
       "       [0.69968508, 0.30031492],\n",
       "       [0.68319725, 0.31680275],\n",
       "       [0.69384311, 0.30615689],\n",
       "       [0.68055009, 0.31944991],\n",
       "       [0.68366908, 0.31633092],\n",
       "       [0.67800537, 0.32199463],\n",
       "       [0.52279503, 0.47720497],\n",
       "       [0.68937552, 0.31062448],\n",
       "       [0.68572946, 0.31427054],\n",
       "       [0.68565644, 0.31434356],\n",
       "       [0.51506523, 0.48493477],\n",
       "       [0.68348805, 0.31651195],\n",
       "       [0.68405288, 0.31594712],\n",
       "       [0.69220622, 0.30779378],\n",
       "       [0.70262241, 0.29737759],\n",
       "       [0.69554128, 0.30445872],\n",
       "       [0.67825004, 0.32174996],\n",
       "       [0.67936782, 0.32063218],\n",
       "       [0.67337819, 0.32662181],\n",
       "       [0.69885473, 0.30114527],\n",
       "       [0.55927474, 0.44072526],\n",
       "       [0.66896947, 0.33103053],\n",
       "       [0.67894805, 0.32105195],\n",
       "       [0.67583619, 0.32416381],\n",
       "       [0.69201673, 0.30798327],\n",
       "       [0.6661251 , 0.3338749 ],\n",
       "       [0.61493971, 0.38506029],\n",
       "       [0.68572498, 0.31427502],\n",
       "       [0.69778768, 0.30221232],\n",
       "       [0.59878941, 0.40121059],\n",
       "       [0.66804156, 0.33195844],\n",
       "       [0.67573574, 0.32426426],\n",
       "       [0.62796395, 0.37203605],\n",
       "       [0.62672152, 0.37327848],\n",
       "       [0.69666419, 0.30333581],\n",
       "       [0.60665892, 0.39334108],\n",
       "       [0.66742567, 0.33257433],\n",
       "       [0.5120242 , 0.4879758 ],\n",
       "       [0.65920338, 0.34079662],\n",
       "       [0.68224851, 0.31775149],\n",
       "       [0.65758049, 0.34241951],\n",
       "       [0.65827086, 0.34172914],\n",
       "       [0.67993684, 0.32006316],\n",
       "       [0.69074827, 0.30925173],\n",
       "       [0.62415733, 0.37584267],\n",
       "       [0.70095322, 0.29904678],\n",
       "       [0.69097704, 0.30902296],\n",
       "       [0.67653336, 0.32346664],\n",
       "       [0.60941946, 0.39058054],\n",
       "       [0.66243459, 0.33756541],\n",
       "       [0.69071006, 0.30928994],\n",
       "       [0.65243661, 0.34756339],\n",
       "       [0.69362381, 0.30637619],\n",
       "       [0.70124052, 0.29875948],\n",
       "       [0.58736643, 0.41263357],\n",
       "       [0.68071067, 0.31928933],\n",
       "       [0.65480465, 0.34519535],\n",
       "       [0.66249274, 0.33750726],\n",
       "       [0.68795576, 0.31204424],\n",
       "       [0.6044935 , 0.3955065 ],\n",
       "       [0.67724558, 0.32275442],\n",
       "       [0.5099763 , 0.4900237 ],\n",
       "       [0.63019091, 0.36980909],\n",
       "       [0.68023361, 0.31976639],\n",
       "       [0.67440217, 0.32559783],\n",
       "       [0.60703815, 0.39296185],\n",
       "       [0.68411671, 0.31588329],\n",
       "       [0.65951244, 0.34048756],\n",
       "       [0.66798555, 0.33201445],\n",
       "       [0.68601263, 0.31398737],\n",
       "       [0.67825787, 0.32174213],\n",
       "       [0.67821252, 0.32178748],\n",
       "       [0.63387084, 0.36612916],\n",
       "       [0.6966425 , 0.3033575 ],\n",
       "       [0.59354682, 0.40645318],\n",
       "       [0.67991217, 0.32008783],\n",
       "       [0.69732985, 0.30267015],\n",
       "       [0.69394517, 0.30605483],\n",
       "       [0.69307712, 0.30692288],\n",
       "       [0.60352453, 0.39647547],\n",
       "       [0.68413427, 0.31586573],\n",
       "       [0.57298358, 0.42701642],\n",
       "       [0.61451374, 0.38548626],\n",
       "       [0.67822242, 0.32177758],\n",
       "       [0.70348907, 0.29651093],\n",
       "       [0.69724637, 0.30275363],\n",
       "       [0.69074827, 0.30925173],\n",
       "       [0.68001975, 0.31998025],\n",
       "       [0.67635556, 0.32364444],\n",
       "       [0.66877559, 0.33122441],\n",
       "       [0.66018779, 0.33981221],\n",
       "       [0.6320861 , 0.3679139 ],\n",
       "       [0.61741996, 0.38258004],\n",
       "       [0.67690782, 0.32309218],\n",
       "       [0.61356138, 0.38643862],\n",
       "       [0.62227871, 0.37772129],\n",
       "       [0.6710851 , 0.3289149 ],\n",
       "       [0.61884862, 0.38115138],\n",
       "       [0.61790092, 0.38209908],\n",
       "       [0.66944443, 0.33055557],\n",
       "       [0.68287303, 0.31712697],\n",
       "       [0.67685672, 0.32314328],\n",
       "       [0.70337162, 0.29662838],\n",
       "       [0.60619628, 0.39380372],\n",
       "       [0.54934174, 0.45065826],\n",
       "       [0.68223458, 0.31776542],\n",
       "       [0.68195177, 0.31804823],\n",
       "       [0.60634992, 0.39365008],\n",
       "       [0.67289974, 0.32710026],\n",
       "       [0.62387409, 0.37612591],\n",
       "       [0.6922517 , 0.3077483 ],\n",
       "       [0.70308984, 0.29691016],\n",
       "       [0.67460431, 0.32539569],\n",
       "       [0.68476577, 0.31523423],\n",
       "       [0.65745442, 0.34254558],\n",
       "       [0.62311984, 0.37688016],\n",
       "       [0.63629646, 0.36370354],\n",
       "       [0.69637999, 0.30362001],\n",
       "       [0.6550789 , 0.3449211 ],\n",
       "       [0.662001  , 0.337999  ],\n",
       "       [0.67321556, 0.32678444],\n",
       "       [0.67764973, 0.32235027],\n",
       "       [0.63765104, 0.36234896],\n",
       "       [0.60161555, 0.39838445],\n",
       "       [0.67385696, 0.32614304],\n",
       "       [0.67800537, 0.32199463],\n",
       "       [0.6877574 , 0.3122426 ],\n",
       "       [0.67862813, 0.32137187],\n",
       "       [0.59887912, 0.40112088],\n",
       "       [0.6630822 , 0.3369178 ],\n",
       "       [0.67789028, 0.32210972],\n",
       "       [0.68964502, 0.31035498],\n",
       "       [0.68100036, 0.31899964],\n",
       "       [0.66730852, 0.33269148],\n",
       "       [0.52288286, 0.47711714],\n",
       "       [0.67770145, 0.32229855],\n",
       "       [0.66534901, 0.33465099],\n",
       "       [0.65935079, 0.34064921],\n",
       "       [0.5097023 , 0.4902977 ],\n",
       "       [0.68838348, 0.31161652],\n",
       "       [0.68820122, 0.31179878],\n",
       "       [0.69242957, 0.30757043],\n",
       "       [0.61056004, 0.38943996],\n",
       "       [0.63480483, 0.36519517],\n",
       "       [0.69089004, 0.30910996],\n",
       "       [0.69231784, 0.30768216],\n",
       "       [0.57933911, 0.42066089],\n",
       "       [0.62122288, 0.37877712],\n",
       "       [0.69708629, 0.30291371],\n",
       "       [0.63634805, 0.36365195],\n",
       "       [0.68230434, 0.31769566],\n",
       "       [0.66380075, 0.33619925],\n",
       "       [0.69688067, 0.30311933],\n",
       "       [0.70065744, 0.29934256],\n",
       "       [0.68481634, 0.31518366],\n",
       "       [0.60771905, 0.39228095],\n",
       "       [0.67498325, 0.32501675],\n",
       "       [0.67786127, 0.32213873],\n",
       "       [0.69456956, 0.30543044],\n",
       "       [0.67812029, 0.32187971],\n",
       "       [0.68999281, 0.31000719],\n",
       "       [0.54016132, 0.45983868],\n",
       "       [0.65475383, 0.34524617],\n",
       "       [0.60335665, 0.39664335],\n",
       "       [0.66434948, 0.33565052],\n",
       "       [0.67606021, 0.32393979],\n",
       "       [0.67655196, 0.32344804],\n",
       "       [0.56033434, 0.43966566],\n",
       "       [0.67800619, 0.32199381],\n",
       "       [0.56711799, 0.43288201],\n",
       "       [0.67800537, 0.32199463],\n",
       "       [0.62950761, 0.37049239],\n",
       "       [0.68299685, 0.31700315],\n",
       "       [0.66367017, 0.33632983],\n",
       "       [0.68838443, 0.31161557],\n",
       "       [0.55090014, 0.44909986],\n",
       "       [0.65501316, 0.34498684],\n",
       "       [0.69773137, 0.30226863],\n",
       "       [0.633107  , 0.366893  ],\n",
       "       [0.68016334, 0.31983666],\n",
       "       [0.66871016, 0.33128984],\n",
       "       [0.67883905, 0.32116095],\n",
       "       [0.68209244, 0.31790756],\n",
       "       [0.68054188, 0.31945812],\n",
       "       [0.67467522, 0.32532478],\n",
       "       [0.62295685, 0.37704315],\n",
       "       [0.57602485, 0.42397515],\n",
       "       [0.65693302, 0.34306698],\n",
       "       [0.5381782 , 0.4618218 ]])"
      ]
     },
     "execution_count": 94,
     "metadata": {},
     "output_type": "execute_result"
    }
   ],
   "source": [
    "y_pred1_prob"
   ]
  },
  {
   "cell_type": "code",
   "execution_count": 43,
   "metadata": {
    "ExecuteTime": {
     "end_time": "2020-08-16T09:43:02.784949Z",
     "start_time": "2020-08-16T09:43:01.857929Z"
    }
   },
   "outputs": [
    {
     "data": {
      "image/png": "[encoded data removed]",
      "text/plain": [
       "<Figure size 432x288 with 1 Axes>"
      ]
     },
     "metadata": {},
     "output_type": "display_data"
    }
   ],
   "source": [
    "# import matplotlib.pyplot as plt\n",
    "# plt.figure()\n",
    "# plt.plot(fpr, tpr, label='Logistic Regression (area = %0.2f)' % logit_roc_auc)\n",
    "# plt.plot([0, 1], [0, 1],'r--')\n",
    "# plt.xlim([0.0, 1.0])\n",
    "# plt.ylim([0.0, 1.05])\n",
    "# plt.xlabel('False Positive Rate')\n",
    "# plt.ylabel('True Positive Rate')\n",
    "# plt.title('Receiver operating characteristic')\n",
    "# plt.legend(loc=\"lower right\")\n",
    "# plt.savefig('Log_ROC')\n",
    "# plt.show()"
   ]
  },
  {
   "cell_type": "code",
   "execution_count": 47,
   "metadata": {
    "ExecuteTime": {
     "end_time": "2020-08-16T09:47:46.093064Z",
     "start_time": "2020-08-16T09:47:46.087029Z"
    }
   },
   "outputs": [],
   "source": [
    "# from plot_metric.functions import BinaryClassification\n",
    "# bc = BinaryClassification(y_test.replace([\"Benign\",\"Malignant\"],[0,1]),y_pred.replace([\"Benign\",\"Malignant\"],[0,1]),labels=[0,1])\n",
    "# bc.plot_roc_curve()"
   ]
  },
  {
   "cell_type": "code",
   "execution_count": null,
   "metadata": {},
   "outputs": [],
   "source": []
  }
 ],
 "metadata": {
  "kernelspec": {
   "display_name": "Python 3",
   "language": "python",
   "name": "python3"
  },
  "language_info": {
   "codemirror_mode": {
    "name": "ipython",
    "version": 3
   },
   "file_extension": ".py",
   "mimetype": "text/x-python",
   "name": "python",
   "nbconvert_exporter": "python",
   "pygments_lexer": "ipython3",
   "version": "3.7.6"
  }
 },
 "nbformat": 4,
 "nbformat_minor": 4
}
