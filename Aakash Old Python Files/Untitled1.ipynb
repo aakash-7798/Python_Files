{
 "cells": [
  {
   "cell_type": "code",
   "execution_count": 13,
   "metadata": {},
   "outputs": [
    {
     "name": "stdout",
     "output_type": "stream",
     "text": [
      "32\n"
     ]
    }
   ],
   "source": [
    "n = \"3\"\n",
    "m = \"2\"\n",
    "print(f\"{n}{m}\")"
   ]
  },
  {
   "cell_type": "code",
   "execution_count": 31,
   "metadata": {},
   "outputs": [],
   "source": [
    "def j(y):\n",
    "    print(''.join([str(x) for x in range(1,y)]))\n"
   ]
  },
  {
   "cell_type": "code",
   "execution_count": 33,
   "metadata": {},
   "outputs": [
    {
     "name": "stdout",
     "output_type": "stream",
     "text": [
      "123\n"
     ]
    }
   ],
   "source": [
    "j(4)"
   ]
  },
  {
   "cell_type": "code",
   "execution_count": 38,
   "metadata": {},
   "outputs": [
    {
     "name": "stdout",
     "output_type": "stream",
     "text": [
      "[1 0]\n",
      "[2 3 1 0]\n",
      "0\n",
      "0\n"
     ]
    }
   ],
   "source": [
    "import numpy\n",
    "\n",
    "my_array = numpy.array([[2, 5], [3, 7],[1, 3],[4, 0]])\n",
    "\n",
    "print(numpy.min(my_array, axis = 0))         #Output : [1 0]\n",
    "print(numpy.min(my_array, axis = 1))         #Output : [2 3 1 0]\n",
    "print(numpy.min(my_array, axis = None))      #Output : 0\n",
    "print(numpy.min(my_array))                   #Output : 0\n"
   ]
  },
  {
   "cell_type": "code",
   "execution_count": 42,
   "metadata": {},
   "outputs": [
    {
     "data": {
      "text/plain": [
       "array([[2, 5],\n",
       "       [3, 7],\n",
       "       [1, 3],\n",
       "       [4, 0]])"
      ]
     },
     "execution_count": 42,
     "metadata": {},
     "output_type": "execute_result"
    }
   ],
   "source": [
    "my_array"
   ]
  },
  {
   "cell_type": "code",
   "execution_count": 43,
   "metadata": {},
   "outputs": [
    {
     "name": "stdout",
     "output_type": "stream",
     "text": [
      "[4 7]\n",
      "[5 7 3 4]\n",
      "7\n",
      "7\n"
     ]
    }
   ],
   "source": [
    "print(numpy.max(my_array, axis = 0))        \n",
    "print(numpy.max(my_array, axis = 1))        \n",
    "print(numpy.max(my_array, axis = None))     \n",
    "print(numpy.max(my_array))                  \n"
   ]
  },
  {
   "cell_type": "code",
   "execution_count": null,
   "metadata": {},
   "outputs": [],
   "source": []
  }
 ],
 "metadata": {
  "kernelspec": {
   "display_name": "Python 3",
   "language": "python",
   "name": "python3"
  },
  "language_info": {
   "codemirror_mode": {
    "name": "ipython",
    "version": 3
   },
   "file_extension": ".py",
   "mimetype": "text/x-python",
   "name": "python",
   "nbconvert_exporter": "python",
   "pygments_lexer": "ipython3",
   "version": "3.7.6"
  }
 },
 "nbformat": 4,
 "nbformat_minor": 4
}
