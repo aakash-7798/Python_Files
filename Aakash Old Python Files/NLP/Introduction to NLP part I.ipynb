{
 "cells": [
  {
   "cell_type": "markdown",
   "metadata": {
    "collapsed": true
   },
   "source": [
    "# Introduction to Natural Language Processing"
   ]
  },
  {
   "cell_type": "markdown",
   "metadata": {},
   "source": [
    "We will make use of NLTK package of python"
   ]
  },
  {
   "cell_type": "code",
   "execution_count": 1,
   "metadata": {
    "ExecuteTime": {
     "end_time": "2020-10-10T09:53:54.922091Z",
     "start_time": "2020-10-10T09:53:52.127931Z"
    }
   },
   "outputs": [],
   "source": [
    "import nltk as nt\n",
    "import pandas as pd\n",
    "from sklearn.feature_extraction.text import CountVectorizer\n"
   ]
  },
  {
   "cell_type": "code",
   "execution_count": 2,
   "metadata": {
    "ExecuteTime": {
     "end_time": "2020-10-10T09:53:55.808288Z",
     "start_time": "2020-10-10T09:53:55.766413Z"
    }
   },
   "outputs": [
    {
     "data": {
      "text/html": [
       "<div>\n",
       "<style scoped>\n",
       "    .dataframe tbody tr th:only-of-type {\n",
       "        vertical-align: middle;\n",
       "    }\n",
       "\n",
       "    .dataframe tbody tr th {\n",
       "        vertical-align: top;\n",
       "    }\n",
       "\n",
       "    .dataframe thead th {\n",
       "        text-align: right;\n",
       "    }\n",
       "</style>\n",
       "<table border=\"1\" class=\"dataframe\">\n",
       "  <thead>\n",
       "    <tr style=\"text-align: right;\">\n",
       "      <th></th>\n",
       "      <th>title</th>\n",
       "      <th>page</th>\n",
       "    </tr>\n",
       "  </thead>\n",
       "  <tbody>\n",
       "    <tr>\n",
       "      <th>0</th>\n",
       "      <td>the Delicious boiled egg</td>\n",
       "      <td>1</td>\n",
       "    </tr>\n",
       "    <tr>\n",
       "      <th>1</th>\n",
       "      <td>Fried egg</td>\n",
       "      <td>2</td>\n",
       "    </tr>\n",
       "    <tr>\n",
       "      <th>2</th>\n",
       "      <td>Split in orange</td>\n",
       "      <td>3</td>\n",
       "    </tr>\n",
       "    <tr>\n",
       "      <th>3</th>\n",
       "      <td>There is Something else</td>\n",
       "      <td>4</td>\n",
       "    </tr>\n",
       "  </tbody>\n",
       "</table>\n",
       "</div>"
      ],
      "text/plain": [
       "                      title  page\n",
       "0  the Delicious boiled egg     1\n",
       "1                Fried egg      2\n",
       "2           Split in orange     3\n",
       "3   There is Something else     4"
      ]
     },
     "execution_count": 2,
     "metadata": {},
     "output_type": "execute_result"
    }
   ],
   "source": [
    "df = pd.DataFrame({'title':['the Delicious boiled egg',\n",
    "                            'Fried egg ','Split in orange',\n",
    "                            'There is Something else'], \n",
    "                   'page':[1, 2, 3, 4]})\n",
    "df"
   ]
  },
  {
   "cell_type": "code",
   "execution_count": null,
   "metadata": {},
   "outputs": [
    {
     "name": "stdout",
     "output_type": "stream",
     "text": [
      "showing info https://raw.githubusercontent.com/nltk/nltk_data/gh-pages/index.xml\n"
     ]
    }
   ],
   "source": [
    "nt.download()"
   ]
  },
  {
   "cell_type": "code",
   "execution_count": 3,
   "metadata": {
    "ExecuteTime": {
     "end_time": "2020-10-10T09:54:04.847060Z",
     "start_time": "2020-10-10T09:54:04.770347Z"
    },
    "collapsed": true
   },
   "outputs": [
    {
     "data": {
      "text/plain": [
       "['i',\n",
       " 'me',\n",
       " 'my',\n",
       " 'myself',\n",
       " 'we',\n",
       " 'our',\n",
       " 'ours',\n",
       " 'ourselves',\n",
       " 'you',\n",
       " \"you're\",\n",
       " \"you've\",\n",
       " \"you'll\",\n",
       " \"you'd\",\n",
       " 'your',\n",
       " 'yours',\n",
       " 'yourself',\n",
       " 'yourselves',\n",
       " 'he',\n",
       " 'him',\n",
       " 'his',\n",
       " 'himself',\n",
       " 'she',\n",
       " \"she's\",\n",
       " 'her',\n",
       " 'hers',\n",
       " 'herself',\n",
       " 'it',\n",
       " \"it's\",\n",
       " 'its',\n",
       " 'itself',\n",
       " 'they',\n",
       " 'them',\n",
       " 'their',\n",
       " 'theirs',\n",
       " 'themselves',\n",
       " 'what',\n",
       " 'which',\n",
       " 'who',\n",
       " 'whom',\n",
       " 'this',\n",
       " 'that',\n",
       " \"that'll\",\n",
       " 'these',\n",
       " 'those',\n",
       " 'am',\n",
       " 'is',\n",
       " 'are',\n",
       " 'was',\n",
       " 'were',\n",
       " 'be',\n",
       " 'been',\n",
       " 'being',\n",
       " 'have',\n",
       " 'has',\n",
       " 'had',\n",
       " 'having',\n",
       " 'do',\n",
       " 'does',\n",
       " 'did',\n",
       " 'doing',\n",
       " 'a',\n",
       " 'an',\n",
       " 'the',\n",
       " 'and',\n",
       " 'but',\n",
       " 'if',\n",
       " 'or',\n",
       " 'because',\n",
       " 'as',\n",
       " 'until',\n",
       " 'while',\n",
       " 'of',\n",
       " 'at',\n",
       " 'by',\n",
       " 'for',\n",
       " 'with',\n",
       " 'about',\n",
       " 'against',\n",
       " 'between',\n",
       " 'into',\n",
       " 'through',\n",
       " 'during',\n",
       " 'before',\n",
       " 'after',\n",
       " 'above',\n",
       " 'below',\n",
       " 'to',\n",
       " 'from',\n",
       " 'up',\n",
       " 'down',\n",
       " 'in',\n",
       " 'out',\n",
       " 'on',\n",
       " 'off',\n",
       " 'over',\n",
       " 'under',\n",
       " 'again',\n",
       " 'further',\n",
       " 'then',\n",
       " 'once',\n",
       " 'here',\n",
       " 'there',\n",
       " 'when',\n",
       " 'where',\n",
       " 'why',\n",
       " 'how',\n",
       " 'all',\n",
       " 'any',\n",
       " 'both',\n",
       " 'each',\n",
       " 'few',\n",
       " 'more',\n",
       " 'most',\n",
       " 'other',\n",
       " 'some',\n",
       " 'such',\n",
       " 'no',\n",
       " 'nor',\n",
       " 'not',\n",
       " 'only',\n",
       " 'own',\n",
       " 'same',\n",
       " 'so',\n",
       " 'than',\n",
       " 'too',\n",
       " 'very',\n",
       " 's',\n",
       " 't',\n",
       " 'can',\n",
       " 'will',\n",
       " 'just',\n",
       " 'don',\n",
       " \"don't\",\n",
       " 'should',\n",
       " \"should've\",\n",
       " 'now',\n",
       " 'd',\n",
       " 'll',\n",
       " 'm',\n",
       " 'o',\n",
       " 're',\n",
       " 've',\n",
       " 'y',\n",
       " 'ain',\n",
       " 'aren',\n",
       " \"aren't\",\n",
       " 'couldn',\n",
       " \"couldn't\",\n",
       " 'didn',\n",
       " \"didn't\",\n",
       " 'doesn',\n",
       " \"doesn't\",\n",
       " 'hadn',\n",
       " \"hadn't\",\n",
       " 'hasn',\n",
       " \"hasn't\",\n",
       " 'haven',\n",
       " \"haven't\",\n",
       " 'isn',\n",
       " \"isn't\",\n",
       " 'ma',\n",
       " 'mightn',\n",
       " \"mightn't\",\n",
       " 'mustn',\n",
       " \"mustn't\",\n",
       " 'needn',\n",
       " \"needn't\",\n",
       " 'shan',\n",
       " \"shan't\",\n",
       " 'shouldn',\n",
       " \"shouldn't\",\n",
       " 'wasn',\n",
       " \"wasn't\",\n",
       " 'weren',\n",
       " \"weren't\",\n",
       " 'won',\n",
       " \"won't\",\n",
       " 'wouldn',\n",
       " \"wouldn't\"]"
      ]
     },
     "execution_count": 3,
     "metadata": {},
     "output_type": "execute_result"
    }
   ],
   "source": [
    "stop = nt.corpus.stopwords.words('english')\n",
    "stop"
   ]
  },
  {
   "cell_type": "code",
   "execution_count": 4,
   "metadata": {
    "ExecuteTime": {
     "end_time": "2020-10-10T09:54:18.830251Z",
     "start_time": "2020-10-10T09:54:18.814012Z"
    }
   },
   "outputs": [],
   "source": [
    "from sklearn.feature_extraction.text import CountVectorizer"
   ]
  },
  {
   "cell_type": "code",
   "execution_count": 5,
   "metadata": {
    "ExecuteTime": {
     "end_time": "2020-10-10T09:54:22.555866Z",
     "start_time": "2020-10-10T09:54:22.547080Z"
    }
   },
   "outputs": [],
   "source": [
    "vectorizer = CountVectorizer(analyzer = \"word\",tokenizer = None, \n",
    "                             preprocessor = None, stop_words = stop, \n",
    "                             max_features = 5000)\n"
   ]
  },
  {
   "cell_type": "code",
   "execution_count": 6,
   "metadata": {
    "ExecuteTime": {
     "end_time": "2020-10-10T09:54:24.786766Z",
     "start_time": "2020-10-10T09:54:24.668173Z"
    }
   },
   "outputs": [],
   "source": [
    "df2=pd.DataFrame(vectorizer.fit_transform(df.title).toarray(),columns=vectorizer.get_feature_names())"
   ]
  },
  {
   "cell_type": "code",
   "execution_count": 7,
   "metadata": {
    "ExecuteTime": {
     "end_time": "2020-10-10T09:54:26.402001Z",
     "start_time": "2020-10-10T09:54:26.381369Z"
    },
    "scrolled": true
   },
   "outputs": [
    {
     "name": "stdout",
     "output_type": "stream",
     "text": [
      "   boiled  delicious  egg  else  fried  orange  something  split\n",
      "0       1          1    1     0      0       0          0      0\n",
      "1       0          0    1     0      1       0          0      0\n",
      "2       0          0    0     0      0       1          0      1\n",
      "3       0          0    0     1      0       0          1      0\n"
     ]
    }
   ],
   "source": [
    "print(df2)"
   ]
  },
  {
   "cell_type": "code",
   "execution_count": 8,
   "metadata": {
    "ExecuteTime": {
     "end_time": "2020-10-10T09:54:28.179104Z",
     "start_time": "2020-10-10T09:54:28.067245Z"
    },
    "scrolled": true
   },
   "outputs": [
    {
     "name": "stdout",
     "output_type": "stream",
     "text": [
      "TDM without removing stop words\n",
      "egg          2\n",
      "split        1\n",
      "is           1\n",
      "there        1\n",
      "delicious    1\n",
      "orange       1\n",
      "the          1\n",
      "boiled       1\n",
      "something    1\n",
      "in           1\n",
      "else         1\n",
      "fried        1\n",
      "dtype: int64\n",
      "Word count after removing stop words\n",
      "Word count = boiled       1\n",
      "delicious    1\n",
      "egg          2\n",
      "else         1\n",
      "fried        1\n",
      "orange       1\n",
      "something    1\n",
      "split        1\n",
      "dtype: int64\n",
      "td.corr =              boiled  delicious      egg      else     fried    orange  \\\n",
      "boiled     1.000000   1.000000  0.57735 -0.333333 -0.333333 -0.333333   \n",
      "delicious  1.000000   1.000000  0.57735 -0.333333 -0.333333 -0.333333   \n",
      "egg        0.577350   0.577350  1.00000 -0.577350  0.577350 -0.577350   \n",
      "else      -0.333333  -0.333333 -0.57735  1.000000 -0.333333 -0.333333   \n",
      "fried     -0.333333  -0.333333  0.57735 -0.333333  1.000000 -0.333333   \n",
      "orange    -0.333333  -0.333333 -0.57735 -0.333333 -0.333333  1.000000   \n",
      "something -0.333333  -0.333333 -0.57735  1.000000 -0.333333 -0.333333   \n",
      "split     -0.333333  -0.333333 -0.57735 -0.333333 -0.333333  1.000000   \n",
      "\n",
      "           something     split  \n",
      "boiled     -0.333333 -0.333333  \n",
      "delicious  -0.333333 -0.333333  \n",
      "egg        -0.577350 -0.577350  \n",
      "else        1.000000 -0.333333  \n",
      "fried      -0.333333 -0.333333  \n",
      "orange     -0.333333  1.000000  \n",
      "something   1.000000 -0.333333  \n",
      "split      -0.333333  1.000000  \n",
      "boiled       1.000000\n",
      "delicious    1.000000\n",
      "egg          0.577350\n",
      "else        -0.333333\n",
      "fried       -0.333333\n",
      "orange      -0.333333\n",
      "something   -0.333333\n",
      "split       -0.333333\n",
      "Name: delicious, dtype: float64\n",
      "boiled       0.57735\n",
      "delicious    0.57735\n",
      "egg          1.00000\n",
      "else        -0.57735\n",
      "fried        0.57735\n",
      "orange      -0.57735\n",
      "something   -0.57735\n",
      "split       -0.57735\n",
      "Name: egg, dtype: float64\n",
      "boiled       0.57735\n",
      "delicious    0.57735\n",
      "egg          1.00000\n",
      "fried        0.57735\n",
      "Name: egg, dtype: float64\n"
     ]
    }
   ],
   "source": [
    "#word count without removing stopwords\n",
    "print('TDM without removing stop words')\n",
    "print(pd.Series(' '.join(df['title']).lower().split()).value_counts()\n",
    ")\n",
    "\n",
    "#word count after removing stopwords\n",
    "print('Word count after removing stop words')\n",
    "tdm = pd.DataFrame(vectorizer.fit_transform(df.title).toarray(), columns=vectorizer.get_feature_names())\n",
    "\n",
    "print('Word count =',tdm.sum(axis=None))\n",
    "\n",
    "#word association\n",
    "print('td.corr =',tdm.corr())\n",
    "\n",
    "#association for the word \n",
    "print(tdm.corr()['delicious'])\n",
    "\n",
    "#set a threshold\n",
    "egg = tdm.corr()['egg']\n",
    "\n",
    "print(egg)\n",
    "\n",
    "print(egg[egg>0])"
   ]
  },
  {
   "cell_type": "markdown",
   "metadata": {},
   "source": [
    "## Word Cloud"
   ]
  },
  {
   "cell_type": "code",
   "execution_count": 13,
   "metadata": {
    "scrolled": true
   },
   "outputs": [],
   "source": [
    "import wordcloud as wd"
   ]
  },
  {
   "cell_type": "code",
   "execution_count": 15,
   "metadata": {
    "scrolled": true
   },
   "outputs": [
    {
     "data": {
      "image/png": "[encoded data removed]",
      "text/plain": [
       "<matplotlib.figure.Figure at 0x1c8350bc0b8>"
      ]
     },
     "metadata": {},
     "output_type": "display_data"
    }
   ],
   "source": [
    "from wordcloud import WordCloud, STOPWORDS\n",
    "import matplotlib.pyplot as plt\n",
    "#Convert all the required text into a single string here \n",
    "#and store them in word_string\n",
    "#you can specify fonts, stopwords, background color and other options\n",
    "wordcloud = WordCloud(stopwords=STOPWORDS,\n",
    "background_color='white',\n",
    "width=1200,\n",
    "height=1000\n",
    ").generate(' '.join(df['title']))\n",
    "plt.imshow(wordcloud)\n",
    "plt.axis('off')\n",
    "plt.show()\n"
   ]
  },
  {
   "cell_type": "markdown",
   "metadata": {},
   "source": [
    "## Tokenizer"
   ]
  },
  {
   "cell_type": "code",
   "execution_count": null,
   "metadata": {},
   "outputs": [
    {
     "name": "stdout",
     "output_type": "stream",
     "text": [
      "showing info https://raw.githubusercontent.com/nltk/nltk_data/gh-pages/index.xml\n"
     ]
    }
   ],
   "source": [
    "nt.download()"
   ]
  },
  {
   "cell_type": "code",
   "execution_count": 10,
   "metadata": {
    "ExecuteTime": {
     "end_time": "2020-10-10T09:54:59.185591Z",
     "start_time": "2020-10-10T09:54:59.167209Z"
    }
   },
   "outputs": [
    {
     "data": {
      "text/plain": [
       "['THIS', 'IS', 'GREAT']"
      ]
     },
     "execution_count": 10,
     "metadata": {},
     "output_type": "execute_result"
    }
   ],
   "source": [
    "nt.tokenize.word_tokenize('THIS IS GREAT')"
   ]
  },
  {
   "cell_type": "code",
   "execution_count": 11,
   "metadata": {
    "ExecuteTime": {
     "end_time": "2020-10-10T09:55:00.207803Z",
     "start_time": "2020-10-10T09:55:00.010599Z"
    }
   },
   "outputs": [
    {
     "ename": "FileNotFoundError",
     "evalue": "[Errno 2] No such file or directory: 'Corpus.txt'",
     "output_type": "error",
     "traceback": [
      "\u001b[1;31m---------------------------------------------------------------------------\u001b[0m",
      "\u001b[1;31mFileNotFoundError\u001b[0m                         Traceback (most recent call last)",
      "\u001b[1;32m<ipython-input-11-361488319094>\u001b[0m in \u001b[0;36m<module>\u001b[1;34m\u001b[0m\n\u001b[0;32m      3\u001b[0m \u001b[1;33m\u001b[0m\u001b[0m\n\u001b[0;32m      4\u001b[0m \u001b[1;31m#Extract a list of words from the corpus\u001b[0m\u001b[1;33m\u001b[0m\u001b[1;33m\u001b[0m\u001b[1;33m\u001b[0m\u001b[0m\n\u001b[1;32m----> 5\u001b[1;33m \u001b[0mcorpus\u001b[0m \u001b[1;33m=\u001b[0m \u001b[0mopen\u001b[0m\u001b[1;33m(\u001b[0m\u001b[1;34m'Corpus.txt'\u001b[0m\u001b[1;33m)\u001b[0m\u001b[1;33m.\u001b[0m\u001b[0mread\u001b[0m\u001b[1;33m(\u001b[0m\u001b[1;33m)\u001b[0m\u001b[1;33m\u001b[0m\u001b[1;33m\u001b[0m\u001b[0m\n\u001b[0m\u001b[0;32m      6\u001b[0m \u001b[0mtokens\u001b[0m \u001b[1;33m=\u001b[0m \u001b[0mnt\u001b[0m\u001b[1;33m.\u001b[0m\u001b[0mtokenize\u001b[0m\u001b[1;33m.\u001b[0m\u001b[0mword_tokenize\u001b[0m\u001b[1;33m(\u001b[0m\u001b[0mcorpus\u001b[0m\u001b[1;33m)\u001b[0m\u001b[1;33m\u001b[0m\u001b[1;33m\u001b[0m\u001b[0m\n\u001b[0;32m      7\u001b[0m \u001b[1;33m\u001b[0m\u001b[0m\n",
      "\u001b[1;31mFileNotFoundError\u001b[0m: [Errno 2] No such file or directory: 'Corpus.txt'"
     ]
    }
   ],
   "source": [
    "#from nltk.token import WSTokenizer                             \n",
    "#from nltk.draw.plot import Plot  \n",
    "\n",
    "#Extract a list of words from the corpus \n",
    "corpus = open('Corpus.txt').read()\n",
    "tokens = nt.tokenize.word_tokenize(corpus) \n",
    "\n",
    "# Count up how many times each word length occurs \n",
    "wordlen_count_list = []\n",
    "for token in tokens:\n",
    "    \n",
    "    Wordlen = len(token.type())\n",
    "    \n",
    "    # Add zeros until wordlen_count_list is long enough\n",
    "    while wordlen >= len(wordlen_count_list):\n",
    "        wordlen_count_list.append(0)\n",
    "    # Increment the count for this word length \n",
    "        wordlen_count_list[wordlen] += 1 \n",
    "\n",
    "Plot(wordlen_count_list)\n"
   ]
  },
  {
   "cell_type": "code",
   "execution_count": null,
   "metadata": {},
   "outputs": [],
   "source": []
  },
  {
   "cell_type": "code",
   "execution_count": null,
   "metadata": {},
   "outputs": [],
   "source": []
  }
 ],
 "metadata": {
  "kernelspec": {
   "display_name": "Python 3",
   "language": "python",
   "name": "python3"
  },
  "language_info": {
   "codemirror_mode": {
    "name": "ipython",
    "version": 3
   },
   "file_extension": ".py",
   "mimetype": "text/x-python",
   "name": "python",
   "nbconvert_exporter": "python",
   "pygments_lexer": "ipython3",
   "version": "3.7.6"
  },
  "widgets": {
   "state": {},
   "version": "1.1.2"
  }
 },
 "nbformat": 4,
 "nbformat_minor": 1
}
