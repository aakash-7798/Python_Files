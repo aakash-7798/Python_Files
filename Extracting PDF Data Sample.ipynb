{
 "cells": [
  {
   "cell_type": "code",
   "execution_count": 25,
   "id": "f053251f",
   "metadata": {
    "ExecuteTime": {
     "end_time": "2022-02-02T15:04:21.745750Z",
     "start_time": "2022-02-02T15:04:21.730790Z"
    }
   },
   "outputs": [],
   "source": [
    "# Converting Scanned PDF to Searchable PDF below is the link\n",
    "# https://online2pdf.com/convert-scanned-pdf-to-searchable-pdf\n",
    "import pdfplumber"
   ]
  },
  {
   "cell_type": "code",
   "execution_count": 26,
   "id": "9fdf5b0c",
   "metadata": {
    "ExecuteTime": {
     "end_time": "2022-02-02T15:04:22.195484Z",
     "start_time": "2022-02-02T15:04:22.183517Z"
    }
   },
   "outputs": [],
   "source": [
    "import os"
   ]
  },
  {
   "cell_type": "code",
   "execution_count": 27,
   "id": "8d88e7aa",
   "metadata": {
    "ExecuteTime": {
     "end_time": "2022-02-02T15:04:22.976343Z",
     "start_time": "2022-02-02T15:04:22.968365Z"
    }
   },
   "outputs": [
    {
     "data": {
      "text/plain": [
       "'D:\\\\Aakash Nadupalli\\\\MCA\\\\MCA 2021 Textbooks\\\\1st Semester\\\\Computer Architecture and Organization'"
      ]
     },
     "execution_count": 27,
     "metadata": {},
     "output_type": "execute_result"
    }
   ],
   "source": [
    "os.getcwd()"
   ]
  },
  {
   "cell_type": "code",
   "execution_count": 28,
   "id": "e1e8a488",
   "metadata": {
    "ExecuteTime": {
     "end_time": "2022-02-02T15:04:23.859209Z",
     "start_time": "2022-02-02T15:04:23.849236Z"
    }
   },
   "outputs": [],
   "source": [
    "# os.chdir('D:\\\\Aakash Nadupalli\\\\MCA\\\\MCA 2021 Textbooks\\\\1st Semester\\\\Database Systems\\\\Database Management Systems Slides and Code\\\\Slides for Database Management System')"
   ]
  },
  {
   "cell_type": "code",
   "execution_count": 29,
   "id": "a6050b07",
   "metadata": {
    "ExecuteTime": {
     "end_time": "2022-02-02T15:04:24.076627Z",
     "start_time": "2022-02-02T15:04:24.058675Z"
    }
   },
   "outputs": [],
   "source": [
    "# os.getcwd()"
   ]
  },
  {
   "cell_type": "code",
   "execution_count": 30,
   "id": "0a88d99d",
   "metadata": {
    "ExecuteTime": {
     "end_time": "2022-02-02T15:04:24.250163Z",
     "start_time": "2022-02-02T15:04:24.243182Z"
    }
   },
   "outputs": [],
   "source": [
    "# All_Pdfs = []\n",
    "# for i in os.listdir():\n",
    "#     if \".pdf\" in i:\n",
    "#         All_Pdfs.append(i)"
   ]
  },
  {
   "cell_type": "code",
   "execution_count": 31,
   "id": "484ba15f",
   "metadata": {
    "ExecuteTime": {
     "end_time": "2022-02-02T15:04:24.436663Z",
     "start_time": "2022-02-02T15:04:24.425693Z"
    }
   },
   "outputs": [],
   "source": [
    "# All_Pdfs[0][1:-4]"
   ]
  },
  {
   "cell_type": "code",
   "execution_count": 32,
   "id": "c3556c7f",
   "metadata": {
    "ExecuteTime": {
     "end_time": "2022-02-02T15:04:24.603219Z",
     "start_time": "2022-02-02T15:04:24.593246Z"
    }
   },
   "outputs": [],
   "source": [
    "# for k in range(len(All_Pdfs)):\n",
    "#     print(f'{All_Pdfs[k][1:-4]}  : ')\n",
    "#     print(\"Total Pages : \",pdfplumber.open(All_Pdfs[k]).pages)\n",
    "#     print(\" \")\n",
    "#     print(\" \")"
   ]
  },
  {
   "cell_type": "code",
   "execution_count": 33,
   "id": "2c605421",
   "metadata": {
    "ExecuteTime": {
     "end_time": "2022-02-02T15:04:25.072961Z",
     "start_time": "2022-02-02T15:04:25.061991Z"
    }
   },
   "outputs": [],
   "source": [
    "# for k in range(len(pdfplumber.open(All_Pdfs[4]).pages)):\n",
    "#     for i in pdfplumber.open(All_Pdfs[4]).pages[k].extract_text().split('\\n'):\n",
    "#         if 'Gehrke' in i :\n",
    "#             print(\" \")\n",
    "#             continue\n",
    "#         print(i.replace('(cid:0)',\"-->\").replace('(cid:1)',\"-->\"))"
   ]
  },
  {
   "cell_type": "code",
   "execution_count": 34,
   "id": "f9399ddb",
   "metadata": {
    "ExecuteTime": {
     "end_time": "2022-02-02T15:04:26.721920Z",
     "start_time": "2022-02-02T15:04:26.716932Z"
    }
   },
   "outputs": [],
   "source": [
    "# import re\n",
    "# re.findall(r'Database Management Systems 3ed,  R.Ramakrishnanand J. Gehrke \\d',i)\n",
    "# for i in pdf.pages[0].extract_text().split('\\n'):\n",
    "#     print(re.findall(r'Database Management Systems 3ed,  R.Ramakrishnanand J. Gehrke \\d',i))"
   ]
  },
  {
   "cell_type": "code",
   "execution_count": 54,
   "id": "32970e8e",
   "metadata": {
    "ExecuteTime": {
     "end_time": "2022-02-02T15:28:47.213248Z",
     "start_time": "2022-02-02T15:28:47.207264Z"
    }
   },
   "outputs": [],
   "source": [
    "# os.chdir('D:\\\\Aakash Nadupalli\\\\MCA\\\\MCA 2021 Textbooks\\\\1st Semester\\\\Computer Architecture and Organization')\n",
    "os.chdir('D:\\\\Aakash Nadupalli\\\\MCA\\\\MCA 2021 NOTES')"
   ]
  },
  {
   "cell_type": "code",
   "execution_count": 55,
   "id": "52313ebd",
   "metadata": {
    "ExecuteTime": {
     "end_time": "2022-02-02T15:28:48.885978Z",
     "start_time": "2022-02-02T15:28:48.875007Z"
    }
   },
   "outputs": [
    {
     "data": {
      "text/plain": [
       "'D:\\\\Aakash Nadupalli\\\\MCA\\\\MCA 2021 NOTES'"
      ]
     },
     "execution_count": 55,
     "metadata": {},
     "output_type": "execute_result"
    }
   ],
   "source": [
    "os.getcwd()"
   ]
  },
  {
   "cell_type": "code",
   "execution_count": 56,
   "id": "6f02a837",
   "metadata": {
    "ExecuteTime": {
     "end_time": "2022-02-02T15:28:58.031809Z",
     "start_time": "2022-02-02T15:28:58.011866Z"
    }
   },
   "outputs": [],
   "source": [
    "# pdf = pdfplumber.open(\"Computer System Architecture by M. Morris Mano Latest Edition.pdf\")\n",
    "# pdf1 = pdfplumber.open('Mano M.M. - Computer System Architecture-PH (1992) Converted.pdf')"
   ]
  },
  {
   "cell_type": "code",
   "execution_count": 51,
   "id": "faaa55de",
   "metadata": {
    "ExecuteTime": {
     "end_time": "2022-02-02T15:24:51.831175Z",
     "start_time": "2022-02-02T15:24:51.818177Z"
    }
   },
   "outputs": [],
   "source": [
    "# for i in pdf.pages[468].extract_text().split(\".\"):\n",
    "#     print(i.split(\"\\n\"))"
   ]
  },
  {
   "cell_type": "code",
   "execution_count": 58,
   "id": "139c2636",
   "metadata": {
    "ExecuteTime": {
     "end_time": "2022-02-02T15:29:31.298426Z",
     "start_time": "2022-02-02T15:29:30.984858Z"
    }
   },
   "outputs": [],
   "source": [
    "pdf = pdfplumber.open(\"OOPS Lab Programs Converted.pdf\")"
   ]
  },
  {
   "cell_type": "code",
   "execution_count": 62,
   "id": "1b7a327c",
   "metadata": {
    "ExecuteTime": {
     "end_time": "2022-02-02T15:30:27.619429Z",
     "start_time": "2022-02-02T15:30:27.604469Z"
    }
   },
   "outputs": [
    {
     "name": "stdout",
     "output_type": "stream",
     "text": [
      "J \n",
      "l.  Write a  C++  progr, am  to  find  the sum of individual  digital of  a  positive i7 nteger ? \n",
      "Program: \n",
      " \n",
      "e\n",
      "l #include<iostream> \n",
      "e  using  namespace std; \n",
      "t\n",
      "int main() \n",
      "  { \n",
      "s\n",
      "\"\n",
      "int  n,ssum=0,m; \n",
      " \n",
      "wa cout<<\"enter the  number:  Ms \n",
      "cin>>n; \n",
      "while(n>0) \n",
      "Hh  { \n",
      "m=n%1l0; \n",
      " \n",
      "oP sum=sum+m; \n",
      "n=n/10; \n",
      " \n",
      "p } \n",
      "M\n",
      "cout<<\"Sum  is:  \"<<sum<<end]: \n",
      "‘sf  return  0; \n",
      " \n",
      "D\n",
      "L\n",
      "  Output: \n",
      "b\n",
      "<\n",
      "  Tah d=l aie stint  lol  eel) \n",
      "a\n",
      "19 \n",
      "Process  @6xited  after  15.12  seconds’  baa  return  value  0 \n",
      "Press  any  key  to  continue \n",
      "a | \n",
      " \n",
      "y\n",
      "w\n",
      "“ws \n",
      "“ws \n",
      "WW \n",
      " \n",
      "T\n",
      "w\n",
      "eS \n",
      " \n",
      " \n",
      "~\n",
      "    \n"
     ]
    }
   ],
   "source": [
    "for i in pdf.pages[1].extract_text().split(\"\\n\"):\n",
    "    print(i)"
   ]
  },
  {
   "cell_type": "code",
   "execution_count": null,
   "id": "f7d8c9d4",
   "metadata": {},
   "outputs": [],
   "source": []
  }
 ],
 "metadata": {
  "kernelspec": {
   "display_name": "Python 3 (ipykernel)",
   "language": "python",
   "name": "python3"
  },
  "language_info": {
   "codemirror_mode": {
    "name": "ipython",
    "version": 3
   },
   "file_extension": ".py",
   "mimetype": "text/x-python",
   "name": "python",
   "nbconvert_exporter": "python",
   "pygments_lexer": "ipython3",
   "version": "3.9.7"
  },
  "nbTranslate": {
   "displayLangs": [
    "*"
   ],
   "hotkey": "alt-t",
   "langInMainMenu": true,
   "sourceLang": "en",
   "targetLang": "fr",
   "useGoogleTranslate": true
  },
  "varInspector": {
   "cols": {
    "lenName": 16,
    "lenType": 16,
    "lenVar": 40
   },
   "kernels_config": {
    "python": {
     "delete_cmd_postfix": "",
     "delete_cmd_prefix": "del ",
     "library": "var_list.py",
     "varRefreshCmd": "print(var_dic_list())"
    },
    "r": {
     "delete_cmd_postfix": ") ",
     "delete_cmd_prefix": "rm(",
     "library": "var_list.r",
     "varRefreshCmd": "cat(var_dic_list()) "
    }
   },
   "types_to_exclude": [
    "module",
    "function",
    "builtin_function_or_method",
    "instance",
    "_Feature"
   ],
   "window_display": false
  }
 },
 "nbformat": 4,
 "nbformat_minor": 5
}
