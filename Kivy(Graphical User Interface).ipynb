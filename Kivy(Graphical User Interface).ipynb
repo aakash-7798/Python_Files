{
 "cells": [
  {
   "cell_type": "code",
   "execution_count": 1,
   "id": "00498232",
   "metadata": {
    "ExecuteTime": {
     "end_time": "2022-05-11T14:58:44.350039Z",
     "start_time": "2022-05-11T14:58:44.331090Z"
    }
   },
   "outputs": [],
   "source": [
    "# !pip install kivy"
   ]
  },
  {
   "cell_type": "code",
   "execution_count": 13,
   "id": "0776d2a6",
   "metadata": {
    "ExecuteTime": {
     "end_time": "2022-05-11T15:21:20.217271Z",
     "start_time": "2022-05-11T15:21:20.197324Z"
    }
   },
   "outputs": [],
   "source": [
    "import kivy\n",
    "from kivy.app import App\n",
    "from kivy.uix.widget import Widget\n",
    "from kivy.properties import ObjectProperty\n",
    "from kivy.lang import Builder\n",
    "# from kivy.uix.label import Label\n",
    "# from kivy.uix.slider import Slider"
   ]
  },
  {
   "cell_type": "code",
   "execution_count": 24,
   "id": "890e6736",
   "metadata": {
    "ExecuteTime": {
     "end_time": "2022-05-11T15:27:26.719550Z",
     "start_time": "2022-05-11T15:27:26.703553Z"
    }
   },
   "outputs": [],
   "source": [
    "Builder.load_file(\"slider_new.kv\")"
   ]
  },
  {
   "cell_type": "code",
   "execution_count": 25,
   "id": "a418ce60",
   "metadata": {
    "ExecuteTime": {
     "end_time": "2022-05-11T15:27:27.470823Z",
     "start_time": "2022-05-11T15:27:27.451843Z"
    }
   },
   "outputs": [],
   "source": [
    "class MyLayout(Widget):\n",
    "    def slide_it(self,*args):\n",
    "        self.slide_text.text = str(int(argss[1]))"
   ]
  },
  {
   "cell_type": "code",
   "execution_count": 26,
   "id": "6b300ae0",
   "metadata": {
    "ExecuteTime": {
     "end_time": "2022-05-11T15:27:27.953829Z",
     "start_time": "2022-05-11T15:27:27.943855Z"
    }
   },
   "outputs": [],
   "source": [
    "class AwesomeApp(App):\n",
    "    def build(self):\n",
    "        return MyLayout()"
   ]
  },
  {
   "cell_type": "code",
   "execution_count": null,
   "id": "34a67f71",
   "metadata": {
    "ExecuteTime": {
     "end_time": "2022-05-11T15:29:30.056838Z",
     "start_time": "2022-05-11T15:29:30.056838Z"
    }
   },
   "outputs": [],
   "source": [
    "# if __name__ == \"__main__\":\n",
    "if __name__ == \"__main__\" :\n",
    "    AwesomeApp().run()"
   ]
  },
  {
   "cell_type": "code",
   "execution_count": null,
   "id": "8931f3da",
   "metadata": {},
   "outputs": [],
   "source": []
  }
 ],
 "metadata": {
  "kernelspec": {
   "display_name": "Python 3 (ipykernel)",
   "language": "python",
   "name": "python3"
  },
  "language_info": {
   "codemirror_mode": {
    "name": "ipython",
    "version": 3
   },
   "file_extension": ".py",
   "mimetype": "text/x-python",
   "name": "python",
   "nbconvert_exporter": "python",
   "pygments_lexer": "ipython3",
   "version": "3.9.7"
  },
  "nbTranslate": {
   "displayLangs": [
    "*"
   ],
   "hotkey": "alt-t",
   "langInMainMenu": true,
   "sourceLang": "en",
   "targetLang": "fr",
   "useGoogleTranslate": true
  },
  "varInspector": {
   "cols": {
    "lenName": 16,
    "lenType": 16,
    "lenVar": 40
   },
   "kernels_config": {
    "python": {
     "delete_cmd_postfix": "",
     "delete_cmd_prefix": "del ",
     "library": "var_list.py",
     "varRefreshCmd": "print(var_dic_list())"
    },
    "r": {
     "delete_cmd_postfix": ") ",
     "delete_cmd_prefix": "rm(",
     "library": "var_list.r",
     "varRefreshCmd": "cat(var_dic_list()) "
    }
   },
   "types_to_exclude": [
    "module",
    "function",
    "builtin_function_or_method",
    "instance",
    "_Feature"
   ],
   "window_display": false
  }
 },
 "nbformat": 4,
 "nbformat_minor": 5
}
