{
 "cells": [
  {
   "cell_type": "code",
   "execution_count": 59,
   "id": "411bf3e1",
   "metadata": {
    "ExecuteTime": {
     "end_time": "2022-03-19T08:15:09.451203Z",
     "start_time": "2022-03-19T08:15:09.441222Z"
    }
   },
   "outputs": [],
   "source": [
    "# # List Comprehension\n",
    "# if __name__ == '__main__':\n",
    "#     x = int(input())\n",
    "#     y = int(input())\n",
    "#     z = int(input())\n",
    "#     n = int(input())\n",
    "#     print([[i,j,k] for i in range(0,x+1) for j in range(0,y+1) for k in range(0,z+1) if i+j+k !=n])"
   ]
  },
  {
   "cell_type": "markdown",
   "id": "595bb307",
   "metadata": {},
   "source": []
  },
  {
   "cell_type": "code",
   "execution_count": 60,
   "id": "31f20623",
   "metadata": {
    "ExecuteTime": {
     "end_time": "2022-03-19T08:15:13.541626Z",
     "start_time": "2022-03-19T08:15:13.519685Z"
    }
   },
   "outputs": [],
   "source": [
    "# for i in range(0,x+1):\n",
    "#     for j in range(0,y+1):\n",
    "#         for k in range(0,z+1):\n",
    "#             if i+j+k != n:\n",
    "#                 print([i,j,k],end=' ')"
   ]
  },
  {
   "cell_type": "code",
   "execution_count": 61,
   "id": "c713c44e",
   "metadata": {
    "ExecuteTime": {
     "end_time": "2022-03-19T08:15:22.187403Z",
     "start_time": "2022-03-19T08:15:22.165463Z"
    }
   },
   "outputs": [],
   "source": [
    "# [[i,j,k] for i in range(0,x+1) for j in range(0,y+1) for k in range(0,z+1) if i+j+k !=n]"
   ]
  },
  {
   "cell_type": "code",
   "execution_count": 39,
   "id": "6d38223f",
   "metadata": {
    "ExecuteTime": {
     "end_time": "2022-03-19T08:03:07.080667Z",
     "start_time": "2022-03-19T08:03:07.060723Z"
    }
   },
   "outputs": [],
   "source": [
    "# for i in range(0,n+1):\n",
    "#     if i==n:\n",
    "#         continue\n",
    "#     for j in range(0,n+1):\n",
    "#         if j==n:\n",
    "#             continue\n",
    "#         for k in range(0,n+1):\n",
    "#             if k==n:\n",
    "#                 continue\n",
    "#             print([i,j,k],end=' ')"
   ]
  },
  {
   "cell_type": "code",
   "execution_count": 99,
   "id": "a86b2206",
   "metadata": {
    "ExecuteTime": {
     "end_time": "2022-03-19T08:28:14.768129Z",
     "start_time": "2022-03-19T08:28:14.752172Z"
    }
   },
   "outputs": [],
   "source": [
    "# ## Runner Up\n",
    "# if __name__ == '__main__':\n",
    "#     n = int(input())\n",
    "#     arr =(map(int, input().split()))\n",
    "#     print(sorted(set(list(arr)))[-2])"
   ]
  },
  {
   "cell_type": "code",
   "execution_count": null,
   "id": "5b7af546",
   "metadata": {},
   "outputs": [],
   "source": [
    "5\n",
    "Harry\n",
    "37.21\n",
    "Berry\n",
    "37.21\n",
    "Tina\n",
    "37.2\n",
    "Akriti\n",
    "41\n",
    "Harsh\n",
    "39"
   ]
  },
  {
   "cell_type": "code",
   "execution_count": 181,
   "id": "e45701c6",
   "metadata": {
    "ExecuteTime": {
     "end_time": "2022-03-19T09:53:35.649100Z",
     "start_time": "2022-03-19T09:53:08.881087Z"
    }
   },
   "outputs": [
    {
     "name": "stdout",
     "output_type": "stream",
     "text": [
      "5\n",
      "Harry\n",
      "37.21\n",
      "Berry\n",
      "37.21\n",
      "TIna\n",
      "37.2\n",
      "Akriti\n",
      "41\n",
      "Harsh\n",
      "39\n",
      "Harry\n",
      "Berry\n"
     ]
    }
   ],
   "source": [
    "# ## Names and Grades of Each Student\n",
    "# l = []\n",
    "# if __name__ == '__main__':\n",
    "#     for _ in range(int(input())):\n",
    "#         name = input()\n",
    "#         score = float(input())\n",
    "#         l.append([name,score])\n",
    "# Scores = [l[i][1] for i in range(len(l))]\n",
    "# F = []\n",
    "# for i in range(len(l)):\n",
    "#     if l[i][1] == sorted(set(Scores),reverse=True)[-2]:\n",
    "#         F.append(l[i][0])\n",
    "# F = sorted(F)\n",
    "# for i in range(len(F)):\n",
    "#     print(F[i])"
   ]
  },
  {
   "cell_type": "code",
   "execution_count": 187,
   "id": "d02d8ed3",
   "metadata": {
    "ExecuteTime": {
     "end_time": "2022-03-19T09:58:40.870993Z",
     "start_time": "2022-03-19T09:58:40.856996Z"
    }
   },
   "outputs": [],
   "source": [
    "# F = []\n",
    "# for i in range(len(l)):\n",
    "#     if l[i][1] == sorted(set(Scores),reverse=True)[-2]:\n",
    "#         F.append(l[i][0])\n",
    "# F = sorted(F)\n",
    "# for i in range(len(F)):\n",
    "#     print(F[i])"
   ]
  },
  {
   "cell_type": "code",
   "execution_count": null,
   "id": "b221e7f7",
   "metadata": {},
   "outputs": [],
   "source": [
    "## Average of Student Dictionary Values"
   ]
  },
  {
   "cell_type": "code",
   "execution_count": null,
   "id": "547e5305",
   "metadata": {},
   "outputs": [],
   "source": [
    "3\n",
    "Krishna 67 68 69\n",
    "Arjun 70 98 63\n",
    "Malika 52 56 60\n",
    "Malika"
   ]
  },
  {
   "cell_type": "code",
   "execution_count": 199,
   "id": "bf3acb25",
   "metadata": {
    "ExecuteTime": {
     "end_time": "2022-03-19T10:12:48.372945Z",
     "start_time": "2022-03-19T10:12:48.365964Z"
    }
   },
   "outputs": [],
   "source": [
    "# if __name__ == '__main__':\n",
    "#     n = int(input())\n",
    "#     student_marks = {}\n",
    "#     for _ in range(n):\n",
    "#         name, *line = input().split()\n",
    "#         scores = list(map(float, line))\n",
    "#         student_marks[name] = scores\n",
    "#     query_name = input()\n",
    "#     Avg = sum(student_marks[query_name])/len(student_marks[query_name])\n",
    "#     print(\"{:.2f}\".format(Avg))"
   ]
  },
  {
   "cell_type": "code",
   "execution_count": null,
   "id": "79c790ce",
   "metadata": {},
   "outputs": [],
   "source": [
    "STDIN       Function\n",
    "-----       --------\n",
    "AABCAAADA   s = 'AABCAAADA'\n",
    "3           k = 3"
   ]
  },
  {
   "cell_type": "code",
   "execution_count": 252,
   "id": "48357cb2",
   "metadata": {
    "ExecuteTime": {
     "end_time": "2022-03-19T10:45:25.656363Z",
     "start_time": "2022-03-19T10:45:25.648384Z"
    }
   },
   "outputs": [],
   "source": [
    "# ## Unique Strings \n",
    "# def merge_the_tools(string, k):\n",
    "#     for (i,j) in zip(range(0,len(string)+k,k),range(3,len(string)+k,k)):\n",
    "#         print(''.join(sorted(set(string[i:j])))\n",
    "# if __name__ == '__main__':\n",
    "#     string, k = input(), int(input())\n",
    "#     merge_the_tools(string, k)"
   ]
  },
  {
   "cell_type": "code",
   "execution_count": 263,
   "id": "02339036",
   "metadata": {
    "ExecuteTime": {
     "end_time": "2022-03-19T10:51:35.205107Z",
     "start_time": "2022-03-19T10:51:35.199149Z"
    }
   },
   "outputs": [],
   "source": [
    "# ## Unique Strings \n",
    "# def merge_the_tools(string, k):\n",
    "#     s = []\n",
    "#     for (i,j) in zip(range(0,len(string)+k,k),range(k,len(string)+k,k)):\n",
    "#         s.append(string[i:j])\n",
    "#     u = []\n",
    "#     for i in range(len(s)):\n",
    "#         u.append([])\n",
    "#         for j in s[i]:\n",
    "#             if j not in u[i]:\n",
    "#                 u[i].append(j)\n",
    "#     for i in range(len(u)):\n",
    "#         print(''.join(u[i]))\n",
    "# if __name__ == '__main__':\n",
    "#     string, k = input(), int(input())\n",
    "#     merge_the_tools(string, k)"
   ]
  },
  {
   "cell_type": "code",
   "execution_count": 254,
   "id": "2f077b5f",
   "metadata": {
    "ExecuteTime": {
     "end_time": "2022-03-19T10:47:36.542218Z",
     "start_time": "2022-03-19T10:47:36.523269Z"
    }
   },
   "outputs": [],
   "source": [
    "# s = []\n",
    "# for (i,j) in zip(range(0,len(string)+k,k),range(3,len(string)+k,k)):\n",
    "#     s.append(string[i:j])\n",
    "# s"
   ]
  },
  {
   "cell_type": "code",
   "execution_count": 255,
   "id": "ef9408a6",
   "metadata": {
    "ExecuteTime": {
     "end_time": "2022-03-19T10:47:39.669111Z",
     "start_time": "2022-03-19T10:47:39.651130Z"
    }
   },
   "outputs": [],
   "source": [
    "# u = []\n",
    "# for i in range(len(s)):\n",
    "#     u.append([])\n",
    "#     for j in s[i]:\n",
    "#         if j not in u[i]:\n",
    "#             u[i].append(j)\n",
    "# for i in range(len(u)):\n",
    "#     print(''.join(u[i]))"
   ]
  },
  {
   "cell_type": "code",
   "execution_count": 264,
   "id": "5d7f6546",
   "metadata": {
    "ExecuteTime": {
     "end_time": "2022-03-19T10:53:10.398705Z",
     "start_time": "2022-03-19T10:53:10.386735Z"
    }
   },
   "outputs": [],
   "source": [
    "## Calendar find out day\n",
    "import calendar"
   ]
  },
  {
   "cell_type": "code",
   "execution_count": 294,
   "id": "7e821dae",
   "metadata": {
    "ExecuteTime": {
     "end_time": "2022-03-19T11:04:09.602139Z",
     "start_time": "2022-03-19T11:04:09.583159Z"
    }
   },
   "outputs": [
    {
     "name": "stdout",
     "output_type": "stream",
     "text": [
      "                                  2015\n",
      "\n",
      "      January                   February                   March\n",
      "Su Mo Tu We Th Fr Sa      Su Mo Tu We Th Fr Sa      Su Mo Tu We Th Fr Sa\n",
      "             1  2  3       1  2  3  4  5  6  7       1  2  3  4  5  6  7\n",
      " 4  5  6  7  8  9 10       8  9 10 11 12 13 14       8  9 10 11 12 13 14\n",
      "11 12 13 14 15 16 17      15 16 17 18 19 20 21      15 16 17 18 19 20 21\n",
      "18 19 20 21 22 23 24      22 23 24 25 26 27 28      22 23 24 25 26 27 28\n",
      "25 26 27 28 29 30 31                                29 30 31\n",
      "\n",
      "       April                      May                       June\n",
      "Su Mo Tu We Th Fr Sa      Su Mo Tu We Th Fr Sa      Su Mo Tu We Th Fr Sa\n",
      "          1  2  3  4                      1  2          1  2  3  4  5  6\n",
      " 5  6  7  8  9 10 11       3  4  5  6  7  8  9       7  8  9 10 11 12 13\n",
      "12 13 14 15 16 17 18      10 11 12 13 14 15 16      14 15 16 17 18 19 20\n",
      "19 20 21 22 23 24 25      17 18 19 20 21 22 23      21 22 23 24 25 26 27\n",
      "26 27 28 29 30            24 25 26 27 28 29 30      28 29 30\n",
      "                          31\n",
      "\n",
      "        July                     August                  September\n",
      "Su Mo Tu We Th Fr Sa      Su Mo Tu We Th Fr Sa      Su Mo Tu We Th Fr Sa\n",
      "          1  2  3  4                         1             1  2  3  4  5\n",
      " 5  6  7  8  9 10 11       2  3  4  5  6  7  8       6  7  8  9 10 11 12\n",
      "12 13 14 15 16 17 18       9 10 11 12 13 14 15      13 14 15 16 17 18 19\n",
      "19 20 21 22 23 24 25      16 17 18 19 20 21 22      20 21 22 23 24 25 26\n",
      "26 27 28 29 30 31         23 24 25 26 27 28 29      27 28 29 30\n",
      "                          30 31\n",
      "\n",
      "      October                   November                  December\n",
      "Su Mo Tu We Th Fr Sa      Su Mo Tu We Th Fr Sa      Su Mo Tu We Th Fr Sa\n",
      "             1  2  3       1  2  3  4  5  6  7             1  2  3  4  5\n",
      " 4  5  6  7  8  9 10       8  9 10 11 12 13 14       6  7  8  9 10 11 12\n",
      "11 12 13 14 15 16 17      15 16 17 18 19 20 21      13 14 15 16 17 18 19\n",
      "18 19 20 21 22 23 24      22 23 24 25 26 27 28      20 21 22 23 24 25 26\n",
      "25 26 27 28 29 30 31      29 30                     27 28 29 30 31\n",
      "\n"
     ]
    }
   ],
   "source": [
    "print(calendar.TextCalendar(firstweekday=6).formatyear(2015))"
   ]
  },
  {
   "cell_type": "code",
   "execution_count": 288,
   "id": "c96f4fa9",
   "metadata": {
    "ExecuteTime": {
     "end_time": "2022-03-19T11:02:04.255146Z",
     "start_time": "2022-03-19T11:02:04.241184Z"
    }
   },
   "outputs": [],
   "source": [
    "# cal.split('\\n')[3].split(' ')"
   ]
  },
  {
   "cell_type": "code",
   "execution_count": 302,
   "id": "e6a000a8",
   "metadata": {
    "ExecuteTime": {
     "end_time": "2022-03-19T11:10:16.724578Z",
     "start_time": "2022-03-19T11:10:16.708589Z"
    }
   },
   "outputs": [],
   "source": [
    "# calendar.setfirstweekday(calendar.SUNDAY)"
   ]
  },
  {
   "cell_type": "code",
   "execution_count": 324,
   "id": "e39dfdf1",
   "metadata": {
    "ExecuteTime": {
     "end_time": "2022-03-19T11:27:26.082860Z",
     "start_time": "2022-03-19T11:27:26.071886Z"
    }
   },
   "outputs": [],
   "source": [
    "# calendar.monthcalendar(2015,3)"
   ]
  },
  {
   "cell_type": "code",
   "execution_count": 317,
   "id": "b1bfd1ad",
   "metadata": {
    "ExecuteTime": {
     "end_time": "2022-03-19T11:19:38.600652Z",
     "start_time": "2022-03-19T11:19:38.581704Z"
    }
   },
   "outputs": [
    {
     "name": "stdout",
     "output_type": "stream",
     "text": [
      "Saturday\n"
     ]
    }
   ],
   "source": [
    "# from datetime import date\n",
    "# import calendar\n",
    "# curr_date = date.today()\n",
    "# print(calendar.day_name[curr_date.weekday()])"
   ]
  },
  {
   "cell_type": "code",
   "execution_count": 331,
   "id": "d59a6f45",
   "metadata": {
    "ExecuteTime": {
     "end_time": "2022-03-19T11:38:33.874759Z",
     "start_time": "2022-03-19T11:38:33.852819Z"
    }
   },
   "outputs": [],
   "source": [
    "# calendar.day_name[calendar.weekday(2015,8,5)].upper()"
   ]
  },
  {
   "cell_type": "code",
   "execution_count": 330,
   "id": "baf95f72",
   "metadata": {
    "ExecuteTime": {
     "end_time": "2022-03-19T11:38:29.725653Z",
     "start_time": "2022-03-19T11:38:29.717676Z"
    }
   },
   "outputs": [],
   "source": [
    "# # A single line of input containing the space separated month, day and year, respectively, in  mmddyyyy  format.\n",
    "# import calendar\n",
    "# if __name__ == '__main__':\n",
    "#     c = list(map(int,input().split()))\n",
    "#     print(calendar.day_name[calendar.weekday(c[2],c[0],c[1])].upper())"
   ]
  },
  {
   "cell_type": "code",
   "execution_count": null,
   "id": "7148ed35",
   "metadata": {},
   "outputs": [],
   "source": [
    "2\n",
    "Sun 10 May 2015 13:54:36 -0700\n",
    "Sun 10 May 2015 13:54:36 -0000\n",
    "Sat 02 May 2015 19:54:36 +0530\n",
    "Fri 01 May 2015 13:54:36 -0000"
   ]
  },
  {
   "cell_type": "code",
   "execution_count": 395,
   "id": "915552de",
   "metadata": {
    "ExecuteTime": {
     "end_time": "2022-03-19T16:08:53.955991Z",
     "start_time": "2022-03-19T16:08:53.941030Z"
    }
   },
   "outputs": [],
   "source": [
    "# ## Absolute Difference of Time\n",
    "# from datetime import datetime\n",
    "# l = []\n",
    "# if __name__ == '__main__':\n",
    "#     n =  int(input())\n",
    "#     for i in range(n*2):\n",
    "#         l.append(input())"
   ]
  },
  {
   "cell_type": "code",
   "execution_count": 396,
   "id": "01111878",
   "metadata": {
    "ExecuteTime": {
     "end_time": "2022-03-19T16:08:54.927485Z",
     "start_time": "2022-03-19T16:08:54.921532Z"
    }
   },
   "outputs": [],
   "source": [
    "# ## Absolute Difference of Time\n",
    "# from datetime import datetime\n",
    "# l = []\n",
    "# d = []\n",
    "# if __name__ == '__main__':\n",
    "#     n =  int(input())\n",
    "#     for i in range(n*2):\n",
    "#         l.append(input())\n",
    "#     for i in range(len(l)):\n",
    "#         d.append(datetime.strptime(l[i], \"%a %d %b %Y %H:%M:%S %z\"))\n",
    "#     for (i,j) in zip(range(0,len(d),2),range(2,len(d)+2,2)):\n",
    "#         print(int((abs(d[i:j][0]-d[i:j][1])).total_seconds()))"
   ]
  },
  {
   "cell_type": "code",
   "execution_count": 397,
   "id": "e48634a3",
   "metadata": {
    "ExecuteTime": {
     "end_time": "2022-03-19T16:09:08.212656Z",
     "start_time": "2022-03-19T16:09:08.200685Z"
    }
   },
   "outputs": [],
   "source": [
    "# d = []\n",
    "# for i in range(len(l)):\n",
    "#     d.append(datetime.strptime(l[i], \"%a %d %b %Y %H:%M:%S %z\"))\n",
    "# d"
   ]
  },
  {
   "cell_type": "code",
   "execution_count": 398,
   "id": "2260ab20",
   "metadata": {
    "ExecuteTime": {
     "end_time": "2022-03-19T16:09:11.063886Z",
     "start_time": "2022-03-19T16:09:11.054910Z"
    }
   },
   "outputs": [],
   "source": [
    "# for (i,j) in zip(range(0,len(d),2),range(2,len(d)+2,2)):\n",
    "#     print(d[i:j])"
   ]
  },
  {
   "cell_type": "code",
   "execution_count": 399,
   "id": "5d26a228",
   "metadata": {
    "ExecuteTime": {
     "end_time": "2022-03-19T16:09:13.981092Z",
     "start_time": "2022-03-19T16:09:13.969094Z"
    }
   },
   "outputs": [],
   "source": [
    "# for (i,j) in zip(range(0,len(d),2),range(2,len(d)+2,2)):\n",
    "#     print(int((abs(d[i:j][0]-d[i:j][1])).total_seconds()))"
   ]
  },
  {
   "cell_type": "code",
   "execution_count": 400,
   "id": "7c9aa4cf",
   "metadata": {
    "ExecuteTime": {
     "end_time": "2022-03-19T16:09:19.550391Z",
     "start_time": "2022-03-19T16:09:19.535431Z"
    }
   },
   "outputs": [],
   "source": [
    "# print(datetime.strptime(l[2], \"%a %d %b %Y %H:%M:%S %z\"))"
   ]
  },
  {
   "cell_type": "code",
   "execution_count": 401,
   "id": "3d99e3e2",
   "metadata": {
    "ExecuteTime": {
     "end_time": "2022-03-19T16:09:21.568320Z",
     "start_time": "2022-03-19T16:09:21.561338Z"
    }
   },
   "outputs": [],
   "source": [
    "# print(datetime.strptime(l[3], \"%a %d %b %Y %H:%M:%S %z\"))"
   ]
  },
  {
   "cell_type": "code",
   "execution_count": 402,
   "id": "a520b620",
   "metadata": {
    "ExecuteTime": {
     "end_time": "2022-03-19T16:09:24.466168Z",
     "start_time": "2022-03-19T16:09:24.454164Z"
    }
   },
   "outputs": [],
   "source": [
    "# print((datetime.strptime(l[0], \"%a %d %b %Y %H:%M:%S %z\")-datetime.strptime(l[1], \"%a %d %b %Y %H:%M:%S %z\")).total_seconds())"
   ]
  },
  {
   "cell_type": "code",
   "execution_count": 421,
   "id": "e5375744",
   "metadata": {
    "ExecuteTime": {
     "end_time": "2022-03-19T16:42:12.877272Z",
     "start_time": "2022-03-19T16:42:12.860313Z"
    }
   },
   "outputs": [],
   "source": [
    "# ##Palindromic Triangle\n",
    "# if __name__ == '__main__':\n",
    "#     n = int(input())\n",
    "#     x = 1\n",
    "#     for i in range(n):\n",
    "#         print(int(x*x))\n",
    "#         x = x*10 +1"
   ]
  },
  {
   "cell_type": "code",
   "execution_count": 442,
   "id": "473db6e5",
   "metadata": {
    "ExecuteTime": {
     "end_time": "2022-03-19T16:55:11.773556Z",
     "start_time": "2022-03-19T16:55:11.755604Z"
    }
   },
   "outputs": [],
   "source": [
    "# ##Palindromic Triangle\n",
    "# n = int(input())\n",
    "# x = 1\n",
    "# for i in range(n):\n",
    "#     print(int(x*x))\n",
    "#     x = x*10 +1"
   ]
  },
  {
   "cell_type": "code",
   "execution_count": 441,
   "id": "c60653fe",
   "metadata": {
    "ExecuteTime": {
     "end_time": "2022-03-19T16:55:09.205285Z",
     "start_time": "2022-03-19T16:55:09.186369Z"
    }
   },
   "outputs": [],
   "source": [
    "# x = 1\n",
    "# for i in range(int(input())):\n",
    "#     print(x*x)\n",
    "#     x=x*10+1"
   ]
  },
  {
   "cell_type": "code",
   "execution_count": 446,
   "id": "df7e28f7",
   "metadata": {
    "ExecuteTime": {
     "end_time": "2022-03-19T16:59:33.495729Z",
     "start_time": "2022-03-19T16:59:33.487691Z"
    }
   },
   "outputs": [],
   "source": [
    "# for i in range(1,int(input())+1):\n",
    "#     print(int((10**i-1)/9)**2)"
   ]
  },
  {
   "cell_type": "code",
   "execution_count": 448,
   "id": "1ac96b1a",
   "metadata": {
    "ExecuteTime": {
     "end_time": "2022-03-19T17:04:59.893551Z",
     "start_time": "2022-03-19T17:04:59.875351Z"
    }
   },
   "outputs": [],
   "source": [
    "# ## DivMod\n",
    "# a = int(input())\n",
    "# b = int(input())\n",
    "# print(a%b)\n",
    "# print(a//b)\n",
    "# print((a%b,a//b))"
   ]
  },
  {
   "cell_type": "code",
   "execution_count": 450,
   "id": "959aec75",
   "metadata": {
    "ExecuteTime": {
     "end_time": "2022-03-19T17:06:45.339639Z",
     "start_time": "2022-03-19T17:06:45.323682Z"
    }
   },
   "outputs": [],
   "source": [
    "# ## Power and mod\n",
    "# a = int(input())\n",
    "# b = int(input())\n",
    "# c = int(input())\n",
    "# print(a**b)\n",
    "# print((a**b)%c)"
   ]
  },
  {
   "cell_type": "code",
   "execution_count": 24,
   "id": "ef193743",
   "metadata": {
    "ExecuteTime": {
     "end_time": "2022-03-20T06:15:50.664150Z",
     "start_time": "2022-03-20T06:15:50.644203Z"
    }
   },
   "outputs": [],
   "source": [
    "# v=['a','e','i','o','u']\n",
    "# s = 'banana'\n",
    "# c_v,c_c=0,0\n",
    "# for i in s:\n",
    "#     if i in v:\n",
    "#         c_v+=1\n",
    "#     elif i!=' ':\n",
    "#         c_c+=1\n",
    "# print(\"Vowels Counter : \",c_v)\n",
    "# print(\"Consonant Counter : \",c_c)"
   ]
  },
  {
   "cell_type": "code",
   "execution_count": 25,
   "id": "c1ebff7c",
   "metadata": {
    "ExecuteTime": {
     "end_time": "2022-03-20T06:15:53.123668Z",
     "start_time": "2022-03-20T06:15:53.118682Z"
    }
   },
   "outputs": [],
   "source": [
    "# # v=['a','e','i','o','u']\n",
    "# s = 'banana\n",
    "# o = {}\n",
    "# for i in s:\n",
    "#     if i not in o:\n",
    "#         o[i] = 0\n",
    "#     if i in o:\n",
    "#         o[i] = o[i]+1\n",
    "# o"
   ]
  },
  {
   "cell_type": "code",
   "execution_count": 40,
   "id": "3cdac88f",
   "metadata": {
    "ExecuteTime": {
     "end_time": "2022-03-20T06:21:50.840289Z",
     "start_time": "2022-03-20T06:21:50.833308Z"
    }
   },
   "outputs": [],
   "source": [
    "# v=['a','e','i','o','u']\n",
    "# s = 'A Counter is a dict subclass for counting hashable objects.'\n",
    "# vo = {}\n",
    "# co = {}\n",
    "# for i in s.lower():\n",
    "#     if i in v:\n",
    "#         if i not in vo:\n",
    "#             vo[i] = 0\n",
    "#         if i in o:\n",
    "#             vo[i] = vo[i]+1\n",
    "#     if i==\" \":\n",
    "#         continue\n",
    "#     elif i!='':\n",
    "#         if i not in co:\n",
    "#             co[i] = 0\n",
    "#         if i in co:\n",
    "#             co[i] = co[i]+1\n",
    "# print(\"Vowels With Count : \",vo)\n",
    "# print(\"Consonants With Count : \",co)"
   ]
  },
  {
   "cell_type": "code",
   "execution_count": 59,
   "id": "425b5d22",
   "metadata": {
    "ExecuteTime": {
     "end_time": "2022-03-20T06:33:22.333751Z",
     "start_time": "2022-03-20T06:33:22.324774Z"
    }
   },
   "outputs": [],
   "source": [
    "# v=['a','e','i','o','u']\n",
    "# s = 'A Counter is a dict subclass for counting hashable objects.'\n",
    "# vo = {}\n",
    "# co = {}\n",
    "# for i in s.lower():\n",
    "#     if i in v:\n",
    "#         if i not in vo:\n",
    "#             vo[i] = 0\n",
    "#         if i in o:\n",
    "#             vo[i] = vo[i]+1\n",
    "#     if i==\" \":\n",
    "#         continue\n",
    "#     elif i not in v:\n",
    "#         if i not in co:\n",
    "#             co[i] = 0\n",
    "#         if i in co:\n",
    "#             co[i] = co[i]+1\n",
    "# print(\"Vowels With Count : \",vo)\n",
    "# print(\"Consonants With Count : \",co)"
   ]
  },
  {
   "cell_type": "code",
   "execution_count": 43,
   "id": "2ded1089",
   "metadata": {
    "ExecuteTime": {
     "end_time": "2022-03-20T06:25:30.128279Z",
     "start_time": "2022-03-20T06:25:25.980170Z"
    }
   },
   "outputs": [
    {
     "name": "stdout",
     "output_type": "stream",
     "text": [
      "banana\n",
      "Stuart 21\n"
     ]
    }
   ],
   "source": [
    "s = input()\n",
    "sc = [0, 0]\n",
    "for i in range(len(s)):\n",
    "    sc[s[i] in 'AEIOU'] += len(s) - i\n",
    "if sc[0] > sc[1]:\n",
    "    print('Stuart',sc[0])\n",
    "elif sc[1] > sc[0]:\n",
    "    print('Kevin',sc[1])\n",
    "else: \n",
    "    print('Draw')"
   ]
  },
  {
   "cell_type": "code",
   "execution_count": 44,
   "id": "9a8819e5",
   "metadata": {
    "ExecuteTime": {
     "end_time": "2022-03-20T06:26:33.039415Z",
     "start_time": "2022-03-20T06:26:33.017445Z"
    }
   },
   "outputs": [
    {
     "data": {
      "text/plain": [
       "[21, 0]"
      ]
     },
     "execution_count": 44,
     "metadata": {},
     "output_type": "execute_result"
    }
   ],
   "source": [
    "sc"
   ]
  },
  {
   "cell_type": "code",
   "execution_count": 67,
   "id": "c0542a46",
   "metadata": {
    "ExecuteTime": {
     "end_time": "2022-03-20T06:42:10.441246Z",
     "start_time": "2022-03-20T06:42:10.428246Z"
    }
   },
   "outputs": [],
   "source": [
    "# import string\n",
    "# word = input()\n",
    "# length = len(word)\n",
    "\n",
    "# vowels = {i : False for i in string.ascii_uppercase}\n",
    "\n",
    "# for i in \"AEIOU\":\n",
    "#     vowels[i] = True\n",
    "\n",
    "# stuart_points = 0\n",
    "# bob_points = 0\n",
    "\n",
    "# for start in range(length):\n",
    "#     if vowels[word[start].upper()]:\n",
    "#         bob_points += length - start\n",
    "#     else:\n",
    "#         stuart_points += length - start\n",
    "\n",
    "# if stuart_points > bob_points:\n",
    "#     print(\"Stuart\", stuart_points)\n",
    "# elif stuart_points < bob_points:\n",
    "#     print(\"Kevin\", bob_points)\n",
    "# else:\n",
    "#     print(\"Draw\")\n"
   ]
  },
  {
   "cell_type": "code",
   "execution_count": null,
   "id": "94faf590",
   "metadata": {},
   "outputs": [],
   "source": [
    "vowels = ['a','e','i','o','u']\n",
    "conso  = [for i o] "
   ]
  },
  {
   "cell_type": "code",
   "execution_count": 96,
   "id": "3c3c4060",
   "metadata": {
    "ExecuteTime": {
     "end_time": "2022-03-20T07:33:51.667736Z",
     "start_time": "2022-03-20T07:33:51.649753Z"
    }
   },
   "outputs": [],
   "source": [
    "# ## Minion Game\n",
    "# import string\n",
    "# def minion_game(s):\n",
    "#     alphabets = string.ascii_lowercase\n",
    "#     vo = []\n",
    "#     co = []\n",
    "#     for i in alphabets:\n",
    "#         if i in 'aeiou':\n",
    "#             vo.append(i)\n",
    "#         else:\n",
    "#             co.append(i)\n",
    "#     st = 0\n",
    "#     kn = 0\n",
    "#     for i in range(len(s)):\n",
    "#         if s[i].lower() in vo:\n",
    "#             kn += len(s) - i\n",
    "#         else:\n",
    "#             st += len(s) - i\n",
    "#     if st>kn:\n",
    "#         print(\"Stuart\",st)\n",
    "#     elif st<kn:\n",
    "#         print(\"Kevin\",kn)\n",
    "#     else:\n",
    "#         print(\"Draw\")\n",
    "\n",
    "# if __name__ == '__main__':\n",
    "#     minion_game(input())"
   ]
  },
  {
   "cell_type": "code",
   "execution_count": 98,
   "id": "fed7f421",
   "metadata": {
    "ExecuteTime": {
     "end_time": "2022-03-20T07:35:57.229570Z",
     "start_time": "2022-03-20T07:35:57.213611Z"
    }
   },
   "outputs": [],
   "source": [
    "# s = input()\n",
    "# st = 0\n",
    "# kn = 0\n",
    "# for i in range(len(s)):\n",
    "#     if s[i].lower() in vo:\n",
    "#         kn += len(s) - i\n",
    "#         print(\"Kevin : \",kn)\n",
    "#     else:\n",
    "#         st += len(s) - i\n",
    "#         print(\"Stuart : \",st)"
   ]
  },
  {
   "cell_type": "code",
   "execution_count": 88,
   "id": "5e6dbf6c",
   "metadata": {
    "ExecuteTime": {
     "end_time": "2022-03-20T07:24:20.655461Z",
     "start_time": "2022-03-20T07:24:20.637493Z"
    }
   },
   "outputs": [],
   "source": [
    "# alphabets = string.ascii_lowercase\n",
    "# vo = []\n",
    "# co = []\n",
    "# for i in alphabets:\n",
    "#     if i in 'aeiou':\n",
    "#         vo.append(i)\n",
    "#     else:\n",
    "#         co.append(i)"
   ]
  },
  {
   "cell_type": "code",
   "execution_count": 72,
   "id": "b81f4786",
   "metadata": {
    "ExecuteTime": {
     "end_time": "2022-03-20T06:47:57.767479Z",
     "start_time": "2022-03-20T06:47:57.756506Z"
    }
   },
   "outputs": [
    {
     "data": {
      "text/plain": [
       "['b',\n",
       " 'c',\n",
       " 'd',\n",
       " 'f',\n",
       " 'g',\n",
       " 'h',\n",
       " 'j',\n",
       " 'k',\n",
       " 'l',\n",
       " 'm',\n",
       " 'n',\n",
       " 'p',\n",
       " 'q',\n",
       " 'r',\n",
       " 's',\n",
       " 't',\n",
       " 'v',\n",
       " 'w',\n",
       " 'x',\n",
       " 'y',\n",
       " 'z']"
      ]
     },
     "execution_count": 72,
     "metadata": {},
     "output_type": "execute_result"
    }
   ],
   "source": [
    "co"
   ]
  },
  {
   "cell_type": "code",
   "execution_count": 89,
   "id": "905ec864",
   "metadata": {
    "ExecuteTime": {
     "end_time": "2022-03-20T07:24:31.541206Z",
     "start_time": "2022-03-20T07:24:31.524216Z"
    }
   },
   "outputs": [],
   "source": [
    "# s = input()\n",
    "# st = 0\n",
    "# kn = 0\n",
    "# for i in range(len(s)):\n",
    "#     if s[i].lower() in vo:\n",
    "#         kn += len(s) - i\n",
    "#     else:\n",
    "#         st += len(s) - i\n",
    "# if st>kn:\n",
    "#     print(\"Stuart\",st)\n",
    "# elif st<kn:\n",
    "#     print(\"Kevin\",kn)\n",
    "# else:\n",
    "#     print(\"Draw\")"
   ]
  },
  {
   "cell_type": "code",
   "execution_count": 90,
   "id": "4ed2cc77",
   "metadata": {
    "ExecuteTime": {
     "end_time": "2022-03-20T07:24:34.182588Z",
     "start_time": "2022-03-20T07:24:34.171612Z"
    }
   },
   "outputs": [],
   "source": [
    "# s = input()\n",
    "# st = 0\n",
    "# bp = 0\n",
    "# for i in range(len(s)):\n",
    "#     if vowels[s[i].upper()]:\n",
    "#         bp += len(s) - i\n",
    "#         print(bp)"
   ]
  },
  {
   "cell_type": "code",
   "execution_count": 73,
   "id": "18c98d4f",
   "metadata": {
    "ExecuteTime": {
     "end_time": "2022-03-20T06:49:36.992329Z",
     "start_time": "2022-03-20T06:49:36.972349Z"
    }
   },
   "outputs": [
    {
     "data": {
      "text/plain": [
       "{'A': True,\n",
       " 'B': False,\n",
       " 'C': False,\n",
       " 'D': False,\n",
       " 'E': True,\n",
       " 'F': False,\n",
       " 'G': False,\n",
       " 'H': False,\n",
       " 'I': True,\n",
       " 'J': False,\n",
       " 'K': False,\n",
       " 'L': False,\n",
       " 'M': False,\n",
       " 'N': False,\n",
       " 'O': True,\n",
       " 'P': False,\n",
       " 'Q': False,\n",
       " 'R': False,\n",
       " 'S': False,\n",
       " 'T': False,\n",
       " 'U': True,\n",
       " 'V': False,\n",
       " 'W': False,\n",
       " 'X': False,\n",
       " 'Y': False,\n",
       " 'Z': False}"
      ]
     },
     "execution_count": 73,
     "metadata": {},
     "output_type": "execute_result"
    }
   ],
   "source": [
    "vowels"
   ]
  },
  {
   "cell_type": "code",
   "execution_count": null,
   "id": "1c994612",
   "metadata": {},
   "outputs": [],
   "source": [
    "7 3\n",
    "Tsi\n",
    "h%x\n",
    "i #\n",
    "sM \n",
    "$a \n",
    "#t%\n",
    "ir!"
   ]
  },
  {
   "cell_type": "code",
   "execution_count": 305,
   "id": "191021c5",
   "metadata": {
    "ExecuteTime": {
     "end_time": "2022-06-16T09:40:44.712680Z",
     "start_time": "2022-06-16T09:40:44.700715Z"
    }
   },
   "outputs": [],
   "source": [
    "# ### Matrix Script\n",
    "# import re\n",
    "# first_multiple_input = input().rstrip().split()\n",
    "\n",
    "# n = int(first_multiple_input[0])\n",
    "\n",
    "# m = int(first_multiple_input[1])\n",
    "\n",
    "# matrix = []\n",
    "\n",
    "# for _ in range(n):\n",
    "#     matrix_item = input()\n",
    "#     matrix.append(matrix_item)\n",
    "# matrix_new = ''.join([''.join(matrix)[i::m] for i in range(m)])\n",
    "# exp = r'(?<=[a-zA-Z0-9])[^a-zA-Z0-9]+(?=[a-zA-Z0-9])'\n",
    "# print(re.sub(exp,' ',matrix_new))"
   ]
  },
  {
   "cell_type": "code",
   "execution_count": 219,
   "id": "acc6aec8",
   "metadata": {
    "ExecuteTime": {
     "end_time": "2022-03-20T10:04:35.637333Z",
     "start_time": "2022-03-20T10:04:35.628357Z"
    }
   },
   "outputs": [],
   "source": [
    "# [matrix[i::m] for i in range(m)]"
   ]
  },
  {
   "cell_type": "code",
   "execution_count": 218,
   "id": "fc52cdf2",
   "metadata": {
    "ExecuteTime": {
     "end_time": "2022-03-20T10:04:32.912321Z",
     "start_time": "2022-03-20T10:04:32.896329Z"
    }
   },
   "outputs": [],
   "source": [
    "# for i in range(m):\n",
    "#     print(''.join(matrix)[i::m],end='')"
   ]
  },
  {
   "cell_type": "code",
   "execution_count": 217,
   "id": "55b3259e",
   "metadata": {
    "ExecuteTime": {
     "end_time": "2022-03-20T10:04:30.430947Z",
     "start_time": "2022-03-20T10:04:30.420971Z"
    }
   },
   "outputs": [],
   "source": [
    "# s = ('!','@','#','$','%','&')\n",
    "# s"
   ]
  },
  {
   "cell_type": "code",
   "execution_count": 216,
   "id": "3907d50e",
   "metadata": {
    "ExecuteTime": {
     "end_time": "2022-03-20T10:04:22.647301Z",
     "start_time": "2022-03-20T10:04:22.631338Z"
    }
   },
   "outputs": [],
   "source": [
    "# import string\n",
    "# alpha_num = string.ascii_letters + ''.join([str(i) for i in range(10)])"
   ]
  },
  {
   "cell_type": "code",
   "execution_count": 215,
   "id": "b9263f09",
   "metadata": {
    "ExecuteTime": {
     "end_time": "2022-03-20T10:04:18.325798Z",
     "start_time": "2022-03-20T10:04:18.307842Z"
    }
   },
   "outputs": [],
   "source": [
    "# for i in range(m):\n",
    "#     for j in range(n):\n",
    "#         print(matrix[j][i],end='')"
   ]
  },
  {
   "cell_type": "code",
   "execution_count": 181,
   "id": "c2c4763d",
   "metadata": {
    "ExecuteTime": {
     "end_time": "2022-03-20T09:33:14.789888Z",
     "start_time": "2022-03-20T09:33:14.770940Z"
    }
   },
   "outputs": [],
   "source": [
    "# for i in range(n):\n",
    "#     print(matrix[i][0],end='')\n",
    "# for i in range(n):\n",
    "#     print(matrix[i][1],end='')\n",
    "# for i in range(n):\n",
    "#     print(matrix[i][2],end='')"
   ]
  },
  {
   "cell_type": "code",
   "execution_count": 169,
   "id": "049b0794",
   "metadata": {
    "ExecuteTime": {
     "end_time": "2022-03-20T09:28:40.108597Z",
     "start_time": "2022-03-20T09:28:40.094605Z"
    }
   },
   "outputs": [],
   "source": [
    "# o = []\n",
    "# for i in range(m):\n",
    "#     j = n\n",
    "#     while j!=0:\n",
    "#         o.append(i)\n",
    "#         j = j-1\n",
    "# o"
   ]
  },
  {
   "cell_type": "code",
   "execution_count": 168,
   "id": "5788ed6a",
   "metadata": {
    "ExecuteTime": {
     "end_time": "2022-03-20T09:28:33.677661Z",
     "start_time": "2022-03-20T09:28:33.660676Z"
    }
   },
   "outputs": [],
   "source": [
    "# for (i,j) in zip(range(0,len(o),n),range(n,len(o)+n,n)):\n",
    "#     print(o[i:j])"
   ]
  },
  {
   "cell_type": "code",
   "execution_count": 166,
   "id": "18b84a5a",
   "metadata": {
    "ExecuteTime": {
     "end_time": "2022-03-20T09:28:27.764670Z",
     "start_time": "2022-03-20T09:28:27.755694Z"
    }
   },
   "outputs": [],
   "source": [
    "# for k in range(n):\n",
    "#     for (i,j) in zip(range(0,len(o),n),range(n,len(o)+n,n)):\n",
    "#         for p in range(len(o[i:j])):\n",
    "#             print(matrix[k][o[i:j][p]],end='')"
   ]
  },
  {
   "cell_type": "code",
   "execution_count": 167,
   "id": "a75dcbc0",
   "metadata": {
    "ExecuteTime": {
     "end_time": "2022-03-20T09:28:30.281410Z",
     "start_time": "2022-03-20T09:28:30.262829Z"
    }
   },
   "outputs": [],
   "source": [
    "# for k in range(n):\n",
    "#     for (i,j) in zip(range(0,len(o),n),range(n,len(o)+n,n)):\n",
    "#         print([k,[i,j]],end='')"
   ]
  },
  {
   "cell_type": "code",
   "execution_count": 234,
   "id": "a6a9a2b7",
   "metadata": {
    "ExecuteTime": {
     "end_time": "2022-03-20T10:22:01.940518Z",
     "start_time": "2022-03-20T10:22:01.931518Z"
    }
   },
   "outputs": [],
   "source": [
    "# import numpy as np\n",
    "# n = list(map(int,input().split()))\n",
    "# l = []\n",
    "# for i in range(n[0]):\n",
    "#     l.append(list(map(int,input().split())))\n",
    "# print(np.transpose(np.array(l)))\n",
    "# print(np.array(l).flatten())"
   ]
  },
  {
   "cell_type": "code",
   "execution_count": null,
   "id": "22ec0ae0",
   "metadata": {},
   "outputs": [],
   "source": [
    "4 3 2\n",
    "1 2\n",
    "1 2 \n",
    "1 2\n",
    "1 2\n",
    "3 4\n",
    "3 4\n",
    "3 4 "
   ]
  },
  {
   "cell_type": "code",
   "execution_count": 249,
   "id": "288efda6",
   "metadata": {
    "ExecuteTime": {
     "end_time": "2022-03-20T10:37:13.481266Z",
     "start_time": "2022-03-20T10:37:13.461287Z"
    }
   },
   "outputs": [],
   "source": [
    "# import numpy as np\n",
    "# n = list(map(int,input().split()))\n",
    "# l = []\n",
    "# for i in range(n[0]+n[1]):\n",
    "#     l.append(list(map(int,input().split())))\n",
    "# print(np.concatenate([[np.array(i)] for i in l],axis=0))"
   ]
  },
  {
   "cell_type": "code",
   "execution_count": 1,
   "id": "59b1ce20",
   "metadata": {
    "ExecuteTime": {
     "end_time": "2022-06-16T06:26:47.112926Z",
     "start_time": "2022-06-16T06:26:47.102983Z"
    }
   },
   "outputs": [],
   "source": [
    "# import numpy as np\n",
    "# n = tuple(map(int,input().split()))\n",
    "# print(np.zeros(n,int))\n",
    "# print(np.ones(n,int))"
   ]
  },
  {
   "cell_type": "code",
   "execution_count": null,
   "id": "bfe6d104",
   "metadata": {},
   "outputs": [],
   "source": [
    "12\n",
    "insert 0 5\n",
    "insert 1 10\n",
    "insert 0 6\n",
    "print\n",
    "remove 6\n",
    "append 9\n",
    "append 1\n",
    "sort\n",
    "print\n",
    "pop\n",
    "reverse\n",
    "print"
   ]
  },
  {
   "cell_type": "code",
   "execution_count": 46,
   "id": "d79d17f4",
   "metadata": {
    "ExecuteTime": {
     "end_time": "2022-06-16T06:58:43.430828Z",
     "start_time": "2022-06-16T06:58:43.415868Z"
    }
   },
   "outputs": [],
   "source": [
    "# if __name__ == '__main__':\n",
    "#     N = int(input(\"Enter No.of Test Cases : \"))\n",
    "#     N1 = []\n",
    "#     for i in range(N):\n",
    "#         N1.append(input(\"Enter : \"))\n",
    "#     N2 = []\n",
    "#     for i in range(len(N1)):\n",
    "#         if 'insert' in N1[i]:\n",
    "#             N2.insert(int(N1[i].split()[1]),int(N1[i].split()[2]))\n",
    "#         elif 'print' in N1[i]:\n",
    "#             print(N2)\n",
    "#         elif 'remove' in N1[i]:\n",
    "#             N2.remove(int(N1[i].split()[1]))\n",
    "#         elif 'append' in N1[i]:\n",
    "#             N2.append(int(N1[i].split()[1]))\n",
    "#         elif 'sort' in N1[i]:\n",
    "#             N2.sort()\n",
    "#         elif 'pop' in N1[i]:\n",
    "#             N2.pop()\n",
    "#         elif 'reverse' in N1[i]:\n",
    "#             N2.reverse()"
   ]
  },
  {
   "cell_type": "code",
   "execution_count": 47,
   "id": "9011ede1",
   "metadata": {
    "ExecuteTime": {
     "end_time": "2022-06-16T07:00:06.208384Z",
     "start_time": "2022-06-16T07:00:06.195382Z"
    }
   },
   "outputs": [],
   "source": [
    "# if __name__ == '__main__':\n",
    "#     N = int(input())\n",
    "#     N1 = []\n",
    "#     for i in range(N):\n",
    "#         N1.append(input().split())\n",
    "#     N2 = []\n",
    "#     for i in range(len(N1)):\n",
    "#         if 'insert' in N1[i]:\n",
    "#             N2.insert(int(N1[i][1]),int(N1[i][2]))\n",
    "#         elif 'print' in N1[i]:\n",
    "#             print(N2)\n",
    "#         elif 'remove' in N1[i]:\n",
    "#             N2.remove(int(N1[i][1]))\n",
    "#         elif 'append' in N1[i]:\n",
    "#             N2.append(int(N1[i][1]))\n",
    "#         elif 'sort' in N1[i]:\n",
    "#             N2.sort()\n",
    "#         elif 'pop' in N1[i]:\n",
    "#             N2.pop()\n",
    "#         elif 'reverse' in N1[i]:\n",
    "#             N2.reverse()"
   ]
  },
  {
   "cell_type": "code",
   "execution_count": 56,
   "id": "9003bb9e",
   "metadata": {
    "ExecuteTime": {
     "end_time": "2022-06-16T07:08:00.279093Z",
     "start_time": "2022-06-16T07:07:57.681940Z"
    }
   },
   "outputs": [
    {
     "name": "stdout",
     "output_type": "stream",
     "text": [
      "1 \n",
      "1 2\n",
      "-3550055125485641917\n"
     ]
    }
   ],
   "source": [
    "# if __name__ == '__main__':\n",
    "#     n = int(input())\n",
    "#     integer_list = tuple(map(int, input().split()))\n",
    "#     print(hash(integer_list)) "
   ]
  },
  {
   "cell_type": "code",
   "execution_count": 57,
   "id": "bb7a56c8",
   "metadata": {
    "ExecuteTime": {
     "end_time": "2022-06-16T07:16:15.226121Z",
     "start_time": "2022-06-16T07:16:15.220144Z"
    }
   },
   "outputs": [],
   "source": [
    "import re"
   ]
  },
  {
   "cell_type": "code",
   "execution_count": null,
   "id": "d4bc47d2",
   "metadata": {},
   "outputs": [],
   "source": [
    "# 3\n",
    "# lara@hackerrank.com\n",
    "# brian-23@hackerrank.com\n",
    "# britts_54@hackerrank.com"
   ]
  },
  {
   "cell_type": "code",
   "execution_count": 303,
   "id": "c3592dcf",
   "metadata": {
    "ExecuteTime": {
     "end_time": "2022-06-16T09:37:47.618773Z",
     "start_time": "2022-06-16T09:37:47.607506Z"
    }
   },
   "outputs": [],
   "source": [
    "# em = ['lara@hackerrank.com','brian-23@hackerrank.com','britts_54@hackerrank.com','aakash.9372@gmail.com','akshay.7626']\n",
    "# re.findall(r'^\\w+',em[2])"
   ]
  },
  {
   "cell_type": "code",
   "execution_count": 110,
   "id": "940cdf98",
   "metadata": {
    "ExecuteTime": {
     "end_time": "2022-06-16T07:47:16.972220Z",
     "start_time": "2022-06-16T07:47:16.950276Z"
    }
   },
   "outputs": [
    {
     "data": {
      "text/plain": [
       "False"
      ]
     },
     "execution_count": 110,
     "metadata": {},
     "output_type": "execute_result"
    }
   ],
   "source": [
    "re.match(r'[\\w\\.-]+@[\\w\\.-]+',em[3])"
   ]
  },
  {
   "cell_type": "code",
   "execution_count": 196,
   "id": "82a40ce2",
   "metadata": {
    "ExecuteTime": {
     "end_time": "2022-06-16T08:10:49.308216Z",
     "start_time": "2022-06-16T08:10:49.298242Z"
    }
   },
   "outputs": [
    {
     "data": {
      "text/plain": [
       "3"
      ]
     },
     "execution_count": 196,
     "metadata": {},
     "output_type": "execute_result"
    }
   ],
   "source": [
    "# re.findall(r'\\w+',re.findall(r'@\\\\?(.*)',em[3])[0])\n",
    "len(re.findall(r'\\.\\\\?(\\D+)',em[3])[0])"
   ]
  },
  {
   "cell_type": "code",
   "execution_count": 240,
   "id": "36379892",
   "metadata": {
    "ExecuteTime": {
     "end_time": "2022-06-16T08:39:50.881048Z",
     "start_time": "2022-06-16T08:39:50.876061Z"
    }
   },
   "outputs": [],
   "source": [
    "# for i in range(len(em)):\n",
    "#     if bool(re.match(r'[\\w\\.-]+@[\\w\\.-]+',em[i])) == True:\n",
    "#         print(\"Gmail : \",re.findall(r'[\\w\\.-]+@[\\w\\.-]+',em[i]))\n",
    "#         if bool(re.match(r'\\w+',em[i])) == True:\n",
    "#             print(\"Username : \",re.findall(r'([\\w\\.-]+)\\@',em[i]))\n",
    "#             if bool(re.findall(r'@\\\\?(.*)',em[i])) == True:\n",
    "#                 print(\"Website : \",re.findall(r'@\\\\?(.*)',em[i]))\n",
    "#                 if bool(re.findall(r'\\.\\\\?(\\D+)',em[3])) ==True and len(re.findall(r'\\.\\\\?(\\D+)',em[3])[0])==3:\n",
    "#                     print(\"Extension : \",re.findall(r'\\.\\\\?(\\D+)',em[3]))"
   ]
  },
  {
   "cell_type": "code",
   "execution_count": 241,
   "id": "1e820e8b",
   "metadata": {
    "ExecuteTime": {
     "end_time": "2022-06-16T08:39:51.518636Z",
     "start_time": "2022-06-16T08:39:51.507636Z"
    }
   },
   "outputs": [],
   "source": [
    "# def email_filter(em):\n",
    "#     ems = [] \n",
    "#     for i in range(len(em)):\n",
    "#         if bool(re.match(r'[\\w\\.-]+@[\\w\\.-]+',em[i])) == True:\n",
    "#             if bool(re.match(r'\\w+',em[i])) == True:\n",
    "#                 if bool(re.findall(r'@\\\\?(.*)',em[i])) == True:\n",
    "#                     if bool(re.findall(r'\\.\\\\?(\\D+)',em[i])) ==True and len(re.findall(r'\\.\\\\?(\\D+)',em[i])[0])==3:\n",
    "#                         ems.append(re.findall(r'[\\w\\.-]+@[\\w\\.-]+',em[i])[0])\n",
    "#     return ems\n",
    "# email_filter(em)"
   ]
  },
  {
   "cell_type": "code",
   "execution_count": 262,
   "id": "bbbdf15d",
   "metadata": {
    "ExecuteTime": {
     "end_time": "2022-06-16T08:51:28.214924Z",
     "start_time": "2022-06-16T08:51:28.198969Z"
    }
   },
   "outputs": [],
   "source": [
    "em1 = [\"dheeraj-234@gmail.com\",\"itsallcrap\",\"harsh_1234@rediff.in\",\"kunal_shin@iop.az\",\"matt23@@india.in\"]\n",
    "em2 = ['fjladfk_iasdfad234@sdlkjf23335.in','ha@git@int.cz','prashant24_@gmail.com'] \n",
    "em3 = [\"its@gmail.com1\",\"mike13445@yahoomail9.server\",\"rase23@ha_ch.com\",\"daniyal@gmail.coma\",\"thatisit@thatisit\"]"
   ]
  },
  {
   "cell_type": "code",
   "execution_count": 302,
   "id": "d197bb5c",
   "metadata": {
    "ExecuteTime": {
     "end_time": "2022-06-16T09:06:34.218509Z",
     "start_time": "2022-06-16T09:06:34.168642Z"
    }
   },
   "outputs": [
    {
     "data": {
      "text/plain": [
       "[]"
      ]
     },
     "execution_count": 302,
     "metadata": {},
     "output_type": "execute_result"
    }
   ],
   "source": [
    "def email_filter(em):\n",
    "        if bool(re.match(r'[\\w\\.-]+@[\\w\\.-]+',em)) == True and len(re.findall(r'\\@',em))==1:\n",
    "            if bool(re.match(r'\\w+',em)) == True:\n",
    "                if bool(re.findall(r'@\\\\?(.*)',em)) == True and bool(re.match(r\"^[A-Za-z0-9]*$\",re.findall(r'@\\\\?(.*)',em)[0].split('.')[0])) ==True:\n",
    "                    if bool(re.findall(r'\\.\\\\?(\\D+)',em)) ==True and len(re.findall(r'\\.\\\\?(.*)',em)[0])<=3:\n",
    "                        return True\n",
    "list(filter(email_filter,em3 ))"
   ]
  },
  {
   "cell_type": "code",
   "execution_count": 301,
   "id": "8b0c2ffa",
   "metadata": {
    "ExecuteTime": {
     "end_time": "2022-06-16T09:06:25.025664Z",
     "start_time": "2022-06-16T09:06:24.992756Z"
    }
   },
   "outputs": [
    {
     "data": {
      "text/plain": [
       "<re.Match object; span=(0, 5), match='ha_ch'>"
      ]
     },
     "execution_count": 301,
     "metadata": {},
     "output_type": "execute_result"
    }
   ],
   "source": [
    "# len(re.findall(r'\\@',em2[0]))\n",
    "# re.findall(r'\\.\\\\?(.*)',em3[0])[0]\n",
    "re.match(r\"^[A-Za-z0-9_-]*$\",re.findall(r'@\\\\?(.*)',em3[2])[0].split('.')[0])\n",
    "# re.findall(r'@\\\\?(.*)',em3[0])[0].split('.')[0]"
   ]
  },
  {
   "cell_type": "code",
   "execution_count": 249,
   "id": "14ae55d8",
   "metadata": {
    "ExecuteTime": {
     "end_time": "2022-06-16T08:43:09.448985Z",
     "start_time": "2022-06-16T08:43:09.429033Z"
    }
   },
   "outputs": [],
   "source": [
    "# list(filter(email_filter,em))\n",
    "# re.findall(r'@\\\\?(.*)','aakash.9372@gmail.com')\n",
    "# re.findall(r'\\.\\\\?(\\D+)','aakash.9372@gmail.com')\n",
    "# re.findall(r'\\.\\\\?(\\D+)','aakash.9372@gmail.com')"
   ]
  },
  {
   "cell_type": "code",
   "execution_count": null,
   "id": "30d52e3a",
   "metadata": {},
   "outputs": [],
   "source": [
    "# import re\n",
    "# def fun(em):\n",
    "#     if bool(re.match(r'[\\w\\.-]+@[\\w\\.-]+',em)) == True:\n",
    "#             if bool(re.match(r'\\w+',em)) == True:\n",
    "#                 if bool(re.findall(r'@\\\\?(.*)',em)) == True:\n",
    "#                     if bool(re.findall(r'\\.\\\\?(\\D+)',em)) ==True and len(re.findall(r'\\.\\\\?(\\D+)',em)[0])==3:\n",
    "#                         return True\n",
    "# def filter_mail(emails):\n",
    "#     return list(filter(fun, emails))\n",
    "\n",
    "# if __name__ == '__main__':\n",
    "#     n = int(input())\n",
    "#     emails = []\n",
    "#     for _ in range(n):\n",
    "#         emails.append(input())\n",
    "\n",
    "# filtered_emails = filter_mail(emails)\n",
    "# filtered_emails.sort()\n",
    "# print(filtered_emails)"
   ]
  },
  {
   "cell_type": "code",
   "execution_count": null,
   "id": "776923e3",
   "metadata": {},
   "outputs": [],
   "source": [
    "3 1000\n",
    "2 5 4\n",
    "3 7 8 9 \n",
    "5 5 7 8 9 10 "
   ]
  },
  {
   "cell_type": "code",
   "execution_count": null,
   "id": "e144b73a",
   "metadata": {},
   "outputs": [],
   "source": [
    "7 867\n",
    "7 6429964 4173738 9941618 2744666 5392018 5813128 9452095\n",
    "7 6517823 4135421 6418713 9924958 9370532 7940650 2027017\n",
    "7 1506500 3460933 1550284 3679489 4538773 5216621 5645660\n",
    "7 7443563 5181142 8804416 8726696 5358847 7155276 4433125\n",
    "7 2230555 3920370 7851992 1176871 610460 309961 3921536\n",
    "7 8518829 8639441 3373630 5036651 5291213 2308694 7477960\n",
    "7 7178097 249343 9504976 8684596 6226627 1055259 4880436"
   ]
  },
  {
   "cell_type": "code",
   "execution_count": 325,
   "id": "f8493c48",
   "metadata": {
    "ExecuteTime": {
     "end_time": "2022-06-16T09:55:33.817077Z",
     "start_time": "2022-06-16T09:54:40.163111Z"
    },
    "collapsed": true
   },
   "outputs": [
    {
     "name": "stdout",
     "output_type": "stream",
     "text": [
      "Enter Test Cases : 7\n",
      "Enter Numbers : 7 6429964 4173738 9941618 2744666 5392018 5813128 9452095\n",
      "Enter Numbers : 7 6517823 4135421 6418713 9924958 9370532 7940650 2027017\n",
      "Enter Numbers : 7 1506500 3460933 1550284 3679489 4538773 5216621 5645660\n",
      "Enter Numbers : 7 7443563 5181142 8804416 8726696 5358847 7155276 4433125\n",
      "Enter Numbers : 7 2230555 3920370 7851992 1176871 610460 309961 3921536\n",
      "Enter Numbers : 7 8518829 8639441 3373630 5036651 5291213 2308694 7477960\n",
      "Enter Numbers : 7 7178097 249343 9504976 8684596 6226627 1055259 4880436\n"
     ]
    },
    {
     "ename": "IndexError",
     "evalue": "list index out of range",
     "output_type": "error",
     "traceback": [
      "\u001b[1;31m---------------------------------------------------------------------------\u001b[0m",
      "\u001b[1;31mIndexError\u001b[0m                                Traceback (most recent call last)",
      "\u001b[1;32m~\\AppData\\Local\\Temp/ipykernel_17816/3563171656.py\u001b[0m in \u001b[0;36m<module>\u001b[1;34m\u001b[0m\n\u001b[0;32m      3\u001b[0m \u001b[1;32mfor\u001b[0m \u001b[0mi\u001b[0m \u001b[1;32min\u001b[0m \u001b[0mrange\u001b[0m\u001b[1;33m(\u001b[0m\u001b[0mn\u001b[0m\u001b[1;33m[\u001b[0m\u001b[1;36m0\u001b[0m\u001b[1;33m]\u001b[0m\u001b[1;33m)\u001b[0m\u001b[1;33m:\u001b[0m\u001b[1;33m\u001b[0m\u001b[1;33m\u001b[0m\u001b[0m\n\u001b[0;32m      4\u001b[0m     \u001b[0mn1\u001b[0m\u001b[1;33m.\u001b[0m\u001b[0mappend\u001b[0m\u001b[1;33m(\u001b[0m\u001b[0mlist\u001b[0m\u001b[1;33m(\u001b[0m\u001b[0mmap\u001b[0m\u001b[1;33m(\u001b[0m\u001b[0mint\u001b[0m\u001b[1;33m,\u001b[0m\u001b[0minput\u001b[0m\u001b[1;33m(\u001b[0m\u001b[1;34m\"Enter Numbers : \"\u001b[0m\u001b[1;33m)\u001b[0m\u001b[1;33m.\u001b[0m\u001b[0msplit\u001b[0m\u001b[1;33m(\u001b[0m\u001b[1;33m)\u001b[0m\u001b[1;33m)\u001b[0m\u001b[1;33m)\u001b[0m\u001b[1;33m)\u001b[0m\u001b[1;33m\u001b[0m\u001b[1;33m\u001b[0m\u001b[0m\n\u001b[1;32m----> 5\u001b[1;33m \u001b[0mprint\u001b[0m\u001b[1;33m(\u001b[0m\u001b[0msum\u001b[0m\u001b[1;33m(\u001b[0m\u001b[1;33m[\u001b[0m\u001b[0mi\u001b[0m\u001b[1;33m**\u001b[0m\u001b[1;36m2\u001b[0m \u001b[1;32mfor\u001b[0m \u001b[0mi\u001b[0m \u001b[1;32min\u001b[0m \u001b[1;33m[\u001b[0m\u001b[0mmax\u001b[0m\u001b[1;33m(\u001b[0m\u001b[0mn1\u001b[0m\u001b[1;33m[\u001b[0m\u001b[0mi\u001b[0m\u001b[1;33m]\u001b[0m\u001b[1;33m[\u001b[0m\u001b[1;36m1\u001b[0m\u001b[1;33m:\u001b[0m\u001b[1;33m]\u001b[0m\u001b[1;33m)\u001b[0m \u001b[1;32mfor\u001b[0m \u001b[0mi\u001b[0m \u001b[1;32min\u001b[0m \u001b[0mrange\u001b[0m\u001b[1;33m(\u001b[0m\u001b[0mn\u001b[0m\u001b[1;33m[\u001b[0m\u001b[1;36m0\u001b[0m\u001b[1;33m]\u001b[0m\u001b[1;33m)\u001b[0m\u001b[1;33m]\u001b[0m \u001b[1;33m]\u001b[0m\u001b[1;33m)\u001b[0m\u001b[1;33m%\u001b[0m\u001b[0mn\u001b[0m\u001b[1;33m[\u001b[0m\u001b[1;36m1\u001b[0m\u001b[1;33m]\u001b[0m\u001b[1;33m)\u001b[0m\u001b[1;33m\u001b[0m\u001b[1;33m\u001b[0m\u001b[0m\n\u001b[0m",
      "\u001b[1;31mIndexError\u001b[0m: list index out of range"
     ]
    }
   ],
   "source": [
    "from itertools import product\n",
    "n = list(map(int,input(\"Enter Test Cases : \").split()))\n",
    "n1 =[]\n",
    "for i in range(n[0]):\n",
    "    n1.append(list(map(int,input(\"Enter Numbers : \").split())))\n",
    "print(sum([i**2 for i in [max(n1[i][1:]) for i in range(n[0])] ])%n[1])"
   ]
  },
  {
   "cell_type": "code",
   "execution_count": 513,
   "id": "f31cb756",
   "metadata": {
    "ExecuteTime": {
     "end_time": "2022-06-16T11:07:31.634859Z",
     "start_time": "2022-06-16T11:07:16.804712Z"
    }
   },
   "outputs": [
    {
     "name": "stdout",
     "output_type": "stream",
     "text": [
      "Enter Test Cases : 3 1000\n",
      "Enter Numbers : 2 5 4\n",
      "Enter Numbers : 3 7 8 9\n",
      "Enter Numbers : 5 5 7 8 9 10\n",
      "206\n"
     ]
    }
   ],
   "source": [
    "from itertools import product\n",
    "n = list(map(int,input(\"Enter Test Cases : \").split()))\n",
    "n1 = [list(map(int,input(\"Enter Numbers : \").split()))[1:] for i in range(n[0])]\n",
    "print(max(list(map(lambda x:sum(i**2 for i in x)%n[1],(product(*n1))))))"
   ]
  },
  {
   "cell_type": "code",
   "execution_count": 536,
   "id": "56fc12f3",
   "metadata": {
    "ExecuteTime": {
     "end_time": "2022-06-16T11:15:42.309900Z",
     "start_time": "2022-06-16T11:15:42.297966Z"
    }
   },
   "outputs": [
    {
     "name": "stdout",
     "output_type": "stream",
     "text": [
      "[25, 49, 25]\n",
      "[25, 49, 49]\n",
      "[25, 49, 64]\n",
      "[25, 49, 81]\n",
      "[25, 49, 100]\n",
      "[25, 64, 25]\n",
      "[25, 64, 49]\n",
      "[25, 64, 64]\n",
      "[25, 64, 81]\n",
      "[25, 64, 100]\n",
      "[25, 81, 25]\n",
      "[25, 81, 49]\n",
      "[25, 81, 64]\n",
      "[25, 81, 81]\n",
      "[25, 81, 100]\n",
      "[16, 49, 25]\n",
      "[16, 49, 49]\n",
      "[16, 49, 64]\n",
      "[16, 49, 81]\n",
      "[16, 49, 100]\n",
      "[16, 64, 25]\n",
      "[16, 64, 49]\n",
      "[16, 64, 64]\n",
      "[16, 64, 81]\n",
      "[16, 64, 100]\n",
      "[16, 81, 25]\n",
      "[16, 81, 49]\n",
      "[16, 81, 64]\n",
      "[16, 81, 81]\n",
      "[16, 81, 100]\n"
     ]
    }
   ],
   "source": [
    "for i in range(30):\n",
    "    print(list(list(map(lambda x: (i**2 for i in x),list(product(*n1))))[i]))"
   ]
  },
  {
   "cell_type": "code",
   "execution_count": 488,
   "id": "2a22db1a",
   "metadata": {
    "ExecuteTime": {
     "end_time": "2022-06-16T10:54:26.866801Z",
     "start_time": "2022-06-16T10:53:58.828213Z"
    }
   },
   "outputs": [
    {
     "name": "stdout",
     "output_type": "stream",
     "text": [
      "3 1000\n",
      "2 5 4\n",
      "3 7 8 9\n",
      "5 5 7 8 9 10\n",
      "206\n"
     ]
    }
   ],
   "source": [
    "from itertools import product\n",
    "K,M = map(int,input().split())\n",
    "N = (list(map(int, input().split()))[1:] for _ in range(K))\n",
    "results = map(lambda x: sum(i**2 for i in x)%M, product(*N))\n",
    "print(max(results))"
   ]
  },
  {
   "cell_type": "code",
   "execution_count": 537,
   "id": "092f3dd0",
   "metadata": {
    "ExecuteTime": {
     "end_time": "2022-06-16T11:43:59.728154Z",
     "start_time": "2022-06-16T11:43:59.709206Z"
    }
   },
   "outputs": [],
   "source": [
    "class TreeNode:\n",
    "    def __init__(self,key):\n",
    "        self.key = key\n",
    "        self.left = None\n",
    "        self.right = None"
   ]
  },
  {
   "cell_type": "code",
   "execution_count": 552,
   "id": "c783a54e",
   "metadata": {
    "ExecuteTime": {
     "end_time": "2022-06-16T11:51:41.658678Z",
     "start_time": "2022-06-16T11:51:41.646710Z"
    }
   },
   "outputs": [],
   "source": [
    "node0 = TreeNode(2)"
   ]
  },
  {
   "cell_type": "code",
   "execution_count": 553,
   "id": "a0583ed7",
   "metadata": {
    "ExecuteTime": {
     "end_time": "2022-06-16T11:51:42.297288Z",
     "start_time": "2022-06-16T11:51:42.286319Z"
    }
   },
   "outputs": [],
   "source": [
    "node0.left = TreeNode(3)\n",
    "node0.right = TreeNode(5)"
   ]
  },
  {
   "cell_type": "code",
   "execution_count": 554,
   "id": "3bccf005",
   "metadata": {
    "ExecuteTime": {
     "end_time": "2022-06-16T11:51:42.800647Z",
     "start_time": "2022-06-16T11:51:42.787682Z"
    }
   },
   "outputs": [],
   "source": [
    "node0.left.left = TreeNode(1)"
   ]
  },
  {
   "cell_type": "code",
   "execution_count": 557,
   "id": "33caac21",
   "metadata": {
    "ExecuteTime": {
     "end_time": "2022-06-16T11:51:48.149287Z",
     "start_time": "2022-06-16T11:51:48.133296Z"
    }
   },
   "outputs": [],
   "source": [
    "node0.right.left = TreeNode(3)\n",
    "node0.right.right = TreeNode(7)"
   ]
  },
  {
   "cell_type": "code",
   "execution_count": 558,
   "id": "34de692a",
   "metadata": {
    "ExecuteTime": {
     "end_time": "2022-06-16T11:51:48.620869Z",
     "start_time": "2022-06-16T11:51:48.598930Z"
    }
   },
   "outputs": [],
   "source": [
    "node0.right.left.right = TreeNode(4)\n",
    "node0.right.right.left = TreeNode(6)\n",
    "node0.right.right.right = TreeNode(8)"
   ]
  },
  {
   "cell_type": "code",
   "execution_count": null,
   "id": "c993c594",
   "metadata": {},
   "outputs": [],
   "source": []
  }
 ],
 "metadata": {
  "hide_input": false,
  "kernelspec": {
   "display_name": "Python 3 (ipykernel)",
   "language": "python",
   "name": "python3"
  },
  "language_info": {
   "codemirror_mode": {
    "name": "ipython",
    "version": 3
   },
   "file_extension": ".py",
   "mimetype": "text/x-python",
   "name": "python",
   "nbconvert_exporter": "python",
   "pygments_lexer": "ipython3",
   "version": "3.9.7"
  },
  "nbTranslate": {
   "displayLangs": [
    "*"
   ],
   "hotkey": "alt-t",
   "langInMainMenu": true,
   "sourceLang": "en",
   "targetLang": "fr",
   "useGoogleTranslate": true
  },
  "varInspector": {
   "cols": {
    "lenName": 16,
    "lenType": 16,
    "lenVar": 40
   },
   "kernels_config": {
    "python": {
     "delete_cmd_postfix": "",
     "delete_cmd_prefix": "del ",
     "library": "var_list.py",
     "varRefreshCmd": "print(var_dic_list())"
    },
    "r": {
     "delete_cmd_postfix": ") ",
     "delete_cmd_prefix": "rm(",
     "library": "var_list.r",
     "varRefreshCmd": "cat(var_dic_list()) "
    }
   },
   "types_to_exclude": [
    "module",
    "function",
    "builtin_function_or_method",
    "instance",
    "_Feature"
   ],
   "window_display": false
  }
 },
 "nbformat": 4,
 "nbformat_minor": 5
}
