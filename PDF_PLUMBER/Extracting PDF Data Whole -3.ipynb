{
 "cells": [
  {
   "cell_type": "code",
   "execution_count": 16,
   "id": "e103a6a2",
   "metadata": {
    "ExecuteTime": {
     "end_time": "2022-05-20T13:29:41.752196Z",
     "start_time": "2022-05-20T13:29:41.742992Z"
    }
   },
   "outputs": [],
   "source": [
    "import pdfplumber\n",
    "import pandas as pd\n",
    "import string\n",
    "from IPython.display import display\n",
    "from tabulate import tabulate\n",
    "import os\n",
    "from openpyxl import load_workbook\n",
    "from openpyxl.styles.alignment import Alignment\n",
    "from openpyxl.styles import Alignment\n",
    "import openpyxl\n",
    "import xlwings as xw\n",
    "import datetime\n",
    "import calendar\n",
    "import shutil\n",
    "# !pip3 install openpyxl==2.5.14 "
   ]
  },
  {
   "cell_type": "code",
   "execution_count": 3,
   "id": "d4deae42",
   "metadata": {
    "ExecuteTime": {
     "end_time": "2022-05-20T13:14:27.641087Z",
     "start_time": "2022-05-20T13:14:27.618974Z"
    }
   },
   "outputs": [
    {
     "data": {
      "text/plain": [
       "'E:\\\\nadupallisriniv'"
      ]
     },
     "execution_count": 3,
     "metadata": {},
     "output_type": "execute_result"
    }
   ],
   "source": [
    "my_path = \"E:\\\\nadupallisriniv\\\\\"\n",
    "os.chdir(my_path)\n",
    "os.getcwd()"
   ]
  },
  {
   "cell_type": "code",
   "execution_count": 5,
   "id": "e6b549f1",
   "metadata": {
    "ExecuteTime": {
     "end_time": "2022-05-20T13:14:45.166491Z",
     "start_time": "2022-05-20T13:14:45.150183Z"
    },
    "scrolled": true
   },
   "outputs": [],
   "source": [
    "All_files = sorted(filter(os.path.isfile, os.listdir('.')), key=os.path.getmtime)\n",
    "# All_files"
   ]
  },
  {
   "cell_type": "code",
   "execution_count": 10,
   "id": "47e57b86",
   "metadata": {
    "ExecuteTime": {
     "end_time": "2022-05-20T13:18:45.314584Z",
     "start_time": "2022-05-20T13:18:06.131696Z"
    }
   },
   "outputs": [],
   "source": [
    "YearandMonths = {}\n",
    "replacers = {f'{i}\\n':'' for i in string.ascii_letters}\n",
    "replacers.update({\"\\n\":\"\",None:\" \"})\n",
    "for f in All_files:\n",
    "    pdf = pdfplumber.open(f)\n",
    "    first_page = pdf.pages[0]\n",
    "    All_Tables = first_page.extract_tables()\n",
    "    Details3_1 = pd.DataFrame(columns=[i.replace(\"\\n\",\" \") for i in All_Tables[2][0]])\n",
    "    for i in range(len(All_Tables[2][1:])):\n",
    "        Details3_1.loc[i] = All_Tables[2][1:][i]\n",
    "    Details3_1 = Details3_1.replace(replacers,regex=True)\n",
    "    values = {}\n",
    "    for i in range(len(Details3_1.columns[1:-1])):\n",
    "        values[Details3_1.columns[1:-1][i]] = float(Details3_1[Details3_1.columns[1:-1][i]][0])\n",
    "    values\n",
    "    YearandMonths.setdefault(All_Tables[0][0][1], {})\n",
    "    YearandMonths[All_Tables[0][0][1]][All_Tables[0][1][1]] = values"
   ]
  },
  {
   "cell_type": "code",
   "execution_count": 15,
   "id": "3300909d",
   "metadata": {
    "ExecuteTime": {
     "end_time": "2022-05-20T13:27:53.885226Z",
     "start_time": "2022-05-20T13:27:53.871224Z"
    }
   },
   "outputs": [],
   "source": [
    "os.mkdir(\"E:\\\\Financial_Years\")"
   ]
  },
  {
   "cell_type": "code",
   "execution_count": 17,
   "id": "7d8a4a9f",
   "metadata": {
    "ExecuteTime": {
     "end_time": "2022-05-20T13:30:45.724163Z",
     "start_time": "2022-05-20T13:30:45.705483Z"
    }
   },
   "outputs": [
    {
     "data": {
      "text/plain": [
       "'E:\\\\Financial_Years\\\\GST FY 2019-20.xlsx'"
      ]
     },
     "execution_count": 17,
     "metadata": {},
     "output_type": "execute_result"
    }
   ],
   "source": [
    "shutil.move(\"C:\\\\Users\\\\aakas\\\\Aakash Nadupalli ipynb files\\\\PDF_PLUMBER\\\\GST FY 2019-20.xlsx\", \"E:\\\\Financial_Years\")"
   ]
  },
  {
   "cell_type": "code",
   "execution_count": 62,
   "id": "614e3a94",
   "metadata": {
    "ExecuteTime": {
     "end_time": "2022-05-20T14:57:26.170112Z",
     "start_time": "2022-05-20T14:56:59.859901Z"
    }
   },
   "outputs": [],
   "source": [
    "for y in list(YearandMonths.keys()):\n",
    "    df =   xw.Book('E:\\\\Financial_Years\\\\GST_FY_Format_copy.xlsx')\n",
    "    excel_app = xw.apps.active\n",
    "    sn = df.sheets[0]\n",
    "    sn.range('A1').value = \"SAI ENTERPRISES\"\n",
    "    sn['A2'].value = \"GST  STATEMENT FOR THE PERIOD OF 01-04-{} TO 31-03-20{} GSTR 3B\".format(y[0:4],y[5:])\n",
    "    sn.range('I8').value = \"OUTPUT TAXABLE VALUE\"\n",
    "    sn.range('K8').value = \"IGST\"\n",
    "    sn.range('L8').value = \"CGST\"\n",
    "    sn.range('M8').value = \"SGST\"\n",
    "    for clmns in ['I','K','L','M']:\n",
    "        for numbs in range(11,23):\n",
    "            jn = ''.join([clmns,str(numbs)])\n",
    "            sn.range(jn).value = float(0.0)\n",
    "    for j in list(YearandMonths[y].keys()):\n",
    "        if j in list(YearandMonths['2021-22'].keys()):\n",
    "            for s in range(1,30):\n",
    "                dto = datetime.datetime.strptime(j[4:],\"%b\")\n",
    "                cmn = calendar.month_name[dto.month]\n",
    "                if  cmn == sn.range(s,1).value:\n",
    "                    for (k,m) in zip(['I','K','L','M'],list(YearandMonths[y][j].values())):\n",
    "                        cb = ''.join([k,sn.range(s,1).address.replace('$','')[1:]])\n",
    "                        sn.range(cb).value = m\n",
    "        else:\n",
    "            for s in range(1,30):\n",
    "                if j == (sn.range(s,1).value):\n",
    "                    for (k,m) in zip(['I','K','L','M'],list(YearandMonths[y][j].values())):\n",
    "                        cb = ''.join([k,sn.range(s,1).address.replace('$','')[1:]])\n",
    "                        sn.range(cb).value = m\n",
    "    df.save('E:\\\\Financial_Years\\\\GST_FY_{}.xlsx'.format(y))\n",
    "    excel_app.quit()"
   ]
  },
  {
   "cell_type": "code",
   "execution_count": null,
   "id": "4a4c9dbb",
   "metadata": {},
   "outputs": [],
   "source": []
  }
 ],
 "metadata": {
  "hide_input": false,
  "kernelspec": {
   "display_name": "Python 3 (ipykernel)",
   "language": "python",
   "name": "python3"
  },
  "language_info": {
   "codemirror_mode": {
    "name": "ipython",
    "version": 3
   },
   "file_extension": ".py",
   "mimetype": "text/x-python",
   "name": "python",
   "nbconvert_exporter": "python",
   "pygments_lexer": "ipython3",
   "version": "3.9.7"
  },
  "nbTranslate": {
   "displayLangs": [
    "*"
   ],
   "hotkey": "alt-t",
   "langInMainMenu": true,
   "sourceLang": "en",
   "targetLang": "fr",
   "useGoogleTranslate": true
  },
  "varInspector": {
   "cols": {
    "lenName": 16,
    "lenType": 16,
    "lenVar": 40
   },
   "kernels_config": {
    "python": {
     "delete_cmd_postfix": "",
     "delete_cmd_prefix": "del ",
     "library": "var_list.py",
     "varRefreshCmd": "print(var_dic_list())"
    },
    "r": {
     "delete_cmd_postfix": ") ",
     "delete_cmd_prefix": "rm(",
     "library": "var_list.r",
     "varRefreshCmd": "cat(var_dic_list()) "
    }
   },
   "types_to_exclude": [
    "module",
    "function",
    "builtin_function_or_method",
    "instance",
    "_Feature"
   ],
   "window_display": false
  }
 },
 "nbformat": 4,
 "nbformat_minor": 5
}
