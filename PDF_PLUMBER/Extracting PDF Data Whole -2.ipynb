{
 "cells": [
  {
   "cell_type": "code",
   "execution_count": 424,
   "id": "e103a6a2",
   "metadata": {
    "ExecuteTime": {
     "end_time": "2022-05-20T12:59:48.192828Z",
     "start_time": "2022-05-20T12:59:48.175281Z"
    }
   },
   "outputs": [],
   "source": [
    "import pdfplumber\n",
    "import pandas as pd\n",
    "import string\n",
    "from IPython.display import display\n",
    "from tabulate import tabulate\n",
    "import os\n",
    "from openpyxl import load_workbook\n",
    "from openpyxl.styles.alignment import Alignment\n",
    "from openpyxl.styles import Alignment\n",
    "import openpyxl\n",
    "import xlwings as xw\n",
    "import datetime\n",
    "# !pip3 install openpyxl==2.5.14 "
   ]
  },
  {
   "cell_type": "code",
   "execution_count": 425,
   "id": "d4deae42",
   "metadata": {
    "ExecuteTime": {
     "end_time": "2022-05-20T12:59:49.790216Z",
     "start_time": "2022-05-20T12:59:49.776803Z"
    }
   },
   "outputs": [],
   "source": [
    "my_path = \"E:\\\\nadupallisriniv\\\\\""
   ]
  },
  {
   "cell_type": "code",
   "execution_count": 426,
   "id": "a2f09b10",
   "metadata": {
    "ExecuteTime": {
     "end_time": "2022-05-20T12:59:52.322594Z",
     "start_time": "2022-05-20T12:59:52.317316Z"
    }
   },
   "outputs": [],
   "source": [
    "os.chdir(my_path)"
   ]
  },
  {
   "cell_type": "code",
   "execution_count": 427,
   "id": "4af64690",
   "metadata": {
    "ExecuteTime": {
     "end_time": "2022-05-20T12:59:52.996123Z",
     "start_time": "2022-05-20T12:59:52.987529Z"
    }
   },
   "outputs": [
    {
     "data": {
      "text/plain": [
       "'E:\\\\nadupallisriniv'"
      ]
     },
     "execution_count": 427,
     "metadata": {},
     "output_type": "execute_result"
    }
   ],
   "source": [
    "os.getcwd()"
   ]
  },
  {
   "cell_type": "code",
   "execution_count": 90,
   "id": "a20de401",
   "metadata": {
    "ExecuteTime": {
     "end_time": "2022-05-20T07:38:20.380706Z",
     "start_time": "2022-05-20T07:38:20.369736Z"
    }
   },
   "outputs": [],
   "source": [
    "# os.startfile('GSTR3B_36ACBPN8071B1ZT_012018.pdf',\"print\")\n",
    "# All_files = os.listdir(my_path)\n",
    "# All_files"
   ]
  },
  {
   "cell_type": "code",
   "execution_count": 442,
   "id": "e6b549f1",
   "metadata": {
    "ExecuteTime": {
     "end_time": "2022-05-20T13:07:34.285897Z",
     "start_time": "2022-05-20T13:07:34.253014Z"
    }
   },
   "outputs": [
    {
     "name": "stdout",
     "output_type": "stream",
     "text": [
      "GSTR3B_36ACBPN8071B1ZT_072017.pdf\n",
      "GSTR3B_36ACBPN8071B1ZT_082017.pdf\n",
      "GSTR3B_36ACBPN8071B1ZT_092017.pdf\n",
      "GSTR3B_36ACBPN8071B1ZT_102017.pdf\n",
      "GSTR3B_36ACBPN8071B1ZT_112017.pdf\n",
      "GSTR3B_36ACBPN8071B1ZT_122017.pdf\n",
      "GSTR3B_36ACBPN8071B1ZT_012018.pdf\n",
      "GSTR3B_36ACBPN8071B1ZT_022018.pdf\n",
      "GSTR3B_36ACBPN8071B1ZT_032018.pdf\n",
      "GSTR3B_36ACBPN8071B1ZT_042018.pdf\n",
      "GSTR3B_36ACBPN8071B1ZT_052018.pdf\n",
      "GSTR3B_36ACBPN8071B1ZT_062018.pdf\n",
      "GSTR3B_36ACBPN8071B1ZT_072018.pdf\n",
      "GSTR3B_36ACBPN8071B1ZT_082018.pdf\n",
      "GSTR3B_36ACBPN8071B1ZT_092018.pdf\n",
      "GSTR3B_36ACBPN8071B1ZT_102018.pdf\n",
      "GSTR3B_36ACBPN8071B1ZT_112018.pdf\n",
      "GSTR3B_36ACBPN8071B1ZT_122018.pdf\n",
      "GSTR3B_36ACBPN8071B1ZT_012019.pdf\n",
      "GSTR3B_36ACBPN8071B1ZT_022019.pdf\n",
      "GSTR3B_36ACBPN8071B1ZT_032019.pdf\n",
      "GSTR3B_36ACBPN8071B1ZT_042019.pdf\n",
      "GSTR3B_36ACBPN8071B1ZT_052019.pdf\n",
      "GSTR3B_36ACBPN8071B1ZT_062019.pdf\n",
      "GSTR3B_36ACBPN8071B1ZT_072019.pdf\n",
      "GSTR3B_36ACBPN8071B1ZT_082019.pdf\n",
      "GSTR3B_36ACBPN8071B1ZT_092019.pdf\n",
      "GSTR3B_36ACBPN8071B1ZT_102019.pdf\n",
      "GSTR3B_36ACBPN8071B1ZT_112019.pdf\n",
      "GSTR3B_36ACBPN8071B1ZT_122019.pdf\n",
      "GSTR3B_36ACBPN8071B1ZT_012020.pdf\n",
      "GSTR3B_36ACBPN8071B1ZT_022020.pdf\n",
      "GSTR3B_36ACBPN8071B1ZT_032020.pdf\n",
      "GSTR3B_36ACBPN8071B1ZT_042020.pdf\n",
      "GSTR3B_36ACBPN8071B1ZT_052020.pdf\n",
      "GSTR3B_36ACBPN8071B1ZT_062020.pdf\n",
      "GSTR3B_36ACBPN8071B1ZT_072020.pdf\n",
      "GSTR3B_36ACBPN8071B1ZT_082020.pdf\n",
      "GSTR3B_36ACBPN8071B1ZT_092020.pdf\n",
      "GSTR3B_36ACBPN8071B1ZT_102020.pdf\n",
      "GSTR3B_36ACBPN8071B1ZT_112020.pdf\n",
      "GSTR3B_36ACBPN8071B1ZT_122020.pdf\n",
      "GSTR3B_36ACBPN8071B1ZT_032021.pdf\n",
      "GSTR3B_36ACBPN8071B1ZT_062021.pdf\n",
      "GSTR3B_36ACBPN8071B1ZT_092021.pdf\n",
      "GSTR3B_36ACBPN8071B1ZT_122021.pdf\n",
      "GSTR3B_36ACBPN8071B1ZT_032022.pdf\n"
     ]
    }
   ],
   "source": [
    "All_files = sorted(filter(os.path.isfile, os.listdir('.')), key=os.path.getmtime)\n",
    "for i in All_files:\n",
    "    if '.pdf' in i:\n",
    "        All_files.clear\n",
    "        print(i)"
   ]
  },
  {
   "cell_type": "code",
   "execution_count": 429,
   "id": "de99532e",
   "metadata": {
    "ExecuteTime": {
     "end_time": "2022-05-20T13:00:12.023459Z",
     "start_time": "2022-05-20T13:00:12.010776Z"
    }
   },
   "outputs": [],
   "source": [
    "# Years = {}\n",
    "# for i in All_files:                     #endswith\n",
    "#         Years[i[len(i)-8:len(i)-4]] = []\n",
    "# Years"
   ]
  },
  {
   "cell_type": "code",
   "execution_count": 85,
   "id": "adba489d",
   "metadata": {
    "ExecuteTime": {
     "end_time": "2022-05-20T07:38:10.281876Z",
     "start_time": "2022-05-20T07:38:10.263924Z"
    }
   },
   "outputs": [],
   "source": [
    "# for i in All_files:                     #endswith\n",
    "#         print(i[len(i)-10:len(i)-4])"
   ]
  },
  {
   "cell_type": "code",
   "execution_count": 86,
   "id": "958cc45a",
   "metadata": {
    "ExecuteTime": {
     "end_time": "2022-05-20T07:38:14.224435Z",
     "start_time": "2022-05-20T07:38:14.206485Z"
    }
   },
   "outputs": [],
   "source": [
    "# import calendar\n",
    "# for i in All_files:\n",
    "#     print(calendar.month_name[int(i[len(i)-10:len(i)-8])])"
   ]
  },
  {
   "cell_type": "code",
   "execution_count": null,
   "id": "0c8a2a8d",
   "metadata": {
    "ExecuteTime": {
     "end_time": "2022-05-20T07:24:54.973917Z",
     "start_time": "2022-05-20T07:24:54.958982Z"
    }
   },
   "outputs": [],
   "source": []
  },
  {
   "cell_type": "code",
   "execution_count": 430,
   "id": "fa42f392",
   "metadata": {
    "ExecuteTime": {
     "end_time": "2022-05-20T13:00:17.436286Z",
     "start_time": "2022-05-20T13:00:17.394517Z"
    }
   },
   "outputs": [
    {
     "data": {
      "text/plain": [
       "[<Page:1>, <Page:2>]"
      ]
     },
     "execution_count": 430,
     "metadata": {},
     "output_type": "execute_result"
    }
   ],
   "source": [
    "pdf = pdfplumber.open(All_files[0])\n",
    "pdf.pages"
   ]
  },
  {
   "cell_type": "code",
   "execution_count": 431,
   "id": "3e87a0ab",
   "metadata": {
    "ExecuteTime": {
     "end_time": "2022-05-20T13:00:18.431236Z",
     "start_time": "2022-05-20T13:00:18.416727Z"
    }
   },
   "outputs": [],
   "source": [
    "# first_page = pdf.pages[0]"
   ]
  },
  {
   "cell_type": "code",
   "execution_count": 432,
   "id": "6dfdeaff",
   "metadata": {
    "ExecuteTime": {
     "end_time": "2022-05-20T13:00:18.706236Z",
     "start_time": "2022-05-20T13:00:18.700550Z"
    },
    "scrolled": true
   },
   "outputs": [],
   "source": [
    "# first_page.to_image()"
   ]
  },
  {
   "cell_type": "code",
   "execution_count": 434,
   "id": "17595c01",
   "metadata": {
    "ExecuteTime": {
     "end_time": "2022-05-20T13:00:25.197946Z",
     "start_time": "2022-05-20T13:00:25.095918Z"
    }
   },
   "outputs": [
    {
     "data": {
      "text/plain": [
       "[[['Year', '2021-22'], ['Period', 'Jan-Mar']],\n",
       " [['1. GSTIN', '36ACBPN8071B1ZT'],\n",
       "  ['2(a). Legal name of the registered person', 'SRINIVAS  NADUPALLI'],\n",
       "  ['2(b). Trade name, if any', 'SAI ENTERPRISES'],\n",
       "  ['2(c). ARN', 'AA3603223840587'],\n",
       "  ['2(d). Date of ARN', '17/04/2022']],\n",
       " [['Nature of Supplies',\n",
       "   'Total taxable \\nvalue',\n",
       "   'D\\nIntegrated \\ntax',\n",
       "   'Central \\ntax',\n",
       "   'State/UT \\ntax',\n",
       "   'Cess'],\n",
       "  ['(a) Outward taxable supplies (other than zero rated, nil rated and \\nexempted)',\n",
       "   '208654.00',\n",
       "   '0.00',\n",
       "   '18778.86',\n",
       "   '18778.86',\n",
       "   '0.00'],\n",
       "  ['(b) Outward taxable supplies (zero rated)',\n",
       "   '0.00',\n",
       "   '0.00',\n",
       "   '-',\n",
       "   '-',\n",
       "   '0.00'],\n",
       "  ['(c ) Other outward supplies (nil rated, exempted)',\n",
       "   '2527940.00',\n",
       "   '-',\n",
       "   '-',\n",
       "   '-',\n",
       "   '-'],\n",
       "  ['(d) Inward supplies (liable to reverse charge)',\n",
       "   'E\\n0.00',\n",
       "   '0.00',\n",
       "   '0.00',\n",
       "   '0.00',\n",
       "   '0.00'],\n",
       "  ['(e) Non-GST outward supplies', '0.00', '-', '-', '-', '-']],\n",
       " [['Nature of Supplies', 'L\\nTotal taxable value', 'Integrated tax'],\n",
       "  ['Supplies made to Unregistered Persons', '0.00', '0.00'],\n",
       "  ['Supplies made to Composition Taxable \\nPersons', 'I\\n0.00', '0.00'],\n",
       "  ['Supplies made to UIN holders', '0.00', '0.00']],\n",
       " [['Details', 'Integrated tax', 'Central tax', 'State/UT tax', 'Cess'],\n",
       "  ['A. ITC Available (whether in full or part)', '', '', '', ''],\n",
       "  ['(1) Import of goods', '0.00', '0.00', '0.00', '0.00'],\n",
       "  ['(2) Import of services', '0.00', '0.00', '0.00', '0.00'],\n",
       "  ['(3) Inward supplies liable to reverse charge (other than 1 & 2 above)',\n",
       "   '0.00',\n",
       "   '0.00',\n",
       "   '0.00',\n",
       "   '0.00'],\n",
       "  ['(4) Inward supplies from ISD', '0.00', '0.00', '0.00', '0.00'],\n",
       "  ['(5) All other ITC', '0.00', '15175.79', '15175.79', '0.00'],\n",
       "  ['B. ITC Reversed', '', '', '', ''],\n",
       "  ['(1) As per rules 42 & 43 of CGST Rules', '0.00', '0.00', '0.00', '0.00'],\n",
       "  ['(2) Others', '0.00', '0.00', '0.00', '0.00'],\n",
       "  ['C. Net ITC available (A-B)', '0.00', '15175.79', '15175.79', '0.00'],\n",
       "  ['D. Ineligible ITC', '0.00', '0.00', '0.00', '0.00'],\n",
       "  ['(1) As per section 17(5)', '0.00', '0.00', '0.00', '0.00'],\n",
       "  ['(2) Others', '0.00', '0.00', '0.00', '0.00']]]"
      ]
     },
     "execution_count": 434,
     "metadata": {},
     "output_type": "execute_result"
    }
   ],
   "source": [
    "first_page.extract_tables()"
   ]
  },
  {
   "cell_type": "code",
   "execution_count": 135,
   "id": "395346f0",
   "metadata": {
    "ExecuteTime": {
     "end_time": "2022-05-20T08:25:09.916921Z",
     "start_time": "2022-05-20T08:25:09.899962Z"
    }
   },
   "outputs": [],
   "source": [
    "# YearandMonths = {}\n",
    "# for f in All_files:\n",
    "#     pdf = pdfplumber.open(f)\n",
    "#     first_page = pdf.pages[0]\n",
    "#     print(first_page.extract_tables()[0][0])"
   ]
  },
  {
   "cell_type": "code",
   "execution_count": 435,
   "id": "0beb82a7",
   "metadata": {
    "ExecuteTime": {
     "end_time": "2022-05-20T13:00:32.016177Z",
     "start_time": "2022-05-20T13:00:31.860568Z"
    }
   },
   "outputs": [
    {
     "name": "stdout",
     "output_type": "stream",
     "text": [
      "       \n",
      "                                                      First Page \n"
     ]
    },
    {
     "data": {
      "text/html": [
       "<div>\n",
       "<style scoped>\n",
       "    .dataframe tbody tr th:only-of-type {\n",
       "        vertical-align: middle;\n",
       "    }\n",
       "\n",
       "    .dataframe tbody tr th {\n",
       "        vertical-align: top;\n",
       "    }\n",
       "\n",
       "    .dataframe thead th {\n",
       "        text-align: right;\n",
       "    }\n",
       "</style>\n",
       "<table border=\"1\" class=\"dataframe\">\n",
       "  <thead>\n",
       "    <tr style=\"text-align: right;\">\n",
       "      <th></th>\n",
       "      <th>Year</th>\n",
       "      <th>Period</th>\n",
       "    </tr>\n",
       "  </thead>\n",
       "  <tbody>\n",
       "    <tr>\n",
       "      <th>0</th>\n",
       "      <td>2021-22</td>\n",
       "      <td>Jan-Mar</td>\n",
       "    </tr>\n",
       "  </tbody>\n",
       "</table>\n",
       "</div>"
      ],
      "text/plain": [
       "      Year   Period\n",
       "0  2021-22  Jan-Mar"
      ]
     },
     "metadata": {},
     "output_type": "display_data"
    },
    {
     "data": {
      "text/html": [
       "<div>\n",
       "<style scoped>\n",
       "    .dataframe tbody tr th:only-of-type {\n",
       "        vertical-align: middle;\n",
       "    }\n",
       "\n",
       "    .dataframe tbody tr th {\n",
       "        vertical-align: top;\n",
       "    }\n",
       "\n",
       "    .dataframe thead th {\n",
       "        text-align: right;\n",
       "    }\n",
       "</style>\n",
       "<table border=\"1\" class=\"dataframe\">\n",
       "  <thead>\n",
       "    <tr style=\"text-align: right;\">\n",
       "      <th></th>\n",
       "      <th>0</th>\n",
       "    </tr>\n",
       "  </thead>\n",
       "  <tbody>\n",
       "    <tr>\n",
       "      <th>1. GSTIN</th>\n",
       "      <td>36ACBPN8071B1ZT</td>\n",
       "    </tr>\n",
       "    <tr>\n",
       "      <th>2(a). Legal name of the registered person</th>\n",
       "      <td>SRINIVAS  NADUPALLI</td>\n",
       "    </tr>\n",
       "    <tr>\n",
       "      <th>2(b). Trade name, if any</th>\n",
       "      <td>SAI ENTERPRISES</td>\n",
       "    </tr>\n",
       "    <tr>\n",
       "      <th>2(c). ARN</th>\n",
       "      <td>AA3603223840587</td>\n",
       "    </tr>\n",
       "    <tr>\n",
       "      <th>2(d). Date of ARN</th>\n",
       "      <td>17/04/2022</td>\n",
       "    </tr>\n",
       "  </tbody>\n",
       "</table>\n",
       "</div>"
      ],
      "text/plain": [
       "                                                             0\n",
       "1. GSTIN                                       36ACBPN8071B1ZT\n",
       "2(a). Legal name of the registered person  SRINIVAS  NADUPALLI\n",
       "2(b). Trade name, if any                       SAI ENTERPRISES\n",
       "2(c). ARN                                      AA3603223840587\n",
       "2(d). Date of ARN                                   17/04/2022"
      ]
     },
     "metadata": {},
     "output_type": "display_data"
    },
    {
     "data": {
      "text/html": [
       "<div>\n",
       "<style scoped>\n",
       "    .dataframe tbody tr th:only-of-type {\n",
       "        vertical-align: middle;\n",
       "    }\n",
       "\n",
       "    .dataframe tbody tr th {\n",
       "        vertical-align: top;\n",
       "    }\n",
       "\n",
       "    .dataframe thead th {\n",
       "        text-align: right;\n",
       "    }\n",
       "</style>\n",
       "<table border=\"1\" class=\"dataframe\">\n",
       "  <thead>\n",
       "    <tr style=\"text-align: right;\">\n",
       "      <th></th>\n",
       "      <th>Nature of Supplies</th>\n",
       "      <th>Total taxable  value</th>\n",
       "      <th>D Integrated  tax</th>\n",
       "      <th>Central  tax</th>\n",
       "      <th>State/UT  tax</th>\n",
       "      <th>Cess</th>\n",
       "    </tr>\n",
       "  </thead>\n",
       "  <tbody>\n",
       "    <tr>\n",
       "      <th>0</th>\n",
       "      <td>(a) Outward taxable supplies (other than zero ...</td>\n",
       "      <td>208654.00</td>\n",
       "      <td>0.00</td>\n",
       "      <td>18778.86</td>\n",
       "      <td>18778.86</td>\n",
       "      <td>0.00</td>\n",
       "    </tr>\n",
       "    <tr>\n",
       "      <th>1</th>\n",
       "      <td>(b) Outward taxable supplies (zero rated)</td>\n",
       "      <td>0.00</td>\n",
       "      <td>0.00</td>\n",
       "      <td>-</td>\n",
       "      <td>-</td>\n",
       "      <td>0.00</td>\n",
       "    </tr>\n",
       "    <tr>\n",
       "      <th>2</th>\n",
       "      <td>(c ) Other outward supplies (nil rated, exempted)</td>\n",
       "      <td>2527940.00</td>\n",
       "      <td>-</td>\n",
       "      <td>-</td>\n",
       "      <td>-</td>\n",
       "      <td>-</td>\n",
       "    </tr>\n",
       "    <tr>\n",
       "      <th>3</th>\n",
       "      <td>(d) Inward supplies (liable to reverse charge)</td>\n",
       "      <td>0.00</td>\n",
       "      <td>0.00</td>\n",
       "      <td>0.00</td>\n",
       "      <td>0.00</td>\n",
       "      <td>0.00</td>\n",
       "    </tr>\n",
       "    <tr>\n",
       "      <th>4</th>\n",
       "      <td>(e) Non-GST outward supplies</td>\n",
       "      <td>0.00</td>\n",
       "      <td>-</td>\n",
       "      <td>-</td>\n",
       "      <td>-</td>\n",
       "      <td>-</td>\n",
       "    </tr>\n",
       "  </tbody>\n",
       "</table>\n",
       "</div>"
      ],
      "text/plain": [
       "                                  Nature of Supplies Total taxable  value  \\\n",
       "0  (a) Outward taxable supplies (other than zero ...            208654.00   \n",
       "1          (b) Outward taxable supplies (zero rated)                 0.00   \n",
       "2  (c ) Other outward supplies (nil rated, exempted)           2527940.00   \n",
       "3     (d) Inward supplies (liable to reverse charge)                 0.00   \n",
       "4                       (e) Non-GST outward supplies                 0.00   \n",
       "\n",
       "  D Integrated  tax Central  tax State/UT  tax  Cess  \n",
       "0              0.00     18778.86      18778.86  0.00  \n",
       "1              0.00            -             -  0.00  \n",
       "2                 -            -             -     -  \n",
       "3              0.00         0.00          0.00  0.00  \n",
       "4                 -            -             -     -  "
      ]
     },
     "metadata": {},
     "output_type": "display_data"
    }
   ],
   "source": [
    "All_Tables = first_page.extract_tables()\n",
    "replacers = {}\n",
    "for i in string.ascii_letters:\n",
    "    replacers[f'{i}\\n'] =''\n",
    "replacers.update({\"\\n\":\"\",None:\" \"})\n",
    "\n",
    "YearandPeriod = {}\n",
    "for i in range(len(All_Tables[0])):\n",
    "    YearandPeriod[All_Tables[0][i][0]] = [All_Tables[0][i][1]]\n",
    "\n",
    "GSTIN = {}\n",
    "for i in range(len(All_Tables[1])):\n",
    "    GSTIN[All_Tables[1][i][0]] = [All_Tables[1][i][1]]\n",
    "\n",
    "Details3_1 = pd.DataFrame(columns=[i.replace(\"\\n\",\" \") for i in All_Tables[2][0]])\n",
    "for i in range(len(All_Tables[2][1:])):\n",
    "    Details3_1.loc[i] = All_Tables[2][1:][i]\n",
    "Details3_1 = Details3_1.replace(replacers,regex=True)\n",
    "print(\"       \")\n",
    "print(\"                                                      First Page \")\n",
    "display(pd.DataFrame(YearandPeriod),pd.DataFrame(GSTIN).transpose(),Details3_1)"
   ]
  },
  {
   "cell_type": "code",
   "execution_count": 127,
   "id": "2c92b575",
   "metadata": {
    "ExecuteTime": {
     "end_time": "2022-05-20T08:18:16.173506Z",
     "start_time": "2022-05-20T08:18:16.163499Z"
    }
   },
   "outputs": [
    {
     "data": {
      "text/plain": [
       "{'Numbers': {0: [],\n",
       "  1: [],\n",
       "  2: [],\n",
       "  3: [],\n",
       "  4: [],\n",
       "  5: [],\n",
       "  6: [],\n",
       "  7: [],\n",
       "  8: [],\n",
       "  9: [],\n",
       "  10: [],\n",
       "  11: [],\n",
       "  12: [],\n",
       "  13: [],\n",
       "  14: [],\n",
       "  15: [],\n",
       "  16: [],\n",
       "  17: [],\n",
       "  18: [],\n",
       "  19: [],\n",
       "  20: [],\n",
       "  21: [],\n",
       "  22: [],\n",
       "  23: [],\n",
       "  24: [],\n",
       "  25: [],\n",
       "  26: [],\n",
       "  27: [],\n",
       "  28: [],\n",
       "  29: []}}"
      ]
     },
     "execution_count": 127,
     "metadata": {},
     "output_type": "execute_result"
    }
   ],
   "source": [
    "re = {}\n",
    "re.setdefault('Numbers', {})\n",
    "for i in range(30):\n",
    "    re['Numbers'][i] = []\n",
    "re"
   ]
  },
  {
   "cell_type": "code",
   "execution_count": 148,
   "id": "359462bc",
   "metadata": {
    "ExecuteTime": {
     "end_time": "2022-05-20T08:31:31.696280Z",
     "start_time": "2022-05-20T08:31:31.683310Z"
    }
   },
   "outputs": [
    {
     "data": {
      "text/plain": [
       "{'Total taxable  value': 239846.0,\n",
       " 'D Integrated  tax': 0.0,\n",
       " 'Central  tax': 21586.0,\n",
       " 'State/UT  tax': 21586.0}"
      ]
     },
     "execution_count": 148,
     "metadata": {},
     "output_type": "execute_result"
    }
   ],
   "source": [
    "values = {}\n",
    "for i in range(len(Details3_1.columns[1:-1])):\n",
    "    values[Details3_1.columns[1:-1][i]] = float(Details3_1[Details3_1.columns[1:-1][i]][0])\n",
    "values"
   ]
  },
  {
   "cell_type": "code",
   "execution_count": 436,
   "id": "1d6b72fd",
   "metadata": {
    "ExecuteTime": {
     "end_time": "2022-05-20T13:00:37.024406Z",
     "start_time": "2022-05-20T13:00:37.018704Z"
    }
   },
   "outputs": [],
   "source": [
    "replacers = {}\n",
    "for i in string.ascii_letters:\n",
    "    replacers[f'{i}\\n'] =''\n",
    "replacers.update({\"\\n\":\"\",None:\" \"})"
   ]
  },
  {
   "cell_type": "code",
   "execution_count": 437,
   "id": "47e57b86",
   "metadata": {
    "ExecuteTime": {
     "end_time": "2022-05-20T13:01:31.063696Z",
     "start_time": "2022-05-20T13:00:38.682651Z"
    }
   },
   "outputs": [
    {
     "ename": "PDFSyntaxError",
     "evalue": "No /Root object! - Is this really a PDF?",
     "output_type": "error",
     "traceback": [
      "\u001b[1;31m---------------------------------------------------------------------------\u001b[0m",
      "\u001b[1;31mPDFSyntaxError\u001b[0m                            Traceback (most recent call last)",
      "\u001b[1;32m~\\AppData\\Local\\Temp/ipykernel_17644/3274130952.py\u001b[0m in \u001b[0;36m<module>\u001b[1;34m\u001b[0m\n\u001b[0;32m      1\u001b[0m \u001b[0mYearandMonths\u001b[0m \u001b[1;33m=\u001b[0m \u001b[1;33m{\u001b[0m\u001b[1;33m}\u001b[0m\u001b[1;33m\u001b[0m\u001b[1;33m\u001b[0m\u001b[0m\n\u001b[0;32m      2\u001b[0m \u001b[1;32mfor\u001b[0m \u001b[0mf\u001b[0m \u001b[1;32min\u001b[0m \u001b[0mAll_files\u001b[0m\u001b[1;33m:\u001b[0m\u001b[1;33m\u001b[0m\u001b[1;33m\u001b[0m\u001b[0m\n\u001b[1;32m----> 3\u001b[1;33m     \u001b[0mpdf\u001b[0m \u001b[1;33m=\u001b[0m \u001b[0mpdfplumber\u001b[0m\u001b[1;33m.\u001b[0m\u001b[0mopen\u001b[0m\u001b[1;33m(\u001b[0m\u001b[0mf\u001b[0m\u001b[1;33m)\u001b[0m\u001b[1;33m\u001b[0m\u001b[1;33m\u001b[0m\u001b[0m\n\u001b[0m\u001b[0;32m      4\u001b[0m     \u001b[0mfirst_page\u001b[0m \u001b[1;33m=\u001b[0m \u001b[0mpdf\u001b[0m\u001b[1;33m.\u001b[0m\u001b[0mpages\u001b[0m\u001b[1;33m[\u001b[0m\u001b[1;36m0\u001b[0m\u001b[1;33m]\u001b[0m\u001b[1;33m\u001b[0m\u001b[1;33m\u001b[0m\u001b[0m\n\u001b[0;32m      5\u001b[0m     \u001b[0mAll_Tables\u001b[0m \u001b[1;33m=\u001b[0m \u001b[0mfirst_page\u001b[0m\u001b[1;33m.\u001b[0m\u001b[0mextract_tables\u001b[0m\u001b[1;33m(\u001b[0m\u001b[1;33m)\u001b[0m\u001b[1;33m\u001b[0m\u001b[1;33m\u001b[0m\u001b[0m\n",
      "\u001b[1;32m~\\anaconda3\\lib\\site-packages\\pdfplumber\\pdf.py\u001b[0m in \u001b[0;36mopen\u001b[1;34m(cls, path_or_fp, **kwargs)\u001b[0m\n\u001b[0;32m     53\u001b[0m         \u001b[1;32mif\u001b[0m \u001b[0misinstance\u001b[0m\u001b[1;33m(\u001b[0m\u001b[0mpath_or_fp\u001b[0m\u001b[1;33m,\u001b[0m \u001b[1;33m(\u001b[0m\u001b[0mstr\u001b[0m\u001b[1;33m,\u001b[0m \u001b[0mpathlib\u001b[0m\u001b[1;33m.\u001b[0m\u001b[0mPath\u001b[0m\u001b[1;33m)\u001b[0m\u001b[1;33m)\u001b[0m\u001b[1;33m:\u001b[0m\u001b[1;33m\u001b[0m\u001b[1;33m\u001b[0m\u001b[0m\n\u001b[0;32m     54\u001b[0m             \u001b[0mfp\u001b[0m \u001b[1;33m=\u001b[0m \u001b[0mopen\u001b[0m\u001b[1;33m(\u001b[0m\u001b[0mpath_or_fp\u001b[0m\u001b[1;33m,\u001b[0m \u001b[1;34m\"rb\"\u001b[0m\u001b[1;33m)\u001b[0m\u001b[1;33m\u001b[0m\u001b[1;33m\u001b[0m\u001b[0m\n\u001b[1;32m---> 55\u001b[1;33m             \u001b[0minst\u001b[0m \u001b[1;33m=\u001b[0m \u001b[0mcls\u001b[0m\u001b[1;33m(\u001b[0m\u001b[0mfp\u001b[0m\u001b[1;33m,\u001b[0m \u001b[1;33m**\u001b[0m\u001b[0mkwargs\u001b[0m\u001b[1;33m)\u001b[0m\u001b[1;33m\u001b[0m\u001b[1;33m\u001b[0m\u001b[0m\n\u001b[0m\u001b[0;32m     56\u001b[0m             \u001b[0minst\u001b[0m\u001b[1;33m.\u001b[0m\u001b[0mclose_file\u001b[0m \u001b[1;33m=\u001b[0m \u001b[0mfp\u001b[0m\u001b[1;33m.\u001b[0m\u001b[0mclose\u001b[0m\u001b[1;33m\u001b[0m\u001b[1;33m\u001b[0m\u001b[0m\n\u001b[0;32m     57\u001b[0m             \u001b[1;32mreturn\u001b[0m \u001b[0minst\u001b[0m\u001b[1;33m\u001b[0m\u001b[1;33m\u001b[0m\u001b[0m\n",
      "\u001b[1;32m~\\anaconda3\\lib\\site-packages\\pdfplumber\\pdf.py\u001b[0m in \u001b[0;36m__init__\u001b[1;34m(self, stream, pages, laparams, password, strict_metadata)\u001b[0m\n\u001b[0;32m     30\u001b[0m         \u001b[0mself\u001b[0m\u001b[1;33m.\u001b[0m\u001b[0mstream\u001b[0m \u001b[1;33m=\u001b[0m \u001b[0mstream\u001b[0m\u001b[1;33m\u001b[0m\u001b[1;33m\u001b[0m\u001b[0m\n\u001b[0;32m     31\u001b[0m         \u001b[0mself\u001b[0m\u001b[1;33m.\u001b[0m\u001b[0mpages_to_parse\u001b[0m \u001b[1;33m=\u001b[0m \u001b[0mpages\u001b[0m\u001b[1;33m\u001b[0m\u001b[1;33m\u001b[0m\u001b[0m\n\u001b[1;32m---> 32\u001b[1;33m         \u001b[0mself\u001b[0m\u001b[1;33m.\u001b[0m\u001b[0mdoc\u001b[0m \u001b[1;33m=\u001b[0m \u001b[0mPDFDocument\u001b[0m\u001b[1;33m(\u001b[0m\u001b[0mPDFParser\u001b[0m\u001b[1;33m(\u001b[0m\u001b[0mstream\u001b[0m\u001b[1;33m)\u001b[0m\u001b[1;33m,\u001b[0m \u001b[0mpassword\u001b[0m\u001b[1;33m=\u001b[0m\u001b[0mpassword\u001b[0m\u001b[1;33m)\u001b[0m\u001b[1;33m\u001b[0m\u001b[1;33m\u001b[0m\u001b[0m\n\u001b[0m\u001b[0;32m     33\u001b[0m         \u001b[0mself\u001b[0m\u001b[1;33m.\u001b[0m\u001b[0mrsrcmgr\u001b[0m \u001b[1;33m=\u001b[0m \u001b[0mPDFResourceManager\u001b[0m\u001b[1;33m(\u001b[0m\u001b[1;33m)\u001b[0m\u001b[1;33m\u001b[0m\u001b[1;33m\u001b[0m\u001b[0m\n\u001b[0;32m     34\u001b[0m         \u001b[0mself\u001b[0m\u001b[1;33m.\u001b[0m\u001b[0mmetadata\u001b[0m \u001b[1;33m=\u001b[0m \u001b[1;33m{\u001b[0m\u001b[1;33m}\u001b[0m\u001b[1;33m\u001b[0m\u001b[1;33m\u001b[0m\u001b[0m\n",
      "\u001b[1;32m~\\anaconda3\\lib\\site-packages\\pdfminer\\pdfdocument.py\u001b[0m in \u001b[0;36m__init__\u001b[1;34m(self, parser, password, caching, fallback)\u001b[0m\n\u001b[0;32m    724\u001b[0m                 \u001b[1;32mbreak\u001b[0m\u001b[1;33m\u001b[0m\u001b[1;33m\u001b[0m\u001b[0m\n\u001b[0;32m    725\u001b[0m         \u001b[1;32melse\u001b[0m\u001b[1;33m:\u001b[0m\u001b[1;33m\u001b[0m\u001b[1;33m\u001b[0m\u001b[0m\n\u001b[1;32m--> 726\u001b[1;33m             \u001b[1;32mraise\u001b[0m \u001b[0mPDFSyntaxError\u001b[0m\u001b[1;33m(\u001b[0m\u001b[1;34m'No /Root object! - Is this really a PDF?'\u001b[0m\u001b[1;33m)\u001b[0m\u001b[1;33m\u001b[0m\u001b[1;33m\u001b[0m\u001b[0m\n\u001b[0m\u001b[0;32m    727\u001b[0m         \u001b[1;32mif\u001b[0m \u001b[0mself\u001b[0m\u001b[1;33m.\u001b[0m\u001b[0mcatalog\u001b[0m\u001b[1;33m.\u001b[0m\u001b[0mget\u001b[0m\u001b[1;33m(\u001b[0m\u001b[1;34m'Type'\u001b[0m\u001b[1;33m)\u001b[0m \u001b[1;32mis\u001b[0m \u001b[1;32mnot\u001b[0m \u001b[0mLITERAL_CATALOG\u001b[0m\u001b[1;33m:\u001b[0m\u001b[1;33m\u001b[0m\u001b[1;33m\u001b[0m\u001b[0m\n\u001b[0;32m    728\u001b[0m             \u001b[1;32mif\u001b[0m \u001b[0msettings\u001b[0m\u001b[1;33m.\u001b[0m\u001b[0mSTRICT\u001b[0m\u001b[1;33m:\u001b[0m\u001b[1;33m\u001b[0m\u001b[1;33m\u001b[0m\u001b[0m\n",
      "\u001b[1;31mPDFSyntaxError\u001b[0m: No /Root object! - Is this really a PDF?"
     ]
    }
   ],
   "source": [
    "YearandMonths = {}\n",
    "for f in All_files:\n",
    "    pdf = pdfplumber.open(f)\n",
    "    first_page = pdf.pages[0]\n",
    "    All_Tables = first_page.extract_tables()\n",
    "    Details3_1 = pd.DataFrame(columns=[i.replace(\"\\n\",\" \") for i in All_Tables[2][0]])\n",
    "    for i in range(len(All_Tables[2][1:])):\n",
    "        Details3_1.loc[i] = All_Tables[2][1:][i]\n",
    "    Details3_1 = Details3_1.replace(replacers,regex=True)\n",
    "    values = {}\n",
    "    for i in range(len(Details3_1.columns[1:-1])):\n",
    "        values[Details3_1.columns[1:-1][i]] = float(Details3_1[Details3_1.columns[1:-1][i]][0])\n",
    "    values\n",
    "    YearandMonths.setdefault(All_Tables[0][0][1], {})\n",
    "    YearandMonths[All_Tables[0][0][1]][All_Tables[0][1][1]] = values"
   ]
  },
  {
   "cell_type": "code",
   "execution_count": null,
   "id": "5f64c828",
   "metadata": {
    "ExecuteTime": {
     "end_time": "2022-05-20T13:01:31.083644Z",
     "start_time": "2022-05-20T13:01:31.083644Z"
    }
   },
   "outputs": [],
   "source": [
    "YearandMonths"
   ]
  },
  {
   "cell_type": "code",
   "execution_count": 416,
   "id": "d5264f9d",
   "metadata": {
    "ExecuteTime": {
     "end_time": "2022-05-20T12:47:01.929895Z",
     "start_time": "2022-05-20T12:47:01.918924Z"
    }
   },
   "outputs": [
    {
     "data": {
      "text/plain": [
       "{'July': {'Total taxable  value': 239846.0,\n",
       "  'D Integrated  tax': 0.0,\n",
       "  'Central  tax': 21586.0,\n",
       "  'State/UT  tax': 21586.0},\n",
       " 'August': {'Total taxable  value': 0.0,\n",
       "  'D Integrated  tax': 0.0,\n",
       "  'Central  tax': 0.0,\n",
       "  'State/UT  tax': 0.0},\n",
       " 'September': {'Total taxable  value': 410185.0,\n",
       "  'D Integrated  tax': 73833.0,\n",
       "  'Central  tax': 0.0,\n",
       "  'State/UT  tax': 0.0},\n",
       " 'October': {'Total taxable  value': 101640.0,\n",
       "  'D Integrated  tax': 18295.0,\n",
       "  'Central  tax': 0.0,\n",
       "  'State/UT  tax': 0.0},\n",
       " 'November': {'Total taxable  value': 176894.0,\n",
       "  'D Integrated  tax': 31841.0,\n",
       "  'Central  tax': 0.0,\n",
       "  'State/UT  tax': 0.0},\n",
       " 'December': {'Total taxable  value': 0.0,\n",
       "  'D Integrated  tax': 0.0,\n",
       "  'Central  tax': 0.0,\n",
       "  'State/UT  tax': 0.0},\n",
       " 'January': {'Total taxable  value': 0.0,\n",
       "  'D Integrated  tax': 0.0,\n",
       "  'Central  tax': 0.0,\n",
       "  'State/UT  tax': 0.0},\n",
       " 'February': {'Total taxable  value': 0.0,\n",
       "  'D Integrated  tax': 0.0,\n",
       "  'Central  tax': 0.0,\n",
       "  'State/UT  tax': 0.0},\n",
       " 'March': {'Total taxable  value': 0.0,\n",
       "  'D Integrated  tax': 0.0,\n",
       "  'Central  tax': 0.0,\n",
       "  'State/UT  tax': 0.0}}"
      ]
     },
     "execution_count": 416,
     "metadata": {},
     "output_type": "execute_result"
    }
   ],
   "source": [
    "To017_18 = YearandMonths['2017-18']\n",
    "To017_18"
   ]
  },
  {
   "cell_type": "code",
   "execution_count": 417,
   "id": "377641ec",
   "metadata": {
    "ExecuteTime": {
     "end_time": "2022-05-20T12:47:04.497987Z",
     "start_time": "2022-05-20T12:47:02.815669Z"
    }
   },
   "outputs": [],
   "source": [
    "# df =  load_workbook('C:\\\\Users\\\\aakas\\\\Aakash Nadupalli ipynb files\\\\PDF_PLUMBER\\\\GST FY 2019-20.xlsx')\n",
    "df =   xw.Book('C:\\\\Users\\\\aakas\\\\Aakash Nadupalli ipynb files\\\\PDF_PLUMBER\\\\GST FY 2019-20.xlsx')"
   ]
  },
  {
   "cell_type": "code",
   "execution_count": 418,
   "id": "4cc66eb5",
   "metadata": {
    "ExecuteTime": {
     "end_time": "2022-05-20T12:47:12.236667Z",
     "start_time": "2022-05-20T12:47:12.220740Z"
    }
   },
   "outputs": [],
   "source": [
    "# sn = df[\"GST 19-20\"]\n",
    "sn = df.sheets[0]"
   ]
  },
  {
   "cell_type": "code",
   "execution_count": 419,
   "id": "e1bc0e9a",
   "metadata": {
    "ExecuteTime": {
     "end_time": "2022-05-20T12:47:12.757532Z",
     "start_time": "2022-05-20T12:47:12.728609Z"
    }
   },
   "outputs": [],
   "source": [
    "sn.range('A1').value = \"SAI ENTERPRISES\"\n",
    "sn['A2'].value = \"GST  STATEMENT FOR THE PERIOD OF 01-04-2017 TO 31-03-2018 GSTR 3B\""
   ]
  },
  {
   "cell_type": "code",
   "execution_count": 420,
   "id": "4ae7e3c9",
   "metadata": {
    "ExecuteTime": {
     "end_time": "2022-05-20T12:47:13.314587Z",
     "start_time": "2022-05-20T12:47:13.292610Z"
    }
   },
   "outputs": [],
   "source": [
    "sn.range('I8').value = \"OUTPUT TAXABLE VALUE\"\n",
    "sn.range('K8').value = \"IGST\"\n",
    "sn.range('L8').value = \"CGST\"\n",
    "sn.range('M8').value = \"SGST\""
   ]
  },
  {
   "cell_type": "code",
   "execution_count": 421,
   "id": "af552f09",
   "metadata": {
    "ExecuteTime": {
     "end_time": "2022-05-20T12:47:15.694979Z",
     "start_time": "2022-05-20T12:47:14.770125Z"
    }
   },
   "outputs": [],
   "source": [
    "for i in range(1,30):\n",
    "    for j in list(To017_18.keys()):\n",
    "        if j == (sn.range(i,1).value):\n",
    "            for (k,m) in zip(['I','K','L','M'],list(To017_18[j].values())):\n",
    "                cb = ''.join([k,sn.range(i,1).address.replace('$','')[1:]])\n",
    "                sn.range(cb).value = m   "
   ]
  },
  {
   "cell_type": "code",
   "execution_count": 294,
   "id": "a940870c",
   "metadata": {
    "ExecuteTime": {
     "end_time": "2022-05-20T11:01:57.011079Z",
     "start_time": "2022-05-20T11:01:56.994127Z"
    }
   },
   "outputs": [
    {
     "data": {
      "text/plain": [
       "[239846.0, 0.0, 21586.0, 21586.0]"
      ]
     },
     "execution_count": 294,
     "metadata": {},
     "output_type": "execute_result"
    }
   ],
   "source": [
    "list(To017_18['July'].values())"
   ]
  },
  {
   "cell_type": "code",
   "execution_count": 295,
   "id": "6365683a",
   "metadata": {
    "ExecuteTime": {
     "end_time": "2022-05-20T11:01:58.625885Z",
     "start_time": "2022-05-20T11:01:58.615909Z"
    }
   },
   "outputs": [
    {
     "name": "stdout",
     "output_type": "stream",
     "text": [
      "July     :       [239846.0, 0.0, 21586.0, 21586.0]\n",
      "August     :       [0.0, 0.0, 0.0, 0.0]\n",
      "September     :       [410185.0, 73833.0, 0.0, 0.0]\n",
      "October     :       [101640.0, 18295.0, 0.0, 0.0]\n",
      "November     :       [176894.0, 31841.0, 0.0, 0.0]\n",
      "December     :       [0.0, 0.0, 0.0, 0.0]\n",
      "January     :       [0.0, 0.0, 0.0, 0.0]\n",
      "February     :       [0.0, 0.0, 0.0, 0.0]\n",
      "March     :       [0.0, 0.0, 0.0, 0.0]\n"
     ]
    }
   ],
   "source": [
    "for i in list(To017_18.keys()):\n",
    "    print(i,\"    :      \",list(To017_18[i].values()))"
   ]
  },
  {
   "cell_type": "code",
   "execution_count": 299,
   "id": "39754510",
   "metadata": {
    "ExecuteTime": {
     "end_time": "2022-05-20T11:03:52.060879Z",
     "start_time": "2022-05-20T11:03:52.041923Z"
    }
   },
   "outputs": [
    {
     "data": {
      "text/plain": [
       "['2017-18', '2018-19', '2019-20', '2020-21', '2021-22']"
      ]
     },
     "execution_count": 299,
     "metadata": {},
     "output_type": "execute_result"
    }
   ],
   "source": [
    "list(YearandMonths.keys())"
   ]
  },
  {
   "cell_type": "code",
   "execution_count": 313,
   "id": "aa54e24f",
   "metadata": {
    "ExecuteTime": {
     "end_time": "2022-05-20T11:15:59.479220Z",
     "start_time": "2022-05-20T11:15:59.468276Z"
    }
   },
   "outputs": [
    {
     "data": {
      "text/plain": [
       "['Apr-Jun', 'Jul-Sep', 'Oct-Dec', 'Jan-Mar']"
      ]
     },
     "execution_count": 313,
     "metadata": {},
     "output_type": "execute_result"
    }
   ],
   "source": [
    "list(YearandMonths['2021-22'].keys())"
   ]
  },
  {
   "cell_type": "code",
   "execution_count": 321,
   "id": "ba04a5c2",
   "metadata": {
    "ExecuteTime": {
     "end_time": "2022-05-20T11:23:57.736669Z",
     "start_time": "2022-05-20T11:23:57.728689Z"
    }
   },
   "outputs": [
    {
     "data": {
      "text/plain": [
       "dict_keys(['April', 'May', 'June', 'July', 'August', 'September', 'October', 'November', 'December', 'January', 'February', 'March'])"
      ]
     },
     "execution_count": 321,
     "metadata": {},
     "output_type": "execute_result"
    }
   ],
   "source": [
    "YearandMonths['2018-19'].keys()"
   ]
  },
  {
   "cell_type": "code",
   "execution_count": 407,
   "id": "4f6ae922",
   "metadata": {
    "ExecuteTime": {
     "end_time": "2022-05-20T12:41:45.210140Z",
     "start_time": "2022-05-20T12:41:41.488794Z"
    }
   },
   "outputs": [
    {
     "name": "stdout",
     "output_type": "stream",
     "text": [
      "2017-18 I July I14 239846.0\n",
      "2017-18 K July K14 0.0\n",
      "2017-18 L July L14 21586.0\n",
      "2017-18 M July M14 21586.0\n",
      "2017-18 I August I15 0.0\n",
      "2017-18 K August K15 0.0\n",
      "2017-18 L August L15 0.0\n",
      "2017-18 M August M15 0.0\n",
      "2017-18 I September I16 410185.0\n",
      "2017-18 K September K16 73833.0\n",
      "2017-18 L September L16 0.0\n",
      "2017-18 M September M16 0.0\n",
      "2017-18 I October I17 101640.0\n",
      "2017-18 K October K17 18295.0\n",
      "2017-18 L October L17 0.0\n",
      "2017-18 M October M17 0.0\n",
      "2017-18 I November I18 176894.0\n",
      "2017-18 K November K18 31841.0\n",
      "2017-18 L November L18 0.0\n",
      "2017-18 M November M18 0.0\n",
      "2017-18 I December I19 0.0\n",
      "2017-18 K December K19 0.0\n",
      "2017-18 L December L19 0.0\n",
      "2017-18 M December M19 0.0\n",
      "2017-18 I January I20 0.0\n",
      "2017-18 K January K20 0.0\n",
      "2017-18 L January L20 0.0\n",
      "2017-18 M January M20 0.0\n",
      "2017-18 I February I21 0.0\n",
      "2017-18 K February K21 0.0\n",
      "2017-18 L February L21 0.0\n",
      "2017-18 M February M21 0.0\n",
      "2017-18 I March I22 0.0\n",
      "2017-18 K March K22 0.0\n",
      "2017-18 L March L22 0.0\n",
      "2017-18 M March M22 0.0\n",
      "2018-19 I April I11 2159869.0\n",
      "2018-19 K April K11 388776.0\n",
      "2018-19 L April L11 0.0\n",
      "2018-19 M April M11 0.0\n",
      "2018-19 I May I12 456582.0\n",
      "2018-19 K May K12 18065.0\n",
      "2018-19 L May L12 32061.0\n",
      "2018-19 M May M12 32061.0\n",
      "2018-19 I June I13 380350.0\n",
      "2018-19 K June K13 29340.0\n",
      "2018-19 L June L13 19561.0\n",
      "2018-19 M June M13 19561.0\n",
      "2018-19 I July I14 71103.0\n",
      "2018-19 K July K14 12799.0\n",
      "2018-19 L July L14 0.0\n",
      "2018-19 M July M14 0.0\n",
      "2018-19 I August I15 46742.0\n",
      "2018-19 K August K15 0.0\n",
      "2018-19 L August L15 4207.0\n",
      "2018-19 M August M15 4207.0\n",
      "2018-19 I September I16 188259.0\n",
      "2018-19 K September K16 21017.0\n",
      "2018-19 L September L16 6435.0\n",
      "2018-19 M September M16 6435.0\n",
      "2018-19 I October I17 0.0\n",
      "2018-19 K October K17 0.0\n",
      "2018-19 L October L17 0.0\n",
      "2018-19 M October M17 0.0\n",
      "2018-19 I November I18 55625.0\n",
      "2018-19 K November K18 0.0\n",
      "2018-19 L November L18 5006.0\n",
      "2018-19 M November M18 5006.0\n",
      "2018-19 I December I19 38900.0\n",
      "2018-19 K December K19 0.0\n",
      "2018-19 L December L19 3501.0\n",
      "2018-19 M December M19 3501.0\n",
      "2018-19 I January I20 0.0\n",
      "2018-19 K January K20 0.0\n",
      "2018-19 L January L20 0.0\n",
      "2018-19 M January M20 0.0\n",
      "2018-19 I February I21 854465.0\n",
      "2018-19 K February K21 24537.0\n",
      "2018-19 L February L21 61633.0\n",
      "2018-19 M February M21 61633.0\n",
      "2018-19 I March I22 1000000.0\n",
      "2018-19 K March K22 112320.0\n",
      "2018-19 L March L22 33840.0\n",
      "2018-19 M March M22 33840.0\n",
      "2019-20 I April I11 515831.0\n",
      "2019-20 K April K11 0.0\n",
      "2019-20 L April L11 46425.0\n",
      "2019-20 M April M11 46425.0\n",
      "2019-20 I May I12 589417.0\n",
      "2019-20 K May K12 46824.0\n",
      "2019-20 L May L12 29635.0\n",
      "2019-20 M May M12 29635.0\n",
      "2019-20 I June I13 188835.0\n",
      "2019-20 K June K13 9328.0\n",
      "2019-20 L June L13 12331.0\n",
      "2019-20 M June M13 12331.0\n",
      "2019-20 I July I14 177535.0\n",
      "2019-20 K July K14 7148.0\n",
      "2019-20 L July L14 12404.16\n",
      "2019-20 M July M14 12404.16\n",
      "2019-20 I August I15 53500.0\n",
      "2019-20 K August K15 0.0\n",
      "2019-20 L August L15 4815.0\n",
      "2019-20 M August M15 4815.0\n",
      "2019-20 I September I16 146958.0\n",
      "2019-20 K September K16 0.0\n",
      "2019-20 L September L16 13226.0\n",
      "2019-20 M September M16 13226.0\n",
      "2019-20 I October I17 43000.0\n",
      "2019-20 K October K17 0.0\n",
      "2019-20 L October L17 3870.0\n",
      "2019-20 M October M17 3870.0\n",
      "2019-20 I November I18 29875.0\n",
      "2019-20 K November K18 0.0\n",
      "2019-20 L November L18 2688.75\n",
      "2019-20 M November M18 2688.75\n",
      "2019-20 I December I19 161650.0\n",
      "2019-20 K December K19 0.0\n",
      "2019-20 L December L19 14548.0\n",
      "2019-20 M December M19 14548.0\n",
      "2019-20 I January I20 416900.0\n",
      "2019-20 K January K20 75042.0\n",
      "2019-20 L January L20 0.0\n",
      "2019-20 M January M20 0.0\n",
      "2019-20 I February I21 565000.0\n",
      "2019-20 K February K21 0.0\n",
      "2019-20 L February L21 50850.0\n",
      "2019-20 M February M21 50850.0\n",
      "2019-20 I March I22 465525.0\n",
      "2019-20 K March K22 0.0\n",
      "2019-20 L March L22 41898.0\n",
      "2019-20 M March M22 41898.0\n",
      "2020-21 I April I11 99795.0\n",
      "2020-21 K April K11 17963.0\n",
      "2020-21 L April L11 0.0\n",
      "2020-21 M April M11 0.0\n",
      "2020-21 I May I12 322770.0\n",
      "2020-21 K May K12 34894.0\n",
      "2020-21 L May L12 11602.0\n",
      "2020-21 M May M12 11602.0\n",
      "2020-21 I June I13 520756.0\n",
      "2020-21 K June K13 10674.0\n",
      "2020-21 L June L13 41531.0\n",
      "2020-21 M June M13 41531.0\n",
      "2020-21 I July I14 0.0\n",
      "2020-21 K July K14 0.0\n",
      "2020-21 L July L14 0.0\n",
      "2020-21 M July M14 0.0\n",
      "2020-21 I August I15 0.0\n",
      "2020-21 K August K15 0.0\n",
      "2020-21 L August L15 0.0\n",
      "2020-21 M August M15 0.0\n",
      "2020-21 I September I16 0.0\n",
      "2020-21 K September K16 0.0\n",
      "2020-21 L September L16 0.0\n",
      "2020-21 M September M16 0.0\n",
      "2020-21 I October I17 148500.0\n",
      "2020-21 K October K17 0.0\n",
      "2020-21 L October L17 13365.0\n",
      "2020-21 M October M17 13365.0\n",
      "2020-21 I November I18 0.0\n",
      "2020-21 K November K18 0.0\n",
      "2020-21 L November L18 0.0\n",
      "2020-21 M November M18 0.0\n",
      "2020-21 I December I19 0.0\n",
      "2020-21 K December K19 0.0\n",
      "2020-21 L December L19 0.0\n",
      "2020-21 M December M19 0.0\n"
     ]
    }
   ],
   "source": [
    "for y in list(YearandMonths.keys()):\n",
    "    for i in range(1,30):\n",
    "        for j in list(YearandMonths[y].keys()):\n",
    "            if j == (sn.range(i,1).value):\n",
    "                for (k,m) in zip(['I','K','L','M'],list(YearandMonths[y][j].values())):\n",
    "                    cb = ''.join([k,sn.range(i,1).address.replace('$','')[1:]])\n",
    "                    print(y,k,j,cb,m)\n",
    "#                 sn.range(cb).value = m\n",
    "#                 print(j,cb,m)\n",
    "#                 print(sn.range(cb).value, m)"
   ]
  },
  {
   "cell_type": "code",
   "execution_count": 423,
   "id": "f1a0f38d",
   "metadata": {
    "ExecuteTime": {
     "end_time": "2022-05-20T12:59:41.518154Z",
     "start_time": "2022-05-20T12:59:41.462703Z"
    }
   },
   "outputs": [
    {
     "ename": "com_error",
     "evalue": "(-2147023174, 'The RPC server is unavailable.', None, None)",
     "output_type": "error",
     "traceback": [
      "\u001b[1;31m---------------------------------------------------------------------------\u001b[0m",
      "\u001b[1;31mcom_error\u001b[0m                                 Traceback (most recent call last)",
      "\u001b[1;32m~\\AppData\\Local\\Temp/ipykernel_17644/2926645462.py\u001b[0m in \u001b[0;36m<module>\u001b[1;34m\u001b[0m\n\u001b[0;32m     11\u001b[0m             \u001b[1;32melse\u001b[0m\u001b[1;33m:\u001b[0m\u001b[1;33m\u001b[0m\u001b[1;33m\u001b[0m\u001b[0m\n\u001b[0;32m     12\u001b[0m                 \u001b[1;32mfor\u001b[0m \u001b[0ms\u001b[0m \u001b[1;32min\u001b[0m \u001b[0mrange\u001b[0m\u001b[1;33m(\u001b[0m\u001b[1;36m1\u001b[0m\u001b[1;33m,\u001b[0m\u001b[1;36m30\u001b[0m\u001b[1;33m)\u001b[0m\u001b[1;33m:\u001b[0m\u001b[1;33m\u001b[0m\u001b[1;33m\u001b[0m\u001b[0m\n\u001b[1;32m---> 13\u001b[1;33m                     \u001b[1;32mif\u001b[0m \u001b[0mj\u001b[0m \u001b[1;33m==\u001b[0m \u001b[1;33m(\u001b[0m\u001b[0msn\u001b[0m\u001b[1;33m.\u001b[0m\u001b[0mrange\u001b[0m\u001b[1;33m(\u001b[0m\u001b[0ms\u001b[0m\u001b[1;33m,\u001b[0m\u001b[1;36m1\u001b[0m\u001b[1;33m)\u001b[0m\u001b[1;33m.\u001b[0m\u001b[0mvalue\u001b[0m\u001b[1;33m)\u001b[0m\u001b[1;33m:\u001b[0m\u001b[1;33m\u001b[0m\u001b[1;33m\u001b[0m\u001b[0m\n\u001b[0m\u001b[0;32m     14\u001b[0m                         \u001b[1;32mfor\u001b[0m \u001b[1;33m(\u001b[0m\u001b[0mk\u001b[0m\u001b[1;33m,\u001b[0m\u001b[0mm\u001b[0m\u001b[1;33m)\u001b[0m \u001b[1;32min\u001b[0m \u001b[0mzip\u001b[0m\u001b[1;33m(\u001b[0m\u001b[1;33m[\u001b[0m\u001b[1;34m'I'\u001b[0m\u001b[1;33m,\u001b[0m\u001b[1;34m'K'\u001b[0m\u001b[1;33m,\u001b[0m\u001b[1;34m'L'\u001b[0m\u001b[1;33m,\u001b[0m\u001b[1;34m'M'\u001b[0m\u001b[1;33m]\u001b[0m\u001b[1;33m,\u001b[0m\u001b[0mlist\u001b[0m\u001b[1;33m(\u001b[0m\u001b[0mYearandMonths\u001b[0m\u001b[1;33m[\u001b[0m\u001b[0my\u001b[0m\u001b[1;33m]\u001b[0m\u001b[1;33m[\u001b[0m\u001b[0mj\u001b[0m\u001b[1;33m]\u001b[0m\u001b[1;33m.\u001b[0m\u001b[0mvalues\u001b[0m\u001b[1;33m(\u001b[0m\u001b[1;33m)\u001b[0m\u001b[1;33m)\u001b[0m\u001b[1;33m)\u001b[0m\u001b[1;33m:\u001b[0m\u001b[1;33m\u001b[0m\u001b[1;33m\u001b[0m\u001b[0m\n\u001b[0;32m     15\u001b[0m                             \u001b[0mcb\u001b[0m \u001b[1;33m=\u001b[0m \u001b[1;34m''\u001b[0m\u001b[1;33m.\u001b[0m\u001b[0mjoin\u001b[0m\u001b[1;33m(\u001b[0m\u001b[1;33m[\u001b[0m\u001b[0mk\u001b[0m\u001b[1;33m,\u001b[0m\u001b[0msn\u001b[0m\u001b[1;33m.\u001b[0m\u001b[0mrange\u001b[0m\u001b[1;33m(\u001b[0m\u001b[0mi\u001b[0m\u001b[1;33m,\u001b[0m\u001b[1;36m1\u001b[0m\u001b[1;33m)\u001b[0m\u001b[1;33m.\u001b[0m\u001b[0maddress\u001b[0m\u001b[1;33m.\u001b[0m\u001b[0mreplace\u001b[0m\u001b[1;33m(\u001b[0m\u001b[1;34m'$'\u001b[0m\u001b[1;33m,\u001b[0m\u001b[1;34m''\u001b[0m\u001b[1;33m)\u001b[0m\u001b[1;33m[\u001b[0m\u001b[1;36m1\u001b[0m\u001b[1;33m:\u001b[0m\u001b[1;33m]\u001b[0m\u001b[1;33m]\u001b[0m\u001b[1;33m)\u001b[0m\u001b[1;33m\u001b[0m\u001b[1;33m\u001b[0m\u001b[0m\n",
      "\u001b[1;32m~\\anaconda3\\lib\\site-packages\\xlwings\\main.py\u001b[0m in \u001b[0;36mrange\u001b[1;34m(self, cell1, cell2)\u001b[0m\n\u001b[0;32m   1104\u001b[0m                 \u001b[1;32mraise\u001b[0m \u001b[0mValueError\u001b[0m\u001b[1;33m(\u001b[0m\u001b[1;34m\"Second range is not on this sheet\"\u001b[0m\u001b[1;33m)\u001b[0m\u001b[1;33m\u001b[0m\u001b[1;33m\u001b[0m\u001b[0m\n\u001b[0;32m   1105\u001b[0m             \u001b[0mcell2\u001b[0m \u001b[1;33m=\u001b[0m \u001b[0mcell2\u001b[0m\u001b[1;33m.\u001b[0m\u001b[0mimpl\u001b[0m\u001b[1;33m\u001b[0m\u001b[1;33m\u001b[0m\u001b[0m\n\u001b[1;32m-> 1106\u001b[1;33m         \u001b[1;32mreturn\u001b[0m \u001b[0mRange\u001b[0m\u001b[1;33m(\u001b[0m\u001b[0mimpl\u001b[0m\u001b[1;33m=\u001b[0m\u001b[0mself\u001b[0m\u001b[1;33m.\u001b[0m\u001b[0mimpl\u001b[0m\u001b[1;33m.\u001b[0m\u001b[0mrange\u001b[0m\u001b[1;33m(\u001b[0m\u001b[0mcell1\u001b[0m\u001b[1;33m,\u001b[0m \u001b[0mcell2\u001b[0m\u001b[1;33m)\u001b[0m\u001b[1;33m)\u001b[0m\u001b[1;33m\u001b[0m\u001b[1;33m\u001b[0m\u001b[0m\n\u001b[0m\u001b[0;32m   1107\u001b[0m \u001b[1;33m\u001b[0m\u001b[0m\n\u001b[0;32m   1108\u001b[0m     \u001b[1;33m@\u001b[0m\u001b[0mproperty\u001b[0m\u001b[1;33m\u001b[0m\u001b[1;33m\u001b[0m\u001b[0m\n",
      "\u001b[1;32m~\\anaconda3\\lib\\site-packages\\xlwings\\_xlwindows.py\u001b[0m in \u001b[0;36mrange\u001b[1;34m(self, arg1, arg2)\u001b[0m\n\u001b[0;32m    684\u001b[0m             \u001b[0mxl1\u001b[0m \u001b[1;33m=\u001b[0m \u001b[0mself\u001b[0m\u001b[1;33m.\u001b[0m\u001b[0mxl\u001b[0m\u001b[1;33m.\u001b[0m\u001b[0mCells\u001b[0m\u001b[1;33m(\u001b[0m\u001b[0marg1\u001b[0m\u001b[1;33m[\u001b[0m\u001b[1;36m0\u001b[0m\u001b[1;33m]\u001b[0m\u001b[1;33m,\u001b[0m \u001b[0marg1\u001b[0m\u001b[1;33m[\u001b[0m\u001b[1;36m1\u001b[0m\u001b[1;33m]\u001b[0m\u001b[1;33m)\u001b[0m\u001b[1;33m\u001b[0m\u001b[1;33m\u001b[0m\u001b[0m\n\u001b[0;32m    685\u001b[0m         \u001b[1;32melif\u001b[0m \u001b[0misinstance\u001b[0m\u001b[1;33m(\u001b[0m\u001b[0marg1\u001b[0m\u001b[1;33m,\u001b[0m \u001b[0mnumbers\u001b[0m\u001b[1;33m.\u001b[0m\u001b[0mNumber\u001b[0m\u001b[1;33m)\u001b[0m \u001b[1;32mand\u001b[0m \u001b[0misinstance\u001b[0m\u001b[1;33m(\u001b[0m\u001b[0marg2\u001b[0m\u001b[1;33m,\u001b[0m \u001b[0mnumbers\u001b[0m\u001b[1;33m.\u001b[0m\u001b[0mNumber\u001b[0m\u001b[1;33m)\u001b[0m\u001b[1;33m:\u001b[0m\u001b[1;33m\u001b[0m\u001b[1;33m\u001b[0m\u001b[0m\n\u001b[1;32m--> 686\u001b[1;33m             \u001b[0mxl1\u001b[0m \u001b[1;33m=\u001b[0m \u001b[0mself\u001b[0m\u001b[1;33m.\u001b[0m\u001b[0mxl\u001b[0m\u001b[1;33m.\u001b[0m\u001b[0mCells\u001b[0m\u001b[1;33m(\u001b[0m\u001b[0marg1\u001b[0m\u001b[1;33m,\u001b[0m \u001b[0marg2\u001b[0m\u001b[1;33m)\u001b[0m\u001b[1;33m\u001b[0m\u001b[1;33m\u001b[0m\u001b[0m\n\u001b[0m\u001b[0;32m    687\u001b[0m             \u001b[0marg2\u001b[0m \u001b[1;33m=\u001b[0m \u001b[1;32mNone\u001b[0m\u001b[1;33m\u001b[0m\u001b[1;33m\u001b[0m\u001b[0m\n\u001b[0;32m    688\u001b[0m         \u001b[1;32melse\u001b[0m\u001b[1;33m:\u001b[0m\u001b[1;33m\u001b[0m\u001b[1;33m\u001b[0m\u001b[0m\n",
      "\u001b[1;32m~\\anaconda3\\lib\\site-packages\\xlwings\\_xlwindows.py\u001b[0m in \u001b[0;36m__getattr__\u001b[1;34m(self, item)\u001b[0m\n\u001b[0;32m    124\u001b[0m         \u001b[1;32mwhile\u001b[0m \u001b[1;32mTrue\u001b[0m\u001b[1;33m:\u001b[0m\u001b[1;33m\u001b[0m\u001b[1;33m\u001b[0m\u001b[0m\n\u001b[0;32m    125\u001b[0m             \u001b[1;32mtry\u001b[0m\u001b[1;33m:\u001b[0m\u001b[1;33m\u001b[0m\u001b[1;33m\u001b[0m\u001b[0m\n\u001b[1;32m--> 126\u001b[1;33m                 \u001b[0mv\u001b[0m \u001b[1;33m=\u001b[0m \u001b[0mgetattr\u001b[0m\u001b[1;33m(\u001b[0m\u001b[0mself\u001b[0m\u001b[1;33m.\u001b[0m\u001b[0m_inner\u001b[0m\u001b[1;33m,\u001b[0m \u001b[0mitem\u001b[0m\u001b[1;33m)\u001b[0m\u001b[1;33m\u001b[0m\u001b[1;33m\u001b[0m\u001b[0m\n\u001b[0m\u001b[0;32m    127\u001b[0m                 \u001b[1;32mif\u001b[0m \u001b[0misinstance\u001b[0m\u001b[1;33m(\u001b[0m\u001b[0mv\u001b[0m\u001b[1;33m,\u001b[0m \u001b[1;33m(\u001b[0m\u001b[0mCDispatch\u001b[0m\u001b[1;33m,\u001b[0m \u001b[0mCoClassBaseClass\u001b[0m\u001b[1;33m,\u001b[0m \u001b[0mDispatchBaseClass\u001b[0m\u001b[1;33m)\u001b[0m\u001b[1;33m)\u001b[0m\u001b[1;33m:\u001b[0m\u001b[1;33m\u001b[0m\u001b[1;33m\u001b[0m\u001b[0m\n\u001b[0;32m    128\u001b[0m                     \u001b[1;32mreturn\u001b[0m \u001b[0mCOMRetryObjectWrapper\u001b[0m\u001b[1;33m(\u001b[0m\u001b[0mv\u001b[0m\u001b[1;33m)\u001b[0m\u001b[1;33m\u001b[0m\u001b[1;33m\u001b[0m\u001b[0m\n",
      "\u001b[1;32m~\\anaconda3\\lib\\site-packages\\win32com\\client\\__init__.py\u001b[0m in \u001b[0;36m__getattr__\u001b[1;34m(self, attr)\u001b[0m\n\u001b[0;32m    472\u001b[0m                 \u001b[1;32mif\u001b[0m \u001b[0margs\u001b[0m \u001b[1;32mis\u001b[0m \u001b[1;32mNone\u001b[0m\u001b[1;33m:\u001b[0m\u001b[1;33m\u001b[0m\u001b[1;33m\u001b[0m\u001b[0m\n\u001b[0;32m    473\u001b[0m                         \u001b[1;32mraise\u001b[0m \u001b[0mAttributeError\u001b[0m\u001b[1;33m(\u001b[0m\u001b[1;34m\"'%s' object has no attribute '%s'\"\u001b[0m \u001b[1;33m%\u001b[0m \u001b[1;33m(\u001b[0m\u001b[0mrepr\u001b[0m\u001b[1;33m(\u001b[0m\u001b[0mself\u001b[0m\u001b[1;33m)\u001b[0m\u001b[1;33m,\u001b[0m \u001b[0mattr\u001b[0m\u001b[1;33m)\u001b[0m\u001b[1;33m)\u001b[0m\u001b[1;33m\u001b[0m\u001b[1;33m\u001b[0m\u001b[0m\n\u001b[1;32m--> 474\u001b[1;33m                 \u001b[1;32mreturn\u001b[0m \u001b[0mself\u001b[0m\u001b[1;33m.\u001b[0m\u001b[0m_ApplyTypes_\u001b[0m\u001b[1;33m(\u001b[0m\u001b[1;33m*\u001b[0m\u001b[0margs\u001b[0m\u001b[1;33m)\u001b[0m\u001b[1;33m\u001b[0m\u001b[1;33m\u001b[0m\u001b[0m\n\u001b[0m\u001b[0;32m    475\u001b[0m \u001b[1;33m\u001b[0m\u001b[0m\n\u001b[0;32m    476\u001b[0m         \u001b[1;32mdef\u001b[0m \u001b[0m__setattr__\u001b[0m\u001b[1;33m(\u001b[0m\u001b[0mself\u001b[0m\u001b[1;33m,\u001b[0m \u001b[0mattr\u001b[0m\u001b[1;33m,\u001b[0m \u001b[0mvalue\u001b[0m\u001b[1;33m)\u001b[0m\u001b[1;33m:\u001b[0m\u001b[1;33m\u001b[0m\u001b[1;33m\u001b[0m\u001b[0m\n",
      "\u001b[1;32m~\\anaconda3\\lib\\site-packages\\win32com\\client\\__init__.py\u001b[0m in \u001b[0;36m_ApplyTypes_\u001b[1;34m(self, dispid, wFlags, retType, argTypes, user, resultCLSID, *args)\u001b[0m\n\u001b[0;32m    465\u001b[0m         \u001b[1;32mdef\u001b[0m \u001b[0m_ApplyTypes_\u001b[0m\u001b[1;33m(\u001b[0m\u001b[0mself\u001b[0m\u001b[1;33m,\u001b[0m \u001b[0mdispid\u001b[0m\u001b[1;33m,\u001b[0m \u001b[0mwFlags\u001b[0m\u001b[1;33m,\u001b[0m \u001b[0mretType\u001b[0m\u001b[1;33m,\u001b[0m \u001b[0margTypes\u001b[0m\u001b[1;33m,\u001b[0m \u001b[0muser\u001b[0m\u001b[1;33m,\u001b[0m \u001b[0mresultCLSID\u001b[0m\u001b[1;33m,\u001b[0m \u001b[1;33m*\u001b[0m\u001b[0margs\u001b[0m\u001b[1;33m)\u001b[0m\u001b[1;33m:\u001b[0m\u001b[1;33m\u001b[0m\u001b[1;33m\u001b[0m\u001b[0m\n\u001b[0;32m    466\u001b[0m \t\treturn self._get_good_object_(\n\u001b[1;32m--> 467\u001b[1;33m                         \u001b[0mself\u001b[0m\u001b[1;33m.\u001b[0m\u001b[0m_oleobj_\u001b[0m\u001b[1;33m.\u001b[0m\u001b[0mInvokeTypes\u001b[0m\u001b[1;33m(\u001b[0m\u001b[0mdispid\u001b[0m\u001b[1;33m,\u001b[0m \u001b[1;36m0\u001b[0m\u001b[1;33m,\u001b[0m \u001b[0mwFlags\u001b[0m\u001b[1;33m,\u001b[0m \u001b[0mretType\u001b[0m\u001b[1;33m,\u001b[0m \u001b[0margTypes\u001b[0m\u001b[1;33m,\u001b[0m \u001b[1;33m*\u001b[0m\u001b[0margs\u001b[0m\u001b[1;33m)\u001b[0m\u001b[1;33m,\u001b[0m\u001b[1;33m\u001b[0m\u001b[1;33m\u001b[0m\u001b[0m\n\u001b[0m\u001b[0;32m    468\u001b[0m \t\t\tuser, resultCLSID)\n\u001b[0;32m    469\u001b[0m \u001b[1;33m\u001b[0m\u001b[0m\n",
      "\u001b[1;31mcom_error\u001b[0m: (-2147023174, 'The RPC server is unavailable.', None, None)"
     ]
    }
   ],
   "source": [
    "for y in list(YearandMonths.keys()):\n",
    "        for j in list(YearandMonths[y].keys()):\n",
    "            if j in list(YearandMonths['2021-22'].keys()):\n",
    "                for s in range(1,30):\n",
    "                    dto = datetime.datetime.strptime(j[4:],\"%b\")\n",
    "                    cmn = calendar.month_name[dto.month]\n",
    "                    if  cmn == sn.range(s,1).value:\n",
    "                        for (k,m) in zip(['I','K','L','M'],list(YearandMonths[y][j].values())):\n",
    "                            cb = ''.join([k,sn.range(s,1).address.replace('$','')[1:]])\n",
    "                            print(y,j,cmn,cb,m)\n",
    "            else:\n",
    "                for s in range(1,30):\n",
    "                    if j == (sn.range(s,1).value):\n",
    "                        for (k,m) in zip(['I','K','L','M'],list(YearandMonths[y][j].values())):\n",
    "                            cb = ''.join([k,sn.range(i,1).address.replace('$','')[1:]])\n",
    "                            print(y,j,cb,m)"
   ]
  },
  {
   "cell_type": "code",
   "execution_count": 334,
   "id": "7ab219a3",
   "metadata": {
    "ExecuteTime": {
     "end_time": "2022-05-20T11:41:15.309154Z",
     "start_time": "2022-05-20T11:41:15.292164Z"
    }
   },
   "outputs": [
    {
     "data": {
      "text/plain": [
       "'Jun'"
      ]
     },
     "execution_count": 334,
     "metadata": {},
     "output_type": "execute_result"
    }
   ],
   "source": [
    "list(YearandMonths['2021-22'].keys())[0][4:]"
   ]
  },
  {
   "cell_type": "code",
   "execution_count": 345,
   "id": "4b55b8bf",
   "metadata": {
    "ExecuteTime": {
     "end_time": "2022-05-20T11:50:48.694451Z",
     "start_time": "2022-05-20T11:50:48.676497Z"
    }
   },
   "outputs": [
    {
     "ename": "TypeError",
     "evalue": "formatmonth() missing 2 required positional arguments: 'theyear' and 'themonth'",
     "output_type": "error",
     "traceback": [
      "\u001b[1;31m---------------------------------------------------------------------------\u001b[0m",
      "\u001b[1;31mTypeError\u001b[0m                                 Traceback (most recent call last)",
      "\u001b[1;32m~\\AppData\\Local\\Temp/ipykernel_17644/3589869066.py\u001b[0m in \u001b[0;36m<module>\u001b[1;34m\u001b[0m\n\u001b[1;32m----> 1\u001b[1;33m \u001b[0mcalendar\u001b[0m\u001b[1;33m.\u001b[0m\u001b[0mmonth\u001b[0m\u001b[1;33m(\u001b[0m\u001b[1;33m)\u001b[0m\u001b[1;33m\u001b[0m\u001b[1;33m\u001b[0m\u001b[0m\n\u001b[0m",
      "\u001b[1;31mTypeError\u001b[0m: formatmonth() missing 2 required positional arguments: 'theyear' and 'themonth'"
     ]
    }
   ],
   "source": [
    "calendar.month()"
   ]
  },
  {
   "cell_type": "code",
   "execution_count": 375,
   "id": "688a90e3",
   "metadata": {
    "ExecuteTime": {
     "end_time": "2022-05-20T12:15:12.809268Z",
     "start_time": "2022-05-20T12:15:12.789320Z"
    }
   },
   "outputs": [
    {
     "name": "stdout",
     "output_type": "stream",
     "text": [
      "Jun\n",
      "Sep\n",
      "Dec\n",
      "Mar\n"
     ]
    }
   ],
   "source": [
    "# dto = datetime.datetime.strptime(list(YearandMonths['2021-22'].keys())[0][4:],\"%b\")\n",
    "# dto.month\n",
    "# calendar.month_name[dto.month]\n",
    "for j in list(YearandMonths['2021-22'].keys()):\n",
    "    print(j[4:])"
   ]
  },
  {
   "cell_type": "code",
   "execution_count": 387,
   "id": "f48b7a5b",
   "metadata": {
    "ExecuteTime": {
     "end_time": "2022-05-20T12:24:48.709455Z",
     "start_time": "2022-05-20T12:24:48.695463Z"
    }
   },
   "outputs": [],
   "source": [
    "# for y in list(YearandMonths.keys()):\n",
    "#         for j in list(YearandMonths[y].keys()):\n",
    "#             if j in list(YearandMonths['2021-22'].keys()):\n",
    "#                 for s in range(1,30):\n",
    "#                     dto = datetime.datetime.strptime(j[4:],\"%b\")\n",
    "#                     cmn = calendar.month_name[dto.month]\n",
    "#                     if  cmn == sn.range(s,1).value:\n",
    "#                         print(y,j,cmn)"
   ]
  },
  {
   "cell_type": "code",
   "execution_count": 392,
   "id": "9668ae8b",
   "metadata": {
    "ExecuteTime": {
     "end_time": "2022-05-20T12:28:20.987061Z",
     "start_time": "2022-05-20T12:28:20.559610Z"
    }
   },
   "outputs": [
    {
     "name": "stdout",
     "output_type": "stream",
     "text": [
      "2020-21 I March I22 1174706.0\n",
      "2020-21 K March K22 65331.0\n",
      "2020-21 L March L22 73058.04\n",
      "2020-21 M March M22 73058.04\n",
      "2021-22 I June I13 86420.0\n",
      "2021-22 K June K13 0.0\n",
      "2021-22 L June L13 7777.8\n",
      "2021-22 M June M13 7777.8\n",
      "2021-22 I September I16 135840.0\n",
      "2021-22 K September K16 0.0\n",
      "2021-22 L September L16 12225.6\n",
      "2021-22 M September M16 12225.6\n",
      "2021-22 I December I19 182530.0\n",
      "2021-22 K December K19 0.0\n",
      "2021-22 L December L19 16428.0\n",
      "2021-22 M December M19 16428.0\n",
      "2021-22 I March I22 208654.0\n",
      "2021-22 K March K22 0.0\n",
      "2021-22 L March L22 18778.86\n",
      "2021-22 M March M22 18778.86\n"
     ]
    }
   ],
   "source": [
    "# for y in list(YearandMonths.keys()):\n",
    "#         for j in list(YearandMonths[y].keys()):\n",
    "#             if j in list(YearandMonths['2021-22'].keys()):\n",
    "#                 for s in range(1,30):\n",
    "#                     dto = datetime.datetime.strptime(j[4:],\"%b\")\n",
    "#                     cmn = calendar.month_name[dto.month]\n",
    "#                     if  cmn == sn.range(s,1).value:\n",
    "#                         for (k,m) in zip(['I','K','L','M'],list(YearandMonths[y][j].values())):\n",
    "#                             cb = ''.join([k,sn.range(s,1).address.replace('$','')[1:]])\n",
    "#                             print(y,k,cmn,cb,m)"
   ]
  },
  {
   "cell_type": "code",
   "execution_count": 409,
   "id": "8f06bf74",
   "metadata": {
    "ExecuteTime": {
     "end_time": "2022-05-20T12:42:48.658518Z",
     "start_time": "2022-05-20T12:42:48.628599Z"
    }
   },
   "outputs": [
    {
     "name": "stdout",
     "output_type": "stream",
     "text": [
      "July July I 239846.0\n",
      "July July K 0.0\n",
      "July July L 21586.0\n",
      "July July M 21586.0\n",
      "August August I 239846.0\n",
      "August August K 0.0\n",
      "August August L 21586.0\n",
      "August August M 21586.0\n",
      "September September I 239846.0\n",
      "September September K 0.0\n",
      "September September L 21586.0\n",
      "September September M 21586.0\n",
      "October October I 239846.0\n",
      "October October K 0.0\n",
      "October October L 21586.0\n",
      "October October M 21586.0\n",
      "November November I 239846.0\n",
      "November November K 0.0\n",
      "November November L 21586.0\n",
      "November November M 21586.0\n",
      "December December I 239846.0\n",
      "December December K 0.0\n",
      "December December L 21586.0\n",
      "December December M 21586.0\n",
      "January January I 239846.0\n",
      "January January K 0.0\n",
      "January January L 21586.0\n",
      "January January M 21586.0\n",
      "February February I 239846.0\n",
      "February February K 0.0\n",
      "February February L 21586.0\n",
      "February February M 21586.0\n",
      "March March I 239846.0\n",
      "March March K 0.0\n",
      "March March L 21586.0\n",
      "March March M 21586.0\n"
     ]
    }
   ],
   "source": [
    "for i in To017_18:\n",
    "    for j in xl_Months:\n",
    "        if i==j:\n",
    "            for (k,m) in zip(['I','K','L','M'],list(To017_18['July'].values())):\n",
    "                print(i,j,k,m)\n",
    "#                 sn.range(k).value"
   ]
  },
  {
   "cell_type": "code",
   "execution_count": 205,
   "id": "94b7f911",
   "metadata": {
    "ExecuteTime": {
     "end_time": "2022-05-20T09:47:31.713935Z",
     "start_time": "2022-05-20T09:47:31.661859Z"
    }
   },
   "outputs": [],
   "source": [
    "xl_Months = [sn[j].value for j in [f'A{i}' for i in range(11,23)]]"
   ]
  },
  {
   "cell_type": "code",
   "execution_count": 273,
   "id": "1f703d34",
   "metadata": {
    "ExecuteTime": {
     "end_time": "2022-05-20T10:43:35.673559Z",
     "start_time": "2022-05-20T10:43:35.655576Z"
    },
    "scrolled": true
   },
   "outputs": [
    {
     "ename": "SyntaxError",
     "evalue": "invalid syntax (Temp/ipykernel_17644/299201763.py, line 3)",
     "output_type": "error",
     "traceback": [
      "\u001b[1;36m  File \u001b[1;32m\"C:\\Users\\aakas\\AppData\\Local\\Temp/ipykernel_17644/299201763.py\"\u001b[1;36m, line \u001b[1;32m3\u001b[0m\n\u001b[1;33m    format(sn.range({ret}{ret1}).value)\u001b[0m\n\u001b[1;37m                         ^\u001b[0m\n\u001b[1;31mSyntaxError\u001b[0m\u001b[1;31m:\u001b[0m invalid syntax\n"
     ]
    }
   ],
   "source": [
    "ret = 'I'\n",
    "ret1 = '14'\n",
    "sn.range({ret}{ret1}).value"
   ]
  },
  {
   "cell_type": "code",
   "execution_count": 257,
   "id": "4f1d753e",
   "metadata": {
    "ExecuteTime": {
     "end_time": "2022-05-20T10:26:06.733981Z",
     "start_time": "2022-05-20T10:26:06.078420Z"
    }
   },
   "outputs": [
    {
     "name": "stdout",
     "output_type": "stream",
     "text": [
      "I14\n",
      "I15\n",
      "I16\n",
      "I17\n",
      "I18\n",
      "I19\n",
      "I20\n",
      "I21\n",
      "I22\n"
     ]
    }
   ],
   "source": [
    "ret = 'I'\n",
    "for i in range(1,30):\n",
    "    for j in list(To017_18.keys()):\n",
    "        if (sn.range(i,1).value) == j:\n",
    "            print(  f\"{ret}{sn.range(i,1).address.replace('$','')[1:]}\"  )"
   ]
  },
  {
   "cell_type": "code",
   "execution_count": 256,
   "id": "605ea753",
   "metadata": {
    "ExecuteTime": {
     "end_time": "2022-05-20T10:25:43.712288Z",
     "start_time": "2022-05-20T10:25:43.690346Z"
    }
   },
   "outputs": [
    {
     "data": {
      "text/plain": [
       "['July',\n",
       " 'August',\n",
       " 'September',\n",
       " 'October',\n",
       " 'November',\n",
       " 'December',\n",
       " 'January',\n",
       " 'February',\n",
       " 'March']"
      ]
     },
     "execution_count": 256,
     "metadata": {},
     "output_type": "execute_result"
    }
   ],
   "source": [
    "list(To017_18.keys())"
   ]
  },
  {
   "cell_type": "code",
   "execution_count": 272,
   "id": "2cbb4dc9",
   "metadata": {
    "ExecuteTime": {
     "end_time": "2022-05-20T10:42:54.870972Z",
     "start_time": "2022-05-20T10:42:54.858010Z"
    }
   },
   "outputs": [
    {
     "data": {
      "text/plain": [
       "[['Year', '2021-22'], ['Period', 'Jan-Mar']]"
      ]
     },
     "execution_count": 272,
     "metadata": {},
     "output_type": "execute_result"
    }
   ],
   "source": [
    "All_Tables[0]"
   ]
  },
  {
   "cell_type": "code",
   "execution_count": 176,
   "id": "359db427",
   "metadata": {
    "ExecuteTime": {
     "end_time": "2022-05-20T09:02:23.073353Z",
     "start_time": "2022-05-20T09:02:23.057393Z"
    }
   },
   "outputs": [],
   "source": [
    "# sn.merge_cells('A1:S1')\n",
    "# sn.merge_cells('A2:S2')"
   ]
  },
  {
   "cell_type": "code",
   "execution_count": 177,
   "id": "87f70d76",
   "metadata": {
    "ExecuteTime": {
     "end_time": "2022-05-20T09:02:23.758235Z",
     "start_time": "2022-05-20T09:02:23.748267Z"
    }
   },
   "outputs": [],
   "source": [
    "sn['A1'] = \"Sai Enterprises\"\n",
    "sn['A2'] = \"GST  STATEMENT FOR THE PERIOD OF 01-04-2017 TO 31-03-2018 GSTR 3B\""
   ]
  },
  {
   "cell_type": "code",
   "execution_count": 178,
   "id": "938abdeb",
   "metadata": {
    "ExecuteTime": {
     "end_time": "2022-05-20T09:02:24.864693Z",
     "start_time": "2022-05-20T09:02:24.857675Z"
    }
   },
   "outputs": [],
   "source": [
    "sn[\"G11\"] = 1000\n",
    "sn[\"G12\"] = 2000\n",
    "sn[\"G13\"] = 3000\n",
    "sn[\"G14\"] = 4000"
   ]
  },
  {
   "cell_type": "code",
   "execution_count": 179,
   "id": "458b6146",
   "metadata": {
    "ExecuteTime": {
     "end_time": "2022-05-20T09:02:25.410934Z",
     "start_time": "2022-05-20T09:02:25.357919Z"
    }
   },
   "outputs": [],
   "source": [
    "df.save('GST FY 2019-20.xlsx')"
   ]
  },
  {
   "cell_type": "code",
   "execution_count": null,
   "id": "f6a09117",
   "metadata": {},
   "outputs": [],
   "source": []
  }
 ],
 "metadata": {
  "hide_input": false,
  "kernelspec": {
   "display_name": "Python 3 (ipykernel)",
   "language": "python",
   "name": "python3"
  },
  "language_info": {
   "codemirror_mode": {
    "name": "ipython",
    "version": 3
   },
   "file_extension": ".py",
   "mimetype": "text/x-python",
   "name": "python",
   "nbconvert_exporter": "python",
   "pygments_lexer": "ipython3",
   "version": "3.9.7"
  },
  "nbTranslate": {
   "displayLangs": [
    "*"
   ],
   "hotkey": "alt-t",
   "langInMainMenu": true,
   "sourceLang": "en",
   "targetLang": "fr",
   "useGoogleTranslate": true
  },
  "varInspector": {
   "cols": {
    "lenName": 16,
    "lenType": 16,
    "lenVar": 40
   },
   "kernels_config": {
    "python": {
     "delete_cmd_postfix": "",
     "delete_cmd_prefix": "del ",
     "library": "var_list.py",
     "varRefreshCmd": "print(var_dic_list())"
    },
    "r": {
     "delete_cmd_postfix": ") ",
     "delete_cmd_prefix": "rm(",
     "library": "var_list.r",
     "varRefreshCmd": "cat(var_dic_list()) "
    }
   },
   "types_to_exclude": [
    "module",
    "function",
    "builtin_function_or_method",
    "instance",
    "_Feature"
   ],
   "window_display": false
  }
 },
 "nbformat": 4,
 "nbformat_minor": 5
}
