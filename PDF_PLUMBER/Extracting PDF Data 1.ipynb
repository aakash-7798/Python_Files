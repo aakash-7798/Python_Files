{
 "cells": [
  {
   "cell_type": "code",
   "execution_count": 73,
   "id": "e103a6a2",
   "metadata": {
    "ExecuteTime": {
     "end_time": "2022-05-25T11:39:29.139205Z",
     "start_time": "2022-05-25T11:39:29.129235Z"
    }
   },
   "outputs": [],
   "source": [
    "import pdfplumber\n",
    "import pandas as pd\n",
    "import string\n",
    "from IPython.display import display"
   ]
  },
  {
   "cell_type": "code",
   "execution_count": 131,
   "id": "fa42f392",
   "metadata": {
    "ExecuteTime": {
     "end_time": "2022-05-25T12:35:52.341890Z",
     "start_time": "2022-05-25T12:35:52.248053Z"
    }
   },
   "outputs": [],
   "source": [
    "CL_pdf = pdfplumber.open(\"E:\\ElectronicCreditLedger.pdf\")\n",
    "CL_first_page = pdf.pages[0]\n",
    "CreditLedger_Table = CL_first_page.extract_tables()\n",
    "CreditLedger_df = pd.DataFrame(data=CreditLedger_Table[0][2:],columns=[i.replace(\"\\n\",\" \") for i in  CreditLedger_Table[0][0][:6] + [CreditLedger_Table[0][0][6] + ' '+ i for i in CreditLedger_Table[0][1][6:11]] + [CreditLedger_Table[0][0][11] + ' '+ i for i in CreditLedger_Table[0][1][6:11]]])\n",
    "CreditLedger_df.replace(replacers,regex=True)\n",
    "CL_Total = int(list(CreditLedger_df[(CreditLedger_df[CreditLedger_df.columns[3]] == (f\"Mar-{fyr[0][2:4]}\") ) & ( CreditLedger_df[CreditLedger_df.columns[5]] =='Debit' )][CreditLedger_df.columns[-1]])[0])"
   ]
  },
  {
   "cell_type": "code",
   "execution_count": 132,
   "id": "ccd81bd0",
   "metadata": {
    "ExecuteTime": {
     "end_time": "2022-05-25T12:35:59.286082Z",
     "start_time": "2022-05-25T12:35:59.268130Z"
    }
   },
   "outputs": [
    {
     "data": {
      "text/plain": [
       "2271"
      ]
     },
     "execution_count": 132,
     "metadata": {},
     "output_type": "execute_result"
    }
   ],
   "source": [
    "CL_Total"
   ]
  },
  {
   "cell_type": "code",
   "execution_count": 75,
   "id": "6dfdeaff",
   "metadata": {
    "ExecuteTime": {
     "end_time": "2022-05-25T11:39:30.882256Z",
     "start_time": "2022-05-25T11:39:30.872283Z"
    }
   },
   "outputs": [],
   "source": [
    "CL_first_page = pdf.pages[0]"
   ]
  },
  {
   "cell_type": "code",
   "execution_count": 7,
   "id": "a7e8afe3",
   "metadata": {
    "ExecuteTime": {
     "end_time": "2022-05-25T11:04:47.268997Z",
     "start_time": "2022-05-25T11:04:45.089996Z"
    },
    "collapsed": true
   },
   "outputs": [
    {
     "data": {
      "image/png": "[encoded data removed]",
      "text/plain": [
       "<pdfplumber.display.PageImage at 0x2134ada3610>"
      ]
     },
     "execution_count": 7,
     "metadata": {},
     "output_type": "execute_result"
    }
   ],
   "source": [
    "first_page.to_image()"
   ]
  },
  {
   "cell_type": "code",
   "execution_count": 76,
   "id": "0beb82a7",
   "metadata": {
    "ExecuteTime": {
     "end_time": "2022-05-25T11:39:32.133870Z",
     "start_time": "2022-05-25T11:39:32.105945Z"
    },
    "collapsed": true
   },
   "outputs": [
    {
     "data": {
      "text/plain": [
       "{'a\\n': '',\n",
       " 'b\\n': '',\n",
       " 'c\\n': '',\n",
       " 'd\\n': '',\n",
       " 'e\\n': '',\n",
       " 'f\\n': '',\n",
       " 'g\\n': '',\n",
       " 'h\\n': '',\n",
       " 'i\\n': '',\n",
       " 'j\\n': '',\n",
       " 'k\\n': '',\n",
       " 'l\\n': '',\n",
       " 'm\\n': '',\n",
       " 'n\\n': '',\n",
       " 'o\\n': '',\n",
       " 'p\\n': '',\n",
       " 'q\\n': '',\n",
       " 'r\\n': '',\n",
       " 's\\n': '',\n",
       " 't\\n': '',\n",
       " 'u\\n': '',\n",
       " 'v\\n': '',\n",
       " 'w\\n': '',\n",
       " 'x\\n': '',\n",
       " 'y\\n': '',\n",
       " 'z\\n': '',\n",
       " 'A\\n': '',\n",
       " 'B\\n': '',\n",
       " 'C\\n': '',\n",
       " 'D\\n': '',\n",
       " 'E\\n': '',\n",
       " 'F\\n': '',\n",
       " 'G\\n': '',\n",
       " 'H\\n': '',\n",
       " 'I\\n': '',\n",
       " 'J\\n': '',\n",
       " 'K\\n': '',\n",
       " 'L\\n': '',\n",
       " 'M\\n': '',\n",
       " 'N\\n': '',\n",
       " 'O\\n': '',\n",
       " 'P\\n': '',\n",
       " 'Q\\n': '',\n",
       " 'R\\n': '',\n",
       " 'S\\n': '',\n",
       " 'T\\n': '',\n",
       " 'U\\n': '',\n",
       " 'V\\n': '',\n",
       " 'W\\n': '',\n",
       " 'X\\n': '',\n",
       " 'Y\\n': '',\n",
       " 'Z\\n': '',\n",
       " '\\n': ''}"
      ]
     },
     "execution_count": 76,
     "metadata": {},
     "output_type": "execute_result"
    }
   ],
   "source": [
    "replacers = {}\n",
    "for i in string.ascii_letters:\n",
    "    replacers[f'{i}\\n'] =''\n",
    "replacers.update({\"\\n\":\"\"})\n",
    "replacers"
   ]
  },
  {
   "cell_type": "code",
   "execution_count": 72,
   "id": "03999a50",
   "metadata": {
    "ExecuteTime": {
     "end_time": "2022-05-25T11:38:00.098936Z",
     "start_time": "2022-05-25T11:38:00.036104Z"
    },
    "collapsed": true
   },
   "outputs": [
    {
     "data": {
      "text/html": [
       "<div>\n",
       "<style scoped>\n",
       "    .dataframe tbody tr th:only-of-type {\n",
       "        vertical-align: middle;\n",
       "    }\n",
       "\n",
       "    .dataframe tbody tr th {\n",
       "        vertical-align: top;\n",
       "    }\n",
       "\n",
       "    .dataframe thead th {\n",
       "        text-align: right;\n",
       "    }\n",
       "</style>\n",
       "<table border=\"1\" class=\"dataframe\">\n",
       "  <thead>\n",
       "    <tr style=\"text-align: right;\">\n",
       "      <th></th>\n",
       "      <th>Sr.No</th>\n",
       "      <th>Date</th>\n",
       "      <th>Reference  No.</th>\n",
       "      <th>Tax period,  if any</th>\n",
       "      <th>Description</th>\n",
       "      <th>Transaction Type [Debit  (DR) / Credit (CR)]</th>\n",
       "      <th>Credit/Debit ( ) Integrated  Tax</th>\n",
       "      <th>Credit/Debit ( ) Central  Tax</th>\n",
       "      <th>Credit/Debit ( ) State  Tax</th>\n",
       "      <th>Credit/Debit ( ) CESS</th>\n",
       "      <th>Credit/Debit ( ) Total</th>\n",
       "      <th>Balance Available( ) Integrated  Tax</th>\n",
       "      <th>Balance Available( ) Central  Tax</th>\n",
       "      <th>Balance Available( ) State  Tax</th>\n",
       "      <th>Balance Available( ) CESS</th>\n",
       "      <th>Balance Available( ) Total</th>\n",
       "    </tr>\n",
       "  </thead>\n",
       "  <tbody>\n",
       "    <tr>\n",
       "      <th>0</th>\n",
       "      <td>-</td>\n",
       "      <td>-</td>\n",
       "      <td>-</td>\n",
       "      <td>-</td>\n",
       "      <td>Opening Balance</td>\n",
       "      <td>-</td>\n",
       "      <td>-</td>\n",
       "      <td>-</td>\n",
       "      <td>-</td>\n",
       "      <td>-</td>\n",
       "      <td>-</td>\n",
       "      <td>0</td>\n",
       "      <td>0</td>\n",
       "      <td>0</td>\n",
       "      <td>0</td>\n",
       "      <td>0</td>\n",
       "    </tr>\n",
       "    <tr>\n",
       "      <th>1</th>\n",
       "      <td>1</td>\n",
       "      <td>23/04/2021</td>\n",
       "      <td>AA360321554283G</td>\n",
       "      <td>Mar-21</td>\n",
       "      <td>ITC accrued through - Inputs</td>\n",
       "      <td>Credit</td>\n",
       "      <td>81931</td>\n",
       "      <td>5671</td>\n",
       "      <td>5671</td>\n",
       "      <td>0</td>\n",
       "      <td>93273</td>\n",
       "      <td>81931</td>\n",
       "      <td>5671</td>\n",
       "      <td>5671</td>\n",
       "      <td>0</td>\n",
       "      <td>93273</td>\n",
       "    </tr>\n",
       "    <tr>\n",
       "      <th>2</th>\n",
       "      <td>2</td>\n",
       "      <td>23/04/2021</td>\n",
       "      <td>DI3604210137999</td>\n",
       "      <td>Mar-21</td>\n",
       "      <td>Other than reverse charge</td>\n",
       "      <td>Debit</td>\n",
       "      <td>81931</td>\n",
       "      <td>5671</td>\n",
       "      <td>3400</td>\n",
       "      <td>0</td>\n",
       "      <td>91002</td>\n",
       "      <td>0</td>\n",
       "      <td>0</td>\n",
       "      <td>2271</td>\n",
       "      <td>0</td>\n",
       "      <td>2271</td>\n",
       "    </tr>\n",
       "    <tr>\n",
       "      <th>3</th>\n",
       "      <td>3</td>\n",
       "      <td>20/07/2021</td>\n",
       "      <td>AA360621423341O</td>\n",
       "      <td>Jun-21</td>\n",
       "      <td>ITC accrued through - Inputs</td>\n",
       "      <td>Credit</td>\n",
       "      <td>27990</td>\n",
       "      <td>8132</td>\n",
       "      <td>8132</td>\n",
       "      <td>0</td>\n",
       "      <td>44254</td>\n",
       "      <td>27990</td>\n",
       "      <td>8132</td>\n",
       "      <td>10403</td>\n",
       "      <td>0</td>\n",
       "      <td>46525</td>\n",
       "    </tr>\n",
       "    <tr>\n",
       "      <th>4</th>\n",
       "      <td>4</td>\n",
       "      <td>20/07/2021</td>\n",
       "      <td>DI3607210139755</td>\n",
       "      <td>Jun-21</td>\n",
       "      <td>Other than reverse charge</td>\n",
       "      <td>Debit</td>\n",
       "      <td>27990</td>\n",
       "      <td>8132</td>\n",
       "      <td>10403</td>\n",
       "      <td>0</td>\n",
       "      <td>46525</td>\n",
       "      <td>0</td>\n",
       "      <td>0</td>\n",
       "      <td>0</td>\n",
       "      <td>0</td>\n",
       "      <td>0</td>\n",
       "    </tr>\n",
       "    <tr>\n",
       "      <th>5</th>\n",
       "      <td>5</td>\n",
       "      <td>20/10/2021</td>\n",
       "      <td>AA3609215156726</td>\n",
       "      <td>Sep-21</td>\n",
       "      <td>ITC accrued through - Inputs</td>\n",
       "      <td>Credit</td>\n",
       "      <td>18635</td>\n",
       "      <td>2902</td>\n",
       "      <td>2902</td>\n",
       "      <td>0</td>\n",
       "      <td>24439</td>\n",
       "      <td>18635</td>\n",
       "      <td>2902</td>\n",
       "      <td>2902</td>\n",
       "      <td>0</td>\n",
       "      <td>24439</td>\n",
       "    </tr>\n",
       "    <tr>\n",
       "      <th>6</th>\n",
       "      <td>6</td>\n",
       "      <td>20/10/2021</td>\n",
       "      <td>DI3610210105574</td>\n",
       "      <td>Sep-21</td>\n",
       "      <td>Other than reverse charge</td>\n",
       "      <td>Debit</td>\n",
       "      <td>18635</td>\n",
       "      <td>2902</td>\n",
       "      <td>2902</td>\n",
       "      <td>0</td>\n",
       "      <td>24439</td>\n",
       "      <td>0</td>\n",
       "      <td>0</td>\n",
       "      <td>0</td>\n",
       "      <td>0</td>\n",
       "      <td>0</td>\n",
       "    </tr>\n",
       "    <tr>\n",
       "      <th>7</th>\n",
       "      <td>-</td>\n",
       "      <td>-</td>\n",
       "      <td>-</td>\n",
       "      <td>-</td>\n",
       "      <td>Closing Balance</td>\n",
       "      <td>-</td>\n",
       "      <td>-</td>\n",
       "      <td>-</td>\n",
       "      <td>-</td>\n",
       "      <td>-</td>\n",
       "      <td>-</td>\n",
       "      <td>0</td>\n",
       "      <td>0</td>\n",
       "      <td>0</td>\n",
       "      <td>0</td>\n",
       "      <td>0</td>\n",
       "    </tr>\n",
       "  </tbody>\n",
       "</table>\n",
       "</div>"
      ],
      "text/plain": [
       "  Sr.No        Date   Reference  No. Tax period,  if any  \\\n",
       "0     -           -                -                   -   \n",
       "1     1  23/04/2021  AA360321554283G              Mar-21   \n",
       "2     2  23/04/2021  DI3604210137999              Mar-21   \n",
       "3     3  20/07/2021  AA360621423341O              Jun-21   \n",
       "4     4  20/07/2021  DI3607210139755              Jun-21   \n",
       "5     5  20/10/2021  AA3609215156726              Sep-21   \n",
       "6     6  20/10/2021  DI3610210105574              Sep-21   \n",
       "7     -           -                -                   -   \n",
       "\n",
       "                    Description Transaction Type [Debit  (DR) / Credit (CR)]  \\\n",
       "0               Opening Balance                                            -   \n",
       "1  ITC accrued through - Inputs                                       Credit   \n",
       "2     Other than reverse charge                                        Debit   \n",
       "3  ITC accrued through - Inputs                                       Credit   \n",
       "4     Other than reverse charge                                        Debit   \n",
       "5  ITC accrued through - Inputs                                       Credit   \n",
       "6     Other than reverse charge                                        Debit   \n",
       "7               Closing Balance                                            -   \n",
       "\n",
       "  Credit/Debit ( ) Integrated  Tax Credit/Debit ( ) Central  Tax  \\\n",
       "0                                -                             -   \n",
       "1                            81931                          5671   \n",
       "2                            81931                          5671   \n",
       "3                            27990                          8132   \n",
       "4                            27990                          8132   \n",
       "5                            18635                          2902   \n",
       "6                            18635                          2902   \n",
       "7                                -                             -   \n",
       "\n",
       "  Credit/Debit ( ) State  Tax Credit/Debit ( ) CESS Credit/Debit ( ) Total  \\\n",
       "0                           -                     -                      -   \n",
       "1                        5671                     0                  93273   \n",
       "2                        3400                     0                  91002   \n",
       "3                        8132                     0                  44254   \n",
       "4                       10403                     0                  46525   \n",
       "5                        2902                     0                  24439   \n",
       "6                        2902                     0                  24439   \n",
       "7                           -                     -                      -   \n",
       "\n",
       "  Balance Available( ) Integrated  Tax Balance Available( ) Central  Tax  \\\n",
       "0                                    0                                 0   \n",
       "1                                81931                              5671   \n",
       "2                                    0                                 0   \n",
       "3                                27990                              8132   \n",
       "4                                    0                                 0   \n",
       "5                                18635                              2902   \n",
       "6                                    0                                 0   \n",
       "7                                    0                                 0   \n",
       "\n",
       "  Balance Available( ) State  Tax Balance Available( ) CESS  \\\n",
       "0                               0                         0   \n",
       "1                            5671                         0   \n",
       "2                            2271                         0   \n",
       "3                           10403                         0   \n",
       "4                               0                         0   \n",
       "5                            2902                         0   \n",
       "6                               0                         0   \n",
       "7                               0                         0   \n",
       "\n",
       "  Balance Available( ) Total  \n",
       "0                          0  \n",
       "1                      93273  \n",
       "2                       2271  \n",
       "3                      46525  \n",
       "4                          0  \n",
       "5                      24439  \n",
       "6                          0  \n",
       "7                          0  "
      ]
     },
     "execution_count": 72,
     "metadata": {},
     "output_type": "execute_result"
    }
   ],
   "source": [
    "CreditLedger_Table = CL_first_page.extract_tables()\n",
    "CreditLedger_df = pd.DataFrame(data=CreditLedger_Table[0][2:],columns=[i.replace(\"\\n\",\" \") for i in  CreditLedger_Table[0][0][:6] + [CreditLedger_Table[0][0][6] + ' '+ i for i in CreditLedger_Table[0][1][6:11]] + [CreditLedger_Table[0][0][11] + ' '+ i for i in CreditLedger_Table[0][1][6:11]]])\n",
    "CreditLedger_df.replace(replacers,regex=True)"
   ]
  },
  {
   "cell_type": "code",
   "execution_count": 92,
   "id": "53acbe0a",
   "metadata": {
    "ExecuteTime": {
     "end_time": "2022-05-25T11:51:18.176290Z",
     "start_time": "2022-05-25T11:51:18.161326Z"
    }
   },
   "outputs": [
    {
     "name": "stdout",
     "output_type": "stream",
     "text": [
      "Mar-21\n"
     ]
    }
   ],
   "source": [
    "fyr = ['2021-22']\n",
    "print(f\"Mar-{fyr[0][2:4]}\")"
   ]
  },
  {
   "cell_type": "code",
   "execution_count": 97,
   "id": "39528ee5",
   "metadata": {
    "ExecuteTime": {
     "end_time": "2022-05-25T11:53:27.381467Z",
     "start_time": "2022-05-25T11:53:27.358556Z"
    }
   },
   "outputs": [
    {
     "data": {
      "text/plain": [
       "'0         -\\n1    Mar-21\\n2    Mar-21\\n3    Jun-21\\n4    Jun-21\\n5    Sep-21\\n6    Sep-21\\n7         -\\nName: Tax period,  if any, dtype: object'"
      ]
     },
     "execution_count": 97,
     "metadata": {},
     "output_type": "execute_result"
    }
   ],
   "source": [
    "str(CreditLedger_df['Tax period,  if any'])"
   ]
  },
  {
   "cell_type": "code",
   "execution_count": 106,
   "id": "b4b090d5",
   "metadata": {
    "ExecuteTime": {
     "end_time": "2022-05-25T12:00:25.200931Z",
     "start_time": "2022-05-25T12:00:25.169016Z"
    }
   },
   "outputs": [
    {
     "data": {
      "text/html": [
       "<div>\n",
       "<style scoped>\n",
       "    .dataframe tbody tr th:only-of-type {\n",
       "        vertical-align: middle;\n",
       "    }\n",
       "\n",
       "    .dataframe tbody tr th {\n",
       "        vertical-align: top;\n",
       "    }\n",
       "\n",
       "    .dataframe thead th {\n",
       "        text-align: right;\n",
       "    }\n",
       "</style>\n",
       "<table border=\"1\" class=\"dataframe\">\n",
       "  <thead>\n",
       "    <tr style=\"text-align: right;\">\n",
       "      <th></th>\n",
       "      <th>Sr.No</th>\n",
       "      <th>Date</th>\n",
       "      <th>Reference  No.</th>\n",
       "      <th>Tax period,  if any</th>\n",
       "      <th>Description</th>\n",
       "      <th>Transaction Type [Debit  (DR) / Credit (CR)]</th>\n",
       "      <th>Credit/Debit ( ) Integrated  Tax</th>\n",
       "      <th>Credit/Debit ( ) Central  Tax</th>\n",
       "      <th>Credit/Debit ( ) State  Tax</th>\n",
       "      <th>Credit/Debit ( ) CESS</th>\n",
       "      <th>Credit/Debit ( ) Total</th>\n",
       "      <th>Balance Available( ) Integrated  Tax</th>\n",
       "      <th>Balance Available( ) Central  Tax</th>\n",
       "      <th>Balance Available( ) State  Tax</th>\n",
       "      <th>Balance Available( ) CESS</th>\n",
       "      <th>Balance Available( ) Total</th>\n",
       "    </tr>\n",
       "  </thead>\n",
       "  <tbody>\n",
       "    <tr>\n",
       "      <th>1</th>\n",
       "      <td>1</td>\n",
       "      <td>23/04/2021</td>\n",
       "      <td>AA360321554283G</td>\n",
       "      <td>Mar-21</td>\n",
       "      <td>ITC accrued through - \\nInputs</td>\n",
       "      <td>Credit</td>\n",
       "      <td>81931</td>\n",
       "      <td>5671</td>\n",
       "      <td>5671</td>\n",
       "      <td>0</td>\n",
       "      <td>93273</td>\n",
       "      <td>81931</td>\n",
       "      <td>5671</td>\n",
       "      <td>5671</td>\n",
       "      <td>0</td>\n",
       "      <td>93273</td>\n",
       "    </tr>\n",
       "    <tr>\n",
       "      <th>2</th>\n",
       "      <td>2</td>\n",
       "      <td>23/04/2021</td>\n",
       "      <td>DI3604210137999</td>\n",
       "      <td>Mar-21</td>\n",
       "      <td>Other than reverse \\ncharge</td>\n",
       "      <td>Debit</td>\n",
       "      <td>81931</td>\n",
       "      <td>5671</td>\n",
       "      <td>3400</td>\n",
       "      <td>0</td>\n",
       "      <td>91002</td>\n",
       "      <td>0</td>\n",
       "      <td>0</td>\n",
       "      <td>2271</td>\n",
       "      <td>0</td>\n",
       "      <td>2271</td>\n",
       "    </tr>\n",
       "  </tbody>\n",
       "</table>\n",
       "</div>"
      ],
      "text/plain": [
       "  Sr.No        Date   Reference  No. Tax period,  if any  \\\n",
       "1     1  23/04/2021  AA360321554283G              Mar-21   \n",
       "2     2  23/04/2021  DI3604210137999              Mar-21   \n",
       "\n",
       "                      Description  \\\n",
       "1  ITC accrued through - \\nInputs   \n",
       "2     Other than reverse \\ncharge   \n",
       "\n",
       "  Transaction Type [Debit  (DR) / Credit (CR)]  \\\n",
       "1                                       Credit   \n",
       "2                                        Debit   \n",
       "\n",
       "  Credit/Debit ( ) Integrated  Tax Credit/Debit ( ) Central  Tax  \\\n",
       "1                            81931                          5671   \n",
       "2                            81931                          5671   \n",
       "\n",
       "  Credit/Debit ( ) State  Tax Credit/Debit ( ) CESS Credit/Debit ( ) Total  \\\n",
       "1                        5671                     0                  93273   \n",
       "2                        3400                     0                  91002   \n",
       "\n",
       "  Balance Available( ) Integrated  Tax Balance Available( ) Central  Tax  \\\n",
       "1                                81931                              5671   \n",
       "2                                    0                                 0   \n",
       "\n",
       "  Balance Available( ) State  Tax Balance Available( ) CESS  \\\n",
       "1                            5671                         0   \n",
       "2                            2271                         0   \n",
       "\n",
       "  Balance Available( ) Total  \n",
       "1                      93273  \n",
       "2                       2271  "
      ]
     },
     "execution_count": 106,
     "metadata": {},
     "output_type": "execute_result"
    }
   ],
   "source": [
    "CreditLedger_df[CreditLedger_df[CreditLedger_df.columns[3]].str.contains(f\"Mar-{fyr[0][2:4]}\")]\n",
    "# CreditLedger_df.loc[CreditLedger_df[CreditLedger_df.columns[3]].str.contains(f\"Mar-{fyr[0][2:4]}\")]"
   ]
  },
  {
   "cell_type": "code",
   "execution_count": 130,
   "id": "59fc07e9",
   "metadata": {
    "ExecuteTime": {
     "end_time": "2022-05-25T12:11:43.204014Z",
     "start_time": "2022-05-25T12:11:43.182070Z"
    }
   },
   "outputs": [
    {
     "data": {
      "text/plain": [
       "2271"
      ]
     },
     "execution_count": 130,
     "metadata": {},
     "output_type": "execute_result"
    }
   ],
   "source": [
    "int(list(CreditLedger_df[(CreditLedger_df[CreditLedger_df.columns[3]] == (f\"Mar-{fyr[0][2:4]}\") ) & ( CreditLedger_df[CreditLedger_df.columns[5]] =='Debit' )][CreditLedger_df.columns[-1]])[0])"
   ]
  },
  {
   "cell_type": "code",
   "execution_count": null,
   "id": "c10644bb",
   "metadata": {
    "ExecuteTime": {
     "end_time": "2022-05-25T12:05:41.835540Z",
     "start_time": "2022-05-25T12:05:41.835540Z"
    }
   },
   "outputs": [],
   "source": [
    "for (i,j) in zip(list(CreditLedger_df[CreditLedger_df.columns[3]]),list(CreditLedger_df[CreditLedger_df.columns[5]]) ):\n",
    "    print(i,j)"
   ]
  },
  {
   "cell_type": "code",
   "execution_count": 84,
   "id": "079cb780",
   "metadata": {
    "ExecuteTime": {
     "end_time": "2022-05-25T11:46:40.040053Z",
     "start_time": "2022-05-25T11:46:40.028086Z"
    }
   },
   "outputs": [
    {
     "data": {
      "text/plain": [
       "['-', 'Credit', 'Debit', 'Credit', 'Debit', 'Credit', 'Debit', '-']"
      ]
     },
     "execution_count": 84,
     "metadata": {},
     "output_type": "execute_result"
    }
   ],
   "source": [
    "list(CreditLedger_df[CreditLedger_df.columns[5]])"
   ]
  },
  {
   "cell_type": "code",
   "execution_count": 123,
   "id": "74a60faf",
   "metadata": {
    "ExecuteTime": {
     "end_time": "2022-05-25T12:09:15.137174Z",
     "start_time": "2022-05-25T12:09:15.129195Z"
    }
   },
   "outputs": [
    {
     "data": {
      "text/plain": [
       "'Balance Available( ) Total'"
      ]
     },
     "execution_count": 123,
     "metadata": {},
     "output_type": "execute_result"
    }
   ],
   "source": [
    "CreditLedger_df.columns[-1]"
   ]
  },
  {
   "cell_type": "code",
   "execution_count": null,
   "id": "4c2adc60",
   "metadata": {},
   "outputs": [],
   "source": []
  }
 ],
 "metadata": {
  "hide_input": false,
  "kernelspec": {
   "display_name": "Python 3 (ipykernel)",
   "language": "python",
   "name": "python3"
  },
  "language_info": {
   "codemirror_mode": {
    "name": "ipython",
    "version": 3
   },
   "file_extension": ".py",
   "mimetype": "text/x-python",
   "name": "python",
   "nbconvert_exporter": "python",
   "pygments_lexer": "ipython3",
   "version": "3.9.7"
  },
  "nbTranslate": {
   "displayLangs": [
    "*"
   ],
   "hotkey": "alt-t",
   "langInMainMenu": true,
   "sourceLang": "en",
   "targetLang": "fr",
   "useGoogleTranslate": true
  },
  "varInspector": {
   "cols": {
    "lenName": 16,
    "lenType": 16,
    "lenVar": 40
   },
   "kernels_config": {
    "python": {
     "delete_cmd_postfix": "",
     "delete_cmd_prefix": "del ",
     "library": "var_list.py",
     "varRefreshCmd": "print(var_dic_list())"
    },
    "r": {
     "delete_cmd_postfix": ") ",
     "delete_cmd_prefix": "rm(",
     "library": "var_list.r",
     "varRefreshCmd": "cat(var_dic_list()) "
    }
   },
   "types_to_exclude": [
    "module",
    "function",
    "builtin_function_or_method",
    "instance",
    "_Feature"
   ],
   "window_display": false
  }
 },
 "nbformat": 4,
 "nbformat_minor": 5
}
