{
 "cells": [
  {
   "cell_type": "code",
   "execution_count": 64,
   "id": "4a88ab12",
   "metadata": {},
   "outputs": [],
   "source": [
    "import os"
   ]
  },
  {
   "cell_type": "code",
   "execution_count": 65,
   "id": "28b4906a",
   "metadata": {},
   "outputs": [],
   "source": [
    "# os.startfile('D:\\\\Aakash Nadupalli\\\\MCA\\\\M.C.A. 2021-2023 Admitted Students Lists.docx')"
   ]
  },
  {
   "cell_type": "code",
   "execution_count": 66,
   "id": "c534f827",
   "metadata": {},
   "outputs": [],
   "source": [
    "import pandas"
   ]
  },
  {
   "cell_type": "code",
   "execution_count": 67,
   "id": "61751015",
   "metadata": {},
   "outputs": [],
   "source": [
    "# !pip install jupyter_contrib_nbextensions"
   ]
  },
  {
   "cell_type": "code",
   "execution_count": 68,
   "id": "0cd7cc35",
   "metadata": {},
   "outputs": [],
   "source": [
    "# !jupyter contrib nbextension install --user"
   ]
  },
  {
   "cell_type": "code",
   "execution_count": 69,
   "id": "256e51da",
   "metadata": {},
   "outputs": [],
   "source": [
    "# !jupyter nbextension enable varInspector/main"
   ]
  },
  {
   "cell_type": "code",
   "execution_count": 1,
   "id": "40f5c30f",
   "metadata": {},
   "outputs": [],
   "source": [
    "import pandas as pd"
   ]
  },
  {
   "cell_type": "code",
   "execution_count": 2,
   "id": "f828322e",
   "metadata": {},
   "outputs": [],
   "source": [
    "df = pd.read_excel('D:\\\\Aakash Nadupalli\\\\MCA\\\\M.C.A. 2021-2023 Admitted Students Lists.xlsx')"
   ]
  },
  {
   "cell_type": "code",
   "execution_count": 36,
   "id": "89056f73",
   "metadata": {},
   "outputs": [
    {
     "data": {
      "text/plain": [
       "30"
      ]
     },
     "execution_count": 36,
     "metadata": {},
     "output_type": "execute_result"
    }
   ],
   "source": [
    "len(df)"
   ]
  },
  {
   "cell_type": "code",
   "execution_count": 44,
   "id": "2e29ace5",
   "metadata": {},
   "outputs": [
    {
     "data": {
      "text/html": [
       "<div>\n",
       "<style scoped>\n",
       "    .dataframe tbody tr th:only-of-type {\n",
       "        vertical-align: middle;\n",
       "    }\n",
       "\n",
       "    .dataframe tbody tr th {\n",
       "        vertical-align: top;\n",
       "    }\n",
       "\n",
       "    .dataframe thead th {\n",
       "        text-align: right;\n",
       "    }\n",
       "</style>\n",
       "<table border=\"1\" class=\"dataframe\">\n",
       "  <thead>\n",
       "    <tr style=\"text-align: right;\">\n",
       "      <th></th>\n",
       "      <th>Roll Number</th>\n",
       "    </tr>\n",
       "  </thead>\n",
       "  <tbody>\n",
       "    <tr>\n",
       "      <th>0</th>\n",
       "      <td>21031F0001</td>\n",
       "    </tr>\n",
       "    <tr>\n",
       "      <th>1</th>\n",
       "      <td>21031F0002</td>\n",
       "    </tr>\n",
       "  </tbody>\n",
       "</table>\n",
       "</div>"
      ],
      "text/plain": [
       "    Roll Number\n",
       "0  21031F0001  \n",
       "1    21031F0002"
      ]
     },
     "execution_count": 44,
     "metadata": {},
     "output_type": "execute_result"
    }
   ],
   "source": [
    "df.iloc[0:2,:1]"
   ]
  },
  {
   "cell_type": "code",
   "execution_count": 73,
   "id": "9cf2a330",
   "metadata": {},
   "outputs": [],
   "source": [
    "import random "
   ]
  },
  {
   "cell_type": "code",
   "execution_count": 74,
   "id": "5b1dc4d0",
   "metadata": {},
   "outputs": [
    {
     "data": {
      "text/plain": [
       "7"
      ]
     },
     "execution_count": 74,
     "metadata": {},
     "output_type": "execute_result"
    }
   ],
   "source": [
    "random.randint(7,9)"
   ]
  },
  {
   "cell_type": "code",
   "execution_count": 75,
   "id": "8da9ead1",
   "metadata": {},
   "outputs": [
    {
     "data": {
      "text/plain": [
       "3"
      ]
     },
     "execution_count": 75,
     "metadata": {},
     "output_type": "execute_result"
    }
   ],
   "source": [
    "random.randrange(1,10,2)"
   ]
  },
  {
   "cell_type": "code",
   "execution_count": 76,
   "id": "ab2cd5af",
   "metadata": {},
   "outputs": [
    {
     "data": {
      "text/plain": [
       "9403789370"
      ]
     },
     "execution_count": 76,
     "metadata": {},
     "output_type": "execute_result"
    }
   ],
   "source": [
    "random.randrange(9000000000,9999999999,10)"
   ]
  },
  {
   "cell_type": "code",
   "execution_count": 77,
   "id": "e4d74663",
   "metadata": {},
   "outputs": [],
   "source": [
    "PhoneNumbers = []\n",
    "for i in range(0,31):\n",
    "    PhoneNumbers.append(random.randrange(9000000000,9999999999,10))"
   ]
  },
  {
   "cell_type": "code",
   "execution_count": 78,
   "id": "7529a3b7",
   "metadata": {},
   "outputs": [
    {
     "data": {
      "text/plain": [
       "[9165600200,\n",
       " 9246548120,\n",
       " 9942413570,\n",
       " 9681406830,\n",
       " 9811189040,\n",
       " 9516299250,\n",
       " 9988464600,\n",
       " 9910417920,\n",
       " 9774344200,\n",
       " 9612571640,\n",
       " 9900634460,\n",
       " 9275348130,\n",
       " 9956629040,\n",
       " 9009187110,\n",
       " 9691756390,\n",
       " 9445283100,\n",
       " 9337150990,\n",
       " 9332938130,\n",
       " 9867122380,\n",
       " 9263780340,\n",
       " 9985477060,\n",
       " 9275202040,\n",
       " 9607977440,\n",
       " 9452479600,\n",
       " 9420788240,\n",
       " 9257677130,\n",
       " 9697876190,\n",
       " 9213550760,\n",
       " 9566844220,\n",
       " 9696296360,\n",
       " 9706767200]"
      ]
     },
     "execution_count": 78,
     "metadata": {},
     "output_type": "execute_result"
    }
   ],
   "source": [
    "import pandas\n",
    "PhoneNumbers"
   ]
  },
  {
   "cell_type": "code",
   "execution_count": 79,
   "id": "d9016d5f",
   "metadata": {},
   "outputs": [],
   "source": [
    "Pn = pd.DataFrame(PhoneNumbers)"
   ]
  },
  {
   "cell_type": "code",
   "execution_count": 80,
   "id": "4bb91ba3",
   "metadata": {},
   "outputs": [],
   "source": [
    "result = pd.concat([df, Pn], axis=1).reindex(df.index)"
   ]
  },
  {
   "cell_type": "code",
   "execution_count": 81,
   "id": "eec1c519",
   "metadata": {},
   "outputs": [],
   "source": [
    "result.rename(columns={0:\"Phone Number\"},inplace=True)"
   ]
  },
  {
   "cell_type": "code",
   "execution_count": 82,
   "id": "37ce8d8b",
   "metadata": {},
   "outputs": [
    {
     "data": {
      "text/html": [
       "<div>\n",
       "<style scoped>\n",
       "    .dataframe tbody tr th:only-of-type {\n",
       "        vertical-align: middle;\n",
       "    }\n",
       "\n",
       "    .dataframe tbody tr th {\n",
       "        vertical-align: top;\n",
       "    }\n",
       "\n",
       "    .dataframe thead th {\n",
       "        text-align: right;\n",
       "    }\n",
       "</style>\n",
       "<table border=\"1\" class=\"dataframe\">\n",
       "  <thead>\n",
       "    <tr style=\"text-align: right;\">\n",
       "      <th></th>\n",
       "      <th>Roll Number</th>\n",
       "      <th>NAME</th>\n",
       "      <th>Phone Number</th>\n",
       "    </tr>\n",
       "  </thead>\n",
       "  <tbody>\n",
       "    <tr>\n",
       "      <th>0</th>\n",
       "      <td>21031F0001</td>\n",
       "      <td>AVUSALA CHANDANA</td>\n",
       "      <td>9165600200</td>\n",
       "    </tr>\n",
       "    <tr>\n",
       "      <th>1</th>\n",
       "      <td>21031F0002</td>\n",
       "      <td>DADYREDDY DHEERAJ KUMAR REDDY</td>\n",
       "      <td>9246548120</td>\n",
       "    </tr>\n",
       "    <tr>\n",
       "      <th>2</th>\n",
       "      <td>21031F0003</td>\n",
       "      <td>GOTTUMUKKALA JESSY</td>\n",
       "      <td>9942413570</td>\n",
       "    </tr>\n",
       "    <tr>\n",
       "      <th>3</th>\n",
       "      <td>2103 IF0004</td>\n",
       "      <td>GANGAPURAM AKHILA</td>\n",
       "      <td>9681406830</td>\n",
       "    </tr>\n",
       "    <tr>\n",
       "      <th>4</th>\n",
       "      <td>21031F0005</td>\n",
       "      <td>AAKASH NADUPALLI</td>\n",
       "      <td>9811189040</td>\n",
       "    </tr>\n",
       "    <tr>\n",
       "      <th>5</th>\n",
       "      <td>21031F0006</td>\n",
       "      <td>MOMULA MARUTHI</td>\n",
       "      <td>9516299250</td>\n",
       "    </tr>\n",
       "    <tr>\n",
       "      <th>6</th>\n",
       "      <td>2103 IF0007</td>\n",
       "      <td>RENUKUNTLA SHIVA RAMA KRISHNA</td>\n",
       "      <td>9988464600</td>\n",
       "    </tr>\n",
       "    <tr>\n",
       "      <th>7</th>\n",
       "      <td>21031F0008</td>\n",
       "      <td>VEMURI VIDYA MADHURI</td>\n",
       "      <td>9910417920</td>\n",
       "    </tr>\n",
       "    <tr>\n",
       "      <th>8</th>\n",
       "      <td>21031F0009</td>\n",
       "      <td>BOLLIPALLI AKANKSHA</td>\n",
       "      <td>9774344200</td>\n",
       "    </tr>\n",
       "    <tr>\n",
       "      <th>9</th>\n",
       "      <td>21031F0010</td>\n",
       "      <td>CHINTHA CHANDANA</td>\n",
       "      <td>9612571640</td>\n",
       "    </tr>\n",
       "    <tr>\n",
       "      <th>10</th>\n",
       "      <td>21031F0011</td>\n",
       "      <td>ADITYA CHOUDARY</td>\n",
       "      <td>9900634460</td>\n",
       "    </tr>\n",
       "    <tr>\n",
       "      <th>11</th>\n",
       "      <td>21031F0012</td>\n",
       "      <td>KARNE RAMYA</td>\n",
       "      <td>9275348130</td>\n",
       "    </tr>\n",
       "    <tr>\n",
       "      <th>12</th>\n",
       "      <td>21031F0013</td>\n",
       "      <td>MULLANGI MEGHANA</td>\n",
       "      <td>9956629040</td>\n",
       "    </tr>\n",
       "    <tr>\n",
       "      <th>13</th>\n",
       "      <td>21031F0014</td>\n",
       "      <td>M HARSHITH</td>\n",
       "      <td>9009187110</td>\n",
       "    </tr>\n",
       "    <tr>\n",
       "      <th>14</th>\n",
       "      <td>21031F0015</td>\n",
       "      <td>BATTIKADI SREEDIVYA</td>\n",
       "      <td>9691756390</td>\n",
       "    </tr>\n",
       "    <tr>\n",
       "      <th>15</th>\n",
       "      <td>21031F0016</td>\n",
       "      <td>VEGESNA SATYA SRIDEVI ANUPAMA</td>\n",
       "      <td>9445283100</td>\n",
       "    </tr>\n",
       "    <tr>\n",
       "      <th>16</th>\n",
       "      <td>21031F0017</td>\n",
       "      <td>CHIKATIMARLA AKHIL</td>\n",
       "      <td>9337150990</td>\n",
       "    </tr>\n",
       "    <tr>\n",
       "      <th>17</th>\n",
       "      <td>21031F0018</td>\n",
       "      <td>DONTULA RAKESH</td>\n",
       "      <td>9332938130</td>\n",
       "    </tr>\n",
       "    <tr>\n",
       "      <th>18</th>\n",
       "      <td>21031F0019</td>\n",
       "      <td>G SANGAMESHWAR</td>\n",
       "      <td>9867122380</td>\n",
       "    </tr>\n",
       "    <tr>\n",
       "      <th>19</th>\n",
       "      <td>21031F0020</td>\n",
       "      <td>VISHWANATHAM SRILAXMI</td>\n",
       "      <td>9263780340</td>\n",
       "    </tr>\n",
       "    <tr>\n",
       "      <th>20</th>\n",
       "      <td>21031F0021</td>\n",
       "      <td>MAMIDIPELLY SAHITYA</td>\n",
       "      <td>9985477060</td>\n",
       "    </tr>\n",
       "    <tr>\n",
       "      <th>21</th>\n",
       "      <td>21031F0022</td>\n",
       "      <td>MOODA YADAGIRI</td>\n",
       "      <td>9275202040</td>\n",
       "    </tr>\n",
       "    <tr>\n",
       "      <th>22</th>\n",
       "      <td>2103 IF0023</td>\n",
       "      <td>ALLURI BABY ANJANA</td>\n",
       "      <td>9607977440</td>\n",
       "    </tr>\n",
       "    <tr>\n",
       "      <th>23</th>\n",
       "      <td>21031F0024</td>\n",
       "      <td>MACHA SAIKRISHNA</td>\n",
       "      <td>9452479600</td>\n",
       "    </tr>\n",
       "    <tr>\n",
       "      <th>24</th>\n",
       "      <td>21031F0025</td>\n",
       "      <td>AROORI Y JHANSI</td>\n",
       "      <td>9420788240</td>\n",
       "    </tr>\n",
       "    <tr>\n",
       "      <th>25</th>\n",
       "      <td>2103 IF0026</td>\n",
       "      <td>NIKHIL BHAMIDIPATI</td>\n",
       "      <td>9257677130</td>\n",
       "    </tr>\n",
       "    <tr>\n",
       "      <th>26</th>\n",
       "      <td>21031F0027</td>\n",
       "      <td>AKHILA MUDDALA</td>\n",
       "      <td>9697876190</td>\n",
       "    </tr>\n",
       "    <tr>\n",
       "      <th>27</th>\n",
       "      <td>2103 IF0028</td>\n",
       "      <td>PALLAPU RAJKUMAR</td>\n",
       "      <td>9213550760</td>\n",
       "    </tr>\n",
       "    <tr>\n",
       "      <th>28</th>\n",
       "      <td>21031F0029</td>\n",
       "      <td>JATAVATH SINDHU</td>\n",
       "      <td>9566844220</td>\n",
       "    </tr>\n",
       "    <tr>\n",
       "      <th>29</th>\n",
       "      <td>21031F0030</td>\n",
       "      <td>RAHUL AGARWAL</td>\n",
       "      <td>9696296360</td>\n",
       "    </tr>\n",
       "  </tbody>\n",
       "</table>\n",
       "</div>"
      ],
      "text/plain": [
       "     Roll Number                           NAME  Phone Number\n",
       "0   21031F0001                 AVUSALA CHANDANA    9165600200\n",
       "1     21031F0002  DADYREDDY DHEERAJ KUMAR REDDY    9246548120\n",
       "2     21031F0003             GOTTUMUKKALA JESSY    9942413570\n",
       "3    2103 IF0004              GANGAPURAM AKHILA    9681406830\n",
       "4     21031F0005               AAKASH NADUPALLI    9811189040\n",
       "5     21031F0006                 MOMULA MARUTHI    9516299250\n",
       "6    2103 IF0007  RENUKUNTLA SHIVA RAMA KRISHNA    9988464600\n",
       "7     21031F0008           VEMURI VIDYA MADHURI    9910417920\n",
       "8     21031F0009            BOLLIPALLI AKANKSHA    9774344200\n",
       "9     21031F0010               CHINTHA CHANDANA    9612571640\n",
       "10    21031F0011                ADITYA CHOUDARY    9900634460\n",
       "11    21031F0012                    KARNE RAMYA    9275348130\n",
       "12    21031F0013               MULLANGI MEGHANA    9956629040\n",
       "13    21031F0014                     M HARSHITH    9009187110\n",
       "14    21031F0015            BATTIKADI SREEDIVYA    9691756390\n",
       "15    21031F0016  VEGESNA SATYA SRIDEVI ANUPAMA    9445283100\n",
       "16    21031F0017             CHIKATIMARLA AKHIL    9337150990\n",
       "17    21031F0018                 DONTULA RAKESH    9332938130\n",
       "18    21031F0019                 G SANGAMESHWAR    9867122380\n",
       "19    21031F0020          VISHWANATHAM SRILAXMI    9263780340\n",
       "20    21031F0021            MAMIDIPELLY SAHITYA    9985477060\n",
       "21    21031F0022                 MOODA YADAGIRI    9275202040\n",
       "22   2103 IF0023             ALLURI BABY ANJANA    9607977440\n",
       "23    21031F0024               MACHA SAIKRISHNA    9452479600\n",
       "24    21031F0025                AROORI Y JHANSI    9420788240\n",
       "25   2103 IF0026             NIKHIL BHAMIDIPATI    9257677130\n",
       "26    21031F0027                 AKHILA MUDDALA    9697876190\n",
       "27   2103 IF0028               PALLAPU RAJKUMAR    9213550760\n",
       "28    21031F0029                JATAVATH SINDHU    9566844220\n",
       "29    21031F0030                  RAHUL AGARWAL    9696296360"
      ]
     },
     "execution_count": 82,
     "metadata": {},
     "output_type": "execute_result"
    }
   ],
   "source": [
    "result"
   ]
  },
  {
   "cell_type": "code",
   "execution_count": 83,
   "id": "fcecb761",
   "metadata": {},
   "outputs": [
    {
     "name": "stderr",
     "output_type": "stream",
     "text": [
      "C:\\Users\\aakas\\AppData\\Local\\Temp/ipykernel_5260/1160312383.py:2: SettingWithCopyWarning: \n",
      "A value is trying to be set on a copy of a slice from a DataFrame\n",
      "\n",
      "See the caveats in the documentation: https://pandas.pydata.org/pandas-docs/stable/user_guide/indexing.html#returning-a-view-versus-a-copy\n",
      "  result[\"Roll Number\"][i] = result[\"Roll Number\"][i].replace(\" I\",\"1\")\n"
     ]
    }
   ],
   "source": [
    "for i in range(0,30):\n",
    "    result[\"Roll Number\"][i] = result[\"Roll Number\"][i].replace(\" I\",\"1\")"
   ]
  },
  {
   "cell_type": "code",
   "execution_count": 88,
   "id": "cad8dcc7",
   "metadata": {
    "collapsed": true
   },
   "outputs": [
    {
     "data": {
      "text/plain": [
       "0     9165600200\n",
       "1     9246548120\n",
       "2     9942413570\n",
       "3     9681406830\n",
       "4     9811189040\n",
       "5     9516299250\n",
       "6     9988464600\n",
       "7     9910417920\n",
       "8     9774344200\n",
       "9     9612571640\n",
       "10    9900634460\n",
       "11    9275348130\n",
       "12    9956629040\n",
       "13    9009187110\n",
       "14    9691756390\n",
       "15    9445283100\n",
       "16    9337150990\n",
       "17    9332938130\n",
       "18    9867122380\n",
       "19    9263780340\n",
       "20    9985477060\n",
       "21    9275202040\n",
       "22    9607977440\n",
       "23    9452479600\n",
       "24    9420788240\n",
       "25    9257677130\n",
       "26    9697876190\n",
       "27    9213550760\n",
       "28    9566844220\n",
       "29    9696296360\n",
       "Name: Phone Number, dtype: int64"
      ]
     },
     "execution_count": 88,
     "metadata": {},
     "output_type": "execute_result"
    }
   ],
   "source": [
    "result[\"Phone Number\"]"
   ]
  },
  {
   "cell_type": "code",
   "execution_count": 114,
   "id": "75f94dba",
   "metadata": {},
   "outputs": [
    {
     "name": "stdout",
     "output_type": "stream",
     "text": [
      "Enter Roll Number :21031F0005\n",
      "NAME            AAKASH NADUPALLI\n",
      "Phone Number          9811189040\n",
      "Name: 4, dtype: object\n"
     ]
    }
   ],
   "source": [
    "x = input(\"Enter Roll Number :\")\n",
    "for i in result[\"Roll Number\"]:\n",
    "    if x in i:\n",
    "        print(result.iloc[y.index(i),[1,2]])"
   ]
  },
  {
   "cell_type": "code",
   "execution_count": 112,
   "id": "2d7ff8f3",
   "metadata": {},
   "outputs": [
    {
     "data": {
      "text/plain": [
       "NAME            AAKASH NADUPALLI\n",
       "Phone Number          9811189040\n",
       "Name: 4, dtype: object"
      ]
     },
     "execution_count": 112,
     "metadata": {},
     "output_type": "execute_result"
    }
   ],
   "source": [
    "result.iloc[4,[1,2]]"
   ]
  },
  {
   "cell_type": "code",
   "execution_count": 60,
   "id": "06835804",
   "metadata": {},
   "outputs": [],
   "source": [
    "# for i in range(0,30):\n",
    "#     print(result[\"Roll Number\"][i])"
   ]
  },
  {
   "cell_type": "code",
   "execution_count": 86,
   "id": "246ba058",
   "metadata": {},
   "outputs": [
    {
     "data": {
      "text/plain": [
       "Roll Number                        21031F0002\n",
       "NAME            DADYREDDY DHEERAJ KUMAR REDDY\n",
       "Phone Number                       9246548120\n",
       "Name: 1, dtype: object"
      ]
     },
     "execution_count": 86,
     "metadata": {},
     "output_type": "execute_result"
    }
   ],
   "source": [
    "result.iloc[1]"
   ]
  },
  {
   "cell_type": "code",
   "execution_count": 93,
   "id": "1afd5f85",
   "metadata": {
    "collapsed": true
   },
   "outputs": [
    {
     "data": {
      "text/plain": [
       "['21031F0001  ',\n",
       " '21031F0002',\n",
       " '21031F0003',\n",
       " '21031F0004',\n",
       " '21031F0005',\n",
       " '21031F0006',\n",
       " '21031F0007',\n",
       " '21031F0008',\n",
       " '21031F0009',\n",
       " '21031F0010',\n",
       " '21031F0011',\n",
       " '21031F0012',\n",
       " '21031F0013',\n",
       " '21031F0014',\n",
       " '21031F0015',\n",
       " '21031F0016',\n",
       " '21031F0017',\n",
       " '21031F0018',\n",
       " '21031F0019',\n",
       " '21031F0020',\n",
       " '21031F0021',\n",
       " '21031F0022',\n",
       " '21031F0023',\n",
       " '21031F0024',\n",
       " '21031F0025',\n",
       " '21031F0026',\n",
       " '21031F0027',\n",
       " '21031F0028',\n",
       " '21031F0029',\n",
       " '21031F0030']"
      ]
     },
     "execution_count": 93,
     "metadata": {},
     "output_type": "execute_result"
    }
   ],
   "source": [
    "y = list(result[\"Roll Number\"])\n",
    "y"
   ]
  },
  {
   "cell_type": "code",
   "execution_count": 94,
   "id": "97f9fd69",
   "metadata": {},
   "outputs": [
    {
     "data": {
      "text/plain": [
       "4"
      ]
     },
     "execution_count": 94,
     "metadata": {},
     "output_type": "execute_result"
    }
   ],
   "source": [
    "y.index(\"21031F0005\")"
   ]
  },
  {
   "cell_type": "code",
   "execution_count": 8,
   "id": "f92cdbd2",
   "metadata": {},
   "outputs": [
    {
     "name": "stdout",
     "output_type": "stream",
     "text": [
      "Enter the number of rows:5\n",
      "        * \n",
      "      * * \n",
      "    * * * \n",
      "  * * * * \n",
      "* * * * * \n"
     ]
    }
   ],
   "source": [
    "rows = int(input(\"Enter the number of rows:\"))  \n",
    "k = 2 * rows - 2  # It is used for number of spaces  \n",
    "for i in range(0, rows):  \n",
    "    for j in range(0, k):  \n",
    "        print(end=\" \")  \n",
    "    k = k - 2   # decrement k value after each iteration  \n",
    "    for j in range(0, i + 1):  \n",
    "        print(\"* \", end=\"\")  # printing star  \n",
    "    print(\"\") "
   ]
  },
  {
   "cell_type": "code",
   "execution_count": 1,
   "id": "5dd5e466",
   "metadata": {},
   "outputs": [],
   "source": [
    "import pywhatkit"
   ]
  },
  {
   "cell_type": "code",
   "execution_count": 3,
   "id": "ef2e7479",
   "metadata": {},
   "outputs": [
    {
     "name": "stdout",
     "output_type": "stream",
     "text": [
      "In 41 Seconds WhatsApp will open and after 15 Seconds Message will be Delivered!\n"
     ]
    }
   ],
   "source": [
    "pywhatkit.sendwhatmsg(\"+919940318281\",\"Hi Nikhil Ela unnav\",14,19)"
   ]
  },
  {
   "cell_type": "code",
   "execution_count": null,
   "id": "73b8bf3f",
   "metadata": {},
   "outputs": [],
   "source": []
  }
 ],
 "metadata": {
  "kernelspec": {
   "display_name": "Python 3 (ipykernel)",
   "language": "python",
   "name": "python3"
  },
  "language_info": {
   "codemirror_mode": {
    "name": "ipython",
    "version": 3
   },
   "file_extension": ".py",
   "mimetype": "text/x-python",
   "name": "python",
   "nbconvert_exporter": "python",
   "pygments_lexer": "ipython3",
   "version": "3.9.7"
  },
  "varInspector": {
   "cols": {
    "lenName": 16,
    "lenType": 16,
    "lenVar": 40
   },
   "kernels_config": {
    "python": {
     "delete_cmd_postfix": "",
     "delete_cmd_prefix": "del ",
     "library": "var_list.py",
     "varRefreshCmd": "print(var_dic_list())"
    },
    "r": {
     "delete_cmd_postfix": ") ",
     "delete_cmd_prefix": "rm(",
     "library": "var_list.r",
     "varRefreshCmd": "cat(var_dic_list()) "
    }
   },
   "types_to_exclude": [
    "module",
    "function",
    "builtin_function_or_method",
    "instance",
    "_Feature"
   ],
   "window_display": false
  }
 },
 "nbformat": 4,
 "nbformat_minor": 5
}
