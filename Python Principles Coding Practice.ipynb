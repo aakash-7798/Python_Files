{
 "cells": [
  {
   "cell_type": "code",
   "execution_count": 1,
   "id": "b5d78012",
   "metadata": {
    "ExecuteTime": {
     "end_time": "2022-02-28T12:57:17.796273Z",
     "start_time": "2022-02-28T12:57:17.768312Z"
    }
   },
   "outputs": [
    {
     "data": {
      "text/plain": [
       "[0, 2, 4]"
      ]
     },
     "execution_count": 1,
     "metadata": {},
     "output_type": "execute_result"
    }
   ],
   "source": [
    "# Challenge\n",
    "# Capital indexes\n",
    "# Write a function named capital_indexes. \n",
    "# The function takes a single parameter, which is a string. \n",
    "# Your function should return a list of all the indexes in the string that have capital letters.\n",
    "\n",
    "# For example, calling capital_indexes(\"HeLlO\") should return the list [0, 2, 4].\n",
    "\n",
    "def capital_indexes(n):\n",
    "    # print([i for i,j in enumerate(n) if j.isupper()==True])\n",
    "    return [i for i,j in enumerate(n) if j.isupper()==True];\n",
    "capital_indexes(\"HeLlO\")"
   ]
  },
  {
   "cell_type": "code",
   "execution_count": 2,
   "id": "fe37fdb8",
   "metadata": {
    "ExecuteTime": {
     "end_time": "2022-02-28T12:58:00.157784Z",
     "start_time": "2022-02-28T12:58:00.138809Z"
    }
   },
   "outputs": [
    {
     "data": {
      "text/plain": [
       "'b'"
      ]
     },
     "execution_count": 2,
     "metadata": {},
     "output_type": "execute_result"
    }
   ],
   "source": [
    "# Challenge\n",
    "# Middle letter\n",
    "# Write a function named mid that takes a string as its parameter. \n",
    "# Your function should extract and return the middle letter. If there is no middle letter, your function should return the empty string.\n",
    "\n",
    "# For example, mid(\"abc\") should return \"b\" and mid(\"aaaa\") should return \"\".\n",
    "\n",
    "def mid(n):\n",
    "    if len(n)%2==0:\n",
    "        return (\"\")\n",
    "    else:\n",
    "        return n[len(n)//2]\n",
    "mid(\"abc\")"
   ]
  },
  {
   "cell_type": "code",
   "execution_count": 84,
   "id": "d1543391",
   "metadata": {
    "ExecuteTime": {
     "end_time": "2022-02-28T13:31:27.784528Z",
     "start_time": "2022-02-28T13:31:27.761618Z"
    }
   },
   "outputs": [
    {
     "data": {
      "text/plain": [
       "2"
      ]
     },
     "execution_count": 84,
     "metadata": {},
     "output_type": "execute_result"
    }
   ],
   "source": [
    "# Challenge\n",
    "# Online status\n",
    "# The aim of this challenge is, given a dictionary of people's online status, to count the number of people who are online.\n",
    "\n",
    "# For example, consider the following dictionary:\n",
    "\n",
    "statuses = {\n",
    "    \"Alice\": \"online\",\n",
    "    \"Bob\": \"offline\",\n",
    "    \"Eve\": \"online\",\n",
    "}\n",
    "# In this case, the number of people online is 2.\n",
    "\n",
    "# Write a function named online_count that takes one parameter. \n",
    "# The parameter is a dictionary that maps from strings of names to the string \"online\" or \"offline\", as seen above.\n",
    "\n",
    "# Your function should return the number of people who are online.\n",
    "\n",
    "\n",
    "def online_count(n):\n",
    "    return len([k for k in [n[j] for j in [i for i in n]] if k ==\"online\" ])\n",
    "online_count(statuses)"
   ]
  },
  {
   "cell_type": "code",
   "execution_count": 60,
   "id": "1d46dae8",
   "metadata": {
    "ExecuteTime": {
     "end_time": "2022-02-28T13:08:39.812489Z",
     "start_time": "2022-02-28T13:08:39.798528Z"
    }
   },
   "outputs": [
    {
     "data": {
      "text/plain": [
       "52"
      ]
     },
     "execution_count": 60,
     "metadata": {},
     "output_type": "execute_result"
    }
   ],
   "source": [
    "# Challenge\n",
    "# Randomness\n",
    "# Define a function, random_number, that takes no parameters.\n",
    "# The function must generate a random integer between 1 and 100, both inclusive, and return it.\n",
    "\n",
    "# Calling the function multiple times should (usually) return different numbers.\n",
    "\n",
    "# For example, calling random_number() some times might first return 42, then 63, then 1\n",
    "import random\n",
    "def random_number():\n",
    "    return random.choice([i for i in range(1,101)])\n",
    "random_number()"
   ]
  },
  {
   "cell_type": "code",
   "execution_count": 64,
   "id": "a151e291",
   "metadata": {
    "ExecuteTime": {
     "end_time": "2022-02-28T13:11:38.037052Z",
     "start_time": "2022-02-28T13:11:38.026084Z"
    }
   },
   "outputs": [
    {
     "data": {
      "text/plain": [
       "False"
      ]
     },
     "execution_count": 64,
     "metadata": {},
     "output_type": "execute_result"
    }
   ],
   "source": [
    "# Challenge\n",
    "# Type check\n",
    "# Write a function named only_ints that takes two parameters. \n",
    "# Your function should return True if both parameters are integers, and False otherwise.\n",
    "\n",
    "# For example, calling only_ints(1, 2) should return True, while calling only_ints(\"a\", 1) should return False.\n",
    "\n",
    "def only_ints(a,b):\n",
    "    if type(a)==int and type(b)==int:\n",
    "        return True\n",
    "    else:\n",
    "        return False\n",
    "only_ints(1,2)"
   ]
  },
  {
   "cell_type": "code",
   "execution_count": 62,
   "id": "a66b839f",
   "metadata": {
    "ExecuteTime": {
     "end_time": "2022-02-28T13:10:24.015767Z",
     "start_time": "2022-02-28T13:10:23.995821Z"
    }
   },
   "outputs": [
    {
     "data": {
      "text/plain": [
       "int"
      ]
     },
     "execution_count": 62,
     "metadata": {},
     "output_type": "execute_result"
    }
   ],
   "source": [
    "a=1\n",
    "b=2\n",
    "type(a)\n",
    "type(b)"
   ]
  },
  {
   "cell_type": "code",
   "execution_count": 115,
   "id": "98b6fa3a",
   "metadata": {
    "ExecuteTime": {
     "end_time": "2022-02-28T13:59:17.254912Z",
     "start_time": "2022-02-28T13:59:17.244942Z"
    }
   },
   "outputs": [
    {
     "data": {
      "text/plain": [
       "True"
      ]
     },
     "execution_count": 115,
     "metadata": {},
     "output_type": "execute_result"
    }
   ],
   "source": [
    "# Challenge\n",
    "# Double letters\n",
    "# The goal of this challenge is to analyze a string to check if it contains two of the same letter in a row. \n",
    "# For example, the string \"hello\" has l twice in a row, while the string \"nono\" does not have two identical letters in a row.\n",
    "\n",
    "# Define a function named double_letters that takes a single parameter.\n",
    "# The parameter is a string.\n",
    "# Your function must return True if there are two identical letters in a row in the string, and False otherwise.\n",
    "\n",
    "def double_letters(a):\n",
    "    return any([True if a[i]==a[i+1] else False for i in range(len(a)-1)])\n",
    "double_letters(\"HeLLo\")"
   ]
  },
  {
   "cell_type": "code",
   "execution_count": 210,
   "id": "f5a28c95",
   "metadata": {
    "ExecuteTime": {
     "end_time": "2022-02-28T14:42:06.299999Z",
     "start_time": "2022-02-28T14:42:06.280046Z"
    }
   },
   "outputs": [
    {
     "name": "stdout",
     "output_type": "stream",
     "text": [
      "t.e.s.t\n",
      "test\n",
      "test\n"
     ]
    }
   ],
   "source": [
    "# Challenge\n",
    "# Adding and removing dots\n",
    "# Write a function named add_dots that takes a string and adds \".\" in between each letter. For example, calling add_dots(\"test\") should return the string \"t.e.s.t\".\n",
    "\n",
    "# Then, below the add_dots function, write another function named remove_dots that removes all dots from a string. For example, calling remove_dots(\"t.e.s.t\") should return \"test\".\n",
    "\n",
    "# If both functions are correct, calling remove_dots(add_dots(string)) should return back the original string for any string.\n",
    "\n",
    "# (You may assume that the input to add_dots does not itself contain any dots.)\n",
    "\n",
    "# def add_dots(n):\n",
    "#     st = ''\n",
    "#     for i in n:\n",
    "#         st+=i+'.'\n",
    "#     return (st[:-1]) \n",
    "# def remove_dots(n):\n",
    "#     return add_dots(n).replace(\".\",\"\")\n",
    "# print(add_dots(\"test\"))\n",
    "# print(remove_dots(\"test\"))\n",
    "\n",
    "\n",
    "def add_dots(n):\n",
    "    return '.'.join(n) \n",
    "def remove_dots(n):\n",
    "    return add_dots(n).replace(\".\",\"\")\n",
    "print(add_dots(\"test\"))\n",
    "print(remove_dots(\"test\"))\n",
    "print(remove_dots(add_dots('test')))"
   ]
  },
  {
   "cell_type": "code",
   "execution_count": 218,
   "id": "1955a3a3",
   "metadata": {
    "ExecuteTime": {
     "end_time": "2022-02-28T14:51:24.772683Z",
     "start_time": "2022-02-28T14:51:24.751766Z"
    }
   },
   "outputs": [
    {
     "data": {
      "text/plain": [
       "4"
      ]
     },
     "execution_count": 218,
     "metadata": {},
     "output_type": "execute_result"
    }
   ],
   "source": [
    "# Challenge\n",
    "# Counting syllables\n",
    "# Define a function named count that takes a single parameter. \n",
    "# The parameter is a string. The string will contain a single word divided into syllables by hyphens, such as these:\n",
    "\n",
    "# \"ho-tel\"\n",
    "# \"cat\"\n",
    "# \"met-a-phor\"\n",
    "# \"ter-min-a-tor\"\n",
    "# Your function should count the number of syllables and return it.\n",
    "\n",
    "# For example, the call count(\"ho-tel\") should return 2.\n",
    "\n",
    "def count(a):\n",
    "        return len([i for i in a if i==\"-\"])+1"
   ]
  },
  {
   "cell_type": "code",
   "execution_count": 219,
   "id": "02bbb9d3",
   "metadata": {
    "ExecuteTime": {
     "end_time": "2022-02-28T14:52:21.451928Z",
     "start_time": "2022-02-28T14:52:21.440924Z"
    }
   },
   "outputs": [],
   "source": [
    "# Challenge\n",
    "# Anagrams\n",
    "# Two strings are anagrams if you can make one from the other by rearranging the letters.\n",
    "\n",
    "# Write a function named is_anagram that takes two strings as its parameters. \n",
    "# Your function should return True if the strings are anagrams, and False otherwise.\n",
    "\n",
    "# For example, the call is_anagram(\"typhoon\", \"opython\") should return True \n",
    "# while the call is_anagram(\"Alice\", \"Bob\") should return False."
   ]
  },
  {
   "cell_type": "code",
   "execution_count": 226,
   "id": "660acd50",
   "metadata": {
    "ExecuteTime": {
     "end_time": "2022-02-28T14:58:01.523505Z",
     "start_time": "2022-02-28T14:58:01.503584Z"
    }
   },
   "outputs": [
    {
     "data": {
      "text/plain": [
       "False"
      ]
     },
     "execution_count": 226,
     "metadata": {},
     "output_type": "execute_result"
    }
   ],
   "source": [
    "def is_anagram(a,b):\n",
    "    if sorted(a) == sorted(b):\n",
    "        return True\n",
    "    else:\n",
    "        return False\n",
    "is_anagram(\"Alice\",\"Bob\")"
   ]
  },
  {
   "cell_type": "code",
   "execution_count": 269,
   "id": "0955a7b0",
   "metadata": {
    "ExecuteTime": {
     "end_time": "2022-02-28T15:28:15.293277Z",
     "start_time": "2022-02-28T15:28:15.273330Z"
    }
   },
   "outputs": [],
   "source": [
    "# Challenge\n",
    "# Flatten a list\n",
    "# Write a function that takes a list of lists and flattens it into a one-dimensional list.\n",
    "\n",
    "# Name your function flatten. It should take a single parameter and return a list.\n",
    "\n",
    "# For example, calling:\n",
    "\n",
    "# flatten([[1, 2], [3, 4]])\n",
    "# Should return the list:\n",
    "\n",
    "# [1, 2, 3, 4]\n",
    "\n",
    "def flatten(n):\n",
    "    return sum(n,[])       #[j for i in n for j in i]"
   ]
  },
  {
   "cell_type": "code",
   "execution_count": null,
   "id": "e5bd16d0",
   "metadata": {},
   "outputs": [],
   "source": [
    "# Challenge\n",
    "# Min-maxing\n",
    "# Define a function named largest_difference that takes a list of numbers as its only parameter.\n",
    "\n",
    "# Your function should compute and return the difference between the largest and smallest number in the list.\n",
    "\n",
    "# For example, the call largest_difference([1, 2, 3]) should return 2 because 3 - 1 is 2.\n",
    "\n",
    "# You may assume that no numbers are smaller or larger than -100 and 100.\n",
    "def largest_difference(a):\n",
    "    return max(a) - min(a)"
   ]
  },
  {
   "cell_type": "code",
   "execution_count": 344,
   "id": "f0d50171",
   "metadata": {
    "ExecuteTime": {
     "end_time": "2022-03-01T07:37:15.595265Z",
     "start_time": "2022-03-01T07:37:15.566343Z"
    }
   },
   "outputs": [
    {
     "name": "stdout",
     "output_type": "stream",
     "text": [
      "(0, 0)\n"
     ]
    }
   ],
   "source": [
    "# Challenge\n",
    "# Tic tac toe input\n",
    "# Here's the backstory for this challenge: imagine you're writing a tic-tac-toe game, where the board looks like this:\n",
    "\n",
    "# 1:  X | O | X\n",
    "#    -----------\n",
    "# 2:    |   |  \n",
    "#    -----------\n",
    "# 3:  O |   |\n",
    "\n",
    "#     A   B  C\n",
    "# The board is represented as a 2D list:\n",
    "\n",
    "# board = [\n",
    "#     [\"X\", \"O\", \"X\"],\n",
    "#     [\" \", \" \", \" \"],\n",
    "#     [\"O\", \" \", \" \"],\n",
    "# ]\n",
    "# Imagine if your user enters \"C1\" and you need to see if there's an X or O in that cell on the board. \n",
    "# To do so, you need to translate from the string \"C1\" to row 0 and column 2 so that you can check board[row][column].\n",
    "\n",
    "# Your task is to write a function that can translate from strings of length 2 to a tuple (row, column).\n",
    "# Name your function get_row_col; \n",
    "# it should take a single parameter which is a string of length 2 consisting of an uppercase letter and a digit.\n",
    "\n",
    "# For example, \n",
    "# calling get_row_col(\"A3\") should return the \n",
    "# tuple (2, 0) because A3 corresponds to the row at index 2 and column at index 0in the board.\n",
    "\n",
    "def get_row_col(n):\n",
    "    col = n.upper()[0]\n",
    "    row = int(n.upper()[1]) - 1\n",
    "    keys = {\"A\": 0, \"B\": 1, \"C\": 2}\n",
    "    for i in keys:\n",
    "        if i == col:\n",
    "            column = keys[i]\n",
    "            return (row, column)\n",
    "print(get_row_col(\"a1\"))"
   ]
  },
  {
   "cell_type": "code",
   "execution_count": 348,
   "id": "33341b08",
   "metadata": {
    "ExecuteTime": {
     "end_time": "2022-03-01T08:02:12.400074Z",
     "start_time": "2022-03-01T08:02:12.387107Z"
    }
   },
   "outputs": [],
   "source": [
    "# Challenge\n",
    "# Consecutive zeros\n",
    "# The goal of this challenge is to analyze a binary string consisting of only zeros and ones. \n",
    "# Your code should find the biggest number of consecutive zeros in the string. For example, given the string:\n",
    "\n",
    "# \"1001101000110\"\n",
    "# The biggest number of consecutive zeros is 3.\n",
    "\n",
    "# Define a function named consecutive_zeros that takes a single parameter,\n",
    "# which is the string of zeros and ones. Your function should return the number described above."
   ]
  },
  {
   "cell_type": "code",
   "execution_count": null,
   "id": "9c9da75b",
   "metadata": {},
   "outputs": [],
   "source": [
    "# s = \"1001101000110\"\n",
    "# counts = []\n",
    "# count = 1\n",
    "# for a, b in zip(s, s[1:]):\n",
    "#     if a==b:\n",
    "#         count += 1\n",
    "#     else:\n",
    "#         counts.append((a, count))\n",
    "#         count = 1"
   ]
  },
  {
   "cell_type": "code",
   "execution_count": 403,
   "id": "429c309a",
   "metadata": {
    "ExecuteTime": {
     "end_time": "2022-03-01T08:32:35.184079Z",
     "start_time": "2022-03-01T08:32:35.168123Z"
    }
   },
   "outputs": [],
   "source": [
    "# def consecutive_zeros(s):\n",
    "#     counts = []\n",
    "#     count = 1\n",
    "#     for a, b in zip(s, s[1:]):\n",
    "#         if a==b:\n",
    "#             count += 1\n",
    "#         else:\n",
    "#             counts.append([a,count])\n",
    "#             count = 1\n",
    "#     return max([counts[i][1] for i in range(len(counts)) if counts[i][0] == \"0\"])\n",
    "# consecutive_zeros(\"0\")"
   ]
  },
  {
   "cell_type": "code",
   "execution_count": 406,
   "id": "ed831c21",
   "metadata": {
    "ExecuteTime": {
     "end_time": "2022-03-01T08:33:43.850435Z",
     "start_time": "2022-03-01T08:33:43.827523Z"
    }
   },
   "outputs": [
    {
     "data": {
      "text/plain": [
       "3"
      ]
     },
     "execution_count": 406,
     "metadata": {},
     "output_type": "execute_result"
    }
   ],
   "source": [
    "def consecutive_zeros(s):\n",
    "    return max(map(len,s.split(\"1\")))\n",
    "consecutive_zeros(s)"
   ]
  },
  {
   "cell_type": "code",
   "execution_count": 414,
   "id": "fa8b41ba",
   "metadata": {
    "ExecuteTime": {
     "end_time": "2022-03-01T08:43:48.597696Z",
     "start_time": "2022-03-01T08:43:48.559804Z"
    }
   },
   "outputs": [
    {
     "data": {
      "text/plain": [
       "True"
      ]
     },
     "execution_count": 414,
     "metadata": {},
     "output_type": "execute_result"
    }
   ],
   "source": [
    "# Challenge\n",
    "# All equal\n",
    "# Define a function named all_equal that takes a list and checks whether all elements in the list are the same.\n",
    "\n",
    "# For example, calling all_equal([1, 1, 1]) should return True.\n",
    "\n",
    "# CODE\n",
    "def all_equal(a):\n",
    "    return all([True if i==j else False for (i,j) in zip(a,a[1:])])\n",
    "all_equal([1,1,1,1])"
   ]
  },
  {
   "cell_type": "code",
   "execution_count": 433,
   "id": "43a7ffe1",
   "metadata": {
    "ExecuteTime": {
     "end_time": "2022-03-01T09:17:50.118190Z",
     "start_time": "2022-03-01T09:17:50.072310Z"
    }
   },
   "outputs": [
    {
     "data": {
      "text/plain": [
       "[(1, 3), (2, 4)]"
      ]
     },
     "execution_count": 433,
     "metadata": {},
     "output_type": "execute_result"
    }
   ],
   "source": [
    "# Challenge\n",
    "# Custom zip\n",
    "# The built-in zip function \"zips\" two lists. Write your own implementation of this function.\n",
    "\n",
    "# Define a function named zap. The function takes two parameters, a and b. These are lists.\n",
    "\n",
    "# Your function should return a list of tuples. Each tuple should contain one item from the a list and one from b.\n",
    "\n",
    "# You may assume a and b have equal lengths.\n",
    "\n",
    "# If you don't get it, think of a zipper.\n",
    "\n",
    "# For example:\n",
    "\n",
    "# zap(\n",
    "#     [0, 1, 2, 3],\n",
    "#     [5, 6, 7, 8]\n",
    "# )\n",
    "# Should return:\n",
    "\n",
    "# [(0, 5),\n",
    "#  (1, 6),\n",
    "#  (2, 7),\n",
    "#  (3, 8)]\n",
    "\n",
    "# CODE\n",
    "# def zap(a,b):\n",
    "#     return [(i,j) for (i,j) in zip(a,b)]\n",
    "# zap([0, 1, 2, 3],\n",
    "#     [5, 6, 7, 8])\n",
    "\n",
    "# a = [0,1,2,3]\n",
    "# b = [5,6,7,8]\n",
    "# l = []\n",
    "# for i in range(len(a)):\n",
    "#     for j in range(len(b)):\n",
    "#         l.append((a[i],b[j]))\n",
    "# print(l[::len(a)+1])\n",
    "\n",
    "# a = [0,1,2,3]\n",
    "# b = [5,6,7,8]\n",
    "def zap(a,b):\n",
    "    return[(a[i],b[j]) for i in range(len(a)) for j in range(len(b)) ][::len(a)+1]\n",
    "zap([1,2],[3,4])"
   ]
  },
  {
   "cell_type": "code",
   "execution_count": 434,
   "id": "3b783824",
   "metadata": {
    "ExecuteTime": {
     "end_time": "2022-03-01T09:37:38.204114Z",
     "start_time": "2022-03-01T09:37:38.186130Z"
    }
   },
   "outputs": [],
   "source": [
    "# Challenge\n",
    "# Solution validation\n",
    "# The aim of this challenge is to write code that can analyze code submissions. \n",
    "# We'll simplify things a lot to not make this too hard.\n",
    "\n",
    "# Write a function named validate that takes code represented as a string as its only parameter.\n",
    "\n",
    "# Your function should check a few things:\n",
    "\n",
    "# the code must contain the def keyword\n",
    "# otherwise return \"missing def\"\n",
    "# the code must contain the : symbol\n",
    "# otherwise return \"missing :\"\n",
    "# the code must contain ( and ) for the parameter list\n",
    "# otherwise return \"missing paren\"\n",
    "# the code must not contain ()\n",
    "# otherwise return \"missing param\"\n",
    "# the code must contain four spaces for indentation\n",
    "# otherwise return \"missing indent\"\n",
    "# the code must contain validate\n",
    "# otherwise return \"wrong name\"\n",
    "# the code must contain a return statement\n",
    "# otherwise return \"missing return\"\n",
    "# If all these conditions are satisfied, your code should return True.\n",
    "\n",
    "# Here comes the twist: your solution must return True when validating itself.\n",
    "\n"
   ]
  },
  {
   "cell_type": "code",
   "execution_count": 443,
   "id": "05c3a93b",
   "metadata": {
    "ExecuteTime": {
     "end_time": "2022-03-01T09:42:56.128203Z",
     "start_time": "2022-03-01T09:42:56.106258Z"
    }
   },
   "outputs": [
    {
     "data": {
      "text/plain": [
       "False"
      ]
     },
     "execution_count": 443,
     "metadata": {},
     "output_type": "execute_result"
    }
   ],
   "source": [
    "# Challenge\n",
    "# List xor\n",
    "# Define a function named list_xor. Your function should take three parameters: n, list1 and list2.\n",
    "\n",
    "# Your function must return whether n is exclusively in list1 or list2.\n",
    "\n",
    "# In other words, if n is in both lists or in none of the lists, return False. If n is in only one of the lists, return True.\n",
    "\n",
    "# For example:\n",
    "\n",
    "# list_xor(1, [1, 2, 3], [4, 5, 6]) == True\n",
    "# list_xor(1, [0, 2, 3], [1, 5, 6]) == True\n",
    "# list_xor(1, [1, 2, 3], [1, 5, 6]) == False\n",
    "# list_xor(1, [0, 0, 0], [4, 5, 6]) == False\n",
    "\n",
    "def list_xor(a,b,c):\n",
    "    if (a in b and a in c) or (a not in b and a not in c):\n",
    "        return False\n",
    "    else:\n",
    "        return True\n",
    "list_xor(1, [0, 0, 0], [4, 5, 6])"
   ]
  },
  {
   "cell_type": "code",
   "execution_count": 482,
   "id": "83218c9f",
   "metadata": {
    "ExecuteTime": {
     "end_time": "2022-03-01T10:12:20.710474Z",
     "start_time": "2022-03-01T10:12:20.693537Z"
    }
   },
   "outputs": [
    {
     "data": {
      "text/plain": [
       "'10,000,000'"
      ]
     },
     "execution_count": 482,
     "metadata": {},
     "output_type": "execute_result"
    }
   ],
   "source": [
    "# Challenge\n",
    "# Thousands separator\n",
    "# Write a function named format_number that takes a non-negative number as its only parameter.\n",
    "\n",
    "# Your function should convert the number to a string and add commas as a thousands separator.\n",
    "\n",
    "# For example, calling format_number(1000000) should return \"1,000,000\".\n",
    "\n",
    "def format_number(a):\n",
    "    a = str(a)\n",
    "    a = a[::-1]\n",
    "    b = \"\"\n",
    "    for i in range(len(a)):\n",
    "        if i%3==0 and i!=0:\n",
    "            b+=\",\"\n",
    "        b+=a[i]\n",
    "    b= b[::-1]\n",
    "    return b\n",
    "format_number(10000000)"
   ]
  },
  {
   "cell_type": "code",
   "execution_count": 4,
   "id": "bc95cb8c",
   "metadata": {
    "ExecuteTime": {
     "end_time": "2022-03-13T10:31:57.397161Z",
     "start_time": "2022-03-13T10:31:45.484576Z"
    }
   },
   "outputs": [
    {
     "name": "stdout",
     "output_type": "stream",
     "text": [
      "Enter any String : abcdefghijklmnopqrstuvwxyz\n",
      "{'a': 1, 'b': 1, 'c': 1, 'd': 1, 'e': 1, 'f': 1, 'g': 1, 'h': 1, 'i': 1, 'j': 1, 'k': 1, 'l': 1, 'm': 1, 'n': 1, 'o': 1, 'p': 1, 'q': 1, 'r': 1, 's': 1, 't': 1, 'u': 1, 'v': 1, 'w': 1, 'x': 1, 'y': 1, 'z': 1}\n"
     ]
    }
   ],
   "source": [
    "### count of repeated alphabets in strings\n",
    "a = input(\"Enter any String : \")\n",
    "d = {}\n",
    "for i in a:\n",
    "    if i not in d:\n",
    "        d[i] = 0\n",
    "    if i in d:\n",
    "        d[i] = d[i]+1\n",
    "print(d)"
   ]
  },
  {
   "cell_type": "code",
   "execution_count": null,
   "id": "48fc74be",
   "metadata": {},
   "outputs": [],
   "source": []
  }
 ],
 "metadata": {
  "kernelspec": {
   "display_name": "Python 3 (ipykernel)",
   "language": "python",
   "name": "python3"
  },
  "language_info": {
   "codemirror_mode": {
    "name": "ipython",
    "version": 3
   },
   "file_extension": ".py",
   "mimetype": "text/x-python",
   "name": "python",
   "nbconvert_exporter": "python",
   "pygments_lexer": "ipython3",
   "version": "3.9.7"
  },
  "nbTranslate": {
   "displayLangs": [
    "*"
   ],
   "hotkey": "alt-t",
   "langInMainMenu": true,
   "sourceLang": "en",
   "targetLang": "fr",
   "useGoogleTranslate": true
  },
  "varInspector": {
   "cols": {
    "lenName": 16,
    "lenType": 16,
    "lenVar": 40
   },
   "kernels_config": {
    "python": {
     "delete_cmd_postfix": "",
     "delete_cmd_prefix": "del ",
     "library": "var_list.py",
     "varRefreshCmd": "print(var_dic_list())"
    },
    "r": {
     "delete_cmd_postfix": ") ",
     "delete_cmd_prefix": "rm(",
     "library": "var_list.r",
     "varRefreshCmd": "cat(var_dic_list()) "
    }
   },
   "types_to_exclude": [
    "module",
    "function",
    "builtin_function_or_method",
    "instance",
    "_Feature"
   ],
   "window_display": false
  }
 },
 "nbformat": 4,
 "nbformat_minor": 5
}
