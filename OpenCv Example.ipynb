{
 "cells": [
  {
   "cell_type": "code",
   "execution_count": 2,
   "id": "ab139f09",
   "metadata": {
    "ExecuteTime": {
     "end_time": "2022-01-30T06:42:09.481227Z",
     "start_time": "2022-01-30T06:42:09.473242Z"
    }
   },
   "outputs": [],
   "source": [
    "import cv2\n",
    "import pytesseract"
   ]
  },
  {
   "cell_type": "code",
   "execution_count": 3,
   "id": "af4a9b4c",
   "metadata": {
    "ExecuteTime": {
     "end_time": "2022-01-30T06:42:11.036247Z",
     "start_time": "2022-01-30T06:42:11.023286Z"
    }
   },
   "outputs": [],
   "source": [
    "def ocr_core(img):\n",
    "    test = pytesseract.image_to_string(img)\n",
    "    return test"
   ]
  },
  {
   "cell_type": "code",
   "execution_count": 4,
   "id": "f2de8415",
   "metadata": {
    "ExecuteTime": {
     "end_time": "2022-01-30T06:42:12.790178Z",
     "start_time": "2022-01-30T06:42:12.773224Z"
    }
   },
   "outputs": [],
   "source": [
    "img = cv2.imread(\"D:\\\\Aakash Nadupalli\\\\MCA\\\\MCA 2021 NOTES\\\\OOPS_Page2.jpg\")"
   ]
  },
  {
   "cell_type": "code",
   "execution_count": 5,
   "id": "b0717966",
   "metadata": {
    "ExecuteTime": {
     "end_time": "2022-01-30T06:42:14.599112Z",
     "start_time": "2022-01-30T06:42:14.590108Z"
    }
   },
   "outputs": [],
   "source": [
    "def get_grayscale(image):\n",
    "    return cv2.cvtColor(image,cv2.COLOR_BGR2GRAY)"
   ]
  },
  {
   "cell_type": "code",
   "execution_count": 6,
   "id": "46579bb8",
   "metadata": {
    "ExecuteTime": {
     "end_time": "2022-01-30T06:42:16.377487Z",
     "start_time": "2022-01-30T06:42:16.369512Z"
    }
   },
   "outputs": [],
   "source": [
    "def remove_noise(image):\n",
    "    return cv2.medianBlur(image,5)"
   ]
  },
  {
   "cell_type": "code",
   "execution_count": 7,
   "id": "5d23250c",
   "metadata": {
    "ExecuteTime": {
     "end_time": "2022-01-30T06:42:18.077236Z",
     "start_time": "2022-01-30T06:42:18.061265Z"
    }
   },
   "outputs": [],
   "source": [
    "def thresholding(image):\n",
    "    return cv2.threshold(image,0,255,cv2.THRESH_BINARY+cv2.THRESH_OTSU)[1]"
   ]
  },
  {
   "cell_type": "code",
   "execution_count": 8,
   "id": "66c679e3",
   "metadata": {
    "ExecuteTime": {
     "end_time": "2022-01-30T06:42:20.083438Z",
     "start_time": "2022-01-30T06:42:20.057508Z"
    }
   },
   "outputs": [
    {
     "data": {
      "text/plain": [
       "array([[255, 255, 255, ..., 255, 255, 255],\n",
       "       [255, 255, 255, ..., 255, 255, 255],\n",
       "       [255, 255, 255, ..., 255, 255, 255],\n",
       "       ...,\n",
       "       [255, 255, 255, ..., 255, 255, 255],\n",
       "       [255, 255, 255, ..., 255, 255, 255],\n",
       "       [255, 255, 255, ..., 255, 255, 255]], dtype=uint8)"
      ]
     },
     "execution_count": 8,
     "metadata": {},
     "output_type": "execute_result"
    }
   ],
   "source": [
    "img = get_grayscale(img)\n",
    "img"
   ]
  },
  {
   "cell_type": "code",
   "execution_count": 9,
   "id": "e3f545c0",
   "metadata": {
    "ExecuteTime": {
     "end_time": "2022-01-30T06:42:25.597314Z",
     "start_time": "2022-01-30T06:42:25.587371Z"
    }
   },
   "outputs": [
    {
     "data": {
      "text/plain": [
       "array([[255, 255, 255, ..., 255, 255, 255],\n",
       "       [255, 255, 255, ..., 255, 255, 255],\n",
       "       [255, 255, 255, ..., 255, 255, 255],\n",
       "       ...,\n",
       "       [255, 255, 255, ..., 255, 255, 255],\n",
       "       [255, 255, 255, ..., 255, 255, 255],\n",
       "       [255, 255, 255, ..., 255, 255, 255]], dtype=uint8)"
      ]
     },
     "execution_count": 9,
     "metadata": {},
     "output_type": "execute_result"
    }
   ],
   "source": [
    "img = thresholding(img)\n",
    "img"
   ]
  },
  {
   "cell_type": "code",
   "execution_count": 10,
   "id": "811089b3",
   "metadata": {
    "ExecuteTime": {
     "end_time": "2022-01-30T06:42:31.489396Z",
     "start_time": "2022-01-30T06:42:31.467454Z"
    }
   },
   "outputs": [
    {
     "data": {
      "text/plain": [
       "array([[255, 255, 255, ..., 255, 255, 255],\n",
       "       [255, 255, 255, ..., 255, 255, 255],\n",
       "       [255, 255, 255, ..., 255, 255, 255],\n",
       "       ...,\n",
       "       [255, 255, 255, ..., 255, 255, 255],\n",
       "       [255, 255, 255, ..., 255, 255, 255],\n",
       "       [255, 255, 255, ..., 255, 255, 255]], dtype=uint8)"
      ]
     },
     "execution_count": 10,
     "metadata": {},
     "output_type": "execute_result"
    }
   ],
   "source": [
    "img = remove_noise(img)\n",
    "img"
   ]
  },
  {
   "cell_type": "code",
   "execution_count": 11,
   "id": "1449e9b7",
   "metadata": {
    "ExecuteTime": {
     "end_time": "2022-01-30T06:42:36.763583Z",
     "start_time": "2022-01-30T06:42:36.197247Z"
    },
    "collapsed": true
   },
   "outputs": [
    {
     "name": "stdout",
     "output_type": "stream",
     "text": [
      " \n",
      "\n",
      " \n",
      "\n",
      " \n",
      "\n"
     ]
    }
   ],
   "source": [
    "print(ocr_core(img))"
   ]
  },
  {
   "cell_type": "code",
   "execution_count": null,
   "id": "555166ae",
   "metadata": {},
   "outputs": [],
   "source": []
  }
 ],
 "metadata": {
  "kernelspec": {
   "display_name": "Python 3 (ipykernel)",
   "language": "python",
   "name": "python3"
  },
  "language_info": {
   "codemirror_mode": {
    "name": "ipython",
    "version": 3
   },
   "file_extension": ".py",
   "mimetype": "text/x-python",
   "name": "python",
   "nbconvert_exporter": "python",
   "pygments_lexer": "ipython3",
   "version": "3.9.7"
  },
  "nbTranslate": {
   "displayLangs": [
    "*"
   ],
   "hotkey": "alt-t",
   "langInMainMenu": true,
   "sourceLang": "en",
   "targetLang": "fr",
   "useGoogleTranslate": true
  },
  "varInspector": {
   "cols": {
    "lenName": 16,
    "lenType": 16,
    "lenVar": 40
   },
   "kernels_config": {
    "python": {
     "delete_cmd_postfix": "",
     "delete_cmd_prefix": "del ",
     "library": "var_list.py",
     "varRefreshCmd": "print(var_dic_list())"
    },
    "r": {
     "delete_cmd_postfix": ") ",
     "delete_cmd_prefix": "rm(",
     "library": "var_list.r",
     "varRefreshCmd": "cat(var_dic_list()) "
    }
   },
   "types_to_exclude": [
    "module",
    "function",
    "builtin_function_or_method",
    "instance",
    "_Feature"
   ],
   "window_display": false
  }
 },
 "nbformat": 4,
 "nbformat_minor": 5
}
