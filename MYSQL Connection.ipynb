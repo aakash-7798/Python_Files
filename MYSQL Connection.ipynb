{
 "cells": [
  {
   "cell_type": "code",
   "execution_count": 1,
   "id": "df0cd35f",
   "metadata": {
    "collapsed": true
   },
   "outputs": [
    {
     "name": "stdout",
     "output_type": "stream",
     "text": [
      "Collecting pymysql\n",
      "  Downloading PyMySQL-1.0.2-py3-none-any.whl (43 kB)\n",
      "Installing collected packages: pymysql\n",
      "Successfully installed pymysql-1.0.2\n"
     ]
    }
   ],
   "source": [
    "# !pip install pymysql"
   ]
  },
  {
   "cell_type": "code",
   "execution_count": 6,
   "id": "860567fb",
   "metadata": {
    "collapsed": true
   },
   "outputs": [
    {
     "name": "stdout",
     "output_type": "stream",
     "text": [
      "Requirement already satisfied: PyMySQL in c:\\users\\aakas\\anaconda3\\lib\\site-packages (1.0.2)\n"
     ]
    }
   ],
   "source": [
    "# !pip install PyMySQL"
   ]
  },
  {
   "cell_type": "code",
   "execution_count": 2,
   "id": "328d81b6",
   "metadata": {
    "collapsed": true
   },
   "outputs": [
    {
     "name": "stdout",
     "output_type": "stream",
     "text": [
      "Collecting mysql.connector\n",
      "  Using cached mysql_connector-2.2.9-cp39-cp39-win_amd64.whl\n",
      "Installing collected packages: mysql.connector\n",
      "Successfully installed mysql.connector-2.2.9\n"
     ]
    }
   ],
   "source": [
    "# !pip install mysql.connector"
   ]
  },
  {
   "cell_type": "code",
   "execution_count": 1,
   "id": "9c2235bc",
   "metadata": {},
   "outputs": [],
   "source": [
    "import pymysql\n",
    "import pandas as pd\n",
    "from getpass import getpass"
   ]
  },
  {
   "cell_type": "code",
   "execution_count": 2,
   "id": "80b719bb",
   "metadata": {},
   "outputs": [
    {
     "name": "stdout",
     "output_type": "stream",
     "text": [
      "Enter Password : ········\n"
     ]
    }
   ],
   "source": [
    "password = getpass(\"Enter Password : \")\n",
    "ct = pymysql.connect(host='localhost',port=int(3306),user='root',passwd=password,db='dbbook')"
   ]
  },
  {
   "cell_type": "code",
   "execution_count": 3,
   "id": "886c2776",
   "metadata": {
    "collapsed": true
   },
   "outputs": [
    {
     "data": {
      "text/html": [
       "<div>\n",
       "<style scoped>\n",
       "    .dataframe tbody tr th:only-of-type {\n",
       "        vertical-align: middle;\n",
       "    }\n",
       "\n",
       "    .dataframe tbody tr th {\n",
       "        vertical-align: top;\n",
       "    }\n",
       "\n",
       "    .dataframe thead th {\n",
       "        text-align: right;\n",
       "    }\n",
       "</style>\n",
       "<table border=\"1\" class=\"dataframe\">\n",
       "  <thead>\n",
       "    <tr style=\"text-align: right;\">\n",
       "      <th></th>\n",
       "      <th>Tables_in_dbbook</th>\n",
       "    </tr>\n",
       "  </thead>\n",
       "  <tbody>\n",
       "    <tr>\n",
       "      <th>0</th>\n",
       "      <td>advisor</td>\n",
       "    </tr>\n",
       "    <tr>\n",
       "      <th>1</th>\n",
       "      <td>classroom</td>\n",
       "    </tr>\n",
       "    <tr>\n",
       "      <th>2</th>\n",
       "      <td>course</td>\n",
       "    </tr>\n",
       "    <tr>\n",
       "      <th>3</th>\n",
       "      <td>department</td>\n",
       "    </tr>\n",
       "    <tr>\n",
       "      <th>4</th>\n",
       "      <td>instructor</td>\n",
       "    </tr>\n",
       "    <tr>\n",
       "      <th>5</th>\n",
       "      <td>prereq</td>\n",
       "    </tr>\n",
       "    <tr>\n",
       "      <th>6</th>\n",
       "      <td>section</td>\n",
       "    </tr>\n",
       "    <tr>\n",
       "      <th>7</th>\n",
       "      <td>student</td>\n",
       "    </tr>\n",
       "    <tr>\n",
       "      <th>8</th>\n",
       "      <td>takes</td>\n",
       "    </tr>\n",
       "    <tr>\n",
       "      <th>9</th>\n",
       "      <td>teaches</td>\n",
       "    </tr>\n",
       "    <tr>\n",
       "      <th>10</th>\n",
       "      <td>time_slot</td>\n",
       "    </tr>\n",
       "  </tbody>\n",
       "</table>\n",
       "</div>"
      ],
      "text/plain": [
       "   Tables_in_dbbook\n",
       "0           advisor\n",
       "1         classroom\n",
       "2            course\n",
       "3        department\n",
       "4        instructor\n",
       "5            prereq\n",
       "6           section\n",
       "7           student\n",
       "8             takes\n",
       "9           teaches\n",
       "10        time_slot"
      ]
     },
     "execution_count": 3,
     "metadata": {},
     "output_type": "execute_result"
    }
   ],
   "source": [
    "Tables_Names = pd.read_sql_query('show tables',ct)\n",
    "Tables_Names"
   ]
  },
  {
   "cell_type": "code",
   "execution_count": 6,
   "id": "50600287",
   "metadata": {
    "collapsed": true
   },
   "outputs": [
    {
     "data": {
      "text/plain": [
       "['advisor',\n",
       " 'classroom',\n",
       " 'course',\n",
       " 'department',\n",
       " 'instructor',\n",
       " 'prereq',\n",
       " 'section',\n",
       " 'student',\n",
       " 'takes',\n",
       " 'teaches',\n",
       " 'time_slot']"
      ]
     },
     "execution_count": 6,
     "metadata": {},
     "output_type": "execute_result"
    }
   ],
   "source": [
    "a = list(Tables_Names[\"Tables_in_dbbook\"])\n",
    "a"
   ]
  },
  {
   "cell_type": "code",
   "execution_count": 7,
   "id": "c6d06cef",
   "metadata": {
    "collapsed": true
   },
   "outputs": [
    {
     "data": {
      "text/plain": [
       "{'advisor': Empty DataFrame\n",
       " Columns: []\n",
       " Index: [],\n",
       " 'classroom': Empty DataFrame\n",
       " Columns: []\n",
       " Index: [],\n",
       " 'course': Empty DataFrame\n",
       " Columns: []\n",
       " Index: [],\n",
       " 'department': Empty DataFrame\n",
       " Columns: []\n",
       " Index: [],\n",
       " 'instructor': Empty DataFrame\n",
       " Columns: []\n",
       " Index: [],\n",
       " 'prereq': Empty DataFrame\n",
       " Columns: []\n",
       " Index: [],\n",
       " 'section': Empty DataFrame\n",
       " Columns: []\n",
       " Index: [],\n",
       " 'student': Empty DataFrame\n",
       " Columns: []\n",
       " Index: [],\n",
       " 'takes': Empty DataFrame\n",
       " Columns: []\n",
       " Index: [],\n",
       " 'teaches': Empty DataFrame\n",
       " Columns: []\n",
       " Index: [],\n",
       " 'time_slot': Empty DataFrame\n",
       " Columns: []\n",
       " Index: []}"
      ]
     },
     "execution_count": 7,
     "metadata": {},
     "output_type": "execute_result"
    }
   ],
   "source": [
    "Tables_With_Values = {}\n",
    "for i in a:\n",
    "    Tables_With_Values[i] = pd.DataFrame()\n",
    "Tables_With_Values"
   ]
  },
  {
   "cell_type": "code",
   "execution_count": 8,
   "id": "af163455",
   "metadata": {
    "collapsed": true
   },
   "outputs": [
    {
     "data": {
      "text/plain": [
       "{'advisor':        s_ID   i_ID\n",
       " 0     11101  14365\n",
       " 1     13403  14365\n",
       " 2     16993  14365\n",
       " 3      1827  14365\n",
       " 4     19362  14365\n",
       " ...     ...    ...\n",
       " 1995  96067  99052\n",
       " 1996  96193  99052\n",
       " 1997  97868  99052\n",
       " 1998  98940  99052\n",
       " 1999  99348  99052\n",
       " \n",
       " [2000 rows x 2 columns],\n",
       " 'classroom':      building room_number  capacity\n",
       " 0      Alumni         143      47.0\n",
       " 1      Alumni         547      26.0\n",
       " 2    Bronfman         700      12.0\n",
       " 3    Chandler         375      10.0\n",
       " 4    Chandler         804      11.0\n",
       " 5       Drown         757      18.0\n",
       " 6   Fairchild         145      27.0\n",
       " 7    Garfield         119      59.0\n",
       " 8       Gates         314      10.0\n",
       " 9       Gates         707      65.0\n",
       " 10      Grace          40      34.0\n",
       " 11    Lambeau         348      51.0\n",
       " 12  Lamberton         134      10.0\n",
       " 13  Lamberton         143      10.0\n",
       " 14       Main         425      22.0\n",
       " 15       Main          45      30.0\n",
       " 16     Nassau          45      92.0\n",
       " 17    Painter          86      97.0\n",
       " 18      Polya         808      28.0\n",
       " 19      Power         717      12.0\n",
       " 20      Power         972      10.0\n",
       " 21   Rathbone         261      60.0\n",
       " 22     Saucon         113     109.0\n",
       " 23     Saucon         180      15.0\n",
       " 24     Saucon         844      24.0\n",
       " 25    Stabler         105     113.0\n",
       " 26     Taylor         183      71.0\n",
       " 27     Taylor         812     115.0\n",
       " 28    Whitman         134     120.0\n",
       " 29    Whitman         434      32.0,\n",
       " 'course':     course_id                               title   dept_name  credits\n",
       " 0         101  Diffusion and Phase Transformation  Mech. Eng.      3.0\n",
       " 1         105                    Image Processing   Astronomy      3.0\n",
       " 2         123              Differential Equations  Mech. Eng.      3.0\n",
       " 3         127                      Thermodynamics     Geology      3.0\n",
       " 4         130               Differential Geometry     Physics      3.0\n",
       " ..        ...                                 ...         ...      ...\n",
       " 195       974                        Astronautics  Accounting      3.0\n",
       " 196       983                            Virology   Languages      4.0\n",
       " 197       984                    Music of the 50s     History      3.0\n",
       " 198       991              Transaction Processing  Psychology      3.0\n",
       " 199       998                          Immunology  Civil Eng.      4.0\n",
       " \n",
       " [200 rows x 4 columns],\n",
       " 'department':       dept_name     building     budget\n",
       " 0    Accounting       Saucon  441840.92\n",
       " 1     Astronomy       Taylor  617253.94\n",
       " 2     Athletics     Bronfman  734550.70\n",
       " 3       Biology  Candlestick  647610.55\n",
       " 4    Civil Eng.     Chandler  255041.46\n",
       " 5    Comp. Sci.    Lamberton  106378.69\n",
       " 6   Cybernetics       Mercer  794541.46\n",
       " 7    Elec. Eng.         Main  276527.61\n",
       " 8       English       Palmer  611042.66\n",
       " 9       Finance  Candlestick  866831.75\n",
       " 10      Geology       Palmer  406557.93\n",
       " 11      History       Taylor  699140.86\n",
       " 12    Languages    Linderman  601283.60\n",
       " 13    Marketing      Lambeau  210627.58\n",
       " 14         Math     Brodhead  777605.11\n",
       " 15   Mech. Eng.        Rauch  520350.65\n",
       " 16      Physics      Wrigley  942162.76\n",
       " 17    Pol. Sci.      Whitman  573745.09\n",
       " 18   Psychology     Thompson  848175.04\n",
       " 19   Statistics       Taylor  395051.74,\n",
       " 'instructor':        ID               name    dept_name     salary\n",
       " 0   14365              Lembr   Accounting   32241.56\n",
       " 1   15347               Bawa    Athletics   72140.88\n",
       " 2   16807              Yazdi    Athletics   98333.65\n",
       " 3   19368            Wieland    Pol. Sci.  124651.41\n",
       " 4   22591          DAgostino   Psychology   59706.49\n",
       " 5   25946              Liley    Languages   90891.69\n",
       " 6   28097               Kean      English   35023.18\n",
       " 7   28400          Atanassov   Statistics   84982.92\n",
       " 8   31955            Moreira   Accounting   71351.42\n",
       " 9    3199         Gustafsson   Elec. Eng.   82534.37\n",
       " 10   3335           Bourrier   Comp. Sci.   80797.83\n",
       " 11  34175              Bondi   Comp. Sci.  115469.11\n",
       " 12  35579  Soisalon-Soininen   Psychology   62579.61\n",
       " 13  36897             Morris    Marketing   43770.36\n",
       " 14  37687              Arias   Statistics  104563.38\n",
       " 15   4034             Murata    Athletics   61387.56\n",
       " 16  41930               Tung    Athletics   50482.03\n",
       " 17   4233                Luo      English   88791.45\n",
       " 18  42782          Vicentino   Elec. Eng.   34272.67\n",
       " 19  43779             Romero    Astronomy   79070.08\n",
       " 20  48507               Lent   Mech. Eng.  107978.47\n",
       " 21  48570             Sarkar    Pol. Sci.   87549.80\n",
       " 22  50330            Shuming      Physics  108011.81\n",
       " 23  50885     Konstantinides    Languages   32570.50\n",
       " 24  52647          Bancilhon    Pol. Sci.   87958.01\n",
       " 25  57180                Hau   Accounting   43966.29\n",
       " 26  58558           Dusserre    Marketing   66143.25\n",
       " 27  59795              Desyl    Languages   48803.38\n",
       " 28  63287             Jaekel    Athletics  103146.87\n",
       " 29  63395           McKinnon  Cybernetics   94333.99\n",
       " 30  64871          Gutierrez   Statistics   45310.53\n",
       " 31   6569             Mingoz      Finance  105311.38\n",
       " 32  65931            Pimenta  Cybernetics   79866.95\n",
       " 33  72553                Yin      English   46397.59\n",
       " 34  73623           Sullivan   Elec. Eng.   90038.09\n",
       " 35  74420           Voronina      Physics  121141.99\n",
       " 36  74426              Kenje    Marketing  106554.73\n",
       " 37  77346            Mahmoud      Geology   99382.59\n",
       " 38  78699              Pingr   Statistics   59303.62\n",
       " 39  79081            Ullman    Accounting   47307.10\n",
       " 40  79653             Levine   Elec. Eng.   89805.83\n",
       " 41  80759            Queiroz      Biology   45538.32\n",
       " 42  81991           Valtchev      Biology   77036.18\n",
       " 43  90376             Bietzk  Cybernetics  117836.50\n",
       " 44  90643              Choll   Statistics   57807.09\n",
       " 45  95030              Arinb   Statistics   54805.11\n",
       " 46  95709            Sakurai      English  118143.98\n",
       " 47  96895               Mird    Marketing  119921.41\n",
       " 48  97302          Bertolino   Mech. Eng.   51647.57\n",
       " 49  99052               Dale  Cybernetics   93348.83,\n",
       " 'prereq':    course_id prereq_id\n",
       " 0        696       101\n",
       " 1        612       123\n",
       " 2        795       123\n",
       " 3        376       130\n",
       " 4        558       130\n",
       " ..       ...       ...\n",
       " 95       972       958\n",
       " 96       810       966\n",
       " 97       958       969\n",
       " 98       236       984\n",
       " 99       663       998\n",
       " \n",
       " [100 rows x 2 columns],\n",
       " 'section':    course_id sec_id semester    year   building room_number time_slot_id\n",
       " 0        105      1     Fall  2009.0   Chandler         375            C\n",
       " 1        105      2     Fall  2002.0     Taylor         183            C\n",
       " 2        137      1   Spring  2002.0  Fairchild         145            I\n",
       " 3        158      1     Fall  2008.0    Whitman         434            F\n",
       " 4        158      2   Spring  2008.0     Taylor         812            D\n",
       " ..       ...    ...      ...     ...        ...         ...          ...\n",
       " 95       960      2     Fall  2006.0      Power         717            M\n",
       " 96       962      1   Spring  2008.0     Nassau          45            L\n",
       " 97       972      1   Spring  2009.0     Taylor         183            J\n",
       " 98       974      1     Fall  2003.0      Polya         808            H\n",
       " 99       991      1   Spring  2008.0  Lamberton         134            J\n",
       " \n",
       " [100 rows x 7 columns],\n",
       " 'student':          ID       name   dept_name  tot_cred\n",
       " 0      1000     Manber  Civil Eng.      39.0\n",
       " 1     10033      Zelty  Mech. Eng.      60.0\n",
       " 2     10076       Duan  Civil Eng.     105.0\n",
       " 3      1018      Colin  Civil Eng.      81.0\n",
       " 4     10204  Mediratta     Geology     112.0\n",
       " ...     ...        ...         ...       ...\n",
       " 1995  99775      Epley   Athletics     116.0\n",
       " 1996  99780      Bravo     English     100.0\n",
       " 1997   9993        Won        Math      40.0\n",
       " 1998  99949       Samo   Astronomy     125.0\n",
       " 1999  99977    Englund  Psychology      93.0\n",
       " \n",
       " [2000 rows x 4 columns],\n",
       " 'takes':           ID course_id sec_id semester    year grade\n",
       " 0       1000       239      1     Fall  2006.0    C \n",
       " 1       1000       319      1   Spring  2003.0    B+\n",
       " 2       1000       362      1     Fall  2005.0    B+\n",
       " 3       1000       493      1   Spring  2010.0    A-\n",
       " 4       1000       571      1   Spring  2004.0    C+\n",
       " ...      ...       ...    ...      ...     ...   ...\n",
       " 29995  99977       791      1   Spring  2006.0    A+\n",
       " 29996  99977       795      1   Spring  2004.0    C+\n",
       " 29997  99977       802      1   Spring  2003.0    A-\n",
       " 29998  99977       867      1     Fall  2006.0    A+\n",
       " 29999  99977       960      1     Fall  2009.0    A \n",
       " \n",
       " [30000 rows x 6 columns],\n",
       " 'teaches':        ID course_id sec_id semester    year\n",
       " 0   43779       105      1     Fall  2009.0\n",
       " 1   43779       105      2     Fall  2002.0\n",
       " 2    6569       137      1   Spring  2002.0\n",
       " 3   90376       158      1     Fall  2008.0\n",
       " 4   99052       158      2   Spring  2008.0\n",
       " ..    ...       ...    ...      ...     ...\n",
       " 95  95709       960      2     Fall  2006.0\n",
       " 96  22591       962      1   Spring  2008.0\n",
       " 97  22591       972      1   Spring  2009.0\n",
       " 98  79081       974      1     Fall  2003.0\n",
       " 99  22591       991      1   Spring  2008.0\n",
       " \n",
       " [100 rows x 5 columns],\n",
       " 'time_slot':    time_slot_id day  start_hr  start_min  end_hr  end_min\n",
       " 0             A   F       8.0        0.0     8.0     50.0\n",
       " 1             A   M       8.0        0.0     8.0     50.0\n",
       " 2             A   W       8.0        0.0     8.0     50.0\n",
       " 3             B   F       9.0        0.0     9.0     50.0\n",
       " 4             B   M       9.0        0.0     9.0     50.0\n",
       " 5             B   W       9.0        0.0     9.0     50.0\n",
       " 6             C   F      11.0        0.0    11.0     50.0\n",
       " 7             C   M      11.0        0.0    11.0     50.0\n",
       " 8             C   W      11.0        0.0    11.0     50.0\n",
       " 9             D   F      13.0        0.0    13.0     50.0\n",
       " 10            D   M      13.0        0.0    13.0     50.0\n",
       " 11            D   W      13.0        0.0    13.0     50.0\n",
       " 12            E   R      10.0       30.0    11.0     45.0\n",
       " 13            E   T      10.0       30.0    11.0     45.0\n",
       " 14            F   R      14.0       30.0    15.0     45.0\n",
       " 15            F   T      14.0       30.0    15.0     45.0\n",
       " 16            G   F      16.0        0.0    16.0     50.0\n",
       " 17            G   M      16.0        0.0    16.0     50.0\n",
       " 18            G   W      16.0        0.0    16.0     50.0\n",
       " 19            H   W      10.0        0.0    12.0     30.0}"
      ]
     },
     "execution_count": 8,
     "metadata": {},
     "output_type": "execute_result"
    }
   ],
   "source": [
    "for i in range(len(a)):\n",
    "    Tables_With_Values[a[i]] =pd.read_sql_query(f'select * from {a[i]}',ct)\n",
    "Tables_With_Values"
   ]
  },
  {
   "cell_type": "code",
   "execution_count": 17,
   "id": "429975d5",
   "metadata": {},
   "outputs": [],
   "source": [
    "for i in range(len(a)):\n",
    "    Tables_With_Values[a[i]].to_csv(f'D:\\\\Aakash Nadupalli\\\\MCA\\\\MCA 2021 Textbooks\\\\1st Semester\\\\Database Systems\\\\Database System Concepts Code Files\\\\Tables Csv Files\\\\{a[i]}.csv',index=False)"
   ]
  },
  {
   "cell_type": "code",
   "execution_count": 25,
   "id": "453edd03",
   "metadata": {},
   "outputs": [
    {
     "name": "stdout",
     "output_type": "stream",
     "text": [
      "Number of Records in Each Table :\n",
      "advisor: 2000\n",
      "classroom: 30\n",
      "course: 200\n",
      "department: 20\n",
      "instructor: 50\n",
      "prereq: 100\n",
      "section: 100\n",
      "student: 2000\n",
      "takes: 30000\n",
      "teaches: 100\n",
      "time_slot: 20\n"
     ]
    }
   ],
   "source": [
    "print(\"Number of Records in Each Table :\")\n",
    "for i in range(len(a)):\n",
    "    print(f\"{a[i]}:\",len(Tables_With_Values[a[i]]))"
   ]
  },
  {
   "cell_type": "code",
   "execution_count": 53,
   "id": "ff23eee6",
   "metadata": {},
   "outputs": [
    {
     "name": "stdout",
     "output_type": "stream",
     "text": [
      "advisor : Index(['s_ID', 'i_ID'], dtype='object')\n",
      "classroom : Index(['building', 'room_number', 'capacity'], dtype='object')\n",
      "course : Index(['course_id', 'title', 'dept_name', 'credits'], dtype='object')\n",
      "department : Index(['dept_name', 'building', 'budget'], dtype='object')\n",
      "instructor : Index(['ID', 'name', 'dept_name', 'salary'], dtype='object')\n",
      "prereq : Index(['course_id', 'prereq_id'], dtype='object')\n",
      "section : Index(['course_id', 'sec_id', 'semester', 'year', 'building', 'room_number',\n",
      "       'time_slot_id'],\n",
      "      dtype='object')\n",
      "student : Index(['ID', 'name', 'dept_name', 'tot_cred'], dtype='object')\n",
      "takes : Index(['ID', 'course_id', 'sec_id', 'semester', 'year', 'grade'], dtype='object')\n",
      "teaches : Index(['ID', 'course_id', 'sec_id', 'semester', 'year'], dtype='object')\n",
      "time_slot : Index(['time_slot_id', 'day', 'start_hr', 'start_min', 'end_hr', 'end_min'], dtype='object')\n"
     ]
    }
   ],
   "source": [
    "for i in range(len(a)):\n",
    "    print(f\"{a[i]} :\",Tables_With_Values[a[i]].columns)"
   ]
  },
  {
   "cell_type": "code",
   "execution_count": 87,
   "id": "9ba902fc",
   "metadata": {},
   "outputs": [
    {
     "data": {
      "text/html": [
       "<div>\n",
       "<style scoped>\n",
       "    .dataframe tbody tr th:only-of-type {\n",
       "        vertical-align: middle;\n",
       "    }\n",
       "\n",
       "    .dataframe tbody tr th {\n",
       "        vertical-align: top;\n",
       "    }\n",
       "\n",
       "    .dataframe thead th {\n",
       "        text-align: right;\n",
       "    }\n",
       "</style>\n",
       "<table border=\"1\" class=\"dataframe\">\n",
       "  <thead>\n",
       "    <tr style=\"text-align: right;\">\n",
       "      <th></th>\n",
       "      <th>dept_name</th>\n",
       "      <th>Sum_of_Credits</th>\n",
       "    </tr>\n",
       "  </thead>\n",
       "  <tbody>\n",
       "    <tr>\n",
       "      <th>0</th>\n",
       "      <td>Accounting</td>\n",
       "      <td>5845.0</td>\n",
       "    </tr>\n",
       "    <tr>\n",
       "      <th>1</th>\n",
       "      <td>Astronomy</td>\n",
       "      <td>7141.0</td>\n",
       "    </tr>\n",
       "    <tr>\n",
       "      <th>2</th>\n",
       "      <td>Athletics</td>\n",
       "      <td>6494.0</td>\n",
       "    </tr>\n",
       "    <tr>\n",
       "      <th>3</th>\n",
       "      <td>Biology</td>\n",
       "      <td>7034.0</td>\n",
       "    </tr>\n",
       "    <tr>\n",
       "      <th>4</th>\n",
       "      <td>Civil Eng.</td>\n",
       "      <td>7673.0</td>\n",
       "    </tr>\n",
       "    <tr>\n",
       "      <th>5</th>\n",
       "      <td>Comp. Sci.</td>\n",
       "      <td>7098.0</td>\n",
       "    </tr>\n",
       "    <tr>\n",
       "      <th>6</th>\n",
       "      <td>Cybernetics</td>\n",
       "      <td>6058.0</td>\n",
       "    </tr>\n",
       "    <tr>\n",
       "      <th>7</th>\n",
       "      <td>Elec. Eng.</td>\n",
       "      <td>6378.0</td>\n",
       "    </tr>\n",
       "    <tr>\n",
       "      <th>8</th>\n",
       "      <td>English</td>\n",
       "      <td>6479.0</td>\n",
       "    </tr>\n",
       "    <tr>\n",
       "      <th>9</th>\n",
       "      <td>Finance</td>\n",
       "      <td>6439.0</td>\n",
       "    </tr>\n",
       "    <tr>\n",
       "      <th>10</th>\n",
       "      <td>Geology</td>\n",
       "      <td>6482.0</td>\n",
       "    </tr>\n",
       "    <tr>\n",
       "      <th>11</th>\n",
       "      <td>History</td>\n",
       "      <td>8387.0</td>\n",
       "    </tr>\n",
       "    <tr>\n",
       "      <th>12</th>\n",
       "      <td>Languages</td>\n",
       "      <td>7222.0</td>\n",
       "    </tr>\n",
       "    <tr>\n",
       "      <th>13</th>\n",
       "      <td>Marketing</td>\n",
       "      <td>5579.0</td>\n",
       "    </tr>\n",
       "    <tr>\n",
       "      <th>14</th>\n",
       "      <td>Math</td>\n",
       "      <td>6263.0</td>\n",
       "    </tr>\n",
       "    <tr>\n",
       "      <th>15</th>\n",
       "      <td>Mech. Eng.</td>\n",
       "      <td>6643.0</td>\n",
       "    </tr>\n",
       "    <tr>\n",
       "      <th>16</th>\n",
       "      <td>Physics</td>\n",
       "      <td>6437.0</td>\n",
       "    </tr>\n",
       "    <tr>\n",
       "      <th>17</th>\n",
       "      <td>Pol. Sci.</td>\n",
       "      <td>7073.0</td>\n",
       "    </tr>\n",
       "    <tr>\n",
       "      <th>18</th>\n",
       "      <td>Psychology</td>\n",
       "      <td>6187.0</td>\n",
       "    </tr>\n",
       "    <tr>\n",
       "      <th>19</th>\n",
       "      <td>Statistics</td>\n",
       "      <td>5894.0</td>\n",
       "    </tr>\n",
       "  </tbody>\n",
       "</table>\n",
       "</div>"
      ],
      "text/plain": [
       "      dept_name  Sum_of_Credits\n",
       "0    Accounting          5845.0\n",
       "1     Astronomy          7141.0\n",
       "2     Athletics          6494.0\n",
       "3       Biology          7034.0\n",
       "4    Civil Eng.          7673.0\n",
       "5    Comp. Sci.          7098.0\n",
       "6   Cybernetics          6058.0\n",
       "7    Elec. Eng.          6378.0\n",
       "8       English          6479.0\n",
       "9       Finance          6439.0\n",
       "10      Geology          6482.0\n",
       "11      History          8387.0\n",
       "12    Languages          7222.0\n",
       "13    Marketing          5579.0\n",
       "14         Math          6263.0\n",
       "15   Mech. Eng.          6643.0\n",
       "16      Physics          6437.0\n",
       "17    Pol. Sci.          7073.0\n",
       "18   Psychology          6187.0\n",
       "19   Statistics          5894.0"
      ]
     },
     "execution_count": 87,
     "metadata": {},
     "output_type": "execute_result"
    }
   ],
   "source": [
    "pd.read_sql_query(\"Select dept_name,sum(tot_cred) as Sum_of_Credits from student group by dept_name\",ct)"
   ]
  },
  {
   "cell_type": "code",
   "execution_count": 89,
   "id": "fd9d87e8",
   "metadata": {},
   "outputs": [
    {
     "data": {
      "text/html": [
       "<div>\n",
       "<style scoped>\n",
       "    .dataframe tbody tr th:only-of-type {\n",
       "        vertical-align: middle;\n",
       "    }\n",
       "\n",
       "    .dataframe tbody tr th {\n",
       "        vertical-align: top;\n",
       "    }\n",
       "\n",
       "    .dataframe thead th {\n",
       "        text-align: right;\n",
       "    }\n",
       "</style>\n",
       "<table border=\"1\" class=\"dataframe\">\n",
       "  <thead>\n",
       "    <tr style=\"text-align: right;\">\n",
       "      <th></th>\n",
       "      <th>Highest_Credits</th>\n",
       "    </tr>\n",
       "  </thead>\n",
       "  <tbody>\n",
       "    <tr>\n",
       "      <th>0</th>\n",
       "      <td>8387.0</td>\n",
       "    </tr>\n",
       "  </tbody>\n",
       "</table>\n",
       "</div>"
      ],
      "text/plain": [
       "   Highest_Credits\n",
       "0           8387.0"
      ]
     },
     "execution_count": 89,
     "metadata": {},
     "output_type": "execute_result"
    }
   ],
   "source": [
    "pd.read_sql_query(\"Select max(a.Sum) as Highest_Credits from (Select dept_name,sum(tot_cred) as Sum from student group by dept_name) as a\",ct)"
   ]
  },
  {
   "cell_type": "code",
   "execution_count": 92,
   "id": "75d41618",
   "metadata": {},
   "outputs": [
    {
     "data": {
      "text/html": [
       "<div>\n",
       "<style scoped>\n",
       "    .dataframe tbody tr th:only-of-type {\n",
       "        vertical-align: middle;\n",
       "    }\n",
       "\n",
       "    .dataframe tbody tr th {\n",
       "        vertical-align: top;\n",
       "    }\n",
       "\n",
       "    .dataframe thead th {\n",
       "        text-align: right;\n",
       "    }\n",
       "</style>\n",
       "<table border=\"1\" class=\"dataframe\">\n",
       "  <thead>\n",
       "    <tr style=\"text-align: right;\">\n",
       "      <th></th>\n",
       "      <th>dept_name</th>\n",
       "      <th>Highest_Credits</th>\n",
       "    </tr>\n",
       "  </thead>\n",
       "  <tbody>\n",
       "    <tr>\n",
       "      <th>0</th>\n",
       "      <td>Accounting</td>\n",
       "      <td>8387.0</td>\n",
       "    </tr>\n",
       "  </tbody>\n",
       "</table>\n",
       "</div>"
      ],
      "text/plain": [
       "    dept_name  Highest_Credits\n",
       "0  Accounting           8387.0"
      ]
     },
     "execution_count": 92,
     "metadata": {},
     "output_type": "execute_result"
    }
   ],
   "source": [
    "pd.read_sql_query(\"Select a.dept_name,max(a.Sum) as Highest_Credits from (Select dept_name,sum(tot_cred) as Sum from student group by dept_name) as a  where a.Sum = (Select max(a.Sum) as Highest_Credits from (Select dept_name,sum(tot_cred) as Sum from student group by dept_name) as a)\",ct)"
   ]
  },
  {
   "cell_type": "code",
   "execution_count": 41,
   "id": "bebd8fea",
   "metadata": {},
   "outputs": [
    {
     "data": {
      "text/plain": [
       "25466"
      ]
     },
     "execution_count": 41,
     "metadata": {},
     "output_type": "execute_result"
    }
   ],
   "source": [
    "int(Tables_With_Values[a[0]]['s_ID'][0]) + int(Tables_With_Values[a[0]]['i_ID'][0])"
   ]
  },
  {
   "cell_type": "code",
   "execution_count": 85,
   "id": "4ce28239",
   "metadata": {},
   "outputs": [
    {
     "data": {
      "text/html": [
       "<div>\n",
       "<style scoped>\n",
       "    .dataframe tbody tr th:only-of-type {\n",
       "        vertical-align: middle;\n",
       "    }\n",
       "\n",
       "    .dataframe tbody tr th {\n",
       "        vertical-align: top;\n",
       "    }\n",
       "\n",
       "    .dataframe thead th {\n",
       "        text-align: right;\n",
       "    }\n",
       "</style>\n",
       "<table border=\"1\" class=\"dataframe\">\n",
       "  <thead>\n",
       "    <tr style=\"text-align: right;\">\n",
       "      <th></th>\n",
       "      <th>max(tot_cred)</th>\n",
       "    </tr>\n",
       "  </thead>\n",
       "  <tbody>\n",
       "    <tr>\n",
       "      <th>0</th>\n",
       "      <td>129.0</td>\n",
       "    </tr>\n",
       "  </tbody>\n",
       "</table>\n",
       "</div>"
      ],
      "text/plain": [
       "   max(tot_cred)\n",
       "0          129.0"
      ]
     },
     "execution_count": 85,
     "metadata": {},
     "output_type": "execute_result"
    }
   ],
   "source": [
    "pd.read_sql_query(\"select max(tot_cred) from student\",ct)"
   ]
  },
  {
   "cell_type": "code",
   "execution_count": 86,
   "id": "657d7060",
   "metadata": {},
   "outputs": [
    {
     "data": {
      "text/html": [
       "<div>\n",
       "<style scoped>\n",
       "    .dataframe tbody tr th:only-of-type {\n",
       "        vertical-align: middle;\n",
       "    }\n",
       "\n",
       "    .dataframe tbody tr th {\n",
       "        vertical-align: top;\n",
       "    }\n",
       "\n",
       "    .dataframe thead th {\n",
       "        text-align: right;\n",
       "    }\n",
       "</style>\n",
       "<table border=\"1\" class=\"dataframe\">\n",
       "  <thead>\n",
       "    <tr style=\"text-align: right;\">\n",
       "      <th></th>\n",
       "      <th>dept_name</th>\n",
       "      <th>Highest_Credits</th>\n",
       "    </tr>\n",
       "  </thead>\n",
       "  <tbody>\n",
       "    <tr>\n",
       "      <th>0</th>\n",
       "      <td>Physics</td>\n",
       "      <td>128.0</td>\n",
       "    </tr>\n",
       "  </tbody>\n",
       "</table>\n",
       "</div>"
      ],
      "text/plain": [
       "  dept_name  Highest_Credits\n",
       "0   Physics            128.0"
      ]
     },
     "execution_count": 86,
     "metadata": {},
     "output_type": "execute_result"
    }
   ],
   "source": [
    "pd.read_sql_query(\"select a.dept_name,max(a.tot_cred) as Highest_Credits from (Select dept_name,tot_cred from student group by dept_name) as a where a.tot_cred = 128 \",ct)"
   ]
  },
  {
   "cell_type": "code",
   "execution_count": null,
   "id": "c0e239b7",
   "metadata": {},
   "outputs": [],
   "source": []
  }
 ],
 "metadata": {
  "kernelspec": {
   "display_name": "Python 3 (ipykernel)",
   "language": "python",
   "name": "python3"
  },
  "language_info": {
   "codemirror_mode": {
    "name": "ipython",
    "version": 3
   },
   "file_extension": ".py",
   "mimetype": "text/x-python",
   "name": "python",
   "nbconvert_exporter": "python",
   "pygments_lexer": "ipython3",
   "version": "3.9.7"
  },
  "nbTranslate": {
   "displayLangs": [
    "*"
   ],
   "hotkey": "alt-t",
   "langInMainMenu": true,
   "sourceLang": "en",
   "targetLang": "fr",
   "useGoogleTranslate": true
  },
  "varInspector": {
   "cols": {
    "lenName": 16,
    "lenType": 16,
    "lenVar": 40
   },
   "kernels_config": {
    "python": {
     "delete_cmd_postfix": "",
     "delete_cmd_prefix": "del ",
     "library": "var_list.py",
     "varRefreshCmd": "print(var_dic_list())"
    },
    "r": {
     "delete_cmd_postfix": ") ",
     "delete_cmd_prefix": "rm(",
     "library": "var_list.r",
     "varRefreshCmd": "cat(var_dic_list()) "
    }
   },
   "types_to_exclude": [
    "module",
    "function",
    "builtin_function_or_method",
    "instance",
    "_Feature"
   ],
   "window_display": false
  }
 },
 "nbformat": 4,
 "nbformat_minor": 5
}
