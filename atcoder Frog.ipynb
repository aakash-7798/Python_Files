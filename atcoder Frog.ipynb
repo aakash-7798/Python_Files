{
 "cells": [
  {
   "cell_type": "code",
   "execution_count": 1,
   "id": "2ac1657e",
   "metadata": {
    "ExecuteTime": {
     "end_time": "2022-02-22T14:37:31.001818Z",
     "start_time": "2022-02-22T14:37:30.981872Z"
    }
   },
   "outputs": [],
   "source": [
    "import numpy as np"
   ]
  },
  {
   "cell_type": "code",
   "execution_count": 2,
   "id": "93728727",
   "metadata": {
    "ExecuteTime": {
     "end_time": "2022-02-22T14:37:38.801621Z",
     "start_time": "2022-02-22T14:37:32.572880Z"
    }
   },
   "outputs": [
    {
     "name": "stdout",
     "output_type": "stream",
     "text": [
      "Enter N Stones : 4\n",
      "Enter Height of Each Stone : 10 30 20 40\n",
      "4\n",
      "[10, 30, 20, 40]\n"
     ]
    }
   ],
   "source": [
    "## https://atcoder.jp/contests/dp/tasks/dp_a\n",
    "n  = int(input(\"Enter N Stones : \"))\n",
    "h = list(map(int,input(\"Enter Height of Each Stone : \").split()))\n",
    "print(n)\n",
    "print(h)"
   ]
  },
  {
   "cell_type": "code",
   "execution_count": null,
   "id": "3e2ed399",
   "metadata": {},
   "outputs": [],
   "source": [
    "solutions = []\n",
    "solutions.append(0,h[1]-h[0])\n"
   ]
  }
 ],
 "metadata": {
  "kernelspec": {
   "display_name": "Python 3 (ipykernel)",
   "language": "python",
   "name": "python3"
  },
  "language_info": {
   "codemirror_mode": {
    "name": "ipython",
    "version": 3
   },
   "file_extension": ".py",
   "mimetype": "text/x-python",
   "name": "python",
   "nbconvert_exporter": "python",
   "pygments_lexer": "ipython3",
   "version": "3.9.7"
  },
  "nbTranslate": {
   "displayLangs": [
    "*"
   ],
   "hotkey": "alt-t",
   "langInMainMenu": true,
   "sourceLang": "en",
   "targetLang": "fr",
   "useGoogleTranslate": true
  },
  "varInspector": {
   "cols": {
    "lenName": 16,
    "lenType": 16,
    "lenVar": 40
   },
   "kernels_config": {
    "python": {
     "delete_cmd_postfix": "",
     "delete_cmd_prefix": "del ",
     "library": "var_list.py",
     "varRefreshCmd": "print(var_dic_list())"
    },
    "r": {
     "delete_cmd_postfix": ") ",
     "delete_cmd_prefix": "rm(",
     "library": "var_list.r",
     "varRefreshCmd": "cat(var_dic_list()) "
    }
   },
   "types_to_exclude": [
    "module",
    "function",
    "builtin_function_or_method",
    "instance",
    "_Feature"
   ],
   "window_display": false
  }
 },
 "nbformat": 4,
 "nbformat_minor": 5
}
