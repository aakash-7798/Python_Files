{
 "cells": [
  {
   "cell_type": "code",
   "execution_count": 1,
   "id": "21497334",
   "metadata": {},
   "outputs": [],
   "source": [
    "import math\n",
    "import numpy as np"
   ]
  },
  {
   "cell_type": "code",
   "execution_count": 12,
   "id": "e0a8e151",
   "metadata": {},
   "outputs": [
    {
     "name": "stdout",
     "output_type": "stream",
     "text": [
      "Enter N : 3\n"
     ]
    }
   ],
   "source": [
    "n = [int(input(\"Enter N : \"))]"
   ]
  },
  {
   "cell_type": "code",
   "execution_count": 3,
   "id": "d589f70e",
   "metadata": {},
   "outputs": [
    {
     "name": "stdout",
     "output_type": "stream",
     "text": [
      "Enter Sequence : 1 2 3 4 5 6 7 8 9 10 11 12 13 14 15 16\n",
      "[1, 2, 3, 4, 5, 6, 7, 8, 9, 10, 11, 12, 13, 14, 15, 16]\n"
     ]
    }
   ],
   "source": [
    "x = list(map(int,input(\"Enter Sequence : \").split()[:2**n[0]]))\n",
    "print(x)"
   ]
  },
  {
   "cell_type": "code",
   "execution_count": 426,
   "id": "624bc35d",
   "metadata": {},
   "outputs": [
    {
     "data": {
      "text/plain": [
       "[array([4, 6]), array([3, 5])]"
      ]
     },
     "execution_count": 426,
     "metadata": {},
     "output_type": "execute_result"
    }
   ],
   "source": [
    "np.array_split(x,int(len(x)/2))"
   ]
  },
  {
   "cell_type": "code",
   "execution_count": 4,
   "id": "35ba51ab",
   "metadata": {},
   "outputs": [
    {
     "data": {
      "text/plain": [
       "[[1, 2], [3, 4], [5, 6], [7, 8], [9, 10], [11, 12], [13, 14], [15, 16]]"
      ]
     },
     "execution_count": 4,
     "metadata": {},
     "output_type": "execute_result"
    }
   ],
   "source": [
    "lstnew = [list(np.array_split(x,int(len(x)/2))[i]) for i in range(0,int(len(x)/2))]\n",
    "lstnew"
   ]
  },
  {
   "cell_type": "code",
   "execution_count": 5,
   "id": "a6c05869",
   "metadata": {},
   "outputs": [
    {
     "data": {
      "text/plain": [
       "[3, 7, 7, 15, 11, 15, 15, 31]"
      ]
     },
     "execution_count": 5,
     "metadata": {},
     "output_type": "execute_result"
    }
   ],
   "source": [
    "for i in range(len(lstnew)):\n",
    "    lstnew[i] =(lstnew[i][0] | lstnew[i][1])\n",
    "lstnew"
   ]
  },
  {
   "cell_type": "code",
   "execution_count": 6,
   "id": "ca6c68a2",
   "metadata": {},
   "outputs": [
    {
     "data": {
      "text/plain": [
       "[[3, 7], [7, 15], [11, 15], [15, 31]]"
      ]
     },
     "execution_count": 6,
     "metadata": {},
     "output_type": "execute_result"
    }
   ],
   "source": [
    "lstnew = [list(np.array_split(lstnew,math.ceil(len(lstnew)/2))[i]) for i in range(0,math.ceil(len(lstnew)/2))]\n",
    "lstnew"
   ]
  },
  {
   "cell_type": "code",
   "execution_count": 7,
   "id": "2ec62573",
   "metadata": {},
   "outputs": [
    {
     "data": {
      "text/plain": [
       "[4, 8, 4, 16]"
      ]
     },
     "execution_count": 7,
     "metadata": {},
     "output_type": "execute_result"
    }
   ],
   "source": [
    "for i in range(len(lstnew)):\n",
    "    lstnew[i] = (lstnew[i][0] ^ lstnew[i][1])\n",
    "lstnew"
   ]
  },
  {
   "cell_type": "code",
   "execution_count": 8,
   "id": "27da3484",
   "metadata": {},
   "outputs": [
    {
     "data": {
      "text/plain": [
       "[[4, 8], [4, 16]]"
      ]
     },
     "execution_count": 8,
     "metadata": {},
     "output_type": "execute_result"
    }
   ],
   "source": [
    "lstnew = [list(np.array_split(lstnew,math.ceil(len(lstnew)/2))[i]) for i in range(0,math.ceil(len(lstnew)/2))]\n",
    "lstnew"
   ]
  },
  {
   "cell_type": "code",
   "execution_count": 9,
   "id": "0607b273",
   "metadata": {},
   "outputs": [
    {
     "data": {
      "text/plain": [
       "12"
      ]
     },
     "execution_count": 9,
     "metadata": {},
     "output_type": "execute_result"
    }
   ],
   "source": [
    "for i in range(len(lstnew)):\n",
    "    lstnew[i]=(lstnew[i][0] | lstnew[i][1])\n",
    "lstnew = [list(np.array_split(lstnew,math.ceil(len(lstnew)/2))[i]) for i in range(0,math.ceil(len(lstnew)/2))]\n",
    "lstnew[0][0]"
   ]
  },
  {
   "cell_type": "code",
   "execution_count": null,
   "id": "608663a4",
   "metadata": {},
   "outputs": [],
   "source": [
    "for i in range(len(lstnew)):\n",
    "    lstnew[i] =(lstnew[i][0] ^ lstnew[i][1])\n",
    "lstnew = [list(np.array_split(lstnew,math.ceil(len(lstnew)/2))[i]) for i in range(0,math.ceil(len(lstnew)/2))]\n",
    "lstnew"
   ]
  },
  {
   "cell_type": "code",
   "execution_count": 13,
   "id": "76450832",
   "metadata": {},
   "outputs": [
    {
     "data": {
      "text/plain": [
       "[0, 1, 0]"
      ]
     },
     "execution_count": 13,
     "metadata": {},
     "output_type": "execute_result"
    }
   ],
   "source": [
    "ox = []\n",
    "for i in range(n[0]):\n",
    "    ox.append(0)\n",
    "    ox.append(1)\n",
    "    ox = ox[:n[0]]\n",
    "ox"
   ]
  },
  {
   "cell_type": "code",
   "execution_count": null,
   "id": "215ee514",
   "metadata": {},
   "outputs": [],
   "source": [
    "# n = [int(input(\"Enter N : \"))]\n",
    "# x = list(map(int,input(\"Enter Sequence : \").split()[:2**n[0]]))\n",
    "# lstnew = [list(np.array_split(x,int(len(x)/2))[i]) for i in range(0,int(len(x)/2))]\n",
    "# ox = []\n",
    "# for i in range(n[0]):\n",
    "#     ox.append(0)\n",
    "#     ox.append(1)\n",
    "# ox = ox[:n[0]]\n",
    "# for i in ox:\n",
    "#     if i==0:\n",
    "#         for i in range(len(lstnew)):\n",
    "#             lstnew.append(lstnew[i][0] | lstnew[i][1])\n",
    "#             lstnew[i].clear()\n",
    "#             lstnew[i].clear()\n",
    "#         lstnew = lstnew[math.ceil(len(lstnew)/2):]\n",
    "#         lstnew = [list(np.array_split(lstnew,math.ceil(len(lstnew)/2))[i]) for i in range(0,math.ceil(len(lstnew)/2))]\n",
    "#     elif i==1:\n",
    "#         for i in range(len(lstnew)):\n",
    "#             lstnew.append(lstnew[i][0] ^ lstnew[i][1])\n",
    "#             lstnew[i].clear()\n",
    "#             lstnew[i].clear()\n",
    "#         lstnew = lstnew[math.ceil(len(lstnew)/2):]\n",
    "#         lstnew = [list(np.array_split(lstnew,math.ceil(len(lstnew)/2))[i]) for i in range(0,math.ceil(len(lstnew)/2))]\n",
    "# lstnew[0][0]"
   ]
  },
  {
   "cell_type": "code",
   "execution_count": 279,
   "id": "0fbf9b06",
   "metadata": {},
   "outputs": [
    {
     "name": "stdout",
     "output_type": "stream",
     "text": [
      "Enter N : 3\n",
      "Enter Sequence : 1 2 3 4 5 6 7 8\n"
     ]
    },
    {
     "data": {
      "text/plain": [
       "[[4, 8]]"
      ]
     },
     "execution_count": 279,
     "metadata": {},
     "output_type": "execute_result"
    }
   ],
   "source": [
    "# n = [int(input(\"Enter N : \"))]\n",
    "# x = list(map(int,input(\"Enter Sequence : \").split()[:2**n[0]]))\n",
    "# lstnew = [list(np.array_split(x,int(len(x)/2))[i]) for i in range(0,int(len(x)/2))]\n",
    "# for i in range(len(lstnew)):\n",
    "#     lstnew.append(lstnew[i][0] | lstnew[i][1])\n",
    "#     lstnew[i].clear()\n",
    "#     lstnew[i].clear()\n",
    "# lstnew = lstnew[int(len(x)/2):]\n",
    "# lstnew = [list(np.array_split(lstnew,int(len(lstnew)/2))[i]) for i in range(0,int(len(lstnew)/2))]\n",
    "# for i in range(len(lstnew)):\n",
    "#     lstnew.append(lstnew[i][0] ^ lstnew[i][1])\n",
    "#     lstnew[i].clear()\n",
    "#     lstnew[i].clear()\n",
    "# lstnew = lstnew[int(len(lstnew)/2):]\n",
    "# lstnew = [list(np.array_split(lstnew,math.ceil(len(lstnew)/2))[i]) for i in range(0,math.ceil(len(lstnew)/2))]\n",
    "# lstnew"
   ]
  },
  {
   "cell_type": "code",
   "execution_count": 356,
   "id": "bf29b7ca",
   "metadata": {},
   "outputs": [
    {
     "name": "stdout",
     "output_type": "stream",
     "text": [
      "Enter N : 4\n",
      "Enter Sequence : 1 2 3 4 5 6 7 8 9 10 11 12 13 14 15 16\n"
     ]
    },
    {
     "data": {
      "text/plain": [
       "24"
      ]
     },
     "execution_count": 356,
     "metadata": {},
     "output_type": "execute_result"
    }
   ],
   "source": [
    "# n = [int(input(\"Enter N : \"))]\n",
    "# x = list(map(int,input(\"Enter Sequence : \").split()[:2**n[0]]))\n",
    "# lstnew = [list(np.array_split(x,int(len(x)/2))[i]) for i in range(0,int(len(x)/2))]\n",
    "# ox = []\n",
    "# for i in range(n[0]):\n",
    "#     ox.append(0)\n",
    "#     ox.append(1)\n",
    "# ox = ox[:n[0]]\n",
    "# for i in ox:\n",
    "#     if i==0:\n",
    "#         for i in range(len(lstnew)):\n",
    "#             lstnew.append(lstnew[i][0] | lstnew[i][1])\n",
    "#             lstnew[i].clear()\n",
    "#             lstnew[i].clear()\n",
    "#         lstnew = lstnew[math.ceil(len(lstnew)/2):]\n",
    "#         lstnew = [list(np.array_split(lstnew,math.ceil(len(lstnew)/2))[i]) for i in range(0,math.ceil(len(lstnew)/2))]\n",
    "#     elif i==1:\n",
    "#         for i in range(len(lstnew)):\n",
    "#             lstnew.append(lstnew[i][0] ^ lstnew[i][1])\n",
    "#             lstnew[i].clear()\n",
    "#             lstnew[i].clear()\n",
    "#         lstnew = lstnew[math.ceil(len(lstnew)/2):]\n",
    "#         lstnew = [list(np.array_split(lstnew,math.ceil(len(lstnew)/2))[i]) for i in range(0,math.ceil(len(lstnew)/2))]\n",
    "# lstnew[0][0]"
   ]
  },
  {
   "cell_type": "code",
   "execution_count": 361,
   "id": "dde111d5",
   "metadata": {
    "collapsed": true
   },
   "outputs": [
    {
     "name": "stdout",
     "output_type": "stream",
     "text": [
      "Enter Integer and No of Queries : 2 4\n",
      "Enter Sequence : 1 6 3 5\n",
      "Enter Queries : 1 4\n",
      "Enter Queries : 3 4\n",
      "Enter Queries : 1 2\n",
      "Enter Queries : 1 2\n",
      "1\n",
      "3\n",
      "3\n",
      "3\n"
     ]
    }
   ],
   "source": [
    "# from segment_tree import SegmentTree\n",
    "# import numpy as np\n",
    "# n = list(map(int,input(\"Enter Integer and No of Queries : \").split()))\n",
    "# x = list(map(int,input(\"Enter Sequence : \").split()[:2**n[0]]))\n",
    "# Que = []\n",
    "# for i in range(n[1]):\n",
    "#     Que.append(list(map(int,input(\"Enter Queries : \").split())))\n",
    "# for i in range(len(Que)):\n",
    "#     SegmentTree(x).update(Que[i][0]-1,Que[i][1])\n",
    "#     lstnew = [list(np.array_split(x,int(len(x)/2))[k]) for k in range(0,int(len(x)/2))]\n",
    "#     ox = []\n",
    "#     for j in range(n[0]):\n",
    "#         ox.append(0)\n",
    "#         ox.append(1)\n",
    "#         ox = ox[:n[0]]\n",
    "#     for l in ox:\n",
    "#         if l==0:\n",
    "#             for p in range(len(lstnew)):\n",
    "#                 lstnew.append(lstnew[p][0] | lstnew[p][1])\n",
    "#                 lstnew[p].clear()\n",
    "#                 lstnew[p].clear()\n",
    "#             lstnew = lstnew[math.ceil(len(lstnew)/2):]\n",
    "#             lstnew = [list(np.array_split(lstnew,math.ceil(len(lstnew)/2))[a]) for a in range(0,math.ceil(len(lstnew)/2))]\n",
    "#         elif l==1:\n",
    "#             for b in range(len(lstnew)):\n",
    "#                 lstnew.append(lstnew[b][0] ^ lstnew[b][1])\n",
    "#                 lstnew[b].clear()\n",
    "#                 lstnew[b].clear()\n",
    "#             lstnew = lstnew[math.ceil(len(lstnew)/2):]\n",
    "#             lstnew = [list(np.array_split(lstnew,math.ceil(len(lstnew)/2))[c]) for c in range(0,math.ceil(len(lstnew)/2))]\n",
    "#     print(lstnew[0][0])"
   ]
  },
  {
   "cell_type": "code",
   "execution_count": 364,
   "id": "7c59105a",
   "metadata": {},
   "outputs": [
    {
     "name": "stdout",
     "output_type": "stream",
     "text": [
      "Enter Integer and No of Queries : 3 4\n",
      "Enter Sequence : 0 2 3 4 5 6 7 8 9 10\n",
      "Enter Queries : 1 1\n",
      "Enter Queries : 2 2\n",
      "Enter Queries : 3 3\n",
      "Enter Queries : 4 4\n",
      "12\n",
      "12\n",
      "12\n",
      "12\n"
     ]
    }
   ],
   "source": [
    "# from segment_tree import SegmentTree\n",
    "# import numpy as np\n",
    "# import math\n",
    "# n = list(map(int,input(\"Enter Integer and No of Queries : \").split()))\n",
    "# x = list(map(int,input(\"Enter Sequence : \").split()[:2**n[0]]))\n",
    "# Que = []\n",
    "# for i in range(n[1]):\n",
    "#     Que.append(list(map(int,input(\"Enter Queries : \").split())))\n",
    "# for i in range(len(Que)):\n",
    "#     SegmentTree(x).update(Que[i][0]-1,Que[i][1])\n",
    "#     lstnew = [list(np.array_split(x,int(len(x)/2))[i]) for i in range(0,int(len(x)/2))]\n",
    "#     ox = []\n",
    "#     for i in range(n[0]):\n",
    "#         ox.append(0)\n",
    "#         ox.append(1)\n",
    "#         ox = ox[:n[0]]\n",
    "#     for i in ox:\n",
    "#         if i==0:\n",
    "#             for i in range(len(lstnew)):\n",
    "#                 lstnew.append(lstnew[i][0] | lstnew[i][1])\n",
    "#                 lstnew[i].clear()\n",
    "#                 lstnew[i].clear()\n",
    "#             lstnew = lstnew[math.ceil(len(lstnew)/2):]\n",
    "#             lstnew = [list(np.array_split(lstnew,math.ceil(len(lstnew)/2))[i]) for i in range(0,math.ceil(len(lstnew)/2))]\n",
    "#         elif i==1:\n",
    "#             for i in range(len(lstnew)):\n",
    "#                 lstnew.append(lstnew[i][0] ^ lstnew[i][1])\n",
    "#                 lstnew[i].clear()\n",
    "#                 lstnew[i].clear()\n",
    "#             lstnew = lstnew[math.ceil(len(lstnew)/2):]\n",
    "#             lstnew = [list(np.array_split(lstnew,math.ceil(len(lstnew)/2))[i]) for i in range(0,math.ceil(len(lstnew)/2))]\n",
    "#     print(lstnew[0][0])"
   ]
  },
  {
   "cell_type": "code",
   "execution_count": 15,
   "id": "e5640210",
   "metadata": {},
   "outputs": [
    {
     "name": "stdout",
     "output_type": "stream",
     "text": [
      "Enter Integer and No of Queries : 3 6\n",
      "Enter Sequence : 1 2 3 4 5 6 7 8\n",
      "Enter Queries : 2 4\n",
      "Enter Queries : 3 6\n",
      "Enter Queries : 2 8\n",
      "Enter Queries : 1 7\n",
      "Enter Queries : 5 9\n",
      "Enter Queries : 6 8\n",
      "10\n",
      "11\n",
      "15\n",
      "9\n",
      "9\n",
      "15\n"
     ]
    }
   ],
   "source": [
    "from segment_tree import SegmentTree\n",
    "import numpy as np\n",
    "import math\n",
    "n = list(map(int,input(\"Enter Integer and No of Queries : \").split()))\n",
    "x = list(map(int,input(\"Enter Sequence : \").split()[:2**n[0]]))\n",
    "Que = []\n",
    "for i in range(n[1]):\n",
    "    Que.append(list(map(int,input(\"Enter Queries : \").split())))\n",
    "for i in range(len(Que)):\n",
    "    SegmentTree(x).update(Que[i][0]-1,Que[i][1])\n",
    "    lstnew = [list(np.array_split(x,int(len(x)/2))[i]) for i in range(0,int(len(x)/2))]\n",
    "    ox = []\n",
    "    for i in range(n[0]):\n",
    "        ox.append(0)\n",
    "        ox.append(1)\n",
    "        ox = ox[:n[0]]\n",
    "    for i in ox:\n",
    "        if i==0:\n",
    "            for i in range(len(lstnew)):\n",
    "                lstnew[i] = (lstnew[i][0] | lstnew[i][1])\n",
    "            lstnew = [list(np.array_split(lstnew,math.ceil(len(lstnew)/2))[i]) for i in range(0,math.ceil(len(lstnew)/2))]\n",
    "        elif i==1:\n",
    "            for i in range(len(lstnew)):\n",
    "                lstnew[i] = (lstnew[i][0] ^ lstnew[i][1])\n",
    "            lstnew = [list(np.array_split(lstnew,math.ceil(len(lstnew)/2))[i]) for i in range(0,math.ceil(len(lstnew)/2))]\n",
    "    print(lstnew[0][0])"
   ]
  },
  {
   "cell_type": "code",
   "execution_count": 439,
   "id": "3985e356",
   "metadata": {},
   "outputs": [
    {
     "name": "stdout",
     "output_type": "stream",
     "text": [
      "Enter Integer and No of Queries : 4 1\n",
      "Enter Sequence : 1 2 3 4 5 6 7 8 9 10 11 12 13 14 15 15\n",
      "Enter Queries : 16 16\n",
      "24\n"
     ]
    }
   ],
   "source": [
    "# from segment_tree import SegmentTree\n",
    "# import numpy as np\n",
    "# import math\n",
    "# n = list(map(int,input(\"Enter Integer and No of Queries : \").split()))\n",
    "# x = list(map(int,input(\"Enter Sequence : \").split()[:2**n[0]]))\n",
    "# if n[1]==0:\n",
    "#     lstnew = [list(np.array_split(x,int(len(x)/2))[i]) for i in range(0,int(len(x)/2))]\n",
    "#     ox = []\n",
    "#     for i in range(n[0]):\n",
    "#         ox.append(0)\n",
    "#         ox.append(1)\n",
    "#         ox = ox[:n[0]]\n",
    "#     for i in ox:\n",
    "#         if i==0:\n",
    "#             for i in range(len(lstnew)):\n",
    "#                 lstnew[i] = (lstnew[i][0] | lstnew[i][1])\n",
    "#             lstnew = [list(np.array_split(lstnew,math.ceil(len(lstnew)/2))[i]) for i in range(0,math.ceil(len(lstnew)/2))]\n",
    "#         elif i==1:\n",
    "#             for i in range(len(lstnew)):\n",
    "#                 lstnew[i] = (lstnew[i][0] ^ lstnew[i][1])\n",
    "#             lstnew = [list(np.array_split(lstnew,math.ceil(len(lstnew)/2))[i]) for i in range(0,math.ceil(len(lstnew)/2))]\n",
    "#     print(lstnew[0][0])\n",
    "# else :\n",
    "#     Que = []\n",
    "#     for i in range(n[1]):\n",
    "#         Que.append(list(map(int,input(\"Enter Queries : \").split())))\n",
    "#     for i in range(len(Que)):\n",
    "#         SegmentTree(x).update(Que[i][0]-1,Que[i][1])\n",
    "#         lstnew = [list(np.array_split(x,int(len(x)/2))[i]) for i in range(0,int(len(x)/2))]\n",
    "#         ox = []\n",
    "#         for i in range(n[0]):\n",
    "#             ox.append(0)\n",
    "#             ox.append(1)\n",
    "#             ox = ox[:n[0]]\n",
    "#         for i in ox:\n",
    "#             if i==0:\n",
    "#                 for i in range(len(lstnew)):\n",
    "#                     lstnew[i] = (lstnew[i][0] | lstnew[i][1])\n",
    "#                 lstnew = [list(np.array_split(lstnew,math.ceil(len(lstnew)/2))[i]) for i in range(0,math.ceil(len(lstnew)/2))]\n",
    "#             elif i==1:\n",
    "#                 for i in range(len(lstnew)):\n",
    "#                     lstnew[i] = (lstnew[i][0] ^ lstnew[i][1])\n",
    "#                 lstnew = [list(np.array_split(lstnew,math.ceil(len(lstnew)/2))[i]) for i in range(0,math.ceil(len(lstnew)/2))]\n",
    "#         print(lstnew[0][0])"
   ]
  },
  {
   "cell_type": "code",
   "execution_count": null,
   "id": "be6f0dcb",
   "metadata": {},
   "outputs": [],
   "source": []
  }
 ],
 "metadata": {
  "kernelspec": {
   "display_name": "Python 3 (ipykernel)",
   "language": "python",
   "name": "python3"
  },
  "language_info": {
   "codemirror_mode": {
    "name": "ipython",
    "version": 3
   },
   "file_extension": ".py",
   "mimetype": "text/x-python",
   "name": "python",
   "nbconvert_exporter": "python",
   "pygments_lexer": "ipython3",
   "version": "3.9.7"
  },
  "varInspector": {
   "cols": {
    "lenName": 16,
    "lenType": 16,
    "lenVar": 40
   },
   "kernels_config": {
    "python": {
     "delete_cmd_postfix": "",
     "delete_cmd_prefix": "del ",
     "library": "var_list.py",
     "varRefreshCmd": "print(var_dic_list())"
    },
    "r": {
     "delete_cmd_postfix": ") ",
     "delete_cmd_prefix": "rm(",
     "library": "var_list.r",
     "varRefreshCmd": "cat(var_dic_list()) "
    }
   },
   "types_to_exclude": [
    "module",
    "function",
    "builtin_function_or_method",
    "instance",
    "_Feature"
   ],
   "window_display": false
  }
 },
 "nbformat": 4,
 "nbformat_minor": 5
}
