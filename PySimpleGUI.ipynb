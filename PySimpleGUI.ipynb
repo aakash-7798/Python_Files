{
 "cells": [
  {
   "cell_type": "code",
   "execution_count": 6,
   "id": "7661f670",
   "metadata": {
    "ExecuteTime": {
     "end_time": "2022-02-20T08:08:18.842509Z",
     "start_time": "2022-02-20T08:08:18.836524Z"
    }
   },
   "outputs": [],
   "source": [
    "#!pip install PySimpleGUI"
   ]
  },
  {
   "cell_type": "code",
   "execution_count": 7,
   "id": "362ee8b8",
   "metadata": {
    "ExecuteTime": {
     "end_time": "2022-02-20T08:08:19.062920Z",
     "start_time": "2022-02-20T08:08:19.035991Z"
    }
   },
   "outputs": [],
   "source": [
    "# !pip install PySimpleGUIQt"
   ]
  },
  {
   "cell_type": "code",
   "execution_count": 8,
   "id": "fd227fe4",
   "metadata": {
    "ExecuteTime": {
     "end_time": "2022-02-20T08:10:29.443879Z",
     "start_time": "2022-02-20T08:10:28.515734Z"
    }
   },
   "outputs": [],
   "source": [
    "import PySimpleGUI as sg"
   ]
  },
  {
   "cell_type": "code",
   "execution_count": 23,
   "id": "93b2bf9b",
   "metadata": {
    "ExecuteTime": {
     "end_time": "2022-02-20T08:32:49.704598Z",
     "start_time": "2022-02-20T08:32:35.815905Z"
    }
   },
   "outputs": [
    {
     "name": "stdout",
     "output_type": "stream",
     "text": [
      "Hello Aakash Nadupalli ! Thanks for trying PySimpleGUI\n"
     ]
    }
   ],
   "source": [
    "import PySimpleGUI as sg                        # Part 1 - The import\n",
    "\n",
    "# Define the window's contents\n",
    "layout = [  [sg.Text(\"What's your name?\")],     # Part 2 - The Layout\n",
    "            [sg.Input()],\n",
    "            [sg.Button('Ok')] ]\n",
    "\n",
    "# Create the window\n",
    "window = sg.Window('Window Title', layout)      # Part 3 - Window Defintion\n",
    "\n",
    "# Display and interact with the Window\n",
    "event, values = window.read()                   # Part 4 - Event loop or Window.read call\n",
    "\n",
    "# Do something with the information gathered\n",
    "print('Hello', values[0], \"! Thanks for trying PySimpleGUI\")\n",
    "\n",
    "# Finish up by removing from the screen\n",
    "window.close()                                  # Part 5 - Close the Window"
   ]
  },
  {
   "cell_type": "code",
   "execution_count": null,
   "id": "313e102f",
   "metadata": {},
   "outputs": [],
   "source": []
  }
 ],
 "metadata": {
  "kernelspec": {
   "display_name": "Python 3 (ipykernel)",
   "language": "python",
   "name": "python3"
  },
  "language_info": {
   "codemirror_mode": {
    "name": "ipython",
    "version": 3
   },
   "file_extension": ".py",
   "mimetype": "text/x-python",
   "name": "python",
   "nbconvert_exporter": "python",
   "pygments_lexer": "ipython3",
   "version": "3.9.7"
  },
  "nbTranslate": {
   "displayLangs": [
    "*"
   ],
   "hotkey": "alt-t",
   "langInMainMenu": true,
   "sourceLang": "en",
   "targetLang": "fr",
   "useGoogleTranslate": true
  },
  "varInspector": {
   "cols": {
    "lenName": 16,
    "lenType": 16,
    "lenVar": 40
   },
   "kernels_config": {
    "python": {
     "delete_cmd_postfix": "",
     "delete_cmd_prefix": "del ",
     "library": "var_list.py",
     "varRefreshCmd": "print(var_dic_list())"
    },
    "r": {
     "delete_cmd_postfix": ") ",
     "delete_cmd_prefix": "rm(",
     "library": "var_list.r",
     "varRefreshCmd": "cat(var_dic_list()) "
    }
   },
   "types_to_exclude": [
    "module",
    "function",
    "builtin_function_or_method",
    "instance",
    "_Feature"
   ],
   "window_display": false
  }
 },
 "nbformat": 4,
 "nbformat_minor": 5
}
