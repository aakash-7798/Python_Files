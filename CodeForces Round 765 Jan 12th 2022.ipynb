{
 "cells": [
  {
   "cell_type": "code",
   "execution_count": 2,
   "id": "73aa8fd6",
   "metadata": {},
   "outputs": [],
   "source": [
    "# 4\n",
    "# 7\n",
    "# 3 1 5 2 1 3 4\n",
    "# 6\n",
    "# 1 1 1 1 1 1\n",
    "# 6\n",
    "# 1 4 2 8 5 7\n",
    "# 2\n",
    "# 15 15"
   ]
  },
  {
   "cell_type": "code",
   "execution_count": 18,
   "id": "4d91324f",
   "metadata": {},
   "outputs": [],
   "source": [
    "# lst = []\n",
    "# n = int(input())\n",
    "# for i in range(0, n):\n",
    "#     x = int(input())\n",
    "#     ele = list(map(int, input().split()))\n",
    "#     lst.append(ele)\n",
    "# print(lst)"
   ]
  },
  {
   "cell_type": "code",
   "execution_count": 21,
   "id": "b31481d1",
   "metadata": {},
   "outputs": [
    {
     "name": "stdout",
     "output_type": "stream",
     "text": [
      "3\n",
      "4 10 0\n",
      "0 3 4 8\n",
      "5 8 3 6\n",
      "[[4, 10, 0], [0, 3, 4, 8], [5, 8, 3, 6]]\n"
     ]
    }
   ],
   "source": [
    "lst = []\n",
    "n = int(input())\n",
    "for i in range(0, n):\n",
    "    ele = list(map(int, input().split()))\n",
    "    lst.append(ele)\n",
    "print(lst)"
   ]
  },
  {
   "cell_type": "code",
   "execution_count": 32,
   "id": "c15b6be5",
   "metadata": {},
   "outputs": [
    {
     "data": {
      "text/plain": [
       "47"
      ]
     },
     "execution_count": 32,
     "metadata": {},
     "output_type": "execute_result"
    }
   ],
   "source": [
    "(lst[1][1]-lst[1][0])*lst[2][0] + (lst[1][2]-lst[1][1])*lst[2][1] + (lst[1][3]-lst[1][2])*lst[2][2] + 2*lst[2][3]"
   ]
  },
  {
   "cell_type": "code",
   "execution_count": 34,
   "id": "ca746858",
   "metadata": {},
   "outputs": [
    {
     "data": {
      "text/plain": [
       "2"
      ]
     },
     "execution_count": 34,
     "metadata": {},
     "output_type": "execute_result"
    }
   ],
   "source": [
    "lst[0][1] - ((lst[1][1]-lst[1][0]) + (lst[1][2]-lst[1][1]) +  (lst[1][3]-lst[1][2]))"
   ]
  },
  {
   "cell_type": "code",
   "execution_count": null,
   "id": "e6207d2e",
   "metadata": {},
   "outputs": [],
   "source": [
    "# 4 10 0\n",
    "# 0 3 4 8\n",
    "# 5 8 3 6"
   ]
  },
  {
   "cell_type": "code",
   "execution_count": 75,
   "id": "ec801a8c",
   "metadata": {},
   "outputs": [
    {
     "name": "stdout",
     "output_type": "stream",
     "text": [
      "4 10 2\n",
      "0 3 4 8\n",
      "5 8 3 6\n",
      "38\n"
     ]
    }
   ],
   "source": [
    "lst = []\n",
    "for i in range(0,3):\n",
    "    ele = list(map(int, input().split()))\n",
    "    lst.append(ele)\n",
    "sum = 0;\n",
    "sum1=0;\n",
    "if(lst[0][2] == 0):\n",
    "    for i in range(len(lst[1])-1):\n",
    "        sum = sum +((lst[1][i+1]-lst[1][i])*lst[2][i])\n",
    "        sum1 = sum1 + (lst[1][i+1]-lst[1][i])\n",
    "    TotalSum=sum + lst[2][3] * (lst[0][1]-sum1)\n",
    "    print(int(TotalSum))\n",
    "else:\n",
    "    print(int((lst[2][0]*lst[1][2]) + ( lst[2][-2] * (lst[0][1] - lst[1][2]))))"
   ]
  },
  {
   "cell_type": "code",
   "execution_count": 74,
   "id": "a616eb16",
   "metadata": {},
   "outputs": [
    {
     "name": "stdout",
     "output_type": "stream",
     "text": [
      "38\n"
     ]
    }
   ],
   "source": [
    "print((lst[2][0]*lst[1][2]) + ( lst[2][-2] * (lst[0][1] - lst[1][2])))"
   ]
  },
  {
   "cell_type": "code",
   "execution_count": 77,
   "id": "10f02bbd",
   "metadata": {},
   "outputs": [
    {
     "data": {
      "text/plain": [
       "38"
      ]
     },
     "execution_count": 77,
     "metadata": {},
     "output_type": "execute_result"
    }
   ],
   "source": [
    "int((lst[2][0]*lst[1][2]) + ( lst[2][-2] * (lst[0][1] - lst[1][2])))"
   ]
  },
  {
   "cell_type": "code",
   "execution_count": null,
   "id": "081d3482",
   "metadata": {},
   "outputs": [],
   "source": []
  }
 ],
 "metadata": {
  "kernelspec": {
   "display_name": "Python 3 (ipykernel)",
   "language": "python",
   "name": "python3"
  },
  "language_info": {
   "codemirror_mode": {
    "name": "ipython",
    "version": 3
   },
   "file_extension": ".py",
   "mimetype": "text/x-python",
   "name": "python",
   "nbconvert_exporter": "python",
   "pygments_lexer": "ipython3",
   "version": "3.9.7"
  },
  "varInspector": {
   "cols": {
    "lenName": 16,
    "lenType": 16,
    "lenVar": 40
   },
   "kernels_config": {
    "python": {
     "delete_cmd_postfix": "",
     "delete_cmd_prefix": "del ",
     "library": "var_list.py",
     "varRefreshCmd": "print(var_dic_list())"
    },
    "r": {
     "delete_cmd_postfix": ") ",
     "delete_cmd_prefix": "rm(",
     "library": "var_list.r",
     "varRefreshCmd": "cat(var_dic_list()) "
    }
   },
   "types_to_exclude": [
    "module",
    "function",
    "builtin_function_or_method",
    "instance",
    "_Feature"
   ],
   "window_display": false
  }
 },
 "nbformat": 4,
 "nbformat_minor": 5
}
