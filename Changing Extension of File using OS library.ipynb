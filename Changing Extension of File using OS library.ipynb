{
 "cells": [
  {
   "cell_type": "code",
   "execution_count": 1,
   "id": "7db04f1b",
   "metadata": {
    "ExecuteTime": {
     "end_time": "2022-01-27T08:15:03.129132Z",
     "start_time": "2022-01-27T08:15:03.100208Z"
    }
   },
   "outputs": [],
   "source": [
    "import os\n",
    "from pathlib import Path"
   ]
  },
  {
   "cell_type": "code",
   "execution_count": 2,
   "id": "9df29b38",
   "metadata": {
    "ExecuteTime": {
     "end_time": "2022-01-27T08:15:03.365101Z",
     "start_time": "2022-01-27T08:15:03.133121Z"
    }
   },
   "outputs": [
    {
     "data": {
      "text/plain": [
       "'C:\\\\Users\\\\aakas\\\\Aakash Nadupalli ipynb files'"
      ]
     },
     "execution_count": 2,
     "metadata": {},
     "output_type": "execute_result"
    }
   ],
   "source": [
    "os.getcwd()"
   ]
  },
  {
   "cell_type": "code",
   "execution_count": 3,
   "id": "a4dd40f1",
   "metadata": {
    "ExecuteTime": {
     "end_time": "2022-01-27T08:15:07.189736Z",
     "start_time": "2022-01-27T08:15:07.171830Z"
    }
   },
   "outputs": [],
   "source": [
    "os.chdir(r\"D:\\\\Aakash Nadupalli\\\\MCA\\\\MCA 2021 Textbooks\\\\1st Semester\\\\Object Oriented Programming Language\\\\C++ Complete Reference 4th Edition Source Code McGraw Hill\\\\\")"
   ]
  },
  {
   "cell_type": "code",
   "execution_count": 4,
   "id": "bd2044f3",
   "metadata": {
    "ExecuteTime": {
     "end_time": "2022-01-27T08:15:13.908141Z",
     "start_time": "2022-01-27T08:15:13.899163Z"
    }
   },
   "outputs": [
    {
     "data": {
      "text/plain": [
       "'D:\\\\Aakash Nadupalli\\\\MCA\\\\MCA 2021 Textbooks\\\\1st Semester\\\\Object Oriented Programming Language\\\\C++ Complete Reference 4th Edition Source Code McGraw Hill'"
      ]
     },
     "execution_count": 4,
     "metadata": {},
     "output_type": "execute_result"
    }
   ],
   "source": [
    "os.getcwd()"
   ]
  },
  {
   "cell_type": "code",
   "execution_count": 5,
   "id": "60aecaa0",
   "metadata": {
    "ExecuteTime": {
     "end_time": "2022-01-27T08:15:20.405089Z",
     "start_time": "2022-01-27T08:15:20.399105Z"
    }
   },
   "outputs": [],
   "source": [
    "files = os.listdir()"
   ]
  },
  {
   "cell_type": "code",
   "execution_count": 7,
   "id": "9b80b573",
   "metadata": {
    "ExecuteTime": {
     "end_time": "2022-01-27T08:15:48.065278Z",
     "start_time": "2022-01-27T08:15:48.055300Z"
    },
    "scrolled": true
   },
   "outputs": [
    {
     "data": {
      "text/plain": [
       "['CHAP10.LST',\n",
       " 'CHAP11.LST',\n",
       " 'CHAP12.LST',\n",
       " 'CHAP13.LST',\n",
       " 'CHAP14.LST',\n",
       " 'CHAP15.LST',\n",
       " 'CHAP16.LST',\n",
       " 'CHAP17.LST',\n",
       " 'CHAP18.LST',\n",
       " 'CHAP19.LST',\n",
       " 'CHAP2.LST',\n",
       " 'CHAP20.LST',\n",
       " 'CHAP21.LST',\n",
       " 'CHAP22.LST',\n",
       " 'CHAP23.LST',\n",
       " 'CHAP24.LST',\n",
       " 'CHAP3.LST',\n",
       " 'CHAP31.LST',\n",
       " 'CHAP32.LST',\n",
       " 'CHAP35.LST',\n",
       " 'CHAP37.LST',\n",
       " 'CHAP38.LST',\n",
       " 'CHAP39.LST',\n",
       " 'CHAP4.LST',\n",
       " 'CHAP40.LST',\n",
       " 'CHAP5.LST',\n",
       " 'CHAP6.LST',\n",
       " 'CHAP7.LST',\n",
       " 'CHAP8.LST',\n",
       " 'CHAP9.LST']"
      ]
     },
     "execution_count": 7,
     "metadata": {},
     "output_type": "execute_result"
    }
   ],
   "source": [
    "files[:-1]"
   ]
  },
  {
   "cell_type": "code",
   "execution_count": 8,
   "id": "892d0f21",
   "metadata": {
    "ExecuteTime": {
     "end_time": "2022-01-27T08:17:24.540708Z",
     "start_time": "2022-01-27T08:17:24.520730Z"
    }
   },
   "outputs": [
    {
     "data": {
      "text/plain": [
       "'CHAP38'"
      ]
     },
     "execution_count": 8,
     "metadata": {},
     "output_type": "execute_result"
    }
   ],
   "source": [
    "os.path.splitext('CHAP38.LST')[0]"
   ]
  },
  {
   "cell_type": "code",
   "execution_count": 9,
   "id": "0f01502e",
   "metadata": {
    "ExecuteTime": {
     "end_time": "2022-01-27T08:17:26.187310Z",
     "start_time": "2022-01-27T08:17:26.155257Z"
    }
   },
   "outputs": [],
   "source": [
    "for i in files[:-1]:\n",
    "    os.rename(i,os.path.splitext(i)[0]+'.cpp')"
   ]
  },
  {
   "cell_type": "code",
   "execution_count": 60,
   "id": "b9549aab",
   "metadata": {
    "ExecuteTime": {
     "end_time": "2022-01-27T08:03:30.774230Z",
     "start_time": "2022-01-27T08:03:30.762263Z"
    }
   },
   "outputs": [],
   "source": [
    "os.rename(files[0],os.path.splitext(files[0])[0]+'.txt')"
   ]
  },
  {
   "cell_type": "code",
   "execution_count": 50,
   "id": "0c2a0a71",
   "metadata": {
    "ExecuteTime": {
     "end_time": "2022-01-27T07:58:47.119782Z",
     "start_time": "2022-01-27T07:58:47.110805Z"
    }
   },
   "outputs": [
    {
     "data": {
      "text/plain": [
       "'CHAP10.cpp'"
      ]
     },
     "execution_count": 50,
     "metadata": {},
     "output_type": "execute_result"
    }
   ],
   "source": [
    "os.listdir()"
   ]
  },
  {
   "cell_type": "code",
   "execution_count": null,
   "id": "0bf05ddb",
   "metadata": {},
   "outputs": [],
   "source": []
  }
 ],
 "metadata": {
  "kernelspec": {
   "display_name": "Python 3 (ipykernel)",
   "language": "python",
   "name": "python3"
  },
  "language_info": {
   "codemirror_mode": {
    "name": "ipython",
    "version": 3
   },
   "file_extension": ".py",
   "mimetype": "text/x-python",
   "name": "python",
   "nbconvert_exporter": "python",
   "pygments_lexer": "ipython3",
   "version": "3.9.7"
  },
  "nbTranslate": {
   "displayLangs": [
    "*"
   ],
   "hotkey": "alt-t",
   "langInMainMenu": true,
   "sourceLang": "en",
   "targetLang": "fr",
   "useGoogleTranslate": true
  },
  "varInspector": {
   "cols": {
    "lenName": 16,
    "lenType": 16,
    "lenVar": 40
   },
   "kernels_config": {
    "python": {
     "delete_cmd_postfix": "",
     "delete_cmd_prefix": "del ",
     "library": "var_list.py",
     "varRefreshCmd": "print(var_dic_list())"
    },
    "r": {
     "delete_cmd_postfix": ") ",
     "delete_cmd_prefix": "rm(",
     "library": "var_list.r",
     "varRefreshCmd": "cat(var_dic_list()) "
    }
   },
   "types_to_exclude": [
    "module",
    "function",
    "builtin_function_or_method",
    "instance",
    "_Feature"
   ],
   "window_display": false
  }
 },
 "nbformat": 4,
 "nbformat_minor": 5
}
