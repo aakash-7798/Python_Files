{
 "cells": [
  {
   "cell_type": "code",
   "execution_count": 1,
   "id": "52643899",
   "metadata": {
    "ExecuteTime": {
     "end_time": "2022-01-30T15:38:21.861260Z",
     "start_time": "2022-01-30T15:38:21.193595Z"
    }
   },
   "outputs": [],
   "source": [
    "# https://docs.opencv.org/3.0-beta/doc/py_tutorials/py_imgproc/py_thresholding/py_thresholding.html\n",
    "import pdfplumber\n",
    "import pytesseract\n",
    "import PIL\n",
    "from PIL import Image\n",
    "import cv2\n",
    "pytesseract.pytesseract.tesseract_cmd=r\"C:\\Program Files\\Tesseract-OCR\\tesseract.exe\""
   ]
  },
  {
   "cell_type": "code",
   "execution_count": 2,
   "id": "3dad06af",
   "metadata": {
    "ExecuteTime": {
     "end_time": "2022-01-30T15:38:47.014248Z",
     "start_time": "2022-01-30T15:38:40.543236Z"
    }
   },
   "outputs": [],
   "source": [
    "img = cv2.imread('GST_Login_captcha.png')\n",
    "cv2.imshow(\"Sample Image\",img)\n",
    "cv2.waitKey(0)\n",
    "cv2.destroyAllWindows()"
   ]
  },
  {
   "cell_type": "code",
   "execution_count": 4,
   "id": "8eecce11",
   "metadata": {
    "ExecuteTime": {
     "end_time": "2022-01-30T15:39:08.486848Z",
     "start_time": "2022-01-30T15:39:08.479866Z"
    }
   },
   "outputs": [],
   "source": [
    "# pytesseract.image_to_string(img)"
   ]
  },
  {
   "cell_type": "code",
   "execution_count": 25,
   "id": "66ee650e",
   "metadata": {
    "ExecuteTime": {
     "end_time": "2022-01-30T15:25:08.357350Z",
     "start_time": "2022-01-30T15:25:08.341358Z"
    },
    "scrolled": true
   },
   "outputs": [],
   "source": [
    "# for i in pytesseract.image_to_string(img).split(\"\\n\"):\n",
    "#     print(i)"
   ]
  },
  {
   "cell_type": "code",
   "execution_count": 3,
   "id": "749f94e7",
   "metadata": {
    "ExecuteTime": {
     "end_time": "2022-01-30T15:07:51.337297Z",
     "start_time": "2022-01-30T15:07:50.914646Z"
    }
   },
   "outputs": [],
   "source": [
    "# pdf = pdfplumber.open('D:\\\\Aakash Nadupalli\\\\MCA\\\\MCA 2021 NOTES\\\\OOPS Lab Programs.pdf')\n",
    "# pdf1 = pdfplumber.open('D:\\\\Aakash Nadupalli\\\\MCA\\\\MCA 2021 NOTES\\\\OS LAB Programs.pdf')"
   ]
  },
  {
   "cell_type": "code",
   "execution_count": 9,
   "id": "4011c83e",
   "metadata": {
    "ExecuteTime": {
     "end_time": "2022-01-30T15:09:41.183405Z",
     "start_time": "2022-01-30T15:09:41.166451Z"
    }
   },
   "outputs": [],
   "source": [
    "# img = pdf.pages[1].to_image()\n",
    "# pdf.pages[1].to_image()"
   ]
  },
  {
   "cell_type": "code",
   "execution_count": 40,
   "id": "f7ca5aa1",
   "metadata": {
    "ExecuteTime": {
     "end_time": "2022-01-30T06:47:10.270784Z",
     "start_time": "2022-01-30T06:47:10.257816Z"
    }
   },
   "outputs": [],
   "source": [
    "# for i in pdf1.pages[1].extract_text().split(\"\\n\"):\n",
    "#     print(i)"
   ]
  },
  {
   "cell_type": "code",
   "execution_count": 6,
   "id": "0224c6f3",
   "metadata": {
    "ExecuteTime": {
     "end_time": "2022-01-30T15:08:26.138354Z",
     "start_time": "2022-01-30T15:08:26.068975Z"
    }
   },
   "outputs": [],
   "source": [
    "# img.save(\"D:\\\\Aakash Nadupalli\\\\MCA\\\\MCA 2021 NOTES\\\\OOPS_Page2.png\")"
   ]
  },
  {
   "cell_type": "code",
   "execution_count": 8,
   "id": "976bef4e",
   "metadata": {
    "ExecuteTime": {
     "end_time": "2022-01-30T15:09:33.064393Z",
     "start_time": "2022-01-30T15:09:33.051417Z"
    }
   },
   "outputs": [],
   "source": [
    "# pytesseract.image_to_string('D:\\\\Aakash Nadupalli\\\\MCA\\\\MCA 2021 NOTES\\\\OOPS_Page2.png')"
   ]
  },
  {
   "cell_type": "code",
   "execution_count": 57,
   "id": "6e23dd7c",
   "metadata": {
    "ExecuteTime": {
     "end_time": "2022-01-30T07:00:24.648155Z",
     "start_time": "2022-01-30T07:00:24.629204Z"
    }
   },
   "outputs": [],
   "source": [
    "# import cv2\n",
    "# import numpy as np\n",
    "# from matplotlib import pyplot as plt\n",
    "\n",
    "# img = cv2.imread('D:\\\\Aakash Nadupalli\\\\MCA\\\\MCA 2021 NOTES\\\\OOPS_Page2.jpg',0)\n",
    "# img = cv2.medianBlur(img,5)\n",
    "\n",
    "# ret,th1 = cv2.threshold(img,127,255,cv2.THRESH_BINARY)\n",
    "# th2 = cv2.adaptiveThreshold(img,255,cv2.ADAPTIVE_THRESH_MEAN_C,\\\n",
    "#             cv2.THRESH_BINARY,11,2)\n",
    "# th3 = cv2.adaptiveThreshold(img,255,cv2.ADAPTIVE_THRESH_GAUSSIAN_C,\\\n",
    "#             cv2.THRESH_BINARY,11,2)\n",
    "\n",
    "# titles = ['Original Image', 'Global Thresholding (v = 127)',\n",
    "#             'Adaptive Mean Thresholding', 'Adaptive Gaussian Thresholding']\n",
    "# images = [img, th1, th2, th3]\n",
    "\n",
    "# # plt.figure(figsize=(20,10))\n",
    "# for i in range(4):\n",
    "#     plt.subplot(2,2,i+1),plt.imshow(images[i],'gray')\n",
    "#     plt.title(titles[i])\n",
    "#     plt.xticks([]),plt.yticks([])\n",
    "# plt.show()"
   ]
  },
  {
   "cell_type": "code",
   "execution_count": null,
   "id": "557b8a66",
   "metadata": {},
   "outputs": [],
   "source": []
  }
 ],
 "metadata": {
  "kernelspec": {
   "display_name": "Python 3 (ipykernel)",
   "language": "python",
   "name": "python3"
  },
  "language_info": {
   "codemirror_mode": {
    "name": "ipython",
    "version": 3
   },
   "file_extension": ".py",
   "mimetype": "text/x-python",
   "name": "python",
   "nbconvert_exporter": "python",
   "pygments_lexer": "ipython3",
   "version": "3.9.7"
  },
  "nbTranslate": {
   "displayLangs": [
    "*"
   ],
   "hotkey": "alt-t",
   "langInMainMenu": true,
   "sourceLang": "en",
   "targetLang": "fr",
   "useGoogleTranslate": true
  },
  "varInspector": {
   "cols": {
    "lenName": 16,
    "lenType": 16,
    "lenVar": 40
   },
   "kernels_config": {
    "python": {
     "delete_cmd_postfix": "",
     "delete_cmd_prefix": "del ",
     "library": "var_list.py",
     "varRefreshCmd": "print(var_dic_list())"
    },
    "r": {
     "delete_cmd_postfix": ") ",
     "delete_cmd_prefix": "rm(",
     "library": "var_list.r",
     "varRefreshCmd": "cat(var_dic_list()) "
    }
   },
   "types_to_exclude": [
    "module",
    "function",
    "builtin_function_or_method",
    "instance",
    "_Feature"
   ],
   "window_display": false
  }
 },
 "nbformat": 4,
 "nbformat_minor": 5
}
