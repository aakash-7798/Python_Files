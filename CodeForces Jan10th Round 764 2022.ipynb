{
 "cells": [
  {
   "cell_type": "code",
   "execution_count": 23,
   "id": "db191423",
   "metadata": {},
   "outputs": [],
   "source": [
    "# # creating an empty list\n",
    "# lst = []\n",
    "# # number of elemetns as input\n",
    "# n = int(input(\"Enter Number Of TestCases : \"))\n",
    "# # iterating till the range\n",
    "# for i in range(0, n):\n",
    "#     x = int(input(\"Enter No of Elements : \"))\n",
    "#     for j in range(0, x):\n",
    "#         ele = int(input())\n",
    "#         lst.append(ele) # adding the element\n",
    "# print(lst)"
   ]
  },
  {
   "cell_type": "code",
   "execution_count": 28,
   "id": "53351c21",
   "metadata": {},
   "outputs": [],
   "source": [
    "# x = list(map(int, input(\"Enter multiple values: \").split()))\n",
    "# print(\"List of students: \", x)"
   ]
  },
  {
   "cell_type": "code",
   "execution_count": 104,
   "id": "f197b9fc",
   "metadata": {},
   "outputs": [],
   "source": [
    "# # creating an empty list\n",
    "# lst = []\n",
    "# # number of elemetns as input\n",
    "# n = int(input(\"Enter Number Of TestCases : \"))\n",
    "# # iterating till the range\n",
    "# for i in range(0, n):\n",
    "#     ele = list(map(int, input(\"Enter Values: \").split()))\n",
    "#     lst.append(ele) # adding the element\n",
    "# print(lst)"
   ]
  },
  {
   "cell_type": "code",
   "execution_count": 91,
   "id": "1810571e",
   "metadata": {},
   "outputs": [],
   "source": [
    "# 3\n",
    "# 6\n",
    "# 3 4 2 4 1 2\n",
    "# 3\n",
    "# 1000 1002 998\n",
    "# 2\n",
    "# 12 11"
   ]
  },
  {
   "cell_type": "code",
   "execution_count": 106,
   "id": "104f61c3",
   "metadata": {},
   "outputs": [],
   "source": [
    "# # creating an empty list\n",
    "# lst = []\n",
    "# # number of elemetns as input\n",
    "# n = int(input(\"Enter Number Of TestCases : \"))\n",
    "# # iterating till the range\n",
    "# for i in range(0, n):\n",
    "#     x = int(input(\"Enter No of Elements : \"))\n",
    "#     ele = list(map(int, input(\"Enter Values: \").split()))\n",
    "#     lst.append(ele) # adding the element\n",
    "# for i in range(len(lst)):\n",
    "#     lst[i].sort()\n",
    "#     print(max(lst[i])-min(lst[i]))"
   ]
  },
  {
   "cell_type": "code",
   "execution_count": 105,
   "id": "84afd0de",
   "metadata": {},
   "outputs": [],
   "source": [
    "# # OnePlus Subset\n",
    "# lst = []\n",
    "# n = int(input())\n",
    "# for i in range(0, n):\n",
    "#     x = int(input())\n",
    "#     ele = list(map(int, input().split()))\n",
    "#     lst.append(ele)\n",
    "# for i in range(len(lst)):\n",
    "#     lst[i].sort()\n",
    "#     print(max(lst[i])-min(lst[i]))"
   ]
  },
  {
   "cell_type": "code",
   "execution_count": 109,
   "id": "30d770b7",
   "metadata": {},
   "outputs": [
    {
     "name": "stdout",
     "output_type": "stream",
     "text": [
      "1\n",
      "4\n",
      "1 8 25 2\n",
      "[[1, 8, 25, 2]]\n"
     ]
    }
   ],
   "source": [
    "# OnePlus Subset\n",
    "lst = []\n",
    "n = int(input())\n",
    "for i in range(0, n):\n",
    "    x = int(input())\n",
    "    ele = list(map(int, input().split()))\n",
    "    lst.append(ele)\n",
    "print(lst)"
   ]
  },
  {
   "cell_type": "code",
   "execution_count": 115,
   "id": "e4fcd32c",
   "metadata": {},
   "outputs": [
    {
     "ename": "KeyError",
     "evalue": "1",
     "output_type": "error",
     "traceback": [
      "\u001b[1;31m---------------------------------------------------------------------------\u001b[0m",
      "\u001b[1;31mKeyError\u001b[0m                                  Traceback (most recent call last)",
      "\u001b[1;32m~\\AppData\\Local\\Temp/ipykernel_12216/2979878684.py\u001b[0m in \u001b[0;36m<module>\u001b[1;34m\u001b[0m\n\u001b[0;32m      3\u001b[0m     \u001b[0mk\u001b[0m\u001b[1;33m=\u001b[0m\u001b[0mlst\u001b[0m\u001b[1;33m[\u001b[0m\u001b[1;36m0\u001b[0m\u001b[1;33m]\u001b[0m\u001b[1;33m[\u001b[0m\u001b[0mi\u001b[0m\u001b[1;33m]\u001b[0m\u001b[1;33m\u001b[0m\u001b[1;33m\u001b[0m\u001b[0m\n\u001b[0;32m      4\u001b[0m     \u001b[1;32mwhile\u001b[0m\u001b[1;33m(\u001b[0m\u001b[0mk\u001b[0m\u001b[1;33m>\u001b[0m\u001b[1;36m0\u001b[0m\u001b[1;33m)\u001b[0m\u001b[1;33m:\u001b[0m\u001b[1;33m\u001b[0m\u001b[1;33m\u001b[0m\u001b[0m\n\u001b[1;32m----> 5\u001b[1;33m         \u001b[1;32mif\u001b[0m\u001b[1;33m(\u001b[0m\u001b[1;36m1\u001b[0m\u001b[1;33m<=\u001b[0m\u001b[0mk\u001b[0m \u001b[1;32mand\u001b[0m \u001b[0mk\u001b[0m\u001b[1;33m<=\u001b[0m\u001b[0mlen\u001b[0m\u001b[1;33m(\u001b[0m\u001b[0mlst\u001b[0m\u001b[1;33m[\u001b[0m\u001b[1;36m0\u001b[0m\u001b[1;33m]\u001b[0m\u001b[1;33m)\u001b[0m \u001b[1;32mand\u001b[0m \u001b[0mmy_map\u001b[0m\u001b[1;33m[\u001b[0m\u001b[0mk\u001b[0m\u001b[1;33m]\u001b[0m\u001b[1;33m==\u001b[0m\u001b[1;36m0\u001b[0m\u001b[1;33m)\u001b[0m\u001b[1;33m:\u001b[0m\u001b[1;33m\u001b[0m\u001b[1;33m\u001b[0m\u001b[0m\n\u001b[0m\u001b[0;32m      6\u001b[0m             \u001b[0mmap\u001b[0m\u001b[1;33m[\u001b[0m\u001b[0mk\u001b[0m\u001b[1;33m]\u001b[0m\u001b[1;33m=\u001b[0m\u001b[1;36m1\u001b[0m\u001b[1;33m\u001b[0m\u001b[1;33m\u001b[0m\u001b[0m\n\u001b[0;32m      7\u001b[0m             \u001b[1;32mbreak\u001b[0m\u001b[1;33m\u001b[0m\u001b[1;33m\u001b[0m\u001b[0m\n",
      "\u001b[1;31mKeyError\u001b[0m: 1"
     ]
    }
   ],
   "source": [
    "my_map = {}\n",
    "for i in range(len(lst[0])):\n",
    "    k=lst[0][i]\n",
    "    while(k>0):\n",
    "        if(1<=k and k<=len(lst[0]) and my_map[k]==0):\n",
    "            map[k]=1\n",
    "            break \n",
    "        k=k/2"
   ]
  },
  {
   "cell_type": "code",
   "execution_count": null,
   "id": "2072a530",
   "metadata": {},
   "outputs": [],
   "source": []
  }
 ],
 "metadata": {
  "kernelspec": {
   "display_name": "Python 3 (ipykernel)",
   "language": "python",
   "name": "python3"
  },
  "language_info": {
   "codemirror_mode": {
    "name": "ipython",
    "version": 3
   },
   "file_extension": ".py",
   "mimetype": "text/x-python",
   "name": "python",
   "nbconvert_exporter": "python",
   "pygments_lexer": "ipython3",
   "version": "3.9.7"
  },
  "varInspector": {
   "cols": {
    "lenName": 16,
    "lenType": 16,
    "lenVar": 40
   },
   "kernels_config": {
    "python": {
     "delete_cmd_postfix": "",
     "delete_cmd_prefix": "del ",
     "library": "var_list.py",
     "varRefreshCmd": "print(var_dic_list())"
    },
    "r": {
     "delete_cmd_postfix": ") ",
     "delete_cmd_prefix": "rm(",
     "library": "var_list.r",
     "varRefreshCmd": "cat(var_dic_list()) "
    }
   },
   "types_to_exclude": [
    "module",
    "function",
    "builtin_function_or_method",
    "instance",
    "_Feature"
   ],
   "window_display": false
  }
 },
 "nbformat": 4,
 "nbformat_minor": 5
}
