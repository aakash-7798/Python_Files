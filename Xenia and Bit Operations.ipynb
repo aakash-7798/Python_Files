{
 "cells": [
  {
   "cell_type": "code",
   "execution_count": 37,
   "id": "3ecd63d6",
   "metadata": {},
   "outputs": [
    {
     "name": "stdout",
     "output_type": "stream",
     "text": [
      "Enter Integer and No of Queries : 3 1\n",
      "[3, 1]\n"
     ]
    }
   ],
   "source": [
    "n = list(map(int,input(\"Enter Integer and No of Queries : \").split()))\n",
    "print(n)"
   ]
  },
  {
   "cell_type": "code",
   "execution_count": 38,
   "id": "9e480918",
   "metadata": {},
   "outputs": [
    {
     "name": "stdout",
     "output_type": "stream",
     "text": [
      "Enter Sequence : 1 2 3 4 5 6 7 8\n",
      "[1, 2, 3, 4, 5, 6, 7, 8]\n"
     ]
    }
   ],
   "source": [
    "x = list(map(int,input(\"Enter Sequence : \").split()[:2**n[0]]))\n",
    "print(x)"
   ]
  },
  {
   "cell_type": "code",
   "execution_count": 56,
   "id": "f41d4ee2",
   "metadata": {},
   "outputs": [
    {
     "data": {
      "text/plain": [
       "7"
      ]
     },
     "execution_count": 56,
     "metadata": {},
     "output_type": "execute_result"
    }
   ],
   "source": [
    "np.bitwise_or(a1[1][0],a1[1][1])"
   ]
  },
  {
   "cell_type": "code",
   "execution_count": 31,
   "id": "bef72822",
   "metadata": {},
   "outputs": [],
   "source": [
    "# Que = []\n",
    "# for i in range(n[1]):\n",
    "#     Que.append(list(map(int,input(\"Enter Queries : \").split())))"
   ]
  },
  {
   "cell_type": "code",
   "execution_count": 39,
   "id": "072ccc8d",
   "metadata": {},
   "outputs": [
    {
     "data": {
      "text/plain": [
       "array([[1, 2],\n",
       "       [3, 4],\n",
       "       [5, 6],\n",
       "       [7, 8]])"
      ]
     },
     "execution_count": 39,
     "metadata": {},
     "output_type": "execute_result"
    }
   ],
   "source": [
    "a1 = np.array(x)\n",
    "a1.resize((int(len(x)/2),2))\n",
    "a1"
   ]
  },
  {
   "cell_type": "code",
   "execution_count": 40,
   "id": "5aa89ef4",
   "metadata": {},
   "outputs": [
    {
     "data": {
      "text/plain": [
       "[3, 7, 7, 15]"
      ]
     },
     "execution_count": 40,
     "metadata": {},
     "output_type": "execute_result"
    }
   ],
   "source": [
    "Or = []\n",
    "for i in range(len(a1)):\n",
    "    Or.append(a1[i][0] | a1[i][1] )\n",
    "Or        "
   ]
  },
  {
   "cell_type": "code",
   "execution_count": 41,
   "id": "71f12c16",
   "metadata": {},
   "outputs": [
    {
     "data": {
      "text/plain": [
       "array([[ 3,  7],\n",
       "       [ 7, 15]])"
      ]
     },
     "execution_count": 41,
     "metadata": {},
     "output_type": "execute_result"
    }
   ],
   "source": [
    "a2 = np.array(Or)\n",
    "a2.resize((int(len(x)/4),2))\n",
    "a2"
   ]
  },
  {
   "cell_type": "code",
   "execution_count": null,
   "id": "6bd717a1",
   "metadata": {},
   "outputs": [],
   "source": [
    "for i in range(len(Que)):\n",
    "    SegmentTree(x).update(Que[i][0]-1,Que[i][1])\n",
    "    a1 = np.array(x)\n",
    "    a1.resize((int(len(x)/2),2))\n",
    "    Or = []\n",
    "    for i in range(len(a1)):\n",
    "        Or.append(a1[i][0] | a1[i][1] )\n",
    "    a2 = np.array(Or)\n",
    "    a2.resize((int(len(x)/4),2))\n",
    "    print(a2[i][0] ^ a2[i][1] )"
   ]
  },
  {
   "cell_type": "code",
   "execution_count": 26,
   "id": "3be98752",
   "metadata": {},
   "outputs": [
    {
     "data": {
      "text/plain": [
       "array([[1, 2],\n",
       "       [3, 4],\n",
       "       [5, 6],\n",
       "       [7, 8]])"
      ]
     },
     "execution_count": 26,
     "metadata": {},
     "output_type": "execute_result"
    }
   ],
   "source": [
    "a1 = np.array(x)\n",
    "a1.resize((int(len(a1)/2),2))\n",
    "a1"
   ]
  },
  {
   "cell_type": "code",
   "execution_count": 46,
   "id": "28dddd63",
   "metadata": {},
   "outputs": [
    {
     "data": {
      "text/plain": [
       "7"
      ]
     },
     "execution_count": 46,
     "metadata": {},
     "output_type": "execute_result"
    }
   ],
   "source": [
    "np.bitwise_or(x[2],x[3])"
   ]
  },
  {
   "cell_type": "code",
   "execution_count": 11,
   "id": "94e29ba2",
   "metadata": {},
   "outputs": [
    {
     "data": {
      "text/plain": [
       "[3, 7, 7, 15]"
      ]
     },
     "execution_count": 11,
     "metadata": {},
     "output_type": "execute_result"
    }
   ],
   "source": [
    "Or = []\n",
    "for i in range(len(a1)):\n",
    "    Or.append(a1[i][0] | a1[i][1] )\n",
    "Or"
   ]
  },
  {
   "cell_type": "code",
   "execution_count": null,
   "id": "9553fed3",
   "metadata": {},
   "outputs": [],
   "source": [
    "a2 = np.array()\n",
    "a2.resize((int(len(x)/4),2))\n",
    "print(a2[0][0] ^ a2[0][1] )"
   ]
  },
  {
   "cell_type": "code",
   "execution_count": 114,
   "id": "26d7160b",
   "metadata": {},
   "outputs": [
    {
     "data": {
      "text/plain": [
       "1"
      ]
     },
     "execution_count": 114,
     "metadata": {},
     "output_type": "execute_result"
    }
   ],
   "source": [
    "6^7"
   ]
  },
  {
   "cell_type": "code",
   "execution_count": 21,
   "id": "3579ca84",
   "metadata": {},
   "outputs": [
    {
     "name": "stdout",
     "output_type": "stream",
     "text": [
      "Enter Queries : 2 4\n",
      "Enter Queries : 1 2\n",
      "Enter Queries : 2 5\n",
      "Enter Queries : 1 7\n",
      "[[2, 4], [1, 2], [2, 5], [1, 7]]\n"
     ]
    }
   ],
   "source": [
    "lst = []\n",
    "for i in range(0,n[1]):\n",
    "    ele = list(map(int,input(\"Enter Queries : \").split()))\n",
    "    lst.append(ele)\n",
    "print(lst)"
   ]
  },
  {
   "cell_type": "code",
   "execution_count": 200,
   "id": "dbcf6f0e",
   "metadata": {},
   "outputs": [
    {
     "name": "stdout",
     "output_type": "stream",
     "text": [
      "Enter Integer and No of Queries : 2 4\n",
      "Enter Sequence : 1 6 3 5\n",
      "Enter Queries : 1 4\n",
      "Enter Queries : 3 4\n",
      "Enter Queries : 1 2\n",
      "Enter Queries : 1 2\n",
      "0\n"
     ]
    }
   ],
   "source": [
    "# from segment_tree import SegmentTree\n",
    "# n = list(map(int,input(\"Enter Integer and No of Queries : \").split()))\n",
    "# x = list(map(int,input(\"Enter Sequence : \").split()[:2**n[0]]))\n",
    "# Que = []\n",
    "# for i in range(n[1]):\n",
    "#     Que.append(list(map(int,input(\"Enter Queries : \").split())))\n",
    "# import numpy as np\n",
    "# a1 = np.array(x)\n",
    "# a1.resize((int(len(x)/2),2))\n",
    "# a1\n",
    "# Or = []\n",
    "# for i in range(len(a1)):\n",
    "#     Or.append(a1[i][0] | a1[i][1] )\n",
    "# a2 = np.array(Or)\n",
    "# a2.resize((int(len(x)/4),2))\n",
    "# a2 \n",
    "# print(a2[0][0] ^ a2[0][1] )"
   ]
  },
  {
   "cell_type": "code",
   "execution_count": 12,
   "id": "85b049c9",
   "metadata": {},
   "outputs": [
    {
     "name": "stdout",
     "output_type": "stream",
     "text": [
      "Enter Integer and No of Queries : 4 1\n",
      "Enter Sequence : 1 2 3 4 5 6 7 8 9 10 11 12 13 14 15 16\n",
      "Enter Queries : 1 0\n",
      "5\n"
     ]
    }
   ],
   "source": [
    "# from segment_tree import SegmentTree\n",
    "# import numpy as np\n",
    "# n = list(map(int,input(\"Enter Integer and No of Queries : \").split()))\n",
    "# x = list(map(int,input(\"Enter Sequence : \").split()[:2**n[0]]))\n",
    "# Que = []\n",
    "# for i in range(n[1]):\n",
    "#     Que.append(list(map(int,input(\"Enter Queries : \").split())))\n",
    "# for i in range(len(Que)):\n",
    "#     SegmentTree(x).update(Que[i][0]-1,Que[i][1])\n",
    "#     a1 = np.array(x)\n",
    "#     a1.resize((int(len(x)/2),2))\n",
    "#     Or = []\n",
    "#     for i in range(len(a1)):\n",
    "#         Or.append(a1[i][0] | a1[i][1] )\n",
    "#     a2 = np.array(Or)\n",
    "#     a2.resize((int(len(x)/4),2))\n",
    "#     print(a2[0][0] ^ a2[0][1] )"
   ]
  },
  {
   "cell_type": "code",
   "execution_count": null,
   "id": "b09850fa",
   "metadata": {},
   "outputs": [],
   "source": [
    "4 elements  2 arrays() "
   ]
  },
  {
   "cell_type": "code",
   "execution_count": 13,
   "id": "acb55b57",
   "metadata": {},
   "outputs": [
    {
     "name": "stdout",
     "output_type": "stream",
     "text": [
      "Enter Integer and No of Queries : 4 1\n",
      "Enter Sequence : 1 2 3 4 5 6 7 8 9 10 11 12 13 14 15 16\n",
      "Enter Queries : 1 0\n"
     ]
    },
    {
     "ename": "IndexError",
     "evalue": "index 7 is out of bounds for axis 0 with size 4",
     "output_type": "error",
     "traceback": [
      "\u001b[1;31m---------------------------------------------------------------------------\u001b[0m",
      "\u001b[1;31mIndexError\u001b[0m                                Traceback (most recent call last)",
      "\u001b[1;32m~\\AppData\\Local\\Temp/ipykernel_1876/375779746.py\u001b[0m in \u001b[0;36m<module>\u001b[1;34m\u001b[0m\n\u001b[0;32m     15\u001b[0m     \u001b[0ma2\u001b[0m \u001b[1;33m=\u001b[0m \u001b[0mnp\u001b[0m\u001b[1;33m.\u001b[0m\u001b[0marray\u001b[0m\u001b[1;33m(\u001b[0m\u001b[0mOr\u001b[0m\u001b[1;33m)\u001b[0m\u001b[1;33m\u001b[0m\u001b[1;33m\u001b[0m\u001b[0m\n\u001b[0;32m     16\u001b[0m     \u001b[0ma2\u001b[0m\u001b[1;33m.\u001b[0m\u001b[0mresize\u001b[0m\u001b[1;33m(\u001b[0m\u001b[1;33m(\u001b[0m\u001b[0mint\u001b[0m\u001b[1;33m(\u001b[0m\u001b[0mlen\u001b[0m\u001b[1;33m(\u001b[0m\u001b[0mx\u001b[0m\u001b[1;33m)\u001b[0m\u001b[1;33m/\u001b[0m\u001b[1;36m4\u001b[0m\u001b[1;33m)\u001b[0m\u001b[1;33m,\u001b[0m\u001b[1;36m2\u001b[0m\u001b[1;33m)\u001b[0m\u001b[1;33m)\u001b[0m\u001b[1;33m\u001b[0m\u001b[1;33m\u001b[0m\u001b[0m\n\u001b[1;32m---> 17\u001b[1;33m     \u001b[0mprint\u001b[0m\u001b[1;33m(\u001b[0m\u001b[0ma2\u001b[0m\u001b[1;33m[\u001b[0m\u001b[0mi\u001b[0m\u001b[1;33m]\u001b[0m\u001b[1;33m[\u001b[0m\u001b[1;36m0\u001b[0m\u001b[1;33m]\u001b[0m \u001b[1;33m^\u001b[0m \u001b[0ma2\u001b[0m\u001b[1;33m[\u001b[0m\u001b[0mi\u001b[0m\u001b[1;33m]\u001b[0m\u001b[1;33m[\u001b[0m\u001b[1;36m1\u001b[0m\u001b[1;33m]\u001b[0m \u001b[1;33m)\u001b[0m\u001b[1;33m\u001b[0m\u001b[1;33m\u001b[0m\u001b[0m\n\u001b[0m",
      "\u001b[1;31mIndexError\u001b[0m: index 7 is out of bounds for axis 0 with size 4"
     ]
    }
   ],
   "source": [
    "from segment_tree import SegmentTree\n",
    "import numpy as np\n",
    "n = list(map(int,input(\"Enter Integer and No of Queries : \").split()))\n",
    "x = list(map(int,input(\"Enter Sequence : \").split()[:2**n[0]]))\n",
    "Que = []\n",
    "for i in range(n[1]):\n",
    "    Que.append(list(map(int,input(\"Enter Queries : \").split())))\n",
    "for i in range(len(Que)):\n",
    "    SegmentTree(x).update(Que[i][0]-1,Que[i][1])\n",
    "    a1 = np.array(x)\n",
    "    a1.resize((int(len(x)/2),2))\n",
    "    Or = []\n",
    "    for i in range(len(a1)):\n",
    "        Or.append(a1[i][0] | a1[i][1] )\n",
    "    a2 = np.array(Or)\n",
    "    a2.resize((int(len(x)/4),2))\n",
    "    print(a2[i][0] ^ a2[i][1] )"
   ]
  },
  {
   "cell_type": "code",
   "execution_count": 15,
   "id": "63f7c5de",
   "metadata": {},
   "outputs": [
    {
     "data": {
      "text/plain": [
       "[0, 2, 3, 4, 5, 6, 7, 8, 9, 10, 11, 12, 13, 14, 15, 16]"
      ]
     },
     "execution_count": 15,
     "metadata": {},
     "output_type": "execute_result"
    }
   ],
   "source": [
    "x"
   ]
  },
  {
   "cell_type": "code",
   "execution_count": 216,
   "id": "fb83a14e",
   "metadata": {},
   "outputs": [
    {
     "name": "stdout",
     "output_type": "stream",
     "text": [
      "3 6\n",
      "1 5 8 9 7 6 3 4\n",
      "1 6\n",
      "2 9\n",
      "4 7\n",
      "3 2\n",
      "2 4\n",
      "5 3\n",
      "14\n",
      "0\n",
      "6\n",
      "0\n",
      "0\n",
      "0\n",
      "8\n",
      "0\n",
      "1\n",
      "0\n",
      "1\n",
      "0\n"
     ]
    }
   ],
   "source": [
    "# from segment_tree import SegmentTree\n",
    "# import numpy as np\n",
    "# n = list(map(int,input().split()))\n",
    "# x = list(map(int,input().split()[:2**n[0]]))\n",
    "# Que = []\n",
    "# for i in range(n[1]):\n",
    "#     Que.append(list(map(int,input().split())))\n",
    "# for i in range(len(Que)):\n",
    "#     SegmentTree(x).update(Que[i][0]-1,Que[i][1])\n",
    "#     a1 = np.array(x)\n",
    "#     a1.resize((int(len(x)/2),2))\n",
    "#     Or = []\n",
    "#     for i in range(len(a1)):\n",
    "#         Or.append(a1[i][0] | a1[i][1] )\n",
    "#     a2 = np.array(Or)\n",
    "#     a2.resize((int(len(x)/4),2))\n",
    "#     for i in range(len(a2)):\n",
    "#         print(a2[i][0] ^ a2[i][1] )"
   ]
  },
  {
   "cell_type": "code",
   "execution_count": 220,
   "id": "e47073fc",
   "metadata": {},
   "outputs": [
    {
     "data": {
      "text/plain": [
       "2"
      ]
     },
     "execution_count": 220,
     "metadata": {},
     "output_type": "execute_result"
    }
   ],
   "source": [
    "a2[]"
   ]
  },
  {
   "cell_type": "code",
   "execution_count": 214,
   "id": "487ded50",
   "metadata": {},
   "outputs": [
    {
     "ename": "IndexError",
     "evalue": "index 2 is out of bounds for axis 0 with size 2",
     "output_type": "error",
     "traceback": [
      "\u001b[1;31m---------------------------------------------------------------------------\u001b[0m",
      "\u001b[1;31mIndexError\u001b[0m                                Traceback (most recent call last)",
      "\u001b[1;32m~\\AppData\\Local\\Temp/ipykernel_15428/466665436.py\u001b[0m in \u001b[0;36m<module>\u001b[1;34m\u001b[0m\n\u001b[1;32m----> 1\u001b[1;33m \u001b[0ma2\u001b[0m\u001b[1;33m[\u001b[0m\u001b[1;36m0\u001b[0m\u001b[1;33m]\u001b[0m\u001b[1;33m[\u001b[0m\u001b[1;36m2\u001b[0m\u001b[1;33m]\u001b[0m\u001b[1;33m\u001b[0m\u001b[1;33m\u001b[0m\u001b[0m\n\u001b[0m",
      "\u001b[1;31mIndexError\u001b[0m: index 2 is out of bounds for axis 0 with size 2"
     ]
    }
   ],
   "source": [
    "a2[0][2]"
   ]
  },
  {
   "cell_type": "code",
   "execution_count": 204,
   "id": "a615eac7",
   "metadata": {},
   "outputs": [],
   "source": [
    "# for i in range(len(Que)):\n",
    "#     SegmentTree(x1).update(Que[i][0]-1,Que[i][1])\n",
    "#     print(x1)"
   ]
  },
  {
   "cell_type": "code",
   "execution_count": 205,
   "id": "cdd6e12e",
   "metadata": {},
   "outputs": [],
   "source": [
    "# x1 = x.copy()\n",
    "# x1"
   ]
  },
  {
   "cell_type": "code",
   "execution_count": 202,
   "id": "89da9302",
   "metadata": {},
   "outputs": [
    {
     "data": {
      "text/plain": [
       "[1, 4]"
      ]
     },
     "execution_count": 202,
     "metadata": {},
     "output_type": "execute_result"
    }
   ],
   "source": [
    "Que[0]"
   ]
  },
  {
   "cell_type": "code",
   "execution_count": 180,
   "id": "b3db3a5e",
   "metadata": {},
   "outputs": [
    {
     "data": {
      "text/plain": [
       "[4, 6, 3, 5]"
      ]
     },
     "execution_count": 180,
     "metadata": {},
     "output_type": "execute_result"
    }
   ],
   "source": [
    "SegmentTree(x1).update(1-1,4)\n",
    "x1"
   ]
  },
  {
   "cell_type": "code",
   "execution_count": 181,
   "id": "1f84cdde",
   "metadata": {},
   "outputs": [
    {
     "data": {
      "text/plain": [
       "[4, 6, 4, 5]"
      ]
     },
     "execution_count": 181,
     "metadata": {},
     "output_type": "execute_result"
    }
   ],
   "source": [
    "SegmentTree(x1).update(3-1,4)\n",
    "x1"
   ]
  },
  {
   "cell_type": "code",
   "execution_count": 182,
   "id": "512e3ce7",
   "metadata": {},
   "outputs": [
    {
     "data": {
      "text/plain": [
       "[2, 6, 4, 5]"
      ]
     },
     "execution_count": 182,
     "metadata": {},
     "output_type": "execute_result"
    }
   ],
   "source": [
    "SegmentTree(x1).update(1-1,2)\n",
    "x1"
   ]
  },
  {
   "cell_type": "code",
   "execution_count": 183,
   "id": "bba59475",
   "metadata": {},
   "outputs": [
    {
     "data": {
      "text/plain": [
       "[2, 6, 4, 5]"
      ]
     },
     "execution_count": 183,
     "metadata": {},
     "output_type": "execute_result"
    }
   ],
   "source": [
    "SegmentTree(x1).update(1-1,2)\n",
    "x1"
   ]
  },
  {
   "cell_type": "code",
   "execution_count": 184,
   "id": "fd194b22",
   "metadata": {},
   "outputs": [
    {
     "data": {
      "text/plain": [
       "[1, 6, 3, 5]"
      ]
     },
     "execution_count": 184,
     "metadata": {},
     "output_type": "execute_result"
    }
   ],
   "source": [
    "x"
   ]
  },
  {
   "cell_type": "code",
   "execution_count": null,
   "id": "e1d83bf6",
   "metadata": {},
   "outputs": [],
   "source": []
  }
 ],
 "metadata": {
  "kernelspec": {
   "display_name": "Python 3 (ipykernel)",
   "language": "python",
   "name": "python3"
  },
  "language_info": {
   "codemirror_mode": {
    "name": "ipython",
    "version": 3
   },
   "file_extension": ".py",
   "mimetype": "text/x-python",
   "name": "python",
   "nbconvert_exporter": "python",
   "pygments_lexer": "ipython3",
   "version": "3.9.7"
  },
  "varInspector": {
   "cols": {
    "lenName": 16,
    "lenType": 16,
    "lenVar": 40
   },
   "kernels_config": {
    "python": {
     "delete_cmd_postfix": "",
     "delete_cmd_prefix": "del ",
     "library": "var_list.py",
     "varRefreshCmd": "print(var_dic_list())"
    },
    "r": {
     "delete_cmd_postfix": ") ",
     "delete_cmd_prefix": "rm(",
     "library": "var_list.r",
     "varRefreshCmd": "cat(var_dic_list()) "
    }
   },
   "types_to_exclude": [
    "module",
    "function",
    "builtin_function_or_method",
    "instance",
    "_Feature"
   ],
   "window_display": false
  }
 },
 "nbformat": 4,
 "nbformat_minor": 5
}
