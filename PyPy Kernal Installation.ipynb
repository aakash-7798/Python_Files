{
 "cells": [
  {
   "cell_type": "code",
   "execution_count": 1,
   "id": "7386a866",
   "metadata": {
    "ExecuteTime": {
     "end_time": "2022-01-27T14:49:42.146600Z",
     "start_time": "2022-01-27T14:49:42.133637Z"
    }
   },
   "outputs": [],
   "source": [
    "# pypy3 -m venv PyPy3\n",
    "# source PyPy3/bin/activate  # in POSIX, or...\n",
    "# PyPy3\\Scripts\\activate.bat  # in Windows\n",
    "# pypy3 -m pip install ipykernel\n",
    "# ipython kernel install --user --name=PyPy3"
   ]
  },
  {
   "cell_type": "code",
   "execution_count": null,
   "id": "8fdf73f3",
   "metadata": {},
   "outputs": [],
   "source": [
    "# # Provided you have a system-wide / user installation of jupyter. You can follow:\n",
    "\n",
    "# pypy3 -m venv PyPy3\n",
    "# source PyPy3/bin/activate  # in POSIX, or...\n",
    "# PyPy3\\Scripts\\activate.bat  # in Windows\n",
    "# pypy3 -m pip install ipykernel\n",
    "# ipython kernel install --user --name=PyPy3\n",
    "# # Now exit the virtual environment and verify installation:\n",
    "\n",
    "# jupyter kernelspec list\n",
    "# # Open Jupyter notebook or lab interface."
   ]
  }
 ],
 "metadata": {
  "kernelspec": {
   "display_name": "Python 3 (ipykernel)",
   "language": "python",
   "name": "python3"
  },
  "language_info": {
   "codemirror_mode": {
    "name": "ipython",
    "version": 3
   },
   "file_extension": ".py",
   "mimetype": "text/x-python",
   "name": "python",
   "nbconvert_exporter": "python",
   "pygments_lexer": "ipython3",
   "version": "3.9.7"
  },
  "nbTranslate": {
   "displayLangs": [
    "*"
   ],
   "hotkey": "alt-t",
   "langInMainMenu": true,
   "sourceLang": "en",
   "targetLang": "fr",
   "useGoogleTranslate": true
  },
  "varInspector": {
   "cols": {
    "lenName": 16,
    "lenType": 16,
    "lenVar": 40
   },
   "kernels_config": {
    "python": {
     "delete_cmd_postfix": "",
     "delete_cmd_prefix": "del ",
     "library": "var_list.py",
     "varRefreshCmd": "print(var_dic_list())"
    },
    "r": {
     "delete_cmd_postfix": ") ",
     "delete_cmd_prefix": "rm(",
     "library": "var_list.r",
     "varRefreshCmd": "cat(var_dic_list()) "
    }
   },
   "types_to_exclude": [
    "module",
    "function",
    "builtin_function_or_method",
    "instance",
    "_Feature"
   ],
   "window_display": false
  }
 },
 "nbformat": 4,
 "nbformat_minor": 5
}
