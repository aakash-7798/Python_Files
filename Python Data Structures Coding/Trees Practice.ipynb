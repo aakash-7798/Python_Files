{
 "cells": [
  {
   "cell_type": "code",
   "execution_count": 17,
   "id": "acafecff",
   "metadata": {
    "ExecuteTime": {
     "end_time": "2022-07-05T13:08:16.385123Z",
     "start_time": "2022-07-05T13:08:16.375123Z"
    }
   },
   "outputs": [],
   "source": [
    "class BinaryTree:\n",
    "    def __init__(self,data):\n",
    "        self.data = data\n",
    "        self.leftChild = None\n",
    "        self.rightChild = None"
   ]
  },
  {
   "cell_type": "code",
   "execution_count": 21,
   "id": "e8403a6d",
   "metadata": {
    "ExecuteTime": {
     "end_time": "2022-07-05T13:14:01.116306Z",
     "start_time": "2022-07-05T13:14:01.101373Z"
    }
   },
   "outputs": [],
   "source": [
    "elements = [50,40,60,30,20,70,90]"
   ]
  },
  {
   "cell_type": "code",
   "execution_count": 20,
   "id": "634a0478",
   "metadata": {
    "ExecuteTime": {
     "end_time": "2022-07-05T13:13:13.617847Z",
     "start_time": "2022-07-05T13:13:13.608876Z"
    }
   },
   "outputs": [],
   "source": [
    "root = BinaryTree(50)"
   ]
  },
  {
   "cell_type": "code",
   "execution_count": 19,
   "id": "625c4df7",
   "metadata": {
    "ExecuteTime": {
     "end_time": "2022-07-05T13:12:54.909134Z",
     "start_time": "2022-07-05T13:12:54.898195Z"
    }
   },
   "outputs": [],
   "source": [
    "root.leftChild  = BinaryTree(40)\n",
    "root.rightChild = BinaryTree(60)\n",
    "root.leftChild.leftChild = BinaryTree(30)\n",
    "root.leftChild.rightChild = BinaryTree(20)\n",
    "root.rightChild.leftChild = BinaryTree(70)\n",
    "root.rightChild.rightChild  = BinaryTree(90)"
   ]
  },
  {
   "cell_type": "code",
   "execution_count": 33,
   "id": "78c2e3b7",
   "metadata": {
    "ExecuteTime": {
     "end_time": "2022-07-05T13:18:07.202603Z",
     "start_time": "2022-07-05T13:18:07.180662Z"
    }
   },
   "outputs": [],
   "source": [
    "def split(n,s):\n",
    "    arrs = []\n",
    "    while(len(n)>=s):\n",
    "        par = n[:s]\n",
    "        n = n[s:]\n",
    "        arrs.append(par)\n",
    "    if len(n)>=1:\n",
    "        arrs.append(n)\n",
    "    return arrs"
   ]
  },
  {
   "cell_type": "code",
   "execution_count": 36,
   "id": "8d897dd0",
   "metadata": {
    "ExecuteTime": {
     "end_time": "2022-07-05T13:19:55.559857Z",
     "start_time": "2022-07-05T13:19:55.545898Z"
    }
   },
   "outputs": [
    {
     "data": {
      "text/plain": [
       "[[40, 60], [30, 20], [70, 90]]"
      ]
     },
     "execution_count": 36,
     "metadata": {},
     "output_type": "execute_result"
    }
   ],
   "source": [
    "split(elements[1:],2)"
   ]
  },
  {
   "cell_type": "code",
   "execution_count": null,
   "id": "e031ac6e",
   "metadata": {},
   "outputs": [],
   "source": []
  }
 ],
 "metadata": {
  "hide_input": false,
  "kernelspec": {
   "display_name": "Python 3 (ipykernel)",
   "language": "python",
   "name": "python3"
  },
  "language_info": {
   "codemirror_mode": {
    "name": "ipython",
    "version": 3
   },
   "file_extension": ".py",
   "mimetype": "text/x-python",
   "name": "python",
   "nbconvert_exporter": "python",
   "pygments_lexer": "ipython3",
   "version": "3.9.7"
  },
  "nbTranslate": {
   "displayLangs": [
    "*"
   ],
   "hotkey": "alt-t",
   "langInMainMenu": true,
   "sourceLang": "en",
   "targetLang": "fr",
   "useGoogleTranslate": true
  },
  "varInspector": {
   "cols": {
    "lenName": 16,
    "lenType": 16,
    "lenVar": 40
   },
   "kernels_config": {
    "python": {
     "delete_cmd_postfix": "",
     "delete_cmd_prefix": "del ",
     "library": "var_list.py",
     "varRefreshCmd": "print(var_dic_list())"
    },
    "r": {
     "delete_cmd_postfix": ") ",
     "delete_cmd_prefix": "rm(",
     "library": "var_list.r",
     "varRefreshCmd": "cat(var_dic_list()) "
    }
   },
   "types_to_exclude": [
    "module",
    "function",
    "builtin_function_or_method",
    "instance",
    "_Feature"
   ],
   "window_display": false
  }
 },
 "nbformat": 4,
 "nbformat_minor": 5
}
