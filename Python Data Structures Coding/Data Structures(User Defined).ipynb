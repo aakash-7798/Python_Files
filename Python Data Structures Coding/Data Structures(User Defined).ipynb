{
 "cells": [
  {
   "cell_type": "code",
   "execution_count": 210,
   "id": "235a9c9a",
   "metadata": {
    "ExecuteTime": {
     "end_time": "2022-07-13T12:33:52.638345Z",
     "start_time": "2022-07-13T12:33:52.623375Z"
    }
   },
   "outputs": [],
   "source": [
    "# !pip install dstructure"
   ]
  },
  {
   "cell_type": "code",
   "execution_count": 4,
   "id": "f7465a23",
   "metadata": {
    "ExecuteTime": {
     "end_time": "2022-07-19T09:32:06.744280Z",
     "start_time": "2022-07-19T09:32:06.718348Z"
    }
   },
   "outputs": [],
   "source": [
    "### Linked List\n",
    "\n",
    "class Node:\n",
    "    def __init__(self,ele):\n",
    "        self.data = ele\n",
    "        self.next = None\n",
    "class LinkedList:\n",
    "    def __init__(self):\n",
    "        self.head = None\n",
    "        \n",
    "    def insertFirst(self,new_data):\n",
    "        new_node = Node(new_data)\n",
    "        new_node.next = self.head\n",
    "        self.head = new_node\n",
    "    \n",
    "    def insertAfter(self,prev_node,new_data):\n",
    "        new_node = Node(new_data)\n",
    "        if self.head is None:\n",
    "            return\n",
    "        elif prev_node == self.head.data:\n",
    "            self.head.next = new_node\n",
    "        else:\n",
    "            temp = self.head\n",
    "            while(temp):\n",
    "                if temp.data==prev_node:\n",
    "                    new_node.next = temp.next\n",
    "                    temp.next = new_node\n",
    "                    break\n",
    "                temp = temp.next\n",
    "                \n",
    "    def insert(self,new_data):\n",
    "        new_node = Node(new_data)\n",
    "        if self.head is None:\n",
    "            self.head = new_node\n",
    "            return\n",
    "        temp=self.head\n",
    "        while(temp.next):\n",
    "            temp = temp.next\n",
    "        temp.next = new_node\n",
    "    \n",
    "    def delete(self,del_data):\n",
    "        temp = self.head\n",
    "        while(temp):\n",
    "            if temp.data == del_data:\n",
    "                break\n",
    "            prev = temp\n",
    "            temp = temp.next\n",
    "        prev.next = temp.next\n",
    "        \n",
    "    def PrintLinkedList(self):\n",
    "#         pt = []\n",
    "        temp = self.head\n",
    "        while(temp):\n",
    "            print(temp.data,end=' ')\n",
    "#             pt.append(temp.data)\n",
    "            temp = temp.next\n",
    "#         return ' -> '.join([str(i) for i in pt])"
   ]
  },
  {
   "cell_type": "code",
   "execution_count": 5,
   "id": "fd216178",
   "metadata": {
    "ExecuteTime": {
     "end_time": "2022-07-19T09:32:07.508921Z",
     "start_time": "2022-07-19T09:32:07.492933Z"
    }
   },
   "outputs": [
    {
     "name": "stdout",
     "output_type": "stream",
     "text": [
      "2 5 8 11 14 17 20 23 26 29 32 35 38 41 44 47 None\n"
     ]
    }
   ],
   "source": [
    "Ll = LinkedList()\n",
    "items = [i for i in range(2,50,3)]\n",
    "for i in items:\n",
    "    Ll.insert(i)\n",
    "print(Ll.PrintLinkedList())"
   ]
  },
  {
   "cell_type": "code",
   "execution_count": 11,
   "id": "6abb7519",
   "metadata": {
    "ExecuteTime": {
     "end_time": "2022-07-20T11:18:41.695316Z",
     "start_time": "2022-07-20T11:18:41.594590Z"
    }
   },
   "outputs": [],
   "source": [
    "class Node1:\n",
    "    def __init__(self,data):\n",
    "        self.data = data\n",
    "        self.next = None\n",
    "        self.prev = None\n",
    "        \n",
    "class DoublyLinkedList:\n",
    "    def __init__(self):\n",
    "        self.head = None\n",
    "        self.tail = None\n",
    "        \n",
    "    def insert(self,new_data):\n",
    "        new_node = Node1(new_data)\n",
    "        if self.head is None:\n",
    "            self.head = new_node\n",
    "            self.tail = new_node\n",
    "            new_node.prev = None\n",
    "        else:\n",
    "            temp = self.head\n",
    "            while(temp.next):\n",
    "                temp = temp.next\n",
    "            temp.next = new_node\n",
    "            self.tail = new_node\n",
    "    \n",
    "    def push_front(self,new_data):\n",
    "        new_node = Node1(new_data)\n",
    "        if self.head is None:\n",
    "            self.head = new_node\n",
    "            self.tail = new_node\n",
    "            new_node.prev = None\n",
    "        else:\n",
    "            new_node.next = self.head\n",
    "            self.head = new_node\n",
    "            new_node.prev = None\n",
    "            \n",
    "    def push_back(self,new_data):\n",
    "        new_node  = Node1(new_data)\n",
    "        if self.head is None:\n",
    "            self.head = new_node\n",
    "            self.tail = new_node\n",
    "            new_node.prev = None\n",
    "        else:\n",
    "            self.tail.next = new_node\n",
    "            new_node.prev = self.tail\n",
    "            self.tail = new_node\n",
    "            new_node.next = None\n",
    "        \n",
    "    def front(self):\n",
    "        if self.head is None:\n",
    "            print('There aren\\'t any nodes to show!')\n",
    "        else:\n",
    "            print(self.head.data)\n",
    "    \n",
    "    def rear(self):\n",
    "        if self.head is None:\n",
    "            print('There aren\\'t any nodes to show!')\n",
    "        else:\n",
    "            print(self.tail.data)\n",
    "            \n",
    "    def insertAfter(self,data,new_data):\n",
    "        new_node = Node1(new_data)\n",
    "        if self.head is None:\n",
    "            print('There aren\\'t any nodes to insert after!')\n",
    "            \n",
    "        elif self.head.data == data:\n",
    "            new_node.next = self.head.next\n",
    "            self.head.next = new_node\n",
    "        \n",
    "        elif self.tail.data == data:\n",
    "            self.tail.next = new_node\n",
    "            self.tail = new_node\n",
    "        \n",
    "        else:\n",
    "            temp = self.head\n",
    "            while(temp):\n",
    "                if temp.data == data:\n",
    "                    new_node.next = temp.next\n",
    "                    temp.next = new_node\n",
    "                temp = temp.next\n",
    "    \n",
    "#     def insertbeforenode(self,srch_data,data):\n",
    "#         if srch_data == self.head.data: # <-- if you try to insert before the head\n",
    "#             self.push_front(data)\n",
    "#         else:\n",
    "#             node = Node1(data)\n",
    "#             ptr = self.head\n",
    "#             while ptr:\n",
    "#                 if ptr.data == srch_data:\n",
    "#                     node.prev = ptr.prev\n",
    "#                     node.next = ptr\n",
    "#                     ptr.prev = node\n",
    "# #                     node.prev.next = node  # <--\n",
    "#                     break  # <--- when you find your node you have to quit from the loop\n",
    "#                 else:\n",
    "#                     ptr = ptr.next\n",
    "    \n",
    "    def insertBefore(self,index,new_data):\n",
    "        new_node= Node1(new_data)\n",
    "        \n",
    "        if index<0 or index>=self.get_length():\n",
    "            raise Exception(\"Invalid Index\")\n",
    "            \n",
    "        elif index==0:\n",
    "            self.push_front(new_data)\n",
    "            \n",
    "        else:\n",
    "            count=0\n",
    "            temp = self.head\n",
    "            while(temp):\n",
    "                if count==index-1:\n",
    "                    new_node.prev = temp.prev\n",
    "                    new_node.next = temp\n",
    "                    temp.prev = new_node\n",
    "                    break\n",
    "                temp = temp.next\n",
    "                count+=1\n",
    "                \n",
    "    def get_length(self):\n",
    "        temp = self.head\n",
    "        count = 0\n",
    "        while(temp):\n",
    "            count+=1\n",
    "            temp = temp.next\n",
    "        return count\n",
    "        \n",
    "    def remove_at(self,index):\n",
    "        \n",
    "        if index<0 or index>=self.get_length():\n",
    "            raise Exception(\"Invalid Index\")\n",
    "        elif index==0:\n",
    "            self.head = self.head.next\n",
    "        else:\n",
    "            count=0\n",
    "            temp = self.head\n",
    "            while(temp):\n",
    "                if count==index-1:\n",
    "                    temp.next = temp.next.next\n",
    "                    break\n",
    "                temp = temp.next\n",
    "                count+=1\n",
    "            \n",
    "    def pop_front(self):\n",
    "        if self.head is None:\n",
    "            print('There aren\\'t any nodes to delete front!')\n",
    "        else:\n",
    "            temp = self.head\n",
    "            temp.next.prev = None\n",
    "            self.head = temp.next\n",
    "            temp.next = None  \n",
    "            \n",
    "    def pop_rear(self):\n",
    "        if self.head is None:\n",
    "            print('There aren\\'t any nodes to delete last!')\n",
    "        else:\n",
    "            temp = self.tail\n",
    "            temp.prev.next = None\n",
    "            self.tail = temp.prev\n",
    "            temp.prev = None\n",
    "\n",
    "    def PrintDoublyLinkedList(self):\n",
    "        if self.head is None:\n",
    "            print('There aren\\'t any nodes to print')\n",
    "        temp = self.head\n",
    "        while(temp):\n",
    "            print(temp.data,end=' ')\n",
    "            temp = temp.next"
   ]
  },
  {
   "cell_type": "code",
   "execution_count": 12,
   "id": "609905be",
   "metadata": {
    "ExecuteTime": {
     "end_time": "2022-07-20T11:18:44.268071Z",
     "start_time": "2022-07-20T11:18:44.257129Z"
    }
   },
   "outputs": [],
   "source": [
    "Dl = DoublyLinkedList()\n",
    "items = [i for i in range(2,50,3)]"
   ]
  },
  {
   "cell_type": "code",
   "execution_count": 13,
   "id": "e44769bd",
   "metadata": {
    "ExecuteTime": {
     "end_time": "2022-07-20T11:18:45.950686Z",
     "start_time": "2022-07-20T11:18:45.929742Z"
    }
   },
   "outputs": [
    {
     "name": "stdout",
     "output_type": "stream",
     "text": [
      "2 5 8 11 14 17 20 23 26 29 32 35 38 41 44 47 "
     ]
    }
   ],
   "source": [
    "for i in items:\n",
    "    Dl.insert(i)\n",
    "Dl.PrintDoublyLinkedList()"
   ]
  },
  {
   "cell_type": "code",
   "execution_count": 14,
   "id": "a1cbc186",
   "metadata": {
    "ExecuteTime": {
     "end_time": "2022-07-20T11:19:03.464518Z",
     "start_time": "2022-07-20T11:19:03.453552Z"
    }
   },
   "outputs": [
    {
     "name": "stdout",
     "output_type": "stream",
     "text": [
      "2 3 5 8 11 14 17 20 23 26 29 32 35 38 41 44 47 "
     ]
    }
   ],
   "source": [
    "Dl.insertAfter(2,3)\n",
    "# Dl.push_front(1)\n",
    "# Dl.push_back(50)\n",
    "# Dl.front()\n",
    "# Dl.rear()\n",
    "Dl.PrintDoublyLinkedList()"
   ]
  },
  {
   "cell_type": "code",
   "execution_count": 114,
   "id": "798036fd",
   "metadata": {
    "ExecuteTime": {
     "end_time": "2022-07-14T13:03:28.359955Z",
     "start_time": "2022-07-14T13:03:28.351975Z"
    }
   },
   "outputs": [
    {
     "name": "stdout",
     "output_type": "stream",
     "text": [
      "2 5 8 11 14 17 20 23 26 29 32 35 38 41 44 47 "
     ]
    }
   ],
   "source": [
    "Dl.pop_front()\n",
    "Dl.pop_rear()\n",
    "Dl.PrintDoublyLinkedList()"
   ]
  },
  {
   "cell_type": "code",
   "execution_count": 118,
   "id": "a184d5cb",
   "metadata": {
    "ExecuteTime": {
     "end_time": "2022-07-14T13:03:54.009056Z",
     "start_time": "2022-07-14T13:03:53.992103Z"
    }
   },
   "outputs": [
    {
     "name": "stdout",
     "output_type": "stream",
     "text": [
      "2 5 8 11 14 17 20 23 26 29 32 35 38 41 44 47 "
     ]
    }
   ],
   "source": [
    "# Dl.insertAfter(2,4)\n",
    "# Dl.insertAfter(11,13)\n",
    "# Dl.insertBefore(47,46)\n",
    "Dl.insertBefore(Dl.get_length()-1,46)\n",
    "# Dl.get_length()\n",
    "# Dl.remove_at(555)\n",
    "# Dl.tail\n",
    "# Dl.insertbeforenode(47,46)\n",
    "Dl.PrintDoublyLinkedList()"
   ]
  },
  {
   "cell_type": "code",
   "execution_count": 273,
   "id": "bffdd7b7",
   "metadata": {
    "ExecuteTime": {
     "end_time": "2022-07-13T13:42:26.553179Z",
     "start_time": "2022-07-13T13:42:26.535023Z"
    }
   },
   "outputs": [],
   "source": [
    "from dstructure.SLL import SLL\n",
    "sll = SLL()"
   ]
  },
  {
   "cell_type": "code",
   "execution_count": 274,
   "id": "e23c26df",
   "metadata": {
    "ExecuteTime": {
     "end_time": "2022-07-13T13:42:26.923606Z",
     "start_time": "2022-07-13T13:42:26.904572Z"
    }
   },
   "outputs": [
    {
     "name": "stdout",
     "output_type": "stream",
     "text": [
      "2 -> 5 -> 8 -> 11 -> 14 -> 17 -> 20 -> 23 -> 26 -> 29 -> 32 -> 35 -> 38 -> 41 -> 44 -> 47\n"
     ]
    }
   ],
   "source": [
    "items = [i for i in range(2,50,3)]\n",
    "for i in items:\n",
    "    sll.insert(i)\n",
    "sll.print()"
   ]
  },
  {
   "cell_type": "code",
   "execution_count": 275,
   "id": "98394fc4",
   "metadata": {
    "ExecuteTime": {
     "end_time": "2022-07-13T13:42:30.155551Z",
     "start_time": "2022-07-13T13:42:30.136427Z"
    }
   },
   "outputs": [
    {
     "name": "stdout",
     "output_type": "stream",
     "text": [
      "2 -> 5 -> 8 -> 11 -> 14 -> 17 -> 20 -> 23 -> 26 -> 29 -> 32 -> 35 -> 38 -> 41 -> 44 -> 47\n"
     ]
    }
   ],
   "source": [
    "# sll.reverse()\n",
    "# sll.getnodes()\n",
    "# sll.delete_f()\n",
    "sll.print()"
   ]
  },
  {
   "cell_type": "code",
   "execution_count": 10,
   "id": "bfca0127",
   "metadata": {
    "ExecuteTime": {
     "end_time": "2022-07-19T09:55:20.114645Z",
     "start_time": "2022-07-19T09:55:20.099687Z"
    }
   },
   "outputs": [
    {
     "name": "stdout",
     "output_type": "stream",
     "text": [
      "0  --> \n",
      "None\n"
     ]
    }
   ],
   "source": [
    "# ## Linked List Implementation\n",
    "# import self as self\n",
    "#\n",
    "#\n",
    "class Node:\n",
    "    def __int__(self, ele):\n",
    "        self.data = ele\n",
    "        self.next = None\n",
    "\n",
    "class Linked_List:\n",
    "\n",
    "    def __int__(self):\n",
    "        self.head = None\n",
    "\n",
    "\n",
    "    def insert(self,value):\n",
    "        new_node = Node(value)\n",
    "        if self.head is None:\n",
    "            self.head = new_node\n",
    "            returne\n",
    "        else:\n",
    "            temp = self.head\n",
    "            while(temp.next):\n",
    "                temp = temp.next\n",
    "            temp.next= new_node\n",
    "\n",
    "\n",
    "    def print_list(self):\n",
    "        if self.head is None:\n",
    "            print(\"No Elements To Print...\")\n",
    "        temp = self.head\n",
    "        while(temp):\n",
    "            print(temp.data,\" --> \")\n",
    "            temp = temp.next\n",
    "        print(\"None\")\n",
    "\n",
    "    ### Initializing\n",
    "ll = Linked_List()\n",
    "ll.insert(0)\n",
    "ll.print_list()\n"
   ]
  },
  {
   "cell_type": "code",
   "execution_count": null,
   "id": "88aa777f",
   "metadata": {},
   "outputs": [],
   "source": []
  },
  {
   "cell_type": "code",
   "execution_count": null,
   "id": "b080edcf",
   "metadata": {},
   "outputs": [],
   "source": []
  }
 ],
 "metadata": {
  "hide_input": false,
  "kernelspec": {
   "display_name": "Python 3 (ipykernel)",
   "language": "python",
   "name": "python3"
  },
  "language_info": {
   "codemirror_mode": {
    "name": "ipython",
    "version": 3
   },
   "file_extension": ".py",
   "mimetype": "text/x-python",
   "name": "python",
   "nbconvert_exporter": "python",
   "pygments_lexer": "ipython3",
   "version": "3.9.7"
  },
  "nbTranslate": {
   "displayLangs": [
    "*"
   ],
   "hotkey": "alt-t",
   "langInMainMenu": true,
   "sourceLang": "en",
   "targetLang": "fr",
   "useGoogleTranslate": true
  },
  "varInspector": {
   "cols": {
    "lenName": 16,
    "lenType": 16,
    "lenVar": 40
   },
   "kernels_config": {
    "python": {
     "delete_cmd_postfix": "",
     "delete_cmd_prefix": "del ",
     "library": "var_list.py",
     "varRefreshCmd": "print(var_dic_list())"
    },
    "r": {
     "delete_cmd_postfix": ") ",
     "delete_cmd_prefix": "rm(",
     "library": "var_list.r",
     "varRefreshCmd": "cat(var_dic_list()) "
    }
   },
   "types_to_exclude": [
    "module",
    "function",
    "builtin_function_or_method",
    "instance",
    "_Feature"
   ],
   "window_display": false
  }
 },
 "nbformat": 4,
 "nbformat_minor": 5
}
