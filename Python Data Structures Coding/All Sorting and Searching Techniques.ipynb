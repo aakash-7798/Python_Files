{
 "cells": [
  {
   "cell_type": "code",
   "execution_count": null,
   "id": "e87bae41",
   "metadata": {
    "ExecuteTime": {
     "end_time": "2022-06-07T16:33:21.892232Z",
     "start_time": "2022-06-07T16:33:21.887244Z"
    },
    "pycharm": {
     "is_executing": true,
     "name": "#%%\n"
    }
   },
   "outputs": [],
   "source": [
    "import itertools \n",
    "from itertools import chain\n",
    "import random"
   ]
  },
  {
   "cell_type": "code",
   "execution_count": 2,
   "id": "43b5075a",
   "metadata": {
    "ExecuteTime": {
     "end_time": "2022-07-03T13:10:34.515430Z",
     "start_time": "2022-07-03T13:10:34.497263Z"
    },
    "pycharm": {
     "name": "#%%\n"
    }
   },
   "outputs": [
    {
     "name": "stdout",
     "output_type": "stream",
     "text": [
      "        UnSorted List         :  [0, 2, 1, 2, 0]\n",
      "Sorted List Using Bubble Sort :  [0, 0, 1, 2, 2]\n"
     ]
    }
   ],
   "source": [
    "# nums = '2 25 8 9 7 8 2 1 5 8 33 5 58 35 69 8 7 56 23 21 25 44 66 78 98'\n",
    "# n = [int(i) for i in nums.split()]\n",
    "n = [0,2,1,2,0]\n",
    "# n = [7,40,25,42,4,78,96,5,88,3,2,1,8]\n",
    "print(\"        UnSorted List         : \",n)\n",
    "for i in range(len(n)):\n",
    "    for j in range(len(n)-i-1):\n",
    "        if(n[j]>n[j+1]):\n",
    "            n[j],n[j+1]=n[j+1],n[j]\n",
    "print(\"Sorted List Using Bubble Sort : \",n)"
   ]
  },
  {
   "cell_type": "code",
   "execution_count": 13,
   "id": "67e95c9d",
   "metadata": {
    "ExecuteTime": {
     "end_time": "2022-06-24T12:15:38.628043Z",
     "start_time": "2022-06-24T12:15:38.611062Z"
    },
    "pycharm": {
     "name": "#%%\n"
    }
   },
   "outputs": [
    {
     "name": "stdout",
     "output_type": "stream",
     "text": [
      "           UnSorted List         :  [2, 25, 8, 9, 7, 8, 2, 1, 5, 8, 33, 5, 58, 35, 69, 8, 7, 56, 23, 21, 25, 44, 66, 78, 98]\n",
      "Sorted List Using Selection Sort :  [1, 2, 2, 5, 5, 7, 7, 8, 8, 8, 8, 9, 21, 23, 25, 25, 33, 35, 44, 56, 58, 66, 69, 78, 98]\n"
     ]
    }
   ],
   "source": [
    "nums = '2 25 8 9 7 8 2 1 5 8 33 5 58 35 69 8 7 56 23 21 25 44 66 78 98'\n",
    "n = [int(i) for i in nums.split()]\n",
    "# n = [7,40,25,42,4,78,96,5,88,3,2,1,8]\n",
    "print(\"           UnSorted List         : \",n)\n",
    "for i in range(len(n)):\n",
    "    min_id = i\n",
    "    for j in range(i+1,len(n)):\n",
    "        if(n[min_id]>n[j]):\n",
    "            min_id = j\n",
    "    n[min_id],n[i]=n[i],n[min_id]\n",
    "print(\"Sorted List Using Selection Sort : \",n)"
   ]
  },
  {
   "cell_type": "code",
   "execution_count": 9,
   "id": "20b04585",
   "metadata": {
    "ExecuteTime": {
     "end_time": "2022-06-24T11:46:57.983105Z",
     "start_time": "2022-06-24T11:46:57.975129Z"
    },
    "pycharm": {
     "name": "#%%\n"
    }
   },
   "outputs": [
    {
     "name": "stdout",
     "output_type": "stream",
     "text": [
      "           UnSorted List         :  [2, 25, 8, 9, 7, 8, 2, 1, 5, 8, 33, 5, 58, 35, 69, 8, 7, 56, 23, 21, 25, 44, 66, 78, 98]\n",
      "Sorted List Using Insertion Sort :  [1, 2, 2, 5, 5, 7, 7, 8, 8, 8, 8, 9, 21, 23, 25, 25, 33, 35, 44, 56, 58, 66, 69, 78, 98]\n"
     ]
    }
   ],
   "source": [
    "nums = '2 25 8 9 7 8 2 1 5 8 33 5 58 35 69 8 7 56 23 21 25 44 66 78 98'\n",
    "n = [int(i) for i in nums.split()]\n",
    "# n = [7,40,25,42,4,78,96,5,88,3,2,1,8]\n",
    "print(\"           UnSorted List         : \",n)\n",
    "for i in range(len(n)):\n",
    "    j=i-1\n",
    "    while(j>=0):\n",
    "        if(n[j]>n[j+1]):\n",
    "            n[j],n[j+1]=n[j+1],n[j]\n",
    "        j=j-1\n",
    "print(\"Sorted List Using Insertion Sort : \",n)"
   ]
  },
  {
   "cell_type": "code",
   "execution_count": 403,
   "id": "270f76e9",
   "metadata": {
    "ExecuteTime": {
     "end_time": "2022-06-04T17:55:05.306029Z",
     "start_time": "2022-06-04T17:55:05.296053Z"
    },
    "pycharm": {
     "name": "#%%\n"
    }
   },
   "outputs": [],
   "source": [
    "# n = [7,40,25,42,4,78,96,5,88,3,2,1,8]\n",
    "# def MyPartition(n):\n",
    "#     for i in range(len(n)):\n",
    "#         Parts = [[]*3 for p in range(3)]\n",
    "#         pivot = n[0]\n",
    "#         for j in range(len(n)):\n",
    "#             if(n[j]>pivot):\n",
    "#                 Parts[2].append(n[j])\n",
    "#             if(n[j]<pivot):\n",
    "#                 Parts[0].append(n[j])\n",
    "#             if(n[j]==n[i]):\n",
    "#                 Parts[1].append(pivot)\n",
    "#     return Parts\n",
    "# MyPartition(n)"
   ]
  },
  {
   "cell_type": "code",
   "execution_count": 8,
   "id": "116ce16c",
   "metadata": {
    "ExecuteTime": {
     "end_time": "2022-06-05T07:41:31.265877Z",
     "start_time": "2022-06-05T07:41:31.232964Z"
    },
    "pycharm": {
     "name": "#%%\n"
    }
   },
   "outputs": [
    {
     "data": {
      "text/plain": [
       "4"
      ]
     },
     "execution_count": 8,
     "metadata": {},
     "output_type": "execute_result"
    }
   ],
   "source": [
    "random.choice(n)"
   ]
  },
  {
   "cell_type": "code",
   "execution_count": 24,
   "id": "3bc02be9",
   "metadata": {
    "ExecuteTime": {
     "end_time": "2022-06-05T08:43:13.334400Z",
     "start_time": "2022-06-05T08:43:13.320438Z"
    },
    "pycharm": {
     "name": "#%%\n"
    }
   },
   "outputs": [
    {
     "name": "stdout",
     "output_type": "stream",
     "text": [
      "[[4, 5, 3, 2, 1], [7], [40, 25, 42, 78, 96, 88, 8]]\n",
      "[[7, 25, 4, 5, 3, 2, 1, 8], [40], [42, 78, 96, 88]]\n",
      "[[7, 4, 5, 3, 2, 1, 8], [25], [40, 42, 78, 96, 88]]\n",
      "[[7, 40, 25, 4, 5, 3, 2, 1, 8], [42], [78, 96, 88]]\n",
      "[[3, 2, 1], [4], [7, 40, 25, 42, 78, 96, 5, 88, 8]]\n",
      "[[7, 40, 25, 42, 4, 5, 3, 2, 1, 8], [78], [96, 88]]\n",
      "[[7, 40, 25, 42, 4, 78, 5, 88, 3, 2, 1, 8], [96], []]\n",
      "[[4, 3, 2, 1], [5], [7, 40, 25, 42, 78, 96, 88, 8]]\n",
      "[[7, 40, 25, 42, 4, 78, 5, 3, 2, 1, 8], [88], [96]]\n",
      "[[2, 1], [3], [7, 40, 25, 42, 4, 78, 96, 5, 88, 8]]\n",
      "[[1], [2], [7, 40, 25, 42, 4, 78, 96, 5, 88, 3, 8]]\n",
      "[[], [1], [7, 40, 25, 42, 4, 78, 96, 5, 88, 3, 2, 8]]\n",
      "[[7, 4, 5, 3, 2, 1], [8], [40, 25, 42, 78, 96, 88]]\n"
     ]
    }
   ],
   "source": [
    "n = [7,40,25,42,4,78,96,5,88,3,2,1,8]\n",
    "for pv in n:\n",
    "    pivot = pv\n",
    "    for i in range(len(n)):\n",
    "        Parts = [[]*3 for p in range(3)]\n",
    "        for j in range(len(n)):\n",
    "            if(n[j]>pivot):\n",
    "                Parts[2].append(n[j])\n",
    "            if(n[j]<pivot):\n",
    "                Parts[0].append(n[j])\n",
    "            if(n[j]==n[i]):\n",
    "                Parts[1].append(pivot)\n",
    "    print(Parts)"
   ]
  },
  {
   "cell_type": "code",
   "execution_count": 10,
   "id": "aa8e76c0",
   "metadata": {
    "ExecuteTime": {
     "end_time": "2022-06-05T07:42:43.325996Z",
     "start_time": "2022-06-05T07:42:43.302059Z"
    },
    "pycharm": {
     "name": "#%%\n"
    }
   },
   "outputs": [
    {
     "data": {
      "text/plain": [
       "[[7, 4, 5, 3, 2, 1, 8], [25], [40, 42, 78, 96, 88]]"
      ]
     },
     "execution_count": 10,
     "metadata": {},
     "output_type": "execute_result"
    }
   ],
   "source": [
    "n = [7,40,25,42,4,78,96,5,88,3,2,1,8]\n",
    "def MyPartition(n):\n",
    "    for i in range(len(n)):\n",
    "        Parts = [[]*3 for p in range(3)]\n",
    "#         pivot = n[i]\n",
    "        pivot = random.choice(n)\n",
    "        for j in range(len(n)):\n",
    "            if(n[j]>pivot):\n",
    "                Parts[2].append(n[j])\n",
    "            if(n[j]<pivot):\n",
    "                Parts[0].append(n[j])\n",
    "            if(n[j]==n[i]):\n",
    "                Parts[1].append(pivot)\n",
    "        return Parts\n",
    "#         return list(chain(*Parts))\n",
    "MyPartition(n)"
   ]
  },
  {
   "cell_type": "code",
   "execution_count": 40,
   "id": "de1c4e40",
   "metadata": {
    "ExecuteTime": {
     "end_time": "2022-06-07T16:25:21.939233Z",
     "start_time": "2022-06-07T16:25:21.911309Z"
    },
    "pycharm": {
     "name": "#%%\n"
    }
   },
   "outputs": [
    {
     "data": {
      "text/plain": [
       "5"
      ]
     },
     "execution_count": 40,
     "metadata": {},
     "output_type": "execute_result"
    }
   ],
   "source": [
    "# n = [7,40,25,42,4,78,96,5,88,3,2,1,8]\n",
    "# def MyPartition(n):\n",
    "#     for i in range(len(n)):\n",
    "#         Parts = [[]*3 for p in range(3)]\n",
    "#         pivot = n[i]\n",
    "#         for j in range(len(n)):\n",
    "#             if(n[j]>pivot):\n",
    "#                 Parts[2].append(n[j])\n",
    "#             if(n[j]<pivot):\n",
    "#                 Parts[0].append(n[j])\n",
    "#             if(n[j]==n[i]):\n",
    "#                 Parts[1].append(pivot)\n",
    "#         Parts = list(chain(*Parts))\n",
    "#         return Parts.index(pivot)\n",
    "# MyPartition(n)"
   ]
  },
  {
   "cell_type": "code",
   "execution_count": 17,
   "id": "0798e5d9",
   "metadata": {
    "ExecuteTime": {
     "end_time": "2022-06-05T07:46:03.067551Z",
     "start_time": "2022-06-05T07:46:03.046603Z"
    },
    "pycharm": {
     "name": "#%%\n"
    }
   },
   "outputs": [
    {
     "name": "stdout",
     "output_type": "stream",
     "text": [
      "[[], [1], [7, 40, 25, 42, 4, 78, 96, 5, 88, 3, 2, 8]]\n",
      "[[], [1], [7, 40, 25, 42, 4, 78, 96, 5, 88, 3, 2, 8]]\n",
      "[[], [1], [7, 40, 25, 42, 4, 78, 96, 5, 88, 3, 2, 8]]\n",
      "[[], [1], [7, 40, 25, 42, 4, 78, 96, 5, 88, 3, 2, 8]]\n",
      "[[], [1], [7, 40, 25, 42, 4, 78, 96, 5, 88, 3, 2, 8]]\n",
      "[[], [1], [7, 40, 25, 42, 4, 78, 96, 5, 88, 3, 2, 8]]\n",
      "[[], [1], [7, 40, 25, 42, 4, 78, 96, 5, 88, 3, 2, 8]]\n",
      "[[], [1], [7, 40, 25, 42, 4, 78, 96, 5, 88, 3, 2, 8]]\n",
      "[[], [1], [7, 40, 25, 42, 4, 78, 96, 5, 88, 3, 2, 8]]\n",
      "[[], [1], [7, 40, 25, 42, 4, 78, 96, 5, 88, 3, 2, 8]]\n",
      "[[], [1], [7, 40, 25, 42, 4, 78, 96, 5, 88, 3, 2, 8]]\n",
      "[[], [1], [7, 40, 25, 42, 4, 78, 96, 5, 88, 3, 2, 8]]\n",
      "[[], [1], [7, 40, 25, 42, 4, 78, 96, 5, 88, 3, 2, 8]]\n"
     ]
    }
   ],
   "source": [
    "Pts = MyPartition(n)\n",
    "for i in range(len(n)):\n",
    "    print(list(chain(*MyPartition(Pts))))"
   ]
  },
  {
   "cell_type": "code",
   "execution_count": 398,
   "id": "dac5c73c",
   "metadata": {
    "ExecuteTime": {
     "end_time": "2022-06-04T17:50:54.703663Z",
     "start_time": "2022-06-04T17:50:54.687706Z"
    },
    "pycharm": {
     "name": "#%%\n"
    }
   },
   "outputs": [
    {
     "data": {
      "text/plain": [
       "[2, 1, 3]"
      ]
     },
     "execution_count": 398,
     "metadata": {},
     "output_type": "execute_result"
    }
   ],
   "source": [
    "import itertools \n",
    "from itertools import chain\n",
    "list(chain(*MyPartition([3,2,1])))\n",
    "# list(itertools.chain.from_iterable(MyPartition([2, 1])))"
   ]
  },
  {
   "cell_type": "code",
   "execution_count": null,
   "id": "e3be79d8",
   "metadata": {
    "pycharm": {
     "name": "#%%\n"
    }
   },
   "outputs": [],
   "source": []
  },
  {
   "cell_type": "code",
   "execution_count": 167,
   "id": "efb12780",
   "metadata": {
    "ExecuteTime": {
     "end_time": "2022-06-08T10:54:29.564477Z",
     "start_time": "2022-06-08T10:54:29.530569Z"
    },
    "pycharm": {
     "name": "#%%\n"
    }
   },
   "outputs": [
    {
     "name": "stdout",
     "output_type": "stream",
     "text": [
      "Unsorted List :  [7, 40, 25, 42, 4, 78, 96, 5, 88, 3, 2, 1, 8]\n",
      " \n",
      " \n",
      "Sorting in 1 Iteration : \n",
      " Elements at j = 0 and j= 1 are 7,40\n",
      "As 7 < 40 So No Swapping...\n",
      "[7, 40, 25, 42, 4, 78, 96, 5, 88, 3, 2, 1, 8]\n",
      " Elements at j = 1 and j= 2 are 40,25\n",
      "As 40 > 25 so  40 Swaps With 25\n",
      "[7, 25, 40, 42, 4, 78, 96, 5, 88, 3, 2, 1, 8]\n",
      " Elements at j = 2 and j= 3 are 40,42\n",
      "As 40 < 42 So No Swapping...\n",
      "[7, 25, 40, 42, 4, 78, 96, 5, 88, 3, 2, 1, 8]\n",
      " Elements at j = 3 and j= 4 are 42,4\n",
      "As 42 > 4 so  42 Swaps With 4\n",
      "[7, 25, 40, 4, 42, 78, 96, 5, 88, 3, 2, 1, 8]\n",
      " Elements at j = 4 and j= 5 are 42,78\n",
      "As 42 < 78 So No Swapping...\n",
      "[7, 25, 40, 4, 42, 78, 96, 5, 88, 3, 2, 1, 8]\n",
      " Elements at j = 5 and j= 6 are 78,96\n",
      "As 78 < 96 So No Swapping...\n",
      "[7, 25, 40, 4, 42, 78, 96, 5, 88, 3, 2, 1, 8]\n",
      " Elements at j = 6 and j= 7 are 96,5\n",
      "As 96 > 5 so  96 Swaps With 5\n",
      "[7, 25, 40, 4, 42, 78, 5, 96, 88, 3, 2, 1, 8]\n",
      " Elements at j = 7 and j= 8 are 96,88\n",
      "As 96 > 88 so  96 Swaps With 88\n",
      "[7, 25, 40, 4, 42, 78, 5, 88, 96, 3, 2, 1, 8]\n",
      " Elements at j = 8 and j= 9 are 96,3\n",
      "As 96 > 3 so  96 Swaps With 3\n",
      "[7, 25, 40, 4, 42, 78, 5, 88, 3, 96, 2, 1, 8]\n",
      " Elements at j = 9 and j= 10 are 96,2\n",
      "As 96 > 2 so  96 Swaps With 2\n",
      "[7, 25, 40, 4, 42, 78, 5, 88, 3, 2, 96, 1, 8]\n",
      " Elements at j = 10 and j= 11 are 96,1\n",
      "As 96 > 1 so  96 Swaps With 1\n",
      "[7, 25, 40, 4, 42, 78, 5, 88, 3, 2, 1, 96, 8]\n",
      " Elements at j = 11 and j= 12 are 96,8\n",
      "As 96 > 8 so  96 Swaps With 8\n",
      "[7, 25, 40, 4, 42, 78, 5, 88, 3, 2, 1, 8, 96]\n",
      " \n",
      "Sorting in 2 Iteration : \n",
      " Elements at j = 0 and j= 1 are 7,25\n",
      "As 7 < 25 So No Swapping...\n",
      "[7, 25, 40, 4, 42, 78, 5, 88, 3, 2, 1, 8, 96]\n",
      " Elements at j = 1 and j= 2 are 25,40\n",
      "As 25 < 40 So No Swapping...\n",
      "[7, 25, 40, 4, 42, 78, 5, 88, 3, 2, 1, 8, 96]\n",
      " Elements at j = 2 and j= 3 are 40,4\n",
      "As 40 > 4 so  40 Swaps With 4\n",
      "[7, 25, 4, 40, 42, 78, 5, 88, 3, 2, 1, 8, 96]\n",
      " Elements at j = 3 and j= 4 are 40,42\n",
      "As 40 < 42 So No Swapping...\n",
      "[7, 25, 4, 40, 42, 78, 5, 88, 3, 2, 1, 8, 96]\n",
      " Elements at j = 4 and j= 5 are 42,78\n",
      "As 42 < 78 So No Swapping...\n",
      "[7, 25, 4, 40, 42, 78, 5, 88, 3, 2, 1, 8, 96]\n",
      " Elements at j = 5 and j= 6 are 78,5\n",
      "As 78 > 5 so  78 Swaps With 5\n",
      "[7, 25, 4, 40, 42, 5, 78, 88, 3, 2, 1, 8, 96]\n",
      " Elements at j = 6 and j= 7 are 78,88\n",
      "As 78 < 88 So No Swapping...\n",
      "[7, 25, 4, 40, 42, 5, 78, 88, 3, 2, 1, 8, 96]\n",
      " Elements at j = 7 and j= 8 are 88,3\n",
      "As 88 > 3 so  88 Swaps With 3\n",
      "[7, 25, 4, 40, 42, 5, 78, 3, 88, 2, 1, 8, 96]\n",
      " Elements at j = 8 and j= 9 are 88,2\n",
      "As 88 > 2 so  88 Swaps With 2\n",
      "[7, 25, 4, 40, 42, 5, 78, 3, 2, 88, 1, 8, 96]\n",
      " Elements at j = 9 and j= 10 are 88,1\n",
      "As 88 > 1 so  88 Swaps With 1\n",
      "[7, 25, 4, 40, 42, 5, 78, 3, 2, 1, 88, 8, 96]\n",
      " Elements at j = 10 and j= 11 are 88,8\n",
      "As 88 > 8 so  88 Swaps With 8\n",
      "[7, 25, 4, 40, 42, 5, 78, 3, 2, 1, 8, 88, 96]\n",
      " \n",
      "Sorting in 3 Iteration : \n",
      " Elements at j = 0 and j= 1 are 7,25\n",
      "As 7 < 25 So No Swapping...\n",
      "[7, 25, 4, 40, 42, 5, 78, 3, 2, 1, 8, 88, 96]\n",
      " Elements at j = 1 and j= 2 are 25,4\n",
      "As 25 > 4 so  25 Swaps With 4\n",
      "[7, 4, 25, 40, 42, 5, 78, 3, 2, 1, 8, 88, 96]\n",
      " Elements at j = 2 and j= 3 are 25,40\n",
      "As 25 < 40 So No Swapping...\n",
      "[7, 4, 25, 40, 42, 5, 78, 3, 2, 1, 8, 88, 96]\n",
      " Elements at j = 3 and j= 4 are 40,42\n",
      "As 40 < 42 So No Swapping...\n",
      "[7, 4, 25, 40, 42, 5, 78, 3, 2, 1, 8, 88, 96]\n",
      " Elements at j = 4 and j= 5 are 42,5\n",
      "As 42 > 5 so  42 Swaps With 5\n",
      "[7, 4, 25, 40, 5, 42, 78, 3, 2, 1, 8, 88, 96]\n",
      " Elements at j = 5 and j= 6 are 42,78\n",
      "As 42 < 78 So No Swapping...\n",
      "[7, 4, 25, 40, 5, 42, 78, 3, 2, 1, 8, 88, 96]\n",
      " Elements at j = 6 and j= 7 are 78,3\n",
      "As 78 > 3 so  78 Swaps With 3\n",
      "[7, 4, 25, 40, 5, 42, 3, 78, 2, 1, 8, 88, 96]\n",
      " Elements at j = 7 and j= 8 are 78,2\n",
      "As 78 > 2 so  78 Swaps With 2\n",
      "[7, 4, 25, 40, 5, 42, 3, 2, 78, 1, 8, 88, 96]\n",
      " Elements at j = 8 and j= 9 are 78,1\n",
      "As 78 > 1 so  78 Swaps With 1\n",
      "[7, 4, 25, 40, 5, 42, 3, 2, 1, 78, 8, 88, 96]\n",
      " Elements at j = 9 and j= 10 are 78,8\n",
      "As 78 > 8 so  78 Swaps With 8\n",
      "[7, 4, 25, 40, 5, 42, 3, 2, 1, 8, 78, 88, 96]\n",
      " \n",
      "Sorting in 4 Iteration : \n",
      " Elements at j = 0 and j= 1 are 7,4\n",
      "As 7 > 4 so  7 Swaps With 4\n",
      "[4, 7, 25, 40, 5, 42, 3, 2, 1, 8, 78, 88, 96]\n",
      " Elements at j = 1 and j= 2 are 7,25\n",
      "As 7 < 25 So No Swapping...\n",
      "[4, 7, 25, 40, 5, 42, 3, 2, 1, 8, 78, 88, 96]\n",
      " Elements at j = 2 and j= 3 are 25,40\n",
      "As 25 < 40 So No Swapping...\n",
      "[4, 7, 25, 40, 5, 42, 3, 2, 1, 8, 78, 88, 96]\n",
      " Elements at j = 3 and j= 4 are 40,5\n",
      "As 40 > 5 so  40 Swaps With 5\n",
      "[4, 7, 25, 5, 40, 42, 3, 2, 1, 8, 78, 88, 96]\n",
      " Elements at j = 4 and j= 5 are 40,42\n",
      "As 40 < 42 So No Swapping...\n",
      "[4, 7, 25, 5, 40, 42, 3, 2, 1, 8, 78, 88, 96]\n",
      " Elements at j = 5 and j= 6 are 42,3\n",
      "As 42 > 3 so  42 Swaps With 3\n",
      "[4, 7, 25, 5, 40, 3, 42, 2, 1, 8, 78, 88, 96]\n",
      " Elements at j = 6 and j= 7 are 42,2\n",
      "As 42 > 2 so  42 Swaps With 2\n",
      "[4, 7, 25, 5, 40, 3, 2, 42, 1, 8, 78, 88, 96]\n",
      " Elements at j = 7 and j= 8 are 42,1\n",
      "As 42 > 1 so  42 Swaps With 1\n",
      "[4, 7, 25, 5, 40, 3, 2, 1, 42, 8, 78, 88, 96]\n",
      " Elements at j = 8 and j= 9 are 42,8\n",
      "As 42 > 8 so  42 Swaps With 8\n",
      "[4, 7, 25, 5, 40, 3, 2, 1, 8, 42, 78, 88, 96]\n",
      " \n",
      "Sorting in 5 Iteration : \n",
      " Elements at j = 0 and j= 1 are 4,7\n",
      "As 4 < 7 So No Swapping...\n",
      "[4, 7, 25, 5, 40, 3, 2, 1, 8, 42, 78, 88, 96]\n",
      " Elements at j = 1 and j= 2 are 7,25\n",
      "As 7 < 25 So No Swapping...\n",
      "[4, 7, 25, 5, 40, 3, 2, 1, 8, 42, 78, 88, 96]\n",
      " Elements at j = 2 and j= 3 are 25,5\n",
      "As 25 > 5 so  25 Swaps With 5\n",
      "[4, 7, 5, 25, 40, 3, 2, 1, 8, 42, 78, 88, 96]\n",
      " Elements at j = 3 and j= 4 are 25,40\n",
      "As 25 < 40 So No Swapping...\n",
      "[4, 7, 5, 25, 40, 3, 2, 1, 8, 42, 78, 88, 96]\n",
      " Elements at j = 4 and j= 5 are 40,3\n",
      "As 40 > 3 so  40 Swaps With 3\n",
      "[4, 7, 5, 25, 3, 40, 2, 1, 8, 42, 78, 88, 96]\n",
      " Elements at j = 5 and j= 6 are 40,2\n",
      "As 40 > 2 so  40 Swaps With 2\n",
      "[4, 7, 5, 25, 3, 2, 40, 1, 8, 42, 78, 88, 96]\n",
      " Elements at j = 6 and j= 7 are 40,1\n",
      "As 40 > 1 so  40 Swaps With 1\n",
      "[4, 7, 5, 25, 3, 2, 1, 40, 8, 42, 78, 88, 96]\n",
      " Elements at j = 7 and j= 8 are 40,8\n",
      "As 40 > 8 so  40 Swaps With 8\n",
      "[4, 7, 5, 25, 3, 2, 1, 8, 40, 42, 78, 88, 96]\n",
      " \n",
      "Sorting in 6 Iteration : \n",
      " Elements at j = 0 and j= 1 are 4,7\n",
      "As 4 < 7 So No Swapping...\n",
      "[4, 7, 5, 25, 3, 2, 1, 8, 40, 42, 78, 88, 96]\n",
      " Elements at j = 1 and j= 2 are 7,5\n",
      "As 7 > 5 so  7 Swaps With 5\n",
      "[4, 5, 7, 25, 3, 2, 1, 8, 40, 42, 78, 88, 96]\n",
      " Elements at j = 2 and j= 3 are 7,25\n",
      "As 7 < 25 So No Swapping...\n",
      "[4, 5, 7, 25, 3, 2, 1, 8, 40, 42, 78, 88, 96]\n",
      " Elements at j = 3 and j= 4 are 25,3\n",
      "As 25 > 3 so  25 Swaps With 3\n",
      "[4, 5, 7, 3, 25, 2, 1, 8, 40, 42, 78, 88, 96]\n",
      " Elements at j = 4 and j= 5 are 25,2\n",
      "As 25 > 2 so  25 Swaps With 2\n",
      "[4, 5, 7, 3, 2, 25, 1, 8, 40, 42, 78, 88, 96]\n",
      " Elements at j = 5 and j= 6 are 25,1\n",
      "As 25 > 1 so  25 Swaps With 1\n",
      "[4, 5, 7, 3, 2, 1, 25, 8, 40, 42, 78, 88, 96]\n",
      " Elements at j = 6 and j= 7 are 25,8\n",
      "As 25 > 8 so  25 Swaps With 8\n",
      "[4, 5, 7, 3, 2, 1, 8, 25, 40, 42, 78, 88, 96]\n",
      " \n",
      "Sorting in 7 Iteration : \n",
      " Elements at j = 0 and j= 1 are 4,5\n",
      "As 4 < 5 So No Swapping...\n",
      "[4, 5, 7, 3, 2, 1, 8, 25, 40, 42, 78, 88, 96]\n",
      " Elements at j = 1 and j= 2 are 5,7\n",
      "As 5 < 7 So No Swapping...\n",
      "[4, 5, 7, 3, 2, 1, 8, 25, 40, 42, 78, 88, 96]\n",
      " Elements at j = 2 and j= 3 are 7,3\n",
      "As 7 > 3 so  7 Swaps With 3\n",
      "[4, 5, 3, 7, 2, 1, 8, 25, 40, 42, 78, 88, 96]\n",
      " Elements at j = 3 and j= 4 are 7,2\n",
      "As 7 > 2 so  7 Swaps With 2\n",
      "[4, 5, 3, 2, 7, 1, 8, 25, 40, 42, 78, 88, 96]\n",
      " Elements at j = 4 and j= 5 are 7,1\n",
      "As 7 > 1 so  7 Swaps With 1\n",
      "[4, 5, 3, 2, 1, 7, 8, 25, 40, 42, 78, 88, 96]\n",
      " Elements at j = 5 and j= 6 are 7,8\n",
      "As 7 < 8 So No Swapping...\n",
      "[4, 5, 3, 2, 1, 7, 8, 25, 40, 42, 78, 88, 96]\n",
      " \n",
      "Sorting in 8 Iteration : \n",
      " Elements at j = 0 and j= 1 are 4,5\n",
      "As 4 < 5 So No Swapping...\n",
      "[4, 5, 3, 2, 1, 7, 8, 25, 40, 42, 78, 88, 96]\n",
      " Elements at j = 1 and j= 2 are 5,3\n",
      "As 5 > 3 so  5 Swaps With 3\n",
      "[4, 3, 5, 2, 1, 7, 8, 25, 40, 42, 78, 88, 96]\n",
      " Elements at j = 2 and j= 3 are 5,2\n",
      "As 5 > 2 so  5 Swaps With 2\n",
      "[4, 3, 2, 5, 1, 7, 8, 25, 40, 42, 78, 88, 96]\n",
      " Elements at j = 3 and j= 4 are 5,1\n",
      "As 5 > 1 so  5 Swaps With 1\n",
      "[4, 3, 2, 1, 5, 7, 8, 25, 40, 42, 78, 88, 96]\n",
      " Elements at j = 4 and j= 5 are 5,7\n",
      "As 5 < 7 So No Swapping...\n",
      "[4, 3, 2, 1, 5, 7, 8, 25, 40, 42, 78, 88, 96]\n",
      " \n",
      "Sorting in 9 Iteration : \n",
      " Elements at j = 0 and j= 1 are 4,3\n",
      "As 4 > 3 so  4 Swaps With 3\n",
      "[3, 4, 2, 1, 5, 7, 8, 25, 40, 42, 78, 88, 96]\n",
      " Elements at j = 1 and j= 2 are 4,2\n",
      "As 4 > 2 so  4 Swaps With 2\n",
      "[3, 2, 4, 1, 5, 7, 8, 25, 40, 42, 78, 88, 96]\n",
      " Elements at j = 2 and j= 3 are 4,1\n",
      "As 4 > 1 so  4 Swaps With 1\n",
      "[3, 2, 1, 4, 5, 7, 8, 25, 40, 42, 78, 88, 96]\n",
      " Elements at j = 3 and j= 4 are 4,5\n",
      "As 4 < 5 So No Swapping...\n",
      "[3, 2, 1, 4, 5, 7, 8, 25, 40, 42, 78, 88, 96]\n",
      " \n",
      "Sorting in 10 Iteration : \n",
      " Elements at j = 0 and j= 1 are 3,2\n",
      "As 3 > 2 so  3 Swaps With 2\n",
      "[2, 3, 1, 4, 5, 7, 8, 25, 40, 42, 78, 88, 96]\n",
      " Elements at j = 1 and j= 2 are 3,1\n",
      "As 3 > 1 so  3 Swaps With 1\n",
      "[2, 1, 3, 4, 5, 7, 8, 25, 40, 42, 78, 88, 96]\n",
      " Elements at j = 2 and j= 3 are 3,4\n",
      "As 3 < 4 So No Swapping...\n",
      "[2, 1, 3, 4, 5, 7, 8, 25, 40, 42, 78, 88, 96]\n",
      " \n",
      "Sorting in 11 Iteration : \n",
      " Elements at j = 0 and j= 1 are 2,1\n",
      "As 2 > 1 so  2 Swaps With 1\n",
      "[1, 2, 3, 4, 5, 7, 8, 25, 40, 42, 78, 88, 96]\n",
      " Elements at j = 1 and j= 2 are 2,3\n",
      "As 2 < 3 So No Swapping...\n",
      "[1, 2, 3, 4, 5, 7, 8, 25, 40, 42, 78, 88, 96]\n",
      " \n",
      "Sorting in 12 Iteration : \n",
      " Elements at j = 0 and j= 1 are 1,2\n",
      "As 1 < 2 So No Swapping...\n",
      "[1, 2, 3, 4, 5, 7, 8, 25, 40, 42, 78, 88, 96]\n",
      " \n",
      "Final Sorted List :  [1, 2, 3, 4, 5, 7, 8, 25, 40, 42, 78, 88, 96]\n"
     ]
    }
   ],
   "source": [
    "# n = [25,8,35,2,1]\n",
    "# n = [7,40,25,42,4,78,96,5,88,3,2,1,8]\n",
    "def BubbleSort():\n",
    "    n = [7,40,25,42,4,78,96,5,88,3,2,1,8]\n",
    "#     n = list(map(int,input(\"Enter Elements : \").split(\" \")))\n",
    "    print(\"Unsorted List : \",n)\n",
    "    print(\" \")\n",
    "    for i in range(len(n)):\n",
    "        print(\" \")\n",
    "        if i < len(n) -1:\n",
    "            print(f\"Sorting in {i+1} Iteration : \")\n",
    "        for j in range(len(n)-i-1):\n",
    "            print(f\" Elements at j = {j} and j= {j+1} are {n[j]},{n[j+1]}\")\n",
    "            if(n[j]>n[j+1]):\n",
    "                print(f\"As {n[j]} > {n[j+1]} so  {n[j]} Swaps With {n[j+1]}\")\n",
    "                n[j],n[j+1] = n[j+1],n[j]\n",
    "            else:\n",
    "                print(f\"As {n[j]} < {n[j+1]} So No Swapping...\")\n",
    "            print(n)\n",
    "    print(\"Final Sorted List : \",n)\n",
    "BubbleSort()"
   ]
  },
  {
   "cell_type": "code",
   "execution_count": 11,
   "id": "c299578e",
   "metadata": {
    "ExecuteTime": {
     "end_time": "2022-06-24T12:14:22.775011Z",
     "start_time": "2022-06-24T12:14:22.746088Z"
    },
    "pycharm": {
     "name": "#%%\n"
    },
    "scrolled": true
   },
   "outputs": [
    {
     "name": "stdout",
     "output_type": "stream",
     "text": [
      "Unsorted List :  [7, 40, 25, 42, 4, 78, 96, 5, 88, 3, 2, 1, 8]\n",
      " \n",
      "Minimum Element From Above Unsorted List : 98\n",
      " Sorted List in 1 Iteration :   [1] [40, 25, 42, 4, 78, 96, 5, 88, 3, 2, 7, 8]\n",
      "Minimum Element From Above Second List : 98\n",
      " Sorted List in 2 Iteration :   [1, 2] [25, 42, 4, 78, 96, 5, 88, 3, 40, 7, 8]\n",
      "Minimum Element From Above Second List : 98\n",
      " Sorted List in 3 Iteration :   [1, 2, 3] [42, 4, 78, 96, 5, 88, 25, 40, 7, 8]\n",
      "Minimum Element From Above Second List : 98\n",
      " Sorted List in 4 Iteration :   [1, 2, 3, 4] [42, 78, 96, 5, 88, 25, 40, 7, 8]\n",
      "Minimum Element From Above Second List : 98\n",
      " Sorted List in 5 Iteration :   [1, 2, 3, 4, 5] [78, 96, 42, 88, 25, 40, 7, 8]\n",
      "Minimum Element From Above Second List : 98\n",
      " Sorted List in 6 Iteration :   [1, 2, 3, 4, 5, 7] [96, 42, 88, 25, 40, 78, 8]\n",
      "Minimum Element From Above Second List : 98\n",
      " Sorted List in 7 Iteration :   [1, 2, 3, 4, 5, 7, 8] [42, 88, 25, 40, 78, 96]\n",
      "Minimum Element From Above Second List : 98\n",
      " Sorted List in 8 Iteration :   [1, 2, 3, 4, 5, 7, 8, 25] [88, 42, 40, 78, 96]\n",
      "Minimum Element From Above Second List : 98\n",
      " Sorted List in 9 Iteration :   [1, 2, 3, 4, 5, 7, 8, 25, 40] [42, 88, 78, 96]\n",
      "Minimum Element From Above Second List : 98\n",
      " Sorted List in 10 Iteration :   [1, 2, 3, 4, 5, 7, 8, 25, 40, 42] [88, 78, 96]\n",
      "Minimum Element From Above Second List : 98\n",
      " Sorted List in 11 Iteration :   [1, 2, 3, 4, 5, 7, 8, 25, 40, 42, 78] [88, 96]\n",
      "Minimum Element From Above Second List : 98\n",
      " Sorted List in 12 Iteration :   [1, 2, 3, 4, 5, 7, 8, 25, 40, 42, 78, 88] [96]\n",
      "Minimum Element From Above Second List : 98\n",
      " Sorted List in 13 Iteration :   [1, 2, 3, 4, 5, 7, 8, 25, 40, 42, 78, 88, 96]\n",
      "  \n",
      "Final Sorted List :  [1, 2, 3, 4, 5, 7, 8, 25, 40, 42, 78, 88, 96]\n"
     ]
    }
   ],
   "source": [
    "# n =  [25,8,35,2,15]\n",
    "n = [7,40,25,42,4,78,96,5,88,3,2,1,8]\n",
    "def SelectionSort():\n",
    "    n = [7,40,25,42,4,78,96,5,88,3,2,1,8]\n",
    "#     n = list(map(int,input(\"Enter Elements : \").split(\" \")))\n",
    "    print(\"Unsorted List : \",n)\n",
    "    print(\" \")\n",
    "    for i in range(len(n)):\n",
    "        min_id = i\n",
    "        for j in range(i+1,len(n)):\n",
    "            if(n[min_id]>n[j]):\n",
    "                min_id = j\n",
    "        n[min_id],n[i] = n[i],n[min_id]\n",
    "        if(i>0):\n",
    "            print(\"Minimum Element From Above Second List :\",min_ele)\n",
    "        else:\n",
    "            print(\"Minimum Element From Above Unsorted List :\",min_ele)\n",
    "        if(i==len(n)-1):\n",
    "            print(f\" Sorted List in {i+1} Iteration :\",\" \",n[0:i+1])\n",
    "        else:\n",
    "            print(f\" Sorted List in {i+1} Iteration :\",\" \",n[0:i+1],n[i+1:])\n",
    "    print(\"  \")\n",
    "    print(\"Final Sorted List : \",n)\n",
    "SelectionSort()"
   ]
  },
  {
   "cell_type": "code",
   "execution_count": 169,
   "id": "28c8a8cd",
   "metadata": {
    "ExecuteTime": {
     "end_time": "2022-06-08T10:54:46.761469Z",
     "start_time": "2022-06-08T10:54:46.725568Z"
    },
    "pycharm": {
     "name": "#%%\n"
    }
   },
   "outputs": [
    {
     "name": "stdout",
     "output_type": "stream",
     "text": [
      "Unsorted List :  [7, 40, 25, 42, 4, 78, 96, 5, 88, 3, 2, 1, 8]\n",
      " \n",
      "When i=1 \n",
      "   When j=0\n",
      "    Elements at j=0 and j=1 From above List are 7,40\n",
      "As 7 < 40 No Swapping..  \n",
      "     Sorted List :  [7, 40, 25, 42, 4, 78, 96, 5, 88, 3, 2, 1, 8]\n",
      " \n",
      "When i=2 \n",
      "   When j=1\n",
      "    Elements at j=1 and j=2 From above List are 40,25\n",
      "As 40 > 25 Swap Both \n",
      "     Sorted List :  [7, 25, 40, 42, 4, 78, 96, 5, 88, 3, 2, 1, 8]\n",
      "   When j=0\n",
      "    Elements at j=0 and j=1 From above List are 7,25\n",
      "As 7 < 25 No Swapping..  \n",
      "     Sorted List :  [7, 25, 40, 42, 4, 78, 96, 5, 88, 3, 2, 1, 8]\n",
      " \n",
      "When i=3 \n",
      "   When j=2\n",
      "    Elements at j=2 and j=3 From above List are 40,42\n",
      "As 40 < 42 No Swapping..  \n",
      "     Sorted List :  [7, 25, 40, 42, 4, 78, 96, 5, 88, 3, 2, 1, 8]\n",
      "   When j=1\n",
      "    Elements at j=1 and j=2 From above List are 25,40\n",
      "As 25 < 40 No Swapping..  \n",
      "     Sorted List :  [7, 25, 40, 42, 4, 78, 96, 5, 88, 3, 2, 1, 8]\n",
      "   When j=0\n",
      "    Elements at j=0 and j=1 From above List are 7,25\n",
      "As 7 < 25 No Swapping..  \n",
      "     Sorted List :  [7, 25, 40, 42, 4, 78, 96, 5, 88, 3, 2, 1, 8]\n",
      " \n",
      "When i=4 \n",
      "   When j=3\n",
      "    Elements at j=3 and j=4 From above List are 42,4\n",
      "As 42 > 4 Swap Both \n",
      "     Sorted List :  [7, 25, 40, 4, 42, 78, 96, 5, 88, 3, 2, 1, 8]\n",
      "   When j=2\n",
      "    Elements at j=2 and j=3 From above List are 40,4\n",
      "As 40 > 4 Swap Both \n",
      "     Sorted List :  [7, 25, 4, 40, 42, 78, 96, 5, 88, 3, 2, 1, 8]\n",
      "   When j=1\n",
      "    Elements at j=1 and j=2 From above List are 25,4\n",
      "As 25 > 4 Swap Both \n",
      "     Sorted List :  [7, 4, 25, 40, 42, 78, 96, 5, 88, 3, 2, 1, 8]\n",
      "   When j=0\n",
      "    Elements at j=0 and j=1 From above List are 7,4\n",
      "As 7 > 4 Swap Both \n",
      "     Sorted List :  [4, 7, 25, 40, 42, 78, 96, 5, 88, 3, 2, 1, 8]\n",
      " \n",
      "When i=5 \n",
      "   When j=4\n",
      "    Elements at j=4 and j=5 From above List are 42,78\n",
      "As 42 < 78 No Swapping..  \n",
      "     Sorted List :  [4, 7, 25, 40, 42, 78, 96, 5, 88, 3, 2, 1, 8]\n",
      "   When j=3\n",
      "    Elements at j=3 and j=4 From above List are 40,42\n",
      "As 40 < 42 No Swapping..  \n",
      "     Sorted List :  [4, 7, 25, 40, 42, 78, 96, 5, 88, 3, 2, 1, 8]\n",
      "   When j=2\n",
      "    Elements at j=2 and j=3 From above List are 25,40\n",
      "As 25 < 40 No Swapping..  \n",
      "     Sorted List :  [4, 7, 25, 40, 42, 78, 96, 5, 88, 3, 2, 1, 8]\n",
      "   When j=1\n",
      "    Elements at j=1 and j=2 From above List are 7,25\n",
      "As 7 < 25 No Swapping..  \n",
      "     Sorted List :  [4, 7, 25, 40, 42, 78, 96, 5, 88, 3, 2, 1, 8]\n",
      "   When j=0\n",
      "    Elements at j=0 and j=1 From above List are 4,7\n",
      "As 4 < 7 No Swapping..  \n",
      "     Sorted List :  [4, 7, 25, 40, 42, 78, 96, 5, 88, 3, 2, 1, 8]\n",
      " \n",
      "When i=6 \n",
      "   When j=5\n",
      "    Elements at j=5 and j=6 From above List are 78,96\n",
      "As 78 < 96 No Swapping..  \n",
      "     Sorted List :  [4, 7, 25, 40, 42, 78, 96, 5, 88, 3, 2, 1, 8]\n",
      "   When j=4\n",
      "    Elements at j=4 and j=5 From above List are 42,78\n",
      "As 42 < 78 No Swapping..  \n",
      "     Sorted List :  [4, 7, 25, 40, 42, 78, 96, 5, 88, 3, 2, 1, 8]\n",
      "   When j=3\n",
      "    Elements at j=3 and j=4 From above List are 40,42\n",
      "As 40 < 42 No Swapping..  \n",
      "     Sorted List :  [4, 7, 25, 40, 42, 78, 96, 5, 88, 3, 2, 1, 8]\n",
      "   When j=2\n",
      "    Elements at j=2 and j=3 From above List are 25,40\n",
      "As 25 < 40 No Swapping..  \n",
      "     Sorted List :  [4, 7, 25, 40, 42, 78, 96, 5, 88, 3, 2, 1, 8]\n",
      "   When j=1\n",
      "    Elements at j=1 and j=2 From above List are 7,25\n",
      "As 7 < 25 No Swapping..  \n",
      "     Sorted List :  [4, 7, 25, 40, 42, 78, 96, 5, 88, 3, 2, 1, 8]\n",
      "   When j=0\n",
      "    Elements at j=0 and j=1 From above List are 4,7\n",
      "As 4 < 7 No Swapping..  \n",
      "     Sorted List :  [4, 7, 25, 40, 42, 78, 96, 5, 88, 3, 2, 1, 8]\n",
      " \n",
      "When i=7 \n",
      "   When j=6\n",
      "    Elements at j=6 and j=7 From above List are 96,5\n",
      "As 96 > 5 Swap Both \n",
      "     Sorted List :  [4, 7, 25, 40, 42, 78, 5, 96, 88, 3, 2, 1, 8]\n",
      "   When j=5\n",
      "    Elements at j=5 and j=6 From above List are 78,5\n",
      "As 78 > 5 Swap Both \n",
      "     Sorted List :  [4, 7, 25, 40, 42, 5, 78, 96, 88, 3, 2, 1, 8]\n",
      "   When j=4\n",
      "    Elements at j=4 and j=5 From above List are 42,5\n",
      "As 42 > 5 Swap Both \n",
      "     Sorted List :  [4, 7, 25, 40, 5, 42, 78, 96, 88, 3, 2, 1, 8]\n",
      "   When j=3\n",
      "    Elements at j=3 and j=4 From above List are 40,5\n",
      "As 40 > 5 Swap Both \n",
      "     Sorted List :  [4, 7, 25, 5, 40, 42, 78, 96, 88, 3, 2, 1, 8]\n",
      "   When j=2\n",
      "    Elements at j=2 and j=3 From above List are 25,5\n",
      "As 25 > 5 Swap Both \n",
      "     Sorted List :  [4, 7, 5, 25, 40, 42, 78, 96, 88, 3, 2, 1, 8]\n",
      "   When j=1\n",
      "    Elements at j=1 and j=2 From above List are 7,5\n",
      "As 7 > 5 Swap Both \n",
      "     Sorted List :  [4, 5, 7, 25, 40, 42, 78, 96, 88, 3, 2, 1, 8]\n",
      "   When j=0\n",
      "    Elements at j=0 and j=1 From above List are 4,5\n",
      "As 4 < 5 No Swapping..  \n",
      "     Sorted List :  [4, 5, 7, 25, 40, 42, 78, 96, 88, 3, 2, 1, 8]\n",
      " \n",
      "When i=8 \n",
      "   When j=7\n",
      "    Elements at j=7 and j=8 From above List are 96,88\n",
      "As 96 > 88 Swap Both \n",
      "     Sorted List :  [4, 5, 7, 25, 40, 42, 78, 88, 96, 3, 2, 1, 8]\n",
      "   When j=6\n",
      "    Elements at j=6 and j=7 From above List are 78,88\n",
      "As 78 < 88 No Swapping..  \n",
      "     Sorted List :  [4, 5, 7, 25, 40, 42, 78, 88, 96, 3, 2, 1, 8]\n",
      "   When j=5\n",
      "    Elements at j=5 and j=6 From above List are 42,78\n",
      "As 42 < 78 No Swapping..  \n",
      "     Sorted List :  [4, 5, 7, 25, 40, 42, 78, 88, 96, 3, 2, 1, 8]\n",
      "   When j=4\n",
      "    Elements at j=4 and j=5 From above List are 40,42\n",
      "As 40 < 42 No Swapping..  \n",
      "     Sorted List :  [4, 5, 7, 25, 40, 42, 78, 88, 96, 3, 2, 1, 8]\n",
      "   When j=3\n",
      "    Elements at j=3 and j=4 From above List are 25,40\n",
      "As 25 < 40 No Swapping..  \n",
      "     Sorted List :  [4, 5, 7, 25, 40, 42, 78, 88, 96, 3, 2, 1, 8]\n",
      "   When j=2\n",
      "    Elements at j=2 and j=3 From above List are 7,25\n",
      "As 7 < 25 No Swapping..  \n",
      "     Sorted List :  [4, 5, 7, 25, 40, 42, 78, 88, 96, 3, 2, 1, 8]\n",
      "   When j=1\n",
      "    Elements at j=1 and j=2 From above List are 5,7\n",
      "As 5 < 7 No Swapping..  \n",
      "     Sorted List :  [4, 5, 7, 25, 40, 42, 78, 88, 96, 3, 2, 1, 8]\n",
      "   When j=0\n",
      "    Elements at j=0 and j=1 From above List are 4,5\n",
      "As 4 < 5 No Swapping..  \n",
      "     Sorted List :  [4, 5, 7, 25, 40, 42, 78, 88, 96, 3, 2, 1, 8]\n",
      " \n",
      "When i=9 \n",
      "   When j=8\n",
      "    Elements at j=8 and j=9 From above List are 96,3\n",
      "As 96 > 3 Swap Both \n",
      "     Sorted List :  [4, 5, 7, 25, 40, 42, 78, 88, 3, 96, 2, 1, 8]\n",
      "   When j=7\n",
      "    Elements at j=7 and j=8 From above List are 88,3\n",
      "As 88 > 3 Swap Both \n",
      "     Sorted List :  [4, 5, 7, 25, 40, 42, 78, 3, 88, 96, 2, 1, 8]\n",
      "   When j=6\n",
      "    Elements at j=6 and j=7 From above List are 78,3\n",
      "As 78 > 3 Swap Both \n",
      "     Sorted List :  [4, 5, 7, 25, 40, 42, 3, 78, 88, 96, 2, 1, 8]\n",
      "   When j=5\n",
      "    Elements at j=5 and j=6 From above List are 42,3\n",
      "As 42 > 3 Swap Both \n",
      "     Sorted List :  [4, 5, 7, 25, 40, 3, 42, 78, 88, 96, 2, 1, 8]\n",
      "   When j=4\n",
      "    Elements at j=4 and j=5 From above List are 40,3\n",
      "As 40 > 3 Swap Both \n",
      "     Sorted List :  [4, 5, 7, 25, 3, 40, 42, 78, 88, 96, 2, 1, 8]\n",
      "   When j=3\n",
      "    Elements at j=3 and j=4 From above List are 25,3\n",
      "As 25 > 3 Swap Both \n",
      "     Sorted List :  [4, 5, 7, 3, 25, 40, 42, 78, 88, 96, 2, 1, 8]\n",
      "   When j=2\n",
      "    Elements at j=2 and j=3 From above List are 7,3\n",
      "As 7 > 3 Swap Both \n",
      "     Sorted List :  [4, 5, 3, 7, 25, 40, 42, 78, 88, 96, 2, 1, 8]\n",
      "   When j=1\n",
      "    Elements at j=1 and j=2 From above List are 5,3\n",
      "As 5 > 3 Swap Both \n",
      "     Sorted List :  [4, 3, 5, 7, 25, 40, 42, 78, 88, 96, 2, 1, 8]\n",
      "   When j=0\n",
      "    Elements at j=0 and j=1 From above List are 4,3\n",
      "As 4 > 3 Swap Both \n",
      "     Sorted List :  [3, 4, 5, 7, 25, 40, 42, 78, 88, 96, 2, 1, 8]\n",
      " \n",
      "When i=10 \n",
      "   When j=9\n",
      "    Elements at j=9 and j=10 From above List are 96,2\n",
      "As 96 > 2 Swap Both \n",
      "     Sorted List :  [3, 4, 5, 7, 25, 40, 42, 78, 88, 2, 96, 1, 8]\n",
      "   When j=8\n",
      "    Elements at j=8 and j=9 From above List are 88,2\n",
      "As 88 > 2 Swap Both \n",
      "     Sorted List :  [3, 4, 5, 7, 25, 40, 42, 78, 2, 88, 96, 1, 8]\n",
      "   When j=7\n",
      "    Elements at j=7 and j=8 From above List are 78,2\n",
      "As 78 > 2 Swap Both \n",
      "     Sorted List :  [3, 4, 5, 7, 25, 40, 42, 2, 78, 88, 96, 1, 8]\n",
      "   When j=6\n",
      "    Elements at j=6 and j=7 From above List are 42,2\n",
      "As 42 > 2 Swap Both \n",
      "     Sorted List :  [3, 4, 5, 7, 25, 40, 2, 42, 78, 88, 96, 1, 8]\n",
      "   When j=5\n",
      "    Elements at j=5 and j=6 From above List are 40,2\n",
      "As 40 > 2 Swap Both \n",
      "     Sorted List :  [3, 4, 5, 7, 25, 2, 40, 42, 78, 88, 96, 1, 8]\n",
      "   When j=4\n",
      "    Elements at j=4 and j=5 From above List are 25,2\n",
      "As 25 > 2 Swap Both \n",
      "     Sorted List :  [3, 4, 5, 7, 2, 25, 40, 42, 78, 88, 96, 1, 8]\n",
      "   When j=3\n",
      "    Elements at j=3 and j=4 From above List are 7,2\n",
      "As 7 > 2 Swap Both \n",
      "     Sorted List :  [3, 4, 5, 2, 7, 25, 40, 42, 78, 88, 96, 1, 8]\n",
      "   When j=2\n",
      "    Elements at j=2 and j=3 From above List are 5,2\n",
      "As 5 > 2 Swap Both \n",
      "     Sorted List :  [3, 4, 2, 5, 7, 25, 40, 42, 78, 88, 96, 1, 8]\n",
      "   When j=1\n",
      "    Elements at j=1 and j=2 From above List are 4,2\n",
      "As 4 > 2 Swap Both \n",
      "     Sorted List :  [3, 2, 4, 5, 7, 25, 40, 42, 78, 88, 96, 1, 8]\n",
      "   When j=0\n",
      "    Elements at j=0 and j=1 From above List are 3,2\n",
      "As 3 > 2 Swap Both \n",
      "     Sorted List :  [2, 3, 4, 5, 7, 25, 40, 42, 78, 88, 96, 1, 8]\n",
      " \n",
      "When i=11 \n",
      "   When j=10\n",
      "    Elements at j=10 and j=11 From above List are 96,1\n",
      "As 96 > 1 Swap Both \n",
      "     Sorted List :  [2, 3, 4, 5, 7, 25, 40, 42, 78, 88, 1, 96, 8]\n",
      "   When j=9\n",
      "    Elements at j=9 and j=10 From above List are 88,1\n",
      "As 88 > 1 Swap Both \n",
      "     Sorted List :  [2, 3, 4, 5, 7, 25, 40, 42, 78, 1, 88, 96, 8]\n",
      "   When j=8\n",
      "    Elements at j=8 and j=9 From above List are 78,1\n",
      "As 78 > 1 Swap Both \n",
      "     Sorted List :  [2, 3, 4, 5, 7, 25, 40, 42, 1, 78, 88, 96, 8]\n",
      "   When j=7\n",
      "    Elements at j=7 and j=8 From above List are 42,1\n",
      "As 42 > 1 Swap Both \n",
      "     Sorted List :  [2, 3, 4, 5, 7, 25, 40, 1, 42, 78, 88, 96, 8]\n",
      "   When j=6\n",
      "    Elements at j=6 and j=7 From above List are 40,1\n",
      "As 40 > 1 Swap Both \n",
      "     Sorted List :  [2, 3, 4, 5, 7, 25, 1, 40, 42, 78, 88, 96, 8]\n",
      "   When j=5\n",
      "    Elements at j=5 and j=6 From above List are 25,1\n",
      "As 25 > 1 Swap Both \n",
      "     Sorted List :  [2, 3, 4, 5, 7, 1, 25, 40, 42, 78, 88, 96, 8]\n",
      "   When j=4\n",
      "    Elements at j=4 and j=5 From above List are 7,1\n",
      "As 7 > 1 Swap Both \n",
      "     Sorted List :  [2, 3, 4, 5, 1, 7, 25, 40, 42, 78, 88, 96, 8]\n",
      "   When j=3\n",
      "    Elements at j=3 and j=4 From above List are 5,1\n",
      "As 5 > 1 Swap Both \n",
      "     Sorted List :  [2, 3, 4, 1, 5, 7, 25, 40, 42, 78, 88, 96, 8]\n",
      "   When j=2\n",
      "    Elements at j=2 and j=3 From above List are 4,1\n",
      "As 4 > 1 Swap Both \n",
      "     Sorted List :  [2, 3, 1, 4, 5, 7, 25, 40, 42, 78, 88, 96, 8]\n",
      "   When j=1\n",
      "    Elements at j=1 and j=2 From above List are 3,1\n",
      "As 3 > 1 Swap Both \n",
      "     Sorted List :  [2, 1, 3, 4, 5, 7, 25, 40, 42, 78, 88, 96, 8]\n",
      "   When j=0\n",
      "    Elements at j=0 and j=1 From above List are 2,1\n",
      "As 2 > 1 Swap Both \n",
      "     Sorted List :  [1, 2, 3, 4, 5, 7, 25, 40, 42, 78, 88, 96, 8]\n",
      " \n",
      "When i=12 \n",
      "   When j=11\n",
      "    Elements at j=11 and j=12 From above List are 96,8\n",
      "As 96 > 8 Swap Both \n",
      "     Sorted List :  [1, 2, 3, 4, 5, 7, 25, 40, 42, 78, 88, 8, 96]\n",
      "   When j=10\n",
      "    Elements at j=10 and j=11 From above List are 88,8\n",
      "As 88 > 8 Swap Both \n",
      "     Sorted List :  [1, 2, 3, 4, 5, 7, 25, 40, 42, 78, 8, 88, 96]\n",
      "   When j=9\n",
      "    Elements at j=9 and j=10 From above List are 78,8\n",
      "As 78 > 8 Swap Both \n",
      "     Sorted List :  [1, 2, 3, 4, 5, 7, 25, 40, 42, 8, 78, 88, 96]\n",
      "   When j=8\n",
      "    Elements at j=8 and j=9 From above List are 42,8\n",
      "As 42 > 8 Swap Both \n",
      "     Sorted List :  [1, 2, 3, 4, 5, 7, 25, 40, 8, 42, 78, 88, 96]\n",
      "   When j=7\n",
      "    Elements at j=7 and j=8 From above List are 40,8\n",
      "As 40 > 8 Swap Both \n",
      "     Sorted List :  [1, 2, 3, 4, 5, 7, 25, 8, 40, 42, 78, 88, 96]\n",
      "   When j=6\n",
      "    Elements at j=6 and j=7 From above List are 25,8\n",
      "As 25 > 8 Swap Both \n",
      "     Sorted List :  [1, 2, 3, 4, 5, 7, 8, 25, 40, 42, 78, 88, 96]\n",
      "   When j=5\n",
      "    Elements at j=5 and j=6 From above List are 7,8\n",
      "As 7 < 8 No Swapping..  \n",
      "     Sorted List :  [1, 2, 3, 4, 5, 7, 8, 25, 40, 42, 78, 88, 96]\n",
      "   When j=4\n",
      "    Elements at j=4 and j=5 From above List are 5,7\n",
      "As 5 < 7 No Swapping..  \n",
      "     Sorted List :  [1, 2, 3, 4, 5, 7, 8, 25, 40, 42, 78, 88, 96]\n",
      "   When j=3\n",
      "    Elements at j=3 and j=4 From above List are 4,5\n",
      "As 4 < 5 No Swapping..  \n",
      "     Sorted List :  [1, 2, 3, 4, 5, 7, 8, 25, 40, 42, 78, 88, 96]\n",
      "   When j=2\n",
      "    Elements at j=2 and j=3 From above List are 3,4\n",
      "As 3 < 4 No Swapping..  \n",
      "     Sorted List :  [1, 2, 3, 4, 5, 7, 8, 25, 40, 42, 78, 88, 96]\n",
      "   When j=1\n",
      "    Elements at j=1 and j=2 From above List are 2,3\n",
      "As 2 < 3 No Swapping..  \n",
      "     Sorted List :  [1, 2, 3, 4, 5, 7, 8, 25, 40, 42, 78, 88, 96]\n",
      "   When j=0\n",
      "    Elements at j=0 and j=1 From above List are 1,2\n",
      "As 1 < 2 No Swapping..  \n",
      "     Sorted List :  [1, 2, 3, 4, 5, 7, 8, 25, 40, 42, 78, 88, 96]\n",
      " \n",
      "Final Sorted List :  [1, 2, 3, 4, 5, 7, 8, 25, 40, 42, 78, 88, 96]\n"
     ]
    }
   ],
   "source": [
    "# n =  [25,8,35,2,15]\n",
    "# n = [7,40,25,42,4,78,96,5,88,3,2,1,8]\n",
    "def InsertionSort():\n",
    "    n = [7,40,25,42,4,78,96,5,88,3,2,1,8]\n",
    "#     n = list(map(int,input(\"Enter Elements : \").split(\" \")))\n",
    "    print(\"Unsorted List : \",n)\n",
    "    print(\" \")\n",
    "    for i in range(1,len(n)):\n",
    "        j=i-1;\n",
    "        print(f\"When i={i} \")\n",
    "        while(j>=0):\n",
    "            print(f\"   When j={j}\")\n",
    "            print(f\"    Elements at j={j} and j={j+1} From above List are {n[j]},{n[j+1]}\")\n",
    "            if(n[j]>n[j+1]):\n",
    "                print(f\"As {n[j]} > {n[j+1]} Swap Both \")\n",
    "                n[j],n[j+1] =n[j+1],n[j]\n",
    "            else:\n",
    "                print(f\"As {n[j]} < {n[j+1]} No Swapping..  \")\n",
    "            print(\"     Sorted List : \",n)\n",
    "            j=j-1\n",
    "        print(\" \")\n",
    "    print(\"Final Sorted List : \",n)\n",
    "InsertionSort()"
   ]
  },
  {
   "cell_type": "code",
   "execution_count": 8,
   "id": "ef27b2b8",
   "metadata": {
    "ExecuteTime": {
     "end_time": "2022-06-24T16:22:01.550339Z",
     "start_time": "2022-06-24T16:22:01.534381Z"
    },
    "pycharm": {
     "name": "#%%\n"
    }
   },
   "outputs": [
    {
     "name": "stdout",
     "output_type": "stream",
     "text": [
      "Unsorted List :  [5, 4, 3, 2, 1]\n",
      " gg  [1, 4, 3, 2, 5]\n",
      " gg  [1, 4, 3, 2, 5]\n",
      " gg  [1, 2, 3, 4, 5]\n",
      " gg  [1, 2, 3, 4, 5]\n",
      " Sorted List  :  [1, 2, 3, 4, 5]\n"
     ]
    }
   ],
   "source": [
    "# n =  [25,8,35,2,15]\n",
    "n = [5,4,3,2,1]\n",
    "# n = [7,40,25,42,4,78,96,5,88,3,2,1,8]\n",
    "print(\"Unsorted List : \",n)\n",
    "def QuickSort(n,lb,ub): \n",
    "    if lb < ub: \n",
    "        i = ( lb-1 )\n",
    "        pivot = n[ub]\n",
    "        for j in range(lb,ub):\n",
    "            if n[j] <= pivot:\n",
    "                i = i+1\n",
    "                n[i],n[j] = n[j],n[i]\n",
    "        n[i+1],n[ub] = n[ub],n[i+1] \n",
    "        print(\" gg \",n)\n",
    "        pi = i+1 \n",
    "        QuickSort(n, lb, pi-1)\n",
    "        QuickSort(n, pi+1, ub) \n",
    "    return n\n",
    "print(\" Sorted List  : \",QuickSort(n,0,len(n)-1))"
   ]
  },
  {
   "cell_type": "code",
   "execution_count": 9,
   "id": "4ff60c29",
   "metadata": {
    "ExecuteTime": {
     "end_time": "2022-06-24T16:22:02.630452Z",
     "start_time": "2022-06-24T16:22:02.601529Z"
    }
   },
   "outputs": [
    {
     "data": {
      "text/plain": [
       "[1, 2, 3, 4, 5, 7, 8, 25, 40, 42, 78, 88, 96]"
      ]
     },
     "execution_count": 9,
     "metadata": {},
     "output_type": "execute_result"
    }
   ],
   "source": [
    "n = [7,40,25,42,4,78,96,5,88,3,2,1,8]\n",
    "def qsort(n,lb,ub):\n",
    "    if(lb<ub):\n",
    "        i = lb\n",
    "        pivot = n[ub]\n",
    "        for j in range(lb,ub):\n",
    "            if(n[j]<=pivot):\n",
    "                n[i],n[j]=n[j],n[i]\n",
    "                i+=1\n",
    "        n[i],n[ub] = n[ub],n[i]\n",
    "        pi = i\n",
    "        qsort(n,lb,pi-1)\n",
    "        qsort(n,pi+1,ub)\n",
    "    return n\n",
    "qsort(n,0,len(n)-1)"
   ]
  },
  {
   "cell_type": "code",
   "execution_count": 8,
   "id": "aa14c69e",
   "metadata": {
    "ExecuteTime": {
     "end_time": "2022-06-15T10:33:57.762417Z",
     "start_time": "2022-06-15T10:33:57.741442Z"
    },
    "pycharm": {
     "name": "#%%\n"
    }
   },
   "outputs": [
    {
     "name": "stdout",
     "output_type": "stream",
     "text": [
      "7 40 25 42 4 78 96 5 88 3 2 1 8 "
     ]
    }
   ],
   "source": [
    "n = [7,40,25,42,4,78,96,5,88,3,2,1,8]\n",
    "for i in n:\n",
    "    print(i,end=' ')"
   ]
  },
  {
   "cell_type": "code",
   "execution_count": null,
   "id": "ec8f25b5",
   "metadata": {},
   "outputs": [],
   "source": []
  },
  {
   "cell_type": "code",
   "execution_count": 10,
   "id": "444600b0",
   "metadata": {
    "ExecuteTime": {
     "end_time": "2022-06-15T12:03:29.649293Z",
     "start_time": "2022-06-15T12:03:29.622363Z"
    },
    "pycharm": {
     "name": "#%%\n"
    }
   },
   "outputs": [
    {
     "name": "stdout",
     "output_type": "stream",
     "text": [
      "Unsorted List :  [7, 40, 25, 42, 4, 78, 96, 5, 88, 3, 2, 1, 8]\n",
      "  Sorted List :  [1, 2, 3, 4, 5, 7, 8, 25, 40, 42, 78, 88, 96]\n"
     ]
    }
   ],
   "source": [
    "s = [7,40,25,42,4,78,96,5,88,3,2,1,8]\n",
    "print(\"Unsorted List : \",s)\n",
    "def MergeSort(s):\n",
    "    if len(s)<=1:\n",
    "        return s\n",
    "    mid = len(s)//2\n",
    "    s1 = s[:mid]\n",
    "    s2 = s[mid:]\n",
    "    MergeSort(s1)\n",
    "    MergeSort(s2)\n",
    "    i=j=k=0\n",
    "    a = s1\n",
    "    b = s2\n",
    "    while i<len(a) and j<len(b):\n",
    "        if a[i]<=b[j]:\n",
    "            s[k] = a[i]\n",
    "            i+=1\n",
    "        else:\n",
    "            s[k] = b[j]\n",
    "            j+=1\n",
    "        k+=1\n",
    "    while i<len(a):\n",
    "        s[k] = a[i]\n",
    "        i+=1\n",
    "        k+=1\n",
    "    while j<len(b):\n",
    "        s[k] = b[j]\n",
    "        j+=1\n",
    "        k+=1\n",
    "    return s\n",
    "print(\"  Sorted List : \",MergeSort(s))"
   ]
  },
  {
   "cell_type": "code",
   "execution_count": 182,
   "id": "aa520a1a",
   "metadata": {
    "ExecuteTime": {
     "end_time": "2022-06-08T10:59:29.213835Z",
     "start_time": "2022-06-08T10:59:29.198875Z"
    },
    "pycharm": {
     "name": "#%%\n"
    }
   },
   "outputs": [],
   "source": [
    "# # n =  [25,8,35,2,15]\n",
    "# n = [7,40,25,42,4,78,96,5,88,3,2,1,8]\n",
    "# print(\"Unsorted List : \",n)\n",
    "# def partition(arr,low,high): \n",
    "#     i = ( low-1 )\n",
    "#     pivot = arr[high]\n",
    "#     for j in range(low , high): \n",
    "#         if arr[j] <= pivot:\n",
    "#             i = i+1\n",
    "#             arr[i],arr[j] = arr[j],arr[i] \n",
    "#     arr[i+1],arr[high] = arr[high],arr[i+1] \n",
    "#     print(\"Pivot = \",pivot,n)\n",
    "#     return ( i+1 )\n",
    "# def quickSort(arr,low,high): \n",
    "#     if low < high: \n",
    "#         pi = partition(arr,low,high)\n",
    "#         quickSort(arr, low, pi-1)\n",
    "#         quickSort(arr, pi+1, high) \n",
    "#     return arr\n",
    "# print(\" Sorted List  : \",quickSort(n,0,len(n)-1))"
   ]
  },
  {
   "cell_type": "code",
   "execution_count": 148,
   "id": "5d139a00",
   "metadata": {
    "ExecuteTime": {
     "end_time": "2022-06-08T10:39:56.749490Z",
     "start_time": "2022-06-08T10:39:56.724557Z"
    },
    "pycharm": {
     "name": "#%%\n"
    }
   },
   "outputs": [],
   "source": [
    "# def Merge(l,r,s):\n",
    "#     i=j=k=0\n",
    "#     a = l\n",
    "#     b = r\n",
    "#     print(\"Left Partition Sorted : \",l,\" \",\"Right Partition Sorted : \",r)\n",
    "#     while i<len(a) and j<len(b):\n",
    "#         if a[i]<=b[j]:\n",
    "#             s[k] = a[i]\n",
    "#             i+=1\n",
    "#         else:\n",
    "#             s[k] = b[j]\n",
    "#             j+=1\n",
    "#         print(f\" s[{k}] = \",s[k])\n",
    "#         k+=1\n",
    "#     while i<len(a):\n",
    "#         s[k] = a[i]\n",
    "#         print(f\" s[{k}] = \",s[k])\n",
    "#         i+=1\n",
    "#         k+=1\n",
    "#     while j<len(b):\n",
    "#         s[k] = b[j]\n",
    "#         print(f\" s[{k}] = \",s[k])\n",
    "#         j+=1\n",
    "#         k+=1\n",
    "#     print(\"Updated List s =\",s)\n",
    "#     print(\" \")"
   ]
  },
  {
   "cell_type": "code",
   "execution_count": 154,
   "id": "263b4579",
   "metadata": {
    "ExecuteTime": {
     "end_time": "2022-06-08T10:45:19.257696Z",
     "start_time": "2022-06-08T10:45:19.251711Z"
    },
    "pycharm": {
     "name": "#%%\n"
    }
   },
   "outputs": [],
   "source": [
    "# s = [7,40,25,42,4,78,96,5,88,3,2,1,8]\n",
    "# def MergeSort(s):\n",
    "#     if len(s)<=1:\n",
    "#         return s\n",
    "#     mid = len(s)//2\n",
    "#     s1 = s[:mid]\n",
    "#     s2 = s[mid:]\n",
    "#     print(\"Left Partition : \",s1,\" \",\"Right Partition : \",s2)\n",
    "#     MergeSort(s1)\n",
    "#     MergeSort(s2)\n",
    "#     Merge(s1,s2,s)\n",
    "#     return s\n",
    "# MergeSort(s)"
   ]
  },
  {
   "cell_type": "code",
   "execution_count": 2,
   "id": "50cf5b08",
   "metadata": {
    "ExecuteTime": {
     "end_time": "2022-07-12T09:32:11.001207Z",
     "start_time": "2022-07-12T09:32:10.978268Z"
    },
    "pycharm": {
     "name": "#%%\n"
    }
   },
   "outputs": [
    {
     "data": {
      "text/plain": [
       "7"
      ]
     },
     "execution_count": 2,
     "metadata": {},
     "output_type": "execute_result"
    }
   ],
   "source": [
    "# n = [1,3,5,6,7,8]\n",
    "n = [40, 34, 16, 34, 37, 28, 25, 46, 43, 31, 28, 16, 13, 16, 19, 61, 10, 28, 43, 13]\n",
    "def binarysearch(n, value):\n",
    "    n = sorted(n)\n",
    "    lo, hi = 0, len(n) - 1\n",
    "    while lo <= hi:\n",
    "        mid = (lo + hi) // 2\n",
    "        if n[mid] < value:\n",
    "            lo = mid + 1\n",
    "        elif value < n[mid]:\n",
    "            hi = mid - 1\n",
    "        else:\n",
    "            return mid\n",
    "    return None\n",
    "binarysearch(n,25)"
   ]
  },
  {
   "cell_type": "code",
   "execution_count": null,
   "id": "fd879023",
   "metadata": {},
   "outputs": [],
   "source": []
  },
  {
   "cell_type": "code",
   "execution_count": 45,
   "id": "8b5fea3b",
   "metadata": {
    "ExecuteTime": {
     "end_time": "2022-07-24T17:18:20.003775Z",
     "start_time": "2022-07-24T17:18:19.981870Z"
    }
   },
   "outputs": [
    {
     "name": "stdout",
     "output_type": "stream",
     "text": [
      "[2, 2, 45, 66, 75, 90, 170, 802]\n"
     ]
    }
   ],
   "source": [
    "## Rdix Sort Own Code\n",
    "n = [170, 45, 75, 90, 2, 802, 2, 66]\n",
    "# n = [181,289,390,121,145,736,514,212]\n",
    "# n = [2,25,8,9,7, 8,2, 1, 5, 8, 33, 5, 58, 35, 69, 8, 7, 56, 23, 21, 25, 44, 66, 78, 98]\n",
    "n_new = []\n",
    "max_ele = max(n)\n",
    "for i in n:\n",
    "    n_new.append(f'{i:0{len(str(max_ele))}d}')\n",
    "\n",
    "lod = len(str(max_ele)) -1\n",
    "\n",
    "def radix_sort(n1,lod):\n",
    "    it = lod\n",
    "    while(it>=0):\n",
    "        for j in range(len(n1)):\n",
    "            for k in range(j+1,len(n1)):\n",
    "                if int(list(n1[j])[it] ) > int(list(n1[k])[it] ):\n",
    "                    n1[j],n1[k] = n1[k],n1[j]\n",
    "        it-=1\n",
    "    return [int(i) for i in n1]\n",
    "rd_srt = radix_sort(n_new,lod)\n",
    "print(rd_srt)"
   ]
  },
  {
   "cell_type": "code",
   "execution_count": 73,
   "id": "12969084",
   "metadata": {
    "ExecuteTime": {
     "end_time": "2022-07-24T17:36:15.034672Z",
     "start_time": "2022-07-24T17:36:15.021708Z"
    }
   },
   "outputs": [
    {
     "name": "stdout",
     "output_type": "stream",
     "text": [
      "[170, 45, 75, 90, 2, 802, 2, 66]\n",
      "[0, 0, 0, 0, 0, 0, 0, 0, 0, 0]\n"
     ]
    }
   ],
   "source": [
    "n = [170, 45, 75, 90, 2, 802, 2, 66]\n",
    "# n = [170,11,32,53,784,45,76,127,88,109]\n",
    "print(n)\n",
    "ot = [0]*len(n)\n",
    "ct = [0]*10\n",
    "print(ct)"
   ]
  },
  {
   "cell_type": "code",
   "execution_count": 74,
   "id": "c75c08fa",
   "metadata": {
    "ExecuteTime": {
     "end_time": "2022-07-24T17:36:15.456421Z",
     "start_time": "2022-07-24T17:36:15.441462Z"
    }
   },
   "outputs": [
    {
     "data": {
      "text/plain": [
       "[2, 0, 3, 0, 0, 2, 1, 0, 0, 0]"
      ]
     },
     "execution_count": 74,
     "metadata": {},
     "output_type": "execute_result"
    }
   ],
   "source": [
    "place = 1\n",
    "for i in range(len(n)):\n",
    "    idx = n[i]//place\n",
    "    ct[idx%10]+=1\n",
    "ct"
   ]
  },
  {
   "cell_type": "code",
   "execution_count": 75,
   "id": "eb4fbf2a",
   "metadata": {
    "ExecuteTime": {
     "end_time": "2022-07-24T17:36:15.848838Z",
     "start_time": "2022-07-24T17:36:15.835869Z"
    }
   },
   "outputs": [
    {
     "data": {
      "text/plain": [
       "[2, 2, 5, 5, 5, 7, 8, 8, 8, 8]"
      ]
     },
     "execution_count": 75,
     "metadata": {},
     "output_type": "execute_result"
    }
   ],
   "source": [
    "for i in range(1,10):\n",
    "    ct[i]+=ct[i-1]\n",
    "ct"
   ]
  },
  {
   "cell_type": "code",
   "execution_count": 76,
   "id": "d51c4ca4",
   "metadata": {
    "ExecuteTime": {
     "end_time": "2022-07-24T17:36:16.334089Z",
     "start_time": "2022-07-24T17:36:16.324114Z"
    }
   },
   "outputs": [
    {
     "name": "stdout",
     "output_type": "stream",
     "text": [
      "[170, 45, 75, 90, 2, 802, 2, 66]\n",
      "[0, 2, 2, 5, 5, 5, 7, 8, 8, 8]\n",
      "[170, 90, 2, 802, 2, 45, 75, 66]\n"
     ]
    }
   ],
   "source": [
    "i = len(n)-1\n",
    "while i>=0:\n",
    "    idx = n[i]//place\n",
    "    ot[ct[idx%10]-1]=n[i]\n",
    "    ct[idx%10]-=1\n",
    "    i-=1\n",
    "print(n)\n",
    "print(ct)\n",
    "print(ot)"
   ]
  },
  {
   "cell_type": "code",
   "execution_count": null,
   "id": "1b0c30bc",
   "metadata": {},
   "outputs": [],
   "source": []
  }
 ],
 "metadata": {
  "hide_input": false,
  "kernelspec": {
   "display_name": "Python 3 (ipykernel)",
   "language": "python",
   "name": "python3"
  },
  "language_info": {
   "codemirror_mode": {
    "name": "ipython",
    "version": 3
   },
   "file_extension": ".py",
   "mimetype": "text/x-python",
   "name": "python",
   "nbconvert_exporter": "python",
   "pygments_lexer": "ipython3",
   "version": "3.9.7"
  },
  "nbTranslate": {
   "displayLangs": [
    "*"
   ],
   "hotkey": "alt-t",
   "langInMainMenu": true,
   "sourceLang": "en",
   "targetLang": "fr",
   "useGoogleTranslate": true
  },
  "varInspector": {
   "cols": {
    "lenName": 16,
    "lenType": 16,
    "lenVar": 40
   },
   "kernels_config": {
    "python": {
     "delete_cmd_postfix": "",
     "delete_cmd_prefix": "del ",
     "library": "var_list.py",
     "varRefreshCmd": "print(var_dic_list())"
    },
    "r": {
     "delete_cmd_postfix": ") ",
     "delete_cmd_prefix": "rm(",
     "library": "var_list.r",
     "varRefreshCmd": "cat(var_dic_list()) "
    }
   },
   "types_to_exclude": [
    "module",
    "function",
    "builtin_function_or_method",
    "instance",
    "_Feature"
   ],
   "window_display": false
  }
 },
 "nbformat": 4,
 "nbformat_minor": 5
}
