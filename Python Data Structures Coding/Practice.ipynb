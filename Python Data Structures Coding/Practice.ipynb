{
 "cells": [
  {
   "cell_type": "code",
   "execution_count": 2,
   "id": "0ba2727c",
   "metadata": {
    "ExecuteTime": {
     "end_time": "2022-07-12T09:30:37.484311Z",
     "start_time": "2022-07-12T09:30:37.462372Z"
    }
   },
   "outputs": [
    {
     "name": "stdout",
     "output_type": "stream",
     "text": [
      "[40, 34, 16, 34, 37, 28, 25, 46, 43, 31, 28, 16, 13, 16, 19, 61, 10, 28, 43, 13]"
     ]
    }
   ],
   "source": [
    "## Searching 1.Linear Search  2.Binary Search\n",
    "import random\n",
    "n = [random.randrange(10,i,3) for i in range(50,70)]\n",
    "print(n,end='')"
   ]
  },
  {
   "cell_type": "code",
   "execution_count": 54,
   "id": "dfb88345",
   "metadata": {
    "ExecuteTime": {
     "end_time": "2022-07-12T09:15:55.465516Z",
     "start_time": "2022-07-12T09:15:54.485581Z"
    }
   },
   "outputs": [
    {
     "name": "stdout",
     "output_type": "stream",
     "text": [
      "Enter Element to be Searched : 4\n",
      "Element Not Found \n"
     ]
    }
   ],
   "source": [
    "# def linear_search(list_n,key):\n",
    "#     idx = []\n",
    "#     for i,j in enumerate(list_n):\n",
    "#         if j==key:\n",
    "#             idx.append(i)\n",
    "#     if len(idx)>1:\n",
    "#         print(\"Elements Found at indices : \",idx)\n",
    "#     elif len(idx)==1:\n",
    "#         print(\"Element Found at index : \",idx[0])\n",
    "#     else:\n",
    "#         print(\"Element Not Found \")\n",
    "# linear_search(n,int(input(\"Enter Element to be Searched : \")))"
   ]
  },
  {
   "cell_type": "code",
   "execution_count": 6,
   "id": "6e5056f6",
   "metadata": {
    "ExecuteTime": {
     "end_time": "2022-07-12T09:32:58.191755Z",
     "start_time": "2022-07-12T09:32:58.177792Z"
    }
   },
   "outputs": [
    {
     "data": {
      "text/plain": [
       "7"
      ]
     },
     "execution_count": 6,
     "metadata": {},
     "output_type": "execute_result"
    }
   ],
   "source": [
    "# def binary_search(list_n,key):\n",
    "#     list_n = sorted(list_n)\n",
    "#     lb = 0\n",
    "#     ub = len(list_n)-1\n",
    "#     while(lb<=ub):\n",
    "#         mid = (lb+ub)//2\n",
    "#         if list_n[mid]==key:\n",
    "#             return mid\n",
    "#         elif key<list_n[mid]:\n",
    "#             ub = mid-1\n",
    "#         else:\n",
    "#             lb = mid+1\n",
    "# binary_search(n,25)"
   ]
  },
  {
   "cell_type": "code",
   "execution_count": 22,
   "id": "fcc9692b",
   "metadata": {
    "ExecuteTime": {
     "end_time": "2022-07-12T09:38:18.418827Z",
     "start_time": "2022-07-12T09:38:18.402897Z"
    }
   },
   "outputs": [
    {
     "name": "stdout",
     "output_type": "stream",
     "text": [
      "[10, 13, 13, 16, 16, 16, 19, 25, 28, 28, 28, 31, 34, 34, 37, 40, 43, 43, 46, 61]"
     ]
    }
   ],
   "source": [
    "n = [40, 34, 16, 34, 37, 28, 25, 46, 43, 31, 28, 16, 13, 16, 19, 61, 10, 28, 43, 13]\n",
    "for i in range(len(n)):\n",
    "    for j in range(len(n)-i-1):\n",
    "        if n[j]>n[j+1]:\n",
    "            n[j],n[j+1] = n[j+1],n[j]\n",
    "print(n,end='')"
   ]
  },
  {
   "cell_type": "code",
   "execution_count": 26,
   "id": "3a893dab",
   "metadata": {
    "ExecuteTime": {
     "end_time": "2022-07-12T09:41:21.753472Z",
     "start_time": "2022-07-12T09:41:21.737523Z"
    }
   },
   "outputs": [
    {
     "name": "stdout",
     "output_type": "stream",
     "text": [
      "[10, 13, 13, 16, 16, 16, 19, 25, 28, 28, 28, 31, 34, 34, 37, 40, 43, 43, 46, 61]"
     ]
    }
   ],
   "source": [
    "n = [40, 34, 16, 34, 37, 28, 25, 46, 43, 31, 28, 16, 13, 16, 19, 61, 10, 28, 43, 13]\n",
    "for i in range(len(n)):\n",
    "    min_id =i\n",
    "    for j in range(i+1,len(n)):\n",
    "        if(n[min_id]>n[j]):\n",
    "            min_id=j\n",
    "    n[min_id],n[i] = n[i],n[min_id]\n",
    "print(n,end='')"
   ]
  },
  {
   "cell_type": "code",
   "execution_count": 28,
   "id": "b92ff062",
   "metadata": {
    "ExecuteTime": {
     "end_time": "2022-07-12T09:43:30.800305Z",
     "start_time": "2022-07-12T09:43:30.786345Z"
    }
   },
   "outputs": [
    {
     "name": "stdout",
     "output_type": "stream",
     "text": [
      "[10, 13, 13, 16, 16, 16, 19, 25, 28, 28, 28, 31, 34, 34, 37, 40, 43, 43, 46, 61]"
     ]
    }
   ],
   "source": [
    "n = [40, 34, 16, 34, 37, 28, 25, 46, 43, 31, 28, 16, 13, 16, 19, 61, 10, 28, 43, 13]\n",
    "for i in range(len(n)):\n",
    "    j = i-1\n",
    "    while(j>=0):\n",
    "        if n[j]>n[j+1]:\n",
    "            n[j],n[j+1] = n[j+1],n[j]\n",
    "        j-=1\n",
    "print(n,end='')"
   ]
  },
  {
   "cell_type": "code",
   "execution_count": 31,
   "id": "cb457977",
   "metadata": {
    "ExecuteTime": {
     "end_time": "2022-07-12T09:49:53.278335Z",
     "start_time": "2022-07-12T09:49:53.261382Z"
    }
   },
   "outputs": [
    {
     "name": "stdout",
     "output_type": "stream",
     "text": [
      "[10, 13, 13, 16, 16, 16, 19, 25, 28, 28, 28, 31, 34, 34, 37, 40, 43, 43, 46, 61]"
     ]
    }
   ],
   "source": [
    "n = [40, 34, 16, 34, 37, 28, 25, 46, 43, 31, 28, 16, 13, 16, 19, 61, 10, 28, 43, 13]\n",
    "def quick_sort(n,lb,ub):\n",
    "    if lb<ub:\n",
    "        i = lb\n",
    "        pivot = n[ub]\n",
    "        for j in range(lb,ub):\n",
    "            if n[j]<=pivot:\n",
    "                n[i],n[j]=n[j],n[i]\n",
    "                i+=1\n",
    "        n[i],n[ub]=n[ub],n[i]\n",
    "        pi = i\n",
    "        quick_sort(n,lb,pi-1)\n",
    "        quick_sort(n,pi+1,ub)\n",
    "        return n\n",
    "print(quick_sort(n,0,len(n)-1),end='')"
   ]
  },
  {
   "cell_type": "code",
   "execution_count": null,
   "id": "1234f8c3",
   "metadata": {},
   "outputs": [],
   "source": []
  }
 ],
 "metadata": {
  "hide_input": false,
  "kernelspec": {
   "display_name": "Python 3 (ipykernel)",
   "language": "python",
   "name": "python3"
  },
  "language_info": {
   "codemirror_mode": {
    "name": "ipython",
    "version": 3
   },
   "file_extension": ".py",
   "mimetype": "text/x-python",
   "name": "python",
   "nbconvert_exporter": "python",
   "pygments_lexer": "ipython3",
   "version": "3.9.7"
  },
  "nbTranslate": {
   "displayLangs": [
    "*"
   ],
   "hotkey": "alt-t",
   "langInMainMenu": true,
   "sourceLang": "en",
   "targetLang": "fr",
   "useGoogleTranslate": true
  },
  "varInspector": {
   "cols": {
    "lenName": 16,
    "lenType": 16,
    "lenVar": 40
   },
   "kernels_config": {
    "python": {
     "delete_cmd_postfix": "",
     "delete_cmd_prefix": "del ",
     "library": "var_list.py",
     "varRefreshCmd": "print(var_dic_list())"
    },
    "r": {
     "delete_cmd_postfix": ") ",
     "delete_cmd_prefix": "rm(",
     "library": "var_list.r",
     "varRefreshCmd": "cat(var_dic_list()) "
    }
   },
   "types_to_exclude": [
    "module",
    "function",
    "builtin_function_or_method",
    "instance",
    "_Feature"
   ],
   "window_display": false
  }
 },
 "nbformat": 4,
 "nbformat_minor": 5
}
