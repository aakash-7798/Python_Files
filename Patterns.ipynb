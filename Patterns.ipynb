{
 "cells": [
  {
   "cell_type": "code",
   "execution_count": 49,
   "id": "2646996b",
   "metadata": {},
   "outputs": [
    {
     "name": "stdout",
     "output_type": "stream",
     "text": [
      "Enter the Value for n : 8\n",
      "* * * * * * * * \n",
      "* * * * * * * * \n",
      "* * * * * * * * \n",
      "* * * * * * * * \n",
      "* * * * * * * * \n",
      "* * * * * * * * \n",
      "* * * * * * * * \n",
      "* * * * * * * * \n"
     ]
    }
   ],
   "source": [
    "n = int(input(\"Enter the Value for n : \"))\n",
    "for i in range(n):\n",
    "    for j in range(n):\n",
    "        print(\"*\",end=' ')\n",
    "    print()"
   ]
  },
  {
   "cell_type": "code",
   "execution_count": 6,
   "id": "0c73f5ff",
   "metadata": {},
   "outputs": [
    {
     "name": "stdout",
     "output_type": "stream",
     "text": [
      "Enter the Value for n : 5\n",
      "* \n",
      "* * \n",
      "* * * \n",
      "* * * * \n",
      "* * * * * \n"
     ]
    }
   ],
   "source": [
    "# Increasing Triangle Pattern\n",
    "n = int(input(\"Enter the Value for n : \"))\n",
    "for i in range(n):\n",
    "    for j in range(i+1):\n",
    "        print(\"*\",end=' ')\n",
    "    print(\"\")"
   ]
  },
  {
   "cell_type": "code",
   "execution_count": 52,
   "id": "2e0d0673",
   "metadata": {},
   "outputs": [
    {
     "name": "stdout",
     "output_type": "stream",
     "text": [
      "Enter the Value for n : 10\n",
      "* * * * * * * * * * \n",
      "* * * * * * * * * \n",
      "* * * * * * * * \n",
      "* * * * * * * \n",
      "* * * * * * \n",
      "* * * * * \n",
      "* * * * \n",
      "* * * \n",
      "* * \n",
      "* \n"
     ]
    }
   ],
   "source": [
    "# Decreasing Triangle Pattern\n",
    "n = int(input(\"Enter the Value for n : \"))\n",
    "for i in range(n):\n",
    "    for j in range(i,n):\n",
    "        print(\"*\",end=' ')\n",
    "    print()"
   ]
  },
  {
   "cell_type": "code",
   "execution_count": 4,
   "id": "e0e5241f",
   "metadata": {},
   "outputs": [
    {
     "name": "stdout",
     "output_type": "stream",
     "text": [
      "Enter the Value for n : 5\n",
      "     *\n",
      "    **\n",
      "   ***\n",
      "  ****\n",
      " *****\n"
     ]
    }
   ],
   "source": [
    "# Right Sided Triangle\n",
    "n = int(input(\"Enter the Value for n : \"))\n",
    "for i in range(n):\n",
    "    for j in range(i,n):\n",
    "        print(\"\",end=' ')\n",
    "    for j in range(i+1):\n",
    "        print(\"*\",end='')\n",
    "    print(\"\")"
   ]
  },
  {
   "cell_type": "code",
   "execution_count": 55,
   "id": "3ba5e6a0",
   "metadata": {},
   "outputs": [
    {
     "name": "stdout",
     "output_type": "stream",
     "text": [
      "Enter the Value for n : 6\n",
      " ******\n",
      "  *****\n",
      "   ****\n",
      "    ***\n",
      "     **\n",
      "      *\n"
     ]
    }
   ],
   "source": [
    "# Right Sided Downward Triangle\n",
    "n = int(input(\"Enter the Value for n : \"))\n",
    "for i in range(n):\n",
    "    for j in range(i+1):\n",
    "        print(\"\",end=\" \")\n",
    "    for j in range(i,n):\n",
    "        print(\"*\",end=\"\")\n",
    "    print()"
   ]
  },
  {
   "cell_type": "code",
   "execution_count": 10,
   "id": "50652248",
   "metadata": {},
   "outputs": [
    {
     "name": "stdout",
     "output_type": "stream",
     "text": [
      "Enter the Value for n : 5\n",
      "     * \n",
      "    * * \n",
      "   * * * \n",
      "  * * * * \n",
      " * * * * * \n"
     ]
    }
   ],
   "source": [
    "# Increasing Pyramid\n",
    "n = int(input(\"Enter the Value for n : \"))\n",
    "for i in range(n):\n",
    "    for j in range(i,n):\n",
    "        print(\"\",end=\" \")\n",
    "    for j in range(i+1):\n",
    "        print(\"*\",end=\" \")    \n",
    "    print()"
   ]
  },
  {
   "cell_type": "code",
   "execution_count": 62,
   "id": "af3ff37a",
   "metadata": {},
   "outputs": [
    {
     "name": "stdout",
     "output_type": "stream",
     "text": [
      "Enter the Value for n : 8\n",
      " * * * * * * * * \n",
      "  * * * * * * * \n",
      "   * * * * * * \n",
      "    * * * * * \n",
      "     * * * * \n",
      "      * * * \n",
      "       * * \n",
      "        * \n"
     ]
    }
   ],
   "source": [
    "# Decreasing Pyramid\n",
    "n = int(input(\"Enter the Value for n : \"))\n",
    "for i in range(n):\n",
    "    for j in range(i+1):\n",
    "        print(\"\",end=\" \")\n",
    "    for j in range(i,n):\n",
    "        print(\"*\",end=\" \")    \n",
    "    print()"
   ]
  },
  {
   "cell_type": "code",
   "execution_count": 110,
   "id": "f50c38b9",
   "metadata": {},
   "outputs": [
    {
     "name": "stdout",
     "output_type": "stream",
     "text": [
      "Enter the Value for n : 12\n",
      "            *\n",
      "           ***\n",
      "          *****\n",
      "         *******\n",
      "        *********\n",
      "       ***********\n",
      "      *************\n",
      "     ***************\n",
      "    *****************\n",
      "   *******************\n",
      "  *********************\n",
      " ***********************\n"
     ]
    }
   ],
   "source": [
    "# Hill Pattern \n",
    "n = int(input(\"Enter the Value for n : \"))\n",
    "for i in range(n):\n",
    "    for j in range(i,n):\n",
    "        print(\"\",end=\" \")\n",
    "    for j in range(i):\n",
    "        print(\"*\",end=\"\")\n",
    "    for j in range(i+1):\n",
    "        print(\"*\",end=\"\")    \n",
    "    print()"
   ]
  },
  {
   "cell_type": "code",
   "execution_count": 111,
   "id": "250d8f51",
   "metadata": {},
   "outputs": [
    {
     "name": "stdout",
     "output_type": "stream",
     "text": [
      "Enter the Value for n : 12\n",
      " ***********************\n",
      "  *********************\n",
      "   *******************\n",
      "    *****************\n",
      "     ***************\n",
      "      *************\n",
      "       ***********\n",
      "        *********\n",
      "         *******\n",
      "          *****\n",
      "           ***\n",
      "            *\n"
     ]
    }
   ],
   "source": [
    "# Reverse Hill Pattern\n",
    "n = int(input(\"Enter the Value for n : \"))\n",
    "for i in range(n):\n",
    "    for j in range(i+1):\n",
    "        print(\"\",end=\" \")\n",
    "    for j in range(i,n-1):\n",
    "        print(\"*\",end=\"\")\n",
    "    for j in range(i,n):\n",
    "        print(\"*\",end=\"\")    \n",
    "    print()"
   ]
  },
  {
   "cell_type": "code",
   "execution_count": 106,
   "id": "3abc727f",
   "metadata": {},
   "outputs": [
    {
     "name": "stdout",
     "output_type": "stream",
     "text": [
      "Enter the value of n: 10\n",
      "          *\n",
      "         ***\n",
      "        *****\n",
      "       *******\n",
      "      *********\n",
      "     ***********\n",
      "    *************\n",
      "   ***************\n",
      "  *****************\n",
      " *******************\n",
      "  *****************\n",
      "   ***************\n",
      "    *************\n",
      "     ***********\n",
      "      *********\n",
      "       *******\n",
      "        *****\n",
      "         ***\n",
      "          *\n"
     ]
    }
   ],
   "source": [
    "# Diamond Pattern\n",
    "n = int(input(\"Enter the value of n: \"))\n",
    "for i in range(n-1):\n",
    "    for j in range(i,n):\n",
    "        print(\"\",end=\" \")\n",
    "    for j in range(i):\n",
    "        print(\"*\",end=\"\")\n",
    "    for j in range(i+1):\n",
    "        print(\"*\",end=\"\")    \n",
    "    print()\n",
    "for i in range(n):\n",
    "    for j in range(i+1):\n",
    "        print(\"\",end=\" \")\n",
    "    for j in range(i,n-1):\n",
    "        print(\"*\",end=\"\")\n",
    "    for j in range(i,n):\n",
    "        print(\"*\",end=\"\")    \n",
    "    print()    "
   ]
  },
  {
   "cell_type": "code",
   "execution_count": 136,
   "id": "723f9f85",
   "metadata": {},
   "outputs": [
    {
     "name": "stdout",
     "output_type": "stream",
     "text": [
      "Enter the Value of n: 4\n",
      "    *\n",
      "   **\n",
      "  ***\n",
      " ****\n",
      "  ***\n",
      "   **\n",
      "    *\n"
     ]
    }
   ],
   "source": [
    "# Right Pascal Traingle\n",
    "n = int(input(\"Enter the Value of n: \"))\n",
    "for i in range(n-1):\n",
    "    for j in range(i,n):\n",
    "        print(\"\",end=\" \")\n",
    "    for j in range(i+1):\n",
    "        print(\"*\",end=\"\")\n",
    "    print()\n",
    "for i in range(n):\n",
    "    for j in range(i+1):\n",
    "        print(\"\",end=\" \")\n",
    "    for j in range(i,n):\n",
    "        print(\"*\",end=\"\")\n",
    "    print()    "
   ]
  },
  {
   "cell_type": "code",
   "execution_count": 137,
   "id": "57195edc",
   "metadata": {},
   "outputs": [
    {
     "name": "stdout",
     "output_type": "stream",
     "text": [
      "Enter the Value of n: 4\n",
      "*\n",
      "**\n",
      "***\n",
      "****\n",
      "***\n",
      "**\n",
      "*\n"
     ]
    }
   ],
   "source": [
    "# Left Pascal Traingle\n",
    "n = int(input(\"Enter the Value of n: \"))\n",
    "for i in range(n-1):\n",
    "    for j in range(i,n):\n",
    "        print(\"\",end=\"\")\n",
    "    for j in range(i+1):\n",
    "        print(\"*\",end=\"\")\n",
    "    print()\n",
    "for i in range(n):\n",
    "    for j in range(i+1):\n",
    "        print(\"\",end=\"\")\n",
    "    for j in range(i,n):\n",
    "        print(\"*\",end=\"\")\n",
    "    print()    "
   ]
  },
  {
   "cell_type": "code",
   "execution_count": 174,
   "id": "93342a6b",
   "metadata": {},
   "outputs": [
    {
     "name": "stdout",
     "output_type": "stream",
     "text": [
      "Enter the Value of n: 5\n",
      " * * * * * \n",
      "  * * * * \n",
      "   * * * \n",
      "    * * \n",
      "     * \n",
      "    * * \n",
      "   * * * \n",
      "  * * * * \n",
      " * * * * * \n"
     ]
    }
   ],
   "source": [
    "# Sandglass\n",
    "n = int(input(\"Enter the Value of n: \"))\n",
    "for i in range(n-1):\n",
    "    for j in range(i+1):\n",
    "        print(\"\",end=\" \")\n",
    "    for j in range(i,n):\n",
    "        print(\"*\",end=\" \")\n",
    "    print()\n",
    "for i in range(n):\n",
    "    for j in range(i,n):\n",
    "        print(\"\",end=\" \")\n",
    "    for j in range(i+1):\n",
    "        print(\"*\",end=\" \")\n",
    "    print()    "
   ]
  },
  {
   "cell_type": "code",
   "execution_count": 160,
   "id": "c8689f3f",
   "metadata": {},
   "outputs": [
    {
     "name": "stdout",
     "output_type": "stream",
     "text": [
      "Enter the Value of n : 5\n",
      "*        *\n",
      "**      **\n",
      "***    ***\n",
      "**********\n",
      "****  ****\n",
      "***    ***\n",
      "**      **\n",
      "*        *\n"
     ]
    }
   ],
   "source": [
    "# n = int(input(\"Enter the Value of n : \"))\n",
    "# # Upper Triangles\n",
    "# for i in range(1, n-1):\n",
    "#     print(\"*\"*i, end=\"\")\n",
    "#     print(\" \"*(n-i)*2, end=\"\")\n",
    "#     print(\"*\"*i)\n",
    "\n",
    "# # Lower Triangles\n",
    "# for i in range(n,0,-1):\n",
    "#     print(\"*\"*i, end=\"\")\n",
    "#     print(\" \"*(n-i)*2, end=\"\")\n",
    "#     print(\"*\"*i)    \n",
    "\n"
   ]
  },
  {
   "cell_type": "code",
   "execution_count": 202,
   "id": "10f33b1e",
   "metadata": {},
   "outputs": [],
   "source": [
    "#ButterFly\n",
    "def butfly1(n):\n",
    "    for i in range(n-1):\n",
    "        for j in range(i,n):\n",
    "            print(\"\",end=\"\")\n",
    "        for j in range(i+1):\n",
    "            print('*',end=\"\")\n",
    "        print()\n",
    "    for i in range(n):\n",
    "        for j in range(i+1):\n",
    "            print(\"\",end=\"\")\n",
    "        for j in range(i,n):\n",
    "            print('*',end=\"\")\n",
    "        print()\n",
    "def butfly2(n):\n",
    "    for i in range(n-1):\n",
    "        for j in range(i,n):\n",
    "            print(\"\",end=\" \")\n",
    "        for j in range(i+1):\n",
    "            print('*',end=\"\")\n",
    "        print()\n",
    "    for i in range(n):\n",
    "        for j in range(i+1):\n",
    "            print(\"\",end=\" \")\n",
    "        for j in range(i,n):\n",
    "            print('*',end=\"\")\n",
    "        print()        "
   ]
  },
  {
   "cell_type": "code",
   "execution_count": 2,
   "id": "04ed75cc",
   "metadata": {},
   "outputs": [],
   "source": [
    "import pywhatkit"
   ]
  },
  {
   "cell_type": "code",
   "execution_count": 3,
   "id": "b4c22a19",
   "metadata": {},
   "outputs": [
    {
     "name": "stdout",
     "output_type": "stream",
     "text": [
      "In 10 Seconds WhatsApp will open and after 15 Seconds Message will be Delivered!\n"
     ]
    }
   ],
   "source": [
    "pywhatkit.sendwhatmsg_to_group(\"+919848514365\",\"Happy New year\",18,44)"
   ]
  },
  {
   "cell_type": "code",
   "execution_count": null,
   "id": "642e39f1",
   "metadata": {},
   "outputs": [],
   "source": []
  }
 ],
 "metadata": {
  "kernelspec": {
   "display_name": "Python 3 (ipykernel)",
   "language": "python",
   "name": "python3"
  },
  "language_info": {
   "codemirror_mode": {
    "name": "ipython",
    "version": 3
   },
   "file_extension": ".py",
   "mimetype": "text/x-python",
   "name": "python",
   "nbconvert_exporter": "python",
   "pygments_lexer": "ipython3",
   "version": "3.9.7"
  },
  "nbTranslate": {
   "displayLangs": [
    "*"
   ],
   "hotkey": "alt-t",
   "langInMainMenu": true,
   "sourceLang": "en",
   "targetLang": "fr",
   "useGoogleTranslate": true
  },
  "varInspector": {
   "cols": {
    "lenName": 16,
    "lenType": 16,
    "lenVar": 40
   },
   "kernels_config": {
    "python": {
     "delete_cmd_postfix": "",
     "delete_cmd_prefix": "del ",
     "library": "var_list.py",
     "varRefreshCmd": "print(var_dic_list())"
    },
    "r": {
     "delete_cmd_postfix": ") ",
     "delete_cmd_prefix": "rm(",
     "library": "var_list.r",
     "varRefreshCmd": "cat(var_dic_list()) "
    }
   },
   "types_to_exclude": [
    "module",
    "function",
    "builtin_function_or_method",
    "instance",
    "_Feature"
   ],
   "window_display": false
  }
 },
 "nbformat": 4,
 "nbformat_minor": 5
}
