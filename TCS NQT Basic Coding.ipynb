{
 "cells": [
  {
   "cell_type": "code",
   "execution_count": 3,
   "id": "bf723a8f",
   "metadata": {
    "ExecuteTime": {
     "end_time": "2022-02-21T15:23:11.684008Z",
     "start_time": "2022-02-21T15:23:07.507617Z"
    }
   },
   "outputs": [
    {
     "name": "stdout",
     "output_type": "stream",
     "text": [
      "300\n",
      "990\n",
      "TwoWheelers : 105  FourWheelers : 105\n"
     ]
    }
   ],
   "source": [
    "# https://prepinsta.com/tcs-coding-questions/\n",
    "\n",
    "# Problem Statement – An automobile company manufactures both a two wheeler (TW) and a four wheeler (FW). A company manager wants to make the production of both types of vehicle according to the given data below:\n",
    "\n",
    "# 1st data, Total number of vehicle (two-wheeler + four-wheeler)=v\n",
    "# 2nd data, Total number of wheels = W\n",
    " \n",
    "\n",
    "# The task is to find how many two-wheelers as well as four-wheelers need to manufacture as per the given data.\n",
    "\n",
    " \n",
    "\n",
    "# Example :\n",
    "\n",
    "# Input :\n",
    "\n",
    "# 200  -> Value of V\n",
    "# 540   -> Value of W\n",
    "# Output :\n",
    "\n",
    "# TW =130 FW=70\n",
    "\n",
    "#                             Solution\n",
    "\n",
    "vehicles = int(input())\n",
    "Wheels = int(input())\n",
    "if(Wheels<=vehicles or Wheels < 2 or (Wheels&1) == 1):\n",
    "    print(\"Invalid Input\")\n",
    "else :\n",
    "  y = (Wheels - (2*vehicles))//2\n",
    "  x = vehicles - y\n",
    "  print(\"TwoWheelers : {0}  FourWheelers : {1}\".format(x,vehicles-y))"
   ]
  },
  {
   "cell_type": "code",
   "execution_count": 8,
   "id": "f628587f",
   "metadata": {
    "ExecuteTime": {
     "end_time": "2022-02-21T15:26:36.558298Z",
     "start_time": "2022-02-21T15:26:32.762467Z"
    }
   },
   "outputs": [
    {
     "name": "stdout",
     "output_type": "stream",
     "text": [
      "*****#####\n",
      "['*', '*', '*', '*', '*', '#', '#', '#', '#', '#']\n",
      "['*', '#']\n"
     ]
    }
   ],
   "source": [
    "# Problem Statement – Given a string S(input consisting) of ‘*’ and ‘#’. The length of the string is variable. The task is to find the minimum number of ‘*’ or ‘#’ to make it a valid string. The string is considered valid if the number of ‘*’ and ‘#’ are equal. The ‘*’ and ‘#’ can be at any position in the string.\n",
    "\n",
    " \n",
    "\n",
    "# Note : The output will be a positive or negative integer based on number of ‘*’ and ‘#’ in the input string.\n",
    "\n",
    "# (*>#): positive integer\n",
    "# (#>*): negative integer\n",
    "# (#=*): 0\n",
    " \n",
    "\n",
    "# Example 1:\n",
    "\n",
    "# Input 1:\n",
    "\n",
    "# ###***   -> Value of S\n",
    "# Output :\n",
    "\n",
    "# 0   → number of * and # are equal\n",
    "\n",
    "#           Solution\n",
    "\n",
    "Strings = list(input())\n",
    "Strings_new = []\n",
    "for i in Strings:\n",
    "    if i not in Strings_new:\n",
    "        Strings_new.append(i)\n",
    "print(Strings)\n",
    "print(Strings_new)"
   ]
  },
  {
   "cell_type": "code",
   "execution_count": 10,
   "id": "eda3a886",
   "metadata": {
    "ExecuteTime": {
     "end_time": "2022-02-21T15:29:05.443556Z",
     "start_time": "2022-02-21T15:29:05.431620Z"
    }
   },
   "outputs": [
    {
     "name": "stdout",
     "output_type": "stream",
     "text": [
      "#\n",
      "#\n",
      "#\n",
      "#\n",
      "#\n"
     ]
    }
   ],
   "source": [
    "for i in Strings:\n",
    "    if i==Strings_new[1]:\n",
    "        print(i)"
   ]
  },
  {
   "cell_type": "code",
   "execution_count": 12,
   "id": "c38052a9",
   "metadata": {
    "ExecuteTime": {
     "end_time": "2022-02-21T15:30:13.697791Z",
     "start_time": "2022-02-21T15:30:09.208291Z"
    }
   },
   "outputs": [
    {
     "name": "stdout",
     "output_type": "stream",
     "text": [
      "**####\n",
      "-2\n"
     ]
    }
   ],
   "source": [
    "s=input()\n",
    "a=0\n",
    "b=0\n",
    "for i in s:\n",
    "    if i=='*':\n",
    "        a+=1\n",
    "    elif i=='#':\n",
    "        b+=1\n",
    "print(a-b)"
   ]
  },
  {
   "cell_type": "code",
   "execution_count": null,
   "id": "befa384e",
   "metadata": {},
   "outputs": [],
   "source": []
  }
 ],
 "metadata": {
  "kernelspec": {
   "display_name": "Python 3 (ipykernel)",
   "language": "python",
   "name": "python3"
  },
  "language_info": {
   "codemirror_mode": {
    "name": "ipython",
    "version": 3
   },
   "file_extension": ".py",
   "mimetype": "text/x-python",
   "name": "python",
   "nbconvert_exporter": "python",
   "pygments_lexer": "ipython3",
   "version": "3.9.7"
  },
  "nbTranslate": {
   "displayLangs": [
    "*"
   ],
   "hotkey": "alt-t",
   "langInMainMenu": true,
   "sourceLang": "en",
   "targetLang": "fr",
   "useGoogleTranslate": true
  },
  "varInspector": {
   "cols": {
    "lenName": 16,
    "lenType": 16,
    "lenVar": 40
   },
   "kernels_config": {
    "python": {
     "delete_cmd_postfix": "",
     "delete_cmd_prefix": "del ",
     "library": "var_list.py",
     "varRefreshCmd": "print(var_dic_list())"
    },
    "r": {
     "delete_cmd_postfix": ") ",
     "delete_cmd_prefix": "rm(",
     "library": "var_list.r",
     "varRefreshCmd": "cat(var_dic_list()) "
    }
   },
   "types_to_exclude": [
    "module",
    "function",
    "builtin_function_or_method",
    "instance",
    "_Feature"
   ],
   "window_display": false
  }
 },
 "nbformat": 4,
 "nbformat_minor": 5
}
