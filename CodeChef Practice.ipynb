{
 "cells": [
  {
   "cell_type": "code",
   "execution_count": 39,
   "id": "ab4279cd",
   "metadata": {
    "ExecuteTime": {
     "end_time": "2022-03-01T14:10:45.911383Z",
     "start_time": "2022-03-01T14:10:45.890476Z"
    }
   },
   "outputs": [],
   "source": [
    "# ## Shopping Change\n",
    "# n= int(input())\n",
    "# l = []\n",
    "# for i in range(n):\n",
    "#     l.append(int(input()))\n",
    "# for i in l:\n",
    "#     print(100-i)"
   ]
  },
  {
   "cell_type": "code",
   "execution_count": null,
   "id": "ff590ded",
   "metadata": {},
   "outputs": [],
   "source": []
  },
  {
   "cell_type": "code",
   "execution_count": 40,
   "id": "cd597188",
   "metadata": {
    "ExecuteTime": {
     "end_time": "2022-03-01T14:10:46.175677Z",
     "start_time": "2022-03-01T14:10:46.157723Z"
    }
   },
   "outputs": [],
   "source": [
    "# ## Chef and NextGen\n",
    "# n = int(input())\n",
    "# l = []\n",
    "# for i in range(n):\n",
    "#     l.append(list(map(int,input().split())))\n",
    "# for i in range(len(l)):\n",
    "#     if l[i][0]*l[i][1] <= l[i][2]*l[i][3]:\n",
    "#         print(\"yes\")\n",
    "#     else:\n",
    "#         print('no')"
   ]
  },
  {
   "cell_type": "code",
   "execution_count": 41,
   "id": "3a53e6e8",
   "metadata": {
    "ExecuteTime": {
     "end_time": "2022-03-01T14:10:46.395089Z",
     "start_time": "2022-03-01T14:10:46.382124Z"
    }
   },
   "outputs": [],
   "source": [
    "# ## Count the Notebooks\n",
    "# n = int(input())\n",
    "# l = []\n",
    "# for i in range(n):\n",
    "#     l.append(int(input()))\n",
    "# for i in l:\n",
    "#     print((i*10))"
   ]
  },
  {
   "cell_type": "code",
   "execution_count": 42,
   "id": "b15368e3",
   "metadata": {
    "ExecuteTime": {
     "end_time": "2022-03-01T14:10:46.740585Z",
     "start_time": "2022-03-01T14:10:46.732578Z"
    }
   },
   "outputs": [],
   "source": [
    "# ## Car or Bike\n",
    "# n = int(input())\n",
    "# l = []\n",
    "# for i in range(n):\n",
    "#     l.append(list(map(int,input().split())))\n",
    "# for i in range(len(l)):\n",
    "#     if l[i][0] == l[i][1]:\n",
    "#         print(\"Same\")\n",
    "#     elif l[i].index(min(l[i])) == 0:\n",
    "#         print(\"Bike\")\n",
    "#     elif l[i].index(min(l[i])) == 1:\n",
    "#         print(\"Car\")"
   ]
  },
  {
   "cell_type": "code",
   "execution_count": 29,
   "id": "5d2909b6",
   "metadata": {
    "ExecuteTime": {
     "end_time": "2022-03-01T13:44:42.994533Z",
     "start_time": "2022-03-01T13:44:42.986586Z"
    }
   },
   "outputs": [],
   "source": [
    "a = l[1].index(min(l[1]))"
   ]
  },
  {
   "cell_type": "code",
   "execution_count": 31,
   "id": "aefad1f5",
   "metadata": {
    "ExecuteTime": {
     "end_time": "2022-03-01T13:44:52.503468Z",
     "start_time": "2022-03-01T13:44:52.496512Z"
    }
   },
   "outputs": [
    {
     "data": {
      "text/plain": [
       "int"
      ]
     },
     "execution_count": 31,
     "metadata": {},
     "output_type": "execute_result"
    }
   ],
   "source": [
    "type(a)"
   ]
  },
  {
   "cell_type": "code",
   "execution_count": null,
   "id": "b811b572",
   "metadata": {},
   "outputs": [],
   "source": []
  },
  {
   "cell_type": "code",
   "execution_count": 43,
   "id": "ae0289b5",
   "metadata": {
    "ExecuteTime": {
     "end_time": "2022-03-01T14:10:47.164722Z",
     "start_time": "2022-03-01T14:10:47.147734Z"
    }
   },
   "outputs": [],
   "source": [
    "# ## Valentine is coming\n",
    "# n = int(input())\n",
    "# l = []\n",
    "# for i in range(n):\n",
    "#     l.append(list(map(int,input().split())))\n",
    "# for i in range(len(l)):\n",
    "#     if l[i][0] < l[i][1]:\n",
    "#         print(0)\n",
    "#     else:\n",
    "#         print(int(l[i][0]/l[i][1]))"
   ]
  },
  {
   "cell_type": "code",
   "execution_count": 44,
   "id": "44425c77",
   "metadata": {
    "ExecuteTime": {
     "end_time": "2022-03-01T14:10:47.825556Z",
     "start_time": "2022-03-01T14:10:47.808642Z"
    }
   },
   "outputs": [],
   "source": [
    "# ## Black Jack\n",
    "# n = int(input())\n",
    "# l = []\n",
    "# for i in range(n):\n",
    "#     l.append(list(map(int,input().split())))\n",
    "# for i in range(len(l)):\n",
    "#     if 21-(l[i][0]+l[i][1])>= 0 and 21-(l[i][0]+l[i][1]) <= 10:\n",
    "#         print(21-(l[i][0]+l[i][1]))\n",
    "#     else :\n",
    "#         print(-1)"
   ]
  },
  {
   "cell_type": "code",
   "execution_count": null,
   "id": "7388fbab",
   "metadata": {},
   "outputs": [],
   "source": [
    "3\n",
    "5 2 3\n",
    "5 2 4\n",
    "4 0 0"
   ]
  },
  {
   "cell_type": "code",
   "execution_count": 49,
   "id": "d89f646d",
   "metadata": {
    "ExecuteTime": {
     "end_time": "2022-03-01T14:17:03.908037Z",
     "start_time": "2022-03-01T14:17:03.886095Z"
    }
   },
   "outputs": [],
   "source": [
    "# ## Pass or Fail\n",
    "# n = int(input())\n",
    "# l = []\n",
    "# for i in range(n):\n",
    "#     l.append(list(map(int,input().split())))\n",
    "# for i in range(len(l)):\n",
    "#     if ((l[i][1]*3) - ((l[i][0]-l[i][1]) * 1)) >= l[i][2]:\n",
    "#         print(\"Pass\")\n",
    "#     else:\n",
    "#         print(\"Fail\")"
   ]
  },
  {
   "cell_type": "code",
   "execution_count": null,
   "id": "37d37cd1",
   "metadata": {},
   "outputs": [],
   "source": [
    "3\n",
    "10 20 30 300\n",
    "10 20 170 160\n",
    "179 1 179 1"
   ]
  },
  {
   "cell_type": "code",
   "execution_count": 51,
   "id": "9cf8ce57",
   "metadata": {
    "ExecuteTime": {
     "end_time": "2022-03-01T14:21:34.263373Z",
     "start_time": "2022-03-01T14:21:34.252434Z"
    }
   },
   "outputs": [],
   "source": [
    "# ##Cyclic Quadrilateral\n",
    "# n = int(input())\n",
    "# l = []\n",
    "# for i in range(n):\n",
    "#     l.append(list(map(int,input().split())))\n",
    "# for i in range(len(l)):\n",
    "#     if (l[i][0] + l[i][2]) and (l[i][1] + l[i][3]) ==180:\n",
    "#         print(\"Yes\")\n",
    "#     else:\n",
    "#         print(\"No\")"
   ]
  },
  {
   "cell_type": "code",
   "execution_count": null,
   "id": "63f53824",
   "metadata": {},
   "outputs": [],
   "source": [
    "3\n",
    "20\n",
    "24\n",
    "99"
   ]
  },
  {
   "cell_type": "code",
   "execution_count": 73,
   "id": "0e6a1cfb",
   "metadata": {
    "ExecuteTime": {
     "end_time": "2022-03-01T14:32:48.462114Z",
     "start_time": "2022-03-01T14:32:48.455161Z"
    }
   },
   "outputs": [],
   "source": [
    "# ## too many items\n",
    "# n = int(input())\n",
    "# l = []\n",
    "# for i in range(n):\n",
    "#     l.append(int(input()))\n",
    "# for i in range(len(l)):\n",
    "#     if l[i]%10 != 0:\n",
    "#         print(int(l[i]//10 + 1))\n",
    "#     else:\n",
    "#         print(int(l[i]/10))"
   ]
  },
  {
   "cell_type": "code",
   "execution_count": 69,
   "id": "393b8627",
   "metadata": {
    "ExecuteTime": {
     "end_time": "2022-03-01T14:30:52.228181Z",
     "start_time": "2022-03-01T14:30:52.214216Z"
    }
   },
   "outputs": [
    {
     "data": {
      "text/plain": [
       "0"
      ]
     },
     "execution_count": 69,
     "metadata": {},
     "output_type": "execute_result"
    }
   ],
   "source": [
    "20%10"
   ]
  },
  {
   "cell_type": "code",
   "execution_count": 67,
   "id": "e12c410d",
   "metadata": {
    "ExecuteTime": {
     "end_time": "2022-03-01T14:30:27.164932Z",
     "start_time": "2022-03-01T14:30:27.157952Z"
    }
   },
   "outputs": [
    {
     "name": "stdout",
     "output_type": "stream",
     "text": [
      "3\n"
     ]
    }
   ],
   "source": [
    "a = 24\n",
    "b = 10\n"
   ]
  },
  {
   "cell_type": "code",
   "execution_count": null,
   "id": "961805f8",
   "metadata": {},
   "outputs": [],
   "source": []
  },
  {
   "cell_type": "code",
   "execution_count": 92,
   "id": "a52fee8f",
   "metadata": {
    "ExecuteTime": {
     "end_time": "2022-03-01T14:55:16.684814Z",
     "start_time": "2022-03-01T14:55:16.672826Z"
    }
   },
   "outputs": [],
   "source": [
    "# ## Black Cells in Chessboard\n",
    "# n = int(input())\n",
    "# print(int(n * (n/2)))"
   ]
  },
  {
   "cell_type": "code",
   "execution_count": 93,
   "id": "58af788b",
   "metadata": {
    "ExecuteTime": {
     "end_time": "2022-03-01T14:55:16.827583Z",
     "start_time": "2022-03-01T14:55:16.720683Z"
    }
   },
   "outputs": [],
   "source": [
    "# ## Possible Victory\n",
    "# n = list(map(int,input().split()))\n",
    "# if n[0] < ((20 - n[1])*36) + n[2]:\n",
    "#     print(\"Yes\")\n",
    "# else:\n",
    "#     print(\"No\")"
   ]
  },
  {
   "cell_type": "code",
   "execution_count": 116,
   "id": "b45f9872",
   "metadata": {
    "ExecuteTime": {
     "end_time": "2022-03-01T15:14:47.668481Z",
     "start_time": "2022-03-01T15:14:47.662497Z"
    }
   },
   "outputs": [],
   "source": [
    "## Lucky Four\n",
    "# #include <iostream>\n",
    "# using namespace std;\n",
    "\n",
    "# int main() {\n",
    "# \t// your code goes here\n",
    "# \tint t;\n",
    "# \tcin >> t;\n",
    "# \twhile(t--){\n",
    "# \t    int i;\n",
    "# \t    cin >> i;\n",
    "# \t    int count=0;\n",
    "# \t    for(int j=i;j>0;){\n",
    "# \t        if(j%10==4){\n",
    "# \t            count=count+1;\n",
    "# \t        }\n",
    "# \t        j=j/10;\n",
    "# \t    }\n",
    "# \t    cout << count<< endl;\n",
    "# \t}\n",
    "# \treturn 0;\n",
    "# }"
   ]
  },
  {
   "cell_type": "code",
   "execution_count": 126,
   "id": "ad0c1328",
   "metadata": {
    "ExecuteTime": {
     "end_time": "2022-03-01T15:24:02.482437Z",
     "start_time": "2022-03-01T15:24:02.477448Z"
    }
   },
   "outputs": [],
   "source": [
    "# ## Lucky Four\n",
    "# try:\n",
    "#     t = int(input())\n",
    "#     while(t>0):\n",
    "#         b = 0\n",
    "#         n = int(input())\n",
    "#         while(n>0):\n",
    "#             a=n%10\n",
    "#             if a==4:\n",
    "#                 b = b+1\n",
    "#             n=n//10\n",
    "#         print(b)\n",
    "#         t = t-1\n",
    "        \n",
    "# except EOFError:\n",
    "#     pass\n"
   ]
  },
  {
   "cell_type": "code",
   "execution_count": 124,
   "id": "b2c6f1cb",
   "metadata": {
    "ExecuteTime": {
     "end_time": "2022-03-01T15:22:05.247243Z",
     "start_time": "2022-03-01T15:22:05.239263Z"
    }
   },
   "outputs": [
    {
     "data": {
      "text/plain": [
       "22"
      ]
     },
     "execution_count": 124,
     "metadata": {},
     "output_type": "execute_result"
    }
   ],
   "source": [
    "228//10"
   ]
  },
  {
   "cell_type": "code",
   "execution_count": 127,
   "id": "207fb5de",
   "metadata": {
    "ExecuteTime": {
     "end_time": "2022-03-01T15:59:40.645480Z",
     "start_time": "2022-03-01T15:59:40.637503Z"
    }
   },
   "outputs": [],
   "source": [
    "# ## Lucky Four\n",
    "# n = int(input())\n",
    "# l = []\n",
    "# for i in range(n):\n",
    "#     l.append(input())\n",
    "# for i in range(len(l)):\n",
    "#     k = 0\n",
    "#     if '4' in l[i]:\n",
    "#         for i in l[i]:\n",
    "#             if i == '4':\n",
    "#                 k+=1\n",
    "#         print(k)\n",
    "#     else:\n",
    "#         print(k)"
   ]
  },
  {
   "cell_type": "code",
   "execution_count": 135,
   "id": "160cdb7d",
   "metadata": {
    "ExecuteTime": {
     "end_time": "2022-03-01T16:06:59.195899Z",
     "start_time": "2022-03-01T16:06:59.188948Z"
    }
   },
   "outputs": [],
   "source": [
    "# ## Lowest Free\n",
    "# n = int(input())\n",
    "# l = []\n",
    "# for i in range(n):\n",
    "#     l.append(list(map(int,input().split())))\n",
    "# for i in range(len(l)):\n",
    "#     print(sum(l[i]) - min(l[i]))"
   ]
  },
  {
   "cell_type": "code",
   "execution_count": 224,
   "id": "6997b0b8",
   "metadata": {
    "ExecuteTime": {
     "end_time": "2022-03-01T17:08:00.099036Z",
     "start_time": "2022-03-01T17:08:00.079087Z"
    }
   },
   "outputs": [],
   "source": [
    "# c = []\n",
    "# k = 0\n",
    "# for i in l:\n",
    "#     for j in i: \n",
    "#         if j == '4':\n",
    "#             k+=1\n",
    "# c.append(k)\n",
    "# c"
   ]
  },
  {
   "cell_type": "code",
   "execution_count": 141,
   "id": "232f0ecc",
   "metadata": {
    "ExecuteTime": {
     "end_time": "2022-03-01T16:18:43.777176Z",
     "start_time": "2022-03-01T16:18:43.771223Z"
    }
   },
   "outputs": [],
   "source": [
    "# ## Lazy Chef\n",
    "# n = int(input())\n",
    "# l = []\n",
    "# for i in range(n):\n",
    "#     l.append(list(map(int,input().split())))\n",
    "# for i in range(len(l)):\n",
    "#     print( min( (l[i][0]*l[i][1]), (l[i][0] + l[i][2]) ) )"
   ]
  },
  {
   "cell_type": "code",
   "execution_count": 225,
   "id": "0dcdab3a",
   "metadata": {
    "ExecuteTime": {
     "end_time": "2022-03-01T17:08:08.883959Z",
     "start_time": "2022-03-01T17:08:08.871000Z"
    }
   },
   "outputs": [],
   "source": [
    "# for i in range(len(l)):\n",
    "#     for j in l[i]:\n",
    "#         print(l[i])"
   ]
  },
  {
   "cell_type": "code",
   "execution_count": 226,
   "id": "2284492f",
   "metadata": {
    "ExecuteTime": {
     "end_time": "2022-03-01T17:08:12.214224Z",
     "start_time": "2022-03-01T17:08:12.197265Z"
    }
   },
   "outputs": [],
   "source": [
    "# a = '44744474'\n",
    "# k = 0\n",
    "# for i in a:\n",
    "#     for j in i:\n",
    "#         if j=='4':\n",
    "#             k+=1\n",
    "# print(k)"
   ]
  },
  {
   "cell_type": "code",
   "execution_count": 227,
   "id": "674591cd",
   "metadata": {
    "ExecuteTime": {
     "end_time": "2022-03-01T17:08:24.450335Z",
     "start_time": "2022-03-01T17:08:24.433409Z"
    }
   },
   "outputs": [],
   "source": [
    "# for i in range(len(l)):\n",
    "#     print( (l[i][0]*l[i][1]), (l[i][1] + l[i][2]) ) "
   ]
  },
  {
   "cell_type": "code",
   "execution_count": 397,
   "id": "f742dedd",
   "metadata": {
    "ExecuteTime": {
     "end_time": "2022-03-01T18:34:57.757646Z",
     "start_time": "2022-03-01T18:34:57.741686Z"
    }
   },
   "outputs": [],
   "source": [
    "# ## ATM Machine\n",
    "# n = int(input())\n",
    "# l = []\n",
    "# for i in range(n*2):\n",
    "#     l.append(list(map(int,input().split())))\n",
    "# for (i,j) in zip(range(0,len(l),2),range(1,len(l),2)):\n",
    "#     a = []\n",
    "#     for k in range(len(l[j])):\n",
    "#         if l[i][1]-l[j][k] > 0:\n",
    "#             l[i][1] = l[i][1]-l[j][k]\n",
    "#             a.append(1)\n",
    "#         elif l[i][1]-l[j][k] < 0:\n",
    "#             a.append(0)\n",
    "#             continue\n",
    "#         elif l[i][1]-l[j][k] == 0:\n",
    "#             l[i][1] = 0\n",
    "#             a.append(1)\n",
    "#     print(''.join([str(i) for i in a]))"
   ]
  },
  {
   "cell_type": "code",
   "execution_count": 392,
   "id": "b83970dc",
   "metadata": {
    "ExecuteTime": {
     "end_time": "2022-03-01T18:20:57.372535Z",
     "start_time": "2022-03-01T18:20:57.355581Z"
    }
   },
   "outputs": [],
   "source": [
    "# a = []\n",
    "# for i in range(len(l[1])):\n",
    "#     if l[0][1]-l[1][i] > 0:\n",
    "#         l[0][1] = l[0][1]-l[1][i]\n",
    "#         a.append(1)\n",
    "#     elif l[0][1]-l[1][i] < 0:\n",
    "#         a.append(0)\n",
    "#         continue\n",
    "#     elif l[0][1]-l[1][i] == 0:\n",
    "#         l[0][1] = 0\n",
    "#         a.append(1)\n",
    "# print(''.join([str(i) for i in a]))"
   ]
  },
  {
   "cell_type": "code",
   "execution_count": 391,
   "id": "0f860235",
   "metadata": {
    "ExecuteTime": {
     "end_time": "2022-03-01T18:20:53.730153Z",
     "start_time": "2022-03-01T18:20:53.720182Z"
    }
   },
   "outputs": [],
   "source": [
    "# a = []\n",
    "# for i in range(len(l[3])):\n",
    "#     if l[2][1]-l[3][i] > 0:\n",
    "#         l[2][1] = l[2][1]-l[3][i]\n",
    "#         a.append(1)\n",
    "#     elif l[2][1]-l[3][i] < 0:\n",
    "#         a.append(0)\n",
    "#         continue\n",
    "#     elif l[2][1]-l[3][i] == 0:\n",
    "#         l[2][1] = 0\n",
    "#         a.append(1)\n",
    "# print(''.join([str(i) for i in a]))"
   ]
  },
  {
   "cell_type": "code",
   "execution_count": 390,
   "id": "f3af259b",
   "metadata": {
    "ExecuteTime": {
     "end_time": "2022-03-01T18:20:44.781451Z",
     "start_time": "2022-03-01T18:20:44.774469Z"
    }
   },
   "outputs": [],
   "source": [
    "# for (i,j) in zip(range(0,len(l),2),range(1,len(l),2)):\n",
    "#     a = []\n",
    "#     for k in range(len(l[j])):\n",
    "#         if l[i][1]-l[j][k] > 0:\n",
    "#             l[i][1] = l[i][1]-l[j][k]\n",
    "#             a.append(1)\n",
    "#         elif l[i][1]-l[j][k] < 0:\n",
    "#             a.append(0)\n",
    "#             continue\n",
    "#         elif l[i][1]-l[j][k] == 0:\n",
    "#             l[i][1] = 0\n",
    "#             a.append(1)\n",
    "#     print(''.join([str(i) for i in a]))"
   ]
  },
  {
   "cell_type": "code",
   "execution_count": null,
   "id": "b43a1b9a",
   "metadata": {},
   "outputs": [],
   "source": [
    "gaga\n",
    "abcde\n",
    "rotor\n",
    "xyzxy\n",
    "abbaab\n",
    "ababc"
   ]
  },
  {
   "cell_type": "code",
   "execution_count": 114,
   "id": "83367931",
   "metadata": {
    "ExecuteTime": {
     "end_time": "2022-03-13T08:29:01.522994Z",
     "start_time": "2022-03-13T08:28:32.728031Z"
    },
    "scrolled": true
   },
   "outputs": [
    {
     "name": "stdout",
     "output_type": "stream",
     "text": [
      "6\n",
      "gaga\n",
      "abcde\n",
      "rotor\n",
      "xyzxy\n",
      "abbaab\n",
      "ababc\n",
      "Yes\n",
      "No\n",
      "Yes\n",
      "Yes\n",
      "No\n",
      "No\n"
     ]
    }
   ],
   "source": [
    "## Lapindrome\n",
    "n = int(input())\n",
    "l = []\n",
    "for i in range(n):\n",
    "    l.append(input())\n",
    "for i in range(len(l)):\n",
    "    if len(l[i]) % 2 !=0:\n",
    "        l[i] = l[i][:len(l[i])//2] + l[i][len(l[i])//2+1:]\n",
    "    else:\n",
    "        continue\n",
    "for i in range(len(l)):\n",
    "    if sorted(l[i][0:len(l[i])//2]) == sorted(l[i][len(l[i])//2:]):\n",
    "        print(\"Yes\")\n",
    "    else:\n",
    "        print(\"No\")"
   ]
  },
  {
   "cell_type": "code",
   "execution_count": null,
   "id": "750b61cb",
   "metadata": {},
   "outputs": [],
   "source": []
  }
 ],
 "metadata": {
  "kernelspec": {
   "display_name": "Python 3 (ipykernel)",
   "language": "python",
   "name": "python3"
  },
  "language_info": {
   "codemirror_mode": {
    "name": "ipython",
    "version": 3
   },
   "file_extension": ".py",
   "mimetype": "text/x-python",
   "name": "python",
   "nbconvert_exporter": "python",
   "pygments_lexer": "ipython3",
   "version": "3.9.7"
  },
  "nbTranslate": {
   "displayLangs": [
    "*"
   ],
   "hotkey": "alt-t",
   "langInMainMenu": true,
   "sourceLang": "en",
   "targetLang": "fr",
   "useGoogleTranslate": true
  },
  "varInspector": {
   "cols": {
    "lenName": 16,
    "lenType": 16,
    "lenVar": 40
   },
   "kernels_config": {
    "python": {
     "delete_cmd_postfix": "",
     "delete_cmd_prefix": "del ",
     "library": "var_list.py",
     "varRefreshCmd": "print(var_dic_list())"
    },
    "r": {
     "delete_cmd_postfix": ") ",
     "delete_cmd_prefix": "rm(",
     "library": "var_list.r",
     "varRefreshCmd": "cat(var_dic_list()) "
    }
   },
   "types_to_exclude": [
    "module",
    "function",
    "builtin_function_or_method",
    "instance",
    "_Feature"
   ],
   "window_display": false
  }
 },
 "nbformat": 4,
 "nbformat_minor": 5
}
