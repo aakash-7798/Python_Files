{
 "cells": [
  {
   "cell_type": "code",
   "execution_count": 20,
   "id": "7672cb61",
   "metadata": {
    "ExecuteTime": {
     "end_time": "2022-02-25T14:37:00.339629Z",
     "start_time": "2022-02-25T14:37:00.329654Z"
    }
   },
   "outputs": [],
   "source": [
    "## https://github.com/mlco2/codecarbon/issues/112\n",
    "# !pip3 install manim==0.14.0\n",
    "# !pip install manimgl\n",
    "# !pip install IPython --upgrade"
   ]
  },
  {
   "cell_type": "code",
   "execution_count": 21,
   "id": "84258cb2",
   "metadata": {
    "ExecuteTime": {
     "end_time": "2022-02-25T14:37:00.481249Z",
     "start_time": "2022-02-25T14:37:00.342621Z"
    }
   },
   "outputs": [],
   "source": [
    "# %%html\n",
    "# <style>\n",
    "# #notebook-container {\n",
    "#     width: 90%;\n",
    "#     background-color: #EEE\n",
    "# }\n",
    "\n",
    "# .code_cell {\n",
    "#    flex-direction: row !important;\n",
    "# }\n",
    "\n",
    "# .code_cell .output_wrapper {\n",
    "#     width: 50%;\n",
    "#     background-color: #FFF\n",
    "# }\n",
    "\n",
    "# .code_cell .input {\n",
    "#     width: 50%;\n",
    "#     background-color: #FFF\n",
    "# }\n",
    "# </style>"
   ]
  },
  {
   "cell_type": "code",
   "execution_count": 22,
   "id": "ed657667",
   "metadata": {
    "ExecuteTime": {
     "end_time": "2022-02-25T14:37:00.623905Z",
     "start_time": "2022-02-25T14:37:00.484241Z"
    }
   },
   "outputs": [],
   "source": [
    "# from IPython.core.display import display, HTML\n",
    "# display(HTML(\"\"\"\n",
    "# <style>\n",
    "# #notebook-container {\n",
    "#     width: 100%\n",
    "\n",
    "# .code_cell {\n",
    "#    flex-direction: row !important;\n",
    "\n",
    "# .code_cell .input {\n",
    "#     width: 50%\n",
    "\n",
    "# .code_cell .output_wrapper {\n",
    "#     width: 50%\n",
    "# }\n",
    "# </style>\n",
    "# \"\"\"))\n"
   ]
  },
  {
   "cell_type": "code",
   "execution_count": 31,
   "id": "46603d78",
   "metadata": {
    "ExecuteTime": {
     "end_time": "2022-02-25T14:39:46.409055Z",
     "start_time": "2022-02-25T14:39:46.395065Z"
    }
   },
   "outputs": [],
   "source": [
    "# %%html\n",
    "# <style>\n",
    "# notebook-container {\n",
    "#     width: 100%\n",
    "# }\n",
    "\n",
    "# .code_cell {\n",
    "#    flex-direction: row !important;\n",
    "# }\n",
    "\n",
    "# .code_cell .input {\n",
    "#     width: 50%\n",
    "# }\n",
    "\n",
    "# .code_cell .output_wrapper {\n",
    "#     width: 50%\n",
    "# }\n",
    "# </style>"
   ]
  },
  {
   "cell_type": "code",
   "execution_count": 23,
   "id": "52f4b29e",
   "metadata": {
    "ExecuteTime": {
     "end_time": "2022-02-25T14:37:00.750532Z",
     "start_time": "2022-02-25T14:37:00.627859Z"
    },
    "tags": []
   },
   "outputs": [],
   "source": [
    "from manim import *\n",
    "config.media_width = \"100%\"\n",
    "# from IPython.core.interactiveshell import InteractiveShell\n",
    "# InteractiveShell.ast_node_interactivity = \"all\""
   ]
  },
  {
   "cell_type": "code",
   "execution_count": 24,
   "id": "c42b31e7",
   "metadata": {
    "ExecuteTime": {
     "end_time": "2022-02-25T14:37:01.217235Z",
     "start_time": "2022-02-25T14:37:00.753520Z"
    },
    "collapsed": true,
    "tags": []
   },
   "outputs": [
    {
     "name": "stderr",
     "output_type": "stream",
     "text": [
      "                                                                                                                       \r"
     ]
    },
    {
     "data": {
      "text/html": [
       "<video src=\"media\\jupyter\\CreateCircle@2022-02-25@20-07-01.mp4\" controls autoplay loop style=\"max-width: 100%;\"  >\n",
       "      Your browser does not support the <code>video</code> element.\n",
       "    </video>"
      ],
      "text/plain": [
       "<IPython.core.display.Video object>"
      ]
     },
     "metadata": {},
     "output_type": "display_data"
    }
   ],
   "source": [
    "%%manim -v WARNING -qh CreateCircle\n",
    "class CreateCircle(Scene):\n",
    "    def construct(self):\n",
    "        circle = Circle(color=BLUE,fill_opacity =0.5)\n",
    "        self.play(Create(circle))\n",
    "        self.wait()"
   ]
  },
  {
   "cell_type": "code",
   "execution_count": 25,
   "id": "192340cb",
   "metadata": {
    "ExecuteTime": {
     "end_time": "2022-02-25T14:37:01.796685Z",
     "start_time": "2022-02-25T14:37:01.222222Z"
    },
    "collapsed": true,
    "jupyter": {
     "source_hidden": true
    },
    "tags": []
   },
   "outputs": [
    {
     "name": "stderr",
     "output_type": "stream",
     "text": [
      "                                                                                                                       \r"
     ]
    },
    {
     "data": {
      "text/html": [
       "<video src=\"media\\jupyter\\CircletoSquare@2022-02-25@20-07-01.mp4\" controls autoplay loop style=\"max-width: 100%;\"  >\n",
       "      Your browser does not support the <code>video</code> element.\n",
       "    </video>"
      ],
      "text/plain": [
       "<IPython.core.display.Video object>"
      ]
     },
     "metadata": {},
     "output_type": "display_data"
    }
   ],
   "source": [
    "%%manim -v WARNING -qh CircletoSquare\n",
    "class CircletoSquare(Scene):\n",
    "    def construct(self):\n",
    "        circle = Circle(color=GREEN,fill_opacity = 1.0)\n",
    "        square = Square(color=RED,fill_opacity = 1.0)\n",
    "        self.play(Create(circle))\n",
    "        self.wait()\n",
    "        self.play(Transform(circle,square))\n",
    "        self.wait()"
   ]
  },
  {
   "cell_type": "code",
   "execution_count": 37,
   "id": "e234228a",
   "metadata": {
    "ExecuteTime": {
     "end_time": "2022-02-25T14:52:52.329686Z",
     "start_time": "2022-02-25T14:52:50.186426Z"
    }
   },
   "outputs": [
    {
     "name": "stderr",
     "output_type": "stream",
     "text": [
      "                                                                                                                       \r"
     ]
    },
    {
     "data": {
      "text/html": [
       "<video src=\"media\\jupyter\\Layers@2022-02-25@20-22-52.mp4\" controls autoplay loop style=\"max-width: 100%;\"  >\n",
       "      Your browser does not support the <code>video</code> element.\n",
       "    </video>"
      ],
      "text/plain": [
       "<IPython.core.display.Video object>"
      ]
     },
     "metadata": {},
     "output_type": "display_data"
    }
   ],
   "source": [
    "%%manim -v WARNING -qh Layers\n",
    "class Layers(Scene):\n",
    "    def construct(self):\n",
    "        circle = Circle(color=WHITE,fill_opacity = 0)\n",
    "        self.play(Create(circle))\n",
    "        self.wait()"
   ]
  },
  {
   "cell_type": "code",
   "execution_count": null,
   "id": "5dda16df",
   "metadata": {},
   "outputs": [],
   "source": []
  },
  {
   "cell_type": "code",
   "execution_count": null,
   "id": "7d2be623",
   "metadata": {},
   "outputs": [],
   "source": []
  }
 ],
 "metadata": {
  "kernelspec": {
   "display_name": "Python 3 (ipykernel)",
   "language": "python",
   "name": "python3"
  },
  "language_info": {
   "codemirror_mode": {
    "name": "ipython",
    "version": 3
   },
   "file_extension": ".py",
   "mimetype": "text/x-python",
   "name": "python",
   "nbconvert_exporter": "python",
   "pygments_lexer": "ipython3",
   "version": "3.9.7"
  },
  "nbTranslate": {
   "displayLangs": [
    "*"
   ],
   "hotkey": "alt-t",
   "langInMainMenu": true,
   "sourceLang": "en",
   "targetLang": "fr",
   "useGoogleTranslate": true
  },
  "varInspector": {
   "cols": {
    "lenName": 16,
    "lenType": 16,
    "lenVar": 40
   },
   "kernels_config": {
    "python": {
     "delete_cmd_postfix": "",
     "delete_cmd_prefix": "del ",
     "library": "var_list.py",
     "varRefreshCmd": "print(var_dic_list())"
    },
    "r": {
     "delete_cmd_postfix": ") ",
     "delete_cmd_prefix": "rm(",
     "library": "var_list.r",
     "varRefreshCmd": "cat(var_dic_list()) "
    }
   },
   "types_to_exclude": [
    "module",
    "function",
    "builtin_function_or_method",
    "instance",
    "_Feature"
   ],
   "window_display": false
  }
 },
 "nbformat": 4,
 "nbformat_minor": 5
}
