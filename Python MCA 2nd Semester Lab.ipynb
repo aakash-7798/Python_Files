{
 "cells": [
  {
   "cell_type": "code",
   "execution_count": 29,
   "id": "6ce8d0bd",
   "metadata": {
    "ExecuteTime": {
     "end_time": "2022-06-06T11:42:16.514992Z",
     "start_time": "2022-06-06T11:41:17.964949Z"
    }
   },
   "outputs": [
    {
     "name": "stdout",
     "output_type": "stream",
     "text": [
      "Enter how many records you want to read : 5\n",
      "Enter Name and Age for Person 1 : Aakash 97\n",
      "Enter Name and Age for Person 2 : Akshay 101\n",
      "Enter Name and Age for Person 3 : Srinivas 54\n",
      "Enter Name and Age for Person 4 : Madhavi 48\n",
      "Enter Name and Age for Person 5 : Radha 28\n"
     ]
    },
    {
     "data": {
      "text/plain": [
       "[['Radha', 28],\n",
       " ['Madhavi', 48],\n",
       " ['Srinivas', 54],\n",
       " ['Aakash', 97],\n",
       " ['Akshay', 101]]"
      ]
     },
     "execution_count": 29,
     "metadata": {},
     "output_type": "execute_result"
    }
   ],
   "source": [
    "# 1.Write a Python program that reads a list of names and ages, then prints the list sorted by age.\n",
    "\n",
    "from operator import itemgetter\n",
    "\n",
    "li = []\n",
    "for i in range(int(input(\"Enter how many records you want to read : \"))):\n",
    "    li.append(list(map(str,input(f\"Enter Name and Age for Person {i+1} : \").split())))\n",
    "    li[i][1] = int(li[i][1])\n",
    "sorted(li,key=itemgetter(1))"
   ]
  },
  {
   "cell_type": "code",
   "execution_count": 186,
   "id": "6e9d7904",
   "metadata": {
    "ExecuteTime": {
     "end_time": "2022-06-06T13:55:21.538650Z",
     "start_time": "2022-06-06T13:55:19.958822Z"
    }
   },
   "outputs": [
    {
     "name": "stdout",
     "output_type": "stream",
     "text": [
      "Enter File Name : fil\n",
      "No Such File Name !!....\n",
      "No Such File Name !!....\n",
      "No Such File Name !!....\n",
      "No Such File Name !!....\n",
      "No Such File Name !!....\n",
      "No Such File Name !!....\n",
      "No Such File Name !!....\n",
      "No Such File Name !!....\n",
      "No Such File Name !!....\n",
      "No Such File Name !!....\n",
      "No Such File Name !!....\n",
      "No Such File Name !!....\n",
      "No Such File Name !!....\n",
      "No Such File Name !!....\n",
      "No Such File Name !!....\n",
      "No Such File Name !!....\n",
      "No Such File Name !!....\n",
      "No Such File Name !!....\n",
      "No Such File Name !!....\n",
      "No Such File Name !!....\n",
      "No Such File Name !!....\n",
      "No Such File Name !!....\n",
      "No Such File Name !!....\n",
      "No Such File Name !!....\n",
      "No Such File Name !!....\n",
      "No Such File Name !!....\n",
      "No Such File Name !!....\n",
      "No Such File Name !!....\n",
      "No Such File Name !!....\n",
      "No Such File Name !!....\n",
      "No Such File Name !!....\n",
      "No Such File Name !!....\n",
      "No Such File Name !!....\n",
      "No Such File Name !!....\n",
      "No Such File Name !!....\n",
      "No Such File Name !!....\n",
      "No Such File Name !!....\n",
      "No Such File Name !!....\n",
      "No Such File Name !!....\n",
      "No Such File Name !!....\n",
      "No Such File Name !!....\n",
      "No Such File Name !!....\n",
      "No Such File Name !!....\n",
      "No Such File Name !!....\n",
      "No Such File Name !!....\n",
      "No Such File Name !!....\n",
      "No Such File Name !!....\n",
      "No Such File Name !!....\n",
      "No Such File Name !!....\n",
      "No Such File Name !!....\n",
      "No Such File Name !!....\n",
      "No Such File Name !!....\n",
      "No Such File Name !!....\n",
      "No Such File Name !!....\n",
      "No Such File Name !!....\n",
      "No Such File Name !!....\n",
      "No Such File Name !!....\n",
      "No Such File Name !!....\n",
      "No Such File Name !!....\n",
      "No Such File Name !!....\n",
      "No Such File Name !!....\n",
      "No Such File Name !!....\n",
      "No Such File Name !!....\n",
      "No Such File Name !!....\n",
      "No Such File Name !!....\n",
      "No Such File Name !!....\n",
      "No Such File Name !!....\n",
      "No Such File Name !!....\n",
      "No Such File Name !!....\n",
      "No Such File Name !!....\n",
      "No Such File Name !!....\n"
     ]
    }
   ],
   "source": [
    "# 2. Write a Python program that will prompt the user for a file name, read all the lines\n",
    "# from the file into a list, sort the list, and then print the lines in sorted order.\n",
    "\n",
    "from fnmatch import fnmatch\n",
    "import os\n",
    "\n",
    "fl_name = input(\"Enter File Name : \")\n",
    "\n",
    "for i in os.listdir('.'):\n",
    "    if fnmatch(i,'*.txt'):\n",
    "        if fl_name in i:\n",
    "            with open(i,encoding='utf8') as f:\n",
    "                f_contents =f.read().split() \n",
    "                print(\"Sorted List : \",sorted(f_contents))"
   ]
  },
  {
   "cell_type": "code",
   "execution_count": 187,
   "id": "ba1aae31",
   "metadata": {
    "ExecuteTime": {
     "end_time": "2022-06-06T13:56:05.663258Z",
     "start_time": "2022-06-06T13:56:02.673663Z"
    }
   },
   "outputs": [
    {
     "name": "stdout",
     "output_type": "stream",
     "text": [
      "Enter File Name : File\n",
      "['MCA', 'First', 'Year', '21031F0005', 'Hi', 'Iam', 'Aakash', 'Nadupalli', 'I', 'am', 'Pursuing', 'MCA', 'FirstYear', 'Now', 'I', 'have', 'completed', '1st', 'Semester', 'Thank', 'you', 'Nory', 'was', 'a', 'Catholic', 'because', 'her', 'mother', 'was', 'a', 'Catholic', 'and', 'Norys', 'mother', 'was', 'a', 'Catholic', 'because', 'her', 'father', 'was', 'a', 'Catholic', 'and', 'her', 'father', 'was', 'a', 'Catholic', 'because', 'his', 'mother', 'was', 'a', 'Catholic', 'or', 'had', 'been']\n",
      " Number of Lines :  13\n",
      " Number of Words :  58\n",
      " Number of Characters :  260\n"
     ]
    }
   ],
   "source": [
    "# 3. Write a Python program that asks the user for a file name, and then prints the number\n",
    "# of characters, words, and lines in the file.\n",
    "\n",
    "from fnmatch import fnmatch\n",
    "import os\n",
    "import re\n",
    "\n",
    "fl_name = input(\"Enter File Name : \")\n",
    "\n",
    "for i in os.listdir('.'):\n",
    "    if fnmatch(i,'*.txt'):\n",
    "        if fl_name in i:\n",
    "            with open(i,encoding='utf8') as f:\n",
    "                f_contents = re.split(\"[, \\n.\\-!?:]+\", open(i,encoding='utf8').read())\n",
    "                print(f_contents)\n",
    "                print(\" Number of Lines : \",len(open(i,encoding='utf8').read().splitlines()))\n",
    "                print(\" Number of Words : \",len(f_contents))\n",
    "                ct = 0\n",
    "                for fc in open(i,encoding='utf8').read().split():\n",
    "                    ct+=len(fc)\n",
    "                print(\" Number of Characters : \",ct)"
   ]
  },
  {
   "cell_type": "code",
   "execution_count": 194,
   "id": "480ea27f",
   "metadata": {
    "ExecuteTime": {
     "end_time": "2022-06-06T14:01:37.967423Z",
     "start_time": "2022-06-06T14:01:34.438277Z"
    }
   },
   "outputs": [
    {
     "name": "stdout",
     "output_type": "stream",
     "text": [
      "Enter File Name : File\n",
      "Enter String : mother\n",
      "  \n",
      "because her mother was a Catholic\n",
      "and Norys mother was a Catholic \n",
      "his mother was a Catholic or had been\n"
     ]
    }
   ],
   "source": [
    "# 4. Write a Python program that will prompt the user for a string and a file name, and then\n",
    "# print all lines in the file that contain the string.\n",
    "from fnmatch import fnmatch\n",
    "import os\n",
    "\n",
    "fl_name = input(\"Enter File Name : \")\n",
    "string_match = input(\"Enter String : \") \n",
    "\n",
    "for i in os.listdir('.'):\n",
    "    if fnmatch(i,'*.txt'):\n",
    "        if fl_name in i:\n",
    "            with open(i,encoding='utf8') as f:\n",
    "                f_contents =f.read().splitlines()\n",
    "                print(\"  \")\n",
    "                for sm in f_contents:\n",
    "                    if string_match in sm:\n",
    "                        print(sm)\n",
    "#                 print([sm for sm in f_contents if string_match in sm])"
   ]
  },
  {
   "cell_type": "code",
   "execution_count": 205,
   "id": "24881c90",
   "metadata": {
    "ExecuteTime": {
     "end_time": "2022-06-06T14:19:56.872564Z",
     "start_time": "2022-06-06T14:19:56.860597Z"
    }
   },
   "outputs": [
    {
     "name": "stdout",
     "output_type": "stream",
     "text": [
      "   Area of Rectangle   :  200\n",
      "Perimeter of Rectangle :  60\n"
     ]
    }
   ],
   "source": [
    "# 5. Create a class Rectangle. The constructor for this class should take two numeric\n",
    "# arguments, which are the length and breadth. Add methods to compute the area and\n",
    "# perimeter of the rectangle, as well as methods that simply return the length and\n",
    "# breadth. Add a method isSquare that returns a Boolean value if the Rectangle is a\n",
    "# Square.\n",
    "\n",
    "\n",
    "class Rectangle:\n",
    "    def __init__(self,length,breadth):\n",
    "        self.length = length\n",
    "        self.breadth = breadth\n",
    "    def Area_and_Perimeter_of_Rectangle(self):\n",
    "        print(\"   Area of Rectangle   : \",self.length*self.breadth)\n",
    "        print(\"Perimeter of Rectangle : \",2*(self.length+self.breadth))\n",
    "Rct = Rectangle(10,20)\n",
    "Rct.Area_and_Perimeter_of_Rectangle()"
   ]
  }
 ],
 "metadata": {
  "hide_input": false,
  "kernelspec": {
   "display_name": "Python 3 (ipykernel)",
   "language": "python",
   "name": "python3"
  },
  "language_info": {
   "codemirror_mode": {
    "name": "ipython",
    "version": 3
   },
   "file_extension": ".py",
   "mimetype": "text/x-python",
   "name": "python",
   "nbconvert_exporter": "python",
   "pygments_lexer": "ipython3",
   "version": "3.9.7"
  },
  "nbTranslate": {
   "displayLangs": [
    "*"
   ],
   "hotkey": "alt-t",
   "langInMainMenu": true,
   "sourceLang": "en",
   "targetLang": "fr",
   "useGoogleTranslate": true
  },
  "varInspector": {
   "cols": {
    "lenName": 16,
    "lenType": 16,
    "lenVar": 40
   },
   "kernels_config": {
    "python": {
     "delete_cmd_postfix": "",
     "delete_cmd_prefix": "del ",
     "library": "var_list.py",
     "varRefreshCmd": "print(var_dic_list())"
    },
    "r": {
     "delete_cmd_postfix": ") ",
     "delete_cmd_prefix": "rm(",
     "library": "var_list.r",
     "varRefreshCmd": "cat(var_dic_list()) "
    }
   },
   "types_to_exclude": [
    "module",
    "function",
    "builtin_function_or_method",
    "instance",
    "_Feature"
   ],
   "window_display": false
  }
 },
 "nbformat": 4,
 "nbformat_minor": 5
}
