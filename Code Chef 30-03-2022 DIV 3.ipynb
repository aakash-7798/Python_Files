{
 "cells": [
  {
   "cell_type": "code",
   "execution_count": null,
   "id": "d7aa3f34",
   "metadata": {},
   "outputs": [],
   "source": [
    "2\n",
    "4 7 3\n",
    "1101\n",
    "5 3 4\n",
    "00000"
   ]
  },
  {
   "cell_type": "code",
   "execution_count": 91,
   "id": "ee955ece",
   "metadata": {
    "ExecuteTime": {
     "end_time": "2022-03-30T15:36:29.968283Z",
     "start_time": "2022-03-30T15:36:29.958273Z"
    }
   },
   "outputs": [],
   "source": [
    "# # Binary String Cost \n",
    "# n = int(input())\n",
    "# l=[]\n",
    "# for i in range(n*2):\n",
    "#     l.append(list(map(int,input().split())))\n",
    "# for (i,j) in zip(range(0,len(l),2),range(2,len(l)+2,2)):\n",
    "#     if '01' in str(l[i:j][1]):\n",
    "#         print(min(l[i:j][0][1],l[i:j][0][2]))\n",
    "#     elif '10' in str(l[i:j][1]):\n",
    "#         print(min(l[i:j][0][1],l[i:j][0][2]))\n",
    "#     else:\n",
    "#         print(0)"
   ]
  },
  {
   "cell_type": "code",
   "execution_count": 92,
   "id": "2f7b26b8",
   "metadata": {
    "ExecuteTime": {
     "end_time": "2022-03-30T15:36:30.529900Z",
     "start_time": "2022-03-30T15:36:30.515934Z"
    }
   },
   "outputs": [],
   "source": [
    "# l"
   ]
  },
  {
   "cell_type": "code",
   "execution_count": 93,
   "id": "a3df2d42",
   "metadata": {
    "ExecuteTime": {
     "end_time": "2022-03-30T15:36:31.049242Z",
     "start_time": "2022-03-30T15:36:31.041267Z"
    }
   },
   "outputs": [],
   "source": [
    "# print(l[0][1]*str(l[1]).count('01') + l[0][2]*str(l[1]).count('10'))"
   ]
  },
  {
   "cell_type": "code",
   "execution_count": 94,
   "id": "43d6d966",
   "metadata": {
    "ExecuteTime": {
     "end_time": "2022-03-30T15:36:31.471979Z",
     "start_time": "2022-03-30T15:36:31.465997Z"
    }
   },
   "outputs": [],
   "source": [
    "# for (i,j) in zip(range(0,len(l),2),range(2,len(l)+2,2)):\n",
    "#     print(i,j)"
   ]
  },
  {
   "cell_type": "code",
   "execution_count": 95,
   "id": "ec2fc6a7",
   "metadata": {
    "ExecuteTime": {
     "end_time": "2022-03-30T15:36:31.914793Z",
     "start_time": "2022-03-30T15:36:31.897841Z"
    }
   },
   "outputs": [],
   "source": [
    "# for (i,j) in zip(range(0,len(l),2),range(2,len(l)+2,2)):\n",
    "#     print(l[i:j][0][1]*str(l[i:j][1]).count('01') + l[i:j][0][2]*str(l[i:j][1]).count('10'))"
   ]
  },
  {
   "cell_type": "code",
   "execution_count": 96,
   "id": "ff5f4f8b",
   "metadata": {
    "ExecuteTime": {
     "end_time": "2022-03-30T15:36:32.521072Z",
     "start_time": "2022-03-30T15:36:32.511100Z"
    }
   },
   "outputs": [],
   "source": [
    "# for (i,j) in zip(range(0,len(l),2),range(2,len(l)+2,2)):\n",
    "#     if '01' in str(l[i:j][1]):\n",
    "#         print(min(l[i:j][0][1],l[i:j][0][2]))\n",
    "#     elif '10' in str(l[i:j][1]):\n",
    "#         print(min(l[i:j][0][1],l[i:j][0][2]))\n",
    "#     else:\n",
    "#         print(0)"
   ]
  },
  {
   "cell_type": "code",
   "execution_count": null,
   "id": "281a01cd",
   "metadata": {},
   "outputs": [],
   "source": [
    "2\n",
    "54 50\n",
    "12 10"
   ]
  },
  {
   "cell_type": "code",
   "execution_count": 102,
   "id": "d6b1ab7e",
   "metadata": {
    "ExecuteTime": {
     "end_time": "2022-03-30T15:40:01.522330Z",
     "start_time": "2022-03-30T15:40:01.504377Z"
    }
   },
   "outputs": [],
   "source": [
    "## Volume Control \n",
    "# n = int(input())\n",
    "# l=[]\n",
    "# for i in range(n):\n",
    "#     l.append(list(map(int,input().split())))\n",
    "#     print(abs(l[i][0]-l[i][1]))"
   ]
  },
  {
   "cell_type": "code",
   "execution_count": null,
   "id": "77f20270",
   "metadata": {},
   "outputs": [],
   "source": [
    "3\n",
    "2 50 27\n",
    "5 40 38\n",
    "100 100 0"
   ]
  },
  {
   "cell_type": "code",
   "execution_count": 107,
   "id": "01e0169f",
   "metadata": {
    "ExecuteTime": {
     "end_time": "2022-03-30T16:16:37.186149Z",
     "start_time": "2022-03-30T16:16:37.172215Z"
    }
   },
   "outputs": [],
   "source": [
    "# ## Course Registration \n",
    "# n = int(input())\n",
    "# l=[]\n",
    "# for i in range(n):\n",
    "#     l.append(list(map(int,input().split())))\n",
    "#     if(l[i][0]+l[i][2])<=l[i][1]:\n",
    "#         print(\"Yes\")\n",
    "#     else:\n",
    "#         print('No')"
   ]
  },
  {
   "cell_type": "code",
   "execution_count": null,
   "id": "983672c1",
   "metadata": {},
   "outputs": [],
   "source": [
    "3\n",
    "2 4\n",
    "6 0\n",
    "4 3"
   ]
  },
  {
   "cell_type": "code",
   "execution_count": 117,
   "id": "c8326add",
   "metadata": {
    "ExecuteTime": {
     "end_time": "2022-03-30T17:01:02.350077Z",
     "start_time": "2022-03-30T17:01:02.336116Z"
    }
   },
   "outputs": [],
   "source": [
    "# ## Finding Shoes\n",
    "# n = int(input())\n",
    "# l=[]\n",
    "# for i in range(n):\n",
    "#     l.append(list(map(int,input().split())))\n",
    "#     if l[i][0]>l[i][1]:\n",
    "#         print((l[i][0] - l[i][1]) + (l[i][0]))\n",
    "#     elif l[i][0]<l[i][1]:\n",
    "#         print(l[i][0])"
   ]
  },
  {
   "cell_type": "code",
   "execution_count": null,
   "id": "3296180f",
   "metadata": {},
   "outputs": [],
   "source": [
    "4\n",
    "5 4\n",
    "5 4 3 2 1\n",
    "6 1\n",
    "8 2 3 9 6 10\n",
    "5 2\n",
    "4 3 4 3 5\n",
    "5 1000\n",
    "4 3 4 3 5"
   ]
  },
  {
   "cell_type": "code",
   "execution_count": 152,
   "id": "a0aedcbe",
   "metadata": {
    "ExecuteTime": {
     "end_time": "2022-03-30T17:44:30.694590Z",
     "start_time": "2022-03-30T17:44:30.675609Z"
    }
   },
   "outputs": [],
   "source": [
    "# ## Maximize the Minimum\n",
    "# n = int(input())\n",
    "# l=[]\n",
    "# for i in range(n*2):\n",
    "#     l.append(list(map(int,input().split())))\n",
    "# for (i,j) in zip(range(0,len(l),2),range(2,len(l)+2,2)):\n",
    "#     if l[i:j][0][0]>l[i:j][0][1]:\n",
    "#         print(sorted(l[i:j][1],reverse=True)[-(l[i:j][0][1]+1)])\n",
    "#     if l[i:j][0][0]<=l[i:j][0][1]:\n",
    "#         print(max(l[i:j][1]))"
   ]
  },
  {
   "cell_type": "code",
   "execution_count": 153,
   "id": "8c957bf5",
   "metadata": {
    "ExecuteTime": {
     "end_time": "2022-03-30T17:45:25.808130Z",
     "start_time": "2022-03-30T17:45:25.796165Z"
    }
   },
   "outputs": [],
   "source": [
    "# for (i,j) in zip(range(0,len(l),2),range(2,len(l)+2,2)):\n",
    "#     print(l[i:j])"
   ]
  },
  {
   "cell_type": "code",
   "execution_count": 154,
   "id": "b2a3cb00",
   "metadata": {
    "ExecuteTime": {
     "end_time": "2022-03-30T17:45:28.381894Z",
     "start_time": "2022-03-30T17:45:28.366934Z"
    }
   },
   "outputs": [],
   "source": [
    "# for (i,j) in zip(range(0,len(l),2),range(2,len(l)+2,2)):\n",
    "#     if l[i:j][0][0]>l[i:j][0][1]:\n",
    "#         print(sorted(l[i:j][1],reverse=True)[-(l[i:j][0][1]+1)])\n",
    "#     if l[i:j][0][0]<=l[i:j][0][1]:\n",
    "#         print(max(l[i:j][1]))"
   ]
  },
  {
   "cell_type": "code",
   "execution_count": 148,
   "id": "5e8a6252",
   "metadata": {
    "ExecuteTime": {
     "end_time": "2022-03-30T17:34:54.556590Z",
     "start_time": "2022-03-30T17:34:54.544590Z"
    }
   },
   "outputs": [
    {
     "data": {
      "text/plain": [
       "5"
      ]
     },
     "execution_count": 148,
     "metadata": {},
     "output_type": "execute_result"
    }
   ],
   "source": [
    "l[1][-5]"
   ]
  },
  {
   "cell_type": "code",
   "execution_count": 134,
   "id": "86b2aa4d",
   "metadata": {
    "ExecuteTime": {
     "end_time": "2022-03-30T17:24:12.091846Z",
     "start_time": "2022-03-30T17:24:12.072897Z"
    }
   },
   "outputs": [],
   "source": [
    "# n = int(input())\n",
    "# l=[]\n",
    "# for i in range(n*2):\n",
    "#     l.append(list(map(str,input().split())))\n",
    "# for (i,j) in zip(range(0,len(l),2),range(2,len(l)+2,2)):\n",
    "#     x = min(l[i:j][0][1],l[i:j][0][2])\n",
    "#     if '01' in str(l[i:j][1]):\n",
    "#         print(x)\n",
    "#     elif '10' in str(l[i:j][1]):\n",
    "#         print(x)"
   ]
  },
  {
   "cell_type": "code",
   "execution_count": 1,
   "id": "a0311602",
   "metadata": {
    "ExecuteTime": {
     "end_time": "2022-03-31T15:08:43.471885Z",
     "start_time": "2022-03-31T15:08:43.460915Z"
    }
   },
   "outputs": [],
   "source": [
    "# ## Maximize the Minimum\n",
    "# n = int(input())\n",
    "# l=[]\n",
    "# for i in range(n*2):\n",
    "#     l.append(list(map(int,input().split())))\n",
    "# for (i,j) in zip(range(0,len(l),2),range(2,len(l)+2,2)):\n",
    "#     if l[i:j][0][0]>l[i:j][0][1]:\n",
    "#         print(sorted(l[i:j][1],reverse=True)[-(l[i:j][0][1]+1)])\n",
    "#     if l[i:j][0][0]<=l[i:j][0][1]:\n",
    "#         print(max(l[i:j][1]))"
   ]
  },
  {
   "cell_type": "code",
   "execution_count": null,
   "id": "96dd3290",
   "metadata": {},
   "outputs": [],
   "source": [
    "3\n",
    "6\n",
    "110111\n",
    "9\n",
    "110110111\n",
    "5\n",
    "00111"
   ]
  },
  {
   "cell_type": "code",
   "execution_count": 98,
   "id": "fd642c4a",
   "metadata": {
    "ExecuteTime": {
     "end_time": "2022-03-31T16:49:42.836235Z",
     "start_time": "2022-03-31T16:49:42.818282Z"
    }
   },
   "outputs": [],
   "source": [
    "# ## Flip Sorting\n",
    "# n = int(input())\n",
    "# l=[]\n",
    "# for i in range(n*2):\n",
    "#     l.append(list(map(str,input().split())))"
   ]
  },
  {
   "cell_type": "code",
   "execution_count": 97,
   "id": "9f559fe8",
   "metadata": {
    "ExecuteTime": {
     "end_time": "2022-03-31T16:49:34.867243Z",
     "start_time": "2022-03-31T16:49:34.859264Z"
    }
   },
   "outputs": [],
   "source": [
    "# l"
   ]
  },
  {
   "cell_type": "code",
   "execution_count": 96,
   "id": "e2e097cc",
   "metadata": {
    "ExecuteTime": {
     "end_time": "2022-03-31T16:49:31.907750Z",
     "start_time": "2022-03-31T16:49:31.895752Z"
    }
   },
   "outputs": [],
   "source": [
    "# for i in range(1,len(l),2):\n",
    "#     print(l[i])"
   ]
  },
  {
   "cell_type": "code",
   "execution_count": 95,
   "id": "51eb7b3f",
   "metadata": {
    "ExecuteTime": {
     "end_time": "2022-03-31T16:49:29.511077Z",
     "start_time": "2022-03-31T16:49:29.496118Z"
    }
   },
   "outputs": [],
   "source": [
    "# l[1::2]"
   ]
  },
  {
   "cell_type": "code",
   "execution_count": 94,
   "id": "b68bf886",
   "metadata": {
    "ExecuteTime": {
     "end_time": "2022-03-31T16:49:26.913277Z",
     "start_time": "2022-03-31T16:49:26.901310Z"
    }
   },
   "outputs": [],
   "source": [
    "# l[1][0] == ''.join(sorted(l[1][0]))"
   ]
  },
  {
   "cell_type": "code",
   "execution_count": 93,
   "id": "78d659ec",
   "metadata": {
    "ExecuteTime": {
     "end_time": "2022-03-31T16:49:21.312091Z",
     "start_time": "2022-03-31T16:49:21.293167Z"
    }
   },
   "outputs": [],
   "source": [
    "# for (i,j) in zip(enumerate(list(l[3][0])),sorted(l[3][0])):\n",
    "#     if tuple(i)[1] == j:\n",
    "#         print(i,j)"
   ]
  },
  {
   "cell_type": "code",
   "execution_count": 92,
   "id": "92ce799e",
   "metadata": {
    "ExecuteTime": {
     "end_time": "2022-03-31T16:49:18.833586Z",
     "start_time": "2022-03-31T16:49:18.821616Z"
    }
   },
   "outputs": [],
   "source": [
    "# for (i,j) in zip(list(l[3][0]),sorted(l[3][0])):\n",
    "#         print(i,j)"
   ]
  },
  {
   "cell_type": "code",
   "execution_count": 77,
   "id": "17a947dd",
   "metadata": {
    "ExecuteTime": {
     "end_time": "2022-03-31T16:41:23.816953Z",
     "start_time": "2022-03-31T16:41:23.811967Z"
    }
   },
   "outputs": [],
   "source": [
    "# for i in list(range(1,len(l),2)):\n",
    "#     for j in l[i][0]:\n",
    "#             print(j)\n",
    "#     print(\"*\"*10)"
   ]
  },
  {
   "cell_type": "code",
   "execution_count": 90,
   "id": "03953dba",
   "metadata": {
    "ExecuteTime": {
     "end_time": "2022-03-31T16:49:11.526281Z",
     "start_time": "2022-03-31T16:49:11.514277Z"
    }
   },
   "outputs": [],
   "source": [
    "# for (i,j) in zip(range(0,len(l),2),range(2,len(l)+2,2)):\n",
    "#     for k in range(len(l[i:j][1][0])):\n",
    "#         if l[i:j][1][0][k] == '1'"
   ]
  },
  {
   "cell_type": "code",
   "execution_count": 91,
   "id": "1379c1c1",
   "metadata": {
    "ExecuteTime": {
     "end_time": "2022-03-31T16:49:13.921166Z",
     "start_time": "2022-03-31T16:49:13.911162Z"
    }
   },
   "outputs": [],
   "source": [
    "# l1 = []\n",
    "# for i in list(range(1,len(l),2)):\n",
    "#     for j in range(len(l[i][0])):\n",
    "#         if l[i][0][j] ==\"1\":\n",
    "#             l1.append([i+1,len()])\n",
    "#             l[i][0][j]\n",
    "#     print(\"*\"*10)"
   ]
  },
  {
   "cell_type": "code",
   "execution_count": null,
   "id": "5c617bfa",
   "metadata": {},
   "outputs": [],
   "source": [
    "3\n",
    "4\n",
    "-9 -21 -4 -43\n",
    "0 0 0 0\n",
    "5\n",
    "10 14 5 9 1\n",
    "4 1 3 0 0\n",
    "7\n",
    "-1 101 5 63 -7 -88 59\n",
    "0 1 6 2 3 4 5"
   ]
  },
  {
   "cell_type": "code",
   "execution_count": 106,
   "id": "b2d117e0",
   "metadata": {
    "ExecuteTime": {
     "end_time": "2022-03-31T17:09:08.067389Z",
     "start_time": "2022-03-31T17:07:14.841163Z"
    }
   },
   "outputs": [
    {
     "name": "stdout",
     "output_type": "stream",
     "text": [
      "3\n",
      "4\n",
      "-9 -21 -4 -43\n",
      "0 0 0 0\n",
      "0\n",
      "5\n",
      "10 14 5 9 1\n",
      "4 1 3 0 0\n",
      "11.5\n",
      "7\n",
      "-1 101 5 63 -7 -88 59\n",
      "0 1 6 2 3 4 5\n",
      "54.333333333333336\n"
     ]
    }
   ],
   "source": [
    "## Training Plans\n",
    "from heapq  import *\n",
    "t = int(input())\n",
    "for _ in range(t):\n",
    "    n=int(input())\n",
    "    a=list(map(int,input().split()))\n",
    "    b=list(map(int,input().split()))\n",
    "    \n",
    "    arr=[]\n",
    "    for _ in range(n):\n",
    "        arr.append([])\n",
    "    for x,y in zip(a,b):\n",
    "        arr[y].append(x)\n",
    "    \n",
    "    heap=[]\n",
    "    sm=0\n",
    "    score=0\n",
    "    ni=0\n",
    "    i=0\n",
    "    while i<n:\n",
    "        for task in arr[i]:\n",
    "            heappush(heap,-task)\n",
    "        if len(heap)==0:\n",
    "            break\n",
    "        val = -heappop(heap)\n",
    "        sm+=val\n",
    "        ni+=1\n",
    "        score=max(score,sm/ni)\n",
    "        i+=1\n",
    "    print(score)"
   ]
  },
  {
   "cell_type": "code",
   "execution_count": 104,
   "id": "f12d49d3",
   "metadata": {
    "ExecuteTime": {
     "end_time": "2022-03-31T17:02:36.801278Z",
     "start_time": "2022-03-31T17:02:36.787316Z"
    }
   },
   "outputs": [],
   "source": [
    "from heapq  import *"
   ]
  },
  {
   "cell_type": "code",
   "execution_count": null,
   "id": "a9d43f05",
   "metadata": {},
   "outputs": [],
   "source": []
  }
 ],
 "metadata": {
  "kernelspec": {
   "display_name": "Python 3 (ipykernel)",
   "language": "python",
   "name": "python3"
  },
  "language_info": {
   "codemirror_mode": {
    "name": "ipython",
    "version": 3
   },
   "file_extension": ".py",
   "mimetype": "text/x-python",
   "name": "python",
   "nbconvert_exporter": "python",
   "pygments_lexer": "ipython3",
   "version": "3.9.7"
  },
  "nbTranslate": {
   "displayLangs": [
    "*"
   ],
   "hotkey": "alt-t",
   "langInMainMenu": true,
   "sourceLang": "en",
   "targetLang": "fr",
   "useGoogleTranslate": true
  },
  "varInspector": {
   "cols": {
    "lenName": 16,
    "lenType": 16,
    "lenVar": 40
   },
   "kernels_config": {
    "python": {
     "delete_cmd_postfix": "",
     "delete_cmd_prefix": "del ",
     "library": "var_list.py",
     "varRefreshCmd": "print(var_dic_list())"
    },
    "r": {
     "delete_cmd_postfix": ") ",
     "delete_cmd_prefix": "rm(",
     "library": "var_list.r",
     "varRefreshCmd": "cat(var_dic_list()) "
    }
   },
   "types_to_exclude": [
    "module",
    "function",
    "builtin_function_or_method",
    "instance",
    "_Feature"
   ],
   "window_display": false
  }
 },
 "nbformat": 4,
 "nbformat_minor": 5
}
