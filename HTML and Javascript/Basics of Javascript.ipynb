{
 "cells": [
  {
   "cell_type": "code",
   "execution_count": 64,
   "id": "c9f8a649",
   "metadata": {
    "ExecuteTime": {
     "end_time": "2022-02-26T15:54:28.145533Z",
     "start_time": "2022-02-26T15:54:28.126581Z"
    }
   },
   "outputs": [
    {
     "data": {
      "text/html": [
       "<html>\n",
       "<body>\n",
       "<h1> Welcome to JavaScript Tutorial.... </h1>\n",
       "<script>for(let i=0;i<4;i++) console.log(`Number ${i}`);</script>\n",
       "<h2>I am Aakash Nadupalli</h2>\n",
       "</body>\n",
       "</html>\n"
      ],
      "text/plain": [
       "<IPython.core.display.HTML object>"
      ]
     },
     "metadata": {},
     "output_type": "display_data"
    }
   ],
   "source": [
    "%%HTML\n",
    "<html>\n",
    "<body>\n",
    "<h1> Welcome to JavaScript Tutorial.... </h1>\n",
    "<h2>I am Aakash Nadupalli</h2>\n",
    "</body>\n",
    "</html>"
   ]
  },
  {
   "cell_type": "code",
   "execution_count": 30,
   "id": "a46c414d",
   "metadata": {
    "ExecuteTime": {
     "end_time": "2022-02-26T14:45:40.246320Z",
     "start_time": "2022-02-26T14:45:40.224377Z"
    }
   },
   "outputs": [
    {
     "data": {
      "application/javascript": [
       "// alert(\"6\" / \"2\");\n",
       "let a = \"789\";\n",
       "alert(typeof a);\n",
       "let b = Number(a);\n",
       "alert(typeof b);\n"
      ],
      "text/plain": [
       "<IPython.core.display.Javascript object>"
      ]
     },
     "metadata": {},
     "output_type": "display_data"
    }
   ],
   "source": [
    "%%js\n",
    "// alert(\"6\" / \"2\");\n",
    "let a = \"789\";\n",
    "alert(typeof a);\n",
    "let b = Number(a);\n",
    "alert(typeof b);"
   ]
  },
  {
   "cell_type": "code",
   "execution_count": 31,
   "id": "abac3bdd",
   "metadata": {
    "ExecuteTime": {
     "end_time": "2022-02-26T14:45:56.171839Z",
     "start_time": "2022-02-26T14:45:56.158872Z"
    }
   },
   "outputs": [
    {
     "data": {
      "application/javascript": [
       "// Loops\n",
       "let i=5;\n",
       "while (i) alert(i--);\n"
      ],
      "text/plain": [
       "<IPython.core.display.Javascript object>"
      ]
     },
     "metadata": {},
     "output_type": "display_data"
    }
   ],
   "source": [
    "%%js\n",
    "// Loops\n",
    "let i=5;\n",
    "while (i) alert(i--);"
   ]
  },
  {
   "cell_type": "code",
   "execution_count": 33,
   "id": "03b035e9",
   "metadata": {
    "ExecuteTime": {
     "end_time": "2022-02-26T14:47:23.318026Z",
     "start_time": "2022-02-26T14:47:23.299368Z"
    }
   },
   "outputs": [
    {
     "data": {
      "application/javascript": [
       "// Loops\n",
       "let i=0;\n",
       "do\n",
       "{\n",
       "    alert(i);\n",
       "    i++\n",
       "}while(i < 5) ;\n"
      ],
      "text/plain": [
       "<IPython.core.display.Javascript object>"
      ]
     },
     "metadata": {},
     "output_type": "display_data"
    }
   ],
   "source": [
    "%%js\n",
    "// Loops\n",
    "let i=0;\n",
    "do\n",
    "{\n",
    "    alert(i);\n",
    "    i++\n",
    "}while(i < 5) ;"
   ]
  },
  {
   "cell_type": "code",
   "execution_count": 35,
   "id": "ce8324e2",
   "metadata": {
    "ExecuteTime": {
     "end_time": "2022-02-26T14:49:26.522338Z",
     "start_time": "2022-02-26T14:49:26.509372Z"
    }
   },
   "outputs": [
    {
     "data": {
      "application/javascript": [
       "# for(let i=0;i<3;i++)\n",
       "# {\n",
       "#     alert(i);\n",
       "# }\n"
      ],
      "text/plain": [
       "<IPython.core.display.Javascript object>"
      ]
     },
     "metadata": {},
     "output_type": "display_data"
    }
   ],
   "source": [
    "%%js\n",
    "for(let i=0;i<3;i++)\n",
    "{\n",
    "    alert(i);\n",
    "}"
   ]
  },
  {
   "cell_type": "code",
   "execution_count": 38,
   "id": "2ac385bf",
   "metadata": {
    "ExecuteTime": {
     "end_time": "2022-02-26T14:50:42.647820Z",
     "start_time": "2022-02-26T14:50:42.635818Z"
    }
   },
   "outputs": [
    {
     "data": {
      "application/javascript": [
       "let i=0\n",
       "for(;i<10;i++)\n",
       "{\n",
       "    if(i%2==0) continue;\n",
       "    alert(i);\n",
       "}\n"
      ],
      "text/plain": [
       "<IPython.core.display.Javascript object>"
      ]
     },
     "metadata": {},
     "output_type": "display_data"
    }
   ],
   "source": [
    "%%js\n",
    "let i=0\n",
    "for(;i<10;i++)\n",
    "{\n",
    "    if(i%2==0) continue;\n",
    "    alert(i);\n",
    "}"
   ]
  },
  {
   "cell_type": "code",
   "execution_count": 54,
   "id": "c3b9d5a2",
   "metadata": {
    "ExecuteTime": {
     "end_time": "2022-02-26T15:22:30.533997Z",
     "start_time": "2022-02-26T15:22:30.521485Z"
    }
   },
   "outputs": [
    {
     "data": {
      "application/javascript": [
       "outer: \n",
       "    for(let i=0;i<3;i++){for(let j=0;j<3;j++){let input = prompt(`Value at coords (${i},${j})`, '');if(!input) break outer;}}\n",
       "alert(\"Done..\")\n"
      ],
      "text/plain": [
       "<IPython.core.display.Javascript object>"
      ]
     },
     "metadata": {},
     "output_type": "display_data"
    }
   ],
   "source": [
    "%%js\n",
    "outer:\n",
    "    for(let i=0;i<3;i++){\n",
    "        for(let j=0;j<3;j++){\n",
    "            let input = prompt(`Value at coords (${i},${j})`, '');\n",
    "            if(!input) break outer;\n",
    "        }\n",
    "    }\n",
    "alert(\"Done..\")"
   ]
  },
  {
   "cell_type": "code",
   "execution_count": 59,
   "id": "05e209ac",
   "metadata": {
    "ExecuteTime": {
     "end_time": "2022-02-26T15:26:24.267085Z",
     "start_time": "2022-02-26T15:26:24.258254Z"
    }
   },
   "outputs": [
    {
     "data": {
      "application/javascript": [
       "for(let i=0;i<4;i++) alert(`Number ${i}`);\n"
      ],
      "text/plain": [
       "<IPython.core.display.Javascript object>"
      ]
     },
     "metadata": {},
     "output_type": "display_data"
    }
   ],
   "source": [
    "%%js\n",
    "for(let i=0;i<4;i++) alert(`Number ${i}`);"
   ]
  },
  {
   "cell_type": "code",
   "execution_count": 69,
   "id": "6d1df549",
   "metadata": {
    "ExecuteTime": {
     "end_time": "2022-02-26T15:58:23.203023Z",
     "start_time": "2022-02-26T15:58:23.194075Z"
    }
   },
   "outputs": [
    {
     "data": {
      "application/javascript": [
       "for(let i=0;i<4;i++) alert(`Number ${i}`);\n"
      ],
      "text/plain": [
       "<IPython.core.display.Javascript object>"
      ]
     },
     "metadata": {},
     "output_type": "display_data"
    }
   ],
   "source": [
    "%%js\n",
    "for(let i=0;i<4;i++) alert(`Number ${i}`);"
   ]
  },
  {
   "cell_type": "code",
   "execution_count": 61,
   "id": "3a767c47",
   "metadata": {
    "ExecuteTime": {
     "end_time": "2022-02-26T15:34:03.687105Z",
     "start_time": "2022-02-26T15:34:03.675915Z"
    }
   },
   "outputs": [
    {
     "data": {
      "application/javascript": [
       "let a = prompt(\"First Number\",1)\n",
       "let b = prompt(\"Second Number\",2)\n",
       "alert(Number(a)+Number(b));\n"
      ],
      "text/plain": [
       "<IPython.core.display.Javascript object>"
      ]
     },
     "metadata": {},
     "output_type": "display_data"
    }
   ],
   "source": [
    "%%js \n",
    "let a = prompt(\"First Number\",1)\n",
    "let b = prompt(\"Second Number\",2)\n",
    "alert(Number(a)+Number(b));"
   ]
  },
  {
   "cell_type": "code",
   "execution_count": 62,
   "id": "cc5613f5",
   "metadata": {
    "ExecuteTime": {
     "end_time": "2022-02-26T15:35:17.207616Z",
     "start_time": "2022-02-26T15:35:17.186441Z"
    }
   },
   "outputs": [
    {
     "data": {
      "application/javascript": [
       "let a = prompt(\"First Number\",1)\n",
       "let b = prompt(\"Second Number\",2)\n",
       "alert(+(a)+ +(b));\n"
      ],
      "text/plain": [
       "<IPython.core.display.Javascript object>"
      ]
     },
     "metadata": {},
     "output_type": "display_data"
    }
   ],
   "source": [
    "%%js \n",
    "let a = prompt(\"First Number\",1)\n",
    "let b = prompt(\"Second Number\",2)\n",
    "alert(+(a)+ +(b));"
   ]
  },
  {
   "cell_type": "code",
   "execution_count": 70,
   "id": "e11b7b6c",
   "metadata": {
    "ExecuteTime": {
     "end_time": "2022-02-26T15:59:01.122870Z",
     "start_time": "2022-02-26T15:59:01.102949Z"
    }
   },
   "outputs": [
    {
     "data": {
      "application/javascript": [
       "console.log(\"Hello..World\")\n"
      ],
      "text/plain": [
       "<IPython.core.display.Javascript object>"
      ]
     },
     "metadata": {},
     "output_type": "display_data"
    }
   ],
   "source": [
    "%%js\n",
    "console.log(\"Hello..World\")"
   ]
  },
  {
   "cell_type": "code",
   "execution_count": null,
   "id": "a91f5845",
   "metadata": {},
   "outputs": [],
   "source": []
  }
 ],
 "metadata": {
  "kernelspec": {
   "display_name": "Python 3 (ipykernel)",
   "language": "python",
   "name": "python3"
  },
  "language_info": {
   "codemirror_mode": {
    "name": "ipython",
    "version": 3
   },
   "file_extension": ".py",
   "mimetype": "text/x-python",
   "name": "python",
   "nbconvert_exporter": "python",
   "pygments_lexer": "ipython3",
   "version": "3.9.7"
  },
  "nbTranslate": {
   "displayLangs": [
    "*"
   ],
   "hotkey": "alt-t",
   "langInMainMenu": true,
   "sourceLang": "en",
   "targetLang": "fr",
   "useGoogleTranslate": true
  },
  "varInspector": {
   "cols": {
    "lenName": 16,
    "lenType": 16,
    "lenVar": 40
   },
   "kernels_config": {
    "python": {
     "delete_cmd_postfix": "",
     "delete_cmd_prefix": "del ",
     "library": "var_list.py",
     "varRefreshCmd": "print(var_dic_list())"
    },
    "r": {
     "delete_cmd_postfix": ") ",
     "delete_cmd_prefix": "rm(",
     "library": "var_list.r",
     "varRefreshCmd": "cat(var_dic_list()) "
    }
   },
   "types_to_exclude": [
    "module",
    "function",
    "builtin_function_or_method",
    "instance",
    "_Feature"
   ],
   "window_display": false
  }
 },
 "nbformat": 4,
 "nbformat_minor": 5
}
