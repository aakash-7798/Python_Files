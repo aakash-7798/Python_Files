{
 "cells": [
  {
   "cell_type": "code",
   "execution_count": 1,
   "id": "dd79138b",
   "metadata": {
    "ExecuteTime": {
     "end_time": "2022-02-01T13:27:06.899938Z",
     "start_time": "2022-02-01T13:26:18.363021Z"
    },
    "collapsed": true
   },
   "outputs": [
    {
     "name": "stdout",
     "output_type": "stream",
     "text": [
      "Collecting pdf2pptx\n",
      "  Downloading pdf2pptx-1.0.3-py3-none-any.whl (4.3 kB)\n",
      "Requirement already satisfied: click in c:\\users\\aakas\\anaconda3\\lib\\site-packages (from pdf2pptx) (8.0.3)\n",
      "Collecting pymupdf\n",
      "  Downloading PyMuPDF-1.19.4-cp39-cp39-win_amd64.whl (6.4 MB)\n",
      "Collecting python-pptx\n",
      "  Downloading python-pptx-0.6.21.tar.gz (10.1 MB)\n",
      "Requirement already satisfied: tqdm in c:\\users\\aakas\\anaconda3\\lib\\site-packages (from pdf2pptx) (4.62.3)\n",
      "Requirement already satisfied: colorama in c:\\users\\aakas\\anaconda3\\lib\\site-packages (from click->pdf2pptx) (0.4.4)\n",
      "Requirement already satisfied: lxml>=3.1.0 in c:\\users\\aakas\\anaconda3\\lib\\site-packages (from python-pptx->pdf2pptx) (4.6.3)\n",
      "Requirement already satisfied: Pillow>=3.3.2 in c:\\users\\aakas\\anaconda3\\lib\\site-packages (from python-pptx->pdf2pptx) (8.4.0)\n",
      "Requirement already satisfied: XlsxWriter>=0.5.7 in c:\\users\\aakas\\anaconda3\\lib\\site-packages (from python-pptx->pdf2pptx) (3.0.1)\n",
      "Building wheels for collected packages: python-pptx\n",
      "  Building wheel for python-pptx (setup.py): started\n",
      "  Building wheel for python-pptx (setup.py): finished with status 'done'\n",
      "  Created wheel for python-pptx: filename=python_pptx-0.6.21-py3-none-any.whl size=470950 sha256=1609a47b482d5808fd81f005cfea206c2a050c894849d3e2ad2080da63b437ec\n",
      "  Stored in directory: c:\\users\\aakas\\appdata\\local\\pip\\cache\\wheels\\0e\\4a\\ed\\9653bc799915f52dce3f04d14946fbd85cce9c3cdedc9cfa71\n",
      "Successfully built python-pptx\n",
      "Installing collected packages: python-pptx, pymupdf, pdf2pptx\n",
      "Successfully installed pdf2pptx-1.0.3 pymupdf-1.19.4 python-pptx-0.6.21\n"
     ]
    }
   ],
   "source": [
    "# # https://github.com/pymupdf/PyMuPDF\n",
    "# # https://pymupdf.readthedocs.io/en/1.19.3/\n",
    "# !pip install pdf2pptx\n",
    "# !pip install pymupdf"
   ]
  },
  {
   "cell_type": "code",
   "execution_count": 4,
   "id": "504f7488",
   "metadata": {
    "ExecuteTime": {
     "end_time": "2022-02-01T13:32:43.766925Z",
     "start_time": "2022-02-01T13:32:38.637899Z"
    },
    "collapsed": true
   },
   "outputs": [
    {
     "name": "stdout",
     "output_type": "stream",
     "text": [
      "Requirement already satisfied: pymupdf in c:\\users\\aakas\\anaconda3\\lib\\site-packages (1.19.4)\n"
     ]
    }
   ],
   "source": [
    "# python -m pip install --upgrade pip\n",
    "# python -m pip install --upgrade pymupdf"
   ]
  },
  {
   "cell_type": "code",
   "execution_count": 6,
   "id": "370bbdd7",
   "metadata": {
    "ExecuteTime": {
     "end_time": "2022-02-01T13:39:09.696990Z",
     "start_time": "2022-02-01T13:39:09.667782Z"
    }
   },
   "outputs": [
    {
     "name": "stdout",
     "output_type": "stream",
     "text": [
      "Help on package pdf2pptx:\n",
      "\n",
      "NAME\n",
      "    pdf2pptx\n",
      "\n",
      "PACKAGE CONTENTS\n",
      "    cli\n",
      "\n",
      "FILE\n",
      "    c:\\users\\aakas\\anaconda3\\lib\\site-packages\\pdf2pptx\\__init__.py\n",
      "\n",
      "\n"
     ]
    }
   ],
   "source": [
    "import pdf2pptx\n",
    "pdf2pptx "
   ]
  },
  {
   "cell_type": "code",
   "execution_count": null,
   "id": "abd2057b",
   "metadata": {},
   "outputs": [],
   "source": []
  }
 ],
 "metadata": {
  "kernelspec": {
   "display_name": "Python 3 (ipykernel)",
   "language": "python",
   "name": "python3"
  },
  "language_info": {
   "codemirror_mode": {
    "name": "ipython",
    "version": 3
   },
   "file_extension": ".py",
   "mimetype": "text/x-python",
   "name": "python",
   "nbconvert_exporter": "python",
   "pygments_lexer": "ipython3",
   "version": "3.9.7"
  },
  "nbTranslate": {
   "displayLangs": [
    "*"
   ],
   "hotkey": "alt-t",
   "langInMainMenu": true,
   "sourceLang": "en",
   "targetLang": "fr",
   "useGoogleTranslate": true
  },
  "varInspector": {
   "cols": {
    "lenName": 16,
    "lenType": 16,
    "lenVar": 40
   },
   "kernels_config": {
    "python": {
     "delete_cmd_postfix": "",
     "delete_cmd_prefix": "del ",
     "library": "var_list.py",
     "varRefreshCmd": "print(var_dic_list())"
    },
    "r": {
     "delete_cmd_postfix": ") ",
     "delete_cmd_prefix": "rm(",
     "library": "var_list.r",
     "varRefreshCmd": "cat(var_dic_list()) "
    }
   },
   "types_to_exclude": [
    "module",
    "function",
    "builtin_function_or_method",
    "instance",
    "_Feature"
   ],
   "window_display": false
  }
 },
 "nbformat": 4,
 "nbformat_minor": 5
}
