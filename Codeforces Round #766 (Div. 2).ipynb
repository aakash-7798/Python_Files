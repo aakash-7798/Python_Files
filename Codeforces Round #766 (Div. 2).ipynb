{
 "cells": [
  {
   "cell_type": "code",
   "execution_count": 75,
   "id": "c51e174f",
   "metadata": {},
   "outputs": [
    {
     "name": "stdout",
     "output_type": "stream",
     "text": [
      "Enter TestCases : 9\n",
      "Enter Values for n m r c : 3 5 1 4\n",
      "Enter Elements : WBWWW\n",
      "Enter Elements : BBBWB\n",
      "Enter Elements : WWBBB\n",
      "Enter Values for n m r c : 4 3 2 1\n",
      "Enter Elements : BWW\n",
      "Enter Elements : BBW\n",
      "Enter Elements : WBB\n",
      "Enter Elements : WWB\n",
      "Enter Values for n m r c : 2 3 2 2\n",
      "Enter Elements : WWW\n",
      "Enter Elements : WWW\n",
      "Enter Values for n m r c : 2 2 1 1\n",
      "Enter Elements : WW\n",
      "Enter Elements : WB\n",
      "Enter Values for n m r c : 5 9 5 9\n",
      "Enter Elements : WWWWWWWWW\n",
      "Enter Elements : WBWBWBBBW\n",
      "Enter Elements : WBBBWWBWW\n",
      "Enter Elements : WBWBWBBBW\n",
      "Enter Elements : WWWWWWWWW\n",
      "Enter Values for n m r c : 1 1 1 1\n",
      "Enter Elements : B\n",
      "Enter Values for n m r c : 1 1 1 1\n",
      "Enter Elements : W\n",
      "Enter Values for n m r c : 1 2 1 1\n",
      "Enter Elements : WB\n",
      "Enter Values for n m r c : 2 1 1 1\n",
      "Enter Elements : W\n",
      "Enter Elements : B\n"
     ]
    }
   ],
   "source": [
    "n =list(map(int,input(\"Enter TestCases : \").split()))\n",
    "lst = []\n",
    "for i in range(n[0]):\n",
    "    lst.append([])\n",
    "    x = list(map(int,input(\"Enter Values for n m r c : \").split()))\n",
    "    for j in range(x[0]):\n",
    "        lst[i].append(list(input(\"Enter Elements : \")))"
   ]
  },
  {
   "cell_type": "code",
   "execution_count": 77,
   "id": "c159c913",
   "metadata": {},
   "outputs": [
    {
     "data": {
      "text/plain": [
       "[2, 1, 1, 1]"
      ]
     },
     "execution_count": 77,
     "metadata": {},
     "output_type": "execute_result"
    }
   ],
   "source": [
    "x"
   ]
  },
  {
   "cell_type": "code",
   "execution_count": null,
   "id": "b01f7d73",
   "metadata": {},
   "outputs": [],
   "source": [
    "# 9\n",
    "# 3 5 1 4\n",
    "# WBWWW\n",
    "# BBBWB\n",
    "# WWBBB\n",
    "# 4 3 2 1\n",
    "# BWW\n",
    "# BBW\n",
    "# WBB\n",
    "# WWB\n",
    "# 2 3 2 2\n",
    "# WWW\n",
    "# WWW\n",
    "# 2 2 1 1\n",
    "# WW\n",
    "# WB\n",
    "# 5 9 5 9\n",
    "# WWWWWWWWW\n",
    "# WBWBWBBBW\n",
    "# WBBBWWBWW\n",
    "# WBWBWBBBW\n",
    "# WWWWWWWWW\n",
    "# 1 1 1 1\n",
    "# B\n",
    "# 1 1 1 1\n",
    "# W\n",
    "# 1 2 1 1\n",
    "# WB\n",
    "# 2 1 1 1\n",
    "# W\n",
    "# B"
   ]
  },
  {
   "cell_type": "code",
   "execution_count": 78,
   "id": "47535ea7",
   "metadata": {},
   "outputs": [
    {
     "data": {
      "text/plain": [
       "[[['W', 'B', 'W', 'W', 'W'],\n",
       "  ['B', 'B', 'B', 'W', 'B'],\n",
       "  ['W', 'W', 'B', 'B', 'B']],\n",
       " [['B', 'W', 'W'], ['B', 'B', 'W'], ['W', 'B', 'B'], ['W', 'W', 'B']],\n",
       " [['W', 'W', 'W'], ['W', 'W', 'W']],\n",
       " [['W', 'W'], ['W', 'B']],\n",
       " [['W', 'W', 'W', 'W', 'W', 'W', 'W', 'W', 'W'],\n",
       "  ['W', 'B', 'W', 'B', 'W', 'B', 'B', 'B', 'W'],\n",
       "  ['W', 'B', 'B', 'B', 'W', 'W', 'B', 'W', 'W'],\n",
       "  ['W', 'B', 'W', 'B', 'W', 'B', 'B', 'B', 'W'],\n",
       "  ['W', 'W', 'W', 'W', 'W', 'W', 'W', 'W', 'W']],\n",
       " [['B']],\n",
       " [['W']],\n",
       " [['W', 'B']],\n",
       " [['W'], ['B']]]"
      ]
     },
     "execution_count": 78,
     "metadata": {},
     "output_type": "execute_result"
    }
   ],
   "source": [
    "lst"
   ]
  },
  {
   "cell_type": "code",
   "execution_count": 84,
   "id": "5c5331e4",
   "metadata": {},
   "outputs": [
    {
     "data": {
      "text/plain": [
       "[['W', 'B', 'W', 'W', 'W'],\n",
       " ['B', 'B', 'B', 'W', 'B'],\n",
       " ['W', 'W', 'B', 'B', 'B']]"
      ]
     },
     "execution_count": 84,
     "metadata": {},
     "output_type": "execute_result"
    }
   ],
   "source": [
    "d = lst[0]\n",
    "d"
   ]
  },
  {
   "cell_type": "code",
   "execution_count": 86,
   "id": "cef3be9e",
   "metadata": {},
   "outputs": [
    {
     "data": {
      "text/plain": [
       "5"
      ]
     },
     "execution_count": 86,
     "metadata": {},
     "output_type": "execute_result"
    }
   ],
   "source": [
    "len(d[0])"
   ]
  },
  {
   "cell_type": "code",
   "execution_count": 89,
   "id": "96847a35",
   "metadata": {},
   "outputs": [
    {
     "data": {
      "text/plain": [
       "'W'"
      ]
     },
     "execution_count": 89,
     "metadata": {},
     "output_type": "execute_result"
    }
   ],
   "source": [
    "d[0][0]"
   ]
  },
  {
   "cell_type": "code",
   "execution_count": 92,
   "id": "4fc52a7f",
   "metadata": {},
   "outputs": [
    {
     "ename": "TypeError",
     "evalue": "list indices must be integers or slices, not str",
     "output_type": "error",
     "traceback": [
      "\u001b[1;31m---------------------------------------------------------------------------\u001b[0m",
      "\u001b[1;31mTypeError\u001b[0m                                 Traceback (most recent call last)",
      "\u001b[1;32m~\\AppData\\Local\\Temp/ipykernel_17368/2821534194.py\u001b[0m in \u001b[0;36m<module>\u001b[1;34m\u001b[0m\n\u001b[0;32m      1\u001b[0m \u001b[1;32mfor\u001b[0m \u001b[0mi\u001b[0m \u001b[1;32min\u001b[0m \u001b[0md\u001b[0m\u001b[1;33m[\u001b[0m\u001b[1;36m0\u001b[0m\u001b[1;33m]\u001b[0m\u001b[1;33m:\u001b[0m\u001b[1;33m\u001b[0m\u001b[1;33m\u001b[0m\u001b[0m\n\u001b[0;32m      2\u001b[0m     \u001b[1;32mif\u001b[0m \u001b[0mi\u001b[0m\u001b[1;33m==\u001b[0m\u001b[1;34m\"B\"\u001b[0m\u001b[1;33m:\u001b[0m\u001b[1;33m\u001b[0m\u001b[1;33m\u001b[0m\u001b[0m\n\u001b[1;32m----> 3\u001b[1;33m         \u001b[0md\u001b[0m\u001b[1;33m[\u001b[0m\u001b[0mi\u001b[0m\u001b[1;33m]\u001b[0m \u001b[1;33m=\u001b[0m \u001b[1;33m[\u001b[0m\u001b[1;34m\"W\"\u001b[0m\u001b[1;33m]\u001b[0m\u001b[1;33m\u001b[0m\u001b[1;33m\u001b[0m\u001b[0m\n\u001b[0m\u001b[0;32m      4\u001b[0m \u001b[0mprint\u001b[0m\u001b[1;33m(\u001b[0m\u001b[0md\u001b[0m\u001b[1;33m[\u001b[0m\u001b[1;36m0\u001b[0m\u001b[1;33m]\u001b[0m\u001b[1;33m)\u001b[0m\u001b[1;33m\u001b[0m\u001b[1;33m\u001b[0m\u001b[0m\n",
      "\u001b[1;31mTypeError\u001b[0m: list indices must be integers or slices, not str"
     ]
    }
   ],
   "source": [
    "for i in d[0]:\n",
    "    if i==\"B\":\n",
    "        d[i] == \"W\"\n",
    "print(d[0])"
   ]
  },
  {
   "cell_type": "code",
   "execution_count": null,
   "id": "7050beeb",
   "metadata": {},
   "outputs": [],
   "source": []
  }
 ],
 "metadata": {
  "kernelspec": {
   "display_name": "Python 3 (ipykernel)",
   "language": "python",
   "name": "python3"
  },
  "language_info": {
   "codemirror_mode": {
    "name": "ipython",
    "version": 3
   },
   "file_extension": ".py",
   "mimetype": "text/x-python",
   "name": "python",
   "nbconvert_exporter": "python",
   "pygments_lexer": "ipython3",
   "version": "3.9.7"
  },
  "varInspector": {
   "cols": {
    "lenName": 16,
    "lenType": 16,
    "lenVar": 40
   },
   "kernels_config": {
    "python": {
     "delete_cmd_postfix": "",
     "delete_cmd_prefix": "del ",
     "library": "var_list.py",
     "varRefreshCmd": "print(var_dic_list())"
    },
    "r": {
     "delete_cmd_postfix": ") ",
     "delete_cmd_prefix": "rm(",
     "library": "var_list.r",
     "varRefreshCmd": "cat(var_dic_list()) "
    }
   },
   "types_to_exclude": [
    "module",
    "function",
    "builtin_function_or_method",
    "instance",
    "_Feature"
   ],
   "window_display": false
  }
 },
 "nbformat": 4,
 "nbformat_minor": 5
}
