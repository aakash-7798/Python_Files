{
 "cells": [
  {
   "cell_type": "code",
   "execution_count": 1,
   "id": "e1c1385d",
   "metadata": {
    "ExecuteTime": {
     "end_time": "2022-01-30T14:58:14.558287Z",
     "start_time": "2022-01-30T14:57:33.864967Z"
    },
    "collapsed": true
   },
   "outputs": [
    {
     "name": "stdout",
     "output_type": "stream",
     "text": [
      "Collecting ocrmypdf\n",
      "  Downloading ocrmypdf-13.3.0-py37-none-any.whl (122 kB)\n",
      "Requirement already satisfied: packaging>=20 in c:\\users\\aakas\\anaconda3\\lib\\site-packages (from ocrmypdf) (21.0)\n",
      "Collecting img2pdf<0.5,>=0.3.0\n",
      "  Downloading img2pdf-0.4.3.tar.gz (98 kB)\n",
      "Collecting pikepdf>=4.0.0\n",
      "  Downloading pikepdf-4.4.1-cp39-cp39-win_amd64.whl (3.1 MB)\n",
      "Collecting reportlab>=3.5.66\n",
      "  Downloading reportlab-3.6.6-cp39-cp39-win_amd64.whl (2.3 MB)\n",
      "Requirement already satisfied: tqdm>=4 in c:\\users\\aakas\\anaconda3\\lib\\site-packages (from ocrmypdf) (4.62.3)\n",
      "Requirement already satisfied: pluggy<2,>=0.13.0 in c:\\users\\aakas\\anaconda3\\lib\\site-packages (from ocrmypdf) (0.13.1)\n",
      "Requirement already satisfied: pdfminer.six!=20200720,<=20211012,>=20191110 in c:\\users\\aakas\\anaconda3\\lib\\site-packages (from ocrmypdf) (20211012)\n",
      "Collecting coloredlogs>=14.0\n",
      "  Downloading coloredlogs-15.0.1-py2.py3-none-any.whl (46 kB)\n",
      "Requirement already satisfied: Pillow>=8.2.0 in c:\\users\\aakas\\anaconda3\\lib\\site-packages (from ocrmypdf) (8.4.0)\n",
      "Collecting humanfriendly>=9.1\n",
      "  Downloading humanfriendly-10.0-py2.py3-none-any.whl (86 kB)\n",
      "Collecting pyreadline3\n",
      "  Downloading pyreadline3-3.4.1-py3-none-any.whl (95 kB)\n",
      "Requirement already satisfied: pyparsing>=2.0.2 in c:\\users\\aakas\\anaconda3\\lib\\site-packages (from packaging>=20->ocrmypdf) (3.0.4)\n",
      "Requirement already satisfied: chardet in c:\\users\\aakas\\anaconda3\\lib\\site-packages (from pdfminer.six!=20200720,<=20211012,>=20191110->ocrmypdf) (3.0.4)\n",
      "Requirement already satisfied: cryptography in c:\\users\\aakas\\anaconda3\\lib\\site-packages (from pdfminer.six!=20200720,<=20211012,>=20191110->ocrmypdf) (3.4.8)\n",
      "Requirement already satisfied: lxml>=4.0 in c:\\users\\aakas\\anaconda3\\lib\\site-packages (from pikepdf>=4.0.0->ocrmypdf) (4.6.3)\n",
      "Requirement already satisfied: colorama in c:\\users\\aakas\\anaconda3\\lib\\site-packages (from tqdm>=4->ocrmypdf) (0.4.4)\n",
      "Requirement already satisfied: cffi>=1.12 in c:\\users\\aakas\\anaconda3\\lib\\site-packages (from cryptography->pdfminer.six!=20200720,<=20211012,>=20191110->ocrmypdf) (1.14.6)\n",
      "Requirement already satisfied: pycparser in c:\\users\\aakas\\anaconda3\\lib\\site-packages (from cffi>=1.12->cryptography->pdfminer.six!=20200720,<=20211012,>=20191110->ocrmypdf) (2.20)\n",
      "Building wheels for collected packages: img2pdf\n",
      "  Building wheel for img2pdf (setup.py): started\n",
      "  Building wheel for img2pdf (setup.py): finished with status 'done'\n",
      "  Created wheel for img2pdf: filename=img2pdf-0.4.3-py3-none-any.whl size=43712 sha256=ff4fda72df2741ee4c20b93577bd3a690d630ecd448a8e0f0a82ac4448f10124\n",
      "  Stored in directory: c:\\users\\aakas\\appdata\\local\\pip\\cache\\wheels\\6c\\6a\\11\\b5342ee83b0e5c4f980b54c353a980f25902f4c07be85faeaf\n",
      "Successfully built img2pdf\n",
      "Installing collected packages: pyreadline3, pikepdf, humanfriendly, reportlab, img2pdf, coloredlogs, ocrmypdf\n",
      "Successfully installed coloredlogs-15.0.1 humanfriendly-10.0 img2pdf-0.4.3 ocrmypdf-13.3.0 pikepdf-4.4.1 pyreadline3-3.4.1 reportlab-3.6.6\n"
     ]
    }
   ],
   "source": [
    "!pip install ocrmypdf"
   ]
  },
  {
   "cell_type": "code",
   "execution_count": 7,
   "id": "717c5302",
   "metadata": {
    "ExecuteTime": {
     "end_time": "2022-01-30T15:01:57.709083Z",
     "start_time": "2022-01-30T15:01:57.687925Z"
    }
   },
   "outputs": [],
   "source": [
    "import ocrmypdf\n",
    "import pdfplumber"
   ]
  },
  {
   "cell_type": "code",
   "execution_count": 11,
   "id": "fe60b34d",
   "metadata": {
    "ExecuteTime": {
     "end_time": "2022-01-30T15:02:33.046869Z",
     "start_time": "2022-01-30T15:02:33.021938Z"
    }
   },
   "outputs": [
    {
     "name": "stdout",
     "output_type": "stream",
     "text": [
      "Help on package ocrmypdf:\n",
      "\n",
      "NAME\n",
      "    ocrmypdf\n",
      "\n",
      "DESCRIPTION\n",
      "    # © 2017 James R. Barlow: github.com/jbarlow83\n",
      "    #\n",
      "    # This Source Code Form is subject to the terms of the Mozilla Public\n",
      "    # License, v. 2.0. If a copy of the MPL was not distributed with this\n",
      "    # file, You can obtain one at http://mozilla.org/MPL/2.0/.\n",
      "\n",
      "PACKAGE CONTENTS\n",
      "    __main__\n",
      "    _concurrent\n",
      "    _exec (package)\n",
      "    _graft\n",
      "    _jobcontext\n",
      "    _logging\n",
      "    _pipeline\n",
      "    _plugin_manager\n",
      "    _sync\n",
      "    _validation\n",
      "    _version\n",
      "    api\n",
      "    builtin_plugins (package)\n",
      "    cli\n",
      "    data (package)\n",
      "    exceptions\n",
      "    extra_plugins (package)\n",
      "    helpers\n",
      "    hocrtransform\n",
      "    optimize\n",
      "    pdfa\n",
      "    pdfinfo (package)\n",
      "    pluginspec\n",
      "    quality\n",
      "    subprocess (package)\n",
      "\n",
      "DATA\n",
      "    PROGRAM_NAME = 'ocrmypdf'\n",
      "    hookimpl = <pluggy.hooks.HookimplMarker object>\n",
      "\n",
      "VERSION\n",
      "    13.3.0\n",
      "\n",
      "FILE\n",
      "    c:\\users\\aakas\\anaconda3\\lib\\site-packages\\ocrmypdf\\__init__.py\n",
      "\n",
      "\n"
     ]
    }
   ],
   "source": [
    "help(ocrmypdf)"
   ]
  },
  {
   "cell_type": "code",
   "execution_count": null,
   "id": "2e0148e8",
   "metadata": {},
   "outputs": [],
   "source": []
  }
 ],
 "metadata": {
  "kernelspec": {
   "display_name": "Python 3 (ipykernel)",
   "language": "python",
   "name": "python3"
  },
  "language_info": {
   "codemirror_mode": {
    "name": "ipython",
    "version": 3
   },
   "file_extension": ".py",
   "mimetype": "text/x-python",
   "name": "python",
   "nbconvert_exporter": "python",
   "pygments_lexer": "ipython3",
   "version": "3.9.7"
  },
  "nbTranslate": {
   "displayLangs": [
    "*"
   ],
   "hotkey": "alt-t",
   "langInMainMenu": true,
   "sourceLang": "en",
   "targetLang": "fr",
   "useGoogleTranslate": true
  },
  "varInspector": {
   "cols": {
    "lenName": 16,
    "lenType": 16,
    "lenVar": 40
   },
   "kernels_config": {
    "python": {
     "delete_cmd_postfix": "",
     "delete_cmd_prefix": "del ",
     "library": "var_list.py",
     "varRefreshCmd": "print(var_dic_list())"
    },
    "r": {
     "delete_cmd_postfix": ") ",
     "delete_cmd_prefix": "rm(",
     "library": "var_list.r",
     "varRefreshCmd": "cat(var_dic_list()) "
    }
   },
   "types_to_exclude": [
    "module",
    "function",
    "builtin_function_or_method",
    "instance",
    "_Feature"
   ],
   "window_display": false
  }
 },
 "nbformat": 4,
 "nbformat_minor": 5
}
