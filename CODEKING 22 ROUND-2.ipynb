{
 "cells": [
  {
   "cell_type": "code",
   "execution_count": 3,
   "id": "72605288",
   "metadata": {
    "ExecuteTime": {
     "end_time": "2022-04-11T13:23:01.675813Z",
     "start_time": "2022-04-11T13:22:53.467162Z"
    }
   },
   "outputs": [
    {
     "name": "stdout",
     "output_type": "stream",
     "text": [
      "4 1\n",
      "3943\n"
     ]
    }
   ],
   "source": [
    "# Palindome\n",
    "n=list(map(int,input().split()))\n",
    "p = int(input())"
   ]
  },
  {
   "cell_type": "code",
   "execution_count": 5,
   "id": "380ae65f",
   "metadata": {
    "ExecuteTime": {
     "end_time": "2022-04-11T13:23:16.123206Z",
     "start_time": "2022-04-11T13:23:16.110245Z"
    }
   },
   "outputs": [
    {
     "data": {
      "text/plain": [
       "'3493'"
      ]
     },
     "execution_count": 5,
     "metadata": {},
     "output_type": "execute_result"
    }
   ],
   "source": [
    "str(p)[::-1]"
   ]
  },
  {
   "cell_type": "code",
   "execution_count": 6,
   "id": "778ee853",
   "metadata": {
    "ExecuteTime": {
     "end_time": "2022-04-11T13:25:30.639976Z",
     "start_time": "2022-04-11T13:25:30.622029Z"
    }
   },
   "outputs": [],
   "source": [
    "def next_palin_drome(n):\n",
    "    while True:\n",
    "        n+=1\n",
    "        if str(n) == str(n)[::-1]:\n",
    "            return n "
   ]
  },
  {
   "cell_type": "code",
   "execution_count": 8,
   "id": "8ba06297",
   "metadata": {
    "ExecuteTime": {
     "end_time": "2022-04-11T13:25:40.962999Z",
     "start_time": "2022-04-11T13:25:40.955019Z"
    }
   },
   "outputs": [
    {
     "name": "stdout",
     "output_type": "stream",
     "text": [
      "3993\n"
     ]
    }
   ],
   "source": [
    "x=3943\n",
    "print(next_palin_drome(x))"
   ]
  },
  {
   "cell_type": "code",
   "execution_count": 9,
   "id": "893ad083",
   "metadata": {
    "ExecuteTime": {
     "end_time": "2022-04-11T13:26:50.513921Z",
     "start_time": "2022-04-11T13:26:50.491981Z"
    }
   },
   "outputs": [],
   "source": [
    "def nearest_palindrome(number):\n",
    "    for i in range(1,number):\n",
    "        number=number+1\n",
    "        tem=str(number)\n",
    "        tem1=tem[-1::-1]\n",
    "        if(tem==tem1):\n",
    "            return number\n",
    "        else:\n",
    "            continue"
   ]
  },
  {
   "cell_type": "code",
   "execution_count": 18,
   "id": "3ddef293",
   "metadata": {
    "ExecuteTime": {
     "end_time": "2022-04-11T13:29:28.714327Z",
     "start_time": "2022-04-11T13:29:28.697372Z"
    }
   },
   "outputs": [
    {
     "name": "stdout",
     "output_type": "stream",
     "text": [
      "12621\n"
     ]
    }
   ],
   "source": [
    "x=12521\n",
    "print(nearest_palindrome(x))"
   ]
  },
  {
   "cell_type": "code",
   "execution_count": 19,
   "id": "363a1dc8",
   "metadata": {
    "ExecuteTime": {
     "end_time": "2022-04-11T13:39:41.396305Z",
     "start_time": "2022-04-11T13:39:41.375361Z"
    }
   },
   "outputs": [],
   "source": [
    "def minRange(arr, n, k):\n",
    "    l = 0\n",
    "    r = n\n",
    "    for i in range(n):\n",
    "        s = []\n",
    "        for j in range(i, n) :\n",
    "            s.append(arr[j])\n",
    "            if (len(s) == k):\n",
    "                if ((j - i) < (r - l)) :\n",
    "                    r = j\n",
    "                    l = i\n",
    "                break\n",
    "        if (j == n):\n",
    "            break\n",
    "    if (l == 0 and r == n):\n",
    "        print(\"Invalid k\")\n",
    "    else:\n",
    "        print(l, r)"
   ]
  },
  {
   "cell_type": "code",
   "execution_count": 22,
   "id": "846083df",
   "metadata": {
    "ExecuteTime": {
     "end_time": "2022-04-11T13:40:34.435514Z",
     "start_time": "2022-04-11T13:40:34.423544Z"
    }
   },
   "outputs": [
    {
     "name": "stdout",
     "output_type": "stream",
     "text": [
      "0 1\n"
     ]
    }
   ],
   "source": [
    "if __name__ == \"__main__\":\n",
    "    arr = [ 1, 2, 3, 1, 1 ]\n",
    "    n = len(arr)\n",
    "    k = 2\n",
    "    minRange(arr, n, k)"
   ]
  },
  {
   "cell_type": "code",
   "execution_count": 23,
   "id": "c134bd2c",
   "metadata": {
    "ExecuteTime": {
     "end_time": "2022-04-11T13:52:18.411247Z",
     "start_time": "2022-04-11T13:52:08.415531Z"
    }
   },
   "outputs": [
    {
     "name": "stdout",
     "output_type": "stream",
     "text": [
      "8\n",
      "1\n",
      "2\n",
      "3\n",
      "4\n",
      "5\n",
      "6\n",
      "7\n",
      "10\n"
     ]
    }
   ],
   "source": [
    "# Bricks\n",
    "n = int(input())\n",
    "l = []\n",
    "for i in range(n):\n",
    "    l.append(int(input()))"
   ]
  },
  {
   "cell_type": "code",
   "execution_count": 24,
   "id": "77cc5195",
   "metadata": {
    "ExecuteTime": {
     "end_time": "2022-04-11T13:52:24.330756Z",
     "start_time": "2022-04-11T13:52:24.309779Z"
    }
   },
   "outputs": [
    {
     "data": {
      "text/plain": [
       "[1, 2, 3, 4, 5, 6, 7, 10]"
      ]
     },
     "execution_count": 24,
     "metadata": {},
     "output_type": "execute_result"
    }
   ],
   "source": [
    "l"
   ]
  },
  {
   "cell_type": "code",
   "execution_count": 26,
   "id": "7dc63aa6",
   "metadata": {
    "ExecuteTime": {
     "end_time": "2022-04-11T14:11:37.340228Z",
     "start_time": "2022-04-11T14:11:37.319284Z"
    }
   },
   "outputs": [
    {
     "name": "stdout",
     "output_type": "stream",
     "text": [
      "Second\n",
      "First\n",
      "First\n",
      "First\n"
     ]
    }
   ],
   "source": [
    "for i in range(len(l)):\n",
    "    if l[i] == 1:\n",
    "        print(\"Second\")\n",
    "    elif:\n",
    "        if(l[i]==2 or l[i]==3 or l[i]==5):\n",
    "            print(\"First\")\n",
    "    else:\n",
    "        if(l[i]%2==)"
   ]
  },
  {
   "cell_type": "code",
   "execution_count": null,
   "id": "06667838",
   "metadata": {},
   "outputs": [],
   "source": []
  },
  {
   "cell_type": "code",
   "execution_count": null,
   "id": "9d292127",
   "metadata": {},
   "outputs": [],
   "source": [
    "for x in (0,1,2):\n",
    "    a = sum(s[i-x:i+1])\n",
    "#     b=ps[i-x-1]\n",
    "#     c = tl[i-x-1]\n",
    "#     b = max(a+b-c,b)"
   ]
  }
 ],
 "metadata": {
  "kernelspec": {
   "display_name": "Python 3 (ipykernel)",
   "language": "python",
   "name": "python3"
  },
  "language_info": {
   "codemirror_mode": {
    "name": "ipython",
    "version": 3
   },
   "file_extension": ".py",
   "mimetype": "text/x-python",
   "name": "python",
   "nbconvert_exporter": "python",
   "pygments_lexer": "ipython3",
   "version": "3.9.7"
  },
  "nbTranslate": {
   "displayLangs": [
    "*"
   ],
   "hotkey": "alt-t",
   "langInMainMenu": true,
   "sourceLang": "en",
   "targetLang": "fr",
   "useGoogleTranslate": true
  },
  "varInspector": {
   "cols": {
    "lenName": 16,
    "lenType": 16,
    "lenVar": 40
   },
   "kernels_config": {
    "python": {
     "delete_cmd_postfix": "",
     "delete_cmd_prefix": "del ",
     "library": "var_list.py",
     "varRefreshCmd": "print(var_dic_list())"
    },
    "r": {
     "delete_cmd_postfix": ") ",
     "delete_cmd_prefix": "rm(",
     "library": "var_list.r",
     "varRefreshCmd": "cat(var_dic_list()) "
    }
   },
   "types_to_exclude": [
    "module",
    "function",
    "builtin_function_or_method",
    "instance",
    "_Feature"
   ],
   "window_display": false
  }
 },
 "nbformat": 4,
 "nbformat_minor": 5
}
