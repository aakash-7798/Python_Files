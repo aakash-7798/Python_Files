{
 "cells": [
  {
   "cell_type": "code",
   "execution_count": 126,
   "id": "ab4118c1",
   "metadata": {
    "ExecuteTime": {
     "end_time": "2022-03-18T10:42:15.417361Z",
     "start_time": "2022-03-18T10:42:14.353640Z"
    }
   },
   "outputs": [
    {
     "name": "stdout",
     "output_type": "stream",
     "text": [
      "5\n"
     ]
    }
   ],
   "source": [
    "x = int(input())"
   ]
  },
  {
   "cell_type": "code",
   "execution_count": null,
   "id": "f136a28b",
   "metadata": {},
   "outputs": [],
   "source": [
    "1 2 21 121 212 2121 12121"
   ]
  },
  {
   "cell_type": "code",
   "execution_count": 12,
   "id": "b83167ee",
   "metadata": {
    "ExecuteTime": {
     "end_time": "2022-03-18T14:47:21.577619Z",
     "start_time": "2022-03-18T14:47:19.717680Z"
    }
   },
   "outputs": [
    {
     "name": "stdout",
     "output_type": "stream",
     "text": [
      "1\n"
     ]
    }
   ],
   "source": [
    "l=[]\n",
    "n = int(input())\n",
    "if n==1:\n",
    "    l.append(n)\n",
    "if n==2:\n",
    "    l.append(n)\n",
    "    l"
   ]
  },
  {
   "cell_type": "code",
   "execution_count": 10,
   "id": "7991c039",
   "metadata": {
    "ExecuteTime": {
     "end_time": "2022-03-18T15:32:34.293631Z",
     "start_time": "2022-03-18T15:32:34.278668Z"
    }
   },
   "outputs": [
    {
     "data": {
      "text/plain": [
       "[1, 2, 3, 4, 5, 6, 7]"
      ]
     },
     "execution_count": 10,
     "metadata": {},
     "output_type": "execute_result"
    }
   ],
   "source": [
    "t = [i+1 for i in range(7)]\n",
    "t"
   ]
  },
  {
   "cell_type": "code",
   "execution_count": 16,
   "id": "46133ed6",
   "metadata": {
    "ExecuteTime": {
     "end_time": "2022-03-18T16:11:57.458603Z",
     "start_time": "2022-03-18T16:11:57.438657Z"
    }
   },
   "outputs": [],
   "source": [
    "# All = []\n",
    "# for k in t:\n",
    "#     l=[]\n",
    "#     n = [str(i) for i in range(1,10**k)]\n",
    "#     for i in range(len(n)):\n",
    "#         if '0' not in n[i]:\n",
    "#             sum=0\n",
    "#             for j in range(len(n[i])):\n",
    "#                 sum = sum + int(n[i][j])\n",
    "#             if sum==k:\n",
    "#                 l.append(n[i])\n",
    "#     O = []\n",
    "#     for i in range(len(l)):\n",
    "#         count = 1\n",
    "#         for a, b in zip(l[i], l[i][1:]):\n",
    "#             if a==b:\n",
    "#                 count+=1\n",
    "#         if count<=1:\n",
    "#             O.append(int(l[i]))\n",
    "#     All.append([k,max(O)])\n",
    "# All"
   ]
  },
  {
   "cell_type": "code",
   "execution_count": 16,
   "id": "d0764852",
   "metadata": {
    "ExecuteTime": {
     "end_time": "2022-03-18T14:53:11.205459Z",
     "start_time": "2022-03-18T14:53:11.197482Z"
    }
   },
   "outputs": [],
   "source": [
    "# t  = int(input())\n",
    "# for i in range(t):\n",
    "#     x = int(input())\n",
    "#     if x==1:\n",
    "#         print(1)\n",
    "#     if x==2:\n",
    "#         print(2)\n",
    "#     if x>2:\n",
    "#         l=[]\n",
    "#         n = [str(i) for i in range(1,10**x)]\n",
    "#         for i in range(len(n)):\n",
    "#             if '0' not in n[i] and '1' in n[i] and '2' in n[i]:\n",
    "#                 sum=0\n",
    "#                 for j in range(len(n[i])):\n",
    "#                     sum = sum + int(n[i][j])\n",
    "#                 if sum==x:\n",
    "#                     l.append(n[i])\n",
    "#         O = []\n",
    "#         for i in range(len(l)):\n",
    "#             count = 1\n",
    "#             for a, b in zip(l[i], l[i][1:]):\n",
    "#                 if a==b:\n",
    "#                     count+=1\n",
    "#             if count<=1:\n",
    "#                 O.append(int(l[i]))\n",
    "#         print(max(O))"
   ]
  },
  {
   "cell_type": "code",
   "execution_count": 211,
   "id": "981e31fb",
   "metadata": {
    "ExecuteTime": {
     "end_time": "2022-03-18T11:49:38.723959Z",
     "start_time": "2022-03-18T11:49:24.545291Z"
    }
   },
   "outputs": [
    {
     "name": "stdout",
     "output_type": "stream",
     "text": [
      "7\n",
      "12121\n"
     ]
    }
   ],
   "source": [
    "# l=[]\n",
    "# x = int(input())\n",
    "# if x==1:\n",
    "#     print(x)\n",
    "# if x==2:\n",
    "#     print(x)\n",
    "# else:\n",
    "#     n = [str(i) for i in range(1,10**x)]\n",
    "#     for i in range(len(n)):\n",
    "#         if '0' not in n[i] and '1' in n[i] and '2' in n[i]:\n",
    "#             sum=0\n",
    "#             for j in range(len(n[i])):\n",
    "#                 sum = sum + int(n[i][j])\n",
    "#             if sum==x:\n",
    "#                 l.append(n[i])\n",
    "#     O = []\n",
    "#     for i in range(len(l)):\n",
    "#         count = 1\n",
    "#         for a, b in zip(l[i], l[i][1:]):\n",
    "#             if a==b:\n",
    "#                 count+=1\n",
    "#         if count<=1:\n",
    "#             O.append(int(l[i]))\n",
    "#     print(max(O))"
   ]
  },
  {
   "cell_type": "code",
   "execution_count": 194,
   "id": "1a275e5c",
   "metadata": {
    "ExecuteTime": {
     "end_time": "2022-03-18T11:27:48.171548Z",
     "start_time": "2022-03-18T11:27:21.560658Z"
    }
   },
   "outputs": [
    {
     "name": "stdout",
     "output_type": "stream",
     "text": [
      "7\n"
     ]
    },
    {
     "data": {
      "text/plain": [
       "12121"
      ]
     },
     "execution_count": 194,
     "metadata": {},
     "output_type": "execute_result"
    }
   ],
   "source": [
    "# l=[]\n",
    "# x = int(input())\n",
    "# n = [str(i) for i in range(1,10**x)]\n",
    "# for i in range(len(n)):\n",
    "#     if '0' not in n[i]:\n",
    "#         sum=0\n",
    "#         for j in range(len(n[i])):\n",
    "#             sum = sum + int(n[i][j])\n",
    "#         if sum==x:\n",
    "#             l.append(n[i])\n",
    "# O = []\n",
    "# for i in range(len(l)):\n",
    "#     count = 1\n",
    "#     for a, b in zip(l[i], l[i][1:]):\n",
    "#         if a==b:\n",
    "#             count+=1\n",
    "#     if count<=1:\n",
    "#         O.append(int(l[i]))\n",
    "# max(O)"
   ]
  },
  {
   "cell_type": "code",
   "execution_count": 212,
   "id": "ce167e70",
   "metadata": {
    "ExecuteTime": {
     "end_time": "2022-03-18T11:50:06.044627Z",
     "start_time": "2022-03-18T11:50:06.031665Z"
    }
   },
   "outputs": [],
   "source": [
    "# t  = int(input())\n",
    "# for i in range(t):\n",
    "#     l=[]\n",
    "#     x = int(input())\n",
    "#     n = [str(i) for i in range(1,10**x)]\n",
    "#     for i in range(len(n)):\n",
    "#         if '0' not in n[i]:\n",
    "#             sum=0\n",
    "#         for j in range(len(n[i])):\n",
    "#             sum = sum + int(n[i][j])\n",
    "#         if sum==x:\n",
    "#             l.append(n[i])\n",
    "#     O = []\n",
    "#     for i in range(len(l)):\n",
    "#         count = 1\n",
    "#         for a, b in zip(l[i], l[i][1:]):\n",
    "#             if a==b:\n",
    "#                 count+=1\n",
    "#         if count<=1:\n",
    "#             O.append(int(l[i]))\n",
    "#     print(max(O))"
   ]
  },
  {
   "cell_type": "code",
   "execution_count": 188,
   "id": "f7c4433c",
   "metadata": {
    "ExecuteTime": {
     "end_time": "2022-03-18T11:12:12.941251Z",
     "start_time": "2022-03-18T11:12:12.931280Z"
    }
   },
   "outputs": [],
   "source": [
    "# O = []\n",
    "# for i in range(len(l)):\n",
    "#     count = 1\n",
    "#     for a, b in zip(l[i], l[i][1:]):\n",
    "#         if a==b:\n",
    "#             count+=1\n",
    "#     if count<=1:\n",
    "#         O.append(int(l[i]))\n",
    "# #         print(l[i],count)\n",
    "# max(O)"
   ]
  },
  {
   "cell_type": "code",
   "execution_count": 189,
   "id": "c6f9be55",
   "metadata": {
    "ExecuteTime": {
     "end_time": "2022-03-18T11:12:21.389113Z",
     "start_time": "2022-03-18T11:12:21.384128Z"
    }
   },
   "outputs": [],
   "source": [
    "# counts = []\n",
    "# count = 1\n",
    "# for a, b in zip(l[-1], l[-1][1:]):\n",
    "#     if a==b:\n",
    "#         count += 1\n",
    "#     else:\n",
    "#         counts.append((a, count))\n",
    "#         count = 1"
   ]
  },
  {
   "cell_type": "code",
   "execution_count": null,
   "id": "f95ed87f",
   "metadata": {},
   "outputs": [],
   "source": []
  },
  {
   "cell_type": "code",
   "execution_count": null,
   "id": "871718c3",
   "metadata": {},
   "outputs": [],
   "source": []
  }
 ],
 "metadata": {
  "kernelspec": {
   "display_name": "Python 3 (ipykernel)",
   "language": "python",
   "name": "python3"
  },
  "language_info": {
   "codemirror_mode": {
    "name": "ipython",
    "version": 3
   },
   "file_extension": ".py",
   "mimetype": "text/x-python",
   "name": "python",
   "nbconvert_exporter": "python",
   "pygments_lexer": "ipython3",
   "version": "3.9.7"
  },
  "nbTranslate": {
   "displayLangs": [
    "*"
   ],
   "hotkey": "alt-t",
   "langInMainMenu": true,
   "sourceLang": "en",
   "targetLang": "fr",
   "useGoogleTranslate": true
  },
  "varInspector": {
   "cols": {
    "lenName": 16,
    "lenType": 16,
    "lenVar": 40
   },
   "kernels_config": {
    "python": {
     "delete_cmd_postfix": "",
     "delete_cmd_prefix": "del ",
     "library": "var_list.py",
     "varRefreshCmd": "print(var_dic_list())"
    },
    "r": {
     "delete_cmd_postfix": ") ",
     "delete_cmd_prefix": "rm(",
     "library": "var_list.r",
     "varRefreshCmd": "cat(var_dic_list()) "
    }
   },
   "types_to_exclude": [
    "module",
    "function",
    "builtin_function_or_method",
    "instance",
    "_Feature"
   ],
   "window_display": false
  }
 },
 "nbformat": 4,
 "nbformat_minor": 5
}
