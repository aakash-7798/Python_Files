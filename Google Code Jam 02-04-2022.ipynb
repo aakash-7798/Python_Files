{
 "cells": [
  {
   "cell_type": "code",
   "execution_count": null,
   "id": "6762e90e",
   "metadata": {},
   "outputs": [],
   "source": [
    "3\n",
    "3 4\n",
    "2 2\n",
    "2 3"
   ]
  },
  {
   "cell_type": "code",
   "execution_count": 141,
   "id": "8ff63ae1",
   "metadata": {
    "ExecuteTime": {
     "end_time": "2022-04-02T12:37:50.374710Z",
     "start_time": "2022-04-02T12:37:50.356758Z"
    }
   },
   "outputs": [],
   "source": [
    "# ## Punching Cards\n",
    "# n = int(input())\n",
    "# l=[]\n",
    "# for i in range(n):\n",
    "#     l.append(list(map(int,input().split())))\n",
    "# l"
   ]
  },
  {
   "cell_type": "code",
   "execution_count": 142,
   "id": "5a08d89a",
   "metadata": {
    "ExecuteTime": {
     "end_time": "2022-04-02T12:37:53.008185Z",
     "start_time": "2022-04-02T12:37:52.991200Z"
    }
   },
   "outputs": [],
   "source": [
    "# plus = []\n",
    "# pipes = []\n",
    "# periods =[]\n",
    "# dashes = []\n",
    "# for i in range(len(l)):\n",
    "#     plus.append(l[i][1]+((l[i][1]+1)*l[i][0]))\n",
    "#     pipes.append( (l[i][1] + ((l[i][1]+1)*(l[i][0]-1))))\n",
    "#     periods.append((l[i][0]*l[i][1])+3)\n",
    "#     dashes.append((l[i][1]-1) + (l[i][1]*l[i][0]))"
   ]
  },
  {
   "cell_type": "code",
   "execution_count": 143,
   "id": "827504bf",
   "metadata": {
    "ExecuteTime": {
     "end_time": "2022-04-02T12:37:59.231236Z",
     "start_time": "2022-04-02T12:37:59.223258Z"
    }
   },
   "outputs": [],
   "source": [
    "# print(dashes)"
   ]
  },
  {
   "cell_type": "code",
   "execution_count": 144,
   "id": "88baecc8",
   "metadata": {
    "ExecuteTime": {
     "end_time": "2022-04-02T12:38:03.065819Z",
     "start_time": "2022-04-02T12:38:03.050307Z"
    }
   },
   "outputs": [],
   "source": [
    "# a = [['.','.','+','-','+','-'],['.','.','|','.','|','.'],['+','-','+','-','+','-'],['.','.','|','.','|','.'],['+','-','+','-','+','-']]\n",
    "# for i in range(len(a)):\n",
    "#     print(''.join(a[i])) "
   ]
  },
  {
   "cell_type": "code",
   "execution_count": 145,
   "id": "d212d5ed",
   "metadata": {
    "ExecuteTime": {
     "end_time": "2022-04-02T12:38:06.467270Z",
     "start_time": "2022-04-02T12:38:06.455303Z"
    }
   },
   "outputs": [],
   "source": [
    "# for i in range(l[0][0] * 2 +1):\n",
    "#     for j in range(l[0][1] * 2 +1):\n",
    "#         print(i+1,j+1)"
   ]
  },
  {
   "cell_type": "code",
   "execution_count": 146,
   "id": "7210491a",
   "metadata": {
    "ExecuteTime": {
     "end_time": "2022-04-02T12:38:11.695642Z",
     "start_time": "2022-04-02T12:38:11.681683Z"
    }
   },
   "outputs": [],
   "source": [
    "# b = []\n",
    "# for i in range(l[0][0] * 2 +1):\n",
    "#     b.append([])\n",
    "# b"
   ]
  },
  {
   "cell_type": "code",
   "execution_count": 147,
   "id": "98a1bfeb",
   "metadata": {
    "ExecuteTime": {
     "end_time": "2022-04-02T12:38:16.482574Z",
     "start_time": "2022-04-02T12:38:16.464594Z"
    }
   },
   "outputs": [],
   "source": [
    "# for i in range((l[0][0] * 2) +1):\n",
    "#     if (i+1)%2==1:\n",
    "#         for j in range((l[0][1] * 2) +1):\n",
    "#             if (i+1)==1 and (j+1)==1:\n",
    "#                 b[i].append('.')\n",
    "#             elif (i+1)==1 and (j+1)==2:\n",
    "#                 b[i].append('.')\n",
    "#             else:\n",
    "#                 if (j+1) % 2 == 1:\n",
    "#                     b[i].append('+')\n",
    "#                 elif (j+1) % 2 == 0:\n",
    "#                     b[i].append('-')\n",
    "#     elif (i+1)%2==0:\n",
    "#         for j in range(l[0][1] * 2 +1):\n",
    "#             if (i+1)==2 and j+1==1:\n",
    "#                 b[i].append('.')\n",
    "#             elif (i+1)==2 and j+1==2:\n",
    "#                 b[i].append('.')\n",
    "#             else:\n",
    "#                 if (j+1) % 2 == 1:\n",
    "#                     b[i].append('|')\n",
    "#                 elif (j+1) % 2 == 0:\n",
    "#                     b[i].append('.')"
   ]
  },
  {
   "cell_type": "code",
   "execution_count": 148,
   "id": "4d4c24cd",
   "metadata": {
    "ExecuteTime": {
     "end_time": "2022-04-02T12:38:22.542489Z",
     "start_time": "2022-04-02T12:38:22.528527Z"
    }
   },
   "outputs": [],
   "source": [
    "# for i in range(len(b)):\n",
    "#     print(''.join(b[i])) "
   ]
  },
  {
   "cell_type": "code",
   "execution_count": 139,
   "id": "1ff12c70",
   "metadata": {
    "ExecuteTime": {
     "end_time": "2022-04-02T12:09:16.252827Z",
     "start_time": "2022-04-02T12:09:16.243819Z"
    }
   },
   "outputs": [],
   "source": [
    "# for k in range(len(l)):\n",
    "#     b = []\n",
    "#     for i in range((l[k][0] * 2) +1):\n",
    "#         b.append([])\n",
    "#     for i in range((l[k][0] * 2) +1):\n",
    "#         if (i+1)%2==1:\n",
    "#             for j in range((l[k][1] * 2) +1):\n",
    "#                 if (i+1)==1 and (j+1)==1:\n",
    "#                     b[i].append('.')\n",
    "#                 elif (i+1)==1 and (j+1)==2:\n",
    "#                     b[i].append('.')\n",
    "#                 else:\n",
    "#                     if (j+1) % 2 == 1:\n",
    "#                         b[i].append('+')\n",
    "#                     elif (j+1) % 2 == 0:\n",
    "#                         b[i].append('-')\n",
    "#         elif (i+1)%2==0:\n",
    "#             for j in range((l[k][1] * 2) +1):\n",
    "#                 if (i+1)==2 and j+1==1:\n",
    "#                     b[i].append('.')\n",
    "#                 elif (i+1)==2 and j+1==2:\n",
    "#                     b[i].append('.')\n",
    "#                 else:\n",
    "#                     if (j+1) % 2 == 1:\n",
    "#                         b[i].append('|')\n",
    "#                     elif (j+1) % 2 == 0:\n",
    "#                         b[i].append('.')\n",
    "#     print(f'Case #{k+1}:')\n",
    "#     for i in range(len(b)):\n",
    "#         print(''.join(b[i])) "
   ]
  },
  {
   "cell_type": "code",
   "execution_count": 149,
   "id": "f83dacb2",
   "metadata": {
    "ExecuteTime": {
     "end_time": "2022-04-02T12:38:32.096229Z",
     "start_time": "2022-04-02T12:38:32.088250Z"
    }
   },
   "outputs": [],
   "source": [
    "# b = []\n",
    "# for i in range(l[0][0] * 2 +1):\n",
    "#     b.append([])\n",
    "# for i in range((l[2][0] * 2) +1):\n",
    "#     if (i+1)%2==1:\n",
    "#         for j in range((l[2][1] * 2) +1):\n",
    "#             if (i+1)==1 and (j+1)==1:\n",
    "#                 b[i].append('.')\n",
    "#             elif (i+1)==1 and (j+1)==2:\n",
    "#                 b[i].append('.')\n",
    "#             else:\n",
    "#                 if (j+1) % 2 == 1:\n",
    "#                     b[i].append('+')\n",
    "#                 elif (j+1) % 2 == 0:\n",
    "#                     b[i].append('-')\n",
    "#     elif (i+1)%2==0:\n",
    "#         for j in range(l[2][1] * 2 +1):\n",
    "#             if (i+1)==2 and j+1==1:\n",
    "#                 b[i].append('.')\n",
    "#             elif (i+1)==2 and j+1==2:\n",
    "#                 b[i].append('.')\n",
    "#             else:\n",
    "#                 if (j+1) % 2 == 1:\n",
    "#                     b[i].append('|')\n",
    "#                 elif (j+1) % 2 == 0:\n",
    "#                     b[i].append('.')\n",
    "# for i in range(len(b)):\n",
    "#     print(''.join(b[i])) "
   ]
  },
  {
   "cell_type": "code",
   "execution_count": 150,
   "id": "be4ea628",
   "metadata": {
    "ExecuteTime": {
     "end_time": "2022-04-02T12:38:36.946270Z",
     "start_time": "2022-04-02T12:38:36.932274Z"
    }
   },
   "outputs": [],
   "source": [
    "# for i in range((l[0][0] *2)  +1):\n",
    "#     print(i)\n"
   ]
  },
  {
   "cell_type": "code",
   "execution_count": 151,
   "id": "ab63d127",
   "metadata": {
    "ExecuteTime": {
     "end_time": "2022-04-02T12:38:42.511153Z",
     "start_time": "2022-04-02T12:38:42.498185Z"
    }
   },
   "outputs": [],
   "source": [
    "# p=[]\n",
    "# q=[]\n",
    "# r=[]\n",
    "# s=[]\n",
    "# for i in range((l[0][0] * 2) +1):\n",
    "#     if (i+1)%2==1:\n",
    "#         for j in range((l[0][1] * 2) +1):\n",
    "#             if (j+1) % 2 == 1:\n",
    "#                 p.append((i+1,j+1))\n",
    "#             elif (j+1) % 2 == 0:\n",
    "#                 q.append((i+1,j+1))\n",
    "#     elif (i+1)%2==0:\n",
    "#         for j in range(l[0][1] * 2 +1):\n",
    "#             if (j+1) % 2 == 1:\n",
    "#                 r.append((i+1,j+1))\n",
    "#             elif (j+1) % 2 == 0:\n",
    "#                 s.append((i+1,j+1))"
   ]
  },
  {
   "cell_type": "code",
   "execution_count": null,
   "id": "dc043cc9",
   "metadata": {},
   "outputs": [],
   "source": [
    "3\n",
    "3 4\n",
    "2 2\n",
    "2 3"
   ]
  },
  {
   "cell_type": "code",
   "execution_count": 2,
   "id": "b1a070af",
   "metadata": {
    "ExecuteTime": {
     "end_time": "2022-04-05T14:01:48.664104Z",
     "start_time": "2022-04-05T14:01:38.423222Z"
    }
   },
   "outputs": [
    {
     "name": "stdout",
     "output_type": "stream",
     "text": [
      "4\n",
      "2 3\n",
      "3 4\n",
      "4 5\n",
      "5 8\n",
      "Case #1:\n",
      "..+-+-+\n",
      "..|.|.|\n",
      "+-+-+-+\n",
      "|.|.|.|\n",
      "+-+-+-+\n",
      "Case #2:\n",
      "..+-+-+-+\n",
      "..|.|.|.|\n",
      "+-+-+-+-+\n",
      "|.|.|.|.|\n",
      "+-+-+-+-+\n",
      "|.|.|.|.|\n",
      "+-+-+-+-+\n",
      "Case #3:\n",
      "..+-+-+-+-+\n",
      "..|.|.|.|.|\n",
      "+-+-+-+-+-+\n",
      "|.|.|.|.|.|\n",
      "+-+-+-+-+-+\n",
      "|.|.|.|.|.|\n",
      "+-+-+-+-+-+\n",
      "|.|.|.|.|.|\n",
      "+-+-+-+-+-+\n",
      "Case #4:\n",
      "..+-+-+-+-+-+-+-+\n",
      "..|.|.|.|.|.|.|.|\n",
      "+-+-+-+-+-+-+-+-+\n",
      "|.|.|.|.|.|.|.|.|\n",
      "+-+-+-+-+-+-+-+-+\n",
      "|.|.|.|.|.|.|.|.|\n",
      "+-+-+-+-+-+-+-+-+\n",
      "|.|.|.|.|.|.|.|.|\n",
      "+-+-+-+-+-+-+-+-+\n",
      "|.|.|.|.|.|.|.|.|\n",
      "+-+-+-+-+-+-+-+-+\n"
     ]
    }
   ],
   "source": [
    "# ## Punching Cards\n",
    "n = int(input())\n",
    "l=[]\n",
    "for i in range(n):\n",
    "    l.append(list(map(int,input().split())))\n",
    "for k in range(len(l)):\n",
    "    b = []\n",
    "    for i in range((l[k][0] * 2) +1):\n",
    "        b.append([])\n",
    "    for i in range((l[k][0] * 2) +1):\n",
    "        if (i+1)%2==1:\n",
    "            for j in range((l[k][1] * 2) +1):\n",
    "                if (i+1)==1 and (j+1)==1:\n",
    "                    b[i].append('.')\n",
    "                elif (i+1)==1 and (j+1)==2:\n",
    "                    b[i].append('.')\n",
    "                else:\n",
    "                    if (j+1) % 2 == 1:\n",
    "                        b[i].append('+')\n",
    "                    elif (j+1) % 2 == 0:\n",
    "                        b[i].append('-')\n",
    "        elif (i+1)%2==0:\n",
    "            for j in range((l[k][1] * 2) +1):\n",
    "                if (i+1)==2 and j+1==1:\n",
    "                    b[i].append('.')\n",
    "                elif (i+1)==2 and j+1==2:\n",
    "                    b[i].append('.')\n",
    "                else:\n",
    "                    if (j+1) % 2 == 1:\n",
    "                        b[i].append('|')\n",
    "                    elif (j+1) % 2 == 0:\n",
    "                        b[i].append('.')\n",
    "    print(f'Case #{k+1}:')\n",
    "    for i in range(len(b)):\n",
    "        print(''.join(b[i])) "
   ]
  },
  {
   "cell_type": "code",
   "execution_count": null,
   "id": "297adf6d",
   "metadata": {},
   "outputs": [],
   "source": [
    "3\n",
    "300000 200000 300000 500000\n",
    "300000 200000 500000 300000\n",
    "300000 500000 300000 200000\n",
    "1000000 1000000 0 0\n",
    "0 1000000 1000000 1000000\n",
    "999999 999999 999999 999999\n",
    "768763 148041 178147 984173\n",
    "699508 515362 534729 714381\n",
    "949704 625054 946212 951187"
   ]
  },
  {
   "cell_type": "code",
   "execution_count": 160,
   "id": "c211dab0",
   "metadata": {
    "ExecuteTime": {
     "end_time": "2022-04-02T13:50:26.644120Z",
     "start_time": "2022-04-02T13:49:10.543321Z"
    }
   },
   "outputs": [
    {
     "name": "stdout",
     "output_type": "stream",
     "text": [
      "3\n",
      "300000 200000 300000 500000\n",
      "300000 200000 500000 300000\n",
      "300000 500000 300000 200000\n",
      "1000000 1000000 0 0\n",
      "0 1000000 1000000 1000000\n",
      "999999 999999 999999 999999\n",
      "768763 148041 178147 984173\n",
      "699508 515362 534729 714381\n",
      "949704 625054 946212 951187\n"
     ]
    },
    {
     "data": {
      "text/plain": [
       "[[[300000, 200000, 300000, 500000],\n",
       "  [300000, 200000, 500000, 300000],\n",
       "  [300000, 500000, 300000, 200000]],\n",
       " [[1000000, 1000000, 0, 0],\n",
       "  [0, 1000000, 1000000, 1000000],\n",
       "  [999999, 999999, 999999, 999999]],\n",
       " [[768763, 148041, 178147, 984173],\n",
       "  [699508, 515362, 534729, 714381],\n",
       "  [949704, 625054, 946212, 951187]]]"
      ]
     },
     "execution_count": 160,
     "metadata": {},
     "output_type": "execute_result"
    }
   ],
   "source": [
    "# ## 3D Printing\n",
    "n = int(input())\n",
    "c = []\n",
    "for i in range(n):\n",
    "    c.append([]*n)\n",
    "    for j in range(n):\n",
    "        c[i].append(list(map(int,input().split())))\n",
    "c        "
   ]
  },
  {
   "cell_type": "code",
   "execution_count": null,
   "id": "8137d23b",
   "metadata": {},
   "outputs": [],
   "source": [
    "3\n",
    "300000 200000 300000 500000\n",
    "300000 200000 300000 500000\n",
    "300000 500000 300000 200000\n",
    "1000000 1000000 0 0\n",
    "0 1000000 1000000 1000000\n",
    "999999 999999 999999 999999\n",
    "768763 148041 178147 984173\n",
    "699508 515362 534729 714381\n",
    "949704 625054 946212 951187"
   ]
  },
  {
   "cell_type": "code",
   "execution_count": 487,
   "id": "22d3c7dc",
   "metadata": {
    "ExecuteTime": {
     "end_time": "2022-04-02T17:37:33.909896Z",
     "start_time": "2022-04-02T17:36:08.319924Z"
    }
   },
   "outputs": [
    {
     "name": "stdout",
     "output_type": "stream",
     "text": [
      "3\n",
      "300000 200000 300000 500000\n",
      "300000 200000 300000 500000\n",
      "300000 500000 300000 200000\n",
      "1000000 1000000 0 0\n",
      "0 1000000 1000000 1000000\n",
      "999999 999999 999999 999999\n",
      "768763 148041 178147 984173\n",
      "699508 515362 534729 714381\n",
      "949704 625054 946212 951187\n"
     ]
    },
    {
     "data": {
      "text/plain": [
       "[['Case #1:', 300000, 200000, 300000, 200000],\n",
       " ['Case #2:', 'IMPOSSIBLE'],\n",
       " ['Case #3:', 0, 107472, 178147, 714381]]"
      ]
     },
     "execution_count": 487,
     "metadata": {},
     "output_type": "execute_result"
    }
   ],
   "source": [
    "n = int(input())\n",
    "c = []\n",
    "for i in range(n):\n",
    "    c.append([]*n)\n",
    "    for j in range(n):\n",
    "        c[i].append(list(map(int,input().split())))\n",
    "O = []\n",
    "for i in range(len(c)):\n",
    "    O.append([])\n",
    "    O[i].append((f'Case #{i+1}:'))\n",
    "    for j in range(4):\n",
    "        O[i].append(min(c[i][0][j],c[i][1][j],c[i][2][j]))\n",
    "    e = O[i][1:]\n",
    "    d = sum(e)-1000000\n",
    "    if d>=0:\n",
    "        for k in range(len(e)):\n",
    "            if e[k]>=d:\n",
    "                e[k] = e[k]-d\n",
    "                break\n",
    "            else:\n",
    "                d=d-e[k]\n",
    "                e[k] =e[k]-e[k]\n",
    "                continue\n",
    "        O[i][1:] = e\n",
    "    else:\n",
    "        O[i][1:] = ([\"IMPOSSIBLE\"])\n",
    "O\n",
    "# for i in range(len(O)):\n",
    "#     for j in range(len(O[i])):\n",
    "#         print(O[i][j],'',end='')\n",
    "#     print('\\n')"
   ]
  },
  {
   "cell_type": "code",
   "execution_count": 490,
   "id": "546cb1e5",
   "metadata": {
    "ExecuteTime": {
     "end_time": "2022-04-02T17:38:55.032608Z",
     "start_time": "2022-04-02T17:38:55.009668Z"
    }
   },
   "outputs": [
    {
     "data": {
      "text/plain": [
       "[['Case #1:',\n",
       "  300000,\n",
       "  200000,\n",
       "  300000,\n",
       "  200000,\n",
       "  'Case #1:',\n",
       "  300000,\n",
       "  200000,\n",
       "  300000,\n",
       "  200000,\n",
       "  'Case #1:',\n",
       "  300000,\n",
       "  200000,\n",
       "  300000,\n",
       "  200000],\n",
       " ['Case #2:', 'IMPOSSIBLE'],\n",
       " ['Case #3:', 0, 107472, 178147, 714381],\n",
       " [],\n",
       " []]"
      ]
     },
     "execution_count": 490,
     "metadata": {},
     "output_type": "execute_result"
    }
   ],
   "source": [
    "O"
   ]
  },
  {
   "cell_type": "code",
   "execution_count": 526,
   "id": "de632825",
   "metadata": {
    "ExecuteTime": {
     "end_time": "2022-04-02T18:03:48.198861Z",
     "start_time": "2022-04-02T18:03:48.181901Z"
    }
   },
   "outputs": [
    {
     "name": "stdout",
     "output_type": "stream",
     "text": [
      "Case #1: 300000 200000 300000 200000\n",
      "Case #2: IMPOSSIBLE\n",
      "Case #3: 0 107472 178147 714381\n"
     ]
    }
   ],
   "source": [
    "O=[]\n",
    "for i in range(len(c)):\n",
    "    O.append([])\n",
    "    O[i].append((f'Case #{i+1}:'))\n",
    "    for j in range(4):\n",
    "        O[i].append(min(c[i][0][j],c[i][1][j],c[i][2][j]))\n",
    "    e = O[i][1:]\n",
    "    d = sum(e)-1000000\n",
    "    if d>=0:\n",
    "        for k in range(len(e)):\n",
    "            if e[k]>=d:\n",
    "                e[k] = e[k]-d\n",
    "                break\n",
    "            else:\n",
    "                d=d-e[k]\n",
    "                e[k] =e[k]-e[k]\n",
    "                continue\n",
    "        O[i][1:] = e\n",
    "    else:\n",
    "        O[i][1:] = ([\"IMPOSSIBLE\"])\n",
    "O\n",
    "for i in range(len(O)):\n",
    "    if O[i][1]==\"IMPOSSIBLE\":\n",
    "        print('{} {}'.format(*O[i]))\n",
    "        continue\n",
    "    print('{} {} {} {} {}'.format(*O[i]))"
   ]
  },
  {
   "cell_type": "code",
   "execution_count": 516,
   "id": "8848233e",
   "metadata": {
    "ExecuteTime": {
     "end_time": "2022-04-02T17:52:21.203765Z",
     "start_time": "2022-04-02T17:52:21.184817Z"
    }
   },
   "outputs": [
    {
     "name": "stdout",
     "output_type": "stream",
     "text": [
      "300000 200000 300000 200000\n"
     ]
    }
   ],
   "source": [
    "print('{} {} {} {}'.format(*O[0][1:]))"
   ]
  },
  {
   "cell_type": "code",
   "execution_count": 506,
   "id": "7b51dd28",
   "metadata": {
    "ExecuteTime": {
     "end_time": "2022-04-02T17:45:26.315357Z",
     "start_time": "2022-04-02T17:45:26.269474Z"
    }
   },
   "outputs": [
    {
     "ename": "NameError",
     "evalue": "name 'Case' is not defined",
     "output_type": "error",
     "traceback": [
      "\u001b[1;31m---------------------------------------------------------------------------\u001b[0m",
      "\u001b[1;31mNameError\u001b[0m                                 Traceback (most recent call last)",
      "\u001b[1;32m~\\AppData\\Local\\Temp/ipykernel_10480/3261482858.py\u001b[0m in \u001b[0;36m<module>\u001b[1;34m\u001b[0m\n\u001b[1;32m----> 1\u001b[1;33m \u001b[0mCase\u001b[0m \u001b[1;31m#1: 300000 200000 300000 200000\u001b[0m\u001b[1;33m\u001b[0m\u001b[1;33m\u001b[0m\u001b[0m\n\u001b[0m\u001b[0;32m      2\u001b[0m \u001b[0mCase\u001b[0m \u001b[1;31m#2: IMPOSSIBLE\u001b[0m\u001b[1;33m\u001b[0m\u001b[1;33m\u001b[0m\u001b[0m\n\u001b[0;32m      3\u001b[0m \u001b[0mCase\u001b[0m \u001b[1;31m#3: 400001 100002 100003 399994\u001b[0m\u001b[1;33m\u001b[0m\u001b[1;33m\u001b[0m\u001b[0m\n",
      "\u001b[1;31mNameError\u001b[0m: name 'Case' is not defined"
     ]
    }
   ],
   "source": [
    "Case #1: 300000 200000 300000 200000\n",
    "Case #2: IMPOSSIBLE\n",
    "Case #3: 400001 100002 100003 399994"
   ]
  },
  {
   "cell_type": "code",
   "execution_count": 481,
   "id": "dd860d85",
   "metadata": {
    "ExecuteTime": {
     "end_time": "2022-04-02T17:29:06.510535Z",
     "start_time": "2022-04-02T17:29:06.483567Z"
    }
   },
   "outputs": [
    {
     "data": {
      "text/plain": [
       "[0, 107472, 178147, 714381]"
      ]
     },
     "execution_count": 481,
     "metadata": {},
     "output_type": "execute_result"
    }
   ],
   "source": [
    "e = O[2][1:]\n",
    "f = []\n",
    "d = sum(e)-1000000\n",
    "if d>=0:\n",
    "    for i in range(len(e)):\n",
    "        if e[i]>=d:\n",
    "            e[i] = e[i]-d\n",
    "            break\n",
    "        else:\n",
    "            d=d-e[i]\n",
    "            e[i] = e[i]-e[i]\n",
    "            continue\n",
    "else:\n",
    "    print(\"IMPOSSIBLE\")\n",
    "e"
   ]
  },
  {
   "cell_type": "code",
   "execution_count": 478,
   "id": "f46a8386",
   "metadata": {
    "ExecuteTime": {
     "end_time": "2022-04-02T17:28:47.732576Z",
     "start_time": "2022-04-02T17:28:47.712624Z"
    }
   },
   "outputs": [
    {
     "data": {
      "text/plain": [
       "[300000, 200000, 300000, 200000]"
      ]
     },
     "execution_count": 478,
     "metadata": {},
     "output_type": "execute_result"
    }
   ],
   "source": [
    "O[0][1:]"
   ]
  },
  {
   "cell_type": "code",
   "execution_count": 475,
   "id": "810a0579",
   "metadata": {
    "ExecuteTime": {
     "end_time": "2022-04-02T17:27:49.908676Z",
     "start_time": "2022-04-02T17:27:49.879752Z"
    }
   },
   "outputs": [
    {
     "data": {
      "text/plain": [
       "['IMPOSSIBLE']"
      ]
     },
     "execution_count": 475,
     "metadata": {},
     "output_type": "execute_result"
    }
   ],
   "source": [
    "e"
   ]
  },
  {
   "cell_type": "code",
   "execution_count": 433,
   "id": "bdc56176",
   "metadata": {
    "ExecuteTime": {
     "end_time": "2022-04-02T17:08:48.525689Z",
     "start_time": "2022-04-02T17:08:48.506708Z"
    }
   },
   "outputs": [
    {
     "data": {
      "text/plain": [
       "[300000, 200000, 300000, 200000]"
      ]
     },
     "execution_count": 433,
     "metadata": {},
     "output_type": "execute_result"
    }
   ],
   "source": [
    "O[0]"
   ]
  },
  {
   "cell_type": "code",
   "execution_count": 421,
   "id": "8a9c54b2",
   "metadata": {
    "ExecuteTime": {
     "end_time": "2022-04-02T16:58:29.964334Z",
     "start_time": "2022-04-02T16:58:29.921445Z"
    }
   },
   "outputs": [
    {
     "data": {
      "text/plain": [
       "[['Case #1:', 300000, 200000, 300000, 200000],\n",
       " ['Case #2:', 0, 999999, 0, 0],\n",
       " ['Case #3:', 699508, 148041, 178147, 714381]]"
      ]
     },
     "execution_count": 421,
     "metadata": {},
     "output_type": "execute_result"
    }
   ],
   "source": [
    "O = []\n",
    "for i in range(len(c)):\n",
    "    O.append([])\n",
    "    O[i].append((f'Case #{i+1}:'))\n",
    "    for j in range(4):\n",
    "        O[i].append(min(c[i][0][j],c[i][1][j],c[i][2][j]))\n",
    "O"
   ]
  },
  {
   "cell_type": "code",
   "execution_count": 225,
   "id": "e169787d",
   "metadata": {
    "ExecuteTime": {
     "end_time": "2022-04-02T14:32:48.324521Z",
     "start_time": "2022-04-02T14:32:48.311556Z"
    }
   },
   "outputs": [
    {
     "name": "stdout",
     "output_type": "stream",
     "text": [
      "Case #1: 300000 200000 300000 200000 \n",
      "\n",
      "Case #2: 0 999999 0 0 \n",
      "\n",
      "Case #3: 699508 148041 178147 714381 \n",
      "\n"
     ]
    }
   ],
   "source": [
    "for i in range(len(O)):\n",
    "    for j in range(len(O[i])):\n",
    "        print(O[i][j],'',end='')\n",
    "    print('\\n')"
   ]
  },
  {
   "cell_type": "code",
   "execution_count": 226,
   "id": "f1d2bf47",
   "metadata": {
    "ExecuteTime": {
     "end_time": "2022-04-02T14:35:58.939774Z",
     "start_time": "2022-04-02T14:35:58.922820Z"
    }
   },
   "outputs": [],
   "source": [
    "# for i in range(len(O)):\n",
    "#     print(f\"Case #{i+1}:\")\n",
    "#     for j in range(len(O[i])):\n",
    "#         print(O[i][j],'',end='')\n",
    "#     print('\\n')"
   ]
  },
  {
   "cell_type": "code",
   "execution_count": 231,
   "id": "40e1be69",
   "metadata": {
    "ExecuteTime": {
     "end_time": "2022-04-02T14:38:27.281657Z",
     "start_time": "2022-04-02T14:38:27.265701Z"
    }
   },
   "outputs": [],
   "source": [
    "# from itertools import combinations\n",
    "\n",
    "# for comb in combinations(range(148041,714381),4):\n",
    "#     if sum(comb) == 1000000:\n",
    "#         print(comb)"
   ]
  },
  {
   "cell_type": "code",
   "execution_count": 283,
   "id": "688a8649",
   "metadata": {
    "ExecuteTime": {
     "end_time": "2022-04-02T15:18:31.979467Z",
     "start_time": "2022-04-02T15:18:31.973485Z"
    }
   },
   "outputs": [],
   "source": [
    "e= O[2][1:]\n",
    "d = sum(O[2][1:])-1000000"
   ]
  },
  {
   "cell_type": "code",
   "execution_count": 473,
   "id": "71a895b7",
   "metadata": {
    "ExecuteTime": {
     "end_time": "2022-04-02T17:27:30.099663Z",
     "start_time": "2022-04-02T17:27:30.066724Z"
    }
   },
   "outputs": [
    {
     "data": {
      "text/plain": [
       "[0, 0, 0, 0]"
      ]
     },
     "execution_count": 473,
     "metadata": {},
     "output_type": "execute_result"
    }
   ],
   "source": [
    "e= O[2][1:]\n",
    "d = sum(O[2][1:])-1000000\n",
    "for i in range(len(e)):\n",
    "    if e[i]<d:\n",
    "        e[i] = e[i]-e[i]\n",
    "        d = d-e[i]\n",
    "    if e[i]>=d:\n",
    "        e[i] = e[i]-d\n",
    "        d = e[i]-d\n",
    "        break\n",
    "e"
   ]
  },
  {
   "cell_type": "code",
   "execution_count": 329,
   "id": "ced27fc9",
   "metadata": {
    "ExecuteTime": {
     "end_time": "2022-04-02T16:16:36.355974Z",
     "start_time": "2022-04-02T16:16:36.340016Z"
    }
   },
   "outputs": [
    {
     "data": {
      "text/plain": [
       "[699508, 148041, 178147, 714381]"
      ]
     },
     "execution_count": 329,
     "metadata": {},
     "output_type": "execute_result"
    }
   ],
   "source": [
    "e= O[2][1:]\n",
    "e"
   ]
  },
  {
   "cell_type": "code",
   "execution_count": 353,
   "id": "6e890d6d",
   "metadata": {
    "ExecuteTime": {
     "end_time": "2022-04-02T16:28:07.038644Z",
     "start_time": "2022-04-02T16:28:07.016666Z"
    }
   },
   "outputs": [
    {
     "data": {
      "text/plain": [
       "1000000"
      ]
     },
     "execution_count": 353,
     "metadata": {},
     "output_type": "execute_result"
    }
   ],
   "source": [
    "(e[0] -(((sum(O[2][1:])-1000000) -e[1]) - e[2]))+e[3]"
   ]
  },
  {
   "cell_type": "code",
   "execution_count": 373,
   "id": "e00d739c",
   "metadata": {
    "ExecuteTime": {
     "end_time": "2022-04-02T16:38:50.454843Z",
     "start_time": "2022-04-02T16:38:50.445867Z"
    }
   },
   "outputs": [],
   "source": [
    "# e= [699508,148041,178147,714381]\n",
    "# sum = 0\n",
    "# for i in range(len(e)):\n",
    "#     sum = sum + e[i]\n",
    "    \n",
    "# d = sum-1000000\n",
    "\n",
    "# if d >= 0:\n",
    "#     for i in range(len(e)):\n",
    "#         if(e[i] >= d):\n",
    "#             e[i] = e[i] - d\n",
    "#             break\n",
    "#         else:\n",
    "#             d = d - e[i]\n",
    "#             e[i] = 0\n",
    "#             continue\n",
    "    \n",
    "#     for i in range(len(e)):\n",
    "#         print(e[i])\n",
    "#         print(\" \")\n",
    "# else:\n",
    "#     print(\"IMPOSSIBLE\")"
   ]
  },
  {
   "cell_type": "code",
   "execution_count": 365,
   "id": "bbf6d515",
   "metadata": {
    "ExecuteTime": {
     "end_time": "2022-04-02T16:35:41.174381Z",
     "start_time": "2022-04-02T16:35:41.157396Z"
    }
   },
   "outputs": [
    {
     "data": {
      "text/plain": [
       "1000000"
      ]
     },
     "execution_count": 365,
     "metadata": {},
     "output_type": "execute_result"
    }
   ],
   "source": [
    "107472+178147+714381"
   ]
  },
  {
   "cell_type": "code",
   "execution_count": 370,
   "id": "43dcf3e8",
   "metadata": {
    "ExecuteTime": {
     "end_time": "2022-04-02T16:38:32.145317Z",
     "start_time": "2022-04-02T16:38:32.134346Z"
    }
   },
   "outputs": [
    {
     "data": {
      "text/plain": [
       "[148041, 178147, 699508, 714381]"
      ]
     },
     "execution_count": 370,
     "metadata": {},
     "output_type": "execute_result"
    }
   ],
   "source": [
    "e= sorted(O[2][1:])\n",
    "e"
   ]
  },
  {
   "cell_type": "code",
   "execution_count": 383,
   "id": "25becfe9",
   "metadata": {
    "ExecuteTime": {
     "end_time": "2022-04-02T16:40:56.456590Z",
     "start_time": "2022-04-02T16:40:56.436630Z"
    }
   },
   "outputs": [
    {
     "data": {
      "text/plain": [
       "1740077"
      ]
     },
     "execution_count": 383,
     "metadata": {},
     "output_type": "execute_result"
    }
   ],
   "source": [
    "sum(O[2][1:])\n",
    "# del(sum)"
   ]
  },
  {
   "cell_type": "code",
   "execution_count": 398,
   "id": "c4f1a4de",
   "metadata": {
    "ExecuteTime": {
     "end_time": "2022-04-02T16:46:49.522424Z",
     "start_time": "2022-04-02T16:46:49.507430Z"
    }
   },
   "outputs": [
    {
     "name": "stdout",
     "output_type": "stream",
     "text": [
      "0\n",
      " \n",
      "0\n",
      " \n",
      "285619\n",
      " \n",
      "714381\n",
      " \n"
     ]
    }
   ],
   "source": [
    "e = [699508, 515362, 534729, 714381]  \n",
    "d = sum(e)-1000000\n",
    "if d >= 0:\n",
    "    for i in range(len(e)):\n",
    "        if(e[i] >= d):\n",
    "            e[i] = e[i] - d\n",
    "            break\n",
    "        else:\n",
    "            d = d - e[i]\n",
    "            e[i] = 0\n",
    "            continue\n",
    "    \n",
    "    for i in range(len(e)):\n",
    "        print(e[i])\n",
    "        print(\" \")\n",
    "else:\n",
    "    print(\"IMPOSSIBLE\")"
   ]
  },
  {
   "cell_type": "code",
   "execution_count": 417,
   "id": "d98d160d",
   "metadata": {
    "ExecuteTime": {
     "end_time": "2022-04-02T16:57:33.560555Z",
     "start_time": "2022-04-02T16:57:33.543568Z"
    }
   },
   "outputs": [
    {
     "name": "stdout",
     "output_type": "stream",
     "text": [
      "0\n",
      " \n",
      "0\n",
      " \n",
      "285619\n",
      " \n",
      "714381\n",
      " \n"
     ]
    }
   ],
   "source": [
    "e = [699508, 515362, 534729, 714381]  \n",
    "d = sum(e)-1000000\n",
    "if d >= 0:\n",
    "    for i in range(len(e)):\n",
    "        if(e[i] >= d):\n",
    "            e[i] = e[i] - d\n",
    "            break\n",
    "        else:\n",
    "            d = d - e[i]\n",
    "            e[i] = 0\n",
    "            continue\n",
    "    \n",
    "    for i in range(len(e)):\n",
    "        print(e[i])\n",
    "        print(\" \")\n",
    "else:\n",
    "    print(\"IMPOSSIBLE\")"
   ]
  },
  {
   "cell_type": "code",
   "execution_count": 418,
   "id": "c4d1ce20",
   "metadata": {
    "ExecuteTime": {
     "end_time": "2022-04-02T16:57:38.316654Z",
     "start_time": "2022-04-02T16:57:38.302691Z"
    }
   },
   "outputs": [
    {
     "data": {
      "text/plain": [
       "1000000"
      ]
     },
     "execution_count": 418,
     "metadata": {},
     "output_type": "execute_result"
    }
   ],
   "source": [
    "e = O[2][1:]\n",
    "# e=sorted(e)\n",
    "# e= sorted(O[2][1:])\n",
    "f = []\n",
    "d = sum(e)-1000000\n",
    "if d>=0:\n",
    "    for i in range(len(e)):\n",
    "        if e[i]>=d:\n",
    "            e[i] = e[i]-d\n",
    "            break\n",
    "        else:\n",
    "            d=d-e[i]\n",
    "            e[i] = e[i]-e[i]\n",
    "            continue\n",
    "else:\n",
    "    print(\"IMPOSSIBLE\")\n",
    "sum(e)"
   ]
  },
  {
   "cell_type": "code",
   "execution_count": 393,
   "id": "186e6527",
   "metadata": {
    "ExecuteTime": {
     "end_time": "2022-04-02T16:43:23.220857Z",
     "start_time": "2022-04-02T16:43:23.201907Z"
    }
   },
   "outputs": [
    {
     "data": {
      "text/plain": [
       "[0, 0, 285619]"
      ]
     },
     "execution_count": 393,
     "metadata": {},
     "output_type": "execute_result"
    }
   ],
   "source": [
    "f"
   ]
  },
  {
   "cell_type": "code",
   "execution_count": 330,
   "id": "34bbdfc7",
   "metadata": {
    "ExecuteTime": {
     "end_time": "2022-04-02T16:16:40.292824Z",
     "start_time": "2022-04-02T16:16:40.277864Z"
    }
   },
   "outputs": [
    {
     "data": {
      "text/plain": [
       "[0, 148041, 178147, 714381]"
      ]
     },
     "execution_count": 330,
     "metadata": {},
     "output_type": "execute_result"
    }
   ],
   "source": [
    "e[0] = e[0]-e[0]\n",
    "e"
   ]
  },
  {
   "cell_type": "code",
   "execution_count": 307,
   "id": "45ada300",
   "metadata": {
    "ExecuteTime": {
     "end_time": "2022-04-02T15:46:32.470954Z",
     "start_time": "2022-04-02T15:46:32.445022Z"
    }
   },
   "outputs": [
    {
     "name": "stdout",
     "output_type": "stream",
     "text": [
      "699508\n",
      "740077 - 699508 =  40569\n",
      "148041\n",
      "148041 - 40569 =  107472\n",
      "178147\n",
      "178147 - 107472 =  70675\n",
      "714381\n",
      "714381 - 70675 =  643706\n"
     ]
    }
   ],
   "source": [
    "f = []\n",
    "e= O[2][1:]\n",
    "d = int(sum(O[2][1:])-1000000)\n",
    "for i in range(len(e)):\n",
    "    if e[i]<d:\n",
    "        print(e[i])\n",
    "        print(f'{d} - {e[i]} = ',d-e[i])\n",
    "        d = d-e[i]\n",
    "    elif e[i]>d:\n",
    "        print(e[i])\n",
    "        print(f'{e[i]} - {d} = ',e[i]-d)\n",
    "        d = e[i]-d"
   ]
  },
  {
   "cell_type": "code",
   "execution_count": 275,
   "id": "0bde622c",
   "metadata": {
    "ExecuteTime": {
     "end_time": "2022-04-02T15:17:09.099087Z",
     "start_time": "2022-04-02T15:17:09.070159Z"
    }
   },
   "outputs": [
    {
     "data": {
      "text/plain": [
       "[699508, 148041, 178147, 714381]"
      ]
     },
     "execution_count": 275,
     "metadata": {},
     "output_type": "execute_result"
    }
   ],
   "source": [
    "e= O[2][1:]\n",
    "e"
   ]
  },
  {
   "cell_type": "code",
   "execution_count": 276,
   "id": "5f17c1d1",
   "metadata": {
    "ExecuteTime": {
     "end_time": "2022-04-02T15:17:11.347251Z",
     "start_time": "2022-04-02T15:17:11.327268Z"
    }
   },
   "outputs": [
    {
     "data": {
      "text/plain": [
       "[0, 148041, 178147, 714381]"
      ]
     },
     "execution_count": 276,
     "metadata": {},
     "output_type": "execute_result"
    }
   ],
   "source": [
    "e[0]=e[0]-e[0]\n",
    "e"
   ]
  },
  {
   "cell_type": "code",
   "execution_count": 278,
   "id": "a9ed9ba8",
   "metadata": {
    "ExecuteTime": {
     "end_time": "2022-04-02T15:17:28.204613Z",
     "start_time": "2022-04-02T15:17:28.182671Z"
    }
   },
   "outputs": [
    {
     "data": {
      "text/plain": [
       "[0, 0, 178147, 714381]"
      ]
     },
     "execution_count": 278,
     "metadata": {},
     "output_type": "execute_result"
    }
   ],
   "source": [
    "e[1] = e[1]-e[1]\n",
    "e"
   ]
  },
  {
   "cell_type": "code",
   "execution_count": 270,
   "id": "6a7bc734",
   "metadata": {
    "ExecuteTime": {
     "end_time": "2022-04-02T15:16:00.247827Z",
     "start_time": "2022-04-02T15:16:00.230871Z"
    }
   },
   "outputs": [
    {
     "data": {
      "text/plain": [
       "[123, 148041, 178147, 714381]"
      ]
     },
     "execution_count": 270,
     "metadata": {},
     "output_type": "execute_result"
    }
   ],
   "source": [
    "e[0]"
   ]
  },
  {
   "cell_type": "code",
   "execution_count": null,
   "id": "20bd4d28",
   "metadata": {},
   "outputs": [],
   "source": []
  }
 ],
 "metadata": {
  "kernelspec": {
   "display_name": "Python 3 (ipykernel)",
   "language": "python",
   "name": "python3"
  },
  "language_info": {
   "codemirror_mode": {
    "name": "ipython",
    "version": 3
   },
   "file_extension": ".py",
   "mimetype": "text/x-python",
   "name": "python",
   "nbconvert_exporter": "python",
   "pygments_lexer": "ipython3",
   "version": "3.9.7"
  },
  "nbTranslate": {
   "displayLangs": [
    "*"
   ],
   "hotkey": "alt-t",
   "langInMainMenu": true,
   "sourceLang": "en",
   "targetLang": "fr",
   "useGoogleTranslate": true
  },
  "varInspector": {
   "cols": {
    "lenName": 16,
    "lenType": 16,
    "lenVar": 40
   },
   "kernels_config": {
    "python": {
     "delete_cmd_postfix": "",
     "delete_cmd_prefix": "del ",
     "library": "var_list.py",
     "varRefreshCmd": "print(var_dic_list())"
    },
    "r": {
     "delete_cmd_postfix": ") ",
     "delete_cmd_prefix": "rm(",
     "library": "var_list.r",
     "varRefreshCmd": "cat(var_dic_list()) "
    }
   },
   "types_to_exclude": [
    "module",
    "function",
    "builtin_function_or_method",
    "instance",
    "_Feature"
   ],
   "window_display": false
  }
 },
 "nbformat": 4,
 "nbformat_minor": 5
}
