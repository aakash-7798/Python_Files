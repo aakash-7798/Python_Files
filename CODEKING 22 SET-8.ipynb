{
 "cells": [
  {
   "cell_type": "code",
   "execution_count": 8,
   "id": "0bdecb4f",
   "metadata": {
    "ExecuteTime": {
     "end_time": "2022-04-08T12:59:51.838457Z",
     "start_time": "2022-04-08T12:59:51.822391Z"
    }
   },
   "outputs": [],
   "source": [
    "def findTrailingZeros(n):\n",
    "    if(n < 0):\n",
    "        return -1\n",
    "    count = 0\n",
    "    while(n >= 5):\n",
    "        n //= 5\n",
    "        count += n\n",
    "    return count"
   ]
  },
  {
   "cell_type": "code",
   "execution_count": 41,
   "id": "dcf6e545",
   "metadata": {
    "ExecuteTime": {
     "end_time": "2022-04-08T13:59:47.137736Z",
     "start_time": "2022-04-08T13:59:47.130757Z"
    }
   },
   "outputs": [
    {
     "data": {
      "text/plain": [
       "11"
      ]
     },
     "execution_count": 41,
     "metadata": {},
     "output_type": "execute_result"
    }
   ],
   "source": [
    "57//5"
   ]
  },
  {
   "cell_type": "code",
   "execution_count": 23,
   "id": "67ab1485",
   "metadata": {
    "ExecuteTime": {
     "end_time": "2022-04-08T13:50:18.335392Z",
     "start_time": "2022-04-08T13:50:18.320430Z"
    }
   },
   "outputs": [
    {
     "name": "stdout",
     "output_type": "stream",
     "text": [
      "2\n"
     ]
    }
   ],
   "source": [
    "print(findTrailingZeros(12))"
   ]
  },
  {
   "cell_type": "code",
   "execution_count": 16,
   "id": "d7b19755",
   "metadata": {
    "ExecuteTime": {
     "end_time": "2022-04-08T13:03:58.084829Z",
     "start_time": "2022-04-08T13:03:58.064882Z"
    }
   },
   "outputs": [],
   "source": [
    "def fact(n):\n",
    "    if(n<=0):\n",
    "        return 1\n",
    "    else:\n",
    "        return n*fact(n-1)"
   ]
  },
  {
   "cell_type": "code",
   "execution_count": 51,
   "id": "baa69367",
   "metadata": {
    "ExecuteTime": {
     "end_time": "2022-04-08T14:06:13.054709Z",
     "start_time": "2022-04-08T14:06:13.036757Z"
    }
   },
   "outputs": [
    {
     "data": {
      "text/plain": [
       "13"
      ]
     },
     "execution_count": 51,
     "metadata": {},
     "output_type": "execute_result"
    }
   ],
   "source": [
    "t=[]\n",
    "for i in str(fact(57))[::-1]:\n",
    "    if i == '0':\n",
    "        t.append(i)\n",
    "    else:\n",
    "        break\n",
    "print(len(t))"
   ]
  },
  {
   "cell_type": "code",
   "execution_count": 61,
   "id": "35bb030d",
   "metadata": {
    "ExecuteTime": {
     "end_time": "2022-04-08T14:11:00.483849Z",
     "start_time": "2022-04-08T14:10:59.365904Z"
    }
   },
   "outputs": [
    {
     "name": "stdout",
     "output_type": "stream",
     "text": [
      "20\n",
      "2432902008176640000\n"
     ]
    }
   ],
   "source": [
    "n = int(input())\n",
    "f=1\n",
    "for i in range(1,n+1):\n",
    "    f = f*i\n",
    "print(f)"
   ]
  },
  {
   "cell_type": "code",
   "execution_count": 69,
   "id": "aa3d79ef",
   "metadata": {
    "ExecuteTime": {
     "end_time": "2022-04-08T14:31:00.498916Z",
     "start_time": "2022-04-08T14:30:57.910185Z"
    }
   },
   "outputs": [
    {
     "name": "stdout",
     "output_type": "stream",
     "text": [
      "10\n",
      "2\n"
     ]
    }
   ],
   "source": [
    "n = int(input())\n",
    "f=1\n",
    "for i in range(1,n+1):\n",
    "    f = f*i\n",
    "t=[]\n",
    "for i in str(f)[::-1]:\n",
    "    if i == '0':\n",
    "        t.append(i)\n",
    "    else:\n",
    "        break\n",
    "print(len(t))"
   ]
  },
  {
   "cell_type": "code",
   "execution_count": 82,
   "id": "e37ca57f",
   "metadata": {
    "ExecuteTime": {
     "end_time": "2022-04-08T14:35:22.744395Z",
     "start_time": "2022-04-08T14:35:22.729437Z"
    }
   },
   "outputs": [
    {
     "name": "stdout",
     "output_type": "stream",
     "text": [
      "0\n",
      "0\n",
      "0\n",
      "0\n",
      "0\n",
      "0\n",
      "0\n",
      "0\n",
      "0\n",
      "0\n",
      "0\n",
      "0\n",
      "0\n"
     ]
    }
   ],
   "source": [
    "for i in str(fact(57))[::-1]:\n",
    "    if i=='0':\n",
    "        print(i)\n",
    "    else:\n",
    "        break"
   ]
  },
  {
   "cell_type": "code",
   "execution_count": 81,
   "id": "4a8970f7",
   "metadata": {
    "ExecuteTime": {
     "end_time": "2022-04-08T14:34:42.675262Z",
     "start_time": "2022-04-08T14:34:42.665287Z"
    }
   },
   "outputs": [
    {
     "name": "stdout",
     "output_type": "stream",
     "text": [
      "8\n"
     ]
    }
   ],
   "source": [
    "if '0' in str(fact(57))[::-1]:\n",
    "    print()"
   ]
  },
  {
   "cell_type": "code",
   "execution_count": 83,
   "id": "db9e8749",
   "metadata": {
    "ExecuteTime": {
     "end_time": "2022-04-08T14:52:31.053547Z",
     "start_time": "2022-04-08T14:52:31.042576Z"
    }
   },
   "outputs": [
    {
     "data": {
      "text/plain": [
       "265252859812191058636308480000000"
      ]
     },
     "execution_count": 83,
     "metadata": {},
     "output_type": "execute_result"
    }
   ],
   "source": [
    "fact(30)"
   ]
  },
  {
   "cell_type": "code",
   "execution_count": null,
   "id": "843fff2e",
   "metadata": {},
   "outputs": [],
   "source": []
  },
  {
   "cell_type": "code",
   "execution_count": 22,
   "id": "b047f576",
   "metadata": {
    "ExecuteTime": {
     "end_time": "2022-04-08T13:50:06.420906Z",
     "start_time": "2022-04-08T13:50:06.400471Z"
    }
   },
   "outputs": [
    {
     "data": {
      "text/plain": [
       "479001600"
      ]
     },
     "execution_count": 22,
     "metadata": {},
     "output_type": "execute_result"
    }
   ],
   "source": [
    "x = fact(12)\n",
    "x"
   ]
  },
  {
   "cell_type": "code",
   "execution_count": 33,
   "id": "3e7fa242",
   "metadata": {
    "ExecuteTime": {
     "end_time": "2022-04-08T13:53:42.553073Z",
     "start_time": "2022-04-08T13:53:42.530135Z"
    }
   },
   "outputs": [
    {
     "data": {
      "text/plain": [
       "'4790016'"
      ]
     },
     "execution_count": 33,
     "metadata": {},
     "output_type": "execute_result"
    }
   ],
   "source": [
    "str(x)[0:-(12//5)]"
   ]
  },
  {
   "cell_type": "code",
   "execution_count": 34,
   "id": "a009a6fd",
   "metadata": {
    "ExecuteTime": {
     "end_time": "2022-04-08T13:55:01.602324Z",
     "start_time": "2022-04-08T13:54:59.974016Z"
    }
   },
   "outputs": [
    {
     "name": "stdout",
     "output_type": "stream",
     "text": [
      "57\n",
      "11\n"
     ]
    }
   ],
   "source": [
    "n = int(input())\n",
    "if n<=0:\n",
    "    print(1)\n",
    "else:\n",
    "    print(n//5)"
   ]
  },
  {
   "cell_type": "code",
   "execution_count": 40,
   "id": "0cb80e59",
   "metadata": {
    "ExecuteTime": {
     "end_time": "2022-04-08T13:59:05.547280Z",
     "start_time": "2022-04-08T13:59:05.526337Z"
    }
   },
   "outputs": [
    {
     "name": "stdout",
     "output_type": "stream",
     "text": [
      "13\n"
     ]
    }
   ],
   "source": [
    "x=57\n",
    "i=0\n",
    "while(x>=5):\n",
    "    x=x//5\n",
    "    i=i+x\n",
    "print(i)"
   ]
  },
  {
   "cell_type": "code",
   "execution_count": 43,
   "id": "7e4fcb70",
   "metadata": {
    "ExecuteTime": {
     "end_time": "2022-04-08T14:01:35.349173Z",
     "start_time": "2022-04-08T14:01:35.336207Z"
    }
   },
   "outputs": [
    {
     "data": {
      "text/plain": [
       "40526919504877216755680601905432322134980384796226602145184481280000000000000"
      ]
     },
     "execution_count": 43,
     "metadata": {},
     "output_type": "execute_result"
    }
   ],
   "source": [
    "x = fact(57)\n",
    "x"
   ]
  },
  {
   "cell_type": "code",
   "execution_count": 45,
   "id": "8c88740b",
   "metadata": {
    "ExecuteTime": {
     "end_time": "2022-04-08T14:01:47.560542Z",
     "start_time": "2022-04-08T14:01:47.551566Z"
    }
   },
   "outputs": [
    {
     "data": {
      "text/plain": [
       "'00000000000008218448154120662269748308943122323450910608655761277840591962504'"
      ]
     },
     "execution_count": 45,
     "metadata": {},
     "output_type": "execute_result"
    }
   ],
   "source": [
    "str(x)[::-1]"
   ]
  },
  {
   "cell_type": "code",
   "execution_count": 25,
   "id": "355d939e",
   "metadata": {
    "ExecuteTime": {
     "end_time": "2022-04-08T15:33:44.018354Z",
     "start_time": "2022-04-08T15:33:41.689916Z"
    }
   },
   "outputs": [
    {
     "name": "stdout",
     "output_type": "stream",
     "text": [
      "Enter Number : 100\n",
      "20\n"
     ]
    }
   ],
   "source": [
    "p = int(input(\"Enter Number : \"))\n",
    "if p<5:\n",
    "    print(\"No Trialing Zeros ...\")\n",
    "else:\n",
    "    if(p%5==0):\n",
    "        print(p//5)\n",
    "    else:\n",
    "        print((p//5)+(p%5))"
   ]
  },
  {
   "cell_type": "code",
   "execution_count": 9,
   "id": "b5068d2d",
   "metadata": {
    "ExecuteTime": {
     "end_time": "2022-04-08T15:28:22.887964Z",
     "start_time": "2022-04-08T15:28:22.878987Z"
    }
   },
   "outputs": [
    {
     "data": {
      "text/plain": [
       "11"
      ]
     },
     "execution_count": 9,
     "metadata": {},
     "output_type": "execute_result"
    }
   ],
   "source": [
    "57//5"
   ]
  },
  {
   "cell_type": "code",
   "execution_count": 15,
   "id": "4f4dd791",
   "metadata": {
    "ExecuteTime": {
     "end_time": "2022-04-08T15:31:12.490212Z",
     "start_time": "2022-04-08T15:31:12.476250Z"
    }
   },
   "outputs": [
    {
     "data": {
      "text/plain": [
       "2"
      ]
     },
     "execution_count": 15,
     "metadata": {},
     "output_type": "execute_result"
    }
   ],
   "source": [
    "57%5"
   ]
  },
  {
   "cell_type": "code",
   "execution_count": null,
   "id": "f05e46ef",
   "metadata": {},
   "outputs": [],
   "source": []
  }
 ],
 "metadata": {
  "kernelspec": {
   "display_name": "Python 3 (ipykernel)",
   "language": "python",
   "name": "python3"
  },
  "language_info": {
   "codemirror_mode": {
    "name": "ipython",
    "version": 3
   },
   "file_extension": ".py",
   "mimetype": "text/x-python",
   "name": "python",
   "nbconvert_exporter": "python",
   "pygments_lexer": "ipython3",
   "version": "3.9.7"
  },
  "nbTranslate": {
   "displayLangs": [
    "*"
   ],
   "hotkey": "alt-t",
   "langInMainMenu": true,
   "sourceLang": "en",
   "targetLang": "fr",
   "useGoogleTranslate": true
  },
  "varInspector": {
   "cols": {
    "lenName": 16,
    "lenType": 16,
    "lenVar": 40
   },
   "kernels_config": {
    "python": {
     "delete_cmd_postfix": "",
     "delete_cmd_prefix": "del ",
     "library": "var_list.py",
     "varRefreshCmd": "print(var_dic_list())"
    },
    "r": {
     "delete_cmd_postfix": ") ",
     "delete_cmd_prefix": "rm(",
     "library": "var_list.r",
     "varRefreshCmd": "cat(var_dic_list()) "
    }
   },
   "types_to_exclude": [
    "module",
    "function",
    "builtin_function_or_method",
    "instance",
    "_Feature"
   ],
   "window_display": false
  }
 },
 "nbformat": 4,
 "nbformat_minor": 5
}
