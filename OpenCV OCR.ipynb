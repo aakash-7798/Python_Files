{
 "cells": [
  {
   "cell_type": "code",
   "execution_count": 9,
   "id": "4102c3d6",
   "metadata": {
    "ExecuteTime": {
     "end_time": "2022-01-30T07:38:45.569049Z",
     "start_time": "2022-01-30T07:38:45.548126Z"
    }
   },
   "outputs": [],
   "source": [
    "# importing modules\n",
    "import cv2\n",
    "import pytesseract\n",
    "pytesseract.pytesseract.tesseract_cmd=r\"C:\\Program Files\\Tesseract-OCR\\tesseract.exe\""
   ]
  },
  {
   "cell_type": "code",
   "execution_count": 10,
   "id": "9f301381",
   "metadata": {
    "ExecuteTime": {
     "end_time": "2022-01-30T07:38:46.567244Z",
     "start_time": "2022-01-30T07:38:46.521501Z"
    }
   },
   "outputs": [],
   "source": [
    "# reading image using opencv\n",
    "image = cv2.imread('D:\\\\Aakash Nadupalli\\\\MCA\\\\MCA 2021 NOTES\\\\OOPS_Page2.jpg')\n",
    "# image = cv2.imread('GST_Login_captcha.png')"
   ]
  },
  {
   "cell_type": "code",
   "execution_count": 41,
   "id": "f7d976d7",
   "metadata": {
    "ExecuteTime": {
     "end_time": "2022-01-30T07:25:13.528569Z",
     "start_time": "2022-01-30T07:25:13.517599Z"
    }
   },
   "outputs": [
    {
     "data": {
      "text/plain": [
       "array([[ 51,  51,  51, ...,  52,  51,  51],\n",
       "       [ 10,  52,  53, ..., 192,  38,   0],\n",
       "       [ 13,  65,  66, ..., 237,  47,   0],\n",
       "       ...,\n",
       "       [ 13,  63,  64, ..., 204,  40,   0],\n",
       "       [  0,   0,   0, ...,   0,   0,   0],\n",
       "       [ 51,  51,  51, ...,  51,  51,  51]], dtype=uint8)"
      ]
     },
     "execution_count": 41,
     "metadata": {},
     "output_type": "execute_result"
    }
   ],
   "source": [
    "#converting image into gray scale image\n",
    "gray_image = cv2.cvtColor(image, cv2.COLOR_BGR2GRAY)\n",
    "gray_image"
   ]
  },
  {
   "cell_type": "code",
   "execution_count": 42,
   "id": "3e4b5138",
   "metadata": {
    "ExecuteTime": {
     "end_time": "2022-01-30T07:25:17.459396Z",
     "start_time": "2022-01-30T07:25:17.448427Z"
    }
   },
   "outputs": [
    {
     "data": {
      "text/plain": [
       "array([[  0,   0,   0, ...,   0,   0,   0],\n",
       "       [  0,   0,   0, ..., 255,   0,   0],\n",
       "       [  0,   0,   0, ..., 255,   0,   0],\n",
       "       ...,\n",
       "       [  0,   0,   0, ..., 255,   0,   0],\n",
       "       [  0,   0,   0, ...,   0,   0,   0],\n",
       "       [  0,   0,   0, ...,   0,   0,   0]], dtype=uint8)"
      ]
     },
     "execution_count": 42,
     "metadata": {},
     "output_type": "execute_result"
    }
   ],
   "source": [
    "# converting it to binary image by Thresholding\n",
    "# this step is require if you have colored image because if you skip this part\n",
    "# then tesseract won't able to detect text correctly and this will give incorrect result\n",
    "threshold_img = cv2.threshold(gray_image,0, 255, cv2.THRESH_BINARY | cv2.THRESH_OTSU)[1]\n",
    "threshold_img"
   ]
  },
  {
   "cell_type": "code",
   "execution_count": 43,
   "id": "8af797ae",
   "metadata": {
    "ExecuteTime": {
     "end_time": "2022-01-30T07:25:54.297225Z",
     "start_time": "2022-01-30T07:25:21.478068Z"
    }
   },
   "outputs": [],
   "source": [
    "# display image\n",
    "cv2.imshow('threshold image', threshold_img)\n",
    "# Maintain output window until user presses a key\n",
    "cv2.waitKey(0)\n",
    "# Destroying present windows on screen\n",
    "cv2.destroyAllWindows()"
   ]
  },
  {
   "cell_type": "code",
   "execution_count": 12,
   "id": "479c3c96",
   "metadata": {
    "ExecuteTime": {
     "end_time": "2022-01-30T07:40:01.742868Z",
     "start_time": "2022-01-30T07:40:01.716858Z"
    }
   },
   "outputs": [
    {
     "ename": "NameError",
     "evalue": "name 'custom_config' is not defined",
     "output_type": "error",
     "traceback": [
      "\u001b[1;31m---------------------------------------------------------------------------\u001b[0m",
      "\u001b[1;31mNameError\u001b[0m                                 Traceback (most recent call last)",
      "\u001b[1;32m~\\AppData\\Local\\Temp/ipykernel_16300/1927072896.py\u001b[0m in \u001b[0;36m<module>\u001b[1;34m\u001b[0m\n\u001b[0;32m      6\u001b[0m \u001b[1;31m# now feeding image to tesseract\u001b[0m\u001b[1;33m\u001b[0m\u001b[1;33m\u001b[0m\u001b[0m\n\u001b[0;32m      7\u001b[0m \u001b[1;33m\u001b[0m\u001b[0m\n\u001b[1;32m----> 8\u001b[1;33m \u001b[0mdetails\u001b[0m \u001b[1;33m=\u001b[0m \u001b[0mpytesseract\u001b[0m\u001b[1;33m.\u001b[0m\u001b[0mimage_to_data\u001b[0m\u001b[1;33m(\u001b[0m\u001b[0mimage\u001b[0m\u001b[1;33m,\u001b[0m\u001b[0mconfig\u001b[0m\u001b[1;33m=\u001b[0m\u001b[0mcustom_config\u001b[0m\u001b[1;33m,\u001b[0m\u001b[0mlang\u001b[0m \u001b[1;33m=\u001b[0m \u001b[1;34m'eng'\u001b[0m\u001b[1;33m)\u001b[0m\u001b[1;33m\u001b[0m\u001b[1;33m\u001b[0m\u001b[0m\n\u001b[0m\u001b[0;32m      9\u001b[0m \u001b[0mdetails\u001b[0m\u001b[1;33m\u001b[0m\u001b[1;33m\u001b[0m\u001b[0m\n",
      "\u001b[1;31mNameError\u001b[0m: name 'custom_config' is not defined"
     ]
    }
   ],
   "source": [
    "#configuring parameters for tesseract\n",
    "\n",
    "# custom_config = r'--oem 3 --psm 6'\n",
    "# custom_config = ('-l eng --oem 1 --psm 3')\n",
    "\n",
    "# now feeding image to tesseract\n",
    "\n",
    "details = pytesseract.image_to_data(image,config=custom_config,lang = 'eng')\n",
    "details"
   ]
  },
  {
   "cell_type": "code",
   "execution_count": null,
   "id": "895cc0b5",
   "metadata": {},
   "outputs": [],
   "source": []
  }
 ],
 "metadata": {
  "kernelspec": {
   "display_name": "Python 3 (ipykernel)",
   "language": "python",
   "name": "python3"
  },
  "language_info": {
   "codemirror_mode": {
    "name": "ipython",
    "version": 3
   },
   "file_extension": ".py",
   "mimetype": "text/x-python",
   "name": "python",
   "nbconvert_exporter": "python",
   "pygments_lexer": "ipython3",
   "version": "3.9.7"
  },
  "nbTranslate": {
   "displayLangs": [
    "*"
   ],
   "hotkey": "alt-t",
   "langInMainMenu": true,
   "sourceLang": "en",
   "targetLang": "fr",
   "useGoogleTranslate": true
  },
  "varInspector": {
   "cols": {
    "lenName": 16,
    "lenType": 16,
    "lenVar": 40
   },
   "kernels_config": {
    "python": {
     "delete_cmd_postfix": "",
     "delete_cmd_prefix": "del ",
     "library": "var_list.py",
     "varRefreshCmd": "print(var_dic_list())"
    },
    "r": {
     "delete_cmd_postfix": ") ",
     "delete_cmd_prefix": "rm(",
     "library": "var_list.r",
     "varRefreshCmd": "cat(var_dic_list()) "
    }
   },
   "types_to_exclude": [
    "module",
    "function",
    "builtin_function_or_method",
    "instance",
    "_Feature"
   ],
   "window_display": false
  }
 },
 "nbformat": 4,
 "nbformat_minor": 5
}
