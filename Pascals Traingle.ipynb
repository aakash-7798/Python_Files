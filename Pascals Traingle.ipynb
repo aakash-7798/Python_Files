{
 "cells": [
  {
   "cell_type": "code",
   "execution_count": 7,
   "id": "34d255a4",
   "metadata": {
    "ExecuteTime": {
     "end_time": "2022-02-10T10:34:57.795331Z",
     "start_time": "2022-02-10T10:34:55.887252Z"
    }
   },
   "outputs": [
    {
     "name": "stdout",
     "output_type": "stream",
     "text": [
      "Enter Number for the Expansion :7\n"
     ]
    }
   ],
   "source": [
    "## Here I am Considering an input from the user \n",
    "n = int(input(\"Enter Number for the Expansion :\"))"
   ]
  },
  {
   "cell_type": "code",
   "execution_count": 31,
   "id": "f1d71de1",
   "metadata": {
    "ExecuteTime": {
     "end_time": "2022-02-10T10:58:01.634907Z",
     "start_time": "2022-02-10T10:58:01.613938Z"
    }
   },
   "outputs": [
    {
     "name": "stdout",
     "output_type": "stream",
     "text": [
      "1\n",
      "11\n",
      "121\n",
      "1331\n",
      "14641\n",
      "161051\n",
      "1771561\n"
     ]
    }
   ],
   "source": [
    "# Sample which shows me expansion but the draw back is that upto power 4,  expansion gives me correct coefficients after that\n",
    "# it is not giving me correct coefficients\n",
    "for i in range(n):\n",
    "    print(11**i)"
   ]
  },
  {
   "cell_type": "code",
   "execution_count": 9,
   "id": "d34935ed",
   "metadata": {
    "ExecuteTime": {
     "end_time": "2022-02-10T10:35:03.668210Z",
     "start_time": "2022-02-10T10:35:03.657240Z"
    }
   },
   "outputs": [
    {
     "data": {
      "text/plain": [
       "[[1],\n",
       " [1, 1],\n",
       " [1, 2, 1],\n",
       " [1, 3, 3, 1],\n",
       " [1, 4, 6, 4, 1],\n",
       " [1, 5, 10, 10, 5, 1],\n",
       " [1, 6, 15, 20, 15, 6, 1]]"
      ]
     },
     "execution_count": 9,
     "metadata": {},
     "output_type": "execute_result"
    }
   ],
   "source": [
    "## From the expansion we can see that first and last terms are same for every expansion (i.e) 1\n",
    "## so here i am considering lists and appending 1 at beggining \n",
    "## for the coefficients to be correct now i am considering before expansion terms and adding that terms  \n",
    "## which gives me next expansion terms and at last again appending 1 to that expansion\n",
    "\n",
    "# First step considering empty list\n",
    "# second step i am considering input number because upto that i have to expand and performing iteration\n",
    "# third step i am appending an empty list for each expansion\n",
    "# fourth step appending 1 at beggining for each step\n",
    "# fifth step  for the coefficients to be correct now i am considering before expansion terms and adding that terms keeping first and last same\n",
    "# sixth step    as we know that first expansion will have coefficient only 1 so we dont want to append 1 at last so that step stating to  append when i!=0\n",
    "Coefficients = []\n",
    "for i in range(n):\n",
    "    Coefficients.append([])\n",
    "    Coefficients[i].append(1)\n",
    "    for j in range(1,i):\n",
    "        Coefficients[i].append(Coefficients[i - 1][j - 1] + Coefficients[i - 1][j])\n",
    "    if(i!= 0):\n",
    "        Coefficients[i].append(1)\n",
    "Coefficients"
   ]
  },
  {
   "cell_type": "code",
   "execution_count": 28,
   "id": "6bdfd368",
   "metadata": {
    "ExecuteTime": {
     "end_time": "2022-02-10T10:53:17.493112Z",
     "start_time": "2022-02-10T10:53:17.481143Z"
    }
   },
   "outputs": [
    {
     "name": "stdout",
     "output_type": "stream",
     "text": [
      "1\n",
      "1 1\n",
      "1 2 1\n",
      "1 3 3 1\n",
      "1 4 6 4 1\n",
      "1 5 10 10 5 1\n",
      "1 6 15 20 15 6 1\n"
     ]
    }
   ],
   "source": [
    "# Here I am just performing an operation where it will only print numbers no commas and brackets\n",
    "for i in Coefficients:\n",
    "    print(' '.join(map(str,i)))"
   ]
  },
  {
   "cell_type": "code",
   "execution_count": 30,
   "id": "5fe47256",
   "metadata": {
    "ExecuteTime": {
     "end_time": "2022-02-10T10:56:11.737601Z",
     "start_time": "2022-02-10T10:56:11.718645Z"
    }
   },
   "outputs": [
    {
     "name": "stdout",
     "output_type": "stream",
     "text": [
      "        1\n",
      "       1 1\n",
      "      1 2 1\n",
      "     1 3 3 1\n",
      "    1 4 6 4 1\n",
      "   1 5 10 10 5 1\n",
      "  1 6 15 20 15 6 1\n"
     ]
    }
   ],
   "source": [
    "## At last I am Printing in Pascal Triangle Form\n",
    "for i in range(len(Coefficients)):\n",
    "    print(' '*(n-i),end=' ')\n",
    "    print(' '.join(map(str, Coefficients[i])))"
   ]
  },
  {
   "cell_type": "code",
   "execution_count": 34,
   "id": "68bd260d",
   "metadata": {
    "ExecuteTime": {
     "end_time": "2022-02-10T11:08:16.662292Z",
     "start_time": "2022-02-10T11:08:15.292383Z"
    }
   },
   "outputs": [
    {
     "name": "stdout",
     "output_type": "stream",
     "text": [
      "Enter Number to get Coefficients of  Binomial Expansion :6\n",
      " \n",
      "Below are the Coefficients for the power 6 you are expanding the binomial to.\n",
      " \n",
      "       1\n",
      "      1 1\n",
      "     1 2 1\n",
      "    1 3 3 1\n",
      "   1 4 6 4 1\n",
      "  1 5 10 10 5 1\n",
      " \n",
      "The Total Terms we get for the power 6 are 7\n"
     ]
    }
   ],
   "source": [
    "## Keeping all at one place\n",
    "n = int(input(\"Enter Number to get Coefficients of  Binomial Expansion :\"))\n",
    "print(\" \")\n",
    "\n",
    "Coefficients = []\n",
    "for i in range(n):\n",
    "    Coefficients.append([])\n",
    "    Coefficients[i].append(1)\n",
    "    for j in range(1,i):\n",
    "        Coefficients[i].append(Coefficients[i - 1][j - 1] + Coefficients[i - 1][j])\n",
    "    if(i!= 0):\n",
    "        Coefficients[i].append(1)\n",
    "Coefficients\n",
    "\n",
    "print(f\"Below are the Coefficients for the power {n} you are expanding the binomial to.\")\n",
    "print(\" \")\n",
    "\n",
    "for i in range(len(Coefficients)):\n",
    "    print(' '*(n-i),end=' ')\n",
    "    print(' '.join(map(str, Coefficients[i])))\n",
    "print(\" \")\n",
    "print(f\"The Total Terms we get for the power {n} are {n+1}\")\n"
   ]
  },
  {
   "cell_type": "code",
   "execution_count": 16,
   "id": "a531a999",
   "metadata": {
    "ExecuteTime": {
     "end_time": "2022-03-01T12:50:59.779539Z",
     "start_time": "2022-03-01T12:50:59.761621Z"
    }
   },
   "outputs": [],
   "source": [
    "# result = [[1] * (i+1) for i in range(5)]\n",
    "# result"
   ]
  },
  {
   "cell_type": "code",
   "execution_count": 1,
   "id": "477b6711",
   "metadata": {
    "ExecuteTime": {
     "end_time": "2022-03-29T07:48:55.731192Z",
     "start_time": "2022-03-29T07:48:55.695287Z"
    }
   },
   "outputs": [
    {
     "data": {
      "text/plain": [
       "[[1],\n",
       " [1, 1],\n",
       " [1, 1, 1],\n",
       " [1, 1, 1, 1],\n",
       " [1, 1, 1, 1, 1],\n",
       " [1, 1, 1, 1, 1, 1],\n",
       " [1, 1, 1, 1, 1, 1, 1],\n",
       " [1, 1, 1, 1, 1, 1, 1, 1],\n",
       " [1, 1, 1, 1, 1, 1, 1, 1, 1],\n",
       " [1, 1, 1, 1, 1, 1, 1, 1, 1, 1]]"
      ]
     },
     "execution_count": 1,
     "metadata": {},
     "output_type": "execute_result"
    }
   ],
   "source": [
    "[[1] * (i+1) for i in range(10)]"
   ]
  },
  {
   "cell_type": "code",
   "execution_count": 7,
   "id": "d347a0c6",
   "metadata": {
    "ExecuteTime": {
     "end_time": "2022-03-29T09:04:19.285250Z",
     "start_time": "2022-03-29T09:04:17.733648Z"
    }
   },
   "outputs": [
    {
     "name": "stdout",
     "output_type": "stream",
     "text": [
      "Enter Number for Expansion : 15\n",
      "                1\n",
      "               1 1\n",
      "              1 2 1\n",
      "             1 3 3 1\n",
      "            1 4 6 4 1\n",
      "           1 5 10 10 5 1\n",
      "          1 6 15 20 15 6 1\n",
      "         1 7 21 35 35 21 7 1\n",
      "        1 8 28 56 70 56 28 8 1\n",
      "       1 9 36 84 126 126 84 36 9 1\n",
      "      1 10 45 120 210 252 210 120 45 10 1\n",
      "     1 11 55 165 330 462 462 330 165 55 11 1\n",
      "    1 12 66 220 495 792 924 792 495 220 66 12 1\n",
      "   1 13 78 286 715 1287 1716 1716 1287 715 286 78 13 1\n",
      "  1 14 91 364 1001 2002 3003 3432 3003 2002 1001 364 91 14 1\n",
      " \n"
     ]
    }
   ],
   "source": [
    "n = int(input(\"Enter Number for Expansion : \"))\n",
    "result = [[1] * (i+1) for i in range(n)]\n",
    "for i in range(n):\n",
    "    for j in range(1,i):\n",
    "        result[i][j] = result[i-1][j-1]+result[i-1][j]\n",
    "for i in range(len(result)):\n",
    "    print(' '*(n-i),end=' ')\n",
    "    print(' '.join(map(str, result[i])))\n",
    "print(\" \")"
   ]
  },
  {
   "cell_type": "code",
   "execution_count": null,
   "id": "b457eb08",
   "metadata": {},
   "outputs": [],
   "source": []
  }
 ],
 "metadata": {
  "kernelspec": {
   "display_name": "Python 3 (ipykernel)",
   "language": "python",
   "name": "python3"
  },
  "language_info": {
   "codemirror_mode": {
    "name": "ipython",
    "version": 3
   },
   "file_extension": ".py",
   "mimetype": "text/x-python",
   "name": "python",
   "nbconvert_exporter": "python",
   "pygments_lexer": "ipython3",
   "version": "3.9.7"
  },
  "nbTranslate": {
   "displayLangs": [
    "*"
   ],
   "hotkey": "alt-t",
   "langInMainMenu": true,
   "sourceLang": "en",
   "targetLang": "fr",
   "useGoogleTranslate": true
  },
  "varInspector": {
   "cols": {
    "lenName": 16,
    "lenType": 16,
    "lenVar": 40
   },
   "kernels_config": {
    "python": {
     "delete_cmd_postfix": "",
     "delete_cmd_prefix": "del ",
     "library": "var_list.py",
     "varRefreshCmd": "print(var_dic_list())"
    },
    "r": {
     "delete_cmd_postfix": ") ",
     "delete_cmd_prefix": "rm(",
     "library": "var_list.r",
     "varRefreshCmd": "cat(var_dic_list()) "
    }
   },
   "types_to_exclude": [
    "module",
    "function",
    "builtin_function_or_method",
    "instance",
    "_Feature"
   ],
   "window_display": false
  }
 },
 "nbformat": 4,
 "nbformat_minor": 5
}
