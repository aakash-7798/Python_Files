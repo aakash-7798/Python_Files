{
 "cells": [
  {
   "cell_type": "code",
   "execution_count": 1,
   "id": "fa4a9a2f",
   "metadata": {
    "ExecuteTime": {
     "end_time": "2022-05-30T07:20:23.955604Z",
     "start_time": "2022-05-30T07:20:14.574537Z"
    }
   },
   "outputs": [],
   "source": [
    "from selenium import webdriver\n",
    "from selenium.webdriver.common.keys import Keys\n",
    "from webdriver_manager.chrome import ChromeDriverManager\n",
    "from getpass import getpass\n",
    "from selenium.webdriver.chrome.service import Service\n",
    "from selenium.webdriver.chrome.options import Options\n",
    "import chromedriver_autoinstaller as chromedriver\n",
    "chromedriver.install()\n",
    "from bs4 import BeautifulSoup\n",
    "import time\n",
    "import calendar\n",
    "import pandas as pd\n",
    "from selenium.common.exceptions import NoSuchElementException\n",
    "import os\n",
    "from io import BytesIO,StringIO\n",
    "from IPython.display import display,HTML\n",
    "import pyautogui\n",
    "from PIL import Image\n",
    "from selenium.webdriver.support.ui import WebDriverWait\n",
    "from selenium.webdriver.support import expected_conditions as EC\n",
    "from selenium.webdriver.common.by import By"
   ]
  },
  {
   "cell_type": "code",
   "execution_count": 2,
   "id": "abf7040b",
   "metadata": {
    "ExecuteTime": {
     "end_time": "2022-05-30T07:20:39.503998Z",
     "start_time": "2022-05-30T07:20:39.491034Z"
    }
   },
   "outputs": [],
   "source": [
    "options = Options()\n",
    "options.add_argument('start-maximized')\n",
    "options.add_argument('disable-infobars')"
   ]
  },
  {
   "cell_type": "code",
   "execution_count": 3,
   "id": "8f13dc6e",
   "metadata": {
    "ExecuteTime": {
     "end_time": "2022-05-30T07:20:54.225665Z",
     "start_time": "2022-05-30T07:20:40.337441Z"
    }
   },
   "outputs": [
    {
     "name": "stdout",
     "output_type": "stream",
     "text": [
      "Enter Username : pagepvtltd_2017\n",
      "Enter Password : ········\n"
     ]
    }
   ],
   "source": [
    "username = input(\"Enter Username : \")\n",
    "password = getpass(\"Enter Password : \")"
   ]
  },
  {
   "cell_type": "code",
   "execution_count": 4,
   "id": "04cc2215",
   "metadata": {
    "ExecuteTime": {
     "end_time": "2022-05-30T07:21:00.685714Z",
     "start_time": "2022-05-30T07:20:55.372335Z"
    }
   },
   "outputs": [
    {
     "name": "stderr",
     "output_type": "stream",
     "text": [
      "\n",
      "\n",
      "INFO:WDM:\n",
      "\n",
      "====== WebDriver manager ======\n",
      "INFO:WDM:====== WebDriver manager ======\n",
      "Current google-chrome version is 102.0.5005\n",
      "INFO:WDM:Current google-chrome version is 102.0.5005\n",
      "Get LATEST chromedriver version for 102.0.5005 google-chrome\n",
      "INFO:WDM:Get LATEST chromedriver version for 102.0.5005 google-chrome\n",
      "Trying to download new driver from https://chromedriver.storage.googleapis.com/102.0.5005.61/chromedriver_win32.zip\n",
      "INFO:WDM:Trying to download new driver from https://chromedriver.storage.googleapis.com/102.0.5005.61/chromedriver_win32.zip\n",
      "Driver has been saved in cache [C:\\Users\\aakas\\.wdm\\drivers\\chromedriver\\win32\\102.0.5005.61]\n",
      "INFO:WDM:Driver has been saved in cache [C:\\Users\\aakas\\.wdm\\drivers\\chromedriver\\win32\\102.0.5005.61]\n"
     ]
    }
   ],
   "source": [
    "Driver = webdriver.Chrome(options=options,service=Service(ChromeDriverManager().install())) "
   ]
  },
  {
   "cell_type": "code",
   "execution_count": 5,
   "id": "98bcde5c",
   "metadata": {
    "ExecuteTime": {
     "end_time": "2022-05-30T07:21:07.901180Z",
     "start_time": "2022-05-30T07:21:00.721617Z"
    }
   },
   "outputs": [],
   "source": [
    "Driver.get('https://www.gst.gov.in/')\n",
    "Driver.find_element(By.XPATH,\"//a[contains(text(),' Login')]\").click()\n",
    "time.sleep(1)\n",
    "Driver.find_element(By.ID,'username').send_keys(username)\n",
    "time.sleep(1)\n",
    "Driver.find_element(By.ID,\"user_pass\").send_keys(password)\n",
    "time.sleep(1)"
   ]
  },
  {
   "cell_type": "code",
   "execution_count": 6,
   "id": "d7d9e4b3",
   "metadata": {
    "ExecuteTime": {
     "end_time": "2022-05-30T07:21:22.207376Z",
     "start_time": "2022-05-30T07:21:21.487507Z"
    }
   },
   "outputs": [
    {
     "data": {
      "image/png": "[encoded data removed]",
      "text/plain": [
       "<PIL.PngImagePlugin.PngImageFile image mode=RGBA size=182x50 at 0x26AC2D4FA00>"
      ]
     },
     "execution_count": 6,
     "metadata": {},
     "output_type": "execute_result"
    }
   ],
   "source": [
    "Captcha_Image = Driver.find_element(By.ID,'imgCaptcha').screenshot_as_png\n",
    "Driver.minimize_window()\n",
    "Image.open(BytesIO(Captcha_Image))"
   ]
  },
  {
   "cell_type": "code",
   "execution_count": 8,
   "id": "8bc37ee9",
   "metadata": {
    "ExecuteTime": {
     "end_time": "2022-05-30T07:22:30.016464Z",
     "start_time": "2022-05-30T07:22:24.796819Z"
    }
   },
   "outputs": [],
   "source": [
    "Driver.find_element(By.ID,'captcha').send_keys(int(input(\"Enter Above Captcha : \")))\n",
    "time.sleep(2)\n",
    "Driver.find_element(By.XPATH,'//button[normalize-space()=\"Login\"]').click()\n",
    "time.sleep(2)\n",
    "Driver.find_element(By.XPATH,\"//*[@id='adhrtableV']/div/div/div[2]/a[2]\").click()\n",
    "time.sleep(2)  \n",
    "Driver.find_element(By.XPATH,\"//span[text()='Continue to Dashboard']\").click()"
   ]
  },
  {
   "cell_type": "code",
   "execution_count": 10,
   "id": "1e4918da",
   "metadata": {
    "ExecuteTime": {
     "end_time": "2022-05-30T07:23:40.234026Z",
     "start_time": "2022-05-30T07:23:31.572385Z"
    }
   },
   "outputs": [],
   "source": [
    "time.sleep(2)\n",
    "Driver.find_element(By.XPATH,\"//*[@id='main']/ul/li[2]/a\").click()\n",
    "time.sleep(2)\n",
    "Driver.find_element(By.XPATH,\"//a[contains(text(),'Returns')]\").click()\n",
    "time.sleep(3)\n",
    "Driver.find_element(By.XPATH,\"//div[@class='col-xs-12']//a[contains(text(),'Returns Dashboard')]\").click()"
   ]
  },
  {
   "cell_type": "code",
   "execution_count": 11,
   "id": "8c0573cc",
   "metadata": {
    "ExecuteTime": {
     "end_time": "2022-05-30T07:23:51.554365Z",
     "start_time": "2022-05-30T07:23:49.242400Z"
    }
   },
   "outputs": [],
   "source": [
    "Driver.find_element(By.XPATH,f\"//select[@name='fin']/option[text()='2021-22']\").click()\n",
    "Driver.find_element(By.XPATH,f\"//select[@name='quarter']/option[text()='Quarter 1 (Apr - Jun)']\").click()\n",
    "Driver.find_element(By.XPATH,f\"//select[@name='mon']/option[text()='June']\").click()\n",
    "time.sleep(2)\n",
    "Driver.find_element(By.XPATH,\".//div[contains(@class,'col-sm-3 col-xs-12')]//button[normalize-space()='Search']\").click()"
   ]
  },
  {
   "cell_type": "code",
   "execution_count": 13,
   "id": "dc1aecc4",
   "metadata": {
    "ExecuteTime": {
     "end_time": "2022-05-30T07:24:57.780723Z",
     "start_time": "2022-05-30T07:24:55.477264Z"
    }
   },
   "outputs": [],
   "source": [
    "time.sleep(1)\n",
    "Driver.find_element(By.XPATH,'/html/body/div[2]/div[2]/div/div[2]/div[4]/div[4]/div[2]/div[2]/div/a/div/p[2]').click()\n",
    "time.sleep(1)\n",
    "Driver.find_element(By.XPATH,'/html/body/div[2]/div[2]/div/div[2]/div[1]/div[3]/div[11]/div/div[1]/a/div[1]/p').click()\n",
    "time.sleep(1)\n",
    "Driver.find_element(By.XPATH,'//*[@id=\"iosupAdvisory\"]/div/div/div[2]/button').click()"
   ]
  },
  {
   "cell_type": "code",
   "execution_count": 14,
   "id": "1f9abbe5",
   "metadata": {
    "ExecuteTime": {
     "end_time": "2022-05-30T07:25:08.159464Z",
     "start_time": "2022-05-30T07:25:08.138490Z"
    }
   },
   "outputs": [],
   "source": [
    "def split(arr, size):\n",
    "    arrs = []\n",
    "    while len(arr) > size:\n",
    "        pice = arr[:size]\n",
    "        arrs.append(pice)\n",
    "        arr   = arr[size:]\n",
    "    arrs.append(arr)\n",
    "    return arrs"
   ]
  },
  {
   "cell_type": "code",
   "execution_count": 15,
   "id": "73017e06",
   "metadata": {
    "ExecuteTime": {
     "end_time": "2022-05-30T07:25:09.357785Z",
     "start_time": "2022-05-30T07:25:09.263493Z"
    }
   },
   "outputs": [],
   "source": [
    "BS = BeautifulSoup(Driver.page_source,'html.parser')"
   ]
  },
  {
   "cell_type": "code",
   "execution_count": 46,
   "id": "45e9348c",
   "metadata": {
    "ExecuteTime": {
     "end_time": "2022-05-30T07:38:59.972086Z",
     "start_time": "2022-05-30T07:38:59.940164Z"
    }
   },
   "outputs": [
    {
     "data": {
      "text/plain": [
       "179752.0"
      ]
     },
     "execution_count": 46,
     "metadata": {},
     "output_type": "execute_result"
    }
   ],
   "source": [
    "float(BS.find_all('div',class_=\"rettbl-format\")[0].find_all('table')[0].find_all('td')[2].find_all('input')[0]['title'].split(':')[1].split(' ')[1].replace('₹','').replace(',',''))"
   ]
  },
  {
   "cell_type": "code",
   "execution_count": 41,
   "id": "e6dc557f",
   "metadata": {
    "ExecuteTime": {
     "end_time": "2022-05-30T07:37:30.213365Z",
     "start_time": "2022-05-30T07:37:29.559601Z"
    }
   },
   "outputs": [],
   "source": [
    "Thr3_a = []\n",
    "for i in range(len(BS.find_all('div',class_=\"rettbl-format\")[0].find_all('table')[0].find_all('td'))):\n",
    "    try:\n",
    "        if BS.find_all('div',class_=\"rettbl-format\")[0].find_all('table')[0].find_all('td')[i]['class'][0] =='gstr3b-blank':\n",
    "            Thr3_a.append('-')\n",
    "#             print(BS.find_all('div',class_=\"rettbl-format\")[0].find_all('table')[0].find_all('td')[i])\n",
    "    except:\n",
    "        Thr3_a.append(float(BS.find_all('div',class_=\"rettbl-format\")[0].find_all('table')[0].find_all('td')[i].find_all('input')[0]['title'].split(':')[1].split(' ')[1].replace('₹','').replace(',','')))\n",
    "#         print(\"No Blank Elements\")"
   ]
  },
  {
   "cell_type": "code",
   "execution_count": 48,
   "id": "fc8f1804",
   "metadata": {
    "ExecuteTime": {
     "end_time": "2022-05-30T07:40:06.889377Z",
     "start_time": "2022-05-30T07:40:06.714797Z"
    }
   },
   "outputs": [
    {
     "data": {
      "text/html": [
       "<table border=\"1\" class=\"dataframe\">\n",
       "  <thead>\n",
       "    <tr style=\"text-align: right;\">\n",
       "      <th>Nature of Supplies</th>\n",
       "      <th>Total Taxable value (₹)</th>\n",
       "      <th>Integrated Tax (₹)</th>\n",
       "      <th>Central Tax (₹)</th>\n",
       "      <th>State/UT Tax (₹)</th>\n",
       "      <th>CESS (₹)</th>\n",
       "    </tr>\n",
       "  </thead>\n",
       "  <tbody>\n",
       "    <tr>\n",
       "      <td>(a) Outward taxable supplies (other than zero rated, nil rated and exempted)</td>\n",
       "      <td>1997242.0</td>\n",
       "      <td>0.0</td>\n",
       "      <td>179752.0</td>\n",
       "      <td>179752.0</td>\n",
       "      <td>0.0</td>\n",
       "    </tr>\n",
       "    <tr>\n",
       "      <td>(b) Outward taxable supplies (zero rated )</td>\n",
       "      <td>0.0</td>\n",
       "      <td>0.0</td>\n",
       "      <td>-</td>\n",
       "      <td>-</td>\n",
       "      <td>0.0</td>\n",
       "    </tr>\n",
       "    <tr>\n",
       "      <td>(c) Other outward supplies (Nil rated, exempted)</td>\n",
       "      <td>585000.0</td>\n",
       "      <td>-</td>\n",
       "      <td>-</td>\n",
       "      <td>-</td>\n",
       "      <td>-</td>\n",
       "    </tr>\n",
       "    <tr>\n",
       "      <td>(d) Inward supplies (liable to reverse charge)</td>\n",
       "      <td>0.0</td>\n",
       "      <td>0.0</td>\n",
       "      <td>0.0</td>\n",
       "      <td>0.0</td>\n",
       "      <td>0.0</td>\n",
       "    </tr>\n",
       "    <tr>\n",
       "      <td>(e) Non-GST outward supplies</td>\n",
       "      <td>0.0</td>\n",
       "      <td>-</td>\n",
       "      <td>-</td>\n",
       "      <td>-</td>\n",
       "      <td>-</td>\n",
       "    </tr>\n",
       "  </tbody>\n",
       "</table>"
      ],
      "text/plain": [
       "<IPython.core.display.HTML object>"
      ]
     },
     "metadata": {},
     "output_type": "display_data"
    }
   ],
   "source": [
    "O_Supply= pd.read_html(str(BS.find_all('div',class_=\"rettbl-format\")[0].find_all('table')[0]))[0]\n",
    "for i in range(len(split(Thr3_a,5))):\n",
    "    O_Supply.iloc[i,1:] = split(Thr3_a,5)[i]\n",
    "display(HTML(O_Supply.to_html(index=False)))"
   ]
  },
  {
   "cell_type": "code",
   "execution_count": 49,
   "id": "e0d06f37",
   "metadata": {
    "ExecuteTime": {
     "end_time": "2022-05-30T07:40:07.814851Z",
     "start_time": "2022-05-30T07:40:07.785928Z"
    }
   },
   "outputs": [
    {
     "data": {
      "text/plain": [
       "Nature of Supplies          object\n",
       "Total Taxable value (₹)    float64\n",
       "Integrated Tax (₹)          object\n",
       "Central Tax (₹)             object\n",
       "State/UT Tax (₹)            object\n",
       "CESS (₹)                    object\n",
       "dtype: object"
      ]
     },
     "execution_count": 49,
     "metadata": {},
     "output_type": "execute_result"
    }
   ],
   "source": [
    "O_Supply.dtypes"
   ]
  },
  {
   "cell_type": "code",
   "execution_count": 18,
   "id": "8122ec5e",
   "metadata": {
    "ExecuteTime": {
     "end_time": "2022-05-30T07:26:21.666854Z",
     "start_time": "2022-05-30T07:26:21.502501Z"
    }
   },
   "outputs": [],
   "source": [
    "Driver.find_element(By.XPATH,'/html/body/div[2]/div[2]/div/div[1]/div[1]/div/ol/li[3]/ng-switch/span/a').click()"
   ]
  },
  {
   "cell_type": "code",
   "execution_count": 19,
   "id": "9d964020",
   "metadata": {
    "ExecuteTime": {
     "end_time": "2022-05-30T07:26:23.618175Z",
     "start_time": "2022-05-30T07:26:23.030828Z"
    }
   },
   "outputs": [],
   "source": [
    "Driver.find_element(By.XPATH,'/html/body/div[2]/div[2]/div/div[2]/div[1]/div[3]/div[11]/div/div[3]/a/div[1]').click()"
   ]
  },
  {
   "cell_type": "code",
   "execution_count": 20,
   "id": "7523e341",
   "metadata": {
    "ExecuteTime": {
     "end_time": "2022-05-30T07:26:25.954608Z",
     "start_time": "2022-05-30T07:26:25.858565Z"
    }
   },
   "outputs": [],
   "source": [
    "BS1 = BeautifulSoup(Driver.page_source,'html.parser')"
   ]
  },
  {
   "cell_type": "code",
   "execution_count": 21,
   "id": "ea9bad14",
   "metadata": {
    "ExecuteTime": {
     "end_time": "2022-05-30T07:26:27.602679Z",
     "start_time": "2022-05-30T07:26:27.545940Z"
    }
   },
   "outputs": [
    {
     "data": {
      "text/html": [
       "<div>\n",
       "<style scoped>\n",
       "    .dataframe tbody tr th:only-of-type {\n",
       "        vertical-align: middle;\n",
       "    }\n",
       "\n",
       "    .dataframe tbody tr th {\n",
       "        vertical-align: top;\n",
       "    }\n",
       "\n",
       "    .dataframe thead th {\n",
       "        text-align: right;\n",
       "    }\n",
       "</style>\n",
       "<table border=\"1\" class=\"dataframe\">\n",
       "  <thead>\n",
       "    <tr style=\"text-align: right;\">\n",
       "      <th></th>\n",
       "      <th>Details</th>\n",
       "      <th>Integrated Tax (₹)</th>\n",
       "      <th>Central Tax (₹)</th>\n",
       "      <th>State/UT Tax (₹)</th>\n",
       "      <th>CESS (₹)</th>\n",
       "    </tr>\n",
       "  </thead>\n",
       "  <tbody>\n",
       "    <tr>\n",
       "      <th>0</th>\n",
       "      <td>(A) ITC Available (whether in full or part)</td>\n",
       "      <td>NaN</td>\n",
       "      <td>NaN</td>\n",
       "      <td>NaN</td>\n",
       "      <td>NaN</td>\n",
       "    </tr>\n",
       "    <tr>\n",
       "      <th>1</th>\n",
       "      <td>(1) Import of goods</td>\n",
       "      <td>NaN</td>\n",
       "      <td>NaN</td>\n",
       "      <td>NaN</td>\n",
       "      <td>NaN</td>\n",
       "    </tr>\n",
       "    <tr>\n",
       "      <th>2</th>\n",
       "      <td>(2) Import of services</td>\n",
       "      <td>NaN</td>\n",
       "      <td>NaN</td>\n",
       "      <td>NaN</td>\n",
       "      <td>NaN</td>\n",
       "    </tr>\n",
       "    <tr>\n",
       "      <th>3</th>\n",
       "      <td>(3) Inward supplies liable to reverse charge (...</td>\n",
       "      <td>NaN</td>\n",
       "      <td>NaN</td>\n",
       "      <td>NaN</td>\n",
       "      <td>NaN</td>\n",
       "    </tr>\n",
       "    <tr>\n",
       "      <th>4</th>\n",
       "      <td>(4) Inward supplies from ISD</td>\n",
       "      <td>NaN</td>\n",
       "      <td>NaN</td>\n",
       "      <td>NaN</td>\n",
       "      <td>NaN</td>\n",
       "    </tr>\n",
       "    <tr>\n",
       "      <th>5</th>\n",
       "      <td>(5) All other ITC</td>\n",
       "      <td>NaN</td>\n",
       "      <td>NaN</td>\n",
       "      <td>NaN</td>\n",
       "      <td>NaN</td>\n",
       "    </tr>\n",
       "    <tr>\n",
       "      <th>6</th>\n",
       "      <td>(B) ITC Reversed</td>\n",
       "      <td>NaN</td>\n",
       "      <td>NaN</td>\n",
       "      <td>NaN</td>\n",
       "      <td>NaN</td>\n",
       "    </tr>\n",
       "    <tr>\n",
       "      <th>7</th>\n",
       "      <td>(1) As per Rule 42 &amp; 43 of CGST/SGST rules</td>\n",
       "      <td>NaN</td>\n",
       "      <td>NaN</td>\n",
       "      <td>NaN</td>\n",
       "      <td>NaN</td>\n",
       "    </tr>\n",
       "    <tr>\n",
       "      <th>8</th>\n",
       "      <td>(2) Others</td>\n",
       "      <td>NaN</td>\n",
       "      <td>NaN</td>\n",
       "      <td>NaN</td>\n",
       "      <td>NaN</td>\n",
       "    </tr>\n",
       "    <tr>\n",
       "      <th>9</th>\n",
       "      <td>(C) Net ITC Available (A) - (B)</td>\n",
       "      <td>NaN</td>\n",
       "      <td>NaN</td>\n",
       "      <td>NaN</td>\n",
       "      <td>NaN</td>\n",
       "    </tr>\n",
       "    <tr>\n",
       "      <th>10</th>\n",
       "      <td>(D) Ineligible ITC</td>\n",
       "      <td>NaN</td>\n",
       "      <td>NaN</td>\n",
       "      <td>NaN</td>\n",
       "      <td>NaN</td>\n",
       "    </tr>\n",
       "    <tr>\n",
       "      <th>11</th>\n",
       "      <td>(1) As per section 17(5)</td>\n",
       "      <td>NaN</td>\n",
       "      <td>NaN</td>\n",
       "      <td>NaN</td>\n",
       "      <td>NaN</td>\n",
       "    </tr>\n",
       "    <tr>\n",
       "      <th>12</th>\n",
       "      <td>(2) Others</td>\n",
       "      <td>NaN</td>\n",
       "      <td>NaN</td>\n",
       "      <td>NaN</td>\n",
       "      <td>NaN</td>\n",
       "    </tr>\n",
       "  </tbody>\n",
       "</table>\n",
       "</div>"
      ],
      "text/plain": [
       "                                              Details  Integrated Tax (₹)  \\\n",
       "0         (A) ITC Available (whether in full or part)                 NaN   \n",
       "1                                 (1) Import of goods                 NaN   \n",
       "2                              (2) Import of services                 NaN   \n",
       "3   (3) Inward supplies liable to reverse charge (...                 NaN   \n",
       "4                        (4) Inward supplies from ISD                 NaN   \n",
       "5                                   (5) All other ITC                 NaN   \n",
       "6                                    (B) ITC Reversed                 NaN   \n",
       "7          (1) As per Rule 42 & 43 of CGST/SGST rules                 NaN   \n",
       "8                                          (2) Others                 NaN   \n",
       "9                     (C) Net ITC Available (A) - (B)                 NaN   \n",
       "10                                 (D) Ineligible ITC                 NaN   \n",
       "11                           (1) As per section 17(5)                 NaN   \n",
       "12                                         (2) Others                 NaN   \n",
       "\n",
       "    Central Tax (₹)  State/UT Tax (₹)  CESS (₹)  \n",
       "0               NaN               NaN       NaN  \n",
       "1               NaN               NaN       NaN  \n",
       "2               NaN               NaN       NaN  \n",
       "3               NaN               NaN       NaN  \n",
       "4               NaN               NaN       NaN  \n",
       "5               NaN               NaN       NaN  \n",
       "6               NaN               NaN       NaN  \n",
       "7               NaN               NaN       NaN  \n",
       "8               NaN               NaN       NaN  \n",
       "9               NaN               NaN       NaN  \n",
       "10              NaN               NaN       NaN  \n",
       "11              NaN               NaN       NaN  \n",
       "12              NaN               NaN       NaN  "
      ]
     },
     "execution_count": 21,
     "metadata": {},
     "output_type": "execute_result"
    }
   ],
   "source": [
    "E_ITC = pd.read_html(str(BS1.find_all('div',class_=\"rettbl-format\")[0].find_all('table')[0]))[0]\n",
    "E_ITC"
   ]
  },
  {
   "cell_type": "code",
   "execution_count": 54,
   "id": "f1667494",
   "metadata": {
    "ExecuteTime": {
     "end_time": "2022-05-30T07:42:38.775357Z",
     "start_time": "2022-05-30T07:42:38.713561Z"
    }
   },
   "outputs": [
    {
     "data": {
      "text/plain": [
       "'gstr3b-blank'"
      ]
     },
     "execution_count": 54,
     "metadata": {},
     "output_type": "execute_result"
    }
   ],
   "source": [
    "BS1.find_all('div',class_=\"rettbl-format\")[0].find_all('table')[0].find_all('td')[7]['class'][0]"
   ]
  },
  {
   "cell_type": "code",
   "execution_count": 62,
   "id": "2394060c",
   "metadata": {
    "ExecuteTime": {
     "end_time": "2022-05-30T07:50:19.762436Z",
     "start_time": "2022-05-30T07:50:19.659715Z"
    }
   },
   "outputs": [
    {
     "data": {
      "text/plain": [
       "[<td ng-switch=\"obj.ty\">\n",
       " <!-- --><span ng-switch-when=\"IMPG\">(1) Import of goods</span><!-- -->\n",
       " <!-- -->\n",
       " <!-- -->\n",
       " <!-- -->\n",
       " <!-- -->\n",
       " </td>,\n",
       " <td ng-class=\"{'has-error' : (obj.ty !== 'IMPS' &amp;&amp; exdLimit_Elg4itc['itc_elg']['itc_avl'][obj.ty]['iamt'])}\">\n",
       " <!-- --><input assign-zero=\"\" class=\"form-control formedit newinv currency ng-pristine ng-untouched ng-valid ng-not-empty\" data-formating3b=\"currency\" data-fraction=\"2\" data-ng-change=\"chkLimit(obj.iamt,'itc_avl',obj.ty,'iamt');calculateNetITC();checkRevChrgCred()\" data-ng-if=\"obj.ty !== 'IMPS'\" data-ng-model=\"obj.iamt\" disabled=\"disabled\" id=\"invval\" ng-disabled=\"disableAll3BF\" title=\"Your amount : ₹0.00   System computed :₹0.00\"/><!-- -->\n",
       " <!-- -->\n",
       " </td>,\n",
       " <td class=\"gstr3b-blank\" ng-if=\"obj.ty === 'IMPG' || obj.ty === 'IMPS'\"></td>,\n",
       " <td class=\"gstr3b-blank\" ng-if=\"obj.ty === 'IMPG' || obj.ty === 'IMPS'\"></td>,\n",
       " <td ng-class=\"{'has-error' : (obj.ty !== 'IMPS' &amp;&amp; exdLimit_Elg4itc['itc_elg']['itc_avl'][obj.ty]['csamt'])}\">\n",
       " <!-- --><input assign-zero=\"\" class=\"form-control formedit newinv currency ng-pristine ng-untouched ng-valid ng-not-empty\" data-formating3b=\"currency\" data-fraction=\"2\" data-ng-change=\"chkLimit(obj.csamt,'itc_avl',obj.ty,'csamt');calculateNetITC();checkRevChrgCred()\" data-ng-if=\"obj.ty !== 'IMPS'\" data-ng-model=\"obj.csamt\" disabled=\"disabled\" id=\"invval\" ng-disabled=\"disableAll3BF\" title=\"Your amount : ₹0.00   System computed :₹0.00\"/><!-- -->\n",
       " <!-- -->\n",
       " </td>,\n",
       " <td ng-switch=\"obj.ty\">\n",
       " <!-- -->\n",
       " <!-- --><span ng-switch-when=\"IMPS\">(2) Import of services</span><!-- -->\n",
       " <!-- -->\n",
       " <!-- -->\n",
       " <!-- -->\n",
       " </td>,\n",
       " <td ng-class=\"{'has-error' : (obj.ty !== 'IMPS' &amp;&amp; exdLimit_Elg4itc['itc_elg']['itc_avl'][obj.ty]['iamt'])}\">\n",
       " <!-- -->\n",
       " <!-- --><input assign-zero=\"\" class=\"form-control formedit newinv currency ng-pristine ng-untouched ng-valid ng-not-empty\" data-formating3b=\"currency\" data-fraction=\"2\" data-ng-change=\"calculateNetITC();checkRevChrgCred()\" data-ng-if=\"obj.ty === 'IMPS'\" data-ng-model=\"obj.iamt\" disabled=\"disabled\" id=\"invval\" ng-disabled=\"disableAll3BF\"/><!-- -->\n",
       " </td>,\n",
       " <td class=\"gstr3b-blank\" ng-if=\"obj.ty === 'IMPG' || obj.ty === 'IMPS'\"></td>,\n",
       " <td class=\"gstr3b-blank\" ng-if=\"obj.ty === 'IMPG' || obj.ty === 'IMPS'\"></td>,\n",
       " <td ng-class=\"{'has-error' : (obj.ty !== 'IMPS' &amp;&amp; exdLimit_Elg4itc['itc_elg']['itc_avl'][obj.ty]['csamt'])}\">\n",
       " <!-- -->\n",
       " <!-- --><input assign-zero=\"\" class=\"form-control formedit newinv currency ng-pristine ng-untouched ng-valid ng-not-empty\" data-formating3b=\"currency\" data-fraction=\"2\" data-ng-if=\"obj.ty === 'IMPS'\" data-ng-model=\"obj.csamt\" disabled=\"disabled\" id=\"invval\" ng-change=\"calculateNetITC();checkRevChrgCred()\" ng-disabled=\"disableAll3BF\"/><!-- -->\n",
       " </td>,\n",
       " <td ng-switch=\"obj.ty\">\n",
       " <!-- -->\n",
       " <!-- -->\n",
       " <!-- --><span ng-switch-when=\"ISRC\">(3) Inward supplies liable to reverse charge (other than 1 &amp; 2 above)</span><!-- -->\n",
       " <!-- -->\n",
       " <!-- -->\n",
       " </td>,\n",
       " <td ng-class=\"{'has-error' : (obj.ty !== 'IMPS' &amp;&amp; exdLimit_Elg4itc['itc_elg']['itc_avl'][obj.ty]['iamt'])}\">\n",
       " <!-- --><input assign-zero=\"\" class=\"form-control formedit newinv currency ng-pristine ng-untouched ng-valid ng-not-empty\" data-formating3b=\"currency\" data-fraction=\"2\" data-ng-change=\"chkLimit(obj.iamt,'itc_avl',obj.ty,'iamt');calculateNetITC();checkRevChrgCred()\" data-ng-if=\"obj.ty !== 'IMPS'\" data-ng-model=\"obj.iamt\" disabled=\"disabled\" id=\"invval\" ng-disabled=\"disableAll3BF\" title=\"Your amount : ₹0.00   System computed :₹0.00\"/><!-- -->\n",
       " <!-- -->\n",
       " </td>,\n",
       " <td ng-class=\"{'has-error' : (exdLimit_Elg4itc['itc_elg']['itc_avl'][obj.ty]['camt'])}\" ng-if=\"obj.ty !== 'IMPG' &amp;&amp; obj.ty !== 'IMPS'\">\n",
       " <input assign-zero=\"\" class=\"form-control formedit newinv currency ng-pristine ng-untouched ng-valid ng-not-empty\" data-formating3b=\"currency\" data-fraction=\"2\" data-ng-change=\"chkLimit(obj.camt,'itc_avl',obj.ty,'camt');copyGSTelgitc(obj,'camt');calculateNetITC();checkRevChrgCred()\" data-ng-model=\"obj.camt\" disabled=\"disabled\" id=\"invval\" ng-disabled=\"disableAll3BF\" title=\"Your amount : ₹0.00   System computed :₹0.00\"/>\n",
       " </td>,\n",
       " <td ng-class=\"{'has-error' : (exdLimit_Elg4itc['itc_elg']['itc_avl'][obj.ty]['samt'])}\" ng-if=\"obj.ty !== 'IMPG' &amp;&amp; obj.ty !== 'IMPS'\">\n",
       " <input assign-zero=\"\" class=\"form-control formedit newinv currency ng-pristine ng-untouched ng-valid ng-not-empty\" data-formating3b=\"currency\" data-fraction=\"2\" data-ng-change=\"chkLimit(obj.samt,'itc_avl',obj.ty,'samt');copyGSTelgitc(obj,'samt');calculateNetITC();checkRevChrgCred()\" data-ng-model=\"obj.samt\" disabled=\"disabled\" id=\"invval\" ng-disabled=\"disableAll3BF\" title=\"Your amount : ₹0.00   System computed :₹0.00\"/>\n",
       " </td>,\n",
       " <td ng-class=\"{'has-error' : (obj.ty !== 'IMPS' &amp;&amp; exdLimit_Elg4itc['itc_elg']['itc_avl'][obj.ty]['csamt'])}\">\n",
       " <!-- --><input assign-zero=\"\" class=\"form-control formedit newinv currency ng-pristine ng-untouched ng-valid ng-not-empty\" data-formating3b=\"currency\" data-fraction=\"2\" data-ng-change=\"chkLimit(obj.csamt,'itc_avl',obj.ty,'csamt');calculateNetITC();checkRevChrgCred()\" data-ng-if=\"obj.ty !== 'IMPS'\" data-ng-model=\"obj.csamt\" disabled=\"disabled\" id=\"invval\" ng-disabled=\"disableAll3BF\" title=\"Your amount : ₹0.00   System computed :₹0.00\"/><!-- -->\n",
       " <!-- -->\n",
       " </td>,\n",
       " <td ng-switch=\"obj.ty\">\n",
       " <!-- -->\n",
       " <!-- -->\n",
       " <!-- -->\n",
       " <!-- --><span ng-switch-when=\"ISD\">(4) Inward supplies from ISD</span><!-- -->\n",
       " <!-- -->\n",
       " </td>,\n",
       " <td ng-class=\"{'has-error' : (obj.ty !== 'IMPS' &amp;&amp; exdLimit_Elg4itc['itc_elg']['itc_avl'][obj.ty]['iamt'])}\">\n",
       " <!-- --><input assign-zero=\"\" class=\"form-control formedit newinv currency ng-pristine ng-untouched ng-valid ng-not-empty\" data-formating3b=\"currency\" data-fraction=\"2\" data-ng-change=\"chkLimit(obj.iamt,'itc_avl',obj.ty,'iamt');calculateNetITC();checkRevChrgCred()\" data-ng-if=\"obj.ty !== 'IMPS'\" data-ng-model=\"obj.iamt\" disabled=\"disabled\" id=\"invval\" ng-disabled=\"disableAll3BF\" title=\"Your amount : ₹0.00   System computed :₹0.00\"/><!-- -->\n",
       " <!-- -->\n",
       " </td>,\n",
       " <td ng-class=\"{'has-error' : (exdLimit_Elg4itc['itc_elg']['itc_avl'][obj.ty]['camt'])}\" ng-if=\"obj.ty !== 'IMPG' &amp;&amp; obj.ty !== 'IMPS'\">\n",
       " <input assign-zero=\"\" class=\"form-control formedit newinv currency ng-pristine ng-untouched ng-valid ng-not-empty\" data-formating3b=\"currency\" data-fraction=\"2\" data-ng-change=\"chkLimit(obj.camt,'itc_avl',obj.ty,'camt');copyGSTelgitc(obj,'camt');calculateNetITC();checkRevChrgCred()\" data-ng-model=\"obj.camt\" disabled=\"disabled\" id=\"invval\" ng-disabled=\"disableAll3BF\" title=\"Your amount : ₹0.00   System computed :₹0.00\"/>\n",
       " </td>,\n",
       " <td ng-class=\"{'has-error' : (exdLimit_Elg4itc['itc_elg']['itc_avl'][obj.ty]['samt'])}\" ng-if=\"obj.ty !== 'IMPG' &amp;&amp; obj.ty !== 'IMPS'\">\n",
       " <input assign-zero=\"\" class=\"form-control formedit newinv currency ng-pristine ng-untouched ng-valid ng-not-empty\" data-formating3b=\"currency\" data-fraction=\"2\" data-ng-change=\"chkLimit(obj.samt,'itc_avl',obj.ty,'samt');copyGSTelgitc(obj,'samt');calculateNetITC();checkRevChrgCred()\" data-ng-model=\"obj.samt\" disabled=\"disabled\" id=\"invval\" ng-disabled=\"disableAll3BF\" title=\"Your amount : ₹0.00   System computed :₹0.00\"/>\n",
       " </td>,\n",
       " <td ng-class=\"{'has-error' : (obj.ty !== 'IMPS' &amp;&amp; exdLimit_Elg4itc['itc_elg']['itc_avl'][obj.ty]['csamt'])}\">\n",
       " <!-- --><input assign-zero=\"\" class=\"form-control formedit newinv currency ng-pristine ng-untouched ng-valid ng-not-empty\" data-formating3b=\"currency\" data-fraction=\"2\" data-ng-change=\"chkLimit(obj.csamt,'itc_avl',obj.ty,'csamt');calculateNetITC();checkRevChrgCred()\" data-ng-if=\"obj.ty !== 'IMPS'\" data-ng-model=\"obj.csamt\" disabled=\"disabled\" id=\"invval\" ng-disabled=\"disableAll3BF\" title=\"Your amount : ₹0.00   System computed :₹0.00\"/><!-- -->\n",
       " <!-- -->\n",
       " </td>,\n",
       " <td ng-switch=\"obj.ty\">\n",
       " <!-- -->\n",
       " <!-- -->\n",
       " <!-- -->\n",
       " <!-- -->\n",
       " <!-- --><span ng-switch-when=\"OTH\">(5) All other ITC</span><!-- -->\n",
       " </td>,\n",
       " <td ng-class=\"{'has-error' : (obj.ty !== 'IMPS' &amp;&amp; exdLimit_Elg4itc['itc_elg']['itc_avl'][obj.ty]['iamt'])}\">\n",
       " <!-- --><input assign-zero=\"\" class=\"form-control formedit newinv currency ng-pristine ng-untouched ng-valid ng-not-empty\" data-formating3b=\"currency\" data-fraction=\"2\" data-ng-change=\"chkLimit(obj.iamt,'itc_avl',obj.ty,'iamt');calculateNetITC();checkRevChrgCred()\" data-ng-if=\"obj.ty !== 'IMPS'\" data-ng-model=\"obj.iamt\" disabled=\"disabled\" id=\"invval\" ng-disabled=\"disableAll3BF\" title=\"Your amount : ₹808.00   System computed :₹808.25\"/><!-- -->\n",
       " <!-- -->\n",
       " </td>,\n",
       " <td ng-class=\"{'has-error' : (exdLimit_Elg4itc['itc_elg']['itc_avl'][obj.ty]['camt'])}\" ng-if=\"obj.ty !== 'IMPG' &amp;&amp; obj.ty !== 'IMPS'\">\n",
       " <input assign-zero=\"\" class=\"form-control formedit newinv currency ng-pristine ng-untouched ng-valid ng-not-empty\" data-formating3b=\"currency\" data-fraction=\"2\" data-ng-change=\"chkLimit(obj.camt,'itc_avl',obj.ty,'camt');copyGSTelgitc(obj,'camt');calculateNetITC();checkRevChrgCred()\" data-ng-model=\"obj.camt\" disabled=\"disabled\" id=\"invval\" ng-disabled=\"disableAll3BF\" title=\"Your amount : ₹0.00   System computed :₹0.00\"/>\n",
       " </td>,\n",
       " <td ng-class=\"{'has-error' : (exdLimit_Elg4itc['itc_elg']['itc_avl'][obj.ty]['samt'])}\" ng-if=\"obj.ty !== 'IMPG' &amp;&amp; obj.ty !== 'IMPS'\">\n",
       " <input assign-zero=\"\" class=\"form-control formedit newinv currency ng-pristine ng-untouched ng-valid ng-not-empty\" data-formating3b=\"currency\" data-fraction=\"2\" data-ng-change=\"chkLimit(obj.samt,'itc_avl',obj.ty,'samt');copyGSTelgitc(obj,'samt');calculateNetITC();checkRevChrgCred()\" data-ng-model=\"obj.samt\" disabled=\"disabled\" id=\"invval\" ng-disabled=\"disableAll3BF\" title=\"Your amount : ₹0.00   System computed :₹0.00\"/>\n",
       " </td>,\n",
       " <td ng-class=\"{'has-error' : (obj.ty !== 'IMPS' &amp;&amp; exdLimit_Elg4itc['itc_elg']['itc_avl'][obj.ty]['csamt'])}\">\n",
       " <!-- --><input assign-zero=\"\" class=\"form-control formedit newinv currency ng-pristine ng-untouched ng-valid ng-not-empty\" data-formating3b=\"currency\" data-fraction=\"2\" data-ng-change=\"chkLimit(obj.csamt,'itc_avl',obj.ty,'csamt');calculateNetITC();checkRevChrgCred()\" data-ng-if=\"obj.ty !== 'IMPS'\" data-ng-model=\"obj.csamt\" disabled=\"disabled\" id=\"invval\" ng-disabled=\"disableAll3BF\" title=\"Your amount : ₹0.00   System computed :₹0.00\"/><!-- -->\n",
       " <!-- -->\n",
       " </td>,\n",
       " <td ng-switch=\"obj.ty\">\n",
       " <!-- --><span ng-switch-when=\"RUL\">(1) As per Rule 42 &amp; 43 of CGST/SGST rules</span><!-- -->\n",
       " <!-- -->\n",
       " </td>,\n",
       " <td ng-class=\"{'has-error' : (obj.ty !== 'RUL' &amp;&amp; exdLimit_Elg4itc['itc_elg']['itc_rev'][obj.ty]['iamt'])}\">\n",
       " <!-- -->\n",
       " <!-- --><input assign-zero=\"\" class=\"form-control formedit newinv currency ng-pristine ng-untouched ng-valid ng-not-empty\" data-formating3b=\"currency\" data-fraction=\"2\" data-ng-if=\"obj.ty === 'RUL'\" data-ng-model=\"obj.iamt\" disabled=\"disabled\" id=\"invval\" ng-change=\"calculateNetITC()\" ng-disabled=\"disableAll3BF\"/><!-- -->\n",
       " </td>,\n",
       " <td ng-class=\"{'has-error' : (obj.ty !== 'RUL' &amp;&amp; exdLimit_Elg4itc['itc_elg']['itc_rev'][obj.ty]['camt'])}\">\n",
       " <!-- -->\n",
       " <!-- --><input assign-zero=\"\" class=\"form-control formedit newinv currency ng-pristine ng-untouched ng-valid ng-not-empty\" data-formating3b=\"currency\" data-fraction=\"2\" data-ng-if=\"obj.ty === 'RUL'\" data-ng-model=\"obj.camt\" disabled=\"disabled\" id=\"invval\" ng-change=\"copyGSTelgitc(obj, 'camt',true);calculateNetITC()\" ng-disabled=\"disableAll3BF\"/><!-- -->\n",
       " </td>,\n",
       " <td ng-class=\"{'has-error' : (obj.ty !== 'RUL' &amp;&amp; exdLimit_Elg4itc['itc_elg']['itc_rev'][obj.ty]['samt'])}\">\n",
       " <!-- -->\n",
       " <!-- --><input assign-zero=\"\" class=\"form-control formedit newinv currency ng-pristine ng-untouched ng-valid ng-not-empty\" data-formating3b=\"currency\" data-fraction=\"2\" data-ng-if=\"obj.ty === 'RUL'\" data-ng-model=\"obj.samt\" disabled=\"disabled\" id=\"invval\" ng-change=\"copyGSTelgitc(obj,'samt',true);calculateNetITC()\" ng-disabled=\"disableAll3BF\"/><!-- -->\n",
       " </td>,\n",
       " <td ng-class=\"{'has-error' : (obj.ty !== 'RUL' &amp;&amp; exdLimit_Elg4itc['itc_elg']['itc_rev'][obj.ty]['csamt'])}\">\n",
       " <!-- -->\n",
       " <!-- --><input assign-zero=\"\" class=\"form-control formedit newinv currency ng-pristine ng-untouched ng-valid ng-not-empty\" data-formating3b=\"currency\" data-fraction=\"2\" data-ng-if=\"obj.ty === 'RUL'\" data-ng-model=\"obj.csamt\" disabled=\"disabled\" id=\"invval\" ng-change=\"calculateNetITC()\" ng-disabled=\"disableAll3BF\"/><!-- -->\n",
       " </td>,\n",
       " <td ng-switch=\"obj.ty\">\n",
       " <!-- -->\n",
       " <!-- --><span ng-switch-when=\"OTH\">(2) Others</span><!-- -->\n",
       " </td>,\n",
       " <td ng-class=\"{'has-error' : (obj.ty !== 'RUL' &amp;&amp; exdLimit_Elg4itc['itc_elg']['itc_rev'][obj.ty]['iamt'])}\">\n",
       " <!-- --><input assign-zero=\"\" class=\"form-control formedit newinv currency ng-pristine ng-untouched ng-valid ng-not-empty\" data-formating3b=\"currency\" data-fraction=\"2\" data-ng-change=\"chkLimit(obj.iamt,'itc_rev',obj.ty,'iamt');calculateNetITC()\" data-ng-if=\"obj.ty !== 'RUL'\" data-ng-model=\"obj.iamt\" disabled=\"disabled\" id=\"invval\" ng-disabled=\"disableAll3BF\" title=\"Your amount : ₹0.00   System computed :₹0.00\"/><!-- -->\n",
       " <!-- -->\n",
       " </td>,\n",
       " <td ng-class=\"{'has-error' : (obj.ty !== 'RUL' &amp;&amp; exdLimit_Elg4itc['itc_elg']['itc_rev'][obj.ty]['camt'])}\">\n",
       " <!-- --><input assign-zero=\"\" class=\"form-control formedit newinv currency ng-pristine ng-untouched ng-valid ng-not-empty\" data-formating3b=\"currency\" data-fraction=\"2\" data-ng-if=\"obj.ty !== 'RUL'\" data-ng-model=\"obj.camt\" disabled=\"disabled\" id=\"invval\" ng-change=\"chkLimit(obj.camt,'itc_rev',obj.ty,'camt');copyGSTelgitc(obj, 'camt',true);calculateNetITC()\" ng-disabled=\"disableAll3BF\" title=\"Your amount : ₹0.00   System computed :₹0.00\"/><!-- -->\n",
       " <!-- -->\n",
       " </td>,\n",
       " <td ng-class=\"{'has-error' : (obj.ty !== 'RUL' &amp;&amp; exdLimit_Elg4itc['itc_elg']['itc_rev'][obj.ty]['samt'])}\">\n",
       " <!-- --><input assign-zero=\"\" class=\"form-control formedit newinv currency ng-pristine ng-untouched ng-valid ng-not-empty\" data-formating3b=\"currency\" data-fraction=\"2\" data-ng-if=\"obj.ty !== 'RUL'\" data-ng-model=\"obj.samt\" disabled=\"disabled\" id=\"invval\" ng-change=\"chkLimit(obj.samt,'itc_rev',obj.ty,'samt');copyGSTelgitc(obj,'samt',true);calculateNetITC()\" ng-disabled=\"disableAll3BF\" title=\"Your amount : ₹0.00   System computed :₹0.00\"/><!-- -->\n",
       " <!-- -->\n",
       " </td>,\n",
       " <td ng-class=\"{'has-error' : (obj.ty !== 'RUL' &amp;&amp; exdLimit_Elg4itc['itc_elg']['itc_rev'][obj.ty]['csamt'])}\">\n",
       " <!-- --><input assign-zero=\"\" class=\"form-control formedit newinv currency ng-pristine ng-untouched ng-valid ng-not-empty\" data-formating3b=\"currency\" data-fraction=\"2\" data-ng-if=\"obj.ty !== 'RUL'\" data-ng-model=\"obj.csamt\" disabled=\"disabled\" id=\"invval\" ng-change=\"chkLimit(obj.csamt,'itc_rev',obj.ty,'csamt');calculateNetITC()\" ng-disabled=\"disableAll3BF\" title=\"Your amount : ₹0.00   System computed :₹0.00\"/><!-- -->\n",
       " <!-- -->\n",
       " </td>,\n",
       " <td>\n",
       " <input assign-zero=\"\" class=\"form-control formedit newinv currency ng-pristine ng-untouched ng-valid ng-not-empty\" data-formating=\"currency\" data-fraction=\"2\" data-ng-model=\"itc_elg.itc_net.iamt\" disabled=\"disabled\" id=\"invval\" ng-disabled=\"true\"/>\n",
       " </td>,\n",
       " <td>\n",
       " <input assign-zero=\"\" class=\"form-control formedit newinv currency ng-pristine ng-untouched ng-valid ng-not-empty\" data-formating=\"currency\" data-fraction=\"2\" data-ng-model=\"itc_elg.itc_net.camt\" disabled=\"disabled\" id=\"invval\" ng-disabled=\"true\"/>\n",
       " </td>,\n",
       " <td>\n",
       " <input assign-zero=\"\" class=\"form-control formedit newinv currency ng-pristine ng-untouched ng-valid ng-not-empty\" data-formating=\"currency\" data-fraction=\"2\" data-ng-model=\"itc_elg.itc_net.samt\" disabled=\"disabled\" id=\"invval\" ng-disabled=\"true\"/>\n",
       " </td>,\n",
       " <td>\n",
       " <input assign-zero=\"\" class=\"form-control formedit newinv currency ng-pristine ng-untouched ng-valid ng-not-empty\" data-formating=\"currency\" data-fraction=\"2\" data-ng-model=\"itc_elg.itc_net.csamt\" disabled=\"disabled\" id=\"invval\" ng-disabled=\"true\"/>\n",
       " </td>,\n",
       " <td ng-switch=\"obj.ty\">\n",
       " <!-- --><span ng-switch-when=\"RUL\">(1) As per section 17(5)</span><!-- -->\n",
       " <!-- -->\n",
       " </td>,\n",
       " <td>\n",
       " <!-- -->\n",
       " <!-- --><input assign-zero=\"\" class=\"form-control formedit newinv currency ng-pristine ng-untouched ng-valid ng-not-empty\" data-formating3b=\"currency\" data-fraction=\"2\" data-ng-if=\"valid2Brel2rtnprd || valid2BQrel2rtnprd\" data-ng-model=\"obj.iamt\" disabled=\"disabled\" id=\"invval\" ng-disabled=\"disableAll3BF\"/><!-- -->\n",
       " </td>,\n",
       " <td>\n",
       " <!-- -->\n",
       " <!-- --><input assign-zero=\"\" class=\"form-control formedit newinv currency ng-pristine ng-untouched ng-valid ng-not-empty\" data-formating3b=\"currency\" data-fraction=\"2\" data-ng-change=\"copyGSTelgitc(obj,'camt')\" data-ng-if=\"valid2Brel2rtnprd || valid2BQrel2rtnprd\" data-ng-model=\"obj.camt\" disabled=\"disabled\" id=\"invval\" ng-disabled=\"disableAll3BF\"/><!-- -->\n",
       " </td>,\n",
       " <td>\n",
       " <!-- -->\n",
       " <!-- --><input assign-zero=\"\" class=\"form-control formedit newinv currency ng-pristine ng-untouched ng-valid ng-not-empty\" data-formating3b=\"currency\" data-fraction=\"2\" data-ng-change=\"copyGSTelgitc(obj,'samt')\" data-ng-if=\"valid2Brel2rtnprd || valid2BQrel2rtnprd\" data-ng-model=\"obj.samt\" disabled=\"disabled\" id=\"invval\" ng-disabled=\"disableAll3BF\"/><!-- -->\n",
       " </td>,\n",
       " <td>\n",
       " <!-- -->\n",
       " <!-- --><input assign-zero=\"\" class=\"form-control formedit newinv currency ng-pristine ng-untouched ng-valid ng-not-empty\" data-formating3b=\"currency\" data-fraction=\"2\" data-ng-if=\"valid2Brel2rtnprd || valid2BQrel2rtnprd\" data-ng-model=\"obj.csamt\" disabled=\"disabled\" id=\"invval\" ng-disabled=\"disableAll3BF\"/><!-- -->\n",
       " </td>,\n",
       " <td ng-switch=\"obj.ty\">\n",
       " <!-- -->\n",
       " <!-- --><span ng-switch-when=\"OTH\">(2) Others</span><!-- -->\n",
       " </td>,\n",
       " <td>\n",
       " <!-- -->\n",
       " <!-- --><input assign-zero=\"\" class=\"form-control formedit newinv currency ng-pristine ng-untouched ng-valid ng-not-empty\" data-formating3b=\"currency\" data-fraction=\"2\" data-ng-if=\"valid2Brel2rtnprd || valid2BQrel2rtnprd\" data-ng-model=\"obj.iamt\" disabled=\"disabled\" id=\"invval\" ng-disabled=\"disableAll3BF\"/><!-- -->\n",
       " </td>,\n",
       " <td>\n",
       " <!-- -->\n",
       " <!-- --><input assign-zero=\"\" class=\"form-control formedit newinv currency ng-pristine ng-untouched ng-valid ng-not-empty\" data-formating3b=\"currency\" data-fraction=\"2\" data-ng-change=\"copyGSTelgitc(obj,'camt')\" data-ng-if=\"valid2Brel2rtnprd || valid2BQrel2rtnprd\" data-ng-model=\"obj.camt\" disabled=\"disabled\" id=\"invval\" ng-disabled=\"disableAll3BF\"/><!-- -->\n",
       " </td>,\n",
       " <td>\n",
       " <!-- -->\n",
       " <!-- --><input assign-zero=\"\" class=\"form-control formedit newinv currency ng-pristine ng-untouched ng-valid ng-not-empty\" data-formating3b=\"currency\" data-fraction=\"2\" data-ng-change=\"copyGSTelgitc(obj,'samt')\" data-ng-if=\"valid2Brel2rtnprd || valid2BQrel2rtnprd\" data-ng-model=\"obj.samt\" disabled=\"disabled\" id=\"invval\" ng-disabled=\"disableAll3BF\"/><!-- -->\n",
       " </td>,\n",
       " <td>\n",
       " <!-- -->\n",
       " <!-- --><input assign-zero=\"\" class=\"form-control formedit newinv currency ng-pristine ng-untouched ng-valid ng-not-empty\" data-formating3b=\"currency\" data-fraction=\"2\" data-ng-if=\"valid2Brel2rtnprd || valid2BQrel2rtnprd\" data-ng-model=\"obj.csamt\" disabled=\"disabled\" id=\"invval\" ng-disabled=\"disableAll3BF\"/><!-- -->\n",
       " </td>]"
      ]
     },
     "execution_count": 62,
     "metadata": {},
     "output_type": "execute_result"
    }
   ],
   "source": [
    "BS1.find_all('div',class_=\"rettbl-format\")[0].find_all('table')[0].find_all('td')"
   ]
  },
  {
   "cell_type": "code",
   "execution_count": 61,
   "id": "319182ee",
   "metadata": {
    "ExecuteTime": {
     "end_time": "2022-05-30T07:49:26.229782Z",
     "start_time": "2022-05-30T07:49:25.087192Z"
    }
   },
   "outputs": [
    {
     "name": "stdout",
     "output_type": "stream",
     "text": [
      "No\n",
      "Your amount : ₹0.00   System computed :₹0.00\n",
      "<td class=\"gstr3b-blank\" ng-if=\"obj.ty === 'IMPG' || obj.ty === 'IMPS'\"></td>\n",
      "<td class=\"gstr3b-blank\" ng-if=\"obj.ty === 'IMPG' || obj.ty === 'IMPS'\"></td>\n",
      "Your amount : ₹0.00   System computed :₹0.00\n",
      "No\n",
      "No\n",
      "<td class=\"gstr3b-blank\" ng-if=\"obj.ty === 'IMPG' || obj.ty === 'IMPS'\"></td>\n",
      "<td class=\"gstr3b-blank\" ng-if=\"obj.ty === 'IMPG' || obj.ty === 'IMPS'\"></td>\n",
      "No\n",
      "No\n",
      "Your amount : ₹0.00   System computed :₹0.00\n",
      "Your amount : ₹0.00   System computed :₹0.00\n",
      "Your amount : ₹0.00   System computed :₹0.00\n",
      "Your amount : ₹0.00   System computed :₹0.00\n",
      "No\n",
      "Your amount : ₹0.00   System computed :₹0.00\n",
      "Your amount : ₹0.00   System computed :₹0.00\n",
      "Your amount : ₹0.00   System computed :₹0.00\n",
      "Your amount : ₹0.00   System computed :₹0.00\n",
      "No\n",
      "Your amount : ₹808.00   System computed :₹808.25\n",
      "Your amount : ₹0.00   System computed :₹0.00\n",
      "Your amount : ₹0.00   System computed :₹0.00\n",
      "Your amount : ₹0.00   System computed :₹0.00\n",
      "No\n",
      "No\n",
      "No\n",
      "No\n",
      "No\n",
      "No\n",
      "Your amount : ₹0.00   System computed :₹0.00\n",
      "Your amount : ₹0.00   System computed :₹0.00\n",
      "Your amount : ₹0.00   System computed :₹0.00\n",
      "Your amount : ₹0.00   System computed :₹0.00\n",
      "No\n",
      "No\n",
      "No\n",
      "No\n",
      "No\n",
      "No\n",
      "No\n",
      "No\n",
      "No\n",
      "No\n",
      "No\n",
      "No\n",
      "No\n",
      "No\n"
     ]
    }
   ],
   "source": [
    "# BS1.find_all('div',class_=\"rettbl-format\")[0].find_all('table')[0].find_all('td')\n",
    "for i in range(len(BS1.find_all('div',class_=\"rettbl-format\")[0].find_all('table')[0].find_all('td'))):\n",
    "    try:\n",
    "        print(BS1.find_all('div',class_=\"rettbl-format\")[0].find_all('table')[0].find_all('td')[i].find_all('input')[0]['title'])\n",
    "    except:\n",
    "        try:\n",
    "            if BS1.find_all('div',class_=\"rettbl-format\")[0].find_all('table')[0].find_all('td')[i]['class'][0]== 'gstr3b-blank':\n",
    "                print(BS1.find_all('div',class_=\"rettbl-format\")[0].find_all('table')[0].find_all('td')[i])\n",
    "        except:\n",
    "            print('No')"
   ]
  },
  {
   "cell_type": "code",
   "execution_count": 31,
   "id": "b834e878",
   "metadata": {
    "ExecuteTime": {
     "end_time": "2022-05-30T07:32:48.594816Z",
     "start_time": "2022-05-30T07:32:47.573619Z"
    }
   },
   "outputs": [
    {
     "name": "stdout",
     "output_type": "stream",
     "text": [
      "No\n",
      "Your amount : ₹0.00   System computed :₹0.00\n",
      "No\n",
      "No\n",
      "Your amount : ₹0.00   System computed :₹0.00\n",
      "No\n",
      "No\n",
      "No\n",
      "No\n",
      "No\n",
      "No\n",
      "Your amount : ₹0.00   System computed :₹0.00\n",
      "Your amount : ₹0.00   System computed :₹0.00\n",
      "Your amount : ₹0.00   System computed :₹0.00\n",
      "Your amount : ₹0.00   System computed :₹0.00\n",
      "No\n",
      "Your amount : ₹0.00   System computed :₹0.00\n",
      "Your amount : ₹0.00   System computed :₹0.00\n",
      "Your amount : ₹0.00   System computed :₹0.00\n",
      "Your amount : ₹0.00   System computed :₹0.00\n",
      "No\n",
      "Your amount : ₹808.00   System computed :₹808.25\n",
      "Your amount : ₹0.00   System computed :₹0.00\n",
      "Your amount : ₹0.00   System computed :₹0.00\n",
      "Your amount : ₹0.00   System computed :₹0.00\n",
      "No\n",
      "No\n",
      "No\n",
      "No\n",
      "No\n",
      "No\n",
      "Your amount : ₹0.00   System computed :₹0.00\n",
      "Your amount : ₹0.00   System computed :₹0.00\n",
      "Your amount : ₹0.00   System computed :₹0.00\n",
      "Your amount : ₹0.00   System computed :₹0.00\n",
      "No\n",
      "No\n",
      "No\n",
      "No\n",
      "No\n",
      "No\n",
      "No\n",
      "No\n",
      "No\n",
      "No\n",
      "No\n",
      "No\n",
      "No\n",
      "No\n"
     ]
    }
   ],
   "source": [
    "# BS1.find_all('div',class_=\"rettbl-format\")[0].find_all('table')[0].find_all('td')\n",
    "for i in range(len(BS1.find_all('div',class_=\"rettbl-format\")[0].find_all('table')[0].find_all('td'))):\n",
    "    try:\n",
    "        print(BS1.find_all('div',class_=\"rettbl-format\")[0].find_all('table')[0].find_all('td')[i].find_all('input')[0]['title'])\n",
    "    except:\n",
    "        print('No')"
   ]
  },
  {
   "cell_type": "code",
   "execution_count": null,
   "id": "259ccff2",
   "metadata": {},
   "outputs": [],
   "source": []
  },
  {
   "cell_type": "code",
   "execution_count": 33,
   "id": "8d5030e4",
   "metadata": {
    "ExecuteTime": {
     "end_time": "2022-05-30T07:33:54.575050Z",
     "start_time": "2022-05-30T07:33:54.393089Z"
    }
   },
   "outputs": [
    {
     "ename": "IndexError",
     "evalue": "list index out of range",
     "output_type": "error",
     "traceback": [
      "\u001b[1;31m---------------------------------------------------------------------------\u001b[0m",
      "\u001b[1;31mKeyError\u001b[0m                                  Traceback (most recent call last)",
      "\u001b[1;32m~\\AppData\\Local\\Temp/ipykernel_2436/936621236.py\u001b[0m in \u001b[0;36m<module>\u001b[1;34m\u001b[0m\n\u001b[0;32m      3\u001b[0m     \u001b[1;32mtry\u001b[0m\u001b[1;33m:\u001b[0m\u001b[1;33m\u001b[0m\u001b[1;33m\u001b[0m\u001b[0m\n\u001b[1;32m----> 4\u001b[1;33m         \u001b[1;32mif\u001b[0m \u001b[0mBS1\u001b[0m\u001b[1;33m.\u001b[0m\u001b[0mfind_all\u001b[0m\u001b[1;33m(\u001b[0m\u001b[1;34m'div'\u001b[0m\u001b[1;33m,\u001b[0m\u001b[0mclass_\u001b[0m\u001b[1;33m=\u001b[0m\u001b[1;34m\"rettbl-format\"\u001b[0m\u001b[1;33m)\u001b[0m\u001b[1;33m[\u001b[0m\u001b[1;36m0\u001b[0m\u001b[1;33m]\u001b[0m\u001b[1;33m.\u001b[0m\u001b[0mfind_all\u001b[0m\u001b[1;33m(\u001b[0m\u001b[1;34m'table'\u001b[0m\u001b[1;33m)\u001b[0m\u001b[1;33m[\u001b[0m\u001b[1;36m0\u001b[0m\u001b[1;33m]\u001b[0m\u001b[1;33m.\u001b[0m\u001b[0mfind_all\u001b[0m\u001b[1;33m(\u001b[0m\u001b[1;34m'td'\u001b[0m\u001b[1;33m)\u001b[0m\u001b[1;33m[\u001b[0m\u001b[0mi\u001b[0m\u001b[1;33m]\u001b[0m\u001b[1;33m[\u001b[0m\u001b[1;34m'class'\u001b[0m\u001b[1;33m]\u001b[0m\u001b[1;33m[\u001b[0m\u001b[1;36m0\u001b[0m\u001b[1;33m]\u001b[0m \u001b[1;33m==\u001b[0m\u001b[1;34m'gstr3b-blank'\u001b[0m\u001b[1;33m:\u001b[0m\u001b[1;33m\u001b[0m\u001b[1;33m\u001b[0m\u001b[0m\n\u001b[0m\u001b[0;32m      5\u001b[0m             \u001b[0mprint\u001b[0m\u001b[1;33m(\u001b[0m\u001b[0mBS1\u001b[0m\u001b[1;33m.\u001b[0m\u001b[0mfind_all\u001b[0m\u001b[1;33m(\u001b[0m\u001b[1;34m'div'\u001b[0m\u001b[1;33m,\u001b[0m\u001b[0mclass_\u001b[0m\u001b[1;33m=\u001b[0m\u001b[1;34m\"rettbl-format\"\u001b[0m\u001b[1;33m)\u001b[0m\u001b[1;33m[\u001b[0m\u001b[1;36m0\u001b[0m\u001b[1;33m]\u001b[0m\u001b[1;33m.\u001b[0m\u001b[0mfind_all\u001b[0m\u001b[1;33m(\u001b[0m\u001b[1;34m'table'\u001b[0m\u001b[1;33m)\u001b[0m\u001b[1;33m[\u001b[0m\u001b[1;36m0\u001b[0m\u001b[1;33m]\u001b[0m\u001b[1;33m.\u001b[0m\u001b[0mfind_all\u001b[0m\u001b[1;33m(\u001b[0m\u001b[1;34m'td'\u001b[0m\u001b[1;33m)\u001b[0m\u001b[1;33m[\u001b[0m\u001b[0mi\u001b[0m\u001b[1;33m]\u001b[0m\u001b[1;33m)\u001b[0m\u001b[1;33m\u001b[0m\u001b[1;33m\u001b[0m\u001b[0m\n",
      "\u001b[1;32m~\\anaconda3\\lib\\site-packages\\bs4\\element.py\u001b[0m in \u001b[0;36m__getitem__\u001b[1;34m(self, key)\u001b[0m\n\u001b[0;32m   1485\u001b[0m         and throws an exception if it's not there.\"\"\"\n\u001b[1;32m-> 1486\u001b[1;33m         \u001b[1;32mreturn\u001b[0m \u001b[0mself\u001b[0m\u001b[1;33m.\u001b[0m\u001b[0mattrs\u001b[0m\u001b[1;33m[\u001b[0m\u001b[0mkey\u001b[0m\u001b[1;33m]\u001b[0m\u001b[1;33m\u001b[0m\u001b[1;33m\u001b[0m\u001b[0m\n\u001b[0m\u001b[0;32m   1487\u001b[0m \u001b[1;33m\u001b[0m\u001b[0m\n",
      "\u001b[1;31mKeyError\u001b[0m: 'class'",
      "\nDuring handling of the above exception, another exception occurred:\n",
      "\u001b[1;31mIndexError\u001b[0m                                Traceback (most recent call last)",
      "\u001b[1;32m~\\AppData\\Local\\Temp/ipykernel_2436/936621236.py\u001b[0m in \u001b[0;36m<module>\u001b[1;34m\u001b[0m\n\u001b[0;32m      6\u001b[0m \u001b[1;31m#             eitc.append('-')\u001b[0m\u001b[1;33m\u001b[0m\u001b[1;33m\u001b[0m\u001b[0m\n\u001b[0;32m      7\u001b[0m     \u001b[1;32mexcept\u001b[0m\u001b[1;33m:\u001b[0m\u001b[1;33m\u001b[0m\u001b[1;33m\u001b[0m\u001b[0m\n\u001b[1;32m----> 8\u001b[1;33m         \u001b[0mprint\u001b[0m\u001b[1;33m(\u001b[0m\u001b[0mBS1\u001b[0m\u001b[1;33m.\u001b[0m\u001b[0mfind_all\u001b[0m\u001b[1;33m(\u001b[0m\u001b[1;34m'div'\u001b[0m\u001b[1;33m,\u001b[0m\u001b[0mclass_\u001b[0m\u001b[1;33m=\u001b[0m\u001b[1;34m\"rettbl-format\"\u001b[0m\u001b[1;33m)\u001b[0m\u001b[1;33m[\u001b[0m\u001b[1;36m0\u001b[0m\u001b[1;33m]\u001b[0m\u001b[1;33m.\u001b[0m\u001b[0mfind_all\u001b[0m\u001b[1;33m(\u001b[0m\u001b[1;34m'table'\u001b[0m\u001b[1;33m)\u001b[0m\u001b[1;33m[\u001b[0m\u001b[1;36m0\u001b[0m\u001b[1;33m]\u001b[0m\u001b[1;33m.\u001b[0m\u001b[0mfind_all\u001b[0m\u001b[1;33m(\u001b[0m\u001b[1;34m'td'\u001b[0m\u001b[1;33m)\u001b[0m\u001b[1;33m[\u001b[0m\u001b[0mi\u001b[0m\u001b[1;33m]\u001b[0m\u001b[1;33m.\u001b[0m\u001b[0mfind_all\u001b[0m\u001b[1;33m(\u001b[0m\u001b[1;34m'input'\u001b[0m\u001b[1;33m)\u001b[0m\u001b[1;33m[\u001b[0m\u001b[1;36m0\u001b[0m\u001b[1;33m]\u001b[0m\u001b[1;33m[\u001b[0m\u001b[1;34m'title'\u001b[0m\u001b[1;33m]\u001b[0m\u001b[1;33m.\u001b[0m\u001b[0msplit\u001b[0m\u001b[1;33m(\u001b[0m\u001b[1;34m':'\u001b[0m\u001b[1;33m)\u001b[0m\u001b[1;33m[\u001b[0m\u001b[1;33m-\u001b[0m\u001b[1;36m1\u001b[0m\u001b[1;33m]\u001b[0m\u001b[1;33m.\u001b[0m\u001b[0mreplace\u001b[0m\u001b[1;33m(\u001b[0m\u001b[1;34m'₹'\u001b[0m\u001b[1;33m,\u001b[0m\u001b[1;34m''\u001b[0m\u001b[1;33m)\u001b[0m\u001b[1;33m.\u001b[0m\u001b[0mreplace\u001b[0m\u001b[1;33m(\u001b[0m\u001b[1;34m','\u001b[0m\u001b[1;33m,\u001b[0m\u001b[1;34m''\u001b[0m\u001b[1;33m)\u001b[0m\u001b[1;33m)\u001b[0m\u001b[1;33m\u001b[0m\u001b[1;33m\u001b[0m\u001b[0m\n\u001b[0m",
      "\u001b[1;31mIndexError\u001b[0m: list index out of range"
     ]
    }
   ],
   "source": [
    "# eitc = []\n",
    "for i in range(len(BS1.find_all('div',class_=\"rettbl-format\")[0].find_all('table')[0].find_all('td'))):\n",
    "    try:\n",
    "        if BS1.find_all('div',class_=\"rettbl-format\")[0].find_all('table')[0].find_all('td')[i]['class'][0] =='gstr3b-blank':\n",
    "            print(BS1.find_all('div',class_=\"rettbl-format\")[0].find_all('table')[0].find_all('td')[i])\n",
    "#             eitc.append('-')\n",
    "    except:\n",
    "        print(BS1.find_all('div',class_=\"rettbl-format\")[0].find_all('table')[0].find_all('td')[i].find_all('input')[0]['title'].split(':')[-1].replace('₹','').replace(',',''))"
   ]
  },
  {
   "cell_type": "code",
   "execution_count": 188,
   "id": "f8e199ff",
   "metadata": {
    "ExecuteTime": {
     "end_time": "2022-05-29T18:19:25.978320Z",
     "start_time": "2022-05-29T18:19:25.959335Z"
    }
   },
   "outputs": [
    {
     "data": {
      "text/plain": [
       "[]"
      ]
     },
     "execution_count": 188,
     "metadata": {},
     "output_type": "execute_result"
    }
   ],
   "source": [
    "eitc"
   ]
  },
  {
   "cell_type": "code",
   "execution_count": null,
   "id": "20dd6a9b",
   "metadata": {},
   "outputs": [],
   "source": []
  }
 ],
 "metadata": {
  "hide_input": false,
  "kernelspec": {
   "display_name": "Python 3 (ipykernel)",
   "language": "python",
   "name": "python3"
  },
  "language_info": {
   "codemirror_mode": {
    "name": "ipython",
    "version": 3
   },
   "file_extension": ".py",
   "mimetype": "text/x-python",
   "name": "python",
   "nbconvert_exporter": "python",
   "pygments_lexer": "ipython3",
   "version": "3.9.7"
  },
  "nbTranslate": {
   "displayLangs": [
    "*"
   ],
   "hotkey": "alt-t",
   "langInMainMenu": true,
   "sourceLang": "en",
   "targetLang": "fr",
   "useGoogleTranslate": true
  },
  "varInspector": {
   "cols": {
    "lenName": 16,
    "lenType": 16,
    "lenVar": 40
   },
   "kernels_config": {
    "python": {
     "delete_cmd_postfix": "",
     "delete_cmd_prefix": "del ",
     "library": "var_list.py",
     "varRefreshCmd": "print(var_dic_list())"
    },
    "r": {
     "delete_cmd_postfix": ") ",
     "delete_cmd_prefix": "rm(",
     "library": "var_list.r",
     "varRefreshCmd": "cat(var_dic_list()) "
    }
   },
   "types_to_exclude": [
    "module",
    "function",
    "builtin_function_or_method",
    "instance",
    "_Feature"
   ],
   "window_display": false
  }
 },
 "nbformat": 4,
 "nbformat_minor": 5
}
