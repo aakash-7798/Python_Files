{
 "cells": [
  {
   "cell_type": "code",
   "execution_count": 1,
   "id": "77ac8a23",
   "metadata": {
    "ExecuteTime": {
     "end_time": "2022-05-26T08:05:45.575973Z",
     "start_time": "2022-05-26T08:05:34.860640Z"
    }
   },
   "outputs": [],
   "source": [
    "from selenium import webdriver\n",
    "from selenium.webdriver.common.keys import Keys\n",
    "from webdriver_manager.chrome import ChromeDriverManager\n",
    "from getpass import getpass\n",
    "from selenium.webdriver.chrome.service import Service\n",
    "from selenium.webdriver.chrome.options import Options\n",
    "import chromedriver_autoinstaller as chromedriver\n",
    "chromedriver.install()\n",
    "import time\n",
    "import calendar\n",
    "from selenium.common.exceptions import NoSuchElementException\n",
    "import os\n",
    "from io import BytesIO,StringIO\n",
    "import pyautogui\n",
    "from PIL import Image\n",
    "from selenium.webdriver.support.ui import WebDriverWait\n",
    "from selenium.webdriver.support import expected_conditions as EC\n",
    "# https://stackoverflow.com/questions/69875125/find-element-by-commands-are-deprecated-in-selenium\n",
    "from selenium.webdriver.common.by import By"
   ]
  },
  {
   "cell_type": "code",
   "execution_count": 2,
   "id": "e4673f95",
   "metadata": {
    "ExecuteTime": {
     "end_time": "2022-05-26T08:06:18.048769Z",
     "start_time": "2022-05-26T08:05:47.499799Z"
    }
   },
   "outputs": [],
   "source": [
    "import pdfplumber\n",
    "import pandas as pd\n",
    "import string\n",
    "from IPython.display import display\n",
    "from tabulate import tabulate\n",
    "import os\n",
    "from openpyxl import load_workbook\n",
    "from openpyxl.styles.alignment import Alignment\n",
    "from openpyxl.styles import Alignment\n",
    "import openpyxl\n",
    "import xlwings as xw\n",
    "import datetime\n",
    "import calendar\n",
    "import shutil\n",
    "# !pip3 install openpyxl==2.5.14 "
   ]
  },
  {
   "cell_type": "code",
   "execution_count": 3,
   "id": "288efe3d",
   "metadata": {
    "ExecuteTime": {
     "end_time": "2022-05-26T08:06:19.213214Z",
     "start_time": "2022-05-26T08:06:19.196259Z"
    }
   },
   "outputs": [],
   "source": [
    "options = Options()\n",
    "options.add_argument('start-maximized')\n",
    "options.add_argument('disable-infobars')"
   ]
  },
  {
   "cell_type": "code",
   "execution_count": 4,
   "id": "008964a4",
   "metadata": {
    "ExecuteTime": {
     "end_time": "2022-05-26T08:06:36.722736Z",
     "start_time": "2022-05-26T08:06:21.206721Z"
    }
   },
   "outputs": [
    {
     "name": "stdout",
     "output_type": "stream",
     "text": [
      "Enter Username : pagepvtltd_2017\n",
      "Enter Password : ········\n"
     ]
    }
   ],
   "source": [
    "# username = pagepvtltd_2017\n",
    "# password = 'Srinivas@369'\n",
    "username = input(\"Enter Username : \")\n",
    "password = getpass(\"Enter Password : \")"
   ]
  },
  {
   "cell_type": "code",
   "execution_count": 5,
   "id": "381de345",
   "metadata": {
    "ExecuteTime": {
     "end_time": "2022-05-26T08:06:45.897590Z",
     "start_time": "2022-05-26T08:06:42.422729Z"
    }
   },
   "outputs": [
    {
     "name": "stdout",
     "output_type": "stream",
     "text": [
      "Enter Financial Year :    (for Eg:2017-18)2021-22\n"
     ]
    },
    {
     "data": {
      "text/plain": [
       "'E:\\\\pagepvtltd_2017\\\\FY_2021-22\\\\GSTR-3B_PDFs'"
      ]
     },
     "execution_count": 5,
     "metadata": {},
     "output_type": "execute_result"
    }
   ],
   "source": [
    "fyr=[input(\"Enter Financial Year :    (for Eg:2017-18)\")]\n",
    "newpath = r\"E:\\{}\\FY_{}\\GSTR-3B_PDFs\".format(username,fyr[0]) \n",
    "if not os.path.exists(newpath):\n",
    "    os.makedirs(newpath)\n",
    "options.add_experimental_option(\"prefs\",{\"download.default_directory\":newpath})\n",
    "newpath"
   ]
  },
  {
   "cell_type": "code",
   "execution_count": 6,
   "id": "a5c9becd",
   "metadata": {
    "ExecuteTime": {
     "end_time": "2022-05-26T08:07:00.205663Z",
     "start_time": "2022-05-26T08:06:50.602194Z"
    },
    "collapsed": true
   },
   "outputs": [
    {
     "name": "stderr",
     "output_type": "stream",
     "text": [
      "\n",
      "\n",
      "INFO:WDM:\n",
      "\n",
      "====== WebDriver manager ======\n",
      "INFO:WDM:====== WebDriver manager ======\n",
      "Current google-chrome version is 102.0.5005\n",
      "INFO:WDM:Current google-chrome version is 102.0.5005\n",
      "Get LATEST chromedriver version for 102.0.5005 google-chrome\n",
      "INFO:WDM:Get LATEST chromedriver version for 102.0.5005 google-chrome\n",
      "There is no [win32] chromedriver for browser  in cache\n",
      "INFO:WDM:There is no [win32] chromedriver for browser  in cache\n",
      "Trying to download new driver from https://chromedriver.storage.googleapis.com/102.0.5005.61/chromedriver_win32.zip\n",
      "INFO:WDM:Trying to download new driver from https://chromedriver.storage.googleapis.com/102.0.5005.61/chromedriver_win32.zip\n",
      "Driver has been saved in cache [C:\\Users\\aakas\\.wdm\\drivers\\chromedriver\\win32\\102.0.5005.61]\n",
      "INFO:WDM:Driver has been saved in cache [C:\\Users\\aakas\\.wdm\\drivers\\chromedriver\\win32\\102.0.5005.61]\n"
     ]
    }
   ],
   "source": [
    "Driver = webdriver.Chrome(options=options,service=Service(ChromeDriverManager().install())) "
   ]
  },
  {
   "cell_type": "code",
   "execution_count": 7,
   "id": "bb1a5fd0",
   "metadata": {
    "ExecuteTime": {
     "end_time": "2022-05-26T08:07:09.926768Z",
     "start_time": "2022-05-26T08:07:02.315837Z"
    }
   },
   "outputs": [],
   "source": [
    "Driver.get('https://www.gst.gov.in/')\n",
    "Driver.find_element(By.XPATH,\"//a[contains(text(),' Login')]\").click()\n",
    "time.sleep(1)\n",
    "Driver.find_element(By.ID,'username').send_keys(username)\n",
    "time.sleep(1)\n",
    "Driver.find_element(By.ID,\"user_pass\").send_keys(password)\n",
    "time.sleep(1)"
   ]
  },
  {
   "cell_type": "code",
   "execution_count": 8,
   "id": "3341f114",
   "metadata": {
    "ExecuteTime": {
     "end_time": "2022-05-26T08:07:12.101368Z",
     "start_time": "2022-05-26T08:07:11.333820Z"
    }
   },
   "outputs": [
    {
     "data": {
      "image/png": "[encoded data removed]",
      "text/plain": [
       "<PIL.PngImagePlugin.PngImageFile image mode=RGBA size=182x50 at 0x2872E777FD0>"
      ]
     },
     "execution_count": 8,
     "metadata": {},
     "output_type": "execute_result"
    }
   ],
   "source": [
    "Captcha_Image = Driver.find_element(By.ID,'imgCaptcha').screenshot_as_png\n",
    "Driver.minimize_window()\n",
    "Image.open(BytesIO(Captcha_Image))"
   ]
  },
  {
   "cell_type": "code",
   "execution_count": 9,
   "id": "846234dc",
   "metadata": {
    "ExecuteTime": {
     "end_time": "2022-05-26T08:07:24.947166Z",
     "start_time": "2022-05-26T08:07:14.832882Z"
    }
   },
   "outputs": [
    {
     "name": "stdout",
     "output_type": "stream",
     "text": [
      "Enter Above Captcha : 883803\n"
     ]
    }
   ],
   "source": [
    "Driver.find_element(By.ID,'captcha').send_keys(int(input(\"Enter Above Captcha : \")))\n",
    "time.sleep(2)\n",
    "Driver.find_element(By.XPATH,'//button[normalize-space()=\"Login\"]').click()"
   ]
  },
  {
   "cell_type": "code",
   "execution_count": 11,
   "id": "cc06c17c",
   "metadata": {
    "ExecuteTime": {
     "end_time": "2022-05-26T08:09:20.111813Z",
     "start_time": "2022-05-26T08:09:04.993609Z"
    }
   },
   "outputs": [],
   "source": [
    "time.sleep(2)\n",
    "Driver.find_element(By.XPATH,\"//div[@class='modal-content']//div[@class='modal-footer']//a[contains(text(),'Remind me later')]\").click()\n",
    "time.sleep(2)  \n",
    "Driver.find_element(By.XPATH,\"//span[text()='Continue to Dashboard']\").click()\n",
    "time.sleep(4)\n",
    "Driver.find_element(By.XPATH,\".//div[contains(@id,'main')]//a[contains(text(),'Services ')]\").click()\n",
    "time.sleep(3)\n",
    "Driver.find_element(By.XPATH,\"//a[contains(text(),'Ledgers')]\").click()\n",
    "time.sleep(2)\n",
    "# Driver.find_element(By.XPATH,\"//div[@class='col-xs-12']//li//a[contains(text(),'Electronic Credit Ledger')]\").click()\n",
    "# time.sleep(2)\n",
    "# Driver.find_element(By.XPATH,\"//div[@class='col-sm-12']//a[contains(text(),'Electronic Credit Ledger')]\").click()\n",
    "# time.sleep(2)\n",
    "# Driver.find_element(By.ID,\"sumlg_frdt\").send_keys(f\"01/04/{fyr[0][0:4]}\")\n",
    "# time.sleep(1)\n",
    "# Driver.find_element(By.ID,\"sumlg_todt\").send_keys(f\"31/10/{fyr[0][0:4]}\")\n",
    "# time.sleep(1)\n",
    "# Driver.find_element(By.XPATH,'//button[normalize-space()=\"GO\"]').click()\n",
    "# time.sleep(1)\n",
    "# Driver.find_element(By.XPATH,'//button[normalize-space()=\"Save As Pdf\"]').click()\n",
    "# time.sleep(6)\n",
    "# Driver.find_element(By.XPATH,\".//div[contains(@id,'main')]//a[contains(text(),'Services ')]\").click()\n",
    "# time.sleep(3)\n",
    "# Driver.find_element(By.XPATH,\"//a[contains(text(),'Returns')]\").click()\n",
    "# time.sleep(3)\n",
    "# Driver.find_element(By.XPATH,\"//div[@class='col-xs-12']//a[contains(text(),'Returns Dashboard')]\").click()"
   ]
  },
  {
   "cell_type": "code",
   "execution_count": 184,
   "id": "793c2460",
   "metadata": {
    "ExecuteTime": {
     "end_time": "2022-05-25T12:31:04.204149Z",
     "start_time": "2022-05-25T12:31:04.186199Z"
    }
   },
   "outputs": [],
   "source": [
    "# shutil.move(f'{newpath}\\ElectronicCreditLedger.pdf','E:\\{}\\FY_{}'.format(username,fyr[0]))\n",
    "# shutil.move('E:\\{}\\FY_{}\\ElectronicCreditLedger.pdf'.format(username,fyr[0]),f'{newpath}')"
   ]
  },
  {
   "cell_type": "code",
   "execution_count": 100,
   "id": "c2dd4b9f",
   "metadata": {
    "ExecuteTime": {
     "end_time": "2022-05-22T12:14:44.781915Z",
     "start_time": "2022-05-22T12:14:25.069535Z"
    }
   },
   "outputs": [],
   "source": [
    "# time.sleep(4)\n",
    "# Driver.find_element(By.XPATH,\".//div[contains(@id,'main')]//a[contains(text(),'Services ')]\").click()\n",
    "# time.sleep(3)\n",
    "# Driver.find_element(By.XPATH,\"//a[contains(text(),'Returns')]\").click()\n",
    "# time.sleep(3)\n",
    "# Driver.find_element(By.XPATH,\"//div[@class='col-xs-12']//a[contains(text(),'Returns Dashboard')]\").click()"
   ]
  },
  {
   "cell_type": "code",
   "execution_count": 90,
   "id": "a2c9972b",
   "metadata": {
    "ExecuteTime": {
     "end_time": "2022-05-25T10:29:54.537266Z",
     "start_time": "2022-05-25T10:29:51.396190Z"
    }
   },
   "outputs": [],
   "source": [
    "# Driver.find_element(By.XPATH,\".//div[contains(@id,'main')]//a[contains(text(),'Services ')]\").click()\n",
    "# time.sleep(3)"
   ]
  },
  {
   "cell_type": "code",
   "execution_count": 91,
   "id": "8e809de5",
   "metadata": {
    "ExecuteTime": {
     "end_time": "2022-05-25T10:29:58.216471Z",
     "start_time": "2022-05-25T10:29:55.630068Z"
    }
   },
   "outputs": [],
   "source": [
    "# Driver.find_element(By.XPATH,\"//a[contains(text(),'Ledgers')]\").click()\n",
    "# time.sleep(2)"
   ]
  },
  {
   "cell_type": "code",
   "execution_count": 17,
   "id": "290310d9",
   "metadata": {
    "ExecuteTime": {
     "end_time": "2022-05-26T08:13:39.446812Z",
     "start_time": "2022-05-26T08:13:38.760084Z"
    }
   },
   "outputs": [],
   "source": [
    "Driver.find_element(By.XPATH,\"//div[@class='content-pane']//div[@class='row']//div[@class='col-xs-12']//ul//li//a[normalize-space()='Electronic Credit Ledger']\").click()\n",
    "# Driver.find_element(By.XPATH,\"//div[@class='col-xs-12']//ul//li//a[contains(text(),'Electronic Credit Ledger')]\").click()"
   ]
  },
  {
   "cell_type": "code",
   "execution_count": 18,
   "id": "4fa7e464",
   "metadata": {
    "ExecuteTime": {
     "end_time": "2022-05-26T08:16:06.702012Z",
     "start_time": "2022-05-26T08:16:05.849164Z"
    }
   },
   "outputs": [],
   "source": [
    "Driver.find_element(By.XPATH,\"//div[@class='content-pane']//div[@class='rettbl-format']//div[@class='row']//div[@class='col-sm-12']//ol//li//a[contains(text(),'Electronic Credit Ledger')]\").click()"
   ]
  },
  {
   "cell_type": "code",
   "execution_count": 155,
   "id": "1d35d7cd",
   "metadata": {
    "ExecuteTime": {
     "end_time": "2022-05-25T12:14:48.430407Z",
     "start_time": "2022-05-25T12:14:48.423393Z"
    }
   },
   "outputs": [],
   "source": [
    "Driver.find_element(By.XPATH,\"//div[@class='col-xs-12']//li//a[contains(text(),'Electronic Credit Ledger')]\").click()\n",
    "Driver.find_element(By.XPATH,\"//div[@class='col-sm-12']//li//a[contains(text(),'Electronic Credit Ledger')]\").click()"
   ]
  },
  {
   "cell_type": "code",
   "execution_count": 156,
   "id": "770bc237",
   "metadata": {
    "ExecuteTime": {
     "end_time": "2022-05-25T12:14:52.656666Z",
     "start_time": "2022-05-25T12:14:52.638716Z"
    }
   },
   "outputs": [],
   "source": [
    "# Driver.find_element(By.XPATH,\"//div[@class='col-sm-12']//a[contains(text(),'Electronic Credit Ledger')]\").click()"
   ]
  },
  {
   "cell_type": "code",
   "execution_count": 19,
   "id": "b1dbeb95",
   "metadata": {
    "ExecuteTime": {
     "end_time": "2022-05-26T08:18:43.943385Z",
     "start_time": "2022-05-26T08:18:43.810247Z"
    }
   },
   "outputs": [],
   "source": [
    "Driver.find_element(By.ID,\"sumlg_frdt\").send_keys(f\"01/04/{fyr[0][0:4]}\")\n",
    "# Driver.find_element(By.ID,\"sumlg_todt\").send_keys(f\"31/10/{fyr[0][0:4]}\")\n",
    "# Driver.find_element(By.XPATH,'//button[normalize-space()=\"GO\"]').click()"
   ]
  },
  {
   "cell_type": "code",
   "execution_count": 158,
   "id": "f1effb77",
   "metadata": {
    "ExecuteTime": {
     "end_time": "2022-05-25T12:15:00.862334Z",
     "start_time": "2022-05-25T12:15:00.844385Z"
    }
   },
   "outputs": [],
   "source": [
    "# Driver.find_element(By.XPATH,'//button[normalize-space()=\"Save As Excel\"]').click()"
   ]
  },
  {
   "cell_type": "code",
   "execution_count": 136,
   "id": "5de9674f",
   "metadata": {
    "ExecuteTime": {
     "end_time": "2022-05-25T10:55:09.631305Z",
     "start_time": "2022-05-25T10:55:09.530613Z"
    }
   },
   "outputs": [],
   "source": [
    "# Driver.find_element(By.XPATH,'//button[normalize-space()=\"Save As Pdf\"]').click()"
   ]
  },
  {
   "cell_type": "code",
   "execution_count": 146,
   "id": "53543d70",
   "metadata": {
    "ExecuteTime": {
     "end_time": "2022-05-25T10:59:16.079555Z",
     "start_time": "2022-05-25T10:59:16.071610Z"
    }
   },
   "outputs": [],
   "source": [
    "# Driver.find_element(By.XPATH,f\".//div[contains(@class,'table-responsive col-lg-12 col-md-12 col-sm-12 col-xs-12')]/table/tbody\").text"
   ]
  },
  {
   "cell_type": "code",
   "execution_count": 123,
   "id": "99b92744",
   "metadata": {
    "ExecuteTime": {
     "end_time": "2022-05-25T10:40:15.413832Z",
     "start_time": "2022-05-25T10:40:15.395848Z"
    }
   },
   "outputs": [
    {
     "name": "stdout",
     "output_type": "stream",
     "text": [
      "/td[1]\n",
      "/td[2]\n",
      "/td[3]\n",
      "/td[4]\n",
      "/td[5]\n",
      "/td[6]\n",
      "/td[7]\n",
      "/td[8]\n",
      "/td[9]\n",
      "/td[10]\n",
      "/td[11]\n",
      "/td[12]\n",
      "/td[13]\n",
      "/td[14]\n",
      "/td[15]\n",
      "/td[16]\n"
     ]
    }
   ],
   "source": [
    "# for i in range(1,17):\n",
    "#     print(f\"/td[{i}]\")"
   ]
  },
  {
   "cell_type": "code",
   "execution_count": 137,
   "id": "fb573798",
   "metadata": {
    "ExecuteTime": {
     "end_time": "2022-05-25T10:56:04.287145Z",
     "start_time": "2022-05-25T10:56:03.777995Z"
    }
   },
   "outputs": [
    {
     "name": "stdout",
     "output_type": "stream",
     "text": [
      "1\n",
      "-\n",
      "-\n",
      "-\n",
      "Opening Balance\n",
      "-\n",
      "-\n",
      "-\n",
      "-\n",
      "-\n",
      "-\n",
      "0.00\n",
      "0.00\n",
      "0.00\n",
      "0.00\n",
      "0.00\n"
     ]
    }
   ],
   "source": [
    "# for i in range(1,17):\n",
    "#     print(Driver.find_element(By.XPATH,f\".//div[contains(@class,'table-responsive col-lg-12 col-md-12 col-sm-12 col-xs-12')]/table/tbody/tr[1]/td[{i}]\").text)"
   ]
  },
  {
   "cell_type": "code",
   "execution_count": 33,
   "id": "1663bfef",
   "metadata": {
    "ExecuteTime": {
     "end_time": "2022-05-25T09:54:40.830713Z",
     "start_time": "2022-05-25T09:54:40.809772Z"
    }
   },
   "outputs": [
    {
     "name": "stdout",
     "output_type": "stream",
     "text": [
      "01/04/2020 31/10/2020\n"
     ]
    }
   ],
   "source": [
    "# print(f\"01/04/{fyr[0][0:4]}\",f\"31/10/{fyr[0][0:4]}\")"
   ]
  },
  {
   "cell_type": "code",
   "execution_count": 186,
   "id": "32f869d5",
   "metadata": {
    "ExecuteTime": {
     "end_time": "2022-05-25T12:32:56.603903Z",
     "start_time": "2022-05-25T12:32:29.101973Z"
    }
   },
   "outputs": [
    {
     "name": "stdout",
     "output_type": "stream",
     "text": [
      "Not present....continuing script\n",
      "Not present....continuing script\n",
      "Not present....continuing script\n",
      "Not present....continuing script\n",
      "Not present....continuing script\n",
      "Not present....continuing script\n",
      "Not present....continuing script\n",
      "Not present....continuing script\n"
     ]
    }
   ],
   "source": [
    "for i in fyr:\n",
    "    if i in ['2017-18','2018-19','2019-20']:\n",
    "        Driver.find_element(By.XPATH,f\"//select[@name='fin']/option[text()='{i}']\").click()\n",
    "        Months = Driver.find_element(By.NAME,'mon').text.split('\\n')\n",
    "        for m in Months:\n",
    "            Driver.find_element(By.XPATH,f\"//select[@name='mon']/option[text()='{m}']\").click()\n",
    "            time.sleep(1)\n",
    "            Driver.find_element(By.XPATH,\".//div[contains(@class,'col-sm-3 col-xs-12')]//button[normalize-space()='Search']\").click()\n",
    "            try:\n",
    "                time.sleep(1)\n",
    "                Driver.find_element(By.XPATH,\".//div[contains(@class,'col-sm-6 col-xs-6')]//button[normalize-space()='Download']\").click()\n",
    "            except NoSuchElementException:\n",
    "                print(\" Not present....continuing script\")\n",
    "    else:\n",
    "        Driver.find_element(By.XPATH,f\"//select[@name='fin']/option[text()='{i}']\").click()\n",
    "        Quarters = Driver.find_element(By.NAME,'quarter').text.split('\\n')\n",
    "        for q in Quarters:\n",
    "            Driver.find_element(By.XPATH,f\"//select[@name='quarter']/option[text()='{q}']\").click()\n",
    "            Months = Driver.find_element(By.NAME,'mon').text.split('\\n')\n",
    "            for m in Months:\n",
    "                Driver.find_element(By.XPATH,f\"//select[@name='mon']/option[text()='{m}']\").click()\n",
    "                time.sleep(1)\n",
    "                Driver.find_element(By.XPATH,\".//div[contains(@class,'col-sm-3 col-xs-12')]//button[normalize-space()='Search']\").click()\n",
    "                try:\n",
    "                    time.sleep(1)\n",
    "                    Driver.find_element(By.XPATH,\".//div[contains(@class,'col-sm-6 col-xs-6')]//button[normalize-space()='Download']\").click()\n",
    "                except NoSuchElementException:\n",
    "                    print(\"Not present....continuing script\")\n",
    "# time.sleep(1)\n",
    "# Driver.find_element_by_class_name(\"dropdown-toggle\").click()\n",
    "# time.sleep(1)\n",
    "# Driver.find_element_by_xpath(\"//a[@href='//services.gst.gov.in/services/logout']\").click()\n",
    "# time.sleep(2)\n",
    "# Driver.close()                    "
   ]
  },
  {
   "cell_type": "code",
   "execution_count": 188,
   "id": "b5712653",
   "metadata": {
    "ExecuteTime": {
     "end_time": "2022-05-25T12:38:03.553503Z",
     "start_time": "2022-05-25T12:38:03.540573Z"
    },
    "scrolled": false
   },
   "outputs": [
    {
     "data": {
      "text/plain": [
       "['ElectronicCreditLedger.pdf',\n",
       " 'GSTR3B_36AELPL0069F1ZJ_062021.pdf',\n",
       " 'GSTR3B_36AELPL0069F1ZJ_092021.pdf',\n",
       " 'GSTR3B_36AELPL0069F1ZJ_122021.pdf',\n",
       " 'GSTR3B_36AELPL0069F1ZJ_032022.pdf']"
      ]
     },
     "execution_count": 188,
     "metadata": {},
     "output_type": "execute_result"
    }
   ],
   "source": [
    "my_path = newpath\n",
    "os.chdir(my_path)\n",
    "All_files = sorted(filter(os.path.isfile, os.listdir('.')), key=os.path.getmtime)\n",
    "All_files"
   ]
  },
  {
   "cell_type": "code",
   "execution_count": 190,
   "id": "5f6fe26e",
   "metadata": {
    "ExecuteTime": {
     "end_time": "2022-05-25T12:38:42.903538Z",
     "start_time": "2022-05-25T12:38:38.530061Z"
    }
   },
   "outputs": [],
   "source": [
    "YearandMonths = {}\n",
    "replacers = {f'{i}\\n':'' for i in string.ascii_letters}\n",
    "replacers.update({\"\\n\":\"\",None:\" \"})\n",
    "for fils in All_files:\n",
    "    if fils !='ElectronicCreditLedger.pdf':\n",
    "        pdf = pdfplumber.open(fils)\n",
    "        first_page = pdf.pages[0]\n",
    "        second_page = pdf.pages[1]\n",
    "        All_Tables = first_page.extract_tables()\n",
    "        All_Tables1 = second_page.extract_tables()\n",
    "        Details3_1 = pd.DataFrame(columns=[i.replace(\"\\n\",\" \") for i in All_Tables[2][0]])\n",
    "        for i in range(len(All_Tables[2][1:])):\n",
    "            Details3_1.loc[i] = All_Tables[2][1:][i]\n",
    "        Details3_1 = Details3_1.replace(replacers,regex=True)\n",
    "        OIS = {}\n",
    "        OIS.setdefault('3a_Outward_Inward_Supply', {})\n",
    "        for sales in range(len(Details3_1.columns[1:-1])):\n",
    "            if sales==0:\n",
    "                ttv = list(Details3_1['Total taxable  value'])\n",
    "                OIS['3a_Outward_Inward_Supply'][Details3_1.columns[1:-1][sales]] = float(float(ttv[0])+float(ttv[2]))\n",
    "            else:\n",
    "                OIS['3a_Outward_Inward_Supply'][Details3_1.columns[1:-1][sales]] = float(Details3_1[Details3_1.columns[1:-1][sales]][0])            \n",
    "        EligibleITC = pd.DataFrame(columns=[i.replace(\"\\n\",\" \") for i in All_Tables[4][0]])\n",
    "        for i in range(len(All_Tables[4][1:])):\n",
    "            EligibleITC.loc[i] = All_Tables[4][1:][i]\n",
    "        EligibleITC = EligibleITC.replace(replacers,regex=True)\n",
    "        E_ITC = {}\n",
    "        E_ITC.setdefault('Eligible_ITC', {})\n",
    "        for purch in range(len(EligibleITC.columns[1:4])):\n",
    "            E_ITC['Eligible_ITC'][EligibleITC.columns[1:4][purch]] = list(EligibleITC.iloc[[9]].transpose()[9])[1:-1][purch]\n",
    "        LateFee_Interest = pd.DataFrame(columns=[i.replace(\"\\n\",\" \") for i in All_Tables1[1][0]])\n",
    "        for i in range(len(All_Tables1[1][1:])):\n",
    "            LateFee_Interest.loc[i] = All_Tables1[1][1:][i]\n",
    "        LateFee_Interest = LateFee_Interest.replace(replacers,regex=True)\n",
    "        LI = {}\n",
    "        LI.setdefault('Late_Fee', {})\n",
    "        for li in ['Late_Fee']:\n",
    "            LI['Late_Fee'][li] = float(list(LateFee_Interest.iloc[2])[2:-1][0])+float(list(LateFee_Interest.iloc[2])[2:-1][1])\n",
    "        Intr = {}\n",
    "        Intr.setdefault('Interest', {})\n",
    "        for li in ['Interest']:\n",
    "            Intr['Interest'][li] = float(list(LateFee_Interest.iloc[1])[2:-1][0])+float(list(LateFee_Interest.iloc[1])[2:-1][1])\n",
    "        PaymentOfTax = pd.DataFrame(columns=['Description','Total Tax Payable (₹) ','Tax paid through ITC (₹) Intergrated Tax',\n",
    "           'Tax paid through ITC (₹) Central Tax','Tax paid through ITC (₹) State/UT Tax',\n",
    "           'Tax paid through ITC (₹) Cess',\n",
    "           'Tax paid in cash (₹) ','Interest paid in cash (₹)','Late fee paid in cash (₹)'])\n",
    "        for i in range(len(All_Tables1[2][2:])):\n",
    "            PaymentOfTax.loc[i] = All_Tables1[2][2:][i]\n",
    "        PaymentOfTax = PaymentOfTax.replace(replacers,regex=True)\n",
    "        POT = {}\n",
    "        POT.setdefault(\"PaymentOfTax\",{})\n",
    "        for pot in range(len(list(PaymentOfTax.iloc[1:4,0]))):\n",
    "            POT[\"PaymentOfTax\"][list(PaymentOfTax.iloc[1:4,0])[pot]] = list(PaymentOfTax.iloc[1:4,6])[pot]\n",
    "        POT\n",
    "        All_Dict = {}\n",
    "        for i in [E_ITC,OIS,LI,POT,Intr]:\n",
    "            All_Dict.update(i)\n",
    "        All_Dict\n",
    "        YearandMonths.setdefault(All_Tables[0][0][1], {})\n",
    "        YearandMonths[All_Tables[0][0][1]][All_Tables[0][1][1]] = All_Dict\n",
    "    else:\n",
    "        CL_pdf = pdfplumber.open(\"E:\\ElectronicCreditLedger.pdf\")\n",
    "        CL_first_page = CL_pdf.pages[0]\n",
    "        CreditLedger_Table = CL_first_page.extract_tables()\n",
    "        CreditLedger_df = pd.DataFrame(data=CreditLedger_Table[0][2:],columns=[i.replace(\"\\n\",\" \") for i in  CreditLedger_Table[0][0][:6] + [CreditLedger_Table[0][0][6] + ' '+ i for i in CreditLedger_Table[0][1][6:11]] + [CreditLedger_Table[0][0][11] + ' '+ i for i in CreditLedger_Table[0][1][6:11]]])\n",
    "        CreditLedger_df.replace(replacers,regex=True)\n",
    "        CL_Total = int(list(CreditLedger_df[(CreditLedger_df[CreditLedger_df.columns[3]] == (f\"Mar-{fyr[0][2:4]}\") ) & ( CreditLedger_df[CreditLedger_df.columns[5]] =='Debit' )][CreditLedger_df.columns[-1]])[0])"
   ]
  },
  {
   "cell_type": "code",
   "execution_count": 192,
   "id": "f84a22da",
   "metadata": {
    "ExecuteTime": {
     "end_time": "2022-05-25T12:39:01.497826Z",
     "start_time": "2022-05-25T12:39:01.483830Z"
    }
   },
   "outputs": [
    {
     "data": {
      "text/plain": [
       "2271"
      ]
     },
     "execution_count": 192,
     "metadata": {},
     "output_type": "execute_result"
    }
   ],
   "source": [
    "# YearandMonths\n",
    "# CL_Total"
   ]
  },
  {
   "cell_type": "code",
   "execution_count": 130,
   "id": "7a9d4189",
   "metadata": {
    "ExecuteTime": {
     "end_time": "2022-05-22T12:43:34.418741Z",
     "start_time": "2022-05-22T12:43:22.821726Z"
    }
   },
   "outputs": [],
   "source": [
    "# YearandMonths = {}\n",
    "# replacers = {f'{i}\\n':'' for i in string.ascii_letters}\n",
    "# replacers.update({\"\\n\":\"\",None:\" \"})\n",
    "# for fils in All_files:\n",
    "#     pdf = pdfplumber.open(fils)\n",
    "#     first_page = pdf.pages[0]\n",
    "#     second_page = pdf.pages[1]\n",
    "#     All_Tables = first_page.extract_tables()\n",
    "#     All_Tables1 = second_page.extract_tables()\n",
    "#     Details3_1 = pd.DataFrame(columns=[i.replace(\"\\n\",\" \") for i in All_Tables[2][0]])\n",
    "#     for i in range(len(All_Tables[2][1:])):\n",
    "#         Details3_1.loc[i] = All_Tables[2][1:][i]\n",
    "#     Details3_1 = Details3_1.replace(replacers,regex=True)\n",
    "#     OIS = {}\n",
    "#     OIS.setdefault('3a_Outward_Inward_Supply', {})\n",
    "#     for sales in range(len(Details3_1.columns[1:-1])):\n",
    "#         if sales==0:\n",
    "#             ttv = list(Details3_1['Total taxable  value'])\n",
    "#             OIS['3a_Outward_Inward_Supply'][Details3_1.columns[1:-1][sales]] = float(float(ttv[0])+float(ttv[2]))\n",
    "#         else:\n",
    "#             OIS['3a_Outward_Inward_Supply'][Details3_1.columns[1:-1][sales]] = float(Details3_1[Details3_1.columns[1:-1][sales]][0])            \n",
    "#     EligibleITC = pd.DataFrame(columns=[i.replace(\"\\n\",\" \") for i in All_Tables[4][0]])\n",
    "#     for i in range(len(All_Tables[4][1:])):\n",
    "#         EligibleITC.loc[i] = All_Tables[4][1:][i]\n",
    "#     EligibleITC = EligibleITC.replace(replacers,regex=True)\n",
    "#     E_ITC = {}\n",
    "#     E_ITC.setdefault('Eligible_ITC', {})\n",
    "#     for purch in range(len(EligibleITC.columns[1:4])):\n",
    "#         E_ITC['Eligible_ITC'][EligibleITC.columns[1:4][purch]] = list(EligibleITC.iloc[[9]].transpose()[9])[1:-1][purch]\n",
    "#     LateFee_Interest = pd.DataFrame(columns=[i.replace(\"\\n\",\" \") for i in All_Tables1[1][0]])\n",
    "#     for i in range(len(All_Tables1[1][1:])):\n",
    "#         LateFee_Interest.loc[i] = All_Tables1[1][1:][i]\n",
    "#     LateFee_Interest = LateFee_Interest.replace(replacers,regex=True)\n",
    "#     LI = {}\n",
    "#     LI.setdefault('Late_Fee', {})\n",
    "#     for li in ['Late_Fee']:\n",
    "#         LI['Late_Fee'][li] = float(list(LateFee_Interest.iloc[2])[2:-1][0])+float(list(LateFee_Interest.iloc[2])[2:-1][1])\n",
    "#     Intr = {}\n",
    "#     Intr.setdefault('Interest', {})\n",
    "#     for li in ['Interest']:\n",
    "#         Intr['Interest'][li] = float(list(LateFee_Interest.iloc[1])[2:-1][0])+float(list(LateFee_Interest.iloc[1])[2:-1][1])\n",
    "#     PaymentOfTax = pd.DataFrame(columns=['Description','Total Tax Payable (₹) ','Tax paid through ITC (₹) Intergrated Tax',\n",
    "#        'Tax paid through ITC (₹) Central Tax','Tax paid through ITC (₹) State/UT Tax',\n",
    "#        'Tax paid through ITC (₹) Cess',\n",
    "#        'Tax paid in cash (₹) ','Interest paid in cash (₹)','Late fee paid in cash (₹)'])\n",
    "#     for i in range(len(All_Tables1[2][2:])):\n",
    "#         PaymentOfTax.loc[i] = All_Tables1[2][2:][i]\n",
    "#     PaymentOfTax = PaymentOfTax.replace(replacers,regex=True)\n",
    "#     POT = {}\n",
    "#     POT.setdefault(\"PaymentOfTax\",{})\n",
    "#     for pot in range(len(list(PaymentOfTax.iloc[1:4,0]))):\n",
    "#         POT[\"PaymentOfTax\"][list(PaymentOfTax.iloc[1:4,0])[pot]] = list(PaymentOfTax.iloc[1:4,6])[pot]\n",
    "#     POT\n",
    "#     All_Dict = {}\n",
    "#     for i in [E_ITC,OIS,LI,POT,Intr]:\n",
    "#         All_Dict.update(i)\n",
    "#     All_Dict\n",
    "#     YearandMonths.setdefault(All_Tables[0][0][1], {})\n",
    "#     YearandMonths[All_Tables[0][0][1]][All_Tables[0][1][1]] = All_Dict\n",
    "# # YearandMonths"
   ]
  },
  {
   "cell_type": "code",
   "execution_count": 131,
   "id": "5f884bc3",
   "metadata": {
    "ExecuteTime": {
     "end_time": "2022-05-22T12:43:37.518249Z",
     "start_time": "2022-05-22T12:43:37.498277Z"
    },
    "scrolled": true
   },
   "outputs": [
    {
     "data": {
      "text/plain": [
       "{'April': {'Eligible_ITC': {'Integrated tax': '0.00',\n",
       "   'Central tax': '1350.00',\n",
       "   'State/UT tax': '1350.00'},\n",
       "  '3a_Outward_Inward_Supply': {'Total taxable  value': 504675.0,\n",
       "   'D Integrated  tax': 0.0,\n",
       "   'Central  tax': 45421.0,\n",
       "   'State/UT  tax': 45421.0},\n",
       "  'Late_Fee': {'Late_Fee': 500.0},\n",
       "  'PaymentOfTax': {'Integrated tax': '0.00',\n",
       "   'Central tax': '44071.00',\n",
       "   'State/UT tax': '44071.00'},\n",
       "  'Interest': {'Interest': 0.0}},\n",
       " 'May': {'Eligible_ITC': {'Integrated tax': '0.00',\n",
       "   'Central tax': '1350.00',\n",
       "   'State/UT tax': '1350.00'},\n",
       "  '3a_Outward_Inward_Supply': {'Total taxable  value': 871707.0,\n",
       "   'D Integrated  tax': 0.0,\n",
       "   'Central  tax': 13716.0,\n",
       "   'State/UT  tax': 13716.0},\n",
       "  'Late_Fee': {'Late_Fee': 7100.0},\n",
       "  'PaymentOfTax': {'Integrated tax': '0.00',\n",
       "   'Central tax': '12366.00',\n",
       "   'State/UT tax': '12366.00'},\n",
       "  'Interest': {'Interest': 0.0}},\n",
       " 'June': {'Eligible_ITC': {'Integrated tax': '0.00',\n",
       "   'Central tax': '1350.00',\n",
       "   'State/UT tax': '1350.00'},\n",
       "  '3a_Outward_Inward_Supply': {'Total taxable  value': 2430028.0,\n",
       "   'D Integrated  tax': 0.0,\n",
       "   'Central  tax': 12311.0,\n",
       "   'State/UT  tax': 12311.0},\n",
       "  'Late_Fee': {'Late_Fee': 5200.0},\n",
       "  'PaymentOfTax': {'Integrated tax': '0.00',\n",
       "   'Central tax': '10961.00',\n",
       "   'State/UT tax': '10961.00'},\n",
       "  'Interest': {'Interest': 0.0}},\n",
       " 'July': {'Eligible_ITC': {'Integrated tax': '0.00',\n",
       "   'Central tax': '1350.00',\n",
       "   'State/UT tax': '1350.00'},\n",
       "  '3a_Outward_Inward_Supply': {'Total taxable  value': 1635093.0,\n",
       "   'D Integrated  tax': 0.0,\n",
       "   'Central  tax': 9380.0,\n",
       "   'State/UT  tax': 9380.0},\n",
       "  'Late_Fee': {'Late_Fee': 4050.0},\n",
       "  'PaymentOfTax': {'Integrated tax': '0.00',\n",
       "   'Central tax': '8030.00',\n",
       "   'State/UT tax': '8030.00'},\n",
       "  'Interest': {'Interest': 0.0}},\n",
       " 'August': {'Eligible_ITC': {'Integrated tax': '0.00',\n",
       "   'Central tax': '871.00',\n",
       "   'State/UT tax': '871.00'},\n",
       "  '3a_Outward_Inward_Supply': {'Total taxable  value': 438543.0,\n",
       "   'D Integrated  tax': 0.0,\n",
       "   'Central  tax': 5249.0,\n",
       "   'State/UT  tax': 5249.0},\n",
       "  'Late_Fee': {'Late_Fee': 2500.0},\n",
       "  'PaymentOfTax': {'Integrated tax': '0.00',\n",
       "   'Central tax': '4378.00',\n",
       "   'State/UT tax': '4378.00'},\n",
       "  'Interest': {'Interest': 0.0}},\n",
       " 'September': {'Eligible_ITC': {'Integrated tax': '0.00',\n",
       "   'Central tax': '1350.00',\n",
       "   'State/UT tax': '1350.00'},\n",
       "  '3a_Outward_Inward_Supply': {'Total taxable  value': 1846456.0,\n",
       "   'D Integrated  tax': 0.0,\n",
       "   'Central  tax': 15049.0,\n",
       "   'State/UT  tax': 15049.0},\n",
       "  'Late_Fee': {'Late_Fee': 950.0},\n",
       "  'PaymentOfTax': {'Integrated tax': '0.00',\n",
       "   'Central tax': '13699.00',\n",
       "   'State/UT tax': '13699.00'},\n",
       "  'Interest': {'Interest': 0.0}},\n",
       " 'October': {'Eligible_ITC': {'Integrated tax': '0.00',\n",
       "   'Central tax': '720.00',\n",
       "   'State/UT tax': '720.00'},\n",
       "  '3a_Outward_Inward_Supply': {'Total taxable  value': 1472755.0,\n",
       "   'D Integrated  tax': 0.0,\n",
       "   'Central  tax': 132548.0,\n",
       "   'State/UT  tax': 132548.0},\n",
       "  'Late_Fee': {'Late_Fee': 0.0},\n",
       "  'PaymentOfTax': {'Integrated tax': '0.00',\n",
       "   'Central tax': '131828.00',\n",
       "   'State/UT tax': '131828.00'},\n",
       "  'Interest': {'Interest': 5932.0}},\n",
       " 'November': {'Eligible_ITC': {'Integrated tax': '0.00',\n",
       "   'Central tax': '0.00',\n",
       "   'State/UT tax': '0.00'},\n",
       "  '3a_Outward_Inward_Supply': {'Total taxable  value': 2777760.0,\n",
       "   'D Integrated  tax': 0.0,\n",
       "   'Central  tax': 249998.0,\n",
       "   'State/UT  tax': 249998.0},\n",
       "  'Late_Fee': {'Late_Fee': 1950.0},\n",
       "  'PaymentOfTax': {'Integrated tax': '0.00',\n",
       "   'Central tax': '249998.00',\n",
       "   'State/UT tax': '249998.00'},\n",
       "  'Interest': {'Interest': 3750.0}},\n",
       " 'December': {'Eligible_ITC': {'Integrated tax': '0.00',\n",
       "   'Central tax': '0.00',\n",
       "   'State/UT tax': '0.00'},\n",
       "  '3a_Outward_Inward_Supply': {'Total taxable  value': 2894852.0,\n",
       "   'D Integrated  tax': 0.0,\n",
       "   'Central  tax': 260536.68,\n",
       "   'State/UT  tax': 260536.68},\n",
       "  'Late_Fee': {'Late_Fee': 450.0},\n",
       "  'PaymentOfTax': {'Integrated tax': '0.00',\n",
       "   'Central tax': '260537.00',\n",
       "   'State/UT tax': '260537.00'},\n",
       "  'Interest': {'Interest': 8994.0}},\n",
       " 'January': {'Eligible_ITC': {'Integrated tax': '0.00',\n",
       "   'Central tax': '2817.51',\n",
       "   'State/UT tax': '2817.51'},\n",
       "  '3a_Outward_Inward_Supply': {'Total taxable  value': 1477875.0,\n",
       "   'D Integrated  tax': 0.0,\n",
       "   'Central  tax': 133009.0,\n",
       "   'State/UT  tax': 133009.0},\n",
       "  'Late_Fee': {'Late_Fee': 1750.0},\n",
       "  'PaymentOfTax': {'Integrated tax': '0.00',\n",
       "   'Central tax': '130191.00',\n",
       "   'State/UT tax': '130191.00'},\n",
       "  'Interest': {'Interest': 524.0}},\n",
       " 'February': {'Eligible_ITC': {'Integrated tax': '3224.00',\n",
       "   'Central tax': '0.00',\n",
       "   'State/UT tax': '0.00'},\n",
       "  '3a_Outward_Inward_Supply': {'Total taxable  value': 4032716.0,\n",
       "   'D Integrated  tax': 0.0,\n",
       "   'Central  tax': 279781.0,\n",
       "   'State/UT  tax': 279781.0},\n",
       "  'Late_Fee': {'Late_Fee': 200.0},\n",
       "  'PaymentOfTax': {'Integrated tax': '0.00',\n",
       "   'Central tax': '276557.00',\n",
       "   'State/UT tax': '279781.00'},\n",
       "  'Interest': {'Interest': 6622.0}},\n",
       " 'March': {'Eligible_ITC': {'Integrated tax': '2756.61',\n",
       "   'Central tax': '0.00',\n",
       "   'State/UT tax': '0.00'},\n",
       "  '3a_Outward_Inward_Supply': {'Total taxable  value': 4840488.0,\n",
       "   'D Integrated  tax': 0.0,\n",
       "   'Central  tax': 380359.0,\n",
       "   'State/UT  tax': 380359.0},\n",
       "  'Late_Fee': {'Late_Fee': 1000.0},\n",
       "  'PaymentOfTax': {'Integrated tax': '0.00',\n",
       "   'Central tax': '377602.00',\n",
       "   'State/UT tax': '380359.00'},\n",
       "  'Interest': {'Interest': 3188.0}}}"
      ]
     },
     "execution_count": 131,
     "metadata": {},
     "output_type": "execute_result"
    }
   ],
   "source": [
    "YearandMonths[fyr[0]]"
   ]
  },
  {
   "cell_type": "code",
   "execution_count": 193,
   "id": "8eca2fed",
   "metadata": {
    "ExecuteTime": {
     "end_time": "2022-05-25T12:40:25.664957Z",
     "start_time": "2022-05-25T12:40:25.654019Z"
    }
   },
   "outputs": [
    {
     "data": {
      "text/plain": [
       "'E:\\\\Hexacon_68\\\\FY_2021-22\\\\ElectronicCreditLedger.pdf'"
      ]
     },
     "execution_count": 193,
     "metadata": {},
     "output_type": "execute_result"
    }
   ],
   "source": [
    "shutil.move(f'{newpath}\\ElectronicCreditLedger.pdf','E:\\{}\\FY_{}'.format(username,fyr[0]))"
   ]
  },
  {
   "cell_type": "code",
   "execution_count": 195,
   "id": "32410e4c",
   "metadata": {
    "ExecuteTime": {
     "end_time": "2022-05-25T12:42:27.904347Z",
     "start_time": "2022-05-25T12:42:21.850413Z"
    }
   },
   "outputs": [],
   "source": [
    "shutil.copy(\"E:\\GST_FY_Format_copy.xlsx\", \"E:\\{}\\FY_{}\".format(username,fyr[0]))\n",
    "for y in list(YearandMonths.keys()):\n",
    "    df =   xw.Book('E:\\{}\\FY_{}\\\\GST_FY_Format_copy.xlsx'.format(username,fyr[0]))\n",
    "    excel_app = xw.apps.active\n",
    "    sn = df.sheets[0]\n",
    "    sn.name = 'GST_FY_{}'.format(y)\n",
    "    sn.range('A1').value = \"{}\".format(username)\n",
    "    sn['A2'].value = \"GST  STATEMENT FOR THE PERIOD OF 01-04-{} TO 31-03-20{} GSTR 3B\".format(y[0:4],y[5:])\n",
    "    sn['X8'].value = 'INTEREST'\n",
    "    sn.range('X8').font.bold = True\n",
    "    sn.range('X8').font.size = 12\n",
    "    sn.range('Q10').value = CL_Total\n",
    "    for (i,j)in zip(['D','E','F','K','L','M','U','V','W'],['IGST','CGST','SGST'] * 3):\n",
    "        sn.range('{}8'.format(i)).value = '{}'.format(j)\n",
    "    sn.range('T8').value = 'LATE_FEE'\n",
    "    for clmns in ['D','E','F','I','K','L','M','T','U','V','W','X']:\n",
    "            for numbs in range(11,23):\n",
    "                jn = ''.join([clmns,str(numbs)])\n",
    "                sn.range(jn).value = float(0.0)      \n",
    "    for j in list(YearandMonths[y].keys()):\n",
    "        if j in [\"Apr-Jun\",\"Jul-Sep\",\"Oct-Dec\",\"Jan-Mar\"]:\n",
    "            for s in range(1,30):\n",
    "                dto = datetime.datetime.strptime(j[4:],\"%b\")\n",
    "                cmn = calendar.month_name[dto.month]\n",
    "                if cmn == (sn.range(s,1).value):\n",
    "                    xl_values = []\n",
    "                    for ixc in list(YearandMonths[y][j].keys()):\n",
    "                        for jcd in list(YearandMonths[y][j][ixc].values()):\n",
    "                            xl_values.append(jcd)\n",
    "                    for (xuv,suv) in zip(['D','E','F','I','K','L','M','T','U','V','W','X'],xl_values):\n",
    "                        cb = ''.join([xuv,sn.range(s,1).address.replace('$','')[1:]])\n",
    "                        sn.range(cb).value = suv\n",
    "        else:\n",
    "            for s in range(1,30):\n",
    "                if j == (sn.range(s,1).value):\n",
    "                    xl_values = []\n",
    "                    for ixc in list(YearandMonths[y][j].keys()):\n",
    "                        for jcd in list(YearandMonths[y][j][ixc].values()):\n",
    "                            xl_values.append(jcd)\n",
    "                    for (xuv,suv) in zip(['D','E','F','I','K','L','M','T','U','V','W','X'],xl_values):\n",
    "                        cb = ''.join([xuv,sn.range(s,1).address.replace('$','')[1:]])\n",
    "                        sn.range(cb).value = suv\n",
    "    df.save('E:\\{}\\FY_{}\\\\GST_FY_{}.xlsx'.format(username,y,y))\n",
    "    excel_app.quit()\n",
    "    os.remove('E:\\{}\\FY_{}\\\\GST_FY_Format_copy.xlsx'.format(username,fyr[0]))"
   ]
  },
  {
   "cell_type": "code",
   "execution_count": null,
   "id": "cbe7e8a0",
   "metadata": {},
   "outputs": [],
   "source": []
  }
 ],
 "metadata": {
  "hide_input": false,
  "kernelspec": {
   "display_name": "Python 3 (ipykernel)",
   "language": "python",
   "name": "python3"
  },
  "language_info": {
   "codemirror_mode": {
    "name": "ipython",
    "version": 3
   },
   "file_extension": ".py",
   "mimetype": "text/x-python",
   "name": "python",
   "nbconvert_exporter": "python",
   "pygments_lexer": "ipython3",
   "version": "3.9.7"
  },
  "nbTranslate": {
   "displayLangs": [
    "*"
   ],
   "hotkey": "alt-t",
   "langInMainMenu": true,
   "sourceLang": "en",
   "targetLang": "fr",
   "useGoogleTranslate": true
  },
  "varInspector": {
   "cols": {
    "lenName": 16,
    "lenType": 16,
    "lenVar": 40
   },
   "kernels_config": {
    "python": {
     "delete_cmd_postfix": "",
     "delete_cmd_prefix": "del ",
     "library": "var_list.py",
     "varRefreshCmd": "print(var_dic_list())"
    },
    "r": {
     "delete_cmd_postfix": ") ",
     "delete_cmd_prefix": "rm(",
     "library": "var_list.r",
     "varRefreshCmd": "cat(var_dic_list()) "
    }
   },
   "types_to_exclude": [
    "module",
    "function",
    "builtin_function_or_method",
    "instance",
    "_Feature"
   ],
   "window_display": false
  }
 },
 "nbformat": 4,
 "nbformat_minor": 5
}
