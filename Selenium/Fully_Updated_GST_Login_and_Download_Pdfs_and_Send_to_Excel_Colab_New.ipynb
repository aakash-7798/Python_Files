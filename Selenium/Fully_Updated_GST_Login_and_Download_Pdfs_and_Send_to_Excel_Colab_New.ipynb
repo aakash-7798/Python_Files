{
  "cells": [
    {
      "cell_type": "code",
      "source": [
        "from google.colab import drive\n",
        "drive.mount('/content/drive/')"
      ],
      "metadata": {
        "id": "XNmgEldhnHgr",
        "colab": {
          "base_uri": "https://localhost:8080/"
        },
        "outputId": "3afbfd73-33a4-4e3d-c001-16d8a6608f77"
      },
      "id": "XNmgEldhnHgr",
      "execution_count": null,
      "outputs": [
        {
          "output_type": "stream",
          "name": "stdout",
          "text": [
            "Drive already mounted at /content/drive/; to attempt to forcibly remount, call drive.mount(\"/content/drive/\", force_remount=True).\n"
          ]
        }
      ]
    },
    {
      "cell_type": "code",
      "source": [
        "import os\n",
        "os.getcwd()"
      ],
      "metadata": {
        "colab": {
          "base_uri": "https://localhost:8080/",
          "height": 35
        },
        "id": "U4mws75Cnqdb",
        "outputId": "327c42da-1e58-470e-f44e-134d7f0b1cdb"
      },
      "id": "U4mws75Cnqdb",
      "execution_count": null,
      "outputs": [
        {
          "output_type": "execute_result",
          "data": {
            "text/plain": [
              "'/content'"
            ],
            "application/vnd.google.colaboratory.intrinsic+json": {
              "type": "string"
            }
          },
          "metadata": {},
          "execution_count": 2
        }
      ]
    },
    {
      "cell_type": "code",
      "source": [
        "os.chdir('/content/drive/My Drive/Colab Notebooks')"
      ],
      "metadata": {
        "id": "YY9o-GQsoX3D"
      },
      "id": "YY9o-GQsoX3D",
      "execution_count": null,
      "outputs": []
    },
    {
      "cell_type": "code",
      "source": [
        "my_path = os.getcwd()\n",
        "my_path"
      ],
      "metadata": {
        "colab": {
          "base_uri": "https://localhost:8080/",
          "height": 35
        },
        "id": "mxkoyUweo1kE",
        "outputId": "ebba5684-6a7f-4b45-de15-83258219740a"
      },
      "id": "mxkoyUweo1kE",
      "execution_count": null,
      "outputs": [
        {
          "output_type": "execute_result",
          "data": {
            "text/plain": [
              "'/content/drive/My Drive/Colab Notebooks'"
            ],
            "application/vnd.google.colaboratory.intrinsic+json": {
              "type": "string"
            }
          },
          "metadata": {},
          "execution_count": 4
        }
      ]
    },
    {
      "cell_type": "code",
      "source": [
        "!pip install pdfplumber\n",
        "!pip install xlwings\n",
        "!apt update\n",
        "!apt install chromium-chromedriver\n",
        "!pip install selenium"
      ],
      "metadata": {
        "id": "JEpYj6F_jc32",
        "colab": {
          "base_uri": "https://localhost:8080/",
          "height": 1000
        },
        "outputId": "90e49953-584c-4f46-90ba-2fb7dc3488c4"
      },
      "id": "JEpYj6F_jc32",
      "execution_count": null,
      "outputs": [
        {
          "output_type": "stream",
          "name": "stdout",
          "text": [
            "Looking in indexes: https://pypi.org/simple, https://us-python.pkg.dev/colab-wheels/public/simple/\n",
            "Collecting pdfplumber\n",
            "  Downloading pdfplumber-0.6.2-py3-none-any.whl (36 kB)\n",
            "Collecting Pillow>=9.1\n",
            "  Downloading Pillow-9.1.1-cp37-cp37m-manylinux_2_17_x86_64.manylinux2014_x86_64.whl (3.1 MB)\n",
            "\u001b[K     |████████████████████████████████| 3.1 MB 11.8 MB/s \n",
            "\u001b[?25hCollecting Wand>=0.6.7\n",
            "  Downloading Wand-0.6.7-py2.py3-none-any.whl (139 kB)\n",
            "\u001b[K     |████████████████████████████████| 139 kB 35.7 MB/s \n",
            "\u001b[?25hCollecting pdfminer.six==20220319\n",
            "  Downloading pdfminer.six-20220319-py3-none-any.whl (5.6 MB)\n",
            "\u001b[K     |████████████████████████████████| 5.6 MB 51.3 MB/s \n",
            "\u001b[?25hRequirement already satisfied: chardet in /usr/local/lib/python3.7/dist-packages (from pdfminer.six==20220319->pdfplumber) (3.0.4)\n",
            "Collecting cryptography\n",
            "  Downloading cryptography-37.0.2-cp36-abi3-manylinux_2_24_x86_64.whl (4.0 MB)\n",
            "\u001b[K     |████████████████████████████████| 4.0 MB 62.0 MB/s \n",
            "\u001b[?25hRequirement already satisfied: cffi>=1.12 in /usr/local/lib/python3.7/dist-packages (from cryptography->pdfminer.six==20220319->pdfplumber) (1.15.0)\n",
            "Requirement already satisfied: pycparser in /usr/local/lib/python3.7/dist-packages (from cffi>=1.12->cryptography->pdfminer.six==20220319->pdfplumber) (2.21)\n",
            "Installing collected packages: cryptography, Wand, Pillow, pdfminer.six, pdfplumber\n",
            "  Attempting uninstall: Pillow\n",
            "    Found existing installation: Pillow 7.1.2\n",
            "    Uninstalling Pillow-7.1.2:\n",
            "      Successfully uninstalled Pillow-7.1.2\n",
            "\u001b[31mERROR: pip's dependency resolver does not currently take into account all the packages that are installed. This behaviour is the source of the following dependency conflicts.\n",
            "albumentations 0.1.12 requires imgaug<0.2.7,>=0.2.5, but you have imgaug 0.2.9 which is incompatible.\u001b[0m\n",
            "Successfully installed Pillow-9.1.1 Wand-0.6.7 cryptography-37.0.2 pdfminer.six-20220319 pdfplumber-0.6.2\n"
          ]
        },
        {
          "output_type": "display_data",
          "data": {
            "application/vnd.colab-display-data+json": {
              "pip_warning": {
                "packages": [
                  "PIL"
                ]
              }
            }
          },
          "metadata": {}
        },
        {
          "output_type": "stream",
          "name": "stdout",
          "text": [
            "Looking in indexes: https://pypi.org/simple, https://us-python.pkg.dev/colab-wheels/public/simple/\n",
            "Collecting xlwings\n",
            "  Downloading xlwings-0.27.8-py3-none-any.whl (1.0 MB)\n",
            "\u001b[K     |████████████████████████████████| 1.0 MB 7.2 MB/s \n",
            "\u001b[?25hInstalling collected packages: xlwings\n",
            "Successfully installed xlwings-0.27.8\n",
            "Get:1 https://cloud.r-project.org/bin/linux/ubuntu bionic-cran40/ InRelease [3,626 B]\n",
            "Get:2 https://developer.download.nvidia.com/compute/cuda/repos/ubuntu1804/x86_64  InRelease [1,581 B]\n",
            "Hit:3 http://archive.ubuntu.com/ubuntu bionic InRelease\n",
            "Get:4 http://security.ubuntu.com/ubuntu bionic-security InRelease [88.7 kB]\n",
            "Ign:5 https://developer.download.nvidia.com/compute/machine-learning/repos/ubuntu1804/x86_64  InRelease\n",
            "Hit:6 https://developer.download.nvidia.com/compute/machine-learning/repos/ubuntu1804/x86_64  Release\n",
            "Get:7 http://archive.ubuntu.com/ubuntu bionic-updates InRelease [88.7 kB]\n",
            "Get:8 http://ppa.launchpad.net/c2d4u.team/c2d4u4.0+/ubuntu bionic InRelease [15.9 kB]\n",
            "Get:9 http://archive.ubuntu.com/ubuntu bionic-backports InRelease [74.6 kB]\n",
            "Get:10 https://developer.download.nvidia.com/compute/cuda/repos/ubuntu1804/x86_64  Packages [787 kB]\n",
            "Hit:11 http://ppa.launchpad.net/cran/libgit2/ubuntu bionic InRelease\n",
            "Get:12 http://ppa.launchpad.net/deadsnakes/ppa/ubuntu bionic InRelease [15.9 kB]\n",
            "Get:14 http://ppa.launchpad.net/graphics-drivers/ppa/ubuntu bionic InRelease [21.3 kB]\n",
            "Get:15 http://security.ubuntu.com/ubuntu bionic-security/restricted amd64 Packages [954 kB]\n",
            "Get:16 http://archive.ubuntu.com/ubuntu bionic-updates/main amd64 Packages [3,223 kB]\n",
            "Get:17 http://security.ubuntu.com/ubuntu bionic-security/multiverse amd64 Packages [22.8 kB]\n",
            "Get:18 http://security.ubuntu.com/ubuntu bionic-security/main amd64 Packages [2,792 kB]\n",
            "Get:19 http://security.ubuntu.com/ubuntu bionic-security/universe amd64 Packages [1,507 kB]\n",
            "Get:20 http://archive.ubuntu.com/ubuntu bionic-updates/universe amd64 Packages [2,281 kB]\n",
            "Get:21 http://archive.ubuntu.com/ubuntu bionic-updates/restricted amd64 Packages [988 kB]\n",
            "Get:22 http://archive.ubuntu.com/ubuntu bionic-updates/multiverse amd64 Packages [29.8 kB]\n",
            "Get:23 http://ppa.launchpad.net/c2d4u.team/c2d4u4.0+/ubuntu bionic/main Sources [1,969 kB]\n",
            "Get:24 http://ppa.launchpad.net/c2d4u.team/c2d4u4.0+/ubuntu bionic/main amd64 Packages [1,010 kB]\n",
            "Get:25 http://ppa.launchpad.net/deadsnakes/ppa/ubuntu bionic/main amd64 Packages [45.3 kB]\n",
            "Get:26 http://ppa.launchpad.net/graphics-drivers/ppa/ubuntu bionic/main amd64 Packages [44.3 kB]\n",
            "Fetched 16.0 MB in 5s (3,001 kB/s)\n",
            "Reading package lists... Done\n",
            "Building dependency tree       \n",
            "Reading state information... Done\n",
            "62 packages can be upgraded. Run 'apt list --upgradable' to see them.\n",
            "Reading package lists... Done\n",
            "Building dependency tree       \n",
            "Reading state information... Done\n",
            "The following package was automatically installed and is no longer required:\n",
            "  libnvidia-common-460\n",
            "Use 'apt autoremove' to remove it.\n",
            "The following additional packages will be installed:\n",
            "  chromium-browser chromium-browser-l10n chromium-codecs-ffmpeg-extra\n",
            "Suggested packages:\n",
            "  webaccounts-chromium-extension unity-chromium-extension\n",
            "The following NEW packages will be installed:\n",
            "  chromium-browser chromium-browser-l10n chromium-chromedriver\n",
            "  chromium-codecs-ffmpeg-extra\n",
            "0 upgraded, 4 newly installed, 0 to remove and 62 not upgraded.\n",
            "Need to get 89.8 MB of archives.\n",
            "After this operation, 302 MB of additional disk space will be used.\n",
            "Get:1 http://archive.ubuntu.com/ubuntu bionic-updates/universe amd64 chromium-codecs-ffmpeg-extra amd64 101.0.4951.64-0ubuntu0.18.04.1 [1,142 kB]\n",
            "Get:2 http://archive.ubuntu.com/ubuntu bionic-updates/universe amd64 chromium-browser amd64 101.0.4951.64-0ubuntu0.18.04.1 [78.5 MB]\n",
            "Get:3 http://archive.ubuntu.com/ubuntu bionic-updates/universe amd64 chromium-browser-l10n all 101.0.4951.64-0ubuntu0.18.04.1 [4,980 kB]\n",
            "Get:4 http://archive.ubuntu.com/ubuntu bionic-updates/universe amd64 chromium-chromedriver amd64 101.0.4951.64-0ubuntu0.18.04.1 [5,153 kB]\n",
            "Fetched 89.8 MB in 3s (30.6 MB/s)\n",
            "Selecting previously unselected package chromium-codecs-ffmpeg-extra.\n",
            "(Reading database ... 155629 files and directories currently installed.)\n",
            "Preparing to unpack .../chromium-codecs-ffmpeg-extra_101.0.4951.64-0ubuntu0.18.04.1_amd64.deb ...\n",
            "Unpacking chromium-codecs-ffmpeg-extra (101.0.4951.64-0ubuntu0.18.04.1) ...\n",
            "Selecting previously unselected package chromium-browser.\n",
            "Preparing to unpack .../chromium-browser_101.0.4951.64-0ubuntu0.18.04.1_amd64.deb ...\n",
            "Unpacking chromium-browser (101.0.4951.64-0ubuntu0.18.04.1) ...\n",
            "Selecting previously unselected package chromium-browser-l10n.\n",
            "Preparing to unpack .../chromium-browser-l10n_101.0.4951.64-0ubuntu0.18.04.1_all.deb ...\n",
            "Unpacking chromium-browser-l10n (101.0.4951.64-0ubuntu0.18.04.1) ...\n",
            "Selecting previously unselected package chromium-chromedriver.\n",
            "Preparing to unpack .../chromium-chromedriver_101.0.4951.64-0ubuntu0.18.04.1_amd64.deb ...\n",
            "Unpacking chromium-chromedriver (101.0.4951.64-0ubuntu0.18.04.1) ...\n",
            "Setting up chromium-codecs-ffmpeg-extra (101.0.4951.64-0ubuntu0.18.04.1) ...\n",
            "Setting up chromium-browser (101.0.4951.64-0ubuntu0.18.04.1) ...\n",
            "update-alternatives: using /usr/bin/chromium-browser to provide /usr/bin/x-www-browser (x-www-browser) in auto mode\n",
            "update-alternatives: using /usr/bin/chromium-browser to provide /usr/bin/gnome-www-browser (gnome-www-browser) in auto mode\n",
            "Setting up chromium-chromedriver (101.0.4951.64-0ubuntu0.18.04.1) ...\n",
            "Setting up chromium-browser-l10n (101.0.4951.64-0ubuntu0.18.04.1) ...\n",
            "Processing triggers for man-db (2.8.3-2ubuntu0.1) ...\n",
            "Processing triggers for hicolor-icon-theme (0.17-2) ...\n",
            "Processing triggers for mime-support (3.60ubuntu1) ...\n",
            "Processing triggers for libc-bin (2.27-3ubuntu1.3) ...\n",
            "/sbin/ldconfig.real: /usr/local/lib/python3.7/dist-packages/ideep4py/lib/libmkldnn.so.0 is not a symbolic link\n",
            "\n",
            "Looking in indexes: https://pypi.org/simple, https://us-python.pkg.dev/colab-wheels/public/simple/\n",
            "Collecting selenium\n",
            "  Downloading selenium-4.1.5-py3-none-any.whl (979 kB)\n",
            "\u001b[K     |████████████████████████████████| 979 kB 8.6 MB/s \n",
            "\u001b[?25hCollecting trio-websocket~=0.9\n",
            "  Downloading trio_websocket-0.9.2-py3-none-any.whl (16 kB)\n",
            "Collecting trio~=0.17\n",
            "  Downloading trio-0.20.0-py3-none-any.whl (359 kB)\n",
            "\u001b[K     |████████████████████████████████| 359 kB 47.4 MB/s \n",
            "\u001b[?25hCollecting urllib3[secure,socks]~=1.26\n",
            "  Downloading urllib3-1.26.9-py2.py3-none-any.whl (138 kB)\n",
            "\u001b[K     |████████████████████████████████| 138 kB 57.7 MB/s \n",
            "\u001b[?25hCollecting outcome\n",
            "  Downloading outcome-1.1.0-py2.py3-none-any.whl (9.7 kB)\n",
            "Requirement already satisfied: attrs>=19.2.0 in /usr/local/lib/python3.7/dist-packages (from trio~=0.17->selenium) (21.4.0)\n",
            "Collecting sniffio\n",
            "  Downloading sniffio-1.2.0-py3-none-any.whl (10 kB)\n",
            "Requirement already satisfied: idna in /usr/local/lib/python3.7/dist-packages (from trio~=0.17->selenium) (2.10)\n",
            "Collecting async-generator>=1.9\n",
            "  Downloading async_generator-1.10-py3-none-any.whl (18 kB)\n",
            "Requirement already satisfied: sortedcontainers in /usr/local/lib/python3.7/dist-packages (from trio~=0.17->selenium) (2.4.0)\n",
            "Collecting wsproto>=0.14\n",
            "  Downloading wsproto-1.1.0-py3-none-any.whl (24 kB)\n",
            "Requirement already satisfied: PySocks!=1.5.7,<2.0,>=1.5.6 in /usr/local/lib/python3.7/dist-packages (from urllib3[secure,socks]~=1.26->selenium) (1.7.1)\n",
            "Requirement already satisfied: certifi in /usr/local/lib/python3.7/dist-packages (from urllib3[secure,socks]~=1.26->selenium) (2022.5.18.1)\n",
            "Collecting pyOpenSSL>=0.14\n",
            "  Downloading pyOpenSSL-22.0.0-py2.py3-none-any.whl (55 kB)\n",
            "\u001b[K     |████████████████████████████████| 55 kB 4.0 MB/s \n",
            "\u001b[?25hRequirement already satisfied: cryptography>=1.3.4 in /usr/local/lib/python3.7/dist-packages (from urllib3[secure,socks]~=1.26->selenium) (37.0.2)\n",
            "Requirement already satisfied: cffi>=1.12 in /usr/local/lib/python3.7/dist-packages (from cryptography>=1.3.4->urllib3[secure,socks]~=1.26->selenium) (1.15.0)\n",
            "Requirement already satisfied: pycparser in /usr/local/lib/python3.7/dist-packages (from cffi>=1.12->cryptography>=1.3.4->urllib3[secure,socks]~=1.26->selenium) (2.21)\n",
            "Collecting h11<1,>=0.9.0\n",
            "  Downloading h11-0.13.0-py3-none-any.whl (58 kB)\n",
            "\u001b[K     |████████████████████████████████| 58 kB 5.4 MB/s \n",
            "\u001b[?25hRequirement already satisfied: typing-extensions in /usr/local/lib/python3.7/dist-packages (from h11<1,>=0.9.0->wsproto>=0.14->trio-websocket~=0.9->selenium) (4.2.0)\n",
            "Installing collected packages: sniffio, outcome, h11, async-generator, wsproto, urllib3, trio, pyOpenSSL, trio-websocket, selenium\n",
            "  Attempting uninstall: urllib3\n",
            "    Found existing installation: urllib3 1.24.3\n",
            "    Uninstalling urllib3-1.24.3:\n",
            "      Successfully uninstalled urllib3-1.24.3\n",
            "\u001b[31mERROR: pip's dependency resolver does not currently take into account all the packages that are installed. This behaviour is the source of the following dependency conflicts.\n",
            "requests 2.23.0 requires urllib3!=1.25.0,!=1.25.1,<1.26,>=1.21.1, but you have urllib3 1.26.9 which is incompatible.\n",
            "datascience 0.10.6 requires folium==0.2.1, but you have folium 0.8.3 which is incompatible.\u001b[0m\n",
            "Successfully installed async-generator-1.10 h11-0.13.0 outcome-1.1.0 pyOpenSSL-22.0.0 selenium-4.1.5 sniffio-1.2.0 trio-0.20.0 trio-websocket-0.9.2 urllib3-1.26.9 wsproto-1.1.0\n"
          ]
        }
      ]
    },
    {
      "cell_type": "code",
      "source": [
        "# # !pip install Pillow==9.0.0\n",
        "# !pip install Pillow==4.0.0\n",
        "# !pip install PIL\n",
        "# !pip install image"
      ],
      "metadata": {
        "id": "e4H7ICtvwhuk"
      },
      "id": "e4H7ICtvwhuk",
      "execution_count": null,
      "outputs": []
    },
    {
      "cell_type": "code",
      "execution_count": null,
      "id": "77ac8a23",
      "metadata": {
        "ExecuteTime": {
          "end_time": "2022-05-22T12:13:09.875394Z",
          "start_time": "2022-05-22T12:13:09.141649Z"
        },
        "id": "77ac8a23"
      },
      "outputs": [],
      "source": [
        "from selenium import webdriver\n",
        "from selenium.webdriver.common.keys import Keys\n",
        "from getpass import getpass\n",
        "from selenium.webdriver.chrome.service import Service\n",
        "from selenium.webdriver.chrome.options import Options\n",
        "import time\n",
        "import calendar\n",
        "from selenium.common.exceptions import NoSuchElementException\n",
        "import os\n",
        "from io import BytesIO,StringIO\n",
        "# import pyautogui\n",
        "from PIL import Image\n",
        "# https://stackoverflow.com/questions/69875125/find-element-by-commands-are-deprecated-in-selenium\n",
        "from selenium.webdriver.common.by import By"
      ]
    },
    {
      "cell_type": "code",
      "execution_count": null,
      "id": "e4673f95",
      "metadata": {
        "ExecuteTime": {
          "end_time": "2022-05-22T12:13:12.487690Z",
          "start_time": "2022-05-22T12:13:12.475725Z"
        },
        "id": "e4673f95"
      },
      "outputs": [],
      "source": [
        "import pdfplumber\n",
        "import pandas as pd\n",
        "import string\n",
        "from collections import OrderedDict\n",
        "from IPython.display import display,Image\n",
        "from tabulate import tabulate\n",
        "import os\n",
        "from openpyxl import load_workbook\n",
        "from openpyxl.styles.alignment import Alignment\n",
        "from openpyxl.styles import Alignment\n",
        "import openpyxl\n",
        "import xlwings as xw\n",
        "import datetime\n",
        "import calendar\n",
        "import shutil\n",
        "# !pip3 install openpyxl==2.5.14 "
      ]
    },
    {
      "cell_type": "code",
      "source": [
        "options = webdriver.ChromeOptions()\n",
        "options.add_argument('--headless')\n",
        "options.add_argument('--no-sandbox')\n",
        "options.add_argument('--disable-dev-shm-usage')"
      ],
      "metadata": {
        "id": "uOPbtgx2vH42"
      },
      "id": "uOPbtgx2vH42",
      "execution_count": null,
      "outputs": []
    },
    {
      "cell_type": "code",
      "execution_count": null,
      "id": "008964a4",
      "metadata": {
        "ExecuteTime": {
          "end_time": "2022-05-22T12:13:34.774704Z",
          "start_time": "2022-05-22T12:13:19.718919Z"
        },
        "colab": {
          "base_uri": "https://localhost:8080/"
        },
        "id": "008964a4",
        "outputId": "73946f47-17ff-46a7-d4da-b77e05c2ec2a"
      },
      "outputs": [
        {
          "name": "stdout",
          "output_type": "stream",
          "text": [
            "Enter Username : nadupallisriniv\n",
            "Enter Password : ··········\n"
          ]
        }
      ],
      "source": [
        "# username = pagepvtltd_2017\n",
        "# password = 'Srinivas@369'\n",
        "username = input(\"Enter Username : \")\n",
        "password = getpass(\"Enter Password : \")"
      ]
    },
    {
      "cell_type": "code",
      "execution_count": null,
      "id": "381de345",
      "metadata": {
        "ExecuteTime": {
          "end_time": "2022-05-22T12:13:51.848764Z",
          "start_time": "2022-05-22T12:13:48.584571Z"
        },
        "colab": {
          "base_uri": "https://localhost:8080/",
          "height": 70
        },
        "id": "381de345",
        "outputId": "bb82e39f-8e6b-42ab-8e3a-b00610ea0329"
      },
      "outputs": [
        {
          "name": "stdout",
          "output_type": "stream",
          "text": [
            "Enter Financial Year :    (for Eg:2017-18)2017-18\n",
            "!!Folder Already Exists....   Do you want to Remove :no\n"
          ]
        },
        {
          "output_type": "execute_result",
          "data": {
            "text/plain": [
              "'/content/drive/My Drive/Colab Notebooks/nadupallisriniv/FY_2017-18/GSTR-3B_PDFs'"
            ],
            "application/vnd.google.colaboratory.intrinsic+json": {
              "type": "string"
            }
          },
          "metadata": {},
          "execution_count": 40
        }
      ],
      "source": [
        "fyr=[input(\"Enter Financial Year :    (for Eg:2017-18)\")]\n",
        "newpath = r\"{}/{}/FY_{}/GSTR-3B_PDFs\".format(my_path,username,fyr[0]) \n",
        "if os.path.exists(r\"{}/{}/FY_{}\".format(my_path,username,fyr[0]) ):\n",
        "  alert = input(\"!!Folder Already Exists....   Do you want to Remove :\")\n",
        "  if alert.lower()=='yes':\n",
        "    shutil.rmtree(r\"{}/{}/FY_{}\".format(my_path,username,fyr[0]) )\n",
        "if not os.path.exists(newpath):\n",
        "    os.makedirs(newpath)\n",
        "options.add_experimental_option(\"prefs\",{\"download.default_directory\":newpath})\n",
        "newpath"
      ]
    },
    {
      "cell_type": "code",
      "source": [
        "Driver = webdriver.Chrome(options=options)"
      ],
      "metadata": {
        "id": "OUh4PN1mvY9v"
      },
      "id": "OUh4PN1mvY9v",
      "execution_count": null,
      "outputs": []
    },
    {
      "cell_type": "code",
      "execution_count": null,
      "id": "bb1a5fd0",
      "metadata": {
        "ExecuteTime": {
          "end_time": "2022-05-22T12:14:07.420091Z",
          "start_time": "2022-05-22T12:14:02.677056Z"
        },
        "id": "bb1a5fd0"
      },
      "outputs": [],
      "source": [
        "Driver.get('https://www.gst.gov.in/')\n",
        "Driver.find_element(By.XPATH,\"//a[contains(text(),' Login')]\").click()\n",
        "time.sleep(1.5)\n",
        "Driver.find_element(By.ID,'username').send_keys(username)\n",
        "time.sleep(1)\n",
        "Driver.find_element(By.ID,\"user_pass\").send_keys(password)\n",
        "time.sleep(1.5)"
      ]
    },
    {
      "cell_type": "code",
      "execution_count": null,
      "id": "3341f114",
      "metadata": {
        "ExecuteTime": {
          "end_time": "2022-05-22T12:14:12.302809Z",
          "start_time": "2022-05-22T12:14:11.780687Z"
        },
        "id": "3341f114",
        "colab": {
          "base_uri": "https://localhost:8080/",
          "height": 67
        },
        "outputId": "7e1c697c-308f-4a5d-d068-6518496584e1"
      },
      "outputs": [
        {
          "output_type": "execute_result",
          "data": {
            "text/plain": [
              "<IPython.core.display.Image object>"
            ],
            "image/png": "[encoded data removed]"
          },
          "metadata": {},
          "execution_count": 43
        }
      ],
      "source": [
        "Captcha_Image = Driver.find_element(By.ID,'imgCaptcha').screenshot_as_png\n",
        "Image(Captcha_Image)"
      ]
    },
    {
      "cell_type": "code",
      "execution_count": null,
      "id": "846234dc",
      "metadata": {
        "ExecuteTime": {
          "end_time": "2022-05-22T12:14:20.917064Z",
          "start_time": "2022-05-22T12:14:14.618566Z"
        },
        "id": "846234dc",
        "outputId": "749b978c-9c8c-4ca9-deb9-0e888a623aa6",
        "colab": {
          "base_uri": "https://localhost:8080/"
        }
      },
      "outputs": [
        {
          "name": "stdout",
          "output_type": "stream",
          "text": [
            "Enter Above Captcha : 240894\n"
          ]
        }
      ],
      "source": [
        "Driver.find_element(By.ID,'captcha').send_keys(int(input(\"Enter Above Captcha : \")))\n",
        "time.sleep(2)\n",
        "Driver.find_element(By.XPATH,'//button[normalize-space()=\"Login\"]').click()"
      ]
    },
    {
      "cell_type": "code",
      "execution_count": null,
      "id": "c2dd4b9f",
      "metadata": {
        "ExecuteTime": {
          "end_time": "2022-05-22T12:14:44.781915Z",
          "start_time": "2022-05-22T12:14:25.069535Z"
        },
        "id": "c2dd4b9f",
        "colab": {
          "base_uri": "https://localhost:8080/"
        },
        "outputId": "59e2734b-984d-461f-c0cd-b9c794ae8e7f"
      },
      "outputs": [
        {
          "output_type": "stream",
          "name": "stdout",
          "text": [
            "Stopped Suddenly\n"
          ]
        }
      ],
      "source": [
        "try:\n",
        "  time.sleep(3)\n",
        "  Driver.find_element(By.XPATH,\"//div[@class='modal-content']//div[@class='modal-footer']//a[contains(text(),'Remind me later')]\").click()\n",
        "  time.sleep(2)  \n",
        "  Driver.find_element(By.XPATH,\"//span[text()='Continue to Dashboard']\").click()\n",
        "  time.sleep(4)\n",
        "  Driver.find_element(By.XPATH,\".//div[contains(@id,'main')]//a[contains(text(),'Services ')]\").click()\n",
        "  time.sleep(3)\n",
        "  Driver.find_element(By.XPATH,\"//a[contains(text(),'Ledgers')]\").click()\n",
        "  time.sleep(1.5)\n",
        "  Driver.find_element(By.XPATH,\"//div[@class='content-pane']//div[@class='row']//div[@class='col-xs-12']//ul//li//a[normalize-space()='Electronic Credit Ledger']\").click()\n",
        "  time.sleep(3)\n",
        "  Driver.find_element(By.XPATH,\"//div[@class='content-pane']//div[@class='rettbl-format']//div[@class='row']//div[@class='col-sm-12']//ol//li//a[contains(text(),'Electronic Credit Ledger')]\").click()\n",
        "  time.sleep(1.5)\n",
        "  Driver.find_element(By.ID,\"sumlg_frdt\").send_keys(f\"01/04/{fyr[0][0:4]}\")\n",
        "  time.sleep(2)\n",
        "  Driver.find_element(By.ID,\"sumlg_todt\").send_keys(f\"31/10/{fyr[0][0:4]}\")\n",
        "  time.sleep(2)\n",
        "  Driver.find_element(By.XPATH,'//button[normalize-space()=\"GO\"]').click()\n",
        "  time.sleep(2)\n",
        "  Driver.find_element(By.XPATH,'//button[normalize-space()=\"Save As Pdf\"]').click()\n",
        "  time.sleep(6)\n",
        "  Driver.find_element(By.XPATH,\".//div[contains(@id,'main')]//a[contains(text(),'Services ')]\").click()\n",
        "  time.sleep(3)\n",
        "  Driver.find_element(By.XPATH,\"//a[contains(text(),'Returns')]\").click()\n",
        "  time.sleep(3)\n",
        "  Driver.find_element(By.XPATH,\"//div[@class='col-xs-12']//a[contains(text(),'Returns Dashboard')]\").click()\n",
        "except NoSuchElementException:\n",
        "  print(\"Stopped Suddenly\")\n"
      ]
    },
    {
      "cell_type": "code",
      "execution_count": null,
      "id": "32f869d5",
      "metadata": {
        "ExecuteTime": {
          "end_time": "2022-05-22T12:15:23.737509Z",
          "start_time": "2022-05-22T12:14:52.050871Z"
        },
        "id": "32f869d5",
        "colab": {
          "base_uri": "https://localhost:8080/",
          "height": 779
        },
        "outputId": "0d672d9d-7036-4942-f23a-a6785c59e669"
      },
      "outputs": [
        {
          "output_type": "error",
          "ename": "NoSuchElementException",
          "evalue": "ignored",
          "traceback": [
            "\u001b[0;31m---------------------------------------------------------------------------\u001b[0m",
            "\u001b[0;31mNoSuchElementException\u001b[0m                    Traceback (most recent call last)",
            "\u001b[0;32m<ipython-input-28-090d80a39d9c>\u001b[0m in \u001b[0;36m<module>\u001b[0;34m()\u001b[0m\n\u001b[1;32m      1\u001b[0m \u001b[0;32mfor\u001b[0m \u001b[0mi\u001b[0m \u001b[0;32min\u001b[0m \u001b[0mfyr\u001b[0m\u001b[0;34m:\u001b[0m\u001b[0;34m\u001b[0m\u001b[0;34m\u001b[0m\u001b[0m\n\u001b[1;32m      2\u001b[0m     \u001b[0;32mif\u001b[0m \u001b[0mi\u001b[0m \u001b[0;32min\u001b[0m \u001b[0;34m[\u001b[0m\u001b[0;34m'2017-18'\u001b[0m\u001b[0;34m,\u001b[0m\u001b[0;34m'2018-19'\u001b[0m\u001b[0;34m,\u001b[0m\u001b[0;34m'2019-20'\u001b[0m\u001b[0;34m]\u001b[0m\u001b[0;34m:\u001b[0m\u001b[0;34m\u001b[0m\u001b[0;34m\u001b[0m\u001b[0m\n\u001b[0;32m----> 3\u001b[0;31m         \u001b[0mDriver\u001b[0m\u001b[0;34m.\u001b[0m\u001b[0mfind_element\u001b[0m\u001b[0;34m(\u001b[0m\u001b[0mBy\u001b[0m\u001b[0;34m.\u001b[0m\u001b[0mXPATH\u001b[0m\u001b[0;34m,\u001b[0m\u001b[0;34mf\"//select[@name='fin']/option[text()='{i}']\"\u001b[0m\u001b[0;34m)\u001b[0m\u001b[0;34m.\u001b[0m\u001b[0mclick\u001b[0m\u001b[0;34m(\u001b[0m\u001b[0;34m)\u001b[0m\u001b[0;34m\u001b[0m\u001b[0;34m\u001b[0m\u001b[0m\n\u001b[0m\u001b[1;32m      4\u001b[0m         \u001b[0mMonths\u001b[0m \u001b[0;34m=\u001b[0m \u001b[0mDriver\u001b[0m\u001b[0;34m.\u001b[0m\u001b[0mfind_element\u001b[0m\u001b[0;34m(\u001b[0m\u001b[0mBy\u001b[0m\u001b[0;34m.\u001b[0m\u001b[0mNAME\u001b[0m\u001b[0;34m,\u001b[0m\u001b[0;34m'mon'\u001b[0m\u001b[0;34m)\u001b[0m\u001b[0;34m.\u001b[0m\u001b[0mtext\u001b[0m\u001b[0;34m.\u001b[0m\u001b[0msplit\u001b[0m\u001b[0;34m(\u001b[0m\u001b[0;34m'\\n'\u001b[0m\u001b[0;34m)\u001b[0m\u001b[0;34m\u001b[0m\u001b[0;34m\u001b[0m\u001b[0m\n\u001b[1;32m      5\u001b[0m         \u001b[0;32mfor\u001b[0m \u001b[0mm\u001b[0m \u001b[0;32min\u001b[0m \u001b[0mMonths\u001b[0m\u001b[0;34m:\u001b[0m\u001b[0;34m\u001b[0m\u001b[0;34m\u001b[0m\u001b[0m\n",
            "\u001b[0;32m/usr/local/lib/python3.7/dist-packages/selenium/webdriver/remote/webdriver.py\u001b[0m in \u001b[0;36mfind_element\u001b[0;34m(self, by, value)\u001b[0m\n\u001b[1;32m   1251\u001b[0m         return self.execute(Command.FIND_ELEMENT, {\n\u001b[1;32m   1252\u001b[0m             \u001b[0;34m'using'\u001b[0m\u001b[0;34m:\u001b[0m \u001b[0mby\u001b[0m\u001b[0;34m,\u001b[0m\u001b[0;34m\u001b[0m\u001b[0;34m\u001b[0m\u001b[0m\n\u001b[0;32m-> 1253\u001b[0;31m             'value': value})['value']\n\u001b[0m\u001b[1;32m   1254\u001b[0m \u001b[0;34m\u001b[0m\u001b[0m\n\u001b[1;32m   1255\u001b[0m     \u001b[0;32mdef\u001b[0m \u001b[0mfind_elements\u001b[0m\u001b[0;34m(\u001b[0m\u001b[0mself\u001b[0m\u001b[0;34m,\u001b[0m \u001b[0mby\u001b[0m\u001b[0;34m=\u001b[0m\u001b[0mBy\u001b[0m\u001b[0;34m.\u001b[0m\u001b[0mID\u001b[0m\u001b[0;34m,\u001b[0m \u001b[0mvalue\u001b[0m\u001b[0;34m=\u001b[0m\u001b[0;32mNone\u001b[0m\u001b[0;34m)\u001b[0m \u001b[0;34m->\u001b[0m \u001b[0mList\u001b[0m\u001b[0;34m[\u001b[0m\u001b[0mWebElement\u001b[0m\u001b[0;34m]\u001b[0m\u001b[0;34m:\u001b[0m\u001b[0;34m\u001b[0m\u001b[0;34m\u001b[0m\u001b[0m\n",
            "\u001b[0;32m/usr/local/lib/python3.7/dist-packages/selenium/webdriver/remote/webdriver.py\u001b[0m in \u001b[0;36mexecute\u001b[0;34m(self, driver_command, params)\u001b[0m\n\u001b[1;32m    428\u001b[0m         \u001b[0mresponse\u001b[0m \u001b[0;34m=\u001b[0m \u001b[0mself\u001b[0m\u001b[0;34m.\u001b[0m\u001b[0mcommand_executor\u001b[0m\u001b[0;34m.\u001b[0m\u001b[0mexecute\u001b[0m\u001b[0;34m(\u001b[0m\u001b[0mdriver_command\u001b[0m\u001b[0;34m,\u001b[0m \u001b[0mparams\u001b[0m\u001b[0;34m)\u001b[0m\u001b[0;34m\u001b[0m\u001b[0;34m\u001b[0m\u001b[0m\n\u001b[1;32m    429\u001b[0m         \u001b[0;32mif\u001b[0m \u001b[0mresponse\u001b[0m\u001b[0;34m:\u001b[0m\u001b[0;34m\u001b[0m\u001b[0;34m\u001b[0m\u001b[0m\n\u001b[0;32m--> 430\u001b[0;31m             \u001b[0mself\u001b[0m\u001b[0;34m.\u001b[0m\u001b[0merror_handler\u001b[0m\u001b[0;34m.\u001b[0m\u001b[0mcheck_response\u001b[0m\u001b[0;34m(\u001b[0m\u001b[0mresponse\u001b[0m\u001b[0;34m)\u001b[0m\u001b[0;34m\u001b[0m\u001b[0;34m\u001b[0m\u001b[0m\n\u001b[0m\u001b[1;32m    431\u001b[0m             response['value'] = self._unwrap_value(\n\u001b[1;32m    432\u001b[0m                 response.get('value', None))\n",
            "\u001b[0;32m/usr/local/lib/python3.7/dist-packages/selenium/webdriver/remote/errorhandler.py\u001b[0m in \u001b[0;36mcheck_response\u001b[0;34m(self, response)\u001b[0m\n\u001b[1;32m    245\u001b[0m                 \u001b[0malert_text\u001b[0m \u001b[0;34m=\u001b[0m \u001b[0mvalue\u001b[0m\u001b[0;34m[\u001b[0m\u001b[0;34m'alert'\u001b[0m\u001b[0;34m]\u001b[0m\u001b[0;34m.\u001b[0m\u001b[0mget\u001b[0m\u001b[0;34m(\u001b[0m\u001b[0;34m'text'\u001b[0m\u001b[0;34m)\u001b[0m\u001b[0;34m\u001b[0m\u001b[0;34m\u001b[0m\u001b[0m\n\u001b[1;32m    246\u001b[0m             \u001b[0;32mraise\u001b[0m \u001b[0mexception_class\u001b[0m\u001b[0;34m(\u001b[0m\u001b[0mmessage\u001b[0m\u001b[0;34m,\u001b[0m \u001b[0mscreen\u001b[0m\u001b[0;34m,\u001b[0m \u001b[0mstacktrace\u001b[0m\u001b[0;34m,\u001b[0m \u001b[0malert_text\u001b[0m\u001b[0;34m)\u001b[0m  \u001b[0;31m# type: ignore[call-arg]  # mypy is not smart enough here\u001b[0m\u001b[0;34m\u001b[0m\u001b[0;34m\u001b[0m\u001b[0m\n\u001b[0;32m--> 247\u001b[0;31m         \u001b[0;32mraise\u001b[0m \u001b[0mexception_class\u001b[0m\u001b[0;34m(\u001b[0m\u001b[0mmessage\u001b[0m\u001b[0;34m,\u001b[0m \u001b[0mscreen\u001b[0m\u001b[0;34m,\u001b[0m \u001b[0mstacktrace\u001b[0m\u001b[0;34m)\u001b[0m\u001b[0;34m\u001b[0m\u001b[0;34m\u001b[0m\u001b[0m\n\u001b[0m\u001b[1;32m    248\u001b[0m \u001b[0;34m\u001b[0m\u001b[0m\n\u001b[1;32m    249\u001b[0m     \u001b[0;32mdef\u001b[0m \u001b[0m_value_or_default\u001b[0m\u001b[0;34m(\u001b[0m\u001b[0mself\u001b[0m\u001b[0;34m,\u001b[0m \u001b[0mobj\u001b[0m\u001b[0;34m:\u001b[0m \u001b[0mMapping\u001b[0m\u001b[0;34m[\u001b[0m\u001b[0m_KT\u001b[0m\u001b[0;34m,\u001b[0m \u001b[0m_VT\u001b[0m\u001b[0;34m]\u001b[0m\u001b[0;34m,\u001b[0m \u001b[0mkey\u001b[0m\u001b[0;34m:\u001b[0m \u001b[0m_KT\u001b[0m\u001b[0;34m,\u001b[0m \u001b[0mdefault\u001b[0m\u001b[0;34m:\u001b[0m \u001b[0m_VT\u001b[0m\u001b[0;34m)\u001b[0m \u001b[0;34m->\u001b[0m \u001b[0m_VT\u001b[0m\u001b[0;34m:\u001b[0m\u001b[0;34m\u001b[0m\u001b[0;34m\u001b[0m\u001b[0m\n",
            "\u001b[0;31mNoSuchElementException\u001b[0m: Message: no such element: Unable to locate element: {\"method\":\"xpath\",\"selector\":\"//select[@name='fin']/option[text()='2017-18']\"}\n  (Session info: headless chrome=101.0.4951.64)\nStacktrace:\n#0 0x5606512b3553 <unknown>\n#1 0x560650f9e183 <unknown>\n#2 0x560650fd4619 <unknown>\n#3 0x560650fd4831 <unknown>\n#4 0x560651009087 <unknown>\n#5 0x560650ff201d <unknown>\n#6 0x560651006d6c <unknown>\n#7 0x560650ff2363 <unknown>\n#8 0x560650fc847c <unknown>\n#9 0x560650fc9945 <unknown>\n#10 0x5606513239d0 <unknown>\n#11 0x5606512e8a38 <unknown>\n#12 0x5606512e875c <unknown>\n#13 0x5606512e8fc2 <unknown>\n#14 0x56065132171b <unknown>\n#15 0x5606512e9221 <unknown>\n#16 0x5606512cc5b3 <unknown>\n#17 0x5606512f2988 <unknown>\n#18 0x5606512f2b1a <unknown>\n#19 0x56065130ba41 <unknown>\n#20 0x7f25dcd9d6db <unknown>\n"
          ]
        }
      ],
      "source": [
        "for i in fyr:\n",
        "    if i in ['2017-18','2018-19','2019-20']:\n",
        "        Driver.find_element(By.XPATH,f\"//select[@name='fin']/option[text()='{i}']\").click()\n",
        "        Months = Driver.find_element(By.NAME,'mon').text.split('\\n')\n",
        "        for m in Months:\n",
        "            Driver.find_element(By.XPATH,f\"//select[@name='mon']/option[text()='{m}']\").click()\n",
        "            time.sleep(1)\n",
        "            Driver.find_element(By.XPATH,\".//div[contains(@class,'col-sm-3 col-xs-12')]//button[normalize-space()='Search']\").click()\n",
        "            try:\n",
        "                time.sleep(1)\n",
        "                Driver.find_element(By.XPATH,\".//div[contains(@class,'col-sm-6 col-xs-6')]//button[normalize-space()='Download']\").click()\n",
        "            except NoSuchElementException:\n",
        "                print(\" Not present....continuing script\")\n",
        "    else:\n",
        "        Driver.find_element(By.XPATH,f\"//select[@name='fin']/option[text()='{i}']\").click()\n",
        "        Quarters = Driver.find_element(By.NAME,'quarter').text.split('\\n')\n",
        "        for q in Quarters:\n",
        "            Driver.find_element(By.XPATH,f\"//select[@name='quarter']/option[text()='{q}']\").click()\n",
        "            Months = Driver.find_element(By.NAME,'mon').text.split('\\n')\n",
        "            for m in Months:\n",
        "                Driver.find_element(By.XPATH,f\"//select[@name='mon']/option[text()='{m}']\").click()\n",
        "                time.sleep(1)\n",
        "                Driver.find_element(By.XPATH,\".//div[contains(@class,'col-sm-3 col-xs-12')]//button[normalize-space()='Search']\").click()\n",
        "                try:\n",
        "                    time.sleep(1)\n",
        "                    Driver.find_element(By.XPATH,\".//div[contains(@class,'col-sm-6 col-xs-6')]//button[normalize-space()='Download']\").click()\n",
        "                except NoSuchElementException:\n",
        "                    print(\"Not present....continuing script\")\n",
        "time.sleep(1)\n",
        "Driver.find_element(By.CLASS_NAME,\"dropdown-toggle\").click()\n",
        "time.sleep(1)\n",
        "Driver.find_element(By.XPATH,\"//a[@href='//services.gst.gov.in/services/logout']\").click()\n",
        "time.sleep(2)\n",
        "Driver.close()                    "
      ]
    },
    {
      "cell_type": "code",
      "execution_count": null,
      "id": "b5712653",
      "metadata": {
        "ExecuteTime": {
          "end_time": "2022-05-22T12:15:36.148411Z",
          "start_time": "2022-05-22T12:15:36.126470Z"
        },
        "scrolled": false,
        "id": "b5712653",
        "outputId": "2fefb7b5-252e-4ff5-d99d-22f219d9791c",
        "colab": {
          "base_uri": "https://localhost:8080/"
        }
      },
      "outputs": [
        {
          "output_type": "execute_result",
          "data": {
            "text/plain": [
              "['ElectronicCreditLedger.pdf',\n",
              " 'GSTR3B_36AACCP0932H2ZM_042021.pdf',\n",
              " 'GSTR3B_36AACCP0932H2ZM_052021.pdf',\n",
              " 'GSTR3B_36AACCP0932H2ZM_062021.pdf',\n",
              " 'GSTR3B_36AACCP0932H2ZM_072021.pdf',\n",
              " 'GSTR3B_36AACCP0932H2ZM_082021.pdf',\n",
              " 'GSTR3B_36AACCP0932H2ZM_092021.pdf',\n",
              " 'GSTR3B_36AACCP0932H2ZM_102021.pdf',\n",
              " 'GSTR3B_36AACCP0932H2ZM_112021.pdf',\n",
              " 'GSTR3B_36AACCP0932H2ZM_122021.pdf',\n",
              " 'GSTR3B_36AACCP0932H2ZM_012022.pdf',\n",
              " 'GSTR3B_36AACCP0932H2ZM_022022.pdf']"
            ]
          },
          "metadata": {},
          "execution_count": 94
        }
      ],
      "source": [
        "files_path = newpath\n",
        "os.chdir(files_path)\n",
        "All_files = sorted(filter(os.path.isfile, os.listdir('.')), key=os.path.getmtime)\n",
        "All_files"
      ]
    },
    {
      "cell_type": "code",
      "execution_count": null,
      "id": "7a9d4189",
      "metadata": {
        "ExecuteTime": {
          "end_time": "2022-05-22T12:43:34.418741Z",
          "start_time": "2022-05-22T12:43:22.821726Z"
        },
        "id": "7a9d4189",
        "colab": {
          "base_uri": "https://localhost:8080/",
          "height": 36
        },
        "outputId": "aac6120a-63f0-4f7a-a403-055253508478"
      },
      "outputs": [
        {
          "output_type": "execute_result",
          "data": {
            "text/plain": [
              "'/content/drive/My Drive/Colab Notebooks/pagepvtltd_2017/FY_2021-22/ElectronicCreditLedger.pdf'"
            ],
            "application/vnd.google.colaboratory.intrinsic+json": {
              "type": "string"
            }
          },
          "metadata": {},
          "execution_count": 95
        }
      ],
      "source": [
        "YearandMonths = {}\n",
        "replacers = {f'{i}\\n':'' for i in string.ascii_letters}\n",
        "replacers.update({\"\\n\":\"\",None:\" \"})\n",
        "for fils in All_files:\n",
        "    if fils !='ElectronicCreditLedger.pdf':\n",
        "        pdf = pdfplumber.open(fils)\n",
        "        first_page = pdf.pages[0]\n",
        "        second_page = pdf.pages[1]\n",
        "        All_Tables = first_page.extract_tables()\n",
        "        All_Tables1 = second_page.extract_tables()\n",
        "        Details3_1 = pd.DataFrame(columns=[i.replace(\"\\n\",\" \") for i in All_Tables[2][0]])\n",
        "        for i in range(len(All_Tables[2][1:])):\n",
        "            Details3_1.loc[i] = All_Tables[2][1:][i]\n",
        "        Details3_1 = Details3_1.replace(replacers,regex=True)\n",
        "        OIS = {}\n",
        "        OIS.setdefault('3a_Outward_Inward_Supply', {})\n",
        "        for sales in range(len(Details3_1.columns[1:-1])):\n",
        "            if sales==0:\n",
        "                ttv = list(Details3_1['Total taxable  value'])\n",
        "                OIS['3a_Outward_Inward_Supply'][Details3_1.columns[1:-1][sales]] = float(float(ttv[0])+float(ttv[2]))\n",
        "            else:\n",
        "                OIS['3a_Outward_Inward_Supply'][Details3_1.columns[1:-1][sales]] = float(Details3_1[Details3_1.columns[1:-1][sales]][0])            \n",
        "        EligibleITC = pd.DataFrame(columns=[i.replace(\"\\n\",\" \") for i in All_Tables[4][0]])\n",
        "        for i in range(len(All_Tables[4][1:])):\n",
        "            EligibleITC.loc[i] = All_Tables[4][1:][i]\n",
        "        EligibleITC = EligibleITC.replace(replacers,regex=True)\n",
        "        E_ITC = {}\n",
        "        E_ITC.setdefault('Eligible_ITC', {})\n",
        "        for purch in range(len(EligibleITC.columns[1:4])):\n",
        "            E_ITC['Eligible_ITC'][EligibleITC.columns[1:4][purch]] = list(EligibleITC.iloc[[9]].transpose()[9])[1:-1][purch]\n",
        "        LateFee_Interest = pd.DataFrame(columns=[i.replace(\"\\n\",\" \") for i in All_Tables1[1][0]])\n",
        "        for i in range(len(All_Tables1[1][1:])):\n",
        "            LateFee_Interest.loc[i] = All_Tables1[1][1:][i]\n",
        "        LateFee_Interest = LateFee_Interest.replace(replacers,regex=True)\n",
        "        LI = {}\n",
        "        LI.setdefault('Late_Fee', {})\n",
        "        for li in ['Late_Fee']:\n",
        "            LI['Late_Fee'][li] = float(list(LateFee_Interest.iloc[2])[2:-1][0])+float(list(LateFee_Interest.iloc[2])[2:-1][1])\n",
        "        Intr = {}\n",
        "        Intr.setdefault('Interest', {})\n",
        "        for li in ['Interest']:\n",
        "            Intr['Interest'][li] = float(list(LateFee_Interest.iloc[1])[2:-1][0])+float(list(LateFee_Interest.iloc[1])[2:-1][1])\n",
        "        PaymentOfTax = pd.DataFrame(columns=['Description','Total Tax Payable (₹) ','Tax paid through ITC (₹) Intergrated Tax',\n",
        "           'Tax paid through ITC (₹) Central Tax','Tax paid through ITC (₹) State/UT Tax',\n",
        "           'Tax paid through ITC (₹) Cess',\n",
        "           'Tax paid in cash (₹) ','Interest paid in cash (₹)','Late fee paid in cash (₹)'])\n",
        "        for i in range(len(All_Tables1[2][2:])):\n",
        "            PaymentOfTax.loc[i] = All_Tables1[2][2:][i]\n",
        "        PaymentOfTax = PaymentOfTax.replace(replacers,regex=True)\n",
        "        POT = {}\n",
        "        POT.setdefault(\"PaymentOfTax\",{})\n",
        "        for pot in range(len(list(PaymentOfTax.iloc[1:4,0]))):\n",
        "            POT[\"PaymentOfTax\"][list(PaymentOfTax.iloc[1:4,0])[pot]] = list(PaymentOfTax.iloc[1:4,6])[pot]\n",
        "        POT\n",
        "        All_Dict = {}\n",
        "        for i in [E_ITC,OIS,LI,POT,Intr]:\n",
        "            All_Dict.update(i)\n",
        "        All_Dict\n",
        "        YearandMonths.setdefault(All_Tables[0][0][1], {})\n",
        "        YearandMonths[All_Tables[0][0][1]][All_Tables[0][1][1]] = All_Dict\n",
        "    else:\n",
        "        CL_pdf = pdfplumber.open(fils)\n",
        "        CL_first_page = CL_pdf.pages[0]\n",
        "        CreditLedger_Table = CL_first_page.extract_tables()\n",
        "        CreditLedger_df = pd.DataFrame(data=CreditLedger_Table[0][2:],columns=[i.replace(\"\\n\",\" \") for i in  CreditLedger_Table[0][0][:6] + [CreditLedger_Table[0][0][6] + ' '+ i for i in CreditLedger_Table[0][1][6:11]] + [CreditLedger_Table[0][0][11] + ' '+ i for i in CreditLedger_Table[0][1][6:11]]])\n",
        "        CreditLedger_df.replace(replacers,regex=True)\n",
        "        CL_Total = float(list(CreditLedger_df[(CreditLedger_df[CreditLedger_df.columns[3]] == (f\"Mar-{fyr[0][2:4]}\") ) & ( CreditLedger_df[CreditLedger_df.columns[5]] =='Debit' )][CreditLedger_df.columns[-1]])[0])\n",
        "shutil.move(f'{newpath}/ElectronicCreditLedger.pdf',\"{}/{}/FY_{}\".format(my_path,username,fyr[0]) )"
      ]
    },
    {
      "cell_type": "code",
      "source": [
        "# CreditLedger_df[(CreditLedger_df[CreditLedger_df.columns[3]] == (f\"Mar-{fyr[0][2:4]}\") ) & ( CreditLedger_df[CreditLedger_df.columns[5]] =='Debit' )]"
      ],
      "metadata": {
        "id": "dQftFtJTeQMv"
      },
      "id": "dQftFtJTeQMv",
      "execution_count": null,
      "outputs": []
    },
    {
      "cell_type": "code",
      "source": [
        "# shutil.move(f'{newpath}/ElectronicCreditLedger.pdf',\"{}/{}/FY_{}\".format(my_path,username,fyr[0]) )"
      ],
      "metadata": {
        "colab": {
          "base_uri": "https://localhost:8080/",
          "height": 36
        },
        "id": "sTn8FKRDRLit",
        "outputId": "597a8072-34ee-4c18-d548-d99756fe35af"
      },
      "id": "sTn8FKRDRLit",
      "execution_count": null,
      "outputs": [
        {
          "output_type": "execute_result",
          "data": {
            "text/plain": [
              "'/content/drive/My Drive/Colab Notebooks/Hexacon_68/FY_2021-22/ElectronicCreditLedger.pdf'"
            ],
            "application/vnd.google.colaboratory.intrinsic+json": {
              "type": "string"
            }
          },
          "metadata": {},
          "execution_count": 38
        }
      ]
    },
    {
      "cell_type": "code",
      "execution_count": null,
      "id": "32410e4c",
      "metadata": {
        "ExecuteTime": {
          "end_time": "2022-05-22T12:44:42.528224Z",
          "start_time": "2022-05-22T12:44:33.243615Z"
        },
        "id": "32410e4c"
      },
      "outputs": [],
      "source": [
        "shutil.copy(f'{my_path}/GST_FY_Format_copy.xlsx', f'{my_path}/{username}/FY_{fyr[0]}')\n",
        "for y in list(YearandMonths.keys()):\n",
        "  df = load_workbook(f'{my_path}/{username}/FY_{fyr[0]}/GST_FY_Format_copy.xlsx')\n",
        "  sn = df.worksheets[0]\n",
        "  sn.title = 'GST_FY_{}'.format(y)\n",
        "  sn['A1'] = \"{}\".format(username)\n",
        "  sn['A2'].value = \"GST  STATEMENT FOR THE PERIOD OF 01-04-{} TO 31-03-20{} GSTR 3B\".format(y[0:4],y[5:])\n",
        "  sn['X8'].value = 'INTEREST'\n",
        "  sn['Q10'].value = CL_Total\n",
        "  for (i,j)in zip(['D','E','F','K','L','M','U','V','W'],['IGST','CGST','SGST'] * 3):\n",
        "    sn['{}8'.format(i)] = '{}'.format(j)\n",
        "    sn[('T8')] = 'LATE_FEE'\n",
        "  for clmns in ['D','E','F','I','K','L','M','T','U','V','W','X']:\n",
        "    for numbs in range(11,23):\n",
        "      jn = ''.join([clmns,str(numbs)])\n",
        "      sn[jn] = float(0.0)      \n",
        "    for j in list(YearandMonths[y].keys()):\n",
        "        if j in [\"Apr-Jun\",\"Jul-Sep\",\"Oct-Dec\",\"Jan-Mar\"]:\n",
        "            for s in range(1,30):\n",
        "                dto = datetime.datetime.strptime(j[4:],\"%b\")\n",
        "                cmn = calendar.month_name[dto.month]\n",
        "                if cmn == (sn.cell(s,1).value):\n",
        "                    xl_values = []\n",
        "                    for ixc in list(YearandMonths[y][j].keys()):\n",
        "                        for jcd in list(YearandMonths[y][j][ixc].values()):\n",
        "                            xl_values.append(jcd)\n",
        "                    for (xuv,suv) in zip(['D','E','F','I','K','L','M','T','U','V','W','X'],xl_values):\n",
        "                        cb = ''.join([xuv,str(s)])\n",
        "                        sn[cb] = float(suv)\n",
        "        else:\n",
        "            for s in range(1,30):\n",
        "                if j == (sn.cell(s,1).value):\n",
        "                    xl_values = []\n",
        "                    for ixc in list(YearandMonths[y][j].keys()):\n",
        "                        for jcd in list(YearandMonths[y][j][ixc].values()):\n",
        "                            xl_values.append(jcd)\n",
        "                    for (xuv,suv) in zip(['D','E','F','I','K','L','M','T','U','V','W','X'],xl_values):\n",
        "                        cb = ''.join([xuv,str(s)])\n",
        "                        sn[cb] = float(suv)\n",
        "    df.save(f'{my_path}/{username}/FY_{y}/GST_FY_{y}.xlsx')\n",
        "os.remove(f'{my_path}/{username}/FY_{fyr[0]}/GST_FY_Format_copy.xlsx')"
      ]
    },
    {
      "cell_type": "code",
      "source": [
        ""
      ],
      "metadata": {
        "id": "_6IDlnibKQBP"
      },
      "id": "_6IDlnibKQBP",
      "execution_count": null,
      "outputs": []
    },
    {
      "cell_type": "code",
      "source": [
        "# df = load_workbook(f'{my_path}/{username}/FY_{fyr[0]}/GST_FY_Format_copy.xlsx')\n",
        "# sn = df.worksheets[0]\n",
        "# sn.title = 'GST_FY_{}'.format(y)\n",
        "# sn['A1'] = \"{}\".format(username)\n",
        "# sn['A2'].value = \"GST  STATEMENT FOR THE PERIOD OF 01-04-{} TO 31-03-20{} GSTR 3B\".format(y[0:4],y[5:])\n",
        "# sn['X8'].value = 'INTEREST'\n",
        "# for (i,j)in zip(['D','E','F','K','L','M','U','V','W'],['IGST','CGST','SGST'] * 3):\n",
        "#   sn['{}8'.format(i)] = '{}'.format(j)\n",
        "# sn[('T8')] = 'LATE_FEE'\n",
        "# for clmns in ['D','E','F','I','K','L','M','T','U','V','W','X']:\n",
        "#   for numbs in range(11,23):\n",
        "#     jn = ''.join([clmns,str(numbs)])\n",
        "#     sn[jn] = float(0.0) \n",
        "# for j in list(YearandMonths[y].keys()):\n",
        "#         if j in [\"Apr-Jun\",\"Jul-Sep\",\"Oct-Dec\",\"Jan-Mar\"]:\n",
        "#             for s in range(1,30):\n",
        "#                 dto = datetime.datetime.strptime(j[4:],\"%b\")\n",
        "#                 cmn = calendar.month_name[dto.month]\n",
        "#                 if cmn == (sn.cell(s,1).value):\n",
        "#                     xl_values = []\n",
        "#                     for ixc in list(YearandMonths[y][j].keys()):\n",
        "#                         for jcd in list(YearandMonths[y][j][ixc].values()):\n",
        "#                             xl_values.append(jcd)\n",
        "#                     for (xuv,suv) in zip(['D','E','F','I','K','L','M','T','U','V','W','X'],xl_values):\n",
        "#                         cb = ''.join([xuv,str(s)])\n",
        "#                         sn[cb] = suv\n",
        "#         else:\n",
        "#             for s in range(1,30):\n",
        "#                 if j == (sn.cell(s,1).value):\n",
        "#                     xl_values = []\n",
        "#                     for ixc in list(YearandMonths[y][j].keys()):\n",
        "#                         for jcd in list(YearandMonths[y][j][ixc].values()):\n",
        "#                             xl_values.append(jcd)\n",
        "#                     for (xuv,suv) in zip(['D','E','F','I','K','L','M','T','U','V','W','X'],xl_values):\n",
        "#                         cb = ''.join([xuv,str(s)])\n",
        "#                         sn[cb] = suv\n",
        "\n",
        "# df.save(f'{my_path}/{username}/FY_{y}/GST_FY_Format_copy.xlsx')\n",
        "# os.remove(f'{my_path}/{username}/FY_{fyr[0]}/GST_FY_Format_copy.xlsx')"
      ],
      "metadata": {
        "id": "HWOUe1szFNux"
      },
      "id": "HWOUe1szFNux",
      "execution_count": null,
      "outputs": []
    },
    {
      "cell_type": "code",
      "source": [
        ""
      ],
      "metadata": {
        "id": "PNH1szk4aQKO"
      },
      "id": "PNH1szk4aQKO",
      "execution_count": null,
      "outputs": []
    }
  ],
  "metadata": {
    "hide_input": false,
    "kernelspec": {
      "display_name": "Python 3 (ipykernel)",
      "language": "python",
      "name": "python3"
    },
    "language_info": {
      "codemirror_mode": {
        "name": "ipython",
        "version": 3
      },
      "file_extension": ".py",
      "mimetype": "text/x-python",
      "name": "python",
      "nbconvert_exporter": "python",
      "pygments_lexer": "ipython3",
      "version": "3.9.7"
    },
    "nbTranslate": {
      "displayLangs": [
        "*"
      ],
      "hotkey": "alt-t",
      "langInMainMenu": true,
      "sourceLang": "en",
      "targetLang": "fr",
      "useGoogleTranslate": true
    },
    "varInspector": {
      "cols": {
        "lenName": 16,
        "lenType": 16,
        "lenVar": 40
      },
      "kernels_config": {
        "python": {
          "delete_cmd_postfix": "",
          "delete_cmd_prefix": "del ",
          "library": "var_list.py",
          "varRefreshCmd": "print(var_dic_list())"
        },
        "r": {
          "delete_cmd_postfix": ") ",
          "delete_cmd_prefix": "rm(",
          "library": "var_list.r",
          "varRefreshCmd": "cat(var_dic_list()) "
        }
      },
      "types_to_exclude": [
        "module",
        "function",
        "builtin_function_or_method",
        "instance",
        "_Feature"
      ],
      "window_display": false
    },
    "colab": {
      "name": "Fully Updated GST Login and Download Pdfs and Send to Excel_Colab_New.ipynb",
      "provenance": [],
      "collapsed_sections": []
    }
  },
  "nbformat": 4,
  "nbformat_minor": 5
}