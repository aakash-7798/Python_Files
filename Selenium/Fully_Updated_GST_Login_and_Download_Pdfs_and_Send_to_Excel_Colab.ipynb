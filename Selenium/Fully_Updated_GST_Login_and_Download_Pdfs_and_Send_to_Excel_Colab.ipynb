{
  "cells": [
    {
      "cell_type": "code",
      "source": [
        "from google.colab import drive\n",
        "drive.mount('/content/drive/')"
      ],
      "metadata": {
        "id": "XNmgEldhnHgr",
        "colab": {
          "base_uri": "https://localhost:8080/"
        },
        "outputId": "09c5b113-0fc1-4a86-aa65-3a1805421caf"
      },
      "id": "XNmgEldhnHgr",
      "execution_count": 316,
      "outputs": [
        {
          "output_type": "stream",
          "name": "stdout",
          "text": [
            "Drive already mounted at /content/drive/; to attempt to forcibly remount, call drive.mount(\"/content/drive/\", force_remount=True).\n"
          ]
        }
      ]
    },
    {
      "cell_type": "code",
      "source": [
        "import os\n",
        "os.getcwd()"
      ],
      "metadata": {
        "colab": {
          "base_uri": "https://localhost:8080/",
          "height": 36
        },
        "id": "U4mws75Cnqdb",
        "outputId": "54c17c75-3832-4dff-af54-8f618439366d"
      },
      "id": "U4mws75Cnqdb",
      "execution_count": 317,
      "outputs": [
        {
          "output_type": "execute_result",
          "data": {
            "text/plain": [
              "'/content/drive/My Drive/Colab Notebooks/pagepvtltd_2017/FY_2020-21/GSTR-3B_PDFs'"
            ],
            "application/vnd.google.colaboratory.intrinsic+json": {
              "type": "string"
            }
          },
          "metadata": {},
          "execution_count": 317
        }
      ]
    },
    {
      "cell_type": "code",
      "source": [
        "os.chdir('/content/drive/My Drive/Colab Notebooks')"
      ],
      "metadata": {
        "id": "YY9o-GQsoX3D"
      },
      "id": "YY9o-GQsoX3D",
      "execution_count": 318,
      "outputs": []
    },
    {
      "cell_type": "code",
      "source": [
        "my_path = os.getcwd()\n",
        "my_path"
      ],
      "metadata": {
        "colab": {
          "base_uri": "https://localhost:8080/",
          "height": 36
        },
        "id": "mxkoyUweo1kE",
        "outputId": "865c96c7-f2d2-46bc-c815-f2b4caf06f45"
      },
      "id": "mxkoyUweo1kE",
      "execution_count": 319,
      "outputs": [
        {
          "output_type": "execute_result",
          "data": {
            "text/plain": [
              "'/content/drive/My Drive/Colab Notebooks'"
            ],
            "application/vnd.google.colaboratory.intrinsic+json": {
              "type": "string"
            }
          },
          "metadata": {},
          "execution_count": 319
        }
      ]
    },
    {
      "cell_type": "code",
      "source": [
        "!pip install pdfplumber\n",
        "!pip install xlwings\n",
        "!apt update\n",
        "!apt install chromium-chromedriver\n",
        "!pip install selenium"
      ],
      "metadata": {
        "id": "JEpYj6F_jc32"
      },
      "id": "JEpYj6F_jc32",
      "execution_count": null,
      "outputs": []
    },
    {
      "cell_type": "code",
      "source": [
        "# # !pip install Pillow==9.0.0\n",
        "# !pip install Pillow==4.0.0\n",
        "# !pip install PIL\n",
        "# !pip install image"
      ],
      "metadata": {
        "id": "e4H7ICtvwhuk"
      },
      "id": "e4H7ICtvwhuk",
      "execution_count": null,
      "outputs": []
    },
    {
      "cell_type": "code",
      "execution_count": 321,
      "id": "77ac8a23",
      "metadata": {
        "ExecuteTime": {
          "end_time": "2022-05-22T12:13:09.875394Z",
          "start_time": "2022-05-22T12:13:09.141649Z"
        },
        "id": "77ac8a23"
      },
      "outputs": [],
      "source": [
        "from selenium import webdriver\n",
        "from selenium.webdriver.common.keys import Keys\n",
        "from getpass import getpass\n",
        "from selenium.webdriver.chrome.service import Service\n",
        "from selenium.webdriver.chrome.options import Options\n",
        "import time\n",
        "import calendar\n",
        "from selenium.common.exceptions import NoSuchElementException\n",
        "import os\n",
        "from io import BytesIO,StringIO\n",
        "# import pyautogui\n",
        "from PIL import Image\n",
        "# https://stackoverflow.com/questions/69875125/find-element-by-commands-are-deprecated-in-selenium\n",
        "from selenium.webdriver.common.by import By"
      ]
    },
    {
      "cell_type": "code",
      "execution_count": 322,
      "id": "e4673f95",
      "metadata": {
        "ExecuteTime": {
          "end_time": "2022-05-22T12:13:12.487690Z",
          "start_time": "2022-05-22T12:13:12.475725Z"
        },
        "id": "e4673f95"
      },
      "outputs": [],
      "source": [
        "import pdfplumber\n",
        "import pandas as pd\n",
        "import string\n",
        "from collections import OrderedDict\n",
        "from IPython.display import display,Image\n",
        "from tabulate import tabulate\n",
        "import os\n",
        "from openpyxl import load_workbook\n",
        "from openpyxl.styles.alignment import Alignment\n",
        "from openpyxl.styles import Alignment\n",
        "import openpyxl\n",
        "import xlwings as xw\n",
        "import datetime\n",
        "import calendar\n",
        "import shutil\n",
        "# !pip3 install openpyxl==2.5.14 "
      ]
    },
    {
      "cell_type": "code",
      "source": [
        "options = webdriver.ChromeOptions()\n",
        "options.add_argument('--headless')\n",
        "options.add_argument('--no-sandbox')\n",
        "options.add_argument('--disable-dev-shm-usage')"
      ],
      "metadata": {
        "id": "uOPbtgx2vH42"
      },
      "id": "uOPbtgx2vH42",
      "execution_count": 323,
      "outputs": []
    },
    {
      "cell_type": "code",
      "execution_count": 324,
      "id": "008964a4",
      "metadata": {
        "ExecuteTime": {
          "end_time": "2022-05-22T12:13:34.774704Z",
          "start_time": "2022-05-22T12:13:19.718919Z"
        },
        "colab": {
          "base_uri": "https://localhost:8080/"
        },
        "id": "008964a4",
        "outputId": "b5a3ce4a-1a3e-413c-9150-cdf74d569ba1"
      },
      "outputs": [
        {
          "name": "stdout",
          "output_type": "stream",
          "text": [
            "Enter Username : pagepvtltd_2017\n",
            "Enter Password : ··········\n"
          ]
        }
      ],
      "source": [
        "# username = pagepvtltd_2017\n",
        "# password = 'Srinivas@369'\n",
        "username = input(\"Enter Username : \")\n",
        "password = getpass(\"Enter Password : \")"
      ]
    },
    {
      "cell_type": "code",
      "execution_count": 325,
      "id": "381de345",
      "metadata": {
        "ExecuteTime": {
          "end_time": "2022-05-22T12:13:51.848764Z",
          "start_time": "2022-05-22T12:13:48.584571Z"
        },
        "colab": {
          "base_uri": "https://localhost:8080/",
          "height": 70
        },
        "id": "381de345",
        "outputId": "a71c1b6a-3473-4b3e-db8c-4d296c1f16e2"
      },
      "outputs": [
        {
          "name": "stdout",
          "output_type": "stream",
          "text": [
            "Enter Financial Year :    (for Eg:2017-18)2020-21\n",
            "!!Folder Already Exists....   Do you want to Remove :yes\n"
          ]
        },
        {
          "output_type": "execute_result",
          "data": {
            "text/plain": [
              "'/content/drive/My Drive/Colab Notebooks/pagepvtltd_2017/FY_2020-21/GSTR-3B_PDFs'"
            ],
            "application/vnd.google.colaboratory.intrinsic+json": {
              "type": "string"
            }
          },
          "metadata": {},
          "execution_count": 325
        }
      ],
      "source": [
        "fyr=[input(\"Enter Financial Year :    (for Eg:2017-18)\")]\n",
        "newpath = r\"{}/{}/FY_{}/GSTR-3B_PDFs\".format(my_path,username,fyr[0]) \n",
        "if os.path.exists(r\"{}/{}/FY_{}\".format(my_path,username,fyr[0]) ):\n",
        "  alert = input(\"!!Folder Already Exists....   Do you want to Remove :\")\n",
        "  if alert.lower()=='yes':\n",
        "    shutil.rmtree(r\"{}/{}/FY_{}\".format(my_path,username,fyr[0]) )\n",
        "if not os.path.exists(newpath):\n",
        "    os.makedirs(newpath)\n",
        "options.add_experimental_option(\"prefs\",{\"download.default_directory\":newpath})\n",
        "newpath"
      ]
    },
    {
      "cell_type": "code",
      "source": [
        "Driver = webdriver.Chrome(options=options)"
      ],
      "metadata": {
        "id": "OUh4PN1mvY9v"
      },
      "id": "OUh4PN1mvY9v",
      "execution_count": 326,
      "outputs": []
    },
    {
      "cell_type": "code",
      "execution_count": 327,
      "id": "bb1a5fd0",
      "metadata": {
        "ExecuteTime": {
          "end_time": "2022-05-22T12:14:07.420091Z",
          "start_time": "2022-05-22T12:14:02.677056Z"
        },
        "id": "bb1a5fd0"
      },
      "outputs": [],
      "source": [
        "Driver.get('https://www.gst.gov.in/')\n",
        "Driver.find_element(By.XPATH,\"//a[contains(text(),' Login')]\").click()\n",
        "time.sleep(1.5)\n",
        "Driver.find_element(By.ID,'username').send_keys(username)\n",
        "time.sleep(1)\n",
        "Driver.find_element(By.ID,\"user_pass\").send_keys(password)\n",
        "time.sleep(1.5)"
      ]
    },
    {
      "cell_type": "code",
      "execution_count": 328,
      "id": "3341f114",
      "metadata": {
        "ExecuteTime": {
          "end_time": "2022-05-22T12:14:12.302809Z",
          "start_time": "2022-05-22T12:14:11.780687Z"
        },
        "id": "3341f114",
        "colab": {
          "base_uri": "https://localhost:8080/",
          "height": 67
        },
        "outputId": "fa17f310-b549-4642-a67a-e0d64c47eb92"
      },
      "outputs": [
        {
          "output_type": "execute_result",
          "data": {
            "text/plain": [
              "<IPython.core.display.Image object>"
            ],
            "image/png": "[encoded data removed]"
          },
          "metadata": {},
          "execution_count": 328
        }
      ],
      "source": [
        "Captcha_Image = Driver.find_element(By.ID,'imgCaptcha').screenshot_as_png\n",
        "Image(Captcha_Image)"
      ]
    },
    {
      "cell_type": "code",
      "execution_count": 329,
      "id": "846234dc",
      "metadata": {
        "ExecuteTime": {
          "end_time": "2022-05-22T12:14:20.917064Z",
          "start_time": "2022-05-22T12:14:14.618566Z"
        },
        "id": "846234dc",
        "outputId": "cc6b44b5-8228-4383-f593-dcae8b4decfd",
        "colab": {
          "base_uri": "https://localhost:8080/"
        }
      },
      "outputs": [
        {
          "name": "stdout",
          "output_type": "stream",
          "text": [
            "Enter Above Captcha : 715033\n"
          ]
        }
      ],
      "source": [
        "Driver.find_element(By.ID,'captcha').send_keys(int(input(\"Enter Above Captcha : \")))"
      ]
    },
    {
      "cell_type": "code",
      "execution_count": 330,
      "id": "c2dd4b9f",
      "metadata": {
        "ExecuteTime": {
          "end_time": "2022-05-22T12:14:44.781915Z",
          "start_time": "2022-05-22T12:14:25.069535Z"
        },
        "id": "c2dd4b9f"
      },
      "outputs": [],
      "source": [
        "try:\n",
        "  time.sleep(2)\n",
        "  Driver.find_element(By.XPATH,'//button[normalize-space()=\"Login\"]').click()\n",
        "  time.sleep(2)\n",
        "  Driver.find_element(By.XPATH,\"//div[@class='modal-footer']//a[contains(text(),'Remind me later')]\").click()\n",
        "  time.sleep(2)  \n",
        "  Driver.find_element(By.XPATH,\"//span[text()='Continue to Dashboard']\").click()\n",
        "  time.sleep(4)\n",
        "  Driver.find_element(By.XPATH,\".//div[contains(@id,'main')]//a[contains(text(),'Services ')]\").click()\n",
        "  time.sleep(3)\n",
        "  Driver.find_element(By.XPATH,\"//a[contains(text(),'Returns')]\").click()\n",
        "  time.sleep(4)\n",
        "  Driver.find_element(By.XPATH,\"//div[@class='col-xs-12']//a[contains(text(),'Returns Dashboard')]\").click()\n",
        "except NoSuchElementException:\n",
        "  print(\"Not present....continuing script\")\n"
      ]
    },
    {
      "cell_type": "code",
      "execution_count": null,
      "id": "32f869d5",
      "metadata": {
        "ExecuteTime": {
          "end_time": "2022-05-22T12:15:23.737509Z",
          "start_time": "2022-05-22T12:14:52.050871Z"
        },
        "id": "32f869d5"
      },
      "outputs": [],
      "source": [
        "for i in fyr:\n",
        "    if i in ['2017-18','2018-19','2019-20']:\n",
        "        Driver.find_element(By.XPATH,f\"//select[@name='fin']/option[text()='{i}']\").click()\n",
        "        Months = Driver.find_element(By.NAME,'mon').text.split('\\n')\n",
        "        for m in Months:\n",
        "            Driver.find_element(By.XPATH,f\"//select[@name='mon']/option[text()='{m}']\").click()\n",
        "            time.sleep(1)\n",
        "            Driver.find_element(By.XPATH,\".//div[contains(@class,'col-sm-3 col-xs-12')]//button[normalize-space()='Search']\").click()\n",
        "            try:\n",
        "                time.sleep(1)\n",
        "                Driver.find_element(By.XPATH,\".//div[contains(@class,'col-sm-6 col-xs-6')]//button[normalize-space()='Download']\").click()\n",
        "            except NoSuchElementException:\n",
        "                print(\" Not present....continuing script\")\n",
        "    else:\n",
        "        Driver.find_element(By.XPATH,f\"//select[@name='fin']/option[text()='{i}']\").click()\n",
        "        Quarters = Driver.find_element(By.NAME,'quarter').text.split('\\n')\n",
        "        for q in Quarters:\n",
        "            Driver.find_element(By.XPATH,f\"//select[@name='quarter']/option[text()='{q}']\").click()\n",
        "            Months = Driver.find_element(By.NAME,'mon').text.split('\\n')\n",
        "            for m in Months:\n",
        "                Driver.find_element(By.XPATH,f\"//select[@name='mon']/option[text()='{m}']\").click()\n",
        "                time.sleep(1)\n",
        "                Driver.find_element(By.XPATH,\".//div[contains(@class,'col-sm-3 col-xs-12')]//button[normalize-space()='Search']\").click()\n",
        "                try:\n",
        "                    time.sleep(1)\n",
        "                    Driver.find_element(By.XPATH,\".//div[contains(@class,'col-sm-6 col-xs-6')]//button[normalize-space()='Download']\").click()\n",
        "                except NoSuchElementException:\n",
        "                    print(\"Not present....continuing script\")\n",
        "time.sleep(1)\n",
        "Driver.find_element_by_class_name(\"dropdown-toggle\").click()\n",
        "time.sleep(1)\n",
        "Driver.find_element_by_xpath(\"//a[@href='//services.gst.gov.in/services/logout']\").click()\n",
        "time.sleep(2)\n",
        "Driver.close()                    "
      ]
    },
    {
      "cell_type": "code",
      "execution_count": 332,
      "id": "b5712653",
      "metadata": {
        "ExecuteTime": {
          "end_time": "2022-05-22T12:15:36.148411Z",
          "start_time": "2022-05-22T12:15:36.126470Z"
        },
        "scrolled": false,
        "id": "b5712653",
        "outputId": "deeb21e6-cc78-4dad-bb1d-2ed3760620fc",
        "colab": {
          "base_uri": "https://localhost:8080/"
        }
      },
      "outputs": [
        {
          "output_type": "execute_result",
          "data": {
            "text/plain": [
              "['GSTR3B_36AACCP0932H2ZM_042020.pdf',\n",
              " 'GSTR3B_36AACCP0932H2ZM_052020.pdf',\n",
              " 'GSTR3B_36AACCP0932H2ZM_062020.pdf',\n",
              " 'GSTR3B_36AACCP0932H2ZM_072020.pdf',\n",
              " 'GSTR3B_36AACCP0932H2ZM_082020.pdf',\n",
              " 'GSTR3B_36AACCP0932H2ZM_092020.pdf',\n",
              " 'GSTR3B_36AACCP0932H2ZM_102020.pdf',\n",
              " 'GSTR3B_36AACCP0932H2ZM_112020.pdf',\n",
              " 'GSTR3B_36AACCP0932H2ZM_122020.pdf',\n",
              " 'GSTR3B_36AACCP0932H2ZM_012021.pdf',\n",
              " 'GSTR3B_36AACCP0932H2ZM_022021.pdf',\n",
              " 'GSTR3B_36AACCP0932H2ZM_032021.pdf']"
            ]
          },
          "metadata": {},
          "execution_count": 332
        }
      ],
      "source": [
        "files_path = newpath\n",
        "os.chdir(files_path)\n",
        "All_files = sorted(filter(os.path.isfile, os.listdir('.')), key=os.path.getmtime)\n",
        "All_files"
      ]
    },
    {
      "cell_type": "code",
      "execution_count": 333,
      "id": "7a9d4189",
      "metadata": {
        "ExecuteTime": {
          "end_time": "2022-05-22T12:43:34.418741Z",
          "start_time": "2022-05-22T12:43:22.821726Z"
        },
        "id": "7a9d4189"
      },
      "outputs": [],
      "source": [
        "YearandMonths = {}\n",
        "replacers = {f'{i}\\n':'' for i in string.ascii_letters}\n",
        "replacers.update({\"\\n\":\"\",None:\" \"})\n",
        "for fils in All_files:\n",
        "    pdf = pdfplumber.open(fils)\n",
        "    first_page = pdf.pages[0]\n",
        "    second_page = pdf.pages[1]\n",
        "    All_Tables = first_page.extract_tables()\n",
        "    All_Tables1 = second_page.extract_tables()\n",
        "    Details3_1 = pd.DataFrame(columns=[i.replace(\"\\n\",\" \") for i in All_Tables[2][0]])\n",
        "    for i in range(len(All_Tables[2][1:])):\n",
        "        Details3_1.loc[i] = All_Tables[2][1:][i]\n",
        "    Details3_1 = Details3_1.replace(replacers,regex=True)\n",
        "    OIS = {}\n",
        "    OIS.setdefault('3a_Outward_Inward_Supply', {})\n",
        "    for sales in range(len(Details3_1.columns[1:-1])):\n",
        "        if sales==0:\n",
        "            ttv = list(Details3_1['Total taxable  value'])\n",
        "            OIS['3a_Outward_Inward_Supply'][Details3_1.columns[1:-1][sales]] = float(float(ttv[0])+float(ttv[2]))\n",
        "        else:\n",
        "            OIS['3a_Outward_Inward_Supply'][Details3_1.columns[1:-1][sales]] = float(Details3_1[Details3_1.columns[1:-1][sales]][0])            \n",
        "    EligibleITC = pd.DataFrame(columns=[i.replace(\"\\n\",\" \") for i in All_Tables[4][0]])\n",
        "    for i in range(len(All_Tables[4][1:])):\n",
        "        EligibleITC.loc[i] = All_Tables[4][1:][i]\n",
        "    EligibleITC = EligibleITC.replace(replacers,regex=True)\n",
        "    E_ITC = {}\n",
        "    E_ITC.setdefault('Eligible_ITC', {})\n",
        "    for purch in range(len(EligibleITC.columns[1:4])):\n",
        "        E_ITC['Eligible_ITC'][EligibleITC.columns[1:4][purch]] = list(EligibleITC.iloc[[9]].transpose()[9])[1:-1][purch]\n",
        "    LateFee_Interest = pd.DataFrame(columns=[i.replace(\"\\n\",\" \") for i in All_Tables1[1][0]])\n",
        "    for i in range(len(All_Tables1[1][1:])):\n",
        "        LateFee_Interest.loc[i] = All_Tables1[1][1:][i]\n",
        "    LateFee_Interest = LateFee_Interest.replace(replacers,regex=True)\n",
        "    LI = {}\n",
        "    LI.setdefault('Late_Fee', {})\n",
        "    for li in ['Late_Fee']:\n",
        "        LI['Late_Fee'][li] = float(list(LateFee_Interest.iloc[2])[2:-1][0])+float(list(LateFee_Interest.iloc[2])[2:-1][1])\n",
        "    Intr = {}\n",
        "    Intr.setdefault('Interest', {})\n",
        "    for li in ['Interest']:\n",
        "        Intr['Interest'][li] = float(list(LateFee_Interest.iloc[1])[2:-1][0])+float(list(LateFee_Interest.iloc[1])[2:-1][1])\n",
        "    PaymentOfTax = pd.DataFrame(columns=['Description','Total Tax Payable (₹) ','Tax paid through ITC (₹) Intergrated Tax',\n",
        "       'Tax paid through ITC (₹) Central Tax','Tax paid through ITC (₹) State/UT Tax',\n",
        "       'Tax paid through ITC (₹) Cess',\n",
        "       'Tax paid in cash (₹) ','Interest paid in cash (₹)','Late fee paid in cash (₹)'])\n",
        "    for i in range(len(All_Tables1[2][2:])):\n",
        "        PaymentOfTax.loc[i] = All_Tables1[2][2:][i]\n",
        "    PaymentOfTax = PaymentOfTax.replace(replacers,regex=True)\n",
        "    POT = {}\n",
        "    POT.setdefault(\"PaymentOfTax\",{})\n",
        "    for pot in range(len(list(PaymentOfTax.iloc[1:4,0]))):\n",
        "        POT[\"PaymentOfTax\"][list(PaymentOfTax.iloc[1:4,0])[pot]] = list(PaymentOfTax.iloc[1:4,6])[pot]\n",
        "    POT\n",
        "    All_Dict = {}\n",
        "    for i in [E_ITC,OIS,LI,POT,Intr]:\n",
        "        All_Dict.update(i)\n",
        "    All_Dict\n",
        "    YearandMonths.setdefault(All_Tables[0][0][1], {})\n",
        "    YearandMonths[All_Tables[0][0][1]][All_Tables[0][1][1]] = All_Dict\n",
        "# YearandMonths"
      ]
    },
    {
      "cell_type": "code",
      "execution_count": 335,
      "id": "32410e4c",
      "metadata": {
        "ExecuteTime": {
          "end_time": "2022-05-22T12:44:42.528224Z",
          "start_time": "2022-05-22T12:44:33.243615Z"
        },
        "id": "32410e4c"
      },
      "outputs": [],
      "source": [
        "shutil.copy(f'{my_path}/GST_FY_Format_copy.xlsx', f'{my_path}/{username}/FY_{fyr[0]}')\n",
        "for y in list(YearandMonths.keys()):\n",
        "  df = load_workbook(f'{my_path}/{username}/FY_{fyr[0]}/GST_FY_Format_copy.xlsx')\n",
        "  sn = df.worksheets[0]\n",
        "  sn.title = 'GST_FY_{}'.format(y)\n",
        "  sn['A1'] = \"{}\".format(username)\n",
        "  sn['A2'].value = \"GST  STATEMENT FOR THE PERIOD OF 01-04-{} TO 31-03-20{} GSTR 3B\".format(y[0:4],y[5:])\n",
        "  sn['X8'].value = 'INTEREST'\n",
        "  for (i,j)in zip(['D','E','F','K','L','M','U','V','W'],['IGST','CGST','SGST'] * 3):\n",
        "    sn['{}8'.format(i)] = '{}'.format(j)\n",
        "    sn[('T8')] = 'LATE_FEE'\n",
        "  for clmns in ['D','E','F','I','K','L','M','T','U','V','W','X']:\n",
        "    for numbs in range(11,23):\n",
        "      jn = ''.join([clmns,str(numbs)])\n",
        "      sn[jn] = float(0.0)      \n",
        "    for j in list(YearandMonths[y].keys()):\n",
        "        if j in [\"Apr-Jun\",\"Jul-Sep\",\"Oct-Dec\",\"Jan-Mar\"]:\n",
        "            for s in range(1,30):\n",
        "                dto = datetime.datetime.strptime(j[4:],\"%b\")\n",
        "                cmn = calendar.month_name[dto.month]\n",
        "                if cmn == (sn.cell(s,1).value):\n",
        "                    xl_values = []\n",
        "                    for ixc in list(YearandMonths[y][j].keys()):\n",
        "                        for jcd in list(YearandMonths[y][j][ixc].values()):\n",
        "                            xl_values.append(jcd)\n",
        "                    for (xuv,suv) in zip(['D','E','F','I','K','L','M','T','U','V','W','X'],xl_values):\n",
        "                        cb = ''.join([xuv,str(s)])\n",
        "                        sn[cb] = float(suv)\n",
        "        else:\n",
        "            for s in range(1,30):\n",
        "                if j == (sn.cell(s,1).value):\n",
        "                    xl_values = []\n",
        "                    for ixc in list(YearandMonths[y][j].keys()):\n",
        "                        for jcd in list(YearandMonths[y][j][ixc].values()):\n",
        "                            xl_values.append(jcd)\n",
        "                    for (xuv,suv) in zip(['D','E','F','I','K','L','M','T','U','V','W','X'],xl_values):\n",
        "                        cb = ''.join([xuv,str(s)])\n",
        "                        sn[cb] = float(suv)\n",
        "    df.save(f'{my_path}/{username}/FY_{y}/GST_FY_{y}.xlsx')\n",
        "os.remove(f'{my_path}/{username}/FY_{fyr[0]}/GST_FY_Format_copy.xlsx')"
      ]
    },
    {
      "cell_type": "code",
      "source": [
        ""
      ],
      "metadata": {
        "id": "_6IDlnibKQBP"
      },
      "id": "_6IDlnibKQBP",
      "execution_count": null,
      "outputs": []
    },
    {
      "cell_type": "code",
      "source": [
        "# df = load_workbook(f'{my_path}/{username}/FY_{fyr[0]}/GST_FY_Format_copy.xlsx')\n",
        "# sn = df.worksheets[0]\n",
        "# sn.title = 'GST_FY_{}'.format(y)\n",
        "# sn['A1'] = \"{}\".format(username)\n",
        "# sn['A2'].value = \"GST  STATEMENT FOR THE PERIOD OF 01-04-{} TO 31-03-20{} GSTR 3B\".format(y[0:4],y[5:])\n",
        "# sn['X8'].value = 'INTEREST'\n",
        "# for (i,j)in zip(['D','E','F','K','L','M','U','V','W'],['IGST','CGST','SGST'] * 3):\n",
        "#   sn['{}8'.format(i)] = '{}'.format(j)\n",
        "# sn[('T8')] = 'LATE_FEE'\n",
        "# for clmns in ['D','E','F','I','K','L','M','T','U','V','W','X']:\n",
        "#   for numbs in range(11,23):\n",
        "#     jn = ''.join([clmns,str(numbs)])\n",
        "#     sn[jn] = float(0.0) \n",
        "# for j in list(YearandMonths[y].keys()):\n",
        "#         if j in [\"Apr-Jun\",\"Jul-Sep\",\"Oct-Dec\",\"Jan-Mar\"]:\n",
        "#             for s in range(1,30):\n",
        "#                 dto = datetime.datetime.strptime(j[4:],\"%b\")\n",
        "#                 cmn = calendar.month_name[dto.month]\n",
        "#                 if cmn == (sn.cell(s,1).value):\n",
        "#                     xl_values = []\n",
        "#                     for ixc in list(YearandMonths[y][j].keys()):\n",
        "#                         for jcd in list(YearandMonths[y][j][ixc].values()):\n",
        "#                             xl_values.append(jcd)\n",
        "#                     for (xuv,suv) in zip(['D','E','F','I','K','L','M','T','U','V','W','X'],xl_values):\n",
        "#                         cb = ''.join([xuv,str(s)])\n",
        "#                         sn[cb] = suv\n",
        "#         else:\n",
        "#             for s in range(1,30):\n",
        "#                 if j == (sn.cell(s,1).value):\n",
        "#                     xl_values = []\n",
        "#                     for ixc in list(YearandMonths[y][j].keys()):\n",
        "#                         for jcd in list(YearandMonths[y][j][ixc].values()):\n",
        "#                             xl_values.append(jcd)\n",
        "#                     for (xuv,suv) in zip(['D','E','F','I','K','L','M','T','U','V','W','X'],xl_values):\n",
        "#                         cb = ''.join([xuv,str(s)])\n",
        "#                         sn[cb] = suv\n",
        "\n",
        "# df.save(f'{my_path}/{username}/FY_{y}/GST_FY_Format_copy.xlsx')\n",
        "# os.remove(f'{my_path}/{username}/FY_{fyr[0]}/GST_FY_Format_copy.xlsx')"
      ],
      "metadata": {
        "id": "HWOUe1szFNux"
      },
      "id": "HWOUe1szFNux",
      "execution_count": null,
      "outputs": []
    },
    {
      "cell_type": "code",
      "source": [
        ""
      ],
      "metadata": {
        "id": "PNH1szk4aQKO"
      },
      "id": "PNH1szk4aQKO",
      "execution_count": null,
      "outputs": []
    }
  ],
  "metadata": {
    "hide_input": false,
    "kernelspec": {
      "display_name": "Python 3 (ipykernel)",
      "language": "python",
      "name": "python3"
    },
    "language_info": {
      "codemirror_mode": {
        "name": "ipython",
        "version": 3
      },
      "file_extension": ".py",
      "mimetype": "text/x-python",
      "name": "python",
      "nbconvert_exporter": "python",
      "pygments_lexer": "ipython3",
      "version": "3.9.7"
    },
    "nbTranslate": {
      "displayLangs": [
        "*"
      ],
      "hotkey": "alt-t",
      "langInMainMenu": true,
      "sourceLang": "en",
      "targetLang": "fr",
      "useGoogleTranslate": true
    },
    "varInspector": {
      "cols": {
        "lenName": 16,
        "lenType": 16,
        "lenVar": 40
      },
      "kernels_config": {
        "python": {
          "delete_cmd_postfix": "",
          "delete_cmd_prefix": "del ",
          "library": "var_list.py",
          "varRefreshCmd": "print(var_dic_list())"
        },
        "r": {
          "delete_cmd_postfix": ") ",
          "delete_cmd_prefix": "rm(",
          "library": "var_list.r",
          "varRefreshCmd": "cat(var_dic_list()) "
        }
      },
      "types_to_exclude": [
        "module",
        "function",
        "builtin_function_or_method",
        "instance",
        "_Feature"
      ],
      "window_display": false
    },
    "colab": {
      "name": "Fully Updated GST Login and Download Pdfs and Send to Excel_Colab.ipynb",
      "provenance": [],
      "collapsed_sections": []
    }
  },
  "nbformat": 4,
  "nbformat_minor": 5
}