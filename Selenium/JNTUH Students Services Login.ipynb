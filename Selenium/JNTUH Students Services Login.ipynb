{
 "cells": [
  {
   "cell_type": "code",
   "execution_count": 8,
   "id": "8c99ef6a",
   "metadata": {
    "ExecuteTime": {
     "end_time": "2022-05-23T14:34:30.733691Z",
     "start_time": "2022-05-23T14:34:30.709756Z"
    }
   },
   "outputs": [],
   "source": [
    "from selenium import webdriver\n",
    "from selenium.webdriver.common.keys import Keys\n",
    "from selenium.webdriver.chrome.options import Options\n",
    "from getpass import getpass\n",
    "import time\n",
    "from webdriver_manager.chrome import ChromeDriverManager\n",
    "import chromedriver_autoinstaller as chromedriver"
   ]
  },
  {
   "cell_type": "code",
   "execution_count": 9,
   "id": "1abe58d5",
   "metadata": {
    "ExecuteTime": {
     "end_time": "2022-05-23T14:34:31.690485Z",
     "start_time": "2022-05-23T14:34:31.685499Z"
    }
   },
   "outputs": [],
   "source": [
    "options = Options()\n",
    "options.add_argument(\"start-maximized\")"
   ]
  },
  {
   "cell_type": "code",
   "execution_count": 10,
   "id": "5835b25d",
   "metadata": {
    "ExecuteTime": {
     "end_time": "2022-05-23T14:34:54.180053Z",
     "start_time": "2022-05-23T14:34:32.340746Z"
    }
   },
   "outputs": [
    {
     "name": "stdout",
     "output_type": "stream",
     "text": [
      "Enter Username : 21031F0005\n",
      "Enter Password : ········\n"
     ]
    },
    {
     "name": "stderr",
     "output_type": "stream",
     "text": [
      "C:\\Users\\aakas\\AppData\\Local\\Temp/ipykernel_7220/4081383530.py:4: DeprecationWarning: executable_path has been deprecated, please pass in a Service object\n",
      "  driver = webdriver.Chrome(options=options,executable_path = chromedriver.install())\n",
      "C:\\Users\\aakas\\AppData\\Local\\Temp/ipykernel_7220/4081383530.py:6: DeprecationWarning: find_element_by_xpath is deprecated. Please use find_element(by=By.XPATH, value=xpath) instead\n",
      "  driver.find_element_by_xpath(\"//a[@href='http://14.139.82.140']\").click()\n"
     ]
    }
   ],
   "source": [
    "username = input(\"Enter Username : \")\n",
    "password = getpass(\"Enter Password : \")\n",
    "url = \"http://jntuhsit.org/\"\n",
    "driver = webdriver.Chrome(options=options,executable_path = chromedriver.install())\n",
    "driver.get(url)\n",
    "driver.find_element_by_xpath(\"//a[@href='http://14.139.82.140']\").click()\n",
    "driver.switch_to.window(driver.window_handles[1])\n",
    "time.sleep(2)"
   ]
  },
  {
   "cell_type": "code",
   "execution_count": 11,
   "id": "80b1d932",
   "metadata": {
    "ExecuteTime": {
     "end_time": "2022-05-23T14:35:27.498465Z",
     "start_time": "2022-05-23T14:35:20.034754Z"
    }
   },
   "outputs": [
    {
     "name": "stderr",
     "output_type": "stream",
     "text": [
      "C:\\Users\\aakas\\AppData\\Local\\Temp/ipykernel_7220/3330656759.py:1: DeprecationWarning: find_element_by_* commands are deprecated. Please use find_element() instead\n",
      "  driver.find_element_by_id('uid').send_keys(username)\n",
      "C:\\Users\\aakas\\AppData\\Local\\Temp/ipykernel_7220/3330656759.py:2: DeprecationWarning: find_element_by_* commands are deprecated. Please use find_element() instead\n",
      "  driver.find_element_by_id('pwd').send_keys(password)\n",
      "C:\\Users\\aakas\\AppData\\Local\\Temp/ipykernel_7220/3330656759.py:3: DeprecationWarning: find_element_by_css_selector is deprecated. Please use find_element(by=By.CSS_SELECTOR, value=css_selector) instead\n",
      "  driver.find_element_by_css_selector(\"input[type='submit']\").click()\n"
     ]
    }
   ],
   "source": [
    "driver.find_element_by_id('uid').send_keys(username)\n",
    "driver.find_element_by_id('pwd').send_keys(password)\n",
    "driver.find_element_by_css_selector(\"input[type='submit']\").click()\n",
    "time.sleep(5)"
   ]
  },
  {
   "cell_type": "code",
   "execution_count": 12,
   "id": "fdd27dc5",
   "metadata": {
    "ExecuteTime": {
     "end_time": "2022-05-23T14:38:20.197826Z",
     "start_time": "2022-05-23T14:38:20.139822Z"
    }
   },
   "outputs": [
    {
     "name": "stderr",
     "output_type": "stream",
     "text": [
      "C:\\Users\\aakas\\AppData\\Local\\Temp/ipykernel_7220/610384066.py:1: DeprecationWarning: find_element_by_xpath is deprecated. Please use find_element(by=By.XPATH, value=xpath) instead\n",
      "  driver.find_element_by_xpath('//div[contains(@class,\"col-md-5\")]//input[contains(@input,\"submit\")]').text\n"
     ]
    },
    {
     "ename": "NoSuchElementException",
     "evalue": "Message: no such element: Unable to locate element: {\"method\":\"xpath\",\"selector\":\"//div[contains(@class,\"col-md-5\")]//input[contains(@input,\"submit\")]\"}\n  (Session info: chrome=101.0.4951.67)\nStacktrace:\nBacktrace:\n\tOrdinal0 [0x00AAA8E3+2402531]\n\tOrdinal0 [0x00A3B011+1945617]\n\tOrdinal0 [0x0092C748+837448]\n\tOrdinal0 [0x00959330+1020720]\n\tOrdinal0 [0x009595CB+1021387]\n\tOrdinal0 [0x009863B2+1205170]\n\tOrdinal0 [0x009742F4+1131252]\n\tOrdinal0 [0x009846C2+1197762]\n\tOrdinal0 [0x009740C6+1130694]\n\tOrdinal0 [0x0094E676+976502]\n\tOrdinal0 [0x0094F586+980358]\n\tGetHandleVerifier [0x00D1BC42+2511938]\n\tGetHandleVerifier [0x00D0ED6F+2458991]\n\tGetHandleVerifier [0x00B431AA+575914]\n\tGetHandleVerifier [0x00B41FA6+571302]\n\tOrdinal0 [0x00A41DEB+1973739]\n\tOrdinal0 [0x00A46778+1992568]\n\tOrdinal0 [0x00A46865+1992805]\n\tOrdinal0 [0x00A4FA41+2030145]\n\tBaseThreadInitThunk [0x7630FA29+25]\n\tRtlGetAppContainerNamedObjectPath [0x77717A7E+286]\n\tRtlGetAppContainerNamedObjectPath [0x77717A4E+238]\n",
     "output_type": "error",
     "traceback": [
      "\u001b[1;31m---------------------------------------------------------------------------\u001b[0m",
      "\u001b[1;31mNoSuchElementException\u001b[0m                    Traceback (most recent call last)",
      "\u001b[1;32m~\\AppData\\Local\\Temp/ipykernel_7220/610384066.py\u001b[0m in \u001b[0;36m<module>\u001b[1;34m\u001b[0m\n\u001b[1;32m----> 1\u001b[1;33m \u001b[0mdriver\u001b[0m\u001b[1;33m.\u001b[0m\u001b[0mfind_element_by_xpath\u001b[0m\u001b[1;33m(\u001b[0m\u001b[1;34m'//div[contains(@class,\"col-md-5\")]//input[contains(@input,\"submit\")]'\u001b[0m\u001b[1;33m)\u001b[0m\u001b[1;33m.\u001b[0m\u001b[0mtext\u001b[0m\u001b[1;33m\u001b[0m\u001b[1;33m\u001b[0m\u001b[0m\n\u001b[0m",
      "\u001b[1;32m~\\anaconda3\\lib\\site-packages\\selenium\\webdriver\\remote\\webdriver.py\u001b[0m in \u001b[0;36mfind_element_by_xpath\u001b[1;34m(self, xpath)\u001b[0m\n\u001b[0;32m    524\u001b[0m             \u001b[0mstacklevel\u001b[0m\u001b[1;33m=\u001b[0m\u001b[1;36m2\u001b[0m\u001b[1;33m,\u001b[0m\u001b[1;33m\u001b[0m\u001b[1;33m\u001b[0m\u001b[0m\n\u001b[0;32m    525\u001b[0m         )\n\u001b[1;32m--> 526\u001b[1;33m         \u001b[1;32mreturn\u001b[0m \u001b[0mself\u001b[0m\u001b[1;33m.\u001b[0m\u001b[0mfind_element\u001b[0m\u001b[1;33m(\u001b[0m\u001b[0mby\u001b[0m\u001b[1;33m=\u001b[0m\u001b[0mBy\u001b[0m\u001b[1;33m.\u001b[0m\u001b[0mXPATH\u001b[0m\u001b[1;33m,\u001b[0m \u001b[0mvalue\u001b[0m\u001b[1;33m=\u001b[0m\u001b[0mxpath\u001b[0m\u001b[1;33m)\u001b[0m\u001b[1;33m\u001b[0m\u001b[1;33m\u001b[0m\u001b[0m\n\u001b[0m\u001b[0;32m    527\u001b[0m \u001b[1;33m\u001b[0m\u001b[0m\n\u001b[0;32m    528\u001b[0m     \u001b[1;32mdef\u001b[0m \u001b[0mfind_elements_by_xpath\u001b[0m\u001b[1;33m(\u001b[0m\u001b[0mself\u001b[0m\u001b[1;33m,\u001b[0m \u001b[0mxpath\u001b[0m\u001b[1;33m)\u001b[0m \u001b[1;33m->\u001b[0m \u001b[0mList\u001b[0m\u001b[1;33m[\u001b[0m\u001b[0mWebElement\u001b[0m\u001b[1;33m]\u001b[0m\u001b[1;33m:\u001b[0m\u001b[1;33m\u001b[0m\u001b[1;33m\u001b[0m\u001b[0m\n",
      "\u001b[1;32m~\\anaconda3\\lib\\site-packages\\selenium\\webdriver\\remote\\webdriver.py\u001b[0m in \u001b[0;36mfind_element\u001b[1;34m(self, by, value)\u001b[0m\n\u001b[0;32m   1249\u001b[0m             \u001b[0mvalue\u001b[0m \u001b[1;33m=\u001b[0m \u001b[1;34m'[name=\"%s\"]'\u001b[0m \u001b[1;33m%\u001b[0m \u001b[0mvalue\u001b[0m\u001b[1;33m\u001b[0m\u001b[1;33m\u001b[0m\u001b[0m\n\u001b[0;32m   1250\u001b[0m \u001b[1;33m\u001b[0m\u001b[0m\n\u001b[1;32m-> 1251\u001b[1;33m         return self.execute(Command.FIND_ELEMENT, {\n\u001b[0m\u001b[0;32m   1252\u001b[0m             \u001b[1;34m'using'\u001b[0m\u001b[1;33m:\u001b[0m \u001b[0mby\u001b[0m\u001b[1;33m,\u001b[0m\u001b[1;33m\u001b[0m\u001b[1;33m\u001b[0m\u001b[0m\n\u001b[0;32m   1253\u001b[0m             'value': value})['value']\n",
      "\u001b[1;32m~\\anaconda3\\lib\\site-packages\\selenium\\webdriver\\remote\\webdriver.py\u001b[0m in \u001b[0;36mexecute\u001b[1;34m(self, driver_command, params)\u001b[0m\n\u001b[0;32m    428\u001b[0m         \u001b[0mresponse\u001b[0m \u001b[1;33m=\u001b[0m \u001b[0mself\u001b[0m\u001b[1;33m.\u001b[0m\u001b[0mcommand_executor\u001b[0m\u001b[1;33m.\u001b[0m\u001b[0mexecute\u001b[0m\u001b[1;33m(\u001b[0m\u001b[0mdriver_command\u001b[0m\u001b[1;33m,\u001b[0m \u001b[0mparams\u001b[0m\u001b[1;33m)\u001b[0m\u001b[1;33m\u001b[0m\u001b[1;33m\u001b[0m\u001b[0m\n\u001b[0;32m    429\u001b[0m         \u001b[1;32mif\u001b[0m \u001b[0mresponse\u001b[0m\u001b[1;33m:\u001b[0m\u001b[1;33m\u001b[0m\u001b[1;33m\u001b[0m\u001b[0m\n\u001b[1;32m--> 430\u001b[1;33m             \u001b[0mself\u001b[0m\u001b[1;33m.\u001b[0m\u001b[0merror_handler\u001b[0m\u001b[1;33m.\u001b[0m\u001b[0mcheck_response\u001b[0m\u001b[1;33m(\u001b[0m\u001b[0mresponse\u001b[0m\u001b[1;33m)\u001b[0m\u001b[1;33m\u001b[0m\u001b[1;33m\u001b[0m\u001b[0m\n\u001b[0m\u001b[0;32m    431\u001b[0m             response['value'] = self._unwrap_value(\n\u001b[0;32m    432\u001b[0m                 response.get('value', None))\n",
      "\u001b[1;32m~\\anaconda3\\lib\\site-packages\\selenium\\webdriver\\remote\\errorhandler.py\u001b[0m in \u001b[0;36mcheck_response\u001b[1;34m(self, response)\u001b[0m\n\u001b[0;32m    245\u001b[0m                 \u001b[0malert_text\u001b[0m \u001b[1;33m=\u001b[0m \u001b[0mvalue\u001b[0m\u001b[1;33m[\u001b[0m\u001b[1;34m'alert'\u001b[0m\u001b[1;33m]\u001b[0m\u001b[1;33m.\u001b[0m\u001b[0mget\u001b[0m\u001b[1;33m(\u001b[0m\u001b[1;34m'text'\u001b[0m\u001b[1;33m)\u001b[0m\u001b[1;33m\u001b[0m\u001b[1;33m\u001b[0m\u001b[0m\n\u001b[0;32m    246\u001b[0m             \u001b[1;32mraise\u001b[0m \u001b[0mexception_class\u001b[0m\u001b[1;33m(\u001b[0m\u001b[0mmessage\u001b[0m\u001b[1;33m,\u001b[0m \u001b[0mscreen\u001b[0m\u001b[1;33m,\u001b[0m \u001b[0mstacktrace\u001b[0m\u001b[1;33m,\u001b[0m \u001b[0malert_text\u001b[0m\u001b[1;33m)\u001b[0m  \u001b[1;31m# type: ignore[call-arg]  # mypy is not smart enough here\u001b[0m\u001b[1;33m\u001b[0m\u001b[1;33m\u001b[0m\u001b[0m\n\u001b[1;32m--> 247\u001b[1;33m         \u001b[1;32mraise\u001b[0m \u001b[0mexception_class\u001b[0m\u001b[1;33m(\u001b[0m\u001b[0mmessage\u001b[0m\u001b[1;33m,\u001b[0m \u001b[0mscreen\u001b[0m\u001b[1;33m,\u001b[0m \u001b[0mstacktrace\u001b[0m\u001b[1;33m)\u001b[0m\u001b[1;33m\u001b[0m\u001b[1;33m\u001b[0m\u001b[0m\n\u001b[0m\u001b[0;32m    248\u001b[0m \u001b[1;33m\u001b[0m\u001b[0m\n\u001b[0;32m    249\u001b[0m     \u001b[1;32mdef\u001b[0m \u001b[0m_value_or_default\u001b[0m\u001b[1;33m(\u001b[0m\u001b[0mself\u001b[0m\u001b[1;33m,\u001b[0m \u001b[0mobj\u001b[0m\u001b[1;33m:\u001b[0m \u001b[0mMapping\u001b[0m\u001b[1;33m[\u001b[0m\u001b[0m_KT\u001b[0m\u001b[1;33m,\u001b[0m \u001b[0m_VT\u001b[0m\u001b[1;33m]\u001b[0m\u001b[1;33m,\u001b[0m \u001b[0mkey\u001b[0m\u001b[1;33m:\u001b[0m \u001b[0m_KT\u001b[0m\u001b[1;33m,\u001b[0m \u001b[0mdefault\u001b[0m\u001b[1;33m:\u001b[0m \u001b[0m_VT\u001b[0m\u001b[1;33m)\u001b[0m \u001b[1;33m->\u001b[0m \u001b[0m_VT\u001b[0m\u001b[1;33m:\u001b[0m\u001b[1;33m\u001b[0m\u001b[1;33m\u001b[0m\u001b[0m\n",
      "\u001b[1;31mNoSuchElementException\u001b[0m: Message: no such element: Unable to locate element: {\"method\":\"xpath\",\"selector\":\"//div[contains(@class,\"col-md-5\")]//input[contains(@input,\"submit\")]\"}\n  (Session info: chrome=101.0.4951.67)\nStacktrace:\nBacktrace:\n\tOrdinal0 [0x00AAA8E3+2402531]\n\tOrdinal0 [0x00A3B011+1945617]\n\tOrdinal0 [0x0092C748+837448]\n\tOrdinal0 [0x00959330+1020720]\n\tOrdinal0 [0x009595CB+1021387]\n\tOrdinal0 [0x009863B2+1205170]\n\tOrdinal0 [0x009742F4+1131252]\n\tOrdinal0 [0x009846C2+1197762]\n\tOrdinal0 [0x009740C6+1130694]\n\tOrdinal0 [0x0094E676+976502]\n\tOrdinal0 [0x0094F586+980358]\n\tGetHandleVerifier [0x00D1BC42+2511938]\n\tGetHandleVerifier [0x00D0ED6F+2458991]\n\tGetHandleVerifier [0x00B431AA+575914]\n\tGetHandleVerifier [0x00B41FA6+571302]\n\tOrdinal0 [0x00A41DEB+1973739]\n\tOrdinal0 [0x00A46778+1992568]\n\tOrdinal0 [0x00A46865+1992805]\n\tOrdinal0 [0x00A4FA41+2030145]\n\tBaseThreadInitThunk [0x7630FA29+25]\n\tRtlGetAppContainerNamedObjectPath [0x77717A7E+286]\n\tRtlGetAppContainerNamedObjectPath [0x77717A4E+238]\n"
     ]
    }
   ],
   "source": [
    "driver.find_element_by_xpath('//div[contains(@class,\"col-md-5\")]//input[contains(@input,\"submit\")]').text"
   ]
  },
  {
   "cell_type": "code",
   "execution_count": null,
   "id": "7d2a8ffc",
   "metadata": {},
   "outputs": [],
   "source": []
  },
  {
   "cell_type": "code",
   "execution_count": 138,
   "id": "7738cb95",
   "metadata": {},
   "outputs": [
    {
     "name": "stderr",
     "output_type": "stream",
     "text": [
      "C:\\Users\\aakas\\AppData\\Local\\Temp/ipykernel_5752/1260895577.py:4: DeprecationWarning: executable_path has been deprecated, please pass in a Service object\n",
      "  driver = webdriver.Chrome(options=options,executable_path = \"C:\\\\WebDriver\\\\chromedriver.exe\")\n",
      "C:\\Users\\aakas\\AppData\\Local\\Temp/ipykernel_5752/1260895577.py:6: DeprecationWarning: find_element_by_* commands are deprecated. Please use find_element() instead\n",
      "  driver.find_element_by_xpath(\"//a[@href='http://14.139.82.140']\").click()\n",
      "C:\\Users\\aakas\\AppData\\Local\\Temp/ipykernel_5752/1260895577.py:9: DeprecationWarning: find_element_by_* commands are deprecated. Please use find_element() instead\n",
      "  driver.find_element_by_id('uid').send_keys(\"21031F0002\")\n",
      "C:\\Users\\aakas\\AppData\\Local\\Temp/ipykernel_5752/1260895577.py:10: DeprecationWarning: find_element_by_* commands are deprecated. Please use find_element() instead\n",
      "  driver.find_element_by_id('pwd').send_keys(\"sit123\")\n",
      "C:\\Users\\aakas\\AppData\\Local\\Temp/ipykernel_5752/1260895577.py:11: DeprecationWarning: find_element_by_* commands are deprecated. Please use find_element() instead\n",
      "  driver.find_element_by_css_selector(\"input[type='submit']\").click()\n",
      "C:\\Users\\aakas\\AppData\\Local\\Temp/ipykernel_5752/1260895577.py:13: DeprecationWarning: find_element_by_* commands are deprecated. Please use find_element() instead\n",
      "  driver.find_element_by_xpath(\"//a[@href='logout']\").click()\n",
      "C:\\Users\\aakas\\AppData\\Local\\Temp/ipykernel_5752/1260895577.py:14: DeprecationWarning: find_element_by_* commands are deprecated. Please use find_element() instead\n",
      "  print(driver.find_element_by_class_name('alert-success').text.strip(\".\")[2:40])\n"
     ]
    },
    {
     "name": "stdout",
     "output_type": "stream",
     "text": [
      "  Success !  Successfully Logged out\n"
     ]
    }
   ],
   "source": [
    "username = input(\"Enter Username : \")\n",
    "password = getpass(\"Enter Password : \")\n",
    "url = \"http://jntuhsit.org/\"\n",
    "driver = webdriver.Chrome(options=options,executable_path = \"C:\\\\WebDriver\\\\chromedriver.exe\")\n",
    "driver.get(url)\n",
    "driver.find_element_by_xpath(\"//a[@href='http://14.139.82.140']\").click()\n",
    "driver.switch_to.window(driver.window_handles[1])\n",
    "time.sleep(2)\n",
    "driver.find_element_by_id('uid').send_keys(username)\n",
    "driver.find_element_by_id('pwd').send_keys(password)\n",
    "driver.find_element_by_css_selector(\"input[type='submit']\").click()\n",
    "time.sleep(5)\n",
    "driver.find_element_by_xpath(\"//a[@href='logout']\").click()\n",
    "print(driver.find_element_by_class_name('alert-success').text.strip(\".\")[2:40])\n",
    "driver.close()\n",
    "driver.switch_to.window(driver.window_handles[0])\n",
    "driver.close()"
   ]
  },
  {
   "cell_type": "code",
   "execution_count": 87,
   "id": "c0f5b1d5",
   "metadata": {},
   "outputs": [
    {
     "name": "stderr",
     "output_type": "stream",
     "text": [
      "C:\\Users\\aakas\\AppData\\Local\\Temp/ipykernel_5752/753625229.py:1: DeprecationWarning: find_element_by_* commands are deprecated. Please use find_element() instead\n",
      "  driver.find_element_by_xpath(\"//a[@href='logout']\").click()\n"
     ]
    }
   ],
   "source": [
    "driver.find_element_by_xpath(\"//a[@href='logout']\").click()"
   ]
  },
  {
   "cell_type": "code",
   "execution_count": 95,
   "id": "86897a54",
   "metadata": {},
   "outputs": [],
   "source": [
    "driver.switch_to.window(driver.window_handles[1])"
   ]
  },
  {
   "cell_type": "code",
   "execution_count": 130,
   "id": "06a620bc",
   "metadata": {},
   "outputs": [
    {
     "name": "stdout",
     "output_type": "stream",
     "text": [
      "  Success !  Successfully Logged out\n"
     ]
    },
    {
     "name": "stderr",
     "output_type": "stream",
     "text": [
      "C:\\Users\\aakas\\AppData\\Local\\Temp/ipykernel_5752/2461333128.py:1: DeprecationWarning: find_element_by_* commands are deprecated. Please use find_element() instead\n",
      "  print(driver.find_element_by_class_name('alert-success').text.strip(\".\")[2:40])\n"
     ]
    }
   ],
   "source": [
    "print(driver.find_element_by_class_name('alert-success').text.strip(\".\")[2:40])"
   ]
  },
  {
   "cell_type": "code",
   "execution_count": 60,
   "id": "a807c4f2",
   "metadata": {},
   "outputs": [],
   "source": [
    "url = \"http://jntuhsit.org/\""
   ]
  },
  {
   "cell_type": "code",
   "execution_count": 61,
   "id": "35279508",
   "metadata": {},
   "outputs": [
    {
     "name": "stderr",
     "output_type": "stream",
     "text": [
      "C:\\Users\\aakas\\AppData\\Local\\Temp/ipykernel_5752/2933690152.py:1: DeprecationWarning: executable_path has been deprecated, please pass in a Service object\n",
      "  driver = webdriver.Chrome(options=options,executable_path = \"C:\\\\WebDriver\\\\chromedriver.exe\")\n"
     ]
    }
   ],
   "source": [
    "driver = webdriver.Chrome(options=options,executable_path = \"C:\\\\WebDriver\\\\chromedriver.exe\")\n",
    "driver.get(url)"
   ]
  },
  {
   "cell_type": "code",
   "execution_count": 62,
   "id": "442e35a7",
   "metadata": {},
   "outputs": [
    {
     "name": "stderr",
     "output_type": "stream",
     "text": [
      "C:\\Users\\aakas\\AppData\\Local\\Temp/ipykernel_5752/16801447.py:1: DeprecationWarning: find_element_by_* commands are deprecated. Please use find_element() instead\n",
      "  driver.find_element_by_xpath(\"//a[@href='http://14.139.82.140']\").click()\n"
     ]
    }
   ],
   "source": [
    "driver.find_element_by_xpath(\"//a[@href='http://14.139.82.140']\").click()"
   ]
  },
  {
   "cell_type": "code",
   "execution_count": 63,
   "id": "5a28794d",
   "metadata": {},
   "outputs": [],
   "source": [
    "driver.switch_to.window(driver.window_handles[1])"
   ]
  },
  {
   "cell_type": "code",
   "execution_count": 69,
   "id": "2ad917ba",
   "metadata": {},
   "outputs": [
    {
     "name": "stderr",
     "output_type": "stream",
     "text": [
      "C:\\Users\\aakas\\AppData\\Local\\Temp/ipykernel_5752/1454233223.py:1: DeprecationWarning: find_element_by_* commands are deprecated. Please use find_element() instead\n",
      "  driver.find_element_by_id('uid').send_keys('21031F0005')\n",
      "C:\\Users\\aakas\\AppData\\Local\\Temp/ipykernel_5752/1454233223.py:2: DeprecationWarning: find_element_by_* commands are deprecated. Please use find_element() instead\n",
      "  driver.find_element_by_id('pwd').send_keys('Aakash@7798')\n"
     ]
    }
   ],
   "source": [
    "driver.find_element_by_id('uid').send_keys('21031F0005')\n",
    "driver.find_element_by_id('pwd').send_keys('Aakash@7798')"
   ]
  },
  {
   "cell_type": "code",
   "execution_count": 71,
   "id": "853e432a",
   "metadata": {},
   "outputs": [
    {
     "name": "stderr",
     "output_type": "stream",
     "text": [
      "C:\\Users\\aakas\\AppData\\Local\\Temp/ipykernel_5752/3183820945.py:1: DeprecationWarning: find_element_by_* commands are deprecated. Please use find_element() instead\n",
      "  driver.find_element_by_css_selector(\"input[type='submit']\").click()\n"
     ]
    }
   ],
   "source": [
    "driver.find_element_by_css_selector(\"input[type='submit']\").click()"
   ]
  },
  {
   "cell_type": "code",
   "execution_count": null,
   "id": "32966927",
   "metadata": {},
   "outputs": [],
   "source": []
  },
  {
   "cell_type": "code",
   "execution_count": 68,
   "id": "925d4fcb",
   "metadata": {},
   "outputs": [],
   "source": [
    "# driver.find_element_by_xpath(\"//div[@class='col-md-8']\")\n",
    "# driver.find_element_by_css_selector(\"input[type='text']\")"
   ]
  },
  {
   "cell_type": "code",
   "execution_count": null,
   "id": "f550f47d",
   "metadata": {},
   "outputs": [],
   "source": []
  }
 ],
 "metadata": {
  "hide_input": false,
  "kernelspec": {
   "display_name": "Python 3 (ipykernel)",
   "language": "python",
   "name": "python3"
  },
  "language_info": {
   "codemirror_mode": {
    "name": "ipython",
    "version": 3
   },
   "file_extension": ".py",
   "mimetype": "text/x-python",
   "name": "python",
   "nbconvert_exporter": "python",
   "pygments_lexer": "ipython3",
   "version": "3.9.7"
  },
  "nbTranslate": {
   "displayLangs": [
    "*"
   ],
   "hotkey": "alt-t",
   "langInMainMenu": true,
   "sourceLang": "en",
   "targetLang": "fr",
   "useGoogleTranslate": true
  },
  "varInspector": {
   "cols": {
    "lenName": 16,
    "lenType": 16,
    "lenVar": 40
   },
   "kernels_config": {
    "python": {
     "delete_cmd_postfix": "",
     "delete_cmd_prefix": "del ",
     "library": "var_list.py",
     "varRefreshCmd": "print(var_dic_list())"
    },
    "r": {
     "delete_cmd_postfix": ") ",
     "delete_cmd_prefix": "rm(",
     "library": "var_list.r",
     "varRefreshCmd": "cat(var_dic_list()) "
    }
   },
   "types_to_exclude": [
    "module",
    "function",
    "builtin_function_or_method",
    "instance",
    "_Feature"
   ],
   "window_display": false
  }
 },
 "nbformat": 4,
 "nbformat_minor": 5
}
