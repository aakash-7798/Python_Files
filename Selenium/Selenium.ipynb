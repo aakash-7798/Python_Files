{
 "cells": [
  {
   "cell_type": "code",
   "execution_count": 1,
   "id": "7c8416eb",
   "metadata": {},
   "outputs": [
    {
     "data": {
      "text/plain": [
       "True"
      ]
     },
     "execution_count": 1,
     "metadata": {},
     "output_type": "execute_result"
    }
   ],
   "source": [
    "# import webbrowser\n",
    "# webbrowser.open_new_tab(\"https://services.gst.gov.in/services/login\")"
   ]
  },
  {
   "cell_type": "code",
   "execution_count": 46,
   "id": "95038f61",
   "metadata": {},
   "outputs": [
    {
     "name": "stderr",
     "output_type": "stream",
     "text": [
      "C:\\Users\\aakas\\AppData\\Local\\Temp/ipykernel_15316/3360108310.py:10: DeprecationWarning: executable_path has been deprecated, please pass in a Service object\n",
      "  driver = webdriver.Chrome(\"C:\\\\WebDriver\\\\chromedriver.exe\")\n",
      "C:\\Users\\aakas\\AppData\\Local\\Temp/ipykernel_15316/3360108310.py:13: DeprecationWarning: find_element_by_* commands are deprecated. Please use find_element() instead\n",
      "  username_textbox = driver.find_element_by_id(\"email\")\n",
      "C:\\Users\\aakas\\AppData\\Local\\Temp/ipykernel_15316/3360108310.py:16: DeprecationWarning: find_element_by_* commands are deprecated. Please use find_element() instead\n",
      "  password_textbox = driver.find_element_by_id(\"pass\")\n",
      "C:\\Users\\aakas\\AppData\\Local\\Temp/ipykernel_15316/3360108310.py:19: DeprecationWarning: find_element_by_* commands are deprecated. Please use find_element() instead\n",
      "  login_button = driver.find_element_by_name(\"login\")\n"
     ]
    }
   ],
   "source": [
    "# from selenium import webdriver\n",
    "# from getpass import getpass\n",
    "\n",
    "# # username = input(\"Enter your Username:\")\n",
    "# # password = getpass(\"Enter your password: \")\n",
    "\n",
    "# username = a[0]\n",
    "# password = a[1]\n",
    "\n",
    "# driver = webdriver.Chrome(\"C:\\\\WebDriver\\\\chromedriver.exe\")\n",
    "# driver.get(\"https://www.facebook.com/\")\n",
    "\n",
    "# username_textbox = driver.find_element_by_id(\"email\")\n",
    "# username_textbox.send_keys(username)\n",
    "\n",
    "# password_textbox = driver.find_element_by_id(\"pass\")\n",
    "# password_textbox.send_keys(password)\n",
    "\n",
    "# login_button = driver.find_element_by_name(\"login\")\n",
    "# login_button.submit()"
   ]
  },
  {
   "cell_type": "code",
   "execution_count": 25,
   "id": "1f44aa56",
   "metadata": {},
   "outputs": [],
   "source": []
  },
  {
   "cell_type": "code",
   "execution_count": 37,
   "id": "f534a859",
   "metadata": {},
   "outputs": [
    {
     "name": "stderr",
     "output_type": "stream",
     "text": [
      "C:\\Users\\aakas\\AppData\\Local\\Temp/ipykernel_15316/1086375792.py:12: DeprecationWarning: executable_path has been deprecated, please pass in a Service object\n",
      "  driver = webdriver.Chrome(\"C:\\\\WebDriver\\\\chromedriver.exe\")\n",
      "C:\\Users\\aakas\\AppData\\Local\\Temp/ipykernel_15316/1086375792.py:15: DeprecationWarning: find_element_by_* commands are deprecated. Please use find_element() instead\n",
      "  HallticketNumber_textbox = driver.find_element_by_id(\"htno\")\n",
      "C:\\Users\\aakas\\AppData\\Local\\Temp/ipykernel_15316/1086375792.py:18: DeprecationWarning: find_element_by_* commands are deprecated. Please use find_element() instead\n",
      "  Degree_List = driver.find_element_by_id(\"Degree\")\n",
      "C:\\Users\\aakas\\AppData\\Local\\Temp/ipykernel_15316/1086375792.py:21: DeprecationWarning: find_element_by_* commands are deprecated. Please use find_element() instead\n",
      "  submit_button = driver.find_element_by_id('btnsubmit')\n"
     ]
    }
   ],
   "source": [
    "from selenium import webdriver\n",
    "from getpass import getpass\n",
    "\n",
    "a=[105916467074,\"BSC\"]\n",
    "\n",
    "# username = input(\"Enter your Username:\")\n",
    "# password = getpass(\"Enter your password: \")\n",
    "\n",
    "HallticketNumber = a[0]\n",
    "Degree = a[1]\n",
    "\n",
    "driver = webdriver.Chrome(\"C:\\\\WebDriver\\\\chromedriver.exe\")\n",
    "driver.get(\"http://www.results.manabadi.co.in/osmania-university-ug-cbcs-ba-bcom-bsc-bba-2019-exam-results-13-082019.htm\")\n",
    "\n",
    "HallticketNumber_textbox = driver.find_element_by_id(\"htno\")\n",
    "HallticketNumber_textbox.send_keys(HallticketNumber)\n",
    "\n",
    "Degree_List = driver.find_element_by_id(\"Degree\")\n",
    "Degree_List.send_keys(Degree)\n",
    "\n",
    "submit_button = driver.find_element_by_id('btnsubmit')\n",
    "submit_button.click()"
   ]
  },
  {
   "cell_type": "code",
   "execution_count": 9,
   "id": "1c33d572",
   "metadata": {},
   "outputs": [
    {
     "name": "stdout",
     "output_type": "stream",
     "text": [
      "Enter your Username:akshay.7626@gmail.com\n",
      "Enter your password: ········\n"
     ]
    },
    {
     "name": "stderr",
     "output_type": "stream",
     "text": [
      "C:\\Users\\aakas\\AppData\\Local\\Temp/ipykernel_19756/156262975.py:6: DeprecationWarning: executable_path has been deprecated, please pass in a Service object\n",
      "  driver = webdriver.Chrome(\"C:\\\\WebDriver\\\\chromedriver.exe\")\n",
      "C:\\Users\\aakas\\AppData\\Local\\Temp/ipykernel_19756/156262975.py:9: DeprecationWarning: find_element_by_* commands are deprecated. Please use find_element() instead\n",
      "  username_textbox = driver.find_element_by_id(\"ap_email\")\n",
      "C:\\Users\\aakas\\AppData\\Local\\Temp/ipykernel_19756/156262975.py:12: DeprecationWarning: find_element_by_* commands are deprecated. Please use find_element() instead\n",
      "  password_textbox = driver.find_element_by_id(\"ap_password\")\n",
      "C:\\Users\\aakas\\AppData\\Local\\Temp/ipykernel_19756/156262975.py:15: DeprecationWarning: find_element_by_* commands are deprecated. Please use find_element() instead\n",
      "  login_button = driver.find_element_by_id(\"signInSubmit\")\n"
     ]
    }
   ],
   "source": [
    "# from selenium import webdriver\n",
    "# from getpass import getpass\n",
    "# username = input(\"Enter your Username:\")\n",
    "# password = getpass(\"Enter your password: \")\n",
    "\n",
    "# driver = webdriver.Chrome(\"C:\\\\WebDriver\\\\chromedriver.exe\")\n",
    "# driver.get(\"https://www.amazon.com/ap/signin?clientContext=257-1685774-0697940&openid.pape.max_auth_age=0&openid.return_to=https%3A%2F%2Fwww.primevideo.com%2Fauth%2Freturn%2Fref%3Dav_auth_ap%3Flocation%3D%2F%3Fref_%253Ddv_auth_ret%2526mrntrk%253Dpcrid_394383628251_slid__pgrid_82649960087_pgeo_9062164_x__ptid_kwd-361165631421&openid.identity=http%3A%2F%2Fspecs.openid.net%2Fauth%2F2.0%2Fidentifier_select&accountStatusPolicy=P1&openid.assoc_handle=amzn_prime_video_desktop_us&openid.mode=checkid_setup&language=en_US&openid.claimed_id=http%3A%2F%2Fspecs.openid.net%2Fauth%2F2.0%2Fidentifier_select&openid.ns=http%3A%2F%2Fspecs.openid.net%2Fauth%2F2.0\")\n",
    "\n",
    "# username_textbox = driver.find_element_by_id(\"ap_email\")\n",
    "# username_textbox.send_keys(username)\n",
    "\n",
    "# password_textbox = driver.find_element_by_id(\"ap_password\")\n",
    "# password_textbox.send_keys(password)\n",
    "\n",
    "# login_button = driver.find_element_by_id(\"signInSubmit\")\n",
    "# login_button.click()"
   ]
  },
  {
   "cell_type": "code",
   "execution_count": 1,
   "id": "24b32046",
   "metadata": {
    "collapsed": true
   },
   "outputs": [
    {
     "name": "stderr",
     "output_type": "stream",
     "text": [
      "C:\\Users\\aakas\\AppData\\Local\\Temp/ipykernel_9184/1339295225.py:10: DeprecationWarning: executable_path has been deprecated, please pass in a Service object\n",
      "  driver = webdriver.Chrome(\"C:\\\\WebDriver\\\\chromedriver.exe\")\n",
      "C:\\Users\\aakas\\AppData\\Local\\Temp/ipykernel_9184/1339295225.py:13: DeprecationWarning: find_element_by_* commands are deprecated. Please use find_element() instead\n",
      "  username_textbox = driver.find_element_by_id(\"panAdhaarUserId\")\n",
      "C:\\Users\\aakas\\AppData\\Local\\Temp/ipykernel_9184/1339295225.py:16: DeprecationWarning: find_element_by_* commands are deprecated. Please use find_element() instead\n",
      "  continue_button = driver.find_element_by_class_name(\"large-button-primary\")\n",
      "C:\\Users\\aakas\\AppData\\Local\\Temp/ipykernel_9184/1339295225.py:19: DeprecationWarning: find_element_by_* commands are deprecated. Please use find_element() instead\n",
      "  checkbox = driver.find_element_by_xpath(\"//input[@type='checkbox']\")\n"
     ]
    },
    {
     "ename": "ElementNotInteractableException",
     "evalue": "Message: element not interactable\n  (Session info: chrome=97.0.4692.71)\nStacktrace:\nBacktrace:\n\tOrdinal0 [0x00B7FDC3+2555331]\n\tOrdinal0 [0x00B177F1+2127857]\n\tOrdinal0 [0x00A12CD0+1060048]\n\tOrdinal0 [0x00A3F3AE+1242030]\n\tOrdinal0 [0x00A34FB3+1200051]\n\tOrdinal0 [0x00A57B0C+1342220]\n\tOrdinal0 [0x00A34984+1198468]\n\tOrdinal0 [0x00A57C14+1342484]\n\tOrdinal0 [0x00A675FA+1406458]\n\tOrdinal0 [0x00A57976+1341814]\n\tOrdinal0 [0x00A336B6+1193654]\n\tOrdinal0 [0x00A34546+1197382]\n\tGetHandleVerifier [0x00D19622+1619522]\n\tGetHandleVerifier [0x00DC882C+2336844]\n\tGetHandleVerifier [0x00C123E1+541697]\n\tGetHandleVerifier [0x00C11443+537699]\n\tOrdinal0 [0x00B1D18E+2150798]\n\tOrdinal0 [0x00B21518+2168088]\n\tOrdinal0 [0x00B21660+2168416]\n\tOrdinal0 [0x00B2B330+2208560]\n\tBaseThreadInitThunk [0x7598FA29+25]\n\tRtlGetAppContainerNamedObjectPath [0x77457A9E+286]\n\tRtlGetAppContainerNamedObjectPath [0x77457A6E+238]\n",
     "output_type": "error",
     "traceback": [
      "\u001b[1;31m---------------------------------------------------------------------------\u001b[0m",
      "\u001b[1;31mElementNotInteractableException\u001b[0m           Traceback (most recent call last)",
      "\u001b[1;32m~\\AppData\\Local\\Temp/ipykernel_9184/1339295225.py\u001b[0m in \u001b[0;36m<module>\u001b[1;34m\u001b[0m\n\u001b[0;32m     18\u001b[0m \u001b[1;33m\u001b[0m\u001b[0m\n\u001b[0;32m     19\u001b[0m \u001b[0mcheckbox\u001b[0m \u001b[1;33m=\u001b[0m \u001b[0mdriver\u001b[0m\u001b[1;33m.\u001b[0m\u001b[0mfind_element_by_xpath\u001b[0m\u001b[1;33m(\u001b[0m\u001b[1;34m\"//input[@type='checkbox']\"\u001b[0m\u001b[1;33m)\u001b[0m\u001b[1;33m\u001b[0m\u001b[1;33m\u001b[0m\u001b[0m\n\u001b[1;32m---> 20\u001b[1;33m \u001b[0mcheckbox\u001b[0m\u001b[1;33m.\u001b[0m\u001b[0mclick\u001b[0m\u001b[1;33m(\u001b[0m\u001b[1;33m)\u001b[0m\u001b[1;33m\u001b[0m\u001b[1;33m\u001b[0m\u001b[0m\n\u001b[0m\u001b[0;32m     21\u001b[0m \u001b[1;33m\u001b[0m\u001b[0m\n\u001b[0;32m     22\u001b[0m \u001b[1;31m# actions = ActionChains(driver)\u001b[0m\u001b[1;33m\u001b[0m\u001b[1;33m\u001b[0m\u001b[0m\n",
      "\u001b[1;32m~\\anaconda3\\lib\\site-packages\\selenium\\webdriver\\remote\\webelement.py\u001b[0m in \u001b[0;36mclick\u001b[1;34m(self)\u001b[0m\n\u001b[0;32m     79\u001b[0m     \u001b[1;32mdef\u001b[0m \u001b[0mclick\u001b[0m\u001b[1;33m(\u001b[0m\u001b[0mself\u001b[0m\u001b[1;33m)\u001b[0m \u001b[1;33m->\u001b[0m \u001b[1;32mNone\u001b[0m\u001b[1;33m:\u001b[0m\u001b[1;33m\u001b[0m\u001b[1;33m\u001b[0m\u001b[0m\n\u001b[0;32m     80\u001b[0m         \u001b[1;34m\"\"\"Clicks the element.\"\"\"\u001b[0m\u001b[1;33m\u001b[0m\u001b[1;33m\u001b[0m\u001b[0m\n\u001b[1;32m---> 81\u001b[1;33m         \u001b[0mself\u001b[0m\u001b[1;33m.\u001b[0m\u001b[0m_execute\u001b[0m\u001b[1;33m(\u001b[0m\u001b[0mCommand\u001b[0m\u001b[1;33m.\u001b[0m\u001b[0mCLICK_ELEMENT\u001b[0m\u001b[1;33m)\u001b[0m\u001b[1;33m\u001b[0m\u001b[1;33m\u001b[0m\u001b[0m\n\u001b[0m\u001b[0;32m     82\u001b[0m \u001b[1;33m\u001b[0m\u001b[0m\n\u001b[0;32m     83\u001b[0m     \u001b[1;32mdef\u001b[0m \u001b[0msubmit\u001b[0m\u001b[1;33m(\u001b[0m\u001b[0mself\u001b[0m\u001b[1;33m)\u001b[0m\u001b[1;33m:\u001b[0m\u001b[1;33m\u001b[0m\u001b[1;33m\u001b[0m\u001b[0m\n",
      "\u001b[1;32m~\\anaconda3\\lib\\site-packages\\selenium\\webdriver\\remote\\webelement.py\u001b[0m in \u001b[0;36m_execute\u001b[1;34m(self, command, params)\u001b[0m\n\u001b[0;32m    708\u001b[0m             \u001b[0mparams\u001b[0m \u001b[1;33m=\u001b[0m \u001b[1;33m{\u001b[0m\u001b[1;33m}\u001b[0m\u001b[1;33m\u001b[0m\u001b[1;33m\u001b[0m\u001b[0m\n\u001b[0;32m    709\u001b[0m         \u001b[0mparams\u001b[0m\u001b[1;33m[\u001b[0m\u001b[1;34m'id'\u001b[0m\u001b[1;33m]\u001b[0m \u001b[1;33m=\u001b[0m \u001b[0mself\u001b[0m\u001b[1;33m.\u001b[0m\u001b[0m_id\u001b[0m\u001b[1;33m\u001b[0m\u001b[1;33m\u001b[0m\u001b[0m\n\u001b[1;32m--> 710\u001b[1;33m         \u001b[1;32mreturn\u001b[0m \u001b[0mself\u001b[0m\u001b[1;33m.\u001b[0m\u001b[0m_parent\u001b[0m\u001b[1;33m.\u001b[0m\u001b[0mexecute\u001b[0m\u001b[1;33m(\u001b[0m\u001b[0mcommand\u001b[0m\u001b[1;33m,\u001b[0m \u001b[0mparams\u001b[0m\u001b[1;33m)\u001b[0m\u001b[1;33m\u001b[0m\u001b[1;33m\u001b[0m\u001b[0m\n\u001b[0m\u001b[0;32m    711\u001b[0m \u001b[1;33m\u001b[0m\u001b[0m\n\u001b[0;32m    712\u001b[0m     \u001b[1;32mdef\u001b[0m \u001b[0mfind_element\u001b[0m\u001b[1;33m(\u001b[0m\u001b[0mself\u001b[0m\u001b[1;33m,\u001b[0m \u001b[0mby\u001b[0m\u001b[1;33m=\u001b[0m\u001b[0mBy\u001b[0m\u001b[1;33m.\u001b[0m\u001b[0mID\u001b[0m\u001b[1;33m,\u001b[0m \u001b[0mvalue\u001b[0m\u001b[1;33m=\u001b[0m\u001b[1;32mNone\u001b[0m\u001b[1;33m)\u001b[0m\u001b[1;33m:\u001b[0m\u001b[1;33m\u001b[0m\u001b[1;33m\u001b[0m\u001b[0m\n",
      "\u001b[1;32m~\\anaconda3\\lib\\site-packages\\selenium\\webdriver\\remote\\webdriver.py\u001b[0m in \u001b[0;36mexecute\u001b[1;34m(self, driver_command, params)\u001b[0m\n\u001b[0;32m    422\u001b[0m         \u001b[0mresponse\u001b[0m \u001b[1;33m=\u001b[0m \u001b[0mself\u001b[0m\u001b[1;33m.\u001b[0m\u001b[0mcommand_executor\u001b[0m\u001b[1;33m.\u001b[0m\u001b[0mexecute\u001b[0m\u001b[1;33m(\u001b[0m\u001b[0mdriver_command\u001b[0m\u001b[1;33m,\u001b[0m \u001b[0mparams\u001b[0m\u001b[1;33m)\u001b[0m\u001b[1;33m\u001b[0m\u001b[1;33m\u001b[0m\u001b[0m\n\u001b[0;32m    423\u001b[0m         \u001b[1;32mif\u001b[0m \u001b[0mresponse\u001b[0m\u001b[1;33m:\u001b[0m\u001b[1;33m\u001b[0m\u001b[1;33m\u001b[0m\u001b[0m\n\u001b[1;32m--> 424\u001b[1;33m             \u001b[0mself\u001b[0m\u001b[1;33m.\u001b[0m\u001b[0merror_handler\u001b[0m\u001b[1;33m.\u001b[0m\u001b[0mcheck_response\u001b[0m\u001b[1;33m(\u001b[0m\u001b[0mresponse\u001b[0m\u001b[1;33m)\u001b[0m\u001b[1;33m\u001b[0m\u001b[1;33m\u001b[0m\u001b[0m\n\u001b[0m\u001b[0;32m    425\u001b[0m             response['value'] = self._unwrap_value(\n\u001b[0;32m    426\u001b[0m                 response.get('value', None))\n",
      "\u001b[1;32m~\\anaconda3\\lib\\site-packages\\selenium\\webdriver\\remote\\errorhandler.py\u001b[0m in \u001b[0;36mcheck_response\u001b[1;34m(self, response)\u001b[0m\n\u001b[0;32m    245\u001b[0m                 \u001b[0malert_text\u001b[0m \u001b[1;33m=\u001b[0m \u001b[0mvalue\u001b[0m\u001b[1;33m[\u001b[0m\u001b[1;34m'alert'\u001b[0m\u001b[1;33m]\u001b[0m\u001b[1;33m.\u001b[0m\u001b[0mget\u001b[0m\u001b[1;33m(\u001b[0m\u001b[1;34m'text'\u001b[0m\u001b[1;33m)\u001b[0m\u001b[1;33m\u001b[0m\u001b[1;33m\u001b[0m\u001b[0m\n\u001b[0;32m    246\u001b[0m             \u001b[1;32mraise\u001b[0m \u001b[0mexception_class\u001b[0m\u001b[1;33m(\u001b[0m\u001b[0mmessage\u001b[0m\u001b[1;33m,\u001b[0m \u001b[0mscreen\u001b[0m\u001b[1;33m,\u001b[0m \u001b[0mstacktrace\u001b[0m\u001b[1;33m,\u001b[0m \u001b[0malert_text\u001b[0m\u001b[1;33m)\u001b[0m  \u001b[1;31m# type: ignore[call-arg]  # mypy is not smart enough here\u001b[0m\u001b[1;33m\u001b[0m\u001b[1;33m\u001b[0m\u001b[0m\n\u001b[1;32m--> 247\u001b[1;33m         \u001b[1;32mraise\u001b[0m \u001b[0mexception_class\u001b[0m\u001b[1;33m(\u001b[0m\u001b[0mmessage\u001b[0m\u001b[1;33m,\u001b[0m \u001b[0mscreen\u001b[0m\u001b[1;33m,\u001b[0m \u001b[0mstacktrace\u001b[0m\u001b[1;33m)\u001b[0m\u001b[1;33m\u001b[0m\u001b[1;33m\u001b[0m\u001b[0m\n\u001b[0m\u001b[0;32m    248\u001b[0m \u001b[1;33m\u001b[0m\u001b[0m\n\u001b[0;32m    249\u001b[0m     \u001b[1;32mdef\u001b[0m \u001b[0m_value_or_default\u001b[0m\u001b[1;33m(\u001b[0m\u001b[0mself\u001b[0m\u001b[1;33m,\u001b[0m \u001b[0mobj\u001b[0m\u001b[1;33m:\u001b[0m \u001b[0mMapping\u001b[0m\u001b[1;33m[\u001b[0m\u001b[0m_KT\u001b[0m\u001b[1;33m,\u001b[0m \u001b[0m_VT\u001b[0m\u001b[1;33m]\u001b[0m\u001b[1;33m,\u001b[0m \u001b[0mkey\u001b[0m\u001b[1;33m:\u001b[0m \u001b[0m_KT\u001b[0m\u001b[1;33m,\u001b[0m \u001b[0mdefault\u001b[0m\u001b[1;33m:\u001b[0m \u001b[0m_VT\u001b[0m\u001b[1;33m)\u001b[0m \u001b[1;33m->\u001b[0m \u001b[0m_VT\u001b[0m\u001b[1;33m:\u001b[0m\u001b[1;33m\u001b[0m\u001b[1;33m\u001b[0m\u001b[0m\n",
      "\u001b[1;31mElementNotInteractableException\u001b[0m: Message: element not interactable\n  (Session info: chrome=97.0.4692.71)\nStacktrace:\nBacktrace:\n\tOrdinal0 [0x00B7FDC3+2555331]\n\tOrdinal0 [0x00B177F1+2127857]\n\tOrdinal0 [0x00A12CD0+1060048]\n\tOrdinal0 [0x00A3F3AE+1242030]\n\tOrdinal0 [0x00A34FB3+1200051]\n\tOrdinal0 [0x00A57B0C+1342220]\n\tOrdinal0 [0x00A34984+1198468]\n\tOrdinal0 [0x00A57C14+1342484]\n\tOrdinal0 [0x00A675FA+1406458]\n\tOrdinal0 [0x00A57976+1341814]\n\tOrdinal0 [0x00A336B6+1193654]\n\tOrdinal0 [0x00A34546+1197382]\n\tGetHandleVerifier [0x00D19622+1619522]\n\tGetHandleVerifier [0x00DC882C+2336844]\n\tGetHandleVerifier [0x00C123E1+541697]\n\tGetHandleVerifier [0x00C11443+537699]\n\tOrdinal0 [0x00B1D18E+2150798]\n\tOrdinal0 [0x00B21518+2168088]\n\tOrdinal0 [0x00B21660+2168416]\n\tOrdinal0 [0x00B2B330+2208560]\n\tBaseThreadInitThunk [0x7598FA29+25]\n\tRtlGetAppContainerNamedObjectPath [0x77457A9E+286]\n\tRtlGetAppContainerNamedObjectPath [0x77457A6E+238]\n"
     ]
    }
   ],
   "source": [
    "from selenium import webdriver\n",
    "from getpass import getpass\n",
    "from selenium.webdriver.common.action_chains import ActionChains\n",
    "username = input(\"Enter your Username:\")\n",
    "password = getpass(\"Enter your password: \")\n",
    "\n",
    "driver = webdriver.Chrome(\"C:\\\\WebDriver\\\\chromedriver.exe\")\n",
    "driver.get(\"https://eportal.incometax.gov.in/iec/foservices/#/login\")\n",
    "\n",
    "username_textbox = driver.find_element_by_id(\"panAdhaarUserId\").send_keys(username)\n",
    "\n",
    "continue_button = driver.find_element_by_class_name(\"large-button-primary\").click()\n",
    "\n",
    "checkbox = driver.find_element_by_class_name(\"//input[@type='checkbox']\").click()\n",
    "\n",
    "password_textbox = driver.find_element_by_id(\"loginPasswordField\").send_keys(password)\n",
    "\n",
    "continue_button1 = driver.find_element_by_class_name(\"large-button-primary\").click()"
   ]
  },
  {
   "cell_type": "code",
   "execution_count": 20,
   "id": "20834d9d",
   "metadata": {},
   "outputs": [],
   "source": []
  },
  {
   "cell_type": "code",
   "execution_count": null,
   "id": "7971ca42",
   "metadata": {},
   "outputs": [],
   "source": []
  }
 ],
 "metadata": {
  "kernelspec": {
   "display_name": "Python 3 (ipykernel)",
   "language": "python",
   "name": "python3"
  },
  "language_info": {
   "codemirror_mode": {
    "name": "ipython",
    "version": 3
   },
   "file_extension": ".py",
   "mimetype": "text/x-python",
   "name": "python",
   "nbconvert_exporter": "python",
   "pygments_lexer": "ipython3",
   "version": "3.9.7"
  },
  "varInspector": {
   "cols": {
    "lenName": 16,
    "lenType": 16,
    "lenVar": 40
   },
   "kernels_config": {
    "python": {
     "delete_cmd_postfix": "",
     "delete_cmd_prefix": "del ",
     "library": "var_list.py",
     "varRefreshCmd": "print(var_dic_list())"
    },
    "r": {
     "delete_cmd_postfix": ") ",
     "delete_cmd_prefix": "rm(",
     "library": "var_list.r",
     "varRefreshCmd": "cat(var_dic_list()) "
    }
   },
   "types_to_exclude": [
    "module",
    "function",
    "builtin_function_or_method",
    "instance",
    "_Feature"
   ],
   "window_display": false
  }
 },
 "nbformat": 4,
 "nbformat_minor": 5
}
