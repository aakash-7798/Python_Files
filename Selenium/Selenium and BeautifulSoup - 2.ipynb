{
 "cells": [
  {
   "cell_type": "code",
   "execution_count": 1,
   "id": "d8223876",
   "metadata": {
    "ExecuteTime": {
     "end_time": "2022-05-29T08:51:14.285898Z",
     "start_time": "2022-05-29T08:51:06.896923Z"
    }
   },
   "outputs": [],
   "source": [
    "from bs4 import BeautifulSoup\n",
    "from selenium import webdriver\n",
    "from selenium.webdriver.common.keys import Keys\n",
    "from selenium.webdriver.chrome.options import Options\n",
    "from selenium.webdriver.support.ui import Select\n",
    "from getpass import getpass\n",
    "import time\n",
    "import urllib\n",
    "import urllib.request\n",
    "import requests\n",
    "from io import BytesIO\n",
    "import pandas as pd\n",
    "from PIL import Image\n",
    "import chromedriver_autoinstaller as chromedriver\n",
    "from webdriver_manager.chrome import ChromeDriverManager\n",
    "chromedriver.install()\n",
    "from selenium.webdriver.chrome.service import Service\n",
    "from selenium.webdriver.common.by import By\n",
    "import xlsxwriter\n",
    "import xlwings as xw\n",
    "import openpyxl\n",
    "from openpyxl import load_workbook,Workbook\n",
    "from openpyxl.styles import colors\n",
    "from openpyxl.styles import Font, Color\n",
    "from openpyxl.styles.alignment import Alignment\n",
    "from openpyxl.styles import Alignment\n",
    "from openpyxl.utils.dataframe import dataframe_to_rows\n",
    "from xlwings import constants\n",
    "from openpyxl.drawing.image import Image\n",
    "import xlrd \n",
    "options = Options()\n",
    "options.add_argument(\"start-maximized\")\n",
    "from IPython.display import display, HTML"
   ]
  },
  {
   "cell_type": "code",
   "execution_count": 2,
   "id": "cf9f0200",
   "metadata": {
    "ExecuteTime": {
     "end_time": "2022-05-29T08:51:16.394157Z",
     "start_time": "2022-05-29T08:51:14.321770Z"
    }
   },
   "outputs": [
    {
     "name": "stderr",
     "output_type": "stream",
     "text": [
      "\n",
      "\n",
      "INFO:WDM:\n",
      "\n",
      "====== WebDriver manager ======\n",
      "INFO:WDM:====== WebDriver manager ======\n",
      "Current google-chrome version is 102.0.5005\n",
      "INFO:WDM:Current google-chrome version is 102.0.5005\n",
      "Get LATEST chromedriver version for 102.0.5005 google-chrome\n",
      "INFO:WDM:Get LATEST chromedriver version for 102.0.5005 google-chrome\n",
      "Driver [C:\\Users\\aakas\\.wdm\\drivers\\chromedriver\\win32\\102.0.5005.61\\chromedriver.exe] found in cache\n",
      "INFO:WDM:Driver [C:\\Users\\aakas\\.wdm\\drivers\\chromedriver\\win32\\102.0.5005.61\\chromedriver.exe] found in cache\n"
     ]
    }
   ],
   "source": [
    "driver = webdriver.Chrome(options=options,service=Service(ChromeDriverManager().install())) "
   ]
  },
  {
   "cell_type": "code",
   "execution_count": 3,
   "id": "dfabb884",
   "metadata": {
    "ExecuteTime": {
     "end_time": "2022-05-29T08:51:45.339219Z",
     "start_time": "2022-05-29T08:51:16.430994Z"
    }
   },
   "outputs": [
    {
     "name": "stdout",
     "output_type": "stream",
     "text": [
      " Enter Your Password : ········\n"
     ]
    }
   ],
   "source": [
    "url = \"http://jntuhsit.org/\"\n",
    "driver.get(url)\n",
    "driver.find_element(By.XPATH,\"//a[@href='http://14.139.82.140']\").click()\n",
    "driver.switch_to.window(driver.window_handles[1])\n",
    "time.sleep(2)\n",
    "driver.find_element(By.ID,'uid').send_keys('21031F0005')\n",
    "driver.find_element(By.ID,'pwd').send_keys(getpass(\" Enter Your Password : \"))\n",
    "driver.find_element(By.CSS_SELECTOR,\"input[type='submit']\").click()\n",
    "driver.find_element(By.XPATH,\"//div[@id='myNavBar']/ul/li[4]\").click()\n",
    "time.sleep(1)\n",
    "driver.find_element(By.XPATH,\"//a[@href='viewResults']\").click()\n",
    "time.sleep(1)\n",
    "driver.find_element(By.XPATH,\"//select[@id='ecode']/option[text()='M.C.A. I Year I Semester (R20) (Reg) - April, 2022']\").click()\n",
    "time.sleep(1)\n",
    "driver.find_element(By.XPATH,\".//button[contains(@class,'btn')]\").click()\n",
    "time.sleep(1)"
   ]
  },
  {
   "cell_type": "code",
   "execution_count": 4,
   "id": "906b9bb3",
   "metadata": {
    "ExecuteTime": {
     "end_time": "2022-05-29T08:51:52.201558Z",
     "start_time": "2022-05-29T08:51:52.083452Z"
    }
   },
   "outputs": [],
   "source": [
    "BS = BeautifulSoup(driver.page_source,'html.parser')"
   ]
  },
  {
   "cell_type": "code",
   "execution_count": 12,
   "id": "6cc1fec1",
   "metadata": {
    "ExecuteTime": {
     "end_time": "2022-05-29T08:55:26.341866Z",
     "start_time": "2022-05-29T08:55:26.297787Z"
    }
   },
   "outputs": [
    {
     "data": {
      "text/plain": [
       "['Name', ' AAKASH NADUPALLI']"
      ]
     },
     "execution_count": 12,
     "metadata": {},
     "output_type": "execute_result"
    }
   ],
   "source": [
    "# driver.find_element(By.XPATH,\"//*[@id='resBlock']/table/tbody/tr[3]\").text.split('\\n')[0].split(\".:\")\n",
    "driver.find_element(By.XPATH,\"//*[@id='resBlock']/table/tbody/tr[4]\").text.split('\\n')[0].split(':')"
   ]
  },
  {
   "cell_type": "code",
   "execution_count": 35,
   "id": "891b2a43",
   "metadata": {
    "ExecuteTime": {
     "end_time": "2022-05-29T09:03:54.189871Z",
     "start_time": "2022-05-29T09:03:53.734890Z"
    }
   },
   "outputs": [],
   "source": [
    "x = [int(driver.find_element(By.XPATH,f\"//*[@id='resBlock']/table/tbody/tr[6]/td/table/tbody/tr[{i}]\").text.split(' ')[-2]) for i in range(1,10)]\n",
    "y = [int(driver.find_element(By.XPATH,f\"//*[@id='resBlock']/table/tbody/tr[6]/td/table/tbody/tr[{i}]\").text.split(' ')[-3]) for i in range(1,10)]"
   ]
  },
  {
   "cell_type": "code",
   "execution_count": 39,
   "id": "71f16792",
   "metadata": {
    "ExecuteTime": {
     "end_time": "2022-05-29T09:06:20.012757Z",
     "start_time": "2022-05-29T09:06:18.122846Z"
    }
   },
   "outputs": [],
   "source": [
    "df3  = pd.DataFrame(data=[[j] + [ int(driver.find_element(By.XPATH,f\"//*[@id='resBlock']/table/tbody/tr[6]/td/table/tbody/tr[{j}]/td[{i}]\").text) if i==5 or i==6 else  driver.find_element(By.XPATH,f\"//*[@id='resBlock']/table/tbody/tr[6]/td/table/tbody/tr[{j}]/td[{i}]\").text for i in range(2,8) ] for j in range(1,10)],columns=[driver.find_element(By.XPATH,f\"//*[@id='resBlock']/table/tbody/tr[6]/td/table/thead/tr/th[{i}]\").text  for i in range(1,8)])"
   ]
  },
  {
   "cell_type": "code",
   "execution_count": 43,
   "id": "d2b6bde0",
   "metadata": {
    "ExecuteTime": {
     "end_time": "2022-05-29T09:07:11.324818Z",
     "start_time": "2022-05-29T09:07:11.314872Z"
    }
   },
   "outputs": [
    {
     "data": {
      "text/plain": [
       "9.0"
      ]
     },
     "execution_count": 43,
     "metadata": {},
     "output_type": "execute_result"
    }
   ],
   "source": [
    "round(sum(df3['Grade Point'] * df3['Credits'])/sum(df3['Credits']),3 )"
   ]
  },
  {
   "cell_type": "code",
   "execution_count": 64,
   "id": "90becdf1",
   "metadata": {
    "ExecuteTime": {
     "end_time": "2022-05-29T09:45:30.078583Z",
     "start_time": "2022-05-29T09:45:30.055896Z"
    }
   },
   "outputs": [
    {
     "data": {
      "text/plain": [
       "['21031F0005', 'AAKASH NADUPALLI', 9.0]"
      ]
     },
     "execution_count": 64,
     "metadata": {},
     "output_type": "execute_result"
    }
   ],
   "source": [
    "# df2[0][1].split(\":\")[1].strip(' ')\n",
    "# df2[0][0].split(\":\")[1].strip(' ')\n",
    "[df2[0][0].split(\":\")[1].strip(' '),df2[0][1].split(\":\")[1].strip(' '),round(sum(df3['Grade Point'] * df3['Credits'])/sum(df3['Credits']),3 )]"
   ]
  },
  {
   "cell_type": "code",
   "execution_count": 65,
   "id": "b684a81a",
   "metadata": {
    "ExecuteTime": {
     "end_time": "2022-05-29T09:45:55.359451Z",
     "start_time": "2022-05-29T09:45:55.335866Z"
    }
   },
   "outputs": [],
   "source": [
    "All_Results = pd.DataFrame(columns=['RollNumber','Name','SGPA'])"
   ]
  },
  {
   "cell_type": "code",
   "execution_count": 66,
   "id": "d4ec3620",
   "metadata": {
    "ExecuteTime": {
     "end_time": "2022-05-29T09:46:05.233308Z",
     "start_time": "2022-05-29T09:46:05.201181Z"
    }
   },
   "outputs": [
    {
     "data": {
      "text/html": [
       "<div>\n",
       "<style scoped>\n",
       "    .dataframe tbody tr th:only-of-type {\n",
       "        vertical-align: middle;\n",
       "    }\n",
       "\n",
       "    .dataframe tbody tr th {\n",
       "        vertical-align: top;\n",
       "    }\n",
       "\n",
       "    .dataframe thead th {\n",
       "        text-align: right;\n",
       "    }\n",
       "</style>\n",
       "<table border=\"1\" class=\"dataframe\">\n",
       "  <thead>\n",
       "    <tr style=\"text-align: right;\">\n",
       "      <th></th>\n",
       "      <th>RollNumber</th>\n",
       "      <th>Name</th>\n",
       "      <th>SGPA</th>\n",
       "    </tr>\n",
       "  </thead>\n",
       "  <tbody>\n",
       "    <tr>\n",
       "      <th>0</th>\n",
       "      <td>21031F0005</td>\n",
       "      <td>Aakash Nadupalli</td>\n",
       "      <td>9.0</td>\n",
       "    </tr>\n",
       "  </tbody>\n",
       "</table>\n",
       "</div>"
      ],
      "text/plain": [
       "   RollNumber              Name SGPA\n",
       "0  21031F0005  Aakash Nadupalli  9.0"
      ]
     },
     "execution_count": 66,
     "metadata": {},
     "output_type": "execute_result"
    }
   ],
   "source": [
    "All_Results.loc[len(All_Results)] = ['21031F0005','Aakash Nadupalli','9.0']\n",
    "All_Results"
   ]
  },
  {
   "cell_type": "code",
   "execution_count": 68,
   "id": "951679bd",
   "metadata": {
    "ExecuteTime": {
     "end_time": "2022-05-29T09:46:35.577995Z",
     "start_time": "2022-05-29T09:46:35.546152Z"
    }
   },
   "outputs": [
    {
     "data": {
      "text/html": [
       "<div>\n",
       "<style scoped>\n",
       "    .dataframe tbody tr th:only-of-type {\n",
       "        vertical-align: middle;\n",
       "    }\n",
       "\n",
       "    .dataframe tbody tr th {\n",
       "        vertical-align: top;\n",
       "    }\n",
       "\n",
       "    .dataframe thead th {\n",
       "        text-align: right;\n",
       "    }\n",
       "</style>\n",
       "<table border=\"1\" class=\"dataframe\">\n",
       "  <thead>\n",
       "    <tr style=\"text-align: right;\">\n",
       "      <th></th>\n",
       "      <th>RollNumber</th>\n",
       "      <th>Name</th>\n",
       "      <th>SGPA</th>\n",
       "    </tr>\n",
       "  </thead>\n",
       "  <tbody>\n",
       "    <tr>\n",
       "      <th>0</th>\n",
       "      <td>21031F0005</td>\n",
       "      <td>Aakash Nadupalli</td>\n",
       "      <td>9.0</td>\n",
       "    </tr>\n",
       "    <tr>\n",
       "      <th>1</th>\n",
       "      <td>21031F0005</td>\n",
       "      <td>Aakash Nadupalli</td>\n",
       "      <td>9.0</td>\n",
       "    </tr>\n",
       "    <tr>\n",
       "      <th>2</th>\n",
       "      <td>21031F0005</td>\n",
       "      <td>Aakash Nadupalli</td>\n",
       "      <td>9.0</td>\n",
       "    </tr>\n",
       "  </tbody>\n",
       "</table>\n",
       "</div>"
      ],
      "text/plain": [
       "   RollNumber              Name SGPA\n",
       "0  21031F0005  Aakash Nadupalli  9.0\n",
       "1  21031F0005  Aakash Nadupalli  9.0\n",
       "2  21031F0005  Aakash Nadupalli  9.0"
      ]
     },
     "execution_count": 68,
     "metadata": {},
     "output_type": "execute_result"
    }
   ],
   "source": [
    "All_Results.loc[len(All_Results)] = ['21031F0005','Aakash Nadupalli','9.0']\n",
    "All_Results"
   ]
  },
  {
   "cell_type": "code",
   "execution_count": 51,
   "id": "5c5fca9c",
   "metadata": {
    "ExecuteTime": {
     "end_time": "2022-05-29T09:41:55.672008Z",
     "start_time": "2022-05-29T09:41:51.914988Z"
    }
   },
   "outputs": [],
   "source": [
    "BS = BeautifulSoup(driver.page_source,'html.parser')\n",
    "df1  = pd.DataFrame(data=driver.find_element(By.XPATH,\"//*[@id='resBlock']/table/tbody/tr[1]\").text.split('\\n')+[driver.find_element(By.XPATH,\"//*[@id='resBlock']/table/tbody/tr[2]\").text])\n",
    "df2  = pd.DataFrame(data=[driver.find_element(By.XPATH,f\"//*[@id='resBlock']/table/tbody/tr[{i}]\").text for i in range(3,6)])\n",
    "df3  = pd.DataFrame(data=[[j] + [ int(driver.find_element(By.XPATH,f\"//*[@id='resBlock']/table/tbody/tr[6]/td/table/tbody/tr[{j}]/td[{i}]\").text) if i==5 or i==6 else  driver.find_element(By.XPATH,f\"//*[@id='resBlock']/table/tbody/tr[6]/td/table/tbody/tr[{j}]/td[{i}]\").text for i in range(2,8) ] for j in range(1,10)],columns=[driver.find_element(By.XPATH,f\"//*[@id='resBlock']/table/tbody/tr[6]/td/table/thead/tr/th[{i}]\").text  for i in range(1,8)])"
   ]
  },
  {
   "cell_type": "code",
   "execution_count": 67,
   "id": "88f32d7b",
   "metadata": {
    "ExecuteTime": {
     "end_time": "2022-05-28T13:05:25.937989Z",
     "start_time": "2022-05-28T13:05:25.917016Z"
    }
   },
   "outputs": [],
   "source": [
    "wbn = Workbook()\n",
    "wbn.save('MCA_New.xlsx')\n",
    "wbn.close()"
   ]
  },
  {
   "cell_type": "code",
   "execution_count": null,
   "id": "60d68721",
   "metadata": {},
   "outputs": [],
   "source": [
    "=SUM((H16:H24)*(I16:I24))/SUM((I16:I24))"
   ]
  },
  {
   "cell_type": "code",
   "execution_count": 88,
   "id": "e788158e",
   "metadata": {
    "ExecuteTime": {
     "end_time": "2022-05-28T14:04:39.808825Z",
     "start_time": "2022-05-28T14:04:39.146810Z"
    }
   },
   "outputs": [],
   "source": [
    "wb = load_workbook('MCA_New.xlsx')\n",
    "wb.create_sheet(title='21031F0002')\n",
    "ws = wb['21031F0002']\n",
    "df1_rows = dataframe_to_rows(df1, index=False,header=False)\n",
    "df2_rows = dataframe_to_rows(df2, index=False,header=False)\n",
    "df3_rows = dataframe_to_rows(df3, index=False)\n",
    "for r_idx, row in enumerate(df1_rows, 2):\n",
    "    for c_idx, value in enumerate(row, 6):\n",
    "        ws.cell(row=r_idx, column=c_idx, value=value)\n",
    "for r_idx, row in enumerate(df2_rows, 10):\n",
    "    for c_idx, value in enumerate(row, 6):\n",
    "        ws.cell(row=r_idx, column=c_idx, value=value)\n",
    "for r_idx, row in enumerate(df3_rows, 15):\n",
    "    for c_idx, value in enumerate(row, 4):\n",
    "        ws.cell(row=r_idx, column=c_idx, value=value)\n",
    "for (isd,jrf) in zip(['E','F','H'],[14,65,12]):\n",
    "            ws.column_dimensions[isd].width = jrf\n",
    "for p in [int(i) for i in range(1,11)]:\n",
    "        for j in [int(i) for i in range(1,31)]:\n",
    "            ws.cell(j,p).alignment = Alignment(horizontal='center')  \n",
    "for c in [4,5,6,7,8,9,10]:\n",
    "    ws.cell(15,c).font = Font(bold=True)\n",
    "for a,b in zip([2,3,4,5,6],['f7118b','0a21a8','0a21a8','0a21a8','ff0000']):\n",
    "    ws.cell(a,6).font = Font(color=b,bold=True)\n",
    "for (sft,rtf,rty) in zip([25,25,27,27],[8,9,6,7],[\"=SUMPRODUCT((H16:H24)*(I16:I24))\",\"=SUM((I16:I24))\",\"SGPA : \",\"=ROUND((H25/I25),3)\"]):\n",
    "    ws.cell(sft,rtf).value = rty\n",
    "    ws.cell(sft,rtf).font = Font(bold=True)\n",
    "img = Image('Jntuh Logo.png')\n",
    "img.height = 150\n",
    "img.width = 170\n",
    "ws.add_image(img,'D3')  \n",
    "img = Image(BytesIO(urllib.request.urlopen(BS.find('table',class_='borderless').find('img',alt='PHOTO')['src']).read()))\n",
    "img.height = 110\n",
    "img.width = 110\n",
    "ws.add_image(img,'G8')\n",
    "ws.column_dimensions['G'].width = 15\n",
    "ws.cell(15,7).alignment = Alignment(horizontal='center')\n",
    "wb.save('MCA_New.xlsx')"
   ]
  },
  {
   "cell_type": "code",
   "execution_count": 1,
   "id": "32e4b1ff",
   "metadata": {
    "ExecuteTime": {
     "end_time": "2022-05-28T11:45:56.874088Z",
     "start_time": "2022-05-28T11:45:56.864111Z"
    }
   },
   "outputs": [],
   "source": [
    "# # driver.find_element(By.XPATH,f\"//*[@id='resBlock']/table/tbody/tr[6]/td/table/tbody\").text \n",
    "# print(driver.find_element(By.XPATH,\"//*[@id='resBlock']/table/tbody/tr[1]\").text.split('\\n'))\n",
    "# print(driver.find_element(By.XPATH,\"//*[@id='resBlock']/table/tbody/tr[2]\").text)\n",
    "# print([driver.find_element(By.XPATH,f\"//*[@id='resBlock']/table/tbody/tr[{i}]\").text for i in range(3,6)])\n",
    "# print([driver.find_element(By.XPATH,f\"//*[@id='resBlock']/table/tbody/tr[6]/td/table/thead/tr/th[{i}]\").text  for i in range(1,8)])\n",
    "# print([[j] + [driver.find_element(By.XPATH,f\"//*[@id='resBlock']/table/tbody/tr[6]/td/table/tbody/tr[{j}]/td[{i}]\").text for i in range(2,8)] for j in range(1,10)])"
   ]
  },
  {
   "cell_type": "code",
   "execution_count": 61,
   "id": "e91d4a8e",
   "metadata": {
    "ExecuteTime": {
     "end_time": "2022-05-28T11:04:50.014660Z",
     "start_time": "2022-05-28T11:04:46.593099Z"
    }
   },
   "outputs": [],
   "source": [
    "# df1  =  pd.DataFrame(data=driver.find_element(By.XPATH,\"//*[@id='resBlock']/table/tbody/tr[1]\").text.split('\\n')+[driver.find_element(By.XPATH,\"//*[@id='resBlock']/table/tbody/tr[2]\").text])\n",
    "# df2  = pd.DataFrame(data=[driver.find_element(By.XPATH,f\"//*[@id='resBlock']/table/tbody/tr[{i}]\").text for i in range(3,6)])\n",
    "# df3  = pd.DataFrame(data=[[j] + [ int(driver.find_element(By.XPATH,f\"//*[@id='resBlock']/table/tbody/tr[6]/td/table/tbody/tr[1]/td[{i}]\").text) if i==5 or i==6 else  driver.find_element(By.XPATH,f\"//*[@id='resBlock']/table/tbody/tr[6]/td/table/tbody/tr[{j}]/td[{i}]\").text for i in range(2,8) ] for j in range(1,10)],columns=[driver.find_element(By.XPATH,f\"//*[@id='resBlock']/table/tbody/tr[6]/td/table/thead/tr/th[{i}]\").text  for i in range(1,8)])"
   ]
  },
  {
   "cell_type": "code",
   "execution_count": 2,
   "id": "06d23b3b",
   "metadata": {
    "ExecuteTime": {
     "end_time": "2022-06-07T11:53:55.955254Z",
     "start_time": "2022-06-07T11:53:55.937302Z"
    }
   },
   "outputs": [
    {
     "ename": "NameError",
     "evalue": "name 'Image' is not defined",
     "output_type": "error",
     "traceback": [
      "\u001b[1;31m---------------------------------------------------------------------------\u001b[0m",
      "\u001b[1;31mNameError\u001b[0m                                 Traceback (most recent call last)",
      "\u001b[1;32m~\\AppData\\Local\\Temp/ipykernel_15616/2051282732.py\u001b[0m in \u001b[0;36m<module>\u001b[1;34m\u001b[0m\n\u001b[0;32m      2\u001b[0m \u001b[1;32mfrom\u001b[0m \u001b[0mio\u001b[0m \u001b[1;32mimport\u001b[0m \u001b[0mBytesIO\u001b[0m\u001b[1;33m\u001b[0m\u001b[1;33m\u001b[0m\u001b[0m\n\u001b[0;32m      3\u001b[0m \u001b[1;31m# urllib.request.urlretrieve(BS.find('table',class_='borderless').find('img',alt='PHOTO')['src'])\u001b[0m\u001b[1;33m\u001b[0m\u001b[1;33m\u001b[0m\u001b[0m\n\u001b[1;32m----> 4\u001b[1;33m \u001b[0mImage\u001b[0m\u001b[1;33m(\u001b[0m\u001b[0mBytesIO\u001b[0m\u001b[1;33m(\u001b[0m\u001b[0murllib\u001b[0m\u001b[1;33m.\u001b[0m\u001b[0mrequest\u001b[0m\u001b[1;33m.\u001b[0m\u001b[0murlopen\u001b[0m\u001b[1;33m(\u001b[0m\u001b[0mBS\u001b[0m\u001b[1;33m.\u001b[0m\u001b[0mfind\u001b[0m\u001b[1;33m(\u001b[0m\u001b[1;34m'table'\u001b[0m\u001b[1;33m,\u001b[0m\u001b[0mclass_\u001b[0m\u001b[1;33m=\u001b[0m\u001b[1;34m'borderless'\u001b[0m\u001b[1;33m)\u001b[0m\u001b[1;33m.\u001b[0m\u001b[0mfind\u001b[0m\u001b[1;33m(\u001b[0m\u001b[1;34m'img'\u001b[0m\u001b[1;33m,\u001b[0m\u001b[0malt\u001b[0m\u001b[1;33m=\u001b[0m\u001b[1;34m'PHOTO'\u001b[0m\u001b[1;33m)\u001b[0m\u001b[1;33m[\u001b[0m\u001b[1;34m'src'\u001b[0m\u001b[1;33m]\u001b[0m\u001b[1;33m)\u001b[0m\u001b[1;33m.\u001b[0m\u001b[0mread\u001b[0m\u001b[1;33m(\u001b[0m\u001b[1;33m)\u001b[0m\u001b[1;33m)\u001b[0m\u001b[1;33m)\u001b[0m\u001b[1;33m\u001b[0m\u001b[1;33m\u001b[0m\u001b[0m\n\u001b[0m",
      "\u001b[1;31mNameError\u001b[0m: name 'Image' is not defined"
     ]
    }
   ],
   "source": [
    "# BS.find('table',class_='borderless').find('img',alt='PHOTO')['src']\n",
    "from io import BytesIO\n",
    "# urllib.request.urlretrieve(BS.find('table',class_='borderless').find('img',alt='PHOTO')['src'])\n",
    "Image(BytesIO(urllib.request.urlopen(BS.find('table',class_='borderless').find('img',alt='PHOTO')['src']).read()))"
   ]
  },
  {
   "cell_type": "code",
   "execution_count": null,
   "id": "4a5a70f2",
   "metadata": {},
   "outputs": [],
   "source": []
  }
 ],
 "metadata": {
  "hide_input": false,
  "kernelspec": {
   "display_name": "Python 3 (ipykernel)",
   "language": "python",
   "name": "python3"
  },
  "language_info": {
   "codemirror_mode": {
    "name": "ipython",
    "version": 3
   },
   "file_extension": ".py",
   "mimetype": "text/x-python",
   "name": "python",
   "nbconvert_exporter": "python",
   "pygments_lexer": "ipython3",
   "version": "3.9.7"
  },
  "nbTranslate": {
   "displayLangs": [
    "*"
   ],
   "hotkey": "alt-t",
   "langInMainMenu": true,
   "sourceLang": "en",
   "targetLang": "fr",
   "useGoogleTranslate": true
  },
  "varInspector": {
   "cols": {
    "lenName": 16,
    "lenType": 16,
    "lenVar": 40
   },
   "kernels_config": {
    "python": {
     "delete_cmd_postfix": "",
     "delete_cmd_prefix": "del ",
     "library": "var_list.py",
     "varRefreshCmd": "print(var_dic_list())"
    },
    "r": {
     "delete_cmd_postfix": ") ",
     "delete_cmd_prefix": "rm(",
     "library": "var_list.r",
     "varRefreshCmd": "cat(var_dic_list()) "
    }
   },
   "types_to_exclude": [
    "module",
    "function",
    "builtin_function_or_method",
    "instance",
    "_Feature"
   ],
   "window_display": false
  }
 },
 "nbformat": 4,
 "nbformat_minor": 5
}
