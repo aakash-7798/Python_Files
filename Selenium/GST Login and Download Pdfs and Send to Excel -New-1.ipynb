{
 "cells": [
  {
   "cell_type": "code",
   "execution_count": 1,
   "id": "77ac8a23",
   "metadata": {
    "ExecuteTime": {
     "end_time": "2022-05-22T06:26:17.909002Z",
     "start_time": "2022-05-22T06:26:15.690076Z"
    }
   },
   "outputs": [],
   "source": [
    "from selenium import webdriver\n",
    "from selenium.webdriver.common.keys import Keys\n",
    "from webdriver_manager.chrome import ChromeDriverManager\n",
    "from getpass import getpass\n",
    "from selenium.webdriver.chrome.options import Options\n",
    "import chromedriver_autoinstaller as chromedriver\n",
    "chromedriver.install()\n",
    "import time\n",
    "import calendar\n",
    "from selenium.common.exceptions import NoSuchElementException\n",
    "import os\n",
    "# https://stackoverflow.com/questions/69875125/find-element-by-commands-are-deprecated-in-selenium"
   ]
  },
  {
   "cell_type": "code",
   "execution_count": 2,
   "id": "e4673f95",
   "metadata": {
    "ExecuteTime": {
     "end_time": "2022-05-22T06:26:38.660012Z",
     "start_time": "2022-05-22T06:26:21.910054Z"
    }
   },
   "outputs": [],
   "source": [
    "import pdfplumber\n",
    "import pandas as pd\n",
    "import string\n",
    "from IPython.display import display\n",
    "from tabulate import tabulate\n",
    "import os\n",
    "from openpyxl import load_workbook\n",
    "from openpyxl.styles.alignment import Alignment\n",
    "from openpyxl.styles import Alignment\n",
    "import openpyxl\n",
    "import xlwings as xw\n",
    "import datetime\n",
    "import calendar\n",
    "import shutil\n",
    "# !pip3 install openpyxl==2.5.14 "
   ]
  },
  {
   "cell_type": "code",
   "execution_count": 3,
   "id": "288efe3d",
   "metadata": {
    "ExecuteTime": {
     "end_time": "2022-05-22T06:26:38.691589Z",
     "start_time": "2022-05-22T06:26:38.680531Z"
    }
   },
   "outputs": [],
   "source": [
    "options = Options()\n",
    "options.add_argument('start-maximized')\n",
    "options.add_argument('disable-infobars')"
   ]
  },
  {
   "cell_type": "code",
   "execution_count": 21,
   "id": "008964a4",
   "metadata": {
    "ExecuteTime": {
     "end_time": "2022-05-22T06:48:00.720290Z",
     "start_time": "2022-05-22T06:47:51.090360Z"
    }
   },
   "outputs": [
    {
     "name": "stdout",
     "output_type": "stream",
     "text": [
      "Enter Username : nadupallisriniv\n",
      "Enter Password : ········\n"
     ]
    }
   ],
   "source": [
    "# username = pagepvtltd_2017\n",
    "# password = 'Srinivas@369'\n",
    "username = input(\"Enter Username : \")\n",
    "password = getpass(\"Enter Password : \")"
   ]
  },
  {
   "cell_type": "code",
   "execution_count": 22,
   "id": "ce255fb9",
   "metadata": {
    "ExecuteTime": {
     "end_time": "2022-05-22T06:48:02.986501Z",
     "start_time": "2022-05-22T06:48:02.971532Z"
    }
   },
   "outputs": [],
   "source": [
    "newpath = r\"E:\\{}\\GSTR-3B_PDFs\".format(username) \n",
    "if not os.path.exists(newpath):\n",
    "    os.makedirs(newpath)\n",
    "options.add_experimental_option(\"prefs\",{\"download.default_directory\":newpath})"
   ]
  },
  {
   "cell_type": "code",
   "execution_count": 23,
   "id": "c2dd4b9f",
   "metadata": {
    "ExecuteTime": {
     "end_time": "2022-05-22T06:48:51.625837Z",
     "start_time": "2022-05-22T06:48:04.633094Z"
    }
   },
   "outputs": [
    {
     "name": "stderr",
     "output_type": "stream",
     "text": [
      "C:\\Users\\aakas\\AppData\\Local\\Temp/ipykernel_8592/1902087080.py:1: DeprecationWarning: executable_path has been deprecated, please pass in a Service object\n",
      "  Driver = webdriver.Chrome(chrome_options=options,executable_path='C:\\\\Users\\\\aakas\\\\anaconda3\\\\lib\\\\site-packages\\\\chromedriver_autoinstaller\\\\101\\\\chromedriver.exe')\n",
      "C:\\Users\\aakas\\AppData\\Local\\Temp/ipykernel_8592/1902087080.py:1: DeprecationWarning: use options instead of chrome_options\n",
      "  Driver = webdriver.Chrome(chrome_options=options,executable_path='C:\\\\Users\\\\aakas\\\\anaconda3\\\\lib\\\\site-packages\\\\chromedriver_autoinstaller\\\\101\\\\chromedriver.exe')\n",
      "C:\\Users\\aakas\\AppData\\Local\\Temp/ipykernel_8592/1902087080.py:4: DeprecationWarning: find_element_by_* commands are deprecated. Please use find_element() instead\n",
      "  Driver.find_element_by_xpath(\"//a[contains(text(),' Login')]\").click()\n",
      "C:\\Users\\aakas\\AppData\\Local\\Temp/ipykernel_8592/1902087080.py:6: DeprecationWarning: find_element_by_* commands are deprecated. Please use find_element() instead\n",
      "  Driver.find_element_by_id(\"username\").send_keys(username)\n",
      "C:\\Users\\aakas\\AppData\\Local\\Temp/ipykernel_8592/1902087080.py:8: DeprecationWarning: find_element_by_* commands are deprecated. Please use find_element() instead\n",
      "  Driver.find_element_by_id(\"user_pass\").send_keys(password)\n",
      "C:\\Users\\aakas\\AppData\\Local\\Temp/ipykernel_8592/1902087080.py:10: DeprecationWarning: find_element_by_* commands are deprecated. Please use find_element() instead\n",
      "  Driver.find_element_by_xpath('//button[normalize-space()=\"Login\"]').click()\n",
      "C:\\Users\\aakas\\AppData\\Local\\Temp/ipykernel_8592/1902087080.py:12: DeprecationWarning: find_element_by_* commands are deprecated. Please use find_element() instead\n",
      "  Driver.find_element_by_xpath(\"//a[contains(text(),'Remind me later')]\").click()\n",
      "C:\\Users\\aakas\\AppData\\Local\\Temp/ipykernel_8592/1902087080.py:14: DeprecationWarning: find_element_by_* commands are deprecated. Please use find_element() instead\n",
      "  Driver.find_element_by_xpath(\"//span[text()='Continue to Dashboard']\").click()\n",
      "C:\\Users\\aakas\\AppData\\Local\\Temp/ipykernel_8592/1902087080.py:16: DeprecationWarning: find_element_by_* commands are deprecated. Please use find_element() instead\n",
      "  Driver.find_element_by_xpath(\".//div[contains(@id,'main')]//a[contains(text(),'Services ')]\").click()\n",
      "C:\\Users\\aakas\\AppData\\Local\\Temp/ipykernel_8592/1902087080.py:18: DeprecationWarning: find_element_by_* commands are deprecated. Please use find_element() instead\n",
      "  Driver.find_element_by_xpath(\"//a[contains(text(),'Returns')]\").click()\n",
      "C:\\Users\\aakas\\AppData\\Local\\Temp/ipykernel_8592/1902087080.py:20: DeprecationWarning: find_element_by_* commands are deprecated. Please use find_element() instead\n",
      "  Driver.find_element_by_xpath(\"//div[@class='col-xs-12']//a[contains(text(),'Returns Dashboard')]\").click()\n"
     ]
    }
   ],
   "source": [
    "Driver = webdriver.Chrome(chrome_options=options,executable_path='C:\\\\Users\\\\aaas\\\\anaconda3\\\\lib\\\\site-packages\\\\chromedriver_autoinstaller\\\\101\\\\chromedriver.exe') \n",
    "Driver.get('https://www.gst.gov.in/')\n",
    "time.sleep(1)\n",
    "Driver.find_element_by_xpath(\"//a[contains(text(),' Login')]\").click()\n",
    "time.sleep(1)\n",
    "Driver.find_element_by_id(\"username\").send_keys(username)\n",
    "time.sleep(1)\n",
    "Driver.find_element_by_id(\"user_pass\").send_keys(password)\n",
    "time.sleep(10)\n",
    "Driver.find_element_by_xpath('//button[normalize-space()=\"Login\"]').click()\n",
    "time.sleep(1)\n",
    "Driver.find_element_by_xpath(\"//a[contains(text(),'Remind me later')]\").click()\n",
    "time.sleep(4)\n",
    "Driver.find_element_by_xpath(\"//span[text()='Continue to Dashboard']\").click()\n",
    "time.sleep(4)\n",
    "Driver.find_element_by_xpath(\".//div[contains(@id,'main')]//a[contains(text(),'Services ')]\").click()\n",
    "time.sleep(5)\n",
    "Driver.find_element_by_xpath(\"//a[contains(text(),'Returns')]\").click()\n",
    "time.sleep(5)\n",
    "Driver.find_element_by_xpath(\"//div[@class='col-xs-12']//a[contains(text(),'Returns Dashboard')]\").click()"
   ]
  },
  {
   "cell_type": "code",
   "execution_count": 96,
   "id": "e461bf5d",
   "metadata": {
    "ExecuteTime": {
     "end_time": "2022-05-21T09:51:14.533849Z",
     "start_time": "2022-05-21T09:51:14.518439Z"
    }
   },
   "outputs": [],
   "source": [
    "# Driver.find_element_by_xpath('.//div[contains(@class,\"hd\")]//p[contains(text(),\"GSTR-3B\")]').click()\n",
    "# Driver.find_element_by_xpath('.//div[contains(@class,\"hd\")]//p[contains(normalize-space(),\"3.1 Tax on outward and reverse charge inward supplies\")]').click()                            \n",
    "# Driver.find_element_by_xpath('.//div[contains(@class,\"modal-footer\")]//button[contains(normalize-space(),\"OK\")]').click()\n",
    "# Driver.find_element_by_xpath('.//div[contains(@class,\"table-responsive\")]//table').text"
   ]
  },
  {
   "cell_type": "code",
   "execution_count": 25,
   "id": "32f869d5",
   "metadata": {
    "ExecuteTime": {
     "end_time": "2022-05-22T06:51:18.507360Z",
     "start_time": "2022-05-22T06:50:45.895490Z"
    }
   },
   "outputs": [
    {
     "name": "stdout",
     "output_type": "stream",
     "text": [
      "Enter Financial Year :    (for Eg:2017-18)2021-22\n"
     ]
    },
    {
     "name": "stderr",
     "output_type": "stream",
     "text": [
      "C:\\Users\\aakas\\AppData\\Local\\Temp/ipykernel_8592/3822367231.py:16: DeprecationWarning: find_element_by_* commands are deprecated. Please use find_element() instead\n",
      "  Driver.find_element_by_xpath(f\"//select[@name='fin']/option[text()='{i}']\").click()\n",
      "C:\\Users\\aakas\\AppData\\Local\\Temp/ipykernel_8592/3822367231.py:17: DeprecationWarning: find_element_by_* commands are deprecated. Please use find_element() instead\n",
      "  Quarters = Driver.find_element_by_name('quarter').text.split('\\n')\n",
      "C:\\Users\\aakas\\AppData\\Local\\Temp/ipykernel_8592/3822367231.py:19: DeprecationWarning: find_element_by_* commands are deprecated. Please use find_element() instead\n",
      "  Driver.find_element_by_xpath(f\"//select[@name='quarter']/option[text()='{q}']\").click()\n",
      "C:\\Users\\aakas\\AppData\\Local\\Temp/ipykernel_8592/3822367231.py:20: DeprecationWarning: find_element_by_* commands are deprecated. Please use find_element() instead\n",
      "  Months = Driver.find_element_by_name('mon').text.split('\\n')\n",
      "C:\\Users\\aakas\\AppData\\Local\\Temp/ipykernel_8592/3822367231.py:22: DeprecationWarning: find_element_by_* commands are deprecated. Please use find_element() instead\n",
      "  Driver.find_element_by_xpath(f\"//select[@name='mon']/option[text()='{m}']\").click()\n",
      "C:\\Users\\aakas\\AppData\\Local\\Temp/ipykernel_8592/3822367231.py:24: DeprecationWarning: find_element_by_* commands are deprecated. Please use find_element() instead\n",
      "  Driver.find_element_by_xpath(\".//div[contains(@class,'col-sm-3 col-xs-12')]//button[normalize-space()='Search']\").click()\n",
      "C:\\Users\\aakas\\AppData\\Local\\Temp/ipykernel_8592/3822367231.py:27: DeprecationWarning: find_element_by_* commands are deprecated. Please use find_element() instead\n",
      "  Driver.find_element_by_xpath(\".//div[contains(@class,'col-sm-6 col-xs-6')]//button[normalize-space()='Download']\").click()\n"
     ]
    },
    {
     "name": "stdout",
     "output_type": "stream",
     "text": [
      "Not present....continuing script\n",
      "Not present....continuing script\n",
      "Not present....continuing script\n",
      "Not present....continuing script\n",
      "Not present....continuing script\n",
      "Not present....continuing script\n",
      "Not present....continuing script\n",
      "Not present....continuing script\n"
     ]
    }
   ],
   "source": [
    "f=[input(\"Enter Financial Year :    (for Eg:2017-18)\")]\n",
    "for i in f:\n",
    "    if i in ['2017-18','2018-19','2019-20']:\n",
    "        Driver.find_element_by_xpath(f\"//select[@name='fin']/option[text()='{i}']\").click()\n",
    "        Months = Driver.find_element_by_name('mon').text.split('\\n')\n",
    "        for m in Months:\n",
    "            Driver.find_element_by_xpath(f\"//select[@name='mon']/option[text()='{m}']\").click()\n",
    "            time.sleep(1)\n",
    "            Driver.find_element_by_xpath(\".//div[contains(@class,'col-sm-3 col-xs-12')]//button[normalize-space()='Search']\").click()\n",
    "            try:\n",
    "                time.sleep(1)\n",
    "                Driver.find_element_by_xpath(\".//div[contains(@class,'col-sm-6 col-xs-6')]//button[normalize-space()='Download']\").click()\n",
    "            except NoSuchElementException:\n",
    "                print(\" Not present....continuing script\")\n",
    "    else:\n",
    "        Driver.find_element_by_xpath(f\"//select[@name='fin']/option[text()='{i}']\").click()\n",
    "        Quarters = Driver.find_element_by_name('quarter').text.split('\\n')\n",
    "        for q in Quarters:\n",
    "            Driver.find_element_by_xpath(f\"//select[@name='quarter']/option[text()='{q}']\").click()\n",
    "            Months = Driver.find_element_by_name('mon').text.split('\\n')\n",
    "            for m in Months:\n",
    "                Driver.find_element_by_xpath(f\"//select[@name='mon']/option[text()='{m}']\").click()\n",
    "                time.sleep(1)\n",
    "                Driver.find_element_by_xpath(\".//div[contains(@class,'col-sm-3 col-xs-12')]//button[normalize-space()='Search']\").click()\n",
    "                try:\n",
    "                    time.sleep(1)\n",
    "                    Driver.find_element_by_xpath(\".//div[contains(@class,'col-sm-6 col-xs-6')]//button[normalize-space()='Download']\").click()\n",
    "                except NoSuchElementException:\n",
    "                    print(\"Not present....continuing script\")\n",
    "# time.sleep(1)\n",
    "# Driver.find_element_by_class_name(\"dropdown-toggle\").click()\n",
    "# time.sleep(1)\n",
    "# Driver.find_element_by_xpath(\"//a[@href='//services.gst.gov.in/services/logout']\").click()\n",
    "# time.sleep(2)\n",
    "# Driver.close()                    "
   ]
  },
  {
   "cell_type": "code",
   "execution_count": 30,
   "id": "b5712653",
   "metadata": {
    "ExecuteTime": {
     "end_time": "2022-05-22T06:56:38.070407Z",
     "start_time": "2022-05-22T06:56:38.053424Z"
    }
   },
   "outputs": [
    {
     "data": {
      "text/plain": [
       "'E:\\\\nadupallisriniv\\\\GSTR-3B_PDFs'"
      ]
     },
     "execution_count": 30,
     "metadata": {},
     "output_type": "execute_result"
    }
   ],
   "source": [
    "my_path = newpath\n",
    "os.chdir(my_path)\n",
    "os.getcwd()"
   ]
  },
  {
   "cell_type": "code",
   "execution_count": 31,
   "id": "a966bb25",
   "metadata": {
    "ExecuteTime": {
     "end_time": "2022-05-22T06:56:40.304790Z",
     "start_time": "2022-05-22T06:56:40.290795Z"
    },
    "scrolled": true
   },
   "outputs": [
    {
     "data": {
      "text/plain": [
       "['GSTR3B_36ACBPN8071B1ZT_062021.pdf',\n",
       " 'GSTR3B_36ACBPN8071B1ZT_092021.pdf',\n",
       " 'GSTR3B_36ACBPN8071B1ZT_122021.pdf',\n",
       " 'GSTR3B_36ACBPN8071B1ZT_032022.pdf']"
      ]
     },
     "execution_count": 31,
     "metadata": {},
     "output_type": "execute_result"
    }
   ],
   "source": [
    "All_files = sorted(filter(os.path.isfile, os.listdir('.')), key=os.path.getmtime)\n",
    "All_files"
   ]
  },
  {
   "cell_type": "code",
   "execution_count": 10,
   "id": "e3f6cedb",
   "metadata": {
    "ExecuteTime": {
     "end_time": "2022-05-21T10:31:52.411885Z",
     "start_time": "2022-05-21T10:31:43.216901Z"
    }
   },
   "outputs": [],
   "source": [
    "# YearandMonths = {}\n",
    "# replacers = {f'{i}\\n':'' for i in string.ascii_letters}\n",
    "# replacers.update({\"\\n\":\"\",None:\" \"})\n",
    "# for f in All_files:\n",
    "#     pdf = pdfplumber.open(f)\n",
    "#     first_page = pdf.pages[0]\n",
    "#     All_Tables = first_page.extract_tables()\n",
    "#     Details3_1 = pd.DataFrame(columns=[i.replace(\"\\n\",\" \") for i in All_Tables[2][0]])\n",
    "#     for i in range(len(All_Tables[2][1:])):\n",
    "#         Details3_1.loc[i] = All_Tables[2][1:][i]\n",
    "#     Details3_1 = Details3_1.replace(replacers,regex=True)\n",
    "#     values = {}\n",
    "#     for i in range(len(Details3_1.columns[1:-1])):\n",
    "#         values[Details3_1.columns[1:-1][i]] = float(Details3_1[Details3_1.columns[1:-1][i]][0])\n",
    "#     values\n",
    "#     YearandMonths.setdefault(All_Tables[0][0][1], {})\n",
    "#     YearandMonths[All_Tables[0][0][1]][All_Tables[0][1][1]] = values"
   ]
  },
  {
   "cell_type": "code",
   "execution_count": 32,
   "id": "7a9d4189",
   "metadata": {
    "ExecuteTime": {
     "end_time": "2022-05-22T06:56:50.659095Z",
     "start_time": "2022-05-22T06:56:47.149848Z"
    }
   },
   "outputs": [],
   "source": [
    "YearandMonths = {}\n",
    "replacers = {f'{i}\\n':'' for i in string.ascii_letters}\n",
    "replacers.update({\"\\n\":\"\",None:\" \"})\n",
    "for f in All_files:\n",
    "    pdf = pdfplumber.open(f)\n",
    "    first_page = pdf.pages[0]\n",
    "    second_page = pdf.pages[1]\n",
    "    All_Tables = first_page.extract_tables()\n",
    "    All_Tables1 = second_page.extract_tables()\n",
    "    Details3_1 = pd.DataFrame(columns=[i.replace(\"\\n\",\" \") for i in All_Tables[2][0]])\n",
    "    for i in range(len(All_Tables[2][1:])):\n",
    "        Details3_1.loc[i] = All_Tables[2][1:][i]\n",
    "    Details3_1 = Details3_1.replace(replacers,regex=True)\n",
    "    OIS = {}\n",
    "    OIS.setdefault('3a_Outward_Inward_Supply', {})\n",
    "    for sales in range(len(Details3_1.columns[1:-1])):\n",
    "        if sales==0:\n",
    "            ttv = list(Details3_1['Total taxable  value'])\n",
    "            OIS['3a_Outward_Inward_Supply'][Details3_1.columns[1:-1][sales]] = float(float(ttv[0])+float(ttv[2]))\n",
    "        else:\n",
    "            OIS['3a_Outward_Inward_Supply'][Details3_1.columns[1:-1][sales]] = float(Details3_1[Details3_1.columns[1:-1][sales]][0])            \n",
    "    EligibleITC = pd.DataFrame(columns=[i.replace(\"\\n\",\" \") for i in All_Tables[4][0]])\n",
    "    for i in range(len(All_Tables[4][1:])):\n",
    "        EligibleITC.loc[i] = All_Tables[4][1:][i]\n",
    "    EligibleITC = EligibleITC.replace(replacers,regex=True)\n",
    "    E_ITC = {}\n",
    "    E_ITC.setdefault('Eligible_ITC', {})\n",
    "    for purch in range(len(EligibleITC.columns[1:4])):\n",
    "        E_ITC['Eligible_ITC'][EligibleITC.columns[1:4][purch]] = list(EligibleITC.iloc[[5]].transpose()[5])[1:-1][purch]\n",
    "    LateFee_Interest = pd.DataFrame(columns=[i.replace(\"\\n\",\" \") for i in All_Tables1[1][0]])\n",
    "    for i in range(len(All_Tables1[1][1:])):\n",
    "        LateFee_Interest.loc[i] = All_Tables1[1][1:][i]\n",
    "    LateFee_Interest = LateFee_Interest.replace(replacers,regex=True)\n",
    "    LI = {}\n",
    "    LI.setdefault('Late_Fee', {})\n",
    "    for li in ['Late_Fee']:\n",
    "        LI['Late_Fee'][li] = float(list(LateFee_Interest.iloc[2])[2:-1][0])+float(list(LateFee_Interest.iloc[2])[2:-1][1])\n",
    "    Intr = {}\n",
    "    Intr.setdefault('Interest', {})\n",
    "    for li in ['Interest']:\n",
    "        Intr['Interest'][li] = float(list(LateFee_Interest.iloc[1])[2:-1][0])+float(list(LateFee_Interest.iloc[1])[2:-1][1])\n",
    "    PaymentOfTax = pd.DataFrame(columns=['Description','Total Tax Payable (₹) ','Tax paid through ITC (₹) Intergrated Tax',\n",
    "       'Tax paid through ITC (₹) Central Tax','Tax paid through ITC (₹) State/UT Tax',\n",
    "       'Tax paid through ITC (₹) Cess',\n",
    "       'Tax paid in cash (₹) ','Interest paid in cash (₹)','Late fee paid in cash (₹)'])\n",
    "    for i in range(len(All_Tables1[2][2:])):\n",
    "        PaymentOfTax.loc[i] = All_Tables1[2][2:][i]\n",
    "    PaymentOfTax = PaymentOfTax.replace(replacers,regex=True)\n",
    "    POT = {}\n",
    "    POT.setdefault(\"PaymentOfTax\",{})\n",
    "    for pot in range(len(list(PaymentOfTax.iloc[1:4,0]))):\n",
    "        POT[\"PaymentOfTax\"][list(PaymentOfTax.iloc[1:4,0])[pot]] = list(PaymentOfTax.iloc[1:4,6])[pot]\n",
    "    POT\n",
    "    All_Dict = {}\n",
    "    for i in [E_ITC,OIS,LI,POT,Intr]:\n",
    "        All_Dict.update(i)\n",
    "    All_Dict\n",
    "    YearandMonths.setdefault(All_Tables[0][0][1], {})\n",
    "    YearandMonths[All_Tables[0][0][1]][All_Tables[0][1][1]] = All_Dict\n",
    "# YearandMonths"
   ]
  },
  {
   "cell_type": "code",
   "execution_count": 34,
   "id": "5f884bc3",
   "metadata": {
    "ExecuteTime": {
     "end_time": "2022-05-22T06:57:16.235130Z",
     "start_time": "2022-05-22T06:57:16.223158Z"
    }
   },
   "outputs": [
    {
     "data": {
      "text/plain": [
       "dict_keys(['Apr-Jun', 'Jul-Sep', 'Oct-Dec', 'Jan-Mar'])"
      ]
     },
     "execution_count": 34,
     "metadata": {},
     "output_type": "execute_result"
    }
   ],
   "source": [
    "YearandMonths['2021-22'].keys()"
   ]
  },
  {
   "cell_type": "code",
   "execution_count": 30,
   "id": "a214ab98",
   "metadata": {
    "ExecuteTime": {
     "end_time": "2022-05-21T08:15:40.266438Z",
     "start_time": "2022-05-21T08:15:40.258458Z"
    }
   },
   "outputs": [],
   "source": [
    "# datetime.datetime.strptime(,\"%b\")\n",
    "# list(YearandMonths[\"2021-22\"])[0]"
   ]
  },
  {
   "cell_type": "code",
   "execution_count": 12,
   "id": "0c99a8a5",
   "metadata": {
    "ExecuteTime": {
     "end_time": "2022-05-21T10:32:00.988713Z",
     "start_time": "2022-05-21T10:32:00.967771Z"
    }
   },
   "outputs": [
    {
     "data": {
      "text/plain": [
       "'E:\\\\pagepvtltd_2017\\\\Financial_Years_Excel_Files\\\\GST_FY_Format_copy.xlsx'"
      ]
     },
     "execution_count": 12,
     "metadata": {},
     "output_type": "execute_result"
    }
   ],
   "source": [
    "os.mkdir(\"E:\\\\{}\\\\Financial_Years_Excel_Files\".format(username))\n",
    "shutil.copy(\"E:\\GST_FY_Format_copy.xlsx\", \"E:\\\\{}\\\\Financial_Years_Excel_Files\".format(username))"
   ]
  },
  {
   "cell_type": "code",
   "execution_count": 13,
   "id": "32410e4c",
   "metadata": {
    "ExecuteTime": {
     "end_time": "2022-05-21T10:32:09.620111Z",
     "start_time": "2022-05-21T10:32:02.994416Z"
    }
   },
   "outputs": [],
   "source": [
    "for y in list(YearandMonths.keys()):\n",
    "    df =   xw.Book('E:\\\\{}\\\\Financial_Years_Excel_Files\\\\GST_FY_Format_copy.xlsx'.format(username))\n",
    "    excel_app = xw.apps.active\n",
    "    sn = df.sheets[0]\n",
    "    sn.name = 'GST_FY_{}'.format(y)\n",
    "    sn.range('A1').value = \"{}\".format(username)\n",
    "    sn['A2'].value = \"GST  STATEMENT FOR THE PERIOD OF 01-04-{} TO 31-03-20{} GSTR 3B\".format(y[0:4],y[5:])\n",
    "    sn.range('I8').value = \"OUTPUT TAXABLE VALUE\"\n",
    "    sn.range('K8').value = \"IGST\"\n",
    "    sn.range('L8').value = \"CGST\"\n",
    "    sn.range('M8').value = \"SGST\"\n",
    "    for clmns in ['I','K','L','M']:\n",
    "        for numbs in range(11,23):\n",
    "            jn = ''.join([clmns,str(numbs)])\n",
    "            sn.range(jn).value = float(0.0)\n",
    "    for j in list(YearandMonths[y].keys()):\n",
    "        if j in [\"(Apr-Jun)\",\"(Jul-Sep)\",\"(Oct-Dec)\",\"(Jan-Mar)\"]:\n",
    "            for s in range(1,30):\n",
    "                dto = datetime.datetime.strptime(j[4:],\"%b\")\n",
    "                cmn = calendar.month_name[dto.month]\n",
    "                if  cmn == sn.range(s,1).value:\n",
    "                    for (k,m) in zip(['I','K','L','M'],list(YearandMonths[y][j].values())):\n",
    "                        cb = ''.join([k,sn.range(s,1).address.replace('$','')[1:]])\n",
    "                        sn.range(cb).value = m\n",
    "        else:\n",
    "            for s in range(1,30):\n",
    "                if j == (sn.range(s,1).value):\n",
    "                    for (k,m) in zip(['I','K','L','M'],list(YearandMonths[y][j].values())):\n",
    "                        cb = ''.join([k,sn.range(s,1).address.replace('$','')[1:]])\n",
    "                        sn.range(cb).value = m\n",
    "    df.save('E:\\\\{}\\\\Financial_Years_Excel_Files\\\\GST_FY_{}.xlsx'.format(username,y))\n",
    "    excel_app.quit()"
   ]
  },
  {
   "cell_type": "code",
   "execution_count": null,
   "id": "574fb679",
   "metadata": {},
   "outputs": [],
   "source": [
    "# for j in list(YearandMonths['2021-22'].keys()):\n",
    "#     if j in [\"(Apr-Jun)\",\"(Jul-Sep)\",\"(Oct-Dec)\",\"(Jan-Mar)\"]:\n",
    "#         for s in range(1,30):\n",
    "#             dto = datetime.datetime.strptime(j[4:],\"%b\")\n",
    "#             cmn = calendar.month_name[dto.month]\n",
    "#             if cmn == (sn.range(s,1).value):\n",
    "#                 xl_values = []\n",
    "#                 for ixc in list(YearandMonths['2021-22'][j].keys()):\n",
    "#                     for jcd in list(YearandMonths['2021-22'][j][ixc].values()):\n",
    "#                         xl_values.append(jcd)\n",
    "#                 for (xuv,suv) in zip(['D','E','F','I','K','L','M','T','U','V','W','X'],xl_values):\n",
    "#                     cb = ''.join([xuv,sn.range(s,1).address.replace('$','')[1:]])\n",
    "#                     sn.range(cb).value = suv"
   ]
  },
  {
   "cell_type": "code",
   "execution_count": 17,
   "id": "498f3c27",
   "metadata": {
    "ExecuteTime": {
     "end_time": "2022-05-21T12:45:45.209623Z",
     "start_time": "2022-05-21T12:45:45.194664Z"
    }
   },
   "outputs": [
    {
     "data": {
      "text/plain": [
       "'GSTR3B_36AACCP0932H2ZM_122018.pdf'"
      ]
     },
     "execution_count": 17,
     "metadata": {},
     "output_type": "execute_result"
    }
   ],
   "source": [
    "All_files[-4]"
   ]
  },
  {
   "cell_type": "code",
   "execution_count": 36,
   "id": "d4003823",
   "metadata": {
    "ExecuteTime": {
     "end_time": "2022-05-22T07:01:46.751379Z",
     "start_time": "2022-05-22T07:01:43.860482Z"
    }
   },
   "outputs": [],
   "source": [
    "df =   xw.Book('E:\\\\GST_FY_Format_copy.xlsx')\n",
    "sn = df.sheets[0]\n",
    "sn.name = 'GST_FY_2021-22'\n",
    "sn.range('A1').value = \"{}\".format(username)\n",
    "sn['A2'].value = \"GST  STATEMENT FOR THE PERIOD OF 01-04-2021 TO 31-03-2022 GSTR 3B\"\n",
    "sn['X8'].value = 'INTEREST'\n",
    "sn.range('X8').font.bold = True\n",
    "sn.range('X8').font.size = 12"
   ]
  },
  {
   "cell_type": "code",
   "execution_count": 37,
   "id": "b2246a0e",
   "metadata": {
    "ExecuteTime": {
     "end_time": "2022-05-22T07:02:13.526415Z",
     "start_time": "2022-05-22T07:02:13.481536Z"
    }
   },
   "outputs": [],
   "source": [
    "for (i,j)in zip(['D','E','F','K','L','M','U','V','W'],['IGST','CGST','SGST'] * 3):\n",
    "    sn.range('{}8'.format(i)).value = '{}'.format(j)\n",
    "sn.range('T8').value = 'LATE_FEE'"
   ]
  },
  {
   "cell_type": "code",
   "execution_count": 38,
   "id": "5c375f00",
   "metadata": {
    "ExecuteTime": {
     "end_time": "2022-05-22T07:02:34.329640Z",
     "start_time": "2022-05-22T07:02:34.051555Z"
    }
   },
   "outputs": [],
   "source": [
    "for clmns in ['D','E','F','I','K','L','M','T','U','V','W','X']:\n",
    "        for numbs in range(11,23):\n",
    "            jn = ''.join([clmns,str(numbs)])\n",
    "            sn.range(jn).value = float(0.0)"
   ]
  },
  {
   "cell_type": "code",
   "execution_count": 35,
   "id": "a0e98be0",
   "metadata": {
    "ExecuteTime": {
     "end_time": "2022-05-22T07:01:22.810514Z",
     "start_time": "2022-05-22T07:01:22.788604Z"
    }
   },
   "outputs": [
    {
     "data": {
      "text/plain": [
       "{'Apr-Jun': {'Eligible_ITC': {'Integrated tax': '0.00',\n",
       "   'Central tax': '31823.31',\n",
       "   'State/UT tax': '31823.31'},\n",
       "  '3a_Outward_Inward_Supply': {'Total taxable  value': 1013600.0,\n",
       "   'D Integrated  tax': 0.0,\n",
       "   'Central  tax': 7777.8,\n",
       "   'State/UT  tax': 7777.8},\n",
       "  'Late_Fee': {'Late_Fee': 0.0},\n",
       "  'PaymentOfTax': {'Integrated tax': '0.00',\n",
       "   'Central tax': '0.00',\n",
       "   'State/UT tax': '0.00'},\n",
       "  'Interest': {'Interest': 0.0}},\n",
       " 'Jul-Sep': {'Eligible_ITC': {'Integrated tax': '267.84',\n",
       "   'Central tax': '18981.84',\n",
       "   'State/UT tax': '18981.84'},\n",
       "  '3a_Outward_Inward_Supply': {'Total taxable  value': 1221990.0,\n",
       "   'D Integrated  tax': 0.0,\n",
       "   'Central  tax': 12225.6,\n",
       "   'State/UT  tax': 12225.6},\n",
       "  'Late_Fee': {'Late_Fee': 0.0},\n",
       "  'PaymentOfTax': {'Integrated tax': '0.00',\n",
       "   'Central tax': '0.00',\n",
       "   'State/UT tax': '0.00'},\n",
       "  'Interest': {'Interest': 0.0}},\n",
       " 'Oct-Dec': {'Eligible_ITC': {'Integrated tax': '0.00',\n",
       "   'Central tax': '0.00',\n",
       "   'State/UT tax': '0.00'},\n",
       "  '3a_Outward_Inward_Supply': {'Total taxable  value': 1841470.0,\n",
       "   'D Integrated  tax': 0.0,\n",
       "   'Central  tax': 16428.0,\n",
       "   'State/UT  tax': 16428.0},\n",
       "  'Late_Fee': {'Late_Fee': 0.0},\n",
       "  'PaymentOfTax': {'Integrated tax': '0.00',\n",
       "   'Central tax': '0.00',\n",
       "   'State/UT tax': '0.00'},\n",
       "  'Interest': {'Interest': 0.0}},\n",
       " 'Jan-Mar': {'Eligible_ITC': {'Integrated tax': '0.00',\n",
       "   'Central tax': '15175.79',\n",
       "   'State/UT tax': '15175.79'},\n",
       "  '3a_Outward_Inward_Supply': {'Total taxable  value': 2736594.0,\n",
       "   'D Integrated  tax': 0.0,\n",
       "   'Central  tax': 18778.86,\n",
       "   'State/UT  tax': 18778.86},\n",
       "  'Late_Fee': {'Late_Fee': 0.0},\n",
       "  'PaymentOfTax': {'Integrated tax': '0.00',\n",
       "   'Central tax': '0.00',\n",
       "   'State/UT tax': '0.00'},\n",
       "  'Interest': {'Interest': 0.0}}}"
      ]
     },
     "execution_count": 35,
     "metadata": {},
     "output_type": "execute_result"
    }
   ],
   "source": [
    "YearandMonths['2021-22']"
   ]
  },
  {
   "cell_type": "code",
   "execution_count": 48,
   "id": "cf4ef53d",
   "metadata": {
    "ExecuteTime": {
     "end_time": "2022-05-22T07:08:59.203711Z",
     "start_time": "2022-05-22T07:08:53.891969Z"
    }
   },
   "outputs": [],
   "source": [
    "df =   xw.Book('E:\\\\GST_FY_Format_copy.xlsx')\n",
    "sn = df.sheets[0]\n",
    "sn.name = 'GST_FY_2021-22'\n",
    "sn.range('A1').value = \"{}\".format(username)\n",
    "sn['A2'].value = \"GST  STATEMENT FOR THE PERIOD OF 01-04-2021 TO 31-03-2022 GSTR 3B\"\n",
    "sn['X8'].value = 'INTEREST'\n",
    "sn.range('X8').font.bold = True\n",
    "sn.range('X8').font.size = 12\n",
    "for (i,j)in zip(['D','E','F','K','L','M','U','V','W'],['IGST','CGST','SGST'] * 3):\n",
    "    sn.range('{}8'.format(i)).value = '{}'.format(j)\n",
    "sn.range('T8').value = 'LATE_FEE'\n",
    "for clmns in ['D','E','F','I','K','L','M','T','U','V','W','X']:\n",
    "        for numbs in range(11,23):\n",
    "            jn = ''.join([clmns,str(numbs)])\n",
    "            sn.range(jn).value = float(0.0)      \n",
    "for j in list(YearandMonths['2021-22'].keys()):\n",
    "    if j in [\"Apr-Jun\",\"Jul-Sep\",\"Oct-Dec\",\"Jan-Mar\"]:\n",
    "        for s in range(1,30):\n",
    "            dto = datetime.datetime.strptime(j[4:],\"%b\")\n",
    "            cmn = calendar.month_name[dto.month]\n",
    "            if cmn == (sn.range(s,1).value):\n",
    "                xl_values = []\n",
    "                for ixc in list(YearandMonths['2021-22'][j].keys()):\n",
    "                    for jcd in list(YearandMonths['2021-22'][j][ixc].values()):\n",
    "                        xl_values.append(jcd)\n",
    "                for (xuv,suv) in zip(['D','E','F','I','K','L','M','T','U','V','W','X'],xl_values):\n",
    "                    cb = ''.join([xuv,sn.range(s,1).address.replace('$','')[1:]])\n",
    "                    sn.range(cb).value = suv\n",
    "    else:\n",
    "        for s in range(1,30):\n",
    "            if j == (sn.range(s,1).value):\n",
    "                xl_values = []\n",
    "                for ixc in list(YearandMonths['2021-22'][j].keys()):\n",
    "                    for jcd in list(YearandMonths['2021-22'][j][ixc].values()):\n",
    "                        xl_values.append(jcd)\n",
    "                for (xuv,suv) in zip(['D','E','F','I','K','L','M','T','U','V','W','X'],xl_values):\n",
    "                    cb = ''.join([xuv,sn.range(s,1).address.replace('$','')[1:]])\n",
    "                    sn.range(cb).value = suv"
   ]
  },
  {
   "cell_type": "code",
   "execution_count": 42,
   "id": "4b756844",
   "metadata": {
    "ExecuteTime": {
     "end_time": "2022-05-22T07:05:35.242408Z",
     "start_time": "2022-05-22T07:05:35.224455Z"
    }
   },
   "outputs": [],
   "source": [
    "for j in list(YearandMonths['2021-22'].keys()):\n",
    "    if j in [\"(Apr-Jun)\",\"(Jul-Sep)\",\"(Oct-Dec)\",\"(Jan-Mar)\"]:\n",
    "        for s in range(1,30):\n",
    "            dto = datetime.datetime.strptime(j[4:],\"%b\")\n",
    "            cmn = calendar.month_name[dto.month]\n",
    "            if cmn == (sn.range(s,1).value):\n",
    "                xl_values = []\n",
    "                for ixc in list(YearandMonths['2021-22'][j].keys()):\n",
    "                    for jcd in list(YearandMonths['2021-22'][j][ixc].values()):\n",
    "                        xl_values.append(jcd)\n",
    "                for (xuv,suv) in zip(['D','E','F','I','K','L','M','T','U','V','W','X'],xl_values):\n",
    "                    cb = ''.join([xuv,sn.range(s,1).address.replace('$','')[1:]])\n",
    "                    sn.range(cb).value = suv"
   ]
  },
  {
   "cell_type": "code",
   "execution_count": 18,
   "id": "7b5c9367",
   "metadata": {
    "ExecuteTime": {
     "end_time": "2022-05-22T06:34:20.404055Z",
     "start_time": "2022-05-22T06:34:19.172575Z"
    }
   },
   "outputs": [],
   "source": [
    "# for j in list(YearandMonths['2021-22'].keys()):\n",
    "#     for s in range(1,30):\n",
    "#         if j == (sn.range(s,1).value):\n",
    "#             xl_values = []\n",
    "#             for ixc in list(YearandMonths['2021-22'][j].keys()):\n",
    "#                 for jcd in list(YearandMonths['2021-22'][j][ixc].values()):\n",
    "#                     xl_values.append(jcd)\n",
    "#             for (xuv,suv) in zip(['D','E','F','I','K','L','M','T','U','V','W','X'],xl_values):\n",
    "#                 cb = ''.join([xuv,sn.range(s,1).address.replace('$','')[1:]])\n",
    "#                 sn.range(cb).value = suv"
   ]
  },
  {
   "cell_type": "code",
   "execution_count": 20,
   "id": "1b30e38e",
   "metadata": {
    "ExecuteTime": {
     "end_time": "2022-05-22T06:35:20.674099Z",
     "start_time": "2022-05-22T06:35:20.653157Z"
    }
   },
   "outputs": [
    {
     "data": {
      "text/plain": [
       "{'Eligible_ITC': {'Integrated tax': '1649.00',\n",
       "  'Central tax': '5400.00',\n",
       "  'State/UT tax': '5400.00'},\n",
       " '3a_Outward_Inward_Supply': {'Total taxable  value': 3516547.0,\n",
       "  'D Integrated  tax': 0.0,\n",
       "  'Central  tax': 248989.0,\n",
       "  'State/UT  tax': 248989.0},\n",
       " 'Late_Fee': {'Late_Fee': 1000.0},\n",
       " 'PaymentOfTax': {'Integrated tax': '0.00',\n",
       "  'Central tax': '241940.00',\n",
       "  'State/UT tax': '243589.00'},\n",
       " 'Interest': {'Interest': 18436.0}}"
      ]
     },
     "execution_count": 20,
     "metadata": {},
     "output_type": "execute_result"
    }
   ],
   "source": [
    "YearandMonths['2021-22']['April']"
   ]
  },
  {
   "cell_type": "code",
   "execution_count": 60,
   "id": "04fc375d",
   "metadata": {
    "ExecuteTime": {
     "end_time": "2022-05-21T16:12:31.309765Z",
     "start_time": "2022-05-21T16:12:31.205964Z"
    }
   },
   "outputs": [
    {
     "data": {
      "text/plain": [
       "dict_values(['247.68', '2972.46', '2972.46'])"
      ]
     },
     "execution_count": 60,
     "metadata": {},
     "output_type": "execute_result"
    }
   ],
   "source": [
    "# YearandMonths['2021-22']['October']['Eligible_ITC'].values()"
   ]
  },
  {
   "cell_type": "code",
   "execution_count": null,
   "id": "cc237b98",
   "metadata": {},
   "outputs": [],
   "source": [
    "# ['D','E','F','I','K','L','M','T','U','V','W']"
   ]
  },
  {
   "cell_type": "code",
   "execution_count": 31,
   "id": "90ba37e2",
   "metadata": {
    "ExecuteTime": {
     "end_time": "2022-05-21T15:47:10.152358Z",
     "start_time": "2022-05-21T15:47:10.135406Z"
    }
   },
   "outputs": [
    {
     "name": "stdout",
     "output_type": "stream",
     "text": [
      "D8 = IGST\n",
      "E8 = CGST\n",
      "F8 = SGST\n",
      "K8 = IGST\n",
      "L8 = CGST\n",
      "M8 = SGST\n",
      "U8 = IGST\n",
      "V8 = CGST\n",
      "W8 = SGST\n"
     ]
    }
   ],
   "source": [
    "# for (i,j)in zip(['D','E','F','K','L','M','U','V','W'],['IGST','CGST','SGST'] * 3):\n",
    "#     print('{}8 = {}'.format(i,j))"
   ]
  },
  {
   "cell_type": "code",
   "execution_count": null,
   "id": "8f56c627",
   "metadata": {},
   "outputs": [],
   "source": [
    "# for s in range(1,30):\n",
    "#     if j == (sn.range(s,1).value):\n",
    "#         for (k,m) in zip(['I','K','L','M'],list(YearandMonths[y][j].values())):\n",
    "#             cb = ''.join([k,sn.range(s,1).address.replace('$','')[1:]])\n",
    "#             sn.range(cb).value = m"
   ]
  },
  {
   "cell_type": "code",
   "execution_count": 141,
   "id": "abb804a7",
   "metadata": {
    "ExecuteTime": {
     "end_time": "2022-05-21T19:14:46.472915Z",
     "start_time": "2022-05-21T19:14:46.441759Z"
    }
   },
   "outputs": [
    {
     "name": "stdout",
     "output_type": "stream",
     "text": [
      "1649.00 D8\n",
      "5400.00 E8\n",
      "5400.00 F8\n",
      "3516547.0 I8\n",
      "0.0 K8\n",
      "248989.0 L8\n",
      "248989.0 M8\n",
      "1000.0 T8\n",
      "0.00 U8\n",
      "241940.00 V8\n",
      "243589.00 W8\n",
      "18436.0 X8\n"
     ]
    }
   ],
   "source": [
    "xl_values = []\n",
    "for ixc in list(YearandMonths['2021-22'][j].keys()):\n",
    "    for jcd in list(YearandMonths['2021-22']['April'][ixc].values()):\n",
    "        xl_values.append(jcd)\n",
    "for (xuv,suv) in zip(['D','E','F','I','K','L','M','T','U','V','W','X'],range(len(xl_values))):\n",
    "    print(xl_values[suv],f'{xuv}8')\n",
    "#     print(\"*******\")"
   ]
  },
  {
   "cell_type": "code",
   "execution_count": 108,
   "id": "00ff070b",
   "metadata": {
    "ExecuteTime": {
     "end_time": "2022-05-21T18:33:22.849504Z",
     "start_time": "2022-05-21T18:33:22.839528Z"
    }
   },
   "outputs": [],
   "source": [
    "def split(arr, size):\n",
    "    arrs = []\n",
    "    while len(arr) > size:\n",
    "        pice = arr[:size]\n",
    "        arrs.append(pice)\n",
    "        arr   = arr[size:]\n",
    "        arrs.append(arr)\n",
    "        return arrs"
   ]
  },
  {
   "cell_type": "code",
   "execution_count": 152,
   "id": "49afc10c",
   "metadata": {
    "ExecuteTime": {
     "end_time": "2022-05-21T19:24:30.655051Z",
     "start_time": "2022-05-21T19:24:30.619146Z"
    }
   },
   "outputs": [
    {
     "name": "stdout",
     "output_type": "stream",
     "text": [
      "April Eligible_ITC 1649.00\n",
      "April Eligible_ITC 5400.00\n",
      "April Eligible_ITC 5400.00\n",
      "April 3a_Outward_Inward_Supply 3516547.0\n",
      "April 3a_Outward_Inward_Supply 0.0\n",
      "April 3a_Outward_Inward_Supply 248989.0\n",
      "April 3a_Outward_Inward_Supply 248989.0\n",
      "April Late_Fee 1000.0\n",
      "April PaymentOfTax 0.00\n",
      "April PaymentOfTax 241940.00\n",
      "April PaymentOfTax 243589.00\n",
      "April Interest 18436.0\n",
      "May Eligible_ITC 229.00\n",
      "May Eligible_ITC 0.00\n",
      "May Eligible_ITC 0.00\n",
      "May 3a_Outward_Inward_Supply 1435576.0\n",
      "May 3a_Outward_Inward_Supply 0.0\n",
      "May 3a_Outward_Inward_Supply 109852.0\n",
      "May 3a_Outward_Inward_Supply 109852.0\n",
      "May Late_Fee 1000.0\n",
      "May PaymentOfTax 0.00\n",
      "May PaymentOfTax 109623.00\n",
      "May PaymentOfTax 109852.00\n",
      "May Interest 4978.0\n",
      "June Eligible_ITC 808.00\n",
      "June Eligible_ITC 0.00\n",
      "June Eligible_ITC 0.00\n",
      "June 3a_Outward_Inward_Supply 2582242.0\n",
      "June 3a_Outward_Inward_Supply 0.0\n",
      "June 3a_Outward_Inward_Supply 179752.0\n",
      "June 3a_Outward_Inward_Supply 179752.0\n",
      "June Late_Fee 800.0\n",
      "June PaymentOfTax 0.00\n",
      "June PaymentOfTax 178944.00\n",
      "June PaymentOfTax 179752.00\n",
      "June Interest 2830.0\n",
      "July Eligible_ITC 966.26\n",
      "July Eligible_ITC 2237.05\n",
      "July Eligible_ITC 2237.05\n",
      "July 3a_Outward_Inward_Supply 3708281.0\n",
      "July 3a_Outward_Inward_Supply 0.0\n",
      "July 3a_Outward_Inward_Supply 182536.29\n",
      "July 3a_Outward_Inward_Supply 182536.29\n",
      "July Late_Fee 800.0\n",
      "July PaymentOfTax 0.00\n",
      "July PaymentOfTax 179333.00\n",
      "July PaymentOfTax 180299.00\n",
      "July Interest 10994.0\n",
      "August Eligible_ITC 888.21\n",
      "August Eligible_ITC 772.19\n",
      "August Eligible_ITC 772.19\n",
      "August 3a_Outward_Inward_Supply 2767094.0\n",
      "August 3a_Outward_Inward_Supply 0.0\n",
      "August 3a_Outward_Inward_Supply 148229.46\n",
      "August 3a_Outward_Inward_Supply 148229.46\n",
      "August Late_Fee 3100.0\n",
      "August PaymentOfTax 0.00\n",
      "August PaymentOfTax 146569.00\n",
      "August PaymentOfTax 147457.00\n",
      "August Interest 4494.0\n",
      "September Eligible_ITC 1434.75\n",
      "September Eligible_ITC 2139.10\n",
      "September Eligible_ITC 2139.10\n",
      "September 3a_Outward_Inward_Supply 2855046.0\n",
      "September 3a_Outward_Inward_Supply 0.0\n",
      "September 3a_Outward_Inward_Supply 147818.44\n",
      "September 3a_Outward_Inward_Supply 147818.44\n",
      "September Late_Fee 1550.0\n",
      "September PaymentOfTax 0.00\n",
      "September PaymentOfTax 144244.00\n",
      "September PaymentOfTax 145679.00\n",
      "September Interest 286.0\n",
      "October Eligible_ITC 247.68\n",
      "October Eligible_ITC 2972.46\n",
      "October Eligible_ITC 2972.46\n",
      "October 3a_Outward_Inward_Supply 1156065.0\n",
      "October 3a_Outward_Inward_Supply 0.0\n",
      "October 3a_Outward_Inward_Supply 54760.14\n",
      "October 3a_Outward_Inward_Supply 54760.14\n",
      "October Late_Fee 50.0\n",
      "October PaymentOfTax 0.00\n",
      "October PaymentOfTax 51540.00\n",
      "October PaymentOfTax 51788.00\n",
      "October Interest 3160.0\n",
      "November Eligible_ITC 1045.35\n",
      "November Eligible_ITC 1147.00\n",
      "November Eligible_ITC 1147.00\n",
      "November 3a_Outward_Inward_Supply 1627215.0\n",
      "November 3a_Outward_Inward_Supply 0.0\n",
      "November 3a_Outward_Inward_Supply 94687.47\n",
      "November 3a_Outward_Inward_Supply 94687.47\n",
      "November Late_Fee 3100.0\n",
      "November PaymentOfTax 0.00\n",
      "November PaymentOfTax 92495.00\n",
      "November PaymentOfTax 93540.00\n",
      "November Interest 2936.0\n",
      "December Eligible_ITC 1658.61\n",
      "December Eligible_ITC 0.00\n",
      "December Eligible_ITC 0.00\n",
      "December 3a_Outward_Inward_Supply 2259698.0\n",
      "December 3a_Outward_Inward_Supply 0.0\n",
      "December 3a_Outward_Inward_Supply 154394.01\n",
      "December 3a_Outward_Inward_Supply 154394.01\n",
      "December Late_Fee 1600.0\n",
      "December PaymentOfTax 0.00\n",
      "December PaymentOfTax 152735.00\n",
      "December PaymentOfTax 154394.00\n",
      "December Interest 150.0\n",
      "January Eligible_ITC 3400.00\n",
      "January Eligible_ITC 8920.00\n",
      "January Eligible_ITC 8920.00\n",
      "January 3a_Outward_Inward_Supply 6837861.0\n",
      "January 3a_Outward_Inward_Supply 0.0\n",
      "January 3a_Outward_Inward_Supply 398370.0\n",
      "January 3a_Outward_Inward_Supply 398370.0\n",
      "January Late_Fee 50.0\n",
      "January PaymentOfTax 0.00\n",
      "January PaymentOfTax 386050.00\n",
      "January PaymentOfTax 389450.00\n",
      "January Interest 6502.0\n",
      "February Eligible_ITC 172713.78\n",
      "February Eligible_ITC 8742.38\n",
      "February Eligible_ITC 8742.38\n",
      "February 3a_Outward_Inward_Supply 3178400.0\n",
      "February 3a_Outward_Inward_Supply 0.0\n",
      "February 3a_Outward_Inward_Supply 167373.14\n",
      "February 3a_Outward_Inward_Supply 167373.14\n",
      "February Late_Fee 850.0\n",
      "February PaymentOfTax 0.00\n",
      "February PaymentOfTax 0.00\n",
      "February PaymentOfTax 144548.00\n",
      "February Interest 0.0\n"
     ]
    }
   ],
   "source": [
    "xl_values =[] #  [ [] for i in range(len(list(YearandMonths['2021-22'].keys())))]  \n",
    "for i in list(YearandMonths['2021-22'].keys()):\n",
    "    for j in list(YearandMonths['2021-22'][i].keys()):\n",
    "        for k in list(YearandMonths['2021-22'][i][j].values()):\n",
    "            print(i,j,k)\n",
    "#             xl_values.append(k)\n",
    "# xl_values = split(xl_values,12)\n",
    "# xl_values"
   ]
  },
  {
   "cell_type": "code",
   "execution_count": 119,
   "id": "b04a3fd2",
   "metadata": {
    "ExecuteTime": {
     "end_time": "2022-05-21T18:50:16.293770Z",
     "start_time": "2022-05-21T18:50:16.281802Z"
    }
   },
   "outputs": [],
   "source": []
  },
  {
   "cell_type": "code",
   "execution_count": 128,
   "id": "2c4b526f",
   "metadata": {
    "ExecuteTime": {
     "end_time": "2022-05-21T18:57:46.778345Z",
     "start_time": "2022-05-21T18:57:46.755438Z"
    }
   },
   "outputs": [
    {
     "name": "stdout",
     "output_type": "stream",
     "text": [
      "1649.00 D8\n",
      "5400.00 E8\n",
      "5400.00 F8\n",
      "3516547.0 I8\n",
      "0.0 K8\n",
      "248989.0 L8\n",
      "248989.0 M8\n",
      "1000.0 T8\n",
      "0.00 U8\n",
      "241940.00 V8\n",
      "243589.00 W8\n",
      "18436.0 X8\n",
      "229.00 D8\n",
      "0.00 E8\n",
      "0.00 F8\n",
      "1435576.0 I8\n",
      "0.0 K8\n",
      "109852.0 L8\n",
      "109852.0 M8\n",
      "1000.0 T8\n",
      "0.00 U8\n",
      "109623.00 V8\n",
      "109852.00 W8\n",
      "4978.0 X8\n"
     ]
    }
   ],
   "source": [
    "for i in range(len(xl_values)):\n",
    "    for (j,k) in zip(['D','E','F','I','K','L','M','T','U','V','W','X'],range(len(xl_values[i]))):\n",
    "        print(xl_values[i][k],f'{j}8')"
   ]
  },
  {
   "cell_type": "code",
   "execution_count": 129,
   "id": "abaddf63",
   "metadata": {
    "ExecuteTime": {
     "end_time": "2022-05-21T18:58:37.696302Z",
     "start_time": "2022-05-21T18:58:37.670673Z"
    }
   },
   "outputs": [
    {
     "name": "stdout",
     "output_type": "stream",
     "text": [
      "1649.00\n",
      "5400.00\n",
      "5400.00\n",
      "3516547.0\n",
      "0.0\n",
      "248989.0\n",
      "248989.0\n",
      "1000.0\n",
      "0.00\n",
      "241940.00\n",
      "243589.00\n",
      "18436.0\n",
      "229.00\n",
      "0.00\n",
      "0.00\n",
      "1435576.0\n",
      "0.0\n",
      "109852.0\n",
      "109852.0\n",
      "1000.0\n",
      "0.00\n",
      "109623.00\n",
      "109852.00\n",
      "4978.0\n",
      "808.00\n",
      "0.00\n",
      "0.00\n",
      "2582242.0\n",
      "0.0\n",
      "179752.0\n",
      "179752.0\n",
      "800.0\n",
      "0.00\n",
      "178944.00\n",
      "179752.00\n",
      "2830.0\n",
      "966.26\n",
      "2237.05\n",
      "2237.05\n",
      "3708281.0\n",
      "0.0\n",
      "182536.29\n",
      "182536.29\n",
      "800.0\n",
      "0.00\n",
      "179333.00\n",
      "180299.00\n",
      "10994.0\n",
      "888.21\n",
      "772.19\n",
      "772.19\n",
      "2767094.0\n",
      "0.0\n",
      "148229.46\n",
      "148229.46\n",
      "3100.0\n",
      "0.00\n",
      "146569.00\n",
      "147457.00\n",
      "4494.0\n",
      "1434.75\n",
      "2139.10\n",
      "2139.10\n",
      "2855046.0\n",
      "0.0\n",
      "147818.44\n",
      "147818.44\n",
      "1550.0\n",
      "0.00\n",
      "144244.00\n",
      "145679.00\n",
      "286.0\n",
      "247.68\n",
      "2972.46\n",
      "2972.46\n",
      "1156065.0\n",
      "0.0\n",
      "54760.14\n",
      "54760.14\n",
      "50.0\n",
      "0.00\n",
      "51540.00\n",
      "51788.00\n",
      "3160.0\n",
      "1045.35\n",
      "1147.00\n",
      "1147.00\n",
      "1627215.0\n",
      "0.0\n",
      "94687.47\n",
      "94687.47\n",
      "3100.0\n",
      "0.00\n",
      "92495.00\n",
      "93540.00\n",
      "2936.0\n",
      "1658.61\n",
      "0.00\n",
      "0.00\n",
      "2259698.0\n",
      "0.0\n",
      "154394.01\n",
      "154394.01\n",
      "1600.0\n",
      "0.00\n",
      "152735.00\n",
      "154394.00\n",
      "150.0\n",
      "3400.00\n",
      "8920.00\n",
      "8920.00\n",
      "6837861.0\n",
      "0.0\n",
      "398370.0\n",
      "398370.0\n",
      "50.0\n",
      "0.00\n",
      "386050.00\n",
      "389450.00\n",
      "6502.0\n",
      "172713.78\n",
      "8742.38\n",
      "8742.38\n",
      "3178400.0\n",
      "0.0\n",
      "167373.14\n",
      "167373.14\n",
      "850.0\n",
      "0.00\n",
      "0.00\n",
      "144548.00\n",
      "0.0\n"
     ]
    }
   ],
   "source": [
    "for i in range(len(xl_values)):\n",
    "    for j in range(len(xl_values[i])):\n",
    "        print(xl_values[i][j])"
   ]
  },
  {
   "cell_type": "code",
   "execution_count": null,
   "id": "864d3747",
   "metadata": {},
   "outputs": [],
   "source": []
  }
 ],
 "metadata": {
  "hide_input": false,
  "kernelspec": {
   "display_name": "Python 3 (ipykernel)",
   "language": "python",
   "name": "python3"
  },
  "language_info": {
   "codemirror_mode": {
    "name": "ipython",
    "version": 3
   },
   "file_extension": ".py",
   "mimetype": "text/x-python",
   "name": "python",
   "nbconvert_exporter": "python",
   "pygments_lexer": "ipython3",
   "version": "3.9.7"
  },
  "nbTranslate": {
   "displayLangs": [
    "*"
   ],
   "hotkey": "alt-t",
   "langInMainMenu": true,
   "sourceLang": "en",
   "targetLang": "fr",
   "useGoogleTranslate": true
  },
  "varInspector": {
   "cols": {
    "lenName": 16,
    "lenType": 16,
    "lenVar": 40
   },
   "kernels_config": {
    "python": {
     "delete_cmd_postfix": "",
     "delete_cmd_prefix": "del ",
     "library": "var_list.py",
     "varRefreshCmd": "print(var_dic_list())"
    },
    "r": {
     "delete_cmd_postfix": ") ",
     "delete_cmd_prefix": "rm(",
     "library": "var_list.r",
     "varRefreshCmd": "cat(var_dic_list()) "
    }
   },
   "types_to_exclude": [
    "module",
    "function",
    "builtin_function_or_method",
    "instance",
    "_Feature"
   ],
   "window_display": false
  }
 },
 "nbformat": 4,
 "nbformat_minor": 5
}
