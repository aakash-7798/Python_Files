{
 "cells": [
  {
   "cell_type": "code",
   "execution_count": 103,
   "id": "6b0e77d9",
   "metadata": {},
   "outputs": [],
   "source": [
    "from selenium import webdriver\n",
    "from selenium.webdriver.chrome.options import Options\n",
    "import time\n",
    "import pandas as pd"
   ]
  },
  {
   "cell_type": "code",
   "execution_count": 104,
   "id": "2c2b1483",
   "metadata": {},
   "outputs": [],
   "source": [
    "options = Options()\n",
    "options.add_argument('start-maximized')"
   ]
  },
  {
   "cell_type": "code",
   "execution_count": 7,
   "id": "c9d8a87d",
   "metadata": {},
   "outputs": [],
   "source": [
    "url = 'http://www.results.manabadi.co.in/osmania-university-ug-cbcs-ba-bcom-bsc-bba-2019-exam-results-13-082019.htm'"
   ]
  },
  {
   "cell_type": "code",
   "execution_count": 96,
   "id": "c193d22f",
   "metadata": {},
   "outputs": [
    {
     "name": "stdout",
     "output_type": "stream",
     "text": [
      "Enter Hall Ticket Number : 105916487050\n",
      "Enter Course : Bcom Bsc BA BBA BSC\n"
     ]
    },
    {
     "name": "stderr",
     "output_type": "stream",
     "text": [
      "C:\\Users\\aakas\\AppData\\Local\\Temp/ipykernel_17024/1737081760.py:3: DeprecationWarning: executable_path has been deprecated, please pass in a Service object\n",
      "  driver = webdriver.Chrome(chrome_options=options,executable_path=\"C:\\\\WebDriver\\\\chromedriver.exe\")\n",
      "C:\\Users\\aakas\\AppData\\Local\\Temp/ipykernel_17024/1737081760.py:3: DeprecationWarning: use options instead of chrome_options\n",
      "  driver = webdriver.Chrome(chrome_options=options,executable_path=\"C:\\\\WebDriver\\\\chromedriver.exe\")\n",
      "C:\\Users\\aakas\\AppData\\Local\\Temp/ipykernel_17024/1737081760.py:5: DeprecationWarning: find_element_by_* commands are deprecated. Please use find_element() instead\n",
      "  driver.find_element_by_id(\"htno\").send_keys(ht)\n",
      "C:\\Users\\aakas\\AppData\\Local\\Temp/ipykernel_17024/1737081760.py:7: DeprecationWarning: find_element_by_* commands are deprecated. Please use find_element() instead\n",
      "  driver.find_element_by_id(\"Degree\").send_keys(cs)\n",
      "C:\\Users\\aakas\\AppData\\Local\\Temp/ipykernel_17024/1737081760.py:9: DeprecationWarning: find_element_by_* commands are deprecated. Please use find_element() instead\n",
      "  driver.find_element_by_id('btnsubmit').click()\n"
     ]
    }
   ],
   "source": [
    "ht = input(\"Enter Hall Ticket Number : \")\n",
    "cs = input(\"Enter Course : Bcom Bsc BA BBA \")\n",
    "driver = webdriver.Chrome(chrome_options=options,executable_path=\"C:\\\\WebDriver\\\\chromedriver.exe\")\n",
    "driver.get(url)\n",
    "driver.find_element_by_id(\"htno\").send_keys(ht)\n",
    "time.sleep(1)\n",
    "driver.find_element_by_id(\"Degree\").send_keys(cs)\n",
    "time.sleep(1)\n",
    "driver.find_element_by_id('btnsubmit').click()"
   ]
  },
  {
   "cell_type": "code",
   "execution_count": 97,
   "id": "be153ca1",
   "metadata": {},
   "outputs": [
    {
     "name": "stderr",
     "output_type": "stream",
     "text": [
      "C:\\Users\\aakas\\AppData\\Local\\Temp/ipykernel_17024/361587400.py:1: DeprecationWarning: find_element_by_* commands are deprecated. Please use find_element() instead\n",
      "  Table1 = driver.find_element_by_xpath('//div[@id=\"subhtm\"]//table[1]').text\n",
      "C:\\Users\\aakas\\AppData\\Local\\Temp/ipykernel_17024/361587400.py:2: DeprecationWarning: find_element_by_* commands are deprecated. Please use find_element() instead\n",
      "  Table2 =driver.find_element_by_xpath('//div[@id=\"subhtm\"]//table[2]').text\n",
      "C:\\Users\\aakas\\AppData\\Local\\Temp/ipykernel_17024/361587400.py:3: DeprecationWarning: find_element_by_* commands are deprecated. Please use find_element() instead\n",
      "  Table3 = driver.find_element_by_xpath('//div[@id=\"subhtm\"]//table[3]').text\n"
     ]
    }
   ],
   "source": [
    "Table1 = driver.find_element_by_xpath('//div[@id=\"subhtm\"]//table[1]').text\n",
    "Table2 =driver.find_element_by_xpath('//div[@id=\"subhtm\"]//table[2]').text\n",
    "Table3 = driver.find_element_by_xpath('//div[@id=\"subhtm\"]//table[3]').text"
   ]
  },
  {
   "cell_type": "code",
   "execution_count": 98,
   "id": "e0298592",
   "metadata": {},
   "outputs": [],
   "source": [
    "Personal_Information = {}\n",
    "Personal_Information[\"Hall Ticket No\"] = [Table1.split(\"\\n\")[1][15:]]\n",
    "Personal_Information[\"Name\"] = [Table1.split(\"\\n\")[2][4:]]\n",
    "Personal_Information[\"Father's Name\"] = [Table1.split(\"\\n\")[3][14:]]\n",
    "Personal_Information[\"Gender\"] = [Table1.split(\"\\n\")[4][7:]]\n",
    "Personal_Information[\"Medium\"] = [Table1.split(\"\\n\")[5][7:]]\n",
    "Personal_Information[\"Course\"] = [Table1.split(\"\\n\")[6][7:]]\n",
    "# print(pd.DataFrame(Personal_Information).transpose().to_string(header=False))"
   ]
  },
  {
   "cell_type": "code",
   "execution_count": 99,
   "id": "766ff9e3",
   "metadata": {},
   "outputs": [],
   "source": [
    "a = [\"Subject_Code\",\"Subject_Name\",\"Credits\",\"Grade_Points\",\"Grade_Secured\"]\n",
    "Marks_Details = {}\n",
    "for i in range(len(a)):\n",
    "    Marks_Details[a[i]] = []\n",
    "Marks_Details\n",
    "for i in range(len(Table2.split('\\n')[2:])):\n",
    "    Marks_Details[a[0]].append(Table2.split(\"\\n\")[2:][i].split(' ')[0])\n",
    "    Marks_Details[a[1]].append(Table2.split(\"\\n\")[2:][i][4:-7])\n",
    "    Marks_Details[a[2]].append(Table2.split(\"\\n\")[2:][i].split(' ')[-3])\n",
    "    Marks_Details[a[3]].append(Table2.split(\"\\n\")[2:][i].split(' ')[-2])\n",
    "    Marks_Details[a[4]].append(Table2.split(\"\\n\")[2:][i].split(' ')[-1])\n",
    "# print(pd.DataFrame(Marks_Details).to_string(index=False))"
   ]
  },
  {
   "cell_type": "code",
   "execution_count": 100,
   "id": "64ba3a21",
   "metadata": {},
   "outputs": [],
   "source": [
    "Result = {}\n",
    "Result[\"Semester\"] = [Table3.split(\"\\n\")[-1].split(\" \")[0]]\n",
    "Result[\"Result-SGPA\"] = [Table3.split(\"\\n\")[-1].split(\" \")[1]]\n",
    "Result[\"CGPA\"] = [Table3.split(\"\\n\")[-1].split(\" \")[2]]\n",
    "# print(pd.DataFrame(Result).to_string(index = False))"
   ]
  },
  {
   "cell_type": "code",
   "execution_count": 101,
   "id": "2ecd82dc",
   "metadata": {},
   "outputs": [],
   "source": [
    "PI = pd.DataFrame(Personal_Information).transpose().to_string(header=False)\n",
    "MD = pd.DataFrame(Marks_Details).to_string(index=False)\n",
    "RS = pd.DataFrame(Result).to_string(index=False)"
   ]
  },
  {
   "cell_type": "code",
   "execution_count": 102,
   "id": "ea9ebd44",
   "metadata": {},
   "outputs": [
    {
     "name": "stdout",
     "output_type": "stream",
     "text": [
      "Hall Ticket No                    105916487050\n",
      "Name                YERRAMILLI SREE GEETANJALI\n",
      "Father's Name   YERRAMILLI VEERA VENKATA RANGA\n",
      "Gender                                       F\n",
      "Medium                                      EN\n",
      "Course                                     BSC\n",
      "********************************************************************************\n",
      " \n",
      "Subject_Code         Subject_Name Credits Grade_Points Grade_Secured\n",
      "         744   MICRO-BIOLOGY.7 PR       1           10             O\n",
      "         843      MICRO-BIOLOGY.8       3           10             O\n",
      "        759M  HOSPITALWASTE MANG.       2           10             O\n",
      "        859G        COM.SCI. IT-2       2           10             O\n",
      "         844   MICRO-BIOLOGY.8 PR       1           10             O\n",
      "         763    BIO. TECHNOLOGY.7       3           10             O\n",
      "         764 BIO. TECHNOLOGY.7 PR       1           10             O\n",
      "         718           CHEMISTRY.       3            8             B\n",
      "         743      MICRO-BIOLOGY.7       3           10             O\n",
      "         818           CHEMISTRY.       3            9             A\n",
      "         863    BIO. TECHNOLOGY.8       3           10             O\n",
      "         864 BIO. TECHNOLOGY.8 PR       1           10             O\n",
      "         719       CHEMISTRY.7 PR       1           10             O\n",
      "         819       CHEMISTRY.8 PR       1           10             O\n",
      "********************************************************************************\n",
      " \n",
      " Semester Result-SGPA CGPA\n",
      "       6 PASSED-9.68 9.48\n"
     ]
    }
   ],
   "source": [
    "print(PI)\n",
    "print(\"*\" * 80)\n",
    "print(\" \")\n",
    "print(MD)\n",
    "print(\"*\" * 80)\n",
    "print(\" \")\n",
    "print(\"\",RS)"
   ]
  },
  {
   "cell_type": "code",
   "execution_count": null,
   "id": "48578ff5",
   "metadata": {},
   "outputs": [],
   "source": []
  },
  {
   "cell_type": "code",
   "execution_count": 105,
   "id": "c21e1ecd",
   "metadata": {},
   "outputs": [
    {
     "name": "stdout",
     "output_type": "stream",
     "text": [
      "Enter Hall Ticket Number : 105916467086\n",
      "Enter Course : Bcom Bsc BA BBA Bsc\n"
     ]
    },
    {
     "name": "stderr",
     "output_type": "stream",
     "text": [
      "C:\\Users\\aakas\\AppData\\Local\\Temp/ipykernel_17024/3072723443.py:4: DeprecationWarning: executable_path has been deprecated, please pass in a Service object\n",
      "  driver = webdriver.Chrome(chrome_options=options,executable_path=\"C:\\\\WebDriver\\\\chromedriver.exe\")\n",
      "C:\\Users\\aakas\\AppData\\Local\\Temp/ipykernel_17024/3072723443.py:4: DeprecationWarning: use options instead of chrome_options\n",
      "  driver = webdriver.Chrome(chrome_options=options,executable_path=\"C:\\\\WebDriver\\\\chromedriver.exe\")\n",
      "C:\\Users\\aakas\\AppData\\Local\\Temp/ipykernel_17024/3072723443.py:6: DeprecationWarning: find_element_by_* commands are deprecated. Please use find_element() instead\n",
      "  driver.find_element_by_id(\"htno\").send_keys(ht)\n",
      "C:\\Users\\aakas\\AppData\\Local\\Temp/ipykernel_17024/3072723443.py:8: DeprecationWarning: find_element_by_* commands are deprecated. Please use find_element() instead\n",
      "  driver.find_element_by_id(\"Degree\").send_keys(cs)\n",
      "C:\\Users\\aakas\\AppData\\Local\\Temp/ipykernel_17024/3072723443.py:10: DeprecationWarning: find_element_by_* commands are deprecated. Please use find_element() instead\n",
      "  driver.find_element_by_id('btnsubmit').click()\n",
      "C:\\Users\\aakas\\AppData\\Local\\Temp/ipykernel_17024/3072723443.py:12: DeprecationWarning: find_element_by_* commands are deprecated. Please use find_element() instead\n",
      "  Table1 = driver.find_element_by_xpath('//div[@id=\"subhtm\"]//table[1]').text\n",
      "C:\\Users\\aakas\\AppData\\Local\\Temp/ipykernel_17024/3072723443.py:13: DeprecationWarning: find_element_by_* commands are deprecated. Please use find_element() instead\n",
      "  Table2 =driver.find_element_by_xpath('//div[@id=\"subhtm\"]//table[2]').text\n",
      "C:\\Users\\aakas\\AppData\\Local\\Temp/ipykernel_17024/3072723443.py:14: DeprecationWarning: find_element_by_* commands are deprecated. Please use find_element() instead\n",
      "  Table3 = driver.find_element_by_xpath('//div[@id=\"subhtm\"]//table[3]').text\n"
     ]
    },
    {
     "name": "stdout",
     "output_type": "stream",
     "text": [
      "Hall Ticket No                105916467086\n",
      "Name                 PYDIKONDALA TEJASWINI\n",
      "Father's Name   PYDIKONDALA JANARDHAN RAJU\n",
      "Gender                                   F\n",
      "Medium                                  EN\n",
      "Course                                 BSC\n",
      "********************************************************************************\n",
      " \n",
      "Subject_Code               Subject_Name Credits Grade_Points Grade_Secured\n",
      "         750           MATHEMATICS.7 PR       1           10             O\n",
      "         752         COMP. SCIENCE.7 PR       1           10             O\n",
      "         852         COMP. SCIENCE.8 PR       1           10             O\n",
      "         850           MATHEMATICS.8 PR       1           10             O\n",
      "        759Q                GRAPH THEOR       2            9             A\n",
      "        859T  SECTORS OF INDIAN ECONOMY       2           10             O\n",
      "         724            STATISTICS.7 PR       1           10             O\n",
      "         823               STATISTICS.8       3           10             O\n",
      "         824            STATISTICS.8 PR       1           10             O\n",
      "         749               MATHEMATICS.       3            9             A\n",
      "         751             COMP. SCIENCE.       3            8             B\n",
      "         851             COMP. SCIENCE.       3            8             B\n",
      "         849              MATHEMATICS.8       3           10             O\n",
      "         723                STATISTICS.       3            9             A\n",
      "********************************************************************************\n",
      " \n",
      "Semester Result-SGPA CGPA\n",
      "       6 PASSED-9.29  9.3\n"
     ]
    }
   ],
   "source": [
    "url = 'http://www.results.manabadi.co.in/osmania-university-ug-cbcs-ba-bcom-bsc-bba-2019-exam-results-13-082019.htm'\n",
    "ht = input(\"Enter Hall Ticket Number : \")\n",
    "cs = input(\"Enter Course : Bcom Bsc BA BBA \")\n",
    "driver = webdriver.Chrome(chrome_options=options,executable_path=\"C:\\\\WebDriver\\\\chromedriver.exe\")\n",
    "driver.get(url)\n",
    "driver.find_element_by_id(\"htno\").send_keys(ht)\n",
    "time.sleep(1)\n",
    "driver.find_element_by_id(\"Degree\").send_keys(cs)\n",
    "time.sleep(1)\n",
    "driver.find_element_by_id('btnsubmit').click()\n",
    "time.sleep(2)\n",
    "Table1 = driver.find_element_by_xpath('//div[@id=\"subhtm\"]//table[1]').text\n",
    "Table2 =driver.find_element_by_xpath('//div[@id=\"subhtm\"]//table[2]').text\n",
    "Table3 = driver.find_element_by_xpath('//div[@id=\"subhtm\"]//table[3]').text\n",
    "Personal_Information = {}\n",
    "Personal_Information[\"Hall Ticket No\"] = [Table1.split(\"\\n\")[1][15:]]\n",
    "Personal_Information[\"Name\"] = [Table1.split(\"\\n\")[2][4:]]\n",
    "Personal_Information[\"Father's Name\"] = [Table1.split(\"\\n\")[3][14:]]\n",
    "Personal_Information[\"Gender\"] = [Table1.split(\"\\n\")[4][7:]]\n",
    "Personal_Information[\"Medium\"] = [Table1.split(\"\\n\")[5][7:]]\n",
    "Personal_Information[\"Course\"] = [Table1.split(\"\\n\")[6][7:]]\n",
    "# print(pd.DataFrame(Personal_Information).transpose().to_string(header=False))\n",
    "a = [\"Subject_Code\",\"Subject_Name\",\"Credits\",\"Grade_Points\",\"Grade_Secured\"]\n",
    "Marks_Details = {}\n",
    "for i in range(len(a)):\n",
    "    Marks_Details[a[i]] = []\n",
    "Marks_Details\n",
    "for i in range(len(Table2.split('\\n')[2:])):\n",
    "    Marks_Details[a[0]].append(Table2.split(\"\\n\")[2:][i].split(' ')[0])\n",
    "    Marks_Details[a[1]].append(Table2.split(\"\\n\")[2:][i][4:-7])\n",
    "    Marks_Details[a[2]].append(Table2.split(\"\\n\")[2:][i].split(' ')[-3])\n",
    "    Marks_Details[a[3]].append(Table2.split(\"\\n\")[2:][i].split(' ')[-2])\n",
    "    Marks_Details[a[4]].append(Table2.split(\"\\n\")[2:][i].split(' ')[-1])\n",
    "# print(pd.DataFrame(Marks_Details).to_string(index=False))\n",
    "Result = {}\n",
    "Result[\"Semester\"] = [Table3.split(\"\\n\")[-1].split(\" \")[0]]\n",
    "Result[\"Result-SGPA\"] = [Table3.split(\"\\n\")[-1].split(\" \")[1]]\n",
    "Result[\"CGPA\"] = [Table3.split(\"\\n\")[-1].split(\" \")[2]]\n",
    "# print(pd.DataFrame(Result).to_string(index = False))\n",
    "print(pd.DataFrame(Personal_Information).transpose().to_string(header=False))\n",
    "print(\"*\" * 80)\n",
    "print(\" \")\n",
    "print(pd.DataFrame(Marks_Details).to_string(index=False))\n",
    "print(\"*\" * 80)\n",
    "print(\" \")\n",
    "print(pd.DataFrame(Result).to_string(index=False))"
   ]
  }
 ],
 "metadata": {
  "hide_input": false,
  "kernelspec": {
   "display_name": "Python 3 (ipykernel)",
   "language": "python",
   "name": "python3"
  },
  "language_info": {
   "codemirror_mode": {
    "name": "ipython",
    "version": 3
   },
   "file_extension": ".py",
   "mimetype": "text/x-python",
   "name": "python",
   "nbconvert_exporter": "python",
   "pygments_lexer": "ipython3",
   "version": "3.9.7"
  },
  "nbTranslate": {
   "displayLangs": [
    "*"
   ],
   "hotkey": "alt-t",
   "langInMainMenu": true,
   "sourceLang": "en",
   "targetLang": "fr",
   "useGoogleTranslate": true
  },
  "varInspector": {
   "cols": {
    "lenName": 16,
    "lenType": 16,
    "lenVar": 40
   },
   "kernels_config": {
    "python": {
     "delete_cmd_postfix": "",
     "delete_cmd_prefix": "del ",
     "library": "var_list.py",
     "varRefreshCmd": "print(var_dic_list())"
    },
    "r": {
     "delete_cmd_postfix": ") ",
     "delete_cmd_prefix": "rm(",
     "library": "var_list.r",
     "varRefreshCmd": "cat(var_dic_list()) "
    }
   },
   "types_to_exclude": [
    "module",
    "function",
    "builtin_function_or_method",
    "instance",
    "_Feature"
   ],
   "window_display": false
  }
 },
 "nbformat": 4,
 "nbformat_minor": 5
}
