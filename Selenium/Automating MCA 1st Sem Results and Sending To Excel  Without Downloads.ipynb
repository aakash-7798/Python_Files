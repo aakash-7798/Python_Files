{
 "cells": [
  {
   "cell_type": "code",
   "execution_count": 1,
   "id": "660e2b96-fef1-4ae8-a64c-2cd3c7faf2b9",
   "metadata": {
    "ExecuteTime": {
     "end_time": "2022-05-29T09:59:36.977110Z",
     "start_time": "2022-05-29T09:59:31.454764Z"
    }
   },
   "outputs": [],
   "source": [
    "from bs4 import BeautifulSoup\n",
    "from selenium import webdriver\n",
    "from selenium.webdriver.common.keys import Keys\n",
    "from selenium.webdriver.chrome.options import Options\n",
    "from selenium.webdriver.support.ui import Select\n",
    "from getpass import getpass\n",
    "import time\n",
    "import urllib\n",
    "import urllib.request\n",
    "import requests\n",
    "from io import BytesIO\n",
    "import pandas as pd\n",
    "from PIL import Image\n",
    "import chromedriver_autoinstaller as chromedriver\n",
    "from webdriver_manager.chrome import ChromeDriverManager\n",
    "chromedriver.install()\n",
    "from selenium.webdriver.chrome.service import Service\n",
    "from selenium.webdriver.common.by import By\n",
    "import xlsxwriter\n",
    "import xlwings as xw\n",
    "import openpyxl\n",
    "from openpyxl import load_workbook,Workbook\n",
    "from openpyxl.styles import colors\n",
    "from openpyxl.styles import Font, Color\n",
    "from openpyxl.styles.alignment import Alignment\n",
    "from openpyxl.styles import Alignment\n",
    "from openpyxl.utils.dataframe import dataframe_to_rows\n",
    "from xlwings import constants\n",
    "from openpyxl.drawing.image import Image\n",
    "import xlrd \n",
    "options = Options()\n",
    "options.add_argument(\"start-maximized\")\n",
    "from IPython.display import display, HTML"
   ]
  },
  {
   "cell_type": "code",
   "execution_count": 20,
   "id": "ac20a037",
   "metadata": {
    "ExecuteTime": {
     "end_time": "2022-05-29T10:21:10.405145Z",
     "start_time": "2022-05-29T10:21:08.313179Z"
    }
   },
   "outputs": [
    {
     "name": "stderr",
     "output_type": "stream",
     "text": [
      "\n",
      "\n",
      "INFO:WDM:\n",
      "\n",
      "====== WebDriver manager ======\n",
      "INFO:WDM:====== WebDriver manager ======\n",
      "Current google-chrome version is 102.0.5005\n",
      "INFO:WDM:Current google-chrome version is 102.0.5005\n",
      "Get LATEST chromedriver version for 102.0.5005 google-chrome\n",
      "INFO:WDM:Get LATEST chromedriver version for 102.0.5005 google-chrome\n",
      "Driver [C:\\Users\\aakas\\.wdm\\drivers\\chromedriver\\win32\\102.0.5005.61\\chromedriver.exe] found in cache\n",
      "INFO:WDM:Driver [C:\\Users\\aakas\\.wdm\\drivers\\chromedriver\\win32\\102.0.5005.61\\chromedriver.exe] found in cache\n"
     ]
    }
   ],
   "source": [
    "driver = webdriver.Chrome(options=options,service=Service(ChromeDriverManager().install())) "
   ]
  },
  {
   "cell_type": "code",
   "execution_count": 21,
   "id": "6f529386",
   "metadata": {
    "ExecuteTime": {
     "end_time": "2022-05-29T10:21:20.358786Z",
     "start_time": "2022-05-29T10:21:10.654238Z"
    }
   },
   "outputs": [],
   "source": [
    "url = \"http://jntuhsit.org/\"\n",
    "driver.get(url)\n",
    "driver.find_element(By.XPATH,\"//a[@href='http://14.139.82.140']\").click()\n",
    "driver.switch_to.window(driver.window_handles[1])\n",
    "time.sleep(2)"
   ]
  },
  {
   "cell_type": "code",
   "execution_count": 22,
   "id": "f168f317",
   "metadata": {
    "ExecuteTime": {
     "end_time": "2022-05-29T10:25:27.836999Z",
     "start_time": "2022-05-29T10:21:20.682315Z"
    }
   },
   "outputs": [
    {
     "name": "stdout",
     "output_type": "stream",
     "text": [
      "21031F0002 :   Success !  Successfully Logged out\n",
      "21031F0004 :   Success !  Successfully Logged out\n",
      "21031F0005 Enter Your Password : ········\n",
      "21031F0005 :   Success !  Successfully Logged out\n",
      "21031F0007 :   Success !  Successfully Logged out\n",
      "21031F0008 :   Success !  Successfully Logged out\n",
      "21031F0009 :   Success !  Successfully Logged out\n",
      "21031F0010 :   Success !  Successfully Logged out\n",
      "21031F0012 :   Success !  Successfully Logged out\n",
      "21031F0014 :   Success !  Successfully Logged out\n",
      "21031F0015 :   Success !  Successfully Logged out\n",
      "21031F0018 :   Success !  Successfully Logged out\n",
      "21031F0021 :   Success !  Successfully Logged out\n",
      "21031F0022 :   Success !  Successfully Logged out\n",
      "21031F0024 :   Success !  Successfully Logged out\n",
      "21031F0025 :   Success !  Successfully Logged out\n",
      "21031F0029 :   Success !  Successfully Logged out\n"
     ]
    }
   ],
   "source": [
    "# a = ['21031F0002','21031F0005']\n",
    "a = [f\"21031F00{i:02d}\" for i in range(1,31)]\n",
    "# My_filename = 'MCA_1st_Sem_Results_Automated_New.xlsx'\n",
    "My_filename = 'test.xlsx'\n",
    "All_Results = pd.DataFrame(columns=['ROLL-NUMBER','NAME','SGPA'])\n",
    "wbn = Workbook()\n",
    "wbn.save(My_filename)\n",
    "wbn.close()\n",
    "for i in a:\n",
    "    driver.find_element(By.ID,'uid').send_keys(i)\n",
    "    if i==\"21031F0005\":\n",
    "        driver.find_element(By.ID,'pwd').send_keys(getpass(f\"{i} Enter Your Password : \"))\n",
    "    else:\n",
    "        driver.find_element(By.ID,'pwd').send_keys(\"sit123\")\n",
    "    driver.find_element(By.CSS_SELECTOR,\"input[type='submit']\").click()\n",
    "    if driver.find_element(By.XPATH,\".//div[contains(@class,'alert')]\").text == '×\\n  Failed !  Invalid LoginID or Password....':\n",
    "        continue\n",
    "    else:\n",
    "        time.sleep(1)\n",
    "        driver.find_element(By.XPATH,\"//div[@id='myNavBar']/ul/li[4]\").click()\n",
    "        time.sleep(1)\n",
    "        driver.find_element(By.XPATH,\"//a[@href='viewResults']\").click()\n",
    "        time.sleep(1)\n",
    "        if driver.find_element(By.XPATH,\".//div[contains(@class,'alert')]\").text == '×\\n  Failed !  Results records not found.':\n",
    "            driver.find_element(By.XPATH,\"//a[@href='logout']\").click()\n",
    "            continue\n",
    "        else:\n",
    "            driver.find_element(By.XPATH,\"//select[@id='ecode']/option[text()='M.C.A. I Year I Semester (R20) (Reg) - April, 2022']\").click()\n",
    "            time.sleep(1)\n",
    "            driver.find_element(By.XPATH,\".//button[contains(@class,'btn')]\").click()\n",
    "            time.sleep(1)\n",
    "            BS   = BeautifulSoup(driver.page_source,'html.parser')\n",
    "            df1  = pd.DataFrame(data=driver.find_element(By.XPATH,\"//*[@id='resBlock']/table/tbody/tr[1]\").text.split('\\n')+[driver.find_element(By.XPATH,\"//*[@id='resBlock']/table/tbody/tr[2]\").text])\n",
    "            df2  = pd.DataFrame(data=[driver.find_element(By.XPATH,f\"//*[@id='resBlock']/table/tbody/tr[{i}]\").text for i in range(3,6)])\n",
    "            df3  = pd.DataFrame(data=[[j] + [ int(driver.find_element(By.XPATH,f\"//*[@id='resBlock']/table/tbody/tr[6]/td/table/tbody/tr[{j}]/td[{i}]\").text) if i==5 or i==6 else  driver.find_element(By.XPATH,f\"//*[@id='resBlock']/table/tbody/tr[6]/td/table/tbody/tr[{j}]/td[{i}]\").text for i in range(2,8) ] for j in range(1,10)],columns=[driver.find_element(By.XPATH,f\"//*[@id='resBlock']/table/tbody/tr[6]/td/table/thead/tr/th[{i}]\").text  for i in range(1,8)])\n",
    "            All_Results.loc[len(All_Results)] = [i,df2[0][1].split(\":\")[1].strip(' '),round(sum(df3['Grade Point'] * df3['Credits'])/sum(df3['Credits']),2)]\n",
    "            wb = load_workbook(My_filename)\n",
    "            wb.create_sheet(title=i)\n",
    "            ws = wb[i]\n",
    "            df1_rows = dataframe_to_rows(df1, index=False,header=False)\n",
    "            df2_rows = dataframe_to_rows(df2, index=False,header=False)\n",
    "            df3_rows = dataframe_to_rows(df3, index=False)\n",
    "            for r_idx, row in enumerate(df1_rows, 2):\n",
    "                for c_idx, value in enumerate(row, 6):\n",
    "                    ws.cell(row=r_idx, column=c_idx, value=value)\n",
    "            for r_idx, row in enumerate(df2_rows, 10):\n",
    "                for c_idx, value in enumerate(row, 6):\n",
    "                    ws.cell(row=r_idx, column=c_idx, value=value)\n",
    "            for r_idx, row in enumerate(df3_rows, 15):\n",
    "                for c_idx, value in enumerate(row, 4):\n",
    "                    ws.cell(row=r_idx, column=c_idx, value=value)\n",
    "            for (igty,jfg) in zip(['E','F','H'],[14,65,12]):\n",
    "                        ws.column_dimensions[igty].width = jfg\n",
    "            for per in [int(ifrt) for ifrt in range(1,11)]:\n",
    "                    for jzdd in [int(eri) for eri in range(1,31)]:\n",
    "                        ws.cell(jzdd,per).alignment = Alignment(horizontal='center')    \n",
    "            for c in [4,5,6,7,8,9,10]:\n",
    "                ws.cell(15,c).font = Font(bold=True)\n",
    "            for a,b in zip([2,3,4,5,6],['f7118b','0a21a8','0a21a8','0a21a8','ff0000']):\n",
    "                ws.cell(a,6).font = Font(color=b,bold=True)\n",
    "            for (sft,rtf,rty) in zip([25,25,27,27],[8,9,6,7],[\"=SUMPRODUCT((H16:H24)*(I16:I24))\",\"=SUM((I16:I24))\",\"SGPA : \",\"=ROUND((H25/I25),3)\"]):\n",
    "                ws.cell(sft,rtf).value = rty\n",
    "                ws.cell(sft,rtf).font = Font(bold=True)\n",
    "            img = Image('Jntuh Logo.png')\n",
    "            img.height = 150\n",
    "            img.width = 170\n",
    "            ws.add_image(img,'D3')  \n",
    "            img = Image(BytesIO(urllib.request.urlopen(BS.find('table',class_='borderless').find('img',alt='PHOTO')['src']).read()))\n",
    "            img.height = 110\n",
    "            img.width = 110\n",
    "            ws.add_image(img,'G8')\n",
    "            ws.column_dimensions['G'].width = 15\n",
    "            ws.cell(15,7).alignment = Alignment(horizontal='center')\n",
    "            wb.save(My_filename)\n",
    "    driver.find_element(By.XPATH,\"//a[@href='logout']\").click()\n",
    "    print(i,\":\",driver.find_element(By.CLASS_NAME,'alert-success').text.strip(\".\")[2:40])\n",
    "driver.close()\n",
    "driver.switch_to.window(driver.window_handles[0])\n",
    "driver.close()\n",
    "wb = load_workbook(My_filename)\n",
    "wb.create_sheet(title='All_Results')\n",
    "ws = wb['All_Results']\n",
    "All_Results_df = dataframe_to_rows(All_Results, index=False)\n",
    "for ridx, rw in enumerate(All_Results_df, 1):\n",
    "    for cidx, value in enumerate(rw,1):\n",
    "        ws.cell(row=ridx, column=cidx, value=value)\n",
    "for (irty,jstdr) in zip(['A','B','C'],[18,50,15]):\n",
    "            ws.column_dimensions[irty].width = jstdr\n",
    "for fnt in [1,2,3]:\n",
    "    ws.cell(1,fnt).font = Font(bold=True)\n",
    "for psrg in [int(idfs) for idfs in range(1,11)]:\n",
    "    for jree in [int(ier) for ier in range(1,31)]:\n",
    "        ws.cell(jree,psrg).alignment = Alignment(horizontal='center')        \n",
    "if 'Sheet' in wb.sheetnames:\n",
    "    wb.remove(wb['Sheet'])\n",
    "wb.save(My_filename)"
   ]
  },
  {
   "cell_type": "code",
   "execution_count": 11,
   "id": "85d3a9ea",
   "metadata": {
    "ExecuteTime": {
     "end_time": "2022-05-29T10:09:00.075880Z",
     "start_time": "2022-05-29T10:09:00.063065Z"
    }
   },
   "outputs": [
    {
     "data": {
      "text/plain": [
       "2"
      ]
     },
     "execution_count": 11,
     "metadata": {},
     "output_type": "execute_result"
    }
   ],
   "source": [
    "len(All_Results)"
   ]
  },
  {
   "cell_type": "code",
   "execution_count": null,
   "id": "9f36e1c3",
   "metadata": {
    "ExecuteTime": {
     "end_time": "2022-05-28T14:31:52.477429Z",
     "start_time": "2022-05-28T14:31:52.477429Z"
    }
   },
   "outputs": [],
   "source": [
    "# # a = ['21031F0005']\n",
    "# a = [f\"21031F00{i:02d}\" for i in range(1,31)]\n",
    "# All = {}\n",
    "# wbn = Workbook()\n",
    "# wbn.save('MCA_1st_Sem_Results_Automated.xlsx')\n",
    "# wbn.close()\n",
    "# for i in a:\n",
    "#     driver.find_element(By.ID,'uid').send_keys(i)\n",
    "#     if i==\"21031F0005\":\n",
    "#         driver.find_element(By.ID,'pwd').send_keys(getpass(f\"{i} Enter Your Password : \"))\n",
    "#     else:\n",
    "#         driver.find_element(By.ID,'pwd').send_keys(\"sit123\")\n",
    "#     driver.find_element(By.CSS_SELECTOR,\"input[type='submit']\").click()\n",
    "#     if driver.find_element(By.XPATH,\".//div[contains(@class,'alert')]\").text == '×\\n  Failed !  Invalid LoginID or Password....':\n",
    "#         continue\n",
    "#     else:\n",
    "#         time.sleep(1)\n",
    "#         driver.find_element(By.XPATH,\"//div[@id='myNavBar']/ul/li[4]\").click()\n",
    "#         time.sleep(1)\n",
    "#         driver.find_element(By.XPATH,\"//a[@href='viewResults']\").click()\n",
    "#         time.sleep(1)\n",
    "#         if driver.find_element(By.XPATH,\".//div[contains(@class,'alert')]\").text == '×\\n  Failed !  Results records not found.':\n",
    "#             driver.find_element(By.XPATH,\"//a[@href='logout']\").click()\n",
    "#             continue\n",
    "#         else:\n",
    "#             driver.find_element(By.XPATH,\"//select[@id='ecode']/option[text()='M.C.A. I Year I Semester (R20) (Reg) - April, 2022']\").click()\n",
    "#             time.sleep(1)\n",
    "#             driver.find_element(By.XPATH,\".//button[contains(@class,'btn')]\").click()\n",
    "#             time.sleep(1)\n",
    "#             BS = BeautifulSoup(driver.page_source,'html.parser')\n",
    "#             df1  = pd.DataFrame(data=driver.find_element(By.XPATH,\"//*[@id='resBlock']/table/tbody/tr[1]\").text.split('\\n')+[driver.find_element(By.XPATH,\"//*[@id='resBlock']/table/tbody/tr[2]\").text])\n",
    "#             df2  = pd.DataFrame(data=[driver.find_element(By.XPATH,f\"//*[@id='resBlock']/table/tbody/tr[{i}]\").text for i in range(3,6)])\n",
    "#             df3  = pd.DataFrame(data=[[j] + [ int(driver.find_element(By.XPATH,f\"//*[@id='resBlock']/table/tbody/tr[6]/td/table/tbody/tr[{j}]/td[{i}]\").text) if i==5 or i==6 else  driver.find_element(By.XPATH,f\"//*[@id='resBlock']/table/tbody/tr[6]/td/table/tbody/tr[{j}]/td[{i}]\").text for i in range(2,8) ] for j in range(1,10)],columns=[driver.find_element(By.XPATH,f\"//*[@id='resBlock']/table/tbody/tr[6]/td/table/thead/tr/th[{i}]\").text  for i in range(1,8)])\n",
    "#             wb = load_workbook('MCA_1st_Sem_Results_Automated.xlsx')\n",
    "#             wb.create_sheet(title=i)\n",
    "#             ws = wb[i]\n",
    "#             df1_rows = dataframe_to_rows(df1, index=False,header=False)\n",
    "#             df2_rows = dataframe_to_rows(df2, index=False,header=False)\n",
    "#             df3_rows = dataframe_to_rows(df3, index=False)\n",
    "#             for r_idx, row in enumerate(df1_rows, 2):\n",
    "#                 for c_idx, value in enumerate(row, 6):\n",
    "#                     ws.cell(row=r_idx, column=c_idx, value=value)\n",
    "#             for r_idx, row in enumerate(df2_rows, 10):\n",
    "#                 for c_idx, value in enumerate(row, 6):\n",
    "#                     ws.cell(row=r_idx, column=c_idx, value=value)\n",
    "#             for r_idx, row in enumerate(df3_rows, 15):\n",
    "#                 for c_idx, value in enumerate(row, 4):\n",
    "#                     ws.cell(row=r_idx, column=c_idx, value=value)\n",
    "#             for (i,j) in zip(['E','F','H'],[14,65,12]):\n",
    "#                         ws.column_dimensions[i].width = j\n",
    "#             for p in [int(i) for i in range(1,11)]:\n",
    "#                     for j in [int(i) for i in range(1,31)]:\n",
    "#                         ws.cell(j,p).alignment = Alignment(horizontal='center')    \n",
    "#             for c in [4,5,6,7,8,9,10]:\n",
    "#                 ws.cell(15,c).font = Font(bold=True)\n",
    "#             for a,b in zip([2,3,4,5,6],['f7118b','0a21a8','0a21a8','0a21a8','ff0000']):\n",
    "#                 ws.cell(a,6).font = Font(color=b,bold=True)\n",
    "#             for (sft,rtf,rty) in zip([25,25,27,27],[8,9,6,7],[\"=SUMPRODUCT((H16:H24)*(I16:I24))\",\"=SUM((I16:I24))\",\"SGPA : \",\"=ROUND((H25/I25),3)\"]):\n",
    "#                 ws.cell(sft,rtf).value = rty\n",
    "#                 ws.cell(sft,rtf).font = Font(bold=True)\n",
    "#             img = Image('Jntuh Logo.png')\n",
    "#             img.height = 150\n",
    "#             img.width = 170\n",
    "#             ws.add_image(img,'D3')  \n",
    "#             img = Image(BytesIO(urllib.request.urlopen(BS.find('table',class_='borderless').find('img',alt='PHOTO')['src']).read()))\n",
    "#             img.height = 110\n",
    "#             img.width = 110\n",
    "#             ws.add_image(img,'G8')\n",
    "#             ws.column_dimensions['G'].width = 15\n",
    "#             ws.cell(15,7).alignment = Alignment(horizontal='center')\n",
    "#             wb.save('MCA_1st_Sem_Results_Automated.xlsx')\n",
    "#     driver.find_element(By.XPATH,\"//a[@href='logout']\").click()\n",
    "#     print(i,\":\",driver.find_element(By.CLASS_NAME,'alert-success').text.strip(\".\")[2:40])\n",
    "# driver.close()\n",
    "# driver.switch_to.window(driver.window_handles[0])\n",
    "# driver.close()"
   ]
  },
  {
   "cell_type": "code",
   "execution_count": null,
   "id": "56c41a88",
   "metadata": {},
   "outputs": [],
   "source": []
  }
 ],
 "metadata": {
  "hide_input": false,
  "kernelspec": {
   "display_name": "Python 3 (ipykernel)",
   "language": "python",
   "name": "python3"
  },
  "language_info": {
   "codemirror_mode": {
    "name": "ipython",
    "version": 3
   },
   "file_extension": ".py",
   "mimetype": "text/x-python",
   "name": "python",
   "nbconvert_exporter": "python",
   "pygments_lexer": "ipython3",
   "version": "3.9.7"
  },
  "nbTranslate": {
   "displayLangs": [
    "*"
   ],
   "hotkey": "alt-t",
   "langInMainMenu": true,
   "sourceLang": "en",
   "targetLang": "fr",
   "useGoogleTranslate": true
  },
  "toc-autonumbering": true,
  "toc-showcode": true,
  "toc-showtags": false,
  "varInspector": {
   "cols": {
    "lenName": 16,
    "lenType": 16,
    "lenVar": 40
   },
   "kernels_config": {
    "python": {
     "delete_cmd_postfix": "",
     "delete_cmd_prefix": "del ",
     "library": "var_list.py",
     "varRefreshCmd": "print(var_dic_list())"
    },
    "r": {
     "delete_cmd_postfix": ") ",
     "delete_cmd_prefix": "rm(",
     "library": "var_list.r",
     "varRefreshCmd": "cat(var_dic_list()) "
    }
   },
   "types_to_exclude": [
    "module",
    "function",
    "builtin_function_or_method",
    "instance",
    "_Feature"
   ],
   "window_display": false
  }
 },
 "nbformat": 4,
 "nbformat_minor": 5
}
