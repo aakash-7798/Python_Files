{
 "cells": [
  {
   "cell_type": "code",
   "execution_count": 1,
   "id": "1672ebf9",
   "metadata": {},
   "outputs": [],
   "source": [
    "from selenium import webdriver\n",
    "from selenium.webdriver.common.keys import Keys\n",
    "from webdriver_manager.chrome import ChromeDriverManager\n",
    "from getpass import getpass\n",
    "from selenium.webdriver.chrome.options import Options\n",
    "from python3_anticaptcha import ImageToTextTask\n",
    "from PIL import Image\n",
    "from pytesseract import *\n",
    "import os\n",
    "import time\n",
    "import cv2\n",
    "import pytesseract\n",
    "pytesseract.pytesseract.tesseract_cmd=r\"C:\\Program Files\\Tesseract-OCR\\tesseract.exe\""
   ]
  },
  {
   "cell_type": "code",
   "execution_count": 2,
   "id": "22a80dc9",
   "metadata": {},
   "outputs": [],
   "source": [
    "options = Options()\n",
    "options.add_argument('start-maximized')\n",
    "options.add_argument('disable-infobars')\n",
    "options.add_experimental_option(\"prefs\",{\"download.default_directory\":\"E:\\Selenium GST Downloads\"})\n",
    "# Driver.maximize_window()"
   ]
  },
  {
   "cell_type": "code",
   "execution_count": 6,
   "id": "d277c460",
   "metadata": {},
   "outputs": [],
   "source": [
    "# def IncomeTaxLogin():\n",
    "#     username = input(\"Enter Username : \")\n",
    "#     password = getpass(\"Enter Password : \")\n",
    "#     Driver = webdriver.Chrome(chrome_options=options,executable_path=\"C:\\\\WebDriver\\\\chromedriver.exe\")\n",
    "#     Driver.get('https://www.incometax.gov.in/iec/foportal')\n",
    "#     time.sleep(2)\n",
    "#     Driver.find_element_by_xpath(\"//a[contains(text(),'Login')]\").click()\n",
    "#     time.sleep(2)\n",
    "#     Driver.find_element_by_id(\"panAdhaarUserId\").send_keys(username)\n",
    "#     time.sleep(2)\n",
    "#     Driver.find_element_by_class_name(\"large-button-primary\").click()\n",
    "#     time.sleep(2)\n",
    "#     Driver.find_element_by_class_name(\"mat-checkbox-inner-container\").click()\n",
    "#     time.sleep(2)\n",
    "#     Driver.find_element_by_id(\"loginPasswordField\").send_keys(password)\n",
    "#     time.sleep(2)\n",
    "#     Driver.find_element_by_class_name(\"large-button-primary\").click()\n",
    "#     time.sleep(5)\n",
    "#     Driver.find_element_by_class_name(\"nameSection\").click()\n",
    "#     time.sleep(3)\n",
    "#     Driver.find_element_by_xpath(\"//span[text()='Log Out']\").click()\n",
    "#     time.sleep(5)\n",
    "#     Driver.close()"
   ]
  },
  {
   "cell_type": "code",
   "execution_count": 5,
   "id": "da35a674",
   "metadata": {},
   "outputs": [],
   "source": [
    "# IncomeTaxLogin()"
   ]
  },
  {
   "cell_type": "code",
   "execution_count": 92,
   "id": "f106dfba",
   "metadata": {},
   "outputs": [],
   "source": [
    "# def GSTLogin():\n",
    "#     username = input(\"Enter Username : \")\n",
    "#     password = getpass(\"Enter Password : \")\n",
    "#     Driver = webdriver.Chrome(chrome_options=options,executable_path=\"C:\\\\WebDriver\\\\chromedriver.exe\") \n",
    "#     Driver.get('https://www.gst.gov.in/')\n",
    "#     time.sleep(1)\n",
    "#     Driver.find_element_by_xpath(\"//a[contains(text(),' Login')]\").click()\n",
    "#     time.sleep(2)\n",
    "#     Driver.find_element_by_id(\"username\").send_keys(username)\n",
    "#     time.sleep(2)\n",
    "#     Driver.find_element_by_id(\"user_pass\").send_keys(password)\n",
    "#     time.sleep(10)\n",
    "#     Driver.find_element_by_xpath('//button[normalize-space()=\"Login\"]').click()\n",
    "#     time.sleep(2)\n",
    "#     Driver.find_element_by_xpath(\"//a[contains(text(),'Remind me later')]\").click()\n",
    "#     time.sleep(2)\n",
    "#     Driver.find_element_by_class_name(\"dropdown-toggle\").click()\n",
    "#     time.sleep(5)\n",
    "#     Driver.find_element_by_xpath(\"//a[@href='//services.gst.gov.in/services/logout']\").click()\n",
    "#     time.sleep(5)\n",
    "#     Driver.close()"
   ]
  },
  {
   "cell_type": "code",
   "execution_count": 93,
   "id": "fe6b5812",
   "metadata": {},
   "outputs": [
    {
     "name": "stdout",
     "output_type": "stream",
     "text": [
      "Enter Username : nadupallisriniv\n",
      "Enter Password : ········\n"
     ]
    },
    {
     "name": "stderr",
     "output_type": "stream",
     "text": [
      "C:\\Users\\aakas\\AppData\\Local\\Temp/ipykernel_9012/3654193738.py:4: DeprecationWarning: executable_path has been deprecated, please pass in a Service object\n",
      "  Driver = webdriver.Chrome(chrome_options=options,executable_path=\"C:\\\\WebDriver\\\\chromedriver.exe\")\n",
      "C:\\Users\\aakas\\AppData\\Local\\Temp/ipykernel_9012/3654193738.py:4: DeprecationWarning: use options instead of chrome_options\n",
      "  Driver = webdriver.Chrome(chrome_options=options,executable_path=\"C:\\\\WebDriver\\\\chromedriver.exe\")\n",
      "C:\\Users\\aakas\\AppData\\Local\\Temp/ipykernel_9012/3654193738.py:7: DeprecationWarning: find_element_by_* commands are deprecated. Please use find_element() instead\n",
      "  Driver.find_element_by_xpath(\"//a[contains(text(),' Login')]\").click()\n",
      "C:\\Users\\aakas\\AppData\\Local\\Temp/ipykernel_9012/3654193738.py:9: DeprecationWarning: find_element_by_* commands are deprecated. Please use find_element() instead\n",
      "  Driver.find_element_by_id(\"username\").send_keys(username)\n",
      "C:\\Users\\aakas\\AppData\\Local\\Temp/ipykernel_9012/3654193738.py:11: DeprecationWarning: find_element_by_* commands are deprecated. Please use find_element() instead\n",
      "  Driver.find_element_by_id(\"user_pass\").send_keys(password)\n",
      "C:\\Users\\aakas\\AppData\\Local\\Temp/ipykernel_9012/3654193738.py:13: DeprecationWarning: find_element_by_* commands are deprecated. Please use find_element() instead\n",
      "  Driver.find_element_by_xpath('//button[normalize-space()=\"Login\"]').click()\n",
      "C:\\Users\\aakas\\AppData\\Local\\Temp/ipykernel_9012/3654193738.py:15: DeprecationWarning: find_element_by_* commands are deprecated. Please use find_element() instead\n",
      "  Driver.find_element_by_xpath(\"//a[contains(text(),'Remind me later')]\").click()\n",
      "C:\\Users\\aakas\\AppData\\Local\\Temp/ipykernel_9012/3654193738.py:17: DeprecationWarning: find_element_by_* commands are deprecated. Please use find_element() instead\n",
      "  Driver.find_element_by_class_name(\"dropdown-toggle\").click()\n",
      "C:\\Users\\aakas\\AppData\\Local\\Temp/ipykernel_9012/3654193738.py:19: DeprecationWarning: find_element_by_* commands are deprecated. Please use find_element() instead\n",
      "  Driver.find_element_by_xpath(\"//a[@href='//services.gst.gov.in/services/logout']\").click()\n"
     ]
    }
   ],
   "source": [
    "# GSTLogin()"
   ]
  },
  {
   "cell_type": "code",
   "execution_count": 73,
   "id": "c6c2bc85",
   "metadata": {},
   "outputs": [
    {
     "name": "stderr",
     "output_type": "stream",
     "text": [
      "C:\\Users\\aakas\\AppData\\Local\\Temp/ipykernel_9012/2658794847.py:2: DeprecationWarning: find_element_by_* commands are deprecated. Please use find_element() instead\n",
      "  Driver.find_element_by_xpath(\"//a[@href='//services.gst.gov.in/services/logout']\").click()\n"
     ]
    }
   ],
   "source": [
    "# Driver.find_element_by_xpath(\"//a[contains(text(),' Logout')]\").click()\n",
    "# Driver.find_element_by_xpath(\"//a[@href='//services.gst.gov.in/services/logout']\").click()"
   ]
  },
  {
   "cell_type": "code",
   "execution_count": 5,
   "id": "4d292978",
   "metadata": {},
   "outputs": [
    {
     "name": "stdout",
     "output_type": "stream",
     "text": [
      "Enter Username : nadupallisriniv\n",
      "Enter Password : ········\n"
     ]
    }
   ],
   "source": [
    "username = input(\"Enter Username : \")\n",
    "password = getpass(\"Enter Password : \")"
   ]
  },
  {
   "cell_type": "code",
   "execution_count": 6,
   "id": "ffd95018",
   "metadata": {},
   "outputs": [
    {
     "name": "stderr",
     "output_type": "stream",
     "text": [
      "C:\\Users\\aakas\\AppData\\Local\\Temp/ipykernel_18188/4247632613.py:1: DeprecationWarning: executable_path has been deprecated, please pass in a Service object\n",
      "  Driver = webdriver.Chrome(chrome_options=options,executable_path=\"C:\\\\WebDriver\\\\chromedriver.exe\")\n",
      "C:\\Users\\aakas\\AppData\\Local\\Temp/ipykernel_18188/4247632613.py:1: DeprecationWarning: use options instead of chrome_options\n",
      "  Driver = webdriver.Chrome(chrome_options=options,executable_path=\"C:\\\\WebDriver\\\\chromedriver.exe\")\n",
      "C:\\Users\\aakas\\AppData\\Local\\Temp/ipykernel_18188/4247632613.py:4: DeprecationWarning: find_element_by_* commands are deprecated. Please use find_element() instead\n",
      "  Driver.find_element_by_xpath(\"//a[contains(text(),' Login')]\").click()\n",
      "C:\\Users\\aakas\\AppData\\Local\\Temp/ipykernel_18188/4247632613.py:6: DeprecationWarning: find_element_by_* commands are deprecated. Please use find_element() instead\n",
      "  Driver.find_element_by_id(\"username\").send_keys(username)\n",
      "C:\\Users\\aakas\\AppData\\Local\\Temp/ipykernel_18188/4247632613.py:8: DeprecationWarning: find_element_by_* commands are deprecated. Please use find_element() instead\n",
      "  Driver.find_element_by_id(\"user_pass\").send_keys(password)\n",
      "C:\\Users\\aakas\\AppData\\Local\\Temp/ipykernel_18188/4247632613.py:10: DeprecationWarning: find_element_by_* commands are deprecated. Please use find_element() instead\n",
      "  Driver.find_element_by_xpath('//button[normalize-space()=\"Login\"]').click()\n",
      "C:\\Users\\aakas\\AppData\\Local\\Temp/ipykernel_18188/4247632613.py:12: DeprecationWarning: find_element_by_* commands are deprecated. Please use find_element() instead\n",
      "  Driver.find_element_by_xpath(\"//a[contains(text(),'Remind me later')]\").click()\n",
      "C:\\Users\\aakas\\AppData\\Local\\Temp/ipykernel_18188/4247632613.py:14: DeprecationWarning: find_element_by_* commands are deprecated. Please use find_element() instead\n",
      "  Driver.find_element_by_xpath(\"//span[text()='Continue to Dashboard']\").click()\n",
      "C:\\Users\\aakas\\AppData\\Local\\Temp/ipykernel_18188/4247632613.py:16: DeprecationWarning: find_element_by_* commands are deprecated. Please use find_element() instead\n",
      "  Driver.find_element_by_class_name(\"caret\").click()\n",
      "C:\\Users\\aakas\\AppData\\Local\\Temp/ipykernel_18188/4247632613.py:18: DeprecationWarning: find_element_by_* commands are deprecated. Please use find_element() instead\n",
      "  Driver.find_element_by_xpath(\"//a[contains(text(),'Returns')]\").click()\n",
      "C:\\Users\\aakas\\AppData\\Local\\Temp/ipykernel_18188/4247632613.py:20: DeprecationWarning: find_element_by_* commands are deprecated. Please use find_element() instead\n",
      "  Driver.find_element_by_xpath(\"//div[@class='col-xs-12']//a[contains(text(),'Returns Dashboard')]\").click()\n",
      "C:\\Users\\aakas\\AppData\\Local\\Temp/ipykernel_18188/4247632613.py:22: DeprecationWarning: find_element_by_* commands are deprecated. Please use find_element() instead\n",
      "  Driver.find_element_by_xpath(\"//select[@name='quarter']/option[text()='Quarter 3 (Oct - Dec)']\").click()\n",
      "C:\\Users\\aakas\\AppData\\Local\\Temp/ipykernel_18188/4247632613.py:24: DeprecationWarning: find_element_by_* commands are deprecated. Please use find_element() instead\n",
      "  Driver.find_element_by_xpath(\"//select[@name='mon']/option[text()='December']\").click()\n",
      "C:\\Users\\aakas\\AppData\\Local\\Temp/ipykernel_18188/4247632613.py:26: DeprecationWarning: find_element_by_* commands are deprecated. Please use find_element() instead\n",
      "  Driver.find_element_by_class_name(\"srchbtn\").click()\n"
     ]
    }
   ],
   "source": [
    "Driver = webdriver.Chrome(chrome_options=options,executable_path=\"C:\\\\WebDriver\\\\chromedriver.exe\") \n",
    "Driver.get('https://www.gst.gov.in/')\n",
    "time.sleep(1)\n",
    "Driver.find_element_by_xpath(\"//a[contains(text(),' Login')]\").click()\n",
    "time.sleep(1)\n",
    "Driver.find_element_by_id(\"username\").send_keys(username)\n",
    "time.sleep(1)\n",
    "Driver.find_element_by_id(\"user_pass\").send_keys(password)\n",
    "time.sleep(10)\n",
    "Driver.find_element_by_xpath('//button[normalize-space()=\"Login\"]').click()\n",
    "time.sleep(1)\n",
    "Driver.find_element_by_xpath(\"//a[contains(text(),'Remind me later')]\").click()\n",
    "time.sleep(2)\n",
    "Driver.find_element_by_xpath(\"//span[text()='Continue to Dashboard']\").click()\n",
    "time.sleep(4)\n",
    "Driver.find_element_by_class_name(\"caret\").click()\n",
    "time.sleep(2)\n",
    "Driver.find_element_by_xpath(\"//a[contains(text(),'Returns')]\").click()\n",
    "time.sleep(2)\n",
    "Driver.find_element_by_xpath(\"//div[@class='col-xs-12']//a[contains(text(),'Returns Dashboard')]\").click()\n",
    "time.sleep(2)\n",
    "Driver.find_element_by_xpath(\"//select[@name='quarter']/option[text()='Quarter 3 (Oct - Dec)']\").click()\n",
    "time.sleep(2)\n",
    "Driver.find_element_by_xpath(\"//select[@name='mon']/option[text()='December']\").click()\n",
    "time.sleep(2)\n",
    "Driver.find_element_by_class_name(\"srchbtn\").click()\n",
    "# time.sleep(2)\n",
    "# Driver.find_element_by_xpath('//div[@class=\"col-sm-6 col-xs-6\"]//button[normalize-space()=\"Download\"]').click()\n",
    "# time.sleep(2)\n",
    "# Driver.find_element_by_class_name(\"dropdown-toggle\").click()\n",
    "# time.sleep(5)\n",
    "# Driver.find_element_by_xpath(\"//a[@href='//services.gst.gov.in/services/logout']\").click()\n",
    "# time.sleep(5)\n",
    "# Driver.close()"
   ]
  },
  {
   "cell_type": "code",
   "execution_count": 32,
   "id": "e0b6e701",
   "metadata": {},
   "outputs": [
    {
     "name": "stderr",
     "output_type": "stream",
     "text": [
      "C:\\Users\\aakas\\AppData\\Local\\Temp/ipykernel_18188/3356629592.py:1: DeprecationWarning: find_element_by_* commands are deprecated. Please use find_element() instead\n",
      "  a = Driver.find_element_by_xpath('//div[@class=\"row\"]//table[@class=\"table tbl inv exp table-bordered\"]')\n"
     ]
    }
   ],
   "source": [
    "a = Driver.find_element_by_xpath('//div[@class=\"row\"]//table[@class=\"table tbl inv exp table-bordered\"]')"
   ]
  },
  {
   "cell_type": "code",
   "execution_count": 43,
   "id": "4c496f1c",
   "metadata": {},
   "outputs": [
    {
     "name": "stdout",
     "output_type": "stream",
     "text": [
      "\n",
      "\n",
      "\n",
      "\n",
      "\n",
      "\n",
      "\n",
      "\n",
      "\n",
      "\n",
      "\n",
      "\n",
      "\n",
      "\n",
      "\n",
      "\n",
      "\n",
      "\n",
      "\n",
      "\n",
      "\n",
      "\n",
      "\n",
      "\n",
      "\n"
     ]
    }
   ],
   "source": [
    "for i in a.find_elements_by_tag_name('td'):\n",
    "    print(i.text)"
   ]
  },
  {
   "cell_type": "code",
   "execution_count": null,
   "id": "644ea26c",
   "metadata": {},
   "outputs": [],
   "source": []
  },
  {
   "cell_type": "code",
   "execution_count": null,
   "id": "6cb8ded5",
   "metadata": {},
   "outputs": [],
   "source": []
  },
  {
   "cell_type": "code",
   "execution_count": null,
   "id": "950190ea",
   "metadata": {},
   "outputs": [],
   "source": []
  },
  {
   "cell_type": "code",
   "execution_count": 74,
   "id": "6e446b48",
   "metadata": {},
   "outputs": [
    {
     "name": "stdout",
     "output_type": "stream",
     "text": [
      "Enter Username : pagepvtltd_2017\n",
      "Enter Password : ········\n"
     ]
    }
   ],
   "source": [
    "# username = input(\"Enter Username : \")\n",
    "# password = getpass(\"Enter Password : \")"
   ]
  },
  {
   "cell_type": "code",
   "execution_count": 78,
   "id": "27ed2a2e",
   "metadata": {},
   "outputs": [
    {
     "name": "stderr",
     "output_type": "stream",
     "text": [
      "C:\\Users\\aakas\\AppData\\Local\\Temp/ipykernel_15528/2631253.py:1: DeprecationWarning: executable_path has been deprecated, please pass in a Service object\n",
      "  Driver = webdriver.Chrome(chrome_options=options,executable_path=\"C:\\\\WebDriver\\\\chromedriver.exe\")\n",
      "C:\\Users\\aakas\\AppData\\Local\\Temp/ipykernel_15528/2631253.py:1: DeprecationWarning: use options instead of chrome_options\n",
      "  Driver = webdriver.Chrome(chrome_options=options,executable_path=\"C:\\\\WebDriver\\\\chromedriver.exe\")\n",
      "C:\\Users\\aakas\\AppData\\Local\\Temp/ipykernel_15528/2631253.py:4: DeprecationWarning: find_element_by_* commands are deprecated. Please use find_element() instead\n",
      "  Driver.find_element_by_xpath(\"//a[contains(text(),' Login')]\").click()\n",
      "C:\\Users\\aakas\\AppData\\Local\\Temp/ipykernel_15528/2631253.py:6: DeprecationWarning: find_element_by_* commands are deprecated. Please use find_element() instead\n",
      "  Driver.find_element_by_id(\"username\").send_keys(username)\n",
      "C:\\Users\\aakas\\AppData\\Local\\Temp/ipykernel_15528/2631253.py:8: DeprecationWarning: find_element_by_* commands are deprecated. Please use find_element() instead\n",
      "  Driver.find_element_by_id(\"user_pass\").send_keys(password)\n",
      "C:\\Users\\aakas\\AppData\\Local\\Temp/ipykernel_15528/2631253.py:10: DeprecationWarning: find_element_by_* commands are deprecated. Please use find_element() instead\n",
      "  Driver.find_element_by_xpath('//button[normalize-space()=\"Login\"]').click()\n",
      "C:\\Users\\aakas\\AppData\\Local\\Temp/ipykernel_15528/2631253.py:12: DeprecationWarning: find_element_by_* commands are deprecated. Please use find_element() instead\n",
      "  Driver.find_element_by_xpath(\"//a[contains(text(),'Remind me later')]\").click()\n",
      "C:\\Users\\aakas\\AppData\\Local\\Temp/ipykernel_15528/2631253.py:14: DeprecationWarning: find_element_by_* commands are deprecated. Please use find_element() instead\n",
      "  Driver.find_element_by_xpath(\"//span[text()='Continue to Dashboard']\").click()\n",
      "C:\\Users\\aakas\\AppData\\Local\\Temp/ipykernel_15528/2631253.py:16: DeprecationWarning: find_element_by_* commands are deprecated. Please use find_element() instead\n",
      "  Driver.find_element_by_class_name(\"caret\").click()\n",
      "C:\\Users\\aakas\\AppData\\Local\\Temp/ipykernel_15528/2631253.py:18: DeprecationWarning: find_element_by_* commands are deprecated. Please use find_element() instead\n",
      "  Driver.find_element_by_xpath(\"//a[contains(text(),'Returns')]\").click()\n",
      "C:\\Users\\aakas\\AppData\\Local\\Temp/ipykernel_15528/2631253.py:20: DeprecationWarning: find_element_by_* commands are deprecated. Please use find_element() instead\n",
      "  Driver.find_element_by_xpath(\"//div[@class='col-xs-12']//a[contains(text(),'Returns Dashboard')]\").click()\n"
     ]
    }
   ],
   "source": [
    "# Driver = webdriver.Chrome(chrome_options=options,executable_path=\"C:\\\\WebDriver\\\\chromedriver.exe\") \n",
    "# Driver.get('https://www.gst.gov.in/')\n",
    "# time.sleep(1)\n",
    "# Driver.find_element_by_xpath(\"//a[contains(text(),' Login')]\").click()\n",
    "# time.sleep(1)\n",
    "# Driver.find_element_by_id(\"username\").send_keys(username)\n",
    "# time.sleep(1)\n",
    "# Driver.find_element_by_id(\"user_pass\").send_keys(password)\n",
    "# time.sleep(10)\n",
    "# Driver.find_element_by_xpath('//button[normalize-space()=\"Login\"]').click()\n",
    "# time.sleep(1)\n",
    "# Driver.find_element_by_xpath(\"//a[contains(text(),'Remind me later')]\").click()\n",
    "# time.sleep(2)\n",
    "# Driver.find_element_by_xpath(\"//span[text()='Continue to Dashboard']\").click()\n",
    "# time.sleep(4)\n",
    "# Driver.find_element_by_class_name(\"caret\").click()\n",
    "# time.sleep(2)\n",
    "# Driver.find_element_by_xpath(\"//a[contains(text(),'Returns')]\").click()\n",
    "# time.sleep(2)\n",
    "# Driver.find_element_by_xpath(\"//div[@class='col-xs-12']//a[contains(text(),'Returns Dashboard')]\").click()\n",
    "# time.sleep(2)\n",
    "# Driver.find_element_by_xpath(\"//select[@name='quarter']/option[text()='Quarter 3 (Oct - Dec)']\").click()\n",
    "# time.sleep(2)\n",
    "# Driver.find_element_by_xpath(\"//select[@name='mon']/option[text()='December']\").click()\n",
    "# time.sleep(2)\n",
    "# Driver.find_element_by_class_name(\"srchbtn\").click()\n",
    "# time.sleep(2)\n",
    "# Driver.find_element_by_xpath('//div[@class=\"col-sm-6 col-xs-6\"]//button[normalize-space()=\"Download\"]').click()\n",
    "# time.sleep(2)\n",
    "# Driver.find_element_by_class_name(\"dropdown-toggle\").click()\n",
    "# time.sleep(5)\n",
    "# Driver.find_element_by_xpath(\"//a[@href='//services.gst.gov.in/services/logout']\").click()\n",
    "# time.sleep(5)\n",
    "# Driver.close()"
   ]
  },
  {
   "cell_type": "code",
   "execution_count": 80,
   "id": "e3217dc1",
   "metadata": {},
   "outputs": [],
   "source": [
    "import calendar\n",
    "Months = list(calendar.month_name)\n",
    "Months = Months[1:]\n",
    "Quarter1 = Months[3:6]\n",
    "Quarter2 = Months[6:9]\n",
    "Quarter3 = Months[9:12]\n",
    "Quarter4 = Months[0:3]"
   ]
  },
  {
   "cell_type": "code",
   "execution_count": 79,
   "id": "b02dbc99",
   "metadata": {},
   "outputs": [
    {
     "name": "stderr",
     "output_type": "stream",
     "text": [
      "C:\\Users\\aakas\\AppData\\Local\\Temp/ipykernel_15528/2707884780.py:1: DeprecationWarning: find_element_by_* commands are deprecated. Please use find_element() instead\n",
      "  Driver.find_element_by_xpath(\"//select[@name='quarter']/option[text()='Quarter 1 (Apr - Jun)']\").click()\n",
      "C:\\Users\\aakas\\AppData\\Local\\Temp/ipykernel_15528/2707884780.py:4: DeprecationWarning: find_element_by_* commands are deprecated. Please use find_element() instead\n",
      "  Driver.find_element_by_xpath(\"//select[@name='mon']/option[text()='December']\").click()\n"
     ]
    },
    {
     "ename": "NoSuchElementException",
     "evalue": "Message: no such element: Unable to locate element: {\"method\":\"xpath\",\"selector\":\"//select[@name='mon']/option[text()='December']\"}\n  (Session info: chrome=97.0.4692.71)\nStacktrace:\nBacktrace:\n\tOrdinal0 [0x00BAFDC3+2555331]\n\tOrdinal0 [0x00B477F1+2127857]\n\tOrdinal0 [0x00A42E08+1060360]\n\tOrdinal0 [0x00A6E49E+1238174]\n\tOrdinal0 [0x00A6E69B+1238683]\n\tOrdinal0 [0x00A99252+1413714]\n\tOrdinal0 [0x00A87B54+1342292]\n\tOrdinal0 [0x00A975FA+1406458]\n\tOrdinal0 [0x00A87976+1341814]\n\tOrdinal0 [0x00A636B6+1193654]\n\tOrdinal0 [0x00A64546+1197382]\n\tGetHandleVerifier [0x00D49622+1619522]\n\tGetHandleVerifier [0x00DF882C+2336844]\n\tGetHandleVerifier [0x00C423E1+541697]\n\tGetHandleVerifier [0x00C41443+537699]\n\tOrdinal0 [0x00B4D18E+2150798]\n\tOrdinal0 [0x00B51518+2168088]\n\tOrdinal0 [0x00B51660+2168416]\n\tOrdinal0 [0x00B5B330+2208560]\n\tBaseThreadInitThunk [0x759CFA29+25]\n\tRtlGetAppContainerNamedObjectPath [0x779B7A9E+286]\n\tRtlGetAppContainerNamedObjectPath [0x779B7A6E+238]\n",
     "output_type": "error",
     "traceback": [
      "\u001b[1;31m---------------------------------------------------------------------------\u001b[0m",
      "\u001b[1;31mNoSuchElementException\u001b[0m                    Traceback (most recent call last)",
      "\u001b[1;32m~\\AppData\\Local\\Temp/ipykernel_15528/2707884780.py\u001b[0m in \u001b[0;36m<module>\u001b[1;34m\u001b[0m\n\u001b[0;32m      2\u001b[0m \u001b[1;33m\u001b[0m\u001b[0m\n\u001b[0;32m      3\u001b[0m \u001b[0mtime\u001b[0m\u001b[1;33m.\u001b[0m\u001b[0msleep\u001b[0m\u001b[1;33m(\u001b[0m\u001b[1;36m2\u001b[0m\u001b[1;33m)\u001b[0m\u001b[1;33m\u001b[0m\u001b[1;33m\u001b[0m\u001b[0m\n\u001b[1;32m----> 4\u001b[1;33m \u001b[0mDriver\u001b[0m\u001b[1;33m.\u001b[0m\u001b[0mfind_element_by_xpath\u001b[0m\u001b[1;33m(\u001b[0m\u001b[1;34m\"//select[@name='mon']/option[text()='December']\"\u001b[0m\u001b[1;33m)\u001b[0m\u001b[1;33m.\u001b[0m\u001b[0mclick\u001b[0m\u001b[1;33m(\u001b[0m\u001b[1;33m)\u001b[0m\u001b[1;33m\u001b[0m\u001b[1;33m\u001b[0m\u001b[0m\n\u001b[0m\u001b[0;32m      5\u001b[0m \u001b[0mtime\u001b[0m\u001b[1;33m.\u001b[0m\u001b[0msleep\u001b[0m\u001b[1;33m(\u001b[0m\u001b[1;36m2\u001b[0m\u001b[1;33m)\u001b[0m\u001b[1;33m\u001b[0m\u001b[1;33m\u001b[0m\u001b[0m\n",
      "\u001b[1;32m~\\anaconda3\\lib\\site-packages\\selenium\\webdriver\\remote\\webdriver.py\u001b[0m in \u001b[0;36mfind_element_by_xpath\u001b[1;34m(self, xpath)\u001b[0m\n\u001b[0;32m    518\u001b[0m             \u001b[0mstacklevel\u001b[0m\u001b[1;33m=\u001b[0m\u001b[1;36m2\u001b[0m\u001b[1;33m,\u001b[0m\u001b[1;33m\u001b[0m\u001b[1;33m\u001b[0m\u001b[0m\n\u001b[0;32m    519\u001b[0m         )\n\u001b[1;32m--> 520\u001b[1;33m         \u001b[1;32mreturn\u001b[0m \u001b[0mself\u001b[0m\u001b[1;33m.\u001b[0m\u001b[0mfind_element\u001b[0m\u001b[1;33m(\u001b[0m\u001b[0mby\u001b[0m\u001b[1;33m=\u001b[0m\u001b[0mBy\u001b[0m\u001b[1;33m.\u001b[0m\u001b[0mXPATH\u001b[0m\u001b[1;33m,\u001b[0m \u001b[0mvalue\u001b[0m\u001b[1;33m=\u001b[0m\u001b[0mxpath\u001b[0m\u001b[1;33m)\u001b[0m\u001b[1;33m\u001b[0m\u001b[1;33m\u001b[0m\u001b[0m\n\u001b[0m\u001b[0;32m    521\u001b[0m \u001b[1;33m\u001b[0m\u001b[0m\n\u001b[0;32m    522\u001b[0m     \u001b[1;32mdef\u001b[0m \u001b[0mfind_elements_by_xpath\u001b[0m\u001b[1;33m(\u001b[0m\u001b[0mself\u001b[0m\u001b[1;33m,\u001b[0m \u001b[0mxpath\u001b[0m\u001b[1;33m)\u001b[0m \u001b[1;33m->\u001b[0m \u001b[0mWebElement\u001b[0m\u001b[1;33m:\u001b[0m\u001b[1;33m\u001b[0m\u001b[1;33m\u001b[0m\u001b[0m\n",
      "\u001b[1;32m~\\anaconda3\\lib\\site-packages\\selenium\\webdriver\\remote\\webdriver.py\u001b[0m in \u001b[0;36mfind_element\u001b[1;34m(self, by, value)\u001b[0m\n\u001b[0;32m   1242\u001b[0m             \u001b[0mvalue\u001b[0m \u001b[1;33m=\u001b[0m \u001b[1;34m'[name=\"%s\"]'\u001b[0m \u001b[1;33m%\u001b[0m \u001b[0mvalue\u001b[0m\u001b[1;33m\u001b[0m\u001b[1;33m\u001b[0m\u001b[0m\n\u001b[0;32m   1243\u001b[0m \u001b[1;33m\u001b[0m\u001b[0m\n\u001b[1;32m-> 1244\u001b[1;33m         return self.execute(Command.FIND_ELEMENT, {\n\u001b[0m\u001b[0;32m   1245\u001b[0m             \u001b[1;34m'using'\u001b[0m\u001b[1;33m:\u001b[0m \u001b[0mby\u001b[0m\u001b[1;33m,\u001b[0m\u001b[1;33m\u001b[0m\u001b[1;33m\u001b[0m\u001b[0m\n\u001b[0;32m   1246\u001b[0m             'value': value})['value']\n",
      "\u001b[1;32m~\\anaconda3\\lib\\site-packages\\selenium\\webdriver\\remote\\webdriver.py\u001b[0m in \u001b[0;36mexecute\u001b[1;34m(self, driver_command, params)\u001b[0m\n\u001b[0;32m    422\u001b[0m         \u001b[0mresponse\u001b[0m \u001b[1;33m=\u001b[0m \u001b[0mself\u001b[0m\u001b[1;33m.\u001b[0m\u001b[0mcommand_executor\u001b[0m\u001b[1;33m.\u001b[0m\u001b[0mexecute\u001b[0m\u001b[1;33m(\u001b[0m\u001b[0mdriver_command\u001b[0m\u001b[1;33m,\u001b[0m \u001b[0mparams\u001b[0m\u001b[1;33m)\u001b[0m\u001b[1;33m\u001b[0m\u001b[1;33m\u001b[0m\u001b[0m\n\u001b[0;32m    423\u001b[0m         \u001b[1;32mif\u001b[0m \u001b[0mresponse\u001b[0m\u001b[1;33m:\u001b[0m\u001b[1;33m\u001b[0m\u001b[1;33m\u001b[0m\u001b[0m\n\u001b[1;32m--> 424\u001b[1;33m             \u001b[0mself\u001b[0m\u001b[1;33m.\u001b[0m\u001b[0merror_handler\u001b[0m\u001b[1;33m.\u001b[0m\u001b[0mcheck_response\u001b[0m\u001b[1;33m(\u001b[0m\u001b[0mresponse\u001b[0m\u001b[1;33m)\u001b[0m\u001b[1;33m\u001b[0m\u001b[1;33m\u001b[0m\u001b[0m\n\u001b[0m\u001b[0;32m    425\u001b[0m             response['value'] = self._unwrap_value(\n\u001b[0;32m    426\u001b[0m                 response.get('value', None))\n",
      "\u001b[1;32m~\\anaconda3\\lib\\site-packages\\selenium\\webdriver\\remote\\errorhandler.py\u001b[0m in \u001b[0;36mcheck_response\u001b[1;34m(self, response)\u001b[0m\n\u001b[0;32m    245\u001b[0m                 \u001b[0malert_text\u001b[0m \u001b[1;33m=\u001b[0m \u001b[0mvalue\u001b[0m\u001b[1;33m[\u001b[0m\u001b[1;34m'alert'\u001b[0m\u001b[1;33m]\u001b[0m\u001b[1;33m.\u001b[0m\u001b[0mget\u001b[0m\u001b[1;33m(\u001b[0m\u001b[1;34m'text'\u001b[0m\u001b[1;33m)\u001b[0m\u001b[1;33m\u001b[0m\u001b[1;33m\u001b[0m\u001b[0m\n\u001b[0;32m    246\u001b[0m             \u001b[1;32mraise\u001b[0m \u001b[0mexception_class\u001b[0m\u001b[1;33m(\u001b[0m\u001b[0mmessage\u001b[0m\u001b[1;33m,\u001b[0m \u001b[0mscreen\u001b[0m\u001b[1;33m,\u001b[0m \u001b[0mstacktrace\u001b[0m\u001b[1;33m,\u001b[0m \u001b[0malert_text\u001b[0m\u001b[1;33m)\u001b[0m  \u001b[1;31m# type: ignore[call-arg]  # mypy is not smart enough here\u001b[0m\u001b[1;33m\u001b[0m\u001b[1;33m\u001b[0m\u001b[0m\n\u001b[1;32m--> 247\u001b[1;33m         \u001b[1;32mraise\u001b[0m \u001b[0mexception_class\u001b[0m\u001b[1;33m(\u001b[0m\u001b[0mmessage\u001b[0m\u001b[1;33m,\u001b[0m \u001b[0mscreen\u001b[0m\u001b[1;33m,\u001b[0m \u001b[0mstacktrace\u001b[0m\u001b[1;33m)\u001b[0m\u001b[1;33m\u001b[0m\u001b[1;33m\u001b[0m\u001b[0m\n\u001b[0m\u001b[0;32m    248\u001b[0m \u001b[1;33m\u001b[0m\u001b[0m\n\u001b[0;32m    249\u001b[0m     \u001b[1;32mdef\u001b[0m \u001b[0m_value_or_default\u001b[0m\u001b[1;33m(\u001b[0m\u001b[0mself\u001b[0m\u001b[1;33m,\u001b[0m \u001b[0mobj\u001b[0m\u001b[1;33m:\u001b[0m \u001b[0mMapping\u001b[0m\u001b[1;33m[\u001b[0m\u001b[0m_KT\u001b[0m\u001b[1;33m,\u001b[0m \u001b[0m_VT\u001b[0m\u001b[1;33m]\u001b[0m\u001b[1;33m,\u001b[0m \u001b[0mkey\u001b[0m\u001b[1;33m:\u001b[0m \u001b[0m_KT\u001b[0m\u001b[1;33m,\u001b[0m \u001b[0mdefault\u001b[0m\u001b[1;33m:\u001b[0m \u001b[0m_VT\u001b[0m\u001b[1;33m)\u001b[0m \u001b[1;33m->\u001b[0m \u001b[0m_VT\u001b[0m\u001b[1;33m:\u001b[0m\u001b[1;33m\u001b[0m\u001b[1;33m\u001b[0m\u001b[0m\n",
      "\u001b[1;31mNoSuchElementException\u001b[0m: Message: no such element: Unable to locate element: {\"method\":\"xpath\",\"selector\":\"//select[@name='mon']/option[text()='December']\"}\n  (Session info: chrome=97.0.4692.71)\nStacktrace:\nBacktrace:\n\tOrdinal0 [0x00BAFDC3+2555331]\n\tOrdinal0 [0x00B477F1+2127857]\n\tOrdinal0 [0x00A42E08+1060360]\n\tOrdinal0 [0x00A6E49E+1238174]\n\tOrdinal0 [0x00A6E69B+1238683]\n\tOrdinal0 [0x00A99252+1413714]\n\tOrdinal0 [0x00A87B54+1342292]\n\tOrdinal0 [0x00A975FA+1406458]\n\tOrdinal0 [0x00A87976+1341814]\n\tOrdinal0 [0x00A636B6+1193654]\n\tOrdinal0 [0x00A64546+1197382]\n\tGetHandleVerifier [0x00D49622+1619522]\n\tGetHandleVerifier [0x00DF882C+2336844]\n\tGetHandleVerifier [0x00C423E1+541697]\n\tGetHandleVerifier [0x00C41443+537699]\n\tOrdinal0 [0x00B4D18E+2150798]\n\tOrdinal0 [0x00B51518+2168088]\n\tOrdinal0 [0x00B51660+2168416]\n\tOrdinal0 [0x00B5B330+2208560]\n\tBaseThreadInitThunk [0x759CFA29+25]\n\tRtlGetAppContainerNamedObjectPath [0x779B7A9E+286]\n\tRtlGetAppContainerNamedObjectPath [0x779B7A6E+238]\n"
     ]
    }
   ],
   "source": [
    "Driver.find_element_by_xpath(\"//select[@name='quarter']/option[text()='Quarter 1 (Apr - Jun)']\").click()\n",
    "for i in range(len(Quarter1)):\n",
    "    Driver.find_element_by_xpath(\"//select[@name='mon']/option[text()='December']\").click()"
   ]
  },
  {
   "cell_type": "code",
   "execution_count": null,
   "id": "3af71504",
   "metadata": {},
   "outputs": [],
   "source": [
    "Driver.find_element_by_xpath(\"//select[@name='mon']/option[text()=]\").click()"
   ]
  },
  {
   "cell_type": "code",
   "execution_count": null,
   "id": "a77180f3",
   "metadata": {},
   "outputs": [],
   "source": []
  },
  {
   "cell_type": "code",
   "execution_count": null,
   "id": "0060c489",
   "metadata": {},
   "outputs": [],
   "source": []
  },
  {
   "cell_type": "code",
   "execution_count": 50,
   "id": "6837197c",
   "metadata": {},
   "outputs": [
    {
     "name": "stderr",
     "output_type": "stream",
     "text": [
      "C:\\Users\\aakas\\AppData\\Local\\Temp/ipykernel_15528/195985648.py:1: DeprecationWarning: find_element_by_* commands are deprecated. Please use find_element() instead\n",
      "  Driver.find_element_by_xpath(\"//span[text()='Continue to Dashboard']\").click()\n"
     ]
    }
   ],
   "source": [
    "Driver.find_element_by_xpath(\"//span[text()='Continue to Dashboard']\").click()"
   ]
  },
  {
   "cell_type": "code",
   "execution_count": 51,
   "id": "e89eeceb",
   "metadata": {},
   "outputs": [
    {
     "name": "stderr",
     "output_type": "stream",
     "text": [
      "C:\\Users\\aakas\\AppData\\Local\\Temp/ipykernel_15528/2034962289.py:1: DeprecationWarning: find_element_by_* commands are deprecated. Please use find_element() instead\n",
      "  Driver.find_element_by_class_name(\"caret\").click()\n",
      "C:\\Users\\aakas\\AppData\\Local\\Temp/ipykernel_15528/2034962289.py:2: DeprecationWarning: find_element_by_* commands are deprecated. Please use find_element() instead\n",
      "  Driver.find_element_by_xpath(\"//a[contains(text(),'Returns')]\").click()\n",
      "C:\\Users\\aakas\\AppData\\Local\\Temp/ipykernel_15528/2034962289.py:3: DeprecationWarning: find_element_by_* commands are deprecated. Please use find_element() instead\n",
      "  Driver.find_element_by_xpath(\"//div[@class='col-xs-12']//a[contains(text(),'Returns Dashboard')]\").click()\n"
     ]
    },
    {
     "ename": "ElementNotInteractableException",
     "evalue": "Message: element not interactable\n  (Session info: chrome=97.0.4692.71)\nStacktrace:\nBacktrace:\n\tOrdinal0 [0x00BAFDC3+2555331]\n\tOrdinal0 [0x00B477F1+2127857]\n\tOrdinal0 [0x00A42CD0+1060048]\n\tOrdinal0 [0x00A6F3AE+1242030]\n\tOrdinal0 [0x00A64FB3+1200051]\n\tOrdinal0 [0x00A87B0C+1342220]\n\tOrdinal0 [0x00A64984+1198468]\n\tOrdinal0 [0x00A87C14+1342484]\n\tOrdinal0 [0x00A975FA+1406458]\n\tOrdinal0 [0x00A87976+1341814]\n\tOrdinal0 [0x00A636B6+1193654]\n\tOrdinal0 [0x00A64546+1197382]\n\tGetHandleVerifier [0x00D49622+1619522]\n\tGetHandleVerifier [0x00DF882C+2336844]\n\tGetHandleVerifier [0x00C423E1+541697]\n\tGetHandleVerifier [0x00C41443+537699]\n\tOrdinal0 [0x00B4D18E+2150798]\n\tOrdinal0 [0x00B51518+2168088]\n\tOrdinal0 [0x00B51660+2168416]\n\tOrdinal0 [0x00B5B330+2208560]\n\tBaseThreadInitThunk [0x759CFA29+25]\n\tRtlGetAppContainerNamedObjectPath [0x779B7A9E+286]\n\tRtlGetAppContainerNamedObjectPath [0x779B7A6E+238]\n",
     "output_type": "error",
     "traceback": [
      "\u001b[1;31m---------------------------------------------------------------------------\u001b[0m",
      "\u001b[1;31mElementNotInteractableException\u001b[0m           Traceback (most recent call last)",
      "\u001b[1;32m~\\AppData\\Local\\Temp/ipykernel_15528/2034962289.py\u001b[0m in \u001b[0;36m<module>\u001b[1;34m\u001b[0m\n\u001b[0;32m      1\u001b[0m \u001b[0mDriver\u001b[0m\u001b[1;33m.\u001b[0m\u001b[0mfind_element_by_class_name\u001b[0m\u001b[1;33m(\u001b[0m\u001b[1;34m\"caret\"\u001b[0m\u001b[1;33m)\u001b[0m\u001b[1;33m.\u001b[0m\u001b[0mclick\u001b[0m\u001b[1;33m(\u001b[0m\u001b[1;33m)\u001b[0m\u001b[1;33m\u001b[0m\u001b[1;33m\u001b[0m\u001b[0m\n\u001b[0;32m      2\u001b[0m \u001b[0mDriver\u001b[0m\u001b[1;33m.\u001b[0m\u001b[0mfind_element_by_xpath\u001b[0m\u001b[1;33m(\u001b[0m\u001b[1;34m\"//a[contains(text(),'Returns')]\"\u001b[0m\u001b[1;33m)\u001b[0m\u001b[1;33m.\u001b[0m\u001b[0mclick\u001b[0m\u001b[1;33m(\u001b[0m\u001b[1;33m)\u001b[0m\u001b[1;33m\u001b[0m\u001b[1;33m\u001b[0m\u001b[0m\n\u001b[1;32m----> 3\u001b[1;33m \u001b[0mDriver\u001b[0m\u001b[1;33m.\u001b[0m\u001b[0mfind_element_by_xpath\u001b[0m\u001b[1;33m(\u001b[0m\u001b[1;34m\"//div[@class='col-xs-12']//a[contains(text(),'Returns Dashboard')]\"\u001b[0m\u001b[1;33m)\u001b[0m\u001b[1;33m.\u001b[0m\u001b[0mclick\u001b[0m\u001b[1;33m(\u001b[0m\u001b[1;33m)\u001b[0m\u001b[1;33m\u001b[0m\u001b[1;33m\u001b[0m\u001b[0m\n\u001b[0m",
      "\u001b[1;32m~\\anaconda3\\lib\\site-packages\\selenium\\webdriver\\remote\\webelement.py\u001b[0m in \u001b[0;36mclick\u001b[1;34m(self)\u001b[0m\n\u001b[0;32m     79\u001b[0m     \u001b[1;32mdef\u001b[0m \u001b[0mclick\u001b[0m\u001b[1;33m(\u001b[0m\u001b[0mself\u001b[0m\u001b[1;33m)\u001b[0m \u001b[1;33m->\u001b[0m \u001b[1;32mNone\u001b[0m\u001b[1;33m:\u001b[0m\u001b[1;33m\u001b[0m\u001b[1;33m\u001b[0m\u001b[0m\n\u001b[0;32m     80\u001b[0m         \u001b[1;34m\"\"\"Clicks the element.\"\"\"\u001b[0m\u001b[1;33m\u001b[0m\u001b[1;33m\u001b[0m\u001b[0m\n\u001b[1;32m---> 81\u001b[1;33m         \u001b[0mself\u001b[0m\u001b[1;33m.\u001b[0m\u001b[0m_execute\u001b[0m\u001b[1;33m(\u001b[0m\u001b[0mCommand\u001b[0m\u001b[1;33m.\u001b[0m\u001b[0mCLICK_ELEMENT\u001b[0m\u001b[1;33m)\u001b[0m\u001b[1;33m\u001b[0m\u001b[1;33m\u001b[0m\u001b[0m\n\u001b[0m\u001b[0;32m     82\u001b[0m \u001b[1;33m\u001b[0m\u001b[0m\n\u001b[0;32m     83\u001b[0m     \u001b[1;32mdef\u001b[0m \u001b[0msubmit\u001b[0m\u001b[1;33m(\u001b[0m\u001b[0mself\u001b[0m\u001b[1;33m)\u001b[0m\u001b[1;33m:\u001b[0m\u001b[1;33m\u001b[0m\u001b[1;33m\u001b[0m\u001b[0m\n",
      "\u001b[1;32m~\\anaconda3\\lib\\site-packages\\selenium\\webdriver\\remote\\webelement.py\u001b[0m in \u001b[0;36m_execute\u001b[1;34m(self, command, params)\u001b[0m\n\u001b[0;32m    708\u001b[0m             \u001b[0mparams\u001b[0m \u001b[1;33m=\u001b[0m \u001b[1;33m{\u001b[0m\u001b[1;33m}\u001b[0m\u001b[1;33m\u001b[0m\u001b[1;33m\u001b[0m\u001b[0m\n\u001b[0;32m    709\u001b[0m         \u001b[0mparams\u001b[0m\u001b[1;33m[\u001b[0m\u001b[1;34m'id'\u001b[0m\u001b[1;33m]\u001b[0m \u001b[1;33m=\u001b[0m \u001b[0mself\u001b[0m\u001b[1;33m.\u001b[0m\u001b[0m_id\u001b[0m\u001b[1;33m\u001b[0m\u001b[1;33m\u001b[0m\u001b[0m\n\u001b[1;32m--> 710\u001b[1;33m         \u001b[1;32mreturn\u001b[0m \u001b[0mself\u001b[0m\u001b[1;33m.\u001b[0m\u001b[0m_parent\u001b[0m\u001b[1;33m.\u001b[0m\u001b[0mexecute\u001b[0m\u001b[1;33m(\u001b[0m\u001b[0mcommand\u001b[0m\u001b[1;33m,\u001b[0m \u001b[0mparams\u001b[0m\u001b[1;33m)\u001b[0m\u001b[1;33m\u001b[0m\u001b[1;33m\u001b[0m\u001b[0m\n\u001b[0m\u001b[0;32m    711\u001b[0m \u001b[1;33m\u001b[0m\u001b[0m\n\u001b[0;32m    712\u001b[0m     \u001b[1;32mdef\u001b[0m \u001b[0mfind_element\u001b[0m\u001b[1;33m(\u001b[0m\u001b[0mself\u001b[0m\u001b[1;33m,\u001b[0m \u001b[0mby\u001b[0m\u001b[1;33m=\u001b[0m\u001b[0mBy\u001b[0m\u001b[1;33m.\u001b[0m\u001b[0mID\u001b[0m\u001b[1;33m,\u001b[0m \u001b[0mvalue\u001b[0m\u001b[1;33m=\u001b[0m\u001b[1;32mNone\u001b[0m\u001b[1;33m)\u001b[0m\u001b[1;33m:\u001b[0m\u001b[1;33m\u001b[0m\u001b[1;33m\u001b[0m\u001b[0m\n",
      "\u001b[1;32m~\\anaconda3\\lib\\site-packages\\selenium\\webdriver\\remote\\webdriver.py\u001b[0m in \u001b[0;36mexecute\u001b[1;34m(self, driver_command, params)\u001b[0m\n\u001b[0;32m    422\u001b[0m         \u001b[0mresponse\u001b[0m \u001b[1;33m=\u001b[0m \u001b[0mself\u001b[0m\u001b[1;33m.\u001b[0m\u001b[0mcommand_executor\u001b[0m\u001b[1;33m.\u001b[0m\u001b[0mexecute\u001b[0m\u001b[1;33m(\u001b[0m\u001b[0mdriver_command\u001b[0m\u001b[1;33m,\u001b[0m \u001b[0mparams\u001b[0m\u001b[1;33m)\u001b[0m\u001b[1;33m\u001b[0m\u001b[1;33m\u001b[0m\u001b[0m\n\u001b[0;32m    423\u001b[0m         \u001b[1;32mif\u001b[0m \u001b[0mresponse\u001b[0m\u001b[1;33m:\u001b[0m\u001b[1;33m\u001b[0m\u001b[1;33m\u001b[0m\u001b[0m\n\u001b[1;32m--> 424\u001b[1;33m             \u001b[0mself\u001b[0m\u001b[1;33m.\u001b[0m\u001b[0merror_handler\u001b[0m\u001b[1;33m.\u001b[0m\u001b[0mcheck_response\u001b[0m\u001b[1;33m(\u001b[0m\u001b[0mresponse\u001b[0m\u001b[1;33m)\u001b[0m\u001b[1;33m\u001b[0m\u001b[1;33m\u001b[0m\u001b[0m\n\u001b[0m\u001b[0;32m    425\u001b[0m             response['value'] = self._unwrap_value(\n\u001b[0;32m    426\u001b[0m                 response.get('value', None))\n",
      "\u001b[1;32m~\\anaconda3\\lib\\site-packages\\selenium\\webdriver\\remote\\errorhandler.py\u001b[0m in \u001b[0;36mcheck_response\u001b[1;34m(self, response)\u001b[0m\n\u001b[0;32m    245\u001b[0m                 \u001b[0malert_text\u001b[0m \u001b[1;33m=\u001b[0m \u001b[0mvalue\u001b[0m\u001b[1;33m[\u001b[0m\u001b[1;34m'alert'\u001b[0m\u001b[1;33m]\u001b[0m\u001b[1;33m.\u001b[0m\u001b[0mget\u001b[0m\u001b[1;33m(\u001b[0m\u001b[1;34m'text'\u001b[0m\u001b[1;33m)\u001b[0m\u001b[1;33m\u001b[0m\u001b[1;33m\u001b[0m\u001b[0m\n\u001b[0;32m    246\u001b[0m             \u001b[1;32mraise\u001b[0m \u001b[0mexception_class\u001b[0m\u001b[1;33m(\u001b[0m\u001b[0mmessage\u001b[0m\u001b[1;33m,\u001b[0m \u001b[0mscreen\u001b[0m\u001b[1;33m,\u001b[0m \u001b[0mstacktrace\u001b[0m\u001b[1;33m,\u001b[0m \u001b[0malert_text\u001b[0m\u001b[1;33m)\u001b[0m  \u001b[1;31m# type: ignore[call-arg]  # mypy is not smart enough here\u001b[0m\u001b[1;33m\u001b[0m\u001b[1;33m\u001b[0m\u001b[0m\n\u001b[1;32m--> 247\u001b[1;33m         \u001b[1;32mraise\u001b[0m \u001b[0mexception_class\u001b[0m\u001b[1;33m(\u001b[0m\u001b[0mmessage\u001b[0m\u001b[1;33m,\u001b[0m \u001b[0mscreen\u001b[0m\u001b[1;33m,\u001b[0m \u001b[0mstacktrace\u001b[0m\u001b[1;33m)\u001b[0m\u001b[1;33m\u001b[0m\u001b[1;33m\u001b[0m\u001b[0m\n\u001b[0m\u001b[0;32m    248\u001b[0m \u001b[1;33m\u001b[0m\u001b[0m\n\u001b[0;32m    249\u001b[0m     \u001b[1;32mdef\u001b[0m \u001b[0m_value_or_default\u001b[0m\u001b[1;33m(\u001b[0m\u001b[0mself\u001b[0m\u001b[1;33m,\u001b[0m \u001b[0mobj\u001b[0m\u001b[1;33m:\u001b[0m \u001b[0mMapping\u001b[0m\u001b[1;33m[\u001b[0m\u001b[0m_KT\u001b[0m\u001b[1;33m,\u001b[0m \u001b[0m_VT\u001b[0m\u001b[1;33m]\u001b[0m\u001b[1;33m,\u001b[0m \u001b[0mkey\u001b[0m\u001b[1;33m:\u001b[0m \u001b[0m_KT\u001b[0m\u001b[1;33m,\u001b[0m \u001b[0mdefault\u001b[0m\u001b[1;33m:\u001b[0m \u001b[0m_VT\u001b[0m\u001b[1;33m)\u001b[0m \u001b[1;33m->\u001b[0m \u001b[0m_VT\u001b[0m\u001b[1;33m:\u001b[0m\u001b[1;33m\u001b[0m\u001b[1;33m\u001b[0m\u001b[0m\n",
      "\u001b[1;31mElementNotInteractableException\u001b[0m: Message: element not interactable\n  (Session info: chrome=97.0.4692.71)\nStacktrace:\nBacktrace:\n\tOrdinal0 [0x00BAFDC3+2555331]\n\tOrdinal0 [0x00B477F1+2127857]\n\tOrdinal0 [0x00A42CD0+1060048]\n\tOrdinal0 [0x00A6F3AE+1242030]\n\tOrdinal0 [0x00A64FB3+1200051]\n\tOrdinal0 [0x00A87B0C+1342220]\n\tOrdinal0 [0x00A64984+1198468]\n\tOrdinal0 [0x00A87C14+1342484]\n\tOrdinal0 [0x00A975FA+1406458]\n\tOrdinal0 [0x00A87976+1341814]\n\tOrdinal0 [0x00A636B6+1193654]\n\tOrdinal0 [0x00A64546+1197382]\n\tGetHandleVerifier [0x00D49622+1619522]\n\tGetHandleVerifier [0x00DF882C+2336844]\n\tGetHandleVerifier [0x00C423E1+541697]\n\tGetHandleVerifier [0x00C41443+537699]\n\tOrdinal0 [0x00B4D18E+2150798]\n\tOrdinal0 [0x00B51518+2168088]\n\tOrdinal0 [0x00B51660+2168416]\n\tOrdinal0 [0x00B5B330+2208560]\n\tBaseThreadInitThunk [0x759CFA29+25]\n\tRtlGetAppContainerNamedObjectPath [0x779B7A9E+286]\n\tRtlGetAppContainerNamedObjectPath [0x779B7A6E+238]\n"
     ]
    }
   ],
   "source": [
    "Driver.find_element_by_class_name(\"caret\").click()\n",
    "# Driver.find_element_by_xpath(\"//a[contains(text(),'Returns')]\").click()"
   ]
  },
  {
   "cell_type": "code",
   "execution_count": 71,
   "id": "c2a0efba",
   "metadata": {},
   "outputs": [
    {
     "name": "stderr",
     "output_type": "stream",
     "text": [
      "C:\\Users\\aakas\\AppData\\Local\\Temp/ipykernel_15528/446862540.py:2: DeprecationWarning: find_element_by_* commands are deprecated. Please use find_element() instead\n",
      "  Driver.find_element_by_class_name(\"caret\").click()\n"
     ]
    }
   ],
   "source": [
    "# Driver.find_element_by_xpath(\"//a[contains(text(),'Services ')]\").click()\n",
    "Driver.find_element_by_class_name(\"caret\").click()"
   ]
  },
  {
   "cell_type": "code",
   "execution_count": 37,
   "id": "14b675e0",
   "metadata": {},
   "outputs": [
    {
     "name": "stderr",
     "output_type": "stream",
     "text": [
      "C:\\Users\\aakas\\AppData\\Local\\Temp/ipykernel_15528/888604746.py:1: DeprecationWarning: find_element_by_* commands are deprecated. Please use find_element() instead\n",
      "  Driver.find_element_by_xpath(\"//a[contains(text(),'Returns')]\").click()\n"
     ]
    }
   ],
   "source": [
    "# Driver.find_element_by_xpath(\"//a[contains(text(),'Returns')]\").click()"
   ]
  },
  {
   "cell_type": "code",
   "execution_count": 52,
   "id": "7a72ada2",
   "metadata": {},
   "outputs": [
    {
     "name": "stderr",
     "output_type": "stream",
     "text": [
      "C:\\Users\\aakas\\AppData\\Local\\Temp/ipykernel_15528/507370140.py:1: DeprecationWarning: find_element_by_* commands are deprecated. Please use find_element() instead\n",
      "  Driver.find_element_by_xpath(\"//div[@class='col-xs-12']//a[contains(text(),'Returns Dashboard')]\").click()\n"
     ]
    }
   ],
   "source": [
    "Driver.find_element_by_xpath(\"//div[@class='col-xs-12']//a[contains(text(),'Returns Dashboard')]\").click()\n",
    "# Driver.find_element_by_xpath('//a[contains(text(),\"Returns Dashboard\")]').click()"
   ]
  },
  {
   "cell_type": "code",
   "execution_count": 62,
   "id": "e9a20731",
   "metadata": {},
   "outputs": [
    {
     "name": "stderr",
     "output_type": "stream",
     "text": [
      "C:\\Users\\aakas\\AppData\\Local\\Temp/ipykernel_15528/283968654.py:1: DeprecationWarning: find_element_by_* commands are deprecated. Please use find_element() instead\n",
      "  Driver.find_element_by_xpath(\"//select[@name='quarter']/option[text()='Quarter 3 (Oct - Dec)']\").click()\n"
     ]
    }
   ],
   "source": [
    "Driver.find_element_by_xpath(\"//select[@name='quarter']/option[text()='Quarter 3 (Oct - Dec)']\").click()"
   ]
  },
  {
   "cell_type": "code",
   "execution_count": 66,
   "id": "d4f51578",
   "metadata": {},
   "outputs": [
    {
     "name": "stderr",
     "output_type": "stream",
     "text": [
      "C:\\Users\\aakas\\AppData\\Local\\Temp/ipykernel_15528/107624962.py:1: DeprecationWarning: find_element_by_* commands are deprecated. Please use find_element() instead\n",
      "  Driver.find_element_by_xpath(\"//select[@name='mon']/option[text()='December']\").click()\n"
     ]
    }
   ],
   "source": [
    "Driver.find_element_by_xpath(\"//select[@name='mon']/option[text()='December']\").click()"
   ]
  },
  {
   "cell_type": "code",
   "execution_count": 67,
   "id": "d05bbf2e",
   "metadata": {},
   "outputs": [
    {
     "name": "stderr",
     "output_type": "stream",
     "text": [
      "C:\\Users\\aakas\\AppData\\Local\\Temp/ipykernel_15528/3171981835.py:3: DeprecationWarning: find_element_by_* commands are deprecated. Please use find_element() instead\n",
      "  Driver.find_element_by_class_name(\"srchbtn\").click()\n"
     ]
    }
   ],
   "source": [
    "# Driver.find_element_by_xpath(\"//div[@class='col-sm-3 col-xs-12']\").click()\n",
    "# Driver.find_element_by_xpath('//div[@class=\"col-sm-3 col-xs-12\"]//button[normalize-space()=\"Search\"]').click()\n",
    "Driver.find_element_by_class_name(\"srchbtn\").click()"
   ]
  },
  {
   "cell_type": "code",
   "execution_count": 68,
   "id": "356929ef",
   "metadata": {},
   "outputs": [
    {
     "name": "stderr",
     "output_type": "stream",
     "text": [
      "C:\\Users\\aakas\\AppData\\Local\\Temp/ipykernel_15528/2448534529.py:1: DeprecationWarning: find_element_by_* commands are deprecated. Please use find_element() instead\n",
      "  Driver.find_element_by_xpath('//div[@class=\"col-sm-6 col-xs-6\"]//button[normalize-space()=\"Download\"]').click()\n"
     ]
    }
   ],
   "source": [
    "Driver.find_element_by_xpath('//div[@class=\"col-sm-6 col-xs-6\"]//button[normalize-space()=\"Download\"]').click()"
   ]
  },
  {
   "cell_type": "code",
   "execution_count": 10,
   "id": "0106c4c9",
   "metadata": {},
   "outputs": [
    {
     "name": "stderr",
     "output_type": "stream",
     "text": [
      "C:\\Users\\aakas\\AppData\\Local\\Temp/ipykernel_7088/1126793892.py:3: DeprecationWarning: find_element_by_* commands are deprecated. Please use find_element() instead\n",
      "  Captcha = Driver.find_element_by_id(\"imgCaptcha\")\n"
     ]
    },
    {
     "data": {
      "text/plain": [
       "b'\\x89PNG\\r\\n\\x1a\\n\\x00\\x00\\x00\\rIHDR\\x00\\x00\\x00\\xb6\\x00\\x00\\x002\\x08\\x06\\x00\\x00\\x00\\xf1\\xd1!\\xca\\x00\\x00 \\x00IDATx\\x9c\\xed}ytUE\\xb6\\xfeW\\xe7\\x0eIn\\xc8L\\x08&\\xa8 \\x88\\xa0\\x82\\xcbg\\xab- \\x02-\\x83L\\x82(\\xc8 \\x84)\\x82\\xd0LB\\x98\\t\\x11D\\xa6\\x10\\x08\\x08$LaV\\xfb\\x81M\\x03\\xda\\xb4\\x88\\x13\\x0e\\xa8-C\\xcb\\x10 8\\x90\\x84!d\\xbe\\xf3p\\xce\\xfb\\xe3\\xde*\\xaa\\xce9\\xf7\\xe6\\xd2\\xfa{\\xef\\xad\\xb7~{\\xad\\xac\\x9c\\xfb\\x9d:\\xbb\\xeaT\\xed\\xda\\xb5kW\\xd5>\\xe4\\xb1\\xc7\\x1eS\\xf0\\xff\\xe9\\xbf\\x85\\x08!\\xc2oE\\xd1\\xafz\\x9aN}\\x9f\\x7f\\x9e\\xbf\\xa7\\xe6\\xab\\x97G\\xb0\\xbc\\xff\\xb7\\xe3\\xf4^\\xb88\\xe3c\\xb1X\\x94\\x07\\x1f|\\x10\\x84\\x10\\x96\\xc8\\xe1p\\xe0\\xca\\x95+h\\xdb\\xb6-\\xc3\\x08!p8\\x1c(**\\xc2c\\x8f=\\xc60B\\x08\\xecv;\\xce\\x9e=\\x8b\\'\\x9f|\\x92a\\x14?u\\xea\\x14:t\\xe8 \\xf0w:\\x9d8q\\xe2\\x04:w\\xee\\x0cI\\x92\\x04\\xfc\\xf8\\xf1\\xe3\\xe8\\xd6\\xad\\x9b\\x80;\\x1c\\x0e|\\xf2\\xc9\\'\\xe8\\xdd\\xbb\\xb7\\xc0\\xdf\\xe9t\\xe2\\xc8\\x91#\\xe8\\xdf\\xbf?K\\xebr\\xb9p\\xe8\\xd0!\\x0c\\x1c8P\\xc8\\xd3\\xedvc\\xdf\\xbe}\\x186l\\x98\\xf0N\\x1e\\x8f\\x07{\\xf6\\xec\\xc1\\xa8Q\\xa3\\x18\\xe6\\xf5zQXX\\x88\\x8c\\x8c\\x0c\\x96V\\x92$\\xf8|>\\xe4\\xe7\\xe7c\\xe2\\xc4\\x89\\x02\\x0fEQ\\x90\\x97\\x97\\x87\\xa9S\\xa7B\\x92$\\xa1n\\x00`\\xd9\\xb2e\\x983g\\x8e\\x06\\xa7\\xd7\\x8b\\x16-\\x82,\\xcb\\xc8\\xca\\xca\\x82\\xc1`\\x10\\xdeq\\xe1\\xc2\\x85\\x98?\\x7f>\\x8cF\\xa3P\\'\\x0b\\x16,\\xc0\\x82\\x05\\x0b`6\\x9b\\x05\\\\\\x8f\\xff\\xacY\\xb3\\x90\\x95\\x95\\x85\\x06\\r\\x1a\\x08xff&\\xb2\\xb2\\xb2\\x10\\x1b\\x1b\\xcb\\x04c\\xc6\\x8c\\x19X\\xb0`\\x01\\xe2\\xe3\\xe3\\x05^\\xaf\\xbf\\xfe:\\x16,X\\x80\\xc4\\xc4D\\x81\\xff\\x94)S\\xb0`\\xc1\\x024l\\xd8Px\\xf7I\\x93&a\\xde\\xbcyh\\xdc\\xb8\\xb1P\\x87\\x13\\'N\\xc4\\xdc\\xb9s\\x91\\x96\\x96&\\xf0\\x990a\\x02\\xe6\\xcc\\x99\\x83\\xbb\\xef\\xbe[\\xe03~\\xfcx\\xcc\\x9e=\\x1bM\\x9b6\\x15\\xf0W_}\\x153g\\xceD\\x8b\\x16-\\x84rfdd\\xe0\\xe2\\xc5\\x8b0\\x1a\\x0c\\x06\\xc4\\xc4\\xc4\\x08\\x99H\\x92\\x04I\\x92\\x10\\x13\\x13#03\\x18\\x0c\\x90$\\t\\xb1\\xb1\\xb1\\xba8_\\x19\\x84\\x10\\xd6\\x18\\t\\t\\t\\x02n\\xb3\\xd9`0\\x18\\x90\\x98\\x98\\xc8\\x1a\\x85\\xe2\\x92$!))I\\x83\\x1b\\x0c\\x06Vy\\xbc\\xc0K\\x92\\x84\\xe4\\xe4d\\x96\\x96b\\x8d\\x1a5\\xd2t\\x02I\\x92\\x90\\x92\\x92\"\\xe0\\x8a\\xa2`\\xf4\\xe8\\xd1\\x02\\xeev\\xbbA\\x08\\xc1]w\\xdd%\\xa4\\xf5z\\xbd \\x84 55\\x15\\xb2,#//\\x8f\\t\\x84,\\xcb\\xd8\\xb3g\\x8f\\xa0A\\x08!\\x989s&\\x08!\\xb8\\xfb\\xee\\xbb5\\x82\\xb7x\\xf1b(\\x8a\\xc24\\xcf\\x96-[\\x84\\xfb\\x00\\xe0\\xf3\\xf9p\\xcf=\\xf7\\xc0l6\\x0be!\\x84\\xe0\\xde{\\xefEdd\\xa4P\\'\\xb3g\\xcfFvv6\\xa2\\xa2\\xa2X:\\x83\\xc1\\x80\\xa6M\\x9b\"..N(\\x83\\xc1`@\\xb3f\\xcd\\x90\\x90\\x90 \\xb4e\\xb3f\\xcd\\x846\\x00\\x00\\xa3\\xd1\\x88f\\xcd\\x9a\\xa1Q\\xa3F\\x02n2\\x99p\\xdf}\\xf7i\\xea\\xcad2\\xa1y\\xf3\\xe6\\xb8\\xfb\\xee\\xbb\\x05\\xdcl6\\xa3E\\x8b\\x16h\\xda\\xb4\\xa9\\x80GDD\\xa0y\\xf3\\xe6\\xb8\\xff\\xfe\\xfbu\\xf1\\xd6\\xad[\\x0bu\\x13\\x15\\x15\\x85\\x16-Z\\xe0\\xe1\\x87\\x1f\\x16d1**\\xca_^p\\xa4\\xaeT\\xbdk\\xbd4j-\\x11\\xeayu~z\\xa4\\xc6\\x83\\xf1\\x0e\\x87\\x7f\\xa8<\\xdcn\\xb7\\xa0\\xad\\xd5\\xcfx<\\x1el\\xdc\\xb8\\x91\\xfdV\\x14\\x05^\\xaf\\x17yyy\\x98<y2\\x86\\x0e\\x1d\\xca\\xf0\\xdc\\xdc\\\\\\xbc\\xf2\\xca+\\x1a\\xe1\\x0bUWc\\xc6\\x8ca\\xf7\\xb2\\xb3\\xb31v\\xecX\\x18\\x8dF\\xe1}\\x17,X\\x80y\\xf3\\xe6ix\\xb9\\xddn\\xdd\\xf7\\xbaz\\xf5*dY\\xd6\\xad\\xafPu\\xa2\\xa7\\xe9\\xeb\\xab\\xf7`\\xef\\xa6\\xd7~\\xbf\\x05\\x0fU\\xf6`\\xe5\\x11\\x04;\\x18\\xdd\\xa9\\x00\\xd6w\\x1dn\\xbapI\\xef\\xc5\\xea++\\xe0\\xd7\\xb2\\xa5\\xa5\\xa5X\\xbf~\\xbdp_Q\\x14x<\\x1e\\xac_\\xbf\\x1e\\x95\\x95\\x950\\x99Lh\\xdc\\xb81JJJ0z\\xf4h\\x9c9s\\x06_|\\xf1\\x05\\xda\\xb7o\\x0f\\x93\\xc9\\x04Y\\x96\\x99\\x86\\xe7G\\x9a`\\xe5Q\\x14\\x05\\x95\\x95\\x95\\xb8t\\xe9\\x12\\x00\\xe0\\xdc\\xb9s\\x90e\\x19\\x97.]BQQ\\x11&L\\x98 \\x98$\\xa5\\xa5\\xa5X\\xb2d\\t\\xccf3+\\xf7\\xdc\\xb9s1s\\xe6L\\xa6\\xad(9\\x1c\\x0e\\xcc\\x981\\x03999\\x88\\x8e\\x8e\\x16\\xf2T\\xdb\\xe5\\xf4\\xb7\\x9e\\xad\\xaf\\'L\\xa1\\xae\\x83\\xd5s\\xb8\\xb2\\x13*m\\xa8\\xb2\\x05{\\xd6X_\\x82\\x7f\\x87~\\xef\\x8eP\\x1foEQ\\xe0t:\\xf1\\xde{\\xef\\xb1\\xebm\\xdb\\xb6i\\xd2\\xb8\\\\.\\x14\\x14\\x14\\x08\\x98\\xc9d\\x12\\xecq\\xbb\\xdd\\x8e\\x0b\\x17.\\xa0\\xbc\\xbc\\x1c\\xe5\\xe5\\xe5 \\x84\\xc0\\xe5r\\xa1\\xac\\xac\\x0c>\\x9f\\x0f\\x07\\x0e\\x1c\\x80\\xddnGUU\\x15\\x1e\\x7f\\xfcq&l\\xa1\\xca\\xad(\\n>\\xfb\\xec3\\x96\\xc7\\xb9s\\xe7PRR\\x02\\xa7\\xd3\\t\\xc0?\\xb7P\\x14\\x05\\x07\\x0e\\x1c`\\xd74\\xed\\x92%K0{\\xf6l\\xa4\\xa5\\xa5\\xa1\\xbc\\xbc\\x1c_\\x7f\\xfd5\\xfe\\xf9\\xcf\\x7f\\xc2\\xeb\\xf5\\xa2\\xb4\\xb4\\x14\\x16\\x8b\\x05n\\xb7\\x1b\\x8a\\xa2@\\x92$\\xc8\\xb2\\x8c\\x94\\x94\\x14\\xcc\\x981\\x83\\t\\xac\\xddn\\xc7\\xb4i\\xd3`0\\x18\\x84:\\xb1Z\\xad\\x98<y\\xb2\\x80\\xd7\\xd6\\xd6\\xea\\xd6/\\x7f\\xcd\\x8f`\\xa1\\xda\\xe6N\\x84Z\\xcd;\\xdcg\\x82\\x11\\x91$I\\x89\\x8c\\x8c\\x14\\x18\\xc8\\xb2\\x0c\\x97\\xcb\\xc5\\xec\\x15>c\\xa7\\xd3\\t\\x8b\\xc5\\xa2\\xc1\\x1d\\x0e\\x87\\xa0!\\x00\\xbffq8\\x1cl\\xd2\\xc2\\xe3v\\xbb\\x1d\\r\\x1a4\\x10\\n,\\xcb2l6\\x9b`\\xf3S\\xdcj\\xb5\"66V\\x83\\xd7\\xd5\\xd5!..\\x0e\\x11\\x11\\x11x\\xee\\xb9\\xe7\\xe0r\\xb9\\xf0\\xfe\\xfb\\xefc\\xc8\\x90!\\x82\\xed\\xe5v\\xbb\\xf1\\xce;\\xef`\\xe4\\xc8\\x91\\x82\\xa9\\xb1s\\xe7N\\xcc\\x9c9\\x13\\xb2,\\xe3\\xbb\\xef\\xbe\\xc3\\x0f?\\xfc\\x00\\xab\\xd5\\n\\xbb\\xdd\\xae_a\\x01Mg6\\x9b\\xf1\\xc0\\x03\\x0f`\\xe8\\xd0\\xa1\\xc8\\xc9\\xc9Aee%V\\xadZ\\x05B\\x08*++q\\xfe\\xfcy(\\x8a\\x82\\x0b\\x17.\\xe0\\xcc\\x993B\\x1d\\xb8\\\\.x<\\x9e\\xa0\\x8d\\xd2\\xb8qc,]\\xba\\x14&\\x93\\t\\x000r\\xe4Hl\\xda\\xb4\\t\\xb3g\\xcfFMM\\r\\xecv;\\x13*I\\x92\\x04;]Q\\x14DEE\\xc1\\xe9tb\\xe5\\xca\\x95\\xac.\\xf5&\\xb5\\x93&M\\xc2[o\\xbd\\xc5\\xea\\x95\\x10\\x82\\x89\\x13\\'\"::Z\\xd3\\t\\xca\\xca\\xca\\x90\\x92\\x92\\x02\\xa3\\xd1\\x18\\x16^ZZ\\x8a\\x94\\x94\\x14\\xf6\\x0e<\\xde\\xa8Q#A!\\x00@II\\t\\xc3\\xf96\\x0e\\x85\\'\\'\\'#\"\"B\\xc0\\x7f\\xfd\\xf5W\\xb8\\\\.\\x18\\xa3\\xa2\\xa2\\xd0\\xb6m[\\xe1\\xa5\\xedv;.]\\xba\\x84G\\x1f}T\\xa8\\x14\\x9b\\xcd\\x86\\xf3\\xe7\\xcf\\xe3\\xc9\\'\\x9fd\\x95J\\xf13g\\xce\\xa0}\\xfb\\xf6\\x02\\x1f\\x9b\\xcd\\x86\\xef\\xbf\\xff\\x1e\\xcf<\\xf3\\x0c\\xc3%I\\x82\\xcdf\\xc3W_}\\x85g\\x9f}V\\x93\\xef\\xa7\\x9f~\\x8a\\xee\\xdd\\xbb\\x0b\\xc3\\xb9\\xc3\\xe1\\xc0?\\xfe\\xf1\\x0f\\xf4\\xea\\xd5K\\xc0\\x9dN\\'\\x0e\\x1e<\\x88\\x9e={\\xe2\\xc4\\x89\\x138v\\xec\\x18\\xea\\xea\\xea\\xe0r\\xb9p\\xf0\\xe0A$$$ %%\\x05-Z\\xb4`\\x13X:a\\x05\\xfc\\x02\\x06\\xf8\\x87\\xef\\x0f>\\xf8\\x00\\xc5\\xc5\\xc5Lc\\x06#z\\xcf\\xedv\\xa3\\xa8\\xa8\\x08G\\x8f\\x1e\\xc5\\xad[\\xb7\\x00\\xf8\\'\\x83\\x80\\x7f\\xc2Gy\\xd3\\xffV\\xab5(O5]\\xbf~]\\x83\\x11BPQQ\\xc1\\xf8Q\\xa2\\xf64_6\\x87\\xc3\\x01\\x00\\xd8\\xb8q#\\x9e\\x7f\\xfeyt\\xec\\xd8Q3\\xf9\\x04\\x00\\x83\\xc1\\x80\\xd4\\xd4Tar\\x9f\\x9f\\x9f\\xcfL+~\\xc8\\x1f?~<\\xb2\\xb2\\xb2\\x90\\x94\\x94\\xc40B\\x08222\\xb0p\\xe1B6\\x81\\xa7u;f\\xcc\\x18\\xbc\\xf1\\xc6\\x1b\\xcc+B\\xffF\\x8f\\x1e\\x8dE\\x8b\\x16\\xa1I\\x93&\\x02\\x9e\\x9e\\x9e\\x8eE\\x8b\\x16\\xe1\\xde{\\xef\\x15\\xf0\\x11#F ;;\\x1b\\xf7\\xddw\\x9f\\x80\\x0f\\x1f>\\x1cYYY\\xb8\\xff\\xfe\\xfb\\x85N;t\\xe8P\\\\\\xb8p\\x01FI\\x92\\x84\\x194\\xd5\\xd8\\x84\\x10DGG\\x0b8\\x1d\\xee\\xd48\\xe0\\x17r\\xaa\\x81\\x15EA]]\\x1d\\xca\\xcb\\xcb\\x99w\\x85\\xa6\\xa1Z\\xdf\\xe3\\xf1\\xe0\\xe2\\xc5\\x8bp\\xb9\\\\\\xa8\\xa9\\xa9\\x81\\xdb\\xed\\x86,\\xcbp:\\x9d8z\\xf4(,\\x16\\x0b\\x12\\x12\\x12\\xd0\\xa8Q#\\xc4\\xc7\\xc7k\\xbc.\\xb4\\x83\\xd0\\xf2\\xfc\\xfa\\xeb\\xaf\\xf0z\\xbdL{\\x95\\x97\\x97\\xa3\\xb2\\xb2\\x12?\\xff\\xfc3N\\x9d:\\x85\\x86\\r\\x1b\\xb2\\x97\\xe7\\x85\\xc5\\xe3\\xf1\\xe0\\xd0\\xa1C\\xb8x\\xf1\"\\xbc^/k\\xf0n\\xdd\\xba\\xa1U\\xabV0\\x18\\x0c\\xa8\\xaa\\xaa\\xc2\\xf7\\xdf\\x7f\\x8f\\xd3\\xa7O\\x0bB\\xe5v\\xbbq\\xfc\\xf8qH\\x92\\x84\\xb9s\\xe72\\xe1\\xa2\\xde\\x8e\\xdfB\\x99\\x99\\x99\\xc2\\xc82}\\xfat6a\\x8c\\x8f\\x8fG\\xdb\\xb6m\\xf1\\xe5\\x97_\";;\\x1b\\x8b\\x17/f\\x02\\xcf\\xe7[\\\\\\\\\\x8c\\x82\\x82\\x02\\\\\\xb8p\\x01\\xa7O\\x9f\\xc6\\xea\\xd5\\xab\\x05\\xd7\\x9e\\x1e\\xf1\\x82\\xc8{?\\x0c\\x06\\x03\\xee\\xba\\xeb.\\x8d\\xb7\\xc9h4\"55\\x15\\x8d\\x1b7\\xd6xQRSS\\x99\\x00S\\xe13\\x1a\\x8dHKKc\\x02Lq\\xb3\\xd9\\x8c\\xb4\\xb44\\x8d\\xb7\\xc4d2!--\\r\\xcd\\x9a5\\x13p\\x9a^-\\xf0\\x11\\x11\\x11\\xfe|\\xf8\\x97\\n\\xd7\\xce\\xd5#Y\\x96Q]]\\x8d\\x1b7n\\xe0\\xe6\\xcd\\x9b\\xa8\\xad\\xad\\x85\\xd7\\xeb\\x055s(\\x0f\\x87\\xc3\\x81\\xcf>\\xfb\\x0c\\x1e\\x8f\\x07EEEP\\x14\\x05>\\x9fOh\\x94\\xaa\\xaa*\\xc6\\xeb\\xd2\\xa5KlXt\\xb9\\\\\\x88\\x8c\\x8c\\x14\\xca\\xe3p8\\xb0w\\xef^\\x8d\\x97\\x80z0\\xbc^/\\\\.\\x17\\xdcn7\\xbaw\\xef\\xaey\\'Y\\x96\\x05\\xa1\\xa6\\xd8\\xe7\\x9f\\x7f\\x8eo\\xbe\\xf9\\x06\\x84\\x10\\xf8|>8\\x9dN\\x10\\xe2w\\xf5\\x95\\x96\\x96\\xb2\\xb4N\\xa7\\x13\\x06\\x83\\x01\\xb1\\xb1\\xb10\\x9b\\xcdA\\x05\\x9a\\x8e~\\x00\\xd0\\xb6m[l\\xdf\\xbe=\\xa4\\xf0gff\\xb2a|\\xfa\\xf4\\xe9\\x985k\\x16f\\xcd\\x9a\\x05\\xb7\\xdb\\x8d\\xba\\xba:|\\xf7\\xddw\\x90e\\x19\\xabW\\xaf\\xc6\\xf2\\xe5\\xcb\\x11\\x19\\x19\\t\\xab\\xd5\\x8as\\xe7\\xcea\\xc7\\x8e\\x1dLQ\\xd4\\xd6\\xd6\\xe2\\xe8\\xd1\\xa3p\\xb9\\\\\\x82\\xc9\\x12\\xaaM_}\\xf5U\\xacX\\xb1\\x82ir\\xbe\\xce\\xd4\\x7f\\xc1\\xee\\xf1\\xb8\\x9e\\x9f]\\x8d\\x87\\x93\\x9e\\xef\\x08\\xf4\\x1e\\xff\\x0cOFu\\xa2P\\xd7jR\\x14\\x05\\xb5\\xb5\\xb5(--\\x85\\xddn\\xc7\\xf1\\xe3\\xc7\\xe1\\xf3\\xf9\\xe0\\xf3\\xf9\\xd8\\x10\\xc9\\xdb\\xef\\xc0m\\xbb\\x1b@P;\\x936\\x80,\\xcb,\\x8d$I\\xf8\\xf0\\xc3\\x0f\\xd1\\xa9S\\'$%%\\xc1\\xe7\\xf3\\xe1\\xc6\\x8d\\x1b\\xcc\\xce\\xae\\x8f\\\\.\\x17\\x8e\\x1f?\\x8e\\x94\\x94\\x14\\xa4\\xa4\\xa4\\x08y\\xf1B\\r\\xf8}\\xb3\\x13&L`\\x95\\xe9\\xf5z\\xb1j\\xd5*\\xa4\\xa6\\xa6\\xe2\\xc6\\x8d\\x1b\\xba\\xe5-..F\\xabV\\xad\\xb0t\\xe9RDDD\\xa0u\\xeb\\xd6x\\xf8\\xe1\\x87\\x01\\x00\\xbbv\\xedb\\xae@Z\\';v\\xec\\x08)\\xd8\\r\\x1b6\\x84\\xc9d\\x02!\\x04\\xabW\\xaf\\xc6\\xe2\\xc5\\x8b\\xb1b\\xc5\\n\\x86\\x11\\xe2_\\x1c\\xc9\\xca\\xca\\xc2\\xb2e\\xcb\\x98 \\xbb\\xddnM\\xbd\\xd2I\\xea\\xd5\\xabW\\xd1\\xbauk\\xa6(\\xd4\\xf9\\xd3\\x11\\xf9\\xe6\\xcd\\x9b\\xf0\\xf9|A\\xdb\\xbe\\xbe\\x8eA\\xd3\\x84\\x83\\xdd\\t\\x1e\\x8c\\xa7\\x1en\\xd4\\xeba\\xc1\\xae\\xa9\\x99RSS\\x83\\x9b7o\\xa2\\xbc\\xbc\\x1cuuuL\\x90i\\x05\\x06\\xa3p4\\x7f0\\x92e\\x19\\xd7\\xaf_g+\\x90\\xb5\\xb5\\xb5\\xf8\\xf4\\xd3O\\xc3~\\x9e\\xba\\xd8v\\xef\\xde\\x1d\\xb4a\\r\\x06\\x03\\x9ex\\xe2\\t\\xfc\\xf0\\xc3\\x0f\\xcc\\xec\\x91$\\tn\\xb7\\x1b\\x92$\\xe1\\x89\\'\\x9e\\xc0\\xfb\\xef\\xbf\\xaf\\xcb\\xff\\xf2\\xe5\\xcbh\\xdd\\xba5^{\\xed56$\\x9aL&\\xcc\\x9b7\\x0f\\x00\\x10\\x1d\\x1d-\\xb8\\x02\\x97/_\\x8e\\xcc\\xccL\\xc1F\\xe6i\\xda\\xb4iX\\xbdz5L&\\x13\\x1a6l\\x88\\xca\\xcaJ$&&\\xb2\\t=!\\x04\\xeb\\xd6\\xad\\xc3\\x82\\x05\\x0b0w\\xee\\\\a\\xa2?q\\xe2D\\x0c\\x1b6\\x0c\\xdb\\xb7o\\x17l\\xf2\\xec\\xecla2WWW\\x87\\x8c\\x8c\\x0c\\x8d\\xb6\\xab\\xae\\xae\\xfeMm\\xa5v-\\xf2x\\xb0\\xf4\\xa1\\xf0\\x7f\\xc7\\xac3Z\\xadV\\x1c?~\\x9c\\x01Tx\\xbd^/>\\xf9\\xe4\\x13MFn\\xb7\\x1b_\\x7f\\xfd5dY\\x86\\xcf\\xe7\\xab7S\\x9b\\xcd\\x86\\xbf\\xfe\\xf5\\xaf\\xf5\\xbeD8\\xe4\\xf3\\xf9p\\xfd\\xfau\\xec\\xda\\xb5\\x8b\\xd9\\xea\\x00\\xd8\\x8ab\\xef\\xde\\xbd\\xe1v\\xbb\\xf1\\xde{\\xefa\\xd4\\xa8QL\\x98\\xf7\\xed\\xdb\\x07\\x8f\\xc7\\xc3\\\\~\\x1d;vD\\xabV\\xad\\xb0a\\xc3\\x06\\x81\\xbf\\xc1`\\xc0\\xa3\\x8f>\\x8aN\\x9d:\\xb1\\xba\\xe0\\xeb\\xa5E\\x8b\\x16\\x9a2\\x11B\\xf0\\xe4\\x93O\\xb2\\t$\\xbf\\x8aG\\x08\\x81\\xd5j\\x15\\xe6(\\x94h\\xba`TUU\\xa5[\\x06\\xfe:))\\tUUUHLLd\\x9e*\\xday\\xda\\xb5k\\x87\\xdd\\xbbw\\x0b\\x82m0\\x18\\xb0t\\xe9R6\\x17\\x1a3f\\x0c\\x96-[\\x86\\xf8\\xf8x\\x81\\xff\\xe8\\xd1\\xa3\\x01\\xf8\\xbd1UUU\\xac\\x1eG\\x8c\\x18\\xa1\\xf1\\x96TTT\\xe0\\x95W^a~w\\x1e\\x1f6l\\x98n\\xfa\\xc1\\x83\\x07\\xeb\\xa6\\x7f\\xf9\\xe5\\x97\\x99w\\x85\\xde\\xbbu\\xeb\\x16\\x06\\x0e\\x1c\\xa8\\xf1\\xaeTTT`\\xc0\\x80\\x01l\\x04\\xa3T^^\\x0e\\x000Z,\\x16\\xc1\\xfe\\xa3\\x93\\xb2\\xf3\\xe7\\xcf\\xe3\\x89\\'\\x9e\\x10f\\x9c\\xd4\\x9b\\x11l\\xd5K\\x8f,\\x16\\x0b\\xbau\\xeb&\\xd8I6\\x9b\\r\\x9f\\x7f\\xfe9z\\xf5\\xea%\\xf0\\xb7\\xdb\\xed\\xf8\\xe8\\xa3\\x8f\\xf0\\xc2\\x0b/\\xc0\\xe3\\xf1\\xe0\\xe4\\xc9\\x93(**\\x12\\xf8\\xa9g\\xfe\\x80\\x7fB\\xf2\\xc8#\\x8f 66\\x96-\\xa9\\xd3\\xc63\\x1a\\x8d\\x1a\\xfb\\xf9\\xd2\\xa5K\\xf8\\xc3\\x1f\\xfe\\xa0\\xe9d\\x1e\\x8f\\x07{\\xf7\\xee\\xc5\\x8c\\x193tG+*\\x00j\\xb2\\xdb\\xed\\x90e\\x99\\xad\\x10\\xaaIQ\\x14\\xcc\\x981\\x83\\xf1\\xa2X8\\x9d<\\xd4\\xe2\\x89\\x1a\\xe3q\\x8b\\xc5\\xa2IWWW\\x87\\xf8\\xf8x\\xf6\\x1et\\xfb\\x82\\xba3\\xd26\\xc9\\xcd\\xcde#Jzz:rss5{B^y\\xe5\\x15\\xacZ\\xb5J\\xb3Ua\\xc8\\x90!X\\xb5j\\x15\\xdb\\x13B\\xff^~\\xf9e\\xac\\\\\\xb9\\x12\\xf7\\xdcs\\x8f s\\x03\\x07\\x0e\\xc4\\xf2\\xe5\\xcbq\\xdf}\\xf7\\t\\xfc_z\\xe9%,]\\xba\\x14-[\\xb6\\x14l\\xea\\x17_|\\x11K\\x96,A\\xabV\\xad\\x04\\x9b\\xfc\\x85\\x17^\\xc0\\xd9\\xb3g\\xfd^\\x11\\xde\\x17\\xc8\\x0f\\xbd\\xfcDM\\x92$\\x8d\\xedF\\x87\\xdc\\xf8\\xf8x]\\x17\\x15M\\x13\\x15\\x15%\\x14\\x96\\xdao\\xb4\\xf2y\\x8d&I\\x12\\xd3>\\x0f?\\xfc\\xb0\\xae`\\xabM\\x1e\\x83\\xc1 \\xb8\\x89xR\\x0f\\xb3\\xb2,\\xa3\\xac\\xac\\x0c[\\xb6l\\x11\\xf0\\x88\\x88\\x08L\\x980\\x01\\xeb\\xd7\\xaf\\xd7}\\x0fZv5)\\x8a\\x82\\xb3g\\xcf\\xc2`0`\\xe1\\xc2\\x85\\x9a\\xf7\\xa1{E\\x16,X\\xa0\\x99\\\\M\\x9b6-\\xe40\\xcco\\xb6\\xa2\\xca$\\xdc\\x11\\xaf\\xa6\\xa6F\\xd7\\x86\\x0e\\xc7n\\xa6\\xd7\\xbc\\xc0\\xd3=?j\\xc1\\x96$\\t\\x89\\x89\\x89\\x9a}<t/P\\xc3\\x86\\r\\x85\\xf76\\x1a\\x8dHLL\\x14\\xf6\\xf7P<))I\\xd7\\xeb\\x12\\nW\\xbb\\x13\\xa9f\\xd7\\xf5\\x8a\\x842\\xda\\xa907n\\xdc\\x18w\\xddu\\x17\\x92\\x92\\x92\\xe0p8B\\n\\xb6\\x9e\\xf6\\x0b\\xc6\\x9b\\x12uC\\xea\\x91\\xba\\xc1x\\r\\xad\\x97\\x8f:\\xbd\\xcf\\xe7Cuu\\xb5\\xa6\\x9cQQQ\\x82\\xe7\\xc0\\xe3\\xf1`\\xe9\\xd2\\xa5\\x00\\xfc\\xda\\xfc\\xcd7\\xdf\\xd4-\\x8f\\xd1hDVV\\x16[\\x0c\\xe1\\x05\\x9b\\x96(6&\\x06\\x84\\xb3\\xb1\\xd5\\xef\\xabGo\\xbd\\xf5\\x16\\xccf3&L\\x98\\x00\\x00\\x18?~\\xbc\\xf0\\xfc\\xc6\\x8d\\x1b5|\\xe8\\xb5\\x9e\\xedN\\xbd\\x1c\\xf5m\\x03U/\\xbd\\xab\\x05\\x9e\\xbfVw\\xd6\\xfa\\xd2\\xd5\\xf7\\xac\\xfa~0<X\\xb9(i\\x96\\xd4C\\x11!\\x04\\r\\x1a4\\xc0\\xd3O?\\r\\xa3\\xd1\\xc8v\\xf5\\x85k\\x9a\\xdc\\x89\\x80\\xd3\\xd5\\xc6;!~\\xb2\\x11L\\xb3\\x19\\x0c\\x064o\\xde\\x1c\\xc5\\xc5\\xc5\\x02\\xeer\\xb9\\x90\\x93\\x93\\x03\\xb7\\xdb\\x8d\\xc5\\x8b\\x17\\xb3\\x06\\xa6\\xbb\\x02\\x9fz\\xea)|\\xf5\\xd5W\\xba<eY\\xd6\\xedX\\xa0{\\x83o\\x17\\xf06\\x1eF\\x9d\\xc7\\xc4\\xc4\\xc0l6#??\\x1f\\x000n\\xdc8\\xac[\\xb7\\x0e\\x11\\x11\\x11\\xc8\\xc8\\xc8\\xc0\\xd8\\xb1c\\xe1t:1f\\xcc\\x18!o\\xbb\\xdd\\x8e\\xd3\\xa7Ok\\xbc=\\x0f=\\xf4\\x90\\xc6\\xb6\\xa5\\xf5\\x05hG\\xb7P\\x1a^\\x8f\\xf4\\x04N}/\\xd83\\xfc\\xef`\\xbc\\xef\\x84tw\\xf7\\xe9m\\xfa\\xe6\\x0bK\\x9d\\xe0\\xc1\\n\\x1b\\x0e\\xe9m\\x94\\xe7\\x05\\xd3\\xe3\\xf1\\xe0\\xdc\\xb9sa\\xf1\\xb2\\xdb\\xedX\\xb7n\\x1d\\xfb\\xedv\\xbb\\xb1f\\xcd\\x1aM>\\x80_[\\x17\\x17\\x173\\xdf9%I\\x92\\xd0\\xb2eK\\x14\\x15\\x151\\x1b\\x9b\\x10\\xbf\\xab\\xef\\xcd7\\xdf\\xc4\\xf7\\xdf\\x7f\\xaf\\x9b\\xb7\\xc1`\\xf0\\x0b,\\x87\\t\\xf5\\x06\\xa0BQ\\x105e\\x8a\\x90f\\xef\\xbau\\x9a\\xe7\\xf8\\x92\\x12\\xf8\\x05\\xb9\\xa0\\xa0@\\xd8\\xaa\\x10\\x1d\\x1d\\x8d\\xc8\\xc8HfJ\\x8d\\x193\\x06yyy\\x82M=j\\xd4(l\\xde\\xbcYc:\\x1e?~\\x1c\\xdf~\\xfb-Kg\\xb7\\xdb1t\\xe8PA\\xa0\\x15E\\x81\\xddn\\xc7\\xe0\\xc1\\x83A\\x08\\xc1;\\xef\\xbc\\xc3\\x16\\xb7\\xd4\\x14\\xae\\xf7#\\xd8\\xc8\\xa9\\xc6\\xefT\\xa8\\xd5\\x1dOuM\\x14\\xf5\\xcc\\x95\\xfa\\x90\\xd58\\xe0\\x17\\x0cu\\xaf\\xd7\\xf3\\x05\\xf3\\x99\\xa9\\xf7\\x11\\x00\\x80\\xd7\\xeb\\x15\\xb6h\\xf2|hz\\xde\\x1f\\x1e\\x8a\"\"\"\\xd0\\xa3G\\x0f4k\\xd6\\x0c\\x0e\\x87\\x03;w\\xee\\xc4\\xf8\\xf1\\xe3\\xe1\\xf3\\xf9p\\xf2\\xe4I|\\xf6\\xd9gBy\\xa2\\xa2\\xa2\\x90\\x96\\x96\\xc6v\\xd7Q2\\x18\\x0c\\xcc\\xac\\xa0\\xef\\xee\\xf1x0o\\xde<\\xb6\\xc1Hx7\\xf8;\\x84\\xc1`\\xc0\\xea\\x15+0z\\xd6\\xac\\xdb\\xf5\\x04 \\t\\x80\\xcb\\xe9\\x84\\x97KO\\xc9\\x13\\x19\\xe9_\\xbeW\\xbdKC\\x00\\x1e.\\xed\\xce\\x9d;\\xfd\\xcb\\xe1\\x92\\x84a\\xc3\\x86a\\xdb\\xb6m\\x82\\xcb\\xcf\\xe9t\\xb29\\x0c\\xadK\\xa7\\xd3\\x89\\x11#F\\xc0f\\xb3\\t\\xef\\xbdk\\xd7.a\\xbf\\xcd\\xd0\\xa1C\\x91\\x9f\\x9f\\xaf9T0x\\xf0`l\\xdc\\xb8\\x11\\x89\\x89\\x89HOOGee%\\x1c\\x0e\\x07\\xdb\\xfb\\xcd\\x93\\xddn\\xaf\\x17\\xe7\\x05\\xd8\\xe1p \"\"B#[\\xe1\\xf0\\xa1\\xef\\x01\\xf8\\xbdm\\x91\\x91\\x91\\x1a>6\\x9b\\r>\\x9f\\x0f\\xc6\\x06\\r\\x1a\\xe0\\xf1\\xc7\\x1f\\x17\\x86\\x11\\xab\\xd5\\x8a\\x1f\\x7f\\xfc\\x11\\xed\\xda\\xb5\\x13\\nf\\xb5Zq\\xf2\\xe4It\\xea\\xd4I\\x93\\xfe\\xe8\\xd1\\xa3\\xd0\\xa3\\x06\\r\\x1a\\xb0=\\x1e\\xb4pV\\xab\\x15\\xc7\\x8e\\x1dC\\xff\\xfe\\xfdY:\\x97\\xcb\\x85\\xd2\\xd2R|\\xf9\\xe5\\x97\\x90$I\\xb3\\'\\xc2d2\\xe1\\xa1\\x87\\x1e\\xc2#\\x8f<\\x82\\x03\\x07\\x0e\\x086\\xb2\\xd7\\xeb\\xc5\\xf9\\xf3\\xe7\\xd1\\xb2eKv\\x18\\xc0l6\\xc3\\xe9t\\xe2\\xe4\\xc9\\x93\\x02\\x1f\\xaae\\x9a7o\\xae\\x11l\\x9f\\xcf\\x07\\xa3\\xd1\\xc86\\x80\\xd5\\xd6\\xd62M\\xad\\xc82\\x13\\xb6\\x08\\x00W\\x014\\x01pK\\x96\\x01YFDf&Lt\\x82\\x07@\\x02\\xe0\\x84(\\xcc\\xc2\\xfb8\\x9d0\\xa90%\\x90\\x9e\\x00\\xb8\\x05\\xc0\\x0c b\\xecX\\x1c\\xda\\xb2\\x05\\xbe\\xc0\\xa6!\\xde\\x94!\\x00,QQHOO\\xc7\\xc6\\xfc|\\xa6\\xd9KJJ\\x84NH\\x00\\xa4\\xdeu\\x17\\xa2\\xa3\\xa3\\x11m\\xb103\\x88vr\\x0b\\xb7\\xa5\\x82\\xf2\\x8d\\x8a\\x8aB\\xb4\\xc5\\x82];wB\\x01\\xf0\\xd2K/!\\x7f\\xe3F$s\\x938\\x00\\x180`\\x006n\\xdc\\xa8YR\\xef\\xd7\\xaf\\x1f6l\\xd8\\x80&\\xd4+\"I \\x00\\xfa>\\xff<\\xd6\\xbf\\xfd6\\xeeQ-\\xa9\\xf7\\xee\\xdd\\x1b\\xeb\\xd6\\xadC\\xf3\\xe6\\xcd\\x05\\xd9\\xea\\xd9\\xb3\\'\\xd6\\xacY\\x83V\\x0f< \\xe0=\\x9e{\\x0e\\xabss\\xf1\\xe0C\\x0fA\\xa2\\xe5&\\x04\\xdd\\xbbu\\xc3\\x99\\x7f\\xfd\\xcb\\xbf@C50\\xcd\\x84\\x16\\x90jT\\xfaG\\xd3\\xe9\\xe1\\xc1\\x88\\x10\"\\xac\\x96\\xf1\\xbf\\x9dN\\'\\xf6\\xef\\xdf/\\x08\\x1c\\xf55S\\xa2\\'gl6\\x1b:t\\xe8\\x00\\xaf\\xd7\\x8b\\x94\\x94\\x14A\\xb0}>\\x1f~\\xfa\\xe9\\'\\x1c9r\\x04m\\xda\\xb4a\\xfe\\xf6\\x8b\\x17/\\xea\\xaeJ\\x12B\\xd0\\xa6M\\x1b\\xfc\\xfd\\xef\\x7f\\xd7-\\xb3\\xcb\\xe5\\xc2\\x92%K\\x00\\xf8\\xedg\\x89\\x10\\xb4h\\xd2\\x04\\'\\xaf^ei\\xa4\\x80\\xc0D\\x07\\xfe\\x83\\x13j\\xfe?\\xbd&*,\\x18U\\x01H\\x0c\\xf0\\x8d\\x00\\x00\\xa7\\x13}G\\x8e\\x84\\x02\\xc0\\xe0\\xf1\\xa0\\xd7\\x88\\x11\\xb0\\xf0\\xa3\\x1c\\x00\\xaf\\xdb\\xed/\\x83\\xa2\\xe0\\xc6\\xf5\\xebX\\x95\\x93\\x03\\x97\\xd3\\xc9:UBB\\x02\\xe6\\xcf\\x9f\\xef\\x17\\xea@:B\\x08\\x88\\xa2\\xe0\\xc9\\x81\\x03\\x91\\xac*\\xb3\\xc9\\xed\\xc6\\xa3\\x03\\x06\\xa01!8\\xb3\\x7f?<II\\x90\\x08Add\\xa4\\x7ft\\xe0:\\x81D\\x08\\xa2\"#aQ\\x8d\\x1a\\x14\\x8f\\xb2X`\\x08\\x086\\xc5#\\xb9\\xf4\\xbc\\xcc1>\\xb4#\\x04\\xf8[\\xa2\\xa2\\xfc{\\x87z\\xf4\\x801\\xe0%3\\xbb\\\\H\\xee\\xdb\\x17\\xa9\\xea\\xa5\\xf4\\x80\\xec\\x84\\xb5\\xa4\\xfe{\\x19\\xf4z\\x14\\xcc\\x841\\x18\\x0cHKME\\xfb\\xf6\\xeda6\\x9b\\xb1o\\xff~\\x18$\\t\\xc4dB\\xcb\\xfb\\xef\\xd7\\xb8\\x01\\xbd\\x1e\\x0f~\\xfc\\xd7\\xbfp\\xf6\\xecY\\xc8\\xb2\\x8c5k\\xd6@\\x91e\\xad]\\x87\\xdb\\xe6\\x83\\x9e\\xb0\\xb9].\\xac\\\\\\xb1\\x02^\\xce\\x06\\xb7\\x008SR\\x02~\\xa3\\xa5\\x0bZ!\\xf6\\x02\\x88\\x83V\\xa8\\xc5\\xcd\\xbcZ\\xa2\\xb5X\\r\\x80\\xdf\\x80@\\xf9H\\xdc\\xe4\\\\r\\xbbaP\\xdd\\x07\\x80g\\x87\\x0eEL`~4\\xd8\\xebEcE\\xc1\\x85@yHu5\\x8c\\x93&\\xf9\\xdb\\x92{\\xf6\\x9a\\xc7\\x033g\\xe7\\xf3\\xfc$\\x97\\x0b\\x12\\x80\\xb6\\xfd\\xfa\\x01\\x00L\\x1e\\x0f\\x1e\\xee\\xd7\\x0fi\\xb4\\xcd\\x03#\\x87\\xc9\\xe3A\\xcb\\xbe}q\\x0f8\\x9b\\x19\\xfe\\xce\\xd1\\xb4wo\\xdc\\xc7\\xe5I\\xf9\\xa4\\xf5\\xec\\x89\\xa6:x\\xa3\\x1e=n\\xf3\\x0f\\x90\\xd1\\xe3AB\\xb7nH&\\x04\\xc4\\xe3\\x01xs0 \\xc4zR\\x18\\xf2\\xa0\\x81\\x9e\\xbb%\\x9ct\\xc1(T:\\xf5\\x1d\\xd9\\xe7CII\\t\\xf6\\xef\\xdf\\xef?O\\x17\\xc0\\r\\x92\\x84&M\\x9a\\xe0\\xde{\\xee\\x81\\xeb\\xd7_\\xf13\\xff\\x90\\xa2\\xa0\\xdc\\xe7\\xc3\\x7f\\x00\\xb8\\xcau\\x98J\\x00\\x0f\\x03(\\xa3\\x80\\xd5\\x8a\\xba\\xe5\\xcb\\xb1\\x01\\x80v\\xe7\\x07\\x00N\\xa8\\xed\\x00\\xee\\x06`\\nt\\x10\\'\\x80x\\x044%DA\\x04\\xfc\\xf6\\xb1\\x9a\\\\:\\x18O\\xf4\\xddb8\\x1e1\\x10\\xeb\\xa4\\x92\\xbbVw\\x1c\\x00\\x90<\\x1eP\\xddEG\\x133\\xfcZ\\x9f(\\n\\xa0^\\x83\\x08\\xdc\\x0f\\xc6O\\t\\xfc\\xf1\\x9d\\x8ax<\\xccT\\x12x\\x05F\\x0c\\x8a\\x93 x\\xb0\\xf4\\x8c\\x02y\\x05\\xc3\\xef\\x84\\xc2:\\x1a\\x06p^\\x11\\xfcv\\xa1V?\\xd3\\x14\\xc0E\\x00\\xbf\\x02\\xe8\\x02\\xe02M\\xa7(\\x80\\xdb\\x8d\\xd2_~A\\x07\\x009\\x9c\\xe7c\\xb6\\xa2\\xe0^\\xdc\\x16\\x06J\\n\\xfc\\x13\\xb7\\x18\\x1d\\xac\\x01nW\\x9a\"\\xcb\\x9atzD\\x9f\\x8dT\\xfd\\xa6\\xd7T\\\\L\\x00\\xac\\x1c\\x7f/\\xfc\\x9a\\x9e \\xb4\\xad\\xad\\xa6h\\xdc\\xee4<\\xc5\\x07\\xf2\\x8dW\\xf1\\xa2\\xe5IR\\xe1^\\x00)\\xe1\\xe6\\xcbiZ(\\n|\\x00\\xd3\\xc0\\xbf(\\n\\x1a\\x07y,\\x98i\\xf5\\xbf\\x01\\'$\\xf0;\\xa8\\xdbI\\xe5\\xb5\\xa8\\x0f\\xd7%\\xd5\\xb0\\xa3\\xf7\\x0c?\\x1c\\x12\\x15\\xae\\xe8\\xe0\\x80\\xbf\\xe1JT\\xcf\\xde\\x04\\xf0\\x08\\x80k\\x1c^\\x01\\xa0U\\xe0\\x1e\\xa5j\\x00\\xcd\\x03\\xf7\\x825\\xbe\\x02\\xbf\\xc6n\\x0c\\xa0\\x96+\\x0b\\xe0\\xd7\\xc2\\t\\x81\\xfb|Yi\\x1a\\x1f\\xfc\\x1a\\x91\\x00\\xba^\\x91`\\xf9)\\xf0w\\x88j\\x00f\\xd5\\xfd\\x18\\xf8G\\x98h.=\\x02\\xe5\\xb8\\x8a\\xdb\\x9dT\\x81_\\xd0\\x8bq\\xbb#\\xa8]\\x89\\n!\\xf8\\xe6\\xfd\\xf7\\xe1KH`\\xf6/\\x01@$\\t\\xcf\\xf7\\xed\\x8b\\xc2\\xed\\xdb\\x91\\xdc\\xb0!\\xfa\\xf4\\xe9\\x83[\\xb7n\\t\\xf5\\xcf\\xd7\\xb7\\x1e\\x0e\\x00\\xf2\\xff\\x14\\xae(P\\x00\\x18\\xff\\x03\\xc0\\xb7\\xaa\\x9b\\xa7\\x00\\x8c\\x04\\xf0\\x03\\x02Z3@?\\x02\\x18\\x02\\xe0\\xb4\\n?\\x0f\\xe0\\xc5\\xc0}\\x9e\\xcfE\\x00}\\x01\\x9cW\\xf9k\\xaf\\x00\\xe8\\x1e\\xb8\\xcf\\xe3\\xbf\\x00\\xe8\\x14\\xb8\\xcf\\xe3%\\x00\\x9e\\x82_\\xa3S\\xba\\x06\\xe0q\\x00\\xfc\\xd4\\x81p\\x7f\\xc1p\\xa2\\xc2\\xc4\\xa9\\x87Hz\\xfc\\xa8\\x90\\xe8\\xf1\\xe4\\x9f\\xd3\\xe3U\\x1f\\x85*\\x9b\\xc2a|:\\xb5\\xc0\\xea\\x95\\x9d\\xe2)\\xf0\\xb7\\x15\\xd5\\xee\\x92$A\\xd6;|\\x1cp$\\x10I\\xc2\\xc1C\\x87 I\\x12z\\xf5\\xea\\x85\\xc2\\xc2B4n\\xdc8\\x90\\xc4\\x9f\\xa6G\\x8f\\x1e(,,Djj\\xaa\\xc0\\xa7[\\xb7n\\xd8\\xb6m\\x1b\\xdb\\x13B\\xff\\xbav\\xed\\x8a\\xcd\\x9b7k\\x0e\\x08t\\xe9\\xd2\\x05\\x9b6mb{B\\xe8_\\xa7N\\x9d\\x90\\x9f\\x9f\\x0f\\x1a\\xfb\\x86\\xe6\\xdd\\xa9S\\'\\xac_\\xbf\\x1em\\xda\\xb4\\x11\\\\\\x81O?\\xfd4N\\x9d:\\x05\\xa3\\xaem\\xa4\\xaa\\x90\\xdf\\x82\\x87\\xf3\\x1f\\x00d\\xee\\xec\\x9e\"I\\xb7\\x1bLQ\\xe0\\x0bt\"~I\\xa5~\\xef\\xf6\\xefK\\xbc\\t\\x02\\xf8\\xb5\\xb0\\x02@\\xe6\\x04B\\n\\xc3\\xe7\\x1eN\\x1e\\xf4\\xbf\\x17\\x81\\xd5\\xc0\\xc0DM]7\\n\\xfc&\\x155\\x1f\\xe8\\xc8 I\\x92\\x7f\\xe2L\\xb7\\xe7\\x06\\xf0\\x1b\\xdcs\\x08x5\\xea#\\xbd\\xb3\\x92\\xeak\\x1eSw\\x92`X0>j<\\xd4\\xbd`\\xd7\\x00`T\\x00x\\x03>FJ\\xbe@%jp\\xf8+2\\x18\\xae\\x9e8y\\x10h$\\x95K\\xc6\\x07\\x00\\xb2\\xcc\\xf0\\xca\\x98\\x18,\\x1c<\\x18V\\xab\\x15\\xd5\\x07\\x0e`r`S>\\r\\x8f\\xf0\\xb7\\xbf\\xfd\\r@\\xc0\\xfd\\x15\\xa8\\xec\\xf8\\xf8x\\x98++\\xe1S\\xb9\\x1aeE\\xf1\\xdb\\xcf\\x01\\\\\\x96ex\\x02\\xc3\\x93\\x87{^&\\x04\\x8a\\xcf\\xa7y^M2\\x00\\xc5\\xe7C\\x1d!H\\x08\\xf0\\xa1$I\\x12\\x06\\xf5\\xeb\\x87.]\\xba\\xc0(\\xcb\\x183m\\x9a_\\x00\\x03\\xcf\\xd1I\\xa8\\x1c\\xc8Co>\\xa2\\xf6\\n\\xc5\\x04\\xcaI\\x8f\\xfe\\xee\\xd9\\xb5\\xcb\\x7f\\xf0\\x95\\x10\\xc8C\\x86\\xe0Pa!;\\xca\\'\\xcb2\\xb6\\x15\\x16\\xc2q\\xf80\\x92\\x02\\xfe\\xfb\\xb8\\xb88\\xffI\\x9b\\xecl|\\xbe{7[\\xeaWo\\\\\\x02\\xfcf\\x87\\xa4\\x12\\x9apB1\\x04\\x13T>M}\\xb8\\x9e\\xe0\\xea\\xe1\\xa1:\\x88^:J\\xc6\\xcb\\xb1\\xb1\\xe8\\xdb\\xae\\x1d\\x9b\\x14\\x12IBmm-~>s\\x06/>\\xf3\\x8c\\x06\\xbf\\xfa\\xfd\\xf7\\x18\\xd2\\xb5\\xebm\\x9c\\x10\\xd4\\xd6\\xd5\\xe1\\xc2\\x87\\x1f\\xfag\\xe0\\xaaJ\\x89\\x89\\x8d\\xc5\\x98@\\x082\\xea\\xff\\xac\\xb3ZQ\\xfe\\xf7\\xbf\\xe3\\xb5A\\x83n\\x17\\x16\\xb7m6\\xaaM\\x0c\\x81\\x1d\\\\\\x808\\xe4\\xca\\xb2\\x8c\\xea\\x9a\\x1aDEGc\\xf6k\\xaf\\t\\x8d\\xe6p8`\\xdb\\xbc\\x19YS\\xa6\\xc0\\xe3v\\xe3\\xd0\\xa1C\\xfe\\x13\\xe3\\xf0O\\x00#\"\"\\x90\\x9e\\x9e\\x8e\\xc4\\xa4$\\xb8V\\xad\\xc2\\xb2\\xf9\\xf3\\x852\\xc8\\xb2\\xec\\xf7\\xd3\\x07:\\xaf\\xc7\\xeb\\x85s\\xee\\\\<\\xd3\\xa6\\r\\x94\\xd3\\xa7\\xb5\\xfe\\xe9\\x80F\\x95M&l\\nLn%* \\xe3\\xc7\\x03\\x00\\xb6\\x17\\x14\\xf8\\x87~N\\xc0%I\\x02\\x14\\x05\\xe9\\xe9\\xe9\\xe2\\x81\\\\\\xbe\\xc1\\xf8\\xfaP\\xe7\\xa7(\\xf8\\xcb\\x7f\\xfe\\'>8|\\x18\\x9e\\x80P\\'$&\";;\\x1b\\xcd\\x9b7\\x17\\xf2\\xa2\\xcf\\x80{\\x9e\\x17(\\xf5u}\\xf7\\x82\\xd1\\x9d\\xba\\x85\\x83\\t*\\x7fO\\xaf,\\xe1x\\xe7\\x8c\\n\\xc0\\xb6\\x91\\x12\\xe2w\\xda\\xcb\\x01\\xff/\\xddO!IRp\\x9c\\xf8\\xb7\\xa1\\xea-LP\\xa2\\xfc\\xe9\\xb0M\\x0f(\\xd0UB\\xc2\\xe1\\x00\\x18\\x0e\\x00v\\x87C\\xc3\\x93\\xcf+T\\x038].\\\\\\xba|\\xf9\\xf6\\xf3\\x84 >!\\x01\\xa9ii\\xfe\\xad\\xaf\\xaaJr{<X\\xb2d\\t\\xdex\\xe3\\r\\x96\\x9e\\xe6#\\xab\\xb45\\xcd\\x8f\\x1e2\\x15\\xca\\xc0\\x97\\x83\\x17(u9\\t\\xb9\\xdd\\x99u(\\xd8$\\x1e\\x00N\\x9c8\\x81\\xbf\\xfc\\xe5/\\xf0\\x044~\\x83\\x06\\r0\\x7f\\xfe|f\\xbb\\xd2\\xe7\\x85\\xc9\\x9d\\x8a\\x87\\xcb\\xe5BDD\\x04S\\x0cz\\x9b\\x9e\\xf8\\xed\\xb2n\\xb7\\x9b\\x9d\\xfd\\xe4\\x9f\\xf1x<p\\xb9\\\\B[\\xd2\\xf4z\\xb8\\xcb\\xe5b\\x9b\\xcbXYU\\xfc\\xe9\\x1f\\r\\x05\\xa2\\xc6\\xf9\\xf4\\x00\\x84\\xf2\\x00\\x80\\xb1\\xae\\xae\\x0e\\xc7\\x8e\\x1d\\x13^\\x88\\xee\\x159r\\xe4\\x88X\\xd1\\x01\\xfc\\xe0\\xc1\\x83A\\x9aBKuuux\\xf7\\xddw5||>\\x1fv\\xed\\xda\\xa5I\\xef\\xf5z\\xb1u\\xebV\\x00`\\xa7t\\xf4\\x88\\x0f\\x83\\xc0\\xbf0=)C7\\x00\\xf1\\x1b\\x81\\x8cF#\\x1ez\\xe8!v.\\x90V\\x0e\\xad\\x18z\\xad\\xd6\\n4>\\x88\\x1e\\xe9i\\x95P\\x14n\\xba`\\xcf\\xd0F\\xa5\\'\\xf2)\\xbd\\xf6\\xdakh\\xd2\\xa4\\t\\x13$*@&\\x93Ic\\'S~\\x83\\x06\\r\\xc2\\xe6\\xcd\\x9b\\x85C\\xbb\\xf4Y\\x87\\xc3\\x01\\x87\\xc3\\x81\\xa1C\\x87\\xa2\\xb2\\xb2\\x12N\\xa7\\x13\\x83\\x02#,ON\\xa7\\x13/\\xbe\\xf8\\xa2\\xa6\\xce\\x1c\\x0e\\x07\\x06\\x0c\\x18\\xa0\\x1b\\xa9\\xaa\\x7f\\xff\\xfe\\x1a\\xdc\\xe9t\\xe2\\xf9\\xe7\\x9f\\xd7\\x08\\xbb\\xd3\\xe9D\\x9f>}4\\x07\\x7f\\x1d\\x0e\\x07z\\xf5\\xea\\xa5Y\\xf5\\xa6\\x07P\\x8c111h\\xd7\\xae\\x9d\\xd0\\x0b\\xeb\\xea\\xeap\\xea\\xd4)\\xcd\\x9e\\x10z:\\xbak\\xd7\\xae\\x02^[[\\x8b\\x0f?\\xfcP\\xb7Qbbb\\xd8\\x8b\\xd0\\x82UWW\\xe3\\xa3\\x8f>b\\x15E\\xefY\\xadV\\x1c8p\\x00\\xc3\\x86\\r\\x83\\xcb\\xe5\\xc2\\xb9s\\xe7\\xf0\\xcd7\\xdfhxFDD\\xe0\\x91G\\x1e\\xc1w\\xdf}\\xa79\\xdeE\\x85:77Wc\\xbfz\\xbd^\\x1c?~\\x9c\\x1d\\x85s\\xbb\\xddX\\xb4h\\x11L&\\x13\\x13r\\xba\\xc7\\x84\\xd6\\x05\\x15 \\xbd\\xad\\xb9\\x84\\x10v\\xc0\\x81\\xc7\\x82\\xd9\\xaa\\xff\\x0eQ^4\\x0f\\x87\\xc3\\x81\\xb2\\xb22\\x14\\x14\\x14\\x08\\xef\\xe7\\xf1x0l\\xd80A`\\xe8\\x11\\xaf`\\x9d\\xc9\\xe1p`\\xc4\\x88\\x11\\x9a\\xfb\\x0e\\x87\\x83\\xf1\\xda\\xb7o\\x1f\\x92\\x92\\x92\\xd0\\xb3gO\\xec\\xd8\\xb1CsR\\xa6{\\xf7\\xee\\xd8\\xb1c\\x87\\xc6+\\xd2\\xb5kW\\x14\\x16\\x16\\xb2\\xe8\\xa94\\x8fg\\x9f}\\x16[\\xb7nE\\xb3f\\xcd\\x04\\xbcs\\xe7\\xce\\xd8\\xb2e\\x0b\\x0bJI\\xdf\\xe3\\x99g\\x9e\\xc1\\xa6M\\x9bXPJ\\x8aw\\xec\\xd8\\x11\\x1b7nD\\x9b6m\\x84N\\xd5\\xa1C\\x87\\x80W$\\x88\\xc6\\t6\\xc4S\\xc1\\xe1_\"\\xd8\\xb2\\xb8^zz\\xfc\\xcb\\xeb\\xf5\\xe2\\xca\\x95+\\x88\\x8b\\x8bC\\\\\\\\\\x1c;\\xa1\\xe3\\xf1x\\xf0\\xe3\\x8f?\\xa2\\xa8\\xa8\\x087o\\xde\\xd4\\xf0\\xa3\\xd1a/_\\xbe\\x0c\\x8b\\xc5\"\\x9c&\\xa7\\x9d\\xa3\\xa0\\xa0\\x00=z\\xf4\\xc0\\x87\\x1f~(\\x08dtt4\\x8b\\xd7\\xe1t:\\xb1t\\xe9R<\\xf0\\xc0\\x03\\x184h\\x10\\x00\\xff\\xc6~~\\x9fH0\\x81\\xe6\\x89\\x8f\\x8c\\xa5\\xaeC\\x1a\\x91)X}\\xf2\\xc7\\xdb\\x82\\x91\\xddng\\xa6\\x99\\xa2(\\x181b\\x84&MTT\\x14\\xf2\\xf3\\xf3a4\\x1a\\xb1s\\xe7N!\\x1f\\xf5\\x1f\\x9dL\\x12B\\xd0\\xb7o_\\xec\\xda\\xb5K\\x13\\x1a\\xb8w\\xef\\xde\\xd8\\xb9s\\';\\xe5\\xa2W\\xfep\\xec_u\\x19\\x82\\x95+\\x1c>z8\\xff\\xac:\\xbd\\xee\\x92z\\xb0\\x07\\xa8v>p\\xe0\\x80&\\xd3`TWW\\x87={\\xf6\\xe8\\xde;v\\xec\\x98.\\xfe\\xc5\\x17_\\xe8\\xe2\\x06\\x83\\x01\\x8d\\x1a5\\xc23\\xcf<\\x83w\\xdey\\x07\\x16\\x8b\\x05UUUl/\\xb2\\xc7\\xe3Aqq1\\\\.\\x97\\xa6\\x8cF\\xa3\\x91\\xf5zJ\\xb2,\\xe3\\xc2\\x85\\x0b\\xd8\\xb5k\\x17\\xd2\\xd3\\xd31k\\xd6,,]\\xba\\x14o\\xbc\\xf1\\x06\\x8b\\x93\\xb2u\\xebV\\xdd\\x90\\x0b\\xf4\\x08\\xd2\\xcc\\x993\\xb1l\\xd92McY,\\x16\\xacY\\xb3\\x06\\x19\\x19\\x19,\\xfc\\x1b_\\x9f\\x8a\\xa2`\\xfc\\xf8\\xf1!\\xb7\\xe56h\\xd0\\x00\\x93\\'OfB\\xed\\xf1x`6\\x9b5\\x9d\\x8d\\xda\\xd6\\x06\\x83\\x01>\\x9f\\x0f#F\\x8c\\x08\\x1a\\xa2\\xed\\xc0\\x81\\x03\\xc2\\xd9\\xcd`\\n,\\x94\\x00\\xdd\\xa9\\xb0\\xeb\\xa5\\xe1\\xa9>\\xf9\\xd3\\xcb7X\\x99(\\xdd\\xf1\\x92\\xfa\\xff\\x04\\xd1!\\xa8y\\xf3\\xe6\\xe8\\xdc\\xb93+\\x8b\\xddn\\xc7\\xa6M\\x9b\\xea}\\xde`0\\xc0d2\\xe1\\xb9\\xe7\\x9e\\x13x\\x02~\\xe1\\xfe\\xe9\\xa7\\x9f\\xf0\\xf5\\xd7_#99\\x19\\x8a\\xa2\\xc0j\\xb5\\xa2\\xb6\\xb6\\x16\\xe7\\xcf\\x9f\\xd7\\x1d5\\x8cF#:t\\xe8\\x00\\xa3\\xd1\\x88\\xa3G\\x8f\"++K\\xa8\\x1f\\x9b\\xcd\\x86\\x9c\\x9c\\x1c&\\x90\\x7f\\xfe\\xf3\\x9f\\x91\\x97\\x97\\xa7i\\x84P\\xe6\\n!\\x04\\x05\\x05\\x05lr\\xa7(\\n\\x06\\x0f\\x1e\\x8c\\xee\\xdd\\xbb\\xe3\\xf0\\xe1\\xc3\\xc2\\xdc\\x83\\x06\\x95\\xaf\\x8f\\xc2\\x11\\xb2;\\xe5q\\xa7\\xcf\\xfc\\x16\\xfcN\\xf22\\xd2 +|\\xa5\\xf3\\xa1\\n\\xd4\\x81\\x1d\\xff\\xbb\\x89\\x1e\\xeeU\\x14\\x05]\\xbata\\xa7\\xe8\\xc3%\\xb3\\xd9\\x8c\\x07\\x1f|\\x10\\x17/^d\\x13\\ru\\xc5y\\xbd^\\x1c:t\\x88\\xfd\\xce\\xce\\xcef\\xe9,\\x16\\x8bf\\xc3~RR\\x12\\xfb\\xf2\\x82\\xc1`\\xc0\\x8a\\x15+XY\\x15Ea_\\n\\xa0\\xa4(\\n\\xe6\\xce\\x9d\\xab\\xc9\\xb7>;\\x9c\\xef\\x00\\xb5\\xb5\\xb5P\\x14\\x05\\x87\\x0e\\x1d\\n\\xeb\\xf0\\x85\\x1e\\xe9\\x1d\\xee\\xe51z\\x98\\x9aRMM\\r\\x0bwGG0:\\x19\\xe5\\x15CMM\\x8dn\\x98\\xbc\\x9a\\x9a\\x1aTTTh\\x0erWUU!..\\x8e\\xf1\\x90$\\x89\\x9dC\\xe5\\xd3\\x03\\xfe\\xb6\\xa9\\xaa\\xaa\\xc2\\xad[\\xb7\\x04>\\x14\\xa7a\\xf4(/\\xea,0\\xdal66\\x99\\xe2\\x0b\\xeb\\xf5z5\\x01i\\xe8\\x8b\\xabC\\xe7\\xd2\\x88M\\xf4\\xc8\\x18\\x9f\\xde\\xedvk\"b\\xd2N\\xa3\\x8e\\x12Eg\\xc1\\xb4\\x92(\\xd1`<\\xd4~\\xa4\\xb6\"\\x8d\\xda\\x1a\\x8chx\\x81\\xf6\\xed\\xdb\\xa3\\xa8\\xa8\\x88\\t(\\xdfIi\\x18^\\xbdy\\x82\\xa2(\\x9aN$I\\x12n\\xdd\\xba\\x85\\x16-Z\\xa0K\\x97.\\xccsD+W\\x92$\\x16uUQ\\x14v\\x1eq\\xcd\\x9a5\\xc2\\xfec\\xc0\\x1f\\xd2 \\x94\\xd7\\xa7\\xba\\xba\\x9a\\x05\\x93\\x1c7n\\xdc\\xef\\xa2X\\xaa\\xab\\xabY\\xc7\\xa0yP\\xe2\\x85\\xb2\\xaa\\xaa\\n\\xf3\\xe7\\xcfg\\xa7\\xdd\\xab\\xaa\\xaa0~\\xfcx\\x8d\\x17\\xa2\\xb2pE $\\x00\\x00\\tcIDAT\\xb2\\x12\\x19\\x19\\x19\\x9aSU\\x95\\x95\\x95\\x18;v\\xacn\\xfa1c\\xc6\\xe8\\xc6\\x15\\x195j\\x94\\xe6\\xb4Uee%\\xd2\\xd3\\xd3u\\xe3\\x8a\\x0c\\x1f>\\\\\\x88+\\xa2(\\n***\\xfc\\xef\\x12\\x17\\x17\\xa7\\xb4o\\xdf^\\xe8m\\xb5\\xb5\\xb58u\\xea\\x14\\x1b\\xf6y\\xfc\\xdbo\\xbfe\\xd1P\\x01\\x7f\\x83\\xd6\\xd6\\xd6\\xe2\\xf8\\xf1\\xe3\\xe8\\xd3\\xa7\\x8f\\x06\\xff\\xf8\\xe3\\x8f\\x05\\xb7\\x0f!\\xfe\\t\\xde\\x07\\x1f|\\xc0\\xce\\xd5\\xd1?\\xab\\xd5\\x8a\\xf7\\xdf\\x7f\\x1f#F\\x8c\\x10\\xa2&Y\\xadV\\xbc\\xfb\\xee\\xbb\\x18;v\\xac\\x80\\xdb\\xedv\\x14\\x16\\x16j:\\x8d\\xcdf\\x13\\xbe\\xb7B\\xcd\\x0b\\x1a\\x1c\\x93\\xa6s\\xb9\\\\\\x188p \\xbe\\xfa\\xea+\\xfc\\xfc\\xf3\\xcf\\xf5j\\xc2\\xc8\\xc8H$%%\\xc1h4b\\xdc\\xb8q\\x88\\x8e\\x8e\\xc6\\xb4i\\xd3\\xb0v\\xedZV\\xae\\x9a\\x9a\\x1aV>EQ0}\\xfat\\x10B\\x90\\x9b\\x9b\\xab\\xb1\\r\\'O\\x9e\\\\o\\x9e\\xe1\\x98-\\xc1\\x88\\x8f,[YY\\x89\\x84\\x84\\x04\\xa1cUTT\\xb0\\x89#\\x9f\\x0fM\\xbbg\\xcf\\x1e$%%\\x81\\x10\\x82\\xe7\\x9e{\\x0e;w\\xeed\\xe1\\xe1\\xe8\\xfbv\\xeb\\xd6\\r;v\\xec@ZZ\\x1a+\\xaf$I\\xf8\\xd3\\x9f\\xfe\\x84\\xed\\xdb\\xb7\\xe3\\xde{\\xef\\x15\\xf0\\xce\\x9d;c\\xdb\\xb6m\\x9a\\xbd\"\\x9d:u\\xc2\\x96-[4{E\\x9e~\\xfail\\xde\\xbc\\x19\\xfcw\\x92\\x08!\\xe8\\xd0\\xa1\\x03\\xf2\\xf3\\xf3\\xd9^\\x11\\x8a\\xb7k\\xd7\\x0e\\'O\\x9e\\x0c\\xdf\\xc6\\xd6\\xa3\\xfal$=\\xc3\\xbe\\xbe\\x89\\x02_i\\xf5\\xe5g\\xb1X\\x90\\x9e\\x9e.\\x84=\\xb0\\xdb\\xed(((\\xc0\\xd4\\xa9S\\x19\\xe6p8\\xb0v\\xedZL\\x9f>\\x9d\\xf1v\\xb9\\\\\\xc8\\xcb\\xcb\\xc3\\xc1\\x83\\x07A\\x08aQH\\x15EAMM\\x8d&oI\\x92\\xf0\\xc7?\\xfe\\x11\\xe5\\xe5\\xe5\\x182d\\x08bcc\\x99\\xb6\\xad\\xae\\xaeFbb\"dYFff\\xa6\\xee\\x90?e\\xca\\x94\\xd0\\x95\\x19\\x84\\xc2\\x11h\\xfa\\xbd\\x18JT`\\xb7m\\xdb\\xc6&\\xd6\\xfd\\xfa\\xf5\\xc3\\xb6m\\xdb\\x98\\x07\\n\\x00\\xfa\\xf4\\xe9\\x83\\x1d;v\\x08a\\x84\\x01\\xa0W\\xaf^\\xd8\\xbd{7\\x13j\\xbd\\xba\\xd0kS*\\xbcz\\xb8\\x9eL\\x04\\x93\\x8f\\xfa\\xee\\xe9\\xf1V\\x973\\xec\\x83\\x06zL\\xf5\\xd2\\x85\\xa2\\xfa:B\\xb0<\\xf5\\xf2%\\xc4\\x1fQ\\xaa\\xb0\\xb0\\x10\\x93&M\\n\\x99\\x87$I\\x9a\\xa0\\xf1\\x91\\x91\\x91\\xc8\\xcc\\xccd\\x81\\xe3i>n\\xb7\\x1b\\xf3\\xe7\\xcf\\xd7D}\\xaa\\xae\\xae\\xc6\\xd9\\xb3g1a\\xc2\\x046T\\xd3\\x05\\xa4\\xf9\\xf3\\xe7\\xe3\\xed\\xb7\\xdf\\x06\\xf0\\xefi\\xd6p\\x89\\x06\\x9f\\xa1t\\xeb\\xd6-4l\\xd8\\x10\\x05\\x05\\x05\\x82\\x8d\\xfb\\xc2\\x0b/`\\xcb\\x96-\\xec\\x0c$\\xaf\\xd1\\xe85\\xf5\\x8d\\xab\\x05$T\\x84\\x82P\\xd7\\xfc\\xefP\\xc2\\xaa\\xa6P\\xed\\x1b\\x8a_(\\x1c\\x08\\x11F8\\x1c\\\\\\xaf0\\xf5]\\xff\\x1e\\x14n9\\xe9\\xef\\xc8\\xc8H\\x16t\\x86\\xc7].\\x17V\\xaf^\\xcd\\xbc\\x1aT\\xdb\\x98\\xcdf\\xcc\\xe7\\xf6\\x90x\\xbd^\\xacX\\xb1\\x02c\\xc7\\x8e\\xc5\\xda\\xb5k\\x05\\x1e\\x89\\x89\\x89l\\xd2\\xf3{\\nu\\xa3F\\x8d\\xd8uyy9\\x92\\x93\\x93\\xb1~\\xfdz!\\x80\\xfbK/\\xbd\\x84\\xfc\\xfc|A\\xa8\\xd5\\xefx\\xa7\\xed\\x13Ji\\x85\\xa3\\xf4\\xc2\\xa1`\\n2X\\x19\\xd4\\xf9\\x843\\x9a\\x1b\\xe9\\x04\\x8c\\x7f\\xc8\\xe5r\\xb1\\xcff\\xf0\\xb8\\xc3\\xe1`\\x81lx\\x9c\\xc6\\xae\\xab\\xab\\xab\\x13p\\x9b\\xcd\\xc6b4\\xf3\\x82c\\xb3\\xd9\\xa0(\\n;hK\\xefY\\xadV\\x96\\x9e\\x7f\\x11\\xca\\x9fF\\x01\\xe5\\xcbCM\\x07\\xb5\\x86UW<\\xe5\\x9b\\x98\\x98\\xa8[\\xc1\\xa1\\x1a\\xcal6c\\xc6\\x8c\\x19\\x983g\\x0eV\\xadZ\\x05\\xe0\\xb6\\x16\\xf4z\\xbd\\x984i\\x12rss\\x01\\x00\\xc9\\xc9\\xc9PSyy\\xb9 \\xa8ze\\xbcy\\xf3&\\x14Ea+{yyyl\"\\xf5\\xf2\\xcb/\\xe3\\xed\\xb7\\xdffBM\\xbd/z\\xef\\xa9(\\n;1NI/\\x90\\x10M\\xab\\xf6\\x8aP~\\xd7\\xae]c\\xfb3\\x00\\xff~\\x9fk\\xd7\\xae\\xc1\\xe3\\xf1\\x08Z\\x9f\\xe2t?\\x10\\xbfb{\\xed\\xda5a\\xa4\\x00\\xfc^\\x8b\\xb2\\xb22\\xcd\\xf7,)\\xce\\xef]\\xe1q\\x8b\\xc5\"\\x98@n\\xb7\\x1beee\\xc2gF(\\x0e\\x04\\xbc\"\\xdf~\\xfb\\xadP\\xe1t\\xe3\\x89:\\xf2\\x11\\xf5N|\\xfe\\xf9\\xe7\\x1a\\xdc\\xe1p\\xe0\\xe3\\x8f?\\x16*\\x9av\\x9a#G\\x8ehp\\x9b\\xcd\\xc6\\\\l\\xf4\\x1eM\\xcfGg\\xa5B\\xe9p8\\xb0o\\xdf>!_\\xba\\xa7a\\xff\\xfe\\xfd\\xe8\\xd7\\xaf\\x1f\\x08\\xf1\\xaf(\\xca\\xb2\\x8c\\xca\\xcaJ\\xe1\\x85].\\x17\\xb6o\\xdf.\\x84\\t\\x0b\\xb6L\\x1e\\xceo\\xbeQ\\x0c\\x06\\x03[\\xad\\xe4\\x1b\\x916\\xfe\\x981c\\xb0r\\xe5J\\xe1\\x19\\xb5\\xf6\\x19:t(\\x92\\x93\\x93Y\\xe8`\\xbd!:\\x94f\\xa4\\xf8\\xf5\\xeb\\xd7\\xb1a\\xc3\\x06H\\x92\\x84k\\xd7\\xae1a\\xa5\\x02H\\x95\\x12\\xad\\xef\\xb2\\xb22\\xf6e\\x08\\xca\\'%%\\x05\\xf3\\xe7\\xcf\\x17\\xf8WWWc\\xf6\\xec\\xd9\\x1a\\xafEEE\\x0523351b\\xca\\xcb\\xcbu\\xf1\\x1b7n`\\xfa\\xf4\\xe9\\x9a(\\xa9eeex\\xfd\\xf5\\xd7\\x99\\xc7\\x8d\\xd6]ii)\\xa6M\\x9b\\xa6\\xfb\\xcd\\x9a)S\\xa6h<qW\\x03\\x91\\x04\\x8c111\\xe8\\xd0\\xa1\\x83\\xd0\\x1bjkkq\\xf2\\xe4It\\xe9\\xd2Eh\\xa8\\xda\\xdaZ\\x9c8q\\x02=z\\xf4\\xd0\\xe0_|\\xf1\\x05\\xfa\\xf6\\xed+4\\x98\\xda+B\\xf1\\xba\\xba:\\x1c>|\\x18\\x83\\x07\\x0f\\xd6\\xe0\\xfb\\xf7\\xef\\xc7\\xf0\\xe1\\xc3\\x85\\xf2\\xd8l6\\xec\\xdd\\xbb\\x17\\xa3F\\x8d\\x12\\\\f\\xd4\\xc6\\x1e4h\\x10s\\x05\\xd2N\\xb9w\\xef^\\xe1\\x85)\\xce/9S\\x8du\\xeb\\xd6-As(\\x8a\\xa2\\xd1\\xb2\\xf5\\r\\xc97n\\xdc\\x10\\xbeB\\x1b\\xce3\\xfc5!~\\xcf\\x89^p!5\\xf1\\x9a\\xb5\\xac\\xac\\x8c\\x05\\x0f%\\xc4\\xff\\x85\\xdb\\x9c\\x9c\\x1cX,\\x16\\xbc\\xf9\\xe6\\x9blI?11\\x91}#\\x87\\x92\\xcdf\\xc3\\xc2\\x85\\x0b\\x05\\x97\\\\ii)\\x0e\\x1f>,LH\\t!\\xec\\xa4\\x8cz\\xafH\\xd7\\xae]\\x99W\\x84\\xc7\\xbbt\\xe9\\x82\\x1d;vh\\xbe)\\xd3\\xa9S\\'l\\xdf\\xbe]\\xe3\\x15\\xe9\\xd8\\xb1#\\xb6n\\xdd\\x8a\\x96-[\\nm\\xcf{Ex\\xbc}\\xfb\\xf6\\xd8\\xb4i\\x13\\xdb+B\\xcb\\xfa\\xd4SO\\xdd\\xf6\\x8a\\x84\\x1a\\x86\\xef\\xf4Z\\xddXz\\xffC=\\x17*\\xff`\\xb3q\\x8b\\xc5\\xc24\\xb1\\xcdfc\\x9f\\x85\\xe6\\x9f\\xb1\\xdb\\xedX\\xb3f\\r\\xa6N\\x9d\\xca\\x9eu\\xbb\\xdd\\xc8\\xce\\xce\\xc6\\xf6\\xed\\xdb\\x05~qqqX\\xb9r%^\\x7f\\xfduV\\x1e\\xba\\x19\\x8a\\n0_\\x86\\xe4\\xe4d,\\\\\\xb8\\x10\\x1b6l\\x08\\xfa\\xaewRoz\\xf7JKK\\xd9\\xe7\\xa5\\xe9}Y\\x96\\xf1\\xd6[o\\tf\\x87\\xd3\\xe9\\xc4\\x92%K I\\x12\\xde~\\xfbmDGG\\xa3\\xac\\xac\\x0c\\xa9\\xa9\\xa9\\x9a\\x8f\\xa3\\xf6\\xee\\xdd\\x1b\\x9b6m\\x12\\xf6\\x8a\\xf4\\xec\\xd9Sh\\x0b\\xbd\\xb2\\xa8\\xa32\\xd1\\xff\\xc1v\\x11\\x06\\xe3\\xa5\\xd7\\xd6\\xc1d@\\x8f\\xa7\\xfa>oV\\x85T\\x0f\\xc14K(<\\xdc\\x06\\rgx\\xd5{6\\x18\\x8fPe\\xd6\\xe3A\\x7fGDD0_3\\xaf\\xb5\\xe7\\xcc\\x99\\x83m\\xdb\\xb6\\xb1t\\xd4\\x9e\\xdc\\xbau+F\\x8e\\x1c)4bFF\\x06\\x16/^\\x8ck\\xd7\\xae\\xa1I\\x93&,\\x8fP\\xabzz\\xefTRR\"\\x04#\\xa2\\xe9\\x14EANN\\x8e\\xf0\\xfc\\xd5\\xabW\\x91\\x96\\x96\\x86\\xb5k\\xd7\\n!\\xc0\\xfa\\xf7\\xef\\xcf\\x04\\x9av\\xea\\xf1\\xe3\\xc7c\\xcf\\x9e=\\x9a\\x00\\xefzu\\xaa\\xbe\\xaeO\\xd1\\x85\\xd3\\x06\\xf5\\tu8|B\\x95S\\xefYM\\xc0\\x9cp\\x04-\\x1c\\xfa-\\xc2\\xa6w\\xaf>\\xfc\\xdf-\\x1b\\x8f\\xf1\\xefn2\\x990k\\xd6,a\\x92\\x98\\x9b\\x9b\\x8b!C\\x86\\xb0\\xfd\\xe2<\\xc9\\xb2\\x8cM\\x9b6a\\xe1\\xc2\\x85(++\\x13\\xf2P\\x14\\x05%%%\\x1a\\xcd\\xa3\\x16\\xde5k\\xd6h\\xea\\xff\\xea\\xd5\\xabh\\xd2\\xa4\\trss\\xd9\\n.!\\x04\\x03\\x06\\x0c@^^\\x9e&>\\x9e\\xfa}\\xf4\\xde9\\x94\\xd6\\xac\\xaf\\xde~\\x8b2\\t\\x97\\xee\\xb4\\xed\\xf5p#\\xef\\xcd\\x00\\xa0\\xf1N\\xf0/B\\x03\\xfeUWW\\x0b\\x1a\\x8b\\xe2UUU\\x9a\\x15F\\x9f\\xcf\\xa7\\x99\\xc8\\xd9\\xedv\\xf8|>TTT\\x08\\xfc)\\xce\\xdb\\xbc\\x84\\xdc\\xf6\\xc6\\xd0/\\xe5\\xaa\\xf1\\x1b7n\\xb0|\\xd5A\\xe1CU.!\\x84\\xd9\\x8c\\xf5\\x91\\xc9d\\xc2\\xd4\\xa9S\\x91\\x99\\x99)\\x08 !~\\x93\\xe0\\xcf\\x7f\\xfe3\\xb2\\xb2\\xb2 \\xcb\\xb2\\xf0\\xf5_J4\\x96u\\xb0r\\xc9\\xb2\\x8c\\xe5\\xcb\\x97k\\xc2\\xc1\\r\\x1a4\\x08999\\xc2\\x92r\\xb8nE\\xbd\\x131\\xb4\\x13\\xa9;\\x1e]y\\xf5z\\xbd\\xf8\\xe9\\xa7\\x9f\\xd8R;!~\\xfb\\x95n3\\xe6WV\\xe9\\xe8V\\\\\\\\\\xac\\xf1\\x88\\xb9\\xddn\\x14\\x17\\x17k<nn\\xb7\\x1bW\\xae\\\\\\x11\\xf6\\'\\x01\\xfe\\xc9=\\x8d\\x82\\xcb\\xcb\\x84\\xcb\\xe5\\xc2\\xe5\\xcb\\x97\\x85\\x11\\x8f\\x10\\xbf\\x93\\xe0\\xf2\\xe5\\xcb\\x9am\\n\\xec\\xa0A]]\\x9d\\x10\\x8d\\x94\\xa7`\\x81&\\x83\\xc5\\xbc\\x0bv\\xb2\\x86\\xc6\\xe7S\\x93\\xfad\\r\\xa5\\xdd\\xbbw\\xeb\\xe2\\x85\\x85\\x85\\xba\\xf8\\xe6\\xcd\\x9b\\x85\\xdfQQQ\\xb8~\\xfd\\xbaPq\\xf4\\xabZ\\xbc\\x0b\\n\\xf0\\x07O,+\\xf3\\xc7\\x88\\xa2\\x8dH?\\xe1\\xac\\xc6\\xe9\\xc4R\\xad}\\xe9\\x91\\xb9\\xabW\\xaf\\x82\\x10\\xff\\xb7]\\xe8s\\x00\\x90\\x95\\x95\\x85\\x8c\\x8c\\x0c!_^\\xcb\\x12B0{\\xf6l\\xfc\\xf2\\xcb/\\x1ao\\x01\\x15:\\xde\\x7f\\r\\xdc\\xde\\x95\\xc8\\x7fu\\x82\\x96\\xe5\\xca\\x95+\\xc2\\xd7\"|>\\x1f\\xae\\\\\\xb9\"l3\\xa0\\xa3Pqq1bcc1q\\xe2D\\xb6\\xe2:n\\xdc8\\xddz\\xce\\xc8\\xc8\\xd0\\xc5\\xe9\\xfb\\xaai\\xd4\\xa8Q\\xbaxzz\\xba.\\xae\\xb7\\xd7\\x1c\\x00\\x86\\x0f\\x1f\\xae\\x8b\\x0f\\x1b6L\\x17\\x07\\x00\\xf2\\xd8c\\x8f\\xfd\\xbf[*\\xfb?NT\\xa04\\xc1\\x7f\\xea\\xc1\\xf5H\\xcf/\\xfd{\\xe0w\\x9a\\xee\\xff\\n\\xfd\\x17u\\xec^O\\xacL\\xa4e\\x00\\x00\\x00\\x00IEND\\xaeB`\\x82'"
      ]
     },
     "execution_count": 10,
     "metadata": {},
     "output_type": "execute_result"
    }
   ],
   "source": [
    "# Driver.find_element_by_id(\"captcha\").send_keys(672495)\n",
    "# time.sleep(1)\n",
    "Captcha = Driver.find_element_by_id(\"imgCaptcha\")\n",
    "Captcha_Image = Captcha.screenshot_as_png\n",
    "Captcha_Image"
   ]
  },
  {
   "cell_type": "code",
   "execution_count": 11,
   "id": "bea3085b",
   "metadata": {},
   "outputs": [],
   "source": [
    "with open('GST_Login_captcha.png', 'wb') as f:\n",
    "    f.write(Captcha_Image)"
   ]
  },
  {
   "cell_type": "code",
   "execution_count": 12,
   "id": "720fae63",
   "metadata": {},
   "outputs": [
    {
     "data": {
      "image/png": "[encoded data removed]",
      "text/plain": [
       "<PIL.PngImagePlugin.PngImageFile image mode=RGBA size=182x50 at 0x1976637BD00>"
      ]
     },
     "execution_count": 12,
     "metadata": {},
     "output_type": "execute_result"
    }
   ],
   "source": [
    "Image.open(\"GST_Login_captcha.png\")"
   ]
  },
  {
   "cell_type": "code",
   "execution_count": 32,
   "id": "f80e7784",
   "metadata": {},
   "outputs": [
    {
     "data": {
      "text/plain": [
       "''"
      ]
     },
     "execution_count": 32,
     "metadata": {},
     "output_type": "execute_result"
    }
   ],
   "source": [
    "# print(image_to_string(Image.open(\"GST_Login_captcha.png\"),config='--psm 6'))\n",
    "# print(image_to_string(Image.open(\"GST_Login_captcha.png\"),lang='eng',config='--psm 10 --oem 3 -c tessedit_char_whitelist=0123456789'))\n",
    "pytesseract.image_to_string(Image.open(\"GST_Login_captcha.png\"),lang='eng', config='--psm 13 --oem 3 -c tessedit_char_whitelist=ABCDEFG0123456789')"
   ]
  },
  {
   "cell_type": "code",
   "execution_count": 33,
   "id": "fe381c52",
   "metadata": {},
   "outputs": [
    {
     "data": {
      "text/plain": [
       "-1"
      ]
     },
     "execution_count": 33,
     "metadata": {},
     "output_type": "execute_result"
    }
   ],
   "source": [
    "import cv2\n",
    "# Reading image\n",
    "img = cv2.imread(\"GST_Login_captcha.png\")\n",
    "\n",
    "# Convert to RGB\n",
    "img = cv2.cvtColor(img, cv2.COLOR_BGR2RGB)\n",
    "\n",
    "# Show the Output\n",
    "cv2.imshow(\"Output\", img)\n",
    "cv2.waitKey(0)"
   ]
  },
  {
   "cell_type": "code",
   "execution_count": 34,
   "id": "ed924612",
   "metadata": {},
   "outputs": [
    {
     "name": "stdout",
     "output_type": "stream",
     "text": [
      " \n",
      "\n"
     ]
    }
   ],
   "source": [
    "# Detect texts from image\n",
    "import pytesseract\n",
    "texts = pytesseract.image_to_string(img)\n",
    "\n",
    "print(texts)"
   ]
  },
  {
   "cell_type": "code",
   "execution_count": 10,
   "id": "187dbff7",
   "metadata": {},
   "outputs": [
    {
     "data": {
      "text/plain": [
       "{'errorId': 1,\n",
       " 'errorCode': 'ERROR_KEY_DOES_NOT_EXIST',\n",
       " 'errorDescription': 'Account authorization key not found in the system'}"
      ]
     },
     "execution_count": 10,
     "metadata": {},
     "output_type": "execute_result"
    }
   ],
   "source": [
    "\n",
    "# ANTICAPTCHA_KEY = 'imgCaptcha'\n",
    "# captcha_file = \"image.png\"\n",
    "# result = ImageToTextTask.ImageToTextTask(\n",
    "#     anticaptcha_key=ANTICAPTCHA_KEY).captcha_handler(captcha_file=captcha_file)\n",
    "# result"
   ]
  },
  {
   "cell_type": "code",
   "execution_count": 14,
   "id": "f5ce5677",
   "metadata": {
    "scrolled": true
   },
   "outputs": [],
   "source": [
    "\n",
    "# print(image_to_string(Image.open('image1.png'),lang='eng'))"
   ]
  },
  {
   "cell_type": "code",
   "execution_count": 96,
   "id": "271771a9",
   "metadata": {},
   "outputs": [],
   "source": [
    "# Driver = webdriver.Chrome(chrome_options=options,executable_path=\"C:\\\\WebDriver\\\\chromedriver.exe\")\n",
    "# Driver.get('https://eportal.incometax.gov.in/iec/foservices/#/login')\n",
    "# time.sleep(3)\n",
    "# Driver.find_element_by_id(\"panAdhaarUserId\").send_keys(username)\n",
    "# time.sleep(2)\n",
    "# Driver.find_element_by_class_name(\"large-button-primary\").click()\n",
    "# time.sleep(2)"
   ]
  },
  {
   "cell_type": "code",
   "execution_count": 97,
   "id": "a982b730",
   "metadata": {},
   "outputs": [],
   "source": [
    "# Driver.find_element_by_class_name(\"mat-checkbox-inner-container\").click()\n",
    "# time.sleep(2)"
   ]
  },
  {
   "cell_type": "code",
   "execution_count": 98,
   "id": "c596b6b5",
   "metadata": {},
   "outputs": [],
   "source": [
    "# Driver.find_element_by_id(\"loginPasswordField\").send_keys(password)\n",
    "# time.sleep(2)\n",
    "# Driver.find_element_by_class_name(\"large-button-primary\").click()\n",
    "# time.sleep(5)"
   ]
  },
  {
   "cell_type": "code",
   "execution_count": 99,
   "id": "c7377f97",
   "metadata": {},
   "outputs": [],
   "source": [
    "# # Driver.find_element_by_xpath(\"//span[text()='AAKASH NADUPALL']\").click()\n",
    "# Driver.find_element_by_class_name(\"nameSection\").click()\n",
    "# time.sleep(3)"
   ]
  },
  {
   "cell_type": "code",
   "execution_count": 100,
   "id": "401c9070",
   "metadata": {},
   "outputs": [],
   "source": [
    "# Driver.find_element_by_xpath(\"//span[text()='Log Out']\").click()\n",
    "# Driver.find_element_by_class_name(\"mat-option-text\").click()"
   ]
  },
  {
   "cell_type": "code",
   "execution_count": 90,
   "id": "28e0ff7a",
   "metadata": {},
   "outputs": [],
   "source": [
    "# Driver = webdriver.Chrome(chrome_options=options,executable_path=\"C:\\\\WebDriver\\\\chromedriver.exe\")\n",
    "# Driver.get('https://services.gst.gov.in/services/login')"
   ]
  },
  {
   "cell_type": "code",
   "execution_count": 91,
   "id": "a466fcb8",
   "metadata": {},
   "outputs": [],
   "source": [
    "# Driver.find_element(by='id',value=\"username\").send_keys(username)"
   ]
  },
  {
   "cell_type": "code",
   "execution_count": 92,
   "id": "0f2cc67e",
   "metadata": {},
   "outputs": [],
   "source": [
    "# Driver.find_element(by='id',value=\"user_pass\").send_keys(password)"
   ]
  },
  {
   "cell_type": "code",
   "execution_count": null,
   "id": "b0067e76",
   "metadata": {},
   "outputs": [],
   "source": []
  }
 ],
 "metadata": {
  "hide_input": false,
  "kernelspec": {
   "display_name": "Python 3 (ipykernel)",
   "language": "python",
   "name": "python3"
  },
  "language_info": {
   "codemirror_mode": {
    "name": "ipython",
    "version": 3
   },
   "file_extension": ".py",
   "mimetype": "text/x-python",
   "name": "python",
   "nbconvert_exporter": "python",
   "pygments_lexer": "ipython3",
   "version": "3.9.7"
  },
  "nbTranslate": {
   "displayLangs": [
    "*"
   ],
   "hotkey": "alt-t",
   "langInMainMenu": true,
   "sourceLang": "en",
   "targetLang": "fr",
   "useGoogleTranslate": true
  },
  "varInspector": {
   "cols": {
    "lenName": 16,
    "lenType": 16,
    "lenVar": 40
   },
   "kernels_config": {
    "python": {
     "delete_cmd_postfix": "",
     "delete_cmd_prefix": "del ",
     "library": "var_list.py",
     "varRefreshCmd": "print(var_dic_list())"
    },
    "r": {
     "delete_cmd_postfix": ") ",
     "delete_cmd_prefix": "rm(",
     "library": "var_list.r",
     "varRefreshCmd": "cat(var_dic_list()) "
    }
   },
   "types_to_exclude": [
    "module",
    "function",
    "builtin_function_or_method",
    "instance",
    "_Feature"
   ],
   "window_display": false
  }
 },
 "nbformat": 4,
 "nbformat_minor": 5
}
