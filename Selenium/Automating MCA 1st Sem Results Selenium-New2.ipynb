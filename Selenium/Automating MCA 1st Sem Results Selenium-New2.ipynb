{
 "cells": [
  {
   "cell_type": "code",
   "execution_count": 225,
   "id": "660e2b96-fef1-4ae8-a64c-2cd3c7faf2b9",
   "metadata": {
    "ExecuteTime": {
     "end_time": "2022-05-18T12:19:52.809165Z",
     "start_time": "2022-05-18T12:19:52.050708Z"
    }
   },
   "outputs": [],
   "source": [
    "from selenium import webdriver\n",
    "from selenium.webdriver.common.keys import Keys\n",
    "from selenium.webdriver.chrome.options import Options\n",
    "from selenium.webdriver.support.ui import Select\n",
    "from getpass import getpass\n",
    "import time\n",
    "import pandas as pd\n",
    "from PIL import Image\n",
    "import chromedriver_autoinstaller as chromedriver\n",
    "chromedriver.install()\n",
    "options = Options()\n",
    "options.add_argument(\"start-maximized\")\n",
    "from IPython.display import display, HTML\n",
    "from tabulate import tabulate,tabulate_formats\n",
    "pd.set_option('display.colheader_justify', 'center')\n",
    "import xlsxwriter\n",
    "from openpyxl import load_workbook\n",
    "from openpyxl.styles.alignment import Alignment\n",
    "from openpyxl.styles import Alignment\n",
    "import xlrd\n",
    "# https://xlsxwriter.readthedocs.io/worksheet.html"
   ]
  },
  {
   "cell_type": "code",
   "execution_count": 2,
   "id": "9f36e1c3",
   "metadata": {
    "ExecuteTime": {
     "end_time": "2022-05-18T09:25:37.671538Z",
     "start_time": "2022-05-18T09:22:21.147447Z"
    }
   },
   "outputs": [
    {
     "name": "stderr",
     "output_type": "stream",
     "text": [
      "C:\\Users\\aakas\\AppData\\Local\\Temp/ipykernel_8200/3202603049.py:3: DeprecationWarning: executable_path has been deprecated, please pass in a Service object\n",
      "  driver = webdriver.Chrome(options=options,executable_path = \"C:\\\\Users\\\\aakas\\\\anaconda3\\\\lib\\\\site-packages\\\\chromedriver_autoinstaller\\\\101\\\\chromedriver.exe\")\n",
      "C:\\Users\\aakas\\AppData\\Local\\Temp/ipykernel_8200/3202603049.py:5: DeprecationWarning: find_element_by_* commands are deprecated. Please use find_element() instead\n",
      "  driver.find_element_by_xpath(\"//a[@href='http://14.139.82.140']\").click()\n",
      "C:\\Users\\aakas\\AppData\\Local\\Temp/ipykernel_8200/3202603049.py:10: DeprecationWarning: find_element_by_* commands are deprecated. Please use find_element() instead\n",
      "  driver.find_element_by_id('uid').send_keys(i)\n",
      "C:\\Users\\aakas\\AppData\\Local\\Temp/ipykernel_8200/3202603049.py:14: DeprecationWarning: find_element_by_* commands are deprecated. Please use find_element() instead\n",
      "  driver.find_element_by_id('pwd').send_keys(\"sit123\")\n",
      "C:\\Users\\aakas\\AppData\\Local\\Temp/ipykernel_8200/3202603049.py:15: DeprecationWarning: find_element_by_* commands are deprecated. Please use find_element() instead\n",
      "  driver.find_element_by_css_selector(\"input[type='submit']\").click()\n",
      "C:\\Users\\aakas\\AppData\\Local\\Temp/ipykernel_8200/3202603049.py:16: DeprecationWarning: find_element_by_* commands are deprecated. Please use find_element() instead\n",
      "  if driver.find_element_by_xpath(\".//div[contains(@class,'alert')]\").text == '×\\n  Failed !  Invalid LoginID or Password....':\n",
      "C:\\Users\\aakas\\AppData\\Local\\Temp/ipykernel_8200/3202603049.py:20: DeprecationWarning: find_element_by_* commands are deprecated. Please use find_element() instead\n",
      "  driver.find_element_by_xpath(\"//div[@id='myNavBar']/ul/li[4]\").click()\n",
      "C:\\Users\\aakas\\AppData\\Local\\Temp/ipykernel_8200/3202603049.py:22: DeprecationWarning: find_element_by_* commands are deprecated. Please use find_element() instead\n",
      "  driver.find_element_by_xpath(\"//a[@href='viewResults']\").click()\n",
      "C:\\Users\\aakas\\AppData\\Local\\Temp/ipykernel_8200/3202603049.py:24: DeprecationWarning: find_element_by_* commands are deprecated. Please use find_element() instead\n",
      "  if driver.find_element_by_xpath(\".//div[contains(@class,'alert')]\").text == '×\\n  Failed !  Results records not found.':\n",
      "C:\\Users\\aakas\\AppData\\Local\\Temp/ipykernel_8200/3202603049.py:28: DeprecationWarning: find_element_by_* commands are deprecated. Please use find_element() instead\n",
      "  driver.find_element_by_xpath(\"//select[@id='ecode']/option[text()='M.C.A. I Year I Semester (R20) (Reg) - April, 2022']\").click()\n",
      "C:\\Users\\aakas\\AppData\\Local\\Temp/ipykernel_8200/3202603049.py:30: DeprecationWarning: find_element_by_* commands are deprecated. Please use find_element() instead\n",
      "  driver.find_element_by_xpath(\".//button[contains(@class,'btn')]\").click()\n",
      "C:\\Users\\aakas\\AppData\\Local\\Temp/ipykernel_8200/3202603049.py:32: DeprecationWarning: find_element_by_* commands are deprecated. Please use find_element() instead\n",
      "  Result = driver.find_element_by_xpath('//div[@id=\"resBlock\"]//table').text.split(\"\\n\")\n",
      "C:\\Users\\aakas\\AppData\\Local\\Temp/ipykernel_8200/3202603049.py:34: DeprecationWarning: find_element_by_* commands are deprecated. Please use find_element() instead\n",
      "  driver.find_element_by_xpath(\"//a[@href='logout']\").click()\n",
      "C:\\Users\\aakas\\AppData\\Local\\Temp/ipykernel_8200/3202603049.py:12: DeprecationWarning: find_element_by_* commands are deprecated. Please use find_element() instead\n",
      "  driver.find_element_by_id('pwd').send_keys(getpass(f\"{i} Enter Your Password : \"))\n"
     ]
    },
    {
     "name": "stdout",
     "output_type": "stream",
     "text": [
      "21031F0005 Enter Your Password : ········\n"
     ]
    },
    {
     "name": "stderr",
     "output_type": "stream",
     "text": [
      "C:\\Users\\aakas\\AppData\\Local\\Temp/ipykernel_8200/3202603049.py:25: DeprecationWarning: find_element_by_* commands are deprecated. Please use find_element() instead\n",
      "  driver.find_element_by_xpath(\"//a[@href='logout']\").click()\n",
      "C:\\Users\\aakas\\AppData\\Local\\Temp/ipykernel_8200/3202603049.py:35: DeprecationWarning: find_element_by_* commands are deprecated. Please use find_element() instead\n",
      "  print(driver.find_element_by_class_name('alert-success').text.strip(\".\")[2:40])\n"
     ]
    },
    {
     "name": "stdout",
     "output_type": "stream",
     "text": [
      "  Success !  Successfully Logged out\n"
     ]
    }
   ],
   "source": [
    "a = [f\"21031F00{i:02d}\" for i in range(1,31)]\n",
    "url = \"http://jntuhsit.org/\"\n",
    "driver = webdriver.Chrome(options=options,executable_path = \"C:\\\\Users\\\\aakas\\\\anaconda3\\\\lib\\\\site-packages\\\\chromedriver_autoinstaller\\\\101\\\\chromedriver.exe\")\n",
    "driver.get(url)\n",
    "driver.find_element_by_xpath(\"//a[@href='http://14.139.82.140']\").click()\n",
    "driver.switch_to.window(driver.window_handles[1])\n",
    "time.sleep(2)\n",
    "All = {}\n",
    "for i in a:\n",
    "    driver.find_element_by_id('uid').send_keys(i)\n",
    "    if i==\"21031F0005\":\n",
    "        driver.find_element_by_id('pwd').send_keys(getpass(f\"{i} Enter Your Password : \"))\n",
    "    else:\n",
    "        driver.find_element_by_id('pwd').send_keys(\"sit123\")\n",
    "    driver.find_element_by_css_selector(\"input[type='submit']\").click()\n",
    "    if driver.find_element_by_xpath(\".//div[contains(@class,'alert')]\").text == '×\\n  Failed !  Invalid LoginID or Password....':\n",
    "        continue\n",
    "    else:\n",
    "        time.sleep(1)\n",
    "        driver.find_element_by_xpath(\"//div[@id='myNavBar']/ul/li[4]\").click()\n",
    "        time.sleep(1)\n",
    "        driver.find_element_by_xpath(\"//a[@href='viewResults']\").click()\n",
    "        time.sleep(1)\n",
    "        if driver.find_element_by_xpath(\".//div[contains(@class,'alert')]\").text == '×\\n  Failed !  Results records not found.':\n",
    "            driver.find_element_by_xpath(\"//a[@href='logout']\").click()\n",
    "            continue\n",
    "        else:\n",
    "            driver.find_element_by_xpath(\"//select[@id='ecode']/option[text()='M.C.A. I Year I Semester (R20) (Reg) - April, 2022']\").click()\n",
    "            time.sleep(1)\n",
    "            driver.find_element_by_xpath(\".//button[contains(@class,'btn')]\").click()\n",
    "            time.sleep(1)\n",
    "            Result = driver.find_element_by_xpath('//div[@id=\"resBlock\"]//table').text.split(\"\\n\")\n",
    "    All[i] = Result\n",
    "    driver.find_element_by_xpath(\"//a[@href='logout']\").click()\n",
    "print(driver.find_element_by_class_name('alert-success').text.strip(\".\")[2:40])\n",
    "driver.close()\n",
    "driver.switch_to.window(driver.window_handles[0])\n",
    "driver.close()"
   ]
  },
  {
   "cell_type": "code",
   "execution_count": 3,
   "id": "a8ee5dc2",
   "metadata": {
    "ExecuteTime": {
     "end_time": "2022-05-18T09:30:31.948686Z",
     "start_time": "2022-05-18T09:30:31.923721Z"
    }
   },
   "outputs": [],
   "source": [
    "def Grade_Table(roll):\n",
    "    global columns \n",
    "    columns = [\"S.No\",\"SubjectCode\",\"SubjectName\",\"Grade\",\"GradePoint\",\"Credits\",\"Result\"]\n",
    "    sln = [i+1 for i in range(len(All[roll][10:-1]))]\n",
    "    D = {}\n",
    "    for i in columns:\n",
    "        D[i] = []\n",
    "    D[columns[0]] = sln\n",
    "    D[columns[1]] = [All[roll][10:-1][i].split()[0] for i in range(len(All[roll][10:-1]))]\n",
    "    D[columns[2]] = [' '.join(All[roll][10:-1][i].split()[1:-4]) for i in range(len(All[roll][10:-1]))]\n",
    "    D[columns[3]] = [All[roll][10:-1][i].split()[-4] for i in range(len(All[roll][10:-1]))]\n",
    "    D[columns[4]] = [All[roll][10:-1][i].split()[-3] for i in range(len(All[roll][10:-1]))]\n",
    "    D[columns[5]] = [All[roll][10:-1][i].split()[-2] for i in range(len(All[roll][10:-1]))]\n",
    "    D[columns[6]] = [All[roll][10:-1][i].split()[-1] for i in range(len(All[roll][10:-1]))]\n",
    "    df = pd.DataFrame(D)\n",
    "    df[['GradePoint', 'Credits']] = df[['GradePoint', 'Credits']].astype('int64')\n",
    "    return df"
   ]
  },
  {
   "cell_type": "code",
   "execution_count": 4,
   "id": "daee5e33",
   "metadata": {
    "ExecuteTime": {
     "end_time": "2022-05-18T09:30:53.263363Z",
     "start_time": "2022-05-18T09:30:53.079816Z"
    },
    "scrolled": true
   },
   "outputs": [
    {
     "data": {
      "text/html": [
       "<table border=\"1\" class=\"dataframe\">\n",
       "  <thead>\n",
       "    <tr style=\"text-align: center;\">\n",
       "      <th>RollNumber</th>\n",
       "      <th>Name</th>\n",
       "      <th>SGPA</th>\n",
       "    </tr>\n",
       "  </thead>\n",
       "  <tbody>\n",
       "    <tr>\n",
       "      <td>21031F0002</td>\n",
       "      <td>DADYREDDY DHEERAJ KUMAR REDDY</td>\n",
       "      <td>7.10</td>\n",
       "    </tr>\n",
       "    <tr>\n",
       "      <td>21031F0004</td>\n",
       "      <td>GANGAPURAM AKHILA</td>\n",
       "      <td>8.14</td>\n",
       "    </tr>\n",
       "    <tr>\n",
       "      <td>21031F0005</td>\n",
       "      <td>AAKASH NADUPALLI</td>\n",
       "      <td>9.00</td>\n",
       "    </tr>\n",
       "    <tr>\n",
       "      <td>21031F0007</td>\n",
       "      <td>RENUKUNTLA SHIVA RAMA KRISHNA</td>\n",
       "      <td>8.14</td>\n",
       "    </tr>\n",
       "    <tr>\n",
       "      <td>21031F0008</td>\n",
       "      <td>VEMURI VIDYA MADHURI</td>\n",
       "      <td>9.24</td>\n",
       "    </tr>\n",
       "    <tr>\n",
       "      <td>21031F0009</td>\n",
       "      <td>BOLLIPALLI AKANKSHA</td>\n",
       "      <td>9.05</td>\n",
       "    </tr>\n",
       "    <tr>\n",
       "      <td>21031F0010</td>\n",
       "      <td>CHINTHA CHANDANA</td>\n",
       "      <td>8.19</td>\n",
       "    </tr>\n",
       "    <tr>\n",
       "      <td>21031F0012</td>\n",
       "      <td>KARNE RAMYA</td>\n",
       "      <td>7.62</td>\n",
       "    </tr>\n",
       "    <tr>\n",
       "      <td>21031F0014</td>\n",
       "      <td>M HARSHITH</td>\n",
       "      <td>7.24</td>\n",
       "    </tr>\n",
       "    <tr>\n",
       "      <td>21031F0015</td>\n",
       "      <td>BATTIKADI SREEDIVYA</td>\n",
       "      <td>8.57</td>\n",
       "    </tr>\n",
       "    <tr>\n",
       "      <td>21031F0018</td>\n",
       "      <td>DONTULA RAKESH</td>\n",
       "      <td>8.67</td>\n",
       "    </tr>\n",
       "    <tr>\n",
       "      <td>21031F0021</td>\n",
       "      <td>MAMEDIPELLY SAHITYA</td>\n",
       "      <td>9.10</td>\n",
       "    </tr>\n",
       "    <tr>\n",
       "      <td>21031F0022</td>\n",
       "      <td>MOODA YADAGIRI</td>\n",
       "      <td>7.90</td>\n",
       "    </tr>\n",
       "    <tr>\n",
       "      <td>21031F0024</td>\n",
       "      <td>MACHA SAIKRISHNA</td>\n",
       "      <td>8.38</td>\n",
       "    </tr>\n",
       "    <tr>\n",
       "      <td>21031F0025</td>\n",
       "      <td>AROORI Y JHANSI</td>\n",
       "      <td>6.78</td>\n",
       "    </tr>\n",
       "    <tr>\n",
       "      <td>21031F0029</td>\n",
       "      <td>JATAVATH SINDHU</td>\n",
       "      <td>7.29</td>\n",
       "    </tr>\n",
       "  </tbody>\n",
       "</table>"
      ],
      "text/plain": [
       "<IPython.core.display.HTML object>"
      ]
     },
     "execution_count": 4,
     "metadata": {},
     "output_type": "execute_result"
    }
   ],
   "source": [
    "All_Results = pd.DataFrame(columns=['RollNumber','Name','SGPA'])\n",
    "All_Results['RollNumber'] = [list(All.keys())[i] for i in range(len(list(All.keys())))]\n",
    "All_Results['Name']       = [All[list(All.keys())[i]][7][6:] for i in range(len(list(All.keys())))]\n",
    "All_Results['SGPA']       = [round(sum(Grade_Table(i)[\"GradePoint\"] * Grade_Table(i)[\"Credits\"])/sum(Grade_Table(i)[\"Credits\"]),2) for i in list(All.keys())]\n",
    "HTML(All_Results.to_html(index=False))"
   ]
  },
  {
   "cell_type": "code",
   "execution_count": 5,
   "id": "daaca2df",
   "metadata": {
    "ExecuteTime": {
     "end_time": "2022-05-18T09:31:08.734939Z",
     "start_time": "2022-05-18T09:31:08.705021Z"
    }
   },
   "outputs": [],
   "source": [
    "def Check_Result(roll):\n",
    "    if roll=='05':\n",
    "        display(HTML(\"<div style='position: absolute;top: 200px; right: 80px; width: 200px; text-align:right;'><img width=80,height=70 src='Aakash_New_PassportPhoto.jpg'></div>\"))\n",
    "    roll = '21031F00'+roll\n",
    "    l= [400,505,400,465,475,400,170,170,170]\n",
    "    t =[55,88,95,115,140,185,230,250,272]\n",
    "    h = ['h3','h7','h4','h4','h6','I','I','I','I']\n",
    "    s = [18,13,16,16,14,17,14,14,14]\n",
    "    c = ['#f7118b','#0a21a8','#0a21a8','#0a21a8','Red','Black','Black','Black','Black']\n",
    "    display(HTML(\"<div style='position: absolute;top: 80px; left: 180px; width: 200px; text-align:left;'><img width=130,height=50 src='Jntuh logo.png'></div>\"))\n",
    "    for i,j,k,m,n,o in zip(range(len(All['21031F0005'][:9])),range(len(t)),range(len(l)),range(len(h)),range(len(s)),range(len(c))):\n",
    "        display(HTML(\"<div style='position: absolute;top: {vl}px; left: {lf}px; width: 500px; text-align:left;'><{hd} style='font-family:Arial;color:{cr};font-size:{st}px;'>{Tx}</{hd}></div>\".format(Tx = All[roll][:9][i],vl=t[j],lf=l[k],hd=h[m],st=s[n],cr=c[o])))    \n",
    "    print('\\n'*10)\n",
    "#     display(tabulate(Grade_Table(roll),showindex=False,headers =columns,tablefmt=tabulate_formats[-2]))\n",
    "    display(HTML(Grade_Table(roll).to_html(index=False)))\n",
    "    print()\n",
    "#     print(' '*50,'SGPA : ',SGPA(roll))\n",
    "    print(' '*50,'SGPA : ',sum(Grade_Table('21031F0005')[\"GradePoint\"] * Grade_Table('21031F0005')[\"Credits\"])/sum(Grade_Table('21031F0005')[\"Credits\"]))"
   ]
  },
  {
   "cell_type": "code",
   "execution_count": 7,
   "id": "f60dd2ba",
   "metadata": {
    "ExecuteTime": {
     "end_time": "2022-05-18T09:31:19.424343Z",
     "start_time": "2022-05-18T09:31:17.414276Z"
    }
   },
   "outputs": [
    {
     "name": "stdout",
     "output_type": "stream",
     "text": [
      "Enter Last Two Digits of your RollNumber : 05\n"
     ]
    },
    {
     "data": {
      "text/html": [
       "<div style='position: absolute;top: 200px; right: 80px; width: 200px; text-align:right;'><img width=80,height=70 src='Aakash_New_PassportPhoto.jpg'></div>"
      ],
      "text/plain": [
       "<IPython.core.display.HTML object>"
      ]
     },
     "metadata": {},
     "output_type": "display_data"
    },
    {
     "data": {
      "text/html": [
       "<div style='position: absolute;top: 80px; left: 180px; width: 200px; text-align:left;'><img width=130,height=50 src='Jntuh logo.png'></div>"
      ],
      "text/plain": [
       "<IPython.core.display.HTML object>"
      ]
     },
     "metadata": {},
     "output_type": "display_data"
    },
    {
     "data": {
      "text/html": [
       "<div style='position: absolute;top: 55px; left: 400px; width: 500px; text-align:left;'><h3 style='font-family:Arial;color:#f7118b;font-size:18px;'>SCHOOL OF INFORMATION TECHNOLOGY</h3></div>"
      ],
      "text/plain": [
       "<IPython.core.display.HTML object>"
      ]
     },
     "metadata": {},
     "output_type": "display_data"
    },
    {
     "data": {
      "text/html": [
       "<div style='position: absolute;top: 88px; left: 505px; width: 500px; text-align:left;'><h7 style='font-family:Arial;color:#0a21a8;font-size:13px;'>(Constituent Unit of JNTUH)</h7></div>"
      ],
      "text/plain": [
       "<IPython.core.display.HTML object>"
      ]
     },
     "metadata": {},
     "output_type": "display_data"
    },
    {
     "data": {
      "text/html": [
       "<div style='position: absolute;top: 95px; left: 400px; width: 500px; text-align:left;'><h4 style='font-family:Arial;color:#0a21a8;font-size:16px;'>Jawaharlal Nehru Technological University Hyderabad</h4></div>"
      ],
      "text/plain": [
       "<IPython.core.display.HTML object>"
      ]
     },
     "metadata": {},
     "output_type": "display_data"
    },
    {
     "data": {
      "text/html": [
       "<div style='position: absolute;top: 115px; left: 465px; width: 500px; text-align:left;'><h4 style='font-family:Arial;color:#0a21a8;font-size:16px;'>Kukatpally - 500 085, Telangana (India).</h4></div>"
      ],
      "text/plain": [
       "<IPython.core.display.HTML object>"
      ]
     },
     "metadata": {},
     "output_type": "display_data"
    },
    {
     "data": {
      "text/html": [
       "<div style='position: absolute;top: 140px; left: 475px; width: 500px; text-align:left;'><h6 style='font-family:Arial;color:Red;font-size:14px;'>(Accredited by NAAC with 'A' Grade)</h6></div>"
      ],
      "text/plain": [
       "<IPython.core.display.HTML object>"
      ]
     },
     "metadata": {},
     "output_type": "display_data"
    },
    {
     "data": {
      "text/html": [
       "<div style='position: absolute;top: 185px; left: 400px; width: 500px; text-align:left;'><I style='font-family:Arial;color:Black;font-size:17px;'>M.C.A. I Year I Semester (R20) (Reg) - April, 2022</I></div>"
      ],
      "text/plain": [
       "<IPython.core.display.HTML object>"
      ]
     },
     "metadata": {},
     "output_type": "display_data"
    },
    {
     "data": {
      "text/html": [
       "<div style='position: absolute;top: 230px; left: 170px; width: 500px; text-align:left;'><I style='font-family:Arial;color:Black;font-size:14px;'>Roll No.: 21031F0005</I></div>"
      ],
      "text/plain": [
       "<IPython.core.display.HTML object>"
      ]
     },
     "metadata": {},
     "output_type": "display_data"
    },
    {
     "data": {
      "text/html": [
       "<div style='position: absolute;top: 250px; left: 170px; width: 500px; text-align:left;'><I style='font-family:Arial;color:Black;font-size:14px;'>Name: AAKASH NADUPALLI</I></div>"
      ],
      "text/plain": [
       "<IPython.core.display.HTML object>"
      ]
     },
     "metadata": {},
     "output_type": "display_data"
    },
    {
     "data": {
      "text/html": [
       "<div style='position: absolute;top: 272px; left: 170px; width: 500px; text-align:left;'><I style='font-family:Arial;color:Black;font-size:14px;'>Course and Branch: M.C.A.</I></div>"
      ],
      "text/plain": [
       "<IPython.core.display.HTML object>"
      ]
     },
     "metadata": {},
     "output_type": "display_data"
    },
    {
     "name": "stdout",
     "output_type": "stream",
     "text": [
      "\n",
      "\n",
      "\n",
      "\n",
      "\n",
      "\n",
      "\n",
      "\n",
      "\n",
      "\n",
      "\n"
     ]
    },
    {
     "data": {
      "text/html": [
       "<table border=\"1\" class=\"dataframe\">\n",
       "  <thead>\n",
       "    <tr style=\"text-align: center;\">\n",
       "      <th>S.No</th>\n",
       "      <th>SubjectCode</th>\n",
       "      <th>SubjectName</th>\n",
       "      <th>Grade</th>\n",
       "      <th>GradePoint</th>\n",
       "      <th>Credits</th>\n",
       "      <th>Result</th>\n",
       "    </tr>\n",
       "  </thead>\n",
       "  <tbody>\n",
       "    <tr>\n",
       "      <td>1</td>\n",
       "      <td>MC110</td>\n",
       "      <td>MATHEMATICS FOR COMPUTER SCIENCE</td>\n",
       "      <td>A</td>\n",
       "      <td>8</td>\n",
       "      <td>3</td>\n",
       "      <td>P</td>\n",
       "    </tr>\n",
       "    <tr>\n",
       "      <td>2</td>\n",
       "      <td>MC120</td>\n",
       "      <td>COMPUTER ARCHITECTURE &amp; ORGANIZATION</td>\n",
       "      <td>A+</td>\n",
       "      <td>9</td>\n",
       "      <td>3</td>\n",
       "      <td>P</td>\n",
       "    </tr>\n",
       "    <tr>\n",
       "      <td>3</td>\n",
       "      <td>MC130</td>\n",
       "      <td>OBJECT ORIENTED PROGRAMMING THROUGH C++</td>\n",
       "      <td>A+</td>\n",
       "      <td>9</td>\n",
       "      <td>3</td>\n",
       "      <td>P</td>\n",
       "    </tr>\n",
       "    <tr>\n",
       "      <td>4</td>\n",
       "      <td>MC140</td>\n",
       "      <td>OPERATING SYSTEMS</td>\n",
       "      <td>A+</td>\n",
       "      <td>9</td>\n",
       "      <td>3</td>\n",
       "      <td>P</td>\n",
       "    </tr>\n",
       "    <tr>\n",
       "      <td>5</td>\n",
       "      <td>MC150</td>\n",
       "      <td>DATABASE SYSTEMS</td>\n",
       "      <td>A</td>\n",
       "      <td>8</td>\n",
       "      <td>3</td>\n",
       "      <td>P</td>\n",
       "    </tr>\n",
       "    <tr>\n",
       "      <td>6</td>\n",
       "      <td>MC160</td>\n",
       "      <td>COMPUTER ARCHITECTURE &amp; ORGANIZATION &amp; OPERATING SYSTEMS LAB</td>\n",
       "      <td>O</td>\n",
       "      <td>10</td>\n",
       "      <td>2</td>\n",
       "      <td>P</td>\n",
       "    </tr>\n",
       "    <tr>\n",
       "      <td>7</td>\n",
       "      <td>MC170</td>\n",
       "      <td>OBJECT ORIENTED PROGRAMMING THROUGH C++ LAB</td>\n",
       "      <td>O</td>\n",
       "      <td>10</td>\n",
       "      <td>2</td>\n",
       "      <td>P</td>\n",
       "    </tr>\n",
       "    <tr>\n",
       "      <td>8</td>\n",
       "      <td>MC180</td>\n",
       "      <td>DATABASE SYSTEMS LAB</td>\n",
       "      <td>O</td>\n",
       "      <td>10</td>\n",
       "      <td>2</td>\n",
       "      <td>P</td>\n",
       "    </tr>\n",
       "    <tr>\n",
       "      <td>9</td>\n",
       "      <td>MC19A</td>\n",
       "      <td>PROFESSIONAL COMMUNICATION SKILLS</td>\n",
       "      <td>A</td>\n",
       "      <td>8</td>\n",
       "      <td>0</td>\n",
       "      <td>P</td>\n",
       "    </tr>\n",
       "  </tbody>\n",
       "</table>"
      ],
      "text/plain": [
       "<IPython.core.display.HTML object>"
      ]
     },
     "metadata": {},
     "output_type": "display_data"
    },
    {
     "name": "stdout",
     "output_type": "stream",
     "text": [
      "\n",
      "                                                   SGPA :  9.0\n"
     ]
    }
   ],
   "source": [
    "Check_Result(input(\"Enter Last Two Digits of your RollNumber : \"))"
   ]
  },
  {
   "cell_type": "code",
   "execution_count": 156,
   "id": "45e755d1",
   "metadata": {
    "ExecuteTime": {
     "end_time": "2022-05-18T11:30:01.420384Z",
     "start_time": "2022-05-18T11:30:01.235736Z"
    }
   },
   "outputs": [],
   "source": [
    "Ex = {}\n",
    "for i in list(All.keys()):\n",
    "    k =pd.DataFrame(All[i][0:6])\n",
    "    l =pd.DataFrame(All[i][6:9])\n",
    "    m =Grade_Table(i)\n",
    "    n =pd.DataFrame(data=[f'SGPA  :  {round(sum(Grade_Table(i)[\"GradePoint\"] * Grade_Table(i)[\"Credits\"])/sum(Grade_Table(i)[\"Credits\"]),2)}']).transpose()\n",
    "#     pd.DataFrame(data=['SGPA',round(sum(Grade_Table(i)[\"GradePoint\"] * Grade_Table(i)[\"Credits\"])/sum(Grade_Table(i)[\"Credits\"]),2)]).transpose()\n",
    "    dfs = [k,l,m,n]\n",
    "    Ex[i] = dfs"
   ]
  },
  {
   "cell_type": "code",
   "execution_count": 163,
   "id": "e4f563b4",
   "metadata": {
    "ExecuteTime": {
     "end_time": "2022-05-18T11:33:03.586637Z",
     "start_time": "2022-05-18T11:33:03.499870Z"
    }
   },
   "outputs": [],
   "source": [
    "roll = '21031F0005'\n",
    "a =pd.DataFrame(All[roll][0:6])\n",
    "b =pd.DataFrame(All[roll][6:9])\n",
    "c =pd.DataFrame(columns).transpose()\n",
    "d =Grade_Table(roll)\n",
    "e =pd.DataFrame(data=[f'SGPA  : {round(sum(Grade_Table(i)[\"GradePoint\"] * Grade_Table(i)[\"Credits\"])/sum(Grade_Table(i)[\"Credits\"]),2)}']).transpose()\n",
    "# pd.DataFrame(data=['SGPA',round(sum(Grade_Table(roll)[\"GradePoint\"] * Grade_Table(roll)[\"Credits\"])/sum(Grade_Table(roll)[\"Credits\"]),2)]).transpose()\n",
    "dfs = [a,b,c,d,e]\n",
    "startrow = 2\n",
    "startcol = [5,5,3,3,5]\n",
    "with pd.ExcelWriter('MCA_1st_Sem_Results.xlsx',engine=\"xlsxwriter\") as writer:\n",
    "    for (df,c,k) in zip(dfs,startcol,range(len(dfs))):\n",
    "        if k==2:\n",
    "            df.to_excel(writer,sheet_name=roll,startcol=c,startrow=startrow,index=False,header=False)\n",
    "            startrow += 1\n",
    "        else:\n",
    "            df.to_excel(writer,sheet_name=roll,startcol=c,startrow=startrow,index=False,header=False)\n",
    "            startrow += (df.shape[0] + 2)    "
   ]
  },
  {
   "cell_type": "code",
   "execution_count": 172,
   "id": "e40a7e93",
   "metadata": {
    "ExecuteTime": {
     "end_time": "2022-05-18T11:36:39.029663Z",
     "start_time": "2022-05-18T11:36:38.691801Z"
    }
   },
   "outputs": [],
   "source": [
    "All_dfs  = {}\n",
    "for r in list(All.keys()):\n",
    "    x = pd.read_excel('MCA_1st_Sem_Results.xlsx')\n",
    "    x.iloc[1:7,5:6]   =  Ex[r][0]\n",
    "    x.iloc[9:12,5:6]  =  Ex[r][1]\n",
    "    x.iloc[15:24,3:11] =  Ex[r][2]\n",
    "    x.iloc[25:,5:6]   =  Ex[r][3]\n",
    "    x = x.iloc[0:-1]\n",
    "    All_dfs[r] = x"
   ]
  },
  {
   "cell_type": "code",
   "execution_count": 173,
   "id": "5db3d7bd",
   "metadata": {
    "ExecuteTime": {
     "end_time": "2022-05-18T11:36:42.570901Z",
     "start_time": "2022-05-18T11:36:42.269708Z"
    }
   },
   "outputs": [
    {
     "name": "stderr",
     "output_type": "stream",
     "text": [
      "C:\\Users\\aakas\\anaconda3\\lib\\site-packages\\xlsxwriter\\workbook.py:338: UserWarning: Calling close() on already closed file.\n",
      "  warn(\"Calling close() on already closed file.\")\n"
     ]
    }
   ],
   "source": [
    "with pd.ExcelWriter('MCA_1st_Sem_Results.xlsx',engine=\"xlsxwriter\") as writer:\n",
    "    for (df) in All_dfs:\n",
    "        All_dfs[df].to_excel(writer,sheet_name=df,index=False,header=False)\n",
    "    writer.save()"
   ]
  },
  {
   "cell_type": "code",
   "execution_count": 179,
   "id": "143b83d5",
   "metadata": {
    "ExecuteTime": {
     "end_time": "2022-05-18T11:44:17.686675Z",
     "start_time": "2022-05-18T11:44:17.586794Z"
    }
   },
   "outputs": [],
   "source": [
    "# wb = load_workbook('MCA_1st_Sem_Results.xlsx')"
   ]
  },
  {
   "cell_type": "code",
   "execution_count": 180,
   "id": "cfe309c2",
   "metadata": {
    "ExecuteTime": {
     "end_time": "2022-05-18T11:44:18.327504Z",
     "start_time": "2022-05-18T11:44:18.313541Z"
    }
   },
   "outputs": [],
   "source": [
    "# ws = wb['21031F0005']"
   ]
  },
  {
   "cell_type": "code",
   "execution_count": null,
   "id": "f0c7c44e",
   "metadata": {},
   "outputs": [],
   "source": [
    "wb = load_workbook('MCA_1st_Sem_Results.xlsx')\n",
    "for rl in list(All.keys):\n",
    "    ws = wb[rl]\n",
    "    for (i,j) in zip(['E','F','H'],[14,65,12]):\n",
    "        ws.column_dimensions[i].width = j\n",
    "    for p in [int(i) for i in range(3,11)]:\n",
    "        for j in [int(i) for i in range(1,31)]:\n",
    "            ws.cell(j,p).alignment = Alignment(horizontal='center')\n",
    "    wb.save('MCA_1st_Sem_Results.xlsx')\n",
    "wb.close()"
   ]
  },
  {
   "cell_type": "code",
   "execution_count": 190,
   "id": "cb660d44",
   "metadata": {
    "ExecuteTime": {
     "end_time": "2022-05-18T11:48:03.016525Z",
     "start_time": "2022-05-18T11:48:03.004556Z"
    }
   },
   "outputs": [],
   "source": [
    "# ws.column_dimensions['E'].width = 14\n",
    "# ws.column_dimensions['F'].width = 65\n",
    "# ws.column_dimensions['H'].width = 12"
   ]
  },
  {
   "cell_type": "code",
   "execution_count": 192,
   "id": "e135fe1b",
   "metadata": {
    "ExecuteTime": {
     "end_time": "2022-05-18T11:51:08.051968Z",
     "start_time": "2022-05-18T11:51:08.033017Z"
    }
   },
   "outputs": [],
   "source": [
    "# Cn = ['B','C','D','E','F','G','H','I','J','K','L']"
   ]
  },
  {
   "cell_type": "code",
   "execution_count": 211,
   "id": "ecaf66d5",
   "metadata": {
    "ExecuteTime": {
     "end_time": "2022-05-18T12:08:07.713350Z",
     "start_time": "2022-05-18T12:08:07.695399Z"
    }
   },
   "outputs": [],
   "source": [
    "# ws.cell(15,6).alignment = Alignment(horizontal='center')"
   ]
  },
  {
   "cell_type": "code",
   "execution_count": 221,
   "id": "84317c0f",
   "metadata": {
    "ExecuteTime": {
     "end_time": "2022-05-18T12:12:12.088221Z",
     "start_time": "2022-05-18T12:12:12.059299Z"
    }
   },
   "outputs": [],
   "source": [
    "# for p in [int(i) for i in range(3,11)]:\n",
    "#     for j in [int(i) for i in range(1,31)]:\n",
    "#         ws.cell(j,p).alignment = Alignment(horizontal='center')"
   ]
  },
  {
   "cell_type": "code",
   "execution_count": 222,
   "id": "76f50eca",
   "metadata": {
    "ExecuteTime": {
     "end_time": "2022-05-18T12:12:22.393509Z",
     "start_time": "2022-05-18T12:12:22.241936Z"
    }
   },
   "outputs": [],
   "source": []
  },
  {
   "cell_type": "code",
   "execution_count": null,
   "id": "8e40f6ff",
   "metadata": {},
   "outputs": [],
   "source": []
  }
 ],
 "metadata": {
  "hide_input": false,
  "kernelspec": {
   "display_name": "Python 3 (ipykernel)",
   "language": "python",
   "name": "python3"
  },
  "language_info": {
   "codemirror_mode": {
    "name": "ipython",
    "version": 3
   },
   "file_extension": ".py",
   "mimetype": "text/x-python",
   "name": "python",
   "nbconvert_exporter": "python",
   "pygments_lexer": "ipython3",
   "version": "3.9.7"
  },
  "nbTranslate": {
   "displayLangs": [
    "*"
   ],
   "hotkey": "alt-t",
   "langInMainMenu": true,
   "sourceLang": "en",
   "targetLang": "fr",
   "useGoogleTranslate": true
  },
  "toc-autonumbering": true,
  "toc-showcode": true,
  "toc-showtags": false,
  "varInspector": {
   "cols": {
    "lenName": 16,
    "lenType": 16,
    "lenVar": 40
   },
   "kernels_config": {
    "python": {
     "delete_cmd_postfix": "",
     "delete_cmd_prefix": "del ",
     "library": "var_list.py",
     "varRefreshCmd": "print(var_dic_list())"
    },
    "r": {
     "delete_cmd_postfix": ") ",
     "delete_cmd_prefix": "rm(",
     "library": "var_list.r",
     "varRefreshCmd": "cat(var_dic_list()) "
    }
   },
   "types_to_exclude": [
    "module",
    "function",
    "builtin_function_or_method",
    "instance",
    "_Feature"
   ],
   "window_display": false
  }
 },
 "nbformat": 4,
 "nbformat_minor": 5
}
