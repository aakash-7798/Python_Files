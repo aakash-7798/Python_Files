{
 "cells": [
  {
   "cell_type": "code",
   "execution_count": 15,
   "id": "679fc4fc",
   "metadata": {
    "ExecuteTime": {
     "end_time": "2022-05-30T08:17:30.051737Z",
     "start_time": "2022-05-30T08:17:30.037743Z"
    }
   },
   "outputs": [],
   "source": [
    "import pdfplumber\n",
    "import pandas as pd\n",
    "import string"
   ]
  },
  {
   "cell_type": "code",
   "execution_count": 16,
   "id": "7b85eb18",
   "metadata": {
    "ExecuteTime": {
     "end_time": "2022-05-30T08:17:32.127562Z",
     "start_time": "2022-05-30T08:17:32.046808Z"
    }
   },
   "outputs": [],
   "source": [
    "pdf = pdfplumber.open('GSTR3B.pdf')"
   ]
  },
  {
   "cell_type": "code",
   "execution_count": 17,
   "id": "a7cb7fce",
   "metadata": {
    "ExecuteTime": {
     "end_time": "2022-05-30T08:17:32.796241Z",
     "start_time": "2022-05-30T08:17:32.775295Z"
    }
   },
   "outputs": [],
   "source": [
    "replacers = {f'{i}\\n':'' for i in string.ascii_letters}\n",
    "replacers.update({\"\\n\":\"\",None:\" \"})"
   ]
  },
  {
   "cell_type": "code",
   "execution_count": 20,
   "id": "1e4bc533",
   "metadata": {
    "ExecuteTime": {
     "end_time": "2022-05-30T08:20:42.580915Z",
     "start_time": "2022-05-30T08:20:42.038233Z"
    }
   },
   "outputs": [
    {
     "data": {
      "text/html": [
       "<div>\n",
       "<style scoped>\n",
       "    .dataframe tbody tr th:only-of-type {\n",
       "        vertical-align: middle;\n",
       "    }\n",
       "\n",
       "    .dataframe tbody tr th {\n",
       "        vertical-align: top;\n",
       "    }\n",
       "\n",
       "    .dataframe thead th {\n",
       "        text-align: right;\n",
       "    }\n",
       "</style>\n",
       "<table border=\"1\" class=\"dataframe\">\n",
       "  <thead>\n",
       "    <tr style=\"text-align: right;\">\n",
       "      <th></th>\n",
       "      <th>Nature of Supplies</th>\n",
       "      <th>Total Taxable Value \\n(₹)</th>\n",
       "      <th>Integrated Tax \\n(₹)</th>\n",
       "      <th>Central \\nTax(₹)</th>\n",
       "      <th>State/UT Tax \\n(₹)</th>\n",
       "      <th>Cess \\n(₹)</th>\n",
       "    </tr>\n",
       "  </thead>\n",
       "  <tbody>\n",
       "    <tr>\n",
       "      <th>0</th>\n",
       "      <td>(a) Outward taxable supplies (other than zero ...</td>\n",
       "      <td>1174706.00</td>\n",
       "      <td>65331.00</td>\n",
       "      <td>73058.04</td>\n",
       "      <td>73058.04</td>\n",
       "      <td>0.00</td>\n",
       "    </tr>\n",
       "    <tr>\n",
       "      <th>1</th>\n",
       "      <td>(b) Outward taxable supplies (zero rated)</td>\n",
       "      <td>0.00</td>\n",
       "      <td>0.00</td>\n",
       "      <td>-</td>\n",
       "      <td>-</td>\n",
       "      <td>0.00</td>\n",
       "    </tr>\n",
       "    <tr>\n",
       "      <th>2</th>\n",
       "      <td>(c ) Other outward supplies (nil rated, exempted)</td>\n",
       "      <td>1927450.00</td>\n",
       "      <td>-</td>\n",
       "      <td>-</td>\n",
       "      <td>-</td>\n",
       "      <td>-</td>\n",
       "    </tr>\n",
       "    <tr>\n",
       "      <th>3</th>\n",
       "      <td>(d) Inward supplies (liable to reverse charge)</td>\n",
       "      <td>0.00</td>\n",
       "      <td>0.00</td>\n",
       "      <td>0.00</td>\n",
       "      <td>0.00</td>\n",
       "      <td>0.00</td>\n",
       "    </tr>\n",
       "    <tr>\n",
       "      <th>4</th>\n",
       "      <td>(e) Non-GST outward supplies</td>\n",
       "      <td>0.00</td>\n",
       "      <td>-</td>\n",
       "      <td>-</td>\n",
       "      <td>-</td>\n",
       "      <td>-</td>\n",
       "    </tr>\n",
       "  </tbody>\n",
       "</table>\n",
       "</div>"
      ],
      "text/plain": [
       "                                  Nature of Supplies  \\\n",
       "0  (a) Outward taxable supplies (other than zero ...   \n",
       "1          (b) Outward taxable supplies (zero rated)   \n",
       "2  (c ) Other outward supplies (nil rated, exempted)   \n",
       "3     (d) Inward supplies (liable to reverse charge)   \n",
       "4                       (e) Non-GST outward supplies   \n",
       "\n",
       "  Total Taxable Value \\n(₹) Integrated Tax \\n(₹) Central \\nTax(₹)  \\\n",
       "0                1174706.00             65331.00         73058.04   \n",
       "1                      0.00                 0.00                -   \n",
       "2                1927450.00                    -                -   \n",
       "3                      0.00                 0.00             0.00   \n",
       "4                      0.00                    -                -   \n",
       "\n",
       "  State/UT Tax \\n(₹) Cess \\n(₹)  \n",
       "0           73058.04       0.00  \n",
       "1                  -       0.00  \n",
       "2                  -          -  \n",
       "3               0.00       0.00  \n",
       "4                  -          -  "
      ]
     },
     "execution_count": 20,
     "metadata": {},
     "output_type": "execute_result"
    }
   ],
   "source": [
    "pd.DataFrame(data=pdf.pages[0].extract_tables()[2][1:],columns=pdf.pages[0].extract_tables()[2][0]).replace(replacers,regex=True)\n",
    "# pdf.pages[0].extract_tables()[2]"
   ]
  },
  {
   "cell_type": "code",
   "execution_count": 21,
   "id": "27b96845",
   "metadata": {
    "ExecuteTime": {
     "end_time": "2022-05-30T08:21:13.182039Z",
     "start_time": "2022-05-30T08:21:13.168077Z"
    }
   },
   "outputs": [],
   "source": [
    "a,b = 10,20"
   ]
  },
  {
   "cell_type": "code",
   "execution_count": null,
   "id": "c2e17fe5",
   "metadata": {},
   "outputs": [],
   "source": []
  }
 ],
 "metadata": {
  "hide_input": false,
  "kernelspec": {
   "display_name": "Python 3 (ipykernel)",
   "language": "python",
   "name": "python3"
  },
  "language_info": {
   "codemirror_mode": {
    "name": "ipython",
    "version": 3
   },
   "file_extension": ".py",
   "mimetype": "text/x-python",
   "name": "python",
   "nbconvert_exporter": "python",
   "pygments_lexer": "ipython3",
   "version": "3.9.7"
  },
  "nbTranslate": {
   "displayLangs": [
    "*"
   ],
   "hotkey": "alt-t",
   "langInMainMenu": true,
   "sourceLang": "en",
   "targetLang": "fr",
   "useGoogleTranslate": true
  },
  "varInspector": {
   "cols": {
    "lenName": 16,
    "lenType": 16,
    "lenVar": 40
   },
   "kernels_config": {
    "python": {
     "delete_cmd_postfix": "",
     "delete_cmd_prefix": "del ",
     "library": "var_list.py",
     "varRefreshCmd": "print(var_dic_list())"
    },
    "r": {
     "delete_cmd_postfix": ") ",
     "delete_cmd_prefix": "rm(",
     "library": "var_list.r",
     "varRefreshCmd": "cat(var_dic_list()) "
    }
   },
   "types_to_exclude": [
    "module",
    "function",
    "builtin_function_or_method",
    "instance",
    "_Feature"
   ],
   "window_display": false
  }
 },
 "nbformat": 4,
 "nbformat_minor": 5
}
