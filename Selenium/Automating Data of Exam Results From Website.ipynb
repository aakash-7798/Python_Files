{
 "cells": [
  {
   "cell_type": "code",
   "execution_count": 73,
   "id": "6b0e77d9",
   "metadata": {
    "ExecuteTime": {
     "end_time": "2022-05-29T08:40:20.796940Z",
     "start_time": "2022-05-29T08:40:19.665264Z"
    }
   },
   "outputs": [],
   "source": [
    "from selenium import webdriver\n",
    "from bs4 import BeautifulSoup\n",
    "from selenium.webdriver.chrome.options import Options\n",
    "import chromedriver_autoinstaller as chromedriver\n",
    "from webdriver_manager.chrome import ChromeDriverManager\n",
    "chromedriver.install()\n",
    "from selenium.webdriver.chrome.service import Service\n",
    "from selenium.webdriver.common.by import By\n",
    "from IPython.display import display,HTML\n",
    "import time\n",
    "import pandas as pd\n",
    "options = Options()\n",
    "options.add_argument('start-maximized')\n",
    "from IPython.display import display\n",
    "from tabulate import tabulate"
   ]
  },
  {
   "cell_type": "code",
   "execution_count": 79,
   "id": "7e9295b7",
   "metadata": {
    "ExecuteTime": {
     "end_time": "2022-05-29T08:42:32.479788Z",
     "start_time": "2022-05-29T08:42:30.403912Z"
    }
   },
   "outputs": [
    {
     "name": "stderr",
     "output_type": "stream",
     "text": [
      "\n",
      "\n",
      "INFO:WDM:\n",
      "\n",
      "====== WebDriver manager ======\n",
      "INFO:WDM:====== WebDriver manager ======\n",
      "Current google-chrome version is 102.0.5005\n",
      "INFO:WDM:Current google-chrome version is 102.0.5005\n",
      "Get LATEST chromedriver version for 102.0.5005 google-chrome\n",
      "INFO:WDM:Get LATEST chromedriver version for 102.0.5005 google-chrome\n",
      "Driver [C:\\Users\\aakas\\.wdm\\drivers\\chromedriver\\win32\\102.0.5005.61\\chromedriver.exe] found in cache\n",
      "INFO:WDM:Driver [C:\\Users\\aakas\\.wdm\\drivers\\chromedriver\\win32\\102.0.5005.61\\chromedriver.exe] found in cache\n"
     ]
    }
   ],
   "source": [
    "driver = webdriver.Chrome(options=options,service=Service(ChromeDriverManager().install())) "
   ]
  },
  {
   "cell_type": "code",
   "execution_count": 80,
   "id": "4d4287c7",
   "metadata": {
    "ExecuteTime": {
     "end_time": "2022-05-29T08:42:59.971050Z",
     "start_time": "2022-05-29T08:42:32.637365Z"
    }
   },
   "outputs": [],
   "source": [
    "url = 'http://www.results.manabadi.co.in/osmania-university-ug-cbcs-ba-bcom-bsc-bba-2019-exam-results-13-082019.htm'\n",
    "driver.get(url)\n",
    "ht = [f'105916487{i:03}' for i in range(42,52)]\n",
    "Data_Extract = {}\n",
    "for i in ht:\n",
    "    driver.find_element(By.ID,\"htno\").send_keys(i)\n",
    "    time.sleep(0.5)\n",
    "    driver.find_element(By.ID,\"Degree\").send_keys('Bsc')\n",
    "    time.sleep(0.5)\n",
    "    driver.find_element(By.ID,'btnsubmit').click()\n",
    "    time.sleep(0.5)\n",
    "    driver.find_element(By.ID,\"htno\").clear()\n",
    "    if [driver.find_element(By.XPATH,'//*[@id=\"sMsg\"]').text][0].strip(\".\") == 'Invalid Hall Ticket No':\n",
    "        Data_Extract[i] = 'Invalid Hall Ticket No'\n",
    "        continue\n",
    "    else:\n",
    "        BS = BeautifulSoup(driver.page_source,'html.parser')\n",
    "        Data_Extract[i] = BS.find_all('div',id='subhtm')[0].find_all('table')\n",
    "driver.close()"
   ]
  },
  {
   "cell_type": "code",
   "execution_count": 81,
   "id": "d8ce3345",
   "metadata": {
    "ExecuteTime": {
     "end_time": "2022-05-29T08:43:03.532063Z",
     "start_time": "2022-05-29T08:43:01.986240Z"
    }
   },
   "outputs": [
    {
     "name": "stdout",
     "output_type": "stream",
     "text": [
      "Enter Last Two Digits of Your Hall Ticket Number : 50\n"
     ]
    },
    {
     "data": {
      "text/html": [
       "<table cellpadding=\"0\" cellspacing=\"0\" width=\"100%\"> <tbody><tr><td colspan=\"2\" style=\"background-color:bed6e0; text-align:center;\"><b>Personal Information</b></td></tr> <tr><td><b> Hall Ticket No </b></td><td>105916487050</td></tr><tr><td><b> Name </b></td><td>YERRAMILLI SREE GEETANJALI</td></tr><tr><td><b> Father's Name </b></td><td>YERRAMILLI VEERA VENKATA RANGA</td></tr><tr><td><b> Gender </b></td><td>F</td></tr><tr><td><b> Medium </b></td><td>EN</td></tr><tr><td><b> Course </b></td><td>BSC</td></tr></tbody></table><table cellpadding=\"0\" cellspacing=\"0\" width=\"100%\"> <tbody><tr><td colspan=\"5\" style=\"background-color:bed6e0; text-align:center;\"><b>Marks Details</b></td></tr><tr><td><b>Subject Code</b></td><td><b>Subject Name</b></td><td><b>Credits</b></td><td><b>Grade Points</b></td><td><b>Grade Secured</b></td></tr><tr><td>744</td><td>MICRO-BIOLOGY.7 PR</td><td>1</td><td>10</td><td>O</td></tr><tr><td>843</td><td>MICRO-BIOLOGY.8</td><td>3</td><td>10</td><td>O</td></tr><tr><td>759M</td><td>HOSPITALWASTE MANG.</td><td>2</td><td>10</td><td>O</td></tr><tr><td>859G</td><td>COM.SCI. IT-2</td><td>2</td><td>10</td><td>O</td></tr><tr><td>844</td><td>MICRO-BIOLOGY.8 PR</td><td>1</td><td>10</td><td>O</td></tr><tr><td>763</td><td>BIO. TECHNOLOGY.7</td><td>3</td><td>10</td><td>O</td></tr><tr><td>764</td><td>BIO. TECHNOLOGY.7 PR</td><td>1</td><td>10</td><td>O</td></tr><tr><td>718</td><td>CHEMISTRY.7</td><td>3</td><td>8</td><td>B</td></tr><tr><td>743</td><td>MICRO-BIOLOGY.7</td><td>3</td><td>10</td><td>O</td></tr><tr><td>818</td><td>CHEMISTRY.8</td><td>3</td><td>9</td><td>A</td></tr><tr><td>863</td><td>BIO. TECHNOLOGY.8</td><td>3</td><td>10</td><td>O</td></tr><tr><td>864</td><td>BIO. TECHNOLOGY.8 PR</td><td>1</td><td>10</td><td>O</td></tr><tr><td>719</td><td>CHEMISTRY.7 PR</td><td>1</td><td>10</td><td>O</td></tr><tr><td>819</td><td>CHEMISTRY.8 PR</td><td>1</td><td>10</td><td>O</td></tr></tbody></table><table cellpadding=\"0\" cellspacing=\"0\" width=\"100%\"> <tbody><tr><td colspan=\"3\" style=\"background-color:bed6e0; text-align:center;\"><b>Result</b></td></tr><tr><td><b>Semester</b></td><td><b>Result-SGPA</b></td><td><b>CGPA</b></td></tr><tr><td>6</td><td>PASSED-9.68</td><td>9.48</td></tr></tbody></table>"
      ],
      "text/plain": [
       "<IPython.core.display.HTML object>"
      ]
     },
     "metadata": {},
     "output_type": "display_data"
    }
   ],
   "source": [
    "display(HTML(f\"{''.join([ str(i) for i in Data_Extract['1059164870'+input('Enter Last Two Digits of Your Hall Ticket Number : ')]])}\"))"
   ]
  },
  {
   "cell_type": "code",
   "execution_count": null,
   "id": "3f3e7b84",
   "metadata": {},
   "outputs": [],
   "source": []
  }
 ],
 "metadata": {
  "hide_input": false,
  "kernelspec": {
   "display_name": "Python 3 (ipykernel)",
   "language": "python",
   "name": "python3"
  },
  "language_info": {
   "codemirror_mode": {
    "name": "ipython",
    "version": 3
   },
   "file_extension": ".py",
   "mimetype": "text/x-python",
   "name": "python",
   "nbconvert_exporter": "python",
   "pygments_lexer": "ipython3",
   "version": "3.9.7"
  },
  "nbTranslate": {
   "displayLangs": [
    "*"
   ],
   "hotkey": "alt-t",
   "langInMainMenu": true,
   "sourceLang": "en",
   "targetLang": "fr",
   "useGoogleTranslate": true
  },
  "varInspector": {
   "cols": {
    "lenName": 16,
    "lenType": 16,
    "lenVar": 40
   },
   "kernels_config": {
    "python": {
     "delete_cmd_postfix": "",
     "delete_cmd_prefix": "del ",
     "library": "var_list.py",
     "varRefreshCmd": "print(var_dic_list())"
    },
    "r": {
     "delete_cmd_postfix": ") ",
     "delete_cmd_prefix": "rm(",
     "library": "var_list.r",
     "varRefreshCmd": "cat(var_dic_list()) "
    }
   },
   "types_to_exclude": [
    "module",
    "function",
    "builtin_function_or_method",
    "instance",
    "_Feature"
   ],
   "window_display": false
  }
 },
 "nbformat": 4,
 "nbformat_minor": 5
}
