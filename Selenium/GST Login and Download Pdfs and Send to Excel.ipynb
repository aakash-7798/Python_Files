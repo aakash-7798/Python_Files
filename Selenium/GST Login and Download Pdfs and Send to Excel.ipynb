{
 "cells": [
  {
   "cell_type": "code",
   "execution_count": 1,
   "id": "77ac8a23",
   "metadata": {
    "ExecuteTime": {
     "end_time": "2022-05-21T07:32:17.926469Z",
     "start_time": "2022-05-21T07:32:16.791566Z"
    }
   },
   "outputs": [],
   "source": [
    "from selenium import webdriver\n",
    "from selenium.webdriver.common.keys import Keys\n",
    "from webdriver_manager.chrome import ChromeDriverManager\n",
    "from getpass import getpass\n",
    "from selenium.webdriver.chrome.options import Options\n",
    "import chromedriver_autoinstaller as chromedriver\n",
    "chromedriver.install()\n",
    "import time\n",
    "import calendar\n",
    "from selenium.common.exceptions import NoSuchElementException\n",
    "import os"
   ]
  },
  {
   "cell_type": "code",
   "execution_count": 2,
   "id": "e4673f95",
   "metadata": {
    "ExecuteTime": {
     "end_time": "2022-05-21T07:32:21.831826Z",
     "start_time": "2022-05-21T07:32:18.584518Z"
    }
   },
   "outputs": [],
   "source": [
    "import pdfplumber\n",
    "import pandas as pd\n",
    "import string\n",
    "from IPython.display import display\n",
    "from tabulate import tabulate\n",
    "import os\n",
    "from openpyxl import load_workbook\n",
    "from openpyxl.styles.alignment import Alignment\n",
    "from openpyxl.styles import Alignment\n",
    "import openpyxl\n",
    "import xlwings as xw\n",
    "import datetime\n",
    "import calendar\n",
    "import shutil\n",
    "# !pip3 install openpyxl==2.5.14 "
   ]
  },
  {
   "cell_type": "code",
   "execution_count": 3,
   "id": "288efe3d",
   "metadata": {
    "ExecuteTime": {
     "end_time": "2022-05-21T07:32:23.723109Z",
     "start_time": "2022-05-21T07:32:23.715130Z"
    }
   },
   "outputs": [],
   "source": [
    "options = Options()\n",
    "options.add_argument('start-maximized')\n",
    "options.add_argument('disable-infobars')\n",
    "# options.add_experimental_option(\"prefs\",{\"download.default_directory\":\"E:\\Selenium GST Downloads\"})\n",
    "# options.add_experimental_option(\"detach\", True)"
   ]
  },
  {
   "cell_type": "code",
   "execution_count": 4,
   "id": "95ff1dc5",
   "metadata": {
    "ExecuteTime": {
     "end_time": "2022-05-21T07:32:24.502457Z",
     "start_time": "2022-05-21T07:32:24.483961Z"
    }
   },
   "outputs": [],
   "source": [
    "# Driver = webdriver.Chrome(chrome_options=options,executable_path='C:\\\\Users\\\\aakas\\\\anaconda3\\\\lib\\\\site-packages\\\\chromedriver_autoinstaller\\\\101\\\\chromedriver.exe') \n",
    "# Driver.get('https://www.gst.gov.in/')"
   ]
  },
  {
   "cell_type": "code",
   "execution_count": 6,
   "id": "008964a4",
   "metadata": {
    "ExecuteTime": {
     "end_time": "2022-05-21T07:32:54.605385Z",
     "start_time": "2022-05-21T07:32:39.299218Z"
    }
   },
   "outputs": [
    {
     "name": "stdout",
     "output_type": "stream",
     "text": [
      "Enter Username : pagepvtltd_2017\n",
      "Enter Password : ········\n"
     ]
    }
   ],
   "source": [
    "# username = pagepvtltd_2017\n",
    "# password = 'Srinivas@369'\n",
    "username = input(\"Enter Username : \")\n",
    "password = getpass(\"Enter Password : \")"
   ]
  },
  {
   "cell_type": "code",
   "execution_count": 7,
   "id": "ce255fb9",
   "metadata": {
    "ExecuteTime": {
     "end_time": "2022-05-21T07:33:02.296368Z",
     "start_time": "2022-05-21T07:33:02.276420Z"
    }
   },
   "outputs": [],
   "source": [
    "newpath = r\"E:\\{}\\GSTR-3B_PDFs\".format(username) \n",
    "if not os.path.exists(newpath):\n",
    "    os.makedirs(newpath)\n",
    "options.add_experimental_option(\"prefs\",{\"download.default_directory\":newpath})"
   ]
  },
  {
   "cell_type": "code",
   "execution_count": 8,
   "id": "aa617cb7",
   "metadata": {
    "ExecuteTime": {
     "end_time": "2022-05-21T07:33:03.677761Z",
     "start_time": "2022-05-21T07:33:03.653826Z"
    }
   },
   "outputs": [
    {
     "data": {
      "text/plain": [
       "'E:\\\\pagepvtltd_2017\\\\GSTR-3B_PDFs'"
      ]
     },
     "execution_count": 8,
     "metadata": {},
     "output_type": "execute_result"
    }
   ],
   "source": [
    "newpath"
   ]
  },
  {
   "cell_type": "code",
   "execution_count": 20,
   "id": "c2dd4b9f",
   "metadata": {
    "ExecuteTime": {
     "end_time": "2022-05-21T07:47:14.008067Z",
     "start_time": "2022-05-21T07:46:32.898748Z"
    },
    "collapsed": true
   },
   "outputs": [
    {
     "name": "stderr",
     "output_type": "stream",
     "text": [
      "C:\\Users\\aakas\\AppData\\Local\\Temp/ipykernel_17916/802833424.py:1: DeprecationWarning: executable_path has been deprecated, please pass in a Service object\n",
      "  Driver = webdriver.Chrome(chrome_options=options,executable_path='C:\\\\Users\\\\aakas\\\\anaconda3\\\\lib\\\\site-packages\\\\chromedriver_autoinstaller\\\\101\\\\chromedriver.exe')\n",
      "C:\\Users\\aakas\\AppData\\Local\\Temp/ipykernel_17916/802833424.py:1: DeprecationWarning: use options instead of chrome_options\n",
      "  Driver = webdriver.Chrome(chrome_options=options,executable_path='C:\\\\Users\\\\aakas\\\\anaconda3\\\\lib\\\\site-packages\\\\chromedriver_autoinstaller\\\\101\\\\chromedriver.exe')\n",
      "C:\\Users\\aakas\\AppData\\Local\\Temp/ipykernel_17916/802833424.py:4: DeprecationWarning: find_element_by_* commands are deprecated. Please use find_element() instead\n",
      "  Driver.find_element_by_xpath(\"//a[contains(text(),' Login')]\").click()\n",
      "C:\\Users\\aakas\\AppData\\Local\\Temp/ipykernel_17916/802833424.py:6: DeprecationWarning: find_element_by_* commands are deprecated. Please use find_element() instead\n",
      "  Driver.find_element_by_id(\"username\").send_keys(username)\n",
      "C:\\Users\\aakas\\AppData\\Local\\Temp/ipykernel_17916/802833424.py:8: DeprecationWarning: find_element_by_* commands are deprecated. Please use find_element() instead\n",
      "  Driver.find_element_by_id(\"user_pass\").send_keys(password)\n",
      "C:\\Users\\aakas\\AppData\\Local\\Temp/ipykernel_17916/802833424.py:10: DeprecationWarning: find_element_by_* commands are deprecated. Please use find_element() instead\n",
      "  Driver.find_element_by_xpath('//button[normalize-space()=\"Login\"]').click()\n",
      "C:\\Users\\aakas\\AppData\\Local\\Temp/ipykernel_17916/802833424.py:12: DeprecationWarning: find_element_by_* commands are deprecated. Please use find_element() instead\n",
      "  Driver.find_element_by_xpath(\"//a[contains(text(),'Remind me later')]\").click()\n",
      "C:\\Users\\aakas\\AppData\\Local\\Temp/ipykernel_17916/802833424.py:14: DeprecationWarning: find_element_by_* commands are deprecated. Please use find_element() instead\n",
      "  Driver.find_element_by_xpath(\"//span[text()='Continue to Dashboard']\").click()\n",
      "C:\\Users\\aakas\\AppData\\Local\\Temp/ipykernel_17916/802833424.py:16: DeprecationWarning: find_element_by_* commands are deprecated. Please use find_element() instead\n",
      "  Driver.find_element_by_xpath(\".//div[contains(@id,'main')]//a[contains(text(),'Services ')]\").click()\n",
      "C:\\Users\\aakas\\AppData\\Local\\Temp/ipykernel_17916/802833424.py:18: DeprecationWarning: find_element_by_* commands are deprecated. Please use find_element() instead\n",
      "  Driver.find_element_by_xpath(\"//a[contains(text(),'Returns')]\").click()\n",
      "C:\\Users\\aakas\\AppData\\Local\\Temp/ipykernel_17916/802833424.py:20: DeprecationWarning: find_element_by_* commands are deprecated. Please use find_element() instead\n",
      "  Driver.find_element_by_xpath(\"//div[@class='col-xs-12']//a[contains(text(),'Returns Dashboard')]\").click()\n"
     ]
    }
   ],
   "source": [
    "Driver = webdriver.Chrome(chrome_options=options,executable_path='C:\\\\Users\\\\aakas\\\\anaconda3\\\\lib\\\\site-packages\\\\chromedriver_autoinstaller\\\\101\\\\chromedriver.exe') \n",
    "Driver.get('https://www.gst.gov.in/')\n",
    "time.sleep(1)\n",
    "Driver.find_element_by_xpath(\"//a[contains(text(),' Login')]\").click()\n",
    "time.sleep(1)\n",
    "Driver.find_element_by_id(\"username\").send_keys(username)\n",
    "time.sleep(1)\n",
    "Driver.find_element_by_id(\"user_pass\").send_keys(password)\n",
    "time.sleep(10)\n",
    "Driver.find_element_by_xpath('//button[normalize-space()=\"Login\"]').click()\n",
    "time.sleep(1)\n",
    "Driver.find_element_by_xpath(\"//a[contains(text(),'Remind me later')]\").click()\n",
    "time.sleep(4)\n",
    "Driver.find_element_by_xpath(\"//span[text()='Continue to Dashboard']\").click()\n",
    "time.sleep(4)\n",
    "Driver.find_element_by_xpath(\".//div[contains(@id,'main')]//a[contains(text(),'Services ')]\").click()\n",
    "time.sleep(5)\n",
    "Driver.find_element_by_xpath(\"//a[contains(text(),'Returns')]\").click()\n",
    "time.sleep(5)\n",
    "Driver.find_element_by_xpath(\"//div[@class='col-xs-12']//a[contains(text(),'Returns Dashboard')]\").click()"
   ]
  },
  {
   "cell_type": "code",
   "execution_count": 24,
   "id": "32f869d5",
   "metadata": {
    "ExecuteTime": {
     "end_time": "2022-05-21T08:14:43.863806Z",
     "start_time": "2022-05-21T08:14:28.591492Z"
    }
   },
   "outputs": [
    {
     "name": "stderr",
     "output_type": "stream",
     "text": [
      "C:\\Users\\aakas\\AppData\\Local\\Temp/ipykernel_17916/3414505317.py:6: DeprecationWarning: find_element_by_* commands are deprecated. Please use find_element() instead\n",
      "  Driver.find_element_by_xpath(f\"//select[@name='fin']/option[text()='{f[i]}']\").click()\n",
      "C:\\Users\\aakas\\AppData\\Local\\Temp/ipykernel_17916/3414505317.py:7: DeprecationWarning: find_element_by_* commands are deprecated. Please use find_element() instead\n",
      "  Months = Driver.find_element_by_name('mon').text.split('\\n')\n",
      "C:\\Users\\aakas\\AppData\\Local\\Temp/ipykernel_17916/3414505317.py:9: DeprecationWarning: find_element_by_* commands are deprecated. Please use find_element() instead\n",
      "  Driver.find_element_by_xpath(f\"//select[@name='mon']/option[text()='{m}']\").click()\n",
      "C:\\Users\\aakas\\AppData\\Local\\Temp/ipykernel_17916/3414505317.py:11: DeprecationWarning: find_element_by_* commands are deprecated. Please use find_element() instead\n",
      "  Driver.find_element_by_class_name(\"srchbtn\").click()\n",
      "C:\\Users\\aakas\\AppData\\Local\\Temp/ipykernel_17916/3414505317.py:14: DeprecationWarning: find_element_by_* commands are deprecated. Please use find_element() instead\n",
      "  Driver.find_element_by_xpath(\".//div[contains(@class,'col-sm-6 col-xs-6')]//button[normalize-space()='Download']\").click()\n"
     ]
    },
    {
     "name": "stdout",
     "output_type": "stream",
     "text": [
      " Not present....continuing script\n"
     ]
    },
    {
     "name": "stderr",
     "output_type": "stream",
     "text": [
      "C:\\Users\\aakas\\AppData\\Local\\Temp/ipykernel_17916/3414505317.py:33: DeprecationWarning: find_element_by_* commands are deprecated. Please use find_element() instead\n",
      "  Driver.find_element_by_class_name(\"dropdown-toggle\").click()\n",
      "C:\\Users\\aakas\\AppData\\Local\\Temp/ipykernel_17916/3414505317.py:35: DeprecationWarning: find_element_by_* commands are deprecated. Please use find_element() instead\n",
      "  Driver.find_element_by_xpath(\"//a[@href='//services.gst.gov.in/services/logout']\").click()\n"
     ]
    }
   ],
   "source": [
    "# Financial_Years = Driver.find_element_by_name('fin').text.split('\\n')\n",
    "# f = Financial_Years[::-1]\n",
    "f=['2021-22']\n",
    "for i in range(len(f)):\n",
    "    if i<=2:\n",
    "        Driver.find_element_by_xpath(f\"//select[@name='fin']/option[text()='{f[i]}']\").click()\n",
    "        Months = Driver.find_element_by_name('mon').text.split('\\n')\n",
    "        for m in Months:\n",
    "            Driver.find_element_by_xpath(f\"//select[@name='mon']/option[text()='{m}']\").click()\n",
    "            time.sleep(2)\n",
    "            Driver.find_element_by_class_name(\"srchbtn\").click()\n",
    "            try:\n",
    "                time.sleep(1)\n",
    "                Driver.find_element_by_xpath(\".//div[contains(@class,'col-sm-6 col-xs-6')]//button[normalize-space()='Download']\").click()\n",
    "            except NoSuchElementException:\n",
    "                print(\" Not present....continuing script\")\n",
    "    else:\n",
    "        Driver.find_element_by_xpath(f\"//select[@name='fin']/option[text()='{f[i]}']\").click()\n",
    "        Quarters = Driver.find_element_by_name('quarter').text.split('\\n')\n",
    "        for q in Quarters:\n",
    "            Driver.find_element_by_xpath(f\"//select[@name='quarter']/option[text()='{q}']\").click()\n",
    "            Months = Driver.find_element_by_name('mon').text.split('\\n')\n",
    "            for m in Months:\n",
    "                Driver.find_element_by_xpath(f\"//select[@name='mon']/option[text()='{m}']\").click()\n",
    "                time.sleep(2)\n",
    "                Driver.find_element_by_class_name(\"srchbtn\").click()\n",
    "                try:\n",
    "                    time.sleep(1)\n",
    "                    Driver.find_element_by_xpath(\".//div[contains(@class,'col-sm-6 col-xs-6')]//button[normalize-space()='Download']\").click()\n",
    "                except NoSuchElementException:\n",
    "                    print(\"Not present....continuing script\")\n",
    "time.sleep(1)\n",
    "Driver.find_element_by_class_name(\"dropdown-toggle\").click()\n",
    "time.sleep(1)\n",
    "Driver.find_element_by_xpath(\"//a[@href='//services.gst.gov.in/services/logout']\").click()\n",
    "time.sleep(2)\n",
    "Driver.close()                    "
   ]
  },
  {
   "cell_type": "code",
   "execution_count": 23,
   "id": "b688a2c9",
   "metadata": {
    "ExecuteTime": {
     "end_time": "2022-05-21T08:13:43.519155Z",
     "start_time": "2022-05-21T08:13:43.497212Z"
    }
   },
   "outputs": [
    {
     "data": {
      "text/plain": [
       "['2022-23', '2021-22', '2020-21', '2019-20', '2018-19', '2017-18']"
      ]
     },
     "execution_count": 23,
     "metadata": {},
     "output_type": "execute_result"
    }
   ],
   "source": [
    "Financial_Years"
   ]
  },
  {
   "cell_type": "code",
   "execution_count": 25,
   "id": "b5712653",
   "metadata": {
    "ExecuteTime": {
     "end_time": "2022-05-21T08:15:13.203638Z",
     "start_time": "2022-05-21T08:15:13.192669Z"
    }
   },
   "outputs": [
    {
     "data": {
      "text/plain": [
       "'E:\\\\pagepvtltd_2017\\\\GSTR-3B_PDFs'"
      ]
     },
     "execution_count": 25,
     "metadata": {},
     "output_type": "execute_result"
    }
   ],
   "source": [
    "my_path = newpath\n",
    "os.chdir(my_path)\n",
    "os.getcwd()"
   ]
  },
  {
   "cell_type": "code",
   "execution_count": 26,
   "id": "a966bb25",
   "metadata": {
    "ExecuteTime": {
     "end_time": "2022-05-21T08:15:14.024268Z",
     "start_time": "2022-05-21T08:15:14.004320Z"
    },
    "scrolled": true
   },
   "outputs": [
    {
     "data": {
      "text/plain": [
       "['GSTR3B_36AACCP0932H2ZM_012022.pdf', 'GSTR3B_36AACCP0932H2ZM_022022.pdf']"
      ]
     },
     "execution_count": 26,
     "metadata": {},
     "output_type": "execute_result"
    }
   ],
   "source": [
    "All_files = sorted(filter(os.path.isfile, os.listdir('.')), key=os.path.getmtime)\n",
    "All_files"
   ]
  },
  {
   "cell_type": "code",
   "execution_count": 27,
   "id": "e3f6cedb",
   "metadata": {
    "ExecuteTime": {
     "end_time": "2022-05-21T08:15:18.257167Z",
     "start_time": "2022-05-21T08:15:16.553042Z"
    }
   },
   "outputs": [],
   "source": [
    "YearandMonths = {}\n",
    "replacers = {f'{i}\\n':'' for i in string.ascii_letters}\n",
    "replacers.update({\"\\n\":\"\",None:\" \"})\n",
    "for f in All_files:\n",
    "    pdf = pdfplumber.open(f)\n",
    "    first_page = pdf.pages[0]\n",
    "    All_Tables = first_page.extract_tables()\n",
    "    Details3_1 = pd.DataFrame(columns=[i.replace(\"\\n\",\" \") for i in All_Tables[2][0]])\n",
    "    for i in range(len(All_Tables[2][1:])):\n",
    "        Details3_1.loc[i] = All_Tables[2][1:][i]\n",
    "    Details3_1 = Details3_1.replace(replacers,regex=True)\n",
    "    values = {}\n",
    "    for i in range(len(Details3_1.columns[1:-1])):\n",
    "        values[Details3_1.columns[1:-1][i]] = float(Details3_1[Details3_1.columns[1:-1][i]][0])\n",
    "    values\n",
    "    YearandMonths.setdefault(All_Tables[0][0][1], {})\n",
    "    YearandMonths[All_Tables[0][0][1]][All_Tables[0][1][1]] = values"
   ]
  },
  {
   "cell_type": "code",
   "execution_count": 28,
   "id": "5f884bc3",
   "metadata": {
    "ExecuteTime": {
     "end_time": "2022-05-21T08:15:20.459978Z",
     "start_time": "2022-05-21T08:15:20.449009Z"
    }
   },
   "outputs": [
    {
     "data": {
      "text/plain": [
       "{'2021-22': {'January': {'Total taxable  value': 4657861.0,\n",
       "   'D Integrated  tax': 0.0,\n",
       "   'Central  tax': 398370.0,\n",
       "   'State/UT  tax': 398370.0},\n",
       "  'February': {'Total taxable  value': 2078400.0,\n",
       "   'D Integrated  tax': 0.0,\n",
       "   'Central  tax': 167373.14,\n",
       "   'State/UT  tax': 167373.14}}}"
      ]
     },
     "execution_count": 28,
     "metadata": {},
     "output_type": "execute_result"
    }
   ],
   "source": [
    "YearandMonths"
   ]
  },
  {
   "cell_type": "code",
   "execution_count": 30,
   "id": "a214ab98",
   "metadata": {
    "ExecuteTime": {
     "end_time": "2022-05-21T08:15:40.266438Z",
     "start_time": "2022-05-21T08:15:40.258458Z"
    }
   },
   "outputs": [],
   "source": [
    "# datetime.datetime.strptime(,\"%b\")\n",
    "# list(YearandMonths[\"2021-22\"])[0]"
   ]
  },
  {
   "cell_type": "code",
   "execution_count": 31,
   "id": "0c99a8a5",
   "metadata": {
    "ExecuteTime": {
     "end_time": "2022-05-21T08:15:42.273724Z",
     "start_time": "2022-05-21T08:15:42.247794Z"
    }
   },
   "outputs": [
    {
     "data": {
      "text/plain": [
       "'E:\\\\pagepvtltd_2017\\\\Financial_Years\\\\GST_FY_Format_copy.xlsx'"
      ]
     },
     "execution_count": 31,
     "metadata": {},
     "output_type": "execute_result"
    }
   ],
   "source": [
    "os.mkdir(\"E:\\\\{}\\\\Financial_Years\".format(username))\n",
    "shutil.copy(\"E:\\GST_FY_Format_copy.xlsx\", \"E:\\\\{}\\\\Financial_Years\".format(username))"
   ]
  },
  {
   "cell_type": "code",
   "execution_count": 32,
   "id": "32410e4c",
   "metadata": {
    "ExecuteTime": {
     "end_time": "2022-05-21T08:15:52.825165Z",
     "start_time": "2022-05-21T08:15:47.841129Z"
    }
   },
   "outputs": [],
   "source": [
    "for y in list(YearandMonths.keys()):\n",
    "    df =   xw.Book('E:\\\\{}\\\\Financial_Years\\\\GST_FY_Format_copy.xlsx'.format(username))\n",
    "    excel_app = xw.apps.active\n",
    "    sn = df.sheets[0]\n",
    "    sn.range('A1').value = \"SAI ENTERPRISES\"\n",
    "    sn['A2'].value = \"GST  STATEMENT FOR THE PERIOD OF 01-04-{} TO 31-03-20{} GSTR 3B\".format(y[0:4],y[5:])\n",
    "    sn.range('I8').value = \"OUTPUT TAXABLE VALUE\"\n",
    "    sn.range('K8').value = \"IGST\"\n",
    "    sn.range('L8').value = \"CGST\"\n",
    "    sn.range('M8').value = \"SGST\"\n",
    "    for clmns in ['I','K','L','M']:\n",
    "        for numbs in range(11,23):\n",
    "            jn = ''.join([clmns,str(numbs)])\n",
    "            sn.range(jn).value = float(0.0)\n",
    "    for j in list(YearandMonths[y].keys()):\n",
    "        if j in [\"(Apr-Jun)\",\"(Jul-Sep)\",\"(Oct-Dec)\",\"(Jan-Mar)\"]:\n",
    "            for s in range(1,30):\n",
    "                dto = datetime.datetime.strptime(j[4:],\"%b\")\n",
    "                cmn = calendar.month_name[dto.month]\n",
    "                if  cmn == sn.range(s,1).value:\n",
    "                    for (k,m) in zip(['I','K','L','M'],list(YearandMonths[y][j].values())):\n",
    "                        cb = ''.join([k,sn.range(s,1).address.replace('$','')[1:]])\n",
    "                        sn.range(cb).value = m\n",
    "        else:\n",
    "            for s in range(1,30):\n",
    "                if j == (sn.range(s,1).value):\n",
    "                    for (k,m) in zip(['I','K','L','M'],list(YearandMonths[y][j].values())):\n",
    "                        cb = ''.join([k,sn.range(s,1).address.replace('$','')[1:]])\n",
    "                        sn.range(cb).value = m\n",
    "    df.save('E:\\\\{}\\\\Financial_Years\\\\GST_FY_{}.xlsx'.format(username,y))\n",
    "    excel_app.quit()"
   ]
  },
  {
   "cell_type": "code",
   "execution_count": 30,
   "id": "43f6e93d",
   "metadata": {
    "ExecuteTime": {
     "end_time": "2022-05-21T07:25:19.306698Z",
     "start_time": "2022-05-21T07:25:19.292727Z"
    }
   },
   "outputs": [
    {
     "data": {
      "text/plain": [
       "['Quarter 1 (Apr - Jun)']"
      ]
     },
     "execution_count": 30,
     "metadata": {},
     "output_type": "execute_result"
    }
   ],
   "source": [
    "Quarters"
   ]
  },
  {
   "cell_type": "code",
   "execution_count": null,
   "id": "16a4b1c5",
   "metadata": {},
   "outputs": [],
   "source": []
  }
 ],
 "metadata": {
  "hide_input": false,
  "kernelspec": {
   "display_name": "Python 3 (ipykernel)",
   "language": "python",
   "name": "python3"
  },
  "language_info": {
   "codemirror_mode": {
    "name": "ipython",
    "version": 3
   },
   "file_extension": ".py",
   "mimetype": "text/x-python",
   "name": "python",
   "nbconvert_exporter": "python",
   "pygments_lexer": "ipython3",
   "version": "3.9.7"
  },
  "nbTranslate": {
   "displayLangs": [
    "*"
   ],
   "hotkey": "alt-t",
   "langInMainMenu": true,
   "sourceLang": "en",
   "targetLang": "fr",
   "useGoogleTranslate": true
  },
  "varInspector": {
   "cols": {
    "lenName": 16,
    "lenType": 16,
    "lenVar": 40
   },
   "kernels_config": {
    "python": {
     "delete_cmd_postfix": "",
     "delete_cmd_prefix": "del ",
     "library": "var_list.py",
     "varRefreshCmd": "print(var_dic_list())"
    },
    "r": {
     "delete_cmd_postfix": ") ",
     "delete_cmd_prefix": "rm(",
     "library": "var_list.r",
     "varRefreshCmd": "cat(var_dic_list()) "
    }
   },
   "types_to_exclude": [
    "module",
    "function",
    "builtin_function_or_method",
    "instance",
    "_Feature"
   ],
   "window_display": false
  }
 },
 "nbformat": 4,
 "nbformat_minor": 5
}
