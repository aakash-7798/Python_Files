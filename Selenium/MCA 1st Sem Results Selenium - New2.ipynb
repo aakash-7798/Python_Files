{
 "cells": [
  {
   "cell_type": "code",
   "execution_count": 18,
   "id": "660e2b96-fef1-4ae8-a64c-2cd3c7faf2b9",
   "metadata": {
    "ExecuteTime": {
     "end_time": "2022-05-16T08:27:07.801296Z",
     "start_time": "2022-05-16T08:27:07.144710Z"
    }
   },
   "outputs": [],
   "source": [
    "from selenium import webdriver\n",
    "from selenium.webdriver.common.keys import Keys\n",
    "from selenium.webdriver.chrome.options import Options\n",
    "from selenium.webdriver.support.ui import Select\n",
    "from getpass import getpass\n",
    "import time\n",
    "import pandas as pd\n",
    "import chromedriver_autoinstaller as chromedriver\n",
    "chromedriver.install()\n",
    "options = Options()\n",
    "options.add_argument(\"start-maximized\")\n",
    "from IPython.display import display"
   ]
  },
  {
   "cell_type": "code",
   "execution_count": 20,
   "id": "711887d6",
   "metadata": {
    "ExecuteTime": {
     "end_time": "2022-05-16T08:28:05.442408Z",
     "start_time": "2022-05-16T08:28:05.427445Z"
    },
    "scrolled": true
   },
   "outputs": [],
   "source": [
    "# a = [f\"21031F00{i:02d}\" for i in range(1,31)]\n",
    "# a\n",
    "a = [\"21031F0005\"]"
   ]
  },
  {
   "cell_type": "code",
   "execution_count": 22,
   "id": "42afc7ba",
   "metadata": {
    "ExecuteTime": {
     "end_time": "2022-05-16T08:32:02.693784Z",
     "start_time": "2022-05-16T08:31:33.522841Z"
    },
    "collapsed": true
   },
   "outputs": [
    {
     "name": "stderr",
     "output_type": "stream",
     "text": [
      "C:\\Users\\aakas\\AppData\\Local\\Temp/ipykernel_13160/637196837.py:2: DeprecationWarning: executable_path has been deprecated, please pass in a Service object\n",
      "  driver = webdriver.Chrome(options=options,executable_path = \"C:\\\\Users\\\\aakas\\\\anaconda3\\\\lib\\\\site-packages\\\\chromedriver_autoinstaller\\\\101\\\\chromedriver.exe\")\n",
      "C:\\Users\\aakas\\AppData\\Local\\Temp/ipykernel_13160/637196837.py:4: DeprecationWarning: find_element_by_* commands are deprecated. Please use find_element() instead\n",
      "  driver.find_element_by_xpath(\"//a[@href='http://14.139.82.140']\").click()\n",
      "C:\\Users\\aakas\\AppData\\Local\\Temp/ipykernel_13160/637196837.py:9: DeprecationWarning: find_element_by_* commands are deprecated. Please use find_element() instead\n",
      "  driver.find_element_by_id('uid').send_keys(i)\n",
      "C:\\Users\\aakas\\AppData\\Local\\Temp/ipykernel_13160/637196837.py:11: DeprecationWarning: find_element_by_* commands are deprecated. Please use find_element() instead\n",
      "  driver.find_element_by_id('pwd').send_keys(getpass(\"Enter Password : \"))\n"
     ]
    },
    {
     "name": "stdout",
     "output_type": "stream",
     "text": [
      "Enter Password : ········\n"
     ]
    },
    {
     "name": "stderr",
     "output_type": "stream",
     "text": [
      "C:\\Users\\aakas\\AppData\\Local\\Temp/ipykernel_13160/637196837.py:14: DeprecationWarning: find_element_by_* commands are deprecated. Please use find_element() instead\n",
      "  driver.find_element_by_css_selector(\"input[type='submit']\").click()\n",
      "C:\\Users\\aakas\\AppData\\Local\\Temp/ipykernel_13160/637196837.py:15: DeprecationWarning: find_element_by_* commands are deprecated. Please use find_element() instead\n",
      "  if driver.find_element_by_xpath(\".//div[contains(@class,'alert')]\").text == '×\\n  Failed !  Invalid LoginID or Password....':\n",
      "C:\\Users\\aakas\\AppData\\Local\\Temp/ipykernel_13160/637196837.py:18: DeprecationWarning: find_element_by_* commands are deprecated. Please use find_element() instead\n",
      "  driver.find_element_by_xpath(\"//div[@id='myNavBar']/ul/li[4]\").click()\n",
      "C:\\Users\\aakas\\AppData\\Local\\Temp/ipykernel_13160/637196837.py:20: DeprecationWarning: find_element_by_* commands are deprecated. Please use find_element() instead\n",
      "  driver.find_element_by_xpath(\"//a[@href='viewResults']\").click()\n",
      "C:\\Users\\aakas\\AppData\\Local\\Temp/ipykernel_13160/637196837.py:22: DeprecationWarning: find_element_by_* commands are deprecated. Please use find_element() instead\n",
      "  if driver.find_element_by_xpath(\".//div[contains(@class,'alert')]\").text == '×\\n  Failed !  Results records not found.':\n",
      "C:\\Users\\aakas\\AppData\\Local\\Temp/ipykernel_13160/637196837.py:26: DeprecationWarning: find_element_by_* commands are deprecated. Please use find_element() instead\n",
      "  driver.find_element_by_xpath(\"//select[@id='ecode']/option[text()='M.C.A. I Year I Semester (R20) (Reg) - April, 2022']\").click()\n",
      "C:\\Users\\aakas\\AppData\\Local\\Temp/ipykernel_13160/637196837.py:28: DeprecationWarning: find_element_by_* commands are deprecated. Please use find_element() instead\n",
      "  driver.find_element_by_xpath(\".//button[contains(@class,'btn')]\").click()\n",
      "C:\\Users\\aakas\\AppData\\Local\\Temp/ipykernel_13160/637196837.py:30: DeprecationWarning: find_element_by_* commands are deprecated. Please use find_element() instead\n",
      "  Result = driver.find_element_by_xpath('//div[@id=\"resBlock\"]//table').text.split(\"\\n\")\n",
      "C:\\Users\\aakas\\AppData\\Local\\Temp/ipykernel_13160/637196837.py:32: DeprecationWarning: find_element_by_* commands are deprecated. Please use find_element() instead\n",
      "  driver.find_element_by_xpath(\"//a[@href='logout']\").click()\n"
     ]
    }
   ],
   "source": [
    "url = \"http://jntuhsit.org/\"\n",
    "driver = webdriver.Chrome(options=options,executable_path = \"C:\\\\Users\\\\aakas\\\\anaconda3\\\\lib\\\\site-packages\\\\chromedriver_autoinstaller\\\\101\\\\chromedriver.exe\")\n",
    "driver.get(url)\n",
    "driver.find_element_by_xpath(\"//a[@href='http://14.139.82.140']\").click()\n",
    "driver.switch_to.window(driver.window_handles[1])\n",
    "time.sleep(2)\n",
    "All = {}\n",
    "for i in a:\n",
    "    driver.find_element_by_id('uid').send_keys(i)\n",
    "    if i==\"21031F0005\":\n",
    "        driver.find_element_by_id('pwd').send_keys(getpass(f\"{i} Enter Your Password : \"))\n",
    "    else:\n",
    "        driver.find_element_by_id('pwd').send_keys(\"sit123\")\n",
    "    driver.find_element_by_css_selector(\"input[type='submit']\").click()\n",
    "    if driver.find_element_by_xpath(\".//div[contains(@class,'alert')]\").text == '×\\n  Failed !  Invalid LoginID or Password....':\n",
    "        continue\n",
    "    else:\n",
    "        driver.find_element_by_xpath(\"//div[@id='myNavBar']/ul/li[4]\").click()\n",
    "        time.sleep(1)\n",
    "        driver.find_element_by_xpath(\"//a[@href='viewResults']\").click()\n",
    "        time.sleep(1)\n",
    "        if driver.find_element_by_xpath(\".//div[contains(@class,'alert')]\").text == '×\\n  Failed !  Results records not found.':\n",
    "            driver.find_element_by_xpath(\"//a[@href='logout']\").click()\n",
    "            continue\n",
    "        else:\n",
    "            driver.find_element_by_xpath(\"//select[@id='ecode']/option[text()='M.C.A. I Year I Semester (R20) (Reg) - April, 2022']\").click()\n",
    "            time.sleep(1)\n",
    "            driver.find_element_by_xpath(\".//button[contains(@class,'btn')]\").click()\n",
    "            time.sleep(1)\n",
    "            Result = driver.find_element_by_xpath('//div[@id=\"resBlock\"]//table').text.split(\"\\n\")\n",
    "    All[i] = Result\n",
    "    driver.find_element_by_xpath(\"//a[@href='logout']\").click()"
   ]
  },
  {
   "cell_type": "code",
   "execution_count": 14,
   "id": "9f36e1c3",
   "metadata": {
    "ExecuteTime": {
     "end_time": "2022-05-16T07:36:00.247157Z",
     "start_time": "2022-05-16T07:35:33.949055Z"
    },
    "scrolled": true
   },
   "outputs": [
    {
     "name": "stderr",
     "output_type": "stream",
     "text": [
      "C:\\Users\\aakas\\AppData\\Local\\Temp/ipykernel_13160/1587640903.py:2: DeprecationWarning: executable_path has been deprecated, please pass in a Service object\n",
      "  driver = webdriver.Chrome(options=options,executable_path = \"C:\\\\Users\\\\aakas\\\\anaconda3\\\\lib\\\\site-packages\\\\chromedriver_autoinstaller\\\\101\\\\chromedriver.exe\")\n",
      "C:\\Users\\aakas\\AppData\\Local\\Temp/ipykernel_13160/1587640903.py:4: DeprecationWarning: find_element_by_* commands are deprecated. Please use find_element() instead\n",
      "  driver.find_element_by_xpath(\"//a[@href='http://14.139.82.140']\").click()\n",
      "C:\\Users\\aakas\\AppData\\Local\\Temp/ipykernel_13160/1587640903.py:9: DeprecationWarning: find_element_by_* commands are deprecated. Please use find_element() instead\n",
      "  driver.find_element_by_id('uid').send_keys(i)\n",
      "C:\\Users\\aakas\\AppData\\Local\\Temp/ipykernel_13160/1587640903.py:10: DeprecationWarning: find_element_by_* commands are deprecated. Please use find_element() instead\n",
      "  driver.find_element_by_id('pwd').send_keys(\"sit123\")\n",
      "C:\\Users\\aakas\\AppData\\Local\\Temp/ipykernel_13160/1587640903.py:11: DeprecationWarning: find_element_by_* commands are deprecated. Please use find_element() instead\n",
      "  driver.find_element_by_css_selector(\"input[type='submit']\").click()\n",
      "C:\\Users\\aakas\\AppData\\Local\\Temp/ipykernel_13160/1587640903.py:12: DeprecationWarning: find_element_by_* commands are deprecated. Please use find_element() instead\n",
      "  if driver.find_element_by_xpath(\".//div[contains(@class,'alert')]\").text == '×\\n  Failed !  Invalid LoginID or Password....':\n",
      "C:\\Users\\aakas\\AppData\\Local\\Temp/ipykernel_13160/1587640903.py:15: DeprecationWarning: find_element_by_* commands are deprecated. Please use find_element() instead\n",
      "  driver.find_element_by_xpath(\"//div[@id='myNavBar']/ul/li[4]\").click()\n",
      "C:\\Users\\aakas\\AppData\\Local\\Temp/ipykernel_13160/1587640903.py:17: DeprecationWarning: find_element_by_* commands are deprecated. Please use find_element() instead\n",
      "  driver.find_element_by_xpath(\"//a[@href='viewResults']\").click()\n",
      "C:\\Users\\aakas\\AppData\\Local\\Temp/ipykernel_13160/1587640903.py:19: DeprecationWarning: find_element_by_* commands are deprecated. Please use find_element() instead\n",
      "  if driver.find_element_by_xpath(\".//div[contains(@class,'alert')]\").text == '×\\n  Failed !  Results records not found.':\n",
      "C:\\Users\\aakas\\AppData\\Local\\Temp/ipykernel_13160/1587640903.py:20: DeprecationWarning: find_element_by_* commands are deprecated. Please use find_element() instead\n",
      "  driver.find_element_by_xpath(\"//a[@href='logout']\").click()\n",
      "C:\\Users\\aakas\\AppData\\Local\\Temp/ipykernel_13160/1587640903.py:23: DeprecationWarning: find_element_by_* commands are deprecated. Please use find_element() instead\n",
      "  driver.find_element_by_xpath(\"//select[@id='ecode']/option[text()='M.C.A. I Year I Semester (R20) (Reg) - April, 2022']\").click()\n",
      "C:\\Users\\aakas\\AppData\\Local\\Temp/ipykernel_13160/1587640903.py:25: DeprecationWarning: find_element_by_* commands are deprecated. Please use find_element() instead\n",
      "  driver.find_element_by_xpath(\".//button[contains(@class,'btn')]\").click()\n",
      "C:\\Users\\aakas\\AppData\\Local\\Temp/ipykernel_13160/1587640903.py:27: DeprecationWarning: find_element_by_* commands are deprecated. Please use find_element() instead\n",
      "  Result = driver.find_element_by_xpath('//div[@id=\"resBlock\"]//table').text.split(\"\\n\")\n",
      "C:\\Users\\aakas\\AppData\\Local\\Temp/ipykernel_13160/1587640903.py:29: DeprecationWarning: find_element_by_* commands are deprecated. Please use find_element() instead\n",
      "  driver.find_element_by_xpath(\"//a[@href='logout']\").click()\n"
     ]
    }
   ],
   "source": [
    "# url = \"http://jntuhsit.org/\"\n",
    "# driver = webdriver.Chrome(options=options,executable_path = \"C:\\\\Users\\\\aakas\\\\anaconda3\\\\lib\\\\site-packages\\\\chromedriver_autoinstaller\\\\101\\\\chromedriver.exe\")\n",
    "# driver.get(url)\n",
    "# driver.find_element_by_xpath(\"//a[@href='http://14.139.82.140']\").click()\n",
    "# driver.switch_to.window(driver.window_handles[1])\n",
    "# time.sleep(2)\n",
    "# All = {}\n",
    "# for i in a:\n",
    "#     driver.find_element_by_id('uid').send_keys(i)\n",
    "#     driver.find_element_by_id('pwd').send_keys(\"sit123\")\n",
    "#     driver.find_element_by_css_selector(\"input[type='submit']\").click()\n",
    "#     if driver.find_element_by_xpath(\".//div[contains(@class,'alert')]\").text == '×\\n  Failed !  Invalid LoginID or Password....':\n",
    "#         continue\n",
    "#     else:\n",
    "#         driver.find_element_by_xpath(\"//div[@id='myNavBar']/ul/li[4]\").click()\n",
    "#         time.sleep(1)\n",
    "#         driver.find_element_by_xpath(\"//a[@href='viewResults']\").click()\n",
    "#         time.sleep(1)\n",
    "#         if driver.find_element_by_xpath(\".//div[contains(@class,'alert')]\").text == '×\\n  Failed !  Results records not found.':\n",
    "#             driver.find_element_by_xpath(\"//a[@href='logout']\").click()\n",
    "#             continue\n",
    "#         else:\n",
    "#             driver.find_element_by_xpath(\"//select[@id='ecode']/option[text()='M.C.A. I Year I Semester (R20) (Reg) - April, 2022']\").click()\n",
    "#             time.sleep(1)\n",
    "#             driver.find_element_by_xpath(\".//button[contains(@class,'btn')]\").click()\n",
    "#             time.sleep(1)\n",
    "#             Result = driver.find_element_by_xpath('//div[@id=\"resBlock\"]//table').text.split(\"\\n\")\n",
    "#     All[i] = Result\n",
    "#     driver.find_element_by_xpath(\"//a[@href='logout']\").click()"
   ]
  },
  {
   "cell_type": "code",
   "execution_count": 15,
   "id": "d2cc5b88",
   "metadata": {
    "ExecuteTime": {
     "end_time": "2022-05-16T07:36:11.011229Z",
     "start_time": "2022-05-16T07:36:10.996271Z"
    }
   },
   "outputs": [
    {
     "data": {
      "text/plain": [
       "dict_keys(['21031F0029'])"
      ]
     },
     "execution_count": 15,
     "metadata": {},
     "output_type": "execute_result"
    }
   ],
   "source": [
    "All.keys()"
   ]
  },
  {
   "cell_type": "code",
   "execution_count": 139,
   "id": "621a0ee7",
   "metadata": {
    "ExecuteTime": {
     "end_time": "2022-05-15T16:07:54.295460Z",
     "start_time": "2022-05-15T16:07:50.278293Z"
    }
   },
   "outputs": [
    {
     "name": "stdout",
     "output_type": "stream",
     "text": [
      "Enter Your Roll Number : 21031F0008\n",
      "                                        SCHOOL OF INFORMATION TECHNOLOGY\n",
      "                                           (Constituent Unit of JNTUH)\n",
      "                              Jawaharlal Nehru Technological University Hyderabad\n",
      "                                    Kukatpally - 500 085, Telangana (India).\n",
      "                                       (Accredited by NAAC with 'A' Grade)\n",
      "\n",
      "\n",
      "                               M.C.A. I Year I Semester (R20) (Reg) - April, 2022\n",
      "\n",
      "\n",
      "    Roll No.: 21031F0008\n",
      "    Name: VEMURI VIDYA MADHURI\n",
      "    Course and Branch: M.C.A.\n"
     ]
    },
    {
     "data": {
      "text/html": [
       "<div>\n",
       "<style scoped>\n",
       "    .dataframe tbody tr th:only-of-type {\n",
       "        vertical-align: middle;\n",
       "    }\n",
       "\n",
       "    .dataframe tbody tr th {\n",
       "        vertical-align: top;\n",
       "    }\n",
       "\n",
       "    .dataframe thead th {\n",
       "        text-align: right;\n",
       "    }\n",
       "</style>\n",
       "<table border=\"1\" class=\"dataframe\">\n",
       "  <thead>\n",
       "    <tr style=\"text-align: right;\">\n",
       "      <th></th>\n",
       "      <th>S.No.</th>\n",
       "      <th>Subject Code</th>\n",
       "      <th>Subject Name</th>\n",
       "      <th>Grade</th>\n",
       "      <th>Grade Point</th>\n",
       "      <th>Credits</th>\n",
       "      <th>Result</th>\n",
       "    </tr>\n",
       "  </thead>\n",
       "  <tbody>\n",
       "    <tr>\n",
       "      <th>0</th>\n",
       "      <td>1</td>\n",
       "      <td>MC110</td>\n",
       "      <td>MATHEMATICS FOR COMPUTER SCIENCE</td>\n",
       "      <td>O</td>\n",
       "      <td>10</td>\n",
       "      <td>3</td>\n",
       "      <td>P</td>\n",
       "    </tr>\n",
       "    <tr>\n",
       "      <th>1</th>\n",
       "      <td>2</td>\n",
       "      <td>MC120</td>\n",
       "      <td>COMPUTER ARCHITECTURE &amp; ORGANIZATION</td>\n",
       "      <td>O</td>\n",
       "      <td>10</td>\n",
       "      <td>3</td>\n",
       "      <td>P</td>\n",
       "    </tr>\n",
       "    <tr>\n",
       "      <th>2</th>\n",
       "      <td>3</td>\n",
       "      <td>MC130</td>\n",
       "      <td>OBJECT ORIENTED PROGRAMMING THROUGH C++</td>\n",
       "      <td>A+</td>\n",
       "      <td>9</td>\n",
       "      <td>3</td>\n",
       "      <td>P</td>\n",
       "    </tr>\n",
       "    <tr>\n",
       "      <th>3</th>\n",
       "      <td>4</td>\n",
       "      <td>MC140</td>\n",
       "      <td>OPERATING SYSTEMS</td>\n",
       "      <td>A+</td>\n",
       "      <td>9</td>\n",
       "      <td>3</td>\n",
       "      <td>P</td>\n",
       "    </tr>\n",
       "    <tr>\n",
       "      <th>4</th>\n",
       "      <td>5</td>\n",
       "      <td>MC150</td>\n",
       "      <td>DATABASE SYSTEMS</td>\n",
       "      <td>A</td>\n",
       "      <td>8</td>\n",
       "      <td>3</td>\n",
       "      <td>P</td>\n",
       "    </tr>\n",
       "    <tr>\n",
       "      <th>5</th>\n",
       "      <td>6</td>\n",
       "      <td>MC160</td>\n",
       "      <td>COMPUTER ARCHITECTURE &amp; ORGANIZATION &amp; OPERATI...</td>\n",
       "      <td>O</td>\n",
       "      <td>10</td>\n",
       "      <td>2</td>\n",
       "      <td>P</td>\n",
       "    </tr>\n",
       "    <tr>\n",
       "      <th>6</th>\n",
       "      <td>7</td>\n",
       "      <td>MC170</td>\n",
       "      <td>OBJECT ORIENTED PROGRAMMING THROUGH C++ LAB</td>\n",
       "      <td>A+</td>\n",
       "      <td>9</td>\n",
       "      <td>2</td>\n",
       "      <td>P</td>\n",
       "    </tr>\n",
       "    <tr>\n",
       "      <th>7</th>\n",
       "      <td>8</td>\n",
       "      <td>MC180</td>\n",
       "      <td>DATABASE SYSTEMS LAB</td>\n",
       "      <td>A+</td>\n",
       "      <td>9</td>\n",
       "      <td>2</td>\n",
       "      <td>P</td>\n",
       "    </tr>\n",
       "    <tr>\n",
       "      <th>8</th>\n",
       "      <td>9</td>\n",
       "      <td>MC19A</td>\n",
       "      <td>PROFESSIONAL COMMUNICATION SKILLS</td>\n",
       "      <td>A</td>\n",
       "      <td>8</td>\n",
       "      <td>0</td>\n",
       "      <td>P</td>\n",
       "    </tr>\n",
       "  </tbody>\n",
       "</table>\n",
       "</div>"
      ],
      "text/plain": [
       "   S.No. Subject Code                                       Subject Name  \\\n",
       "0      1        MC110                   MATHEMATICS FOR COMPUTER SCIENCE   \n",
       "1      2        MC120               COMPUTER ARCHITECTURE & ORGANIZATION   \n",
       "2      3        MC130            OBJECT ORIENTED PROGRAMMING THROUGH C++   \n",
       "3      4        MC140                                  OPERATING SYSTEMS   \n",
       "4      5        MC150                                   DATABASE SYSTEMS   \n",
       "5      6        MC160  COMPUTER ARCHITECTURE & ORGANIZATION & OPERATI...   \n",
       "6      7        MC170        OBJECT ORIENTED PROGRAMMING THROUGH C++ LAB   \n",
       "7      8        MC180                               DATABASE SYSTEMS LAB   \n",
       "8      9        MC19A                  PROFESSIONAL COMMUNICATION SKILLS   \n",
       "\n",
       "  Grade Grade Point Credits Result  \n",
       "0     O          10       3      P  \n",
       "1     O          10       3      P  \n",
       "2    A+           9       3      P  \n",
       "3    A+           9       3      P  \n",
       "4     A           8       3      P  \n",
       "5     O          10       2      P  \n",
       "6    A+           9       2      P  \n",
       "7    A+           9       2      P  \n",
       "8     A           8       0      P  "
      ]
     },
     "metadata": {},
     "output_type": "display_data"
    },
    {
     "name": "stdout",
     "output_type": "stream",
     "text": [
      "                                              SGPA :  9.263157894736842\n"
     ]
    }
   ],
   "source": [
    "### Check Result\n",
    "roll = input(\"Enter Your Roll Number : \")\n",
    "columns = [\"S.No.\",\"Subject Code\",\"Subject Name\",\"Grade\",\"Grade Point\",\"Credits\",\"Result\"]\n",
    "sln = [i+1 for i in range(len(All[roll][10:-1]))]\n",
    "D = {}\n",
    "for i in columns:\n",
    "    D[i] = []\n",
    "D[columns[0]] = sln\n",
    "D[columns[1]] = [All[roll][10:-1][i].split()[0] for i in range(len(All[roll][10:-1]))]\n",
    "D[columns[2]] = [' '.join(All[roll][10:-1][i].split()[1:-4]) for i in range(len(All[roll][10:-1]))]\n",
    "D[columns[3]] = [All[roll][10:-1][i].split()[-4] for i in range(len(All[roll][10:-1]))]\n",
    "D[columns[4]] = [All[roll][10:-1][i].split()[-3] for i in range(len(All[roll][10:-1]))]\n",
    "D[columns[5]] = [All[roll][10:-1][i].split()[-2] for i in range(len(All[roll][10:-1]))]\n",
    "D[columns[6]] = [All[roll][10:-1][i].split()[-1] for i in range(len(All[roll][10:-1]))]\n",
    "for i in range(len(All[roll][:9])):\n",
    "    if i==0:\n",
    "        print(\"                                       \",All[roll][:9][i])\n",
    "    elif i==1:  \n",
    "        print(\"                                          \",All[roll][:9][i])\n",
    "    elif i==2:\n",
    "        print(\"                             \",All[roll][:9][i])\n",
    "    elif i==3:\n",
    "        print(\"                                   \",All[roll][:9][i])\n",
    "    elif i==4:\n",
    "        print(\"                                      \",All[roll][:9][i])\n",
    "    elif i==5:\n",
    "        print('\\n')\n",
    "        print(\"                              \",All[roll][:9][i])\n",
    "        print('\\n')\n",
    "    else:\n",
    "        print(\"   \",All[roll][:9][i])\n",
    "mul = []\n",
    "cred = []\n",
    "for i in range(len(pd.DataFrame(D))):\n",
    "    mul.append(int(list(pd.DataFrame(D)[\"Grade Point\"])[i]) * int(list(pd.DataFrame(D)[\"Credits\"] )[i]))\n",
    "    cred.append(int(list(pd.DataFrame(D)[\"Credits\"] )[i]))\n",
    "display(pd.DataFrame(D))\n",
    "print(\"                                              SGPA : \",sum(mul)/sum(cred))"
   ]
  },
  {
   "cell_type": "code",
   "execution_count": 131,
   "id": "50fbde25",
   "metadata": {
    "ExecuteTime": {
     "end_time": "2022-05-15T16:04:16.893783Z",
     "start_time": "2022-05-15T16:04:16.843660Z"
    }
   },
   "outputs": [
    {
     "name": "stdout",
     "output_type": "stream",
     "text": [
      "SGPA :  7.0\n"
     ]
    }
   ],
   "source": [
    "mul = []\n",
    "cred = []\n",
    "for i in range(len(pd.DataFrame(D))):\n",
    "    mul.append(int(list(pd.DataFrame(D)[\"Grade Point\"])[i]) * int(list(pd.DataFrame(D)[\"Credits\"] )[i]))\n",
    "    cred.append(int(list(pd.DataFrame(D)[\"Credits\"] )[i]))\n",
    "print(\"SGPA : \",sum(mul)/sum(cred))"
   ]
  },
  {
   "cell_type": "code",
   "execution_count": 129,
   "id": "4ea6b44b",
   "metadata": {
    "ExecuteTime": {
     "end_time": "2022-05-15T16:02:29.577722Z",
     "start_time": "2022-05-15T16:02:29.569743Z"
    }
   },
   "outputs": [
    {
     "data": {
      "text/plain": [
       "'333332220'"
      ]
     },
     "execution_count": 129,
     "metadata": {},
     "output_type": "execute_result"
    }
   ],
   "source": []
  },
  {
   "cell_type": "code",
   "execution_count": 92,
   "id": "4028771c",
   "metadata": {
    "ExecuteTime": {
     "end_time": "2022-05-15T15:40:37.625671Z",
     "start_time": "2022-05-15T15:40:37.558716Z"
    }
   },
   "outputs": [
    {
     "name": "stderr",
     "output_type": "stream",
     "text": [
      "C:\\Users\\aakas\\AppData\\Local\\Temp/ipykernel_8476/4193230792.py:1: DeprecationWarning: find_element_by_* commands are deprecated. Please use find_element() instead\n",
      "  driver.find_element_by_xpath(\".//div[contains(@class,'alert')]\").text\n"
     ]
    },
    {
     "data": {
      "text/plain": [
       "'×\\n  Failed !  Results records not found.'"
      ]
     },
     "execution_count": 92,
     "metadata": {},
     "output_type": "execute_result"
    }
   ],
   "source": [
    "# driver.find_element_by_xpath(\".//div[contains(@class,'alert')]\").text"
   ]
  },
  {
   "cell_type": "code",
   "execution_count": 83,
   "id": "256f2a66",
   "metadata": {
    "ExecuteTime": {
     "end_time": "2022-05-15T15:30:53.838603Z",
     "start_time": "2022-05-15T15:30:53.821648Z"
    }
   },
   "outputs": [],
   "source": [
    "# columns = [\"S.No.\",\"Subject Code\",\"Subject Name\",\"Grade\",\"Grade Point\",\"Credits\",\"Result\"]\n",
    "# sln = [i+1 for i in range(len(All[roll][10:-1]))]\n",
    "# D = {}\n",
    "# for i in columns:\n",
    "#     D[i] = []\n",
    "# D[columns[0]] = sln\n",
    "# D[columns[1]] = [All[roll][10:-1][i].split()[0] for i in range(len(All[roll][10:-1]))]\n",
    "# D[columns[2]] = [' '.join(All[roll][10:-1][i].split()[1:-4]) for i in range(len(All[roll][10:-1]))]\n",
    "# D[columns[3]] = [All[roll][10:-1][i].split()[-4] for i in range(len(All[roll][10:-1]))]\n",
    "# D[columns[4]] = [All[roll][10:-1][i].split()[-3] for i in range(len(All[roll][10:-1]))]\n",
    "# D[columns[5]] = [All[roll][10:-1][i].split()[-2] for i in range(len(All[roll][10:-1]))]\n",
    "# D[columns[6]] = [All[roll][10:-1][i].split()[-1] for i in range(len(All[roll][10:-1]))]\n",
    "# D"
   ]
  },
  {
   "cell_type": "code",
   "execution_count": 84,
   "id": "3b903b88",
   "metadata": {
    "ExecuteTime": {
     "end_time": "2022-05-15T15:30:56.611085Z",
     "start_time": "2022-05-15T15:30:56.600114Z"
    }
   },
   "outputs": [],
   "source": [
    "# for i in range(len(All[roll][:9])):\n",
    "#     if i==0:\n",
    "#         print(\"                                       \",All[roll][:9][i])\n",
    "#     elif i==1:  \n",
    "#         print(\"                                          \",All[roll][:9][i])\n",
    "#     elif i==2:\n",
    "#         print(\"                             \",All[roll][:9][i])\n",
    "#     elif i==3:\n",
    "#         print(\"                                   \",All[roll][:9][i])\n",
    "#     elif i==4:\n",
    "#         print(\"                                      \",All[roll][:9][i])\n",
    "#     elif i==5:\n",
    "#         print('\\n')\n",
    "#         print(\"                              \",All[roll][:9][i])\n",
    "#         print('\\n')\n",
    "#     else:\n",
    "#         print(\"   \",All[roll][:9][i])\n",
    "# pd.DataFrame(D)"
   ]
  },
  {
   "cell_type": "code",
   "execution_count": 15,
   "id": "7bfacffa",
   "metadata": {
    "ExecuteTime": {
     "end_time": "2022-05-15T14:22:13.914359Z",
     "start_time": "2022-05-15T14:22:13.892381Z"
    }
   },
   "outputs": [],
   "source": [
    "# url = \"http://jntuhsit.org/\"\n",
    "# driver = webdriver.Chrome(options=options,executable_path = \"C:\\\\Users\\\\aakas\\\\anaconda3\\\\lib\\\\site-packages\\\\chromedriver_autoinstaller\\\\101\\\\chromedriver.exe\")\n",
    "# driver.get(url)\n",
    "# driver.find_element_by_xpath(\"//a[@href='http://14.139.82.140']\").click()\n",
    "# driver.switch_to.window(driver.window_handles[1])\n",
    "# time.sleep(2)\n",
    "# driver.find_element_by_id('uid').send_keys(username)\n",
    "# driver.find_element_by_id('pwd').send_keys(password)\n",
    "# driver.find_element_by_css_selector(\"input[type='submit']\").click()\n",
    "# time.sleep(2)\n",
    "# driver.find_element_by_xpath(\"//div[@id='myNavBar']/ul/li[4]\").click()\n",
    "# time.sleep(2)\n",
    "# driver.find_element_by_xpath(\"//a[@href='viewResults']\").click()\n",
    "# time.sleep(2)\n",
    "# driver.find_element_by_xpath(\"//select[@id='ecode']/option[text()='M.C.A. I Year I Semester (R20) (Reg) - April, 2022']\").click()\n",
    "# time.sleep(3)\n",
    "# driver.find_element_by_xpath(\".//button[contains(@class,'btn')]\").click()\n",
    "# time.sleep(2)\n",
    "# Result = driver.find_element_by_xpath('//div[@id=\"resBlock\"]//table').text.split(\"\\n\")\n",
    "# columns = [\"S.No.\",\"Subject Code\",\"Subject Name\",\"Grade\",\"Grade Point\",\"Credits\",\"Result\"]\n",
    "# sln = [i+1 for i in range(len(Result[10:-1]))]\n",
    "# D = {}\n",
    "# for i in columns:\n",
    "#     D[i] = []\n",
    "# D[columns[0]] = sln\n",
    "# D[columns[1]] = [Result[10:-1][i].split()[0] for i in range(len(Result[10:-1]))]\n",
    "# D[columns[2]] = [' '.join(Result[10:-1][i].split()[1:-4]) for i in range(len(Result[10:-1]))]\n",
    "# D[columns[3]] = [Result[10:-1][i].split()[-4] for i in range(len(Result[10:-1]))]\n",
    "# D[columns[4]] = [Result[10:-1][i].split()[-3] for i in range(len(Result[10:-1]))]\n",
    "# D[columns[5]] = [Result[10:-1][i].split()[-2] for i in range(len(Result[10:-1]))]\n",
    "# D[columns[6]] = [Result[10:-1][i].split()[-1] for i in range(len(Result[10:-1]))]\n",
    "# driver.find_element_by_xpath(\"//a[@href='logout']\").click()\n",
    "# print(driver.find_element_by_class_name('alert-success').text.strip(\".\")[2:40])\n",
    "# driver.close()\n",
    "# driver.switch_to.window(driver.window_handles[0])\n",
    "# driver.close()"
   ]
  },
  {
   "cell_type": "code",
   "execution_count": null,
   "id": "cf688f57",
   "metadata": {},
   "outputs": [],
   "source": []
  }
 ],
 "metadata": {
  "kernelspec": {
   "display_name": "Python 3 (ipykernel)",
   "language": "python",
   "name": "python3"
  },
  "language_info": {
   "codemirror_mode": {
    "name": "ipython",
    "version": 3
   },
   "file_extension": ".py",
   "mimetype": "text/x-python",
   "name": "python",
   "nbconvert_exporter": "python",
   "pygments_lexer": "ipython3",
   "version": "3.9.7"
  },
  "nbTranslate": {
   "displayLangs": [
    "*"
   ],
   "hotkey": "alt-t",
   "langInMainMenu": true,
   "sourceLang": "en",
   "targetLang": "fr",
   "useGoogleTranslate": true
  },
  "toc-autonumbering": true,
  "toc-showcode": true,
  "toc-showtags": false,
  "varInspector": {
   "cols": {
    "lenName": 16,
    "lenType": 16,
    "lenVar": 40
   },
   "kernels_config": {
    "python": {
     "delete_cmd_postfix": "",
     "delete_cmd_prefix": "del ",
     "library": "var_list.py",
     "varRefreshCmd": "print(var_dic_list())"
    },
    "r": {
     "delete_cmd_postfix": ") ",
     "delete_cmd_prefix": "rm(",
     "library": "var_list.r",
     "varRefreshCmd": "cat(var_dic_list()) "
    }
   },
   "types_to_exclude": [
    "module",
    "function",
    "builtin_function_or_method",
    "instance",
    "_Feature"
   ],
   "window_display": false
  }
 },
 "nbformat": 4,
 "nbformat_minor": 5
}
