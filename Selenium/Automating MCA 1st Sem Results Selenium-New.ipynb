{
 "cells": [
  {
   "cell_type": "code",
   "execution_count": 720,
   "id": "660e2b96-fef1-4ae8-a64c-2cd3c7faf2b9",
   "metadata": {
    "ExecuteTime": {
     "end_time": "2022-05-17T12:36:49.107504Z",
     "start_time": "2022-05-17T12:36:48.024235Z"
    }
   },
   "outputs": [],
   "source": [
    "from selenium import webdriver\n",
    "from selenium.webdriver.common.keys import Keys\n",
    "from selenium.webdriver.chrome.options import Options\n",
    "from selenium.webdriver.support.ui import Select\n",
    "from getpass import getpass\n",
    "import time\n",
    "import pandas as pd\n",
    "from PIL import Image\n",
    "import chromedriver_autoinstaller as chromedriver\n",
    "chromedriver.install()\n",
    "options = Options()\n",
    "options.add_argument(\"start-maximized\")\n",
    "from IPython.display import display, HTML\n",
    "from tabulate import tabulate\n",
    "pd.set_option('display.colheader_justify', 'center')"
   ]
  },
  {
   "cell_type": "code",
   "execution_count": 2,
   "id": "711887d6",
   "metadata": {
    "ExecuteTime": {
     "end_time": "2022-05-17T08:16:18.918450Z",
     "start_time": "2022-05-17T08:16:18.904450Z"
    }
   },
   "outputs": [],
   "source": [
    "a = [f\"21031F00{i:02d}\" for i in range(1,31)]"
   ]
  },
  {
   "cell_type": "code",
   "execution_count": 4,
   "id": "9f36e1c3",
   "metadata": {
    "ExecuteTime": {
     "end_time": "2022-05-17T08:21:26.430720Z",
     "start_time": "2022-05-17T08:18:21.252825Z"
    },
    "collapsed": true
   },
   "outputs": [
    {
     "name": "stderr",
     "output_type": "stream",
     "text": [
      "C:\\Users\\aakas\\AppData\\Local\\Temp/ipykernel_3836/1145633446.py:2: DeprecationWarning: executable_path has been deprecated, please pass in a Service object\n",
      "  driver = webdriver.Chrome(options=options,executable_path = \"C:\\\\Users\\\\aakas\\\\anaconda3\\\\lib\\\\site-packages\\\\chromedriver_autoinstaller\\\\101\\\\chromedriver.exe\")\n",
      "C:\\Users\\aakas\\AppData\\Local\\Temp/ipykernel_3836/1145633446.py:4: DeprecationWarning: find_element_by_* commands are deprecated. Please use find_element() instead\n",
      "  driver.find_element_by_xpath(\"//a[@href='http://14.139.82.140']\").click()\n",
      "C:\\Users\\aakas\\AppData\\Local\\Temp/ipykernel_3836/1145633446.py:9: DeprecationWarning: find_element_by_* commands are deprecated. Please use find_element() instead\n",
      "  driver.find_element_by_id('uid').send_keys(i)\n",
      "C:\\Users\\aakas\\AppData\\Local\\Temp/ipykernel_3836/1145633446.py:13: DeprecationWarning: find_element_by_* commands are deprecated. Please use find_element() instead\n",
      "  driver.find_element_by_id('pwd').send_keys(\"sit123\")\n",
      "C:\\Users\\aakas\\AppData\\Local\\Temp/ipykernel_3836/1145633446.py:14: DeprecationWarning: find_element_by_* commands are deprecated. Please use find_element() instead\n",
      "  driver.find_element_by_css_selector(\"input[type='submit']\").click()\n",
      "C:\\Users\\aakas\\AppData\\Local\\Temp/ipykernel_3836/1145633446.py:15: DeprecationWarning: find_element_by_* commands are deprecated. Please use find_element() instead\n",
      "  if driver.find_element_by_xpath(\".//div[contains(@class,'alert')]\").text == '×\\n  Failed !  Invalid LoginID or Password....':\n",
      "C:\\Users\\aakas\\AppData\\Local\\Temp/ipykernel_3836/1145633446.py:19: DeprecationWarning: find_element_by_* commands are deprecated. Please use find_element() instead\n",
      "  driver.find_element_by_xpath(\"//div[@id='myNavBar']/ul/li[4]\").click()\n",
      "C:\\Users\\aakas\\AppData\\Local\\Temp/ipykernel_3836/1145633446.py:21: DeprecationWarning: find_element_by_* commands are deprecated. Please use find_element() instead\n",
      "  driver.find_element_by_xpath(\"//a[@href='viewResults']\").click()\n",
      "C:\\Users\\aakas\\AppData\\Local\\Temp/ipykernel_3836/1145633446.py:23: DeprecationWarning: find_element_by_* commands are deprecated. Please use find_element() instead\n",
      "  if driver.find_element_by_xpath(\".//div[contains(@class,'alert')]\").text == '×\\n  Failed !  Results records not found.':\n",
      "C:\\Users\\aakas\\AppData\\Local\\Temp/ipykernel_3836/1145633446.py:27: DeprecationWarning: find_element_by_* commands are deprecated. Please use find_element() instead\n",
      "  driver.find_element_by_xpath(\"//select[@id='ecode']/option[text()='M.C.A. I Year I Semester (R20) (Reg) - April, 2022']\").click()\n",
      "C:\\Users\\aakas\\AppData\\Local\\Temp/ipykernel_3836/1145633446.py:29: DeprecationWarning: find_element_by_* commands are deprecated. Please use find_element() instead\n",
      "  driver.find_element_by_xpath(\".//button[contains(@class,'btn')]\").click()\n",
      "C:\\Users\\aakas\\AppData\\Local\\Temp/ipykernel_3836/1145633446.py:31: DeprecationWarning: find_element_by_* commands are deprecated. Please use find_element() instead\n",
      "  Result = driver.find_element_by_xpath('//div[@id=\"resBlock\"]//table').text.split(\"\\n\")\n",
      "C:\\Users\\aakas\\AppData\\Local\\Temp/ipykernel_3836/1145633446.py:33: DeprecationWarning: find_element_by_* commands are deprecated. Please use find_element() instead\n",
      "  driver.find_element_by_xpath(\"//a[@href='logout']\").click()\n",
      "C:\\Users\\aakas\\AppData\\Local\\Temp/ipykernel_3836/1145633446.py:11: DeprecationWarning: find_element_by_* commands are deprecated. Please use find_element() instead\n",
      "  driver.find_element_by_id('pwd').send_keys(getpass(f\"{i} Enter Your Password : \"))\n"
     ]
    },
    {
     "name": "stdout",
     "output_type": "stream",
     "text": [
      "21031F0005 Enter Your Password : ········\n"
     ]
    },
    {
     "name": "stderr",
     "output_type": "stream",
     "text": [
      "C:\\Users\\aakas\\AppData\\Local\\Temp/ipykernel_3836/1145633446.py:24: DeprecationWarning: find_element_by_* commands are deprecated. Please use find_element() instead\n",
      "  driver.find_element_by_xpath(\"//a[@href='logout']\").click()\n",
      "C:\\Users\\aakas\\AppData\\Local\\Temp/ipykernel_3836/1145633446.py:34: DeprecationWarning: find_element_by_* commands are deprecated. Please use find_element() instead\n",
      "  print(driver.find_element_by_class_name('alert-success').text.strip(\".\")[2:40])\n"
     ]
    },
    {
     "name": "stdout",
     "output_type": "stream",
     "text": [
      "  Success !  Successfully Logged out\n"
     ]
    }
   ],
   "source": [
    "url = \"http://jntuhsit.org/\"\n",
    "driver = webdriver.Chrome(options=options,executable_path = \"C:\\\\Users\\\\aakas\\\\anaconda3\\\\lib\\\\site-packages\\\\chromedriver_autoinstaller\\\\101\\\\chromedriver.exe\")\n",
    "driver.get(url)\n",
    "driver.find_element_by_xpath(\"//a[@href='http://14.139.82.140']\").click()\n",
    "driver.switch_to.window(driver.window_handles[1])\n",
    "time.sleep(2)\n",
    "All = {}\n",
    "for i in a:\n",
    "    driver.find_element_by_id('uid').send_keys(i)\n",
    "    if i==\"21031F0005\":\n",
    "        driver.find_element_by_id('pwd').send_keys(getpass(f\"{i} Enter Your Password : \"))\n",
    "    else:\n",
    "        driver.find_element_by_id('pwd').send_keys(\"sit123\")\n",
    "    driver.find_element_by_css_selector(\"input[type='submit']\").click()\n",
    "    if driver.find_element_by_xpath(\".//div[contains(@class,'alert')]\").text == '×\\n  Failed !  Invalid LoginID or Password....':\n",
    "        continue\n",
    "    else:\n",
    "        time.sleep(1)\n",
    "        driver.find_element_by_xpath(\"//div[@id='myNavBar']/ul/li[4]\").click()\n",
    "        time.sleep(1)\n",
    "        driver.find_element_by_xpath(\"//a[@href='viewResults']\").click()\n",
    "        time.sleep(1)\n",
    "        if driver.find_element_by_xpath(\".//div[contains(@class,'alert')]\").text == '×\\n  Failed !  Results records not found.':\n",
    "            driver.find_element_by_xpath(\"//a[@href='logout']\").click()\n",
    "            continue\n",
    "        else:\n",
    "            driver.find_element_by_xpath(\"//select[@id='ecode']/option[text()='M.C.A. I Year I Semester (R20) (Reg) - April, 2022']\").click()\n",
    "            time.sleep(1)\n",
    "            driver.find_element_by_xpath(\".//button[contains(@class,'btn')]\").click()\n",
    "            time.sleep(1)\n",
    "            Result = driver.find_element_by_xpath('//div[@id=\"resBlock\"]//table').text.split(\"\\n\")\n",
    "    All[i] = Result\n",
    "    driver.find_element_by_xpath(\"//a[@href='logout']\").click()\n",
    "print(driver.find_element_by_class_name('alert-success').text.strip(\".\")[2:40])\n",
    "driver.close()\n",
    "driver.switch_to.window(driver.window_handles[0])\n",
    "driver.close()"
   ]
  },
  {
   "cell_type": "code",
   "execution_count": 691,
   "id": "a8ee5dc2",
   "metadata": {
    "ExecuteTime": {
     "end_time": "2022-05-17T12:27:02.802888Z",
     "start_time": "2022-05-17T12:27:02.777918Z"
    }
   },
   "outputs": [],
   "source": [
    "def Grade_Table(roll):\n",
    "#     rol = input(\"Enter Last Two Digits of Your Roll Number : \")\n",
    "#     roll = \"21031F00\"+rol\n",
    "#     x = input(\"Do you want GradeTable or SGPA or both (For GradeTable Enter G and SGPA enter S and for both enter both) : \")\n",
    "    global columns \n",
    "    columns = [\"S.No\",\"SubjectCode\",\"SubjectName\",\"Grade\",\"GradePoint\",\"Credits\",\"Result\"]\n",
    "    sln = [i+1 for i in range(len(All[roll][10:-1]))]\n",
    "    D = {}\n",
    "    for i in columns:\n",
    "        D[i] = []\n",
    "    D[columns[0]] = sln\n",
    "    D[columns[1]] = [All[roll][10:-1][i].split()[0] for i in range(len(All[roll][10:-1]))]\n",
    "    D[columns[2]] = [' '.join(All[roll][10:-1][i].split()[1:-4]) for i in range(len(All[roll][10:-1]))]\n",
    "    D[columns[3]] = [All[roll][10:-1][i].split()[-4] for i in range(len(All[roll][10:-1]))]\n",
    "    D[columns[4]] = [All[roll][10:-1][i].split()[-3] for i in range(len(All[roll][10:-1]))]\n",
    "    D[columns[5]] = [All[roll][10:-1][i].split()[-2] for i in range(len(All[roll][10:-1]))]\n",
    "    D[columns[6]] = [All[roll][10:-1][i].split()[-1] for i in range(len(All[roll][10:-1]))]\n",
    "    return pd.DataFrame(D)\n",
    "#     df[['GradePoint', 'Credits']] = df[['GradePoint', 'Credits']].astype('int64')\n",
    "#     display(df)\n",
    "#     sgpa = round(sum(df.GradePoint*df.Credits)/sum(df.Credits),2)\n",
    "    print(' '*45,\"SGPA : \",sgpa)\n",
    "#     if x.lower()=='both':\n",
    "#         display(df)\n",
    "#         sgpa = round(sum(df.GradePoint*df.Credits)/sum(df.Credits),2)\n",
    "#         print(' '*45,\"SGPA : \",sgpa)\n",
    "#     elif x.lower()=='g':\n",
    "#         display(df)\n",
    "#     else:\n",
    "#         sgpa = round(sum(df.GradePoint*df.Credits)/sum(df.Credits),2)\n",
    "#         print(' '*45,\"SGPA : \",sgpa)"
   ]
  },
  {
   "cell_type": "code",
   "execution_count": 692,
   "id": "c9935578",
   "metadata": {
    "ExecuteTime": {
     "end_time": "2022-05-17T12:27:04.103514Z",
     "start_time": "2022-05-17T12:27:04.098528Z"
    }
   },
   "outputs": [],
   "source": [
    "def SGPA(roll):\n",
    "    df = Grade_Table(roll)\n",
    "    df[['GradePoint', 'Credits']] = df[['GradePoint', 'Credits']].astype('int64')\n",
    "    return round(sum(df.GradePoint*df.Credits)/sum(df.Credits),2)"
   ]
  },
  {
   "cell_type": "code",
   "execution_count": 709,
   "id": "412215fd",
   "metadata": {
    "ExecuteTime": {
     "end_time": "2022-05-17T12:31:31.030608Z",
     "start_time": "2022-05-17T12:31:30.943804Z"
    },
    "collapsed": true
   },
   "outputs": [
    {
     "data": {
      "text/html": [
       "<div>\n",
       "<style scoped>\n",
       "    .dataframe tbody tr th:only-of-type {\n",
       "        vertical-align: middle;\n",
       "    }\n",
       "\n",
       "    .dataframe tbody tr th {\n",
       "        vertical-align: top;\n",
       "    }\n",
       "\n",
       "    .dataframe thead th {\n",
       "        text-align: right;\n",
       "    }\n",
       "</style>\n",
       "<table border=\"1\" class=\"dataframe\">\n",
       "  <thead>\n",
       "    <tr style=\"text-align: right;\">\n",
       "      <th></th>\n",
       "      <th>RollNumber</th>\n",
       "      <th>Name</th>\n",
       "      <th>SGPA</th>\n",
       "    </tr>\n",
       "  </thead>\n",
       "  <tbody>\n",
       "    <tr>\n",
       "      <th>0</th>\n",
       "      <td>21031F0002</td>\n",
       "      <td>DADYREDDY DHEERAJ KUMAR REDDY</td>\n",
       "      <td>7.10</td>\n",
       "    </tr>\n",
       "    <tr>\n",
       "      <th>1</th>\n",
       "      <td>21031F0004</td>\n",
       "      <td>GANGAPURAM AKHILA</td>\n",
       "      <td>8.14</td>\n",
       "    </tr>\n",
       "    <tr>\n",
       "      <th>2</th>\n",
       "      <td>21031F0005</td>\n",
       "      <td>AAKASH NADUPALLI</td>\n",
       "      <td>9.00</td>\n",
       "    </tr>\n",
       "    <tr>\n",
       "      <th>3</th>\n",
       "      <td>21031F0007</td>\n",
       "      <td>RENUKUNTLA SHIVA RAMA KRISHNA</td>\n",
       "      <td>8.14</td>\n",
       "    </tr>\n",
       "    <tr>\n",
       "      <th>4</th>\n",
       "      <td>21031F0008</td>\n",
       "      <td>VEMURI VIDYA MADHURI</td>\n",
       "      <td>9.24</td>\n",
       "    </tr>\n",
       "    <tr>\n",
       "      <th>5</th>\n",
       "      <td>21031F0009</td>\n",
       "      <td>BOLLIPALLI AKANKSHA</td>\n",
       "      <td>9.05</td>\n",
       "    </tr>\n",
       "    <tr>\n",
       "      <th>6</th>\n",
       "      <td>21031F0010</td>\n",
       "      <td>CHINTHA CHANDANA</td>\n",
       "      <td>8.19</td>\n",
       "    </tr>\n",
       "    <tr>\n",
       "      <th>7</th>\n",
       "      <td>21031F0012</td>\n",
       "      <td>KARNE RAMYA</td>\n",
       "      <td>7.62</td>\n",
       "    </tr>\n",
       "    <tr>\n",
       "      <th>8</th>\n",
       "      <td>21031F0014</td>\n",
       "      <td>M HARSHITH</td>\n",
       "      <td>7.24</td>\n",
       "    </tr>\n",
       "    <tr>\n",
       "      <th>9</th>\n",
       "      <td>21031F0015</td>\n",
       "      <td>BATTIKADI SREEDIVYA</td>\n",
       "      <td>8.57</td>\n",
       "    </tr>\n",
       "    <tr>\n",
       "      <th>10</th>\n",
       "      <td>21031F0018</td>\n",
       "      <td>DONTULA RAKESH</td>\n",
       "      <td>8.67</td>\n",
       "    </tr>\n",
       "    <tr>\n",
       "      <th>11</th>\n",
       "      <td>21031F0021</td>\n",
       "      <td>MAMEDIPELLY SAHITYA</td>\n",
       "      <td>9.10</td>\n",
       "    </tr>\n",
       "    <tr>\n",
       "      <th>12</th>\n",
       "      <td>21031F0022</td>\n",
       "      <td>MOODA YADAGIRI</td>\n",
       "      <td>7.90</td>\n",
       "    </tr>\n",
       "    <tr>\n",
       "      <th>13</th>\n",
       "      <td>21031F0024</td>\n",
       "      <td>MACHA SAIKRISHNA</td>\n",
       "      <td>8.38</td>\n",
       "    </tr>\n",
       "    <tr>\n",
       "      <th>14</th>\n",
       "      <td>21031F0025</td>\n",
       "      <td>AROORI Y JHANSI</td>\n",
       "      <td>6.78</td>\n",
       "    </tr>\n",
       "    <tr>\n",
       "      <th>15</th>\n",
       "      <td>21031F0029</td>\n",
       "      <td>JATAVATH SINDHU</td>\n",
       "      <td>7.29</td>\n",
       "    </tr>\n",
       "  </tbody>\n",
       "</table>\n",
       "</div>"
      ],
      "text/plain": [
       "    RollNumber                           Name  SGPA\n",
       "0   21031F0002  DADYREDDY DHEERAJ KUMAR REDDY  7.10\n",
       "1   21031F0004              GANGAPURAM AKHILA  8.14\n",
       "2   21031F0005               AAKASH NADUPALLI  9.00\n",
       "3   21031F0007  RENUKUNTLA SHIVA RAMA KRISHNA  8.14\n",
       "4   21031F0008           VEMURI VIDYA MADHURI  9.24\n",
       "5   21031F0009            BOLLIPALLI AKANKSHA  9.05\n",
       "6   21031F0010               CHINTHA CHANDANA  8.19\n",
       "7   21031F0012                    KARNE RAMYA  7.62\n",
       "8   21031F0014                     M HARSHITH  7.24\n",
       "9   21031F0015            BATTIKADI SREEDIVYA  8.57\n",
       "10  21031F0018                 DONTULA RAKESH  8.67\n",
       "11  21031F0021            MAMEDIPELLY SAHITYA  9.10\n",
       "12  21031F0022                 MOODA YADAGIRI  7.90\n",
       "13  21031F0024               MACHA SAIKRISHNA  8.38\n",
       "14  21031F0025                AROORI Y JHANSI  6.78\n",
       "15  21031F0029                JATAVATH SINDHU  7.29"
      ]
     },
     "execution_count": 709,
     "metadata": {},
     "output_type": "execute_result"
    }
   ],
   "source": [
    "All_Results = pd.DataFrame(columns=['RollNumber','Name','SGPA'])\n",
    "All_Results['RollNumber'] = [list(All.keys())[i] for i in range(len(list(All.keys())))]\n",
    "All_Results['Name']       = [All[list(All.keys())[i]][7][6:] for i in range(len(list(All.keys())))]\n",
    "All_Results['SGPA']       = [SGPA(list(All.keys())[i]) for i in range(len(list(All.keys())))]\n",
    "All_Results"
   ]
  },
  {
   "cell_type": "code",
   "execution_count": 737,
   "id": "4beb6d69",
   "metadata": {
    "ExecuteTime": {
     "end_time": "2022-05-17T14:24:42.269340Z",
     "start_time": "2022-05-17T14:24:42.247400Z"
    },
    "scrolled": true
   },
   "outputs": [
    {
     "data": {
      "text/plain": [
       "['fancy_grid',\n",
       " 'fancy_outline',\n",
       " 'github',\n",
       " 'grid',\n",
       " 'html',\n",
       " 'jira',\n",
       " 'latex',\n",
       " 'latex_booktabs',\n",
       " 'latex_longtable',\n",
       " 'latex_raw',\n",
       " 'mediawiki',\n",
       " 'moinmoin',\n",
       " 'orgtbl',\n",
       " 'pipe',\n",
       " 'plain',\n",
       " 'presto',\n",
       " 'pretty',\n",
       " 'psql',\n",
       " 'rst',\n",
       " 'simple',\n",
       " 'textile',\n",
       " 'tsv',\n",
       " 'unsafehtml',\n",
       " 'youtrack']"
      ]
     },
     "execution_count": 737,
     "metadata": {},
     "output_type": "execute_result"
    }
   ],
   "source": [
    "tabulate_formats\n"
   ]
  },
  {
   "cell_type": "code",
   "execution_count": 750,
   "id": "edc4bd9d",
   "metadata": {
    "ExecuteTime": {
     "end_time": "2022-05-17T14:27:40.447390Z",
     "start_time": "2022-05-17T14:27:40.433429Z"
    }
   },
   "outputs": [
    {
     "data": {
      "text/html": [
       "<table>\n",
       "<thead>\n",
       "<tr><th style=\"text-align: right;\">  S.No</th><th>SubjectCode  </th><th>SubjectName                                                 </th><th>Grade  </th><th style=\"text-align: right;\">  GradePoint</th><th style=\"text-align: right;\">  Credits</th><th>Result  </th></tr>\n",
       "</thead>\n",
       "<tbody>\n",
       "<tr><td style=\"text-align: right;\">     1</td><td>MC110        </td><td>MATHEMATICS FOR COMPUTER SCIENCE                            </td><td>A      </td><td style=\"text-align: right;\">           8</td><td style=\"text-align: right;\">        3</td><td>P       </td></tr>\n",
       "<tr><td style=\"text-align: right;\">     2</td><td>MC120        </td><td>COMPUTER ARCHITECTURE & ORGANIZATION                        </td><td>A+     </td><td style=\"text-align: right;\">           9</td><td style=\"text-align: right;\">        3</td><td>P       </td></tr>\n",
       "<tr><td style=\"text-align: right;\">     3</td><td>MC130        </td><td>OBJECT ORIENTED PROGRAMMING THROUGH C++                     </td><td>A+     </td><td style=\"text-align: right;\">           9</td><td style=\"text-align: right;\">        3</td><td>P       </td></tr>\n",
       "<tr><td style=\"text-align: right;\">     4</td><td>MC140        </td><td>OPERATING SYSTEMS                                           </td><td>A+     </td><td style=\"text-align: right;\">           9</td><td style=\"text-align: right;\">        3</td><td>P       </td></tr>\n",
       "<tr><td style=\"text-align: right;\">     5</td><td>MC150        </td><td>DATABASE SYSTEMS                                            </td><td>A      </td><td style=\"text-align: right;\">           8</td><td style=\"text-align: right;\">        3</td><td>P       </td></tr>\n",
       "<tr><td style=\"text-align: right;\">     6</td><td>MC160        </td><td>COMPUTER ARCHITECTURE & ORGANIZATION & OPERATING SYSTEMS LAB</td><td>O      </td><td style=\"text-align: right;\">          10</td><td style=\"text-align: right;\">        2</td><td>P       </td></tr>\n",
       "<tr><td style=\"text-align: right;\">     7</td><td>MC170        </td><td>OBJECT ORIENTED PROGRAMMING THROUGH C++ LAB                 </td><td>O      </td><td style=\"text-align: right;\">          10</td><td style=\"text-align: right;\">        2</td><td>P       </td></tr>\n",
       "<tr><td style=\"text-align: right;\">     8</td><td>MC180        </td><td>DATABASE SYSTEMS LAB                                        </td><td>O      </td><td style=\"text-align: right;\">          10</td><td style=\"text-align: right;\">        2</td><td>P       </td></tr>\n",
       "<tr><td style=\"text-align: right;\">     9</td><td>MC19A        </td><td>PROFESSIONAL COMMUNICATION SKILLS                           </td><td>A      </td><td style=\"text-align: right;\">           8</td><td style=\"text-align: right;\">        0</td><td>P       </td></tr>\n",
       "</tbody>\n",
       "</table>"
      ],
      "text/plain": [
       "'<table>\\n<thead>\\n<tr><th style=\"text-align: right;\">  S.No</th><th>SubjectCode  </th><th>SubjectName                                                 </th><th>Grade  </th><th style=\"text-align: right;\">  GradePoint</th><th style=\"text-align: right;\">  Credits</th><th>Result  </th></tr>\\n</thead>\\n<tbody>\\n<tr><td style=\"text-align: right;\">     1</td><td>MC110        </td><td>MATHEMATICS FOR COMPUTER SCIENCE                            </td><td>A      </td><td style=\"text-align: right;\">           8</td><td style=\"text-align: right;\">        3</td><td>P       </td></tr>\\n<tr><td style=\"text-align: right;\">     2</td><td>MC120        </td><td>COMPUTER ARCHITECTURE & ORGANIZATION                        </td><td>A+     </td><td style=\"text-align: right;\">           9</td><td style=\"text-align: right;\">        3</td><td>P       </td></tr>\\n<tr><td style=\"text-align: right;\">     3</td><td>MC130        </td><td>OBJECT ORIENTED PROGRAMMING THROUGH C++                     </td><td>A+     </td><td style=\"text-align: right;\">           9</td><td style=\"text-align: right;\">        3</td><td>P       </td></tr>\\n<tr><td style=\"text-align: right;\">     4</td><td>MC140        </td><td>OPERATING SYSTEMS                                           </td><td>A+     </td><td style=\"text-align: right;\">           9</td><td style=\"text-align: right;\">        3</td><td>P       </td></tr>\\n<tr><td style=\"text-align: right;\">     5</td><td>MC150        </td><td>DATABASE SYSTEMS                                            </td><td>A      </td><td style=\"text-align: right;\">           8</td><td style=\"text-align: right;\">        3</td><td>P       </td></tr>\\n<tr><td style=\"text-align: right;\">     6</td><td>MC160        </td><td>COMPUTER ARCHITECTURE & ORGANIZATION & OPERATING SYSTEMS LAB</td><td>O      </td><td style=\"text-align: right;\">          10</td><td style=\"text-align: right;\">        2</td><td>P       </td></tr>\\n<tr><td style=\"text-align: right;\">     7</td><td>MC170        </td><td>OBJECT ORIENTED PROGRAMMING THROUGH C++ LAB                 </td><td>O      </td><td style=\"text-align: right;\">          10</td><td style=\"text-align: right;\">        2</td><td>P       </td></tr>\\n<tr><td style=\"text-align: right;\">     8</td><td>MC180        </td><td>DATABASE SYSTEMS LAB                                        </td><td>O      </td><td style=\"text-align: right;\">          10</td><td style=\"text-align: right;\">        2</td><td>P       </td></tr>\\n<tr><td style=\"text-align: right;\">     9</td><td>MC19A        </td><td>PROFESSIONAL COMMUNICATION SKILLS                           </td><td>A      </td><td style=\"text-align: right;\">           8</td><td style=\"text-align: right;\">        0</td><td>P       </td></tr>\\n</tbody>\\n</table>'"
      ]
     },
     "metadata": {},
     "output_type": "display_data"
    }
   ],
   "source": [
    "display(tabulate(Grade_Table(roll),showindex=False,headers =columns,tablefmt=tabulate_formats[-2]))"
   ]
  },
  {
   "cell_type": "code",
   "execution_count": 759,
   "id": "6cb96e72",
   "metadata": {
    "ExecuteTime": {
     "end_time": "2022-05-17T14:29:37.423196Z",
     "start_time": "2022-05-17T14:29:37.410234Z"
    }
   },
   "outputs": [],
   "source": [
    "def Check_Result(roll):\n",
    "    if roll=='05':\n",
    "        display(HTML(\"<div style='position: absolute;top: 200px; right: 80px; width: 200px; text-align:right;'><img width=80,height=70 src='Aakash_New_PassportPhoto.jpg'></div>\"))\n",
    "    roll = '21031F00'+roll\n",
    "    l= [400,505,400,465,475,400,170,170,170]\n",
    "    t =[55,88,95,115,140,185,230,250,272]\n",
    "    h = ['h3','h7','h4','h4','h6','I','I','I','I']\n",
    "    s = [18,13,16,16,14,17,14,14,14]\n",
    "    c = ['#f7118b','#0a21a8','#0a21a8','#0a21a8','Red','Black','Black','Black','Black']\n",
    "    display(HTML(\"<div style='position: absolute;top: 80px; left: 180px; width: 200px; text-align:left;'><img width=130,height=50 src='Jntuh logo.png'></div>\"))\n",
    "    for i,j,k,m,n,o in zip(range(len(All['21031F0005'][:9])),range(len(t)),range(len(l)),range(len(h)),range(len(s)),range(len(c))):\n",
    "        display(HTML(\"<div style='position: absolute;top: {vl}px; left: {lf}px; width: 500px; text-align:left;'><{hd} style='font-family:Arial;color:{cr};font-size:{st}px;'>{Tx}</{hd}></div>\".format(Tx = All[roll][:9][i],vl=t[j],lf=l[k],hd=h[m],st=s[n],cr=c[o])))    \n",
    "    print('\\n'*12)\n",
    "    display(tabulate(Grade_Table(roll),showindex=False,headers =columns,tablefmt=tabulate_formats[-2]))\n",
    "    print()\n",
    "    print(' '*50,'SGPA : ',SGPA(roll))"
   ]
  },
  {
   "cell_type": "code",
   "execution_count": 761,
   "id": "0580483b",
   "metadata": {
    "ExecuteTime": {
     "end_time": "2022-05-17T15:20:40.983557Z",
     "start_time": "2022-05-17T15:20:40.937644Z"
    }
   },
   "outputs": [
    {
     "data": {
      "text/html": [
       "<div style='position: absolute;top: 80px; left: 180px; width: 200px; text-align:left;'><img width=130,height=50 src='Jntuh logo.png'></div>"
      ],
      "text/plain": [
       "<IPython.core.display.HTML object>"
      ]
     },
     "metadata": {},
     "output_type": "display_data"
    },
    {
     "data": {
      "text/html": [
       "<div style='position: absolute;top: 55px; left: 400px; width: 500px; text-align:left;'><h3 style='font-family:Arial;color:#f7118b;font-size:18px;'>SCHOOL OF INFORMATION TECHNOLOGY</h3></div>"
      ],
      "text/plain": [
       "<IPython.core.display.HTML object>"
      ]
     },
     "metadata": {},
     "output_type": "display_data"
    },
    {
     "data": {
      "text/html": [
       "<div style='position: absolute;top: 88px; left: 505px; width: 500px; text-align:left;'><h7 style='font-family:Arial;color:#0a21a8;font-size:13px;'>(Constituent Unit of JNTUH)</h7></div>"
      ],
      "text/plain": [
       "<IPython.core.display.HTML object>"
      ]
     },
     "metadata": {},
     "output_type": "display_data"
    },
    {
     "data": {
      "text/html": [
       "<div style='position: absolute;top: 95px; left: 400px; width: 500px; text-align:left;'><h4 style='font-family:Arial;color:#0a21a8;font-size:16px;'>Jawaharlal Nehru Technological University Hyderabad</h4></div>"
      ],
      "text/plain": [
       "<IPython.core.display.HTML object>"
      ]
     },
     "metadata": {},
     "output_type": "display_data"
    },
    {
     "data": {
      "text/html": [
       "<div style='position: absolute;top: 115px; left: 465px; width: 500px; text-align:left;'><h4 style='font-family:Arial;color:#0a21a8;font-size:16px;'>Kukatpally - 500 085, Telangana (India).</h4></div>"
      ],
      "text/plain": [
       "<IPython.core.display.HTML object>"
      ]
     },
     "metadata": {},
     "output_type": "display_data"
    },
    {
     "data": {
      "text/html": [
       "<div style='position: absolute;top: 140px; left: 475px; width: 500px; text-align:left;'><h6 style='font-family:Arial;color:Red;font-size:14px;'>(Accredited by NAAC with 'A' Grade)</h6></div>"
      ],
      "text/plain": [
       "<IPython.core.display.HTML object>"
      ]
     },
     "metadata": {},
     "output_type": "display_data"
    },
    {
     "data": {
      "text/html": [
       "<div style='position: absolute;top: 185px; left: 400px; width: 500px; text-align:left;'><I style='font-family:Arial;color:Black;font-size:17px;'>M.C.A. I Year I Semester (R20) (Reg) - April, 2022</I></div>"
      ],
      "text/plain": [
       "<IPython.core.display.HTML object>"
      ]
     },
     "metadata": {},
     "output_type": "display_data"
    },
    {
     "data": {
      "text/html": [
       "<div style='position: absolute;top: 230px; left: 170px; width: 500px; text-align:left;'><I style='font-family:Arial;color:Black;font-size:14px;'>Roll No.: 21031F0018</I></div>"
      ],
      "text/plain": [
       "<IPython.core.display.HTML object>"
      ]
     },
     "metadata": {},
     "output_type": "display_data"
    },
    {
     "data": {
      "text/html": [
       "<div style='position: absolute;top: 250px; left: 170px; width: 500px; text-align:left;'><I style='font-family:Arial;color:Black;font-size:14px;'>Name: DONTULA RAKESH</I></div>"
      ],
      "text/plain": [
       "<IPython.core.display.HTML object>"
      ]
     },
     "metadata": {},
     "output_type": "display_data"
    },
    {
     "data": {
      "text/html": [
       "<div style='position: absolute;top: 272px; left: 170px; width: 500px; text-align:left;'><I style='font-family:Arial;color:Black;font-size:14px;'>Course and Branch: M.C.A.</I></div>"
      ],
      "text/plain": [
       "<IPython.core.display.HTML object>"
      ]
     },
     "metadata": {},
     "output_type": "display_data"
    },
    {
     "name": "stdout",
     "output_type": "stream",
     "text": [
      "\n",
      "\n",
      "\n",
      "\n",
      "\n",
      "\n",
      "\n",
      "\n",
      "\n",
      "\n",
      "\n",
      "\n",
      "\n"
     ]
    },
    {
     "data": {
      "text/html": [
       "<table>\n",
       "<thead>\n",
       "<tr><th style=\"text-align: right;\">  S.No</th><th>SubjectCode  </th><th>SubjectName                                                 </th><th>Grade  </th><th style=\"text-align: right;\">  GradePoint</th><th style=\"text-align: right;\">  Credits</th><th>Result  </th></tr>\n",
       "</thead>\n",
       "<tbody>\n",
       "<tr><td style=\"text-align: right;\">     1</td><td>MC110        </td><td>MATHEMATICS FOR COMPUTER SCIENCE                            </td><td>A      </td><td style=\"text-align: right;\">           8</td><td style=\"text-align: right;\">        3</td><td>P       </td></tr>\n",
       "<tr><td style=\"text-align: right;\">     2</td><td>MC120        </td><td>COMPUTER ARCHITECTURE & ORGANIZATION                        </td><td>A      </td><td style=\"text-align: right;\">           8</td><td style=\"text-align: right;\">        3</td><td>P       </td></tr>\n",
       "<tr><td style=\"text-align: right;\">     3</td><td>MC130        </td><td>OBJECT ORIENTED PROGRAMMING THROUGH C++                     </td><td>A+     </td><td style=\"text-align: right;\">           9</td><td style=\"text-align: right;\">        3</td><td>P       </td></tr>\n",
       "<tr><td style=\"text-align: right;\">     4</td><td>MC140        </td><td>OPERATING SYSTEMS                                           </td><td>A      </td><td style=\"text-align: right;\">           8</td><td style=\"text-align: right;\">        3</td><td>P       </td></tr>\n",
       "<tr><td style=\"text-align: right;\">     5</td><td>MC150        </td><td>DATABASE SYSTEMS                                            </td><td>A+     </td><td style=\"text-align: right;\">           9</td><td style=\"text-align: right;\">        3</td><td>P       </td></tr>\n",
       "<tr><td style=\"text-align: right;\">     6</td><td>MC160        </td><td>COMPUTER ARCHITECTURE & ORGANIZATION & OPERATING SYSTEMS LAB</td><td>A+     </td><td style=\"text-align: right;\">           9</td><td style=\"text-align: right;\">        2</td><td>P       </td></tr>\n",
       "<tr><td style=\"text-align: right;\">     7</td><td>MC170        </td><td>OBJECT ORIENTED PROGRAMMING THROUGH C++ LAB                 </td><td>O      </td><td style=\"text-align: right;\">          10</td><td style=\"text-align: right;\">        2</td><td>P       </td></tr>\n",
       "<tr><td style=\"text-align: right;\">     8</td><td>MC180        </td><td>DATABASE SYSTEMS LAB                                        </td><td>A+     </td><td style=\"text-align: right;\">           9</td><td style=\"text-align: right;\">        2</td><td>P       </td></tr>\n",
       "<tr><td style=\"text-align: right;\">     9</td><td>MC19A        </td><td>PROFESSIONAL COMMUNICATION SKILLS                           </td><td>A      </td><td style=\"text-align: right;\">           8</td><td style=\"text-align: right;\">        0</td><td>P       </td></tr>\n",
       "</tbody>\n",
       "</table>"
      ],
      "text/plain": [
       "'<table>\\n<thead>\\n<tr><th style=\"text-align: right;\">  S.No</th><th>SubjectCode  </th><th>SubjectName                                                 </th><th>Grade  </th><th style=\"text-align: right;\">  GradePoint</th><th style=\"text-align: right;\">  Credits</th><th>Result  </th></tr>\\n</thead>\\n<tbody>\\n<tr><td style=\"text-align: right;\">     1</td><td>MC110        </td><td>MATHEMATICS FOR COMPUTER SCIENCE                            </td><td>A      </td><td style=\"text-align: right;\">           8</td><td style=\"text-align: right;\">        3</td><td>P       </td></tr>\\n<tr><td style=\"text-align: right;\">     2</td><td>MC120        </td><td>COMPUTER ARCHITECTURE & ORGANIZATION                        </td><td>A      </td><td style=\"text-align: right;\">           8</td><td style=\"text-align: right;\">        3</td><td>P       </td></tr>\\n<tr><td style=\"text-align: right;\">     3</td><td>MC130        </td><td>OBJECT ORIENTED PROGRAMMING THROUGH C++                     </td><td>A+     </td><td style=\"text-align: right;\">           9</td><td style=\"text-align: right;\">        3</td><td>P       </td></tr>\\n<tr><td style=\"text-align: right;\">     4</td><td>MC140        </td><td>OPERATING SYSTEMS                                           </td><td>A      </td><td style=\"text-align: right;\">           8</td><td style=\"text-align: right;\">        3</td><td>P       </td></tr>\\n<tr><td style=\"text-align: right;\">     5</td><td>MC150        </td><td>DATABASE SYSTEMS                                            </td><td>A+     </td><td style=\"text-align: right;\">           9</td><td style=\"text-align: right;\">        3</td><td>P       </td></tr>\\n<tr><td style=\"text-align: right;\">     6</td><td>MC160        </td><td>COMPUTER ARCHITECTURE & ORGANIZATION & OPERATING SYSTEMS LAB</td><td>A+     </td><td style=\"text-align: right;\">           9</td><td style=\"text-align: right;\">        2</td><td>P       </td></tr>\\n<tr><td style=\"text-align: right;\">     7</td><td>MC170        </td><td>OBJECT ORIENTED PROGRAMMING THROUGH C++ LAB                 </td><td>O      </td><td style=\"text-align: right;\">          10</td><td style=\"text-align: right;\">        2</td><td>P       </td></tr>\\n<tr><td style=\"text-align: right;\">     8</td><td>MC180        </td><td>DATABASE SYSTEMS LAB                                        </td><td>A+     </td><td style=\"text-align: right;\">           9</td><td style=\"text-align: right;\">        2</td><td>P       </td></tr>\\n<tr><td style=\"text-align: right;\">     9</td><td>MC19A        </td><td>PROFESSIONAL COMMUNICATION SKILLS                           </td><td>A      </td><td style=\"text-align: right;\">           8</td><td style=\"text-align: right;\">        0</td><td>P       </td></tr>\\n</tbody>\\n</table>'"
      ]
     },
     "metadata": {},
     "output_type": "display_data"
    },
    {
     "name": "stdout",
     "output_type": "stream",
     "text": [
      "\n",
      "                                                   SGPA :  8.67\n"
     ]
    }
   ],
   "source": [
    "Check_Result('18')"
   ]
  },
  {
   "cell_type": "code",
   "execution_count": 763,
   "id": "3065727b",
   "metadata": {
    "ExecuteTime": {
     "end_time": "2022-05-17T15:32:37.986863Z",
     "start_time": "2022-05-17T15:32:37.967917Z"
    },
    "scrolled": true
   },
   "outputs": [],
   "source": [
    "# Ap = driver.find_element_by_xpath(\"//div[@id='resBlock']//table//tr[3]//img\").screenshot_as_png\n",
    "# Ap.click()\n",
    "# Ap.save_screenshot('Aakash.png')\n",
    "# Image.open('Aakash.png')"
   ]
  },
  {
   "cell_type": "code",
   "execution_count": null,
   "id": "f84d1af0",
   "metadata": {},
   "outputs": [],
   "source": []
  },
  {
   "cell_type": "code",
   "execution_count": null,
   "id": "e7713c42",
   "metadata": {},
   "outputs": [],
   "source": [
    "driver.save_screenshot"
   ]
  },
  {
   "cell_type": "code",
   "execution_count": 711,
   "id": "831a3191",
   "metadata": {
    "ExecuteTime": {
     "end_time": "2022-05-17T12:32:18.032223Z",
     "start_time": "2022-05-17T12:32:18.015273Z"
    }
   },
   "outputs": [],
   "source": [
    "# [SGPA(list(All.keys())[i]) for i in range(len(list(All.keys())))]\n",
    "# [All[list(All.keys())[i]][7][6:] for i in range(len(list(All.keys())))]\n",
    "# [list(All.keys())[i] for i in range(len(list(All.keys())))]\n",
    "# pd.DataFrame(columns=['RollNumber','Name','SGPA'])"
   ]
  },
  {
   "cell_type": "code",
   "execution_count": 630,
   "id": "eee83d7f",
   "metadata": {
    "ExecuteTime": {
     "end_time": "2022-05-17T11:55:56.527845Z",
     "start_time": "2022-05-17T11:55:56.507898Z"
    }
   },
   "outputs": [],
   "source": [
    "# Grade_Table('21031F0005')\n",
    "# roll = input(\"Enter RollNumber : \")\n",
    "# roll = '21031F0005'\n",
    "# display(tabulate(Grade_Table(roll),showindex=False,headers =Grade_Table(roll).columns,tablefmt=tabulate_formats[-2]))"
   ]
  },
  {
   "cell_type": "code",
   "execution_count": 631,
   "id": "0edda007",
   "metadata": {
    "ExecuteTime": {
     "end_time": "2022-05-17T11:56:00.013180Z",
     "start_time": "2022-05-17T11:55:59.998220Z"
    }
   },
   "outputs": [],
   "source": [
    "# from tabulate import tabulate_formats\n",
    "# tabulate_formats[-2]\n",
    "# x"
   ]
  },
  {
   "cell_type": "code",
   "execution_count": 580,
   "id": "1fb7707e",
   "metadata": {
    "ExecuteTime": {
     "end_time": "2022-05-17T11:26:53.528896Z",
     "start_time": "2022-05-17T11:26:53.517895Z"
    }
   },
   "outputs": [],
   "source": [
    "# l= [400,505,400,465,475,400,170,170,170]\n",
    "# t =[55,88,95,115,140,185,230,250,272]\n",
    "# h = ['h3','h7','h4','h4','h6','I','I','I','I']\n",
    "# s = [18,13,16,16,14,17,14,14,14]\n",
    "# c = ['#f7118b','#0a21a8','#0a21a8','#0a21a8','Red','Black','Black','Black','Black']\n",
    "# # c = ['deeppink','mediumblue','mediumblue','mediumblue','Red','Black','Black','Black','Black']\n",
    "# # t =[50, 80, 110, 140, 170, 200, 230, 260, 290]\n",
    "# # style=\"color:red;font-size:40px;\"\n",
    "# display(HTML(\"<div style='position: absolute;top: 80px; left: 180px; width: 500px; text-align:left;'><img width=130,height=50 src='Jntuh logo.png'></div>\"))\n",
    "# for i,j,k,m,n,o in zip(range(len(All['21031F0005'][:9])),range(len(t)),range(len(l)),range(len(h)),range(len(s)),range(len(c))):\n",
    "#     display(HTML(\"<div style='position: absolute;top: {vl}px; left: {lf}px; width: 500px; text-align:left;'><{hd} style='font-family:Arial;color:{cr};font-size:{st}px;'>{Tx}</{hd}></div>\".format(Tx = All['21031F0005'][:9][i],vl=t[j],lf=l[k],hd=h[m],st=s[n],cr=c[o])))    "
   ]
  },
  {
   "cell_type": "code",
   "execution_count": 581,
   "id": "28b1be89",
   "metadata": {
    "ExecuteTime": {
     "end_time": "2022-05-17T11:26:53.931721Z",
     "start_time": "2022-05-17T11:26:53.914764Z"
    }
   },
   "outputs": [],
   "source": [
    "# display(HTML(\"<div style='position: absolute;top: 40px; left: 400px; width: 500px; text-align:left;'><h8>{Tx}</h8></div>\".format(Tx = All['21031F0005'][:9][0])  ))"
   ]
  },
  {
   "cell_type": "code",
   "execution_count": 582,
   "id": "ed9cb206",
   "metadata": {
    "ExecuteTime": {
     "end_time": "2022-05-17T11:26:54.335653Z",
     "start_time": "2022-05-17T11:26:54.320661Z"
    }
   },
   "outputs": [],
   "source": [
    "# for i in range(len(h)):\n",
    "#     print(f\" <div style=position: absolute;top: {{vl}}px; left: {{lf}}px; width: 500px; text-align:left;><{h[i]}>{{Tx}}</{h[i]}></div>.format(Tx = All['21031F0005'][:9][i],vl=t[j],lf=l[k]),hd=h[m] \")"
   ]
  },
  {
   "cell_type": "code",
   "execution_count": null,
   "id": "4f9b96c0",
   "metadata": {
    "ExecuteTime": {
     "end_time": "2022-05-17T11:22:52.081841Z",
     "start_time": "2022-05-17T11:22:52.036001Z"
    }
   },
   "outputs": [],
   "source": []
  },
  {
   "cell_type": "code",
   "execution_count": 328,
   "id": "6d4eda57",
   "metadata": {
    "ExecuteTime": {
     "end_time": "2022-05-17T10:25:57.792601Z",
     "start_time": "2022-05-17T10:25:57.775660Z"
    }
   },
   "outputs": [
    {
     "data": {
      "text/plain": [
       "'h2'"
      ]
     },
     "execution_count": 328,
     "metadata": {},
     "output_type": "execute_result"
    }
   ],
   "source": [
    "h[0]"
   ]
  },
  {
   "cell_type": "code",
   "execution_count": 102,
   "id": "1c885cb3",
   "metadata": {
    "ExecuteTime": {
     "end_time": "2022-05-17T08:54:08.482838Z",
     "start_time": "2022-05-17T08:54:08.465902Z"
    }
   },
   "outputs": [
    {
     "data": {
      "text/plain": [
       "9"
      ]
     },
     "execution_count": 102,
     "metadata": {},
     "output_type": "execute_result"
    }
   ],
   "source": [
    "len(All['21031F0005'][:9])"
   ]
  },
  {
   "cell_type": "code",
   "execution_count": 108,
   "id": "c94fe638",
   "metadata": {
    "ExecuteTime": {
     "end_time": "2022-05-17T08:56:08.340555Z",
     "start_time": "2022-05-17T08:56:08.323601Z"
    }
   },
   "outputs": [
    {
     "name": "stdout",
     "output_type": "stream",
     "text": [
      "50\n",
      "80\n",
      "110\n",
      "140\n",
      "170\n",
      "200\n",
      "230\n",
      "260\n",
      "290\n"
     ]
    }
   ],
   "source": [
    "for i in range(50,300,30):\n",
    "    print(i)"
   ]
  },
  {
   "cell_type": "code",
   "execution_count": null,
   "id": "ccd06ad0",
   "metadata": {},
   "outputs": [],
   "source": []
  },
  {
   "cell_type": "code",
   "execution_count": 6,
   "id": "621a0ee7",
   "metadata": {
    "ExecuteTime": {
     "end_time": "2022-05-17T07:01:09.545932Z",
     "start_time": "2022-05-17T07:01:06.970763Z"
    }
   },
   "outputs": [
    {
     "name": "stdout",
     "output_type": "stream",
     "text": [
      "Enter Last Two Digits of Your Roll Number : 24\n",
      "     \n"
     ]
    },
    {
     "data": {
      "text/html": [
       "<div style='position: absolute;top: 80px; left: 180px; width: 500px; text-align:left;'><img width=140,height=90 src='Jntuh logo.png'></div>"
      ],
      "text/plain": [
       "<IPython.core.display.HTML object>"
      ]
     },
     "metadata": {},
     "output_type": "display_data"
    },
    {
     "name": "stdout",
     "output_type": "stream",
     "text": [
      "                                        SCHOOL OF INFORMATION TECHNOLOGY\n",
      "                                           (Constituent Unit of JNTUH)\n",
      "                              Jawaharlal Nehru Technological University Hyderabad\n",
      "                                    Kukatpally - 500 085, Telangana (India).\n",
      "                                       (Accredited by NAAC with 'A' Grade)\n",
      "\n",
      "\n",
      "                               M.C.A. I Year I Semester (R20) (Reg) - April, 2022\n",
      "\n",
      "\n",
      "         Roll No.: 21031F0024\n",
      "         Name: MACHA SAIKRISHNA\n",
      "         Course and Branch: M.C.A.\n",
      "\n",
      "\n",
      "  S.No  SubjectCode    SubjectName                                                   Grade      GradePoint    Credits  Result\n",
      "------  -------------  ------------------------------------------------------------  -------  ------------  ---------  --------\n",
      "     1  MC110          MATHEMATICS FOR COMPUTER SCIENCE                              A+                  9          3  P\n",
      "     2  MC120          COMPUTER ARCHITECTURE & ORGANIZATION                          A                   8          3  P\n",
      "     3  MC130          OBJECT ORIENTED PROGRAMMING THROUGH C++                       A                   8          3  P\n",
      "     4  MC140          OPERATING SYSTEMS                                             B+                  7          3  P\n",
      "     5  MC150          DATABASE SYSTEMS                                              A                   8          3  P\n",
      "     6  MC160          COMPUTER ARCHITECTURE & ORGANIZATION & OPERATING SYSTEMS LAB  A+                  9          2  P\n",
      "     7  MC170          OBJECT ORIENTED PROGRAMMING THROUGH C++ LAB                   A+                  9          2  P\n",
      "     8  MC180          DATABASE SYSTEMS LAB                                          O                  10          2  P\n",
      "     9  MC19A          PROFESSIONAL COMMUNICATION SKILLS                             A                   8          0  P\n",
      "\n",
      "\n",
      "                                                   - - - - - - - - - -\n",
      "                                                       SGPA :  8.38\n",
      "                                                   - - - - - - - - - -\n"
     ]
    }
   ],
   "source": [
    "### Check Result\n",
    "rol = input(\"Enter Last Two Digits of Your Roll Number : \")\n",
    "roll = \"21031F00\"+rol\n",
    "columns = [\"S.No\",\"SubjectCode\",\"SubjectName\",\"Grade\",\"GradePoint\",\"Credits\",\"Result\"]\n",
    "sln = [i+1 for i in range(len(All[roll][10:-1]))]\n",
    "D = {}\n",
    "for i in columns:\n",
    "    D[i] = []\n",
    "D[columns[0]] = sln\n",
    "D[columns[1]] = [All[roll][10:-1][i].split()[0] for i in range(len(All[roll][10:-1]))]\n",
    "D[columns[2]] = [' '.join(All[roll][10:-1][i].split()[1:-4]) for i in range(len(All[roll][10:-1]))]\n",
    "D[columns[3]] = [All[roll][10:-1][i].split()[-4] for i in range(len(All[roll][10:-1]))]\n",
    "D[columns[4]] = [All[roll][10:-1][i].split()[-3] for i in range(len(All[roll][10:-1]))]\n",
    "D[columns[5]] = [All[roll][10:-1][i].split()[-2] for i in range(len(All[roll][10:-1]))]\n",
    "D[columns[6]] = [All[roll][10:-1][i].split()[-1] for i in range(len(All[roll][10:-1]))]\n",
    "# print(\"\\n\")\n",
    "print(\"     \")\n",
    "# display(Image.open(\"Jntuh_logo.png\"))\n",
    "display(HTML(\"<div style='position: absolute;top: 80px; left: 180px; width: 500px; text-align:left;'><img width=140,height=90 src='Jntuh logo.png'></div>\"))\n",
    "for i in range(len(All[roll][:9])):\n",
    "    if i==0:\n",
    "        print(\"                                       \",All[roll][:9][i])\n",
    "    elif i==1:  \n",
    "        print(\"                                          \",All[roll][:9][i])\n",
    "    elif i==2:\n",
    "        print(\"                             \",All[roll][:9][i])\n",
    "    elif i==3:\n",
    "        print(\"                                   \",All[roll][:9][i])\n",
    "    elif i==4:\n",
    "        print(\"                                      \",All[roll][:9][i])\n",
    "    elif i==5:\n",
    "        print('\\n')\n",
    "        print(\"                              \",All[roll][:9][i])\n",
    "        print('\\n')\n",
    "    else:\n",
    "        print(\"        \",All[roll][:9][i])\n",
    "# mul = []\n",
    "# cred = []\n",
    "# for i in range(len(pd.DataFrame(D))):\n",
    "#     mul.append(int(list(pd.DataFrame(D)[\"Grade Point\"])[i]) * int(list(pd.DataFrame(D)[\"Credits\"] )[i]))\n",
    "#     cred.append(int(list(pd.DataFrame(D)[\"Credits\"] )[i]))\n",
    "# display(pd.DataFrame(D))\n",
    "print(\"\\n\")\n",
    "print(tabulate(pd.DataFrame(D),showindex=False,headers =pd.DataFrame(D).columns,tablefmt='Simple'))\n",
    "# print(\"                                              SGPA : \",sum(mul)/sum(cred))\n",
    "print(\"\\n\")\n",
    "print('                                                   - - - - - - - - - -')\n",
    "print(\"                                                       SGPA : \",round(sum\n",
    "      (\n",
    "          pd.DataFrame(D)[columns[4]].astype('int64') * pd.DataFrame(D)[columns[5]].astype('int64')\n",
    "      )\n",
    "      /\n",
    "      sum\n",
    "      (\n",
    "          pd.DataFrame(D)[columns[5]].astype('int64')\n",
    "       )\n",
    "    ,2)\n",
    "     )\n",
    "print('                                                   - - - - - - - - - -')\n",
    "if rol=='05':\n",
    "    display(HTML(\"<div style='position: absolute;top: 200px; right: 80px; width: 200px; text-align:right;'><img width=80,height=70 src='Aakash_New_PassportPhoto.jpg'></div>\"))\n",
    "#     display(HTML(\"<div style='position: absolute;top: 200px; right: 120px; width: 200px; text-align:right;'><img width=80,height=70 src='Aakash_New_PassportPhoto.jpg'></div>\"))"
   ]
  },
  {
   "cell_type": "code",
   "execution_count": 154,
   "id": "abd13204",
   "metadata": {
    "ExecuteTime": {
     "end_time": "2022-05-16T14:01:19.509915Z",
     "start_time": "2022-05-16T14:01:19.498944Z"
    }
   },
   "outputs": [],
   "source": [
    "# print(tabulate(pd.DataFrame(D),showindex=False,headers =pd.DataFrame(D).columns,tablefmt='Simple'))"
   ]
  },
  {
   "cell_type": "code",
   "execution_count": 173,
   "id": "6b6a2caa",
   "metadata": {
    "ExecuteTime": {
     "end_time": "2022-05-16T14:10:52.755882Z",
     "start_time": "2022-05-16T14:10:52.734937Z"
    }
   },
   "outputs": [
    {
     "data": {
      "text/plain": [
       "['SCHOOL', 'OF', 'INFORMATION']"
      ]
     },
     "execution_count": 173,
     "metadata": {},
     "output_type": "execute_result"
    }
   ],
   "source": [
    "# All['21031F0005'][0].split()[:-1]"
   ]
  },
  {
   "cell_type": "code",
   "execution_count": 84,
   "id": "07396584",
   "metadata": {
    "ExecuteTime": {
     "end_time": "2022-05-17T07:48:45.670426Z",
     "start_time": "2022-05-17T07:48:44.381034Z"
    }
   },
   "outputs": [
    {
     "name": "stdout",
     "output_type": "stream",
     "text": [
      "Enter Last Two Digits of Your Roll Number : 05\n"
     ]
    },
    {
     "data": {
      "text/plain": [
       "9.0"
      ]
     },
     "execution_count": 84,
     "metadata": {},
     "output_type": "execute_result"
    }
   ],
   "source": [
    "SGPA(input(\"Enter Last Two Digits of Your Roll Number : \"))"
   ]
  },
  {
   "cell_type": "code",
   "execution_count": 85,
   "id": "ea01e004",
   "metadata": {
    "ExecuteTime": {
     "end_time": "2022-05-17T07:48:52.926277Z",
     "start_time": "2022-05-17T07:48:49.678575Z"
    }
   },
   "outputs": [
    {
     "name": "stdout",
     "output_type": "stream",
     "text": [
      "Enter Last Two Digits of Your Roll Number : 05\n"
     ]
    },
    {
     "data": {
      "text/html": [
       "<div>\n",
       "<style scoped>\n",
       "    .dataframe tbody tr th:only-of-type {\n",
       "        vertical-align: middle;\n",
       "    }\n",
       "\n",
       "    .dataframe tbody tr th {\n",
       "        vertical-align: top;\n",
       "    }\n",
       "\n",
       "    .dataframe thead th {\n",
       "        text-align: right;\n",
       "    }\n",
       "</style>\n",
       "<table border=\"1\" class=\"dataframe\">\n",
       "  <thead>\n",
       "    <tr style=\"text-align: right;\">\n",
       "      <th></th>\n",
       "      <th>S.No</th>\n",
       "      <th>SubjectCode</th>\n",
       "      <th>SubjectName</th>\n",
       "      <th>Grade</th>\n",
       "      <th>GradePoint</th>\n",
       "      <th>Credits</th>\n",
       "      <th>Result</th>\n",
       "    </tr>\n",
       "  </thead>\n",
       "  <tbody>\n",
       "    <tr>\n",
       "      <th>0</th>\n",
       "      <td>1</td>\n",
       "      <td>MC110</td>\n",
       "      <td>MATHEMATICS FOR COMPUTER SCIENCE</td>\n",
       "      <td>A</td>\n",
       "      <td>8</td>\n",
       "      <td>3</td>\n",
       "      <td>P</td>\n",
       "    </tr>\n",
       "    <tr>\n",
       "      <th>1</th>\n",
       "      <td>2</td>\n",
       "      <td>MC120</td>\n",
       "      <td>COMPUTER ARCHITECTURE &amp; ORGANIZATION</td>\n",
       "      <td>A+</td>\n",
       "      <td>9</td>\n",
       "      <td>3</td>\n",
       "      <td>P</td>\n",
       "    </tr>\n",
       "    <tr>\n",
       "      <th>2</th>\n",
       "      <td>3</td>\n",
       "      <td>MC130</td>\n",
       "      <td>OBJECT ORIENTED PROGRAMMING THROUGH C++</td>\n",
       "      <td>A+</td>\n",
       "      <td>9</td>\n",
       "      <td>3</td>\n",
       "      <td>P</td>\n",
       "    </tr>\n",
       "    <tr>\n",
       "      <th>3</th>\n",
       "      <td>4</td>\n",
       "      <td>MC140</td>\n",
       "      <td>OPERATING SYSTEMS</td>\n",
       "      <td>A+</td>\n",
       "      <td>9</td>\n",
       "      <td>3</td>\n",
       "      <td>P</td>\n",
       "    </tr>\n",
       "    <tr>\n",
       "      <th>4</th>\n",
       "      <td>5</td>\n",
       "      <td>MC150</td>\n",
       "      <td>DATABASE SYSTEMS</td>\n",
       "      <td>A</td>\n",
       "      <td>8</td>\n",
       "      <td>3</td>\n",
       "      <td>P</td>\n",
       "    </tr>\n",
       "    <tr>\n",
       "      <th>5</th>\n",
       "      <td>6</td>\n",
       "      <td>MC160</td>\n",
       "      <td>COMPUTER ARCHITECTURE &amp; ORGANIZATION &amp; OPERATI...</td>\n",
       "      <td>O</td>\n",
       "      <td>10</td>\n",
       "      <td>2</td>\n",
       "      <td>P</td>\n",
       "    </tr>\n",
       "    <tr>\n",
       "      <th>6</th>\n",
       "      <td>7</td>\n",
       "      <td>MC170</td>\n",
       "      <td>OBJECT ORIENTED PROGRAMMING THROUGH C++ LAB</td>\n",
       "      <td>O</td>\n",
       "      <td>10</td>\n",
       "      <td>2</td>\n",
       "      <td>P</td>\n",
       "    </tr>\n",
       "    <tr>\n",
       "      <th>7</th>\n",
       "      <td>8</td>\n",
       "      <td>MC180</td>\n",
       "      <td>DATABASE SYSTEMS LAB</td>\n",
       "      <td>O</td>\n",
       "      <td>10</td>\n",
       "      <td>2</td>\n",
       "      <td>P</td>\n",
       "    </tr>\n",
       "    <tr>\n",
       "      <th>8</th>\n",
       "      <td>9</td>\n",
       "      <td>MC19A</td>\n",
       "      <td>PROFESSIONAL COMMUNICATION SKILLS</td>\n",
       "      <td>A</td>\n",
       "      <td>8</td>\n",
       "      <td>0</td>\n",
       "      <td>P</td>\n",
       "    </tr>\n",
       "  </tbody>\n",
       "</table>\n",
       "</div>"
      ],
      "text/plain": [
       "   S.No SubjectCode                                        SubjectName Grade  \\\n",
       "0     1       MC110                   MATHEMATICS FOR COMPUTER SCIENCE     A   \n",
       "1     2       MC120               COMPUTER ARCHITECTURE & ORGANIZATION    A+   \n",
       "2     3       MC130            OBJECT ORIENTED PROGRAMMING THROUGH C++    A+   \n",
       "3     4       MC140                                  OPERATING SYSTEMS    A+   \n",
       "4     5       MC150                                   DATABASE SYSTEMS     A   \n",
       "5     6       MC160  COMPUTER ARCHITECTURE & ORGANIZATION & OPERATI...     O   \n",
       "6     7       MC170        OBJECT ORIENTED PROGRAMMING THROUGH C++ LAB     O   \n",
       "7     8       MC180                               DATABASE SYSTEMS LAB     O   \n",
       "8     9       MC19A                  PROFESSIONAL COMMUNICATION SKILLS     A   \n",
       "\n",
       "  GradePoint Credits Result  \n",
       "0          8       3      P  \n",
       "1          9       3      P  \n",
       "2          9       3      P  \n",
       "3          9       3      P  \n",
       "4          8       3      P  \n",
       "5         10       2      P  \n",
       "6         10       2      P  \n",
       "7         10       2      P  \n",
       "8          8       0      P  "
      ]
     },
     "execution_count": 85,
     "metadata": {},
     "output_type": "execute_result"
    }
   ],
   "source": [
    "Grade_Table(input(\"Enter Last Two Digits of Your Roll Number : \"))"
   ]
  },
  {
   "cell_type": "code",
   "execution_count": null,
   "id": "00812f17",
   "metadata": {},
   "outputs": [],
   "source": [
    "Datafr"
   ]
  },
  {
   "cell_type": "code",
   "execution_count": 99,
   "id": "0b997109",
   "metadata": {
    "ExecuteTime": {
     "end_time": "2022-05-17T07:58:21.900109Z",
     "start_time": "2022-05-17T07:58:21.892098Z"
    }
   },
   "outputs": [],
   "source": [
    "# print('RollNumber','               Name','                        SGPA')\n",
    "# print(' ')\n",
    "for i in range(len(list(All.keys()))):\n",
    "    print(list(All.keys())[i],'\\t',All[list(All.keys())[i]][7][6:],'\\t\\t',round(SGPA(list(All.keys())[i][-2:]),2))"
   ]
  },
  {
   "cell_type": "code",
   "execution_count": 87,
   "id": "01b6ad01",
   "metadata": {
    "ExecuteTime": {
     "end_time": "2022-05-17T07:50:12.303348Z",
     "start_time": "2022-05-17T07:50:12.288388Z"
    }
   },
   "outputs": [
    {
     "data": {
      "text/plain": [
       "'02'"
      ]
     },
     "execution_count": 87,
     "metadata": {},
     "output_type": "execute_result"
    }
   ],
   "source": [
    "list(All.keys())[0][-2:]"
   ]
  },
  {
   "cell_type": "code",
   "execution_count": 47,
   "id": "7b3657d7",
   "metadata": {
    "ExecuteTime": {
     "end_time": "2022-05-17T07:21:25.986582Z",
     "start_time": "2022-05-17T07:21:25.956651Z"
    }
   },
   "outputs": [
    {
     "data": {
      "text/plain": [
       "S.No            int64\n",
       "SubjectCode    object\n",
       "SubjectName    object\n",
       "Grade          object\n",
       "GradePoint      int64\n",
       "Credits         int64\n",
       "Result         object\n",
       "dtype: object"
      ]
     },
     "execution_count": 47,
     "metadata": {},
     "output_type": "execute_result"
    }
   ],
   "source": [
    "df = pd.DataFrame(D)\n",
    "df[['GradePoint', 'Credits']] = df[['GradePoint', 'Credits']].astype('int64')\n",
    "df.dtypes"
   ]
  },
  {
   "cell_type": "code",
   "execution_count": 50,
   "id": "8002ba37",
   "metadata": {
    "ExecuteTime": {
     "end_time": "2022-05-17T07:22:31.864107Z",
     "start_time": "2022-05-17T07:22:31.849143Z"
    }
   },
   "outputs": [
    {
     "data": {
      "text/plain": [
       "8.380952380952381"
      ]
     },
     "execution_count": 50,
     "metadata": {},
     "output_type": "execute_result"
    }
   ],
   "source": [
    "sum(df.GradePoint*df.Credits)/sum(df.Credits)"
   ]
  },
  {
   "cell_type": "code",
   "execution_count": 56,
   "id": "64465373",
   "metadata": {
    "ExecuteTime": {
     "end_time": "2022-05-17T07:25:08.939108Z",
     "start_time": "2022-05-17T07:25:08.922126Z"
    }
   },
   "outputs": [
    {
     "data": {
      "text/plain": [
       "['SCHOOL OF INFORMATION TECHNOLOGY',\n",
       " '(Constituent Unit of JNTUH)',\n",
       " 'Jawaharlal Nehru Technological University Hyderabad',\n",
       " 'Kukatpally - 500 085, Telangana (India).',\n",
       " \"(Accredited by NAAC with 'A' Grade)\",\n",
       " 'M.C.A. I Year I Semester (R20) (Reg) - April, 2022',\n",
       " 'Roll No.: 21031F0005',\n",
       " 'Name: AAKASH NADUPALLI',\n",
       " 'Course and Branch: M.C.A.',\n",
       " 'S.No. Subject Code Subject Name Grade Grade Point Credits Result',\n",
       " 'MC110 MATHEMATICS FOR COMPUTER SCIENCE A 8 3 P',\n",
       " 'MC120 COMPUTER ARCHITECTURE & ORGANIZATION A+ 9 3 P',\n",
       " 'MC130 OBJECT ORIENTED PROGRAMMING THROUGH C++ A+ 9 3 P',\n",
       " 'MC140 OPERATING SYSTEMS A+ 9 3 P',\n",
       " 'MC150 DATABASE SYSTEMS A 8 3 P',\n",
       " 'MC160 COMPUTER ARCHITECTURE & ORGANIZATION & OPERATING SYSTEMS LAB O 10 2 P',\n",
       " 'MC170 OBJECT ORIENTED PROGRAMMING THROUGH C++ LAB O 10 2 P',\n",
       " 'MC180 DATABASE SYSTEMS LAB O 10 2 P',\n",
       " 'MC19A PROFESSIONAL COMMUNICATION SKILLS A 8 0 P',\n",
       " 'Print']"
      ]
     },
     "execution_count": 56,
     "metadata": {},
     "output_type": "execute_result"
    }
   ],
   "source": [
    "All[list(All.keys())[2]]"
   ]
  },
  {
   "cell_type": "code",
   "execution_count": 57,
   "id": "08bb08f6",
   "metadata": {
    "ExecuteTime": {
     "end_time": "2022-05-17T07:27:14.365534Z",
     "start_time": "2022-05-17T07:27:14.353565Z"
    }
   },
   "outputs": [
    {
     "data": {
      "text/plain": [
       "{'S.No': [1, 2, 3, 4, 5, 6, 7, 8, 9],\n",
       " 'SubjectCode': ['MC110',\n",
       "  'MC120',\n",
       "  'MC130',\n",
       "  'MC140',\n",
       "  'MC150',\n",
       "  'MC160',\n",
       "  'MC170',\n",
       "  'MC180',\n",
       "  'MC19A'],\n",
       " 'SubjectName': ['MATHEMATICS FOR COMPUTER SCIENCE',\n",
       "  'COMPUTER ARCHITECTURE & ORGANIZATION',\n",
       "  'OBJECT ORIENTED PROGRAMMING THROUGH C++',\n",
       "  'OPERATING SYSTEMS',\n",
       "  'DATABASE SYSTEMS',\n",
       "  'COMPUTER ARCHITECTURE & ORGANIZATION & OPERATING SYSTEMS LAB',\n",
       "  'OBJECT ORIENTED PROGRAMMING THROUGH C++ LAB',\n",
       "  'DATABASE SYSTEMS LAB',\n",
       "  'PROFESSIONAL COMMUNICATION SKILLS'],\n",
       " 'Grade': ['A+', 'A', 'A', 'B+', 'A', 'A+', 'A+', 'O', 'A'],\n",
       " 'GradePoint': ['9', '8', '8', '7', '8', '9', '9', '10', '8'],\n",
       " 'Credits': ['3', '3', '3', '3', '3', '2', '2', '2', '0'],\n",
       " 'Result': ['P', 'P', 'P', 'P', 'P', 'P', 'P', 'P', 'P']}"
      ]
     },
     "execution_count": 57,
     "metadata": {},
     "output_type": "execute_result"
    }
   ],
   "source": [
    "D"
   ]
  },
  {
   "cell_type": "code",
   "execution_count": null,
   "id": "fa968315",
   "metadata": {},
   "outputs": [],
   "source": []
  }
 ],
 "metadata": {
  "kernelspec": {
   "display_name": "Python 3 (ipykernel)",
   "language": "python",
   "name": "python3"
  },
  "language_info": {
   "codemirror_mode": {
    "name": "ipython",
    "version": 3
   },
   "file_extension": ".py",
   "mimetype": "text/x-python",
   "name": "python",
   "nbconvert_exporter": "python",
   "pygments_lexer": "ipython3",
   "version": "3.9.7"
  },
  "nbTranslate": {
   "displayLangs": [
    "*"
   ],
   "hotkey": "alt-t",
   "langInMainMenu": true,
   "sourceLang": "en",
   "targetLang": "fr",
   "useGoogleTranslate": true
  },
  "toc-autonumbering": true,
  "toc-showcode": true,
  "toc-showtags": false,
  "varInspector": {
   "cols": {
    "lenName": 16,
    "lenType": 16,
    "lenVar": 40
   },
   "kernels_config": {
    "python": {
     "delete_cmd_postfix": "",
     "delete_cmd_prefix": "del ",
     "library": "var_list.py",
     "varRefreshCmd": "print(var_dic_list())"
    },
    "r": {
     "delete_cmd_postfix": ") ",
     "delete_cmd_prefix": "rm(",
     "library": "var_list.r",
     "varRefreshCmd": "cat(var_dic_list()) "
    }
   },
   "types_to_exclude": [
    "module",
    "function",
    "builtin_function_or_method",
    "instance",
    "_Feature"
   ],
   "window_display": false
  }
 },
 "nbformat": 4,
 "nbformat_minor": 5
}
