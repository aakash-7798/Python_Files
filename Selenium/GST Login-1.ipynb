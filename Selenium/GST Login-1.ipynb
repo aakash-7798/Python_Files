{
 "cells": [
  {
   "cell_type": "code",
   "execution_count": 1,
   "id": "77ac8a23",
   "metadata": {
    "ExecuteTime": {
     "end_time": "2022-05-21T07:28:58.611950Z",
     "start_time": "2022-05-21T07:28:57.416947Z"
    }
   },
   "outputs": [],
   "source": [
    "from selenium import webdriver\n",
    "from selenium.webdriver.common.keys import Keys\n",
    "from webdriver_manager.chrome import ChromeDriverManager\n",
    "from getpass import getpass\n",
    "from selenium.webdriver.chrome.options import Options\n",
    "import chromedriver_autoinstaller as chromedriver\n",
    "chromedriver.install()\n",
    "import time\n",
    "import calendar\n",
    "from selenium.common.exceptions import NoSuchElementException\n",
    "import os"
   ]
  },
  {
   "cell_type": "code",
   "execution_count": 2,
   "id": "288efe3d",
   "metadata": {
    "ExecuteTime": {
     "end_time": "2022-05-21T07:28:59.443818Z",
     "start_time": "2022-05-21T07:28:59.433845Z"
    }
   },
   "outputs": [],
   "source": [
    "options = Options()\n",
    "options.add_argument('start-maximized')\n",
    "options.add_argument('disable-infobars')\n",
    "# options.add_experimental_option(\"prefs\",{\"download.default_directory\":\"E:\\Selenium GST Downloads\"})"
   ]
  },
  {
   "cell_type": "code",
   "execution_count": 3,
   "id": "008964a4",
   "metadata": {
    "ExecuteTime": {
     "end_time": "2022-05-21T07:29:23.480695Z",
     "start_time": "2022-05-21T07:29:05.609420Z"
    }
   },
   "outputs": [
    {
     "name": "stdout",
     "output_type": "stream",
     "text": [
      "Enter Username : pagepvtltd_2017\n",
      "Enter Password : ········\n"
     ]
    }
   ],
   "source": [
    "# username = pagepvtltd_2017\n",
    "# password = 'Srinivas@369'\n",
    "username = input(\"Enter Username : \")\n",
    "password = getpass(\"Enter Password : \")"
   ]
  },
  {
   "cell_type": "code",
   "execution_count": 4,
   "id": "ce255fb9",
   "metadata": {
    "ExecuteTime": {
     "end_time": "2022-05-21T07:29:31.624361Z",
     "start_time": "2022-05-21T07:29:31.603414Z"
    }
   },
   "outputs": [],
   "source": [
    "newpath = r\"E:\\{}\".format(username) \n",
    "if not os.path.exists(newpath):\n",
    "    os.makedirs(newpath)\n",
    "options.add_experimental_option(\"prefs\",{\"download.default_directory\":newpath})"
   ]
  },
  {
   "cell_type": "code",
   "execution_count": 5,
   "id": "c2dd4b9f",
   "metadata": {
    "ExecuteTime": {
     "end_time": "2022-05-21T07:30:55.496784Z",
     "start_time": "2022-05-21T07:30:20.380550Z"
    },
    "scrolled": true
   },
   "outputs": [
    {
     "name": "stderr",
     "output_type": "stream",
     "text": [
      "C:\\Users\\aakas\\AppData\\Local\\Temp/ipykernel_8268/1833449968.py:1: DeprecationWarning: executable_path has been deprecated, please pass in a Service object\n",
      "  Driver = webdriver.Chrome(chrome_options=options,executable_path='C:\\\\Users\\\\aakas\\\\anaconda3\\\\lib\\\\site-packages\\\\chromedriver_autoinstaller\\\\101\\\\chromedriver.exe')\n",
      "C:\\Users\\aakas\\AppData\\Local\\Temp/ipykernel_8268/1833449968.py:1: DeprecationWarning: use options instead of chrome_options\n",
      "  Driver = webdriver.Chrome(chrome_options=options,executable_path='C:\\\\Users\\\\aakas\\\\anaconda3\\\\lib\\\\site-packages\\\\chromedriver_autoinstaller\\\\101\\\\chromedriver.exe')\n",
      "C:\\Users\\aakas\\AppData\\Local\\Temp/ipykernel_8268/1833449968.py:4: DeprecationWarning: find_element_by_* commands are deprecated. Please use find_element() instead\n",
      "  Driver.find_element_by_xpath(\"//a[contains(text(),' Login')]\").click()\n",
      "C:\\Users\\aakas\\AppData\\Local\\Temp/ipykernel_8268/1833449968.py:6: DeprecationWarning: find_element_by_* commands are deprecated. Please use find_element() instead\n",
      "  Driver.find_element_by_id(\"username\").send_keys(username)\n",
      "C:\\Users\\aakas\\AppData\\Local\\Temp/ipykernel_8268/1833449968.py:8: DeprecationWarning: find_element_by_* commands are deprecated. Please use find_element() instead\n",
      "  Driver.find_element_by_id(\"user_pass\").send_keys(password)\n",
      "C:\\Users\\aakas\\AppData\\Local\\Temp/ipykernel_8268/1833449968.py:10: DeprecationWarning: find_element_by_* commands are deprecated. Please use find_element() instead\n",
      "  Driver.find_element_by_xpath('//button[normalize-space()=\"Login\"]').click()\n",
      "C:\\Users\\aakas\\AppData\\Local\\Temp/ipykernel_8268/1833449968.py:12: DeprecationWarning: find_element_by_* commands are deprecated. Please use find_element() instead\n",
      "  Driver.find_element_by_xpath(\"//a[contains(text(),'Remind me later')]\").click()\n",
      "C:\\Users\\aakas\\AppData\\Local\\Temp/ipykernel_8268/1833449968.py:14: DeprecationWarning: find_element_by_* commands are deprecated. Please use find_element() instead\n",
      "  Driver.find_element_by_xpath(\"//span[text()='Continue to Dashboard']\").click()\n",
      "C:\\Users\\aakas\\AppData\\Local\\Temp/ipykernel_8268/1833449968.py:16: DeprecationWarning: find_element_by_* commands are deprecated. Please use find_element() instead\n",
      "  Driver.find_element_by_class_name(\"caret\").click()\n",
      "C:\\Users\\aakas\\AppData\\Local\\Temp/ipykernel_8268/1833449968.py:18: DeprecationWarning: find_element_by_* commands are deprecated. Please use find_element() instead\n",
      "  Driver.find_element_by_xpath(\"//a[contains(text(),'Returns')]\").click()\n",
      "C:\\Users\\aakas\\AppData\\Local\\Temp/ipykernel_8268/1833449968.py:20: DeprecationWarning: find_element_by_* commands are deprecated. Please use find_element() instead\n",
      "  Driver.find_element_by_xpath(\"//div[@class='col-xs-12']//a[contains(text(),'Returns Dashboard')]\").click()\n"
     ]
    }
   ],
   "source": [
    "Driver = webdriver.Chrome(chrome_options=options,executable_path='C:\\\\Users\\\\aakas\\\\anaconda3\\\\lib\\\\site-packages\\\\chromedriver_autoinstaller\\\\101\\\\chromedriver.exe') \n",
    "Driver.get('https://www.gst.gov.in/')\n",
    "time.sleep(1)\n",
    "Driver.find_element_by_xpath(\"//a[contains(text(),' Login')]\").click()\n",
    "time.sleep(2)\n",
    "Driver.find_element_by_id(\"username\").send_keys(username)\n",
    "time.sleep(1)\n",
    "Driver.find_element_by_id(\"user_pass\").send_keys(password)\n",
    "time.sleep(10)\n",
    "Driver.find_element_by_xpath('//button[normalize-space()=\"Login\"]').click()\n",
    "time.sleep(2)\n",
    "Driver.find_element_by_xpath(\"//a[contains(text(),'Remind me later')]\").click()\n",
    "time.sleep(2)\n",
    "Driver.find_element_by_xpath(\"//span[text()='Continue to Dashboard']\").click()\n",
    "time.sleep(4)\n",
    "Driver.find_element_by_class_name(\"caret\").click()\n",
    "time.sleep(2)\n",
    "Driver.find_element_by_xpath(\"//a[contains(text(),'Returns')]\").click()\n",
    "time.sleep(4)\n",
    "Driver.find_element_by_xpath(\"//div[@class='col-xs-12']//a[contains(text(),'Returns Dashboard')]\").click()"
   ]
  },
  {
   "cell_type": "code",
   "execution_count": 16,
   "id": "32f869d5",
   "metadata": {
    "ExecuteTime": {
     "end_time": "2022-05-19T18:18:26.906920Z",
     "start_time": "2022-05-19T18:16:12.144239Z"
    }
   },
   "outputs": [
    {
     "name": "stderr",
     "output_type": "stream",
     "text": [
      "C:\\Users\\aakas\\AppData\\Local\\Temp/ipykernel_10716/3182710883.py:1: DeprecationWarning: find_element_by_* commands are deprecated. Please use find_element() instead\n",
      "  Financial_Years = Driver.find_element_by_name('fin').text.split('\\n')\n",
      "C:\\Users\\aakas\\AppData\\Local\\Temp/ipykernel_10716/3182710883.py:5: DeprecationWarning: find_element_by_* commands are deprecated. Please use find_element() instead\n",
      "  Driver.find_element_by_xpath(f\"//select[@name='fin']/option[text()='{f[i]}']\").click()\n",
      "C:\\Users\\aakas\\AppData\\Local\\Temp/ipykernel_10716/3182710883.py:6: DeprecationWarning: find_element_by_* commands are deprecated. Please use find_element() instead\n",
      "  Months = Driver.find_element_by_name('mon').text.split('\\n')\n",
      "C:\\Users\\aakas\\AppData\\Local\\Temp/ipykernel_10716/3182710883.py:8: DeprecationWarning: find_element_by_* commands are deprecated. Please use find_element() instead\n",
      "  Driver.find_element_by_xpath(f\"//select[@name='mon']/option[text()='{m}']\").click()\n",
      "C:\\Users\\aakas\\AppData\\Local\\Temp/ipykernel_10716/3182710883.py:10: DeprecationWarning: find_element_by_* commands are deprecated. Please use find_element() instead\n",
      "  Driver.find_element_by_class_name(\"srchbtn\").click()\n",
      "C:\\Users\\aakas\\AppData\\Local\\Temp/ipykernel_10716/3182710883.py:13: DeprecationWarning: find_element_by_* commands are deprecated. Please use find_element() instead\n",
      "  Driver.find_element_by_xpath(\".//div[contains(@class,'col-sm-6 col-xs-6')]//button[normalize-space()='Download']\").click()\n",
      "C:\\Users\\aakas\\AppData\\Local\\Temp/ipykernel_10716/3182710883.py:17: DeprecationWarning: find_element_by_* commands are deprecated. Please use find_element() instead\n",
      "  Driver.find_element_by_xpath(f\"//select[@name='fin']/option[text()='{f[i]}']\").click()\n",
      "C:\\Users\\aakas\\AppData\\Local\\Temp/ipykernel_10716/3182710883.py:18: DeprecationWarning: find_element_by_* commands are deprecated. Please use find_element() instead\n",
      "  Quarters = Driver.find_element_by_name('quarter').text.split('\\n')\n",
      "C:\\Users\\aakas\\AppData\\Local\\Temp/ipykernel_10716/3182710883.py:20: DeprecationWarning: find_element_by_* commands are deprecated. Please use find_element() instead\n",
      "  Driver.find_element_by_xpath(f\"//select[@name='quarter']/option[text()='{q}']\").click()\n",
      "C:\\Users\\aakas\\AppData\\Local\\Temp/ipykernel_10716/3182710883.py:21: DeprecationWarning: find_element_by_* commands are deprecated. Please use find_element() instead\n",
      "  Months = Driver.find_element_by_name('mon').text.split('\\n')\n",
      "C:\\Users\\aakas\\AppData\\Local\\Temp/ipykernel_10716/3182710883.py:23: DeprecationWarning: find_element_by_* commands are deprecated. Please use find_element() instead\n",
      "  Driver.find_element_by_xpath(f\"//select[@name='mon']/option[text()='{m}']\").click()\n",
      "C:\\Users\\aakas\\AppData\\Local\\Temp/ipykernel_10716/3182710883.py:25: DeprecationWarning: find_element_by_* commands are deprecated. Please use find_element() instead\n",
      "  Driver.find_element_by_class_name(\"srchbtn\").click()\n",
      "C:\\Users\\aakas\\AppData\\Local\\Temp/ipykernel_10716/3182710883.py:28: DeprecationWarning: find_element_by_* commands are deprecated. Please use find_element() instead\n",
      "  Driver.find_element_by_xpath(\".//div[contains(@class,'col-sm-6 col-xs-6')]//button[normalize-space()='Download']\").click()\n"
     ]
    },
    {
     "name": "stdout",
     "output_type": "stream",
     "text": [
      "Not present....continuing script\n",
      "Not present....continuing script\n",
      "Not present....continuing script\n",
      "Not present....continuing script\n",
      "Not present....continuing script\n",
      "Not present....continuing script\n",
      "Not present....continuing script\n",
      "Not present....continuing script\n",
      "Not present....continuing script\n",
      "Not present....continuing script\n",
      "Not present....continuing script\n",
      "Not present....continuing script\n"
     ]
    }
   ],
   "source": [
    "Financial_Years = Driver.find_element_by_name('fin').text.split('\\n')\n",
    "f = Financial_Years[::-4]\n",
    "for i in range(len(f)):\n",
    "    if i<=2:\n",
    "        Driver.find_element_by_xpath(f\"//select[@name='fin']/option[text()='{f[i]}']\").click()\n",
    "        Months = Driver.find_element_by_name('mon').text.split('\\n')\n",
    "        for m in Months:\n",
    "            Driver.find_element_by_xpath(f\"//select[@name='mon']/option[text()='{m}']\").click()\n",
    "            time.sleep(0.5)\n",
    "            Driver.find_element_by_class_name(\"srchbtn\").click()\n",
    "            try:\n",
    "                time.sleep(0.5)\n",
    "                Driver.find_element_by_xpath(\".//div[contains(@class,'col-sm-6 col-xs-6')]//button[normalize-space()='Download']\").click()\n",
    "            except NoSuchElementException:\n",
    "                print(\" Not present....continuing script\")\n",
    "    else:\n",
    "        Driver.find_element_by_xpath(f\"//select[@name='fin']/option[text()='{f[i]}']\").click()\n",
    "        Quarters = Driver.find_element_by_name('quarter').text.split('\\n')\n",
    "        for q in Quarters:\n",
    "            Driver.find_element_by_xpath(f\"//select[@name='quarter']/option[text()='{q}']\").click()\n",
    "            Months = Driver.find_element_by_name('mon').text.split('\\n')\n",
    "            for m in Months:\n",
    "                Driver.find_element_by_xpath(f\"//select[@name='mon']/option[text()='{m}']\").click()\n",
    "                time.sleep(0.5)\n",
    "                Driver.find_element_by_class_name(\"srchbtn\").click()\n",
    "                try:\n",
    "                    time.sleep(0.5)\n",
    "                    Driver.find_element_by_xpath(\".//div[contains(@class,'col-sm-6 col-xs-6')]//button[normalize-space()='Download']\").click()\n",
    "                except NoSuchElementException:\n",
    "                    print(\"Not present....continuing script\")"
   ]
  },
  {
   "cell_type": "code",
   "execution_count": 17,
   "id": "b4815604",
   "metadata": {
    "ExecuteTime": {
     "end_time": "2022-05-19T18:23:45.052183Z",
     "start_time": "2022-05-19T18:23:40.460743Z"
    }
   },
   "outputs": [
    {
     "name": "stderr",
     "output_type": "stream",
     "text": [
      "C:\\Users\\aakas\\AppData\\Local\\Temp/ipykernel_10716/3131270279.py:1: DeprecationWarning: find_element_by_* commands are deprecated. Please use find_element() instead\n",
      "  Driver.find_element_by_class_name(\"dropdown-toggle\").click()\n",
      "C:\\Users\\aakas\\AppData\\Local\\Temp/ipykernel_10716/3131270279.py:3: DeprecationWarning: find_element_by_* commands are deprecated. Please use find_element() instead\n",
      "  Driver.find_element_by_xpath(\"//a[@href='//services.gst.gov.in/services/logout']\").click()\n"
     ]
    }
   ],
   "source": [
    "Driver.find_element_by_class_name(\"dropdown-toggle\").click()\n",
    "time.sleep(1)\n",
    "Driver.find_element_by_xpath(\"//a[@href='//services.gst.gov.in/services/logout']\").click()\n",
    "time.sleep(2)\n",
    "Driver.close()"
   ]
  },
  {
   "cell_type": "code",
   "execution_count": null,
   "id": "b5712653",
   "metadata": {},
   "outputs": [],
   "source": []
  }
 ],
 "metadata": {
  "hide_input": false,
  "kernelspec": {
   "display_name": "Python 3 (ipykernel)",
   "language": "python",
   "name": "python3"
  },
  "language_info": {
   "codemirror_mode": {
    "name": "ipython",
    "version": 3
   },
   "file_extension": ".py",
   "mimetype": "text/x-python",
   "name": "python",
   "nbconvert_exporter": "python",
   "pygments_lexer": "ipython3",
   "version": "3.9.7"
  },
  "nbTranslate": {
   "displayLangs": [
    "*"
   ],
   "hotkey": "alt-t",
   "langInMainMenu": true,
   "sourceLang": "en",
   "targetLang": "fr",
   "useGoogleTranslate": true
  },
  "varInspector": {
   "cols": {
    "lenName": 16,
    "lenType": 16,
    "lenVar": 40
   },
   "kernels_config": {
    "python": {
     "delete_cmd_postfix": "",
     "delete_cmd_prefix": "del ",
     "library": "var_list.py",
     "varRefreshCmd": "print(var_dic_list())"
    },
    "r": {
     "delete_cmd_postfix": ") ",
     "delete_cmd_prefix": "rm(",
     "library": "var_list.r",
     "varRefreshCmd": "cat(var_dic_list()) "
    }
   },
   "types_to_exclude": [
    "module",
    "function",
    "builtin_function_or_method",
    "instance",
    "_Feature"
   ],
   "window_display": false
  }
 },
 "nbformat": 4,
 "nbformat_minor": 5
}
