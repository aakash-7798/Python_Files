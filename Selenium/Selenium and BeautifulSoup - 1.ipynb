{
 "cells": [
  {
   "cell_type": "code",
   "execution_count": 97,
   "id": "d8223876",
   "metadata": {
    "ExecuteTime": {
     "end_time": "2022-05-28T11:39:50.969180Z",
     "start_time": "2022-05-28T11:39:50.253739Z"
    }
   },
   "outputs": [],
   "source": [
    "from bs4 import BeautifulSoup\n",
    "from selenium import webdriver\n",
    "from selenium.webdriver.common.keys import Keys\n",
    "from selenium.webdriver.chrome.options import Options\n",
    "from selenium.webdriver.support.ui import Select\n",
    "from getpass import getpass\n",
    "import time\n",
    "import urllib\n",
    "import urllib.request\n",
    "import requests\n",
    "from io import BytesIO\n",
    "import pandas as pd\n",
    "from PIL import Image\n",
    "import chromedriver_autoinstaller as chromedriver\n",
    "from webdriver_manager.chrome import ChromeDriverManager\n",
    "chromedriver.install()\n",
    "from selenium.webdriver.chrome.service import Service\n",
    "from selenium.webdriver.common.by import By\n",
    "import xlsxwriter\n",
    "import xlwings as xw\n",
    "import openpyxl\n",
    "from openpyxl import load_workbook,Workbook\n",
    "from openpyxl.styles.alignment import Alignment\n",
    "from openpyxl.styles import Alignment\n",
    "from openpyxl.utils.dataframe import dataframe_to_rows\n",
    "from xlwings import constants\n",
    "from openpyxl.drawing.image import Image\n",
    "import xlrd \n",
    "options = Options()\n",
    "options.add_argument(\"start-maximized\")\n",
    "from IPython.display import display, HTML"
   ]
  },
  {
   "cell_type": "code",
   "execution_count": 2,
   "id": "cf9f0200",
   "metadata": {
    "ExecuteTime": {
     "end_time": "2022-05-28T09:59:34.823703Z",
     "start_time": "2022-05-28T09:59:32.860222Z"
    }
   },
   "outputs": [
    {
     "name": "stderr",
     "output_type": "stream",
     "text": [
      "\n",
      "\n",
      "INFO:WDM:\n",
      "\n",
      "====== WebDriver manager ======\n",
      "INFO:WDM:====== WebDriver manager ======\n",
      "Current google-chrome version is 102.0.5005\n",
      "INFO:WDM:Current google-chrome version is 102.0.5005\n",
      "Get LATEST chromedriver version for 102.0.5005 google-chrome\n",
      "INFO:WDM:Get LATEST chromedriver version for 102.0.5005 google-chrome\n",
      "Driver [C:\\Users\\aakas\\.wdm\\drivers\\chromedriver\\win32\\102.0.5005.61\\chromedriver.exe] found in cache\n",
      "INFO:WDM:Driver [C:\\Users\\aakas\\.wdm\\drivers\\chromedriver\\win32\\102.0.5005.61\\chromedriver.exe] found in cache\n"
     ]
    }
   ],
   "source": [
    "driver = webdriver.Chrome(options=options,service=Service(ChromeDriverManager().install())) "
   ]
  },
  {
   "cell_type": "code",
   "execution_count": 3,
   "id": "dfabb884",
   "metadata": {
    "ExecuteTime": {
     "end_time": "2022-05-28T10:00:01.478135Z",
     "start_time": "2022-05-28T09:59:34.860604Z"
    }
   },
   "outputs": [
    {
     "name": "stdout",
     "output_type": "stream",
     "text": [
      " Enter Your Password : ········\n"
     ]
    }
   ],
   "source": [
    "url = \"http://jntuhsit.org/\"\n",
    "driver.get(url)\n",
    "driver.find_element(By.XPATH,\"//a[@href='http://14.139.82.140']\").click()\n",
    "driver.switch_to.window(driver.window_handles[1])\n",
    "time.sleep(2)\n",
    "driver.find_element(By.ID,'uid').send_keys('21031F0005')\n",
    "driver.find_element(By.ID,'pwd').send_keys(getpass(\" Enter Your Password : \"))\n",
    "driver.find_element(By.CSS_SELECTOR,\"input[type='submit']\").click()\n",
    "driver.find_element(By.XPATH,\"//div[@id='myNavBar']/ul/li[4]\").click()\n",
    "time.sleep(1)\n",
    "driver.find_element(By.XPATH,\"//a[@href='viewResults']\").click()\n",
    "time.sleep(1)\n",
    "driver.find_element(By.XPATH,\"//select[@id='ecode']/option[text()='M.C.A. I Year I Semester (R20) (Reg) - April, 2022']\").click()\n",
    "time.sleep(1)\n",
    "driver.find_element(By.XPATH,\".//button[contains(@class,'btn')]\").click()\n",
    "time.sleep(1)\n",
    "BS = BeautifulSoup(driver.page_source,'html.parser')"
   ]
  },
  {
   "cell_type": "code",
   "execution_count": 78,
   "id": "e15e4b3b",
   "metadata": {
    "ExecuteTime": {
     "end_time": "2022-05-28T11:23:55.976710Z",
     "start_time": "2022-05-28T11:23:55.896845Z"
    }
   },
   "outputs": [
    {
     "data": {
      "text/plain": [
       "'Roll No.: 21031F0005'"
      ]
     },
     "execution_count": 78,
     "metadata": {},
     "output_type": "execute_result"
    }
   ],
   "source": [
    "driver.find_element(By.XPATH,\"//*[@id='resBlock']/table/tbody/tr[3]\").text"
   ]
  },
  {
   "cell_type": "code",
   "execution_count": 4,
   "id": "32e4b1ff",
   "metadata": {
    "ExecuteTime": {
     "end_time": "2022-05-28T10:00:03.852492Z",
     "start_time": "2022-05-28T10:00:01.640701Z"
    }
   },
   "outputs": [
    {
     "name": "stdout",
     "output_type": "stream",
     "text": [
      "['SCHOOL OF INFORMATION TECHNOLOGY', '(Constituent Unit of JNTUH)', 'Jawaharlal Nehru Technological University Hyderabad', 'Kukatpally - 500 085, Telangana (India).', \"(Accredited by NAAC with 'A' Grade)\"]\n",
      "M.C.A. I Year I Semester (R20) (Reg) - April, 2022\n",
      "['Roll No.: 21031F0005', 'Name: AAKASH NADUPALLI', 'Course and Branch: M.C.A.']\n",
      "['S.No.', 'Subject Code', 'Subject Name', 'Grade', 'Grade Point', 'Credits', 'Result']\n",
      "[[1, 'MC110', 'MATHEMATICS FOR COMPUTER SCIENCE', 'A', '8', '3', 'P'], [2, 'MC120', 'COMPUTER ARCHITECTURE & ORGANIZATION', 'A+', '9', '3', 'P'], [3, 'MC130', 'OBJECT ORIENTED PROGRAMMING THROUGH C++', 'A+', '9', '3', 'P'], [4, 'MC140', 'OPERATING SYSTEMS', 'A+', '9', '3', 'P'], [5, 'MC150', 'DATABASE SYSTEMS', 'A', '8', '3', 'P'], [6, 'MC160', 'COMPUTER ARCHITECTURE & ORGANIZATION & OPERATING SYSTEMS LAB', 'O', '10', '2', 'P'], [7, 'MC170', 'OBJECT ORIENTED PROGRAMMING THROUGH C++ LAB', 'O', '10', '2', 'P'], [8, 'MC180', 'DATABASE SYSTEMS LAB', 'O', '10', '2', 'P'], [9, 'MC19A', 'PROFESSIONAL COMMUNICATION SKILLS', 'A', '8', '0', 'P']]\n"
     ]
    }
   ],
   "source": [
    "# driver.find_element(By.XPATH,f\"//*[@id='resBlock']/table/tbody/tr[6]/td/table/tbody\").text \n",
    "print(driver.find_element(By.XPATH,\"//*[@id='resBlock']/table/tbody/tr[1]\").text.split('\\n'))\n",
    "print(driver.find_element(By.XPATH,\"//*[@id='resBlock']/table/tbody/tr[2]\").text)\n",
    "print([driver.find_element(By.XPATH,f\"//*[@id='resBlock']/table/tbody/tr[{i}]\").text for i in range(3,6)])\n",
    "print([driver.find_element(By.XPATH,f\"//*[@id='resBlock']/table/tbody/tr[6]/td/table/thead/tr/th[{i}]\").text  for i in range(1,8)])\n",
    "print([[j] + [driver.find_element(By.XPATH,f\"//*[@id='resBlock']/table/tbody/tr[6]/td/table/tbody/tr[{j}]/td[{i}]\").text for i in range(2,8)] for j in range(1,10)])"
   ]
  },
  {
   "cell_type": "code",
   "execution_count": 46,
   "id": "67a044fe",
   "metadata": {
    "ExecuteTime": {
     "end_time": "2022-05-28T10:54:15.059748Z",
     "start_time": "2022-05-28T10:54:12.804202Z"
    }
   },
   "outputs": [
    {
     "data": {
      "text/plain": [
       "[[1, 'MC110', 'MATHEMATICS FOR COMPUTER SCIENCE', 'A', 8, 3, 'P'],\n",
       " [2, 'MC120', 'COMPUTER ARCHITECTURE & ORGANIZATION', 'A+', 8, 3, 'P'],\n",
       " [3, 'MC130', 'OBJECT ORIENTED PROGRAMMING THROUGH C++', 'A+', 8, 3, 'P'],\n",
       " [4, 'MC140', 'OPERATING SYSTEMS', 'A+', 8, 3, 'P'],\n",
       " [5, 'MC150', 'DATABASE SYSTEMS', 'A', 8, 3, 'P'],\n",
       " [6,\n",
       "  'MC160',\n",
       "  'COMPUTER ARCHITECTURE & ORGANIZATION & OPERATING SYSTEMS LAB',\n",
       "  'O',\n",
       "  8,\n",
       "  3,\n",
       "  'P'],\n",
       " [7, 'MC170', 'OBJECT ORIENTED PROGRAMMING THROUGH C++ LAB', 'O', 8, 3, 'P'],\n",
       " [8, 'MC180', 'DATABASE SYSTEMS LAB', 'O', 8, 3, 'P'],\n",
       " [9, 'MC19A', 'PROFESSIONAL COMMUNICATION SKILLS', 'A', 8, 3, 'P']]"
      ]
     },
     "execution_count": 46,
     "metadata": {},
     "output_type": "execute_result"
    }
   ],
   "source": [
    "[[j] + [ int(driver.find_element(By.XPATH,f\"//*[@id='resBlock']/table/tbody/tr[6]/td/table/tbody/tr[1]/td[{i}]\").text) if i==5 or i==6 else  driver.find_element(By.XPATH,f\"//*[@id='resBlock']/table/tbody/tr[6]/td/table/tbody/tr[{j}]/td[{i}]\").text for i in range(2,8) ] for j in range(1,10)]"
   ]
  },
  {
   "cell_type": "code",
   "execution_count": 45,
   "id": "01d63ec7",
   "metadata": {
    "ExecuteTime": {
     "end_time": "2022-05-28T10:53:57.257782Z",
     "start_time": "2022-05-28T10:53:57.199053Z"
    }
   },
   "outputs": [
    {
     "name": "stdout",
     "output_type": "stream",
     "text": [
      "<class 'int'>\n",
      "<class 'int'>\n"
     ]
    }
   ],
   "source": [
    "for i in range(2,8):\n",
    "    if i==5 or i==6:\n",
    "#         print(i)\n",
    "        print(type(int(driver.find_element(By.XPATH,f\"//*[@id='resBlock']/table/tbody/tr[6]/td/table/tbody/tr[1]/td[{i}]\").text)))\n",
    "#     else:\n",
    "#         print(driver.find_element(By.XPATH,f\"//*[@id='resBlock']/table/tbody/tr[6]/td/table/tbody/tr[1]/td[{i}]\").text)"
   ]
  },
  {
   "cell_type": "code",
   "execution_count": 47,
   "id": "6d578f1b",
   "metadata": {
    "ExecuteTime": {
     "end_time": "2022-05-28T10:54:58.833699Z",
     "start_time": "2022-05-28T10:54:56.234406Z"
    }
   },
   "outputs": [],
   "source": [
    "df = pd.DataFrame(data=[[j] + [ int(driver.find_element(By.XPATH,f\"//*[@id='resBlock']/table/tbody/tr[6]/td/table/tbody/tr[1]/td[{i}]\").text) if i==5 or i==6 else  driver.find_element(By.XPATH,f\"//*[@id='resBlock']/table/tbody/tr[6]/td/table/tbody/tr[{j}]/td[{i}]\").text for i in range(2,8) ] for j in range(1,10)],columns=[driver.find_element(By.XPATH,f\"//*[@id='resBlock']/table/tbody/tr[6]/td/table/thead/tr/th[{i}]\").text  for i in range(1,8)])"
   ]
  },
  {
   "cell_type": "code",
   "execution_count": 59,
   "id": "f9200ddf",
   "metadata": {
    "ExecuteTime": {
     "end_time": "2022-05-28T11:03:37.068836Z",
     "start_time": "2022-05-28T11:03:36.979292Z"
    },
    "collapsed": true
   },
   "outputs": [
    {
     "data": {
      "text/plain": [
       "['SCHOOL OF INFORMATION TECHNOLOGY',\n",
       " '(Constituent Unit of JNTUH)',\n",
       " 'Jawaharlal Nehru Technological University Hyderabad',\n",
       " 'Kukatpally - 500 085, Telangana (India).',\n",
       " \"(Accredited by NAAC with 'A' Grade)\",\n",
       " 'M.C.A. I Year I Semester (R20) (Reg) - April, 2022']"
      ]
     },
     "execution_count": 59,
     "metadata": {},
     "output_type": "execute_result"
    }
   ],
   "source": [
    "driver.find_element(By.XPATH,\"//*[@id='resBlock']/table/tbody/tr[1]\").text.split('\\n')+[driver.find_element(By.XPATH,\"//*[@id='resBlock']/table/tbody/tr[2]\").text]"
   ]
  },
  {
   "cell_type": "code",
   "execution_count": 61,
   "id": "e91d4a8e",
   "metadata": {
    "ExecuteTime": {
     "end_time": "2022-05-28T11:04:50.014660Z",
     "start_time": "2022-05-28T11:04:46.593099Z"
    }
   },
   "outputs": [],
   "source": [
    "df1  =  pd.DataFrame(data=driver.find_element(By.XPATH,\"//*[@id='resBlock']/table/tbody/tr[1]\").text.split('\\n')+[driver.find_element(By.XPATH,\"//*[@id='resBlock']/table/tbody/tr[2]\").text])\n",
    "df2  = pd.DataFrame(data=[driver.find_element(By.XPATH,f\"//*[@id='resBlock']/table/tbody/tr[{i}]\").text for i in range(3,6)])\n",
    "df3  = pd.DataFrame(data=[[j] + [ int(driver.find_element(By.XPATH,f\"//*[@id='resBlock']/table/tbody/tr[6]/td/table/tbody/tr[1]/td[{i}]\").text) if i==5 or i==6 else  driver.find_element(By.XPATH,f\"//*[@id='resBlock']/table/tbody/tr[6]/td/table/tbody/tr[{j}]/td[{i}]\").text for i in range(2,8) ] for j in range(1,10)],columns=[driver.find_element(By.XPATH,f\"//*[@id='resBlock']/table/tbody/tr[6]/td/table/thead/tr/th[{i}]\").text  for i in range(1,8)])"
   ]
  },
  {
   "cell_type": "code",
   "execution_count": 11,
   "id": "b408ab01",
   "metadata": {
    "ExecuteTime": {
     "end_time": "2022-05-28T10:03:32.500943Z",
     "start_time": "2022-05-28T10:03:32.472023Z"
    }
   },
   "outputs": [
    {
     "data": {
      "text/html": [
       "<div>\n",
       "<style scoped>\n",
       "    .dataframe tbody tr th:only-of-type {\n",
       "        vertical-align: middle;\n",
       "    }\n",
       "\n",
       "    .dataframe tbody tr th {\n",
       "        vertical-align: top;\n",
       "    }\n",
       "\n",
       "    .dataframe thead th {\n",
       "        text-align: right;\n",
       "    }\n",
       "</style>\n",
       "<table border=\"1\" class=\"dataframe\">\n",
       "  <thead>\n",
       "    <tr style=\"text-align: right;\">\n",
       "      <th></th>\n",
       "    </tr>\n",
       "  </thead>\n",
       "  <tbody>\n",
       "  </tbody>\n",
       "</table>\n",
       "</div>"
      ],
      "text/plain": [
       "Empty DataFrame\n",
       "Columns: []\n",
       "Index: []"
      ]
     },
     "execution_count": 11,
     "metadata": {},
     "output_type": "execute_result"
    }
   ],
   "source": [
    "pd.read_excel('MCA_New.xlsx')"
   ]
  },
  {
   "cell_type": "code",
   "execution_count": 98,
   "id": "e788158e",
   "metadata": {
    "ExecuteTime": {
     "end_time": "2022-05-28T11:41:37.707454Z",
     "start_time": "2022-05-28T11:41:37.523949Z"
    }
   },
   "outputs": [],
   "source": [
    "wb = load_workbook('MCA_New.xlsx')\n",
    "ws = wb.active\n",
    "df1_rows = dataframe_to_rows(df1, index=False,header=False)\n",
    "df2_rows = dataframe_to_rows(df2, index=False,header=False)\n",
    "df3_rows = dataframe_to_rows(df3, index=False)\n",
    "for r_idx, row in enumerate(df1_rows, 2):\n",
    "    for c_idx, value in enumerate(row, 6):\n",
    "        ws.cell(row=r_idx, column=c_idx, value=value)\n",
    "for r_idx, row in enumerate(df2_rows, 10):\n",
    "    for c_idx, value in enumerate(row, 6):\n",
    "        ws.cell(row=r_idx, column=c_idx, value=value)\n",
    "for r_idx, row in enumerate(df3_rows, 15):\n",
    "    for c_idx, value in enumerate(row, 4):\n",
    "        ws.cell(row=r_idx, column=c_idx, value=value)\n",
    "for (i,j) in zip(['E','F','H'],[14,65,12]):\n",
    "            ws.column_dimensions[i].width = j\n",
    "for p in [int(i) for i in range(1,11)]:\n",
    "        for j in [int(i) for i in range(1,31)]:\n",
    "            ws.cell(j,p).alignment = Alignment(horizontal='center')       \n",
    "img = Image('Jntuh Logo.png')\n",
    "img.height = 150\n",
    "img.width = 170\n",
    "ws.add_image(img,'D3')  \n",
    "img = Image(BytesIO(urllib.request.urlopen(BS.find('table',class_='borderless').find('img',alt='PHOTO')['src']).read()))\n",
    "img.height = 110\n",
    "img.width = 110\n",
    "ws.add_image(img,'G8')\n",
    "ws.column_dimensions['G'].width = 15\n",
    "ws.cell(15,7).alignment = Alignment(horizontal='center')\n",
    "wb.save('MCA_New.xlsx')"
   ]
  },
  {
   "cell_type": "code",
   "execution_count": 96,
   "id": "06d23b3b",
   "metadata": {
    "ExecuteTime": {
     "end_time": "2022-05-28T11:39:21.053713Z",
     "start_time": "2022-05-28T11:39:21.040389Z"
    }
   },
   "outputs": [
    {
     "data": {
      "text/plain": [
       "<openpyxl.drawing.image.Image at 0x1fc193dc340>"
      ]
     },
     "execution_count": 96,
     "metadata": {},
     "output_type": "execute_result"
    }
   ],
   "source": [
    "# BS.find('table',class_='borderless').find('img',alt='PHOTO')['src']\n",
    "from io import BytesIO\n",
    "# urllib.request.urlretrieve(BS.find('table',class_='borderless').find('img',alt='PHOTO')['src'])\n",
    "Image(BytesIO(urllib.request.urlopen(BS.find('table',class_='borderless').find('img',alt='PHOTO')['src']).read()))"
   ]
  },
  {
   "cell_type": "code",
   "execution_count": 49,
   "id": "371d74b4",
   "metadata": {
    "ExecuteTime": {
     "end_time": "2022-05-28T10:56:58.028000Z",
     "start_time": "2022-05-28T10:56:57.925053Z"
    }
   },
   "outputs": [],
   "source": [
    "# wb = load_workbook('MCA_New.xlsx')\n",
    "# ws = wb.active\n",
    "# rows = dataframe_to_rows(df, index=False)\n",
    "# for r_idx, row in enumerate(rows, 15):\n",
    "#     for c_idx, value in enumerate(row, 4):\n",
    "#         ws.cell(row=r_idx, column=c_idx, value=value)\n",
    "# for (i,j) in zip(['E','F','H'],[14,65,12]):\n",
    "#             ws.column_dimensions[i].width = j\n",
    "# for p in [int(i) for i in range(1,11)]:\n",
    "#         for j in [int(i) for i in range(1,31)]:\n",
    "#             ws.cell(j,p).alignment = Alignment(horizontal='center')        \n",
    "# wb.save('MCA_New.xlsx')"
   ]
  },
  {
   "cell_type": "code",
   "execution_count": 155,
   "id": "a2485e4f",
   "metadata": {
    "ExecuteTime": {
     "end_time": "2022-05-28T09:57:06.861271Z",
     "start_time": "2022-05-28T09:57:06.837311Z"
    }
   },
   "outputs": [],
   "source": [
    "# from openpyxl import Workbook\n",
    "# wb = Workbook()\n",
    "# ws = wb.active\n",
    "# ws.title = \"21031F0005\"\n",
    "# wb.save(\"MCA.xlsx\")\n",
    "# wb.close()"
   ]
  },
  {
   "cell_type": "code",
   "execution_count": 154,
   "id": "bb7bfce8",
   "metadata": {
    "ExecuteTime": {
     "end_time": "2022-05-28T09:30:39.212587Z",
     "start_time": "2022-05-28T09:30:38.112240Z"
    }
   },
   "outputs": [],
   "source": [
    "# wb = xw.Book(\"MCA.xlsx\")\n",
    "# ws = wb.sheets[\"21031F0005\"]\n",
    "# ws[\"D15\"].options(pd.DataFrame, header=1, index=False, expand='table').value = df\n",
    "# ws.autofit(axis=\"columns\")\n",
    "# xw.Range(\"D15:D24\").api.HorizontalAlignment = constants.HAlign.xlHAlignCenter"
   ]
  },
  {
   "cell_type": "code",
   "execution_count": null,
   "id": "6a2aab2b",
   "metadata": {
    "ExecuteTime": {
     "end_time": "2022-05-28T08:35:40.311683Z",
     "start_time": "2022-05-28T08:35:40.266638Z"
    }
   },
   "outputs": [],
   "source": []
  },
  {
   "cell_type": "code",
   "execution_count": 135,
   "id": "cd18979f",
   "metadata": {
    "ExecuteTime": {
     "end_time": "2022-05-28T08:21:45.502648Z",
     "start_time": "2022-05-28T08:21:45.460553Z"
    }
   },
   "outputs": [],
   "source": [
    "# from openpyxl.utils.dataframe import dataframe_to_rows\n",
    "# wb1 = load_workbook(\"MCA.xlsx\")\n",
    "# ws = wb.active\n",
    "# for r in dataframe_to_rows(df, index=False, header=True):\n",
    "#     ws.append(r)\n",
    "# wb1.save('MCA.xlsx')"
   ]
  },
  {
   "cell_type": "code",
   "execution_count": 138,
   "id": "b88b1490",
   "metadata": {
    "ExecuteTime": {
     "end_time": "2022-05-28T08:25:02.259867Z",
     "start_time": "2022-05-28T08:25:02.226957Z"
    }
   },
   "outputs": [],
   "source": []
  },
  {
   "cell_type": "code",
   "execution_count": 17,
   "id": "30c0ca7a",
   "metadata": {
    "ExecuteTime": {
     "end_time": "2022-05-27T17:59:26.222574Z",
     "start_time": "2022-05-27T17:59:26.084324Z"
    }
   },
   "outputs": [
    {
     "data": {
      "text/plain": [
       "('MCA_Results_Photos/21031F0005.jpg', <email.message.Message at 0x20f92534d00>)"
      ]
     },
     "execution_count": 17,
     "metadata": {},
     "output_type": "execute_result"
    }
   ],
   "source": [
    "BS = BeautifulSoup(driver.page_source,'html.parser')\n",
    "# usr = '21031F0005'\n",
    "# urllib.request.urlretrieve(BS.find('table',class_='borderless').find('img',alt='PHOTO')['src'], f\"MCA_Results_Photos/{usr}.jpg\")"
   ]
  },
  {
   "cell_type": "code",
   "execution_count": 17,
   "id": "ef58552c",
   "metadata": {
    "ExecuteTime": {
     "end_time": "2022-05-28T07:20:29.152350Z",
     "start_time": "2022-05-28T07:20:29.047205Z"
    }
   },
   "outputs": [],
   "source": [
    "BS = BeautifulSoup(driver.page_source,'html.parser')\n",
    "BS.find('table',class_='borderless').find_all('tr')[-1].clear()\n",
    "BS.find('table',class_='borderless').find('img',class_='text-center')['src'] = \"Jntuh Logo.png\""
   ]
  },
  {
   "cell_type": "code",
   "execution_count": 31,
   "id": "c8e50223",
   "metadata": {
    "ExecuteTime": {
     "end_time": "2022-05-28T07:24:12.138597Z",
     "start_time": "2022-05-28T07:24:12.116638Z"
    }
   },
   "outputs": [
    {
     "data": {
      "text/plain": [
       "<th>S.No.</th>"
      ]
     },
     "execution_count": 31,
     "metadata": {},
     "output_type": "execute_result"
    }
   ],
   "source": [
    "BS.find('table',class_='borderless').find_all('tr')[5].find_all('th')[0]"
   ]
  },
  {
   "cell_type": "code",
   "execution_count": 20,
   "id": "bd178b28",
   "metadata": {
    "ExecuteTime": {
     "end_time": "2022-05-28T07:21:27.573676Z",
     "start_time": "2022-05-28T07:21:27.555726Z"
    }
   },
   "outputs": [],
   "source": [
    "# for i in range(4):\n",
    "#     display(HTML(f\"<center>{BS.find('table',class_='borderless').find_all('tr')[0].find_all('span')[i]}</center>\"))\n",
    "# display(HTML(f\"<center>{BS.find('table',class_='borderless').find_all('tr')[1]}</center>\"))\n",
    "# display(HTML(f\"<div style='position: absolute;top: 217px; right: 30px; width: 300px; align='right'>{BS.find('table',class_='borderless').find_all('tr')[2].find_all('td')[2].find('img')}</div>\"))\n",
    "# for (a,b,c,d,e,f) in zip([230,230,252,252,275,275],[270,375,283,345,192,385],[2,2,3,3,4,4],(['th','td']*3),([\"<b>\",\"\"]*3),([\"</b>\",\"\"]*3)):\n",
    "#     display(HTML(f\"<div style='position: absolute;top: {a}px; left: {b}px; width: 300px; align='left'>{e}{BS.find('table',class_='borderless').find_all('tr')[c].find_all(d)[0]}{f}</div>\"))"
   ]
  },
  {
   "cell_type": "code",
   "execution_count": null,
   "id": "5f262f55",
   "metadata": {},
   "outputs": [],
   "source": []
  },
  {
   "cell_type": "code",
   "execution_count": 19,
   "id": "7b810d87",
   "metadata": {
    "ExecuteTime": {
     "end_time": "2022-05-28T07:21:08.515614Z",
     "start_time": "2022-05-28T07:21:08.486683Z"
    }
   },
   "outputs": [
    {
     "data": {
      "text/html": [
       "[<tr style=\"border-bottom: thick;\">\n",
       "<td style=\"text-align: center; vertical-align: middle; padding: 5px;\">\n",
       "<img class=\"text-center\" height=\"80px\" src=\"Jntuh Logo.png\" width=\"80px\"/>\n",
       "</td>\n",
       "<td colspan=\"2\" style=\"vertical-align: middle; text-align: center;\">\n",
       "<p style=\"font-weight: bolder;\">\n",
       "<span style=\"font-size: x-large; color: #f7118b;\"> \n",
       "\t\t\t\t\t\t\t\t\tSCHOOL OF INFORMATION TECHNOLOGY </span><br/>\n",
       "<span style=\"font-size: small; color: #0a21a8;\">\n",
       "\t\t\t\t\t\t\t\t\t(Constituent Unit of JNTUH)</span><br/>\n",
       "<span style=\"font-size: large; color: #0a21a8;\"> \n",
       "\t\t\t\t\t\t\t\t\tJawaharlal Nehru Technological University Hyderabad<br/> \n",
       "\t\t\t\t\t\t\t\t\tKukatpally - 500 085, Telangana (India).</span><br/>\n",
       "<span style=\"font-size: medium; color: red;\">\n",
       "\t\t\t\t\t\t\t\t\t(Accredited by NAAC with 'A' Grade)</span>\n",
       "</p>\n",
       "</td>\n",
       "</tr>, <tr>\n",
       "<td class=\"text-center\" colspan=\"4\"><h4>M.C.A. I Year I Semester (R20) (Reg) - April, 2022</h4></td><td>\n",
       "</td></tr>, <tr>\n",
       "<th>Roll No.:</th>\n",
       "<td>21031F0005</td><td>\n",
       "</td><td rowspan=\"3\" style=\"padding-bottom: 20px;\"><img alt=\"PHOTO\" height=\"80\" src=\"data:image/png;base64, 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\" width=\"70\"/>\n",
       "</td></tr>, <tr>\n",
       "<th>Name:</th>\n",
       "<td>AAKASH NADUPALLI</td><td>\n",
       "</td></tr>, <tr>\n",
       "<th style=\"padding-bottom: 20px;\">Course and Branch:</th>\n",
       "<td style=\"padding-bottom: 20px;\">M.C.A.</td><td>\n",
       "</td></tr>, <tr>\n",
       "<td colspan=\"4\">\n",
       "<table class=\"table table-striped\">\n",
       "<thead>\n",
       "<tr>\n",
       "<th>S.No.</th>\n",
       "<th>Subject Code</th>\n",
       "<th>Subject Name</th>\n",
       "<th>Grade</th>\n",
       "<th>Grade Point</th>\n",
       "<th>Credits</th>\n",
       "<th>Result</th>\n",
       "</tr>\n",
       "</thead>\n",
       "<tbody>\n",
       "<tr>\n",
       "<td class=\"resSno text-center\" title=\"Serial No.\"></td>\n",
       "<td>MC110</td>\n",
       "<td>MATHEMATICS FOR COMPUTER SCIENCE</td>\n",
       "<td class=\"text-center\">A</td>\n",
       "<td class=\"text-center\">8</td>\n",
       "<td class=\"text-center\">3</td>\n",
       "<td class=\"text-center\" style=\"color: green;\" title=\"Pass\">P</td>\n",
       "</tr>\n",
       "<tr>\n",
       "<td class=\"resSno text-center\" title=\"Serial No.\"></td>\n",
       "<td>MC120</td>\n",
       "<td>COMPUTER ARCHITECTURE &amp; ORGANIZATION</td>\n",
       "<td class=\"text-center\">A+</td>\n",
       "<td class=\"text-center\">9</td>\n",
       "<td class=\"text-center\">3</td>\n",
       "<td class=\"text-center\" style=\"color: green;\" title=\"Pass\">P</td>\n",
       "</tr>\n",
       "<tr>\n",
       "<td class=\"resSno text-center\" title=\"Serial No.\"></td>\n",
       "<td>MC130</td>\n",
       "<td>OBJECT ORIENTED PROGRAMMING THROUGH C++</td>\n",
       "<td class=\"text-center\">A+</td>\n",
       "<td class=\"text-center\">9</td>\n",
       "<td class=\"text-center\">3</td>\n",
       "<td class=\"text-center\" style=\"color: green;\" title=\"Pass\">P</td>\n",
       "</tr>\n",
       "<tr>\n",
       "<td class=\"resSno text-center\" title=\"Serial No.\"></td>\n",
       "<td>MC140</td>\n",
       "<td>OPERATING SYSTEMS</td>\n",
       "<td class=\"text-center\">A+</td>\n",
       "<td class=\"text-center\">9</td>\n",
       "<td class=\"text-center\">3</td>\n",
       "<td class=\"text-center\" style=\"color: green;\" title=\"Pass\">P</td>\n",
       "</tr>\n",
       "<tr>\n",
       "<td class=\"resSno text-center\" title=\"Serial No.\"></td>\n",
       "<td>MC150</td>\n",
       "<td>DATABASE SYSTEMS</td>\n",
       "<td class=\"text-center\">A</td>\n",
       "<td class=\"text-center\">8</td>\n",
       "<td class=\"text-center\">3</td>\n",
       "<td class=\"text-center\" style=\"color: green;\" title=\"Pass\">P</td>\n",
       "</tr>\n",
       "<tr>\n",
       "<td class=\"resSno text-center\" title=\"Serial No.\"></td>\n",
       "<td>MC160</td>\n",
       "<td>COMPUTER ARCHITECTURE &amp; ORGANIZATION &amp; OPERATING SYSTEMS LAB</td>\n",
       "<td class=\"text-center\">O</td>\n",
       "<td class=\"text-center\">10</td>\n",
       "<td class=\"text-center\">2</td>\n",
       "<td class=\"text-center\" style=\"color: green;\" title=\"Pass\">P</td>\n",
       "</tr>\n",
       "<tr>\n",
       "<td class=\"resSno text-center\" title=\"Serial No.\"></td>\n",
       "<td>MC170</td>\n",
       "<td>OBJECT ORIENTED PROGRAMMING THROUGH C++ LAB</td>\n",
       "<td class=\"text-center\">O</td>\n",
       "<td class=\"text-center\">10</td>\n",
       "<td class=\"text-center\">2</td>\n",
       "<td class=\"text-center\" style=\"color: green;\" title=\"Pass\">P</td>\n",
       "</tr>\n",
       "<tr>\n",
       "<td class=\"resSno text-center\" title=\"Serial No.\"></td>\n",
       "<td>MC180</td>\n",
       "<td>DATABASE SYSTEMS LAB</td>\n",
       "<td class=\"text-center\">O</td>\n",
       "<td class=\"text-center\">10</td>\n",
       "<td class=\"text-center\">2</td>\n",
       "<td class=\"text-center\" style=\"color: green;\" title=\"Pass\">P</td>\n",
       "</tr>\n",
       "<tr>\n",
       "<td class=\"resSno text-center\" title=\"Serial No.\"></td>\n",
       "<td>MC19A</td>\n",
       "<td>PROFESSIONAL COMMUNICATION SKILLS</td>\n",
       "<td class=\"text-center\">A</td>\n",
       "<td class=\"text-center\">8</td>\n",
       "<td class=\"text-center\">0</td>\n",
       "<td class=\"text-center\" style=\"color: green;\" title=\"Pass\">P</td>\n",
       "</tr>\n",
       "</tbody>\n",
       "</table>\n",
       "</td>\n",
       "</tr>, <tr>\n",
       "<th>S.No.</th>\n",
       "<th>Subject Code</th>\n",
       "<th>Subject Name</th>\n",
       "<th>Grade</th>\n",
       "<th>Grade Point</th>\n",
       "<th>Credits</th>\n",
       "<th>Result</th>\n",
       "</tr>, <tr>\n",
       "<td class=\"resSno text-center\" title=\"Serial No.\"></td>\n",
       "<td>MC110</td>\n",
       "<td>MATHEMATICS FOR COMPUTER SCIENCE</td>\n",
       "<td class=\"text-center\">A</td>\n",
       "<td class=\"text-center\">8</td>\n",
       "<td class=\"text-center\">3</td>\n",
       "<td class=\"text-center\" style=\"color: green;\" title=\"Pass\">P</td>\n",
       "</tr>, <tr>\n",
       "<td class=\"resSno text-center\" title=\"Serial No.\"></td>\n",
       "<td>MC120</td>\n",
       "<td>COMPUTER ARCHITECTURE &amp; ORGANIZATION</td>\n",
       "<td class=\"text-center\">A+</td>\n",
       "<td class=\"text-center\">9</td>\n",
       "<td class=\"text-center\">3</td>\n",
       "<td class=\"text-center\" style=\"color: green;\" title=\"Pass\">P</td>\n",
       "</tr>, <tr>\n",
       "<td class=\"resSno text-center\" title=\"Serial No.\"></td>\n",
       "<td>MC130</td>\n",
       "<td>OBJECT ORIENTED PROGRAMMING THROUGH C++</td>\n",
       "<td class=\"text-center\">A+</td>\n",
       "<td class=\"text-center\">9</td>\n",
       "<td class=\"text-center\">3</td>\n",
       "<td class=\"text-center\" style=\"color: green;\" title=\"Pass\">P</td>\n",
       "</tr>, <tr>\n",
       "<td class=\"resSno text-center\" title=\"Serial No.\"></td>\n",
       "<td>MC140</td>\n",
       "<td>OPERATING SYSTEMS</td>\n",
       "<td class=\"text-center\">A+</td>\n",
       "<td class=\"text-center\">9</td>\n",
       "<td class=\"text-center\">3</td>\n",
       "<td class=\"text-center\" style=\"color: green;\" title=\"Pass\">P</td>\n",
       "</tr>, <tr>\n",
       "<td class=\"resSno text-center\" title=\"Serial No.\"></td>\n",
       "<td>MC150</td>\n",
       "<td>DATABASE SYSTEMS</td>\n",
       "<td class=\"text-center\">A</td>\n",
       "<td class=\"text-center\">8</td>\n",
       "<td class=\"text-center\">3</td>\n",
       "<td class=\"text-center\" style=\"color: green;\" title=\"Pass\">P</td>\n",
       "</tr>, <tr>\n",
       "<td class=\"resSno text-center\" title=\"Serial No.\"></td>\n",
       "<td>MC160</td>\n",
       "<td>COMPUTER ARCHITECTURE &amp; ORGANIZATION &amp; OPERATING SYSTEMS LAB</td>\n",
       "<td class=\"text-center\">O</td>\n",
       "<td class=\"text-center\">10</td>\n",
       "<td class=\"text-center\">2</td>\n",
       "<td class=\"text-center\" style=\"color: green;\" title=\"Pass\">P</td>\n",
       "</tr>, <tr>\n",
       "<td class=\"resSno text-center\" title=\"Serial No.\"></td>\n",
       "<td>MC170</td>\n",
       "<td>OBJECT ORIENTED PROGRAMMING THROUGH C++ LAB</td>\n",
       "<td class=\"text-center\">O</td>\n",
       "<td class=\"text-center\">10</td>\n",
       "<td class=\"text-center\">2</td>\n",
       "<td class=\"text-center\" style=\"color: green;\" title=\"Pass\">P</td>\n",
       "</tr>, <tr>\n",
       "<td class=\"resSno text-center\" title=\"Serial No.\"></td>\n",
       "<td>MC180</td>\n",
       "<td>DATABASE SYSTEMS LAB</td>\n",
       "<td class=\"text-center\">O</td>\n",
       "<td class=\"text-center\">10</td>\n",
       "<td class=\"text-center\">2</td>\n",
       "<td class=\"text-center\" style=\"color: green;\" title=\"Pass\">P</td>\n",
       "</tr>, <tr>\n",
       "<td class=\"resSno text-center\" title=\"Serial No.\"></td>\n",
       "<td>MC19A</td>\n",
       "<td>PROFESSIONAL COMMUNICATION SKILLS</td>\n",
       "<td class=\"text-center\">A</td>\n",
       "<td class=\"text-center\">8</td>\n",
       "<td class=\"text-center\">0</td>\n",
       "<td class=\"text-center\" style=\"color: green;\" title=\"Pass\">P</td>\n",
       "</tr>, <tr></tr>]"
      ],
      "text/plain": [
       "<IPython.core.display.HTML object>"
      ]
     },
     "metadata": {},
     "output_type": "display_data"
    }
   ],
   "source": [
    "display(HTML(f\"{BS.find('table',class_='borderless').find_all('tr')}\"))"
   ]
  },
  {
   "cell_type": "code",
   "execution_count": null,
   "id": "f8f6ca7d",
   "metadata": {},
   "outputs": [],
   "source": []
  }
 ],
 "metadata": {
  "hide_input": false,
  "kernelspec": {
   "display_name": "Python 3 (ipykernel)",
   "language": "python",
   "name": "python3"
  },
  "language_info": {
   "codemirror_mode": {
    "name": "ipython",
    "version": 3
   },
   "file_extension": ".py",
   "mimetype": "text/x-python",
   "name": "python",
   "nbconvert_exporter": "python",
   "pygments_lexer": "ipython3",
   "version": "3.9.7"
  },
  "nbTranslate": {
   "displayLangs": [
    "*"
   ],
   "hotkey": "alt-t",
   "langInMainMenu": true,
   "sourceLang": "en",
   "targetLang": "fr",
   "useGoogleTranslate": true
  },
  "varInspector": {
   "cols": {
    "lenName": 16,
    "lenType": 16,
    "lenVar": 40
   },
   "kernels_config": {
    "python": {
     "delete_cmd_postfix": "",
     "delete_cmd_prefix": "del ",
     "library": "var_list.py",
     "varRefreshCmd": "print(var_dic_list())"
    },
    "r": {
     "delete_cmd_postfix": ") ",
     "delete_cmd_prefix": "rm(",
     "library": "var_list.r",
     "varRefreshCmd": "cat(var_dic_list()) "
    }
   },
   "types_to_exclude": [
    "module",
    "function",
    "builtin_function_or_method",
    "instance",
    "_Feature"
   ],
   "window_display": false
  }
 },
 "nbformat": 4,
 "nbformat_minor": 5
}
