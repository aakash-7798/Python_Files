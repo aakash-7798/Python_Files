{
 "cells": [
  {
   "cell_type": "code",
   "execution_count": 1,
   "id": "5222b90a",
   "metadata": {
    "ExecuteTime": {
     "end_time": "2022-05-17T09:01:39.212928Z",
     "start_time": "2022-05-17T09:01:36.013959Z"
    }
   },
   "outputs": [],
   "source": [
    "from selenium import webdriver\n",
    "from selenium.webdriver.common.keys import Keys\n",
    "from selenium.webdriver.chrome.options import Options\n",
    "from selenium.webdriver.support.ui import Select\n",
    "from getpass import getpass\n",
    "import time\n",
    "import pandas as pd\n",
    "from PIL import Image\n",
    "import chromedriver_autoinstaller as chromedriver\n",
    "chromedriver.install()\n",
    "options = Options()\n",
    "options.add_argument('window-size=1024x768')\n",
    "options.add_argument(\"start-maximized\")\n",
    "from IPython.display import display, HTML\n",
    "import pyautogui\n",
    "# https://stackoverflow.com/questions/62558855/selenium-how-to-take-screenshot-at-same-resolution-of-window-size"
   ]
  },
  {
   "cell_type": "code",
   "execution_count": 3,
   "id": "72616094",
   "metadata": {
    "ExecuteTime": {
     "end_time": "2022-05-17T15:32:24.307623Z",
     "start_time": "2022-05-17T15:31:43.521640Z"
    }
   },
   "outputs": [
    {
     "name": "stderr",
     "output_type": "stream",
     "text": [
      "C:\\Users\\aakas\\AppData\\Local\\Temp/ipykernel_16004/697728829.py:2: DeprecationWarning: executable_path has been deprecated, please pass in a Service object\n",
      "  driver = webdriver.Chrome(options=options,executable_path = \"C:\\\\Users\\\\aakas\\\\anaconda3\\\\lib\\\\site-packages\\\\chromedriver_autoinstaller\\\\101\\\\chromedriver.exe\")\n",
      "C:\\Users\\aakas\\AppData\\Local\\Temp/ipykernel_16004/697728829.py:4: DeprecationWarning: find_element_by_* commands are deprecated. Please use find_element() instead\n",
      "  driver.find_element_by_xpath(\"//a[@href='http://14.139.82.140']\").click()\n",
      "C:\\Users\\aakas\\AppData\\Local\\Temp/ipykernel_16004/697728829.py:7: DeprecationWarning: find_element_by_* commands are deprecated. Please use find_element() instead\n",
      "  driver.find_element_by_id('uid').send_keys('21031F0005')\n",
      "C:\\Users\\aakas\\AppData\\Local\\Temp/ipykernel_16004/697728829.py:8: DeprecationWarning: find_element_by_* commands are deprecated. Please use find_element() instead\n",
      "  driver.find_element_by_id('pwd').send_keys(getpass(\"Enter password : \"))\n"
     ]
    },
    {
     "name": "stdout",
     "output_type": "stream",
     "text": [
      "Enter password : ········\n"
     ]
    },
    {
     "name": "stderr",
     "output_type": "stream",
     "text": [
      "C:\\Users\\aakas\\AppData\\Local\\Temp/ipykernel_16004/697728829.py:9: DeprecationWarning: find_element_by_* commands are deprecated. Please use find_element() instead\n",
      "  driver.find_element_by_css_selector(\"input[type='submit']\").click()\n",
      "C:\\Users\\aakas\\AppData\\Local\\Temp/ipykernel_16004/697728829.py:11: DeprecationWarning: find_element_by_* commands are deprecated. Please use find_element() instead\n",
      "  driver.find_element_by_xpath(\"//div[@id='myNavBar']/ul/li[4]\").click()\n",
      "C:\\Users\\aakas\\AppData\\Local\\Temp/ipykernel_16004/697728829.py:13: DeprecationWarning: find_element_by_* commands are deprecated. Please use find_element() instead\n",
      "  driver.find_element_by_xpath(\"//a[@href='viewResults']\").click()\n",
      "C:\\Users\\aakas\\AppData\\Local\\Temp/ipykernel_16004/697728829.py:15: DeprecationWarning: find_element_by_* commands are deprecated. Please use find_element() instead\n",
      "  driver.find_element_by_xpath(\"//select[@id='ecode']/option[text()='M.C.A. I Year I Semester (R20) (Reg) - April, 2022']\").click()\n",
      "C:\\Users\\aakas\\AppData\\Local\\Temp/ipykernel_16004/697728829.py:17: DeprecationWarning: find_element_by_* commands are deprecated. Please use find_element() instead\n",
      "  driver.find_element_by_xpath(\".//button[contains(@class,'btn')]\").click()\n"
     ]
    }
   ],
   "source": [
    "url = \"http://jntuhsit.org/\"\n",
    "driver = webdriver.Chrome(options=options,executable_path = \"C:\\\\Users\\\\aakas\\\\anaconda3\\\\lib\\\\site-packages\\\\chromedriver_autoinstaller\\\\101\\\\chromedriver.exe\")\n",
    "driver.get(url)\n",
    "driver.find_element_by_xpath(\"//a[@href='http://14.139.82.140']\").click()\n",
    "driver.switch_to.window(driver.window_handles[1])\n",
    "time.sleep(2)\n",
    "driver.find_element_by_id('uid').send_keys('21031F0005')\n",
    "driver.find_element_by_id('pwd').send_keys(getpass(\"Enter password : \"))\n",
    "driver.find_element_by_css_selector(\"input[type='submit']\").click()\n",
    "time.sleep(2)\n",
    "driver.find_element_by_xpath(\"//div[@id='myNavBar']/ul/li[4]\").click()\n",
    "time.sleep(2)\n",
    "driver.find_element_by_xpath(\"//a[@href='viewResults']\").click()\n",
    "time.sleep(2)\n",
    "driver.find_element_by_xpath(\"//select[@id='ecode']/option[text()='M.C.A. I Year I Semester (R20) (Reg) - April, 2022']\").click()\n",
    "time.sleep(3)\n",
    "driver.find_element_by_xpath(\".//button[contains(@class,'btn')]\").click()\n",
    "# time.sleep(2)\n",
    "# driver.find_element_by_xpath(\"//a[@href='logout']\").click()\n",
    "# print(driver.find_element_by_class_name('alert-success').text.strip(\".\")[2:40])\n",
    "# driver.close()\n",
    "# driver.switch_to.window(driver.window_handles[0])\n",
    "# driver.close()"
   ]
  },
  {
   "cell_type": "code",
   "execution_count": null,
   "id": "4491195a",
   "metadata": {},
   "outputs": [],
   "source": [
    "driver.find_element_by_xpath(\"//div[@id='resBlock']//table//tr[3]//img\").screenshot"
   ]
  },
  {
   "cell_type": "code",
   "execution_count": 10,
   "id": "80374a95",
   "metadata": {
    "ExecuteTime": {
     "end_time": "2022-05-17T15:55:20.585039Z",
     "start_time": "2022-05-17T15:55:20.011099Z"
    }
   },
   "outputs": [
    {
     "name": "stderr",
     "output_type": "stream",
     "text": [
      "C:\\Users\\aakas\\AppData\\Local\\Temp/ipykernel_16004/2520943817.py:1: DeprecationWarning: find_element_by_* commands are deprecated. Please use find_element() instead\n",
      "  Image.open(StringIO(driver.find_element_by_xpath(\"//div[@id='resBlock']//table//tr[3]//img\").screenshot_as_png()))\n"
     ]
    },
    {
     "ename": "TypeError",
     "evalue": "'bytes' object is not callable",
     "output_type": "error",
     "traceback": [
      "\u001b[1;31m---------------------------------------------------------------------------\u001b[0m",
      "\u001b[1;31mTypeError\u001b[0m                                 Traceback (most recent call last)",
      "\u001b[1;32m~\\AppData\\Local\\Temp/ipykernel_16004/2520943817.py\u001b[0m in \u001b[0;36m<module>\u001b[1;34m\u001b[0m\n\u001b[1;32m----> 1\u001b[1;33m \u001b[0mImage\u001b[0m\u001b[1;33m.\u001b[0m\u001b[0mopen\u001b[0m\u001b[1;33m(\u001b[0m\u001b[0mStringIO\u001b[0m\u001b[1;33m(\u001b[0m\u001b[0mdriver\u001b[0m\u001b[1;33m.\u001b[0m\u001b[0mfind_element_by_xpath\u001b[0m\u001b[1;33m(\u001b[0m\u001b[1;34m\"//div[@id='resBlock']//table//tr[3]//img\"\u001b[0m\u001b[1;33m)\u001b[0m\u001b[1;33m.\u001b[0m\u001b[0mscreenshot_as_png\u001b[0m\u001b[1;33m(\u001b[0m\u001b[1;33m)\u001b[0m\u001b[1;33m)\u001b[0m\u001b[1;33m)\u001b[0m\u001b[1;33m\u001b[0m\u001b[1;33m\u001b[0m\u001b[0m\n\u001b[0m",
      "\u001b[1;31mTypeError\u001b[0m: 'bytes' object is not callable"
     ]
    }
   ],
   "source": [
    "Image.open(StringIO(driver.find_element_by_xpath(\"//div[@id='resBlock']//table//tr[3]//img\").screenshot_as_png()))"
   ]
  },
  {
   "cell_type": "code",
   "execution_count": 18,
   "id": "2c3728f4",
   "metadata": {
    "ExecuteTime": {
     "end_time": "2022-05-17T15:59:50.982154Z",
     "start_time": "2022-05-17T15:59:50.784847Z"
    }
   },
   "outputs": [
    {
     "name": "stderr",
     "output_type": "stream",
     "text": [
      "C:\\Users\\aakas\\AppData\\Local\\Temp/ipykernel_16004/1868458284.py:1: DeprecationWarning: find_element_by_* commands are deprecated. Please use find_element() instead\n",
      "  Ap = driver.find_element_by_xpath(\"//div[@id='resBlock']//table//tr[3]//img\").screenshot_as_png\n"
     ]
    },
    {
     "data": {
      "image/png": "[encoded data removed]",
      "text/plain": [
       "<PIL.PngImagePlugin.PngImageFile image mode=RGBA size=70x80 at 0x20264506370>"
      ]
     },
     "execution_count": 18,
     "metadata": {},
     "output_type": "execute_result"
    }
   ],
   "source": [
    "Ap = driver.find_element_by_xpath(\"//div[@id='resBlock']//table//tr[3]//img\").screenshot_as_png\n",
    "Image.open(BytesIO(Ap))"
   ]
  },
  {
   "cell_type": "code",
   "execution_count": 19,
   "id": "ed06022f",
   "metadata": {
    "ExecuteTime": {
     "end_time": "2022-05-17T16:07:15.803424Z",
     "start_time": "2022-05-17T16:07:15.782693Z"
    }
   },
   "outputs": [],
   "source": [
    "with open('Aakash.png', 'wb') as f:\n",
    "    f.write(Ap)"
   ]
  },
  {
   "cell_type": "code",
   "execution_count": 9,
   "id": "d7cdf9dd",
   "metadata": {
    "ExecuteTime": {
     "end_time": "2022-05-17T15:55:09.152020Z",
     "start_time": "2022-05-17T15:55:09.144489Z"
    }
   },
   "outputs": [],
   "source": [
    "from io import BytesIO,StringIO"
   ]
  },
  {
   "cell_type": "code",
   "execution_count": 256,
   "id": "ceaa117e",
   "metadata": {
    "ExecuteTime": {
     "end_time": "2022-05-16T13:51:12.983423Z",
     "start_time": "2022-05-16T13:51:12.927065Z"
    }
   },
   "outputs": [
    {
     "name": "stderr",
     "output_type": "stream",
     "text": [
      "C:\\Users\\aakas\\AppData\\Local\\Temp/ipykernel_13660/642326373.py:1: DeprecationWarning: find_element_by_* commands are deprecated. Please use find_element() instead\n",
      "  Jntuh_logo =  driver.find_element_by_xpath(\"//div[@id='resBlock']//table//img\").screenshot\n",
      "C:\\Users\\aakas\\AppData\\Local\\Temp/ipykernel_13660/642326373.py:2: DeprecationWarning: find_element_by_* commands are deprecated. Please use find_element() instead\n",
      "  Aakash_Photo = driver.find_element_by_xpath(\"//div[@id='resBlock']//table//tr[3]//img\").screenshot\n"
     ]
    }
   ],
   "source": [
    "Jntuh_logo =  driver.find_element_by_xpath(\"//div[@id='resBlock']//table//img\").screenshot\n",
    "Aakash_Photo = driver.find_element_by_xpath(\"//div[@id='resBlock']//table//tr[3]//img\").screenshot"
   ]
  },
  {
   "cell_type": "code",
   "execution_count": 175,
   "id": "7e411ac2",
   "metadata": {
    "ExecuteTime": {
     "end_time": "2022-05-16T12:51:03.715200Z",
     "start_time": "2022-05-16T12:51:03.677294Z"
    }
   },
   "outputs": [
    {
     "name": "stderr",
     "output_type": "stream",
     "text": [
      "C:\\Users\\aakas\\AppData\\Local\\Temp/ipykernel_13660/271231628.py:1: DeprecationWarning: find_element_by_* commands are deprecated. Please use find_element() instead\n",
      "  driver.find_element_by_xpath(\"//div[@id='resBlock']//table//tr[3]//img\").screenshot\n"
     ]
    },
    {
     "data": {
      "text/plain": [
       "<bound method WebElement.screenshot of <selenium.webdriver.remote.webelement.WebElement (session=\"4b068d0b64eb59940e2b942d43b09a39\", element=\"48fe20a2-0723-4df7-ba27-e180687addd0\")>>"
      ]
     },
     "execution_count": 175,
     "metadata": {},
     "output_type": "execute_result"
    }
   ],
   "source": [
    "driver.find_element_by_xpath(\"//div[@id='resBlock']//table//tr[3]//img\").screenshot"
   ]
  },
  {
   "cell_type": "code",
   "execution_count": 177,
   "id": "44c47fb5",
   "metadata": {
    "ExecuteTime": {
     "end_time": "2022-05-16T12:51:22.827701Z",
     "start_time": "2022-05-16T12:51:22.818729Z"
    }
   },
   "outputs": [],
   "source": [
    "with open('Jntuh_logo.png', 'wb') as f:\n",
    "    f.write(JL)\n",
    "with open('Aakash.png', 'wb') as f:\n",
    "    f.write(AP)"
   ]
  },
  {
   "cell_type": "code",
   "execution_count": 179,
   "id": "6bfec13b",
   "metadata": {
    "ExecuteTime": {
     "end_time": "2022-05-16T12:52:19.780170Z",
     "start_time": "2022-05-16T12:52:19.767205Z"
    }
   },
   "outputs": [
    {
     "data": {
      "image/png": "[encoded data removed]",
      "text/plain": [
       "<PIL.PngImagePlugin.PngImageFile image mode=RGBA size=80x80 at 0x245540A8E80>"
      ]
     },
     "execution_count": 179,
     "metadata": {},
     "output_type": "execute_result"
    }
   ],
   "source": [
    "Image.open('Jntuh_logo.png')"
   ]
  },
  {
   "cell_type": "code",
   "execution_count": 154,
   "id": "e3449fb8",
   "metadata": {
    "ExecuteTime": {
     "end_time": "2022-05-16T12:34:56.235316Z",
     "start_time": "2022-05-16T12:34:56.202731Z"
    }
   },
   "outputs": [
    {
     "data": {
      "image/png": "[encoded data removed]",
      "text/plain": [
       "<PIL.PngImagePlugin.PngImageFile image mode=RGBA size=80x80 at 0x24553E04A00>"
      ]
     },
     "metadata": {},
     "output_type": "display_data"
    },
    {
     "data": {
      "image/png": "[encoded data removed]",
      "text/plain": [
       "<PIL.PngImagePlugin.PngImageFile image mode=RGBA size=70x80 at 0x24553E04C10>"
      ]
     },
     "metadata": {},
     "output_type": "display_data"
    }
   ],
   "source": [
    "# print(\"\\n\")\n",
    "# print(\"     \")\n",
    "display(Image.open(\"Jntuh_logo.png\"))\n",
    "display(Image.open(\"Aakash.png\"))"
   ]
  },
  {
   "cell_type": "code",
   "execution_count": 242,
   "id": "f7ebed28",
   "metadata": {
    "ExecuteTime": {
     "end_time": "2022-05-16T13:35:42.671728Z",
     "start_time": "2022-05-16T13:35:40.610981Z"
    }
   },
   "outputs": [],
   "source": [
    "import pyscreenshot as ImageGrab\n",
    "# fullscreen\n",
    "# im=ImageGrab.grab()\n",
    "# im.show()\n",
    "\n",
    "# part of the screen\n",
    "im=ImageGrab.grab(bbox=(40,200,200,700))\n",
    "im.show()\n",
    "\n",
    "# to file\n",
    "# ImageGrab.grab_to_file('im.png')"
   ]
  },
  {
   "cell_type": "code",
   "execution_count": 252,
   "id": "ab1d280e",
   "metadata": {
    "ExecuteTime": {
     "end_time": "2022-05-16T13:43:01.834593Z",
     "start_time": "2022-05-16T13:43:01.671588Z"
    }
   },
   "outputs": [
    {
     "name": "stdout",
     "output_type": "stream",
     "text": [
      "sct.png\n"
     ]
    }
   ],
   "source": [
    "# import mss\n",
    "# import mss.tools\n",
    "\n",
    "# with mss.mss() as sct:\n",
    "#     # The screen part to capture\n",
    "#     monitor = {\"top\": 600, \"left\": 800, \"width\": 1500, \"height\": 1500}\n",
    "#     output = \"sct.png\"\n",
    "\n",
    "#     # Grab the data\n",
    "#     sct_img = sct.grab(monitor)\n",
    "\n",
    "#     # Save to the picture file\n",
    "#     mss.tools.to_png(sct_img.rgb, sct_img.size, output=output)\n",
    "#     print(output)"
   ]
  },
  {
   "cell_type": "code",
   "execution_count": 254,
   "id": "d972e4e8",
   "metadata": {
    "ExecuteTime": {
     "end_time": "2022-05-16T13:50:02.056872Z",
     "start_time": "2022-05-16T13:50:02.051888Z"
    }
   },
   "outputs": [],
   "source": [
    "# Image.open('sct.png')"
   ]
  },
  {
   "cell_type": "code",
   "execution_count": 222,
   "id": "7ae82458",
   "metadata": {
    "ExecuteTime": {
     "end_time": "2022-05-16T13:19:50.923378Z",
     "start_time": "2022-05-16T13:19:50.904427Z"
    }
   },
   "outputs": [],
   "source": [
    "# display(Image.open('D:\\Aakash Nadupalli\\Aakash Details\\Aakash Exams Details\\Application Forms\\SBI_Clerk(Junior Associates)\\Aakash_New_PassportPhoto.jpg'))"
   ]
  },
  {
   "cell_type": "code",
   "execution_count": 211,
   "id": "9fb7e4e3",
   "metadata": {
    "ExecuteTime": {
     "end_time": "2022-05-16T13:15:25.135906Z",
     "start_time": "2022-05-16T13:15:25.119948Z"
    }
   },
   "outputs": [],
   "source": [
    "# display(Image.open('G:\\Technology Background\\Jntuh Logo.png'))"
   ]
  },
  {
   "cell_type": "code",
   "execution_count": 210,
   "id": "f10207e6",
   "metadata": {
    "ExecuteTime": {
     "end_time": "2022-05-16T13:15:05.457401Z",
     "start_time": "2022-05-16T13:15:05.452442Z"
    }
   },
   "outputs": [],
   "source": [
    "# display(HTML(\"<div style='position: absolute;top: 100px; left: 180px; width: 500px; text-align:left;'><img width=140,height=90 src='Jntuh logo.png'></div>\"))"
   ]
  },
  {
   "cell_type": "code",
   "execution_count": 221,
   "id": "47786c1c",
   "metadata": {
    "ExecuteTime": {
     "end_time": "2022-05-16T13:19:43.885733Z",
     "start_time": "2022-05-16T13:19:43.866746Z"
    }
   },
   "outputs": [],
   "source": [
    "# display(HTML(\"<div style='position: absolute;top: 200px; right: 120px; width: 200px; text-align:right;'><img width=80,height=70 src='Aakash_New_PassportPhoto.jpg'></div>\"))"
   ]
  },
  {
   "cell_type": "code",
   "execution_count": 141,
   "id": "cfb15fee",
   "metadata": {
    "ExecuteTime": {
     "end_time": "2022-05-16T12:09:20.702035Z",
     "start_time": "2022-05-16T12:09:20.677071Z"
    }
   },
   "outputs": [],
   "source": [
    "# x = Image.open(\"Aakash.png\")\n",
    "# x.save(\"Aakash_new.png\",dpi=(1000,1000))"
   ]
  },
  {
   "cell_type": "code",
   "execution_count": 143,
   "id": "a1cf750b",
   "metadata": {
    "ExecuteTime": {
     "end_time": "2022-05-16T12:09:47.209224Z",
     "start_time": "2022-05-16T12:09:47.193280Z"
    }
   },
   "outputs": [],
   "source": [
    "# Image.open('Aakash_new.png')"
   ]
  },
  {
   "cell_type": "code",
   "execution_count": 86,
   "id": "76092b68",
   "metadata": {
    "ExecuteTime": {
     "end_time": "2022-05-16T11:41:23.097076Z",
     "start_time": "2022-05-16T11:41:23.077158Z"
    }
   },
   "outputs": [],
   "source": [
    "# from IPython.display import HTML, display\n",
    "# display(HTML(\"<div style='position: absolute;top: 0; left: 10; width: 100px; text-align:left;'><table><tr><td><img width=100,height=80 src='Jntuh_logo.png'></td></tr></table></div>\"))"
   ]
  },
  {
   "cell_type": "code",
   "execution_count": 129,
   "id": "b69b9a30",
   "metadata": {
    "ExecuteTime": {
     "end_time": "2022-05-16T11:57:48.958936Z",
     "start_time": "2022-05-16T11:57:48.941981Z"
    }
   },
   "outputs": [],
   "source": [
    "# from IPython.display import HTML, display\n",
    "# display(HTML(\"<div style='position: absolute;top: 50px; right: 200px; width: 100px; text-align:right;'><table><tr><td><img width=80,height=70 src='Aakash.png'></td></tr></table></div>\"))"
   ]
  },
  {
   "cell_type": "code",
   "execution_count": 130,
   "id": "2a1d9052",
   "metadata": {
    "ExecuteTime": {
     "end_time": "2022-05-16T11:57:55.763795Z",
     "start_time": "2022-05-16T11:57:55.753820Z"
    }
   },
   "outputs": [],
   "source": [
    "# # # from IPython.display import HTML, display\n",
    "# display(HTML(\"<div style='position: absolute;top: 100px; left: 170px; width: 100px; text-align:left;'><table><tr><td><img width=80,height=70 src='Jntuh_logo.png'></td></tr></table></div>\"))"
   ]
  },
  {
   "cell_type": "code",
   "execution_count": 135,
   "id": "8db68f0a",
   "metadata": {
    "ExecuteTime": {
     "end_time": "2022-05-16T12:06:51.047631Z",
     "start_time": "2022-05-16T12:06:51.029707Z"
    }
   },
   "outputs": [],
   "source": [
    "# display(HTML(\"<div style='position:absolute;top: 50px; right: 200px; width: 100px; text-align:right;'><img src='Aakash.png'></div>\"))"
   ]
  },
  {
   "cell_type": "code",
   "execution_count": 4,
   "id": "8832985d",
   "metadata": {
    "ExecuteTime": {
     "end_time": "2022-05-16T08:56:33.569362Z",
     "start_time": "2022-05-16T08:56:33.464643Z"
    }
   },
   "outputs": [
    {
     "name": "stderr",
     "output_type": "stream",
     "text": [
      "C:\\Users\\aakas\\AppData\\Local\\Temp/ipykernel_13660/3505538126.py:1: DeprecationWarning: find_element_by_* commands are deprecated. Please use find_element() instead\n",
      "  driver.find_element_by_xpath(\"//div[@id='resBlock']//table//img\").get_attribute('src')\n"
     ]
    },
    {
     "data": {
      "text/plain": [
       "'http://14.139.82.140:8080/SitMgmtSystem/resources/img/jntuhlogo.png'"
      ]
     },
     "execution_count": 4,
     "metadata": {},
     "output_type": "execute_result"
    }
   ],
   "source": [
    "# driver.find_element_by_xpath(\"//div[@id='resBlock']//table//img\").get_attribute('src')"
   ]
  },
  {
   "cell_type": "code",
   "execution_count": 20,
   "id": "382bc2dd",
   "metadata": {
    "ExecuteTime": {
     "end_time": "2022-05-16T11:13:44.020383Z",
     "start_time": "2022-05-16T11:13:44.015396Z"
    }
   },
   "outputs": [],
   "source": [
    "# from IPython.display import HTML, display\n",
    "# display(HTML(\"<table><tr><td><img src='Jntuh_logo.png'></td><td><img src='Jntuh_logo.png'></td></tr></table>\"))"
   ]
  },
  {
   "cell_type": "code",
   "execution_count": 72,
   "id": "75edb6ba",
   "metadata": {
    "ExecuteTime": {
     "end_time": "2022-05-16T11:35:04.576388Z",
     "start_time": "2022-05-16T11:35:04.564385Z"
    }
   },
   "outputs": [],
   "source": [
    "# from IPython.display import HTML, display\n",
    "# display(HTML(\"<table><tr><td><img src='Jntuh_logo.png'></td></tr></table>\"))"
   ]
  },
  {
   "cell_type": "code",
   "execution_count": null,
   "id": "ce3c34c8",
   "metadata": {},
   "outputs": [],
   "source": []
  }
 ],
 "metadata": {
  "hide_input": false,
  "kernelspec": {
   "display_name": "Python 3 (ipykernel)",
   "language": "python",
   "name": "python3"
  },
  "language_info": {
   "codemirror_mode": {
    "name": "ipython",
    "version": 3
   },
   "file_extension": ".py",
   "mimetype": "text/x-python",
   "name": "python",
   "nbconvert_exporter": "python",
   "pygments_lexer": "ipython3",
   "version": "3.9.7"
  },
  "nbTranslate": {
   "displayLangs": [
    "*"
   ],
   "hotkey": "alt-t",
   "langInMainMenu": true,
   "sourceLang": "en",
   "targetLang": "fr",
   "useGoogleTranslate": true
  },
  "varInspector": {
   "cols": {
    "lenName": 16,
    "lenType": 16,
    "lenVar": 40
   },
   "kernels_config": {
    "python": {
     "delete_cmd_postfix": "",
     "delete_cmd_prefix": "del ",
     "library": "var_list.py",
     "varRefreshCmd": "print(var_dic_list())"
    },
    "r": {
     "delete_cmd_postfix": ") ",
     "delete_cmd_prefix": "rm(",
     "library": "var_list.r",
     "varRefreshCmd": "cat(var_dic_list()) "
    }
   },
   "types_to_exclude": [
    "module",
    "function",
    "builtin_function_or_method",
    "instance",
    "_Feature"
   ],
   "window_display": false
  }
 },
 "nbformat": 4,
 "nbformat_minor": 5
}
