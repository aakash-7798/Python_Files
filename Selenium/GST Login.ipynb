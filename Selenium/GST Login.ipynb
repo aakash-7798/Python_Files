{
 "cells": [
  {
   "cell_type": "code",
   "execution_count": 161,
   "id": "77ac8a23",
   "metadata": {
    "ExecuteTime": {
     "end_time": "2022-05-19T17:10:48.122343Z",
     "start_time": "2022-05-19T17:10:47.293532Z"
    }
   },
   "outputs": [],
   "source": [
    "from selenium import webdriver\n",
    "from selenium.webdriver.common.keys import Keys\n",
    "from webdriver_manager.chrome import ChromeDriverManager\n",
    "from getpass import getpass\n",
    "from selenium.webdriver.chrome.options import Options\n",
    "import chromedriver_autoinstaller as chromedriver\n",
    "chromedriver.install()\n",
    "import time\n",
    "import calendar\n",
    "from selenium.common.exceptions import NoSuchElementException"
   ]
  },
  {
   "cell_type": "code",
   "execution_count": 162,
   "id": "288efe3d",
   "metadata": {
    "ExecuteTime": {
     "end_time": "2022-05-19T17:10:51.073140Z",
     "start_time": "2022-05-19T17:10:51.052196Z"
    }
   },
   "outputs": [],
   "source": [
    "options = Options()\n",
    "options.add_argument('start-maximized')\n",
    "options.add_argument('disable-infobars')\n",
    "options.add_experimental_option(\"prefs\",{\"download.default_directory\":\"E:\\Selenium GST Downloads\"})"
   ]
  },
  {
   "cell_type": "code",
   "execution_count": 12,
   "id": "008964a4",
   "metadata": {
    "ExecuteTime": {
     "end_time": "2022-05-19T13:59:07.252812Z",
     "start_time": "2022-05-19T13:58:52.108017Z"
    }
   },
   "outputs": [
    {
     "name": "stdout",
     "output_type": "stream",
     "text": [
      "Enter Username : nadupallisriniv\n",
      "Enter Password : ········\n"
     ]
    }
   ],
   "source": [
    "# username = pagepvtltd_2017\n",
    "# password = 'Srinivas@369'\n",
    "username = input(\"Enter Username : \")\n",
    "password = getpass(\"Enter Password : \")"
   ]
  },
  {
   "cell_type": "code",
   "execution_count": 163,
   "id": "c2dd4b9f",
   "metadata": {
    "ExecuteTime": {
     "end_time": "2022-05-19T17:11:32.371085Z",
     "start_time": "2022-05-19T17:10:55.908826Z"
    }
   },
   "outputs": [
    {
     "name": "stderr",
     "output_type": "stream",
     "text": [
      "C:\\Users\\aakas\\AppData\\Local\\Temp/ipykernel_12848/298212300.py:1: DeprecationWarning: executable_path has been deprecated, please pass in a Service object\n",
      "  Driver = webdriver.Chrome(chrome_options=options,executable_path='C:\\\\Users\\\\aakas\\\\anaconda3\\\\lib\\\\site-packages\\\\chromedriver_autoinstaller\\\\101\\\\chromedriver.exe')\n",
      "C:\\Users\\aakas\\AppData\\Local\\Temp/ipykernel_12848/298212300.py:1: DeprecationWarning: use options instead of chrome_options\n",
      "  Driver = webdriver.Chrome(chrome_options=options,executable_path='C:\\\\Users\\\\aakas\\\\anaconda3\\\\lib\\\\site-packages\\\\chromedriver_autoinstaller\\\\101\\\\chromedriver.exe')\n",
      "C:\\Users\\aakas\\AppData\\Local\\Temp/ipykernel_12848/298212300.py:4: DeprecationWarning: find_element_by_* commands are deprecated. Please use find_element() instead\n",
      "  Driver.find_element_by_xpath(\"//a[contains(text(),' Login')]\").click()\n",
      "C:\\Users\\aakas\\AppData\\Local\\Temp/ipykernel_12848/298212300.py:6: DeprecationWarning: find_element_by_* commands are deprecated. Please use find_element() instead\n",
      "  Driver.find_element_by_id(\"username\").send_keys(username)\n",
      "C:\\Users\\aakas\\AppData\\Local\\Temp/ipykernel_12848/298212300.py:8: DeprecationWarning: find_element_by_* commands are deprecated. Please use find_element() instead\n",
      "  Driver.find_element_by_id(\"user_pass\").send_keys(password)\n",
      "C:\\Users\\aakas\\AppData\\Local\\Temp/ipykernel_12848/298212300.py:10: DeprecationWarning: find_element_by_* commands are deprecated. Please use find_element() instead\n",
      "  Driver.find_element_by_xpath('//button[normalize-space()=\"Login\"]').click()\n",
      "C:\\Users\\aakas\\AppData\\Local\\Temp/ipykernel_12848/298212300.py:12: DeprecationWarning: find_element_by_* commands are deprecated. Please use find_element() instead\n",
      "  Driver.find_element_by_xpath(\"//a[contains(text(),'Remind me later')]\").click()\n",
      "C:\\Users\\aakas\\AppData\\Local\\Temp/ipykernel_12848/298212300.py:14: DeprecationWarning: find_element_by_* commands are deprecated. Please use find_element() instead\n",
      "  Driver.find_element_by_xpath(\"//span[text()='Continue to Dashboard']\").click()\n",
      "C:\\Users\\aakas\\AppData\\Local\\Temp/ipykernel_12848/298212300.py:16: DeprecationWarning: find_element_by_* commands are deprecated. Please use find_element() instead\n",
      "  Driver.find_element_by_class_name(\"caret\").click()\n",
      "C:\\Users\\aakas\\AppData\\Local\\Temp/ipykernel_12848/298212300.py:18: DeprecationWarning: find_element_by_* commands are deprecated. Please use find_element() instead\n",
      "  Driver.find_element_by_xpath(\"//a[contains(text(),'Returns')]\").click()\n",
      "C:\\Users\\aakas\\AppData\\Local\\Temp/ipykernel_12848/298212300.py:20: DeprecationWarning: find_element_by_* commands are deprecated. Please use find_element() instead\n",
      "  Driver.find_element_by_xpath(\"//div[@class='col-xs-12']//a[contains(text(),'Returns Dashboard')]\").click()\n"
     ]
    }
   ],
   "source": [
    "Driver = webdriver.Chrome(chrome_options=options,executable_path='C:\\\\Users\\\\aakas\\\\anaconda3\\\\lib\\\\site-packages\\\\chromedriver_autoinstaller\\\\101\\\\chromedriver.exe') \n",
    "Driver.get('https://www.gst.gov.in/')\n",
    "time.sleep(1)\n",
    "Driver.find_element_by_xpath(\"//a[contains(text(),' Login')]\").click()\n",
    "time.sleep(2)\n",
    "Driver.find_element_by_id(\"username\").send_keys(username)\n",
    "time.sleep(1)\n",
    "Driver.find_element_by_id(\"user_pass\").send_keys(password)\n",
    "time.sleep(10)\n",
    "Driver.find_element_by_xpath('//button[normalize-space()=\"Login\"]').click()\n",
    "time.sleep(2)\n",
    "Driver.find_element_by_xpath(\"//a[contains(text(),'Remind me later')]\").click()\n",
    "time.sleep(2)\n",
    "Driver.find_element_by_xpath(\"//span[text()='Continue to Dashboard']\").click()\n",
    "time.sleep(4)\n",
    "Driver.find_element_by_class_name(\"caret\").click()\n",
    "time.sleep(2)\n",
    "Driver.find_element_by_xpath(\"//a[contains(text(),'Returns')]\").click()\n",
    "time.sleep(4)\n",
    "Driver.find_element_by_xpath(\"//div[@class='col-xs-12']//a[contains(text(),'Returns Dashboard')]\").click()\n",
    "# time.sleep(2)\n",
    "# Driver.find_element_by_xpath(\"//select[@name='fin']/option[text()='2021-22'\").click()\n",
    "# time.sleep(2)\n",
    "# Driver.find_element_by_xpath(\"//select[@name='quarter']/option[text()='Quarter 3 (Oct - Dec)']\").click()\n",
    "# time.sleep(2)\n",
    "# Driver.find_element_by_xpath(\"//select[@name='mon']/option[text()='December']\").click()\n",
    "# time.sleep(2)\n",
    "# Driver.find_element_by_class_name(\"srchbtn\").click()\n",
    "# time.sleep(2)\n",
    "# Driver.find_element_by_xpath('//div[@class=\"col-sm-6 col-xs-6\"]//button[normalize-space()=\"Download\"]').click()\n",
    "# time.sleep(2)\n",
    "# Driver.find_element_by_class_name(\"dropdown-toggle\").click()\n",
    "# time.sleep(5)\n",
    "# Driver.find_element_by_xpath(\"//a[@href='//services.gst.gov.in/services/logout']\").click()\n",
    "# time.sleep(5)\n",
    "# Driver.close()"
   ]
  },
  {
   "cell_type": "code",
   "execution_count": 128,
   "id": "ff52e1cd",
   "metadata": {
    "ExecuteTime": {
     "end_time": "2022-05-19T16:17:01.784246Z",
     "start_time": "2022-05-19T16:17:01.776267Z"
    }
   },
   "outputs": [],
   "source": [
    "# Driver.find_element_by_xpath(\"//div[@class='col-xs-12']//a[contains(text(),'Returns Dashboard')]\").click()"
   ]
  },
  {
   "cell_type": "code",
   "execution_count": 70,
   "id": "3ede0a26",
   "metadata": {
    "ExecuteTime": {
     "end_time": "2022-05-19T14:42:32.869216Z",
     "start_time": "2022-05-19T14:42:32.854257Z"
    }
   },
   "outputs": [
    {
     "data": {
      "text/plain": [
       "'2017-18'"
      ]
     },
     "execution_count": 70,
     "metadata": {},
     "output_type": "execute_result"
    }
   ],
   "source": [
    "Financial_Years[::-1][0]"
   ]
  },
  {
   "cell_type": "code",
   "execution_count": 76,
   "id": "c7269e3f",
   "metadata": {
    "ExecuteTime": {
     "end_time": "2022-05-19T14:48:38.548968Z",
     "start_time": "2022-05-19T14:48:38.539993Z"
    }
   },
   "outputs": [
    {
     "data": {
      "text/plain": [
       "['January', 'February', 'March']"
      ]
     },
     "execution_count": 76,
     "metadata": {},
     "output_type": "execute_result"
    }
   ],
   "source": [
    "a ={'2017-18 ': {'Quarter 1 (Apr - Jun)':['January', 'February', 'March']}}\n",
    "a['2017-18 ']['Quarter 1 (Apr - Jun)']"
   ]
  },
  {
   "cell_type": "code",
   "execution_count": 117,
   "id": "82f2045e",
   "metadata": {
    "ExecuteTime": {
     "end_time": "2022-05-19T15:25:53.519976Z",
     "start_time": "2022-05-19T15:25:53.509009Z"
    }
   },
   "outputs": [
    {
     "name": "stdout",
     "output_type": "stream",
     "text": [
      "Quarter 1 (Apr - Jun)\n",
      "Quarter 2 (Jul - Sep)\n",
      "Quarter 3 (Oct - Dec)\n",
      "Quarter 4 (Jan - Mar)\n"
     ]
    }
   ],
   "source": [
    "quarters = [\"Quarter 1 (Apr - Jun)\",\"Quarter 2 (Jul - Sep)\",\"Quarter 3 (Oct - Dec)\",\"Quarter 4 (Jan - Mar)\"]\n",
    "for j in quarters:\n",
    "    print(j)"
   ]
  },
  {
   "cell_type": "code",
   "execution_count": 119,
   "id": "30561106",
   "metadata": {
    "ExecuteTime": {
     "end_time": "2022-05-19T15:26:57.590089Z",
     "start_time": "2022-05-19T15:26:57.569127Z"
    }
   },
   "outputs": [
    {
     "data": {
      "text/plain": [
       "{'2017-18': ['April', 'May'],\n",
       " '2018-19': ['April', 'May'],\n",
       " '2019-20': ['April', 'May'],\n",
       " '2020-21': {'Quarter 4 (Jan - Mar)': ['April', 'May']},\n",
       " '2021-22': {'Quarter 4 (Jan - Mar)': ['April', 'May']},\n",
       " '2022-23': {'Quarter 4 (Jan - Mar)': ['April', 'May']}}"
      ]
     },
     "execution_count": 119,
     "metadata": {},
     "output_type": "execute_result"
    }
   ],
   "source": [
    "a ={}\n",
    "for i in range(len(f)):\n",
    "    if i<=2:\n",
    "        a[f[i]] = Months\n",
    "    else:\n",
    "        for j in range(len(quarters)):\n",
    "            a[f[i]] ={quarters[j]:Months}\n",
    "a"
   ]
  },
  {
   "cell_type": "code",
   "execution_count": 184,
   "id": "cb3867fc",
   "metadata": {
    "ExecuteTime": {
     "end_time": "2022-05-19T17:32:58.372537Z",
     "start_time": "2022-05-19T17:32:58.347602Z"
    }
   },
   "outputs": [
    {
     "ename": "IndentationError",
     "evalue": "expected an indented block (Temp/ipykernel_12848/343068767.py, line 22)",
     "output_type": "error",
     "traceback": [
      "\u001b[1;36m  File \u001b[1;32m\"C:\\Users\\aakas\\AppData\\Local\\Temp/ipykernel_12848/343068767.py\"\u001b[1;36m, line \u001b[1;32m22\u001b[0m\n\u001b[1;33m    Driver.find_element_by_xpath(f\"//select[@name='mon']/option[text()='{m}']\").click()\u001b[0m\n\u001b[1;37m    ^\u001b[0m\n\u001b[1;31mIndentationError\u001b[0m\u001b[1;31m:\u001b[0m expected an indented block\n"
     ]
    }
   ],
   "source": [
    "# f = Financial_Years[::-1]\n",
    "# for i in range(len(f)):\n",
    "#     if i==0:\n",
    "#         Driver.find_element_by_xpath(f\"//select[@name='fin']/option[text()='{f[i]}']\").click()\n",
    "#         Months = Driver.find_element_by_name('mon').text.split('\\n')\n",
    "#         for m in Months:\n",
    "#             Driver.find_element_by_xpath(f\"//select[@name='mon']/option[text()='{m}']\").click()\n",
    "#             time.sleep(0.5)\n",
    "#             Driver.find_element_by_class_name(\"srchbtn\").click()\n",
    "#             try:\n",
    "#                 time.sleep(0.5)\n",
    "#                 Driver.find_element_by_xpath(\".//div[contains(@class,'col-sm-6 col-xs-6')]//button[normalize-space()='Download']\").click()\n",
    "#             except NoSuchElementException:\n",
    "#                 print(\"onetouch not present....continuing script\")"
   ]
  },
  {
   "cell_type": "code",
   "execution_count": 182,
   "id": "083bafac",
   "metadata": {
    "ExecuteTime": {
     "end_time": "2022-05-19T17:29:38.625134Z",
     "start_time": "2022-05-19T17:29:37.676407Z"
    }
   },
   "outputs": [
    {
     "name": "stderr",
     "output_type": "stream",
     "text": [
      "C:\\Users\\aakas\\AppData\\Local\\Temp/ipykernel_12848/1226967674.py:6: DeprecationWarning: find_element_by_* commands are deprecated. Please use find_element() instead\n",
      "  Driver.find_element_by_xpath(f\"//select[@name='fin']/option[text()='{f[i]}']\").click()\n",
      "C:\\Users\\aakas\\AppData\\Local\\Temp/ipykernel_12848/1226967674.py:7: DeprecationWarning: find_element_by_* commands are deprecated. Please use find_element() instead\n",
      "  Months = Driver.find_element_by_name('mon').text.split('\\n')\n",
      "C:\\Users\\aakas\\AppData\\Local\\Temp/ipykernel_12848/1226967674.py:10: DeprecationWarning: find_element_by_* commands are deprecated. Please use find_element() instead\n",
      "  Driver.find_element_by_xpath(f\"//select[@name='fin']/option[text()='{f[i]}']\").click()\n",
      "C:\\Users\\aakas\\AppData\\Local\\Temp/ipykernel_12848/1226967674.py:11: DeprecationWarning: find_element_by_* commands are deprecated. Please use find_element() instead\n",
      "  Quarters = Driver.find_element_by_name('quarter').text.split('\\n')\n",
      "C:\\Users\\aakas\\AppData\\Local\\Temp/ipykernel_12848/1226967674.py:13: DeprecationWarning: find_element_by_* commands are deprecated. Please use find_element() instead\n",
      "  Driver.find_element_by_xpath(f\"//select[@name='quarter']/option[text()='{q}']\").click()\n",
      "C:\\Users\\aakas\\AppData\\Local\\Temp/ipykernel_12848/1226967674.py:14: DeprecationWarning: find_element_by_* commands are deprecated. Please use find_element() instead\n",
      "  Months = Driver.find_element_by_name('mon').text.split('\\n')\n"
     ]
    }
   ],
   "source": [
    "FY={}\n",
    "Qs = {}\n",
    "f = Financial_Years[::-1]\n",
    "for i in range(len(f)):\n",
    "    if i<=2:\n",
    "        Driver.find_element_by_xpath(f\"//select[@name='fin']/option[text()='{f[i]}']\").click()\n",
    "        Months = Driver.find_element_by_name('mon').text.split('\\n')\n",
    "        FY[f[i]] = Months\n",
    "    else:\n",
    "        Driver.find_element_by_xpath(f\"//select[@name='fin']/option[text()='{f[i]}']\").click()\n",
    "        Quarters = Driver.find_element_by_name('quarter').text.split('\\n')\n",
    "        for q in Quarters:\n",
    "            Driver.find_element_by_xpath(f\"//select[@name='quarter']/option[text()='{q}']\").click()\n",
    "            Months = Driver.find_element_by_name('mon').text.split('\\n')\n",
    "            Qs[q] = Months\n",
    "        FY[f[i]] = Qs"
   ]
  },
  {
   "cell_type": "code",
   "execution_count": 185,
   "id": "ea869dec",
   "metadata": {
    "ExecuteTime": {
     "end_time": "2022-05-19T17:36:43.045334Z",
     "start_time": "2022-05-19T17:34:29.308772Z"
    }
   },
   "outputs": [
    {
     "name": "stderr",
     "output_type": "stream",
     "text": [
      "C:\\Users\\aakas\\AppData\\Local\\Temp/ipykernel_12848/1966934722.py:4: DeprecationWarning: find_element_by_* commands are deprecated. Please use find_element() instead\n",
      "  Driver.find_element_by_xpath(f\"//select[@name='fin']/option[text()='{f[i]}']\").click()\n",
      "C:\\Users\\aakas\\AppData\\Local\\Temp/ipykernel_12848/1966934722.py:5: DeprecationWarning: find_element_by_* commands are deprecated. Please use find_element() instead\n",
      "  Months = Driver.find_element_by_name('mon').text.split('\\n')\n",
      "C:\\Users\\aakas\\AppData\\Local\\Temp/ipykernel_12848/1966934722.py:7: DeprecationWarning: find_element_by_* commands are deprecated. Please use find_element() instead\n",
      "  Driver.find_element_by_xpath(f\"//select[@name='mon']/option[text()='{m}']\").click()\n",
      "C:\\Users\\aakas\\AppData\\Local\\Temp/ipykernel_12848/1966934722.py:9: DeprecationWarning: find_element_by_* commands are deprecated. Please use find_element() instead\n",
      "  Driver.find_element_by_class_name(\"srchbtn\").click()\n",
      "C:\\Users\\aakas\\AppData\\Local\\Temp/ipykernel_12848/1966934722.py:12: DeprecationWarning: find_element_by_* commands are deprecated. Please use find_element() instead\n",
      "  Driver.find_element_by_xpath(\".//div[contains(@class,'col-sm-6 col-xs-6')]//button[normalize-space()='Download']\").click()\n",
      "C:\\Users\\aakas\\AppData\\Local\\Temp/ipykernel_12848/1966934722.py:16: DeprecationWarning: find_element_by_* commands are deprecated. Please use find_element() instead\n",
      "  Driver.find_element_by_xpath(f\"//select[@name='fin']/option[text()='{f[i]}']\").click()\n",
      "C:\\Users\\aakas\\AppData\\Local\\Temp/ipykernel_12848/1966934722.py:17: DeprecationWarning: find_element_by_* commands are deprecated. Please use find_element() instead\n",
      "  Quarters = Driver.find_element_by_name('quarter').text.split('\\n')\n",
      "C:\\Users\\aakas\\AppData\\Local\\Temp/ipykernel_12848/1966934722.py:19: DeprecationWarning: find_element_by_* commands are deprecated. Please use find_element() instead\n",
      "  Driver.find_element_by_xpath(f\"//select[@name='quarter']/option[text()='{q}']\").click()\n",
      "C:\\Users\\aakas\\AppData\\Local\\Temp/ipykernel_12848/1966934722.py:20: DeprecationWarning: find_element_by_* commands are deprecated. Please use find_element() instead\n",
      "  Months = Driver.find_element_by_name('mon').text.split('\\n')\n",
      "C:\\Users\\aakas\\AppData\\Local\\Temp/ipykernel_12848/1966934722.py:22: DeprecationWarning: find_element_by_* commands are deprecated. Please use find_element() instead\n",
      "  Driver.find_element_by_xpath(f\"//select[@name='mon']/option[text()='{m}']\").click()\n",
      "C:\\Users\\aakas\\AppData\\Local\\Temp/ipykernel_12848/1966934722.py:24: DeprecationWarning: find_element_by_* commands are deprecated. Please use find_element() instead\n",
      "  Driver.find_element_by_class_name(\"srchbtn\").click()\n",
      "C:\\Users\\aakas\\AppData\\Local\\Temp/ipykernel_12848/1966934722.py:27: DeprecationWarning: find_element_by_* commands are deprecated. Please use find_element() instead\n",
      "  Driver.find_element_by_xpath(\".//div[contains(@class,'col-sm-6 col-xs-6')]//button[normalize-space()='Download']\").click()\n"
     ]
    },
    {
     "name": "stdout",
     "output_type": "stream",
     "text": [
      "onetouch not present....continuing script\n",
      "onetouch not present....continuing script\n",
      "onetouch not present....continuing script\n",
      "onetouch not present....continuing script\n",
      "onetouch not present....continuing script\n",
      "onetouch not present....continuing script\n",
      "onetouch not present....continuing script\n",
      "onetouch not present....continuing script\n",
      "onetouch not present....continuing script\n",
      "onetouch not present....continuing script\n",
      "onetouch not present....continuing script\n",
      "onetouch not present....continuing script\n"
     ]
    }
   ],
   "source": [
    "f = Financial_Years[::-1]\n",
    "for i in range(len(f)):\n",
    "    if i<=2:\n",
    "        Driver.find_element_by_xpath(f\"//select[@name='fin']/option[text()='{f[i]}']\").click()\n",
    "        Months = Driver.find_element_by_name('mon').text.split('\\n')\n",
    "        for m in Months:\n",
    "            Driver.find_element_by_xpath(f\"//select[@name='mon']/option[text()='{m}']\").click()\n",
    "            time.sleep(0.5)\n",
    "            Driver.find_element_by_class_name(\"srchbtn\").click()\n",
    "            try:\n",
    "                time.sleep(0.5)\n",
    "                Driver.find_element_by_xpath(\".//div[contains(@class,'col-sm-6 col-xs-6')]//button[normalize-space()='Download']\").click()\n",
    "            except NoSuchElementException:\n",
    "                print(\" Not present....continuing script\")\n",
    "    else:\n",
    "        Driver.find_element_by_xpath(f\"//select[@name='fin']/option[text()='{f[i]}']\").click()\n",
    "        Quarters = Driver.find_element_by_name('quarter').text.split('\\n')\n",
    "        for q in Quarters:\n",
    "            Driver.find_element_by_xpath(f\"//select[@name='quarter']/option[text()='{q}']\").click()\n",
    "            Months = Driver.find_element_by_name('mon').text.split('\\n')\n",
    "            for m in Months:\n",
    "                Driver.find_element_by_xpath(f\"//select[@name='mon']/option[text()='{m}']\").click()\n",
    "                time.sleep(0.5)\n",
    "                Driver.find_element_by_class_name(\"srchbtn\").click()\n",
    "                try:\n",
    "                    time.sleep(0.5)\n",
    "                    Driver.find_element_by_xpath(\".//div[contains(@class,'col-sm-6 col-xs-6')]//button[normalize-space()='Download']\").click()\n",
    "                except NoSuchElementException:\n",
    "                    print(\"Not present....continuing script\") "
   ]
  },
  {
   "cell_type": "code",
   "execution_count": 130,
   "id": "92290b31",
   "metadata": {
    "ExecuteTime": {
     "end_time": "2022-05-19T16:18:07.905602Z",
     "start_time": "2022-05-19T16:18:07.890642Z"
    }
   },
   "outputs": [
    {
     "data": {
      "text/plain": [
       "{'2017-18': ['July',\n",
       "  'August',\n",
       "  'September',\n",
       "  'October',\n",
       "  'November',\n",
       "  'December',\n",
       "  'January',\n",
       "  'February',\n",
       "  'March'],\n",
       " '2018-19': ['April',\n",
       "  'May',\n",
       "  'June',\n",
       "  'July',\n",
       "  'August',\n",
       "  'September',\n",
       "  'October',\n",
       "  'November',\n",
       "  'December',\n",
       "  'January',\n",
       "  'February',\n",
       "  'March'],\n",
       " '2019-20': ['April',\n",
       "  'May',\n",
       "  'June',\n",
       "  'July',\n",
       "  'August',\n",
       "  'September',\n",
       "  'October',\n",
       "  'November',\n",
       "  'December',\n",
       "  'January',\n",
       "  'February',\n",
       "  'March'],\n",
       " '2020-21': {'Quarter 1 (Apr - Jun)': ['April', 'May'],\n",
       "  'Quarter 2 (Jul - Sep)': ['July', 'August', 'September'],\n",
       "  'Quarter 3 (Oct - Dec)': ['October', 'November', 'December'],\n",
       "  'Quarter 4 (Jan - Mar)': ['January', 'February', 'March']},\n",
       " '2021-22': {'Quarter 1 (Apr - Jun)': ['April', 'May'],\n",
       "  'Quarter 2 (Jul - Sep)': ['July', 'August', 'September'],\n",
       "  'Quarter 3 (Oct - Dec)': ['October', 'November', 'December'],\n",
       "  'Quarter 4 (Jan - Mar)': ['January', 'February', 'March']},\n",
       " '2022-23': {'Quarter 1 (Apr - Jun)': ['April', 'May'],\n",
       "  'Quarter 2 (Jul - Sep)': ['July', 'August', 'September'],\n",
       "  'Quarter 3 (Oct - Dec)': ['October', 'November', 'December'],\n",
       "  'Quarter 4 (Jan - Mar)': ['January', 'February', 'March']}}"
      ]
     },
     "execution_count": 130,
     "metadata": {},
     "output_type": "execute_result"
    }
   ],
   "source": [
    "FY"
   ]
  },
  {
   "cell_type": "code",
   "execution_count": 156,
   "id": "680b5361",
   "metadata": {
    "ExecuteTime": {
     "end_time": "2022-05-19T16:59:56.425527Z",
     "start_time": "2022-05-19T16:59:56.266954Z"
    }
   },
   "outputs": [
    {
     "name": "stderr",
     "output_type": "stream",
     "text": [
      "C:\\Users\\aakas\\AppData\\Local\\Temp/ipykernel_12848/345885948.py:1: DeprecationWarning: find_element_by_* commands are deprecated. Please use find_element() instead\n",
      "  Driver.find_element_by_class_name(\"srchbtn\").click()\n"
     ]
    }
   ],
   "source": [
    "Driver.find_element_by_class_name(\"srchbtn\").click()\n",
    "# Driver.find_element_by_xpath('//div[@class=\"col-sm-6 col-xs-6\"]//button[normalize-space()=\"Download\"]').click()\n",
    "# Driver.find_element_by_xpath(\".//div[contains(@class,'col-sm-6 col-xs-6')]//button[normalize-space()='Download']\").click()"
   ]
  },
  {
   "cell_type": "code",
   "execution_count": null,
   "id": "bfe922ed",
   "metadata": {},
   "outputs": [],
   "source": [
    "Driver.find_element_by_xpath(\".//div[contains(@class,'col-sm-6 col-xs-6')]//button[normalize-space()='Download']\").click()"
   ]
  },
  {
   "cell_type": "code",
   "execution_count": 159,
   "id": "a38fea15",
   "metadata": {
    "ExecuteTime": {
     "end_time": "2022-05-19T17:00:12.565070Z",
     "start_time": "2022-05-19T17:00:10.526815Z"
    }
   },
   "outputs": [
    {
     "name": "stdout",
     "output_type": "stream",
     "text": [
      "onetouch not present....continuing script\n"
     ]
    },
    {
     "name": "stderr",
     "output_type": "stream",
     "text": [
      "C:\\Users\\aakas\\AppData\\Local\\Temp/ipykernel_12848/90609316.py:5: DeprecationWarning: find_element_by_* commands are deprecated. Please use find_element() instead\n",
      "  Driver.find_element_by_xpath(\".//div[contains(@class,'col-sm-6 col-xs-6')]//button[normalize-space()='Download']\").click()\n"
     ]
    }
   ],
   "source": [
    "# from selenium.common.exceptions import NoSuchElementException\n",
    "\n",
    "try:\n",
    "    time.sleep(2)\n",
    "    Driver.find_element_by_xpath(\".//div[contains(@class,'col-sm-6 col-xs-6')]//button[normalize-space()='Download']\").click()\n",
    "except NoSuchElementException:\n",
    "    print(\"onetouch not present....continuing script\")"
   ]
  },
  {
   "cell_type": "code",
   "execution_count": 154,
   "id": "0561abc6",
   "metadata": {
    "ExecuteTime": {
     "end_time": "2022-05-19T16:54:24.408168Z",
     "start_time": "2022-05-19T16:54:24.402185Z"
    }
   },
   "outputs": [],
   "source": [
    "# Txt = Driver.find_element_by_xpath(\".//div[contains(@class,'alert alert-msg alert-info alert-dismissible mar-t-5 mar-b-5 infoalign')]//span\").text"
   ]
  },
  {
   "cell_type": "code",
   "execution_count": 120,
   "id": "d9d61645",
   "metadata": {
    "ExecuteTime": {
     "end_time": "2022-05-19T15:29:57.058286Z",
     "start_time": "2022-05-19T15:29:56.131721Z"
    }
   },
   "outputs": [
    {
     "name": "stderr",
     "output_type": "stream",
     "text": [
      "C:\\Users\\aakas\\AppData\\Local\\Temp/ipykernel_12848/979024012.py:12: DeprecationWarning: find_element_by_* commands are deprecated. Please use find_element() instead\n",
      "  Driver.find_element_by_xpath(f\"//select[@name='fin']/option[text()='{f[i]}']\").click()\n",
      "C:\\Users\\aakas\\AppData\\Local\\Temp/ipykernel_12848/979024012.py:13: DeprecationWarning: find_element_by_* commands are deprecated. Please use find_element() instead\n",
      "  Months = Driver.find_element_by_name('mon').text.split('\\n')\n",
      "C:\\Users\\aakas\\AppData\\Local\\Temp/ipykernel_12848/979024012.py:17: DeprecationWarning: find_element_by_* commands are deprecated. Please use find_element() instead\n",
      "  Driver.find_element_by_xpath(f\"//select[@name='fin']/option[text()='{f[i]}']\").click()\n",
      "C:\\Users\\aakas\\AppData\\Local\\Temp/ipykernel_12848/979024012.py:18: DeprecationWarning: find_element_by_* commands are deprecated. Please use find_element() instead\n",
      "  Quarters = Driver.find_element_by_name('quarter').text.split('\\n')\n",
      "C:\\Users\\aakas\\AppData\\Local\\Temp/ipykernel_12848/979024012.py:20: DeprecationWarning: find_element_by_* commands are deprecated. Please use find_element() instead\n",
      "  Driver.find_element_by_xpath(f\"//select[@name='quarter']/option[text()='{q}']\").click()\n",
      "C:\\Users\\aakas\\AppData\\Local\\Temp/ipykernel_12848/979024012.py:21: DeprecationWarning: find_element_by_* commands are deprecated. Please use find_element() instead\n",
      "  Months = Driver.find_element_by_name('mon').text.split('\\n')\n"
     ]
    }
   ],
   "source": [
    "# Financial_Years = Driver.find_element_by_name('fin').text.split('\\n')\n",
    "# Quarters = Driver.find_element_by_name('quarter').text.split('\\n')\n",
    "# Months = Driver.find_element_by_name('mon').text.split('\\n')\n",
    "# for i in Financial_Years:\n",
    "#     Driver.find_element_by_xpath(\"//select[@name='fin']\").send_keys(i)\n",
    "#     Driver.find_element_by_xpath(\"//select[@name='fin']/option[text()='2020-21']\").click()\n",
    "# FY={}\n",
    "# Qs = {}\n",
    "# f = Financial_Years[::-1]\n",
    "# for i in range(len(f)):\n",
    "#     if i<=2:\n",
    "#         Driver.find_element_by_xpath(f\"//select[@name='fin']/option[text()='{f[i]}']\").click()\n",
    "#         Months = Driver.find_element_by_name('mon').text.split('\\n')\n",
    "#         FY[f[i]] = Months\n",
    "# #         print(f[i],\":\",Months)\n",
    "#     else:\n",
    "#         Driver.find_element_by_xpath(f\"//select[@name='fin']/option[text()='{f[i]}']\").click()\n",
    "#         Quarters = Driver.find_element_by_name('quarter').text.split('\\n')\n",
    "#         for q in Quarters:\n",
    "#             Driver.find_element_by_xpath(f\"//select[@name='quarter']/option[text()='{q}']\").click()\n",
    "#             Months = Driver.find_element_by_name('mon').text.split('\\n')\n",
    "#             Qs[q] = Months\n",
    "#         FY[f[i]] = Qs\n",
    "# #             print(f[i],\":\",q,\":\",Months)\n",
    "            \n",
    "#         print(f[i],\":\",Quarters,\":\",Months)"
   ]
  },
  {
   "cell_type": "code",
   "execution_count": 121,
   "id": "2aea5a78",
   "metadata": {
    "ExecuteTime": {
     "end_time": "2022-05-19T15:30:01.274833Z",
     "start_time": "2022-05-19T15:30:01.253890Z"
    }
   },
   "outputs": [
    {
     "data": {
      "text/plain": [
       "{'2017-18': ['July',\n",
       "  'August',\n",
       "  'September',\n",
       "  'October',\n",
       "  'November',\n",
       "  'December',\n",
       "  'January',\n",
       "  'February',\n",
       "  'March'],\n",
       " '2018-19': ['April',\n",
       "  'May',\n",
       "  'June',\n",
       "  'July',\n",
       "  'August',\n",
       "  'September',\n",
       "  'October',\n",
       "  'November',\n",
       "  'December',\n",
       "  'January',\n",
       "  'February',\n",
       "  'March'],\n",
       " '2019-20': ['April',\n",
       "  'May',\n",
       "  'June',\n",
       "  'July',\n",
       "  'August',\n",
       "  'September',\n",
       "  'October',\n",
       "  'November',\n",
       "  'December',\n",
       "  'January',\n",
       "  'February',\n",
       "  'March'],\n",
       " '2020-21': {'Quarter 1 (Apr - Jun)': ['April', 'May'],\n",
       "  'Quarter 2 (Jul - Sep)': ['July', 'August', 'September'],\n",
       "  'Quarter 3 (Oct - Dec)': ['October', 'November', 'December'],\n",
       "  'Quarter 4 (Jan - Mar)': ['January', 'February', 'March']},\n",
       " '2021-22': {'Quarter 1 (Apr - Jun)': ['April', 'May'],\n",
       "  'Quarter 2 (Jul - Sep)': ['July', 'August', 'September'],\n",
       "  'Quarter 3 (Oct - Dec)': ['October', 'November', 'December'],\n",
       "  'Quarter 4 (Jan - Mar)': ['January', 'February', 'March']},\n",
       " '2022-23': {'Quarter 1 (Apr - Jun)': ['April', 'May'],\n",
       "  'Quarter 2 (Jul - Sep)': ['July', 'August', 'September'],\n",
       "  'Quarter 3 (Oct - Dec)': ['October', 'November', 'December'],\n",
       "  'Quarter 4 (Jan - Mar)': ['January', 'February', 'March']}}"
      ]
     },
     "execution_count": 121,
     "metadata": {},
     "output_type": "execute_result"
    }
   ],
   "source": [
    "FY"
   ]
  },
  {
   "cell_type": "code",
   "execution_count": 131,
   "id": "f111ee18",
   "metadata": {
    "ExecuteTime": {
     "end_time": "2022-05-19T16:19:11.702917Z",
     "start_time": "2022-05-19T16:19:11.697931Z"
    }
   },
   "outputs": [],
   "source": [
    "# FY = {}\n",
    "# for i in Driver.find_element_by_name('fin').text.split('\\n'):\n",
    "#     FY[i] = {}\n",
    "# FY\n",
    "# {i:Driver.find_element_by_name('mon').text.split('\\n') for i in Driver.find_element_by_name('quarter').text.split('\\n')}\n",
    "# Driver.find_element_by_name('mon').text.split('\\n')"
   ]
  },
  {
   "cell_type": "code",
   "execution_count": 83,
   "id": "222ee3cd",
   "metadata": {
    "ExecuteTime": {
     "end_time": "2022-01-25T16:37:18.401219Z",
     "start_time": "2022-01-25T16:37:18.380276Z"
    }
   },
   "outputs": [],
   "source": [
    "Years = [\"2020-2021\"]\n",
    "Months = list(calendar.month_name)[1:]\n",
    "Quarter_Names = [\"Quarter 1 (Apr - Jun)\",\"Quarter 2 (Jul - Sep)\",\"Quarter 3 (Oct - Dec)\",\"Quarter 4 (Jan - Mar)\"]\n",
    "Quarter1 = Months[3:6]\n",
    "Quarter2 = Months[6:9]\n",
    "Quarter3 = Months[9:12]\n",
    "Quarter4 = Months[0:3]\n",
    "Quarters= [Quarter1,Quarter2,Quarter3,Quarter4]"
   ]
  },
  {
   "cell_type": "code",
   "execution_count": 61,
   "id": "a24a761c",
   "metadata": {
    "ExecuteTime": {
     "end_time": "2022-01-25T16:09:01.644885Z",
     "start_time": "2022-01-25T16:09:01.636909Z"
    }
   },
   "outputs": [
    {
     "data": {
      "text/plain": [
       "'Quarter 1 (Apr - Jun)'"
      ]
     },
     "execution_count": 61,
     "metadata": {},
     "output_type": "execute_result"
    }
   ],
   "source": [
    "# Months.append(Months[0])\n",
    "# Months.append(Months[1])\n",
    "# Months.append(Months[2])\n",
    "# Months = Months[3:]\n",
    "# Months\n",
    "Quarter_Names[0]"
   ]
  },
  {
   "cell_type": "code",
   "execution_count": 85,
   "id": "99911934",
   "metadata": {
    "ExecuteTime": {
     "end_time": "2022-01-25T16:37:40.060633Z",
     "start_time": "2022-01-25T16:37:40.038663Z"
    }
   },
   "outputs": [
    {
     "data": {
      "text/plain": [
       "'July'"
      ]
     },
     "execution_count": 85,
     "metadata": {},
     "output_type": "execute_result"
    }
   ],
   "source": [
    "Quarter_Names\n",
    "Quarter1\n",
    "Quarters[1][0]"
   ]
  },
  {
   "cell_type": "code",
   "execution_count": 77,
   "id": "3e737fa3",
   "metadata": {
    "ExecuteTime": {
     "end_time": "2022-01-25T16:35:26.349344Z",
     "start_time": "2022-01-25T16:35:07.277656Z"
    }
   },
   "outputs": [
    {
     "name": "stderr",
     "output_type": "stream",
     "text": [
      "C:\\Users\\aakas\\AppData\\Local\\Temp/ipykernel_16248/1446198894.py:1: DeprecationWarning: find_element_by_* commands are deprecated. Please use find_element() instead\n",
      "  Driver.find_element_by_xpath(\"//select[@name='fin']\").send_keys(Years[0])\n",
      "C:\\Users\\aakas\\AppData\\Local\\Temp/ipykernel_16248/1446198894.py:4: DeprecationWarning: find_element_by_* commands are deprecated. Please use find_element() instead\n",
      "  Driver.find_element_by_xpath(\"//select[@name='quarter']\").send_keys(Quarter_Names[i])\n",
      "C:\\Users\\aakas\\AppData\\Local\\Temp/ipykernel_16248/1446198894.py:7: DeprecationWarning: find_element_by_* commands are deprecated. Please use find_element() instead\n",
      "  Driver.find_element_by_xpath(\"//select[@name='mon']\").send_keys(Quarter[i][j])\n"
     ]
    }
   ],
   "source": [
    "Driver.find_element_by_xpath(\"//select[@name='fin']\").send_keys(Years[0])\n",
    "time.sleep(1)\n",
    "for i in range(len(Quarter_Names)):\n",
    "    Driver.find_element_by_xpath(\"//select[@name='quarter']\").send_keys(Quarter_Names[i])\n",
    "    time.sleep(1)\n",
    "    for j in range(len(Quarter1)):\n",
    "        Driver.find_element_by_xpath(\"//select[@name='mon']\").send_keys(Quarters[i][j])\n",
    "        time.sleep(1)"
   ]
  },
  {
   "cell_type": "code",
   "execution_count": 10,
   "id": "e963c2f3",
   "metadata": {
    "ExecuteTime": {
     "end_time": "2022-01-25T15:28:47.180219Z",
     "start_time": "2022-01-25T15:28:28.457862Z"
    }
   },
   "outputs": [
    {
     "name": "stderr",
     "output_type": "stream",
     "text": [
      "C:\\Users\\aakas\\AppData\\Local\\Temp/ipykernel_16248/3763214745.py:1: DeprecationWarning: find_element_by_* commands are deprecated. Please use find_element() instead\n",
      "  Driver.find_element_by_xpath(\"//select[@name='fin']/option[text()='2020-21']\").click()\n",
      "C:\\Users\\aakas\\AppData\\Local\\Temp/ipykernel_16248/3763214745.py:3: DeprecationWarning: find_element_by_* commands are deprecated. Please use find_element() instead\n",
      "  Driver.find_element_by_xpath(\"//select[@name='quarter']/option[text()='Quarter 1 (Apr - Jun)']\").click()\n",
      "C:\\Users\\aakas\\AppData\\Local\\Temp/ipykernel_16248/3763214745.py:5: DeprecationWarning: find_element_by_* commands are deprecated. Please use find_element() instead\n",
      "  Driver.find_element_by_xpath(\"//select[@name='mon']/option[text()='April']\").click()\n",
      "C:\\Users\\aakas\\AppData\\Local\\Temp/ipykernel_16248/3763214745.py:7: DeprecationWarning: find_element_by_* commands are deprecated. Please use find_element() instead\n",
      "  Driver.find_element_by_xpath(\"//select[@name='mon']/option[text()='May']\").click()\n",
      "C:\\Users\\aakas\\AppData\\Local\\Temp/ipykernel_16248/3763214745.py:9: DeprecationWarning: find_element_by_* commands are deprecated. Please use find_element() instead\n",
      "  Driver.find_element_by_xpath(\"//select[@name='mon']/option[text()='June']\").click()\n",
      "C:\\Users\\aakas\\AppData\\Local\\Temp/ipykernel_16248/3763214745.py:14: DeprecationWarning: find_element_by_* commands are deprecated. Please use find_element() instead\n",
      "  Driver.find_element_by_xpath(\"//select[@name='quarter']/option[text()='Quarter 2 (Jul - Sep)']\").click()\n",
      "C:\\Users\\aakas\\AppData\\Local\\Temp/ipykernel_16248/3763214745.py:16: DeprecationWarning: find_element_by_* commands are deprecated. Please use find_element() instead\n",
      "  Driver.find_element_by_xpath(\"//select[@name='mon']/option[text()='July']\").click()\n",
      "C:\\Users\\aakas\\AppData\\Local\\Temp/ipykernel_16248/3763214745.py:18: DeprecationWarning: find_element_by_* commands are deprecated. Please use find_element() instead\n",
      "  Driver.find_element_by_xpath(\"//select[@name='mon']/option[text()='August']\").click()\n",
      "C:\\Users\\aakas\\AppData\\Local\\Temp/ipykernel_16248/3763214745.py:20: DeprecationWarning: find_element_by_* commands are deprecated. Please use find_element() instead\n",
      "  Driver.find_element_by_xpath(\"//select[@name='mon']/option[text()='September']\").click()\n",
      "C:\\Users\\aakas\\AppData\\Local\\Temp/ipykernel_16248/3763214745.py:25: DeprecationWarning: find_element_by_* commands are deprecated. Please use find_element() instead\n",
      "  Driver.find_element_by_xpath(\"//select[@name='quarter']/option[text()='Quarter 3 (Oct - Dec)']\").click()\n",
      "C:\\Users\\aakas\\AppData\\Local\\Temp/ipykernel_16248/3763214745.py:27: DeprecationWarning: find_element_by_* commands are deprecated. Please use find_element() instead\n",
      "  Driver.find_element_by_xpath(\"//select[@name='mon']/option[text()='October']\").click()\n",
      "C:\\Users\\aakas\\AppData\\Local\\Temp/ipykernel_16248/3763214745.py:29: DeprecationWarning: find_element_by_* commands are deprecated. Please use find_element() instead\n",
      "  Driver.find_element_by_xpath(\"//select[@name='mon']/option[text()='November']\").click()\n",
      "C:\\Users\\aakas\\AppData\\Local\\Temp/ipykernel_16248/3763214745.py:31: DeprecationWarning: find_element_by_* commands are deprecated. Please use find_element() instead\n",
      "  Driver.find_element_by_xpath(\"//select[@name='mon']/option[text()='December']\").click()\n",
      "C:\\Users\\aakas\\AppData\\Local\\Temp/ipykernel_16248/3763214745.py:36: DeprecationWarning: find_element_by_* commands are deprecated. Please use find_element() instead\n",
      "  Driver.find_element_by_xpath(\"//select[@name='quarter']/option[text()='Quarter 4 (Jan - Mar)']\").click()\n",
      "C:\\Users\\aakas\\AppData\\Local\\Temp/ipykernel_16248/3763214745.py:38: DeprecationWarning: find_element_by_* commands are deprecated. Please use find_element() instead\n",
      "  Driver.find_element_by_xpath(\"//select[@name='mon']/option[text()='January']\").click()\n",
      "C:\\Users\\aakas\\AppData\\Local\\Temp/ipykernel_16248/3763214745.py:40: DeprecationWarning: find_element_by_* commands are deprecated. Please use find_element() instead\n",
      "  Driver.find_element_by_xpath(\"//select[@name='mon']/option[text()='February']\").click()\n",
      "C:\\Users\\aakas\\AppData\\Local\\Temp/ipykernel_16248/3763214745.py:42: DeprecationWarning: find_element_by_* commands are deprecated. Please use find_element() instead\n",
      "  Driver.find_element_by_xpath(\"//select[@name='mon']/option[text()='March']\").click()\n"
     ]
    }
   ],
   "source": [
    "Driver.find_element_by_xpath(\"//select[@name='fin']/option[text()='2020-21']\").click()\n",
    "time.sleep(1)\n",
    "Driver.find_element_by_xpath(\"//select[@name='quarter']/option[text()='Quarter 1 (Apr - Jun)']\").click()\n",
    "time.sleep(1)\n",
    "\n",
    "Driver.find_element_by_xpath(\"//select[@name='mon']/option[text()='April']\").click()\n",
    "time.sleep(1)\n",
    "Driver.find_element_by_xpath(\"//select[@name='mon']/option[text()='May']\").click()\n",
    "time.sleep(1)\n",
    "Driver.find_element_by_xpath(\"//select[@name='mon']/option[text()='June']\").click()\n",
    "time.sleep(1)\n",
    "\n",
    "# Driver.find_element_by_xpath(\"//select[@name='fin']/option[text()='2020-21']\").click()\n",
    "# time.sleep(1)\n",
    "Driver.find_element_by_xpath(\"//select[@name='quarter']/option[text()='Quarter 2 (Jul - Sep)']\").click()\n",
    "time.sleep(1)\n",
    "Driver.find_element_by_xpath(\"//select[@name='mon']/option[text()='July']\").click()\n",
    "time.sleep(1)\n",
    "Driver.find_element_by_xpath(\"//select[@name='mon']/option[text()='August']\").click()\n",
    "time.sleep(1)\n",
    "Driver.find_element_by_xpath(\"//select[@name='mon']/option[text()='September']\").click()\n",
    "time.sleep(1)\n",
    "\n",
    "# Driver.find_element_by_xpath(\"//select[@name='fin']/option[text()='2020-21']\").click()\n",
    "# time.sleep(1)\n",
    "Driver.find_element_by_xpath(\"//select[@name='quarter']/option[text()='Quarter 3 (Oct - Dec)']\").click()\n",
    "time.sleep(1)\n",
    "Driver.find_element_by_xpath(\"//select[@name='mon']/option[text()='October']\").click()\n",
    "time.sleep(1)\n",
    "Driver.find_element_by_xpath(\"//select[@name='mon']/option[text()='November']\").click()\n",
    "time.sleep(1)\n",
    "Driver.find_element_by_xpath(\"//select[@name='mon']/option[text()='December']\").click()\n",
    "time.sleep(1)\n",
    "\n",
    "# Driver.find_element_by_xpath(\"//select[@name='fin']/option[text()='2020-21']\").click()\n",
    "# time.sleep(1)\n",
    "Driver.find_element_by_xpath(\"//select[@name='quarter']/option[text()='Quarter 4 (Jan - Mar)']\").click()\n",
    "time.sleep(1)\n",
    "Driver.find_element_by_xpath(\"//select[@name='mon']/option[text()='January']\").click()\n",
    "time.sleep(1)\n",
    "Driver.find_element_by_xpath(\"//select[@name='mon']/option[text()='February']\").click()\n",
    "time.sleep(1)\n",
    "Driver.find_element_by_xpath(\"//select[@name='mon']/option[text()='March']\").click()\n",
    "time.sleep(1)\n",
    "# Driver.find_element_by_class_name(\"srchbtn\").click()"
   ]
  },
  {
   "cell_type": "code",
   "execution_count": 17,
   "id": "d4e6a15a",
   "metadata": {
    "ExecuteTime": {
     "end_time": "2022-01-25T15:32:16.839538Z",
     "start_time": "2022-01-25T15:32:16.828571Z"
    }
   },
   "outputs": [],
   "source": [
    "a = ['March']"
   ]
  },
  {
   "cell_type": "code",
   "execution_count": 18,
   "id": "5ec45449",
   "metadata": {
    "ExecuteTime": {
     "end_time": "2022-01-25T15:32:17.551389Z",
     "start_time": "2022-01-25T15:32:17.479583Z"
    }
   },
   "outputs": [
    {
     "name": "stderr",
     "output_type": "stream",
     "text": [
      "C:\\Users\\aakas\\AppData\\Local\\Temp/ipykernel_16248/3470173563.py:1: DeprecationWarning: find_element_by_* commands are deprecated. Please use find_element() instead\n",
      "  Driver.find_element_by_xpath(\"//select[@name='mon']\").send_keys(a[0])\n"
     ]
    }
   ],
   "source": [
    "Driver.find_element_by_xpath(\"//select[@name='mon']\").send_keys(a[0])"
   ]
  },
  {
   "cell_type": "code",
   "execution_count": null,
   "id": "22b9c990",
   "metadata": {},
   "outputs": [],
   "source": []
  },
  {
   "cell_type": "code",
   "execution_count": null,
   "id": "b4815604",
   "metadata": {},
   "outputs": [],
   "source": []
  }
 ],
 "metadata": {
  "hide_input": false,
  "kernelspec": {
   "display_name": "Python 3 (ipykernel)",
   "language": "python",
   "name": "python3"
  },
  "language_info": {
   "codemirror_mode": {
    "name": "ipython",
    "version": 3
   },
   "file_extension": ".py",
   "mimetype": "text/x-python",
   "name": "python",
   "nbconvert_exporter": "python",
   "pygments_lexer": "ipython3",
   "version": "3.9.7"
  },
  "nbTranslate": {
   "displayLangs": [
    "*"
   ],
   "hotkey": "alt-t",
   "langInMainMenu": true,
   "sourceLang": "en",
   "targetLang": "fr",
   "useGoogleTranslate": true
  },
  "varInspector": {
   "cols": {
    "lenName": 16,
    "lenType": 16,
    "lenVar": 40
   },
   "kernels_config": {
    "python": {
     "delete_cmd_postfix": "",
     "delete_cmd_prefix": "del ",
     "library": "var_list.py",
     "varRefreshCmd": "print(var_dic_list())"
    },
    "r": {
     "delete_cmd_postfix": ") ",
     "delete_cmd_prefix": "rm(",
     "library": "var_list.r",
     "varRefreshCmd": "cat(var_dic_list()) "
    }
   },
   "types_to_exclude": [
    "module",
    "function",
    "builtin_function_or_method",
    "instance",
    "_Feature"
   ],
   "window_display": false
  }
 },
 "nbformat": 4,
 "nbformat_minor": 5
}
