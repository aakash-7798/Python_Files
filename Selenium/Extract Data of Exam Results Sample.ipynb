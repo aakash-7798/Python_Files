{
 "cells": [
  {
   "cell_type": "code",
   "execution_count": 1,
   "id": "6b0e77d9",
   "metadata": {},
   "outputs": [],
   "source": [
    "from selenium import webdriver\n",
    "from selenium.webdriver.chrome.options import Options\n",
    "import time\n",
    "import pandas as pd"
   ]
  },
  {
   "cell_type": "code",
   "execution_count": 2,
   "id": "2c2b1483",
   "metadata": {},
   "outputs": [],
   "source": [
    "options = Options()\n",
    "options.add_argument('start-maximized')"
   ]
  },
  {
   "cell_type": "code",
   "execution_count": 3,
   "id": "c9d8a87d",
   "metadata": {},
   "outputs": [],
   "source": [
    "url = 'http://www.results.manabadi.co.in/osmania-university-ug-cbcs-ba-bcom-bsc-bba-2019-exam-results-13-082019.htm'"
   ]
  },
  {
   "cell_type": "code",
   "execution_count": 16,
   "id": "c193d22f",
   "metadata": {},
   "outputs": [
    {
     "name": "stderr",
     "output_type": "stream",
     "text": [
      "C:\\Users\\aakas\\AppData\\Local\\Temp/ipykernel_8688/2443751661.py:3: DeprecationWarning: executable_path has been deprecated, please pass in a Service object\n",
      "  driver = webdriver.Chrome(chrome_options=options,executable_path=\"C:\\\\WebDriver\\\\chromedriver.exe\")\n",
      "C:\\Users\\aakas\\AppData\\Local\\Temp/ipykernel_8688/2443751661.py:3: DeprecationWarning: use options instead of chrome_options\n",
      "  driver = webdriver.Chrome(chrome_options=options,executable_path=\"C:\\\\WebDriver\\\\chromedriver.exe\")\n",
      "C:\\Users\\aakas\\AppData\\Local\\Temp/ipykernel_8688/2443751661.py:5: DeprecationWarning: find_element_by_* commands are deprecated. Please use find_element() instead\n",
      "  driver.find_element_by_id(\"htno\").send_keys(\"105916467001\")\n",
      "C:\\Users\\aakas\\AppData\\Local\\Temp/ipykernel_8688/2443751661.py:7: DeprecationWarning: find_element_by_* commands are deprecated. Please use find_element() instead\n",
      "  driver.find_element_by_id(\"Degree\").send_keys(\"BSC\")\n",
      "C:\\Users\\aakas\\AppData\\Local\\Temp/ipykernel_8688/2443751661.py:9: DeprecationWarning: find_element_by_* commands are deprecated. Please use find_element() instead\n",
      "  driver.find_element_by_id('btnsubmit').click()\n",
      "C:\\Users\\aakas\\AppData\\Local\\Temp/ipykernel_8688/2443751661.py:10: DeprecationWarning: find_element_by_* commands are deprecated. Please use find_element() instead\n",
      "  driver.find_element_by_id(\"htno\").clear()\n",
      "C:\\Users\\aakas\\AppData\\Local\\Temp/ipykernel_8688/2443751661.py:11: DeprecationWarning: find_element_by_* commands are deprecated. Please use find_element() instead\n",
      "  driver.find_element_by_id(\"htno\").send_keys(\"105916467002\")\n",
      "C:\\Users\\aakas\\AppData\\Local\\Temp/ipykernel_8688/2443751661.py:13: DeprecationWarning: find_element_by_* commands are deprecated. Please use find_element() instead\n",
      "  driver.find_element_by_id(\"Degree\").send_keys(\"BSC\")\n",
      "C:\\Users\\aakas\\AppData\\Local\\Temp/ipykernel_8688/2443751661.py:15: DeprecationWarning: find_element_by_* commands are deprecated. Please use find_element() instead\n",
      "  driver.find_element_by_id('btnsubmit').click()\n"
     ]
    }
   ],
   "source": [
    "# ht = input(\"Enter Hall Ticket Number : \")\n",
    "# cs = input(\"Enter Course : Bcom Bsc BA BBA \")\n",
    "driver = webdriver.Chrome(chrome_options=options,executable_path=\"C:\\\\WebDriver\\\\chromedriver.exe\")\n",
    "driver.get(url)\n",
    "driver.find_element_by_id(\"htno\").send_keys(\"105916467001\")\n",
    "time.sleep(1)\n",
    "driver.find_element_by_id(\"Degree\").send_keys(\"BSC\")\n",
    "time.sleep(1)\n",
    "driver.find_element_by_id('btnsubmit').click()\n",
    "driver.find_element_by_id(\"htno\").clear()\n",
    "driver.find_element_by_id(\"htno\").send_keys(\"105916467002\")\n",
    "time.sleep(1)\n",
    "driver.find_element_by_id(\"Degree\").send_keys(\"BSC\")\n",
    "time.sleep(1)\n",
    "driver.find_element_by_id('btnsubmit').click()"
   ]
  },
  {
   "cell_type": "code",
   "execution_count": 220,
   "id": "a5807300",
   "metadata": {},
   "outputs": [
    {
     "name": "stderr",
     "output_type": "stream",
     "text": [
      "C:\\Users\\aakas\\AppData\\Local\\Temp/ipykernel_15808/3175361176.py:2: DeprecationWarning: find_element_by_* commands are deprecated. Please use find_element() instead\n",
      "  driver.find_element_by_id(\"Degree\").send_keys(cs)\n"
     ]
    }
   ],
   "source": [
    "# driver.find_element_by_id(\"htno\").clear()\n",
    "# driver.find_element_by_id(\"Degree\").send_keys(cs)"
   ]
  },
  {
   "cell_type": "code",
   "execution_count": 14,
   "id": "b3812fd9",
   "metadata": {},
   "outputs": [
    {
     "name": "stderr",
     "output_type": "stream",
     "text": [
      "C:\\Users\\aakas\\AppData\\Local\\Temp/ipykernel_8688/2646769182.py:1: DeprecationWarning: find_element_by_* commands are deprecated. Please use find_element() instead\n",
      "  [driver.find_element_by_xpath('//span[@id=\"sMsg\"]').text][0].strip(\".\") == 'Invalid Hall Ticket No'\n"
     ]
    },
    {
     "data": {
      "text/plain": [
       "True"
      ]
     },
     "execution_count": 14,
     "metadata": {},
     "output_type": "execute_result"
    }
   ],
   "source": [
    "[driver.find_element_by_xpath('//span[@id=\"sMsg\"]').text][0].strip(\".\") == 'Invalid Hall Ticket No'"
   ]
  },
  {
   "cell_type": "code",
   "execution_count": 5,
   "id": "31e9a20e",
   "metadata": {},
   "outputs": [
    {
     "name": "stderr",
     "output_type": "stream",
     "text": [
      "C:\\Users\\aakas\\AppData\\Local\\Temp/ipykernel_8688/2954865602.py:1: DeprecationWarning: find_element_by_* commands are deprecated. Please use find_element() instead\n",
      "  driver.find_element_by_id(\"subhtm\").text\n"
     ]
    },
    {
     "data": {
      "text/plain": [
       "''"
      ]
     },
     "execution_count": 5,
     "metadata": {},
     "output_type": "execute_result"
    }
   ],
   "source": [
    "driver.find_element_by_id(\"subhtm\").text"
   ]
  },
  {
   "cell_type": "code",
   "execution_count": 9,
   "id": "be153ca1",
   "metadata": {},
   "outputs": [
    {
     "name": "stderr",
     "output_type": "stream",
     "text": [
      "C:\\Users\\aakas\\AppData\\Local\\Temp/ipykernel_15808/3416287205.py:1: DeprecationWarning: find_element_by_* commands are deprecated. Please use find_element() instead\n",
      "  Table1 = driver.find_element_by_xpath('//div[@id=\"subhtm\"]//table[1]')\n"
     ]
    }
   ],
   "source": [
    "Table1 = driver.find_element_by_xpath('//div[@id=\"subhtm\"]//table[1]')"
   ]
  },
  {
   "cell_type": "code",
   "execution_count": 104,
   "id": "6e2fdce7",
   "metadata": {},
   "outputs": [
    {
     "name": "stderr",
     "output_type": "stream",
     "text": [
      "C:\\Users\\aakas\\anaconda3\\lib\\site-packages\\selenium\\webdriver\\remote\\webelement.py:359: UserWarning: find_elements_by_* commands are deprecated. Please use find_elements() instead\n",
      "  warnings.warn(\"find_elements_by_* commands are deprecated. Please use find_elements() instead\")\n"
     ]
    },
    {
     "data": {
      "text/plain": [
       "['Hall Ticket No',\n",
       " '105916467074',\n",
       " 'Name',\n",
       " 'N NAGA PRASANNA KUMAR',\n",
       " \"Father's Name\",\n",
       " 'N SRINIVAS',\n",
       " 'Gender',\n",
       " 'M',\n",
       " 'Medium',\n",
       " 'EN',\n",
       " 'Course',\n",
       " 'BSC']"
      ]
     },
     "execution_count": 104,
     "metadata": {},
     "output_type": "execute_result"
    }
   ],
   "source": [
    "Personal_Information = []\n",
    "for i in Table1.find_elements_by_tag_name('td'):\n",
    "    Personal_Information.append(i.text)\n",
    "Personal_Information = Personal_Information[1:]\n",
    "Personal_Information"
   ]
  },
  {
   "cell_type": "code",
   "execution_count": 124,
   "id": "010e6bb7",
   "metadata": {},
   "outputs": [
    {
     "data": {
      "text/plain": [
       "{'Hall Ticket No': '105916467074',\n",
       " 'Name': 'N NAGA PRASANNA KUMAR',\n",
       " \"Father's Name\": 'N SRINIVAS',\n",
       " 'Gender': 'M',\n",
       " 'Medium': 'EN',\n",
       " 'Course': 'BSC'}"
      ]
     },
     "execution_count": 124,
     "metadata": {},
     "output_type": "execute_result"
    }
   ],
   "source": [
    "PI = {}\n",
    "for (i,j) in zip(Personal_Information[::2],Personal_Information[1::2]):\n",
    "    PI[i] = j\n",
    "PI"
   ]
  },
  {
   "cell_type": "code",
   "execution_count": 25,
   "id": "039b0006",
   "metadata": {},
   "outputs": [
    {
     "name": "stderr",
     "output_type": "stream",
     "text": [
      "C:\\Users\\aakas\\AppData\\Local\\Temp/ipykernel_15808/3875442668.py:1: DeprecationWarning: find_element_by_* commands are deprecated. Please use find_element() instead\n",
      "  Table2 =driver.find_element_by_xpath('//div[@id=\"subhtm\"]//table[2]')\n"
     ]
    }
   ],
   "source": [
    "Table2 =driver.find_element_by_xpath('//div[@id=\"subhtm\"]//table[2]')"
   ]
  },
  {
   "cell_type": "code",
   "execution_count": 186,
   "id": "b906e5a6",
   "metadata": {
    "scrolled": true
   },
   "outputs": [
    {
     "name": "stderr",
     "output_type": "stream",
     "text": [
      "C:\\Users\\aakas\\anaconda3\\lib\\site-packages\\selenium\\webdriver\\remote\\webelement.py:359: UserWarning: find_elements_by_* commands are deprecated. Please use find_elements() instead\n",
      "  warnings.warn(\"find_elements_by_* commands are deprecated. Please use find_elements() instead\")\n"
     ]
    },
    {
     "data": {
      "text/plain": [
       "['Subject Code', 'Subject Name', 'Credits', 'Grade Points', 'Grade Secured']"
      ]
     },
     "execution_count": 186,
     "metadata": {},
     "output_type": "execute_result"
    }
   ],
   "source": [
    "Marks_Details = []\n",
    "for i in Table2.find_elements_by_tag_name('td'):\n",
    "    Marks_Details.append(i.text)\n",
    "Marks_Details = Marks_Details[1:]\n",
    "Marks_Details[0:5]"
   ]
  },
  {
   "cell_type": "code",
   "execution_count": 188,
   "id": "83e9e5a7",
   "metadata": {},
   "outputs": [
    {
     "data": {
      "text/plain": [
       "[['750',\n",
       "  '752',\n",
       "  '850',\n",
       "  '852',\n",
       "  '759Q',\n",
       "  '859T',\n",
       "  '851',\n",
       "  '724',\n",
       "  '849',\n",
       "  '823',\n",
       "  '824',\n",
       "  '749',\n",
       "  '723',\n",
       "  '751'],\n",
       " ['MATHEMATICS.7 PR',\n",
       "  'COMP. SCIENCE.7 PR',\n",
       "  'MATHEMATICS.8 PR',\n",
       "  'COMP. SCIENCE.8 PR',\n",
       "  'GRAPH THEORY',\n",
       "  'SECTORS OF INDIAN ECONOMY',\n",
       "  'COMP. SCIENCE.8',\n",
       "  'STATISTICS.7 PR',\n",
       "  'MATHEMATICS.8',\n",
       "  'STATISTICS.8',\n",
       "  'STATISTICS.8 PR',\n",
       "  'MATHEMATICS.7',\n",
       "  'STATISTICS.7',\n",
       "  'COMP. SCIENCE.7'],\n",
       " ['1', '1', '1', '1', '2', '2', '3', '1', '3', '3', '1', '3', '3', '3'],\n",
       " ['10',\n",
       "  '10',\n",
       "  '10',\n",
       "  '10',\n",
       "  '9',\n",
       "  '10',\n",
       "  '9',\n",
       "  '10',\n",
       "  '10',\n",
       "  '10',\n",
       "  '10',\n",
       "  '10',\n",
       "  '10',\n",
       "  '10'],\n",
       " ['O', 'O', 'O', 'O', 'A', 'O', 'A', 'O', 'O', 'O', 'O', 'O', 'O', 'O']]"
      ]
     },
     "execution_count": 188,
     "metadata": {},
     "output_type": "execute_result"
    }
   ],
   "source": [
    "# [Marks_Details[5*i:5*(i+1)] for i in range(int(len(Marks_Details[5:])/10) + 1)]\n",
    "MD = [Marks_Details[i::5][1:] for i in range(len(Marks_Details[0:5])) ]\n",
    "MD"
   ]
  },
  {
   "cell_type": "code",
   "execution_count": 191,
   "id": "48f44775",
   "metadata": {},
   "outputs": [
    {
     "data": {
      "text/plain": [
       "{'Subject Code': ['750',\n",
       "  '752',\n",
       "  '850',\n",
       "  '852',\n",
       "  '759Q',\n",
       "  '859T',\n",
       "  '851',\n",
       "  '724',\n",
       "  '849',\n",
       "  '823',\n",
       "  '824',\n",
       "  '749',\n",
       "  '723',\n",
       "  '751'],\n",
       " 'Subject Name': ['MATHEMATICS.7 PR',\n",
       "  'COMP. SCIENCE.7 PR',\n",
       "  'MATHEMATICS.8 PR',\n",
       "  'COMP. SCIENCE.8 PR',\n",
       "  'GRAPH THEORY',\n",
       "  'SECTORS OF INDIAN ECONOMY',\n",
       "  'COMP. SCIENCE.8',\n",
       "  'STATISTICS.7 PR',\n",
       "  'MATHEMATICS.8',\n",
       "  'STATISTICS.8',\n",
       "  'STATISTICS.8 PR',\n",
       "  'MATHEMATICS.7',\n",
       "  'STATISTICS.7',\n",
       "  'COMP. SCIENCE.7'],\n",
       " 'Credits': ['1',\n",
       "  '1',\n",
       "  '1',\n",
       "  '1',\n",
       "  '2',\n",
       "  '2',\n",
       "  '3',\n",
       "  '1',\n",
       "  '3',\n",
       "  '3',\n",
       "  '1',\n",
       "  '3',\n",
       "  '3',\n",
       "  '3'],\n",
       " 'Grade Points': ['10',\n",
       "  '10',\n",
       "  '10',\n",
       "  '10',\n",
       "  '9',\n",
       "  '10',\n",
       "  '9',\n",
       "  '10',\n",
       "  '10',\n",
       "  '10',\n",
       "  '10',\n",
       "  '10',\n",
       "  '10',\n",
       "  '10'],\n",
       " 'Grade Secured': ['O',\n",
       "  'O',\n",
       "  'O',\n",
       "  'O',\n",
       "  'A',\n",
       "  'O',\n",
       "  'A',\n",
       "  'O',\n",
       "  'O',\n",
       "  'O',\n",
       "  'O',\n",
       "  'O',\n",
       "  'O',\n",
       "  'O']}"
      ]
     },
     "execution_count": 191,
     "metadata": {},
     "output_type": "execute_result"
    }
   ],
   "source": [
    "MI = {}\n",
    "for (i,j) in zip(Marks_Details[0:5],MD):\n",
    "    MI[i] = j\n",
    "MI"
   ]
  },
  {
   "cell_type": "code",
   "execution_count": 37,
   "id": "b337a7c3",
   "metadata": {},
   "outputs": [
    {
     "name": "stdout",
     "output_type": "stream",
     "text": [
      "Marks Details\n",
      "Subject Code\n",
      "Subject Name\n",
      "Credits\n",
      "Grade Points\n",
      "Grade Secured\n"
     ]
    },
    {
     "name": "stderr",
     "output_type": "stream",
     "text": [
      "C:\\Users\\aakas\\anaconda3\\lib\\site-packages\\selenium\\webdriver\\remote\\webelement.py:359: UserWarning: find_elements_by_* commands are deprecated. Please use find_elements() instead\n",
      "  warnings.warn(\"find_elements_by_* commands are deprecated. Please use find_elements() instead\")\n"
     ]
    }
   ],
   "source": [
    "for i in Table2.find_elements_by_tag_name('b'):\n",
    "    print(i.text)"
   ]
  },
  {
   "cell_type": "code",
   "execution_count": 27,
   "id": "25853d91",
   "metadata": {},
   "outputs": [
    {
     "name": "stderr",
     "output_type": "stream",
     "text": [
      "C:\\Users\\aakas\\AppData\\Local\\Temp/ipykernel_15808/2367692204.py:1: DeprecationWarning: find_element_by_* commands are deprecated. Please use find_element() instead\n",
      "  Table3 = driver.find_element_by_xpath('//div[@id=\"subhtm\"]//table[3]')\n"
     ]
    }
   ],
   "source": [
    "Table3 = driver.find_element_by_xpath('//div[@id=\"subhtm\"]//table[3]')"
   ]
  },
  {
   "cell_type": "code",
   "execution_count": 192,
   "id": "aa3fb351",
   "metadata": {},
   "outputs": [
    {
     "name": "stderr",
     "output_type": "stream",
     "text": [
      "C:\\Users\\aakas\\anaconda3\\lib\\site-packages\\selenium\\webdriver\\remote\\webelement.py:359: UserWarning: find_elements_by_* commands are deprecated. Please use find_elements() instead\n",
      "  warnings.warn(\"find_elements_by_* commands are deprecated. Please use find_elements() instead\")\n"
     ]
    },
    {
     "data": {
      "text/plain": [
       "['Semester', 'Result-SGPA', 'CGPA', '6', 'PASSED-9.82', '9.87']"
      ]
     },
     "execution_count": 192,
     "metadata": {},
     "output_type": "execute_result"
    }
   ],
   "source": [
    "Result = []\n",
    "for i in Table3.find_elements_by_tag_name('td'):\n",
    "    Result.append(i.text)\n",
    "Result = Result[1:]\n",
    "Result"
   ]
  },
  {
   "cell_type": "code",
   "execution_count": 199,
   "id": "3a6287c9",
   "metadata": {},
   "outputs": [
    {
     "data": {
      "text/plain": [
       "<function dict.values>"
      ]
     },
     "execution_count": 199,
     "metadata": {},
     "output_type": "execute_result"
    }
   ],
   "source": [
    "RI = {}\n",
    "for (i,j) in zip(Result[0:3],Result[3:]):\n",
    "    RI[i] = j\n",
    "RI"
   ]
  },
  {
   "cell_type": "code",
   "execution_count": 211,
   "id": "346b5611",
   "metadata": {},
   "outputs": [
    {
     "name": "stdout",
     "output_type": "stream",
     "text": [
      "Semester\n",
      "6Result-SGPA\n",
      "PASSED-9.82CGPA\n",
      "9.87"
     ]
    }
   ],
   "source": [
    "for i,j in RI.items():\n",
    "    print(i,\":\",j,\"  \",end=\"\")\n"
   ]
  },
  {
   "cell_type": "code",
   "execution_count": 38,
   "id": "03d2fd0a",
   "metadata": {},
   "outputs": [
    {
     "name": "stdout",
     "output_type": "stream",
     "text": [
      "Result\n",
      "Semester\n",
      "Result-SGPA\n",
      "CGPA\n"
     ]
    },
    {
     "name": "stderr",
     "output_type": "stream",
     "text": [
      "C:\\Users\\aakas\\anaconda3\\lib\\site-packages\\selenium\\webdriver\\remote\\webelement.py:359: UserWarning: find_elements_by_* commands are deprecated. Please use find_elements() instead\n",
      "  warnings.warn(\"find_elements_by_* commands are deprecated. Please use find_elements() instead\")\n"
     ]
    }
   ],
   "source": [
    "for i in Table3.find_elements_by_tag_name('b'):\n",
    "    print(i.text)"
   ]
  },
  {
   "cell_type": "code",
   "execution_count": 222,
   "id": "b1f0164a",
   "metadata": {},
   "outputs": [
    {
     "data": {
      "text/plain": [
       "['Personal Information',\n",
       " 'Hall Ticket No 105916467074',\n",
       " 'Name N NAGA PRASANNA KUMAR',\n",
       " \"Father's Name N SRINIVAS\",\n",
       " 'Gender M',\n",
       " 'Medium EN',\n",
       " 'Course BSC']"
      ]
     },
     "execution_count": 222,
     "metadata": {},
     "output_type": "execute_result"
    }
   ],
   "source": [
    "Table1.split(\"\\n\")"
   ]
  },
  {
   "cell_type": "code",
   "execution_count": 238,
   "id": "66b94b6e",
   "metadata": {},
   "outputs": [
    {
     "data": {
      "text/plain": [
       "'BSC'"
      ]
     },
     "execution_count": 238,
     "metadata": {},
     "output_type": "execute_result"
    }
   ],
   "source": [
    "Table1.split(\"\\n\")[6][7:]"
   ]
  },
  {
   "cell_type": "code",
   "execution_count": 250,
   "id": "e0298592",
   "metadata": {},
   "outputs": [],
   "source": [
    "Personal_Information = {}"
   ]
  },
  {
   "cell_type": "code",
   "execution_count": 251,
   "id": "0d341cb9",
   "metadata": {
    "scrolled": true
   },
   "outputs": [],
   "source": [
    "Personal_Information[\"Hall Ticket No\"] = [Table1.split(\"\\n\")[1][15:]]\n",
    "Personal_Information[\"Name\"] = [Table1.split(\"\\n\")[2][4:]]\n",
    "Personal_Information[\"Father's Name\"] = [Table1.split(\"\\n\")[3][14:]]\n",
    "Personal_Information[\"Gender\"] = [Table1.split(\"\\n\")[4][7:]]\n",
    "Personal_Information[\"Medium\"] = [Table1.split(\"\\n\")[5][7:]]\n",
    "Personal_Information[\"Course\"] = [Table1.split(\"\\n\")[6][7:]]"
   ]
  },
  {
   "cell_type": "code",
   "execution_count": 263,
   "id": "4cea1698",
   "metadata": {},
   "outputs": [
    {
     "name": "stdout",
     "output_type": "stream",
     "text": [
      "Hall Ticket No            105916467074\n",
      "Name             N NAGA PRASANNA KUMAR\n",
      "Father's Name               N SRINIVAS\n",
      "Gender                               M\n",
      "Medium                              EN\n",
      "Course                             BSC\n"
     ]
    }
   ],
   "source": [
    "print(pd.DataFrame(Personal_Information).transpose().to_string(header=False))"
   ]
  },
  {
   "cell_type": "code",
   "execution_count": 173,
   "id": "7fe8bfcf",
   "metadata": {},
   "outputs": [
    {
     "data": {
      "text/plain": [
       "['Marks Details',\n",
       " 'Subject Code Subject Name Credits Grade Points Grade Secured',\n",
       " '750 MATHEMATICS.7 PR 1 10 O',\n",
       " '752 COMP. SCIENCE.7 PR 1 10 O',\n",
       " '850 MATHEMATICS.8 PR 1 10 O',\n",
       " '852 COMP. SCIENCE.8 PR 1 10 O',\n",
       " '759Q GRAPH THEORY 2 9 A',\n",
       " '859T SECTORS OF INDIAN ECONOMY 2 10 O',\n",
       " '851 COMP. SCIENCE.8 3 9 A',\n",
       " '724 STATISTICS.7 PR 1 10 O',\n",
       " '849 MATHEMATICS.8 3 10 O',\n",
       " '823 STATISTICS.8 3 10 O',\n",
       " '824 STATISTICS.8 PR 1 10 O',\n",
       " '749 MATHEMATICS.7 3 10 O',\n",
       " '723 STATISTICS.7 3 10 O',\n",
       " '751 COMP. SCIENCE.7 3 10 O']"
      ]
     },
     "execution_count": 173,
     "metadata": {},
     "output_type": "execute_result"
    }
   ],
   "source": [
    "Table2.split(\"\\n\")"
   ]
  },
  {
   "cell_type": "code",
   "execution_count": 269,
   "id": "468155fa",
   "metadata": {},
   "outputs": [
    {
     "data": {
      "text/plain": [
       "'Result\\nSemester Result-SGPA CGPA\\n6 PASSED-9.82 9.87'"
      ]
     },
     "execution_count": 269,
     "metadata": {},
     "output_type": "execute_result"
    }
   ],
   "source": [
    "Table3"
   ]
  },
  {
   "cell_type": "code",
   "execution_count": 278,
   "id": "cdd63c33",
   "metadata": {},
   "outputs": [
    {
     "data": {
      "text/plain": [
       "['6', 'PASSED-9.82', '9.87']"
      ]
     },
     "execution_count": 278,
     "metadata": {},
     "output_type": "execute_result"
    }
   ],
   "source": [
    "Table3.split(\"\\n\")[-1].split(\" \")"
   ]
  },
  {
   "cell_type": "code",
   "execution_count": 280,
   "id": "64ba3a21",
   "metadata": {},
   "outputs": [],
   "source": [
    "Result = {}"
   ]
  },
  {
   "cell_type": "code",
   "execution_count": 281,
   "id": "0f716979",
   "metadata": {},
   "outputs": [],
   "source": [
    "Result[\"Semester\"] = [Table3.split(\"\\n\")[-1].split(\" \")[0]]\n",
    "Result[\"Result-SGPA\"] = [Table3.split(\"\\n\")[-1].split(\" \")[1]]\n",
    "Result[\"CGPA\"] = [Table3.split(\"\\n\")[-1].split(\" \")[2]]"
   ]
  },
  {
   "cell_type": "code",
   "execution_count": 285,
   "id": "0eecd0a1",
   "metadata": {},
   "outputs": [
    {
     "name": "stdout",
     "output_type": "stream",
     "text": [
      "Semester Result-SGPA CGPA\n",
      "       6 PASSED-9.82 9.87\n"
     ]
    }
   ],
   "source": [
    "print(pd.DataFrame(Result).to_string(index = False))"
   ]
  },
  {
   "cell_type": "code",
   "execution_count": 198,
   "id": "19a55652",
   "metadata": {},
   "outputs": [
    {
     "data": {
      "text/plain": [
       "['Subject_Code', 'Subject_Name', 'Credits', 'Grade_Points', 'Grade_Secured']"
      ]
     },
     "execution_count": 198,
     "metadata": {},
     "output_type": "execute_result"
    }
   ],
   "source": [
    "a = [\"Subject_Code\",\"Subject_Name\",\"Credits\",\"Grade_Points\",\"Grade_Secured\"]\n",
    "a"
   ]
  },
  {
   "cell_type": "code",
   "execution_count": 218,
   "id": "f0f97762",
   "metadata": {},
   "outputs": [
    {
     "data": {
      "text/plain": [
       "{'Subject_Code': [],\n",
       " 'Subject_Name': [],\n",
       " 'Credits': [],\n",
       " 'Grade_Points': [],\n",
       " 'Grade_Secured': []}"
      ]
     },
     "execution_count": 218,
     "metadata": {},
     "output_type": "execute_result"
    }
   ],
   "source": [
    "Marks_Details = {}\n",
    "for i in range(len(a)):\n",
    "    Marks_Details[a[i]] = []\n",
    "Marks_Details"
   ]
  },
  {
   "cell_type": "code",
   "execution_count": 219,
   "id": "766ff9e3",
   "metadata": {},
   "outputs": [
    {
     "data": {
      "text/html": [
       "<div>\n",
       "<style scoped>\n",
       "    .dataframe tbody tr th:only-of-type {\n",
       "        vertical-align: middle;\n",
       "    }\n",
       "\n",
       "    .dataframe tbody tr th {\n",
       "        vertical-align: top;\n",
       "    }\n",
       "\n",
       "    .dataframe thead th {\n",
       "        text-align: right;\n",
       "    }\n",
       "</style>\n",
       "<table border=\"1\" class=\"dataframe\">\n",
       "  <thead>\n",
       "    <tr style=\"text-align: right;\">\n",
       "      <th></th>\n",
       "      <th>Subject_Code</th>\n",
       "      <th>Subject_Name</th>\n",
       "      <th>Credits</th>\n",
       "      <th>Grade_Points</th>\n",
       "      <th>Grade_Secured</th>\n",
       "    </tr>\n",
       "  </thead>\n",
       "  <tbody>\n",
       "    <tr>\n",
       "      <th>0</th>\n",
       "      <td>750</td>\n",
       "      <td>MATHEMATICS.7 PR</td>\n",
       "      <td>1</td>\n",
       "      <td>10</td>\n",
       "      <td>O</td>\n",
       "    </tr>\n",
       "    <tr>\n",
       "      <th>1</th>\n",
       "      <td>752</td>\n",
       "      <td>COMP. SCIENCE.7 PR</td>\n",
       "      <td>1</td>\n",
       "      <td>10</td>\n",
       "      <td>O</td>\n",
       "    </tr>\n",
       "    <tr>\n",
       "      <th>2</th>\n",
       "      <td>850</td>\n",
       "      <td>MATHEMATICS.8 PR</td>\n",
       "      <td>1</td>\n",
       "      <td>10</td>\n",
       "      <td>O</td>\n",
       "    </tr>\n",
       "    <tr>\n",
       "      <th>3</th>\n",
       "      <td>852</td>\n",
       "      <td>COMP. SCIENCE.8 PR</td>\n",
       "      <td>1</td>\n",
       "      <td>10</td>\n",
       "      <td>O</td>\n",
       "    </tr>\n",
       "    <tr>\n",
       "      <th>4</th>\n",
       "      <td>759Q</td>\n",
       "      <td>GRAPH THEOR</td>\n",
       "      <td>2</td>\n",
       "      <td>9</td>\n",
       "      <td>A</td>\n",
       "    </tr>\n",
       "    <tr>\n",
       "      <th>5</th>\n",
       "      <td>859T</td>\n",
       "      <td>SECTORS OF INDIAN ECONOMY</td>\n",
       "      <td>2</td>\n",
       "      <td>10</td>\n",
       "      <td>O</td>\n",
       "    </tr>\n",
       "    <tr>\n",
       "      <th>6</th>\n",
       "      <td>851</td>\n",
       "      <td>COMP. SCIENCE.</td>\n",
       "      <td>3</td>\n",
       "      <td>9</td>\n",
       "      <td>A</td>\n",
       "    </tr>\n",
       "    <tr>\n",
       "      <th>7</th>\n",
       "      <td>724</td>\n",
       "      <td>STATISTICS.7 PR</td>\n",
       "      <td>1</td>\n",
       "      <td>10</td>\n",
       "      <td>O</td>\n",
       "    </tr>\n",
       "    <tr>\n",
       "      <th>8</th>\n",
       "      <td>849</td>\n",
       "      <td>MATHEMATICS.8</td>\n",
       "      <td>3</td>\n",
       "      <td>10</td>\n",
       "      <td>O</td>\n",
       "    </tr>\n",
       "    <tr>\n",
       "      <th>9</th>\n",
       "      <td>823</td>\n",
       "      <td>STATISTICS.8</td>\n",
       "      <td>3</td>\n",
       "      <td>10</td>\n",
       "      <td>O</td>\n",
       "    </tr>\n",
       "    <tr>\n",
       "      <th>10</th>\n",
       "      <td>824</td>\n",
       "      <td>STATISTICS.8 PR</td>\n",
       "      <td>1</td>\n",
       "      <td>10</td>\n",
       "      <td>O</td>\n",
       "    </tr>\n",
       "    <tr>\n",
       "      <th>11</th>\n",
       "      <td>749</td>\n",
       "      <td>MATHEMATICS.7</td>\n",
       "      <td>3</td>\n",
       "      <td>10</td>\n",
       "      <td>O</td>\n",
       "    </tr>\n",
       "    <tr>\n",
       "      <th>12</th>\n",
       "      <td>723</td>\n",
       "      <td>STATISTICS.7</td>\n",
       "      <td>3</td>\n",
       "      <td>10</td>\n",
       "      <td>O</td>\n",
       "    </tr>\n",
       "    <tr>\n",
       "      <th>13</th>\n",
       "      <td>751</td>\n",
       "      <td>COMP. SCIENCE.7</td>\n",
       "      <td>3</td>\n",
       "      <td>10</td>\n",
       "      <td>O</td>\n",
       "    </tr>\n",
       "  </tbody>\n",
       "</table>\n",
       "</div>"
      ],
      "text/plain": [
       "   Subject_Code                Subject_Name Credits Grade_Points Grade_Secured\n",
       "0           750            MATHEMATICS.7 PR       1           10             O\n",
       "1           752          COMP. SCIENCE.7 PR       1           10             O\n",
       "2           850            MATHEMATICS.8 PR       1           10             O\n",
       "3           852          COMP. SCIENCE.8 PR       1           10             O\n",
       "4          759Q                 GRAPH THEOR       2            9             A\n",
       "5          859T   SECTORS OF INDIAN ECONOMY       2           10             O\n",
       "6           851              COMP. SCIENCE.       3            9             A\n",
       "7           724             STATISTICS.7 PR       1           10             O\n",
       "8           849               MATHEMATICS.8       3           10             O\n",
       "9           823                STATISTICS.8       3           10             O\n",
       "10          824             STATISTICS.8 PR       1           10             O\n",
       "11          749               MATHEMATICS.7       3           10             O\n",
       "12          723                STATISTICS.7       3           10             O\n",
       "13          751             COMP. SCIENCE.7       3           10             O"
      ]
     },
     "execution_count": 219,
     "metadata": {},
     "output_type": "execute_result"
    }
   ],
   "source": [
    "for i in range(len(Table2.split('\\n')[2:])):\n",
    "    Marks_Details[a[0]].append(Table2.split(\"\\n\")[2:][i].split(' ')[0])\n",
    "    Marks_Details[a[1]].append(Table2.split(\"\\n\")[2:][i][4:-7])\n",
    "    Marks_Details[a[2]].append(Table2.split(\"\\n\")[2:][i].split(' ')[-3])\n",
    "    Marks_Details[a[3]].append(Table2.split(\"\\n\")[2:][i].split(' ')[-2])\n",
    "    Marks_Details[a[4]].append(Table2.split(\"\\n\")[2:][i].split(' ')[-1])\n",
    "pd.DataFrame(Marks_Details)"
   ]
  },
  {
   "cell_type": "code",
   "execution_count": 264,
   "id": "82b350ac",
   "metadata": {},
   "outputs": [
    {
     "name": "stdout",
     "output_type": "stream",
     "text": [
      "Subject_Code               Subject_Name Credits Grade_Points Grade_Secured\n",
      "         750           MATHEMATICS.7 PR       1           10             O\n",
      "         752         COMP. SCIENCE.7 PR       1           10             O\n",
      "         850           MATHEMATICS.8 PR       1           10             O\n",
      "         852         COMP. SCIENCE.8 PR       1           10             O\n",
      "        759Q                GRAPH THEOR       2            9             A\n",
      "        859T  SECTORS OF INDIAN ECONOMY       2           10             O\n",
      "         851             COMP. SCIENCE.       3            9             A\n",
      "         724            STATISTICS.7 PR       1           10             O\n",
      "         849              MATHEMATICS.8       3           10             O\n",
      "         823               STATISTICS.8       3           10             O\n",
      "         824            STATISTICS.8 PR       1           10             O\n",
      "         749              MATHEMATICS.7       3           10             O\n",
      "         723               STATISTICS.7       3           10             O\n",
      "         751            COMP. SCIENCE.7       3           10             O\n"
     ]
    }
   ],
   "source": [
    "print(pd.DataFrame(Marks_Details).to_string(index=False))"
   ]
  },
  {
   "cell_type": "code",
   "execution_count": null,
   "id": "ea9ebd44",
   "metadata": {},
   "outputs": [],
   "source": []
  }
 ],
 "metadata": {
  "kernelspec": {
   "display_name": "Python 3 (ipykernel)",
   "language": "python",
   "name": "python3"
  },
  "language_info": {
   "codemirror_mode": {
    "name": "ipython",
    "version": 3
   },
   "file_extension": ".py",
   "mimetype": "text/x-python",
   "name": "python",
   "nbconvert_exporter": "python",
   "pygments_lexer": "ipython3",
   "version": "3.9.7"
  },
  "nbTranslate": {
   "displayLangs": [
    "*"
   ],
   "hotkey": "alt-t",
   "langInMainMenu": true,
   "sourceLang": "en",
   "targetLang": "fr",
   "useGoogleTranslate": true
  },
  "varInspector": {
   "cols": {
    "lenName": 16,
    "lenType": 16,
    "lenVar": 40
   },
   "kernels_config": {
    "python": {
     "delete_cmd_postfix": "",
     "delete_cmd_prefix": "del ",
     "library": "var_list.py",
     "varRefreshCmd": "print(var_dic_list())"
    },
    "r": {
     "delete_cmd_postfix": ") ",
     "delete_cmd_prefix": "rm(",
     "library": "var_list.r",
     "varRefreshCmd": "cat(var_dic_list()) "
    }
   },
   "types_to_exclude": [
    "module",
    "function",
    "builtin_function_or_method",
    "instance",
    "_Feature"
   ],
   "window_display": false
  }
 },
 "nbformat": 4,
 "nbformat_minor": 5
}
