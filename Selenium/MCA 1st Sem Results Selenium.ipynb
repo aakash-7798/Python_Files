{
 "cells": [
  {
   "cell_type": "code",
   "execution_count": 299,
   "id": "660e2b96-fef1-4ae8-a64c-2cd3c7faf2b9",
   "metadata": {
    "ExecuteTime": {
     "end_time": "2022-05-15T12:09:48.682876Z",
     "start_time": "2022-05-15T12:09:39.994689Z"
    }
   },
   "outputs": [],
   "source": [
    "from selenium import webdriver\n",
    "from selenium.webdriver.common.keys import Keys\n",
    "from selenium.webdriver.chrome.options import Options\n",
    "from selenium.webdriver.support.ui import Select\n",
    "from getpass import getpass\n",
    "import time\n",
    "import pandas as pd"
   ]
  },
  {
   "cell_type": "code",
   "execution_count": 10,
   "id": "6440ac5d",
   "metadata": {
    "ExecuteTime": {
     "end_time": "2022-05-15T07:23:35.676683Z",
     "start_time": "2022-05-15T07:23:32.462259Z"
    }
   },
   "outputs": [
    {
     "data": {
      "text/plain": [
       "'C:\\\\Users\\\\aakas\\\\anaconda3\\\\lib\\\\site-packages\\\\chromedriver_autoinstaller\\\\101\\\\chromedriver.exe'"
      ]
     },
     "execution_count": 10,
     "metadata": {},
     "output_type": "execute_result"
    }
   ],
   "source": [
    "import chromedriver_autoinstaller as chromedriver\n",
    "chromedriver.install()"
   ]
  },
  {
   "cell_type": "code",
   "execution_count": 11,
   "id": "c91d4641-58c0-4358-8d60-c18320a489e6",
   "metadata": {
    "ExecuteTime": {
     "end_time": "2022-05-15T07:23:43.780836Z",
     "start_time": "2022-05-15T07:23:43.774849Z"
    }
   },
   "outputs": [],
   "source": [
    "options = Options()\n",
    "options.add_argument(\"start-maximized\")"
   ]
  },
  {
   "cell_type": "code",
   "execution_count": 15,
   "id": "9ad64d3f",
   "metadata": {
    "ExecuteTime": {
     "end_time": "2022-05-15T07:25:37.509521Z",
     "start_time": "2022-05-15T07:25:25.923991Z"
    }
   },
   "outputs": [
    {
     "name": "stdout",
     "output_type": "stream",
     "text": [
      "Enter Username : 21031F0002\n",
      "Enter Password : ········\n"
     ]
    }
   ],
   "source": [
    "username = input(\"Enter Username : \")\n",
    "password = getpass(\"Enter Password : \")"
   ]
  },
  {
   "cell_type": "code",
   "execution_count": 37,
   "id": "52ab9fd2",
   "metadata": {
    "ExecuteTime": {
     "end_time": "2022-05-15T08:01:57.781615Z",
     "start_time": "2022-05-15T08:01:43.567641Z"
    },
    "collapsed": true
   },
   "outputs": [
    {
     "name": "stderr",
     "output_type": "stream",
     "text": [
      "C:\\Users\\aakas\\AppData\\Local\\Temp/ipykernel_16112/2084893850.py:2: DeprecationWarning: executable_path has been deprecated, please pass in a Service object\n",
      "  driver = webdriver.Chrome(options=options,executable_path = \"C:\\\\Users\\\\aakas\\\\anaconda3\\\\lib\\\\site-packages\\\\chromedriver_autoinstaller\\\\101\\\\chromedriver.exe\")\n",
      "C:\\Users\\aakas\\AppData\\Local\\Temp/ipykernel_16112/2084893850.py:4: DeprecationWarning: find_element_by_* commands are deprecated. Please use find_element() instead\n",
      "  driver.find_element_by_xpath(\"//a[@href='http://14.139.82.140']\").click()\n",
      "C:\\Users\\aakas\\AppData\\Local\\Temp/ipykernel_16112/2084893850.py:7: DeprecationWarning: find_element_by_* commands are deprecated. Please use find_element() instead\n",
      "  driver.find_element_by_id('uid').send_keys(username)\n",
      "C:\\Users\\aakas\\AppData\\Local\\Temp/ipykernel_16112/2084893850.py:8: DeprecationWarning: find_element_by_* commands are deprecated. Please use find_element() instead\n",
      "  driver.find_element_by_id('pwd').send_keys(password)\n",
      "C:\\Users\\aakas\\AppData\\Local\\Temp/ipykernel_16112/2084893850.py:9: DeprecationWarning: find_element_by_* commands are deprecated. Please use find_element() instead\n",
      "  driver.find_element_by_css_selector(\"input[type='submit']\").click()\n"
     ]
    }
   ],
   "source": [
    "url = \"http://jntuhsit.org/\"\n",
    "driver = webdriver.Chrome(options=options,executable_path = \"C:\\\\Users\\\\aakas\\\\anaconda3\\\\lib\\\\site-packages\\\\chromedriver_autoinstaller\\\\101\\\\chromedriver.exe\")\n",
    "driver.get(url)\n",
    "driver.find_element_by_xpath(\"//a[@href='http://14.139.82.140']\").click()\n",
    "driver.switch_to.window(driver.window_handles[1])\n",
    "time.sleep(2)\n",
    "driver.find_element_by_id('uid').send_keys(username)\n",
    "driver.find_element_by_id('pwd').send_keys(password)\n",
    "driver.find_element_by_css_selector(\"input[type='submit']\").click()\n",
    "driver.find_element_by_xpath(\"//div[@id='myNavBar']/ul/li[4]\").click()\n",
    "driver.find_element_by_xpath(\"//a[@href='viewResults']\").click()\n",
    "driver.find_element_by_xpath(\"//select[@id='ecode']/option[text()='M.C.A. I Year I Semester (R20) (Reg) - April, 2022']\").click()\n",
    "driver.find_element_by_xpath(\".//button[contains(@class,'btn')]\").click()"
   ]
  },
  {
   "cell_type": "code",
   "execution_count": 92,
   "id": "d9163acd",
   "metadata": {
    "ExecuteTime": {
     "end_time": "2022-05-15T08:30:25.611545Z",
     "start_time": "2022-05-15T08:30:25.520228Z"
    }
   },
   "outputs": [
    {
     "name": "stderr",
     "output_type": "stream",
     "text": [
      "C:\\Users\\aakas\\AppData\\Local\\Temp/ipykernel_16112/3980197383.py:1: DeprecationWarning: find_element_by_* commands are deprecated. Please use find_element() instead\n",
      "  driver.find_element_by_xpath(\"//div[@id='myNavBar']/ul/li[4]\").click()\n"
     ]
    }
   ],
   "source": [
    "driver.find_element_by_xpath(\"//div[@id='myNavBar']/ul/li[4]\").click()"
   ]
  },
  {
   "cell_type": "code",
   "execution_count": 94,
   "id": "0c8418b7",
   "metadata": {
    "ExecuteTime": {
     "end_time": "2022-05-15T08:31:53.945610Z",
     "start_time": "2022-05-15T08:31:52.743566Z"
    }
   },
   "outputs": [
    {
     "name": "stderr",
     "output_type": "stream",
     "text": [
      "C:\\Users\\aakas\\AppData\\Local\\Temp/ipykernel_16112/515476524.py:1: DeprecationWarning: find_element_by_* commands are deprecated. Please use find_element() instead\n",
      "  driver.find_element_by_xpath(\"//a[@href='viewResults']\").click()\n"
     ]
    }
   ],
   "source": [
    "driver.find_element_by_xpath(\"//a[@href='viewResults']\").click()"
   ]
  },
  {
   "cell_type": "code",
   "execution_count": 109,
   "id": "853a7913",
   "metadata": {
    "ExecuteTime": {
     "end_time": "2022-05-15T08:42:29.523486Z",
     "start_time": "2022-05-15T08:42:29.450832Z"
    }
   },
   "outputs": [
    {
     "name": "stderr",
     "output_type": "stream",
     "text": [
      "C:\\Users\\aakas\\AppData\\Local\\Temp/ipykernel_16112/768301906.py:1: DeprecationWarning: find_element_by_* commands are deprecated. Please use find_element() instead\n",
      "  driver.find_element_by_xpath(\"//select[@id='ecode']/option[text()='M.C.A. I Year I Semester (R20) (Reg) - April, 2022']\").click()\n"
     ]
    }
   ],
   "source": [
    "driver.find_element_by_xpath(\"//select[@id='ecode']/option[text()='M.C.A. I Year I Semester (R20) (Reg) - April, 2022']\").click()"
   ]
  },
  {
   "cell_type": "code",
   "execution_count": 161,
   "id": "4a46749d",
   "metadata": {
    "ExecuteTime": {
     "end_time": "2022-05-15T10:48:15.999352Z",
     "start_time": "2022-05-15T10:48:15.850752Z"
    },
    "scrolled": true
   },
   "outputs": [
    {
     "name": "stderr",
     "output_type": "stream",
     "text": [
      "C:\\Users\\aakas\\AppData\\Local\\Temp/ipykernel_16112/970482835.py:2: DeprecationWarning: find_element_by_* commands are deprecated. Please use find_element() instead\n",
      "  driver.find_element_by_xpath(\"//div[@id='resBlock']//table\").text\n"
     ]
    },
    {
     "data": {
      "text/plain": [
       "\"SCHOOL OF INFORMATION TECHNOLOGY\\n(Constituent Unit of JNTUH)\\nJawaharlal Nehru Technological University Hyderabad\\nKukatpally - 500 085, Telangana (India).\\n(Accredited by NAAC with 'A' Grade)\\nM.C.A. I Year I Semester (R20) (Reg) - April, 2022\\nRoll No.: 21031F0002\\nName: DADYREDDY DHEERAJ KUMAR REDDY\\nCourse and Branch: M.C.A.\\nS.No. Subject Code Subject Name Grade Grade Point Credits Result\\nMC110 MATHEMATICS FOR COMPUTER SCIENCE B+ 7 3 P\\nMC120 COMPUTER ARCHITECTURE & ORGANIZATION B+ 7 3 P\\nMC130 OBJECT ORIENTED PROGRAMMING THROUGH C++ B+ 7 3 P\\nMC140 OPERATING SYSTEMS B+ 7 3 P\\nMC150 DATABASE SYSTEMS C 5 3 P\\nMC160 COMPUTER ARCHITECTURE & ORGANIZATION & OPERATING SYSTEMS LAB A+ 9 2 P\\nMC170 OBJECT ORIENTED PROGRAMMING THROUGH C++ LAB A 8 2 P\\nMC180 DATABASE SYSTEMS LAB A 8 2 P\\nMC19A PROFESSIONAL COMMUNICATION SKILLS B+ 7 0 P\\nPrint\""
      ]
     },
     "execution_count": 161,
     "metadata": {},
     "output_type": "execute_result"
    }
   ],
   "source": [
    "# driver.find_element_by_xpath('//div[@id=\"resBlock\"]//table').text\n",
    "driver.find_element_by_xpath(\"//div[@id='resBlock']//table\").text"
   ]
  },
  {
   "cell_type": "code",
   "execution_count": 287,
   "id": "d9a82980",
   "metadata": {
    "ExecuteTime": {
     "end_time": "2022-05-15T11:59:25.566052Z",
     "start_time": "2022-05-15T11:59:25.460251Z"
    }
   },
   "outputs": [
    {
     "name": "stderr",
     "output_type": "stream",
     "text": [
      "C:\\Users\\aakas\\AppData\\Local\\Temp/ipykernel_16112/1783801275.py:1: DeprecationWarning: find_element_by_* commands are deprecated. Please use find_element() instead\n",
      "  driver.find_element_by_xpath(\"//div[@id='resBlock']//table//tr[6]\").text\n"
     ]
    },
    {
     "data": {
      "text/plain": [
       "'S.No. Subject Code Subject Name Grade Grade Point Credits Result\\nMC110 MATHEMATICS FOR COMPUTER SCIENCE B+ 7 3 P\\nMC120 COMPUTER ARCHITECTURE & ORGANIZATION B+ 7 3 P\\nMC130 OBJECT ORIENTED PROGRAMMING THROUGH C++ B+ 7 3 P\\nMC140 OPERATING SYSTEMS B+ 7 3 P\\nMC150 DATABASE SYSTEMS C 5 3 P\\nMC160 COMPUTER ARCHITECTURE & ORGANIZATION & OPERATING SYSTEMS LAB A+ 9 2 P\\nMC170 OBJECT ORIENTED PROGRAMMING THROUGH C++ LAB A 8 2 P\\nMC180 DATABASE SYSTEMS LAB A 8 2 P\\nMC19A PROFESSIONAL COMMUNICATION SKILLS B+ 7 0 P'"
      ]
     },
     "execution_count": 287,
     "metadata": {},
     "output_type": "execute_result"
    }
   ],
   "source": [
    "driver.find_element_by_xpath(\"//div[@id='resBlock']//table//tr[6]\").text\n",
    "# //button[contains(@class,'btn')]"
   ]
  },
  {
   "cell_type": "code",
   "execution_count": 130,
   "id": "fdec6392",
   "metadata": {
    "ExecuteTime": {
     "end_time": "2022-05-15T10:28:00.150192Z",
     "start_time": "2022-05-15T10:28:00.045324Z"
    }
   },
   "outputs": [
    {
     "name": "stderr",
     "output_type": "stream",
     "text": [
      "C:\\Users\\aakas\\AppData\\Local\\Temp/ipykernel_16112/1821203932.py:1: DeprecationWarning: find_element_by_* commands are deprecated. Please use find_element() instead\n",
      "  Result = driver.find_element_by_xpath('//div[@id=\"resBlock\"]//table').text.split(\"\\n\")\n"
     ]
    }
   ],
   "source": [
    "Result = driver.find_element_by_xpath('//div[@id=\"resBlock\"]//table').text.split(\"\\n\")"
   ]
  },
  {
   "cell_type": "code",
   "execution_count": 173,
   "id": "43ca3e78",
   "metadata": {
    "ExecuteTime": {
     "end_time": "2022-05-15T10:57:18.742156Z",
     "start_time": "2022-05-15T10:57:18.731182Z"
    },
    "collapsed": true
   },
   "outputs": [
    {
     "data": {
      "text/plain": [
       "['SCHOOL OF INFORMATION TECHNOLOGY',\n",
       " '(Constituent Unit of JNTUH)',\n",
       " 'Jawaharlal Nehru Technological University Hyderabad',\n",
       " 'Kukatpally - 500 085, Telangana (India).',\n",
       " \"(Accredited by NAAC with 'A' Grade)\",\n",
       " 'M.C.A. I Year I Semester (R20) (Reg) - April, 2022',\n",
       " 'Roll No.: 21031F0002',\n",
       " 'Name: DADYREDDY DHEERAJ KUMAR REDDY',\n",
       " 'Course and Branch: M.C.A.',\n",
       " 'S.No. Subject Code Subject Name Grade Grade Point Credits Result',\n",
       " 'MC110 MATHEMATICS FOR COMPUTER SCIENCE B+ 7 3 P',\n",
       " 'MC120 COMPUTER ARCHITECTURE & ORGANIZATION B+ 7 3 P',\n",
       " 'MC130 OBJECT ORIENTED PROGRAMMING THROUGH C++ B+ 7 3 P',\n",
       " 'MC140 OPERATING SYSTEMS B+ 7 3 P',\n",
       " 'MC150 DATABASE SYSTEMS C 5 3 P',\n",
       " 'MC160 COMPUTER ARCHITECTURE & ORGANIZATION & OPERATING SYSTEMS LAB A+ 9 2 P',\n",
       " 'MC170 OBJECT ORIENTED PROGRAMMING THROUGH C++ LAB A 8 2 P',\n",
       " 'MC180 DATABASE SYSTEMS LAB A 8 2 P',\n",
       " 'MC19A PROFESSIONAL COMMUNICATION SKILLS B+ 7 0 P',\n",
       " 'Print']"
      ]
     },
     "execution_count": 173,
     "metadata": {},
     "output_type": "execute_result"
    }
   ],
   "source": [
    "Result"
   ]
  },
  {
   "cell_type": "code",
   "execution_count": 177,
   "id": "9951845e",
   "metadata": {
    "ExecuteTime": {
     "end_time": "2022-05-15T11:03:52.734329Z",
     "start_time": "2022-05-15T11:03:52.729344Z"
    }
   },
   "outputs": [],
   "source": [
    "columns = [\"S.No.\",\"Subject Code\",\"Subject Name\",\"Grade\",\"Grade Point\",\"Credits\",\"Result\"]"
   ]
  },
  {
   "cell_type": "code",
   "execution_count": 191,
   "id": "7e4fb3f1",
   "metadata": {
    "ExecuteTime": {
     "end_time": "2022-05-15T11:13:16.527547Z",
     "start_time": "2022-05-15T11:13:16.506603Z"
    }
   },
   "outputs": [
    {
     "data": {
      "text/plain": [
       "[1, 2, 3, 4, 5, 6, 7, 8, 9]"
      ]
     },
     "execution_count": 191,
     "metadata": {},
     "output_type": "execute_result"
    }
   ],
   "source": [
    "sln = [i+1 for i in range(len(Result[10:-1]))]\n",
    "sln"
   ]
  },
  {
   "cell_type": "code",
   "execution_count": 298,
   "id": "1815d736",
   "metadata": {
    "ExecuteTime": {
     "end_time": "2022-05-15T12:08:25.194488Z",
     "start_time": "2022-05-15T12:08:25.170579Z"
    }
   },
   "outputs": [
    {
     "data": {
      "text/plain": [
       "{'S.No.': [1, 2, 3, 4, 5, 6, 7, 8, 9],\n",
       " 'Subject Code': ['MC110',\n",
       "  'MC120',\n",
       "  'MC130',\n",
       "  'MC140',\n",
       "  'MC150',\n",
       "  'MC160',\n",
       "  'MC170',\n",
       "  'MC180',\n",
       "  'MC19A'],\n",
       " 'Subject Name': ['MATHEMATICS FOR COMPUTER SCIENCE',\n",
       "  'COMPUTER ARCHITECTURE & ORGANIZATION',\n",
       "  'OBJECT ORIENTED PROGRAMMING THROUGH C++',\n",
       "  'OPERATING SYSTEMS',\n",
       "  'DATABASE SYSTEMS',\n",
       "  'COMPUTER ARCHITECTURE & ORGANIZATION & OPERATING SYSTEMS LAB',\n",
       "  'OBJECT ORIENTED PROGRAMMING THROUGH C++ LAB',\n",
       "  'DATABASE SYSTEMS LAB',\n",
       "  'PROFESSIONAL COMMUNICATION SKILLS'],\n",
       " 'Grade': ['B+', 'B+', 'B+', 'B+', 'C', 'A+', 'A', 'A', 'B+'],\n",
       " 'Grade Point': ['7', '7', '7', '7', '5', '9', '8', '8', '7'],\n",
       " 'Credits': ['3', '3', '3', '3', '3', '2', '2', '2', '0'],\n",
       " 'Result': ['P', 'P', 'P', 'P', 'P', 'P', 'P', 'P', 'P']}"
      ]
     },
     "execution_count": 298,
     "metadata": {},
     "output_type": "execute_result"
    }
   ],
   "source": [
    "D = {}\n",
    "for i in columns:\n",
    "    D[i] = []\n",
    "D[columns[0]] = sln\n",
    "D[columns[1]] = [Result[10:-1][i].split()[0] for i in range(len(Result[10:-1]))]\n",
    "D[columns[2]] = [' '.join(Result[10:-1][i].split()[1:-4]) for i in range(len(Result[10:-1]))]\n",
    "D[columns[3]] = [Result[10:-1][i].split()[-4] for i in range(len(Result[10:-1]))]\n",
    "D[columns[4]] = [Result[10:-1][i].split()[-3] for i in range(len(Result[10:-1]))]\n",
    "D[columns[5]] = [Result[10:-1][i].split()[-2] for i in range(len(Result[10:-1]))]\n",
    "D[columns[6]] = [Result[10:-1][i].split()[-1] for i in range(len(Result[10:-1]))]\n",
    "D"
   ]
  },
  {
   "cell_type": "code",
   "execution_count": 304,
   "id": "ff021549",
   "metadata": {
    "ExecuteTime": {
     "end_time": "2022-05-15T12:10:42.330672Z",
     "start_time": "2022-05-15T12:10:42.294770Z"
    }
   },
   "outputs": [
    {
     "data": {
      "text/html": [
       "<div>\n",
       "<style scoped>\n",
       "    .dataframe tbody tr th:only-of-type {\n",
       "        vertical-align: middle;\n",
       "    }\n",
       "\n",
       "    .dataframe tbody tr th {\n",
       "        vertical-align: top;\n",
       "    }\n",
       "\n",
       "    .dataframe thead th {\n",
       "        text-align: right;\n",
       "    }\n",
       "</style>\n",
       "<table border=\"1\" class=\"dataframe\">\n",
       "  <thead>\n",
       "    <tr style=\"text-align: right;\">\n",
       "      <th></th>\n",
       "      <th>S.No.</th>\n",
       "      <th>Subject Code</th>\n",
       "      <th>Subject Name</th>\n",
       "      <th>Grade</th>\n",
       "      <th>Grade Point</th>\n",
       "      <th>Credits</th>\n",
       "      <th>Result</th>\n",
       "    </tr>\n",
       "  </thead>\n",
       "  <tbody>\n",
       "    <tr>\n",
       "      <th>0</th>\n",
       "      <td>1</td>\n",
       "      <td>MC110</td>\n",
       "      <td>MATHEMATICS FOR COMPUTER SCIENCE</td>\n",
       "      <td>B+</td>\n",
       "      <td>7</td>\n",
       "      <td>3</td>\n",
       "      <td>P</td>\n",
       "    </tr>\n",
       "    <tr>\n",
       "      <th>1</th>\n",
       "      <td>2</td>\n",
       "      <td>MC120</td>\n",
       "      <td>COMPUTER ARCHITECTURE &amp; ORGANIZATION</td>\n",
       "      <td>B+</td>\n",
       "      <td>7</td>\n",
       "      <td>3</td>\n",
       "      <td>P</td>\n",
       "    </tr>\n",
       "    <tr>\n",
       "      <th>2</th>\n",
       "      <td>3</td>\n",
       "      <td>MC130</td>\n",
       "      <td>OBJECT ORIENTED PROGRAMMING THROUGH C++</td>\n",
       "      <td>B+</td>\n",
       "      <td>7</td>\n",
       "      <td>3</td>\n",
       "      <td>P</td>\n",
       "    </tr>\n",
       "    <tr>\n",
       "      <th>3</th>\n",
       "      <td>4</td>\n",
       "      <td>MC140</td>\n",
       "      <td>OPERATING SYSTEMS</td>\n",
       "      <td>B+</td>\n",
       "      <td>7</td>\n",
       "      <td>3</td>\n",
       "      <td>P</td>\n",
       "    </tr>\n",
       "    <tr>\n",
       "      <th>4</th>\n",
       "      <td>5</td>\n",
       "      <td>MC150</td>\n",
       "      <td>DATABASE SYSTEMS</td>\n",
       "      <td>C</td>\n",
       "      <td>5</td>\n",
       "      <td>3</td>\n",
       "      <td>P</td>\n",
       "    </tr>\n",
       "    <tr>\n",
       "      <th>5</th>\n",
       "      <td>6</td>\n",
       "      <td>MC160</td>\n",
       "      <td>COMPUTER ARCHITECTURE &amp; ORGANIZATION &amp; OPERATI...</td>\n",
       "      <td>A+</td>\n",
       "      <td>9</td>\n",
       "      <td>2</td>\n",
       "      <td>P</td>\n",
       "    </tr>\n",
       "    <tr>\n",
       "      <th>6</th>\n",
       "      <td>7</td>\n",
       "      <td>MC170</td>\n",
       "      <td>OBJECT ORIENTED PROGRAMMING THROUGH C++ LAB</td>\n",
       "      <td>A</td>\n",
       "      <td>8</td>\n",
       "      <td>2</td>\n",
       "      <td>P</td>\n",
       "    </tr>\n",
       "    <tr>\n",
       "      <th>7</th>\n",
       "      <td>8</td>\n",
       "      <td>MC180</td>\n",
       "      <td>DATABASE SYSTEMS LAB</td>\n",
       "      <td>A</td>\n",
       "      <td>8</td>\n",
       "      <td>2</td>\n",
       "      <td>P</td>\n",
       "    </tr>\n",
       "    <tr>\n",
       "      <th>8</th>\n",
       "      <td>9</td>\n",
       "      <td>MC19A</td>\n",
       "      <td>PROFESSIONAL COMMUNICATION SKILLS</td>\n",
       "      <td>B+</td>\n",
       "      <td>7</td>\n",
       "      <td>0</td>\n",
       "      <td>P</td>\n",
       "    </tr>\n",
       "  </tbody>\n",
       "</table>\n",
       "</div>"
      ],
      "text/plain": [
       "   S.No. Subject Code                                       Subject Name  \\\n",
       "0      1        MC110                   MATHEMATICS FOR COMPUTER SCIENCE   \n",
       "1      2        MC120               COMPUTER ARCHITECTURE & ORGANIZATION   \n",
       "2      3        MC130            OBJECT ORIENTED PROGRAMMING THROUGH C++   \n",
       "3      4        MC140                                  OPERATING SYSTEMS   \n",
       "4      5        MC150                                   DATABASE SYSTEMS   \n",
       "5      6        MC160  COMPUTER ARCHITECTURE & ORGANIZATION & OPERATI...   \n",
       "6      7        MC170        OBJECT ORIENTED PROGRAMMING THROUGH C++ LAB   \n",
       "7      8        MC180                               DATABASE SYSTEMS LAB   \n",
       "8      9        MC19A                  PROFESSIONAL COMMUNICATION SKILLS   \n",
       "\n",
       "  Grade Grade Point Credits Result  \n",
       "0    B+           7       3      P  \n",
       "1    B+           7       3      P  \n",
       "2    B+           7       3      P  \n",
       "3    B+           7       3      P  \n",
       "4     C           5       3      P  \n",
       "5    A+           9       2      P  \n",
       "6     A           8       2      P  \n",
       "7     A           8       2      P  \n",
       "8    B+           7       0      P  "
      ]
     },
     "execution_count": 304,
     "metadata": {},
     "output_type": "execute_result"
    }
   ],
   "source": [
    "pd.DataFrame(D)"
   ]
  },
  {
   "cell_type": "code",
   "execution_count": 388,
   "id": "680797b0",
   "metadata": {
    "ExecuteTime": {
     "end_time": "2022-05-15T12:34:41.324626Z",
     "start_time": "2022-05-15T12:34:41.284744Z"
    }
   },
   "outputs": [
    {
     "name": "stdout",
     "output_type": "stream",
     "text": [
      "                                        SCHOOL OF INFORMATION TECHNOLOGY\n",
      "                                           (Constituent Unit of JNTUH)\n",
      "                              Jawaharlal Nehru Technological University Hyderabad\n",
      "                                    Kukatpally - 500 085, Telangana (India).\n",
      "                                       (Accredited by NAAC with 'A' Grade)\n",
      "\n",
      "\n",
      "                               M.C.A. I Year I Semester (R20) (Reg) - April, 2022\n",
      "\n",
      "\n",
      "    Roll No.: 21031F0002\n",
      "    Name: DADYREDDY DHEERAJ KUMAR REDDY\n",
      "    Course and Branch: M.C.A.\n"
     ]
    },
    {
     "data": {
      "text/html": [
       "<div>\n",
       "<style scoped>\n",
       "    .dataframe tbody tr th:only-of-type {\n",
       "        vertical-align: middle;\n",
       "    }\n",
       "\n",
       "    .dataframe tbody tr th {\n",
       "        vertical-align: top;\n",
       "    }\n",
       "\n",
       "    .dataframe thead th {\n",
       "        text-align: right;\n",
       "    }\n",
       "</style>\n",
       "<table border=\"1\" class=\"dataframe\">\n",
       "  <thead>\n",
       "    <tr style=\"text-align: right;\">\n",
       "      <th></th>\n",
       "      <th>S.No.</th>\n",
       "      <th>Subject Code</th>\n",
       "      <th>Subject Name</th>\n",
       "      <th>Grade</th>\n",
       "      <th>Grade Point</th>\n",
       "      <th>Credits</th>\n",
       "      <th>Result</th>\n",
       "    </tr>\n",
       "  </thead>\n",
       "  <tbody>\n",
       "    <tr>\n",
       "      <th>0</th>\n",
       "      <td>1</td>\n",
       "      <td>MC110</td>\n",
       "      <td>MATHEMATICS FOR COMPUTER SCIENCE</td>\n",
       "      <td>B+</td>\n",
       "      <td>7</td>\n",
       "      <td>3</td>\n",
       "      <td>P</td>\n",
       "    </tr>\n",
       "    <tr>\n",
       "      <th>1</th>\n",
       "      <td>2</td>\n",
       "      <td>MC120</td>\n",
       "      <td>COMPUTER ARCHITECTURE &amp; ORGANIZATION</td>\n",
       "      <td>B+</td>\n",
       "      <td>7</td>\n",
       "      <td>3</td>\n",
       "      <td>P</td>\n",
       "    </tr>\n",
       "    <tr>\n",
       "      <th>2</th>\n",
       "      <td>3</td>\n",
       "      <td>MC130</td>\n",
       "      <td>OBJECT ORIENTED PROGRAMMING THROUGH C++</td>\n",
       "      <td>B+</td>\n",
       "      <td>7</td>\n",
       "      <td>3</td>\n",
       "      <td>P</td>\n",
       "    </tr>\n",
       "    <tr>\n",
       "      <th>3</th>\n",
       "      <td>4</td>\n",
       "      <td>MC140</td>\n",
       "      <td>OPERATING SYSTEMS</td>\n",
       "      <td>B+</td>\n",
       "      <td>7</td>\n",
       "      <td>3</td>\n",
       "      <td>P</td>\n",
       "    </tr>\n",
       "    <tr>\n",
       "      <th>4</th>\n",
       "      <td>5</td>\n",
       "      <td>MC150</td>\n",
       "      <td>DATABASE SYSTEMS</td>\n",
       "      <td>C</td>\n",
       "      <td>5</td>\n",
       "      <td>3</td>\n",
       "      <td>P</td>\n",
       "    </tr>\n",
       "    <tr>\n",
       "      <th>5</th>\n",
       "      <td>6</td>\n",
       "      <td>MC160</td>\n",
       "      <td>COMPUTER ARCHITECTURE &amp; ORGANIZATION &amp; OPERATI...</td>\n",
       "      <td>A+</td>\n",
       "      <td>9</td>\n",
       "      <td>2</td>\n",
       "      <td>P</td>\n",
       "    </tr>\n",
       "    <tr>\n",
       "      <th>6</th>\n",
       "      <td>7</td>\n",
       "      <td>MC170</td>\n",
       "      <td>OBJECT ORIENTED PROGRAMMING THROUGH C++ LAB</td>\n",
       "      <td>A</td>\n",
       "      <td>8</td>\n",
       "      <td>2</td>\n",
       "      <td>P</td>\n",
       "    </tr>\n",
       "    <tr>\n",
       "      <th>7</th>\n",
       "      <td>8</td>\n",
       "      <td>MC180</td>\n",
       "      <td>DATABASE SYSTEMS LAB</td>\n",
       "      <td>A</td>\n",
       "      <td>8</td>\n",
       "      <td>2</td>\n",
       "      <td>P</td>\n",
       "    </tr>\n",
       "    <tr>\n",
       "      <th>8</th>\n",
       "      <td>9</td>\n",
       "      <td>MC19A</td>\n",
       "      <td>PROFESSIONAL COMMUNICATION SKILLS</td>\n",
       "      <td>B+</td>\n",
       "      <td>7</td>\n",
       "      <td>0</td>\n",
       "      <td>P</td>\n",
       "    </tr>\n",
       "  </tbody>\n",
       "</table>\n",
       "</div>"
      ],
      "text/plain": [
       "   S.No. Subject Code                                       Subject Name  \\\n",
       "0      1        MC110                   MATHEMATICS FOR COMPUTER SCIENCE   \n",
       "1      2        MC120               COMPUTER ARCHITECTURE & ORGANIZATION   \n",
       "2      3        MC130            OBJECT ORIENTED PROGRAMMING THROUGH C++   \n",
       "3      4        MC140                                  OPERATING SYSTEMS   \n",
       "4      5        MC150                                   DATABASE SYSTEMS   \n",
       "5      6        MC160  COMPUTER ARCHITECTURE & ORGANIZATION & OPERATI...   \n",
       "6      7        MC170        OBJECT ORIENTED PROGRAMMING THROUGH C++ LAB   \n",
       "7      8        MC180                               DATABASE SYSTEMS LAB   \n",
       "8      9        MC19A                  PROFESSIONAL COMMUNICATION SKILLS   \n",
       "\n",
       "  Grade Grade Point Credits Result  \n",
       "0    B+           7       3      P  \n",
       "1    B+           7       3      P  \n",
       "2    B+           7       3      P  \n",
       "3    B+           7       3      P  \n",
       "4     C           5       3      P  \n",
       "5    A+           9       2      P  \n",
       "6     A           8       2      P  \n",
       "7     A           8       2      P  \n",
       "8    B+           7       0      P  "
      ]
     },
     "execution_count": 388,
     "metadata": {},
     "output_type": "execute_result"
    }
   ],
   "source": [
    "for i in range(len(Result[:9])):\n",
    "    if i==0:\n",
    "        print(\"                                       \",Result[:9][i])\n",
    "    elif i==1:  \n",
    "        print(\"                                          \",Result[:9][i])\n",
    "    elif i==2:\n",
    "        print(\"                             \",Result[:9][i])\n",
    "    elif i==3:\n",
    "        print(\"                                   \",Result[:9][i])\n",
    "    elif i==4:\n",
    "        print(\"                                      \",Result[:9][i])\n",
    "    elif i==5:\n",
    "        print('\\n')\n",
    "        print(\"                              \",Result[:9][i])\n",
    "        print('\\n')\n",
    "    else:\n",
    "        print(\"   \",Result[:9][i])\n",
    "pd.DataFrame(D)"
   ]
  },
  {
   "cell_type": "code",
   "execution_count": 333,
   "id": "85cafe94",
   "metadata": {
    "ExecuteTime": {
     "end_time": "2022-05-15T12:19:11.659012Z",
     "start_time": "2022-05-15T12:19:11.640063Z"
    }
   },
   "outputs": [],
   "source": [
    "# Result1 = []\n",
    "# for i in range(len(Result[10:-1])):\n",
    "#     Result1.append(Result[10:-1][i].split())\n",
    "# Result1\n"
   ]
  },
  {
   "cell_type": "code",
   "execution_count": 241,
   "id": "08d153f6",
   "metadata": {
    "ExecuteTime": {
     "end_time": "2022-05-15T11:41:21.691268Z",
     "start_time": "2022-05-15T11:41:21.682285Z"
    }
   },
   "outputs": [
    {
     "data": {
      "text/plain": [
       "'MATHEMATICS FOR COMPUTER SCIENCE'"
      ]
     },
     "execution_count": 241,
     "metadata": {},
     "output_type": "execute_result"
    }
   ],
   "source": [
    "# ' '.join(Result1[0][1:-4])\n",
    "' '.join(Result[10:-1][0].split()[1:-4])\n",
    "# Result1[0][1:-4]"
   ]
  },
  {
   "cell_type": "code",
   "execution_count": 297,
   "id": "f6507edd",
   "metadata": {
    "ExecuteTime": {
     "end_time": "2022-05-15T12:08:14.145385Z",
     "start_time": "2022-05-15T12:08:14.129458Z"
    }
   },
   "outputs": [
    {
     "data": {
      "text/plain": [
       "'P'"
      ]
     },
     "execution_count": 297,
     "metadata": {},
     "output_type": "execute_result"
    }
   ],
   "source": [
    "Result[10:-1][0].split()[-1]"
   ]
  },
  {
   "cell_type": "code",
   "execution_count": 238,
   "id": "c366dcf8",
   "metadata": {
    "ExecuteTime": {
     "end_time": "2022-05-15T11:39:50.064587Z",
     "start_time": "2022-05-15T11:39:50.045638Z"
    }
   },
   "outputs": [
    {
     "ename": "SyntaxError",
     "evalue": "invalid syntax (Temp/ipykernel_16112/4065463929.py, line 1)",
     "output_type": "error",
     "traceback": [
      "\u001b[1;36m  File \u001b[1;32m\"C:\\Users\\aakas\\AppData\\Local\\Temp/ipykernel_16112/4065463929.py\"\u001b[1;36m, line \u001b[1;32m1\u001b[0m\n\u001b[1;33m    Result[9:-1][].split(\" \")\u001b[0m\n\u001b[1;37m                 ^\u001b[0m\n\u001b[1;31mSyntaxError\u001b[0m\u001b[1;31m:\u001b[0m invalid syntax\n"
     ]
    }
   ],
   "source": [
    "# Result[9:-1].split(\" \")"
   ]
  },
  {
   "cell_type": "code",
   "execution_count": null,
   "id": "2ed92247",
   "metadata": {},
   "outputs": [],
   "source": []
  },
  {
   "cell_type": "code",
   "execution_count": null,
   "id": "234d883a",
   "metadata": {},
   "outputs": [],
   "source": []
  },
  {
   "cell_type": "code",
   "execution_count": null,
   "id": "e9853f37",
   "metadata": {},
   "outputs": [],
   "source": []
  },
  {
   "cell_type": "code",
   "execution_count": null,
   "id": "177e2486",
   "metadata": {},
   "outputs": [],
   "source": []
  },
  {
   "cell_type": "code",
   "execution_count": null,
   "id": "85ac5639",
   "metadata": {},
   "outputs": [],
   "source": []
  },
  {
   "cell_type": "code",
   "execution_count": null,
   "id": "5bfcfb38",
   "metadata": {},
   "outputs": [],
   "source": []
  },
  {
   "cell_type": "code",
   "execution_count": 127,
   "id": "d9ea6b48",
   "metadata": {
    "ExecuteTime": {
     "end_time": "2022-05-15T08:59:18.333472Z",
     "start_time": "2022-05-15T08:59:17.037648Z"
    }
   },
   "outputs": [
    {
     "name": "stderr",
     "output_type": "stream",
     "text": [
      "C:\\Users\\aakas\\AppData\\Local\\Temp/ipykernel_16112/2149227117.py:3: DeprecationWarning: find_element_by_* commands are deprecated. Please use find_element() instead\n",
      "  driver.find_element_by_xpath(\".//button[contains(@class,'btn')]\").click()\n"
     ]
    }
   ],
   "source": [
    "# driver.find_element_by_xpath(\"//div[@class='col-md-3']\")\n",
    "# driver.find_element_by_xpath(\"//div[@class='col-md-3']/button[@class='btn']\").click()\n",
    "driver.find_element_by_xpath(\".//button[contains(@class,'btn')]\").click()"
   ]
  },
  {
   "cell_type": "code",
   "execution_count": 102,
   "id": "d9524f72",
   "metadata": {
    "ExecuteTime": {
     "end_time": "2022-05-15T08:36:33.704501Z",
     "start_time": "2022-05-15T08:36:33.685555Z"
    }
   },
   "outputs": [],
   "source": [
    "# driver.find_element_by_xpath(\"//div[@class='col-md-7']/select[@id='ecode']\").click()\n",
    "# driver.find_element_by_id('ecode').click()"
   ]
  },
  {
   "cell_type": "code",
   "execution_count": null,
   "id": "b40ac625",
   "metadata": {},
   "outputs": [],
   "source": []
  },
  {
   "cell_type": "code",
   "execution_count": 88,
   "id": "3baa78f8",
   "metadata": {
    "ExecuteTime": {
     "end_time": "2022-05-15T08:28:24.547436Z",
     "start_time": "2022-05-15T08:28:24.538459Z"
    }
   },
   "outputs": [],
   "source": [
    "# driver.find_element_by_xpath(\"//a[contains(@class,'dropdown-toggle')]\").click()"
   ]
  },
  {
   "cell_type": "code",
   "execution_count": 86,
   "id": "1617d3f7",
   "metadata": {
    "ExecuteTime": {
     "end_time": "2022-05-15T08:28:17.046683Z",
     "start_time": "2022-05-15T08:28:17.029727Z"
    }
   },
   "outputs": [],
   "source": [
    "# driver.find_element_by_xpath(\"//div[@id='myNavBar']\").text.split('\\n')"
   ]
  },
  {
   "cell_type": "code",
   "execution_count": 87,
   "id": "d0b9eb2e",
   "metadata": {
    "ExecuteTime": {
     "end_time": "2022-05-15T08:28:20.116562Z",
     "start_time": "2022-05-15T08:28:20.107586Z"
    }
   },
   "outputs": [],
   "source": [
    "# driver.find_element_by_xpath(\"//a[contains(@class,'dropdown-toggle')]\").text\n",
    "# driver.find_element_by_xpath(\"/a[contains(text(),' Results  ')]\").click()"
   ]
  },
  {
   "cell_type": "code",
   "execution_count": null,
   "id": "0c6fafa0",
   "metadata": {},
   "outputs": [],
   "source": []
  }
 ],
 "metadata": {
  "kernelspec": {
   "display_name": "Python 3 (ipykernel)",
   "language": "python",
   "name": "python3"
  },
  "language_info": {
   "codemirror_mode": {
    "name": "ipython",
    "version": 3
   },
   "file_extension": ".py",
   "mimetype": "text/x-python",
   "name": "python",
   "nbconvert_exporter": "python",
   "pygments_lexer": "ipython3",
   "version": "3.9.7"
  },
  "nbTranslate": {
   "displayLangs": [
    "*"
   ],
   "hotkey": "alt-t",
   "langInMainMenu": true,
   "sourceLang": "en",
   "targetLang": "fr",
   "useGoogleTranslate": true
  },
  "toc-autonumbering": true,
  "toc-showcode": true,
  "toc-showtags": false,
  "varInspector": {
   "cols": {
    "lenName": 16,
    "lenType": 16,
    "lenVar": 40
   },
   "kernels_config": {
    "python": {
     "delete_cmd_postfix": "",
     "delete_cmd_prefix": "del ",
     "library": "var_list.py",
     "varRefreshCmd": "print(var_dic_list())"
    },
    "r": {
     "delete_cmd_postfix": ") ",
     "delete_cmd_prefix": "rm(",
     "library": "var_list.r",
     "varRefreshCmd": "cat(var_dic_list()) "
    }
   },
   "types_to_exclude": [
    "module",
    "function",
    "builtin_function_or_method",
    "instance",
    "_Feature"
   ],
   "window_display": false
  }
 },
 "nbformat": 4,
 "nbformat_minor": 5
}
