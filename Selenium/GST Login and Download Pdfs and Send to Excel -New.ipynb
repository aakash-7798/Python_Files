{
 "cells": [
  {
   "cell_type": "code",
   "execution_count": 1,
   "id": "77ac8a23",
   "metadata": {
    "ExecuteTime": {
     "end_time": "2022-05-21T10:29:21.368607Z",
     "start_time": "2022-05-21T10:29:20.293519Z"
    }
   },
   "outputs": [],
   "source": [
    "from selenium import webdriver\n",
    "from selenium.webdriver.common.keys import Keys\n",
    "from webdriver_manager.chrome import ChromeDriverManager\n",
    "from getpass import getpass\n",
    "from selenium.webdriver.chrome.options import Options\n",
    "import chromedriver_autoinstaller as chromedriver\n",
    "chromedriver.install()\n",
    "import time\n",
    "import calendar\n",
    "from selenium.common.exceptions import NoSuchElementException\n",
    "import os"
   ]
  },
  {
   "cell_type": "code",
   "execution_count": 2,
   "id": "e4673f95",
   "metadata": {
    "ExecuteTime": {
     "end_time": "2022-05-21T10:29:24.748991Z",
     "start_time": "2022-05-21T10:29:22.144722Z"
    }
   },
   "outputs": [],
   "source": [
    "import pdfplumber\n",
    "import pandas as pd\n",
    "import string\n",
    "from IPython.display import display\n",
    "from tabulate import tabulate\n",
    "import os\n",
    "from openpyxl import load_workbook\n",
    "from openpyxl.styles.alignment import Alignment\n",
    "from openpyxl.styles import Alignment\n",
    "import openpyxl\n",
    "import xlwings as xw\n",
    "import datetime\n",
    "import calendar\n",
    "import shutil\n",
    "# !pip3 install openpyxl==2.5.14 "
   ]
  },
  {
   "cell_type": "code",
   "execution_count": 3,
   "id": "288efe3d",
   "metadata": {
    "ExecuteTime": {
     "end_time": "2022-05-21T10:29:25.363380Z",
     "start_time": "2022-05-21T10:29:25.345426Z"
    }
   },
   "outputs": [],
   "source": [
    "options = Options()\n",
    "options.add_argument('start-maximized')\n",
    "options.add_argument('disable-infobars')"
   ]
  },
  {
   "cell_type": "code",
   "execution_count": 4,
   "id": "008964a4",
   "metadata": {
    "ExecuteTime": {
     "end_time": "2022-05-21T10:29:39.683253Z",
     "start_time": "2022-05-21T10:29:26.164129Z"
    }
   },
   "outputs": [
    {
     "name": "stdout",
     "output_type": "stream",
     "text": [
      "Enter Username : pagepvtltd_2017\n",
      "Enter Password : ········\n"
     ]
    }
   ],
   "source": [
    "# username = pagepvtltd_2017\n",
    "# password = 'Srinivas@369'\n",
    "username = input(\"Enter Username : \")\n",
    "password = getpass(\"Enter Password : \")"
   ]
  },
  {
   "cell_type": "code",
   "execution_count": 5,
   "id": "ce255fb9",
   "metadata": {
    "ExecuteTime": {
     "end_time": "2022-05-21T10:29:43.503212Z",
     "start_time": "2022-05-21T10:29:43.482272Z"
    }
   },
   "outputs": [],
   "source": [
    "newpath = r\"E:\\{}\\GSTR-3B_PDFs\".format(username) \n",
    "if not os.path.exists(newpath):\n",
    "    os.makedirs(newpath)\n",
    "options.add_experimental_option(\"prefs\",{\"download.default_directory\":newpath})"
   ]
  },
  {
   "cell_type": "code",
   "execution_count": 6,
   "id": "c2dd4b9f",
   "metadata": {
    "ExecuteTime": {
     "end_time": "2022-05-21T10:30:24.636361Z",
     "start_time": "2022-05-21T10:29:44.286476Z"
    },
    "collapsed": true
   },
   "outputs": [
    {
     "name": "stderr",
     "output_type": "stream",
     "text": [
      "C:\\Users\\aakas\\AppData\\Local\\Temp/ipykernel_1396/1902087080.py:1: DeprecationWarning: executable_path has been deprecated, please pass in a Service object\n",
      "  Driver = webdriver.Chrome(chrome_options=options,executable_path='C:\\\\Users\\\\aakas\\\\anaconda3\\\\lib\\\\site-packages\\\\chromedriver_autoinstaller\\\\101\\\\chromedriver.exe')\n",
      "C:\\Users\\aakas\\AppData\\Local\\Temp/ipykernel_1396/1902087080.py:1: DeprecationWarning: use options instead of chrome_options\n",
      "  Driver = webdriver.Chrome(chrome_options=options,executable_path='C:\\\\Users\\\\aakas\\\\anaconda3\\\\lib\\\\site-packages\\\\chromedriver_autoinstaller\\\\101\\\\chromedriver.exe')\n",
      "C:\\Users\\aakas\\AppData\\Local\\Temp/ipykernel_1396/1902087080.py:4: DeprecationWarning: find_element_by_* commands are deprecated. Please use find_element() instead\n",
      "  Driver.find_element_by_xpath(\"//a[contains(text(),' Login')]\").click()\n",
      "C:\\Users\\aakas\\AppData\\Local\\Temp/ipykernel_1396/1902087080.py:6: DeprecationWarning: find_element_by_* commands are deprecated. Please use find_element() instead\n",
      "  Driver.find_element_by_id(\"username\").send_keys(username)\n",
      "C:\\Users\\aakas\\AppData\\Local\\Temp/ipykernel_1396/1902087080.py:8: DeprecationWarning: find_element_by_* commands are deprecated. Please use find_element() instead\n",
      "  Driver.find_element_by_id(\"user_pass\").send_keys(password)\n",
      "C:\\Users\\aakas\\AppData\\Local\\Temp/ipykernel_1396/1902087080.py:10: DeprecationWarning: find_element_by_* commands are deprecated. Please use find_element() instead\n",
      "  Driver.find_element_by_xpath('//button[normalize-space()=\"Login\"]').click()\n",
      "C:\\Users\\aakas\\AppData\\Local\\Temp/ipykernel_1396/1902087080.py:12: DeprecationWarning: find_element_by_* commands are deprecated. Please use find_element() instead\n",
      "  Driver.find_element_by_xpath(\"//a[contains(text(),'Remind me later')]\").click()\n",
      "C:\\Users\\aakas\\AppData\\Local\\Temp/ipykernel_1396/1902087080.py:14: DeprecationWarning: find_element_by_* commands are deprecated. Please use find_element() instead\n",
      "  Driver.find_element_by_xpath(\"//span[text()='Continue to Dashboard']\").click()\n",
      "C:\\Users\\aakas\\AppData\\Local\\Temp/ipykernel_1396/1902087080.py:16: DeprecationWarning: find_element_by_* commands are deprecated. Please use find_element() instead\n",
      "  Driver.find_element_by_xpath(\".//div[contains(@id,'main')]//a[contains(text(),'Services ')]\").click()\n",
      "C:\\Users\\aakas\\AppData\\Local\\Temp/ipykernel_1396/1902087080.py:18: DeprecationWarning: find_element_by_* commands are deprecated. Please use find_element() instead\n",
      "  Driver.find_element_by_xpath(\"//a[contains(text(),'Returns')]\").click()\n",
      "C:\\Users\\aakas\\AppData\\Local\\Temp/ipykernel_1396/1902087080.py:20: DeprecationWarning: find_element_by_* commands are deprecated. Please use find_element() instead\n",
      "  Driver.find_element_by_xpath(\"//div[@class='col-xs-12']//a[contains(text(),'Returns Dashboard')]\").click()\n"
     ]
    }
   ],
   "source": [
    "Driver = webdriver.Chrome(chrome_options=options,executable_path='C:\\\\Users\\\\aakas\\\\anaconda3\\\\lib\\\\site-packages\\\\chromedriver_autoinstaller\\\\101\\\\chromedriver.exe') \n",
    "Driver.get('https://www.gst.gov.in/')\n",
    "time.sleep(1)\n",
    "Driver.find_element_by_xpath(\"//a[contains(text(),' Login')]\").click()\n",
    "time.sleep(1)\n",
    "Driver.find_element_by_id(\"username\").send_keys(username)\n",
    "time.sleep(1)\n",
    "Driver.find_element_by_id(\"user_pass\").send_keys(password)\n",
    "time.sleep(10)\n",
    "Driver.find_element_by_xpath('//button[normalize-space()=\"Login\"]').click()\n",
    "time.sleep(1)\n",
    "Driver.find_element_by_xpath(\"//a[contains(text(),'Remind me later')]\").click()\n",
    "time.sleep(4)\n",
    "Driver.find_element_by_xpath(\"//span[text()='Continue to Dashboard']\").click()\n",
    "time.sleep(4)\n",
    "Driver.find_element_by_xpath(\".//div[contains(@id,'main')]//a[contains(text(),'Services ')]\").click()\n",
    "time.sleep(5)\n",
    "Driver.find_element_by_xpath(\"//a[contains(text(),'Returns')]\").click()\n",
    "time.sleep(5)\n",
    "Driver.find_element_by_xpath(\"//div[@class='col-xs-12']//a[contains(text(),'Returns Dashboard')]\").click()"
   ]
  },
  {
   "cell_type": "code",
   "execution_count": 96,
   "id": "e461bf5d",
   "metadata": {
    "ExecuteTime": {
     "end_time": "2022-05-21T09:51:14.533849Z",
     "start_time": "2022-05-21T09:51:14.518439Z"
    }
   },
   "outputs": [],
   "source": [
    "# Driver.find_element_by_xpath('.//div[contains(@class,\"hd\")]//p[contains(text(),\"GSTR-3B\")]').click()\n",
    "# Driver.find_element_by_xpath('.//div[contains(@class,\"hd\")]//p[contains(normalize-space(),\"3.1 Tax on outward and reverse charge inward supplies\")]').click()                            \n",
    "# Driver.find_element_by_xpath('.//div[contains(@class,\"modal-footer\")]//button[contains(normalize-space(),\"OK\")]').click()\n",
    "# Driver.find_element_by_xpath('.//div[contains(@class,\"table-responsive\")]//table').text"
   ]
  },
  {
   "cell_type": "code",
   "execution_count": 7,
   "id": "32f869d5",
   "metadata": {
    "ExecuteTime": {
     "end_time": "2022-05-21T10:31:17.266977Z",
     "start_time": "2022-05-21T10:30:36.263990Z"
    },
    "collapsed": true
   },
   "outputs": [
    {
     "name": "stdout",
     "output_type": "stream",
     "text": [
      "Enter Financial Year :    (for Eg:2017-18)2018-19\n"
     ]
    },
    {
     "name": "stderr",
     "output_type": "stream",
     "text": [
      "C:\\Users\\aakas\\AppData\\Local\\Temp/ipykernel_1396/3822367231.py:4: DeprecationWarning: find_element_by_* commands are deprecated. Please use find_element() instead\n",
      "  Driver.find_element_by_xpath(f\"//select[@name='fin']/option[text()='{i}']\").click()\n",
      "C:\\Users\\aakas\\AppData\\Local\\Temp/ipykernel_1396/3822367231.py:5: DeprecationWarning: find_element_by_* commands are deprecated. Please use find_element() instead\n",
      "  Months = Driver.find_element_by_name('mon').text.split('\\n')\n",
      "C:\\Users\\aakas\\AppData\\Local\\Temp/ipykernel_1396/3822367231.py:7: DeprecationWarning: find_element_by_* commands are deprecated. Please use find_element() instead\n",
      "  Driver.find_element_by_xpath(f\"//select[@name='mon']/option[text()='{m}']\").click()\n",
      "C:\\Users\\aakas\\AppData\\Local\\Temp/ipykernel_1396/3822367231.py:9: DeprecationWarning: find_element_by_* commands are deprecated. Please use find_element() instead\n",
      "  Driver.find_element_by_xpath(\".//div[contains(@class,'col-sm-3 col-xs-12')]//button[normalize-space()='Search']\").click()\n",
      "C:\\Users\\aakas\\AppData\\Local\\Temp/ipykernel_1396/3822367231.py:12: DeprecationWarning: find_element_by_* commands are deprecated. Please use find_element() instead\n",
      "  Driver.find_element_by_xpath(\".//div[contains(@class,'col-sm-6 col-xs-6')]//button[normalize-space()='Download']\").click()\n"
     ]
    }
   ],
   "source": [
    "f=[input(\"Enter Financial Year :    (for Eg:2017-18)\")]\n",
    "for i in f:\n",
    "    if i in ['2017-18','2018-19','2019-20']:\n",
    "        Driver.find_element_by_xpath(f\"//select[@name='fin']/option[text()='{i}']\").click()\n",
    "        Months = Driver.find_element_by_name('mon').text.split('\\n')\n",
    "        for m in Months:\n",
    "            Driver.find_element_by_xpath(f\"//select[@name='mon']/option[text()='{m}']\").click()\n",
    "            time.sleep(1)\n",
    "            Driver.find_element_by_xpath(\".//div[contains(@class,'col-sm-3 col-xs-12')]//button[normalize-space()='Search']\").click()\n",
    "            try:\n",
    "                time.sleep(1)\n",
    "                Driver.find_element_by_xpath(\".//div[contains(@class,'col-sm-6 col-xs-6')]//button[normalize-space()='Download']\").click()\n",
    "            except NoSuchElementException:\n",
    "                print(\" Not present....continuing script\")\n",
    "    else:\n",
    "        Driver.find_element_by_xpath(f\"//select[@name='fin']/option[text()='{i}']\").click()\n",
    "        Quarters = Driver.find_element_by_name('quarter').text.split('\\n')\n",
    "        for q in Quarters:\n",
    "            Driver.find_element_by_xpath(f\"//select[@name='quarter']/option[text()='{q}']\").click()\n",
    "            Months = Driver.find_element_by_name('mon').text.split('\\n')\n",
    "            for m in Months:\n",
    "                Driver.find_element_by_xpath(f\"//select[@name='mon']/option[text()='{m}']\").click()\n",
    "                time.sleep(1)\n",
    "                Driver.find_element_by_xpath(\".//div[contains(@class,'col-sm-3 col-xs-12')]//button[normalize-space()='Search']\").click()\n",
    "                try:\n",
    "                    time.sleep(1)\n",
    "                    Driver.find_element_by_xpath(\".//div[contains(@class,'col-sm-6 col-xs-6')]//button[normalize-space()='Download']\").click()\n",
    "                except NoSuchElementException:\n",
    "                    print(\"Not present....continuing script\")\n",
    "# time.sleep(1)\n",
    "# Driver.find_element_by_class_name(\"dropdown-toggle\").click()\n",
    "# time.sleep(1)\n",
    "# Driver.find_element_by_xpath(\"//a[@href='//services.gst.gov.in/services/logout']\").click()\n",
    "# time.sleep(2)\n",
    "# Driver.close()                    "
   ]
  },
  {
   "cell_type": "code",
   "execution_count": 8,
   "id": "b5712653",
   "metadata": {
    "ExecuteTime": {
     "end_time": "2022-05-21T10:31:30.782602Z",
     "start_time": "2022-05-21T10:31:30.759663Z"
    }
   },
   "outputs": [
    {
     "data": {
      "text/plain": [
       "'E:\\\\pagepvtltd_2017\\\\GSTR-3B_PDFs'"
      ]
     },
     "execution_count": 8,
     "metadata": {},
     "output_type": "execute_result"
    }
   ],
   "source": [
    "my_path = newpath\n",
    "os.chdir(my_path)\n",
    "os.getcwd()"
   ]
  },
  {
   "cell_type": "code",
   "execution_count": 9,
   "id": "a966bb25",
   "metadata": {
    "ExecuteTime": {
     "end_time": "2022-05-21T10:31:35.808417Z",
     "start_time": "2022-05-21T10:31:35.796450Z"
    },
    "scrolled": true
   },
   "outputs": [
    {
     "data": {
      "text/plain": [
       "['GSTR3B_36AACCP0932H2ZM_042018.pdf',\n",
       " 'GSTR3B_36AACCP0932H2ZM_052018.pdf',\n",
       " 'GSTR3B_36AACCP0932H2ZM_062018.pdf',\n",
       " 'GSTR3B_36AACCP0932H2ZM_072018.pdf',\n",
       " 'GSTR3B_36AACCP0932H2ZM_082018.pdf',\n",
       " 'GSTR3B_36AACCP0932H2ZM_092018.pdf',\n",
       " 'GSTR3B_36AACCP0932H2ZM_102018.pdf',\n",
       " 'GSTR3B_36AACCP0932H2ZM_112018.pdf',\n",
       " 'GSTR3B_36AACCP0932H2ZM_122018.pdf',\n",
       " 'GSTR3B_36AACCP0932H2ZM_012019.pdf',\n",
       " 'GSTR3B_36AACCP0932H2ZM_022019.pdf',\n",
       " 'GSTR3B_36AACCP0932H2ZM_032019.pdf']"
      ]
     },
     "execution_count": 9,
     "metadata": {},
     "output_type": "execute_result"
    }
   ],
   "source": [
    "All_files = sorted(filter(os.path.isfile, os.listdir('.')), key=os.path.getmtime)\n",
    "All_files"
   ]
  },
  {
   "cell_type": "code",
   "execution_count": 10,
   "id": "e3f6cedb",
   "metadata": {
    "ExecuteTime": {
     "end_time": "2022-05-21T10:31:52.411885Z",
     "start_time": "2022-05-21T10:31:43.216901Z"
    }
   },
   "outputs": [],
   "source": [
    "YearandMonths = {}\n",
    "replacers = {f'{i}\\n':'' for i in string.ascii_letters}\n",
    "replacers.update({\"\\n\":\"\",None:\" \"})\n",
    "for f in All_files:\n",
    "    pdf = pdfplumber.open(f)\n",
    "    first_page = pdf.pages[0]\n",
    "    All_Tables = first_page.extract_tables()\n",
    "    Details3_1 = pd.DataFrame(columns=[i.replace(\"\\n\",\" \") for i in All_Tables[2][0]])\n",
    "    for i in range(len(All_Tables[2][1:])):\n",
    "        Details3_1.loc[i] = All_Tables[2][1:][i]\n",
    "    Details3_1 = Details3_1.replace(replacers,regex=True)\n",
    "    values = {}\n",
    "    for i in range(len(Details3_1.columns[1:-1])):\n",
    "        values[Details3_1.columns[1:-1][i]] = float(Details3_1[Details3_1.columns[1:-1][i]][0])\n",
    "    values\n",
    "    YearandMonths.setdefault(All_Tables[0][0][1], {})\n",
    "    YearandMonths[All_Tables[0][0][1]][All_Tables[0][1][1]] = values"
   ]
  },
  {
   "cell_type": "code",
   "execution_count": 14,
   "id": "5f884bc3",
   "metadata": {
    "ExecuteTime": {
     "end_time": "2022-05-21T12:39:47.427025Z",
     "start_time": "2022-05-21T12:39:47.356150Z"
    },
    "scrolled": true
   },
   "outputs": [
    {
     "data": {
      "text/plain": [
       "{'2018-19': {'April': {'Total taxable  value': 1030710.0,\n",
       "   'D Integrated  tax': 0.0,\n",
       "   'Central  tax': 84963.9,\n",
       "   'State/UT  tax': 84963.9},\n",
       "  'May': {'Total taxable  value': 772887.0,\n",
       "   'D Integrated  tax': 0.0,\n",
       "   'Central  tax': 69559.83,\n",
       "   'State/UT  tax': 69559.83},\n",
       "  'June': {'Total taxable  value': 2805303.0,\n",
       "   'D Integrated  tax': 0.0,\n",
       "   'Central  tax': 161477.27,\n",
       "   'State/UT  tax': 161477.27},\n",
       "  'July': {'Total taxable  value': 1855553.0,\n",
       "   'D Integrated  tax': 0.0,\n",
       "   'Central  tax': 88999.77,\n",
       "   'State/UT  tax': 88999.77},\n",
       "  'August': {'Total taxable  value': 1885000.0,\n",
       "   'D Integrated  tax': 0.0,\n",
       "   'Central  tax': 138775.0,\n",
       "   'State/UT  tax': 138775.0},\n",
       "  'September': {'Total taxable  value': 1450000.0,\n",
       "   'D Integrated  tax': 0.0,\n",
       "   'Central  tax': 96375.0,\n",
       "   'State/UT  tax': 96375.0},\n",
       "  'October': {'Total taxable  value': 760000.0,\n",
       "   'D Integrated  tax': 0.0,\n",
       "   'Central  tax': 39150.0,\n",
       "   'State/UT  tax': 39150.0},\n",
       "  'November': {'Total taxable  value': 1025000.0,\n",
       "   'D Integrated  tax': 0.0,\n",
       "   'Central  tax': 56500.0,\n",
       "   'State/UT  tax': 56500.0},\n",
       "  'December': {'Total taxable  value': 750000.0,\n",
       "   'D Integrated  tax': 0.0,\n",
       "   'Central  tax': 46375.0,\n",
       "   'State/UT  tax': 46375.0},\n",
       "  'January': {'Total taxable  value': 1135000.0,\n",
       "   'D Integrated  tax': 0.0,\n",
       "   'Central  tax': 82000.0,\n",
       "   'State/UT  tax': 82000.0},\n",
       "  'February': {'Total taxable  value': 1634623.0,\n",
       "   'D Integrated  tax': 0.0,\n",
       "   'Central  tax': 117866.0,\n",
       "   'State/UT  tax': 117866.0},\n",
       "  'March': {'Total taxable  value': 1128777.0,\n",
       "   'D Integrated  tax': 0.0,\n",
       "   'Central  tax': 86965.0,\n",
       "   'State/UT  tax': 86965.0}}}"
      ]
     },
     "execution_count": 14,
     "metadata": {},
     "output_type": "execute_result"
    }
   ],
   "source": [
    "YearandMonths"
   ]
  },
  {
   "cell_type": "code",
   "execution_count": 30,
   "id": "a214ab98",
   "metadata": {
    "ExecuteTime": {
     "end_time": "2022-05-21T08:15:40.266438Z",
     "start_time": "2022-05-21T08:15:40.258458Z"
    }
   },
   "outputs": [],
   "source": [
    "# datetime.datetime.strptime(,\"%b\")\n",
    "# list(YearandMonths[\"2021-22\"])[0]"
   ]
  },
  {
   "cell_type": "code",
   "execution_count": 12,
   "id": "0c99a8a5",
   "metadata": {
    "ExecuteTime": {
     "end_time": "2022-05-21T10:32:00.988713Z",
     "start_time": "2022-05-21T10:32:00.967771Z"
    }
   },
   "outputs": [
    {
     "data": {
      "text/plain": [
       "'E:\\\\pagepvtltd_2017\\\\Financial_Years_Excel_Files\\\\GST_FY_Format_copy.xlsx'"
      ]
     },
     "execution_count": 12,
     "metadata": {},
     "output_type": "execute_result"
    }
   ],
   "source": [
    "os.mkdir(\"E:\\\\{}\\\\Financial_Years_Excel_Files\".format(username))\n",
    "shutil.copy(\"E:\\GST_FY_Format_copy.xlsx\", \"E:\\\\{}\\\\Financial_Years_Excel_Files\".format(username))"
   ]
  },
  {
   "cell_type": "code",
   "execution_count": 13,
   "id": "32410e4c",
   "metadata": {
    "ExecuteTime": {
     "end_time": "2022-05-21T10:32:09.620111Z",
     "start_time": "2022-05-21T10:32:02.994416Z"
    }
   },
   "outputs": [],
   "source": [
    "for y in list(YearandMonths.keys()):\n",
    "    df =   xw.Book('E:\\\\{}\\\\Financial_Years_Excel_Files\\\\GST_FY_Format_copy.xlsx'.format(username))\n",
    "    excel_app = xw.apps.active\n",
    "    sn = df.sheets[0]\n",
    "    sn.name = 'GST_FY_{}'.format(y)\n",
    "    sn.range('A1').value = \"SAI ENTERPRISES\"\n",
    "    sn['A2'].value = \"GST  STATEMENT FOR THE PERIOD OF 01-04-{} TO 31-03-20{} GSTR 3B\".format(y[0:4],y[5:])\n",
    "    sn.range('I8').value = \"OUTPUT TAXABLE VALUE\"\n",
    "    sn.range('K8').value = \"IGST\"\n",
    "    sn.range('L8').value = \"CGST\"\n",
    "    sn.range('M8').value = \"SGST\"\n",
    "    for clmns in ['I','K','L','M']:\n",
    "        for numbs in range(11,23):\n",
    "            jn = ''.join([clmns,str(numbs)])\n",
    "            sn.range(jn).value = float(0.0)\n",
    "    for j in list(YearandMonths[y].keys()):\n",
    "        if j in [\"(Apr-Jun)\",\"(Jul-Sep)\",\"(Oct-Dec)\",\"(Jan-Mar)\"]:\n",
    "            for s in range(1,30):\n",
    "                dto = datetime.datetime.strptime(j[4:],\"%b\")\n",
    "                cmn = calendar.month_name[dto.month]\n",
    "                if  cmn == sn.range(s,1).value:\n",
    "                    for (k,m) in zip(['I','K','L','M'],list(YearandMonths[y][j].values())):\n",
    "                        cb = ''.join([k,sn.range(s,1).address.replace('$','')[1:]])\n",
    "                        sn.range(cb).value = m\n",
    "        else:\n",
    "            for s in range(1,30):\n",
    "                if j == (sn.range(s,1).value):\n",
    "                    for (k,m) in zip(['I','K','L','M'],list(YearandMonths[y][j].values())):\n",
    "                        cb = ''.join([k,sn.range(s,1).address.replace('$','')[1:]])\n",
    "                        sn.range(cb).value = m\n",
    "    df.save('E:\\\\{}\\\\Financial_Years_Excel_Files\\\\GST_FY_{}.xlsx'.format(username,y))\n",
    "    excel_app.quit()"
   ]
  },
  {
   "cell_type": "code",
   "execution_count": 17,
   "id": "498f3c27",
   "metadata": {
    "ExecuteTime": {
     "end_time": "2022-05-21T12:45:45.209623Z",
     "start_time": "2022-05-21T12:45:45.194664Z"
    }
   },
   "outputs": [
    {
     "data": {
      "text/plain": [
       "'GSTR3B_36AACCP0932H2ZM_122018.pdf'"
      ]
     },
     "execution_count": 17,
     "metadata": {},
     "output_type": "execute_result"
    }
   ],
   "source": [
    "All_files[-4]"
   ]
  },
  {
   "cell_type": "code",
   "execution_count": null,
   "id": "cc237b98",
   "metadata": {},
   "outputs": [],
   "source": []
  }
 ],
 "metadata": {
  "hide_input": false,
  "kernelspec": {
   "display_name": "Python 3 (ipykernel)",
   "language": "python",
   "name": "python3"
  },
  "language_info": {
   "codemirror_mode": {
    "name": "ipython",
    "version": 3
   },
   "file_extension": ".py",
   "mimetype": "text/x-python",
   "name": "python",
   "nbconvert_exporter": "python",
   "pygments_lexer": "ipython3",
   "version": "3.9.7"
  },
  "nbTranslate": {
   "displayLangs": [
    "*"
   ],
   "hotkey": "alt-t",
   "langInMainMenu": true,
   "sourceLang": "en",
   "targetLang": "fr",
   "useGoogleTranslate": true
  },
  "varInspector": {
   "cols": {
    "lenName": 16,
    "lenType": 16,
    "lenVar": 40
   },
   "kernels_config": {
    "python": {
     "delete_cmd_postfix": "",
     "delete_cmd_prefix": "del ",
     "library": "var_list.py",
     "varRefreshCmd": "print(var_dic_list())"
    },
    "r": {
     "delete_cmd_postfix": ") ",
     "delete_cmd_prefix": "rm(",
     "library": "var_list.r",
     "varRefreshCmd": "cat(var_dic_list()) "
    }
   },
   "types_to_exclude": [
    "module",
    "function",
    "builtin_function_or_method",
    "instance",
    "_Feature"
   ],
   "window_display": false
  }
 },
 "nbformat": 4,
 "nbformat_minor": 5
}
