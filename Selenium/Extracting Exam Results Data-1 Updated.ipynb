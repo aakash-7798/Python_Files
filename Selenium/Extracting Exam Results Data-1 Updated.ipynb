{
 "cells": [
  {
   "cell_type": "code",
   "execution_count": 26,
   "id": "6b0e77d9",
   "metadata": {
    "ExecuteTime": {
     "end_time": "2022-05-29T06:29:22.432060Z",
     "start_time": "2022-05-29T06:29:21.579159Z"
    }
   },
   "outputs": [],
   "source": [
    "from selenium import webdriver\n",
    "from bs4 import BeautifulSoup\n",
    "from selenium.webdriver.chrome.options import Options\n",
    "import chromedriver_autoinstaller as chromedriver\n",
    "from webdriver_manager.chrome import ChromeDriverManager\n",
    "chromedriver.install()\n",
    "from selenium.webdriver.chrome.service import Service\n",
    "from selenium.webdriver.common.by import By\n",
    "from IPython.display import display,HTML\n",
    "import time\n",
    "import pandas as pd"
   ]
  },
  {
   "cell_type": "code",
   "execution_count": 9,
   "id": "2c2b1483",
   "metadata": {
    "ExecuteTime": {
     "end_time": "2022-05-29T06:21:51.034309Z",
     "start_time": "2022-05-29T06:21:51.024337Z"
    }
   },
   "outputs": [],
   "source": [
    "options = Options()\n",
    "options.add_argument('start-maximized')"
   ]
  },
  {
   "cell_type": "code",
   "execution_count": 6,
   "id": "c9d8a87d",
   "metadata": {
    "ExecuteTime": {
     "end_time": "2022-05-29T06:20:03.846394Z",
     "start_time": "2022-05-29T06:20:03.829440Z"
    }
   },
   "outputs": [],
   "source": [
    "url = 'http://www.results.manabadi.co.in/osmania-university-ug-cbcs-ba-bcom-bsc-bba-2019-exam-results-13-082019.htm'"
   ]
  },
  {
   "cell_type": "code",
   "execution_count": 7,
   "id": "c193d22f",
   "metadata": {
    "ExecuteTime": {
     "end_time": "2022-05-29T06:20:30.339090Z",
     "start_time": "2022-05-29T06:20:06.107333Z"
    },
    "collapsed": true
   },
   "outputs": [
    {
     "name": "stdout",
     "output_type": "stream",
     "text": [
      "Enter Hall Ticket Number : 105916467074\n",
      "Enter Course : Bcom Bsc BA BBA Bsc\n"
     ]
    },
    {
     "name": "stderr",
     "output_type": "stream",
     "text": [
      "\n",
      "\n",
      "INFO:WDM:\n",
      "\n",
      "====== WebDriver manager ======\n",
      "INFO:WDM:====== WebDriver manager ======\n",
      "Current google-chrome version is 102.0.5005\n",
      "INFO:WDM:Current google-chrome version is 102.0.5005\n",
      "Get LATEST chromedriver version for 102.0.5005 google-chrome\n",
      "INFO:WDM:Get LATEST chromedriver version for 102.0.5005 google-chrome\n",
      "Trying to download new driver from https://chromedriver.storage.googleapis.com/102.0.5005.61/chromedriver_win32.zip\n",
      "INFO:WDM:Trying to download new driver from https://chromedriver.storage.googleapis.com/102.0.5005.61/chromedriver_win32.zip\n",
      "Driver has been saved in cache [C:\\Users\\aakas\\.wdm\\drivers\\chromedriver\\win32\\102.0.5005.61]\n",
      "INFO:WDM:Driver has been saved in cache [C:\\Users\\aakas\\.wdm\\drivers\\chromedriver\\win32\\102.0.5005.61]\n"
     ]
    }
   ],
   "source": [
    "ht = input(\"Enter Hall Ticket Number : \")\n",
    "cs = input(\"Enter Course : Bcom Bsc BA BBA \")\n",
    "driver = webdriver.Chrome(options=options,service=Service(ChromeDriverManager().install())) \n",
    "driver.get(url)\n",
    "driver.find_element(By.ID,\"htno\").send_keys(ht)\n",
    "time.sleep(1)\n",
    "driver.find_element(By.ID,\"Degree\").send_keys(cs)\n",
    "time.sleep(1)\n",
    "driver.find_element(By.ID,'btnsubmit').click()"
   ]
  },
  {
   "cell_type": "code",
   "execution_count": 10,
   "id": "3a8cdef5",
   "metadata": {
    "ExecuteTime": {
     "end_time": "2022-05-29T06:22:25.673892Z",
     "start_time": "2022-05-29T06:22:25.620884Z"
    }
   },
   "outputs": [],
   "source": [
    "BS = BeautifulSoup(driver.page_source,'html.parser')"
   ]
  },
  {
   "cell_type": "code",
   "execution_count": 25,
   "id": "23460df0",
   "metadata": {
    "ExecuteTime": {
     "end_time": "2022-05-29T06:28:22.960419Z",
     "start_time": "2022-05-29T06:28:22.951447Z"
    }
   },
   "outputs": [
    {
     "data": {
      "text/plain": [
       "<table cellpadding=\"0\" cellspacing=\"0\" width=\"100%\"> <tbody><tr><td colspan=\"3\" style=\"background-color:bed6e0; text-align:center;\"><b>Result</b></td></tr><tr><td><b>Semester</b></td><td><b>Result-SGPA</b></td><td><b>CGPA</b></td></tr><tr><td>6</td><td>PASSED-9.82</td><td>9.87</td></tr></tbody></table>"
      ]
     },
     "execution_count": 25,
     "metadata": {},
     "output_type": "execute_result"
    }
   ],
   "source": [
    "# BS.find_all('div',id='subhtm')[0].find_all('table')[0]\n",
    "# BS.find_all('div',id='subhtm')[0].find_all('table')[1]\n",
    "BS.find_all('div',id='subhtm')[0].find_all('table')[2]"
   ]
  },
  {
   "cell_type": "code",
   "execution_count": 57,
   "id": "94bd50f8",
   "metadata": {
    "ExecuteTime": {
     "end_time": "2022-05-29T06:49:07.074075Z",
     "start_time": "2022-05-29T06:49:07.036205Z"
    }
   },
   "outputs": [
    {
     "data": {
      "text/html": [
       "<div>\n",
       "<style scoped>\n",
       "    .dataframe tbody tr th:only-of-type {\n",
       "        vertical-align: middle;\n",
       "    }\n",
       "\n",
       "    .dataframe tbody tr th {\n",
       "        vertical-align: top;\n",
       "    }\n",
       "\n",
       "    .dataframe thead th {\n",
       "        text-align: right;\n",
       "    }\n",
       "</style>\n",
       "<table border=\"1\" class=\"dataframe\">\n",
       "  <thead>\n",
       "    <tr style=\"text-align: right;\">\n",
       "      <th></th>\n",
       "      <th>Personal Information</th>\n",
       "      <th>Personal Information</th>\n",
       "    </tr>\n",
       "  </thead>\n",
       "  <tbody>\n",
       "    <tr>\n",
       "      <th>0</th>\n",
       "      <td>Hall Ticket No</td>\n",
       "      <td>105916467074</td>\n",
       "    </tr>\n",
       "    <tr>\n",
       "      <th>1</th>\n",
       "      <td>Name</td>\n",
       "      <td>N NAGA PRASANNA KUMAR</td>\n",
       "    </tr>\n",
       "    <tr>\n",
       "      <th>2</th>\n",
       "      <td>Father's Name</td>\n",
       "      <td>N SRINIVAS</td>\n",
       "    </tr>\n",
       "    <tr>\n",
       "      <th>3</th>\n",
       "      <td>Gender</td>\n",
       "      <td>M</td>\n",
       "    </tr>\n",
       "    <tr>\n",
       "      <th>4</th>\n",
       "      <td>Medium</td>\n",
       "      <td>EN</td>\n",
       "    </tr>\n",
       "    <tr>\n",
       "      <th>5</th>\n",
       "      <td>Course</td>\n",
       "      <td>BSC</td>\n",
       "    </tr>\n",
       "  </tbody>\n",
       "</table>\n",
       "</div>"
      ],
      "text/plain": [
       "  Personal Information   Personal Information\n",
       "0       Hall Ticket No           105916467074\n",
       "1                 Name  N NAGA PRASANNA KUMAR\n",
       "2        Father's Name             N SRINIVAS\n",
       "3               Gender                      M\n",
       "4               Medium                     EN\n",
       "5               Course                    BSC"
      ]
     },
     "execution_count": 57,
     "metadata": {},
     "output_type": "execute_result"
    }
   ],
   "source": [
    "T1 = pd.read_html(str(BS.find_all('div',id='subhtm')[0].find_all('table')[0]))[0].iloc[0:]\n",
    "T1.columns = list(T1.iloc[0])\n",
    "T1 = T1.iloc[1:]\n",
    "T1.reset_index(inplace=True,drop=True)\n",
    "T1"
   ]
  },
  {
   "cell_type": "code",
   "execution_count": 52,
   "id": "447b30f4",
   "metadata": {
    "ExecuteTime": {
     "end_time": "2022-05-29T06:44:49.833514Z",
     "start_time": "2022-05-29T06:44:49.803595Z"
    }
   },
   "outputs": [
    {
     "data": {
      "text/html": [
       "<div>\n",
       "<style scoped>\n",
       "    .dataframe tbody tr th:only-of-type {\n",
       "        vertical-align: middle;\n",
       "    }\n",
       "\n",
       "    .dataframe tbody tr th {\n",
       "        vertical-align: top;\n",
       "    }\n",
       "\n",
       "    .dataframe thead th {\n",
       "        text-align: right;\n",
       "    }\n",
       "</style>\n",
       "<table border=\"1\" class=\"dataframe\">\n",
       "  <thead>\n",
       "    <tr style=\"text-align: right;\">\n",
       "      <th></th>\n",
       "      <th>Subject Code</th>\n",
       "      <th>Subject Name</th>\n",
       "      <th>Credits</th>\n",
       "      <th>Grade Points</th>\n",
       "      <th>Grade Secured</th>\n",
       "    </tr>\n",
       "  </thead>\n",
       "  <tbody>\n",
       "    <tr>\n",
       "      <th>0</th>\n",
       "      <td>750</td>\n",
       "      <td>MATHEMATICS.7 PR</td>\n",
       "      <td>1</td>\n",
       "      <td>10</td>\n",
       "      <td>O</td>\n",
       "    </tr>\n",
       "    <tr>\n",
       "      <th>1</th>\n",
       "      <td>752</td>\n",
       "      <td>COMP. SCIENCE.7 PR</td>\n",
       "      <td>1</td>\n",
       "      <td>10</td>\n",
       "      <td>O</td>\n",
       "    </tr>\n",
       "    <tr>\n",
       "      <th>2</th>\n",
       "      <td>850</td>\n",
       "      <td>MATHEMATICS.8 PR</td>\n",
       "      <td>1</td>\n",
       "      <td>10</td>\n",
       "      <td>O</td>\n",
       "    </tr>\n",
       "    <tr>\n",
       "      <th>3</th>\n",
       "      <td>852</td>\n",
       "      <td>COMP. SCIENCE.8 PR</td>\n",
       "      <td>1</td>\n",
       "      <td>10</td>\n",
       "      <td>O</td>\n",
       "    </tr>\n",
       "    <tr>\n",
       "      <th>4</th>\n",
       "      <td>759Q</td>\n",
       "      <td>GRAPH THEORY</td>\n",
       "      <td>2</td>\n",
       "      <td>9</td>\n",
       "      <td>A</td>\n",
       "    </tr>\n",
       "    <tr>\n",
       "      <th>5</th>\n",
       "      <td>859T</td>\n",
       "      <td>SECTORS OF INDIAN ECONOMY</td>\n",
       "      <td>2</td>\n",
       "      <td>10</td>\n",
       "      <td>O</td>\n",
       "    </tr>\n",
       "    <tr>\n",
       "      <th>6</th>\n",
       "      <td>851</td>\n",
       "      <td>COMP. SCIENCE.8</td>\n",
       "      <td>3</td>\n",
       "      <td>9</td>\n",
       "      <td>A</td>\n",
       "    </tr>\n",
       "    <tr>\n",
       "      <th>7</th>\n",
       "      <td>724</td>\n",
       "      <td>STATISTICS.7 PR</td>\n",
       "      <td>1</td>\n",
       "      <td>10</td>\n",
       "      <td>O</td>\n",
       "    </tr>\n",
       "    <tr>\n",
       "      <th>8</th>\n",
       "      <td>849</td>\n",
       "      <td>MATHEMATICS.8</td>\n",
       "      <td>3</td>\n",
       "      <td>10</td>\n",
       "      <td>O</td>\n",
       "    </tr>\n",
       "    <tr>\n",
       "      <th>9</th>\n",
       "      <td>823</td>\n",
       "      <td>STATISTICS.8</td>\n",
       "      <td>3</td>\n",
       "      <td>10</td>\n",
       "      <td>O</td>\n",
       "    </tr>\n",
       "    <tr>\n",
       "      <th>10</th>\n",
       "      <td>824</td>\n",
       "      <td>STATISTICS.8 PR</td>\n",
       "      <td>1</td>\n",
       "      <td>10</td>\n",
       "      <td>O</td>\n",
       "    </tr>\n",
       "    <tr>\n",
       "      <th>11</th>\n",
       "      <td>749</td>\n",
       "      <td>MATHEMATICS.7</td>\n",
       "      <td>3</td>\n",
       "      <td>10</td>\n",
       "      <td>O</td>\n",
       "    </tr>\n",
       "    <tr>\n",
       "      <th>12</th>\n",
       "      <td>723</td>\n",
       "      <td>STATISTICS.7</td>\n",
       "      <td>3</td>\n",
       "      <td>10</td>\n",
       "      <td>O</td>\n",
       "    </tr>\n",
       "    <tr>\n",
       "      <th>13</th>\n",
       "      <td>751</td>\n",
       "      <td>COMP. SCIENCE.7</td>\n",
       "      <td>3</td>\n",
       "      <td>10</td>\n",
       "      <td>O</td>\n",
       "    </tr>\n",
       "  </tbody>\n",
       "</table>\n",
       "</div>"
      ],
      "text/plain": [
       "   Subject Code               Subject Name Credits Grade Points Grade Secured\n",
       "0           750           MATHEMATICS.7 PR       1           10             O\n",
       "1           752         COMP. SCIENCE.7 PR       1           10             O\n",
       "2           850           MATHEMATICS.8 PR       1           10             O\n",
       "3           852         COMP. SCIENCE.8 PR       1           10             O\n",
       "4          759Q               GRAPH THEORY       2            9             A\n",
       "5          859T  SECTORS OF INDIAN ECONOMY       2           10             O\n",
       "6           851            COMP. SCIENCE.8       3            9             A\n",
       "7           724            STATISTICS.7 PR       1           10             O\n",
       "8           849              MATHEMATICS.8       3           10             O\n",
       "9           823               STATISTICS.8       3           10             O\n",
       "10          824            STATISTICS.8 PR       1           10             O\n",
       "11          749              MATHEMATICS.7       3           10             O\n",
       "12          723               STATISTICS.7       3           10             O\n",
       "13          751            COMP. SCIENCE.7       3           10             O"
      ]
     },
     "execution_count": 52,
     "metadata": {},
     "output_type": "execute_result"
    }
   ],
   "source": [
    "T2 = pd.read_html(str(BS.find_all('div',id='subhtm')[0].find_all('table')[1]))[0].iloc[1:]\n",
    "T2.columns = list(T2.iloc[0])\n",
    "T2 = T2.iloc[1:]\n",
    "T2.reset_index(inplace=True,drop=True)\n",
    "T2"
   ]
  },
  {
   "cell_type": "code",
   "execution_count": 59,
   "id": "51aad396",
   "metadata": {
    "ExecuteTime": {
     "end_time": "2022-05-29T06:51:51.266282Z",
     "start_time": "2022-05-29T06:51:51.246336Z"
    }
   },
   "outputs": [
    {
     "data": {
      "text/plain": [
       "Subject Code     object\n",
       "Subject Name     object\n",
       "Credits          object\n",
       "Grade Points     object\n",
       "Grade Secured    object\n",
       "dtype: object"
      ]
     },
     "execution_count": 59,
     "metadata": {},
     "output_type": "execute_result"
    }
   ],
   "source": [
    "T2.dtypes"
   ]
  },
  {
   "cell_type": "code",
   "execution_count": 58,
   "id": "77255e34",
   "metadata": {
    "ExecuteTime": {
     "end_time": "2022-05-29T06:49:50.463968Z",
     "start_time": "2022-05-29T06:49:50.424075Z"
    }
   },
   "outputs": [
    {
     "data": {
      "text/html": [
       "<div>\n",
       "<style scoped>\n",
       "    .dataframe tbody tr th:only-of-type {\n",
       "        vertical-align: middle;\n",
       "    }\n",
       "\n",
       "    .dataframe tbody tr th {\n",
       "        vertical-align: top;\n",
       "    }\n",
       "\n",
       "    .dataframe thead th {\n",
       "        text-align: right;\n",
       "    }\n",
       "</style>\n",
       "<table border=\"1\" class=\"dataframe\">\n",
       "  <thead>\n",
       "    <tr style=\"text-align: right;\">\n",
       "      <th></th>\n",
       "      <th>0</th>\n",
       "      <th>1</th>\n",
       "      <th>2</th>\n",
       "    </tr>\n",
       "  </thead>\n",
       "  <tbody>\n",
       "    <tr>\n",
       "      <th>1</th>\n",
       "      <td>Semester</td>\n",
       "      <td>Result-SGPA</td>\n",
       "      <td>CGPA</td>\n",
       "    </tr>\n",
       "    <tr>\n",
       "      <th>2</th>\n",
       "      <td>6</td>\n",
       "      <td>PASSED-9.82</td>\n",
       "      <td>9.87</td>\n",
       "    </tr>\n",
       "  </tbody>\n",
       "</table>\n",
       "</div>"
      ],
      "text/plain": [
       "          0            1     2\n",
       "1  Semester  Result-SGPA  CGPA\n",
       "2         6  PASSED-9.82  9.87"
      ]
     },
     "execution_count": 58,
     "metadata": {},
     "output_type": "execute_result"
    }
   ],
   "source": [
    "T3 = pd.read_html(str(BS.find_all('div',id='subhtm')[0].find_all('table')[2]))[0].iloc[1:]\n",
    "T3"
   ]
  },
  {
   "cell_type": "code",
   "execution_count": 74,
   "id": "55ea6c68",
   "metadata": {
    "ExecuteTime": {
     "end_time": "2022-05-29T07:47:52.155653Z",
     "start_time": "2022-05-29T07:47:52.133716Z"
    }
   },
   "outputs": [
    {
     "data": {
      "text/plain": [
       "<table cellpadding=\"0\" cellspacing=\"0\" width=\"100%\"> <tbody><tr><td colspan=\"2\" style=\"background-color:bed6e0; text-align:center;\"><b>Personal Information</b></td></tr> <tr><td><b> Hall Ticket No </b></td><td>105916467074</td></tr><tr><td><b> Name </b></td><td>N NAGA PRASANNA KUMAR</td></tr><tr><td><b> Father's Name </b></td><td>N SRINIVAS</td></tr><tr><td><b> Gender </b></td><td>M</td></tr><tr><td><b> Medium </b></td><td>EN</td></tr><tr><td><b> Course </b></td><td>BSC</td></tr></tbody></table>"
      ]
     },
     "execution_count": 74,
     "metadata": {},
     "output_type": "execute_result"
    }
   ],
   "source": [
    "# BS.find_all('div',id='subhtm')[0].find_all('table')[0].find_all('td')[0]['colspan'] = 2\n",
    "BS.find_all('div',id='subhtm')[0].find_all('table')[0]"
   ]
  },
  {
   "cell_type": "code",
   "execution_count": 72,
   "id": "6da5af55",
   "metadata": {
    "ExecuteTime": {
     "end_time": "2022-05-29T07:47:13.712101Z",
     "start_time": "2022-05-29T07:47:13.695114Z"
    }
   },
   "outputs": [
    {
     "data": {
      "text/html": [
       "<table cellpadding=\"0\" cellspacing=\"0\" width=\"100%\"> <tbody><tr><td colspan=\"2\" style=\"background-color:bed6e0; text-align:center;\"><b>Personal Information</b></td></tr> <tr><td><b> Hall Ticket No </b></td><td>105916467074</td></tr><tr><td><b> Name </b></td><td>N NAGA PRASANNA KUMAR</td></tr><tr><td><b> Father's Name </b></td><td>N SRINIVAS</td></tr><tr><td><b> Gender </b></td><td>M</td></tr><tr><td><b> Medium </b></td><td>EN</td></tr><tr><td><b> Course </b></td><td>BSC</td></tr></tbody></table>"
      ],
      "text/plain": [
       "<IPython.core.display.HTML object>"
      ]
     },
     "metadata": {},
     "output_type": "display_data"
    }
   ],
   "source": [
    "display(HTML(f\"{BS.find_all('div',id='subhtm')[0].find_all('table')[0]}\"))\n",
    "# display(HTML(f\"{BS.find_all('div',id='subhtm')[0].find_all('table')[1]}\"))\n",
    "# display(HTML(f\"{BS.find_all('div',id='subhtm')[0].find_all('table')[2]}\"))"
   ]
  },
  {
   "cell_type": "code",
   "execution_count": 97,
   "id": "be153ca1",
   "metadata": {},
   "outputs": [
    {
     "name": "stderr",
     "output_type": "stream",
     "text": [
      "C:\\Users\\aakas\\AppData\\Local\\Temp/ipykernel_17024/361587400.py:1: DeprecationWarning: find_element_by_* commands are deprecated. Please use find_element() instead\n",
      "  Table1 = driver.find_element_by_xpath('//div[@id=\"subhtm\"]//table[1]').text\n",
      "C:\\Users\\aakas\\AppData\\Local\\Temp/ipykernel_17024/361587400.py:2: DeprecationWarning: find_element_by_* commands are deprecated. Please use find_element() instead\n",
      "  Table2 =driver.find_element_by_xpath('//div[@id=\"subhtm\"]//table[2]').text\n",
      "C:\\Users\\aakas\\AppData\\Local\\Temp/ipykernel_17024/361587400.py:3: DeprecationWarning: find_element_by_* commands are deprecated. Please use find_element() instead\n",
      "  Table3 = driver.find_element_by_xpath('//div[@id=\"subhtm\"]//table[3]').text\n"
     ]
    }
   ],
   "source": [
    "Table1 = driver.find_element_by_xpath('//div[@id=\"subhtm\"]//table[1]').text\n",
    "Table2 =driver.find_element_by_xpath('//div[@id=\"subhtm\"]//table[2]').text\n",
    "Table3 = driver.find_element_by_xpath('//div[@id=\"subhtm\"]//table[3]').text"
   ]
  },
  {
   "cell_type": "code",
   "execution_count": 98,
   "id": "e0298592",
   "metadata": {},
   "outputs": [],
   "source": [
    "Personal_Information = {}\n",
    "Personal_Information[\"Hall Ticket No\"] = [Table1.split(\"\\n\")[1][15:]]\n",
    "Personal_Information[\"Name\"] = [Table1.split(\"\\n\")[2][4:]]\n",
    "Personal_Information[\"Father's Name\"] = [Table1.split(\"\\n\")[3][14:]]\n",
    "Personal_Information[\"Gender\"] = [Table1.split(\"\\n\")[4][7:]]\n",
    "Personal_Information[\"Medium\"] = [Table1.split(\"\\n\")[5][7:]]\n",
    "Personal_Information[\"Course\"] = [Table1.split(\"\\n\")[6][7:]]\n",
    "# print(pd.DataFrame(Personal_Information).transpose().to_string(header=False))"
   ]
  },
  {
   "cell_type": "code",
   "execution_count": 99,
   "id": "766ff9e3",
   "metadata": {},
   "outputs": [],
   "source": [
    "a = [\"Subject_Code\",\"Subject_Name\",\"Credits\",\"Grade_Points\",\"Grade_Secured\"]\n",
    "Marks_Details = {}\n",
    "for i in range(len(a)):\n",
    "    Marks_Details[a[i]] = []\n",
    "Marks_Details\n",
    "for i in range(len(Table2.split('\\n')[2:])):\n",
    "    Marks_Details[a[0]].append(Table2.split(\"\\n\")[2:][i].split(' ')[0])\n",
    "    Marks_Details[a[1]].append(Table2.split(\"\\n\")[2:][i][4:-7])\n",
    "    Marks_Details[a[2]].append(Table2.split(\"\\n\")[2:][i].split(' ')[-3])\n",
    "    Marks_Details[a[3]].append(Table2.split(\"\\n\")[2:][i].split(' ')[-2])\n",
    "    Marks_Details[a[4]].append(Table2.split(\"\\n\")[2:][i].split(' ')[-1])\n",
    "# print(pd.DataFrame(Marks_Details).to_string(index=False))"
   ]
  },
  {
   "cell_type": "code",
   "execution_count": 100,
   "id": "64ba3a21",
   "metadata": {},
   "outputs": [],
   "source": [
    "Result = {}\n",
    "Result[\"Semester\"] = [Table3.split(\"\\n\")[-1].split(\" \")[0]]\n",
    "Result[\"Result-SGPA\"] = [Table3.split(\"\\n\")[-1].split(\" \")[1]]\n",
    "Result[\"CGPA\"] = [Table3.split(\"\\n\")[-1].split(\" \")[2]]\n",
    "# print(pd.DataFrame(Result).to_string(index = False))"
   ]
  },
  {
   "cell_type": "code",
   "execution_count": 101,
   "id": "2ecd82dc",
   "metadata": {},
   "outputs": [],
   "source": [
    "PI = pd.DataFrame(Personal_Information).transpose().to_string(header=False)\n",
    "MD = pd.DataFrame(Marks_Details).to_string(index=False)\n",
    "RS = pd.DataFrame(Result).to_string(index=False)"
   ]
  },
  {
   "cell_type": "code",
   "execution_count": 102,
   "id": "ea9ebd44",
   "metadata": {},
   "outputs": [
    {
     "name": "stdout",
     "output_type": "stream",
     "text": [
      "Hall Ticket No                    105916487050\n",
      "Name                YERRAMILLI SREE GEETANJALI\n",
      "Father's Name   YERRAMILLI VEERA VENKATA RANGA\n",
      "Gender                                       F\n",
      "Medium                                      EN\n",
      "Course                                     BSC\n",
      "********************************************************************************\n",
      " \n",
      "Subject_Code         Subject_Name Credits Grade_Points Grade_Secured\n",
      "         744   MICRO-BIOLOGY.7 PR       1           10             O\n",
      "         843      MICRO-BIOLOGY.8       3           10             O\n",
      "        759M  HOSPITALWASTE MANG.       2           10             O\n",
      "        859G        COM.SCI. IT-2       2           10             O\n",
      "         844   MICRO-BIOLOGY.8 PR       1           10             O\n",
      "         763    BIO. TECHNOLOGY.7       3           10             O\n",
      "         764 BIO. TECHNOLOGY.7 PR       1           10             O\n",
      "         718           CHEMISTRY.       3            8             B\n",
      "         743      MICRO-BIOLOGY.7       3           10             O\n",
      "         818           CHEMISTRY.       3            9             A\n",
      "         863    BIO. TECHNOLOGY.8       3           10             O\n",
      "         864 BIO. TECHNOLOGY.8 PR       1           10             O\n",
      "         719       CHEMISTRY.7 PR       1           10             O\n",
      "         819       CHEMISTRY.8 PR       1           10             O\n",
      "********************************************************************************\n",
      " \n",
      " Semester Result-SGPA CGPA\n",
      "       6 PASSED-9.68 9.48\n"
     ]
    }
   ],
   "source": [
    "print(PI)\n",
    "print(\"*\" * 80)\n",
    "print(\" \")\n",
    "print(MD)\n",
    "print(\"*\" * 80)\n",
    "print(\" \")\n",
    "print(\"\",RS)"
   ]
  },
  {
   "cell_type": "code",
   "execution_count": null,
   "id": "48578ff5",
   "metadata": {},
   "outputs": [],
   "source": []
  },
  {
   "cell_type": "code",
   "execution_count": 105,
   "id": "c21e1ecd",
   "metadata": {},
   "outputs": [
    {
     "name": "stdout",
     "output_type": "stream",
     "text": [
      "Enter Hall Ticket Number : 105916467086\n",
      "Enter Course : Bcom Bsc BA BBA Bsc\n"
     ]
    },
    {
     "name": "stderr",
     "output_type": "stream",
     "text": [
      "C:\\Users\\aakas\\AppData\\Local\\Temp/ipykernel_17024/3072723443.py:4: DeprecationWarning: executable_path has been deprecated, please pass in a Service object\n",
      "  driver = webdriver.Chrome(chrome_options=options,executable_path=\"C:\\\\WebDriver\\\\chromedriver.exe\")\n",
      "C:\\Users\\aakas\\AppData\\Local\\Temp/ipykernel_17024/3072723443.py:4: DeprecationWarning: use options instead of chrome_options\n",
      "  driver = webdriver.Chrome(chrome_options=options,executable_path=\"C:\\\\WebDriver\\\\chromedriver.exe\")\n",
      "C:\\Users\\aakas\\AppData\\Local\\Temp/ipykernel_17024/3072723443.py:6: DeprecationWarning: find_element_by_* commands are deprecated. Please use find_element() instead\n",
      "  driver.find_element_by_id(\"htno\").send_keys(ht)\n",
      "C:\\Users\\aakas\\AppData\\Local\\Temp/ipykernel_17024/3072723443.py:8: DeprecationWarning: find_element_by_* commands are deprecated. Please use find_element() instead\n",
      "  driver.find_element_by_id(\"Degree\").send_keys(cs)\n",
      "C:\\Users\\aakas\\AppData\\Local\\Temp/ipykernel_17024/3072723443.py:10: DeprecationWarning: find_element_by_* commands are deprecated. Please use find_element() instead\n",
      "  driver.find_element_by_id('btnsubmit').click()\n",
      "C:\\Users\\aakas\\AppData\\Local\\Temp/ipykernel_17024/3072723443.py:12: DeprecationWarning: find_element_by_* commands are deprecated. Please use find_element() instead\n",
      "  Table1 = driver.find_element_by_xpath('//div[@id=\"subhtm\"]//table[1]').text\n",
      "C:\\Users\\aakas\\AppData\\Local\\Temp/ipykernel_17024/3072723443.py:13: DeprecationWarning: find_element_by_* commands are deprecated. Please use find_element() instead\n",
      "  Table2 =driver.find_element_by_xpath('//div[@id=\"subhtm\"]//table[2]').text\n",
      "C:\\Users\\aakas\\AppData\\Local\\Temp/ipykernel_17024/3072723443.py:14: DeprecationWarning: find_element_by_* commands are deprecated. Please use find_element() instead\n",
      "  Table3 = driver.find_element_by_xpath('//div[@id=\"subhtm\"]//table[3]').text\n"
     ]
    },
    {
     "name": "stdout",
     "output_type": "stream",
     "text": [
      "Hall Ticket No                105916467086\n",
      "Name                 PYDIKONDALA TEJASWINI\n",
      "Father's Name   PYDIKONDALA JANARDHAN RAJU\n",
      "Gender                                   F\n",
      "Medium                                  EN\n",
      "Course                                 BSC\n",
      "********************************************************************************\n",
      " \n",
      "Subject_Code               Subject_Name Credits Grade_Points Grade_Secured\n",
      "         750           MATHEMATICS.7 PR       1           10             O\n",
      "         752         COMP. SCIENCE.7 PR       1           10             O\n",
      "         852         COMP. SCIENCE.8 PR       1           10             O\n",
      "         850           MATHEMATICS.8 PR       1           10             O\n",
      "        759Q                GRAPH THEOR       2            9             A\n",
      "        859T  SECTORS OF INDIAN ECONOMY       2           10             O\n",
      "         724            STATISTICS.7 PR       1           10             O\n",
      "         823               STATISTICS.8       3           10             O\n",
      "         824            STATISTICS.8 PR       1           10             O\n",
      "         749               MATHEMATICS.       3            9             A\n",
      "         751             COMP. SCIENCE.       3            8             B\n",
      "         851             COMP. SCIENCE.       3            8             B\n",
      "         849              MATHEMATICS.8       3           10             O\n",
      "         723                STATISTICS.       3            9             A\n",
      "********************************************************************************\n",
      " \n",
      "Semester Result-SGPA CGPA\n",
      "       6 PASSED-9.29  9.3\n"
     ]
    }
   ],
   "source": [
    "url = 'http://www.results.manabadi.co.in/osmania-university-ug-cbcs-ba-bcom-bsc-bba-2019-exam-results-13-082019.htm'\n",
    "ht = input(\"Enter Hall Ticket Number : \")\n",
    "cs = input(\"Enter Course : Bcom Bsc BA BBA \")\n",
    "driver = webdriver.Chrome(chrome_options=options,executable_path=\"C:\\\\WebDriver\\\\chromedriver.exe\")\n",
    "driver.get(url)\n",
    "driver.find_element_by_id(\"htno\").send_keys(ht)\n",
    "time.sleep(1)\n",
    "driver.find_element_by_id(\"Degree\").send_keys(cs)\n",
    "time.sleep(1)\n",
    "driver.find_element_by_id('btnsubmit').click()\n",
    "time.sleep(2)\n",
    "Table1 = driver.find_element_by_xpath('//div[@id=\"subhtm\"]//table[1]').text\n",
    "Table2 =driver.find_element_by_xpath('//div[@id=\"subhtm\"]//table[2]').text\n",
    "Table3 = driver.find_element_by_xpath('//div[@id=\"subhtm\"]//table[3]').text\n",
    "Personal_Information = {}\n",
    "Personal_Information[\"Hall Ticket No\"] = [Table1.split(\"\\n\")[1][15:]]\n",
    "Personal_Information[\"Name\"] = [Table1.split(\"\\n\")[2][4:]]\n",
    "Personal_Information[\"Father's Name\"] = [Table1.split(\"\\n\")[3][14:]]\n",
    "Personal_Information[\"Gender\"] = [Table1.split(\"\\n\")[4][7:]]\n",
    "Personal_Information[\"Medium\"] = [Table1.split(\"\\n\")[5][7:]]\n",
    "Personal_Information[\"Course\"] = [Table1.split(\"\\n\")[6][7:]]\n",
    "# print(pd.DataFrame(Personal_Information).transpose().to_string(header=False))\n",
    "a = [\"Subject_Code\",\"Subject_Name\",\"Credits\",\"Grade_Points\",\"Grade_Secured\"]\n",
    "Marks_Details = {}\n",
    "for i in range(len(a)):\n",
    "    Marks_Details[a[i]] = []\n",
    "Marks_Details\n",
    "for i in range(len(Table2.split('\\n')[2:])):\n",
    "    Marks_Details[a[0]].append(Table2.split(\"\\n\")[2:][i].split(' ')[0])\n",
    "    Marks_Details[a[1]].append(Table2.split(\"\\n\")[2:][i][4:-7])\n",
    "    Marks_Details[a[2]].append(Table2.split(\"\\n\")[2:][i].split(' ')[-3])\n",
    "    Marks_Details[a[3]].append(Table2.split(\"\\n\")[2:][i].split(' ')[-2])\n",
    "    Marks_Details[a[4]].append(Table2.split(\"\\n\")[2:][i].split(' ')[-1])\n",
    "# print(pd.DataFrame(Marks_Details).to_string(index=False))\n",
    "Result = {}\n",
    "Result[\"Semester\"] = [Table3.split(\"\\n\")[-1].split(\" \")[0]]\n",
    "Result[\"Result-SGPA\"] = [Table3.split(\"\\n\")[-1].split(\" \")[1]]\n",
    "Result[\"CGPA\"] = [Table3.split(\"\\n\")[-1].split(\" \")[2]]\n",
    "# print(pd.DataFrame(Result).to_string(index = False))\n",
    "print(pd.DataFrame(Personal_Information).transpose().to_string(header=False))\n",
    "print(\"*\" * 80)\n",
    "print(\" \")\n",
    "print(pd.DataFrame(Marks_Details).to_string(index=False))\n",
    "print(\"*\" * 80)\n",
    "print(\" \")\n",
    "print(pd.DataFrame(Result).to_string(index=False))"
   ]
  }
 ],
 "metadata": {
  "hide_input": false,
  "kernelspec": {
   "display_name": "Python 3 (ipykernel)",
   "language": "python",
   "name": "python3"
  },
  "language_info": {
   "codemirror_mode": {
    "name": "ipython",
    "version": 3
   },
   "file_extension": ".py",
   "mimetype": "text/x-python",
   "name": "python",
   "nbconvert_exporter": "python",
   "pygments_lexer": "ipython3",
   "version": "3.9.7"
  },
  "nbTranslate": {
   "displayLangs": [
    "*"
   ],
   "hotkey": "alt-t",
   "langInMainMenu": true,
   "sourceLang": "en",
   "targetLang": "fr",
   "useGoogleTranslate": true
  },
  "varInspector": {
   "cols": {
    "lenName": 16,
    "lenType": 16,
    "lenVar": 40
   },
   "kernels_config": {
    "python": {
     "delete_cmd_postfix": "",
     "delete_cmd_prefix": "del ",
     "library": "var_list.py",
     "varRefreshCmd": "print(var_dic_list())"
    },
    "r": {
     "delete_cmd_postfix": ") ",
     "delete_cmd_prefix": "rm(",
     "library": "var_list.r",
     "varRefreshCmd": "cat(var_dic_list()) "
    }
   },
   "types_to_exclude": [
    "module",
    "function",
    "builtin_function_or_method",
    "instance",
    "_Feature"
   ],
   "window_display": false
  }
 },
 "nbformat": 4,
 "nbformat_minor": 5
}
