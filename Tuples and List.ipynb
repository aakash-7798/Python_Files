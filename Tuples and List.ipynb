{
 "cells": [
  {
   "cell_type": "code",
   "execution_count": 62,
   "id": "06005ecf",
   "metadata": {
    "ExecuteTime": {
     "end_time": "2022-02-26T10:23:39.848447Z",
     "start_time": "2022-02-26T10:23:39.833489Z"
    }
   },
   "outputs": [],
   "source": [
    "a = [i for i in range(0,11)]"
   ]
  },
  {
   "cell_type": "code",
   "execution_count": 63,
   "id": "f1bcb545",
   "metadata": {
    "ExecuteTime": {
     "end_time": "2022-02-26T10:23:40.269842Z",
     "start_time": "2022-02-26T10:23:40.252887Z"
    }
   },
   "outputs": [],
   "source": [
    "b  = tuple(i for i in range(0,11))"
   ]
  },
  {
   "cell_type": "code",
   "execution_count": 64,
   "id": "094421fd",
   "metadata": {
    "ExecuteTime": {
     "end_time": "2022-02-26T10:23:41.424472Z",
     "start_time": "2022-02-26T10:23:41.407519Z"
    }
   },
   "outputs": [
    {
     "data": {
      "text/plain": [
       "[0, 1, 2, 3, 4, 5, 6, 7, 8, 9, 10]"
      ]
     },
     "execution_count": 64,
     "metadata": {},
     "output_type": "execute_result"
    }
   ],
   "source": [
    "a"
   ]
  },
  {
   "cell_type": "code",
   "execution_count": 65,
   "id": "37effd06",
   "metadata": {
    "ExecuteTime": {
     "end_time": "2022-02-26T10:23:50.547696Z",
     "start_time": "2022-02-26T10:23:50.538727Z"
    }
   },
   "outputs": [
    {
     "data": {
      "text/plain": [
       "(0, 1, 2, 3, 4, 5, 6, 7, 8, 9, 10)"
      ]
     },
     "execution_count": 65,
     "metadata": {},
     "output_type": "execute_result"
    }
   ],
   "source": [
    "b"
   ]
  },
  {
   "cell_type": "code",
   "execution_count": 68,
   "id": "b47d0bd1",
   "metadata": {
    "ExecuteTime": {
     "end_time": "2022-02-26T10:24:12.690998Z",
     "start_time": "2022-02-26T10:24:12.682025Z"
    }
   },
   "outputs": [],
   "source": [
    "a[0] = 11"
   ]
  },
  {
   "cell_type": "code",
   "execution_count": 69,
   "id": "5143dabf",
   "metadata": {
    "ExecuteTime": {
     "end_time": "2022-02-26T10:24:14.562688Z",
     "start_time": "2022-02-26T10:24:14.549683Z"
    }
   },
   "outputs": [
    {
     "data": {
      "text/plain": [
       "[11, 1, 2, 3, 4, 5, 6, 7, 8, 9, 10]"
      ]
     },
     "execution_count": 69,
     "metadata": {},
     "output_type": "execute_result"
    }
   ],
   "source": [
    "a"
   ]
  },
  {
   "cell_type": "code",
   "execution_count": 70,
   "id": "1d02b3a2",
   "metadata": {
    "ExecuteTime": {
     "end_time": "2022-02-26T10:24:27.365164Z",
     "start_time": "2022-02-26T10:24:27.343193Z"
    }
   },
   "outputs": [
    {
     "data": {
      "text/plain": [
       "(11, 1, 2, 3, 4, 5, 6, 7, 8, 9, 10)"
      ]
     },
     "execution_count": 70,
     "metadata": {},
     "output_type": "execute_result"
    }
   ],
   "source": [
    "## If we want to change value in tuple then first make b a list and then modify and convert to tuple\n",
    "b = list(b)\n",
    "b[0] = 11\n",
    "b = tuple(b)\n",
    "b"
   ]
  },
  {
   "cell_type": "code",
   "execution_count": 36,
   "id": "14df8edf",
   "metadata": {
    "ExecuteTime": {
     "end_time": "2022-02-26T10:13:02.315916Z",
     "start_time": "2022-02-26T10:12:42.367829Z"
    }
   },
   "outputs": [
    {
     "name": "stdout",
     "output_type": "stream",
     "text": [
      "Enter Username : jntuh.sit\n",
      "Enter Passwordjntusit\n"
     ]
    }
   ],
   "source": [
    "UserName = input(\"Enter Username : \")\n",
    "Password = input(\"Enter Password\")"
   ]
  },
  {
   "cell_type": "code",
   "execution_count": 37,
   "id": "43f12b78",
   "metadata": {
    "ExecuteTime": {
     "end_time": "2022-02-26T10:13:05.297624Z",
     "start_time": "2022-02-26T10:13:05.279672Z"
    }
   },
   "outputs": [
    {
     "data": {
      "text/plain": [
       "['jntuh.sit', 'jntusit']"
      ]
     },
     "execution_count": 37,
     "metadata": {},
     "output_type": "execute_result"
    }
   ],
   "source": [
    "Credentials_l = [UserName,Password]\n",
    "Credentials_l"
   ]
  },
  {
   "cell_type": "code",
   "execution_count": 38,
   "id": "ee37d98d",
   "metadata": {
    "ExecuteTime": {
     "end_time": "2022-02-26T10:13:05.905516Z",
     "start_time": "2022-02-26T10:13:05.897535Z"
    }
   },
   "outputs": [
    {
     "data": {
      "text/plain": [
       "('jntuh.sit', 'jntusit')"
      ]
     },
     "execution_count": 38,
     "metadata": {},
     "output_type": "execute_result"
    }
   ],
   "source": [
    "Credentials_t = (UserName,Password)\n",
    "Credentials_t"
   ]
  },
  {
   "cell_type": "code",
   "execution_count": 39,
   "id": "8be5befd",
   "metadata": {
    "ExecuteTime": {
     "end_time": "2022-02-26T10:13:49.026361Z",
     "start_time": "2022-02-26T10:13:49.006442Z"
    }
   },
   "outputs": [
    {
     "data": {
      "text/plain": [
       "['jntuh.sit', 'jntuhsit']"
      ]
     },
     "execution_count": 39,
     "metadata": {},
     "output_type": "execute_result"
    }
   ],
   "source": [
    "Credentials_l[1] = 'jntuhsit'\n",
    "Credentials_l"
   ]
  },
  {
   "cell_type": "code",
   "execution_count": 45,
   "id": "011b0574",
   "metadata": {
    "ExecuteTime": {
     "end_time": "2022-02-26T10:19:27.322238Z",
     "start_time": "2022-02-26T10:19:08.497690Z"
    }
   },
   "outputs": [
    {
     "name": "stdout",
     "output_type": "stream",
     "text": [
      "Do yo Want to Change your Password :(Yes/No)yes\n",
      "Change Your Password : JawaharalNehrusit\n"
     ]
    }
   ],
   "source": [
    "Cp = input(\"Do yo Want to Change your Password :(Yes/No) :   \")\n",
    "if Cp.lower()==\"yes\":\n",
    "    Credentials_t = list(Credentials_t)\n",
    "    Credentials_t[1] = input(\"Change Your Password : \")\n",
    "    Credentials_t = tuple(Credentials_t)\n",
    "else:\n",
    "    print(\"No Changes in Password \")"
   ]
  },
  {
   "cell_type": "code",
   "execution_count": 46,
   "id": "2dba4458",
   "metadata": {
    "ExecuteTime": {
     "end_time": "2022-02-26T10:19:33.101339Z",
     "start_time": "2022-02-26T10:19:33.083419Z"
    }
   },
   "outputs": [
    {
     "data": {
      "text/plain": [
       "('jntuh.sit', 'JawaharalNehrusit')"
      ]
     },
     "execution_count": 46,
     "metadata": {},
     "output_type": "execute_result"
    }
   ],
   "source": [
    "Credentials_t"
   ]
  },
  {
   "cell_type": "code",
   "execution_count": 72,
   "id": "4a80b105",
   "metadata": {
    "ExecuteTime": {
     "end_time": "2022-02-26T11:02:46.456223Z",
     "start_time": "2022-02-26T11:02:46.451269Z"
    }
   },
   "outputs": [],
   "source": [
    "# %%js\n",
    "# alert(\"Hi Welcome to JavaScript Programming: \")"
   ]
  },
  {
   "cell_type": "code",
   "execution_count": null,
   "id": "cef2af00",
   "metadata": {},
   "outputs": [],
   "source": []
  }
 ],
 "metadata": {
  "kernelspec": {
   "display_name": "Python 3 (ipykernel)",
   "language": "python",
   "name": "python3"
  },
  "language_info": {
   "codemirror_mode": {
    "name": "ipython",
    "version": 3
   },
   "file_extension": ".py",
   "mimetype": "text/x-python",
   "name": "python",
   "nbconvert_exporter": "python",
   "pygments_lexer": "ipython3",
   "version": "3.9.7"
  },
  "nbTranslate": {
   "displayLangs": [
    "*"
   ],
   "hotkey": "alt-t",
   "langInMainMenu": true,
   "sourceLang": "en",
   "targetLang": "fr",
   "useGoogleTranslate": true
  },
  "varInspector": {
   "cols": {
    "lenName": 16,
    "lenType": 16,
    "lenVar": 40
   },
   "kernels_config": {
    "python": {
     "delete_cmd_postfix": "",
     "delete_cmd_prefix": "del ",
     "library": "var_list.py",
     "varRefreshCmd": "print(var_dic_list())"
    },
    "r": {
     "delete_cmd_postfix": ") ",
     "delete_cmd_prefix": "rm(",
     "library": "var_list.r",
     "varRefreshCmd": "cat(var_dic_list()) "
    }
   },
   "types_to_exclude": [
    "module",
    "function",
    "builtin_function_or_method",
    "instance",
    "_Feature"
   ],
   "window_display": false
  }
 },
 "nbformat": 4,
 "nbformat_minor": 5
}
